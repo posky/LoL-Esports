{
 "cells": [
  {
   "cell_type": "code",
   "execution_count": 1,
   "metadata": {},
   "outputs": [],
   "source": [
    "from typing import Iterable, Any\n",
    "from functools import reduce\n",
    "\n",
    "import numpy as np\n",
    "import pandas as pd\n",
    "from sklearn.preprocessing import MinMaxScaler\n",
    "import plotly.graph_objects as go\n",
    "from plotly.subplots import make_subplots\n",
    "\n",
    "pd.set_option(\"display.max_columns\", None)"
   ]
  },
  {
   "cell_type": "code",
   "execution_count": 2,
   "metadata": {},
   "outputs": [],
   "source": [
    "def get_matches(\n",
    "    matches_data,\n",
    "    league: str | Iterable[str] = None,\n",
    "    split: str | Iterable[str] = None,\n",
    "    playoffs=None,\n",
    "    patch: str | Iterable[str] = None,\n",
    "):\n",
    "    df = matches_data\n",
    "    if league is not None:\n",
    "        if not isinstance(league, str) and isinstance(league, Iterable):\n",
    "            df = df.loc[df[\"league\"].isin(league)]\n",
    "        else:\n",
    "            df = df.loc[df[\"league\"] == league]\n",
    "    if split is not None:\n",
    "        if not isinstance(split, str) and isinstance(split, Iterable):\n",
    "            df = df.loc[df[\"split\"].isin(split)]\n",
    "        else:\n",
    "            df = df.loc[df[\"split\"] == split]\n",
    "    if playoffs is not None:\n",
    "        df = df.loc[df[\"playoffs\"] == playoffs]\n",
    "    if patch is not None:\n",
    "        if not isinstance(patch, str) and isinstance(patch, Iterable):\n",
    "            df = df.loc[df[\"patch\"].isin(patch)]\n",
    "        else:\n",
    "            df = df.loc[df[\"patch\"] == patch]\n",
    "\n",
    "    return df\n",
    "\n",
    "\n",
    "def get_rows_columns(df, c=5):\n",
    "    COLUMNS = c\n",
    "    ROWS = df.shape[0]\n",
    "\n",
    "    return ROWS, COLUMNS\n",
    "\n",
    "\n",
    "def get_fig_subplots(title_list: Iterable[str], ROWS: int, COLUMNS: int):\n",
    "    titles = reduce(lambda x, y: x + y, [[value] * COLUMNS for value in title_list])\n",
    "\n",
    "    fig = make_subplots(\n",
    "        rows=ROWS,\n",
    "        cols=COLUMNS,\n",
    "        subplot_titles=titles,\n",
    "        specs=[[{\"type\": \"polar\"} for _ in range(COLUMNS)] for _ in range(ROWS)],\n",
    "    )\n",
    "\n",
    "    return fig\n",
    "\n",
    "\n",
    "def get_theta_list(df, idx: Any, origin_columns: Iterable[str]):\n",
    "    return [\n",
    "        f\"{col} - {round(value, ndigits=2)} | {int(standing)}\"\n",
    "        for col, value, standing in zip(\n",
    "            origin_columns,\n",
    "            df.loc[idx, origin_columns].values,\n",
    "            df[origin_columns].rank(method=\"min\", ascending=False).loc[idx].values,\n",
    "        )\n",
    "    ]\n",
    "\n",
    "\n",
    "def get_team_stats_columns():\n",
    "    origin_columns = {\n",
    "        \"combat\": [\"kd\", \"firstblood\", \"team kpm\", \"dpm\", \"damagetakenperminute\"],\n",
    "        \"objects\": [\n",
    "            \"firstdragon\",\n",
    "            \"dragons\",\n",
    "            \"firstherald\",\n",
    "            \"heralds\",\n",
    "            \"firstbaron\",\n",
    "            \"barons\",\n",
    "            \"elders\",\n",
    "        ],\n",
    "        \"towers\": [\n",
    "            \"firsttower\",\n",
    "            \"towers\",\n",
    "            \"firstmidtower\",\n",
    "            \"firsttothreetowers\",\n",
    "            \"turretplates\",\n",
    "        ],\n",
    "        \"macro\": [\n",
    "            \"gamelength\",\n",
    "            \"win_gamelength\",\n",
    "            \"loss_gamelength\",\n",
    "            \"gpm\",\n",
    "            \"gdpm\",\n",
    "            \"wpm\",\n",
    "            \"wcpm\",\n",
    "            \"vspm\",\n",
    "        ],\n",
    "        \"early\": [\n",
    "            \"golddiffat10\",\n",
    "            \"xpdiffat10\",\n",
    "            \"csdiffat10\",\n",
    "            \"golddiffat15\",\n",
    "            \"xpdiffat15\",\n",
    "            \"csdiffat15\",\n",
    "        ],\n",
    "    }\n",
    "    columns = {}\n",
    "\n",
    "    for key, values in origin_columns.items():\n",
    "        columns[key] = [\"_\" + col for col in values]\n",
    "\n",
    "    return origin_columns, columns\n",
    "\n",
    "\n",
    "def get_player_stats_columns():\n",
    "    origin_columns = {\n",
    "        \"combat\": [\n",
    "            \"kills\",\n",
    "            \"deaths\",\n",
    "            \"assists\",\n",
    "            \"kda\",\n",
    "            # \"doublekills\",\n",
    "            # \"triplekills\",\n",
    "            # \"quadrakills\",\n",
    "            # \"pentakills\",\n",
    "            \"dpm\",\n",
    "            \"damageshare\",\n",
    "            \"damagetakenperminute\",\n",
    "        ],\n",
    "        \"macro\": [\n",
    "            \"firstblood\",\n",
    "            \"firstbloodvictim\",\n",
    "            \"wpm\",\n",
    "            \"wcpm\",\n",
    "            \"controlwardsbought\",\n",
    "            \"vspm\",\n",
    "            \"gpm\",\n",
    "            \"gdpm\",\n",
    "            \"goldshare\",\n",
    "            \"cspm\",\n",
    "            \"champions\",\n",
    "        ],\n",
    "        \"early\": [\n",
    "            \"golddiffat10\",\n",
    "            \"xpdiffat10\",\n",
    "            \"csdiffat10\",\n",
    "            \"golddiffat15\",\n",
    "            \"xpdiffat15\",\n",
    "            \"csdiffat15\",\n",
    "        ],\n",
    "    }\n",
    "    columns = {}\n",
    "\n",
    "    for key, values in origin_columns.items():\n",
    "        columns[key] = [\"_\" + col for col in values]\n",
    "\n",
    "    return origin_columns, columns"
   ]
  },
  {
   "cell_type": "code",
   "execution_count": 3,
   "metadata": {},
   "outputs": [
    {
     "data": {
      "text/plain": [
       "(86892, 127)"
      ]
     },
     "execution_count": 3,
     "metadata": {},
     "output_type": "execute_result"
    }
   ],
   "source": [
    "matches_data = pd.read_csv(\n",
    "    \"./csv/oracleselixir_match_data/2023_LoL_esports_match_data_from_OraclesElixir.csv\",\n",
    "    dtype={\"patch\": \"object\"},\n",
    ")\n",
    "matches_data[\"kda\"] = (\n",
    "    matches_data[[\"kills\", \"assists\"]].sum(axis=1).divide(matches_data[\"deaths\"])\n",
    ")\n",
    "matches_data[\"kd\"] = matches_data[\"kills\"].divide(matches_data[\"deaths\"])\n",
    "matches_data[\"gpm\"] = matches_data[\"totalgold\"].divide(matches_data[\"gamelength\"] / 60)\n",
    "matches_data.reset_index(drop=False, inplace=True)\n",
    "matches_data.shape"
   ]
  },
  {
   "cell_type": "code",
   "execution_count": 4,
   "metadata": {},
   "outputs": [
    {
     "data": {
      "text/html": [
       "<div>\n",
       "<style scoped>\n",
       "    .dataframe tbody tr th:only-of-type {\n",
       "        vertical-align: middle;\n",
       "    }\n",
       "\n",
       "    .dataframe tbody tr th {\n",
       "        vertical-align: top;\n",
       "    }\n",
       "\n",
       "    .dataframe thead th {\n",
       "        text-align: right;\n",
       "    }\n",
       "</style>\n",
       "<table border=\"1\" class=\"dataframe\">\n",
       "  <thead>\n",
       "    <tr style=\"text-align: right;\">\n",
       "      <th></th>\n",
       "      <th>index_x</th>\n",
       "      <th>gameid</th>\n",
       "      <th>teamid_x</th>\n",
       "      <th>participantid_x</th>\n",
       "      <th>position</th>\n",
       "      <th>gamelength_x</th>\n",
       "      <th>totalgold_x</th>\n",
       "      <th>index_y</th>\n",
       "      <th>teamid_y</th>\n",
       "      <th>participantid_y</th>\n",
       "      <th>gamelength_y</th>\n",
       "      <th>totalgold_y</th>\n",
       "    </tr>\n",
       "  </thead>\n",
       "  <tbody>\n",
       "    <tr>\n",
       "      <th>1</th>\n",
       "      <td>0</td>\n",
       "      <td>ESPORTSTMNT06_2753012</td>\n",
       "      <td>oe:team:0ade5e44c23039bca133eee58ec1b83</td>\n",
       "      <td>1</td>\n",
       "      <td>top</td>\n",
       "      <td>2612</td>\n",
       "      <td>18855</td>\n",
       "      <td>5</td>\n",
       "      <td>oe:team:14ad76b8d9e647d4b29c3d26ecd29c9</td>\n",
       "      <td>6</td>\n",
       "      <td>2612</td>\n",
       "      <td>11796</td>\n",
       "    </tr>\n",
       "    <tr>\n",
       "      <th>2</th>\n",
       "      <td>5</td>\n",
       "      <td>ESPORTSTMNT06_2753012</td>\n",
       "      <td>oe:team:14ad76b8d9e647d4b29c3d26ecd29c9</td>\n",
       "      <td>6</td>\n",
       "      <td>top</td>\n",
       "      <td>2612</td>\n",
       "      <td>11796</td>\n",
       "      <td>0</td>\n",
       "      <td>oe:team:0ade5e44c23039bca133eee58ec1b83</td>\n",
       "      <td>1</td>\n",
       "      <td>2612</td>\n",
       "      <td>18855</td>\n",
       "    </tr>\n",
       "    <tr>\n",
       "      <th>5</th>\n",
       "      <td>1</td>\n",
       "      <td>ESPORTSTMNT06_2753012</td>\n",
       "      <td>oe:team:0ade5e44c23039bca133eee58ec1b83</td>\n",
       "      <td>2</td>\n",
       "      <td>jng</td>\n",
       "      <td>2612</td>\n",
       "      <td>12082</td>\n",
       "      <td>6</td>\n",
       "      <td>oe:team:14ad76b8d9e647d4b29c3d26ecd29c9</td>\n",
       "      <td>7</td>\n",
       "      <td>2612</td>\n",
       "      <td>11711</td>\n",
       "    </tr>\n",
       "    <tr>\n",
       "      <th>6</th>\n",
       "      <td>6</td>\n",
       "      <td>ESPORTSTMNT06_2753012</td>\n",
       "      <td>oe:team:14ad76b8d9e647d4b29c3d26ecd29c9</td>\n",
       "      <td>7</td>\n",
       "      <td>jng</td>\n",
       "      <td>2612</td>\n",
       "      <td>11711</td>\n",
       "      <td>1</td>\n",
       "      <td>oe:team:0ade5e44c23039bca133eee58ec1b83</td>\n",
       "      <td>2</td>\n",
       "      <td>2612</td>\n",
       "      <td>12082</td>\n",
       "    </tr>\n",
       "    <tr>\n",
       "      <th>9</th>\n",
       "      <td>2</td>\n",
       "      <td>ESPORTSTMNT06_2753012</td>\n",
       "      <td>oe:team:0ade5e44c23039bca133eee58ec1b83</td>\n",
       "      <td>3</td>\n",
       "      <td>mid</td>\n",
       "      <td>2612</td>\n",
       "      <td>15722</td>\n",
       "      <td>7</td>\n",
       "      <td>oe:team:14ad76b8d9e647d4b29c3d26ecd29c9</td>\n",
       "      <td>8</td>\n",
       "      <td>2612</td>\n",
       "      <td>14129</td>\n",
       "    </tr>\n",
       "    <tr>\n",
       "      <th>10</th>\n",
       "      <td>7</td>\n",
       "      <td>ESPORTSTMNT06_2753012</td>\n",
       "      <td>oe:team:14ad76b8d9e647d4b29c3d26ecd29c9</td>\n",
       "      <td>8</td>\n",
       "      <td>mid</td>\n",
       "      <td>2612</td>\n",
       "      <td>14129</td>\n",
       "      <td>2</td>\n",
       "      <td>oe:team:0ade5e44c23039bca133eee58ec1b83</td>\n",
       "      <td>3</td>\n",
       "      <td>2612</td>\n",
       "      <td>15722</td>\n",
       "    </tr>\n",
       "    <tr>\n",
       "      <th>13</th>\n",
       "      <td>3</td>\n",
       "      <td>ESPORTSTMNT06_2753012</td>\n",
       "      <td>oe:team:0ade5e44c23039bca133eee58ec1b83</td>\n",
       "      <td>4</td>\n",
       "      <td>bot</td>\n",
       "      <td>2612</td>\n",
       "      <td>17332</td>\n",
       "      <td>8</td>\n",
       "      <td>oe:team:14ad76b8d9e647d4b29c3d26ecd29c9</td>\n",
       "      <td>9</td>\n",
       "      <td>2612</td>\n",
       "      <td>16823</td>\n",
       "    </tr>\n",
       "    <tr>\n",
       "      <th>14</th>\n",
       "      <td>8</td>\n",
       "      <td>ESPORTSTMNT06_2753012</td>\n",
       "      <td>oe:team:14ad76b8d9e647d4b29c3d26ecd29c9</td>\n",
       "      <td>9</td>\n",
       "      <td>bot</td>\n",
       "      <td>2612</td>\n",
       "      <td>16823</td>\n",
       "      <td>3</td>\n",
       "      <td>oe:team:0ade5e44c23039bca133eee58ec1b83</td>\n",
       "      <td>4</td>\n",
       "      <td>2612</td>\n",
       "      <td>17332</td>\n",
       "    </tr>\n",
       "    <tr>\n",
       "      <th>17</th>\n",
       "      <td>4</td>\n",
       "      <td>ESPORTSTMNT06_2753012</td>\n",
       "      <td>oe:team:0ade5e44c23039bca133eee58ec1b83</td>\n",
       "      <td>5</td>\n",
       "      <td>sup</td>\n",
       "      <td>2612</td>\n",
       "      <td>8816</td>\n",
       "      <td>9</td>\n",
       "      <td>oe:team:14ad76b8d9e647d4b29c3d26ecd29c9</td>\n",
       "      <td>10</td>\n",
       "      <td>2612</td>\n",
       "      <td>8286</td>\n",
       "    </tr>\n",
       "    <tr>\n",
       "      <th>18</th>\n",
       "      <td>9</td>\n",
       "      <td>ESPORTSTMNT06_2753012</td>\n",
       "      <td>oe:team:14ad76b8d9e647d4b29c3d26ecd29c9</td>\n",
       "      <td>10</td>\n",
       "      <td>sup</td>\n",
       "      <td>2612</td>\n",
       "      <td>8286</td>\n",
       "      <td>4</td>\n",
       "      <td>oe:team:0ade5e44c23039bca133eee58ec1b83</td>\n",
       "      <td>5</td>\n",
       "      <td>2612</td>\n",
       "      <td>8816</td>\n",
       "    </tr>\n",
       "    <tr>\n",
       "      <th>21</th>\n",
       "      <td>10</td>\n",
       "      <td>ESPORTSTMNT06_2753012</td>\n",
       "      <td>oe:team:0ade5e44c23039bca133eee58ec1b83</td>\n",
       "      <td>100</td>\n",
       "      <td>team</td>\n",
       "      <td>2612</td>\n",
       "      <td>72807</td>\n",
       "      <td>11</td>\n",
       "      <td>oe:team:14ad76b8d9e647d4b29c3d26ecd29c9</td>\n",
       "      <td>200</td>\n",
       "      <td>2612</td>\n",
       "      <td>62745</td>\n",
       "    </tr>\n",
       "    <tr>\n",
       "      <th>22</th>\n",
       "      <td>11</td>\n",
       "      <td>ESPORTSTMNT06_2753012</td>\n",
       "      <td>oe:team:14ad76b8d9e647d4b29c3d26ecd29c9</td>\n",
       "      <td>200</td>\n",
       "      <td>team</td>\n",
       "      <td>2612</td>\n",
       "      <td>62745</td>\n",
       "      <td>10</td>\n",
       "      <td>oe:team:0ade5e44c23039bca133eee58ec1b83</td>\n",
       "      <td>100</td>\n",
       "      <td>2612</td>\n",
       "      <td>72807</td>\n",
       "    </tr>\n",
       "    <tr>\n",
       "      <th>25</th>\n",
       "      <td>12</td>\n",
       "      <td>ESPORTSTMNT06_2754023</td>\n",
       "      <td>oe:team:607baf04091e515e195644cb08ec21c</td>\n",
       "      <td>1</td>\n",
       "      <td>top</td>\n",
       "      <td>2436</td>\n",
       "      <td>16027</td>\n",
       "      <td>17</td>\n",
       "      <td>oe:team:2d9e95ecefb34c32ff1a997ebe372f9</td>\n",
       "      <td>6</td>\n",
       "      <td>2436</td>\n",
       "      <td>19532</td>\n",
       "    </tr>\n",
       "    <tr>\n",
       "      <th>26</th>\n",
       "      <td>17</td>\n",
       "      <td>ESPORTSTMNT06_2754023</td>\n",
       "      <td>oe:team:2d9e95ecefb34c32ff1a997ebe372f9</td>\n",
       "      <td>6</td>\n",
       "      <td>top</td>\n",
       "      <td>2436</td>\n",
       "      <td>19532</td>\n",
       "      <td>12</td>\n",
       "      <td>oe:team:607baf04091e515e195644cb08ec21c</td>\n",
       "      <td>1</td>\n",
       "      <td>2436</td>\n",
       "      <td>16027</td>\n",
       "    </tr>\n",
       "    <tr>\n",
       "      <th>29</th>\n",
       "      <td>13</td>\n",
       "      <td>ESPORTSTMNT06_2754023</td>\n",
       "      <td>oe:team:607baf04091e515e195644cb08ec21c</td>\n",
       "      <td>2</td>\n",
       "      <td>jng</td>\n",
       "      <td>2436</td>\n",
       "      <td>14237</td>\n",
       "      <td>18</td>\n",
       "      <td>oe:team:2d9e95ecefb34c32ff1a997ebe372f9</td>\n",
       "      <td>7</td>\n",
       "      <td>2436</td>\n",
       "      <td>11893</td>\n",
       "    </tr>\n",
       "    <tr>\n",
       "      <th>30</th>\n",
       "      <td>18</td>\n",
       "      <td>ESPORTSTMNT06_2754023</td>\n",
       "      <td>oe:team:2d9e95ecefb34c32ff1a997ebe372f9</td>\n",
       "      <td>7</td>\n",
       "      <td>jng</td>\n",
       "      <td>2436</td>\n",
       "      <td>11893</td>\n",
       "      <td>13</td>\n",
       "      <td>oe:team:607baf04091e515e195644cb08ec21c</td>\n",
       "      <td>2</td>\n",
       "      <td>2436</td>\n",
       "      <td>14237</td>\n",
       "    </tr>\n",
       "    <tr>\n",
       "      <th>33</th>\n",
       "      <td>14</td>\n",
       "      <td>ESPORTSTMNT06_2754023</td>\n",
       "      <td>oe:team:607baf04091e515e195644cb08ec21c</td>\n",
       "      <td>3</td>\n",
       "      <td>mid</td>\n",
       "      <td>2436</td>\n",
       "      <td>20369</td>\n",
       "      <td>19</td>\n",
       "      <td>oe:team:2d9e95ecefb34c32ff1a997ebe372f9</td>\n",
       "      <td>8</td>\n",
       "      <td>2436</td>\n",
       "      <td>16630</td>\n",
       "    </tr>\n",
       "    <tr>\n",
       "      <th>34</th>\n",
       "      <td>19</td>\n",
       "      <td>ESPORTSTMNT06_2754023</td>\n",
       "      <td>oe:team:2d9e95ecefb34c32ff1a997ebe372f9</td>\n",
       "      <td>8</td>\n",
       "      <td>mid</td>\n",
       "      <td>2436</td>\n",
       "      <td>16630</td>\n",
       "      <td>14</td>\n",
       "      <td>oe:team:607baf04091e515e195644cb08ec21c</td>\n",
       "      <td>3</td>\n",
       "      <td>2436</td>\n",
       "      <td>20369</td>\n",
       "    </tr>\n",
       "    <tr>\n",
       "      <th>37</th>\n",
       "      <td>15</td>\n",
       "      <td>ESPORTSTMNT06_2754023</td>\n",
       "      <td>oe:team:607baf04091e515e195644cb08ec21c</td>\n",
       "      <td>4</td>\n",
       "      <td>bot</td>\n",
       "      <td>2436</td>\n",
       "      <td>19563</td>\n",
       "      <td>20</td>\n",
       "      <td>oe:team:2d9e95ecefb34c32ff1a997ebe372f9</td>\n",
       "      <td>9</td>\n",
       "      <td>2436</td>\n",
       "      <td>20103</td>\n",
       "    </tr>\n",
       "    <tr>\n",
       "      <th>38</th>\n",
       "      <td>20</td>\n",
       "      <td>ESPORTSTMNT06_2754023</td>\n",
       "      <td>oe:team:2d9e95ecefb34c32ff1a997ebe372f9</td>\n",
       "      <td>9</td>\n",
       "      <td>bot</td>\n",
       "      <td>2436</td>\n",
       "      <td>20103</td>\n",
       "      <td>15</td>\n",
       "      <td>oe:team:607baf04091e515e195644cb08ec21c</td>\n",
       "      <td>4</td>\n",
       "      <td>2436</td>\n",
       "      <td>19563</td>\n",
       "    </tr>\n",
       "  </tbody>\n",
       "</table>\n",
       "</div>"
      ],
      "text/plain": [
       "    index_x                 gameid                                 teamid_x   \n",
       "1         0  ESPORTSTMNT06_2753012  oe:team:0ade5e44c23039bca133eee58ec1b83  \\\n",
       "2         5  ESPORTSTMNT06_2753012  oe:team:14ad76b8d9e647d4b29c3d26ecd29c9   \n",
       "5         1  ESPORTSTMNT06_2753012  oe:team:0ade5e44c23039bca133eee58ec1b83   \n",
       "6         6  ESPORTSTMNT06_2753012  oe:team:14ad76b8d9e647d4b29c3d26ecd29c9   \n",
       "9         2  ESPORTSTMNT06_2753012  oe:team:0ade5e44c23039bca133eee58ec1b83   \n",
       "10        7  ESPORTSTMNT06_2753012  oe:team:14ad76b8d9e647d4b29c3d26ecd29c9   \n",
       "13        3  ESPORTSTMNT06_2753012  oe:team:0ade5e44c23039bca133eee58ec1b83   \n",
       "14        8  ESPORTSTMNT06_2753012  oe:team:14ad76b8d9e647d4b29c3d26ecd29c9   \n",
       "17        4  ESPORTSTMNT06_2753012  oe:team:0ade5e44c23039bca133eee58ec1b83   \n",
       "18        9  ESPORTSTMNT06_2753012  oe:team:14ad76b8d9e647d4b29c3d26ecd29c9   \n",
       "21       10  ESPORTSTMNT06_2753012  oe:team:0ade5e44c23039bca133eee58ec1b83   \n",
       "22       11  ESPORTSTMNT06_2753012  oe:team:14ad76b8d9e647d4b29c3d26ecd29c9   \n",
       "25       12  ESPORTSTMNT06_2754023  oe:team:607baf04091e515e195644cb08ec21c   \n",
       "26       17  ESPORTSTMNT06_2754023  oe:team:2d9e95ecefb34c32ff1a997ebe372f9   \n",
       "29       13  ESPORTSTMNT06_2754023  oe:team:607baf04091e515e195644cb08ec21c   \n",
       "30       18  ESPORTSTMNT06_2754023  oe:team:2d9e95ecefb34c32ff1a997ebe372f9   \n",
       "33       14  ESPORTSTMNT06_2754023  oe:team:607baf04091e515e195644cb08ec21c   \n",
       "34       19  ESPORTSTMNT06_2754023  oe:team:2d9e95ecefb34c32ff1a997ebe372f9   \n",
       "37       15  ESPORTSTMNT06_2754023  oe:team:607baf04091e515e195644cb08ec21c   \n",
       "38       20  ESPORTSTMNT06_2754023  oe:team:2d9e95ecefb34c32ff1a997ebe372f9   \n",
       "\n",
       "    participantid_x position  gamelength_x  totalgold_x  index_y   \n",
       "1                 1      top          2612        18855        5  \\\n",
       "2                 6      top          2612        11796        0   \n",
       "5                 2      jng          2612        12082        6   \n",
       "6                 7      jng          2612        11711        1   \n",
       "9                 3      mid          2612        15722        7   \n",
       "10                8      mid          2612        14129        2   \n",
       "13                4      bot          2612        17332        8   \n",
       "14                9      bot          2612        16823        3   \n",
       "17                5      sup          2612         8816        9   \n",
       "18               10      sup          2612         8286        4   \n",
       "21              100     team          2612        72807       11   \n",
       "22              200     team          2612        62745       10   \n",
       "25                1      top          2436        16027       17   \n",
       "26                6      top          2436        19532       12   \n",
       "29                2      jng          2436        14237       18   \n",
       "30                7      jng          2436        11893       13   \n",
       "33                3      mid          2436        20369       19   \n",
       "34                8      mid          2436        16630       14   \n",
       "37                4      bot          2436        19563       20   \n",
       "38                9      bot          2436        20103       15   \n",
       "\n",
       "                                   teamid_y  participantid_y  gamelength_y   \n",
       "1   oe:team:14ad76b8d9e647d4b29c3d26ecd29c9                6          2612  \\\n",
       "2   oe:team:0ade5e44c23039bca133eee58ec1b83                1          2612   \n",
       "5   oe:team:14ad76b8d9e647d4b29c3d26ecd29c9                7          2612   \n",
       "6   oe:team:0ade5e44c23039bca133eee58ec1b83                2          2612   \n",
       "9   oe:team:14ad76b8d9e647d4b29c3d26ecd29c9                8          2612   \n",
       "10  oe:team:0ade5e44c23039bca133eee58ec1b83                3          2612   \n",
       "13  oe:team:14ad76b8d9e647d4b29c3d26ecd29c9                9          2612   \n",
       "14  oe:team:0ade5e44c23039bca133eee58ec1b83                4          2612   \n",
       "17  oe:team:14ad76b8d9e647d4b29c3d26ecd29c9               10          2612   \n",
       "18  oe:team:0ade5e44c23039bca133eee58ec1b83                5          2612   \n",
       "21  oe:team:14ad76b8d9e647d4b29c3d26ecd29c9              200          2612   \n",
       "22  oe:team:0ade5e44c23039bca133eee58ec1b83              100          2612   \n",
       "25  oe:team:2d9e95ecefb34c32ff1a997ebe372f9                6          2436   \n",
       "26  oe:team:607baf04091e515e195644cb08ec21c                1          2436   \n",
       "29  oe:team:2d9e95ecefb34c32ff1a997ebe372f9                7          2436   \n",
       "30  oe:team:607baf04091e515e195644cb08ec21c                2          2436   \n",
       "33  oe:team:2d9e95ecefb34c32ff1a997ebe372f9                8          2436   \n",
       "34  oe:team:607baf04091e515e195644cb08ec21c                3          2436   \n",
       "37  oe:team:2d9e95ecefb34c32ff1a997ebe372f9                9          2436   \n",
       "38  oe:team:607baf04091e515e195644cb08ec21c                4          2436   \n",
       "\n",
       "    totalgold_y  \n",
       "1         11796  \n",
       "2         18855  \n",
       "5         11711  \n",
       "6         12082  \n",
       "9         14129  \n",
       "10        15722  \n",
       "13        16823  \n",
       "14        17332  \n",
       "17         8286  \n",
       "18         8816  \n",
       "21        62745  \n",
       "22        72807  \n",
       "25        19532  \n",
       "26        16027  \n",
       "29        11893  \n",
       "30        14237  \n",
       "33        16630  \n",
       "34        20369  \n",
       "37        20103  \n",
       "38        19563  "
      ]
     },
     "execution_count": 4,
     "metadata": {},
     "output_type": "execute_result"
    }
   ],
   "source": [
    "columns = [\n",
    "    \"index\",\n",
    "    \"gameid\",\n",
    "    \"teamid\",\n",
    "    \"participantid\",\n",
    "    \"position\",\n",
    "    \"gamelength\",\n",
    "    \"totalgold\",\n",
    "]\n",
    "merged = pd.merge(\n",
    "    matches_data[columns],\n",
    "    matches_data[columns],\n",
    "    on=[\"gameid\", \"position\"],\n",
    "    how=\"inner\",\n",
    ")\n",
    "merged = merged.loc[merged[\"participantid_x\"] != merged[\"participantid_y\"]]\n",
    "merged.head(20)"
   ]
  },
  {
   "cell_type": "code",
   "execution_count": 5,
   "metadata": {},
   "outputs": [
    {
     "data": {
      "text/plain": [
       "0        162.151608\n",
       "1          8.522205\n",
       "2         36.592649\n",
       "3         11.692190\n",
       "4         12.174579\n",
       "            ...    \n",
       "86887    -15.241158\n",
       "86888     92.797428\n",
       "86889     73.041801\n",
       "86890   -355.408360\n",
       "86891    355.408360\n",
       "Name: gdpm, Length: 86892, dtype: float64"
      ]
     },
     "execution_count": 5,
     "metadata": {},
     "output_type": "execute_result"
    }
   ],
   "source": [
    "matches_data[\"gdpm\"] = 0\n",
    "for row in merged.itertuples():\n",
    "    gdpm = (row.totalgold_x - row.totalgold_y) / (row.gamelength_x / 60)\n",
    "    matches_data.loc[row.index_x, \"gdpm\"] = gdpm\n",
    "    matches_data.loc[row.index_y, \"gdpm\"] = -gdpm\n",
    "matches_data[\"gdpm\"]"
   ]
  },
  {
   "cell_type": "code",
   "execution_count": 6,
   "metadata": {},
   "outputs": [
    {
     "data": {
      "text/html": [
       "<div>\n",
       "<style scoped>\n",
       "    .dataframe tbody tr th:only-of-type {\n",
       "        vertical-align: middle;\n",
       "    }\n",
       "\n",
       "    .dataframe tbody tr th {\n",
       "        vertical-align: top;\n",
       "    }\n",
       "\n",
       "    .dataframe thead th {\n",
       "        text-align: right;\n",
       "    }\n",
       "</style>\n",
       "<table border=\"1\" class=\"dataframe\">\n",
       "  <thead>\n",
       "    <tr style=\"text-align: right;\">\n",
       "      <th></th>\n",
       "      <th>index_x</th>\n",
       "      <th>gameid</th>\n",
       "      <th>position_x</th>\n",
       "      <th>playername_x</th>\n",
       "      <th>teamname</th>\n",
       "      <th>totalgold_x</th>\n",
       "      <th>index_y</th>\n",
       "      <th>position_y</th>\n",
       "      <th>playername_y</th>\n",
       "      <th>totalgold_y</th>\n",
       "      <th>goldshare</th>\n",
       "    </tr>\n",
       "  </thead>\n",
       "  <tbody>\n",
       "    <tr>\n",
       "      <th>5</th>\n",
       "      <td>0</td>\n",
       "      <td>ESPORTSTMNT06_2753012</td>\n",
       "      <td>top</td>\n",
       "      <td>Wylenz</td>\n",
       "      <td>Klanik Esport</td>\n",
       "      <td>18855</td>\n",
       "      <td>10</td>\n",
       "      <td>team</td>\n",
       "      <td>NaN</td>\n",
       "      <td>72807</td>\n",
       "      <td>0.258972</td>\n",
       "    </tr>\n",
       "    <tr>\n",
       "      <th>11</th>\n",
       "      <td>1</td>\n",
       "      <td>ESPORTSTMNT06_2753012</td>\n",
       "      <td>jng</td>\n",
       "      <td>Julbu</td>\n",
       "      <td>Klanik Esport</td>\n",
       "      <td>12082</td>\n",
       "      <td>10</td>\n",
       "      <td>team</td>\n",
       "      <td>NaN</td>\n",
       "      <td>72807</td>\n",
       "      <td>0.165946</td>\n",
       "    </tr>\n",
       "    <tr>\n",
       "      <th>17</th>\n",
       "      <td>2</td>\n",
       "      <td>ESPORTSTMNT06_2753012</td>\n",
       "      <td>mid</td>\n",
       "      <td>Sintax</td>\n",
       "      <td>Klanik Esport</td>\n",
       "      <td>15722</td>\n",
       "      <td>10</td>\n",
       "      <td>team</td>\n",
       "      <td>NaN</td>\n",
       "      <td>72807</td>\n",
       "      <td>0.215941</td>\n",
       "    </tr>\n",
       "    <tr>\n",
       "      <th>23</th>\n",
       "      <td>3</td>\n",
       "      <td>ESPORTSTMNT06_2753012</td>\n",
       "      <td>bot</td>\n",
       "      <td>Axelent</td>\n",
       "      <td>Klanik Esport</td>\n",
       "      <td>17332</td>\n",
       "      <td>10</td>\n",
       "      <td>team</td>\n",
       "      <td>NaN</td>\n",
       "      <td>72807</td>\n",
       "      <td>0.238054</td>\n",
       "    </tr>\n",
       "    <tr>\n",
       "      <th>29</th>\n",
       "      <td>4</td>\n",
       "      <td>ESPORTSTMNT06_2753012</td>\n",
       "      <td>sup</td>\n",
       "      <td>Wixo</td>\n",
       "      <td>Klanik Esport</td>\n",
       "      <td>8816</td>\n",
       "      <td>10</td>\n",
       "      <td>team</td>\n",
       "      <td>NaN</td>\n",
       "      <td>72807</td>\n",
       "      <td>0.121087</td>\n",
       "    </tr>\n",
       "    <tr>\n",
       "      <th>35</th>\n",
       "      <td>10</td>\n",
       "      <td>ESPORTSTMNT06_2753012</td>\n",
       "      <td>team</td>\n",
       "      <td>NaN</td>\n",
       "      <td>Klanik Esport</td>\n",
       "      <td>72807</td>\n",
       "      <td>10</td>\n",
       "      <td>team</td>\n",
       "      <td>NaN</td>\n",
       "      <td>72807</td>\n",
       "      <td>1.000000</td>\n",
       "    </tr>\n",
       "    <tr>\n",
       "      <th>41</th>\n",
       "      <td>5</td>\n",
       "      <td>ESPORTSTMNT06_2753012</td>\n",
       "      <td>top</td>\n",
       "      <td>Anathar</td>\n",
       "      <td>MS Company</td>\n",
       "      <td>11796</td>\n",
       "      <td>11</td>\n",
       "      <td>team</td>\n",
       "      <td>NaN</td>\n",
       "      <td>62745</td>\n",
       "      <td>0.187999</td>\n",
       "    </tr>\n",
       "    <tr>\n",
       "      <th>47</th>\n",
       "      <td>6</td>\n",
       "      <td>ESPORTSTMNT06_2753012</td>\n",
       "      <td>jng</td>\n",
       "      <td>nicolaiy</td>\n",
       "      <td>MS Company</td>\n",
       "      <td>11711</td>\n",
       "      <td>11</td>\n",
       "      <td>team</td>\n",
       "      <td>NaN</td>\n",
       "      <td>62745</td>\n",
       "      <td>0.186644</td>\n",
       "    </tr>\n",
       "    <tr>\n",
       "      <th>53</th>\n",
       "      <td>7</td>\n",
       "      <td>ESPORTSTMNT06_2753012</td>\n",
       "      <td>mid</td>\n",
       "      <td>Kuroneel</td>\n",
       "      <td>MS Company</td>\n",
       "      <td>14129</td>\n",
       "      <td>11</td>\n",
       "      <td>team</td>\n",
       "      <td>NaN</td>\n",
       "      <td>62745</td>\n",
       "      <td>0.225181</td>\n",
       "    </tr>\n",
       "    <tr>\n",
       "      <th>59</th>\n",
       "      <td>8</td>\n",
       "      <td>ESPORTSTMNT06_2753012</td>\n",
       "      <td>bot</td>\n",
       "      <td>Scripter</td>\n",
       "      <td>MS Company</td>\n",
       "      <td>16823</td>\n",
       "      <td>11</td>\n",
       "      <td>team</td>\n",
       "      <td>NaN</td>\n",
       "      <td>62745</td>\n",
       "      <td>0.268117</td>\n",
       "    </tr>\n",
       "  </tbody>\n",
       "</table>\n",
       "</div>"
      ],
      "text/plain": [
       "    index_x                 gameid position_x playername_x       teamname   \n",
       "5         0  ESPORTSTMNT06_2753012        top       Wylenz  Klanik Esport  \\\n",
       "11        1  ESPORTSTMNT06_2753012        jng        Julbu  Klanik Esport   \n",
       "17        2  ESPORTSTMNT06_2753012        mid       Sintax  Klanik Esport   \n",
       "23        3  ESPORTSTMNT06_2753012        bot      Axelent  Klanik Esport   \n",
       "29        4  ESPORTSTMNT06_2753012        sup         Wixo  Klanik Esport   \n",
       "35       10  ESPORTSTMNT06_2753012       team          NaN  Klanik Esport   \n",
       "41        5  ESPORTSTMNT06_2753012        top      Anathar     MS Company   \n",
       "47        6  ESPORTSTMNT06_2753012        jng     nicolaiy     MS Company   \n",
       "53        7  ESPORTSTMNT06_2753012        mid     Kuroneel     MS Company   \n",
       "59        8  ESPORTSTMNT06_2753012        bot     Scripter     MS Company   \n",
       "\n",
       "    totalgold_x  index_y position_y playername_y  totalgold_y  goldshare  \n",
       "5         18855       10       team          NaN        72807   0.258972  \n",
       "11        12082       10       team          NaN        72807   0.165946  \n",
       "17        15722       10       team          NaN        72807   0.215941  \n",
       "23        17332       10       team          NaN        72807   0.238054  \n",
       "29         8816       10       team          NaN        72807   0.121087  \n",
       "35        72807       10       team          NaN        72807   1.000000  \n",
       "41        11796       11       team          NaN        62745   0.187999  \n",
       "47        11711       11       team          NaN        62745   0.186644  \n",
       "53        14129       11       team          NaN        62745   0.225181  \n",
       "59        16823       11       team          NaN        62745   0.268117  "
      ]
     },
     "execution_count": 6,
     "metadata": {},
     "output_type": "execute_result"
    }
   ],
   "source": [
    "columns = [\"index\", \"gameid\", \"position\", \"playername\", \"teamname\", \"totalgold\"]\n",
    "merged = pd.merge(\n",
    "    matches_data[columns], matches_data[columns], how=\"inner\", on=[\"gameid\", \"teamname\"]\n",
    ")\n",
    "merged = merged.loc[merged[\"position_y\"] == \"team\"]\n",
    "merged[\"goldshare\"] = merged[\"totalgold_x\"].divide(merged[\"totalgold_y\"])\n",
    "merged.head(10)"
   ]
  },
  {
   "cell_type": "code",
   "execution_count": 7,
   "metadata": {},
   "outputs": [],
   "source": [
    "for row in merged.itertuples():\n",
    "    matches_data.loc[row.index_x, \"goldshare\"] = row.goldshare"
   ]
  },
  {
   "cell_type": "code",
   "execution_count": 8,
   "metadata": {},
   "outputs": [
    {
     "data": {
      "text/plain": [
       "Index(['index', 'gameid', 'datacompleteness', 'url', 'league', 'year', 'split',\n",
       "       'playoffs', 'date', 'game',\n",
       "       ...\n",
       "       'assistsat15', 'deathsat15', 'opp_killsat15', 'opp_assistsat15',\n",
       "       'opp_deathsat15', 'kda', 'kd', 'gpm', 'gdpm', 'goldshare'],\n",
       "      dtype='object', length=129)"
      ]
     },
     "execution_count": 8,
     "metadata": {},
     "output_type": "execute_result"
    }
   ],
   "source": [
    "matches_data.columns"
   ]
  },
  {
   "cell_type": "code",
   "execution_count": 9,
   "metadata": {},
   "outputs": [
    {
     "data": {
      "text/html": [
       "<div>\n",
       "<style scoped>\n",
       "    .dataframe tbody tr th:only-of-type {\n",
       "        vertical-align: middle;\n",
       "    }\n",
       "\n",
       "    .dataframe tbody tr th {\n",
       "        vertical-align: top;\n",
       "    }\n",
       "\n",
       "    .dataframe thead th {\n",
       "        text-align: right;\n",
       "    }\n",
       "</style>\n",
       "<table border=\"1\" class=\"dataframe\">\n",
       "  <thead>\n",
       "    <tr style=\"text-align: right;\">\n",
       "      <th></th>\n",
       "      <th>index</th>\n",
       "      <th>gameid</th>\n",
       "      <th>datacompleteness</th>\n",
       "      <th>url</th>\n",
       "      <th>league</th>\n",
       "      <th>year</th>\n",
       "      <th>split</th>\n",
       "      <th>playoffs</th>\n",
       "      <th>date</th>\n",
       "      <th>game</th>\n",
       "      <th>patch</th>\n",
       "      <th>participantid</th>\n",
       "      <th>side</th>\n",
       "      <th>position</th>\n",
       "      <th>playername</th>\n",
       "      <th>playerid</th>\n",
       "      <th>teamname</th>\n",
       "      <th>teamid</th>\n",
       "      <th>champion</th>\n",
       "      <th>ban1</th>\n",
       "      <th>ban2</th>\n",
       "      <th>ban3</th>\n",
       "      <th>ban4</th>\n",
       "      <th>ban5</th>\n",
       "      <th>gamelength</th>\n",
       "      <th>result</th>\n",
       "      <th>kills</th>\n",
       "      <th>deaths</th>\n",
       "      <th>assists</th>\n",
       "      <th>teamkills</th>\n",
       "      <th>teamdeaths</th>\n",
       "      <th>doublekills</th>\n",
       "      <th>triplekills</th>\n",
       "      <th>quadrakills</th>\n",
       "      <th>pentakills</th>\n",
       "      <th>firstblood</th>\n",
       "      <th>firstbloodkill</th>\n",
       "      <th>firstbloodassist</th>\n",
       "      <th>firstbloodvictim</th>\n",
       "      <th>team kpm</th>\n",
       "      <th>ckpm</th>\n",
       "      <th>firstdragon</th>\n",
       "      <th>dragons</th>\n",
       "      <th>opp_dragons</th>\n",
       "      <th>elementaldrakes</th>\n",
       "      <th>opp_elementaldrakes</th>\n",
       "      <th>infernals</th>\n",
       "      <th>mountains</th>\n",
       "      <th>clouds</th>\n",
       "      <th>oceans</th>\n",
       "      <th>chemtechs</th>\n",
       "      <th>hextechs</th>\n",
       "      <th>dragons (type unknown)</th>\n",
       "      <th>elders</th>\n",
       "      <th>opp_elders</th>\n",
       "      <th>firstherald</th>\n",
       "      <th>heralds</th>\n",
       "      <th>opp_heralds</th>\n",
       "      <th>firstbaron</th>\n",
       "      <th>barons</th>\n",
       "      <th>opp_barons</th>\n",
       "      <th>firsttower</th>\n",
       "      <th>towers</th>\n",
       "      <th>opp_towers</th>\n",
       "      <th>firstmidtower</th>\n",
       "      <th>firsttothreetowers</th>\n",
       "      <th>turretplates</th>\n",
       "      <th>opp_turretplates</th>\n",
       "      <th>inhibitors</th>\n",
       "      <th>opp_inhibitors</th>\n",
       "      <th>damagetochampions</th>\n",
       "      <th>dpm</th>\n",
       "      <th>damageshare</th>\n",
       "      <th>damagetakenperminute</th>\n",
       "      <th>damagemitigatedperminute</th>\n",
       "      <th>wardsplaced</th>\n",
       "      <th>wpm</th>\n",
       "      <th>wardskilled</th>\n",
       "      <th>wcpm</th>\n",
       "      <th>controlwardsbought</th>\n",
       "      <th>visionscore</th>\n",
       "      <th>vspm</th>\n",
       "      <th>totalgold</th>\n",
       "      <th>earnedgold</th>\n",
       "      <th>earned gpm</th>\n",
       "      <th>earnedgoldshare</th>\n",
       "      <th>goldspent</th>\n",
       "      <th>gspd</th>\n",
       "      <th>total cs</th>\n",
       "      <th>minionkills</th>\n",
       "      <th>monsterkills</th>\n",
       "      <th>monsterkillsownjungle</th>\n",
       "      <th>monsterkillsenemyjungle</th>\n",
       "      <th>cspm</th>\n",
       "      <th>goldat10</th>\n",
       "      <th>xpat10</th>\n",
       "      <th>csat10</th>\n",
       "      <th>opp_goldat10</th>\n",
       "      <th>opp_xpat10</th>\n",
       "      <th>opp_csat10</th>\n",
       "      <th>golddiffat10</th>\n",
       "      <th>xpdiffat10</th>\n",
       "      <th>csdiffat10</th>\n",
       "      <th>killsat10</th>\n",
       "      <th>assistsat10</th>\n",
       "      <th>deathsat10</th>\n",
       "      <th>opp_killsat10</th>\n",
       "      <th>opp_assistsat10</th>\n",
       "      <th>opp_deathsat10</th>\n",
       "      <th>goldat15</th>\n",
       "      <th>xpat15</th>\n",
       "      <th>csat15</th>\n",
       "      <th>opp_goldat15</th>\n",
       "      <th>opp_xpat15</th>\n",
       "      <th>opp_csat15</th>\n",
       "      <th>golddiffat15</th>\n",
       "      <th>xpdiffat15</th>\n",
       "      <th>csdiffat15</th>\n",
       "      <th>killsat15</th>\n",
       "      <th>assistsat15</th>\n",
       "      <th>deathsat15</th>\n",
       "      <th>opp_killsat15</th>\n",
       "      <th>opp_assistsat15</th>\n",
       "      <th>opp_deathsat15</th>\n",
       "      <th>kda</th>\n",
       "      <th>kd</th>\n",
       "      <th>gpm</th>\n",
       "      <th>gdpm</th>\n",
       "      <th>goldshare</th>\n",
       "    </tr>\n",
       "  </thead>\n",
       "  <tbody>\n",
       "    <tr>\n",
       "      <th>0</th>\n",
       "      <td>0</td>\n",
       "      <td>ESPORTSTMNT06_2753012</td>\n",
       "      <td>complete</td>\n",
       "      <td>NaN</td>\n",
       "      <td>LFL2</td>\n",
       "      <td>2023</td>\n",
       "      <td>Spring</td>\n",
       "      <td>0</td>\n",
       "      <td>2023-01-10 17:07:16</td>\n",
       "      <td>1</td>\n",
       "      <td>13.01</td>\n",
       "      <td>1</td>\n",
       "      <td>Blue</td>\n",
       "      <td>top</td>\n",
       "      <td>Wylenz</td>\n",
       "      <td>oe:player:60aff1184bec1d2b2efdae84f5b6e3e</td>\n",
       "      <td>Klanik Esport</td>\n",
       "      <td>oe:team:0ade5e44c23039bca133eee58ec1b83</td>\n",
       "      <td>Jax</td>\n",
       "      <td>Sylas</td>\n",
       "      <td>Caitlyn</td>\n",
       "      <td>Wukong</td>\n",
       "      <td>Akali</td>\n",
       "      <td>Yone</td>\n",
       "      <td>2612</td>\n",
       "      <td>1</td>\n",
       "      <td>4</td>\n",
       "      <td>0</td>\n",
       "      <td>6</td>\n",
       "      <td>13</td>\n",
       "      <td>7</td>\n",
       "      <td>1.0</td>\n",
       "      <td>1.0</td>\n",
       "      <td>0.0</td>\n",
       "      <td>0.0</td>\n",
       "      <td>0.0</td>\n",
       "      <td>0.0</td>\n",
       "      <td>0.0</td>\n",
       "      <td>0.0</td>\n",
       "      <td>0.2986</td>\n",
       "      <td>0.4594</td>\n",
       "      <td>NaN</td>\n",
       "      <td>NaN</td>\n",
       "      <td>NaN</td>\n",
       "      <td>NaN</td>\n",
       "      <td>NaN</td>\n",
       "      <td>NaN</td>\n",
       "      <td>NaN</td>\n",
       "      <td>NaN</td>\n",
       "      <td>NaN</td>\n",
       "      <td>NaN</td>\n",
       "      <td>NaN</td>\n",
       "      <td>NaN</td>\n",
       "      <td>NaN</td>\n",
       "      <td>NaN</td>\n",
       "      <td>NaN</td>\n",
       "      <td>NaN</td>\n",
       "      <td>NaN</td>\n",
       "      <td>NaN</td>\n",
       "      <td>0.0</td>\n",
       "      <td>0.0</td>\n",
       "      <td>NaN</td>\n",
       "      <td>NaN</td>\n",
       "      <td>NaN</td>\n",
       "      <td>NaN</td>\n",
       "      <td>NaN</td>\n",
       "      <td>NaN</td>\n",
       "      <td>NaN</td>\n",
       "      <td>1.0</td>\n",
       "      <td>0.0</td>\n",
       "      <td>14283</td>\n",
       "      <td>328.0934</td>\n",
       "      <td>0.150027</td>\n",
       "      <td>719.5406</td>\n",
       "      <td>878.9127</td>\n",
       "      <td>20</td>\n",
       "      <td>0.4594</td>\n",
       "      <td>5</td>\n",
       "      <td>0.1149</td>\n",
       "      <td>11</td>\n",
       "      <td>49</td>\n",
       "      <td>1.1256</td>\n",
       "      <td>18855</td>\n",
       "      <td>13251</td>\n",
       "      <td>304.3874</td>\n",
       "      <td>0.295868</td>\n",
       "      <td>15955</td>\n",
       "      <td>NaN</td>\n",
       "      <td>399.0</td>\n",
       "      <td>367.0</td>\n",
       "      <td>32</td>\n",
       "      <td>NaN</td>\n",
       "      <td>NaN</td>\n",
       "      <td>9.1654</td>\n",
       "      <td>3163.0</td>\n",
       "      <td>4772.0</td>\n",
       "      <td>83.0</td>\n",
       "      <td>3087.0</td>\n",
       "      <td>4814.0</td>\n",
       "      <td>81.0</td>\n",
       "      <td>76.0</td>\n",
       "      <td>-42.0</td>\n",
       "      <td>2.0</td>\n",
       "      <td>0.0</td>\n",
       "      <td>0.0</td>\n",
       "      <td>0.0</td>\n",
       "      <td>0.0</td>\n",
       "      <td>0.0</td>\n",
       "      <td>0.0</td>\n",
       "      <td>5059.0</td>\n",
       "      <td>7946.0</td>\n",
       "      <td>143.0</td>\n",
       "      <td>4737.0</td>\n",
       "      <td>7683.0</td>\n",
       "      <td>131.0</td>\n",
       "      <td>322.0</td>\n",
       "      <td>263.0</td>\n",
       "      <td>12.0</td>\n",
       "      <td>0.0</td>\n",
       "      <td>0.0</td>\n",
       "      <td>0.0</td>\n",
       "      <td>0.0</td>\n",
       "      <td>0.0</td>\n",
       "      <td>0.0</td>\n",
       "      <td>inf</td>\n",
       "      <td>inf</td>\n",
       "      <td>433.116386</td>\n",
       "      <td>162.151608</td>\n",
       "      <td>0.258972</td>\n",
       "    </tr>\n",
       "    <tr>\n",
       "      <th>1</th>\n",
       "      <td>1</td>\n",
       "      <td>ESPORTSTMNT06_2753012</td>\n",
       "      <td>complete</td>\n",
       "      <td>NaN</td>\n",
       "      <td>LFL2</td>\n",
       "      <td>2023</td>\n",
       "      <td>Spring</td>\n",
       "      <td>0</td>\n",
       "      <td>2023-01-10 17:07:16</td>\n",
       "      <td>1</td>\n",
       "      <td>13.01</td>\n",
       "      <td>2</td>\n",
       "      <td>Blue</td>\n",
       "      <td>jng</td>\n",
       "      <td>Julbu</td>\n",
       "      <td>oe:player:fd78e127e45463dcfc2ea3836af0335</td>\n",
       "      <td>Klanik Esport</td>\n",
       "      <td>oe:team:0ade5e44c23039bca133eee58ec1b83</td>\n",
       "      <td>Poppy</td>\n",
       "      <td>Sylas</td>\n",
       "      <td>Caitlyn</td>\n",
       "      <td>Wukong</td>\n",
       "      <td>Akali</td>\n",
       "      <td>Yone</td>\n",
       "      <td>2612</td>\n",
       "      <td>1</td>\n",
       "      <td>2</td>\n",
       "      <td>2</td>\n",
       "      <td>4</td>\n",
       "      <td>13</td>\n",
       "      <td>7</td>\n",
       "      <td>0.0</td>\n",
       "      <td>0.0</td>\n",
       "      <td>0.0</td>\n",
       "      <td>0.0</td>\n",
       "      <td>0.0</td>\n",
       "      <td>0.0</td>\n",
       "      <td>0.0</td>\n",
       "      <td>0.0</td>\n",
       "      <td>0.2986</td>\n",
       "      <td>0.4594</td>\n",
       "      <td>NaN</td>\n",
       "      <td>NaN</td>\n",
       "      <td>NaN</td>\n",
       "      <td>NaN</td>\n",
       "      <td>NaN</td>\n",
       "      <td>NaN</td>\n",
       "      <td>NaN</td>\n",
       "      <td>NaN</td>\n",
       "      <td>NaN</td>\n",
       "      <td>NaN</td>\n",
       "      <td>NaN</td>\n",
       "      <td>NaN</td>\n",
       "      <td>NaN</td>\n",
       "      <td>NaN</td>\n",
       "      <td>NaN</td>\n",
       "      <td>NaN</td>\n",
       "      <td>NaN</td>\n",
       "      <td>NaN</td>\n",
       "      <td>1.0</td>\n",
       "      <td>0.0</td>\n",
       "      <td>NaN</td>\n",
       "      <td>NaN</td>\n",
       "      <td>NaN</td>\n",
       "      <td>NaN</td>\n",
       "      <td>NaN</td>\n",
       "      <td>NaN</td>\n",
       "      <td>NaN</td>\n",
       "      <td>0.0</td>\n",
       "      <td>0.0</td>\n",
       "      <td>6219</td>\n",
       "      <td>142.8560</td>\n",
       "      <td>0.065324</td>\n",
       "      <td>847.3047</td>\n",
       "      <td>1513.9663</td>\n",
       "      <td>18</td>\n",
       "      <td>0.4135</td>\n",
       "      <td>11</td>\n",
       "      <td>0.2527</td>\n",
       "      <td>17</td>\n",
       "      <td>61</td>\n",
       "      <td>1.4012</td>\n",
       "      <td>12082</td>\n",
       "      <td>6478</td>\n",
       "      <td>148.8055</td>\n",
       "      <td>0.144640</td>\n",
       "      <td>11675</td>\n",
       "      <td>NaN</td>\n",
       "      <td>159.0</td>\n",
       "      <td>23.0</td>\n",
       "      <td>136</td>\n",
       "      <td>NaN</td>\n",
       "      <td>NaN</td>\n",
       "      <td>3.6524</td>\n",
       "      <td>3035.0</td>\n",
       "      <td>3302.0</td>\n",
       "      <td>54.0</td>\n",
       "      <td>2948.0</td>\n",
       "      <td>3140.0</td>\n",
       "      <td>66.0</td>\n",
       "      <td>87.0</td>\n",
       "      <td>162.0</td>\n",
       "      <td>-12.0</td>\n",
       "      <td>0.0</td>\n",
       "      <td>0.0</td>\n",
       "      <td>0.0</td>\n",
       "      <td>0.0</td>\n",
       "      <td>0.0</td>\n",
       "      <td>0.0</td>\n",
       "      <td>4325.0</td>\n",
       "      <td>4637.0</td>\n",
       "      <td>74.0</td>\n",
       "      <td>4682.0</td>\n",
       "      <td>5960.0</td>\n",
       "      <td>117.0</td>\n",
       "      <td>-357.0</td>\n",
       "      <td>-1323.0</td>\n",
       "      <td>-43.0</td>\n",
       "      <td>0.0</td>\n",
       "      <td>0.0</td>\n",
       "      <td>0.0</td>\n",
       "      <td>0.0</td>\n",
       "      <td>0.0</td>\n",
       "      <td>0.0</td>\n",
       "      <td>3.0</td>\n",
       "      <td>1.0</td>\n",
       "      <td>277.534456</td>\n",
       "      <td>8.522205</td>\n",
       "      <td>0.165946</td>\n",
       "    </tr>\n",
       "    <tr>\n",
       "      <th>2</th>\n",
       "      <td>2</td>\n",
       "      <td>ESPORTSTMNT06_2753012</td>\n",
       "      <td>complete</td>\n",
       "      <td>NaN</td>\n",
       "      <td>LFL2</td>\n",
       "      <td>2023</td>\n",
       "      <td>Spring</td>\n",
       "      <td>0</td>\n",
       "      <td>2023-01-10 17:07:16</td>\n",
       "      <td>1</td>\n",
       "      <td>13.01</td>\n",
       "      <td>3</td>\n",
       "      <td>Blue</td>\n",
       "      <td>mid</td>\n",
       "      <td>Sintax</td>\n",
       "      <td>oe:player:baf7147fedeec5de54ca1f240952a3f</td>\n",
       "      <td>Klanik Esport</td>\n",
       "      <td>oe:team:0ade5e44c23039bca133eee58ec1b83</td>\n",
       "      <td>Taliyah</td>\n",
       "      <td>Sylas</td>\n",
       "      <td>Caitlyn</td>\n",
       "      <td>Wukong</td>\n",
       "      <td>Akali</td>\n",
       "      <td>Yone</td>\n",
       "      <td>2612</td>\n",
       "      <td>1</td>\n",
       "      <td>2</td>\n",
       "      <td>2</td>\n",
       "      <td>11</td>\n",
       "      <td>13</td>\n",
       "      <td>7</td>\n",
       "      <td>0.0</td>\n",
       "      <td>0.0</td>\n",
       "      <td>0.0</td>\n",
       "      <td>0.0</td>\n",
       "      <td>0.0</td>\n",
       "      <td>0.0</td>\n",
       "      <td>0.0</td>\n",
       "      <td>0.0</td>\n",
       "      <td>0.2986</td>\n",
       "      <td>0.4594</td>\n",
       "      <td>NaN</td>\n",
       "      <td>NaN</td>\n",
       "      <td>NaN</td>\n",
       "      <td>NaN</td>\n",
       "      <td>NaN</td>\n",
       "      <td>NaN</td>\n",
       "      <td>NaN</td>\n",
       "      <td>NaN</td>\n",
       "      <td>NaN</td>\n",
       "      <td>NaN</td>\n",
       "      <td>NaN</td>\n",
       "      <td>NaN</td>\n",
       "      <td>NaN</td>\n",
       "      <td>NaN</td>\n",
       "      <td>NaN</td>\n",
       "      <td>NaN</td>\n",
       "      <td>NaN</td>\n",
       "      <td>NaN</td>\n",
       "      <td>0.0</td>\n",
       "      <td>0.0</td>\n",
       "      <td>NaN</td>\n",
       "      <td>NaN</td>\n",
       "      <td>NaN</td>\n",
       "      <td>NaN</td>\n",
       "      <td>NaN</td>\n",
       "      <td>NaN</td>\n",
       "      <td>NaN</td>\n",
       "      <td>0.0</td>\n",
       "      <td>0.0</td>\n",
       "      <td>27028</td>\n",
       "      <td>620.8576</td>\n",
       "      <td>0.283899</td>\n",
       "      <td>365.3522</td>\n",
       "      <td>323.7289</td>\n",
       "      <td>23</td>\n",
       "      <td>0.5283</td>\n",
       "      <td>10</td>\n",
       "      <td>0.2297</td>\n",
       "      <td>7</td>\n",
       "      <td>49</td>\n",
       "      <td>1.1256</td>\n",
       "      <td>15722</td>\n",
       "      <td>10118</td>\n",
       "      <td>232.4196</td>\n",
       "      <td>0.225914</td>\n",
       "      <td>14525</td>\n",
       "      <td>NaN</td>\n",
       "      <td>337.0</td>\n",
       "      <td>287.0</td>\n",
       "      <td>50</td>\n",
       "      <td>NaN</td>\n",
       "      <td>NaN</td>\n",
       "      <td>7.7412</td>\n",
       "      <td>3117.0</td>\n",
       "      <td>4927.0</td>\n",
       "      <td>85.0</td>\n",
       "      <td>3455.0</td>\n",
       "      <td>5174.0</td>\n",
       "      <td>103.0</td>\n",
       "      <td>-338.0</td>\n",
       "      <td>-247.0</td>\n",
       "      <td>-18.0</td>\n",
       "      <td>0.0</td>\n",
       "      <td>0.0</td>\n",
       "      <td>0.0</td>\n",
       "      <td>0.0</td>\n",
       "      <td>0.0</td>\n",
       "      <td>0.0</td>\n",
       "      <td>4956.0</td>\n",
       "      <td>7772.0</td>\n",
       "      <td>136.0</td>\n",
       "      <td>5435.0</td>\n",
       "      <td>8096.0</td>\n",
       "      <td>162.0</td>\n",
       "      <td>-479.0</td>\n",
       "      <td>-324.0</td>\n",
       "      <td>-26.0</td>\n",
       "      <td>0.0</td>\n",
       "      <td>0.0</td>\n",
       "      <td>0.0</td>\n",
       "      <td>0.0</td>\n",
       "      <td>0.0</td>\n",
       "      <td>0.0</td>\n",
       "      <td>6.5</td>\n",
       "      <td>1.0</td>\n",
       "      <td>361.148545</td>\n",
       "      <td>36.592649</td>\n",
       "      <td>0.215941</td>\n",
       "    </tr>\n",
       "    <tr>\n",
       "      <th>3</th>\n",
       "      <td>3</td>\n",
       "      <td>ESPORTSTMNT06_2753012</td>\n",
       "      <td>complete</td>\n",
       "      <td>NaN</td>\n",
       "      <td>LFL2</td>\n",
       "      <td>2023</td>\n",
       "      <td>Spring</td>\n",
       "      <td>0</td>\n",
       "      <td>2023-01-10 17:07:16</td>\n",
       "      <td>1</td>\n",
       "      <td>13.01</td>\n",
       "      <td>4</td>\n",
       "      <td>Blue</td>\n",
       "      <td>bot</td>\n",
       "      <td>Axelent</td>\n",
       "      <td>oe:player:8204ca38dc1c42012b5d53131271eb1</td>\n",
       "      <td>Klanik Esport</td>\n",
       "      <td>oe:team:0ade5e44c23039bca133eee58ec1b83</td>\n",
       "      <td>Ezreal</td>\n",
       "      <td>Sylas</td>\n",
       "      <td>Caitlyn</td>\n",
       "      <td>Wukong</td>\n",
       "      <td>Akali</td>\n",
       "      <td>Yone</td>\n",
       "      <td>2612</td>\n",
       "      <td>1</td>\n",
       "      <td>5</td>\n",
       "      <td>1</td>\n",
       "      <td>7</td>\n",
       "      <td>13</td>\n",
       "      <td>7</td>\n",
       "      <td>0.0</td>\n",
       "      <td>0.0</td>\n",
       "      <td>0.0</td>\n",
       "      <td>0.0</td>\n",
       "      <td>0.0</td>\n",
       "      <td>0.0</td>\n",
       "      <td>0.0</td>\n",
       "      <td>0.0</td>\n",
       "      <td>0.2986</td>\n",
       "      <td>0.4594</td>\n",
       "      <td>NaN</td>\n",
       "      <td>NaN</td>\n",
       "      <td>NaN</td>\n",
       "      <td>NaN</td>\n",
       "      <td>NaN</td>\n",
       "      <td>NaN</td>\n",
       "      <td>NaN</td>\n",
       "      <td>NaN</td>\n",
       "      <td>NaN</td>\n",
       "      <td>NaN</td>\n",
       "      <td>NaN</td>\n",
       "      <td>NaN</td>\n",
       "      <td>NaN</td>\n",
       "      <td>NaN</td>\n",
       "      <td>NaN</td>\n",
       "      <td>NaN</td>\n",
       "      <td>NaN</td>\n",
       "      <td>NaN</td>\n",
       "      <td>0.0</td>\n",
       "      <td>0.0</td>\n",
       "      <td>NaN</td>\n",
       "      <td>NaN</td>\n",
       "      <td>NaN</td>\n",
       "      <td>NaN</td>\n",
       "      <td>NaN</td>\n",
       "      <td>NaN</td>\n",
       "      <td>NaN</td>\n",
       "      <td>1.0</td>\n",
       "      <td>0.0</td>\n",
       "      <td>42005</td>\n",
       "      <td>964.8928</td>\n",
       "      <td>0.441215</td>\n",
       "      <td>398.4533</td>\n",
       "      <td>234.3721</td>\n",
       "      <td>17</td>\n",
       "      <td>0.3905</td>\n",
       "      <td>6</td>\n",
       "      <td>0.1378</td>\n",
       "      <td>5</td>\n",
       "      <td>47</td>\n",
       "      <td>1.0796</td>\n",
       "      <td>17332</td>\n",
       "      <td>11728</td>\n",
       "      <td>269.4028</td>\n",
       "      <td>0.261862</td>\n",
       "      <td>15225</td>\n",
       "      <td>NaN</td>\n",
       "      <td>370.0</td>\n",
       "      <td>345.0</td>\n",
       "      <td>25</td>\n",
       "      <td>NaN</td>\n",
       "      <td>NaN</td>\n",
       "      <td>8.4992</td>\n",
       "      <td>3344.0</td>\n",
       "      <td>3377.0</td>\n",
       "      <td>94.0</td>\n",
       "      <td>3015.0</td>\n",
       "      <td>2948.0</td>\n",
       "      <td>75.0</td>\n",
       "      <td>329.0</td>\n",
       "      <td>429.0</td>\n",
       "      <td>19.0</td>\n",
       "      <td>0.0</td>\n",
       "      <td>0.0</td>\n",
       "      <td>0.0</td>\n",
       "      <td>0.0</td>\n",
       "      <td>0.0</td>\n",
       "      <td>0.0</td>\n",
       "      <td>5217.0</td>\n",
       "      <td>5647.0</td>\n",
       "      <td>142.0</td>\n",
       "      <td>5017.0</td>\n",
       "      <td>5355.0</td>\n",
       "      <td>122.0</td>\n",
       "      <td>200.0</td>\n",
       "      <td>292.0</td>\n",
       "      <td>20.0</td>\n",
       "      <td>0.0</td>\n",
       "      <td>0.0</td>\n",
       "      <td>0.0</td>\n",
       "      <td>1.0</td>\n",
       "      <td>0.0</td>\n",
       "      <td>0.0</td>\n",
       "      <td>12.0</td>\n",
       "      <td>5.0</td>\n",
       "      <td>398.131700</td>\n",
       "      <td>11.692190</td>\n",
       "      <td>0.238054</td>\n",
       "    </tr>\n",
       "    <tr>\n",
       "      <th>4</th>\n",
       "      <td>4</td>\n",
       "      <td>ESPORTSTMNT06_2753012</td>\n",
       "      <td>complete</td>\n",
       "      <td>NaN</td>\n",
       "      <td>LFL2</td>\n",
       "      <td>2023</td>\n",
       "      <td>Spring</td>\n",
       "      <td>0</td>\n",
       "      <td>2023-01-10 17:07:16</td>\n",
       "      <td>1</td>\n",
       "      <td>13.01</td>\n",
       "      <td>5</td>\n",
       "      <td>Blue</td>\n",
       "      <td>sup</td>\n",
       "      <td>Wixo</td>\n",
       "      <td>oe:player:bb97cd2e43cb0855f6485e6f9e93ea2</td>\n",
       "      <td>Klanik Esport</td>\n",
       "      <td>oe:team:0ade5e44c23039bca133eee58ec1b83</td>\n",
       "      <td>Karma</td>\n",
       "      <td>Sylas</td>\n",
       "      <td>Caitlyn</td>\n",
       "      <td>Wukong</td>\n",
       "      <td>Akali</td>\n",
       "      <td>Yone</td>\n",
       "      <td>2612</td>\n",
       "      <td>1</td>\n",
       "      <td>0</td>\n",
       "      <td>2</td>\n",
       "      <td>10</td>\n",
       "      <td>13</td>\n",
       "      <td>7</td>\n",
       "      <td>0.0</td>\n",
       "      <td>0.0</td>\n",
       "      <td>0.0</td>\n",
       "      <td>0.0</td>\n",
       "      <td>0.0</td>\n",
       "      <td>0.0</td>\n",
       "      <td>0.0</td>\n",
       "      <td>1.0</td>\n",
       "      <td>0.2986</td>\n",
       "      <td>0.4594</td>\n",
       "      <td>NaN</td>\n",
       "      <td>NaN</td>\n",
       "      <td>NaN</td>\n",
       "      <td>NaN</td>\n",
       "      <td>NaN</td>\n",
       "      <td>NaN</td>\n",
       "      <td>NaN</td>\n",
       "      <td>NaN</td>\n",
       "      <td>NaN</td>\n",
       "      <td>NaN</td>\n",
       "      <td>NaN</td>\n",
       "      <td>NaN</td>\n",
       "      <td>NaN</td>\n",
       "      <td>NaN</td>\n",
       "      <td>NaN</td>\n",
       "      <td>NaN</td>\n",
       "      <td>NaN</td>\n",
       "      <td>NaN</td>\n",
       "      <td>0.0</td>\n",
       "      <td>0.0</td>\n",
       "      <td>NaN</td>\n",
       "      <td>NaN</td>\n",
       "      <td>NaN</td>\n",
       "      <td>NaN</td>\n",
       "      <td>NaN</td>\n",
       "      <td>NaN</td>\n",
       "      <td>NaN</td>\n",
       "      <td>0.0</td>\n",
       "      <td>0.0</td>\n",
       "      <td>5668</td>\n",
       "      <td>130.1991</td>\n",
       "      <td>0.059536</td>\n",
       "      <td>360.2757</td>\n",
       "      <td>284.1501</td>\n",
       "      <td>52</td>\n",
       "      <td>1.1945</td>\n",
       "      <td>8</td>\n",
       "      <td>0.1838</td>\n",
       "      <td>15</td>\n",
       "      <td>106</td>\n",
       "      <td>2.4349</td>\n",
       "      <td>8816</td>\n",
       "      <td>3212</td>\n",
       "      <td>73.7825</td>\n",
       "      <td>0.071716</td>\n",
       "      <td>8125</td>\n",
       "      <td>NaN</td>\n",
       "      <td>21.0</td>\n",
       "      <td>17.0</td>\n",
       "      <td>4</td>\n",
       "      <td>NaN</td>\n",
       "      <td>NaN</td>\n",
       "      <td>0.4824</td>\n",
       "      <td>1953.0</td>\n",
       "      <td>2367.0</td>\n",
       "      <td>1.0</td>\n",
       "      <td>2032.0</td>\n",
       "      <td>2825.0</td>\n",
       "      <td>3.0</td>\n",
       "      <td>-79.0</td>\n",
       "      <td>-458.0</td>\n",
       "      <td>-2.0</td>\n",
       "      <td>0.0</td>\n",
       "      <td>0.0</td>\n",
       "      <td>0.0</td>\n",
       "      <td>0.0</td>\n",
       "      <td>0.0</td>\n",
       "      <td>0.0</td>\n",
       "      <td>2827.0</td>\n",
       "      <td>3218.0</td>\n",
       "      <td>3.0</td>\n",
       "      <td>3043.0</td>\n",
       "      <td>3797.0</td>\n",
       "      <td>3.0</td>\n",
       "      <td>-216.0</td>\n",
       "      <td>-579.0</td>\n",
       "      <td>0.0</td>\n",
       "      <td>0.0</td>\n",
       "      <td>0.0</td>\n",
       "      <td>1.0</td>\n",
       "      <td>0.0</td>\n",
       "      <td>1.0</td>\n",
       "      <td>0.0</td>\n",
       "      <td>5.0</td>\n",
       "      <td>0.0</td>\n",
       "      <td>202.511485</td>\n",
       "      <td>12.174579</td>\n",
       "      <td>0.121087</td>\n",
       "    </tr>\n",
       "  </tbody>\n",
       "</table>\n",
       "</div>"
      ],
      "text/plain": [
       "   index                 gameid datacompleteness  url league  year   split   \n",
       "0      0  ESPORTSTMNT06_2753012         complete  NaN   LFL2  2023  Spring  \\\n",
       "1      1  ESPORTSTMNT06_2753012         complete  NaN   LFL2  2023  Spring   \n",
       "2      2  ESPORTSTMNT06_2753012         complete  NaN   LFL2  2023  Spring   \n",
       "3      3  ESPORTSTMNT06_2753012         complete  NaN   LFL2  2023  Spring   \n",
       "4      4  ESPORTSTMNT06_2753012         complete  NaN   LFL2  2023  Spring   \n",
       "\n",
       "   playoffs                 date  game  patch  participantid  side position   \n",
       "0         0  2023-01-10 17:07:16     1  13.01              1  Blue      top  \\\n",
       "1         0  2023-01-10 17:07:16     1  13.01              2  Blue      jng   \n",
       "2         0  2023-01-10 17:07:16     1  13.01              3  Blue      mid   \n",
       "3         0  2023-01-10 17:07:16     1  13.01              4  Blue      bot   \n",
       "4         0  2023-01-10 17:07:16     1  13.01              5  Blue      sup   \n",
       "\n",
       "  playername                                   playerid       teamname   \n",
       "0     Wylenz  oe:player:60aff1184bec1d2b2efdae84f5b6e3e  Klanik Esport  \\\n",
       "1      Julbu  oe:player:fd78e127e45463dcfc2ea3836af0335  Klanik Esport   \n",
       "2     Sintax  oe:player:baf7147fedeec5de54ca1f240952a3f  Klanik Esport   \n",
       "3    Axelent  oe:player:8204ca38dc1c42012b5d53131271eb1  Klanik Esport   \n",
       "4       Wixo  oe:player:bb97cd2e43cb0855f6485e6f9e93ea2  Klanik Esport   \n",
       "\n",
       "                                    teamid champion   ban1     ban2    ban3   \n",
       "0  oe:team:0ade5e44c23039bca133eee58ec1b83      Jax  Sylas  Caitlyn  Wukong  \\\n",
       "1  oe:team:0ade5e44c23039bca133eee58ec1b83    Poppy  Sylas  Caitlyn  Wukong   \n",
       "2  oe:team:0ade5e44c23039bca133eee58ec1b83  Taliyah  Sylas  Caitlyn  Wukong   \n",
       "3  oe:team:0ade5e44c23039bca133eee58ec1b83   Ezreal  Sylas  Caitlyn  Wukong   \n",
       "4  oe:team:0ade5e44c23039bca133eee58ec1b83    Karma  Sylas  Caitlyn  Wukong   \n",
       "\n",
       "    ban4  ban5  gamelength  result  kills  deaths  assists  teamkills   \n",
       "0  Akali  Yone        2612       1      4       0        6         13  \\\n",
       "1  Akali  Yone        2612       1      2       2        4         13   \n",
       "2  Akali  Yone        2612       1      2       2       11         13   \n",
       "3  Akali  Yone        2612       1      5       1        7         13   \n",
       "4  Akali  Yone        2612       1      0       2       10         13   \n",
       "\n",
       "   teamdeaths  doublekills  triplekills  quadrakills  pentakills  firstblood   \n",
       "0           7          1.0          1.0          0.0         0.0         0.0  \\\n",
       "1           7          0.0          0.0          0.0         0.0         0.0   \n",
       "2           7          0.0          0.0          0.0         0.0         0.0   \n",
       "3           7          0.0          0.0          0.0         0.0         0.0   \n",
       "4           7          0.0          0.0          0.0         0.0         0.0   \n",
       "\n",
       "   firstbloodkill  firstbloodassist  firstbloodvictim  team kpm    ckpm   \n",
       "0             0.0               0.0               0.0    0.2986  0.4594  \\\n",
       "1             0.0               0.0               0.0    0.2986  0.4594   \n",
       "2             0.0               0.0               0.0    0.2986  0.4594   \n",
       "3             0.0               0.0               0.0    0.2986  0.4594   \n",
       "4             0.0               0.0               1.0    0.2986  0.4594   \n",
       "\n",
       "   firstdragon  dragons  opp_dragons  elementaldrakes  opp_elementaldrakes   \n",
       "0          NaN      NaN          NaN              NaN                  NaN  \\\n",
       "1          NaN      NaN          NaN              NaN                  NaN   \n",
       "2          NaN      NaN          NaN              NaN                  NaN   \n",
       "3          NaN      NaN          NaN              NaN                  NaN   \n",
       "4          NaN      NaN          NaN              NaN                  NaN   \n",
       "\n",
       "   infernals  mountains  clouds  oceans  chemtechs  hextechs   \n",
       "0        NaN        NaN     NaN     NaN        NaN       NaN  \\\n",
       "1        NaN        NaN     NaN     NaN        NaN       NaN   \n",
       "2        NaN        NaN     NaN     NaN        NaN       NaN   \n",
       "3        NaN        NaN     NaN     NaN        NaN       NaN   \n",
       "4        NaN        NaN     NaN     NaN        NaN       NaN   \n",
       "\n",
       "   dragons (type unknown)  elders  opp_elders  firstherald  heralds   \n",
       "0                     NaN     NaN         NaN          NaN      NaN  \\\n",
       "1                     NaN     NaN         NaN          NaN      NaN   \n",
       "2                     NaN     NaN         NaN          NaN      NaN   \n",
       "3                     NaN     NaN         NaN          NaN      NaN   \n",
       "4                     NaN     NaN         NaN          NaN      NaN   \n",
       "\n",
       "   opp_heralds  firstbaron  barons  opp_barons  firsttower  towers   \n",
       "0          NaN         NaN     0.0         0.0         NaN     NaN  \\\n",
       "1          NaN         NaN     1.0         0.0         NaN     NaN   \n",
       "2          NaN         NaN     0.0         0.0         NaN     NaN   \n",
       "3          NaN         NaN     0.0         0.0         NaN     NaN   \n",
       "4          NaN         NaN     0.0         0.0         NaN     NaN   \n",
       "\n",
       "   opp_towers  firstmidtower  firsttothreetowers  turretplates   \n",
       "0         NaN            NaN                 NaN           NaN  \\\n",
       "1         NaN            NaN                 NaN           NaN   \n",
       "2         NaN            NaN                 NaN           NaN   \n",
       "3         NaN            NaN                 NaN           NaN   \n",
       "4         NaN            NaN                 NaN           NaN   \n",
       "\n",
       "   opp_turretplates  inhibitors  opp_inhibitors  damagetochampions       dpm   \n",
       "0               NaN         1.0             0.0              14283  328.0934  \\\n",
       "1               NaN         0.0             0.0               6219  142.8560   \n",
       "2               NaN         0.0             0.0              27028  620.8576   \n",
       "3               NaN         1.0             0.0              42005  964.8928   \n",
       "4               NaN         0.0             0.0               5668  130.1991   \n",
       "\n",
       "   damageshare  damagetakenperminute  damagemitigatedperminute  wardsplaced   \n",
       "0     0.150027              719.5406                  878.9127           20  \\\n",
       "1     0.065324              847.3047                 1513.9663           18   \n",
       "2     0.283899              365.3522                  323.7289           23   \n",
       "3     0.441215              398.4533                  234.3721           17   \n",
       "4     0.059536              360.2757                  284.1501           52   \n",
       "\n",
       "      wpm  wardskilled    wcpm  controlwardsbought  visionscore    vspm   \n",
       "0  0.4594            5  0.1149                  11           49  1.1256  \\\n",
       "1  0.4135           11  0.2527                  17           61  1.4012   \n",
       "2  0.5283           10  0.2297                   7           49  1.1256   \n",
       "3  0.3905            6  0.1378                   5           47  1.0796   \n",
       "4  1.1945            8  0.1838                  15          106  2.4349   \n",
       "\n",
       "   totalgold  earnedgold  earned gpm  earnedgoldshare  goldspent  gspd   \n",
       "0      18855       13251    304.3874         0.295868      15955   NaN  \\\n",
       "1      12082        6478    148.8055         0.144640      11675   NaN   \n",
       "2      15722       10118    232.4196         0.225914      14525   NaN   \n",
       "3      17332       11728    269.4028         0.261862      15225   NaN   \n",
       "4       8816        3212     73.7825         0.071716       8125   NaN   \n",
       "\n",
       "   total cs  minionkills  monsterkills  monsterkillsownjungle   \n",
       "0     399.0        367.0            32                    NaN  \\\n",
       "1     159.0         23.0           136                    NaN   \n",
       "2     337.0        287.0            50                    NaN   \n",
       "3     370.0        345.0            25                    NaN   \n",
       "4      21.0         17.0             4                    NaN   \n",
       "\n",
       "   monsterkillsenemyjungle    cspm  goldat10  xpat10  csat10  opp_goldat10   \n",
       "0                      NaN  9.1654    3163.0  4772.0    83.0        3087.0  \\\n",
       "1                      NaN  3.6524    3035.0  3302.0    54.0        2948.0   \n",
       "2                      NaN  7.7412    3117.0  4927.0    85.0        3455.0   \n",
       "3                      NaN  8.4992    3344.0  3377.0    94.0        3015.0   \n",
       "4                      NaN  0.4824    1953.0  2367.0     1.0        2032.0   \n",
       "\n",
       "   opp_xpat10  opp_csat10  golddiffat10  xpdiffat10  csdiffat10  killsat10   \n",
       "0      4814.0        81.0          76.0       -42.0         2.0        0.0  \\\n",
       "1      3140.0        66.0          87.0       162.0       -12.0        0.0   \n",
       "2      5174.0       103.0        -338.0      -247.0       -18.0        0.0   \n",
       "3      2948.0        75.0         329.0       429.0        19.0        0.0   \n",
       "4      2825.0         3.0         -79.0      -458.0        -2.0        0.0   \n",
       "\n",
       "   assistsat10  deathsat10  opp_killsat10  opp_assistsat10  opp_deathsat10   \n",
       "0          0.0         0.0            0.0              0.0             0.0  \\\n",
       "1          0.0         0.0            0.0              0.0             0.0   \n",
       "2          0.0         0.0            0.0              0.0             0.0   \n",
       "3          0.0         0.0            0.0              0.0             0.0   \n",
       "4          0.0         0.0            0.0              0.0             0.0   \n",
       "\n",
       "   goldat15  xpat15  csat15  opp_goldat15  opp_xpat15  opp_csat15   \n",
       "0    5059.0  7946.0   143.0        4737.0      7683.0       131.0  \\\n",
       "1    4325.0  4637.0    74.0        4682.0      5960.0       117.0   \n",
       "2    4956.0  7772.0   136.0        5435.0      8096.0       162.0   \n",
       "3    5217.0  5647.0   142.0        5017.0      5355.0       122.0   \n",
       "4    2827.0  3218.0     3.0        3043.0      3797.0         3.0   \n",
       "\n",
       "   golddiffat15  xpdiffat15  csdiffat15  killsat15  assistsat15  deathsat15   \n",
       "0         322.0       263.0        12.0        0.0          0.0         0.0  \\\n",
       "1        -357.0     -1323.0       -43.0        0.0          0.0         0.0   \n",
       "2        -479.0      -324.0       -26.0        0.0          0.0         0.0   \n",
       "3         200.0       292.0        20.0        0.0          0.0         0.0   \n",
       "4        -216.0      -579.0         0.0        0.0          0.0         1.0   \n",
       "\n",
       "   opp_killsat15  opp_assistsat15  opp_deathsat15   kda   kd         gpm   \n",
       "0            0.0              0.0             0.0   inf  inf  433.116386  \\\n",
       "1            0.0              0.0             0.0   3.0  1.0  277.534456   \n",
       "2            0.0              0.0             0.0   6.5  1.0  361.148545   \n",
       "3            1.0              0.0             0.0  12.0  5.0  398.131700   \n",
       "4            0.0              1.0             0.0   5.0  0.0  202.511485   \n",
       "\n",
       "         gdpm  goldshare  \n",
       "0  162.151608   0.258972  \n",
       "1    8.522205   0.165946  \n",
       "2   36.592649   0.215941  \n",
       "3   11.692190   0.238054  \n",
       "4   12.174579   0.121087  "
      ]
     },
     "execution_count": 9,
     "metadata": {},
     "output_type": "execute_result"
    }
   ],
   "source": [
    "matches_data.head()"
   ]
  },
  {
   "cell_type": "code",
   "execution_count": 10,
   "metadata": {},
   "outputs": [
    {
     "data": {
      "text/html": [
       "<div>\n",
       "<style scoped>\n",
       "    .dataframe tbody tr th:only-of-type {\n",
       "        vertical-align: middle;\n",
       "    }\n",
       "\n",
       "    .dataframe tbody tr th {\n",
       "        vertical-align: top;\n",
       "    }\n",
       "\n",
       "    .dataframe thead th {\n",
       "        text-align: right;\n",
       "    }\n",
       "</style>\n",
       "<table border=\"1\" class=\"dataframe\">\n",
       "  <thead>\n",
       "    <tr style=\"text-align: right;\">\n",
       "      <th></th>\n",
       "      <th>index</th>\n",
       "      <th>gameid</th>\n",
       "      <th>datacompleteness</th>\n",
       "      <th>url</th>\n",
       "      <th>league</th>\n",
       "      <th>year</th>\n",
       "      <th>split</th>\n",
       "      <th>playoffs</th>\n",
       "      <th>date</th>\n",
       "      <th>game</th>\n",
       "      <th>patch</th>\n",
       "      <th>participantid</th>\n",
       "      <th>side</th>\n",
       "      <th>position</th>\n",
       "      <th>playername</th>\n",
       "      <th>playerid</th>\n",
       "      <th>teamname</th>\n",
       "      <th>teamid</th>\n",
       "      <th>champion</th>\n",
       "      <th>ban1</th>\n",
       "      <th>ban2</th>\n",
       "      <th>ban3</th>\n",
       "      <th>ban4</th>\n",
       "      <th>ban5</th>\n",
       "      <th>gamelength</th>\n",
       "      <th>result</th>\n",
       "      <th>kills</th>\n",
       "      <th>deaths</th>\n",
       "      <th>assists</th>\n",
       "      <th>teamkills</th>\n",
       "      <th>teamdeaths</th>\n",
       "      <th>doublekills</th>\n",
       "      <th>triplekills</th>\n",
       "      <th>quadrakills</th>\n",
       "      <th>pentakills</th>\n",
       "      <th>firstblood</th>\n",
       "      <th>firstbloodkill</th>\n",
       "      <th>firstbloodassist</th>\n",
       "      <th>firstbloodvictim</th>\n",
       "      <th>team kpm</th>\n",
       "      <th>ckpm</th>\n",
       "      <th>firstdragon</th>\n",
       "      <th>dragons</th>\n",
       "      <th>opp_dragons</th>\n",
       "      <th>elementaldrakes</th>\n",
       "      <th>opp_elementaldrakes</th>\n",
       "      <th>infernals</th>\n",
       "      <th>mountains</th>\n",
       "      <th>clouds</th>\n",
       "      <th>oceans</th>\n",
       "      <th>chemtechs</th>\n",
       "      <th>hextechs</th>\n",
       "      <th>dragons (type unknown)</th>\n",
       "      <th>elders</th>\n",
       "      <th>opp_elders</th>\n",
       "      <th>firstherald</th>\n",
       "      <th>heralds</th>\n",
       "      <th>opp_heralds</th>\n",
       "      <th>firstbaron</th>\n",
       "      <th>barons</th>\n",
       "      <th>opp_barons</th>\n",
       "      <th>firsttower</th>\n",
       "      <th>towers</th>\n",
       "      <th>opp_towers</th>\n",
       "      <th>firstmidtower</th>\n",
       "      <th>firsttothreetowers</th>\n",
       "      <th>turretplates</th>\n",
       "      <th>opp_turretplates</th>\n",
       "      <th>inhibitors</th>\n",
       "      <th>opp_inhibitors</th>\n",
       "      <th>damagetochampions</th>\n",
       "      <th>dpm</th>\n",
       "      <th>damageshare</th>\n",
       "      <th>damagetakenperminute</th>\n",
       "      <th>damagemitigatedperminute</th>\n",
       "      <th>wardsplaced</th>\n",
       "      <th>wpm</th>\n",
       "      <th>wardskilled</th>\n",
       "      <th>wcpm</th>\n",
       "      <th>controlwardsbought</th>\n",
       "      <th>visionscore</th>\n",
       "      <th>vspm</th>\n",
       "      <th>totalgold</th>\n",
       "      <th>earnedgold</th>\n",
       "      <th>earned gpm</th>\n",
       "      <th>earnedgoldshare</th>\n",
       "      <th>goldspent</th>\n",
       "      <th>gspd</th>\n",
       "      <th>total cs</th>\n",
       "      <th>minionkills</th>\n",
       "      <th>monsterkills</th>\n",
       "      <th>monsterkillsownjungle</th>\n",
       "      <th>monsterkillsenemyjungle</th>\n",
       "      <th>cspm</th>\n",
       "      <th>goldat10</th>\n",
       "      <th>xpat10</th>\n",
       "      <th>csat10</th>\n",
       "      <th>opp_goldat10</th>\n",
       "      <th>opp_xpat10</th>\n",
       "      <th>opp_csat10</th>\n",
       "      <th>golddiffat10</th>\n",
       "      <th>xpdiffat10</th>\n",
       "      <th>csdiffat10</th>\n",
       "      <th>killsat10</th>\n",
       "      <th>assistsat10</th>\n",
       "      <th>deathsat10</th>\n",
       "      <th>opp_killsat10</th>\n",
       "      <th>opp_assistsat10</th>\n",
       "      <th>opp_deathsat10</th>\n",
       "      <th>goldat15</th>\n",
       "      <th>xpat15</th>\n",
       "      <th>csat15</th>\n",
       "      <th>opp_goldat15</th>\n",
       "      <th>opp_xpat15</th>\n",
       "      <th>opp_csat15</th>\n",
       "      <th>golddiffat15</th>\n",
       "      <th>xpdiffat15</th>\n",
       "      <th>csdiffat15</th>\n",
       "      <th>killsat15</th>\n",
       "      <th>assistsat15</th>\n",
       "      <th>deathsat15</th>\n",
       "      <th>opp_killsat15</th>\n",
       "      <th>opp_assistsat15</th>\n",
       "      <th>opp_deathsat15</th>\n",
       "      <th>kda</th>\n",
       "      <th>kd</th>\n",
       "      <th>gpm</th>\n",
       "      <th>gdpm</th>\n",
       "      <th>goldshare</th>\n",
       "    </tr>\n",
       "  </thead>\n",
       "  <tbody>\n",
       "    <tr>\n",
       "      <th>67572</th>\n",
       "      <td>67572</td>\n",
       "      <td>ESPORTSTMNT03_3167508</td>\n",
       "      <td>complete</td>\n",
       "      <td>NaN</td>\n",
       "      <td>LCK</td>\n",
       "      <td>2023</td>\n",
       "      <td>Summer</td>\n",
       "      <td>0</td>\n",
       "      <td>2023-06-07 08:11:03</td>\n",
       "      <td>1</td>\n",
       "      <td>13.10</td>\n",
       "      <td>1</td>\n",
       "      <td>Blue</td>\n",
       "      <td>top</td>\n",
       "      <td>Kiin</td>\n",
       "      <td>oe:player:03daae1844b9ad257324c3eedf41e28</td>\n",
       "      <td>KT Rolster</td>\n",
       "      <td>oe:team:d723992568441c6bafa2658129eade7</td>\n",
       "      <td>Malphite</td>\n",
       "      <td>Vi</td>\n",
       "      <td>Maokai</td>\n",
       "      <td>Lucian</td>\n",
       "      <td>Lulu</td>\n",
       "      <td>Ornn</td>\n",
       "      <td>1894</td>\n",
       "      <td>1</td>\n",
       "      <td>2</td>\n",
       "      <td>1</td>\n",
       "      <td>9</td>\n",
       "      <td>12</td>\n",
       "      <td>6</td>\n",
       "      <td>0.0</td>\n",
       "      <td>0.0</td>\n",
       "      <td>0.0</td>\n",
       "      <td>0.0</td>\n",
       "      <td>0.0</td>\n",
       "      <td>0.0</td>\n",
       "      <td>0.0</td>\n",
       "      <td>0.0</td>\n",
       "      <td>0.3801</td>\n",
       "      <td>0.5702</td>\n",
       "      <td>NaN</td>\n",
       "      <td>NaN</td>\n",
       "      <td>NaN</td>\n",
       "      <td>NaN</td>\n",
       "      <td>NaN</td>\n",
       "      <td>NaN</td>\n",
       "      <td>NaN</td>\n",
       "      <td>NaN</td>\n",
       "      <td>NaN</td>\n",
       "      <td>NaN</td>\n",
       "      <td>NaN</td>\n",
       "      <td>NaN</td>\n",
       "      <td>NaN</td>\n",
       "      <td>NaN</td>\n",
       "      <td>NaN</td>\n",
       "      <td>NaN</td>\n",
       "      <td>NaN</td>\n",
       "      <td>NaN</td>\n",
       "      <td>0.0</td>\n",
       "      <td>0.0</td>\n",
       "      <td>NaN</td>\n",
       "      <td>NaN</td>\n",
       "      <td>NaN</td>\n",
       "      <td>NaN</td>\n",
       "      <td>NaN</td>\n",
       "      <td>NaN</td>\n",
       "      <td>NaN</td>\n",
       "      <td>0.0</td>\n",
       "      <td>0.0</td>\n",
       "      <td>17628</td>\n",
       "      <td>558.4372</td>\n",
       "      <td>0.277716</td>\n",
       "      <td>661.4572</td>\n",
       "      <td>1947.4974</td>\n",
       "      <td>11</td>\n",
       "      <td>0.3485</td>\n",
       "      <td>10</td>\n",
       "      <td>0.3168</td>\n",
       "      <td>6</td>\n",
       "      <td>37</td>\n",
       "      <td>1.1721</td>\n",
       "      <td>12665</td>\n",
       "      <td>8526</td>\n",
       "      <td>270.0950</td>\n",
       "      <td>0.221542</td>\n",
       "      <td>11800</td>\n",
       "      <td>NaN</td>\n",
       "      <td>285.0</td>\n",
       "      <td>281.0</td>\n",
       "      <td>4</td>\n",
       "      <td>NaN</td>\n",
       "      <td>NaN</td>\n",
       "      <td>9.0285</td>\n",
       "      <td>3373.0</td>\n",
       "      <td>5212.0</td>\n",
       "      <td>95.0</td>\n",
       "      <td>3676.0</td>\n",
       "      <td>5212.0</td>\n",
       "      <td>98.0</td>\n",
       "      <td>-303.0</td>\n",
       "      <td>0.0</td>\n",
       "      <td>-3.0</td>\n",
       "      <td>0.0</td>\n",
       "      <td>0.0</td>\n",
       "      <td>0.0</td>\n",
       "      <td>0.0</td>\n",
       "      <td>0.0</td>\n",
       "      <td>0.0</td>\n",
       "      <td>5153.0</td>\n",
       "      <td>8046.0</td>\n",
       "      <td>146.0</td>\n",
       "      <td>5274.0</td>\n",
       "      <td>7985.0</td>\n",
       "      <td>147.0</td>\n",
       "      <td>-121.0</td>\n",
       "      <td>61.0</td>\n",
       "      <td>-1.0</td>\n",
       "      <td>0.0</td>\n",
       "      <td>0.0</td>\n",
       "      <td>0.0</td>\n",
       "      <td>0.0</td>\n",
       "      <td>0.0</td>\n",
       "      <td>0.0</td>\n",
       "      <td>11.0</td>\n",
       "      <td>2.0</td>\n",
       "      <td>401.214361</td>\n",
       "      <td>53.315734</td>\n",
       "      <td>0.214008</td>\n",
       "    </tr>\n",
       "    <tr>\n",
       "      <th>67573</th>\n",
       "      <td>67573</td>\n",
       "      <td>ESPORTSTMNT03_3167508</td>\n",
       "      <td>complete</td>\n",
       "      <td>NaN</td>\n",
       "      <td>LCK</td>\n",
       "      <td>2023</td>\n",
       "      <td>Summer</td>\n",
       "      <td>0</td>\n",
       "      <td>2023-06-07 08:11:03</td>\n",
       "      <td>1</td>\n",
       "      <td>13.10</td>\n",
       "      <td>2</td>\n",
       "      <td>Blue</td>\n",
       "      <td>jng</td>\n",
       "      <td>Cuzz</td>\n",
       "      <td>oe:player:f9fe6d28d5b67bf9ac673b2cc8edf15</td>\n",
       "      <td>KT Rolster</td>\n",
       "      <td>oe:team:d723992568441c6bafa2658129eade7</td>\n",
       "      <td>Viego</td>\n",
       "      <td>Vi</td>\n",
       "      <td>Maokai</td>\n",
       "      <td>Lucian</td>\n",
       "      <td>Lulu</td>\n",
       "      <td>Ornn</td>\n",
       "      <td>1894</td>\n",
       "      <td>1</td>\n",
       "      <td>5</td>\n",
       "      <td>1</td>\n",
       "      <td>5</td>\n",
       "      <td>12</td>\n",
       "      <td>6</td>\n",
       "      <td>2.0</td>\n",
       "      <td>1.0</td>\n",
       "      <td>0.0</td>\n",
       "      <td>0.0</td>\n",
       "      <td>0.0</td>\n",
       "      <td>0.0</td>\n",
       "      <td>0.0</td>\n",
       "      <td>1.0</td>\n",
       "      <td>0.3801</td>\n",
       "      <td>0.5702</td>\n",
       "      <td>NaN</td>\n",
       "      <td>NaN</td>\n",
       "      <td>NaN</td>\n",
       "      <td>NaN</td>\n",
       "      <td>NaN</td>\n",
       "      <td>NaN</td>\n",
       "      <td>NaN</td>\n",
       "      <td>NaN</td>\n",
       "      <td>NaN</td>\n",
       "      <td>NaN</td>\n",
       "      <td>NaN</td>\n",
       "      <td>NaN</td>\n",
       "      <td>NaN</td>\n",
       "      <td>NaN</td>\n",
       "      <td>NaN</td>\n",
       "      <td>NaN</td>\n",
       "      <td>NaN</td>\n",
       "      <td>NaN</td>\n",
       "      <td>1.0</td>\n",
       "      <td>0.0</td>\n",
       "      <td>NaN</td>\n",
       "      <td>NaN</td>\n",
       "      <td>NaN</td>\n",
       "      <td>NaN</td>\n",
       "      <td>NaN</td>\n",
       "      <td>NaN</td>\n",
       "      <td>NaN</td>\n",
       "      <td>0.0</td>\n",
       "      <td>0.0</td>\n",
       "      <td>13080</td>\n",
       "      <td>414.3611</td>\n",
       "      <td>0.206065</td>\n",
       "      <td>806.1035</td>\n",
       "      <td>970.7075</td>\n",
       "      <td>14</td>\n",
       "      <td>0.4435</td>\n",
       "      <td>20</td>\n",
       "      <td>0.6336</td>\n",
       "      <td>22</td>\n",
       "      <td>63</td>\n",
       "      <td>1.9958</td>\n",
       "      <td>12416</td>\n",
       "      <td>8277</td>\n",
       "      <td>262.2070</td>\n",
       "      <td>0.215072</td>\n",
       "      <td>11225</td>\n",
       "      <td>NaN</td>\n",
       "      <td>214.0</td>\n",
       "      <td>23.0</td>\n",
       "      <td>191</td>\n",
       "      <td>NaN</td>\n",
       "      <td>NaN</td>\n",
       "      <td>6.7793</td>\n",
       "      <td>3334.0</td>\n",
       "      <td>3779.0</td>\n",
       "      <td>78.0</td>\n",
       "      <td>3256.0</td>\n",
       "      <td>3652.0</td>\n",
       "      <td>71.0</td>\n",
       "      <td>78.0</td>\n",
       "      <td>127.0</td>\n",
       "      <td>7.0</td>\n",
       "      <td>0.0</td>\n",
       "      <td>0.0</td>\n",
       "      <td>1.0</td>\n",
       "      <td>0.0</td>\n",
       "      <td>0.0</td>\n",
       "      <td>0.0</td>\n",
       "      <td>4884.0</td>\n",
       "      <td>5891.0</td>\n",
       "      <td>117.0</td>\n",
       "      <td>5011.0</td>\n",
       "      <td>5448.0</td>\n",
       "      <td>106.0</td>\n",
       "      <td>-127.0</td>\n",
       "      <td>443.0</td>\n",
       "      <td>11.0</td>\n",
       "      <td>0.0</td>\n",
       "      <td>0.0</td>\n",
       "      <td>1.0</td>\n",
       "      <td>0.0</td>\n",
       "      <td>0.0</td>\n",
       "      <td>0.0</td>\n",
       "      <td>10.0</td>\n",
       "      <td>5.0</td>\n",
       "      <td>393.326294</td>\n",
       "      <td>61.805702</td>\n",
       "      <td>0.209801</td>\n",
       "    </tr>\n",
       "    <tr>\n",
       "      <th>67574</th>\n",
       "      <td>67574</td>\n",
       "      <td>ESPORTSTMNT03_3167508</td>\n",
       "      <td>complete</td>\n",
       "      <td>NaN</td>\n",
       "      <td>LCK</td>\n",
       "      <td>2023</td>\n",
       "      <td>Summer</td>\n",
       "      <td>0</td>\n",
       "      <td>2023-06-07 08:11:03</td>\n",
       "      <td>1</td>\n",
       "      <td>13.10</td>\n",
       "      <td>3</td>\n",
       "      <td>Blue</td>\n",
       "      <td>mid</td>\n",
       "      <td>Bdd</td>\n",
       "      <td>oe:player:30361653a485a9609fb2d3aa073282c</td>\n",
       "      <td>KT Rolster</td>\n",
       "      <td>oe:team:d723992568441c6bafa2658129eade7</td>\n",
       "      <td>Annie</td>\n",
       "      <td>Vi</td>\n",
       "      <td>Maokai</td>\n",
       "      <td>Lucian</td>\n",
       "      <td>Lulu</td>\n",
       "      <td>Ornn</td>\n",
       "      <td>1894</td>\n",
       "      <td>1</td>\n",
       "      <td>2</td>\n",
       "      <td>2</td>\n",
       "      <td>10</td>\n",
       "      <td>12</td>\n",
       "      <td>6</td>\n",
       "      <td>0.0</td>\n",
       "      <td>0.0</td>\n",
       "      <td>0.0</td>\n",
       "      <td>0.0</td>\n",
       "      <td>0.0</td>\n",
       "      <td>0.0</td>\n",
       "      <td>0.0</td>\n",
       "      <td>0.0</td>\n",
       "      <td>0.3801</td>\n",
       "      <td>0.5702</td>\n",
       "      <td>NaN</td>\n",
       "      <td>NaN</td>\n",
       "      <td>NaN</td>\n",
       "      <td>NaN</td>\n",
       "      <td>NaN</td>\n",
       "      <td>NaN</td>\n",
       "      <td>NaN</td>\n",
       "      <td>NaN</td>\n",
       "      <td>NaN</td>\n",
       "      <td>NaN</td>\n",
       "      <td>NaN</td>\n",
       "      <td>NaN</td>\n",
       "      <td>NaN</td>\n",
       "      <td>NaN</td>\n",
       "      <td>NaN</td>\n",
       "      <td>NaN</td>\n",
       "      <td>NaN</td>\n",
       "      <td>NaN</td>\n",
       "      <td>0.0</td>\n",
       "      <td>0.0</td>\n",
       "      <td>NaN</td>\n",
       "      <td>NaN</td>\n",
       "      <td>NaN</td>\n",
       "      <td>NaN</td>\n",
       "      <td>NaN</td>\n",
       "      <td>NaN</td>\n",
       "      <td>NaN</td>\n",
       "      <td>1.0</td>\n",
       "      <td>0.0</td>\n",
       "      <td>15295</td>\n",
       "      <td>484.5301</td>\n",
       "      <td>0.240961</td>\n",
       "      <td>330.3168</td>\n",
       "      <td>291.0982</td>\n",
       "      <td>24</td>\n",
       "      <td>0.7603</td>\n",
       "      <td>7</td>\n",
       "      <td>0.2218</td>\n",
       "      <td>13</td>\n",
       "      <td>42</td>\n",
       "      <td>1.3305</td>\n",
       "      <td>13085</td>\n",
       "      <td>8946</td>\n",
       "      <td>283.4002</td>\n",
       "      <td>0.232456</td>\n",
       "      <td>12475</td>\n",
       "      <td>NaN</td>\n",
       "      <td>293.0</td>\n",
       "      <td>293.0</td>\n",
       "      <td>0</td>\n",
       "      <td>NaN</td>\n",
       "      <td>NaN</td>\n",
       "      <td>9.2819</td>\n",
       "      <td>3526.0</td>\n",
       "      <td>5066.0</td>\n",
       "      <td>99.0</td>\n",
       "      <td>3509.0</td>\n",
       "      <td>4208.0</td>\n",
       "      <td>80.0</td>\n",
       "      <td>17.0</td>\n",
       "      <td>858.0</td>\n",
       "      <td>19.0</td>\n",
       "      <td>0.0</td>\n",
       "      <td>0.0</td>\n",
       "      <td>0.0</td>\n",
       "      <td>1.0</td>\n",
       "      <td>0.0</td>\n",
       "      <td>0.0</td>\n",
       "      <td>5425.0</td>\n",
       "      <td>8471.0</td>\n",
       "      <td>163.0</td>\n",
       "      <td>5265.0</td>\n",
       "      <td>7040.0</td>\n",
       "      <td>134.0</td>\n",
       "      <td>160.0</td>\n",
       "      <td>1431.0</td>\n",
       "      <td>29.0</td>\n",
       "      <td>0.0</td>\n",
       "      <td>0.0</td>\n",
       "      <td>0.0</td>\n",
       "      <td>1.0</td>\n",
       "      <td>0.0</td>\n",
       "      <td>0.0</td>\n",
       "      <td>6.0</td>\n",
       "      <td>1.0</td>\n",
       "      <td>414.519535</td>\n",
       "      <td>47.771911</td>\n",
       "      <td>0.221105</td>\n",
       "    </tr>\n",
       "    <tr>\n",
       "      <th>67575</th>\n",
       "      <td>67575</td>\n",
       "      <td>ESPORTSTMNT03_3167508</td>\n",
       "      <td>complete</td>\n",
       "      <td>NaN</td>\n",
       "      <td>LCK</td>\n",
       "      <td>2023</td>\n",
       "      <td>Summer</td>\n",
       "      <td>0</td>\n",
       "      <td>2023-06-07 08:11:03</td>\n",
       "      <td>1</td>\n",
       "      <td>13.10</td>\n",
       "      <td>4</td>\n",
       "      <td>Blue</td>\n",
       "      <td>bot</td>\n",
       "      <td>Aiming</td>\n",
       "      <td>oe:player:85104684d1eb7f4c0ce393441a0b669</td>\n",
       "      <td>KT Rolster</td>\n",
       "      <td>oe:team:d723992568441c6bafa2658129eade7</td>\n",
       "      <td>Ezreal</td>\n",
       "      <td>Vi</td>\n",
       "      <td>Maokai</td>\n",
       "      <td>Lucian</td>\n",
       "      <td>Lulu</td>\n",
       "      <td>Ornn</td>\n",
       "      <td>1894</td>\n",
       "      <td>1</td>\n",
       "      <td>2</td>\n",
       "      <td>1</td>\n",
       "      <td>3</td>\n",
       "      <td>12</td>\n",
       "      <td>6</td>\n",
       "      <td>0.0</td>\n",
       "      <td>0.0</td>\n",
       "      <td>0.0</td>\n",
       "      <td>0.0</td>\n",
       "      <td>0.0</td>\n",
       "      <td>0.0</td>\n",
       "      <td>0.0</td>\n",
       "      <td>0.0</td>\n",
       "      <td>0.3801</td>\n",
       "      <td>0.5702</td>\n",
       "      <td>NaN</td>\n",
       "      <td>NaN</td>\n",
       "      <td>NaN</td>\n",
       "      <td>NaN</td>\n",
       "      <td>NaN</td>\n",
       "      <td>NaN</td>\n",
       "      <td>NaN</td>\n",
       "      <td>NaN</td>\n",
       "      <td>NaN</td>\n",
       "      <td>NaN</td>\n",
       "      <td>NaN</td>\n",
       "      <td>NaN</td>\n",
       "      <td>NaN</td>\n",
       "      <td>NaN</td>\n",
       "      <td>NaN</td>\n",
       "      <td>NaN</td>\n",
       "      <td>NaN</td>\n",
       "      <td>NaN</td>\n",
       "      <td>0.0</td>\n",
       "      <td>0.0</td>\n",
       "      <td>NaN</td>\n",
       "      <td>NaN</td>\n",
       "      <td>NaN</td>\n",
       "      <td>NaN</td>\n",
       "      <td>NaN</td>\n",
       "      <td>NaN</td>\n",
       "      <td>NaN</td>\n",
       "      <td>1.0</td>\n",
       "      <td>0.0</td>\n",
       "      <td>13502</td>\n",
       "      <td>427.7297</td>\n",
       "      <td>0.212714</td>\n",
       "      <td>372.9884</td>\n",
       "      <td>235.1531</td>\n",
       "      <td>14</td>\n",
       "      <td>0.4435</td>\n",
       "      <td>15</td>\n",
       "      <td>0.4752</td>\n",
       "      <td>4</td>\n",
       "      <td>39</td>\n",
       "      <td>1.2355</td>\n",
       "      <td>13456</td>\n",
       "      <td>9317</td>\n",
       "      <td>295.1531</td>\n",
       "      <td>0.242096</td>\n",
       "      <td>12483</td>\n",
       "      <td>NaN</td>\n",
       "      <td>310.0</td>\n",
       "      <td>298.0</td>\n",
       "      <td>12</td>\n",
       "      <td>NaN</td>\n",
       "      <td>NaN</td>\n",
       "      <td>9.8205</td>\n",
       "      <td>3403.0</td>\n",
       "      <td>3111.0</td>\n",
       "      <td>83.0</td>\n",
       "      <td>3935.0</td>\n",
       "      <td>3729.0</td>\n",
       "      <td>101.0</td>\n",
       "      <td>-532.0</td>\n",
       "      <td>-618.0</td>\n",
       "      <td>-18.0</td>\n",
       "      <td>0.0</td>\n",
       "      <td>0.0</td>\n",
       "      <td>0.0</td>\n",
       "      <td>0.0</td>\n",
       "      <td>0.0</td>\n",
       "      <td>0.0</td>\n",
       "      <td>5309.0</td>\n",
       "      <td>5166.0</td>\n",
       "      <td>142.0</td>\n",
       "      <td>5674.0</td>\n",
       "      <td>6162.0</td>\n",
       "      <td>155.0</td>\n",
       "      <td>-365.0</td>\n",
       "      <td>-996.0</td>\n",
       "      <td>-13.0</td>\n",
       "      <td>0.0</td>\n",
       "      <td>0.0</td>\n",
       "      <td>0.0</td>\n",
       "      <td>0.0</td>\n",
       "      <td>0.0</td>\n",
       "      <td>0.0</td>\n",
       "      <td>5.0</td>\n",
       "      <td>2.0</td>\n",
       "      <td>426.272439</td>\n",
       "      <td>14.128828</td>\n",
       "      <td>0.227374</td>\n",
       "    </tr>\n",
       "    <tr>\n",
       "      <th>67576</th>\n",
       "      <td>67576</td>\n",
       "      <td>ESPORTSTMNT03_3167508</td>\n",
       "      <td>complete</td>\n",
       "      <td>NaN</td>\n",
       "      <td>LCK</td>\n",
       "      <td>2023</td>\n",
       "      <td>Summer</td>\n",
       "      <td>0</td>\n",
       "      <td>2023-06-07 08:11:03</td>\n",
       "      <td>1</td>\n",
       "      <td>13.10</td>\n",
       "      <td>5</td>\n",
       "      <td>Blue</td>\n",
       "      <td>sup</td>\n",
       "      <td>Lehends</td>\n",
       "      <td>oe:player:e4e24b8656e4e6a74b939af730b0148</td>\n",
       "      <td>KT Rolster</td>\n",
       "      <td>oe:team:d723992568441c6bafa2658129eade7</td>\n",
       "      <td>Yuumi</td>\n",
       "      <td>Vi</td>\n",
       "      <td>Maokai</td>\n",
       "      <td>Lucian</td>\n",
       "      <td>Lulu</td>\n",
       "      <td>Ornn</td>\n",
       "      <td>1894</td>\n",
       "      <td>1</td>\n",
       "      <td>1</td>\n",
       "      <td>1</td>\n",
       "      <td>8</td>\n",
       "      <td>12</td>\n",
       "      <td>6</td>\n",
       "      <td>0.0</td>\n",
       "      <td>0.0</td>\n",
       "      <td>0.0</td>\n",
       "      <td>0.0</td>\n",
       "      <td>0.0</td>\n",
       "      <td>0.0</td>\n",
       "      <td>0.0</td>\n",
       "      <td>0.0</td>\n",
       "      <td>0.3801</td>\n",
       "      <td>0.5702</td>\n",
       "      <td>NaN</td>\n",
       "      <td>NaN</td>\n",
       "      <td>NaN</td>\n",
       "      <td>NaN</td>\n",
       "      <td>NaN</td>\n",
       "      <td>NaN</td>\n",
       "      <td>NaN</td>\n",
       "      <td>NaN</td>\n",
       "      <td>NaN</td>\n",
       "      <td>NaN</td>\n",
       "      <td>NaN</td>\n",
       "      <td>NaN</td>\n",
       "      <td>NaN</td>\n",
       "      <td>NaN</td>\n",
       "      <td>NaN</td>\n",
       "      <td>NaN</td>\n",
       "      <td>NaN</td>\n",
       "      <td>NaN</td>\n",
       "      <td>0.0</td>\n",
       "      <td>0.0</td>\n",
       "      <td>NaN</td>\n",
       "      <td>NaN</td>\n",
       "      <td>NaN</td>\n",
       "      <td>NaN</td>\n",
       "      <td>NaN</td>\n",
       "      <td>NaN</td>\n",
       "      <td>NaN</td>\n",
       "      <td>0.0</td>\n",
       "      <td>0.0</td>\n",
       "      <td>3970</td>\n",
       "      <td>125.7656</td>\n",
       "      <td>0.062544</td>\n",
       "      <td>113.4741</td>\n",
       "      <td>58.2577</td>\n",
       "      <td>38</td>\n",
       "      <td>1.2038</td>\n",
       "      <td>2</td>\n",
       "      <td>0.0634</td>\n",
       "      <td>10</td>\n",
       "      <td>66</td>\n",
       "      <td>2.0908</td>\n",
       "      <td>7558</td>\n",
       "      <td>3419</td>\n",
       "      <td>108.3105</td>\n",
       "      <td>0.088835</td>\n",
       "      <td>6650</td>\n",
       "      <td>NaN</td>\n",
       "      <td>11.0</td>\n",
       "      <td>11.0</td>\n",
       "      <td>0</td>\n",
       "      <td>NaN</td>\n",
       "      <td>NaN</td>\n",
       "      <td>0.3485</td>\n",
       "      <td>2109.0</td>\n",
       "      <td>2740.0</td>\n",
       "      <td>4.0</td>\n",
       "      <td>2272.0</td>\n",
       "      <td>2454.0</td>\n",
       "      <td>15.0</td>\n",
       "      <td>-163.0</td>\n",
       "      <td>286.0</td>\n",
       "      <td>-11.0</td>\n",
       "      <td>0.0</td>\n",
       "      <td>0.0</td>\n",
       "      <td>0.0</td>\n",
       "      <td>0.0</td>\n",
       "      <td>1.0</td>\n",
       "      <td>0.0</td>\n",
       "      <td>2936.0</td>\n",
       "      <td>4236.0</td>\n",
       "      <td>6.0</td>\n",
       "      <td>3152.0</td>\n",
       "      <td>3303.0</td>\n",
       "      <td>21.0</td>\n",
       "      <td>-216.0</td>\n",
       "      <td>933.0</td>\n",
       "      <td>-15.0</td>\n",
       "      <td>0.0</td>\n",
       "      <td>0.0</td>\n",
       "      <td>0.0</td>\n",
       "      <td>0.0</td>\n",
       "      <td>1.0</td>\n",
       "      <td>0.0</td>\n",
       "      <td>9.0</td>\n",
       "      <td>1.0</td>\n",
       "      <td>239.429778</td>\n",
       "      <td>35.100317</td>\n",
       "      <td>0.127712</td>\n",
       "    </tr>\n",
       "  </tbody>\n",
       "</table>\n",
       "</div>"
      ],
      "text/plain": [
       "       index                 gameid datacompleteness  url league  year   \n",
       "67572  67572  ESPORTSTMNT03_3167508         complete  NaN    LCK  2023  \\\n",
       "67573  67573  ESPORTSTMNT03_3167508         complete  NaN    LCK  2023   \n",
       "67574  67574  ESPORTSTMNT03_3167508         complete  NaN    LCK  2023   \n",
       "67575  67575  ESPORTSTMNT03_3167508         complete  NaN    LCK  2023   \n",
       "67576  67576  ESPORTSTMNT03_3167508         complete  NaN    LCK  2023   \n",
       "\n",
       "        split  playoffs                 date  game  patch  participantid   \n",
       "67572  Summer         0  2023-06-07 08:11:03     1  13.10              1  \\\n",
       "67573  Summer         0  2023-06-07 08:11:03     1  13.10              2   \n",
       "67574  Summer         0  2023-06-07 08:11:03     1  13.10              3   \n",
       "67575  Summer         0  2023-06-07 08:11:03     1  13.10              4   \n",
       "67576  Summer         0  2023-06-07 08:11:03     1  13.10              5   \n",
       "\n",
       "       side position playername                                   playerid   \n",
       "67572  Blue      top       Kiin  oe:player:03daae1844b9ad257324c3eedf41e28  \\\n",
       "67573  Blue      jng       Cuzz  oe:player:f9fe6d28d5b67bf9ac673b2cc8edf15   \n",
       "67574  Blue      mid        Bdd  oe:player:30361653a485a9609fb2d3aa073282c   \n",
       "67575  Blue      bot     Aiming  oe:player:85104684d1eb7f4c0ce393441a0b669   \n",
       "67576  Blue      sup    Lehends  oe:player:e4e24b8656e4e6a74b939af730b0148   \n",
       "\n",
       "         teamname                                   teamid  champion ban1   \n",
       "67572  KT Rolster  oe:team:d723992568441c6bafa2658129eade7  Malphite   Vi  \\\n",
       "67573  KT Rolster  oe:team:d723992568441c6bafa2658129eade7     Viego   Vi   \n",
       "67574  KT Rolster  oe:team:d723992568441c6bafa2658129eade7     Annie   Vi   \n",
       "67575  KT Rolster  oe:team:d723992568441c6bafa2658129eade7    Ezreal   Vi   \n",
       "67576  KT Rolster  oe:team:d723992568441c6bafa2658129eade7     Yuumi   Vi   \n",
       "\n",
       "         ban2    ban3  ban4  ban5  gamelength  result  kills  deaths  assists   \n",
       "67572  Maokai  Lucian  Lulu  Ornn        1894       1      2       1        9  \\\n",
       "67573  Maokai  Lucian  Lulu  Ornn        1894       1      5       1        5   \n",
       "67574  Maokai  Lucian  Lulu  Ornn        1894       1      2       2       10   \n",
       "67575  Maokai  Lucian  Lulu  Ornn        1894       1      2       1        3   \n",
       "67576  Maokai  Lucian  Lulu  Ornn        1894       1      1       1        8   \n",
       "\n",
       "       teamkills  teamdeaths  doublekills  triplekills  quadrakills   \n",
       "67572         12           6          0.0          0.0          0.0  \\\n",
       "67573         12           6          2.0          1.0          0.0   \n",
       "67574         12           6          0.0          0.0          0.0   \n",
       "67575         12           6          0.0          0.0          0.0   \n",
       "67576         12           6          0.0          0.0          0.0   \n",
       "\n",
       "       pentakills  firstblood  firstbloodkill  firstbloodassist   \n",
       "67572         0.0         0.0             0.0               0.0  \\\n",
       "67573         0.0         0.0             0.0               0.0   \n",
       "67574         0.0         0.0             0.0               0.0   \n",
       "67575         0.0         0.0             0.0               0.0   \n",
       "67576         0.0         0.0             0.0               0.0   \n",
       "\n",
       "       firstbloodvictim  team kpm    ckpm  firstdragon  dragons  opp_dragons   \n",
       "67572               0.0    0.3801  0.5702          NaN      NaN          NaN  \\\n",
       "67573               1.0    0.3801  0.5702          NaN      NaN          NaN   \n",
       "67574               0.0    0.3801  0.5702          NaN      NaN          NaN   \n",
       "67575               0.0    0.3801  0.5702          NaN      NaN          NaN   \n",
       "67576               0.0    0.3801  0.5702          NaN      NaN          NaN   \n",
       "\n",
       "       elementaldrakes  opp_elementaldrakes  infernals  mountains  clouds   \n",
       "67572              NaN                  NaN        NaN        NaN     NaN  \\\n",
       "67573              NaN                  NaN        NaN        NaN     NaN   \n",
       "67574              NaN                  NaN        NaN        NaN     NaN   \n",
       "67575              NaN                  NaN        NaN        NaN     NaN   \n",
       "67576              NaN                  NaN        NaN        NaN     NaN   \n",
       "\n",
       "       oceans  chemtechs  hextechs  dragons (type unknown)  elders   \n",
       "67572     NaN        NaN       NaN                     NaN     NaN  \\\n",
       "67573     NaN        NaN       NaN                     NaN     NaN   \n",
       "67574     NaN        NaN       NaN                     NaN     NaN   \n",
       "67575     NaN        NaN       NaN                     NaN     NaN   \n",
       "67576     NaN        NaN       NaN                     NaN     NaN   \n",
       "\n",
       "       opp_elders  firstherald  heralds  opp_heralds  firstbaron  barons   \n",
       "67572         NaN          NaN      NaN          NaN         NaN     0.0  \\\n",
       "67573         NaN          NaN      NaN          NaN         NaN     1.0   \n",
       "67574         NaN          NaN      NaN          NaN         NaN     0.0   \n",
       "67575         NaN          NaN      NaN          NaN         NaN     0.0   \n",
       "67576         NaN          NaN      NaN          NaN         NaN     0.0   \n",
       "\n",
       "       opp_barons  firsttower  towers  opp_towers  firstmidtower   \n",
       "67572         0.0         NaN     NaN         NaN            NaN  \\\n",
       "67573         0.0         NaN     NaN         NaN            NaN   \n",
       "67574         0.0         NaN     NaN         NaN            NaN   \n",
       "67575         0.0         NaN     NaN         NaN            NaN   \n",
       "67576         0.0         NaN     NaN         NaN            NaN   \n",
       "\n",
       "       firsttothreetowers  turretplates  opp_turretplates  inhibitors   \n",
       "67572                 NaN           NaN               NaN         0.0  \\\n",
       "67573                 NaN           NaN               NaN         0.0   \n",
       "67574                 NaN           NaN               NaN         1.0   \n",
       "67575                 NaN           NaN               NaN         1.0   \n",
       "67576                 NaN           NaN               NaN         0.0   \n",
       "\n",
       "       opp_inhibitors  damagetochampions       dpm  damageshare   \n",
       "67572             0.0              17628  558.4372     0.277716  \\\n",
       "67573             0.0              13080  414.3611     0.206065   \n",
       "67574             0.0              15295  484.5301     0.240961   \n",
       "67575             0.0              13502  427.7297     0.212714   \n",
       "67576             0.0               3970  125.7656     0.062544   \n",
       "\n",
       "       damagetakenperminute  damagemitigatedperminute  wardsplaced     wpm   \n",
       "67572              661.4572                 1947.4974           11  0.3485  \\\n",
       "67573              806.1035                  970.7075           14  0.4435   \n",
       "67574              330.3168                  291.0982           24  0.7603   \n",
       "67575              372.9884                  235.1531           14  0.4435   \n",
       "67576              113.4741                   58.2577           38  1.2038   \n",
       "\n",
       "       wardskilled    wcpm  controlwardsbought  visionscore    vspm   \n",
       "67572           10  0.3168                   6           37  1.1721  \\\n",
       "67573           20  0.6336                  22           63  1.9958   \n",
       "67574            7  0.2218                  13           42  1.3305   \n",
       "67575           15  0.4752                   4           39  1.2355   \n",
       "67576            2  0.0634                  10           66  2.0908   \n",
       "\n",
       "       totalgold  earnedgold  earned gpm  earnedgoldshare  goldspent  gspd   \n",
       "67572      12665        8526    270.0950         0.221542      11800   NaN  \\\n",
       "67573      12416        8277    262.2070         0.215072      11225   NaN   \n",
       "67574      13085        8946    283.4002         0.232456      12475   NaN   \n",
       "67575      13456        9317    295.1531         0.242096      12483   NaN   \n",
       "67576       7558        3419    108.3105         0.088835       6650   NaN   \n",
       "\n",
       "       total cs  minionkills  monsterkills  monsterkillsownjungle   \n",
       "67572     285.0        281.0             4                    NaN  \\\n",
       "67573     214.0         23.0           191                    NaN   \n",
       "67574     293.0        293.0             0                    NaN   \n",
       "67575     310.0        298.0            12                    NaN   \n",
       "67576      11.0         11.0             0                    NaN   \n",
       "\n",
       "       monsterkillsenemyjungle    cspm  goldat10  xpat10  csat10   \n",
       "67572                      NaN  9.0285    3373.0  5212.0    95.0  \\\n",
       "67573                      NaN  6.7793    3334.0  3779.0    78.0   \n",
       "67574                      NaN  9.2819    3526.0  5066.0    99.0   \n",
       "67575                      NaN  9.8205    3403.0  3111.0    83.0   \n",
       "67576                      NaN  0.3485    2109.0  2740.0     4.0   \n",
       "\n",
       "       opp_goldat10  opp_xpat10  opp_csat10  golddiffat10  xpdiffat10   \n",
       "67572        3676.0      5212.0        98.0        -303.0         0.0  \\\n",
       "67573        3256.0      3652.0        71.0          78.0       127.0   \n",
       "67574        3509.0      4208.0        80.0          17.0       858.0   \n",
       "67575        3935.0      3729.0       101.0        -532.0      -618.0   \n",
       "67576        2272.0      2454.0        15.0        -163.0       286.0   \n",
       "\n",
       "       csdiffat10  killsat10  assistsat10  deathsat10  opp_killsat10   \n",
       "67572        -3.0        0.0          0.0         0.0            0.0  \\\n",
       "67573         7.0        0.0          0.0         1.0            0.0   \n",
       "67574        19.0        0.0          0.0         0.0            1.0   \n",
       "67575       -18.0        0.0          0.0         0.0            0.0   \n",
       "67576       -11.0        0.0          0.0         0.0            0.0   \n",
       "\n",
       "       opp_assistsat10  opp_deathsat10  goldat15  xpat15  csat15   \n",
       "67572              0.0             0.0    5153.0  8046.0   146.0  \\\n",
       "67573              0.0             0.0    4884.0  5891.0   117.0   \n",
       "67574              0.0             0.0    5425.0  8471.0   163.0   \n",
       "67575              0.0             0.0    5309.0  5166.0   142.0   \n",
       "67576              1.0             0.0    2936.0  4236.0     6.0   \n",
       "\n",
       "       opp_goldat15  opp_xpat15  opp_csat15  golddiffat15  xpdiffat15   \n",
       "67572        5274.0      7985.0       147.0        -121.0        61.0  \\\n",
       "67573        5011.0      5448.0       106.0        -127.0       443.0   \n",
       "67574        5265.0      7040.0       134.0         160.0      1431.0   \n",
       "67575        5674.0      6162.0       155.0        -365.0      -996.0   \n",
       "67576        3152.0      3303.0        21.0        -216.0       933.0   \n",
       "\n",
       "       csdiffat15  killsat15  assistsat15  deathsat15  opp_killsat15   \n",
       "67572        -1.0        0.0          0.0         0.0            0.0  \\\n",
       "67573        11.0        0.0          0.0         1.0            0.0   \n",
       "67574        29.0        0.0          0.0         0.0            1.0   \n",
       "67575       -13.0        0.0          0.0         0.0            0.0   \n",
       "67576       -15.0        0.0          0.0         0.0            0.0   \n",
       "\n",
       "       opp_assistsat15  opp_deathsat15   kda   kd         gpm       gdpm   \n",
       "67572              0.0             0.0  11.0  2.0  401.214361  53.315734  \\\n",
       "67573              0.0             0.0  10.0  5.0  393.326294  61.805702   \n",
       "67574              0.0             0.0   6.0  1.0  414.519535  47.771911   \n",
       "67575              0.0             0.0   5.0  2.0  426.272439  14.128828   \n",
       "67576              1.0             0.0   9.0  1.0  239.429778  35.100317   \n",
       "\n",
       "       goldshare  \n",
       "67572   0.214008  \n",
       "67573   0.209801  \n",
       "67574   0.221105  \n",
       "67575   0.227374  \n",
       "67576   0.127712  "
      ]
     },
     "execution_count": 10,
     "metadata": {},
     "output_type": "execute_result"
    }
   ],
   "source": [
    "matches = get_matches(matches_data, \"LCK\", \"Summer\")\n",
    "matches.head()"
   ]
  },
  {
   "cell_type": "code",
   "execution_count": 11,
   "metadata": {},
   "outputs": [
    {
     "name": "stdout",
     "output_type": "stream",
     "text": [
      "(188, 129) (94, 37) True\n"
     ]
    },
    {
     "data": {
      "text/html": [
       "<div>\n",
       "<style scoped>\n",
       "    .dataframe tbody tr th:only-of-type {\n",
       "        vertical-align: middle;\n",
       "    }\n",
       "\n",
       "    .dataframe tbody tr th {\n",
       "        vertical-align: top;\n",
       "    }\n",
       "\n",
       "    .dataframe thead th {\n",
       "        text-align: right;\n",
       "    }\n",
       "</style>\n",
       "<table border=\"1\" class=\"dataframe\">\n",
       "  <thead>\n",
       "    <tr style=\"text-align: right;\">\n",
       "      <th></th>\n",
       "      <th>index</th>\n",
       "      <th>gameid</th>\n",
       "      <th>datacompleteness</th>\n",
       "      <th>url</th>\n",
       "      <th>league</th>\n",
       "      <th>year</th>\n",
       "      <th>split</th>\n",
       "      <th>playoffs</th>\n",
       "      <th>date</th>\n",
       "      <th>game</th>\n",
       "      <th>patch</th>\n",
       "      <th>participantid</th>\n",
       "      <th>side</th>\n",
       "      <th>position</th>\n",
       "      <th>playername</th>\n",
       "      <th>playerid</th>\n",
       "      <th>teamname</th>\n",
       "      <th>teamid</th>\n",
       "      <th>champion</th>\n",
       "      <th>ban1</th>\n",
       "      <th>ban2</th>\n",
       "      <th>ban3</th>\n",
       "      <th>ban4</th>\n",
       "      <th>ban5</th>\n",
       "      <th>gamelength</th>\n",
       "      <th>result</th>\n",
       "      <th>kills</th>\n",
       "      <th>deaths</th>\n",
       "      <th>assists</th>\n",
       "      <th>teamkills</th>\n",
       "      <th>teamdeaths</th>\n",
       "      <th>doublekills</th>\n",
       "      <th>triplekills</th>\n",
       "      <th>quadrakills</th>\n",
       "      <th>pentakills</th>\n",
       "      <th>firstblood</th>\n",
       "      <th>firstbloodkill</th>\n",
       "      <th>firstbloodassist</th>\n",
       "      <th>firstbloodvictim</th>\n",
       "      <th>team kpm</th>\n",
       "      <th>ckpm</th>\n",
       "      <th>firstdragon</th>\n",
       "      <th>dragons</th>\n",
       "      <th>opp_dragons</th>\n",
       "      <th>elementaldrakes</th>\n",
       "      <th>opp_elementaldrakes</th>\n",
       "      <th>infernals</th>\n",
       "      <th>mountains</th>\n",
       "      <th>clouds</th>\n",
       "      <th>oceans</th>\n",
       "      <th>chemtechs</th>\n",
       "      <th>hextechs</th>\n",
       "      <th>dragons (type unknown)</th>\n",
       "      <th>elders</th>\n",
       "      <th>opp_elders</th>\n",
       "      <th>firstherald</th>\n",
       "      <th>heralds</th>\n",
       "      <th>opp_heralds</th>\n",
       "      <th>firstbaron</th>\n",
       "      <th>barons</th>\n",
       "      <th>opp_barons</th>\n",
       "      <th>firsttower</th>\n",
       "      <th>towers</th>\n",
       "      <th>opp_towers</th>\n",
       "      <th>firstmidtower</th>\n",
       "      <th>firsttothreetowers</th>\n",
       "      <th>turretplates</th>\n",
       "      <th>opp_turretplates</th>\n",
       "      <th>inhibitors</th>\n",
       "      <th>opp_inhibitors</th>\n",
       "      <th>damagetochampions</th>\n",
       "      <th>dpm</th>\n",
       "      <th>damageshare</th>\n",
       "      <th>damagetakenperminute</th>\n",
       "      <th>damagemitigatedperminute</th>\n",
       "      <th>wardsplaced</th>\n",
       "      <th>wpm</th>\n",
       "      <th>wardskilled</th>\n",
       "      <th>wcpm</th>\n",
       "      <th>controlwardsbought</th>\n",
       "      <th>visionscore</th>\n",
       "      <th>vspm</th>\n",
       "      <th>totalgold</th>\n",
       "      <th>earnedgold</th>\n",
       "      <th>earned gpm</th>\n",
       "      <th>earnedgoldshare</th>\n",
       "      <th>goldspent</th>\n",
       "      <th>gspd</th>\n",
       "      <th>total cs</th>\n",
       "      <th>minionkills</th>\n",
       "      <th>monsterkills</th>\n",
       "      <th>monsterkillsownjungle</th>\n",
       "      <th>monsterkillsenemyjungle</th>\n",
       "      <th>cspm</th>\n",
       "      <th>goldat10</th>\n",
       "      <th>xpat10</th>\n",
       "      <th>csat10</th>\n",
       "      <th>opp_goldat10</th>\n",
       "      <th>opp_xpat10</th>\n",
       "      <th>opp_csat10</th>\n",
       "      <th>golddiffat10</th>\n",
       "      <th>xpdiffat10</th>\n",
       "      <th>csdiffat10</th>\n",
       "      <th>killsat10</th>\n",
       "      <th>assistsat10</th>\n",
       "      <th>deathsat10</th>\n",
       "      <th>opp_killsat10</th>\n",
       "      <th>opp_assistsat10</th>\n",
       "      <th>opp_deathsat10</th>\n",
       "      <th>goldat15</th>\n",
       "      <th>xpat15</th>\n",
       "      <th>csat15</th>\n",
       "      <th>opp_goldat15</th>\n",
       "      <th>opp_xpat15</th>\n",
       "      <th>opp_csat15</th>\n",
       "      <th>golddiffat15</th>\n",
       "      <th>xpdiffat15</th>\n",
       "      <th>csdiffat15</th>\n",
       "      <th>killsat15</th>\n",
       "      <th>assistsat15</th>\n",
       "      <th>deathsat15</th>\n",
       "      <th>opp_killsat15</th>\n",
       "      <th>opp_assistsat15</th>\n",
       "      <th>opp_deathsat15</th>\n",
       "      <th>kda</th>\n",
       "      <th>kd</th>\n",
       "      <th>gpm</th>\n",
       "      <th>gdpm</th>\n",
       "      <th>goldshare</th>\n",
       "    </tr>\n",
       "  </thead>\n",
       "  <tbody>\n",
       "    <tr>\n",
       "      <th>67582</th>\n",
       "      <td>67582</td>\n",
       "      <td>ESPORTSTMNT03_3167508</td>\n",
       "      <td>complete</td>\n",
       "      <td>NaN</td>\n",
       "      <td>LCK</td>\n",
       "      <td>2023</td>\n",
       "      <td>Summer</td>\n",
       "      <td>0</td>\n",
       "      <td>2023-06-07 08:11:03</td>\n",
       "      <td>1</td>\n",
       "      <td>13.10</td>\n",
       "      <td>100</td>\n",
       "      <td>Blue</td>\n",
       "      <td>team</td>\n",
       "      <td>NaN</td>\n",
       "      <td>NaN</td>\n",
       "      <td>KT Rolster</td>\n",
       "      <td>oe:team:d723992568441c6bafa2658129eade7</td>\n",
       "      <td>NaN</td>\n",
       "      <td>Vi</td>\n",
       "      <td>Maokai</td>\n",
       "      <td>Lucian</td>\n",
       "      <td>Lulu</td>\n",
       "      <td>Ornn</td>\n",
       "      <td>1894</td>\n",
       "      <td>1</td>\n",
       "      <td>12</td>\n",
       "      <td>6</td>\n",
       "      <td>35</td>\n",
       "      <td>12</td>\n",
       "      <td>6</td>\n",
       "      <td>2.0</td>\n",
       "      <td>1.0</td>\n",
       "      <td>0.0</td>\n",
       "      <td>0.0</td>\n",
       "      <td>0.0</td>\n",
       "      <td>NaN</td>\n",
       "      <td>NaN</td>\n",
       "      <td>NaN</td>\n",
       "      <td>0.3801</td>\n",
       "      <td>0.5702</td>\n",
       "      <td>0.0</td>\n",
       "      <td>3.0</td>\n",
       "      <td>1.0</td>\n",
       "      <td>3.0</td>\n",
       "      <td>1.0</td>\n",
       "      <td>2.0</td>\n",
       "      <td>0.0</td>\n",
       "      <td>0.0</td>\n",
       "      <td>0.0</td>\n",
       "      <td>0.0</td>\n",
       "      <td>1.0</td>\n",
       "      <td>NaN</td>\n",
       "      <td>0.0</td>\n",
       "      <td>0.0</td>\n",
       "      <td>0.0</td>\n",
       "      <td>0.0</td>\n",
       "      <td>2.0</td>\n",
       "      <td>1.0</td>\n",
       "      <td>1.0</td>\n",
       "      <td>0.0</td>\n",
       "      <td>0.0</td>\n",
       "      <td>9.0</td>\n",
       "      <td>3.0</td>\n",
       "      <td>0.0</td>\n",
       "      <td>0.0</td>\n",
       "      <td>3.0</td>\n",
       "      <td>4.0</td>\n",
       "      <td>2.0</td>\n",
       "      <td>0.0</td>\n",
       "      <td>63475</td>\n",
       "      <td>2010.8237</td>\n",
       "      <td>NaN</td>\n",
       "      <td>2284.3400</td>\n",
       "      <td>3502.7138</td>\n",
       "      <td>101</td>\n",
       "      <td>3.1996</td>\n",
       "      <td>54</td>\n",
       "      <td>1.7107</td>\n",
       "      <td>55</td>\n",
       "      <td>247</td>\n",
       "      <td>7.8247</td>\n",
       "      <td>59180</td>\n",
       "      <td>38483</td>\n",
       "      <td>1219.1024</td>\n",
       "      <td>NaN</td>\n",
       "      <td>54633</td>\n",
       "      <td>0.068589</td>\n",
       "      <td>NaN</td>\n",
       "      <td>906.0</td>\n",
       "      <td>207</td>\n",
       "      <td>NaN</td>\n",
       "      <td>NaN</td>\n",
       "      <td>35.2587</td>\n",
       "      <td>15745.0</td>\n",
       "      <td>19908.0</td>\n",
       "      <td>359.0</td>\n",
       "      <td>16648.0</td>\n",
       "      <td>19255.0</td>\n",
       "      <td>365.0</td>\n",
       "      <td>-903.0</td>\n",
       "      <td>653.0</td>\n",
       "      <td>-6.0</td>\n",
       "      <td>0.0</td>\n",
       "      <td>0.0</td>\n",
       "      <td>1.0</td>\n",
       "      <td>1.0</td>\n",
       "      <td>1.0</td>\n",
       "      <td>0.0</td>\n",
       "      <td>23707.0</td>\n",
       "      <td>31810.0</td>\n",
       "      <td>574.0</td>\n",
       "      <td>24376.0</td>\n",
       "      <td>29938.0</td>\n",
       "      <td>563.0</td>\n",
       "      <td>-669.0</td>\n",
       "      <td>1872.0</td>\n",
       "      <td>11.0</td>\n",
       "      <td>0.0</td>\n",
       "      <td>0.0</td>\n",
       "      <td>1.0</td>\n",
       "      <td>1.0</td>\n",
       "      <td>1.0</td>\n",
       "      <td>0.0</td>\n",
       "      <td>7.833333</td>\n",
       "      <td>2.000000</td>\n",
       "      <td>1874.762408</td>\n",
       "      <td>212.122492</td>\n",
       "      <td>1.0</td>\n",
       "    </tr>\n",
       "    <tr>\n",
       "      <th>67583</th>\n",
       "      <td>67583</td>\n",
       "      <td>ESPORTSTMNT03_3167508</td>\n",
       "      <td>complete</td>\n",
       "      <td>NaN</td>\n",
       "      <td>LCK</td>\n",
       "      <td>2023</td>\n",
       "      <td>Summer</td>\n",
       "      <td>0</td>\n",
       "      <td>2023-06-07 08:11:03</td>\n",
       "      <td>1</td>\n",
       "      <td>13.10</td>\n",
       "      <td>200</td>\n",
       "      <td>Red</td>\n",
       "      <td>team</td>\n",
       "      <td>NaN</td>\n",
       "      <td>NaN</td>\n",
       "      <td>Hanwha Life Esports</td>\n",
       "      <td>oe:team:3a1d18f46bcb3716ebcfcf4ef068934</td>\n",
       "      <td>NaN</td>\n",
       "      <td>Milio</td>\n",
       "      <td>Zeri</td>\n",
       "      <td>Neeko</td>\n",
       "      <td>Kha'Zix</td>\n",
       "      <td>Jax</td>\n",
       "      <td>1894</td>\n",
       "      <td>0</td>\n",
       "      <td>6</td>\n",
       "      <td>12</td>\n",
       "      <td>15</td>\n",
       "      <td>6</td>\n",
       "      <td>12</td>\n",
       "      <td>1.0</td>\n",
       "      <td>0.0</td>\n",
       "      <td>0.0</td>\n",
       "      <td>0.0</td>\n",
       "      <td>1.0</td>\n",
       "      <td>NaN</td>\n",
       "      <td>NaN</td>\n",
       "      <td>NaN</td>\n",
       "      <td>0.1901</td>\n",
       "      <td>0.5702</td>\n",
       "      <td>1.0</td>\n",
       "      <td>1.0</td>\n",
       "      <td>3.0</td>\n",
       "      <td>1.0</td>\n",
       "      <td>3.0</td>\n",
       "      <td>0.0</td>\n",
       "      <td>1.0</td>\n",
       "      <td>0.0</td>\n",
       "      <td>0.0</td>\n",
       "      <td>0.0</td>\n",
       "      <td>0.0</td>\n",
       "      <td>NaN</td>\n",
       "      <td>0.0</td>\n",
       "      <td>0.0</td>\n",
       "      <td>1.0</td>\n",
       "      <td>2.0</td>\n",
       "      <td>0.0</td>\n",
       "      <td>0.0</td>\n",
       "      <td>0.0</td>\n",
       "      <td>1.0</td>\n",
       "      <td>1.0</td>\n",
       "      <td>3.0</td>\n",
       "      <td>9.0</td>\n",
       "      <td>1.0</td>\n",
       "      <td>1.0</td>\n",
       "      <td>4.0</td>\n",
       "      <td>3.0</td>\n",
       "      <td>0.0</td>\n",
       "      <td>2.0</td>\n",
       "      <td>43064</td>\n",
       "      <td>1364.2239</td>\n",
       "      <td>NaN</td>\n",
       "      <td>2790.0317</td>\n",
       "      <td>3714.9630</td>\n",
       "      <td>115</td>\n",
       "      <td>3.6431</td>\n",
       "      <td>43</td>\n",
       "      <td>1.3622</td>\n",
       "      <td>53</td>\n",
       "      <td>260</td>\n",
       "      <td>8.2365</td>\n",
       "      <td>52484</td>\n",
       "      <td>31787</td>\n",
       "      <td>1006.9799</td>\n",
       "      <td>NaN</td>\n",
       "      <td>51010</td>\n",
       "      <td>-0.068589</td>\n",
       "      <td>NaN</td>\n",
       "      <td>900.0</td>\n",
       "      <td>195</td>\n",
       "      <td>NaN</td>\n",
       "      <td>NaN</td>\n",
       "      <td>34.6885</td>\n",
       "      <td>16648.0</td>\n",
       "      <td>19255.0</td>\n",
       "      <td>365.0</td>\n",
       "      <td>15745.0</td>\n",
       "      <td>19908.0</td>\n",
       "      <td>359.0</td>\n",
       "      <td>903.0</td>\n",
       "      <td>-653.0</td>\n",
       "      <td>6.0</td>\n",
       "      <td>1.0</td>\n",
       "      <td>1.0</td>\n",
       "      <td>0.0</td>\n",
       "      <td>0.0</td>\n",
       "      <td>0.0</td>\n",
       "      <td>1.0</td>\n",
       "      <td>24376.0</td>\n",
       "      <td>29938.0</td>\n",
       "      <td>563.0</td>\n",
       "      <td>23707.0</td>\n",
       "      <td>31810.0</td>\n",
       "      <td>574.0</td>\n",
       "      <td>669.0</td>\n",
       "      <td>-1872.0</td>\n",
       "      <td>-11.0</td>\n",
       "      <td>1.0</td>\n",
       "      <td>1.0</td>\n",
       "      <td>0.0</td>\n",
       "      <td>0.0</td>\n",
       "      <td>0.0</td>\n",
       "      <td>1.0</td>\n",
       "      <td>1.750000</td>\n",
       "      <td>0.500000</td>\n",
       "      <td>1662.639916</td>\n",
       "      <td>-212.122492</td>\n",
       "      <td>1.0</td>\n",
       "    </tr>\n",
       "    <tr>\n",
       "      <th>67594</th>\n",
       "      <td>67594</td>\n",
       "      <td>ESPORTSTMNT03_3165687</td>\n",
       "      <td>complete</td>\n",
       "      <td>NaN</td>\n",
       "      <td>LCK</td>\n",
       "      <td>2023</td>\n",
       "      <td>Summer</td>\n",
       "      <td>0</td>\n",
       "      <td>2023-06-07 09:09:21</td>\n",
       "      <td>2</td>\n",
       "      <td>13.10</td>\n",
       "      <td>100</td>\n",
       "      <td>Blue</td>\n",
       "      <td>team</td>\n",
       "      <td>NaN</td>\n",
       "      <td>NaN</td>\n",
       "      <td>Hanwha Life Esports</td>\n",
       "      <td>oe:team:3a1d18f46bcb3716ebcfcf4ef068934</td>\n",
       "      <td>NaN</td>\n",
       "      <td>Yuumi</td>\n",
       "      <td>Maokai</td>\n",
       "      <td>Annie</td>\n",
       "      <td>Jax</td>\n",
       "      <td>Malphite</td>\n",
       "      <td>1771</td>\n",
       "      <td>1</td>\n",
       "      <td>21</td>\n",
       "      <td>8</td>\n",
       "      <td>46</td>\n",
       "      <td>21</td>\n",
       "      <td>8</td>\n",
       "      <td>5.0</td>\n",
       "      <td>0.0</td>\n",
       "      <td>0.0</td>\n",
       "      <td>0.0</td>\n",
       "      <td>1.0</td>\n",
       "      <td>NaN</td>\n",
       "      <td>NaN</td>\n",
       "      <td>NaN</td>\n",
       "      <td>0.7115</td>\n",
       "      <td>0.9825</td>\n",
       "      <td>1.0</td>\n",
       "      <td>4.0</td>\n",
       "      <td>0.0</td>\n",
       "      <td>4.0</td>\n",
       "      <td>0.0</td>\n",
       "      <td>1.0</td>\n",
       "      <td>0.0</td>\n",
       "      <td>2.0</td>\n",
       "      <td>0.0</td>\n",
       "      <td>1.0</td>\n",
       "      <td>0.0</td>\n",
       "      <td>NaN</td>\n",
       "      <td>0.0</td>\n",
       "      <td>0.0</td>\n",
       "      <td>1.0</td>\n",
       "      <td>2.0</td>\n",
       "      <td>0.0</td>\n",
       "      <td>1.0</td>\n",
       "      <td>2.0</td>\n",
       "      <td>0.0</td>\n",
       "      <td>1.0</td>\n",
       "      <td>11.0</td>\n",
       "      <td>2.0</td>\n",
       "      <td>1.0</td>\n",
       "      <td>1.0</td>\n",
       "      <td>5.0</td>\n",
       "      <td>3.0</td>\n",
       "      <td>4.0</td>\n",
       "      <td>0.0</td>\n",
       "      <td>64790</td>\n",
       "      <td>2195.0311</td>\n",
       "      <td>NaN</td>\n",
       "      <td>2398.4416</td>\n",
       "      <td>2116.2620</td>\n",
       "      <td>99</td>\n",
       "      <td>3.3540</td>\n",
       "      <td>58</td>\n",
       "      <td>1.9650</td>\n",
       "      <td>56</td>\n",
       "      <td>282</td>\n",
       "      <td>9.5539</td>\n",
       "      <td>64347</td>\n",
       "      <td>44905</td>\n",
       "      <td>1521.3439</td>\n",
       "      <td>NaN</td>\n",
       "      <td>56900</td>\n",
       "      <td>0.239937</td>\n",
       "      <td>NaN</td>\n",
       "      <td>863.0</td>\n",
       "      <td>209</td>\n",
       "      <td>NaN</td>\n",
       "      <td>NaN</td>\n",
       "      <td>36.3185</td>\n",
       "      <td>17573.0</td>\n",
       "      <td>19024.0</td>\n",
       "      <td>327.0</td>\n",
       "      <td>15633.0</td>\n",
       "      <td>18366.0</td>\n",
       "      <td>309.0</td>\n",
       "      <td>1940.0</td>\n",
       "      <td>658.0</td>\n",
       "      <td>18.0</td>\n",
       "      <td>5.0</td>\n",
       "      <td>7.0</td>\n",
       "      <td>3.0</td>\n",
       "      <td>3.0</td>\n",
       "      <td>2.0</td>\n",
       "      <td>5.0</td>\n",
       "      <td>26565.0</td>\n",
       "      <td>30325.0</td>\n",
       "      <td>510.0</td>\n",
       "      <td>24999.0</td>\n",
       "      <td>30125.0</td>\n",
       "      <td>514.0</td>\n",
       "      <td>1566.0</td>\n",
       "      <td>200.0</td>\n",
       "      <td>-4.0</td>\n",
       "      <td>7.0</td>\n",
       "      <td>8.0</td>\n",
       "      <td>5.0</td>\n",
       "      <td>5.0</td>\n",
       "      <td>3.0</td>\n",
       "      <td>7.0</td>\n",
       "      <td>8.375000</td>\n",
       "      <td>2.625000</td>\n",
       "      <td>2180.022586</td>\n",
       "      <td>495.652174</td>\n",
       "      <td>1.0</td>\n",
       "    </tr>\n",
       "    <tr>\n",
       "      <th>67595</th>\n",
       "      <td>67595</td>\n",
       "      <td>ESPORTSTMNT03_3165687</td>\n",
       "      <td>complete</td>\n",
       "      <td>NaN</td>\n",
       "      <td>LCK</td>\n",
       "      <td>2023</td>\n",
       "      <td>Summer</td>\n",
       "      <td>0</td>\n",
       "      <td>2023-06-07 09:09:21</td>\n",
       "      <td>2</td>\n",
       "      <td>13.10</td>\n",
       "      <td>200</td>\n",
       "      <td>Red</td>\n",
       "      <td>team</td>\n",
       "      <td>NaN</td>\n",
       "      <td>NaN</td>\n",
       "      <td>KT Rolster</td>\n",
       "      <td>oe:team:d723992568441c6bafa2658129eade7</td>\n",
       "      <td>NaN</td>\n",
       "      <td>Neeko</td>\n",
       "      <td>Zeri</td>\n",
       "      <td>Lucian</td>\n",
       "      <td>LeBlanc</td>\n",
       "      <td>Ahri</td>\n",
       "      <td>1771</td>\n",
       "      <td>0</td>\n",
       "      <td>8</td>\n",
       "      <td>21</td>\n",
       "      <td>12</td>\n",
       "      <td>8</td>\n",
       "      <td>21</td>\n",
       "      <td>1.0</td>\n",
       "      <td>0.0</td>\n",
       "      <td>0.0</td>\n",
       "      <td>0.0</td>\n",
       "      <td>0.0</td>\n",
       "      <td>NaN</td>\n",
       "      <td>NaN</td>\n",
       "      <td>NaN</td>\n",
       "      <td>0.2710</td>\n",
       "      <td>0.9825</td>\n",
       "      <td>0.0</td>\n",
       "      <td>0.0</td>\n",
       "      <td>4.0</td>\n",
       "      <td>0.0</td>\n",
       "      <td>4.0</td>\n",
       "      <td>0.0</td>\n",
       "      <td>0.0</td>\n",
       "      <td>0.0</td>\n",
       "      <td>0.0</td>\n",
       "      <td>0.0</td>\n",
       "      <td>0.0</td>\n",
       "      <td>NaN</td>\n",
       "      <td>0.0</td>\n",
       "      <td>0.0</td>\n",
       "      <td>0.0</td>\n",
       "      <td>0.0</td>\n",
       "      <td>2.0</td>\n",
       "      <td>0.0</td>\n",
       "      <td>0.0</td>\n",
       "      <td>2.0</td>\n",
       "      <td>0.0</td>\n",
       "      <td>2.0</td>\n",
       "      <td>11.0</td>\n",
       "      <td>0.0</td>\n",
       "      <td>0.0</td>\n",
       "      <td>3.0</td>\n",
       "      <td>5.0</td>\n",
       "      <td>0.0</td>\n",
       "      <td>4.0</td>\n",
       "      <td>42966</td>\n",
       "      <td>1455.6522</td>\n",
       "      <td>NaN</td>\n",
       "      <td>2861.1632</td>\n",
       "      <td>2925.0932</td>\n",
       "      <td>103</td>\n",
       "      <td>3.4896</td>\n",
       "      <td>32</td>\n",
       "      <td>1.0841</td>\n",
       "      <td>37</td>\n",
       "      <td>200</td>\n",
       "      <td>6.7758</td>\n",
       "      <td>49717</td>\n",
       "      <td>30275</td>\n",
       "      <td>1025.6917</td>\n",
       "      <td>NaN</td>\n",
       "      <td>44710</td>\n",
       "      <td>-0.239937</td>\n",
       "      <td>NaN</td>\n",
       "      <td>825.0</td>\n",
       "      <td>146</td>\n",
       "      <td>NaN</td>\n",
       "      <td>NaN</td>\n",
       "      <td>32.8967</td>\n",
       "      <td>15633.0</td>\n",
       "      <td>18366.0</td>\n",
       "      <td>309.0</td>\n",
       "      <td>17573.0</td>\n",
       "      <td>19024.0</td>\n",
       "      <td>327.0</td>\n",
       "      <td>-1940.0</td>\n",
       "      <td>-658.0</td>\n",
       "      <td>-18.0</td>\n",
       "      <td>3.0</td>\n",
       "      <td>2.0</td>\n",
       "      <td>5.0</td>\n",
       "      <td>5.0</td>\n",
       "      <td>7.0</td>\n",
       "      <td>3.0</td>\n",
       "      <td>24999.0</td>\n",
       "      <td>30125.0</td>\n",
       "      <td>514.0</td>\n",
       "      <td>26565.0</td>\n",
       "      <td>30325.0</td>\n",
       "      <td>510.0</td>\n",
       "      <td>-1566.0</td>\n",
       "      <td>-200.0</td>\n",
       "      <td>4.0</td>\n",
       "      <td>5.0</td>\n",
       "      <td>3.0</td>\n",
       "      <td>7.0</td>\n",
       "      <td>7.0</td>\n",
       "      <td>8.0</td>\n",
       "      <td>5.0</td>\n",
       "      <td>0.952381</td>\n",
       "      <td>0.380952</td>\n",
       "      <td>1684.370412</td>\n",
       "      <td>-495.652174</td>\n",
       "      <td>1.0</td>\n",
       "    </tr>\n",
       "    <tr>\n",
       "      <th>67630</th>\n",
       "      <td>67630</td>\n",
       "      <td>ESPORTSTMNT03_3166614</td>\n",
       "      <td>complete</td>\n",
       "      <td>NaN</td>\n",
       "      <td>LCK</td>\n",
       "      <td>2023</td>\n",
       "      <td>Summer</td>\n",
       "      <td>0</td>\n",
       "      <td>2023-06-07 10:02:16</td>\n",
       "      <td>3</td>\n",
       "      <td>13.10</td>\n",
       "      <td>100</td>\n",
       "      <td>Blue</td>\n",
       "      <td>team</td>\n",
       "      <td>NaN</td>\n",
       "      <td>NaN</td>\n",
       "      <td>KT Rolster</td>\n",
       "      <td>oe:team:d723992568441c6bafa2658129eade7</td>\n",
       "      <td>NaN</td>\n",
       "      <td>Vi</td>\n",
       "      <td>Maokai</td>\n",
       "      <td>Lucian</td>\n",
       "      <td>Gnar</td>\n",
       "      <td>Ornn</td>\n",
       "      <td>1605</td>\n",
       "      <td>1</td>\n",
       "      <td>10</td>\n",
       "      <td>2</td>\n",
       "      <td>26</td>\n",
       "      <td>10</td>\n",
       "      <td>2</td>\n",
       "      <td>0.0</td>\n",
       "      <td>0.0</td>\n",
       "      <td>0.0</td>\n",
       "      <td>0.0</td>\n",
       "      <td>1.0</td>\n",
       "      <td>NaN</td>\n",
       "      <td>NaN</td>\n",
       "      <td>NaN</td>\n",
       "      <td>0.3738</td>\n",
       "      <td>0.4486</td>\n",
       "      <td>1.0</td>\n",
       "      <td>3.0</td>\n",
       "      <td>1.0</td>\n",
       "      <td>3.0</td>\n",
       "      <td>1.0</td>\n",
       "      <td>1.0</td>\n",
       "      <td>1.0</td>\n",
       "      <td>0.0</td>\n",
       "      <td>0.0</td>\n",
       "      <td>0.0</td>\n",
       "      <td>1.0</td>\n",
       "      <td>NaN</td>\n",
       "      <td>0.0</td>\n",
       "      <td>0.0</td>\n",
       "      <td>1.0</td>\n",
       "      <td>2.0</td>\n",
       "      <td>0.0</td>\n",
       "      <td>1.0</td>\n",
       "      <td>1.0</td>\n",
       "      <td>0.0</td>\n",
       "      <td>1.0</td>\n",
       "      <td>8.0</td>\n",
       "      <td>2.0</td>\n",
       "      <td>1.0</td>\n",
       "      <td>1.0</td>\n",
       "      <td>5.0</td>\n",
       "      <td>6.0</td>\n",
       "      <td>1.0</td>\n",
       "      <td>0.0</td>\n",
       "      <td>50259</td>\n",
       "      <td>1878.8411</td>\n",
       "      <td>NaN</td>\n",
       "      <td>1655.8505</td>\n",
       "      <td>2929.9813</td>\n",
       "      <td>75</td>\n",
       "      <td>2.8037</td>\n",
       "      <td>27</td>\n",
       "      <td>1.0093</td>\n",
       "      <td>38</td>\n",
       "      <td>182</td>\n",
       "      <td>6.8037</td>\n",
       "      <td>50073</td>\n",
       "      <td>32324</td>\n",
       "      <td>1208.3738</td>\n",
       "      <td>NaN</td>\n",
       "      <td>45570</td>\n",
       "      <td>0.135677</td>\n",
       "      <td>NaN</td>\n",
       "      <td>715.0</td>\n",
       "      <td>164</td>\n",
       "      <td>NaN</td>\n",
       "      <td>NaN</td>\n",
       "      <td>32.8598</td>\n",
       "      <td>15684.0</td>\n",
       "      <td>17884.0</td>\n",
       "      <td>323.0</td>\n",
       "      <td>14157.0</td>\n",
       "      <td>17132.0</td>\n",
       "      <td>302.0</td>\n",
       "      <td>1527.0</td>\n",
       "      <td>752.0</td>\n",
       "      <td>21.0</td>\n",
       "      <td>1.0</td>\n",
       "      <td>2.0</td>\n",
       "      <td>0.0</td>\n",
       "      <td>0.0</td>\n",
       "      <td>0.0</td>\n",
       "      <td>1.0</td>\n",
       "      <td>24578.0</td>\n",
       "      <td>28552.0</td>\n",
       "      <td>518.0</td>\n",
       "      <td>23166.0</td>\n",
       "      <td>29206.0</td>\n",
       "      <td>525.0</td>\n",
       "      <td>1412.0</td>\n",
       "      <td>-654.0</td>\n",
       "      <td>-7.0</td>\n",
       "      <td>1.0</td>\n",
       "      <td>2.0</td>\n",
       "      <td>0.0</td>\n",
       "      <td>0.0</td>\n",
       "      <td>0.0</td>\n",
       "      <td>1.0</td>\n",
       "      <td>18.000000</td>\n",
       "      <td>5.000000</td>\n",
       "      <td>1871.887850</td>\n",
       "      <td>290.654206</td>\n",
       "      <td>1.0</td>\n",
       "    </tr>\n",
       "  </tbody>\n",
       "</table>\n",
       "</div>"
      ],
      "text/plain": [
       "       index                 gameid datacompleteness  url league  year   \n",
       "67582  67582  ESPORTSTMNT03_3167508         complete  NaN    LCK  2023  \\\n",
       "67583  67583  ESPORTSTMNT03_3167508         complete  NaN    LCK  2023   \n",
       "67594  67594  ESPORTSTMNT03_3165687         complete  NaN    LCK  2023   \n",
       "67595  67595  ESPORTSTMNT03_3165687         complete  NaN    LCK  2023   \n",
       "67630  67630  ESPORTSTMNT03_3166614         complete  NaN    LCK  2023   \n",
       "\n",
       "        split  playoffs                 date  game  patch  participantid   \n",
       "67582  Summer         0  2023-06-07 08:11:03     1  13.10            100  \\\n",
       "67583  Summer         0  2023-06-07 08:11:03     1  13.10            200   \n",
       "67594  Summer         0  2023-06-07 09:09:21     2  13.10            100   \n",
       "67595  Summer         0  2023-06-07 09:09:21     2  13.10            200   \n",
       "67630  Summer         0  2023-06-07 10:02:16     3  13.10            100   \n",
       "\n",
       "       side position playername playerid             teamname   \n",
       "67582  Blue     team        NaN      NaN           KT Rolster  \\\n",
       "67583   Red     team        NaN      NaN  Hanwha Life Esports   \n",
       "67594  Blue     team        NaN      NaN  Hanwha Life Esports   \n",
       "67595   Red     team        NaN      NaN           KT Rolster   \n",
       "67630  Blue     team        NaN      NaN           KT Rolster   \n",
       "\n",
       "                                        teamid champion   ban1    ban2   \n",
       "67582  oe:team:d723992568441c6bafa2658129eade7      NaN     Vi  Maokai  \\\n",
       "67583  oe:team:3a1d18f46bcb3716ebcfcf4ef068934      NaN  Milio    Zeri   \n",
       "67594  oe:team:3a1d18f46bcb3716ebcfcf4ef068934      NaN  Yuumi  Maokai   \n",
       "67595  oe:team:d723992568441c6bafa2658129eade7      NaN  Neeko    Zeri   \n",
       "67630  oe:team:d723992568441c6bafa2658129eade7      NaN     Vi  Maokai   \n",
       "\n",
       "         ban3     ban4      ban5  gamelength  result  kills  deaths  assists   \n",
       "67582  Lucian     Lulu      Ornn        1894       1     12       6       35  \\\n",
       "67583   Neeko  Kha'Zix       Jax        1894       0      6      12       15   \n",
       "67594   Annie      Jax  Malphite        1771       1     21       8       46   \n",
       "67595  Lucian  LeBlanc      Ahri        1771       0      8      21       12   \n",
       "67630  Lucian     Gnar      Ornn        1605       1     10       2       26   \n",
       "\n",
       "       teamkills  teamdeaths  doublekills  triplekills  quadrakills   \n",
       "67582         12           6          2.0          1.0          0.0  \\\n",
       "67583          6          12          1.0          0.0          0.0   \n",
       "67594         21           8          5.0          0.0          0.0   \n",
       "67595          8          21          1.0          0.0          0.0   \n",
       "67630         10           2          0.0          0.0          0.0   \n",
       "\n",
       "       pentakills  firstblood  firstbloodkill  firstbloodassist   \n",
       "67582         0.0         0.0             NaN               NaN  \\\n",
       "67583         0.0         1.0             NaN               NaN   \n",
       "67594         0.0         1.0             NaN               NaN   \n",
       "67595         0.0         0.0             NaN               NaN   \n",
       "67630         0.0         1.0             NaN               NaN   \n",
       "\n",
       "       firstbloodvictim  team kpm    ckpm  firstdragon  dragons  opp_dragons   \n",
       "67582               NaN    0.3801  0.5702          0.0      3.0          1.0  \\\n",
       "67583               NaN    0.1901  0.5702          1.0      1.0          3.0   \n",
       "67594               NaN    0.7115  0.9825          1.0      4.0          0.0   \n",
       "67595               NaN    0.2710  0.9825          0.0      0.0          4.0   \n",
       "67630               NaN    0.3738  0.4486          1.0      3.0          1.0   \n",
       "\n",
       "       elementaldrakes  opp_elementaldrakes  infernals  mountains  clouds   \n",
       "67582              3.0                  1.0        2.0        0.0     0.0  \\\n",
       "67583              1.0                  3.0        0.0        1.0     0.0   \n",
       "67594              4.0                  0.0        1.0        0.0     2.0   \n",
       "67595              0.0                  4.0        0.0        0.0     0.0   \n",
       "67630              3.0                  1.0        1.0        1.0     0.0   \n",
       "\n",
       "       oceans  chemtechs  hextechs  dragons (type unknown)  elders   \n",
       "67582     0.0        0.0       1.0                     NaN     0.0  \\\n",
       "67583     0.0        0.0       0.0                     NaN     0.0   \n",
       "67594     0.0        1.0       0.0                     NaN     0.0   \n",
       "67595     0.0        0.0       0.0                     NaN     0.0   \n",
       "67630     0.0        0.0       1.0                     NaN     0.0   \n",
       "\n",
       "       opp_elders  firstherald  heralds  opp_heralds  firstbaron  barons   \n",
       "67582         0.0          0.0      0.0          2.0         1.0     1.0  \\\n",
       "67583         0.0          1.0      2.0          0.0         0.0     0.0   \n",
       "67594         0.0          1.0      2.0          0.0         1.0     2.0   \n",
       "67595         0.0          0.0      0.0          2.0         0.0     0.0   \n",
       "67630         0.0          1.0      2.0          0.0         1.0     1.0   \n",
       "\n",
       "       opp_barons  firsttower  towers  opp_towers  firstmidtower   \n",
       "67582         0.0         0.0     9.0         3.0            0.0  \\\n",
       "67583         1.0         1.0     3.0         9.0            1.0   \n",
       "67594         0.0         1.0    11.0         2.0            1.0   \n",
       "67595         2.0         0.0     2.0        11.0            0.0   \n",
       "67630         0.0         1.0     8.0         2.0            1.0   \n",
       "\n",
       "       firsttothreetowers  turretplates  opp_turretplates  inhibitors   \n",
       "67582                 0.0           3.0               4.0         2.0  \\\n",
       "67583                 1.0           4.0               3.0         0.0   \n",
       "67594                 1.0           5.0               3.0         4.0   \n",
       "67595                 0.0           3.0               5.0         0.0   \n",
       "67630                 1.0           5.0               6.0         1.0   \n",
       "\n",
       "       opp_inhibitors  damagetochampions        dpm  damageshare   \n",
       "67582             0.0              63475  2010.8237          NaN  \\\n",
       "67583             2.0              43064  1364.2239          NaN   \n",
       "67594             0.0              64790  2195.0311          NaN   \n",
       "67595             4.0              42966  1455.6522          NaN   \n",
       "67630             0.0              50259  1878.8411          NaN   \n",
       "\n",
       "       damagetakenperminute  damagemitigatedperminute  wardsplaced     wpm   \n",
       "67582             2284.3400                 3502.7138          101  3.1996  \\\n",
       "67583             2790.0317                 3714.9630          115  3.6431   \n",
       "67594             2398.4416                 2116.2620           99  3.3540   \n",
       "67595             2861.1632                 2925.0932          103  3.4896   \n",
       "67630             1655.8505                 2929.9813           75  2.8037   \n",
       "\n",
       "       wardskilled    wcpm  controlwardsbought  visionscore    vspm   \n",
       "67582           54  1.7107                  55          247  7.8247  \\\n",
       "67583           43  1.3622                  53          260  8.2365   \n",
       "67594           58  1.9650                  56          282  9.5539   \n",
       "67595           32  1.0841                  37          200  6.7758   \n",
       "67630           27  1.0093                  38          182  6.8037   \n",
       "\n",
       "       totalgold  earnedgold  earned gpm  earnedgoldshare  goldspent   \n",
       "67582      59180       38483   1219.1024              NaN      54633  \\\n",
       "67583      52484       31787   1006.9799              NaN      51010   \n",
       "67594      64347       44905   1521.3439              NaN      56900   \n",
       "67595      49717       30275   1025.6917              NaN      44710   \n",
       "67630      50073       32324   1208.3738              NaN      45570   \n",
       "\n",
       "           gspd  total cs  minionkills  monsterkills  monsterkillsownjungle   \n",
       "67582  0.068589       NaN        906.0           207                    NaN  \\\n",
       "67583 -0.068589       NaN        900.0           195                    NaN   \n",
       "67594  0.239937       NaN        863.0           209                    NaN   \n",
       "67595 -0.239937       NaN        825.0           146                    NaN   \n",
       "67630  0.135677       NaN        715.0           164                    NaN   \n",
       "\n",
       "       monsterkillsenemyjungle     cspm  goldat10   xpat10  csat10   \n",
       "67582                      NaN  35.2587   15745.0  19908.0   359.0  \\\n",
       "67583                      NaN  34.6885   16648.0  19255.0   365.0   \n",
       "67594                      NaN  36.3185   17573.0  19024.0   327.0   \n",
       "67595                      NaN  32.8967   15633.0  18366.0   309.0   \n",
       "67630                      NaN  32.8598   15684.0  17884.0   323.0   \n",
       "\n",
       "       opp_goldat10  opp_xpat10  opp_csat10  golddiffat10  xpdiffat10   \n",
       "67582       16648.0     19255.0       365.0        -903.0       653.0  \\\n",
       "67583       15745.0     19908.0       359.0         903.0      -653.0   \n",
       "67594       15633.0     18366.0       309.0        1940.0       658.0   \n",
       "67595       17573.0     19024.0       327.0       -1940.0      -658.0   \n",
       "67630       14157.0     17132.0       302.0        1527.0       752.0   \n",
       "\n",
       "       csdiffat10  killsat10  assistsat10  deathsat10  opp_killsat10   \n",
       "67582        -6.0        0.0          0.0         1.0            1.0  \\\n",
       "67583         6.0        1.0          1.0         0.0            0.0   \n",
       "67594        18.0        5.0          7.0         3.0            3.0   \n",
       "67595       -18.0        3.0          2.0         5.0            5.0   \n",
       "67630        21.0        1.0          2.0         0.0            0.0   \n",
       "\n",
       "       opp_assistsat10  opp_deathsat10  goldat15   xpat15  csat15   \n",
       "67582              1.0             0.0   23707.0  31810.0   574.0  \\\n",
       "67583              0.0             1.0   24376.0  29938.0   563.0   \n",
       "67594              2.0             5.0   26565.0  30325.0   510.0   \n",
       "67595              7.0             3.0   24999.0  30125.0   514.0   \n",
       "67630              0.0             1.0   24578.0  28552.0   518.0   \n",
       "\n",
       "       opp_goldat15  opp_xpat15  opp_csat15  golddiffat15  xpdiffat15   \n",
       "67582       24376.0     29938.0       563.0        -669.0      1872.0  \\\n",
       "67583       23707.0     31810.0       574.0         669.0     -1872.0   \n",
       "67594       24999.0     30125.0       514.0        1566.0       200.0   \n",
       "67595       26565.0     30325.0       510.0       -1566.0      -200.0   \n",
       "67630       23166.0     29206.0       525.0        1412.0      -654.0   \n",
       "\n",
       "       csdiffat15  killsat15  assistsat15  deathsat15  opp_killsat15   \n",
       "67582        11.0        0.0          0.0         1.0            1.0  \\\n",
       "67583       -11.0        1.0          1.0         0.0            0.0   \n",
       "67594        -4.0        7.0          8.0         5.0            5.0   \n",
       "67595         4.0        5.0          3.0         7.0            7.0   \n",
       "67630        -7.0        1.0          2.0         0.0            0.0   \n",
       "\n",
       "       opp_assistsat15  opp_deathsat15        kda        kd          gpm   \n",
       "67582              1.0             0.0   7.833333  2.000000  1874.762408  \\\n",
       "67583              0.0             1.0   1.750000  0.500000  1662.639916   \n",
       "67594              3.0             7.0   8.375000  2.625000  2180.022586   \n",
       "67595              8.0             5.0   0.952381  0.380952  1684.370412   \n",
       "67630              0.0             1.0  18.000000  5.000000  1871.887850   \n",
       "\n",
       "             gdpm  goldshare  \n",
       "67582  212.122492        1.0  \n",
       "67583 -212.122492        1.0  \n",
       "67594  495.652174        1.0  \n",
       "67595 -495.652174        1.0  \n",
       "67630  290.654206        1.0  "
      ]
     },
     "execution_count": 11,
     "metadata": {},
     "output_type": "execute_result"
    }
   ],
   "source": [
    "teams_data = matches.loc[matches[\"position\"] == \"team\"]\n",
    "df = pd.read_csv(\"./csv/scoreboard_games/2023_scoreboard_games.csv\")\n",
    "df = df.loc[df[\"OverviewPage\"] == \"LCK/2023 Season/Summer Season\"]\n",
    "print(teams_data.shape, df.shape, teams_data.shape[0] == df.shape[0] * 2)\n",
    "teams_data.head()"
   ]
  },
  {
   "cell_type": "code",
   "execution_count": 12,
   "metadata": {},
   "outputs": [
    {
     "data": {
      "text/html": [
       "<div>\n",
       "<style scoped>\n",
       "    .dataframe tbody tr th:only-of-type {\n",
       "        vertical-align: middle;\n",
       "    }\n",
       "\n",
       "    .dataframe tbody tr th {\n",
       "        vertical-align: top;\n",
       "    }\n",
       "\n",
       "    .dataframe thead th {\n",
       "        text-align: right;\n",
       "    }\n",
       "</style>\n",
       "<table border=\"1\" class=\"dataframe\">\n",
       "  <thead>\n",
       "    <tr style=\"text-align: right;\">\n",
       "      <th></th>\n",
       "      <th>gameid</th>\n",
       "      <th>teamname</th>\n",
       "      <th>gamelength</th>\n",
       "      <th>totalgold</th>\n",
       "      <th>gpm</th>\n",
       "      <th>earned gpm</th>\n",
       "      <th>gdpm</th>\n",
       "    </tr>\n",
       "  </thead>\n",
       "  <tbody>\n",
       "    <tr>\n",
       "      <th>67582</th>\n",
       "      <td>ESPORTSTMNT03_3167508</td>\n",
       "      <td>KT Rolster</td>\n",
       "      <td>1894</td>\n",
       "      <td>59180</td>\n",
       "      <td>1874.762408</td>\n",
       "      <td>1219.1024</td>\n",
       "      <td>212.122492</td>\n",
       "    </tr>\n",
       "    <tr>\n",
       "      <th>67583</th>\n",
       "      <td>ESPORTSTMNT03_3167508</td>\n",
       "      <td>Hanwha Life Esports</td>\n",
       "      <td>1894</td>\n",
       "      <td>52484</td>\n",
       "      <td>1662.639916</td>\n",
       "      <td>1006.9799</td>\n",
       "      <td>-212.122492</td>\n",
       "    </tr>\n",
       "    <tr>\n",
       "      <th>67594</th>\n",
       "      <td>ESPORTSTMNT03_3165687</td>\n",
       "      <td>Hanwha Life Esports</td>\n",
       "      <td>1771</td>\n",
       "      <td>64347</td>\n",
       "      <td>2180.022586</td>\n",
       "      <td>1521.3439</td>\n",
       "      <td>495.652174</td>\n",
       "    </tr>\n",
       "    <tr>\n",
       "      <th>67595</th>\n",
       "      <td>ESPORTSTMNT03_3165687</td>\n",
       "      <td>KT Rolster</td>\n",
       "      <td>1771</td>\n",
       "      <td>49717</td>\n",
       "      <td>1684.370412</td>\n",
       "      <td>1025.6917</td>\n",
       "      <td>-495.652174</td>\n",
       "    </tr>\n",
       "    <tr>\n",
       "      <th>67630</th>\n",
       "      <td>ESPORTSTMNT03_3166614</td>\n",
       "      <td>KT Rolster</td>\n",
       "      <td>1605</td>\n",
       "      <td>50073</td>\n",
       "      <td>1871.887850</td>\n",
       "      <td>1208.3738</td>\n",
       "      <td>290.654206</td>\n",
       "    </tr>\n",
       "    <tr>\n",
       "      <th>...</th>\n",
       "      <td>...</td>\n",
       "      <td>...</td>\n",
       "      <td>...</td>\n",
       "      <td>...</td>\n",
       "      <td>...</td>\n",
       "      <td>...</td>\n",
       "      <td>...</td>\n",
       "    </tr>\n",
       "    <tr>\n",
       "      <th>86351</th>\n",
       "      <td>ESPORTSTMNT02_3217260</td>\n",
       "      <td>Nongshim RedForce</td>\n",
       "      <td>2069</td>\n",
       "      <td>64719</td>\n",
       "      <td>1876.819720</td>\n",
       "      <td>1224.8526</td>\n",
       "      <td>163.006283</td>\n",
       "    </tr>\n",
       "    <tr>\n",
       "      <th>86422</th>\n",
       "      <td>ESPORTSTMNT02_3218220</td>\n",
       "      <td>T1</td>\n",
       "      <td>1610</td>\n",
       "      <td>55797</td>\n",
       "      <td>2079.391304</td>\n",
       "      <td>1416.0373</td>\n",
       "      <td>547.304348</td>\n",
       "    </tr>\n",
       "    <tr>\n",
       "      <th>86423</th>\n",
       "      <td>ESPORTSTMNT02_3218220</td>\n",
       "      <td>Nongshim RedForce</td>\n",
       "      <td>1610</td>\n",
       "      <td>41111</td>\n",
       "      <td>1532.086957</td>\n",
       "      <td>868.7329</td>\n",
       "      <td>-547.304348</td>\n",
       "    </tr>\n",
       "    <tr>\n",
       "      <th>86494</th>\n",
       "      <td>ESPORTSTMNT02_3216786</td>\n",
       "      <td>Nongshim RedForce</td>\n",
       "      <td>1692</td>\n",
       "      <td>47943</td>\n",
       "      <td>1700.106383</td>\n",
       "      <td>1039.2553</td>\n",
       "      <td>-413.758865</td>\n",
       "    </tr>\n",
       "    <tr>\n",
       "      <th>86495</th>\n",
       "      <td>ESPORTSTMNT02_3216786</td>\n",
       "      <td>T1</td>\n",
       "      <td>1692</td>\n",
       "      <td>59611</td>\n",
       "      <td>2113.865248</td>\n",
       "      <td>1453.0142</td>\n",
       "      <td>413.758865</td>\n",
       "    </tr>\n",
       "  </tbody>\n",
       "</table>\n",
       "<p>188 rows × 7 columns</p>\n",
       "</div>"
      ],
      "text/plain": [
       "                      gameid             teamname  gamelength  totalgold   \n",
       "67582  ESPORTSTMNT03_3167508           KT Rolster        1894      59180  \\\n",
       "67583  ESPORTSTMNT03_3167508  Hanwha Life Esports        1894      52484   \n",
       "67594  ESPORTSTMNT03_3165687  Hanwha Life Esports        1771      64347   \n",
       "67595  ESPORTSTMNT03_3165687           KT Rolster        1771      49717   \n",
       "67630  ESPORTSTMNT03_3166614           KT Rolster        1605      50073   \n",
       "...                      ...                  ...         ...        ...   \n",
       "86351  ESPORTSTMNT02_3217260    Nongshim RedForce        2069      64719   \n",
       "86422  ESPORTSTMNT02_3218220                   T1        1610      55797   \n",
       "86423  ESPORTSTMNT02_3218220    Nongshim RedForce        1610      41111   \n",
       "86494  ESPORTSTMNT02_3216786    Nongshim RedForce        1692      47943   \n",
       "86495  ESPORTSTMNT02_3216786                   T1        1692      59611   \n",
       "\n",
       "               gpm  earned gpm        gdpm  \n",
       "67582  1874.762408   1219.1024  212.122492  \n",
       "67583  1662.639916   1006.9799 -212.122492  \n",
       "67594  2180.022586   1521.3439  495.652174  \n",
       "67595  1684.370412   1025.6917 -495.652174  \n",
       "67630  1871.887850   1208.3738  290.654206  \n",
       "...            ...         ...         ...  \n",
       "86351  1876.819720   1224.8526  163.006283  \n",
       "86422  2079.391304   1416.0373  547.304348  \n",
       "86423  1532.086957    868.7329 -547.304348  \n",
       "86494  1700.106383   1039.2553 -413.758865  \n",
       "86495  2113.865248   1453.0142  413.758865  \n",
       "\n",
       "[188 rows x 7 columns]"
      ]
     },
     "execution_count": 12,
     "metadata": {},
     "output_type": "execute_result"
    }
   ],
   "source": [
    "teams_data[\n",
    "    [\"gameid\", \"teamname\", \"gamelength\", \"totalgold\", \"gpm\", \"earned gpm\", \"gdpm\"]\n",
    "]"
   ]
  },
  {
   "cell_type": "code",
   "execution_count": 13,
   "metadata": {},
   "outputs": [
    {
     "data": {
      "text/plain": [
       "67690    11.0\n",
       "68374    11.0\n",
       "69155    13.0\n",
       "77974    11.0\n",
       "85450     8.0\n",
       "Name: kd, dtype: float64"
      ]
     },
     "execution_count": 13,
     "metadata": {},
     "output_type": "execute_result"
    }
   ],
   "source": [
    "cond = np.isinf(teams_data[\"kd\"])\n",
    "teams_data.loc[cond, \"kd\"] = teams_data.loc[cond, \"kills\"]\n",
    "teams_data.loc[cond, \"kd\"]"
   ]
  },
  {
   "cell_type": "code",
   "execution_count": 14,
   "metadata": {},
   "outputs": [
    {
     "data": {
      "text/html": [
       "<div>\n",
       "<style scoped>\n",
       "    .dataframe tbody tr th:only-of-type {\n",
       "        vertical-align: middle;\n",
       "    }\n",
       "\n",
       "    .dataframe tbody tr th {\n",
       "        vertical-align: top;\n",
       "    }\n",
       "\n",
       "    .dataframe thead th {\n",
       "        text-align: right;\n",
       "    }\n",
       "</style>\n",
       "<table border=\"1\" class=\"dataframe\">\n",
       "  <thead>\n",
       "    <tr style=\"text-align: right;\">\n",
       "      <th></th>\n",
       "      <th>gamelength</th>\n",
       "      <th>kills</th>\n",
       "      <th>deaths</th>\n",
       "      <th>assists</th>\n",
       "      <th>kd</th>\n",
       "      <th>firstblood</th>\n",
       "      <th>team kpm</th>\n",
       "      <th>ckpm</th>\n",
       "      <th>firstdragon</th>\n",
       "      <th>dragons</th>\n",
       "      <th>opp_dragons</th>\n",
       "      <th>elders</th>\n",
       "      <th>opp_elders</th>\n",
       "      <th>firstherald</th>\n",
       "      <th>heralds</th>\n",
       "      <th>opp_heralds</th>\n",
       "      <th>firstbaron</th>\n",
       "      <th>barons</th>\n",
       "      <th>opp_barons</th>\n",
       "      <th>firsttower</th>\n",
       "      <th>towers</th>\n",
       "      <th>opp_towers</th>\n",
       "      <th>firstmidtower</th>\n",
       "      <th>firsttothreetowers</th>\n",
       "      <th>turretplates</th>\n",
       "      <th>opp_turretplates</th>\n",
       "      <th>inhibitors</th>\n",
       "      <th>opp_inhibitors</th>\n",
       "      <th>dpm</th>\n",
       "      <th>damagetakenperminute</th>\n",
       "      <th>wpm</th>\n",
       "      <th>wcpm</th>\n",
       "      <th>vspm</th>\n",
       "      <th>gpm</th>\n",
       "      <th>gdpm</th>\n",
       "      <th>cspm</th>\n",
       "      <th>golddiffat10</th>\n",
       "      <th>xpdiffat10</th>\n",
       "      <th>csdiffat10</th>\n",
       "      <th>golddiffat15</th>\n",
       "      <th>xpdiffat15</th>\n",
       "      <th>csdiffat15</th>\n",
       "      <th>win_gamelength</th>\n",
       "      <th>loss_gamelength</th>\n",
       "    </tr>\n",
       "    <tr>\n",
       "      <th>Team</th>\n",
       "      <th></th>\n",
       "      <th></th>\n",
       "      <th></th>\n",
       "      <th></th>\n",
       "      <th></th>\n",
       "      <th></th>\n",
       "      <th></th>\n",
       "      <th></th>\n",
       "      <th></th>\n",
       "      <th></th>\n",
       "      <th></th>\n",
       "      <th></th>\n",
       "      <th></th>\n",
       "      <th></th>\n",
       "      <th></th>\n",
       "      <th></th>\n",
       "      <th></th>\n",
       "      <th></th>\n",
       "      <th></th>\n",
       "      <th></th>\n",
       "      <th></th>\n",
       "      <th></th>\n",
       "      <th></th>\n",
       "      <th></th>\n",
       "      <th></th>\n",
       "      <th></th>\n",
       "      <th></th>\n",
       "      <th></th>\n",
       "      <th></th>\n",
       "      <th></th>\n",
       "      <th></th>\n",
       "      <th></th>\n",
       "      <th></th>\n",
       "      <th></th>\n",
       "      <th></th>\n",
       "      <th></th>\n",
       "      <th></th>\n",
       "      <th></th>\n",
       "      <th></th>\n",
       "      <th></th>\n",
       "      <th></th>\n",
       "      <th></th>\n",
       "      <th></th>\n",
       "      <th></th>\n",
       "    </tr>\n",
       "  </thead>\n",
       "  <tbody>\n",
       "    <tr>\n",
       "      <th>KT Rolster</th>\n",
       "      <td>28.524074</td>\n",
       "      <td>13.944444</td>\n",
       "      <td>6.888889</td>\n",
       "      <td>34.444444</td>\n",
       "      <td>3.728439</td>\n",
       "      <td>0.611111</td>\n",
       "      <td>0.510783</td>\n",
       "      <td>0.747183</td>\n",
       "      <td>0.666667</td>\n",
       "      <td>2.777778</td>\n",
       "      <td>1.277778</td>\n",
       "      <td>0.000000</td>\n",
       "      <td>0.000000</td>\n",
       "      <td>0.444444</td>\n",
       "      <td>1.000000</td>\n",
       "      <td>1.000000</td>\n",
       "      <td>0.722222</td>\n",
       "      <td>0.777778</td>\n",
       "      <td>0.333333</td>\n",
       "      <td>0.777778</td>\n",
       "      <td>7.666667</td>\n",
       "      <td>3.277778</td>\n",
       "      <td>0.555556</td>\n",
       "      <td>0.722222</td>\n",
       "      <td>4.777778</td>\n",
       "      <td>4.222222</td>\n",
       "      <td>1.055556</td>\n",
       "      <td>0.333333</td>\n",
       "      <td>2080.503328</td>\n",
       "      <td>2685.431928</td>\n",
       "      <td>3.390311</td>\n",
       "      <td>1.472856</td>\n",
       "      <td>8.215422</td>\n",
       "      <td>1943.727224</td>\n",
       "      <td>230.466881</td>\n",
       "      <td>34.673267</td>\n",
       "      <td>399.333333</td>\n",
       "      <td>62.555556</td>\n",
       "      <td>3.222222</td>\n",
       "      <td>1680.222222</td>\n",
       "      <td>1167.944444</td>\n",
       "      <td>15.388889</td>\n",
       "      <td>28.767778</td>\n",
       "      <td>27.305556</td>\n",
       "    </tr>\n",
       "    <tr>\n",
       "      <th>Hanwha Life Esports</th>\n",
       "      <td>31.077193</td>\n",
       "      <td>11.157895</td>\n",
       "      <td>10.421053</td>\n",
       "      <td>25.578947</td>\n",
       "      <td>2.270554</td>\n",
       "      <td>0.526316</td>\n",
       "      <td>0.363526</td>\n",
       "      <td>0.699847</td>\n",
       "      <td>0.473684</td>\n",
       "      <td>1.947368</td>\n",
       "      <td>2.421053</td>\n",
       "      <td>0.105263</td>\n",
       "      <td>0.052632</td>\n",
       "      <td>0.421053</td>\n",
       "      <td>0.842105</td>\n",
       "      <td>1.157895</td>\n",
       "      <td>0.368421</td>\n",
       "      <td>0.631579</td>\n",
       "      <td>0.684211</td>\n",
       "      <td>0.526316</td>\n",
       "      <td>5.894737</td>\n",
       "      <td>5.842105</td>\n",
       "      <td>0.473684</td>\n",
       "      <td>0.526316</td>\n",
       "      <td>3.947368</td>\n",
       "      <td>4.947368</td>\n",
       "      <td>1.052632</td>\n",
       "      <td>0.947368</td>\n",
       "      <td>2069.240900</td>\n",
       "      <td>2799.821368</td>\n",
       "      <td>3.532789</td>\n",
       "      <td>1.613563</td>\n",
       "      <td>8.730089</td>\n",
       "      <td>1814.248435</td>\n",
       "      <td>10.632039</td>\n",
       "      <td>34.258353</td>\n",
       "      <td>-196.210526</td>\n",
       "      <td>-113.526316</td>\n",
       "      <td>-3.315789</td>\n",
       "      <td>-259.368421</td>\n",
       "      <td>364.315789</td>\n",
       "      <td>-3.684211</td>\n",
       "      <td>32.946667</td>\n",
       "      <td>29.000000</td>\n",
       "    </tr>\n",
       "    <tr>\n",
       "      <th>Dplus KIA</th>\n",
       "      <td>30.241228</td>\n",
       "      <td>10.736842</td>\n",
       "      <td>8.894737</td>\n",
       "      <td>26.789474</td>\n",
       "      <td>2.338029</td>\n",
       "      <td>0.473684</td>\n",
       "      <td>0.356632</td>\n",
       "      <td>0.657158</td>\n",
       "      <td>0.684211</td>\n",
       "      <td>2.473684</td>\n",
       "      <td>1.789474</td>\n",
       "      <td>0.052632</td>\n",
       "      <td>0.052632</td>\n",
       "      <td>0.526316</td>\n",
       "      <td>1.000000</td>\n",
       "      <td>1.000000</td>\n",
       "      <td>0.473684</td>\n",
       "      <td>0.736842</td>\n",
       "      <td>0.526316</td>\n",
       "      <td>0.315789</td>\n",
       "      <td>5.421053</td>\n",
       "      <td>5.210526</td>\n",
       "      <td>0.473684</td>\n",
       "      <td>0.421053</td>\n",
       "      <td>4.842105</td>\n",
       "      <td>4.947368</td>\n",
       "      <td>1.052632</td>\n",
       "      <td>0.526316</td>\n",
       "      <td>2130.751779</td>\n",
       "      <td>2642.174563</td>\n",
       "      <td>3.447474</td>\n",
       "      <td>1.747463</td>\n",
       "      <td>8.596500</td>\n",
       "      <td>1814.646726</td>\n",
       "      <td>49.786634</td>\n",
       "      <td>33.375742</td>\n",
       "      <td>81.210526</td>\n",
       "      <td>146.315789</td>\n",
       "      <td>0.368421</td>\n",
       "      <td>39.789474</td>\n",
       "      <td>45.210526</td>\n",
       "      <td>-1.210526</td>\n",
       "      <td>30.155000</td>\n",
       "      <td>30.337037</td>\n",
       "    </tr>\n",
       "    <tr>\n",
       "      <th>Liiv SANDBOX</th>\n",
       "      <td>32.912281</td>\n",
       "      <td>11.526316</td>\n",
       "      <td>14.000000</td>\n",
       "      <td>28.421053</td>\n",
       "      <td>1.316761</td>\n",
       "      <td>0.421053</td>\n",
       "      <td>0.338268</td>\n",
       "      <td>0.760153</td>\n",
       "      <td>0.473684</td>\n",
       "      <td>1.894737</td>\n",
       "      <td>2.631579</td>\n",
       "      <td>0.052632</td>\n",
       "      <td>0.052632</td>\n",
       "      <td>0.421053</td>\n",
       "      <td>0.842105</td>\n",
       "      <td>1.157895</td>\n",
       "      <td>0.631579</td>\n",
       "      <td>0.736842</td>\n",
       "      <td>0.736842</td>\n",
       "      <td>0.473684</td>\n",
       "      <td>5.263158</td>\n",
       "      <td>7.052632</td>\n",
       "      <td>0.526316</td>\n",
       "      <td>0.421053</td>\n",
       "      <td>3.578947</td>\n",
       "      <td>4.947368</td>\n",
       "      <td>0.842105</td>\n",
       "      <td>1.157895</td>\n",
       "      <td>2023.054189</td>\n",
       "      <td>3050.962426</td>\n",
       "      <td>3.805684</td>\n",
       "      <td>1.812953</td>\n",
       "      <td>9.088974</td>\n",
       "      <td>1773.723438</td>\n",
       "      <td>-97.570519</td>\n",
       "      <td>33.506758</td>\n",
       "      <td>-263.631579</td>\n",
       "      <td>1.105263</td>\n",
       "      <td>1.000000</td>\n",
       "      <td>-1103.368421</td>\n",
       "      <td>-524.736842</td>\n",
       "      <td>-3.263158</td>\n",
       "      <td>31.938889</td>\n",
       "      <td>33.361538</td>\n",
       "    </tr>\n",
       "    <tr>\n",
       "      <th>Kwangdong Freecs</th>\n",
       "      <td>32.387500</td>\n",
       "      <td>10.875000</td>\n",
       "      <td>11.937500</td>\n",
       "      <td>27.000000</td>\n",
       "      <td>1.575840</td>\n",
       "      <td>0.625000</td>\n",
       "      <td>0.323969</td>\n",
       "      <td>0.696081</td>\n",
       "      <td>0.625000</td>\n",
       "      <td>2.562500</td>\n",
       "      <td>1.812500</td>\n",
       "      <td>0.125000</td>\n",
       "      <td>0.062500</td>\n",
       "      <td>0.750000</td>\n",
       "      <td>1.250000</td>\n",
       "      <td>0.750000</td>\n",
       "      <td>0.187500</td>\n",
       "      <td>0.375000</td>\n",
       "      <td>0.937500</td>\n",
       "      <td>0.625000</td>\n",
       "      <td>6.312500</td>\n",
       "      <td>5.625000</td>\n",
       "      <td>0.687500</td>\n",
       "      <td>0.750000</td>\n",
       "      <td>5.375000</td>\n",
       "      <td>3.312500</td>\n",
       "      <td>0.937500</td>\n",
       "      <td>0.750000</td>\n",
       "      <td>2275.768656</td>\n",
       "      <td>3111.012069</td>\n",
       "      <td>3.416444</td>\n",
       "      <td>1.701944</td>\n",
       "      <td>8.681231</td>\n",
       "      <td>1812.323949</td>\n",
       "      <td>8.074605</td>\n",
       "      <td>34.415912</td>\n",
       "      <td>521.812500</td>\n",
       "      <td>276.562500</td>\n",
       "      <td>9.562500</td>\n",
       "      <td>1105.000000</td>\n",
       "      <td>88.375000</td>\n",
       "      <td>10.125000</td>\n",
       "      <td>32.562500</td>\n",
       "      <td>32.212500</td>\n",
       "    </tr>\n",
       "    <tr>\n",
       "      <th>DRX</th>\n",
       "      <td>31.054167</td>\n",
       "      <td>7.950000</td>\n",
       "      <td>14.200000</td>\n",
       "      <td>20.200000</td>\n",
       "      <td>0.878162</td>\n",
       "      <td>0.200000</td>\n",
       "      <td>0.234060</td>\n",
       "      <td>0.705125</td>\n",
       "      <td>0.250000</td>\n",
       "      <td>1.500000</td>\n",
       "      <td>2.900000</td>\n",
       "      <td>0.050000</td>\n",
       "      <td>0.050000</td>\n",
       "      <td>0.550000</td>\n",
       "      <td>1.100000</td>\n",
       "      <td>0.900000</td>\n",
       "      <td>0.350000</td>\n",
       "      <td>0.600000</td>\n",
       "      <td>0.750000</td>\n",
       "      <td>0.250000</td>\n",
       "      <td>3.850000</td>\n",
       "      <td>7.200000</td>\n",
       "      <td>0.350000</td>\n",
       "      <td>0.250000</td>\n",
       "      <td>4.250000</td>\n",
       "      <td>5.350000</td>\n",
       "      <td>0.400000</td>\n",
       "      <td>1.350000</td>\n",
       "      <td>1930.804210</td>\n",
       "      <td>3118.153650</td>\n",
       "      <td>3.527580</td>\n",
       "      <td>1.694280</td>\n",
       "      <td>8.315490</td>\n",
       "      <td>1668.218670</td>\n",
       "      <td>-231.126423</td>\n",
       "      <td>31.548520</td>\n",
       "      <td>-705.550000</td>\n",
       "      <td>-356.450000</td>\n",
       "      <td>-15.650000</td>\n",
       "      <td>-1854.050000</td>\n",
       "      <td>-1249.100000</td>\n",
       "      <td>-29.700000</td>\n",
       "      <td>33.805556</td>\n",
       "      <td>29.875000</td>\n",
       "    </tr>\n",
       "    <tr>\n",
       "      <th>OKSavingsBank BRION</th>\n",
       "      <td>32.515833</td>\n",
       "      <td>7.700000</td>\n",
       "      <td>10.050000</td>\n",
       "      <td>18.300000</td>\n",
       "      <td>1.846564</td>\n",
       "      <td>0.600000</td>\n",
       "      <td>0.231515</td>\n",
       "      <td>0.550410</td>\n",
       "      <td>0.350000</td>\n",
       "      <td>1.850000</td>\n",
       "      <td>2.850000</td>\n",
       "      <td>0.050000</td>\n",
       "      <td>0.150000</td>\n",
       "      <td>0.450000</td>\n",
       "      <td>1.000000</td>\n",
       "      <td>1.000000</td>\n",
       "      <td>0.450000</td>\n",
       "      <td>0.650000</td>\n",
       "      <td>0.750000</td>\n",
       "      <td>0.250000</td>\n",
       "      <td>4.300000</td>\n",
       "      <td>7.450000</td>\n",
       "      <td>0.350000</td>\n",
       "      <td>0.300000</td>\n",
       "      <td>3.850000</td>\n",
       "      <td>5.050000</td>\n",
       "      <td>0.550000</td>\n",
       "      <td>1.300000</td>\n",
       "      <td>1763.934040</td>\n",
       "      <td>2744.562930</td>\n",
       "      <td>3.433030</td>\n",
       "      <td>1.824505</td>\n",
       "      <td>8.440050</td>\n",
       "      <td>1711.968682</td>\n",
       "      <td>-161.670593</td>\n",
       "      <td>33.930515</td>\n",
       "      <td>-72.450000</td>\n",
       "      <td>-224.500000</td>\n",
       "      <td>-6.950000</td>\n",
       "      <td>-417.150000</td>\n",
       "      <td>-394.900000</td>\n",
       "      <td>-7.950000</td>\n",
       "      <td>34.361111</td>\n",
       "      <td>31.725000</td>\n",
       "    </tr>\n",
       "    <tr>\n",
       "      <th>Nongshim RedForce</th>\n",
       "      <td>30.515789</td>\n",
       "      <td>8.052632</td>\n",
       "      <td>12.947368</td>\n",
       "      <td>18.368421</td>\n",
       "      <td>0.897592</td>\n",
       "      <td>0.473684</td>\n",
       "      <td>0.263074</td>\n",
       "      <td>0.691516</td>\n",
       "      <td>0.526316</td>\n",
       "      <td>1.526316</td>\n",
       "      <td>2.578947</td>\n",
       "      <td>0.000000</td>\n",
       "      <td>0.000000</td>\n",
       "      <td>0.473684</td>\n",
       "      <td>1.052632</td>\n",
       "      <td>0.947368</td>\n",
       "      <td>0.210526</td>\n",
       "      <td>0.368421</td>\n",
       "      <td>1.000000</td>\n",
       "      <td>0.315789</td>\n",
       "      <td>3.315789</td>\n",
       "      <td>8.210526</td>\n",
       "      <td>0.368421</td>\n",
       "      <td>0.157895</td>\n",
       "      <td>3.210526</td>\n",
       "      <td>4.368421</td>\n",
       "      <td>0.315789</td>\n",
       "      <td>1.473684</td>\n",
       "      <td>1845.572089</td>\n",
       "      <td>3042.392011</td>\n",
       "      <td>3.738889</td>\n",
       "      <td>1.686195</td>\n",
       "      <td>8.476179</td>\n",
       "      <td>1701.089594</td>\n",
       "      <td>-225.866699</td>\n",
       "      <td>33.169011</td>\n",
       "      <td>-222.789474</td>\n",
       "      <td>-208.157895</td>\n",
       "      <td>-7.631579</td>\n",
       "      <td>-678.157895</td>\n",
       "      <td>-714.789474</td>\n",
       "      <td>-21.947368</td>\n",
       "      <td>32.029167</td>\n",
       "      <td>30.112222</td>\n",
       "    </tr>\n",
       "    <tr>\n",
       "      <th>Gen.G</th>\n",
       "      <td>29.065789</td>\n",
       "      <td>12.263158</td>\n",
       "      <td>7.368421</td>\n",
       "      <td>29.578947</td>\n",
       "      <td>3.939466</td>\n",
       "      <td>0.736842</td>\n",
       "      <td>0.425521</td>\n",
       "      <td>0.673637</td>\n",
       "      <td>0.473684</td>\n",
       "      <td>2.526316</td>\n",
       "      <td>1.578947</td>\n",
       "      <td>0.052632</td>\n",
       "      <td>0.052632</td>\n",
       "      <td>0.473684</td>\n",
       "      <td>0.789474</td>\n",
       "      <td>1.210526</td>\n",
       "      <td>0.684211</td>\n",
       "      <td>0.842105</td>\n",
       "      <td>0.315789</td>\n",
       "      <td>0.789474</td>\n",
       "      <td>7.736842</td>\n",
       "      <td>3.473684</td>\n",
       "      <td>0.526316</td>\n",
       "      <td>0.736842</td>\n",
       "      <td>5.421053</td>\n",
       "      <td>4.473684</td>\n",
       "      <td>1.315789</td>\n",
       "      <td>0.368421</td>\n",
       "      <td>2129.637979</td>\n",
       "      <td>2662.007153</td>\n",
       "      <td>3.206053</td>\n",
       "      <td>1.706332</td>\n",
       "      <td>8.509700</td>\n",
       "      <td>1927.978364</td>\n",
       "      <td>249.111451</td>\n",
       "      <td>35.232153</td>\n",
       "      <td>214.210526</td>\n",
       "      <td>187.157895</td>\n",
       "      <td>8.368421</td>\n",
       "      <td>813.789474</td>\n",
       "      <td>695.421053</td>\n",
       "      <td>25.789474</td>\n",
       "      <td>29.191667</td>\n",
       "      <td>28.394444</td>\n",
       "    </tr>\n",
       "    <tr>\n",
       "      <th>T1</th>\n",
       "      <td>30.356140</td>\n",
       "      <td>13.105263</td>\n",
       "      <td>10.368421</td>\n",
       "      <td>32.157895</td>\n",
       "      <td>1.827669</td>\n",
       "      <td>0.368421</td>\n",
       "      <td>0.445074</td>\n",
       "      <td>0.779874</td>\n",
       "      <td>0.526316</td>\n",
       "      <td>2.684211</td>\n",
       "      <td>1.578947</td>\n",
       "      <td>0.000000</td>\n",
       "      <td>0.000000</td>\n",
       "      <td>0.526316</td>\n",
       "      <td>1.157895</td>\n",
       "      <td>0.842105</td>\n",
       "      <td>0.526316</td>\n",
       "      <td>0.789474</td>\n",
       "      <td>0.526316</td>\n",
       "      <td>0.736842</td>\n",
       "      <td>7.736842</td>\n",
       "      <td>3.473684</td>\n",
       "      <td>0.736842</td>\n",
       "      <td>0.789474</td>\n",
       "      <td>6.105263</td>\n",
       "      <td>3.263158</td>\n",
       "      <td>1.315789</td>\n",
       "      <td>0.473684</td>\n",
       "      <td>2304.447242</td>\n",
       "      <td>2778.163416</td>\n",
       "      <td>3.515121</td>\n",
       "      <td>1.709295</td>\n",
       "      <td>8.472247</td>\n",
       "      <td>1915.294795</td>\n",
       "      <td>202.240924</td>\n",
       "      <td>34.270700</td>\n",
       "      <td>388.421053</td>\n",
       "      <td>306.473684</td>\n",
       "      <td>13.894737</td>\n",
       "      <td>1055.736842</td>\n",
       "      <td>684.210526</td>\n",
       "      <td>20.842105</td>\n",
       "      <td>29.405128</td>\n",
       "      <td>32.416667</td>\n",
       "    </tr>\n",
       "  </tbody>\n",
       "</table>\n",
       "</div>"
      ],
      "text/plain": [
       "                     gamelength      kills     deaths    assists        kd   \n",
       "Team                                                                         \n",
       "KT Rolster            28.524074  13.944444   6.888889  34.444444  3.728439  \\\n",
       "Hanwha Life Esports   31.077193  11.157895  10.421053  25.578947  2.270554   \n",
       "Dplus KIA             30.241228  10.736842   8.894737  26.789474  2.338029   \n",
       "Liiv SANDBOX          32.912281  11.526316  14.000000  28.421053  1.316761   \n",
       "Kwangdong Freecs      32.387500  10.875000  11.937500  27.000000  1.575840   \n",
       "DRX                   31.054167   7.950000  14.200000  20.200000  0.878162   \n",
       "OKSavingsBank BRION   32.515833   7.700000  10.050000  18.300000  1.846564   \n",
       "Nongshim RedForce     30.515789   8.052632  12.947368  18.368421  0.897592   \n",
       "Gen.G                 29.065789  12.263158   7.368421  29.578947  3.939466   \n",
       "T1                    30.356140  13.105263  10.368421  32.157895  1.827669   \n",
       "\n",
       "                     firstblood  team kpm      ckpm  firstdragon   dragons   \n",
       "Team                                                                         \n",
       "KT Rolster             0.611111  0.510783  0.747183     0.666667  2.777778  \\\n",
       "Hanwha Life Esports    0.526316  0.363526  0.699847     0.473684  1.947368   \n",
       "Dplus KIA              0.473684  0.356632  0.657158     0.684211  2.473684   \n",
       "Liiv SANDBOX           0.421053  0.338268  0.760153     0.473684  1.894737   \n",
       "Kwangdong Freecs       0.625000  0.323969  0.696081     0.625000  2.562500   \n",
       "DRX                    0.200000  0.234060  0.705125     0.250000  1.500000   \n",
       "OKSavingsBank BRION    0.600000  0.231515  0.550410     0.350000  1.850000   \n",
       "Nongshim RedForce      0.473684  0.263074  0.691516     0.526316  1.526316   \n",
       "Gen.G                  0.736842  0.425521  0.673637     0.473684  2.526316   \n",
       "T1                     0.368421  0.445074  0.779874     0.526316  2.684211   \n",
       "\n",
       "                     opp_dragons    elders  opp_elders  firstherald   heralds   \n",
       "Team                                                                            \n",
       "KT Rolster              1.277778  0.000000    0.000000     0.444444  1.000000  \\\n",
       "Hanwha Life Esports     2.421053  0.105263    0.052632     0.421053  0.842105   \n",
       "Dplus KIA               1.789474  0.052632    0.052632     0.526316  1.000000   \n",
       "Liiv SANDBOX            2.631579  0.052632    0.052632     0.421053  0.842105   \n",
       "Kwangdong Freecs        1.812500  0.125000    0.062500     0.750000  1.250000   \n",
       "DRX                     2.900000  0.050000    0.050000     0.550000  1.100000   \n",
       "OKSavingsBank BRION     2.850000  0.050000    0.150000     0.450000  1.000000   \n",
       "Nongshim RedForce       2.578947  0.000000    0.000000     0.473684  1.052632   \n",
       "Gen.G                   1.578947  0.052632    0.052632     0.473684  0.789474   \n",
       "T1                      1.578947  0.000000    0.000000     0.526316  1.157895   \n",
       "\n",
       "                     opp_heralds  firstbaron    barons  opp_barons   \n",
       "Team                                                                 \n",
       "KT Rolster              1.000000    0.722222  0.777778    0.333333  \\\n",
       "Hanwha Life Esports     1.157895    0.368421  0.631579    0.684211   \n",
       "Dplus KIA               1.000000    0.473684  0.736842    0.526316   \n",
       "Liiv SANDBOX            1.157895    0.631579  0.736842    0.736842   \n",
       "Kwangdong Freecs        0.750000    0.187500  0.375000    0.937500   \n",
       "DRX                     0.900000    0.350000  0.600000    0.750000   \n",
       "OKSavingsBank BRION     1.000000    0.450000  0.650000    0.750000   \n",
       "Nongshim RedForce       0.947368    0.210526  0.368421    1.000000   \n",
       "Gen.G                   1.210526    0.684211  0.842105    0.315789   \n",
       "T1                      0.842105    0.526316  0.789474    0.526316   \n",
       "\n",
       "                     firsttower    towers  opp_towers  firstmidtower   \n",
       "Team                                                                   \n",
       "KT Rolster             0.777778  7.666667    3.277778       0.555556  \\\n",
       "Hanwha Life Esports    0.526316  5.894737    5.842105       0.473684   \n",
       "Dplus KIA              0.315789  5.421053    5.210526       0.473684   \n",
       "Liiv SANDBOX           0.473684  5.263158    7.052632       0.526316   \n",
       "Kwangdong Freecs       0.625000  6.312500    5.625000       0.687500   \n",
       "DRX                    0.250000  3.850000    7.200000       0.350000   \n",
       "OKSavingsBank BRION    0.250000  4.300000    7.450000       0.350000   \n",
       "Nongshim RedForce      0.315789  3.315789    8.210526       0.368421   \n",
       "Gen.G                  0.789474  7.736842    3.473684       0.526316   \n",
       "T1                     0.736842  7.736842    3.473684       0.736842   \n",
       "\n",
       "                     firsttothreetowers  turretplates  opp_turretplates   \n",
       "Team                                                                      \n",
       "KT Rolster                     0.722222      4.777778          4.222222  \\\n",
       "Hanwha Life Esports            0.526316      3.947368          4.947368   \n",
       "Dplus KIA                      0.421053      4.842105          4.947368   \n",
       "Liiv SANDBOX                   0.421053      3.578947          4.947368   \n",
       "Kwangdong Freecs               0.750000      5.375000          3.312500   \n",
       "DRX                            0.250000      4.250000          5.350000   \n",
       "OKSavingsBank BRION            0.300000      3.850000          5.050000   \n",
       "Nongshim RedForce              0.157895      3.210526          4.368421   \n",
       "Gen.G                          0.736842      5.421053          4.473684   \n",
       "T1                             0.789474      6.105263          3.263158   \n",
       "\n",
       "                     inhibitors  opp_inhibitors          dpm   \n",
       "Team                                                           \n",
       "KT Rolster             1.055556        0.333333  2080.503328  \\\n",
       "Hanwha Life Esports    1.052632        0.947368  2069.240900   \n",
       "Dplus KIA              1.052632        0.526316  2130.751779   \n",
       "Liiv SANDBOX           0.842105        1.157895  2023.054189   \n",
       "Kwangdong Freecs       0.937500        0.750000  2275.768656   \n",
       "DRX                    0.400000        1.350000  1930.804210   \n",
       "OKSavingsBank BRION    0.550000        1.300000  1763.934040   \n",
       "Nongshim RedForce      0.315789        1.473684  1845.572089   \n",
       "Gen.G                  1.315789        0.368421  2129.637979   \n",
       "T1                     1.315789        0.473684  2304.447242   \n",
       "\n",
       "                     damagetakenperminute       wpm      wcpm      vspm   \n",
       "Team                                                                      \n",
       "KT Rolster                    2685.431928  3.390311  1.472856  8.215422  \\\n",
       "Hanwha Life Esports           2799.821368  3.532789  1.613563  8.730089   \n",
       "Dplus KIA                     2642.174563  3.447474  1.747463  8.596500   \n",
       "Liiv SANDBOX                  3050.962426  3.805684  1.812953  9.088974   \n",
       "Kwangdong Freecs              3111.012069  3.416444  1.701944  8.681231   \n",
       "DRX                           3118.153650  3.527580  1.694280  8.315490   \n",
       "OKSavingsBank BRION           2744.562930  3.433030  1.824505  8.440050   \n",
       "Nongshim RedForce             3042.392011  3.738889  1.686195  8.476179   \n",
       "Gen.G                         2662.007153  3.206053  1.706332  8.509700   \n",
       "T1                            2778.163416  3.515121  1.709295  8.472247   \n",
       "\n",
       "                             gpm        gdpm       cspm  golddiffat10   \n",
       "Team                                                                    \n",
       "KT Rolster           1943.727224  230.466881  34.673267    399.333333  \\\n",
       "Hanwha Life Esports  1814.248435   10.632039  34.258353   -196.210526   \n",
       "Dplus KIA            1814.646726   49.786634  33.375742     81.210526   \n",
       "Liiv SANDBOX         1773.723438  -97.570519  33.506758   -263.631579   \n",
       "Kwangdong Freecs     1812.323949    8.074605  34.415912    521.812500   \n",
       "DRX                  1668.218670 -231.126423  31.548520   -705.550000   \n",
       "OKSavingsBank BRION  1711.968682 -161.670593  33.930515    -72.450000   \n",
       "Nongshim RedForce    1701.089594 -225.866699  33.169011   -222.789474   \n",
       "Gen.G                1927.978364  249.111451  35.232153    214.210526   \n",
       "T1                   1915.294795  202.240924  34.270700    388.421053   \n",
       "\n",
       "                     xpdiffat10  csdiffat10  golddiffat15   xpdiffat15   \n",
       "Team                                                                     \n",
       "KT Rolster            62.555556    3.222222   1680.222222  1167.944444  \\\n",
       "Hanwha Life Esports -113.526316   -3.315789   -259.368421   364.315789   \n",
       "Dplus KIA            146.315789    0.368421     39.789474    45.210526   \n",
       "Liiv SANDBOX           1.105263    1.000000  -1103.368421  -524.736842   \n",
       "Kwangdong Freecs     276.562500    9.562500   1105.000000    88.375000   \n",
       "DRX                 -356.450000  -15.650000  -1854.050000 -1249.100000   \n",
       "OKSavingsBank BRION -224.500000   -6.950000   -417.150000  -394.900000   \n",
       "Nongshim RedForce   -208.157895   -7.631579   -678.157895  -714.789474   \n",
       "Gen.G                187.157895    8.368421    813.789474   695.421053   \n",
       "T1                   306.473684   13.894737   1055.736842   684.210526   \n",
       "\n",
       "                     csdiffat15  win_gamelength  loss_gamelength  \n",
       "Team                                                              \n",
       "KT Rolster            15.388889       28.767778        27.305556  \n",
       "Hanwha Life Esports   -3.684211       32.946667        29.000000  \n",
       "Dplus KIA             -1.210526       30.155000        30.337037  \n",
       "Liiv SANDBOX          -3.263158       31.938889        33.361538  \n",
       "Kwangdong Freecs      10.125000       32.562500        32.212500  \n",
       "DRX                  -29.700000       33.805556        29.875000  \n",
       "OKSavingsBank BRION   -7.950000       34.361111        31.725000  \n",
       "Nongshim RedForce    -21.947368       32.029167        30.112222  \n",
       "Gen.G                 25.789474       29.191667        28.394444  \n",
       "T1                    20.842105       29.405128        32.416667  "
      ]
     },
     "execution_count": 14,
     "metadata": {},
     "output_type": "execute_result"
    }
   ],
   "source": [
    "teams_id = teams_data[\"teamid\"].unique()\n",
    "groupby = teams_data.groupby(\"teamid\")\n",
    "teams_stats = pd.DataFrame(index=teams_id)\n",
    "teams_stats[\"Team\"] = groupby.last()[\"teamname\"]\n",
    "\n",
    "columns = [\n",
    "    \"gamelength\",\n",
    "    \"kills\",\n",
    "    \"deaths\",\n",
    "    \"assists\",\n",
    "    \"kd\",\n",
    "    \"firstblood\",\n",
    "    \"team kpm\",\n",
    "    \"ckpm\",\n",
    "    \"firstdragon\",\n",
    "    \"dragons\",\n",
    "    \"opp_dragons\",\n",
    "    \"elders\",\n",
    "    \"opp_elders\",\n",
    "    \"firstherald\",\n",
    "    \"heralds\",\n",
    "    \"opp_heralds\",\n",
    "    \"firstbaron\",\n",
    "    \"barons\",\n",
    "    \"opp_barons\",\n",
    "    \"firsttower\",\n",
    "    \"towers\",\n",
    "    \"opp_towers\",\n",
    "    \"firstmidtower\",\n",
    "    \"firsttothreetowers\",\n",
    "    \"turretplates\",\n",
    "    \"opp_turretplates\",\n",
    "    \"inhibitors\",\n",
    "    \"opp_inhibitors\",\n",
    "    \"dpm\",\n",
    "    \"damagetakenperminute\",\n",
    "    \"wpm\",\n",
    "    \"wcpm\",\n",
    "    \"vspm\",\n",
    "    \"gpm\",\n",
    "    \"gdpm\",\n",
    "    \"cspm\",\n",
    "    \"golddiffat10\",\n",
    "    \"xpdiffat10\",\n",
    "    \"csdiffat10\",\n",
    "    \"golddiffat15\",\n",
    "    \"xpdiffat15\",\n",
    "    \"csdiffat15\",\n",
    "]\n",
    "teams_stats[columns] = groupby[columns].mean()\n",
    "teams_stats[\"win_gamelength\"] = (\n",
    "    teams_data.loc[teams_data[\"result\"] == 1].groupby(\"teamid\")[\"gamelength\"].mean()\n",
    ")\n",
    "teams_stats[\"loss_gamelength\"] = (\n",
    "    teams_data.loc[teams_data[\"result\"] == 0].groupby(\"teamid\")[\"gamelength\"].mean()\n",
    ")\n",
    "teams_stats[[\"gamelength\", \"win_gamelength\", \"loss_gamelength\"]] /= 60\n",
    "\n",
    "\n",
    "teams_stats.set_index(\"Team\", inplace=True)\n",
    "teams_stats"
   ]
  },
  {
   "cell_type": "code",
   "execution_count": 15,
   "metadata": {},
   "outputs": [
    {
     "data": {
      "text/html": [
       "<div>\n",
       "<style scoped>\n",
       "    .dataframe tbody tr th:only-of-type {\n",
       "        vertical-align: middle;\n",
       "    }\n",
       "\n",
       "    .dataframe tbody tr th {\n",
       "        vertical-align: top;\n",
       "    }\n",
       "\n",
       "    .dataframe thead th {\n",
       "        text-align: right;\n",
       "    }\n",
       "</style>\n",
       "<table border=\"1\" class=\"dataframe\">\n",
       "  <thead>\n",
       "    <tr style=\"text-align: right;\">\n",
       "      <th></th>\n",
       "      <th>gamelength</th>\n",
       "      <th>kills</th>\n",
       "      <th>deaths</th>\n",
       "      <th>assists</th>\n",
       "      <th>kd</th>\n",
       "      <th>firstblood</th>\n",
       "      <th>team kpm</th>\n",
       "      <th>ckpm</th>\n",
       "      <th>firstdragon</th>\n",
       "      <th>dragons</th>\n",
       "      <th>opp_dragons</th>\n",
       "      <th>elders</th>\n",
       "      <th>opp_elders</th>\n",
       "      <th>firstherald</th>\n",
       "      <th>heralds</th>\n",
       "      <th>opp_heralds</th>\n",
       "      <th>firstbaron</th>\n",
       "      <th>barons</th>\n",
       "      <th>opp_barons</th>\n",
       "      <th>firsttower</th>\n",
       "      <th>towers</th>\n",
       "      <th>opp_towers</th>\n",
       "      <th>firstmidtower</th>\n",
       "      <th>firsttothreetowers</th>\n",
       "      <th>turretplates</th>\n",
       "      <th>opp_turretplates</th>\n",
       "      <th>inhibitors</th>\n",
       "      <th>opp_inhibitors</th>\n",
       "      <th>dpm</th>\n",
       "      <th>damagetakenperminute</th>\n",
       "      <th>wpm</th>\n",
       "      <th>wcpm</th>\n",
       "      <th>vspm</th>\n",
       "      <th>gpm</th>\n",
       "      <th>gdpm</th>\n",
       "      <th>cspm</th>\n",
       "      <th>golddiffat10</th>\n",
       "      <th>xpdiffat10</th>\n",
       "      <th>csdiffat10</th>\n",
       "      <th>golddiffat15</th>\n",
       "      <th>xpdiffat15</th>\n",
       "      <th>csdiffat15</th>\n",
       "      <th>win_gamelength</th>\n",
       "      <th>loss_gamelength</th>\n",
       "      <th>_kd</th>\n",
       "      <th>_firstblood</th>\n",
       "      <th>_team kpm</th>\n",
       "      <th>_dpm</th>\n",
       "      <th>_damagetakenperminute</th>\n",
       "      <th>_firstdragon</th>\n",
       "      <th>_dragons</th>\n",
       "      <th>_firstherald</th>\n",
       "      <th>_heralds</th>\n",
       "      <th>_firstbaron</th>\n",
       "      <th>_barons</th>\n",
       "      <th>_elders</th>\n",
       "      <th>_firsttower</th>\n",
       "      <th>_towers</th>\n",
       "      <th>_firstmidtower</th>\n",
       "      <th>_firsttothreetowers</th>\n",
       "      <th>_turretplates</th>\n",
       "      <th>_gamelength</th>\n",
       "      <th>_win_gamelength</th>\n",
       "      <th>_loss_gamelength</th>\n",
       "      <th>_gpm</th>\n",
       "      <th>_gdpm</th>\n",
       "      <th>_wpm</th>\n",
       "      <th>_wcpm</th>\n",
       "      <th>_vspm</th>\n",
       "      <th>_golddiffat10</th>\n",
       "      <th>_xpdiffat10</th>\n",
       "      <th>_csdiffat10</th>\n",
       "      <th>_golddiffat15</th>\n",
       "      <th>_xpdiffat15</th>\n",
       "      <th>_csdiffat15</th>\n",
       "    </tr>\n",
       "  </thead>\n",
       "  <tbody>\n",
       "    <tr>\n",
       "      <th>DRX</th>\n",
       "      <td>31.054167</td>\n",
       "      <td>7.950000</td>\n",
       "      <td>14.200000</td>\n",
       "      <td>20.200000</td>\n",
       "      <td>0.878162</td>\n",
       "      <td>0.200000</td>\n",
       "      <td>0.234060</td>\n",
       "      <td>0.705125</td>\n",
       "      <td>0.250000</td>\n",
       "      <td>1.500000</td>\n",
       "      <td>2.900000</td>\n",
       "      <td>0.050000</td>\n",
       "      <td>0.050000</td>\n",
       "      <td>0.550000</td>\n",
       "      <td>1.100000</td>\n",
       "      <td>0.900000</td>\n",
       "      <td>0.350000</td>\n",
       "      <td>0.600000</td>\n",
       "      <td>0.750000</td>\n",
       "      <td>0.250000</td>\n",
       "      <td>3.850000</td>\n",
       "      <td>7.200000</td>\n",
       "      <td>0.350000</td>\n",
       "      <td>0.250000</td>\n",
       "      <td>4.250000</td>\n",
       "      <td>5.350000</td>\n",
       "      <td>0.400000</td>\n",
       "      <td>1.350000</td>\n",
       "      <td>1930.804210</td>\n",
       "      <td>3118.153650</td>\n",
       "      <td>3.527580</td>\n",
       "      <td>1.694280</td>\n",
       "      <td>8.315490</td>\n",
       "      <td>1668.218670</td>\n",
       "      <td>-231.126423</td>\n",
       "      <td>31.548520</td>\n",
       "      <td>-705.550000</td>\n",
       "      <td>-356.450000</td>\n",
       "      <td>-15.650000</td>\n",
       "      <td>-1854.050000</td>\n",
       "      <td>-1249.100000</td>\n",
       "      <td>-29.700000</td>\n",
       "      <td>33.805556</td>\n",
       "      <td>29.875000</td>\n",
       "      <td>0.000000</td>\n",
       "      <td>0.000000</td>\n",
       "      <td>0.009113</td>\n",
       "      <td>0.308725</td>\n",
       "      <td>1.000000</td>\n",
       "      <td>0.000000</td>\n",
       "      <td>0.000000</td>\n",
       "      <td>0.392000</td>\n",
       "      <td>0.674286</td>\n",
       "      <td>0.303896</td>\n",
       "      <td>0.488889</td>\n",
       "      <td>0.400000</td>\n",
       "      <td>0.000000</td>\n",
       "      <td>0.120833</td>\n",
       "      <td>0.000000</td>\n",
       "      <td>0.145833</td>\n",
       "      <td>0.359091</td>\n",
       "      <td>0.576566</td>\n",
       "      <td>0.900675</td>\n",
       "      <td>0.424282</td>\n",
       "      <td>0.000000</td>\n",
       "      <td>0.000000</td>\n",
       "      <td>0.536208</td>\n",
       "      <td>0.629674</td>\n",
       "      <td>0.114553</td>\n",
       "      <td>0.000000</td>\n",
       "      <td>0.000000</td>\n",
       "      <td>0.000000</td>\n",
       "      <td>0.000000</td>\n",
       "      <td>0.000000</td>\n",
       "      <td>0.000000</td>\n",
       "    </tr>\n",
       "    <tr>\n",
       "      <th>Dplus KIA</th>\n",
       "      <td>30.241228</td>\n",
       "      <td>10.736842</td>\n",
       "      <td>8.894737</td>\n",
       "      <td>26.789474</td>\n",
       "      <td>2.338029</td>\n",
       "      <td>0.473684</td>\n",
       "      <td>0.356632</td>\n",
       "      <td>0.657158</td>\n",
       "      <td>0.684211</td>\n",
       "      <td>2.473684</td>\n",
       "      <td>1.789474</td>\n",
       "      <td>0.052632</td>\n",
       "      <td>0.052632</td>\n",
       "      <td>0.526316</td>\n",
       "      <td>1.000000</td>\n",
       "      <td>1.000000</td>\n",
       "      <td>0.473684</td>\n",
       "      <td>0.736842</td>\n",
       "      <td>0.526316</td>\n",
       "      <td>0.315789</td>\n",
       "      <td>5.421053</td>\n",
       "      <td>5.210526</td>\n",
       "      <td>0.473684</td>\n",
       "      <td>0.421053</td>\n",
       "      <td>4.842105</td>\n",
       "      <td>4.947368</td>\n",
       "      <td>1.052632</td>\n",
       "      <td>0.526316</td>\n",
       "      <td>2130.751779</td>\n",
       "      <td>2642.174563</td>\n",
       "      <td>3.447474</td>\n",
       "      <td>1.747463</td>\n",
       "      <td>8.596500</td>\n",
       "      <td>1814.646726</td>\n",
       "      <td>49.786634</td>\n",
       "      <td>33.375742</td>\n",
       "      <td>81.210526</td>\n",
       "      <td>146.315789</td>\n",
       "      <td>0.368421</td>\n",
       "      <td>39.789474</td>\n",
       "      <td>45.210526</td>\n",
       "      <td>-1.210526</td>\n",
       "      <td>30.155000</td>\n",
       "      <td>30.337037</td>\n",
       "      <td>0.476877</td>\n",
       "      <td>0.509804</td>\n",
       "      <td>0.448016</td>\n",
       "      <td>0.678647</td>\n",
       "      <td>0.000000</td>\n",
       "      <td>1.000000</td>\n",
       "      <td>0.762014</td>\n",
       "      <td>0.320000</td>\n",
       "      <td>0.457143</td>\n",
       "      <td>0.535202</td>\n",
       "      <td>0.777778</td>\n",
       "      <td>0.421053</td>\n",
       "      <td>0.121951</td>\n",
       "      <td>0.476190</td>\n",
       "      <td>0.319728</td>\n",
       "      <td>0.416667</td>\n",
       "      <td>0.563636</td>\n",
       "      <td>0.391311</td>\n",
       "      <td>0.248014</td>\n",
       "      <td>0.500576</td>\n",
       "      <td>0.531483</td>\n",
       "      <td>0.584946</td>\n",
       "      <td>0.402616</td>\n",
       "      <td>0.780913</td>\n",
       "      <td>0.436240</td>\n",
       "      <td>0.641017</td>\n",
       "      <td>0.758407</td>\n",
       "      <td>0.542175</td>\n",
       "      <td>0.535850</td>\n",
       "      <td>0.535493</td>\n",
       "      <td>0.513421</td>\n",
       "    </tr>\n",
       "    <tr>\n",
       "      <th>Gen.G</th>\n",
       "      <td>29.065789</td>\n",
       "      <td>12.263158</td>\n",
       "      <td>7.368421</td>\n",
       "      <td>29.578947</td>\n",
       "      <td>3.939466</td>\n",
       "      <td>0.736842</td>\n",
       "      <td>0.425521</td>\n",
       "      <td>0.673637</td>\n",
       "      <td>0.473684</td>\n",
       "      <td>2.526316</td>\n",
       "      <td>1.578947</td>\n",
       "      <td>0.052632</td>\n",
       "      <td>0.052632</td>\n",
       "      <td>0.473684</td>\n",
       "      <td>0.789474</td>\n",
       "      <td>1.210526</td>\n",
       "      <td>0.684211</td>\n",
       "      <td>0.842105</td>\n",
       "      <td>0.315789</td>\n",
       "      <td>0.789474</td>\n",
       "      <td>7.736842</td>\n",
       "      <td>3.473684</td>\n",
       "      <td>0.526316</td>\n",
       "      <td>0.736842</td>\n",
       "      <td>5.421053</td>\n",
       "      <td>4.473684</td>\n",
       "      <td>1.315789</td>\n",
       "      <td>0.368421</td>\n",
       "      <td>2129.637979</td>\n",
       "      <td>2662.007153</td>\n",
       "      <td>3.206053</td>\n",
       "      <td>1.706332</td>\n",
       "      <td>8.509700</td>\n",
       "      <td>1927.978364</td>\n",
       "      <td>249.111451</td>\n",
       "      <td>35.232153</td>\n",
       "      <td>214.210526</td>\n",
       "      <td>187.157895</td>\n",
       "      <td>8.368421</td>\n",
       "      <td>813.789474</td>\n",
       "      <td>695.421053</td>\n",
       "      <td>25.789474</td>\n",
       "      <td>29.191667</td>\n",
       "      <td>28.394444</td>\n",
       "      <td>1.000000</td>\n",
       "      <td>1.000000</td>\n",
       "      <td>0.694694</td>\n",
       "      <td>0.676587</td>\n",
       "      <td>0.041667</td>\n",
       "      <td>0.515152</td>\n",
       "      <td>0.803204</td>\n",
       "      <td>0.160000</td>\n",
       "      <td>0.000000</td>\n",
       "      <td>0.928913</td>\n",
       "      <td>1.000000</td>\n",
       "      <td>0.421053</td>\n",
       "      <td>1.000000</td>\n",
       "      <td>1.000000</td>\n",
       "      <td>0.455782</td>\n",
       "      <td>0.916667</td>\n",
       "      <td>0.763636</td>\n",
       "      <td>0.123448</td>\n",
       "      <td>0.075785</td>\n",
       "      <td>0.179804</td>\n",
       "      <td>0.942837</td>\n",
       "      <td>1.000000</td>\n",
       "      <td>0.000000</td>\n",
       "      <td>0.663945</td>\n",
       "      <td>0.336875</td>\n",
       "      <td>0.749380</td>\n",
       "      <td>0.820016</td>\n",
       "      <td>0.812951</td>\n",
       "      <td>0.754848</td>\n",
       "      <td>0.804504</td>\n",
       "      <td>1.000000</td>\n",
       "    </tr>\n",
       "    <tr>\n",
       "      <th>Hanwha Life Esports</th>\n",
       "      <td>31.077193</td>\n",
       "      <td>11.157895</td>\n",
       "      <td>10.421053</td>\n",
       "      <td>25.578947</td>\n",
       "      <td>2.270554</td>\n",
       "      <td>0.526316</td>\n",
       "      <td>0.363526</td>\n",
       "      <td>0.699847</td>\n",
       "      <td>0.473684</td>\n",
       "      <td>1.947368</td>\n",
       "      <td>2.421053</td>\n",
       "      <td>0.105263</td>\n",
       "      <td>0.052632</td>\n",
       "      <td>0.421053</td>\n",
       "      <td>0.842105</td>\n",
       "      <td>1.157895</td>\n",
       "      <td>0.368421</td>\n",
       "      <td>0.631579</td>\n",
       "      <td>0.684211</td>\n",
       "      <td>0.526316</td>\n",
       "      <td>5.894737</td>\n",
       "      <td>5.842105</td>\n",
       "      <td>0.473684</td>\n",
       "      <td>0.526316</td>\n",
       "      <td>3.947368</td>\n",
       "      <td>4.947368</td>\n",
       "      <td>1.052632</td>\n",
       "      <td>0.947368</td>\n",
       "      <td>2069.240900</td>\n",
       "      <td>2799.821368</td>\n",
       "      <td>3.532789</td>\n",
       "      <td>1.613563</td>\n",
       "      <td>8.730089</td>\n",
       "      <td>1814.248435</td>\n",
       "      <td>10.632039</td>\n",
       "      <td>34.258353</td>\n",
       "      <td>-196.210526</td>\n",
       "      <td>-113.526316</td>\n",
       "      <td>-3.315789</td>\n",
       "      <td>-259.368421</td>\n",
       "      <td>364.315789</td>\n",
       "      <td>-3.684211</td>\n",
       "      <td>32.946667</td>\n",
       "      <td>29.000000</td>\n",
       "      <td>0.454836</td>\n",
       "      <td>0.607843</td>\n",
       "      <td>0.472704</td>\n",
       "      <td>0.564846</td>\n",
       "      <td>0.331205</td>\n",
       "      <td>0.515152</td>\n",
       "      <td>0.350114</td>\n",
       "      <td>0.000000</td>\n",
       "      <td>0.114286</td>\n",
       "      <td>0.338346</td>\n",
       "      <td>0.555556</td>\n",
       "      <td>0.842105</td>\n",
       "      <td>0.512195</td>\n",
       "      <td>0.583333</td>\n",
       "      <td>0.319728</td>\n",
       "      <td>0.583333</td>\n",
       "      <td>0.254545</td>\n",
       "      <td>0.581814</td>\n",
       "      <td>0.747120</td>\n",
       "      <td>0.279797</td>\n",
       "      <td>0.530037</td>\n",
       "      <td>0.503414</td>\n",
       "      <td>0.544896</td>\n",
       "      <td>0.400136</td>\n",
       "      <td>0.589166</td>\n",
       "      <td>0.414987</td>\n",
       "      <td>0.366443</td>\n",
       "      <td>0.417476</td>\n",
       "      <td>0.451205</td>\n",
       "      <td>0.667516</td>\n",
       "      <td>0.468842</td>\n",
       "    </tr>\n",
       "    <tr>\n",
       "      <th>KT Rolster</th>\n",
       "      <td>28.524074</td>\n",
       "      <td>13.944444</td>\n",
       "      <td>6.888889</td>\n",
       "      <td>34.444444</td>\n",
       "      <td>3.728439</td>\n",
       "      <td>0.611111</td>\n",
       "      <td>0.510783</td>\n",
       "      <td>0.747183</td>\n",
       "      <td>0.666667</td>\n",
       "      <td>2.777778</td>\n",
       "      <td>1.277778</td>\n",
       "      <td>0.000000</td>\n",
       "      <td>0.000000</td>\n",
       "      <td>0.444444</td>\n",
       "      <td>1.000000</td>\n",
       "      <td>1.000000</td>\n",
       "      <td>0.722222</td>\n",
       "      <td>0.777778</td>\n",
       "      <td>0.333333</td>\n",
       "      <td>0.777778</td>\n",
       "      <td>7.666667</td>\n",
       "      <td>3.277778</td>\n",
       "      <td>0.555556</td>\n",
       "      <td>0.722222</td>\n",
       "      <td>4.777778</td>\n",
       "      <td>4.222222</td>\n",
       "      <td>1.055556</td>\n",
       "      <td>0.333333</td>\n",
       "      <td>2080.503328</td>\n",
       "      <td>2685.431928</td>\n",
       "      <td>3.390311</td>\n",
       "      <td>1.472856</td>\n",
       "      <td>8.215422</td>\n",
       "      <td>1943.727224</td>\n",
       "      <td>230.466881</td>\n",
       "      <td>34.673267</td>\n",
       "      <td>399.333333</td>\n",
       "      <td>62.555556</td>\n",
       "      <td>3.222222</td>\n",
       "      <td>1680.222222</td>\n",
       "      <td>1167.944444</td>\n",
       "      <td>15.388889</td>\n",
       "      <td>28.767778</td>\n",
       "      <td>27.305556</td>\n",
       "      <td>0.931066</td>\n",
       "      <td>0.765795</td>\n",
       "      <td>1.000000</td>\n",
       "      <td>0.585683</td>\n",
       "      <td>0.090881</td>\n",
       "      <td>0.959596</td>\n",
       "      <td>1.000000</td>\n",
       "      <td>0.071111</td>\n",
       "      <td>0.457143</td>\n",
       "      <td>1.000000</td>\n",
       "      <td>0.864198</td>\n",
       "      <td>0.000000</td>\n",
       "      <td>0.978320</td>\n",
       "      <td>0.984127</td>\n",
       "      <td>0.531368</td>\n",
       "      <td>0.893519</td>\n",
       "      <td>0.541414</td>\n",
       "      <td>0.000000</td>\n",
       "      <td>0.000000</td>\n",
       "      <td>0.000000</td>\n",
       "      <td>1.000000</td>\n",
       "      <td>0.961176</td>\n",
       "      <td>0.307286</td>\n",
       "      <td>0.000000</td>\n",
       "      <td>0.000000</td>\n",
       "      <td>0.900209</td>\n",
       "      <td>0.632057</td>\n",
       "      <td>0.638768</td>\n",
       "      <td>1.000000</td>\n",
       "      <td>1.000000</td>\n",
       "      <td>0.812567</td>\n",
       "    </tr>\n",
       "  </tbody>\n",
       "</table>\n",
       "</div>"
      ],
      "text/plain": [
       "                     gamelength      kills     deaths    assists        kd   \n",
       "DRX                   31.054167   7.950000  14.200000  20.200000  0.878162  \\\n",
       "Dplus KIA             30.241228  10.736842   8.894737  26.789474  2.338029   \n",
       "Gen.G                 29.065789  12.263158   7.368421  29.578947  3.939466   \n",
       "Hanwha Life Esports   31.077193  11.157895  10.421053  25.578947  2.270554   \n",
       "KT Rolster            28.524074  13.944444   6.888889  34.444444  3.728439   \n",
       "\n",
       "                     firstblood  team kpm      ckpm  firstdragon   dragons   \n",
       "DRX                    0.200000  0.234060  0.705125     0.250000  1.500000  \\\n",
       "Dplus KIA              0.473684  0.356632  0.657158     0.684211  2.473684   \n",
       "Gen.G                  0.736842  0.425521  0.673637     0.473684  2.526316   \n",
       "Hanwha Life Esports    0.526316  0.363526  0.699847     0.473684  1.947368   \n",
       "KT Rolster             0.611111  0.510783  0.747183     0.666667  2.777778   \n",
       "\n",
       "                     opp_dragons    elders  opp_elders  firstherald   heralds   \n",
       "DRX                     2.900000  0.050000    0.050000     0.550000  1.100000  \\\n",
       "Dplus KIA               1.789474  0.052632    0.052632     0.526316  1.000000   \n",
       "Gen.G                   1.578947  0.052632    0.052632     0.473684  0.789474   \n",
       "Hanwha Life Esports     2.421053  0.105263    0.052632     0.421053  0.842105   \n",
       "KT Rolster              1.277778  0.000000    0.000000     0.444444  1.000000   \n",
       "\n",
       "                     opp_heralds  firstbaron    barons  opp_barons   \n",
       "DRX                     0.900000    0.350000  0.600000    0.750000  \\\n",
       "Dplus KIA               1.000000    0.473684  0.736842    0.526316   \n",
       "Gen.G                   1.210526    0.684211  0.842105    0.315789   \n",
       "Hanwha Life Esports     1.157895    0.368421  0.631579    0.684211   \n",
       "KT Rolster              1.000000    0.722222  0.777778    0.333333   \n",
       "\n",
       "                     firsttower    towers  opp_towers  firstmidtower   \n",
       "DRX                    0.250000  3.850000    7.200000       0.350000  \\\n",
       "Dplus KIA              0.315789  5.421053    5.210526       0.473684   \n",
       "Gen.G                  0.789474  7.736842    3.473684       0.526316   \n",
       "Hanwha Life Esports    0.526316  5.894737    5.842105       0.473684   \n",
       "KT Rolster             0.777778  7.666667    3.277778       0.555556   \n",
       "\n",
       "                     firsttothreetowers  turretplates  opp_turretplates   \n",
       "DRX                            0.250000      4.250000          5.350000  \\\n",
       "Dplus KIA                      0.421053      4.842105          4.947368   \n",
       "Gen.G                          0.736842      5.421053          4.473684   \n",
       "Hanwha Life Esports            0.526316      3.947368          4.947368   \n",
       "KT Rolster                     0.722222      4.777778          4.222222   \n",
       "\n",
       "                     inhibitors  opp_inhibitors          dpm   \n",
       "DRX                    0.400000        1.350000  1930.804210  \\\n",
       "Dplus KIA              1.052632        0.526316  2130.751779   \n",
       "Gen.G                  1.315789        0.368421  2129.637979   \n",
       "Hanwha Life Esports    1.052632        0.947368  2069.240900   \n",
       "KT Rolster             1.055556        0.333333  2080.503328   \n",
       "\n",
       "                     damagetakenperminute       wpm      wcpm      vspm   \n",
       "DRX                           3118.153650  3.527580  1.694280  8.315490  \\\n",
       "Dplus KIA                     2642.174563  3.447474  1.747463  8.596500   \n",
       "Gen.G                         2662.007153  3.206053  1.706332  8.509700   \n",
       "Hanwha Life Esports           2799.821368  3.532789  1.613563  8.730089   \n",
       "KT Rolster                    2685.431928  3.390311  1.472856  8.215422   \n",
       "\n",
       "                             gpm        gdpm       cspm  golddiffat10   \n",
       "DRX                  1668.218670 -231.126423  31.548520   -705.550000  \\\n",
       "Dplus KIA            1814.646726   49.786634  33.375742     81.210526   \n",
       "Gen.G                1927.978364  249.111451  35.232153    214.210526   \n",
       "Hanwha Life Esports  1814.248435   10.632039  34.258353   -196.210526   \n",
       "KT Rolster           1943.727224  230.466881  34.673267    399.333333   \n",
       "\n",
       "                     xpdiffat10  csdiffat10  golddiffat15   xpdiffat15   \n",
       "DRX                 -356.450000  -15.650000  -1854.050000 -1249.100000  \\\n",
       "Dplus KIA            146.315789    0.368421     39.789474    45.210526   \n",
       "Gen.G                187.157895    8.368421    813.789474   695.421053   \n",
       "Hanwha Life Esports -113.526316   -3.315789   -259.368421   364.315789   \n",
       "KT Rolster            62.555556    3.222222   1680.222222  1167.944444   \n",
       "\n",
       "                     csdiffat15  win_gamelength  loss_gamelength       _kd   \n",
       "DRX                  -29.700000       33.805556        29.875000  0.000000  \\\n",
       "Dplus KIA             -1.210526       30.155000        30.337037  0.476877   \n",
       "Gen.G                 25.789474       29.191667        28.394444  1.000000   \n",
       "Hanwha Life Esports   -3.684211       32.946667        29.000000  0.454836   \n",
       "KT Rolster            15.388889       28.767778        27.305556  0.931066   \n",
       "\n",
       "                     _firstblood  _team kpm      _dpm  _damagetakenperminute   \n",
       "DRX                     0.000000   0.009113  0.308725               1.000000  \\\n",
       "Dplus KIA               0.509804   0.448016  0.678647               0.000000   \n",
       "Gen.G                   1.000000   0.694694  0.676587               0.041667   \n",
       "Hanwha Life Esports     0.607843   0.472704  0.564846               0.331205   \n",
       "KT Rolster              0.765795   1.000000  0.585683               0.090881   \n",
       "\n",
       "                     _firstdragon  _dragons  _firstherald  _heralds   \n",
       "DRX                      0.000000  0.000000      0.392000  0.674286  \\\n",
       "Dplus KIA                1.000000  0.762014      0.320000  0.457143   \n",
       "Gen.G                    0.515152  0.803204      0.160000  0.000000   \n",
       "Hanwha Life Esports      0.515152  0.350114      0.000000  0.114286   \n",
       "KT Rolster               0.959596  1.000000      0.071111  0.457143   \n",
       "\n",
       "                     _firstbaron   _barons   _elders  _firsttower   _towers   \n",
       "DRX                     0.303896  0.488889  0.400000     0.000000  0.120833  \\\n",
       "Dplus KIA               0.535202  0.777778  0.421053     0.121951  0.476190   \n",
       "Gen.G                   0.928913  1.000000  0.421053     1.000000  1.000000   \n",
       "Hanwha Life Esports     0.338346  0.555556  0.842105     0.512195  0.583333   \n",
       "KT Rolster              1.000000  0.864198  0.000000     0.978320  0.984127   \n",
       "\n",
       "                     _firstmidtower  _firsttothreetowers  _turretplates   \n",
       "DRX                        0.000000             0.145833       0.359091  \\\n",
       "Dplus KIA                  0.319728             0.416667       0.563636   \n",
       "Gen.G                      0.455782             0.916667       0.763636   \n",
       "Hanwha Life Esports        0.319728             0.583333       0.254545   \n",
       "KT Rolster                 0.531368             0.893519       0.541414   \n",
       "\n",
       "                     _gamelength  _win_gamelength  _loss_gamelength      _gpm   \n",
       "DRX                     0.576566         0.900675          0.424282  0.000000  \\\n",
       "Dplus KIA               0.391311         0.248014          0.500576  0.531483   \n",
       "Gen.G                   0.123448         0.075785          0.179804  0.942837   \n",
       "Hanwha Life Esports     0.581814         0.747120          0.279797  0.530037   \n",
       "KT Rolster              0.000000         0.000000          0.000000  1.000000   \n",
       "\n",
       "                        _gdpm      _wpm     _wcpm     _vspm  _golddiffat10   \n",
       "DRX                  0.000000  0.536208  0.629674  0.114553       0.000000  \\\n",
       "Dplus KIA            0.584946  0.402616  0.780913  0.436240       0.641017   \n",
       "Gen.G                1.000000  0.000000  0.663945  0.336875       0.749380   \n",
       "Hanwha Life Esports  0.503414  0.544896  0.400136  0.589166       0.414987   \n",
       "KT Rolster           0.961176  0.307286  0.000000  0.000000       0.900209   \n",
       "\n",
       "                     _xpdiffat10  _csdiffat10  _golddiffat15  _xpdiffat15   \n",
       "DRX                     0.000000     0.000000       0.000000     0.000000  \\\n",
       "Dplus KIA               0.758407     0.542175       0.535850     0.535493   \n",
       "Gen.G                   0.820016     0.812951       0.754848     0.804504   \n",
       "Hanwha Life Esports     0.366443     0.417476       0.451205     0.667516   \n",
       "KT Rolster              0.632057     0.638768       1.000000     1.000000   \n",
       "\n",
       "                     _csdiffat15  \n",
       "DRX                     0.000000  \n",
       "Dplus KIA               0.513421  \n",
       "Gen.G                   1.000000  \n",
       "Hanwha Life Esports     0.468842  \n",
       "KT Rolster              0.812567  "
      ]
     },
     "execution_count": 15,
     "metadata": {},
     "output_type": "execute_result"
    }
   ],
   "source": [
    "origin_columns, columns = get_team_stats_columns()\n",
    "\n",
    "for key, values in origin_columns.items():\n",
    "    scaler = MinMaxScaler()\n",
    "    df = pd.DataFrame(\n",
    "        scaler.fit_transform(teams_stats[values]),\n",
    "        columns=columns[key],\n",
    "        index=teams_stats.index.values,\n",
    "    )\n",
    "\n",
    "    teams_stats = pd.concat([teams_stats, df], axis=1)\n",
    "teams_stats.sort_index(inplace=True)\n",
    "teams_stats.head()"
   ]
  },
  {
   "cell_type": "code",
   "execution_count": 16,
   "metadata": {},
   "outputs": [
    {
     "data": {
      "text/html": [
       "<div>\n",
       "<style scoped>\n",
       "    .dataframe tbody tr th:only-of-type {\n",
       "        vertical-align: middle;\n",
       "    }\n",
       "\n",
       "    .dataframe tbody tr th {\n",
       "        vertical-align: top;\n",
       "    }\n",
       "\n",
       "    .dataframe thead th {\n",
       "        text-align: right;\n",
       "    }\n",
       "</style>\n",
       "<table border=\"1\" class=\"dataframe\">\n",
       "  <thead>\n",
       "    <tr style=\"text-align: right;\">\n",
       "      <th></th>\n",
       "      <th>gamelength</th>\n",
       "      <th>kills</th>\n",
       "      <th>deaths</th>\n",
       "      <th>assists</th>\n",
       "      <th>kd</th>\n",
       "      <th>firstblood</th>\n",
       "      <th>team kpm</th>\n",
       "      <th>ckpm</th>\n",
       "      <th>firstdragon</th>\n",
       "      <th>dragons</th>\n",
       "      <th>opp_dragons</th>\n",
       "      <th>elders</th>\n",
       "      <th>opp_elders</th>\n",
       "      <th>firstherald</th>\n",
       "      <th>heralds</th>\n",
       "      <th>opp_heralds</th>\n",
       "      <th>firstbaron</th>\n",
       "      <th>barons</th>\n",
       "      <th>opp_barons</th>\n",
       "      <th>firsttower</th>\n",
       "      <th>towers</th>\n",
       "      <th>opp_towers</th>\n",
       "      <th>firstmidtower</th>\n",
       "      <th>firsttothreetowers</th>\n",
       "      <th>turretplates</th>\n",
       "      <th>opp_turretplates</th>\n",
       "      <th>inhibitors</th>\n",
       "      <th>opp_inhibitors</th>\n",
       "      <th>dpm</th>\n",
       "      <th>damagetakenperminute</th>\n",
       "      <th>wpm</th>\n",
       "      <th>wcpm</th>\n",
       "      <th>vspm</th>\n",
       "      <th>gpm</th>\n",
       "      <th>gdpm</th>\n",
       "      <th>cspm</th>\n",
       "      <th>golddiffat10</th>\n",
       "      <th>xpdiffat10</th>\n",
       "      <th>csdiffat10</th>\n",
       "      <th>golddiffat15</th>\n",
       "      <th>xpdiffat15</th>\n",
       "      <th>csdiffat15</th>\n",
       "      <th>win_gamelength</th>\n",
       "      <th>loss_gamelength</th>\n",
       "      <th>_kd</th>\n",
       "      <th>_firstblood</th>\n",
       "      <th>_team kpm</th>\n",
       "      <th>_dpm</th>\n",
       "      <th>_damagetakenperminute</th>\n",
       "      <th>_firstdragon</th>\n",
       "      <th>_dragons</th>\n",
       "      <th>_firstherald</th>\n",
       "      <th>_heralds</th>\n",
       "      <th>_firstbaron</th>\n",
       "      <th>_barons</th>\n",
       "      <th>_elders</th>\n",
       "      <th>_firsttower</th>\n",
       "      <th>_towers</th>\n",
       "      <th>_firstmidtower</th>\n",
       "      <th>_firsttothreetowers</th>\n",
       "      <th>_turretplates</th>\n",
       "      <th>_gamelength</th>\n",
       "      <th>_win_gamelength</th>\n",
       "      <th>_loss_gamelength</th>\n",
       "      <th>_gpm</th>\n",
       "      <th>_gdpm</th>\n",
       "      <th>_wpm</th>\n",
       "      <th>_wcpm</th>\n",
       "      <th>_vspm</th>\n",
       "      <th>_golddiffat10</th>\n",
       "      <th>_xpdiffat10</th>\n",
       "      <th>_csdiffat10</th>\n",
       "      <th>_golddiffat15</th>\n",
       "      <th>_xpdiffat15</th>\n",
       "      <th>_csdiffat15</th>\n",
       "    </tr>\n",
       "  </thead>\n",
       "  <tbody>\n",
       "    <tr>\n",
       "      <th>DRX</th>\n",
       "      <td>31.054167</td>\n",
       "      <td>7.950000</td>\n",
       "      <td>14.200000</td>\n",
       "      <td>20.200000</td>\n",
       "      <td>0.878162</td>\n",
       "      <td>0.200000</td>\n",
       "      <td>0.234060</td>\n",
       "      <td>0.705125</td>\n",
       "      <td>0.250000</td>\n",
       "      <td>1.500000</td>\n",
       "      <td>2.900000</td>\n",
       "      <td>0.050000</td>\n",
       "      <td>0.050000</td>\n",
       "      <td>0.550000</td>\n",
       "      <td>1.100000</td>\n",
       "      <td>0.900000</td>\n",
       "      <td>0.350000</td>\n",
       "      <td>0.600000</td>\n",
       "      <td>0.750000</td>\n",
       "      <td>0.250000</td>\n",
       "      <td>3.850000</td>\n",
       "      <td>7.200000</td>\n",
       "      <td>0.350000</td>\n",
       "      <td>0.250000</td>\n",
       "      <td>4.250000</td>\n",
       "      <td>5.350000</td>\n",
       "      <td>0.400000</td>\n",
       "      <td>1.350000</td>\n",
       "      <td>1930.804210</td>\n",
       "      <td>3118.153650</td>\n",
       "      <td>3.527580</td>\n",
       "      <td>1.694280</td>\n",
       "      <td>8.315490</td>\n",
       "      <td>1668.218670</td>\n",
       "      <td>-231.126423</td>\n",
       "      <td>31.548520</td>\n",
       "      <td>-705.550000</td>\n",
       "      <td>-356.450000</td>\n",
       "      <td>-15.650000</td>\n",
       "      <td>-1854.050000</td>\n",
       "      <td>-1249.100000</td>\n",
       "      <td>-29.700000</td>\n",
       "      <td>33.805556</td>\n",
       "      <td>29.875000</td>\n",
       "      <td>0.000000</td>\n",
       "      <td>0.000000</td>\n",
       "      <td>0.009113</td>\n",
       "      <td>0.308725</td>\n",
       "      <td>1.000000</td>\n",
       "      <td>0.000000</td>\n",
       "      <td>0.000000</td>\n",
       "      <td>0.392000</td>\n",
       "      <td>0.674286</td>\n",
       "      <td>0.303896</td>\n",
       "      <td>0.488889</td>\n",
       "      <td>0.400000</td>\n",
       "      <td>0.000000</td>\n",
       "      <td>0.120833</td>\n",
       "      <td>0.000000</td>\n",
       "      <td>0.145833</td>\n",
       "      <td>0.359091</td>\n",
       "      <td>0.576566</td>\n",
       "      <td>0.900675</td>\n",
       "      <td>0.424282</td>\n",
       "      <td>0.000000</td>\n",
       "      <td>0.000000</td>\n",
       "      <td>0.536208</td>\n",
       "      <td>0.629674</td>\n",
       "      <td>0.114553</td>\n",
       "      <td>0.000000</td>\n",
       "      <td>0.000000</td>\n",
       "      <td>0.000000</td>\n",
       "      <td>0.000000</td>\n",
       "      <td>0.000000</td>\n",
       "      <td>0.000000</td>\n",
       "    </tr>\n",
       "    <tr>\n",
       "      <th>Dplus KIA</th>\n",
       "      <td>30.241228</td>\n",
       "      <td>10.736842</td>\n",
       "      <td>8.894737</td>\n",
       "      <td>26.789474</td>\n",
       "      <td>2.338029</td>\n",
       "      <td>0.473684</td>\n",
       "      <td>0.356632</td>\n",
       "      <td>0.657158</td>\n",
       "      <td>0.684211</td>\n",
       "      <td>2.473684</td>\n",
       "      <td>1.789474</td>\n",
       "      <td>0.052632</td>\n",
       "      <td>0.052632</td>\n",
       "      <td>0.526316</td>\n",
       "      <td>1.000000</td>\n",
       "      <td>1.000000</td>\n",
       "      <td>0.473684</td>\n",
       "      <td>0.736842</td>\n",
       "      <td>0.526316</td>\n",
       "      <td>0.315789</td>\n",
       "      <td>5.421053</td>\n",
       "      <td>5.210526</td>\n",
       "      <td>0.473684</td>\n",
       "      <td>0.421053</td>\n",
       "      <td>4.842105</td>\n",
       "      <td>4.947368</td>\n",
       "      <td>1.052632</td>\n",
       "      <td>0.526316</td>\n",
       "      <td>2130.751779</td>\n",
       "      <td>2642.174563</td>\n",
       "      <td>3.447474</td>\n",
       "      <td>1.747463</td>\n",
       "      <td>8.596500</td>\n",
       "      <td>1814.646726</td>\n",
       "      <td>49.786634</td>\n",
       "      <td>33.375742</td>\n",
       "      <td>81.210526</td>\n",
       "      <td>146.315789</td>\n",
       "      <td>0.368421</td>\n",
       "      <td>39.789474</td>\n",
       "      <td>45.210526</td>\n",
       "      <td>-1.210526</td>\n",
       "      <td>30.155000</td>\n",
       "      <td>30.337037</td>\n",
       "      <td>0.476877</td>\n",
       "      <td>0.509804</td>\n",
       "      <td>0.448016</td>\n",
       "      <td>0.678647</td>\n",
       "      <td>0.000000</td>\n",
       "      <td>1.000000</td>\n",
       "      <td>0.762014</td>\n",
       "      <td>0.320000</td>\n",
       "      <td>0.457143</td>\n",
       "      <td>0.535202</td>\n",
       "      <td>0.777778</td>\n",
       "      <td>0.421053</td>\n",
       "      <td>0.121951</td>\n",
       "      <td>0.476190</td>\n",
       "      <td>0.319728</td>\n",
       "      <td>0.416667</td>\n",
       "      <td>0.563636</td>\n",
       "      <td>0.391311</td>\n",
       "      <td>0.248014</td>\n",
       "      <td>0.500576</td>\n",
       "      <td>0.531483</td>\n",
       "      <td>0.584946</td>\n",
       "      <td>0.402616</td>\n",
       "      <td>0.780913</td>\n",
       "      <td>0.436240</td>\n",
       "      <td>0.641017</td>\n",
       "      <td>0.758407</td>\n",
       "      <td>0.542175</td>\n",
       "      <td>0.535850</td>\n",
       "      <td>0.535493</td>\n",
       "      <td>0.513421</td>\n",
       "    </tr>\n",
       "    <tr>\n",
       "      <th>Gen.G</th>\n",
       "      <td>29.065789</td>\n",
       "      <td>12.263158</td>\n",
       "      <td>7.368421</td>\n",
       "      <td>29.578947</td>\n",
       "      <td>3.939466</td>\n",
       "      <td>0.736842</td>\n",
       "      <td>0.425521</td>\n",
       "      <td>0.673637</td>\n",
       "      <td>0.473684</td>\n",
       "      <td>2.526316</td>\n",
       "      <td>1.578947</td>\n",
       "      <td>0.052632</td>\n",
       "      <td>0.052632</td>\n",
       "      <td>0.473684</td>\n",
       "      <td>0.789474</td>\n",
       "      <td>1.210526</td>\n",
       "      <td>0.684211</td>\n",
       "      <td>0.842105</td>\n",
       "      <td>0.315789</td>\n",
       "      <td>0.789474</td>\n",
       "      <td>7.736842</td>\n",
       "      <td>3.473684</td>\n",
       "      <td>0.526316</td>\n",
       "      <td>0.736842</td>\n",
       "      <td>5.421053</td>\n",
       "      <td>4.473684</td>\n",
       "      <td>1.315789</td>\n",
       "      <td>0.368421</td>\n",
       "      <td>2129.637979</td>\n",
       "      <td>2662.007153</td>\n",
       "      <td>3.206053</td>\n",
       "      <td>1.706332</td>\n",
       "      <td>8.509700</td>\n",
       "      <td>1927.978364</td>\n",
       "      <td>249.111451</td>\n",
       "      <td>35.232153</td>\n",
       "      <td>214.210526</td>\n",
       "      <td>187.157895</td>\n",
       "      <td>8.368421</td>\n",
       "      <td>813.789474</td>\n",
       "      <td>695.421053</td>\n",
       "      <td>25.789474</td>\n",
       "      <td>29.191667</td>\n",
       "      <td>28.394444</td>\n",
       "      <td>1.000000</td>\n",
       "      <td>1.000000</td>\n",
       "      <td>0.694694</td>\n",
       "      <td>0.676587</td>\n",
       "      <td>0.041667</td>\n",
       "      <td>0.515152</td>\n",
       "      <td>0.803204</td>\n",
       "      <td>0.160000</td>\n",
       "      <td>0.000000</td>\n",
       "      <td>0.928913</td>\n",
       "      <td>1.000000</td>\n",
       "      <td>0.421053</td>\n",
       "      <td>1.000000</td>\n",
       "      <td>1.000000</td>\n",
       "      <td>0.455782</td>\n",
       "      <td>0.916667</td>\n",
       "      <td>0.763636</td>\n",
       "      <td>0.123448</td>\n",
       "      <td>0.075785</td>\n",
       "      <td>0.179804</td>\n",
       "      <td>0.942837</td>\n",
       "      <td>1.000000</td>\n",
       "      <td>0.000000</td>\n",
       "      <td>0.663945</td>\n",
       "      <td>0.336875</td>\n",
       "      <td>0.749380</td>\n",
       "      <td>0.820016</td>\n",
       "      <td>0.812951</td>\n",
       "      <td>0.754848</td>\n",
       "      <td>0.804504</td>\n",
       "      <td>1.000000</td>\n",
       "    </tr>\n",
       "    <tr>\n",
       "      <th>Hanwha Life Esports</th>\n",
       "      <td>31.077193</td>\n",
       "      <td>11.157895</td>\n",
       "      <td>10.421053</td>\n",
       "      <td>25.578947</td>\n",
       "      <td>2.270554</td>\n",
       "      <td>0.526316</td>\n",
       "      <td>0.363526</td>\n",
       "      <td>0.699847</td>\n",
       "      <td>0.473684</td>\n",
       "      <td>1.947368</td>\n",
       "      <td>2.421053</td>\n",
       "      <td>0.105263</td>\n",
       "      <td>0.052632</td>\n",
       "      <td>0.421053</td>\n",
       "      <td>0.842105</td>\n",
       "      <td>1.157895</td>\n",
       "      <td>0.368421</td>\n",
       "      <td>0.631579</td>\n",
       "      <td>0.684211</td>\n",
       "      <td>0.526316</td>\n",
       "      <td>5.894737</td>\n",
       "      <td>5.842105</td>\n",
       "      <td>0.473684</td>\n",
       "      <td>0.526316</td>\n",
       "      <td>3.947368</td>\n",
       "      <td>4.947368</td>\n",
       "      <td>1.052632</td>\n",
       "      <td>0.947368</td>\n",
       "      <td>2069.240900</td>\n",
       "      <td>2799.821368</td>\n",
       "      <td>3.532789</td>\n",
       "      <td>1.613563</td>\n",
       "      <td>8.730089</td>\n",
       "      <td>1814.248435</td>\n",
       "      <td>10.632039</td>\n",
       "      <td>34.258353</td>\n",
       "      <td>-196.210526</td>\n",
       "      <td>-113.526316</td>\n",
       "      <td>-3.315789</td>\n",
       "      <td>-259.368421</td>\n",
       "      <td>364.315789</td>\n",
       "      <td>-3.684211</td>\n",
       "      <td>32.946667</td>\n",
       "      <td>29.000000</td>\n",
       "      <td>0.454836</td>\n",
       "      <td>0.607843</td>\n",
       "      <td>0.472704</td>\n",
       "      <td>0.564846</td>\n",
       "      <td>0.331205</td>\n",
       "      <td>0.515152</td>\n",
       "      <td>0.350114</td>\n",
       "      <td>0.000000</td>\n",
       "      <td>0.114286</td>\n",
       "      <td>0.338346</td>\n",
       "      <td>0.555556</td>\n",
       "      <td>0.842105</td>\n",
       "      <td>0.512195</td>\n",
       "      <td>0.583333</td>\n",
       "      <td>0.319728</td>\n",
       "      <td>0.583333</td>\n",
       "      <td>0.254545</td>\n",
       "      <td>0.581814</td>\n",
       "      <td>0.747120</td>\n",
       "      <td>0.279797</td>\n",
       "      <td>0.530037</td>\n",
       "      <td>0.503414</td>\n",
       "      <td>0.544896</td>\n",
       "      <td>0.400136</td>\n",
       "      <td>0.589166</td>\n",
       "      <td>0.414987</td>\n",
       "      <td>0.366443</td>\n",
       "      <td>0.417476</td>\n",
       "      <td>0.451205</td>\n",
       "      <td>0.667516</td>\n",
       "      <td>0.468842</td>\n",
       "    </tr>\n",
       "    <tr>\n",
       "      <th>KT Rolster</th>\n",
       "      <td>28.524074</td>\n",
       "      <td>13.944444</td>\n",
       "      <td>6.888889</td>\n",
       "      <td>34.444444</td>\n",
       "      <td>3.728439</td>\n",
       "      <td>0.611111</td>\n",
       "      <td>0.510783</td>\n",
       "      <td>0.747183</td>\n",
       "      <td>0.666667</td>\n",
       "      <td>2.777778</td>\n",
       "      <td>1.277778</td>\n",
       "      <td>0.000000</td>\n",
       "      <td>0.000000</td>\n",
       "      <td>0.444444</td>\n",
       "      <td>1.000000</td>\n",
       "      <td>1.000000</td>\n",
       "      <td>0.722222</td>\n",
       "      <td>0.777778</td>\n",
       "      <td>0.333333</td>\n",
       "      <td>0.777778</td>\n",
       "      <td>7.666667</td>\n",
       "      <td>3.277778</td>\n",
       "      <td>0.555556</td>\n",
       "      <td>0.722222</td>\n",
       "      <td>4.777778</td>\n",
       "      <td>4.222222</td>\n",
       "      <td>1.055556</td>\n",
       "      <td>0.333333</td>\n",
       "      <td>2080.503328</td>\n",
       "      <td>2685.431928</td>\n",
       "      <td>3.390311</td>\n",
       "      <td>1.472856</td>\n",
       "      <td>8.215422</td>\n",
       "      <td>1943.727224</td>\n",
       "      <td>230.466881</td>\n",
       "      <td>34.673267</td>\n",
       "      <td>399.333333</td>\n",
       "      <td>62.555556</td>\n",
       "      <td>3.222222</td>\n",
       "      <td>1680.222222</td>\n",
       "      <td>1167.944444</td>\n",
       "      <td>15.388889</td>\n",
       "      <td>28.767778</td>\n",
       "      <td>27.305556</td>\n",
       "      <td>0.931066</td>\n",
       "      <td>0.765795</td>\n",
       "      <td>1.000000</td>\n",
       "      <td>0.585683</td>\n",
       "      <td>0.090881</td>\n",
       "      <td>0.959596</td>\n",
       "      <td>1.000000</td>\n",
       "      <td>0.071111</td>\n",
       "      <td>0.457143</td>\n",
       "      <td>1.000000</td>\n",
       "      <td>0.864198</td>\n",
       "      <td>0.000000</td>\n",
       "      <td>0.978320</td>\n",
       "      <td>0.984127</td>\n",
       "      <td>0.531368</td>\n",
       "      <td>0.893519</td>\n",
       "      <td>0.541414</td>\n",
       "      <td>0.000000</td>\n",
       "      <td>0.000000</td>\n",
       "      <td>0.000000</td>\n",
       "      <td>1.000000</td>\n",
       "      <td>0.961176</td>\n",
       "      <td>0.307286</td>\n",
       "      <td>0.000000</td>\n",
       "      <td>0.000000</td>\n",
       "      <td>0.900209</td>\n",
       "      <td>0.632057</td>\n",
       "      <td>0.638768</td>\n",
       "      <td>1.000000</td>\n",
       "      <td>1.000000</td>\n",
       "      <td>0.812567</td>\n",
       "    </tr>\n",
       "    <tr>\n",
       "      <th>Kwangdong Freecs</th>\n",
       "      <td>32.387500</td>\n",
       "      <td>10.875000</td>\n",
       "      <td>11.937500</td>\n",
       "      <td>27.000000</td>\n",
       "      <td>1.575840</td>\n",
       "      <td>0.625000</td>\n",
       "      <td>0.323969</td>\n",
       "      <td>0.696081</td>\n",
       "      <td>0.625000</td>\n",
       "      <td>2.562500</td>\n",
       "      <td>1.812500</td>\n",
       "      <td>0.125000</td>\n",
       "      <td>0.062500</td>\n",
       "      <td>0.750000</td>\n",
       "      <td>1.250000</td>\n",
       "      <td>0.750000</td>\n",
       "      <td>0.187500</td>\n",
       "      <td>0.375000</td>\n",
       "      <td>0.937500</td>\n",
       "      <td>0.625000</td>\n",
       "      <td>6.312500</td>\n",
       "      <td>5.625000</td>\n",
       "      <td>0.687500</td>\n",
       "      <td>0.750000</td>\n",
       "      <td>5.375000</td>\n",
       "      <td>3.312500</td>\n",
       "      <td>0.937500</td>\n",
       "      <td>0.750000</td>\n",
       "      <td>2275.768656</td>\n",
       "      <td>3111.012069</td>\n",
       "      <td>3.416444</td>\n",
       "      <td>1.701944</td>\n",
       "      <td>8.681231</td>\n",
       "      <td>1812.323949</td>\n",
       "      <td>8.074605</td>\n",
       "      <td>34.415912</td>\n",
       "      <td>521.812500</td>\n",
       "      <td>276.562500</td>\n",
       "      <td>9.562500</td>\n",
       "      <td>1105.000000</td>\n",
       "      <td>88.375000</td>\n",
       "      <td>10.125000</td>\n",
       "      <td>32.562500</td>\n",
       "      <td>32.212500</td>\n",
       "      <td>0.227902</td>\n",
       "      <td>0.791667</td>\n",
       "      <td>0.331057</td>\n",
       "      <td>0.946942</td>\n",
       "      <td>0.984996</td>\n",
       "      <td>0.863636</td>\n",
       "      <td>0.831522</td>\n",
       "      <td>1.000000</td>\n",
       "      <td>1.000000</td>\n",
       "      <td>0.000000</td>\n",
       "      <td>0.013889</td>\n",
       "      <td>1.000000</td>\n",
       "      <td>0.695122</td>\n",
       "      <td>0.677827</td>\n",
       "      <td>0.872449</td>\n",
       "      <td>0.937500</td>\n",
       "      <td>0.747727</td>\n",
       "      <td>0.880411</td>\n",
       "      <td>0.678437</td>\n",
       "      <td>0.810264</td>\n",
       "      <td>0.523052</td>\n",
       "      <td>0.498089</td>\n",
       "      <td>0.350867</td>\n",
       "      <td>0.651468</td>\n",
       "      <td>0.533236</td>\n",
       "      <td>1.000000</td>\n",
       "      <td>0.954880</td>\n",
       "      <td>0.853367</td>\n",
       "      <td>0.837245</td>\n",
       "      <td>0.553351</td>\n",
       "      <td>0.717704</td>\n",
       "    </tr>\n",
       "    <tr>\n",
       "      <th>Liiv SANDBOX</th>\n",
       "      <td>32.912281</td>\n",
       "      <td>11.526316</td>\n",
       "      <td>14.000000</td>\n",
       "      <td>28.421053</td>\n",
       "      <td>1.316761</td>\n",
       "      <td>0.421053</td>\n",
       "      <td>0.338268</td>\n",
       "      <td>0.760153</td>\n",
       "      <td>0.473684</td>\n",
       "      <td>1.894737</td>\n",
       "      <td>2.631579</td>\n",
       "      <td>0.052632</td>\n",
       "      <td>0.052632</td>\n",
       "      <td>0.421053</td>\n",
       "      <td>0.842105</td>\n",
       "      <td>1.157895</td>\n",
       "      <td>0.631579</td>\n",
       "      <td>0.736842</td>\n",
       "      <td>0.736842</td>\n",
       "      <td>0.473684</td>\n",
       "      <td>5.263158</td>\n",
       "      <td>7.052632</td>\n",
       "      <td>0.526316</td>\n",
       "      <td>0.421053</td>\n",
       "      <td>3.578947</td>\n",
       "      <td>4.947368</td>\n",
       "      <td>0.842105</td>\n",
       "      <td>1.157895</td>\n",
       "      <td>2023.054189</td>\n",
       "      <td>3050.962426</td>\n",
       "      <td>3.805684</td>\n",
       "      <td>1.812953</td>\n",
       "      <td>9.088974</td>\n",
       "      <td>1773.723438</td>\n",
       "      <td>-97.570519</td>\n",
       "      <td>33.506758</td>\n",
       "      <td>-263.631579</td>\n",
       "      <td>1.105263</td>\n",
       "      <td>1.000000</td>\n",
       "      <td>-1103.368421</td>\n",
       "      <td>-524.736842</td>\n",
       "      <td>-3.263158</td>\n",
       "      <td>31.938889</td>\n",
       "      <td>33.361538</td>\n",
       "      <td>0.143272</td>\n",
       "      <td>0.411765</td>\n",
       "      <td>0.382261</td>\n",
       "      <td>0.479397</td>\n",
       "      <td>0.858836</td>\n",
       "      <td>0.515152</td>\n",
       "      <td>0.308924</td>\n",
       "      <td>0.000000</td>\n",
       "      <td>0.114286</td>\n",
       "      <td>0.830485</td>\n",
       "      <td>0.777778</td>\n",
       "      <td>0.421053</td>\n",
       "      <td>0.414634</td>\n",
       "      <td>0.440476</td>\n",
       "      <td>0.455782</td>\n",
       "      <td>0.416667</td>\n",
       "      <td>0.127273</td>\n",
       "      <td>1.000000</td>\n",
       "      <td>0.566945</td>\n",
       "      <td>1.000000</td>\n",
       "      <td>0.382946</td>\n",
       "      <td>0.278104</td>\n",
       "      <td>1.000000</td>\n",
       "      <td>0.967148</td>\n",
       "      <td>1.000000</td>\n",
       "      <td>0.360055</td>\n",
       "      <td>0.539361</td>\n",
       "      <td>0.563552</td>\n",
       "      <td>0.212401</td>\n",
       "      <td>0.299690</td>\n",
       "      <td>0.476430</td>\n",
       "    </tr>\n",
       "    <tr>\n",
       "      <th>Nongshim RedForce</th>\n",
       "      <td>30.515789</td>\n",
       "      <td>8.052632</td>\n",
       "      <td>12.947368</td>\n",
       "      <td>18.368421</td>\n",
       "      <td>0.897592</td>\n",
       "      <td>0.473684</td>\n",
       "      <td>0.263074</td>\n",
       "      <td>0.691516</td>\n",
       "      <td>0.526316</td>\n",
       "      <td>1.526316</td>\n",
       "      <td>2.578947</td>\n",
       "      <td>0.000000</td>\n",
       "      <td>0.000000</td>\n",
       "      <td>0.473684</td>\n",
       "      <td>1.052632</td>\n",
       "      <td>0.947368</td>\n",
       "      <td>0.210526</td>\n",
       "      <td>0.368421</td>\n",
       "      <td>1.000000</td>\n",
       "      <td>0.315789</td>\n",
       "      <td>3.315789</td>\n",
       "      <td>8.210526</td>\n",
       "      <td>0.368421</td>\n",
       "      <td>0.157895</td>\n",
       "      <td>3.210526</td>\n",
       "      <td>4.368421</td>\n",
       "      <td>0.315789</td>\n",
       "      <td>1.473684</td>\n",
       "      <td>1845.572089</td>\n",
       "      <td>3042.392011</td>\n",
       "      <td>3.738889</td>\n",
       "      <td>1.686195</td>\n",
       "      <td>8.476179</td>\n",
       "      <td>1701.089594</td>\n",
       "      <td>-225.866699</td>\n",
       "      <td>33.169011</td>\n",
       "      <td>-222.789474</td>\n",
       "      <td>-208.157895</td>\n",
       "      <td>-7.631579</td>\n",
       "      <td>-678.157895</td>\n",
       "      <td>-714.789474</td>\n",
       "      <td>-21.947368</td>\n",
       "      <td>32.029167</td>\n",
       "      <td>30.112222</td>\n",
       "      <td>0.006347</td>\n",
       "      <td>0.509804</td>\n",
       "      <td>0.113005</td>\n",
       "      <td>0.151038</td>\n",
       "      <td>0.840830</td>\n",
       "      <td>0.636364</td>\n",
       "      <td>0.020595</td>\n",
       "      <td>0.160000</td>\n",
       "      <td>0.571429</td>\n",
       "      <td>0.043062</td>\n",
       "      <td>0.000000</td>\n",
       "      <td>0.000000</td>\n",
       "      <td>0.121951</td>\n",
       "      <td>0.000000</td>\n",
       "      <td>0.047619</td>\n",
       "      <td>0.000000</td>\n",
       "      <td>0.000000</td>\n",
       "      <td>0.453879</td>\n",
       "      <td>0.583085</td>\n",
       "      <td>0.463454</td>\n",
       "      <td>0.119310</td>\n",
       "      <td>0.010952</td>\n",
       "      <td>0.888607</td>\n",
       "      <td>0.606681</td>\n",
       "      <td>0.298502</td>\n",
       "      <td>0.393332</td>\n",
       "      <td>0.223694</td>\n",
       "      <td>0.271399</td>\n",
       "      <td>0.332711</td>\n",
       "      <td>0.221059</td>\n",
       "      <td>0.139714</td>\n",
       "    </tr>\n",
       "    <tr>\n",
       "      <th>OKSavingsBank BRION</th>\n",
       "      <td>32.515833</td>\n",
       "      <td>7.700000</td>\n",
       "      <td>10.050000</td>\n",
       "      <td>18.300000</td>\n",
       "      <td>1.846564</td>\n",
       "      <td>0.600000</td>\n",
       "      <td>0.231515</td>\n",
       "      <td>0.550410</td>\n",
       "      <td>0.350000</td>\n",
       "      <td>1.850000</td>\n",
       "      <td>2.850000</td>\n",
       "      <td>0.050000</td>\n",
       "      <td>0.150000</td>\n",
       "      <td>0.450000</td>\n",
       "      <td>1.000000</td>\n",
       "      <td>1.000000</td>\n",
       "      <td>0.450000</td>\n",
       "      <td>0.650000</td>\n",
       "      <td>0.750000</td>\n",
       "      <td>0.250000</td>\n",
       "      <td>4.300000</td>\n",
       "      <td>7.450000</td>\n",
       "      <td>0.350000</td>\n",
       "      <td>0.300000</td>\n",
       "      <td>3.850000</td>\n",
       "      <td>5.050000</td>\n",
       "      <td>0.550000</td>\n",
       "      <td>1.300000</td>\n",
       "      <td>1763.934040</td>\n",
       "      <td>2744.562930</td>\n",
       "      <td>3.433030</td>\n",
       "      <td>1.824505</td>\n",
       "      <td>8.440050</td>\n",
       "      <td>1711.968682</td>\n",
       "      <td>-161.670593</td>\n",
       "      <td>33.930515</td>\n",
       "      <td>-72.450000</td>\n",
       "      <td>-224.500000</td>\n",
       "      <td>-6.950000</td>\n",
       "      <td>-417.150000</td>\n",
       "      <td>-394.900000</td>\n",
       "      <td>-7.950000</td>\n",
       "      <td>34.361111</td>\n",
       "      <td>31.725000</td>\n",
       "      <td>0.316336</td>\n",
       "      <td>0.745098</td>\n",
       "      <td>0.000000</td>\n",
       "      <td>0.000000</td>\n",
       "      <td>0.215111</td>\n",
       "      <td>0.230303</td>\n",
       "      <td>0.273913</td>\n",
       "      <td>0.088000</td>\n",
       "      <td>0.457143</td>\n",
       "      <td>0.490909</td>\n",
       "      <td>0.594444</td>\n",
       "      <td>0.400000</td>\n",
       "      <td>0.000000</td>\n",
       "      <td>0.222619</td>\n",
       "      <td>0.000000</td>\n",
       "      <td>0.225000</td>\n",
       "      <td>0.220909</td>\n",
       "      <td>0.909656</td>\n",
       "      <td>1.000000</td>\n",
       "      <td>0.729765</td>\n",
       "      <td>0.158797</td>\n",
       "      <td>0.144628</td>\n",
       "      <td>0.378528</td>\n",
       "      <td>1.000000</td>\n",
       "      <td>0.257143</td>\n",
       "      <td>0.515822</td>\n",
       "      <td>0.199043</td>\n",
       "      <td>0.294469</td>\n",
       "      <td>0.406562</td>\n",
       "      <td>0.353407</td>\n",
       "      <td>0.391966</td>\n",
       "    </tr>\n",
       "    <tr>\n",
       "      <th>T1</th>\n",
       "      <td>30.356140</td>\n",
       "      <td>13.105263</td>\n",
       "      <td>10.368421</td>\n",
       "      <td>32.157895</td>\n",
       "      <td>1.827669</td>\n",
       "      <td>0.368421</td>\n",
       "      <td>0.445074</td>\n",
       "      <td>0.779874</td>\n",
       "      <td>0.526316</td>\n",
       "      <td>2.684211</td>\n",
       "      <td>1.578947</td>\n",
       "      <td>0.000000</td>\n",
       "      <td>0.000000</td>\n",
       "      <td>0.526316</td>\n",
       "      <td>1.157895</td>\n",
       "      <td>0.842105</td>\n",
       "      <td>0.526316</td>\n",
       "      <td>0.789474</td>\n",
       "      <td>0.526316</td>\n",
       "      <td>0.736842</td>\n",
       "      <td>7.736842</td>\n",
       "      <td>3.473684</td>\n",
       "      <td>0.736842</td>\n",
       "      <td>0.789474</td>\n",
       "      <td>6.105263</td>\n",
       "      <td>3.263158</td>\n",
       "      <td>1.315789</td>\n",
       "      <td>0.473684</td>\n",
       "      <td>2304.447242</td>\n",
       "      <td>2778.163416</td>\n",
       "      <td>3.515121</td>\n",
       "      <td>1.709295</td>\n",
       "      <td>8.472247</td>\n",
       "      <td>1915.294795</td>\n",
       "      <td>202.240924</td>\n",
       "      <td>34.270700</td>\n",
       "      <td>388.421053</td>\n",
       "      <td>306.473684</td>\n",
       "      <td>13.894737</td>\n",
       "      <td>1055.736842</td>\n",
       "      <td>684.210526</td>\n",
       "      <td>20.842105</td>\n",
       "      <td>29.405128</td>\n",
       "      <td>32.416667</td>\n",
       "      <td>0.310164</td>\n",
       "      <td>0.313725</td>\n",
       "      <td>0.764708</td>\n",
       "      <td>1.000000</td>\n",
       "      <td>0.285703</td>\n",
       "      <td>0.636364</td>\n",
       "      <td>0.926773</td>\n",
       "      <td>0.320000</td>\n",
       "      <td>0.800000</td>\n",
       "      <td>0.633630</td>\n",
       "      <td>0.888889</td>\n",
       "      <td>0.000000</td>\n",
       "      <td>0.902439</td>\n",
       "      <td>1.000000</td>\n",
       "      <td>1.000000</td>\n",
       "      <td>1.000000</td>\n",
       "      <td>1.000000</td>\n",
       "      <td>0.417498</td>\n",
       "      <td>0.113948</td>\n",
       "      <td>0.843977</td>\n",
       "      <td>0.896800</td>\n",
       "      <td>0.902401</td>\n",
       "      <td>0.515431</td>\n",
       "      <td>0.672372</td>\n",
       "      <td>0.294001</td>\n",
       "      <td>0.891319</td>\n",
       "      <td>1.000000</td>\n",
       "      <td>1.000000</td>\n",
       "      <td>0.823306</td>\n",
       "      <td>0.799866</td>\n",
       "      <td>0.910841</td>\n",
       "    </tr>\n",
       "  </tbody>\n",
       "</table>\n",
       "</div>"
      ],
      "text/plain": [
       "                     gamelength      kills     deaths    assists        kd   \n",
       "DRX                   31.054167   7.950000  14.200000  20.200000  0.878162  \\\n",
       "Dplus KIA             30.241228  10.736842   8.894737  26.789474  2.338029   \n",
       "Gen.G                 29.065789  12.263158   7.368421  29.578947  3.939466   \n",
       "Hanwha Life Esports   31.077193  11.157895  10.421053  25.578947  2.270554   \n",
       "KT Rolster            28.524074  13.944444   6.888889  34.444444  3.728439   \n",
       "Kwangdong Freecs      32.387500  10.875000  11.937500  27.000000  1.575840   \n",
       "Liiv SANDBOX          32.912281  11.526316  14.000000  28.421053  1.316761   \n",
       "Nongshim RedForce     30.515789   8.052632  12.947368  18.368421  0.897592   \n",
       "OKSavingsBank BRION   32.515833   7.700000  10.050000  18.300000  1.846564   \n",
       "T1                    30.356140  13.105263  10.368421  32.157895  1.827669   \n",
       "\n",
       "                     firstblood  team kpm      ckpm  firstdragon   dragons   \n",
       "DRX                    0.200000  0.234060  0.705125     0.250000  1.500000  \\\n",
       "Dplus KIA              0.473684  0.356632  0.657158     0.684211  2.473684   \n",
       "Gen.G                  0.736842  0.425521  0.673637     0.473684  2.526316   \n",
       "Hanwha Life Esports    0.526316  0.363526  0.699847     0.473684  1.947368   \n",
       "KT Rolster             0.611111  0.510783  0.747183     0.666667  2.777778   \n",
       "Kwangdong Freecs       0.625000  0.323969  0.696081     0.625000  2.562500   \n",
       "Liiv SANDBOX           0.421053  0.338268  0.760153     0.473684  1.894737   \n",
       "Nongshim RedForce      0.473684  0.263074  0.691516     0.526316  1.526316   \n",
       "OKSavingsBank BRION    0.600000  0.231515  0.550410     0.350000  1.850000   \n",
       "T1                     0.368421  0.445074  0.779874     0.526316  2.684211   \n",
       "\n",
       "                     opp_dragons    elders  opp_elders  firstherald   heralds   \n",
       "DRX                     2.900000  0.050000    0.050000     0.550000  1.100000  \\\n",
       "Dplus KIA               1.789474  0.052632    0.052632     0.526316  1.000000   \n",
       "Gen.G                   1.578947  0.052632    0.052632     0.473684  0.789474   \n",
       "Hanwha Life Esports     2.421053  0.105263    0.052632     0.421053  0.842105   \n",
       "KT Rolster              1.277778  0.000000    0.000000     0.444444  1.000000   \n",
       "Kwangdong Freecs        1.812500  0.125000    0.062500     0.750000  1.250000   \n",
       "Liiv SANDBOX            2.631579  0.052632    0.052632     0.421053  0.842105   \n",
       "Nongshim RedForce       2.578947  0.000000    0.000000     0.473684  1.052632   \n",
       "OKSavingsBank BRION     2.850000  0.050000    0.150000     0.450000  1.000000   \n",
       "T1                      1.578947  0.000000    0.000000     0.526316  1.157895   \n",
       "\n",
       "                     opp_heralds  firstbaron    barons  opp_barons   \n",
       "DRX                     0.900000    0.350000  0.600000    0.750000  \\\n",
       "Dplus KIA               1.000000    0.473684  0.736842    0.526316   \n",
       "Gen.G                   1.210526    0.684211  0.842105    0.315789   \n",
       "Hanwha Life Esports     1.157895    0.368421  0.631579    0.684211   \n",
       "KT Rolster              1.000000    0.722222  0.777778    0.333333   \n",
       "Kwangdong Freecs        0.750000    0.187500  0.375000    0.937500   \n",
       "Liiv SANDBOX            1.157895    0.631579  0.736842    0.736842   \n",
       "Nongshim RedForce       0.947368    0.210526  0.368421    1.000000   \n",
       "OKSavingsBank BRION     1.000000    0.450000  0.650000    0.750000   \n",
       "T1                      0.842105    0.526316  0.789474    0.526316   \n",
       "\n",
       "                     firsttower    towers  opp_towers  firstmidtower   \n",
       "DRX                    0.250000  3.850000    7.200000       0.350000  \\\n",
       "Dplus KIA              0.315789  5.421053    5.210526       0.473684   \n",
       "Gen.G                  0.789474  7.736842    3.473684       0.526316   \n",
       "Hanwha Life Esports    0.526316  5.894737    5.842105       0.473684   \n",
       "KT Rolster             0.777778  7.666667    3.277778       0.555556   \n",
       "Kwangdong Freecs       0.625000  6.312500    5.625000       0.687500   \n",
       "Liiv SANDBOX           0.473684  5.263158    7.052632       0.526316   \n",
       "Nongshim RedForce      0.315789  3.315789    8.210526       0.368421   \n",
       "OKSavingsBank BRION    0.250000  4.300000    7.450000       0.350000   \n",
       "T1                     0.736842  7.736842    3.473684       0.736842   \n",
       "\n",
       "                     firsttothreetowers  turretplates  opp_turretplates   \n",
       "DRX                            0.250000      4.250000          5.350000  \\\n",
       "Dplus KIA                      0.421053      4.842105          4.947368   \n",
       "Gen.G                          0.736842      5.421053          4.473684   \n",
       "Hanwha Life Esports            0.526316      3.947368          4.947368   \n",
       "KT Rolster                     0.722222      4.777778          4.222222   \n",
       "Kwangdong Freecs               0.750000      5.375000          3.312500   \n",
       "Liiv SANDBOX                   0.421053      3.578947          4.947368   \n",
       "Nongshim RedForce              0.157895      3.210526          4.368421   \n",
       "OKSavingsBank BRION            0.300000      3.850000          5.050000   \n",
       "T1                             0.789474      6.105263          3.263158   \n",
       "\n",
       "                     inhibitors  opp_inhibitors          dpm   \n",
       "DRX                    0.400000        1.350000  1930.804210  \\\n",
       "Dplus KIA              1.052632        0.526316  2130.751779   \n",
       "Gen.G                  1.315789        0.368421  2129.637979   \n",
       "Hanwha Life Esports    1.052632        0.947368  2069.240900   \n",
       "KT Rolster             1.055556        0.333333  2080.503328   \n",
       "Kwangdong Freecs       0.937500        0.750000  2275.768656   \n",
       "Liiv SANDBOX           0.842105        1.157895  2023.054189   \n",
       "Nongshim RedForce      0.315789        1.473684  1845.572089   \n",
       "OKSavingsBank BRION    0.550000        1.300000  1763.934040   \n",
       "T1                     1.315789        0.473684  2304.447242   \n",
       "\n",
       "                     damagetakenperminute       wpm      wcpm      vspm   \n",
       "DRX                           3118.153650  3.527580  1.694280  8.315490  \\\n",
       "Dplus KIA                     2642.174563  3.447474  1.747463  8.596500   \n",
       "Gen.G                         2662.007153  3.206053  1.706332  8.509700   \n",
       "Hanwha Life Esports           2799.821368  3.532789  1.613563  8.730089   \n",
       "KT Rolster                    2685.431928  3.390311  1.472856  8.215422   \n",
       "Kwangdong Freecs              3111.012069  3.416444  1.701944  8.681231   \n",
       "Liiv SANDBOX                  3050.962426  3.805684  1.812953  9.088974   \n",
       "Nongshim RedForce             3042.392011  3.738889  1.686195  8.476179   \n",
       "OKSavingsBank BRION           2744.562930  3.433030  1.824505  8.440050   \n",
       "T1                            2778.163416  3.515121  1.709295  8.472247   \n",
       "\n",
       "                             gpm        gdpm       cspm  golddiffat10   \n",
       "DRX                  1668.218670 -231.126423  31.548520   -705.550000  \\\n",
       "Dplus KIA            1814.646726   49.786634  33.375742     81.210526   \n",
       "Gen.G                1927.978364  249.111451  35.232153    214.210526   \n",
       "Hanwha Life Esports  1814.248435   10.632039  34.258353   -196.210526   \n",
       "KT Rolster           1943.727224  230.466881  34.673267    399.333333   \n",
       "Kwangdong Freecs     1812.323949    8.074605  34.415912    521.812500   \n",
       "Liiv SANDBOX         1773.723438  -97.570519  33.506758   -263.631579   \n",
       "Nongshim RedForce    1701.089594 -225.866699  33.169011   -222.789474   \n",
       "OKSavingsBank BRION  1711.968682 -161.670593  33.930515    -72.450000   \n",
       "T1                   1915.294795  202.240924  34.270700    388.421053   \n",
       "\n",
       "                     xpdiffat10  csdiffat10  golddiffat15   xpdiffat15   \n",
       "DRX                 -356.450000  -15.650000  -1854.050000 -1249.100000  \\\n",
       "Dplus KIA            146.315789    0.368421     39.789474    45.210526   \n",
       "Gen.G                187.157895    8.368421    813.789474   695.421053   \n",
       "Hanwha Life Esports -113.526316   -3.315789   -259.368421   364.315789   \n",
       "KT Rolster            62.555556    3.222222   1680.222222  1167.944444   \n",
       "Kwangdong Freecs     276.562500    9.562500   1105.000000    88.375000   \n",
       "Liiv SANDBOX           1.105263    1.000000  -1103.368421  -524.736842   \n",
       "Nongshim RedForce   -208.157895   -7.631579   -678.157895  -714.789474   \n",
       "OKSavingsBank BRION -224.500000   -6.950000   -417.150000  -394.900000   \n",
       "T1                   306.473684   13.894737   1055.736842   684.210526   \n",
       "\n",
       "                     csdiffat15  win_gamelength  loss_gamelength       _kd   \n",
       "DRX                  -29.700000       33.805556        29.875000  0.000000  \\\n",
       "Dplus KIA             -1.210526       30.155000        30.337037  0.476877   \n",
       "Gen.G                 25.789474       29.191667        28.394444  1.000000   \n",
       "Hanwha Life Esports   -3.684211       32.946667        29.000000  0.454836   \n",
       "KT Rolster            15.388889       28.767778        27.305556  0.931066   \n",
       "Kwangdong Freecs      10.125000       32.562500        32.212500  0.227902   \n",
       "Liiv SANDBOX          -3.263158       31.938889        33.361538  0.143272   \n",
       "Nongshim RedForce    -21.947368       32.029167        30.112222  0.006347   \n",
       "OKSavingsBank BRION   -7.950000       34.361111        31.725000  0.316336   \n",
       "T1                    20.842105       29.405128        32.416667  0.310164   \n",
       "\n",
       "                     _firstblood  _team kpm      _dpm  _damagetakenperminute   \n",
       "DRX                     0.000000   0.009113  0.308725               1.000000  \\\n",
       "Dplus KIA               0.509804   0.448016  0.678647               0.000000   \n",
       "Gen.G                   1.000000   0.694694  0.676587               0.041667   \n",
       "Hanwha Life Esports     0.607843   0.472704  0.564846               0.331205   \n",
       "KT Rolster              0.765795   1.000000  0.585683               0.090881   \n",
       "Kwangdong Freecs        0.791667   0.331057  0.946942               0.984996   \n",
       "Liiv SANDBOX            0.411765   0.382261  0.479397               0.858836   \n",
       "Nongshim RedForce       0.509804   0.113005  0.151038               0.840830   \n",
       "OKSavingsBank BRION     0.745098   0.000000  0.000000               0.215111   \n",
       "T1                      0.313725   0.764708  1.000000               0.285703   \n",
       "\n",
       "                     _firstdragon  _dragons  _firstherald  _heralds   \n",
       "DRX                      0.000000  0.000000      0.392000  0.674286  \\\n",
       "Dplus KIA                1.000000  0.762014      0.320000  0.457143   \n",
       "Gen.G                    0.515152  0.803204      0.160000  0.000000   \n",
       "Hanwha Life Esports      0.515152  0.350114      0.000000  0.114286   \n",
       "KT Rolster               0.959596  1.000000      0.071111  0.457143   \n",
       "Kwangdong Freecs         0.863636  0.831522      1.000000  1.000000   \n",
       "Liiv SANDBOX             0.515152  0.308924      0.000000  0.114286   \n",
       "Nongshim RedForce        0.636364  0.020595      0.160000  0.571429   \n",
       "OKSavingsBank BRION      0.230303  0.273913      0.088000  0.457143   \n",
       "T1                       0.636364  0.926773      0.320000  0.800000   \n",
       "\n",
       "                     _firstbaron   _barons   _elders  _firsttower   _towers   \n",
       "DRX                     0.303896  0.488889  0.400000     0.000000  0.120833  \\\n",
       "Dplus KIA               0.535202  0.777778  0.421053     0.121951  0.476190   \n",
       "Gen.G                   0.928913  1.000000  0.421053     1.000000  1.000000   \n",
       "Hanwha Life Esports     0.338346  0.555556  0.842105     0.512195  0.583333   \n",
       "KT Rolster              1.000000  0.864198  0.000000     0.978320  0.984127   \n",
       "Kwangdong Freecs        0.000000  0.013889  1.000000     0.695122  0.677827   \n",
       "Liiv SANDBOX            0.830485  0.777778  0.421053     0.414634  0.440476   \n",
       "Nongshim RedForce       0.043062  0.000000  0.000000     0.121951  0.000000   \n",
       "OKSavingsBank BRION     0.490909  0.594444  0.400000     0.000000  0.222619   \n",
       "T1                      0.633630  0.888889  0.000000     0.902439  1.000000   \n",
       "\n",
       "                     _firstmidtower  _firsttothreetowers  _turretplates   \n",
       "DRX                        0.000000             0.145833       0.359091  \\\n",
       "Dplus KIA                  0.319728             0.416667       0.563636   \n",
       "Gen.G                      0.455782             0.916667       0.763636   \n",
       "Hanwha Life Esports        0.319728             0.583333       0.254545   \n",
       "KT Rolster                 0.531368             0.893519       0.541414   \n",
       "Kwangdong Freecs           0.872449             0.937500       0.747727   \n",
       "Liiv SANDBOX               0.455782             0.416667       0.127273   \n",
       "Nongshim RedForce          0.047619             0.000000       0.000000   \n",
       "OKSavingsBank BRION        0.000000             0.225000       0.220909   \n",
       "T1                         1.000000             1.000000       1.000000   \n",
       "\n",
       "                     _gamelength  _win_gamelength  _loss_gamelength      _gpm   \n",
       "DRX                     0.576566         0.900675          0.424282  0.000000  \\\n",
       "Dplus KIA               0.391311         0.248014          0.500576  0.531483   \n",
       "Gen.G                   0.123448         0.075785          0.179804  0.942837   \n",
       "Hanwha Life Esports     0.581814         0.747120          0.279797  0.530037   \n",
       "KT Rolster              0.000000         0.000000          0.000000  1.000000   \n",
       "Kwangdong Freecs        0.880411         0.678437          0.810264  0.523052   \n",
       "Liiv SANDBOX            1.000000         0.566945          1.000000  0.382946   \n",
       "Nongshim RedForce       0.453879         0.583085          0.463454  0.119310   \n",
       "OKSavingsBank BRION     0.909656         1.000000          0.729765  0.158797   \n",
       "T1                      0.417498         0.113948          0.843977  0.896800   \n",
       "\n",
       "                        _gdpm      _wpm     _wcpm     _vspm  _golddiffat10   \n",
       "DRX                  0.000000  0.536208  0.629674  0.114553       0.000000  \\\n",
       "Dplus KIA            0.584946  0.402616  0.780913  0.436240       0.641017   \n",
       "Gen.G                1.000000  0.000000  0.663945  0.336875       0.749380   \n",
       "Hanwha Life Esports  0.503414  0.544896  0.400136  0.589166       0.414987   \n",
       "KT Rolster           0.961176  0.307286  0.000000  0.000000       0.900209   \n",
       "Kwangdong Freecs     0.498089  0.350867  0.651468  0.533236       1.000000   \n",
       "Liiv SANDBOX         0.278104  1.000000  0.967148  1.000000       0.360055   \n",
       "Nongshim RedForce    0.010952  0.888607  0.606681  0.298502       0.393332   \n",
       "OKSavingsBank BRION  0.144628  0.378528  1.000000  0.257143       0.515822   \n",
       "T1                   0.902401  0.515431  0.672372  0.294001       0.891319   \n",
       "\n",
       "                     _xpdiffat10  _csdiffat10  _golddiffat15  _xpdiffat15   \n",
       "DRX                     0.000000     0.000000       0.000000     0.000000  \\\n",
       "Dplus KIA               0.758407     0.542175       0.535850     0.535493   \n",
       "Gen.G                   0.820016     0.812951       0.754848     0.804504   \n",
       "Hanwha Life Esports     0.366443     0.417476       0.451205     0.667516   \n",
       "KT Rolster              0.632057     0.638768       1.000000     1.000000   \n",
       "Kwangdong Freecs        0.954880     0.853367       0.837245     0.553351   \n",
       "Liiv SANDBOX            0.539361     0.563552       0.212401     0.299690   \n",
       "Nongshim RedForce       0.223694     0.271399       0.332711     0.221059   \n",
       "OKSavingsBank BRION     0.199043     0.294469       0.406562     0.353407   \n",
       "T1                      1.000000     1.000000       0.823306     0.799866   \n",
       "\n",
       "                     _csdiffat15  \n",
       "DRX                     0.000000  \n",
       "Dplus KIA               0.513421  \n",
       "Gen.G                   1.000000  \n",
       "Hanwha Life Esports     0.468842  \n",
       "KT Rolster              0.812567  \n",
       "Kwangdong Freecs        0.717704  \n",
       "Liiv SANDBOX            0.476430  \n",
       "Nongshim RedForce       0.139714  \n",
       "OKSavingsBank BRION     0.391966  \n",
       "T1                      0.910841  "
      ]
     },
     "execution_count": 16,
     "metadata": {},
     "output_type": "execute_result"
    }
   ],
   "source": [
    "teams_stats"
   ]
  },
  {
   "cell_type": "code",
   "execution_count": 17,
   "metadata": {},
   "outputs": [
    {
     "data": {
      "application/vnd.plotly.v1+json": {
       "config": {
        "plotlyServerURL": "https://plot.ly"
       },
       "data": [
        {
         "fill": "toself",
         "name": "DRX",
         "r": [
          0,
          0,
          0.009113099110174883,
          0.3087254286297756,
          1
         ],
         "subplot": "polar",
         "theta": [
          "kd - 0.88 | 10",
          "firstblood - 0.2 | 10",
          "team kpm - 0.23 | 9",
          "dpm - 1930.8 | 8",
          "damagetakenperminute - 3118.15 | 1"
         ],
         "type": "scatterpolar"
        },
        {
         "fill": "toself",
         "name": "DRX",
         "r": [
          0,
          0,
          0.3920000000000001,
          0.6742857142857146,
          0.3038961038961039,
          0.4888888888888888,
          0.4
         ],
         "subplot": "polar2",
         "theta": [
          "firstdragon - 0.25 | 10",
          "dragons - 1.5 | 10",
          "firstherald - 0.55 | 2",
          "heralds - 1.1 | 3",
          "firstbaron - 0.35 | 8",
          "barons - 0.6 | 8",
          "elders - 0.05 | 6"
         ],
         "type": "scatterpolar"
        },
        {
         "fill": "toself",
         "name": "DRX",
         "r": [
          0,
          0.12083333333333335,
          0,
          0.14583333333333337,
          0.3590909090909091
         ],
         "subplot": "polar3",
         "theta": [
          "firsttower - 0.25 | 9",
          "towers - 3.85 | 9",
          "firstmidtower - 0.35 | 9",
          "firsttothreetowers - 0.25 | 9",
          "turretplates - 4.25 | 6"
         ],
         "type": "scatterpolar"
        },
        {
         "fill": "toself",
         "name": "DRX",
         "r": [
          0.576566421606735,
          0.900675407230831,
          0.42428198433420405,
          0,
          0,
          0.5362081980163245,
          0.6296738070900787,
          0.11455281358010794
         ],
         "subplot": "polar4",
         "theta": [
          "gamelength - 31.05 | 5",
          "win_gamelength - 33.81 | 2",
          "loss_gamelength - 29.88 | 7",
          "gpm - 1668.22 | 10",
          "gdpm - -231.13 | 10",
          "wpm - 3.53 | 4",
          "wcpm - 1.69 | 7",
          "vspm - 8.32 | 9"
         ],
         "type": "scatterpolar"
        },
        {
         "fill": "toself",
         "name": "DRX",
         "r": [
          0,
          0,
          0,
          0,
          0,
          0
         ],
         "subplot": "polar5",
         "theta": [
          "golddiffat10 - -705.55 | 10",
          "xpdiffat10 - -356.45 | 10",
          "csdiffat10 - -15.65 | 10",
          "golddiffat15 - -1854.05 | 10",
          "xpdiffat15 - -1249.1 | 10",
          "csdiffat15 - -29.7 | 10"
         ],
         "type": "scatterpolar"
        },
        {
         "fill": "toself",
         "name": "Dplus KIA",
         "r": [
          0.47687746043962115,
          0.5098039215686274,
          0.4480156323274571,
          0.6786471403818397,
          0
         ],
         "subplot": "polar6",
         "theta": [
          "kd - 2.34 | 3",
          "firstblood - 0.47 | 6",
          "team kpm - 0.36 | 5",
          "dpm - 2130.75 | 3",
          "damagetakenperminute - 2642.17 | 10"
         ],
         "type": "scatterpolar"
        },
        {
         "fill": "toself",
         "name": "Dplus KIA",
         "r": [
          1,
          0.7620137299771168,
          0.31999999999999984,
          0.4571428571428571,
          0.5352016404647982,
          0.7777777777777778,
          0.42105263157894735
         ],
         "subplot": "polar7",
         "theta": [
          "firstdragon - 0.68 | 1",
          "dragons - 2.47 | 5",
          "firstherald - 0.53 | 3",
          "heralds - 1.0 | 5",
          "firstbaron - 0.47 | 5",
          "barons - 0.74 | 4",
          "elders - 0.05 | 3"
         ],
         "type": "scatterpolar"
        },
        {
         "fill": "toself",
         "name": "Dplus KIA",
         "r": [
          0.12195121951219512,
          0.4761904761904764,
          0.3197278911564626,
          0.41666666666666674,
          0.5636363636363637
         ],
         "subplot": "polar8",
         "theta": [
          "firsttower - 0.32 | 7",
          "towers - 5.42 | 6",
          "firstmidtower - 0.47 | 6",
          "firsttothreetowers - 0.42 | 6",
          "turretplates - 4.84 | 4"
         ],
         "type": "scatterpolar"
        },
        {
         "fill": "toself",
         "name": "Dplus KIA",
         "r": [
          0.39131110765608756,
          0.24801350814461642,
          0.5005762943099761,
          0.531482794546795,
          0.5849456527907654,
          0.40261564118318116,
          0.7809129423566183,
          0.43623964283729855
         ],
         "subplot": "polar9",
         "theta": [
          "gamelength - 30.24 | 8",
          "win_gamelength - 30.15 | 7",
          "loss_gamelength - 30.34 | 5",
          "gpm - 1814.65 | 4",
          "gdpm - 49.79 | 4",
          "wpm - 3.45 | 6",
          "wcpm - 1.75 | 3",
          "vspm - 8.6 | 4"
         ],
         "type": "scatterpolar"
        },
        {
         "fill": "toself",
         "name": "Dplus KIA",
         "r": [
          0.6410172433293256,
          0.7584067388879405,
          0.5421751135655117,
          0.5358499160807237,
          0.5354930602499888,
          0.5134212273546429
         ],
         "subplot": "polar10",
         "theta": [
          "golddiffat10 - 81.21 | 5",
          "xpdiffat10 - 146.32 | 4",
          "csdiffat10 - 0.37 | 6",
          "golddiffat15 - 39.79 | 5",
          "xpdiffat15 - 45.21 | 6",
          "csdiffat15 - -1.21 | 5"
         ],
         "type": "scatterpolar"
        },
        {
         "fill": "toself",
         "name": "Gen.G",
         "r": [
          1,
          1,
          0.6946940611415988,
          0.676586506162987,
          0.04166693458165227
         ],
         "subplot": "polar11",
         "theta": [
          "kd - 3.94 | 1",
          "firstblood - 0.74 | 1",
          "team kpm - 0.43 | 3",
          "dpm - 2129.64 | 4",
          "damagetakenperminute - 2662.01 | 9"
         ],
         "type": "scatterpolar"
        },
        {
         "fill": "toself",
         "name": "Gen.G",
         "r": [
          0.5151515151515151,
          0.8032036613272311,
          0.15999999999999992,
          0,
          0.9289131920710869,
          0.9999999999999999,
          0.42105263157894735
         ],
         "subplot": "polar12",
         "theta": [
          "firstdragon - 0.47 | 6",
          "dragons - 2.53 | 4",
          "firstherald - 0.47 | 5",
          "heralds - 0.79 | 10",
          "firstbaron - 0.68 | 2",
          "barons - 0.84 | 1",
          "elders - 0.05 | 3"
         ],
         "type": "scatterpolar"
        },
        {
         "fill": "toself",
         "name": "Gen.G",
         "r": [
          1,
          1,
          0.45578231292517,
          0.9166666666666667,
          0.7636363636363637
         ],
         "subplot": "polar13",
         "theta": [
          "firsttower - 0.79 | 1",
          "towers - 7.74 | 1",
          "firstmidtower - 0.53 | 4",
          "firsttothreetowers - 0.74 | 3",
          "turretplates - 5.42 | 2"
         ],
         "type": "scatterpolar"
        },
        {
         "fill": "toself",
         "name": "Gen.G",
         "r": [
          0.12344801545876649,
          0.07578466428287634,
          0.17980382471244116,
          0.942837130157768,
          1,
          0,
          0.6639453782179903,
          0.3368751476964711
         ],
         "subplot": "polar14",
         "theta": [
          "gamelength - 29.07 | 9",
          "win_gamelength - 29.19 | 9",
          "loss_gamelength - 28.39 | 9",
          "gpm - 1927.98 | 2",
          "gdpm - 249.11 | 1",
          "wpm - 3.21 | 10",
          "wcpm - 1.71 | 5",
          "vspm - 8.51 | 5"
         ],
         "type": "scatterpolar"
        },
        {
         "fill": "toself",
         "name": "Gen.G",
         "r": [
          0.749379687187599,
          0.8200157992306807,
          0.8129509218847422,
          0.7548483268803697,
          0.80450363960044,
          1
         ],
         "subplot": "polar15",
         "theta": [
          "golddiffat10 - 214.21 | 4",
          "xpdiffat10 - 187.16 | 3",
          "csdiffat10 - 8.37 | 3",
          "golddiffat15 - 813.79 | 4",
          "xpdiffat15 - 695.42 | 2",
          "csdiffat15 - 25.79 | 1"
         ],
         "type": "scatterpolar"
        },
        {
         "fill": "toself",
         "name": "Hanwha Life Esports",
         "r": [
          0.45483617321577335,
          0.607843137254902,
          0.4727042060723212,
          0.564846258723839,
          0.331205318933379
         ],
         "subplot": "polar16",
         "theta": [
          "kd - 2.27 | 4",
          "firstblood - 0.53 | 5",
          "team kpm - 0.36 | 4",
          "dpm - 2069.24 | 6",
          "damagetakenperminute - 2799.82 | 5"
         ],
         "type": "scatterpolar"
        },
        {
         "fill": "toself",
         "name": "Hanwha Life Esports",
         "r": [
          0.5151515151515151,
          0.35011441647597263,
          0,
          0.1142857142857141,
          0.33834586466165406,
          0.5555555555555555,
          0.8421052631578947
         ],
         "subplot": "polar17",
         "theta": [
          "firstdragon - 0.47 | 6",
          "dragons - 1.95 | 6",
          "firstherald - 0.42 | 9",
          "heralds - 0.84 | 8",
          "firstbaron - 0.37 | 7",
          "barons - 0.63 | 7",
          "elders - 0.11 | 2"
         ],
         "type": "scatterpolar"
        },
        {
         "fill": "toself",
         "name": "Hanwha Life Esports",
         "r": [
          0.5121951219512194,
          0.5833333333333334,
          0.3197278911564626,
          0.5833333333333334,
          0.2545454545454544
         ],
         "subplot": "polar18",
         "theta": [
          "firsttower - 0.53 | 5",
          "towers - 5.89 | 5",
          "firstmidtower - 0.47 | 6",
          "firsttothreetowers - 0.53 | 5",
          "turretplates - 3.95 | 7"
         ],
         "type": "scatterpolar"
        },
        {
         "fill": "toself",
         "name": "Hanwha Life Esports",
         "r": [
          0.5818137396441827,
          0.7471195868096938,
          0.2797967680474214,
          0.530037135940975,
          0.503413983955514,
          0.5448959887650302,
          0.400136000673851,
          0.5891664931686424
         ],
         "subplot": "polar19",
         "theta": [
          "gamelength - 31.08 | 4",
          "win_gamelength - 32.95 | 3",
          "loss_gamelength - 29.0 | 8",
          "gpm - 1814.25 | 5",
          "gdpm - 10.63 | 5",
          "wpm - 3.53 | 3",
          "wcpm - 1.61 | 9",
          "vspm - 8.73 | 2"
         ],
         "type": "scatterpolar"
        },
        {
         "fill": "toself",
         "name": "Hanwha Life Esports",
         "r": [
          0.41498699339780254,
          0.3664429103929562,
          0.41747572815533984,
          0.4512050794844237,
          0.6675159793532578,
          0.46884188561130613
         ],
         "subplot": "polar20",
         "theta": [
          "golddiffat10 - -196.21 | 7",
          "xpdiffat10 - -113.53 | 7",
          "csdiffat10 - -3.32 | 7",
          "golddiffat15 - -259.37 | 6",
          "xpdiffat15 - 364.32 | 4",
          "csdiffat15 - -3.68 | 7"
         ],
         "type": "scatterpolar"
        },
        {
         "fill": "toself",
         "name": "KT Rolster",
         "r": [
          0.9310664860985318,
          0.7657952069716778,
          1.0000000000000002,
          0.585682803944032,
          0.09088080929537234
         ],
         "subplot": "polar21",
         "theta": [
          "kd - 3.73 | 2",
          "firstblood - 0.61 | 3",
          "team kpm - 0.51 | 1",
          "dpm - 2080.5 | 5",
          "damagetakenperminute - 2685.43 | 8"
         ],
         "type": "scatterpolar"
        },
        {
         "fill": "toself",
         "name": "KT Rolster",
         "r": [
          0.9595959595959593,
          0.9999999999999998,
          0.07111111111111112,
          0.4571428571428571,
          1,
          0.8641975308641975,
          0
         ],
         "subplot": "polar22",
         "theta": [
          "firstdragon - 0.67 | 2",
          "dragons - 2.78 | 1",
          "firstherald - 0.44 | 8",
          "heralds - 1.0 | 5",
          "firstbaron - 0.72 | 1",
          "barons - 0.78 | 3",
          "elders - 0.0 | 8"
         ],
         "type": "scatterpolar"
        },
        {
         "fill": "toself",
         "name": "KT Rolster",
         "r": [
          0.9783197831978319,
          0.9841269841269843,
          0.5313681027966745,
          0.8935185185185186,
          0.5414141414141413
         ],
         "subplot": "polar23",
         "theta": [
          "firsttower - 0.78 | 2",
          "towers - 7.67 | 3",
          "firstmidtower - 0.56 | 3",
          "firsttothreetowers - 0.72 | 4",
          "turretplates - 4.78 | 5"
         ],
         "type": "scatterpolar"
        },
        {
         "fill": "toself",
         "name": "KT Rolster",
         "r": [
          0,
          0,
          0,
          1,
          0.9611763863087359,
          0.30728615036523355,
          0,
          0
         ],
         "subplot": "polar24",
         "theta": [
          "gamelength - 28.52 | 10",
          "win_gamelength - 28.77 | 10",
          "loss_gamelength - 27.31 | 10",
          "gpm - 1943.73 | 1",
          "gdpm - 230.47 | 2",
          "wpm - 3.39 | 9",
          "wcpm - 1.47 | 10",
          "vspm - 8.22 | 10"
         ],
         "type": "scatterpolar"
        },
        {
         "fill": "toself",
         "name": "KT Rolster",
         "r": [
          0.9002094599870318,
          0.6320570007308577,
          0.6387676533752957,
          1,
          1,
          0.812566526499942
         ],
         "subplot": "polar25",
         "theta": [
          "golddiffat10 - 399.33 | 2",
          "xpdiffat10 - 62.56 | 5",
          "csdiffat10 - 3.22 | 4",
          "golddiffat15 - 1680.22 | 1",
          "xpdiffat15 - 1167.94 | 1",
          "csdiffat15 - 15.39 | 3"
         ],
         "type": "scatterpolar"
        },
        {
         "fill": "toself",
         "name": "Kwangdong Freecs",
         "r": [
          0.22790205704980177,
          0.7916666666666667,
          0.3310570478810704,
          0.9469419326973654,
          0.984996018843221
         ],
         "subplot": "polar26",
         "theta": [
          "kd - 1.58 | 7",
          "firstblood - 0.62 | 2",
          "team kpm - 0.32 | 7",
          "dpm - 2275.77 | 2",
          "damagetakenperminute - 3111.01 | 2"
         ],
         "type": "scatterpolar"
        },
        {
         "fill": "toself",
         "name": "Kwangdong Freecs",
         "r": [
          0.8636363636363635,
          0.8315217391304348,
          1,
          0.9999999999999998,
          0,
          0.01388888888888895,
          1
         ],
         "subplot": "polar27",
         "theta": [
          "firstdragon - 0.62 | 3",
          "dragons - 2.56 | 3",
          "firstherald - 0.75 | 1",
          "heralds - 1.25 | 1",
          "firstbaron - 0.19 | 10",
          "barons - 0.38 | 9",
          "elders - 0.12 | 1"
         ],
         "type": "scatterpolar"
        },
        {
         "fill": "toself",
         "name": "Kwangdong Freecs",
         "r": [
          0.6951219512195121,
          0.677827380952381,
          0.8724489795918368,
          0.9375,
          0.7477272727272728
         ],
         "subplot": "polar28",
         "theta": [
          "firsttower - 0.62 | 4",
          "towers - 6.31 | 4",
          "firstmidtower - 0.69 | 2",
          "firsttothreetowers - 0.75 | 2",
          "turretplates - 5.38 | 3"
         ],
         "type": "scatterpolar"
        },
        {
         "fill": "toself",
         "name": "Kwangdong Freecs",
         "r": [
          0.8804111232036975,
          0.6784366309098138,
          0.810263919271752,
          0.5230519225617956,
          0.4980886356766749,
          0.35086730887386963,
          0.6514675284255631,
          0.5332359317647324
         ],
         "subplot": "polar29",
         "theta": [
          "gamelength - 32.39 | 3",
          "win_gamelength - 32.56 | 4",
          "loss_gamelength - 32.21 | 3",
          "gpm - 1812.32 | 6",
          "gdpm - 8.07 | 6",
          "wpm - 3.42 | 8",
          "wcpm - 1.7 | 6",
          "vspm - 8.68 | 3"
         ],
         "type": "scatterpolar"
        },
        {
         "fill": "toself",
         "name": "Kwangdong Freecs",
         "r": [
          1,
          0.9548798980592352,
          0.8533668834060746,
          0.8372445057838405,
          0.5533514301212684,
          0.7177036896519018
         ],
         "subplot": "polar30",
         "theta": [
          "golddiffat10 - 521.81 | 1",
          "xpdiffat10 - 276.56 | 2",
          "csdiffat10 - 9.56 | 2",
          "golddiffat15 - 1105.0 | 2",
          "xpdiffat15 - 88.38 | 5",
          "csdiffat15 - 10.12 | 4"
         ],
         "type": "scatterpolar"
        },
        {
         "fill": "toself",
         "name": "Liiv SANDBOX",
         "r": [
          0.14327191102618886,
          0.411764705882353,
          0.3822611027123195,
          0.4793965225353025,
          0.8588357649702791
         ],
         "subplot": "polar31",
         "theta": [
          "kd - 1.32 | 8",
          "firstblood - 0.42 | 8",
          "team kpm - 0.34 | 6",
          "dpm - 2023.05 | 7",
          "damagetakenperminute - 3050.96 | 3"
         ],
         "type": "scatterpolar"
        },
        {
         "fill": "toself",
         "name": "Liiv SANDBOX",
         "r": [
          0.5151515151515151,
          0.3089244851258579,
          0,
          0.1142857142857141,
          0.8304853041695146,
          0.7777777777777778,
          0.42105263157894735
         ],
         "subplot": "polar32",
         "theta": [
          "firstdragon - 0.47 | 6",
          "dragons - 1.89 | 7",
          "firstherald - 0.42 | 9",
          "heralds - 0.84 | 8",
          "firstbaron - 0.63 | 3",
          "barons - 0.74 | 4",
          "elders - 0.05 | 3"
         ],
         "type": "scatterpolar"
        },
        {
         "fill": "toself",
         "name": "Liiv SANDBOX",
         "r": [
          0.41463414634146334,
          0.4404761904761906,
          0.45578231292517,
          0.41666666666666674,
          0.1272727272727272
         ],
         "subplot": "polar33",
         "theta": [
          "firsttower - 0.47 | 6",
          "towers - 5.26 | 7",
          "firstmidtower - 0.53 | 4",
          "firsttothreetowers - 0.42 | 6",
          "turretplates - 3.58 | 9"
         ],
         "type": "scatterpolar"
        },
        {
         "fill": "toself",
         "name": "Liiv SANDBOX",
         "r": [
          1,
          0.5669447755264203,
          1,
          0.38294552624186995,
          0.2781036461786095,
          1,
          0.9671480543946158,
          1
         ],
         "subplot": "polar34",
         "theta": [
          "gamelength - 32.91 | 1",
          "win_gamelength - 31.94 | 6",
          "loss_gamelength - 33.36 | 1",
          "gpm - 1773.72 | 7",
          "gdpm - -97.57 | 7",
          "wpm - 3.81 | 1",
          "wcpm - 1.81 | 2",
          "vspm - 9.09 | 1"
         ],
         "type": "scatterpolar"
        },
        {
         "fill": "toself",
         "name": "Liiv SANDBOX",
         "r": [
          0.3600553390319743,
          0.5393611235714201,
          0.5635521510643984,
          0.21240061086052026,
          0.2996896310945706,
          0.4764298586740017
         ],
         "subplot": "polar35",
         "theta": [
          "golddiffat10 - -263.63 | 9",
          "xpdiffat10 - 1.11 | 6",
          "csdiffat10 - 1.0 | 5",
          "golddiffat15 - -1103.37 | 9",
          "xpdiffat15 - -524.74 | 8",
          "csdiffat15 - -3.26 | 6"
         ],
         "type": "scatterpolar"
        },
        {
         "fill": "toself",
         "name": "Nongshim RedForce",
         "r": [
          0.00634670559716799,
          0.5098039215686274,
          0.11300487897730271,
          0.15103803044164188,
          0.8408298986908713
         ],
         "subplot": "polar36",
         "theta": [
          "kd - 0.9 | 9",
          "firstblood - 0.47 | 6",
          "team kpm - 0.26 | 8",
          "dpm - 1845.57 | 9",
          "damagetakenperminute - 3042.39 | 4"
         ],
         "type": "scatterpolar"
        },
        {
         "fill": "toself",
         "name": "Nongshim RedForce",
         "r": [
          0.6363636363636362,
          0.020594965675057253,
          0.15999999999999992,
          0.5714285714285714,
          0.043062200956937746,
          0,
          0
         ],
         "subplot": "polar37",
         "theta": [
          "firstdragon - 0.53 | 4",
          "dragons - 1.53 | 9",
          "firstherald - 0.47 | 5",
          "heralds - 1.05 | 4",
          "firstbaron - 0.21 | 9",
          "barons - 0.37 | 10",
          "elders - 0.0 | 8"
         ],
         "type": "scatterpolar"
        },
        {
         "fill": "toself",
         "name": "Nongshim RedForce",
         "r": [
          0.12195121951219512,
          0,
          0.04761904761904767,
          0,
          0
         ],
         "subplot": "polar38",
         "theta": [
          "firsttower - 0.32 | 7",
          "towers - 3.32 | 10",
          "firstmidtower - 0.37 | 8",
          "firsttothreetowers - 0.16 | 10",
          "turretplates - 3.21 | 10"
         ],
         "type": "scatterpolar"
        },
        {
         "fill": "toself",
         "name": "Nongshim RedForce",
         "r": [
          0.45387912844546197,
          0.583085021851411,
          0.4634535318608428,
          0.11930999606517467,
          0.0109523308338621,
          0.8886070394101626,
          0.6066814114368784,
          0.2985018473355723
         ],
         "subplot": "polar39",
         "theta": [
          "gamelength - 30.52 | 6",
          "win_gamelength - 32.03 | 5",
          "loss_gamelength - 30.11 | 6",
          "gpm - 1701.09 | 9",
          "gdpm - -225.87 | 9",
          "wpm - 3.74 | 2",
          "wcpm - 1.69 | 8",
          "vspm - 8.48 | 6"
         ],
         "type": "scatterpolar"
        },
        {
         "fill": "toself",
         "name": "Nongshim RedForce",
         "r": [
          0.39333165736755804,
          0.2236940824338754,
          0.2713993052462813,
          0.3327112433132838,
          0.22105945446882352,
          0.1397135540168833
         ],
         "subplot": "polar40",
         "theta": [
          "golddiffat10 - -222.79 | 8",
          "xpdiffat10 - -208.16 | 8",
          "csdiffat10 - -7.63 | 9",
          "golddiffat15 - -678.16 | 8",
          "xpdiffat15 - -714.79 | 9",
          "csdiffat15 - -21.95 | 9"
         ],
         "type": "scatterpolar"
        },
        {
         "fill": "toself",
         "name": "OKSavingsBank BRION",
         "r": [
          0.31633633131552036,
          0.7450980392156863,
          0,
          0,
          0.21511106196157392
         ],
         "subplot": "polar41",
         "theta": [
          "kd - 1.85 | 5",
          "firstblood - 0.6 | 4",
          "team kpm - 0.23 | 10",
          "dpm - 1763.93 | 10",
          "damagetakenperminute - 2744.56 | 7"
         ],
         "type": "scatterpolar"
        },
        {
         "fill": "toself",
         "name": "OKSavingsBank BRION",
         "r": [
          0.23030303030303023,
          0.27391304347826084,
          0.08800000000000008,
          0.4571428571428571,
          0.49090909090909085,
          0.5944444444444444,
          0.4
         ],
         "subplot": "polar42",
         "theta": [
          "firstdragon - 0.35 | 9",
          "dragons - 1.85 | 8",
          "firstherald - 0.45 | 7",
          "heralds - 1.0 | 5",
          "firstbaron - 0.45 | 6",
          "barons - 0.65 | 6",
          "elders - 0.05 | 6"
         ],
         "type": "scatterpolar"
        },
        {
         "fill": "toself",
         "name": "OKSavingsBank BRION",
         "r": [
          0,
          0.2226190476190476,
          0,
          0.22500000000000003,
          0.22090909090909094
         ],
         "subplot": "polar43",
         "theta": [
          "firsttower - 0.25 | 9",
          "towers - 4.3 | 8",
          "firstmidtower - 0.35 | 9",
          "firsttothreetowers - 0.3 | 8",
          "turretplates - 3.85 | 8"
         ],
         "type": "scatterpolar"
        },
        {
         "fill": "toself",
         "name": "OKSavingsBank BRION",
         "r": [
          0.9096561757324038,
          1,
          0.7297650130548305,
          0.158797292100747,
          0.1446279708424567,
          0.3785280435355034,
          1,
          0.25714315361169326
         ],
         "subplot": "polar44",
         "theta": [
          "gamelength - 32.52 | 2",
          "win_gamelength - 34.36 | 1",
          "loss_gamelength - 31.72 | 4",
          "gpm - 1711.97 | 8",
          "gdpm - -161.67 | 8",
          "wpm - 3.43 | 7",
          "wcpm - 1.82 | 1",
          "vspm - 8.44 | 8"
         ],
         "type": "scatterpolar"
        },
        {
         "fill": "toself",
         "name": "OKSavingsBank BRION",
         "r": [
          0.5158215278697206,
          0.1990425189848795,
          0.2944686915471631,
          0.4065617783953635,
          0.3534068237608834,
          0.39196623351987103
         ],
         "subplot": "polar45",
         "theta": [
          "golddiffat10 - -72.45 | 6",
          "xpdiffat10 - -224.5 | 9",
          "csdiffat10 - -6.95 | 8",
          "golddiffat15 - -417.15 | 7",
          "xpdiffat15 - -394.9 | 7",
          "csdiffat15 - -7.95 | 8"
         ],
         "type": "scatterpolar"
        },
        {
         "fill": "toself",
         "name": "T1",
         "r": [
          0.3101640442513875,
          0.31372549019607837,
          0.7647078408837129,
          1,
          0.28570341931155063
         ],
         "subplot": "polar46",
         "theta": [
          "kd - 1.83 | 6",
          "firstblood - 0.37 | 9",
          "team kpm - 0.45 | 2",
          "dpm - 2304.45 | 1",
          "damagetakenperminute - 2778.16 | 6"
         ],
         "type": "scatterpolar"
        },
        {
         "fill": "toself",
         "name": "T1",
         "r": [
          0.6363636363636362,
          0.9267734553775744,
          0.31999999999999984,
          0.8,
          0.6336295283663704,
          0.888888888888889,
          0
         ],
         "subplot": "polar47",
         "theta": [
          "firstdragon - 0.53 | 4",
          "dragons - 2.68 | 2",
          "firstherald - 0.53 | 3",
          "heralds - 1.16 | 2",
          "firstbaron - 0.53 | 4",
          "barons - 0.79 | 2",
          "elders - 0.0 | 8"
         ],
         "type": "scatterpolar"
        },
        {
         "fill": "toself",
         "name": "T1",
         "r": [
          0.9024390243902438,
          1,
          1,
          1.0000000000000002,
          1.0000000000000002
         ],
         "subplot": "polar48",
         "theta": [
          "firsttower - 0.74 | 3",
          "towers - 7.74 | 1",
          "firstmidtower - 0.74 | 1",
          "firsttothreetowers - 0.79 | 1",
          "turretplates - 6.11 | 1"
         ],
         "type": "scatterpolar"
        },
        {
         "fill": "toself",
         "name": "T1",
         "r": [
          0.4174977233858259,
          0.11394822896610801,
          0.8439771364053348,
          0.8968001941758166,
          0.9024014353989728,
          0.5154305275168962,
          0.6723718322947718,
          0.2940011634967288
         ],
         "subplot": "polar49",
         "theta": [
          "gamelength - 30.36 | 7",
          "win_gamelength - 29.41 | 8",
          "loss_gamelength - 32.42 | 2",
          "gpm - 1915.29 | 3",
          "gdpm - 202.24 | 3",
          "wpm - 3.52 | 5",
          "wcpm - 1.71 | 4",
          "vspm - 8.47 | 7"
         ],
         "type": "scatterpolar"
        },
        {
         "fill": "toself",
         "name": "T1",
         "r": [
          0.8913186223561327,
          1,
          1,
          0.8233058064428593,
          0.7998655261633633,
          0.9108413165133264
         ],
         "subplot": "polar50",
         "theta": [
          "golddiffat10 - 388.42 | 3",
          "xpdiffat10 - 306.47 | 1",
          "csdiffat10 - 13.89 | 1",
          "golddiffat15 - 1055.74 | 3",
          "xpdiffat15 - 684.21 | 3",
          "csdiffat15 - 20.84 | 2"
         ],
         "type": "scatterpolar"
        }
       ],
       "layout": {
        "annotations": [
         {
          "font": {
           "size": 16
          },
          "showarrow": false,
          "text": "DRX",
          "x": 0.08399999999999999,
          "xanchor": "center",
          "xref": "paper",
          "y": 1,
          "yanchor": "bottom",
          "yref": "paper",
          "yshift": 20
         },
         {
          "font": {
           "size": 16
          },
          "showarrow": false,
          "text": "DRX",
          "x": 0.292,
          "xanchor": "center",
          "xref": "paper",
          "y": 1,
          "yanchor": "bottom",
          "yref": "paper",
          "yshift": 20
         },
         {
          "font": {
           "size": 16
          },
          "showarrow": false,
          "text": "DRX",
          "x": 0.5,
          "xanchor": "center",
          "xref": "paper",
          "y": 1,
          "yanchor": "bottom",
          "yref": "paper",
          "yshift": 20
         },
         {
          "font": {
           "size": 16
          },
          "showarrow": false,
          "text": "DRX",
          "x": 0.708,
          "xanchor": "center",
          "xref": "paper",
          "y": 1,
          "yanchor": "bottom",
          "yref": "paper",
          "yshift": 20
         },
         {
          "font": {
           "size": 16
          },
          "showarrow": false,
          "text": "DRX",
          "x": 0.9159999999999999,
          "xanchor": "center",
          "xref": "paper",
          "y": 1,
          "yanchor": "bottom",
          "yref": "paper",
          "yshift": 20
         },
         {
          "font": {
           "size": 16
          },
          "showarrow": false,
          "text": "Dplus KIA",
          "x": 0.08399999999999999,
          "xanchor": "center",
          "xref": "paper",
          "y": 0.8950000000000001,
          "yanchor": "bottom",
          "yref": "paper",
          "yshift": 20
         },
         {
          "font": {
           "size": 16
          },
          "showarrow": false,
          "text": "Dplus KIA",
          "x": 0.292,
          "xanchor": "center",
          "xref": "paper",
          "y": 0.8950000000000001,
          "yanchor": "bottom",
          "yref": "paper",
          "yshift": 20
         },
         {
          "font": {
           "size": 16
          },
          "showarrow": false,
          "text": "Dplus KIA",
          "x": 0.5,
          "xanchor": "center",
          "xref": "paper",
          "y": 0.8950000000000001,
          "yanchor": "bottom",
          "yref": "paper",
          "yshift": 20
         },
         {
          "font": {
           "size": 16
          },
          "showarrow": false,
          "text": "Dplus KIA",
          "x": 0.708,
          "xanchor": "center",
          "xref": "paper",
          "y": 0.8950000000000001,
          "yanchor": "bottom",
          "yref": "paper",
          "yshift": 20
         },
         {
          "font": {
           "size": 16
          },
          "showarrow": false,
          "text": "Dplus KIA",
          "x": 0.9159999999999999,
          "xanchor": "center",
          "xref": "paper",
          "y": 0.8950000000000001,
          "yanchor": "bottom",
          "yref": "paper",
          "yshift": 20
         },
         {
          "font": {
           "size": 16
          },
          "showarrow": false,
          "text": "Gen.G",
          "x": 0.08399999999999999,
          "xanchor": "center",
          "xref": "paper",
          "y": 0.7900000000000001,
          "yanchor": "bottom",
          "yref": "paper",
          "yshift": 20
         },
         {
          "font": {
           "size": 16
          },
          "showarrow": false,
          "text": "Gen.G",
          "x": 0.292,
          "xanchor": "center",
          "xref": "paper",
          "y": 0.7900000000000001,
          "yanchor": "bottom",
          "yref": "paper",
          "yshift": 20
         },
         {
          "font": {
           "size": 16
          },
          "showarrow": false,
          "text": "Gen.G",
          "x": 0.5,
          "xanchor": "center",
          "xref": "paper",
          "y": 0.7900000000000001,
          "yanchor": "bottom",
          "yref": "paper",
          "yshift": 20
         },
         {
          "font": {
           "size": 16
          },
          "showarrow": false,
          "text": "Gen.G",
          "x": 0.708,
          "xanchor": "center",
          "xref": "paper",
          "y": 0.7900000000000001,
          "yanchor": "bottom",
          "yref": "paper",
          "yshift": 20
         },
         {
          "font": {
           "size": 16
          },
          "showarrow": false,
          "text": "Gen.G",
          "x": 0.9159999999999999,
          "xanchor": "center",
          "xref": "paper",
          "y": 0.7900000000000001,
          "yanchor": "bottom",
          "yref": "paper",
          "yshift": 20
         },
         {
          "font": {
           "size": 16
          },
          "showarrow": false,
          "text": "Hanwha Life Esports",
          "x": 0.08399999999999999,
          "xanchor": "center",
          "xref": "paper",
          "y": 0.6850000000000002,
          "yanchor": "bottom",
          "yref": "paper",
          "yshift": 20
         },
         {
          "font": {
           "size": 16
          },
          "showarrow": false,
          "text": "Hanwha Life Esports",
          "x": 0.292,
          "xanchor": "center",
          "xref": "paper",
          "y": 0.6850000000000002,
          "yanchor": "bottom",
          "yref": "paper",
          "yshift": 20
         },
         {
          "font": {
           "size": 16
          },
          "showarrow": false,
          "text": "Hanwha Life Esports",
          "x": 0.5,
          "xanchor": "center",
          "xref": "paper",
          "y": 0.6850000000000002,
          "yanchor": "bottom",
          "yref": "paper",
          "yshift": 20
         },
         {
          "font": {
           "size": 16
          },
          "showarrow": false,
          "text": "Hanwha Life Esports",
          "x": 0.708,
          "xanchor": "center",
          "xref": "paper",
          "y": 0.6850000000000002,
          "yanchor": "bottom",
          "yref": "paper",
          "yshift": 20
         },
         {
          "font": {
           "size": 16
          },
          "showarrow": false,
          "text": "Hanwha Life Esports",
          "x": 0.9159999999999999,
          "xanchor": "center",
          "xref": "paper",
          "y": 0.6850000000000002,
          "yanchor": "bottom",
          "yref": "paper",
          "yshift": 20
         },
         {
          "font": {
           "size": 16
          },
          "showarrow": false,
          "text": "KT Rolster",
          "x": 0.08399999999999999,
          "xanchor": "center",
          "xref": "paper",
          "y": 0.5800000000000001,
          "yanchor": "bottom",
          "yref": "paper",
          "yshift": 20
         },
         {
          "font": {
           "size": 16
          },
          "showarrow": false,
          "text": "KT Rolster",
          "x": 0.292,
          "xanchor": "center",
          "xref": "paper",
          "y": 0.5800000000000001,
          "yanchor": "bottom",
          "yref": "paper",
          "yshift": 20
         },
         {
          "font": {
           "size": 16
          },
          "showarrow": false,
          "text": "KT Rolster",
          "x": 0.5,
          "xanchor": "center",
          "xref": "paper",
          "y": 0.5800000000000001,
          "yanchor": "bottom",
          "yref": "paper",
          "yshift": 20
         },
         {
          "font": {
           "size": 16
          },
          "showarrow": false,
          "text": "KT Rolster",
          "x": 0.708,
          "xanchor": "center",
          "xref": "paper",
          "y": 0.5800000000000001,
          "yanchor": "bottom",
          "yref": "paper",
          "yshift": 20
         },
         {
          "font": {
           "size": 16
          },
          "showarrow": false,
          "text": "KT Rolster",
          "x": 0.9159999999999999,
          "xanchor": "center",
          "xref": "paper",
          "y": 0.5800000000000001,
          "yanchor": "bottom",
          "yref": "paper",
          "yshift": 20
         },
         {
          "font": {
           "size": 16
          },
          "showarrow": false,
          "text": "Kwangdong Freecs",
          "x": 0.08399999999999999,
          "xanchor": "center",
          "xref": "paper",
          "y": 0.47500000000000003,
          "yanchor": "bottom",
          "yref": "paper",
          "yshift": 20
         },
         {
          "font": {
           "size": 16
          },
          "showarrow": false,
          "text": "Kwangdong Freecs",
          "x": 0.292,
          "xanchor": "center",
          "xref": "paper",
          "y": 0.47500000000000003,
          "yanchor": "bottom",
          "yref": "paper",
          "yshift": 20
         },
         {
          "font": {
           "size": 16
          },
          "showarrow": false,
          "text": "Kwangdong Freecs",
          "x": 0.5,
          "xanchor": "center",
          "xref": "paper",
          "y": 0.47500000000000003,
          "yanchor": "bottom",
          "yref": "paper",
          "yshift": 20
         },
         {
          "font": {
           "size": 16
          },
          "showarrow": false,
          "text": "Kwangdong Freecs",
          "x": 0.708,
          "xanchor": "center",
          "xref": "paper",
          "y": 0.47500000000000003,
          "yanchor": "bottom",
          "yref": "paper",
          "yshift": 20
         },
         {
          "font": {
           "size": 16
          },
          "showarrow": false,
          "text": "Kwangdong Freecs",
          "x": 0.9159999999999999,
          "xanchor": "center",
          "xref": "paper",
          "y": 0.47500000000000003,
          "yanchor": "bottom",
          "yref": "paper",
          "yshift": 20
         },
         {
          "font": {
           "size": 16
          },
          "showarrow": false,
          "text": "Liiv SANDBOX",
          "x": 0.08399999999999999,
          "xanchor": "center",
          "xref": "paper",
          "y": 0.37000000000000005,
          "yanchor": "bottom",
          "yref": "paper",
          "yshift": 20
         },
         {
          "font": {
           "size": 16
          },
          "showarrow": false,
          "text": "Liiv SANDBOX",
          "x": 0.292,
          "xanchor": "center",
          "xref": "paper",
          "y": 0.37000000000000005,
          "yanchor": "bottom",
          "yref": "paper",
          "yshift": 20
         },
         {
          "font": {
           "size": 16
          },
          "showarrow": false,
          "text": "Liiv SANDBOX",
          "x": 0.5,
          "xanchor": "center",
          "xref": "paper",
          "y": 0.37000000000000005,
          "yanchor": "bottom",
          "yref": "paper",
          "yshift": 20
         },
         {
          "font": {
           "size": 16
          },
          "showarrow": false,
          "text": "Liiv SANDBOX",
          "x": 0.708,
          "xanchor": "center",
          "xref": "paper",
          "y": 0.37000000000000005,
          "yanchor": "bottom",
          "yref": "paper",
          "yshift": 20
         },
         {
          "font": {
           "size": 16
          },
          "showarrow": false,
          "text": "Liiv SANDBOX",
          "x": 0.9159999999999999,
          "xanchor": "center",
          "xref": "paper",
          "y": 0.37000000000000005,
          "yanchor": "bottom",
          "yref": "paper",
          "yshift": 20
         },
         {
          "font": {
           "size": 16
          },
          "showarrow": false,
          "text": "Nongshim RedForce",
          "x": 0.08399999999999999,
          "xanchor": "center",
          "xref": "paper",
          "y": 0.265,
          "yanchor": "bottom",
          "yref": "paper",
          "yshift": 20
         },
         {
          "font": {
           "size": 16
          },
          "showarrow": false,
          "text": "Nongshim RedForce",
          "x": 0.292,
          "xanchor": "center",
          "xref": "paper",
          "y": 0.265,
          "yanchor": "bottom",
          "yref": "paper",
          "yshift": 20
         },
         {
          "font": {
           "size": 16
          },
          "showarrow": false,
          "text": "Nongshim RedForce",
          "x": 0.5,
          "xanchor": "center",
          "xref": "paper",
          "y": 0.265,
          "yanchor": "bottom",
          "yref": "paper",
          "yshift": 20
         },
         {
          "font": {
           "size": 16
          },
          "showarrow": false,
          "text": "Nongshim RedForce",
          "x": 0.708,
          "xanchor": "center",
          "xref": "paper",
          "y": 0.265,
          "yanchor": "bottom",
          "yref": "paper",
          "yshift": 20
         },
         {
          "font": {
           "size": 16
          },
          "showarrow": false,
          "text": "Nongshim RedForce",
          "x": 0.9159999999999999,
          "xanchor": "center",
          "xref": "paper",
          "y": 0.265,
          "yanchor": "bottom",
          "yref": "paper",
          "yshift": 20
         },
         {
          "font": {
           "size": 16
          },
          "showarrow": false,
          "text": "OKSavingsBank BRION",
          "x": 0.08399999999999999,
          "xanchor": "center",
          "xref": "paper",
          "y": 0.16000000000000003,
          "yanchor": "bottom",
          "yref": "paper",
          "yshift": 20
         },
         {
          "font": {
           "size": 16
          },
          "showarrow": false,
          "text": "OKSavingsBank BRION",
          "x": 0.292,
          "xanchor": "center",
          "xref": "paper",
          "y": 0.16000000000000003,
          "yanchor": "bottom",
          "yref": "paper",
          "yshift": 20
         },
         {
          "font": {
           "size": 16
          },
          "showarrow": false,
          "text": "OKSavingsBank BRION",
          "x": 0.5,
          "xanchor": "center",
          "xref": "paper",
          "y": 0.16000000000000003,
          "yanchor": "bottom",
          "yref": "paper",
          "yshift": 20
         },
         {
          "font": {
           "size": 16
          },
          "showarrow": false,
          "text": "OKSavingsBank BRION",
          "x": 0.708,
          "xanchor": "center",
          "xref": "paper",
          "y": 0.16000000000000003,
          "yanchor": "bottom",
          "yref": "paper",
          "yshift": 20
         },
         {
          "font": {
           "size": 16
          },
          "showarrow": false,
          "text": "OKSavingsBank BRION",
          "x": 0.9159999999999999,
          "xanchor": "center",
          "xref": "paper",
          "y": 0.16000000000000003,
          "yanchor": "bottom",
          "yref": "paper",
          "yshift": 20
         },
         {
          "font": {
           "size": 16
          },
          "showarrow": false,
          "text": "T1",
          "x": 0.08399999999999999,
          "xanchor": "center",
          "xref": "paper",
          "y": 0.05500000000000001,
          "yanchor": "bottom",
          "yref": "paper",
          "yshift": 20
         },
         {
          "font": {
           "size": 16
          },
          "showarrow": false,
          "text": "T1",
          "x": 0.292,
          "xanchor": "center",
          "xref": "paper",
          "y": 0.05500000000000001,
          "yanchor": "bottom",
          "yref": "paper",
          "yshift": 20
         },
         {
          "font": {
           "size": 16
          },
          "showarrow": false,
          "text": "T1",
          "x": 0.5,
          "xanchor": "center",
          "xref": "paper",
          "y": 0.05500000000000001,
          "yanchor": "bottom",
          "yref": "paper",
          "yshift": 20
         },
         {
          "font": {
           "size": 16
          },
          "showarrow": false,
          "text": "T1",
          "x": 0.708,
          "xanchor": "center",
          "xref": "paper",
          "y": 0.05500000000000001,
          "yanchor": "bottom",
          "yref": "paper",
          "yshift": 20
         },
         {
          "font": {
           "size": 16
          },
          "showarrow": false,
          "text": "T1",
          "x": 0.9159999999999999,
          "xanchor": "center",
          "xref": "paper",
          "y": 0.05500000000000001,
          "yanchor": "bottom",
          "yref": "paper",
          "yshift": 20
         }
        ],
        "height": 4000,
        "polar": {
         "domain": {
          "x": [
           0,
           0.16799999999999998
          ],
          "y": [
           0.9450000000000001,
           1
          ]
         },
         "radialaxis": {
          "range": [
           -0.2,
           1.2
          ],
          "visible": false
         }
        },
        "polar10": {
         "domain": {
          "x": [
           0.832,
           1
          ],
          "y": [
           0.8400000000000001,
           0.8950000000000001
          ]
         },
         "radialaxis": {
          "range": [
           -0.2,
           1.2
          ],
          "visible": false
         }
        },
        "polar11": {
         "domain": {
          "x": [
           0,
           0.16799999999999998
          ],
          "y": [
           0.7350000000000001,
           0.7900000000000001
          ]
         },
         "radialaxis": {
          "range": [
           -0.2,
           1.2
          ],
          "visible": false
         }
        },
        "polar12": {
         "domain": {
          "x": [
           0.208,
           0.376
          ],
          "y": [
           0.7350000000000001,
           0.7900000000000001
          ]
         },
         "radialaxis": {
          "range": [
           -0.2,
           1.2
          ],
          "visible": false
         }
        },
        "polar13": {
         "domain": {
          "x": [
           0.416,
           0.584
          ],
          "y": [
           0.7350000000000001,
           0.7900000000000001
          ]
         },
         "radialaxis": {
          "range": [
           -0.2,
           1.2
          ],
          "visible": false
         }
        },
        "polar14": {
         "domain": {
          "x": [
           0.624,
           0.792
          ],
          "y": [
           0.7350000000000001,
           0.7900000000000001
          ]
         },
         "radialaxis": {
          "range": [
           -0.2,
           1.2
          ],
          "visible": false
         }
        },
        "polar15": {
         "domain": {
          "x": [
           0.832,
           1
          ],
          "y": [
           0.7350000000000001,
           0.7900000000000001
          ]
         },
         "radialaxis": {
          "range": [
           -0.2,
           1.2
          ],
          "visible": false
         }
        },
        "polar16": {
         "domain": {
          "x": [
           0,
           0.16799999999999998
          ],
          "y": [
           0.6300000000000001,
           0.6850000000000002
          ]
         },
         "radialaxis": {
          "range": [
           -0.2,
           1.2
          ],
          "visible": false
         }
        },
        "polar17": {
         "domain": {
          "x": [
           0.208,
           0.376
          ],
          "y": [
           0.6300000000000001,
           0.6850000000000002
          ]
         },
         "radialaxis": {
          "range": [
           -0.2,
           1.2
          ],
          "visible": false
         }
        },
        "polar18": {
         "domain": {
          "x": [
           0.416,
           0.584
          ],
          "y": [
           0.6300000000000001,
           0.6850000000000002
          ]
         },
         "radialaxis": {
          "range": [
           -0.2,
           1.2
          ],
          "visible": false
         }
        },
        "polar19": {
         "domain": {
          "x": [
           0.624,
           0.792
          ],
          "y": [
           0.6300000000000001,
           0.6850000000000002
          ]
         },
         "radialaxis": {
          "range": [
           -0.2,
           1.2
          ],
          "visible": false
         }
        },
        "polar2": {
         "domain": {
          "x": [
           0.208,
           0.376
          ],
          "y": [
           0.9450000000000001,
           1
          ]
         },
         "radialaxis": {
          "range": [
           -0.2,
           1.2
          ],
          "visible": false
         }
        },
        "polar20": {
         "domain": {
          "x": [
           0.832,
           1
          ],
          "y": [
           0.6300000000000001,
           0.6850000000000002
          ]
         },
         "radialaxis": {
          "range": [
           -0.2,
           1.2
          ],
          "visible": false
         }
        },
        "polar21": {
         "domain": {
          "x": [
           0,
           0.16799999999999998
          ],
          "y": [
           0.525,
           0.5800000000000001
          ]
         },
         "radialaxis": {
          "range": [
           -0.2,
           1.2
          ],
          "visible": false
         }
        },
        "polar22": {
         "domain": {
          "x": [
           0.208,
           0.376
          ],
          "y": [
           0.525,
           0.5800000000000001
          ]
         },
         "radialaxis": {
          "range": [
           -0.2,
           1.2
          ],
          "visible": false
         }
        },
        "polar23": {
         "domain": {
          "x": [
           0.416,
           0.584
          ],
          "y": [
           0.525,
           0.5800000000000001
          ]
         },
         "radialaxis": {
          "range": [
           -0.2,
           1.2
          ],
          "visible": false
         }
        },
        "polar24": {
         "domain": {
          "x": [
           0.624,
           0.792
          ],
          "y": [
           0.525,
           0.5800000000000001
          ]
         },
         "radialaxis": {
          "range": [
           -0.2,
           1.2
          ],
          "visible": false
         }
        },
        "polar25": {
         "domain": {
          "x": [
           0.832,
           1
          ],
          "y": [
           0.525,
           0.5800000000000001
          ]
         },
         "radialaxis": {
          "range": [
           -0.2,
           1.2
          ],
          "visible": false
         }
        },
        "polar26": {
         "domain": {
          "x": [
           0,
           0.16799999999999998
          ],
          "y": [
           0.42000000000000004,
           0.47500000000000003
          ]
         },
         "radialaxis": {
          "range": [
           -0.2,
           1.2
          ],
          "visible": false
         }
        },
        "polar27": {
         "domain": {
          "x": [
           0.208,
           0.376
          ],
          "y": [
           0.42000000000000004,
           0.47500000000000003
          ]
         },
         "radialaxis": {
          "range": [
           -0.2,
           1.2
          ],
          "visible": false
         }
        },
        "polar28": {
         "domain": {
          "x": [
           0.416,
           0.584
          ],
          "y": [
           0.42000000000000004,
           0.47500000000000003
          ]
         },
         "radialaxis": {
          "range": [
           -0.2,
           1.2
          ],
          "visible": false
         }
        },
        "polar29": {
         "domain": {
          "x": [
           0.624,
           0.792
          ],
          "y": [
           0.42000000000000004,
           0.47500000000000003
          ]
         },
         "radialaxis": {
          "range": [
           -0.2,
           1.2
          ],
          "visible": false
         }
        },
        "polar3": {
         "domain": {
          "x": [
           0.416,
           0.584
          ],
          "y": [
           0.9450000000000001,
           1
          ]
         },
         "radialaxis": {
          "range": [
           -0.2,
           1.2
          ],
          "visible": false
         }
        },
        "polar30": {
         "domain": {
          "x": [
           0.832,
           1
          ],
          "y": [
           0.42000000000000004,
           0.47500000000000003
          ]
         },
         "radialaxis": {
          "range": [
           -0.2,
           1.2
          ],
          "visible": false
         }
        },
        "polar31": {
         "domain": {
          "x": [
           0,
           0.16799999999999998
          ],
          "y": [
           0.31500000000000006,
           0.37000000000000005
          ]
         },
         "radialaxis": {
          "range": [
           -0.2,
           1.2
          ],
          "visible": false
         }
        },
        "polar32": {
         "domain": {
          "x": [
           0.208,
           0.376
          ],
          "y": [
           0.31500000000000006,
           0.37000000000000005
          ]
         },
         "radialaxis": {
          "range": [
           -0.2,
           1.2
          ],
          "visible": false
         }
        },
        "polar33": {
         "domain": {
          "x": [
           0.416,
           0.584
          ],
          "y": [
           0.31500000000000006,
           0.37000000000000005
          ]
         },
         "radialaxis": {
          "range": [
           -0.2,
           1.2
          ],
          "visible": false
         }
        },
        "polar34": {
         "domain": {
          "x": [
           0.624,
           0.792
          ],
          "y": [
           0.31500000000000006,
           0.37000000000000005
          ]
         },
         "radialaxis": {
          "range": [
           -0.2,
           1.2
          ],
          "visible": false
         }
        },
        "polar35": {
         "domain": {
          "x": [
           0.832,
           1
          ],
          "y": [
           0.31500000000000006,
           0.37000000000000005
          ]
         },
         "radialaxis": {
          "range": [
           -0.2,
           1.2
          ],
          "visible": false
         }
        },
        "polar36": {
         "domain": {
          "x": [
           0,
           0.16799999999999998
          ],
          "y": [
           0.21000000000000002,
           0.265
          ]
         },
         "radialaxis": {
          "range": [
           -0.2,
           1.2
          ],
          "visible": false
         }
        },
        "polar37": {
         "domain": {
          "x": [
           0.208,
           0.376
          ],
          "y": [
           0.21000000000000002,
           0.265
          ]
         },
         "radialaxis": {
          "range": [
           -0.2,
           1.2
          ],
          "visible": false
         }
        },
        "polar38": {
         "domain": {
          "x": [
           0.416,
           0.584
          ],
          "y": [
           0.21000000000000002,
           0.265
          ]
         },
         "radialaxis": {
          "range": [
           -0.2,
           1.2
          ],
          "visible": false
         }
        },
        "polar39": {
         "domain": {
          "x": [
           0.624,
           0.792
          ],
          "y": [
           0.21000000000000002,
           0.265
          ]
         },
         "radialaxis": {
          "range": [
           -0.2,
           1.2
          ],
          "visible": false
         }
        },
        "polar4": {
         "domain": {
          "x": [
           0.624,
           0.792
          ],
          "y": [
           0.9450000000000001,
           1
          ]
         },
         "radialaxis": {
          "range": [
           -0.2,
           1.2
          ],
          "visible": false
         }
        },
        "polar40": {
         "domain": {
          "x": [
           0.832,
           1
          ],
          "y": [
           0.21000000000000002,
           0.265
          ]
         },
         "radialaxis": {
          "range": [
           -0.2,
           1.2
          ],
          "visible": false
         }
        },
        "polar41": {
         "domain": {
          "x": [
           0,
           0.16799999999999998
          ],
          "y": [
           0.10500000000000001,
           0.16000000000000003
          ]
         },
         "radialaxis": {
          "range": [
           -0.2,
           1.2
          ],
          "visible": false
         }
        },
        "polar42": {
         "domain": {
          "x": [
           0.208,
           0.376
          ],
          "y": [
           0.10500000000000001,
           0.16000000000000003
          ]
         },
         "radialaxis": {
          "range": [
           -0.2,
           1.2
          ],
          "visible": false
         }
        },
        "polar43": {
         "domain": {
          "x": [
           0.416,
           0.584
          ],
          "y": [
           0.10500000000000001,
           0.16000000000000003
          ]
         },
         "radialaxis": {
          "range": [
           -0.2,
           1.2
          ],
          "visible": false
         }
        },
        "polar44": {
         "domain": {
          "x": [
           0.624,
           0.792
          ],
          "y": [
           0.10500000000000001,
           0.16000000000000003
          ]
         },
         "radialaxis": {
          "range": [
           -0.2,
           1.2
          ],
          "visible": false
         }
        },
        "polar45": {
         "domain": {
          "x": [
           0.832,
           1
          ],
          "y": [
           0.10500000000000001,
           0.16000000000000003
          ]
         },
         "radialaxis": {
          "range": [
           -0.2,
           1.2
          ],
          "visible": false
         }
        },
        "polar46": {
         "domain": {
          "x": [
           0,
           0.16799999999999998
          ],
          "y": [
           0,
           0.05500000000000001
          ]
         },
         "radialaxis": {
          "range": [
           -0.2,
           1.2
          ],
          "visible": false
         }
        },
        "polar47": {
         "domain": {
          "x": [
           0.208,
           0.376
          ],
          "y": [
           0,
           0.05500000000000001
          ]
         },
         "radialaxis": {
          "range": [
           -0.2,
           1.2
          ],
          "visible": false
         }
        },
        "polar48": {
         "domain": {
          "x": [
           0.416,
           0.584
          ],
          "y": [
           0,
           0.05500000000000001
          ]
         },
         "radialaxis": {
          "range": [
           -0.2,
           1.2
          ],
          "visible": false
         }
        },
        "polar49": {
         "domain": {
          "x": [
           0.624,
           0.792
          ],
          "y": [
           0,
           0.05500000000000001
          ]
         },
         "radialaxis": {
          "range": [
           -0.2,
           1.2
          ],
          "visible": false
         }
        },
        "polar5": {
         "domain": {
          "x": [
           0.832,
           1
          ],
          "y": [
           0.9450000000000001,
           1
          ]
         },
         "radialaxis": {
          "range": [
           -0.2,
           1.2
          ],
          "visible": false
         }
        },
        "polar50": {
         "domain": {
          "x": [
           0.832,
           1
          ],
          "y": [
           0,
           0.05500000000000001
          ]
         },
         "radialaxis": {
          "range": [
           -0.2,
           1.2
          ],
          "visible": false
         }
        },
        "polar6": {
         "domain": {
          "x": [
           0,
           0.16799999999999998
          ],
          "y": [
           0.8400000000000001,
           0.8950000000000001
          ]
         },
         "radialaxis": {
          "range": [
           -0.2,
           1.2
          ],
          "visible": false
         }
        },
        "polar7": {
         "domain": {
          "x": [
           0.208,
           0.376
          ],
          "y": [
           0.8400000000000001,
           0.8950000000000001
          ]
         },
         "radialaxis": {
          "range": [
           -0.2,
           1.2
          ],
          "visible": false
         }
        },
        "polar8": {
         "domain": {
          "x": [
           0.416,
           0.584
          ],
          "y": [
           0.8400000000000001,
           0.8950000000000001
          ]
         },
         "radialaxis": {
          "range": [
           -0.2,
           1.2
          ],
          "visible": false
         }
        },
        "polar9": {
         "domain": {
          "x": [
           0.624,
           0.792
          ],
          "y": [
           0.8400000000000001,
           0.8950000000000001
          ]
         },
         "radialaxis": {
          "range": [
           -0.2,
           1.2
          ],
          "visible": false
         }
        },
        "showlegend": false,
        "template": {
         "data": {
          "bar": [
           {
            "error_x": {
             "color": "#2a3f5f"
            },
            "error_y": {
             "color": "#2a3f5f"
            },
            "marker": {
             "line": {
              "color": "#E5ECF6",
              "width": 0.5
             },
             "pattern": {
              "fillmode": "overlay",
              "size": 10,
              "solidity": 0.2
             }
            },
            "type": "bar"
           }
          ],
          "barpolar": [
           {
            "marker": {
             "line": {
              "color": "#E5ECF6",
              "width": 0.5
             },
             "pattern": {
              "fillmode": "overlay",
              "size": 10,
              "solidity": 0.2
             }
            },
            "type": "barpolar"
           }
          ],
          "carpet": [
           {
            "aaxis": {
             "endlinecolor": "#2a3f5f",
             "gridcolor": "white",
             "linecolor": "white",
             "minorgridcolor": "white",
             "startlinecolor": "#2a3f5f"
            },
            "baxis": {
             "endlinecolor": "#2a3f5f",
             "gridcolor": "white",
             "linecolor": "white",
             "minorgridcolor": "white",
             "startlinecolor": "#2a3f5f"
            },
            "type": "carpet"
           }
          ],
          "choropleth": [
           {
            "colorbar": {
             "outlinewidth": 0,
             "ticks": ""
            },
            "type": "choropleth"
           }
          ],
          "contour": [
           {
            "colorbar": {
             "outlinewidth": 0,
             "ticks": ""
            },
            "colorscale": [
             [
              0,
              "#0d0887"
             ],
             [
              0.1111111111111111,
              "#46039f"
             ],
             [
              0.2222222222222222,
              "#7201a8"
             ],
             [
              0.3333333333333333,
              "#9c179e"
             ],
             [
              0.4444444444444444,
              "#bd3786"
             ],
             [
              0.5555555555555556,
              "#d8576b"
             ],
             [
              0.6666666666666666,
              "#ed7953"
             ],
             [
              0.7777777777777778,
              "#fb9f3a"
             ],
             [
              0.8888888888888888,
              "#fdca26"
             ],
             [
              1,
              "#f0f921"
             ]
            ],
            "type": "contour"
           }
          ],
          "contourcarpet": [
           {
            "colorbar": {
             "outlinewidth": 0,
             "ticks": ""
            },
            "type": "contourcarpet"
           }
          ],
          "heatmap": [
           {
            "colorbar": {
             "outlinewidth": 0,
             "ticks": ""
            },
            "colorscale": [
             [
              0,
              "#0d0887"
             ],
             [
              0.1111111111111111,
              "#46039f"
             ],
             [
              0.2222222222222222,
              "#7201a8"
             ],
             [
              0.3333333333333333,
              "#9c179e"
             ],
             [
              0.4444444444444444,
              "#bd3786"
             ],
             [
              0.5555555555555556,
              "#d8576b"
             ],
             [
              0.6666666666666666,
              "#ed7953"
             ],
             [
              0.7777777777777778,
              "#fb9f3a"
             ],
             [
              0.8888888888888888,
              "#fdca26"
             ],
             [
              1,
              "#f0f921"
             ]
            ],
            "type": "heatmap"
           }
          ],
          "heatmapgl": [
           {
            "colorbar": {
             "outlinewidth": 0,
             "ticks": ""
            },
            "colorscale": [
             [
              0,
              "#0d0887"
             ],
             [
              0.1111111111111111,
              "#46039f"
             ],
             [
              0.2222222222222222,
              "#7201a8"
             ],
             [
              0.3333333333333333,
              "#9c179e"
             ],
             [
              0.4444444444444444,
              "#bd3786"
             ],
             [
              0.5555555555555556,
              "#d8576b"
             ],
             [
              0.6666666666666666,
              "#ed7953"
             ],
             [
              0.7777777777777778,
              "#fb9f3a"
             ],
             [
              0.8888888888888888,
              "#fdca26"
             ],
             [
              1,
              "#f0f921"
             ]
            ],
            "type": "heatmapgl"
           }
          ],
          "histogram": [
           {
            "marker": {
             "pattern": {
              "fillmode": "overlay",
              "size": 10,
              "solidity": 0.2
             }
            },
            "type": "histogram"
           }
          ],
          "histogram2d": [
           {
            "colorbar": {
             "outlinewidth": 0,
             "ticks": ""
            },
            "colorscale": [
             [
              0,
              "#0d0887"
             ],
             [
              0.1111111111111111,
              "#46039f"
             ],
             [
              0.2222222222222222,
              "#7201a8"
             ],
             [
              0.3333333333333333,
              "#9c179e"
             ],
             [
              0.4444444444444444,
              "#bd3786"
             ],
             [
              0.5555555555555556,
              "#d8576b"
             ],
             [
              0.6666666666666666,
              "#ed7953"
             ],
             [
              0.7777777777777778,
              "#fb9f3a"
             ],
             [
              0.8888888888888888,
              "#fdca26"
             ],
             [
              1,
              "#f0f921"
             ]
            ],
            "type": "histogram2d"
           }
          ],
          "histogram2dcontour": [
           {
            "colorbar": {
             "outlinewidth": 0,
             "ticks": ""
            },
            "colorscale": [
             [
              0,
              "#0d0887"
             ],
             [
              0.1111111111111111,
              "#46039f"
             ],
             [
              0.2222222222222222,
              "#7201a8"
             ],
             [
              0.3333333333333333,
              "#9c179e"
             ],
             [
              0.4444444444444444,
              "#bd3786"
             ],
             [
              0.5555555555555556,
              "#d8576b"
             ],
             [
              0.6666666666666666,
              "#ed7953"
             ],
             [
              0.7777777777777778,
              "#fb9f3a"
             ],
             [
              0.8888888888888888,
              "#fdca26"
             ],
             [
              1,
              "#f0f921"
             ]
            ],
            "type": "histogram2dcontour"
           }
          ],
          "mesh3d": [
           {
            "colorbar": {
             "outlinewidth": 0,
             "ticks": ""
            },
            "type": "mesh3d"
           }
          ],
          "parcoords": [
           {
            "line": {
             "colorbar": {
              "outlinewidth": 0,
              "ticks": ""
             }
            },
            "type": "parcoords"
           }
          ],
          "pie": [
           {
            "automargin": true,
            "type": "pie"
           }
          ],
          "scatter": [
           {
            "fillpattern": {
             "fillmode": "overlay",
             "size": 10,
             "solidity": 0.2
            },
            "type": "scatter"
           }
          ],
          "scatter3d": [
           {
            "line": {
             "colorbar": {
              "outlinewidth": 0,
              "ticks": ""
             }
            },
            "marker": {
             "colorbar": {
              "outlinewidth": 0,
              "ticks": ""
             }
            },
            "type": "scatter3d"
           }
          ],
          "scattercarpet": [
           {
            "marker": {
             "colorbar": {
              "outlinewidth": 0,
              "ticks": ""
             }
            },
            "type": "scattercarpet"
           }
          ],
          "scattergeo": [
           {
            "marker": {
             "colorbar": {
              "outlinewidth": 0,
              "ticks": ""
             }
            },
            "type": "scattergeo"
           }
          ],
          "scattergl": [
           {
            "marker": {
             "colorbar": {
              "outlinewidth": 0,
              "ticks": ""
             }
            },
            "type": "scattergl"
           }
          ],
          "scattermapbox": [
           {
            "marker": {
             "colorbar": {
              "outlinewidth": 0,
              "ticks": ""
             }
            },
            "type": "scattermapbox"
           }
          ],
          "scatterpolar": [
           {
            "marker": {
             "colorbar": {
              "outlinewidth": 0,
              "ticks": ""
             }
            },
            "type": "scatterpolar"
           }
          ],
          "scatterpolargl": [
           {
            "marker": {
             "colorbar": {
              "outlinewidth": 0,
              "ticks": ""
             }
            },
            "type": "scatterpolargl"
           }
          ],
          "scatterternary": [
           {
            "marker": {
             "colorbar": {
              "outlinewidth": 0,
              "ticks": ""
             }
            },
            "type": "scatterternary"
           }
          ],
          "surface": [
           {
            "colorbar": {
             "outlinewidth": 0,
             "ticks": ""
            },
            "colorscale": [
             [
              0,
              "#0d0887"
             ],
             [
              0.1111111111111111,
              "#46039f"
             ],
             [
              0.2222222222222222,
              "#7201a8"
             ],
             [
              0.3333333333333333,
              "#9c179e"
             ],
             [
              0.4444444444444444,
              "#bd3786"
             ],
             [
              0.5555555555555556,
              "#d8576b"
             ],
             [
              0.6666666666666666,
              "#ed7953"
             ],
             [
              0.7777777777777778,
              "#fb9f3a"
             ],
             [
              0.8888888888888888,
              "#fdca26"
             ],
             [
              1,
              "#f0f921"
             ]
            ],
            "type": "surface"
           }
          ],
          "table": [
           {
            "cells": {
             "fill": {
              "color": "#EBF0F8"
             },
             "line": {
              "color": "white"
             }
            },
            "header": {
             "fill": {
              "color": "#C8D4E3"
             },
             "line": {
              "color": "white"
             }
            },
            "type": "table"
           }
          ]
         },
         "layout": {
          "annotationdefaults": {
           "arrowcolor": "#2a3f5f",
           "arrowhead": 0,
           "arrowwidth": 1
          },
          "autotypenumbers": "strict",
          "coloraxis": {
           "colorbar": {
            "outlinewidth": 0,
            "ticks": ""
           }
          },
          "colorscale": {
           "diverging": [
            [
             0,
             "#8e0152"
            ],
            [
             0.1,
             "#c51b7d"
            ],
            [
             0.2,
             "#de77ae"
            ],
            [
             0.3,
             "#f1b6da"
            ],
            [
             0.4,
             "#fde0ef"
            ],
            [
             0.5,
             "#f7f7f7"
            ],
            [
             0.6,
             "#e6f5d0"
            ],
            [
             0.7,
             "#b8e186"
            ],
            [
             0.8,
             "#7fbc41"
            ],
            [
             0.9,
             "#4d9221"
            ],
            [
             1,
             "#276419"
            ]
           ],
           "sequential": [
            [
             0,
             "#0d0887"
            ],
            [
             0.1111111111111111,
             "#46039f"
            ],
            [
             0.2222222222222222,
             "#7201a8"
            ],
            [
             0.3333333333333333,
             "#9c179e"
            ],
            [
             0.4444444444444444,
             "#bd3786"
            ],
            [
             0.5555555555555556,
             "#d8576b"
            ],
            [
             0.6666666666666666,
             "#ed7953"
            ],
            [
             0.7777777777777778,
             "#fb9f3a"
            ],
            [
             0.8888888888888888,
             "#fdca26"
            ],
            [
             1,
             "#f0f921"
            ]
           ],
           "sequentialminus": [
            [
             0,
             "#0d0887"
            ],
            [
             0.1111111111111111,
             "#46039f"
            ],
            [
             0.2222222222222222,
             "#7201a8"
            ],
            [
             0.3333333333333333,
             "#9c179e"
            ],
            [
             0.4444444444444444,
             "#bd3786"
            ],
            [
             0.5555555555555556,
             "#d8576b"
            ],
            [
             0.6666666666666666,
             "#ed7953"
            ],
            [
             0.7777777777777778,
             "#fb9f3a"
            ],
            [
             0.8888888888888888,
             "#fdca26"
            ],
            [
             1,
             "#f0f921"
            ]
           ]
          },
          "colorway": [
           "#636efa",
           "#EF553B",
           "#00cc96",
           "#ab63fa",
           "#FFA15A",
           "#19d3f3",
           "#FF6692",
           "#B6E880",
           "#FF97FF",
           "#FECB52"
          ],
          "font": {
           "color": "#2a3f5f"
          },
          "geo": {
           "bgcolor": "white",
           "lakecolor": "white",
           "landcolor": "#E5ECF6",
           "showlakes": true,
           "showland": true,
           "subunitcolor": "white"
          },
          "hoverlabel": {
           "align": "left"
          },
          "hovermode": "closest",
          "mapbox": {
           "style": "light"
          },
          "paper_bgcolor": "white",
          "plot_bgcolor": "#E5ECF6",
          "polar": {
           "angularaxis": {
            "gridcolor": "white",
            "linecolor": "white",
            "ticks": ""
           },
           "bgcolor": "#E5ECF6",
           "radialaxis": {
            "gridcolor": "white",
            "linecolor": "white",
            "ticks": ""
           }
          },
          "scene": {
           "xaxis": {
            "backgroundcolor": "#E5ECF6",
            "gridcolor": "white",
            "gridwidth": 2,
            "linecolor": "white",
            "showbackground": true,
            "ticks": "",
            "zerolinecolor": "white"
           },
           "yaxis": {
            "backgroundcolor": "#E5ECF6",
            "gridcolor": "white",
            "gridwidth": 2,
            "linecolor": "white",
            "showbackground": true,
            "ticks": "",
            "zerolinecolor": "white"
           },
           "zaxis": {
            "backgroundcolor": "#E5ECF6",
            "gridcolor": "white",
            "gridwidth": 2,
            "linecolor": "white",
            "showbackground": true,
            "ticks": "",
            "zerolinecolor": "white"
           }
          },
          "shapedefaults": {
           "line": {
            "color": "#2a3f5f"
           }
          },
          "ternary": {
           "aaxis": {
            "gridcolor": "white",
            "linecolor": "white",
            "ticks": ""
           },
           "baxis": {
            "gridcolor": "white",
            "linecolor": "white",
            "ticks": ""
           },
           "bgcolor": "#E5ECF6",
           "caxis": {
            "gridcolor": "white",
            "linecolor": "white",
            "ticks": ""
           }
          },
          "title": {
           "x": 0.05
          },
          "xaxis": {
           "automargin": true,
           "gridcolor": "white",
           "linecolor": "white",
           "ticks": "",
           "title": {
            "standoff": 15
           },
           "zerolinecolor": "white",
           "zerolinewidth": 2
          },
          "yaxis": {
           "automargin": true,
           "gridcolor": "white",
           "linecolor": "white",
           "ticks": "",
           "title": {
            "standoff": 15
           },
           "zerolinecolor": "white",
           "zerolinewidth": 2
          }
         }
        },
        "title": {
         "y": 1
        },
        "width": 2750
       }
      }
     },
     "metadata": {},
     "output_type": "display_data"
    }
   ],
   "source": [
    "ROWS, COLUMNS = get_rows_columns(teams_stats, len(origin_columns))\n",
    "min_value, max_value = 0, 1\n",
    "\n",
    "fig = get_fig_subplots(teams_stats.index.values, ROWS, COLUMNS)\n",
    "for i, team_name in enumerate(teams_stats.index):\n",
    "    for j, (key, cols) in enumerate(columns.items()):\n",
    "        df = teams_stats.loc[team_name, cols]\n",
    "        theta_list = get_theta_list(teams_stats, team_name, origin_columns[key])\n",
    "\n",
    "        fig.add_trace(\n",
    "            go.Scatterpolar(r=df, theta=theta_list, fill=\"toself\", name=team_name),\n",
    "            row=i + 1,\n",
    "            col=j + 1,\n",
    "        )\n",
    "\n",
    "fig.update_layout(\n",
    "    height=400 * ROWS,\n",
    "    width=550 * COLUMNS,\n",
    "    showlegend=False,\n",
    "    title=dict(y=1),\n",
    ")\n",
    "fig.update_annotations(yshift=20)\n",
    "fig.update_polars(\n",
    "    radialaxis=dict(range=[min_value - 0.2, max_value + 0.2], visible=False)\n",
    ")\n",
    "fig.show()"
   ]
  },
  {
   "cell_type": "code",
   "execution_count": 18,
   "metadata": {},
   "outputs": [
    {
     "data": {
      "text/html": [
       "<div>\n",
       "<style scoped>\n",
       "    .dataframe tbody tr th:only-of-type {\n",
       "        vertical-align: middle;\n",
       "    }\n",
       "\n",
       "    .dataframe tbody tr th {\n",
       "        vertical-align: top;\n",
       "    }\n",
       "\n",
       "    .dataframe thead th {\n",
       "        text-align: right;\n",
       "    }\n",
       "</style>\n",
       "<table border=\"1\" class=\"dataframe\">\n",
       "  <thead>\n",
       "    <tr style=\"text-align: right;\">\n",
       "      <th></th>\n",
       "      <th>index</th>\n",
       "      <th>gameid</th>\n",
       "      <th>datacompleteness</th>\n",
       "      <th>url</th>\n",
       "      <th>league</th>\n",
       "      <th>year</th>\n",
       "      <th>split</th>\n",
       "      <th>playoffs</th>\n",
       "      <th>date</th>\n",
       "      <th>game</th>\n",
       "      <th>patch</th>\n",
       "      <th>participantid</th>\n",
       "      <th>side</th>\n",
       "      <th>position</th>\n",
       "      <th>playername</th>\n",
       "      <th>playerid</th>\n",
       "      <th>teamname</th>\n",
       "      <th>teamid</th>\n",
       "      <th>champion</th>\n",
       "      <th>ban1</th>\n",
       "      <th>ban2</th>\n",
       "      <th>ban3</th>\n",
       "      <th>ban4</th>\n",
       "      <th>ban5</th>\n",
       "      <th>gamelength</th>\n",
       "      <th>result</th>\n",
       "      <th>kills</th>\n",
       "      <th>deaths</th>\n",
       "      <th>assists</th>\n",
       "      <th>teamkills</th>\n",
       "      <th>teamdeaths</th>\n",
       "      <th>doublekills</th>\n",
       "      <th>triplekills</th>\n",
       "      <th>quadrakills</th>\n",
       "      <th>pentakills</th>\n",
       "      <th>firstblood</th>\n",
       "      <th>firstbloodkill</th>\n",
       "      <th>firstbloodassist</th>\n",
       "      <th>firstbloodvictim</th>\n",
       "      <th>team kpm</th>\n",
       "      <th>ckpm</th>\n",
       "      <th>firstdragon</th>\n",
       "      <th>dragons</th>\n",
       "      <th>opp_dragons</th>\n",
       "      <th>elementaldrakes</th>\n",
       "      <th>opp_elementaldrakes</th>\n",
       "      <th>infernals</th>\n",
       "      <th>mountains</th>\n",
       "      <th>clouds</th>\n",
       "      <th>oceans</th>\n",
       "      <th>chemtechs</th>\n",
       "      <th>hextechs</th>\n",
       "      <th>dragons (type unknown)</th>\n",
       "      <th>elders</th>\n",
       "      <th>opp_elders</th>\n",
       "      <th>firstherald</th>\n",
       "      <th>heralds</th>\n",
       "      <th>opp_heralds</th>\n",
       "      <th>firstbaron</th>\n",
       "      <th>barons</th>\n",
       "      <th>opp_barons</th>\n",
       "      <th>firsttower</th>\n",
       "      <th>towers</th>\n",
       "      <th>opp_towers</th>\n",
       "      <th>firstmidtower</th>\n",
       "      <th>firsttothreetowers</th>\n",
       "      <th>turretplates</th>\n",
       "      <th>opp_turretplates</th>\n",
       "      <th>inhibitors</th>\n",
       "      <th>opp_inhibitors</th>\n",
       "      <th>damagetochampions</th>\n",
       "      <th>dpm</th>\n",
       "      <th>damageshare</th>\n",
       "      <th>damagetakenperminute</th>\n",
       "      <th>damagemitigatedperminute</th>\n",
       "      <th>wardsplaced</th>\n",
       "      <th>wpm</th>\n",
       "      <th>wardskilled</th>\n",
       "      <th>wcpm</th>\n",
       "      <th>controlwardsbought</th>\n",
       "      <th>visionscore</th>\n",
       "      <th>vspm</th>\n",
       "      <th>totalgold</th>\n",
       "      <th>earnedgold</th>\n",
       "      <th>earned gpm</th>\n",
       "      <th>earnedgoldshare</th>\n",
       "      <th>goldspent</th>\n",
       "      <th>gspd</th>\n",
       "      <th>total cs</th>\n",
       "      <th>minionkills</th>\n",
       "      <th>monsterkills</th>\n",
       "      <th>monsterkillsownjungle</th>\n",
       "      <th>monsterkillsenemyjungle</th>\n",
       "      <th>cspm</th>\n",
       "      <th>goldat10</th>\n",
       "      <th>xpat10</th>\n",
       "      <th>csat10</th>\n",
       "      <th>opp_goldat10</th>\n",
       "      <th>opp_xpat10</th>\n",
       "      <th>opp_csat10</th>\n",
       "      <th>golddiffat10</th>\n",
       "      <th>xpdiffat10</th>\n",
       "      <th>csdiffat10</th>\n",
       "      <th>killsat10</th>\n",
       "      <th>assistsat10</th>\n",
       "      <th>deathsat10</th>\n",
       "      <th>opp_killsat10</th>\n",
       "      <th>opp_assistsat10</th>\n",
       "      <th>opp_deathsat10</th>\n",
       "      <th>goldat15</th>\n",
       "      <th>xpat15</th>\n",
       "      <th>csat15</th>\n",
       "      <th>opp_goldat15</th>\n",
       "      <th>opp_xpat15</th>\n",
       "      <th>opp_csat15</th>\n",
       "      <th>golddiffat15</th>\n",
       "      <th>xpdiffat15</th>\n",
       "      <th>csdiffat15</th>\n",
       "      <th>killsat15</th>\n",
       "      <th>assistsat15</th>\n",
       "      <th>deathsat15</th>\n",
       "      <th>opp_killsat15</th>\n",
       "      <th>opp_assistsat15</th>\n",
       "      <th>opp_deathsat15</th>\n",
       "      <th>kda</th>\n",
       "      <th>kd</th>\n",
       "      <th>gpm</th>\n",
       "      <th>gdpm</th>\n",
       "      <th>goldshare</th>\n",
       "    </tr>\n",
       "  </thead>\n",
       "  <tbody>\n",
       "    <tr>\n",
       "      <th>67572</th>\n",
       "      <td>67572</td>\n",
       "      <td>ESPORTSTMNT03_3167508</td>\n",
       "      <td>complete</td>\n",
       "      <td>NaN</td>\n",
       "      <td>LCK</td>\n",
       "      <td>2023</td>\n",
       "      <td>Summer</td>\n",
       "      <td>0</td>\n",
       "      <td>2023-06-07 08:11:03</td>\n",
       "      <td>1</td>\n",
       "      <td>13.10</td>\n",
       "      <td>1</td>\n",
       "      <td>Blue</td>\n",
       "      <td>top</td>\n",
       "      <td>Kiin</td>\n",
       "      <td>oe:player:03daae1844b9ad257324c3eedf41e28</td>\n",
       "      <td>KT Rolster</td>\n",
       "      <td>oe:team:d723992568441c6bafa2658129eade7</td>\n",
       "      <td>Malphite</td>\n",
       "      <td>Vi</td>\n",
       "      <td>Maokai</td>\n",
       "      <td>Lucian</td>\n",
       "      <td>Lulu</td>\n",
       "      <td>Ornn</td>\n",
       "      <td>1894</td>\n",
       "      <td>1</td>\n",
       "      <td>2</td>\n",
       "      <td>1</td>\n",
       "      <td>9</td>\n",
       "      <td>12</td>\n",
       "      <td>6</td>\n",
       "      <td>0.0</td>\n",
       "      <td>0.0</td>\n",
       "      <td>0.0</td>\n",
       "      <td>0.0</td>\n",
       "      <td>0.0</td>\n",
       "      <td>0.0</td>\n",
       "      <td>0.0</td>\n",
       "      <td>0.0</td>\n",
       "      <td>0.3801</td>\n",
       "      <td>0.5702</td>\n",
       "      <td>NaN</td>\n",
       "      <td>NaN</td>\n",
       "      <td>NaN</td>\n",
       "      <td>NaN</td>\n",
       "      <td>NaN</td>\n",
       "      <td>NaN</td>\n",
       "      <td>NaN</td>\n",
       "      <td>NaN</td>\n",
       "      <td>NaN</td>\n",
       "      <td>NaN</td>\n",
       "      <td>NaN</td>\n",
       "      <td>NaN</td>\n",
       "      <td>NaN</td>\n",
       "      <td>NaN</td>\n",
       "      <td>NaN</td>\n",
       "      <td>NaN</td>\n",
       "      <td>NaN</td>\n",
       "      <td>NaN</td>\n",
       "      <td>0.0</td>\n",
       "      <td>0.0</td>\n",
       "      <td>NaN</td>\n",
       "      <td>NaN</td>\n",
       "      <td>NaN</td>\n",
       "      <td>NaN</td>\n",
       "      <td>NaN</td>\n",
       "      <td>NaN</td>\n",
       "      <td>NaN</td>\n",
       "      <td>0.0</td>\n",
       "      <td>0.0</td>\n",
       "      <td>17628</td>\n",
       "      <td>558.4372</td>\n",
       "      <td>0.277716</td>\n",
       "      <td>661.4572</td>\n",
       "      <td>1947.4974</td>\n",
       "      <td>11</td>\n",
       "      <td>0.3485</td>\n",
       "      <td>10</td>\n",
       "      <td>0.3168</td>\n",
       "      <td>6</td>\n",
       "      <td>37</td>\n",
       "      <td>1.1721</td>\n",
       "      <td>12665</td>\n",
       "      <td>8526</td>\n",
       "      <td>270.0950</td>\n",
       "      <td>0.221542</td>\n",
       "      <td>11800</td>\n",
       "      <td>NaN</td>\n",
       "      <td>285.0</td>\n",
       "      <td>281.0</td>\n",
       "      <td>4</td>\n",
       "      <td>NaN</td>\n",
       "      <td>NaN</td>\n",
       "      <td>9.0285</td>\n",
       "      <td>3373.0</td>\n",
       "      <td>5212.0</td>\n",
       "      <td>95.0</td>\n",
       "      <td>3676.0</td>\n",
       "      <td>5212.0</td>\n",
       "      <td>98.0</td>\n",
       "      <td>-303.0</td>\n",
       "      <td>0.0</td>\n",
       "      <td>-3.0</td>\n",
       "      <td>0.0</td>\n",
       "      <td>0.0</td>\n",
       "      <td>0.0</td>\n",
       "      <td>0.0</td>\n",
       "      <td>0.0</td>\n",
       "      <td>0.0</td>\n",
       "      <td>5153.0</td>\n",
       "      <td>8046.0</td>\n",
       "      <td>146.0</td>\n",
       "      <td>5274.0</td>\n",
       "      <td>7985.0</td>\n",
       "      <td>147.0</td>\n",
       "      <td>-121.0</td>\n",
       "      <td>61.0</td>\n",
       "      <td>-1.0</td>\n",
       "      <td>0.0</td>\n",
       "      <td>0.0</td>\n",
       "      <td>0.0</td>\n",
       "      <td>0.0</td>\n",
       "      <td>0.0</td>\n",
       "      <td>0.0</td>\n",
       "      <td>11.0</td>\n",
       "      <td>2.0</td>\n",
       "      <td>401.214361</td>\n",
       "      <td>53.315734</td>\n",
       "      <td>0.214008</td>\n",
       "    </tr>\n",
       "    <tr>\n",
       "      <th>67573</th>\n",
       "      <td>67573</td>\n",
       "      <td>ESPORTSTMNT03_3167508</td>\n",
       "      <td>complete</td>\n",
       "      <td>NaN</td>\n",
       "      <td>LCK</td>\n",
       "      <td>2023</td>\n",
       "      <td>Summer</td>\n",
       "      <td>0</td>\n",
       "      <td>2023-06-07 08:11:03</td>\n",
       "      <td>1</td>\n",
       "      <td>13.10</td>\n",
       "      <td>2</td>\n",
       "      <td>Blue</td>\n",
       "      <td>jng</td>\n",
       "      <td>Cuzz</td>\n",
       "      <td>oe:player:f9fe6d28d5b67bf9ac673b2cc8edf15</td>\n",
       "      <td>KT Rolster</td>\n",
       "      <td>oe:team:d723992568441c6bafa2658129eade7</td>\n",
       "      <td>Viego</td>\n",
       "      <td>Vi</td>\n",
       "      <td>Maokai</td>\n",
       "      <td>Lucian</td>\n",
       "      <td>Lulu</td>\n",
       "      <td>Ornn</td>\n",
       "      <td>1894</td>\n",
       "      <td>1</td>\n",
       "      <td>5</td>\n",
       "      <td>1</td>\n",
       "      <td>5</td>\n",
       "      <td>12</td>\n",
       "      <td>6</td>\n",
       "      <td>2.0</td>\n",
       "      <td>1.0</td>\n",
       "      <td>0.0</td>\n",
       "      <td>0.0</td>\n",
       "      <td>0.0</td>\n",
       "      <td>0.0</td>\n",
       "      <td>0.0</td>\n",
       "      <td>1.0</td>\n",
       "      <td>0.3801</td>\n",
       "      <td>0.5702</td>\n",
       "      <td>NaN</td>\n",
       "      <td>NaN</td>\n",
       "      <td>NaN</td>\n",
       "      <td>NaN</td>\n",
       "      <td>NaN</td>\n",
       "      <td>NaN</td>\n",
       "      <td>NaN</td>\n",
       "      <td>NaN</td>\n",
       "      <td>NaN</td>\n",
       "      <td>NaN</td>\n",
       "      <td>NaN</td>\n",
       "      <td>NaN</td>\n",
       "      <td>NaN</td>\n",
       "      <td>NaN</td>\n",
       "      <td>NaN</td>\n",
       "      <td>NaN</td>\n",
       "      <td>NaN</td>\n",
       "      <td>NaN</td>\n",
       "      <td>1.0</td>\n",
       "      <td>0.0</td>\n",
       "      <td>NaN</td>\n",
       "      <td>NaN</td>\n",
       "      <td>NaN</td>\n",
       "      <td>NaN</td>\n",
       "      <td>NaN</td>\n",
       "      <td>NaN</td>\n",
       "      <td>NaN</td>\n",
       "      <td>0.0</td>\n",
       "      <td>0.0</td>\n",
       "      <td>13080</td>\n",
       "      <td>414.3611</td>\n",
       "      <td>0.206065</td>\n",
       "      <td>806.1035</td>\n",
       "      <td>970.7075</td>\n",
       "      <td>14</td>\n",
       "      <td>0.4435</td>\n",
       "      <td>20</td>\n",
       "      <td>0.6336</td>\n",
       "      <td>22</td>\n",
       "      <td>63</td>\n",
       "      <td>1.9958</td>\n",
       "      <td>12416</td>\n",
       "      <td>8277</td>\n",
       "      <td>262.2070</td>\n",
       "      <td>0.215072</td>\n",
       "      <td>11225</td>\n",
       "      <td>NaN</td>\n",
       "      <td>214.0</td>\n",
       "      <td>23.0</td>\n",
       "      <td>191</td>\n",
       "      <td>NaN</td>\n",
       "      <td>NaN</td>\n",
       "      <td>6.7793</td>\n",
       "      <td>3334.0</td>\n",
       "      <td>3779.0</td>\n",
       "      <td>78.0</td>\n",
       "      <td>3256.0</td>\n",
       "      <td>3652.0</td>\n",
       "      <td>71.0</td>\n",
       "      <td>78.0</td>\n",
       "      <td>127.0</td>\n",
       "      <td>7.0</td>\n",
       "      <td>0.0</td>\n",
       "      <td>0.0</td>\n",
       "      <td>1.0</td>\n",
       "      <td>0.0</td>\n",
       "      <td>0.0</td>\n",
       "      <td>0.0</td>\n",
       "      <td>4884.0</td>\n",
       "      <td>5891.0</td>\n",
       "      <td>117.0</td>\n",
       "      <td>5011.0</td>\n",
       "      <td>5448.0</td>\n",
       "      <td>106.0</td>\n",
       "      <td>-127.0</td>\n",
       "      <td>443.0</td>\n",
       "      <td>11.0</td>\n",
       "      <td>0.0</td>\n",
       "      <td>0.0</td>\n",
       "      <td>1.0</td>\n",
       "      <td>0.0</td>\n",
       "      <td>0.0</td>\n",
       "      <td>0.0</td>\n",
       "      <td>10.0</td>\n",
       "      <td>5.0</td>\n",
       "      <td>393.326294</td>\n",
       "      <td>61.805702</td>\n",
       "      <td>0.209801</td>\n",
       "    </tr>\n",
       "    <tr>\n",
       "      <th>67574</th>\n",
       "      <td>67574</td>\n",
       "      <td>ESPORTSTMNT03_3167508</td>\n",
       "      <td>complete</td>\n",
       "      <td>NaN</td>\n",
       "      <td>LCK</td>\n",
       "      <td>2023</td>\n",
       "      <td>Summer</td>\n",
       "      <td>0</td>\n",
       "      <td>2023-06-07 08:11:03</td>\n",
       "      <td>1</td>\n",
       "      <td>13.10</td>\n",
       "      <td>3</td>\n",
       "      <td>Blue</td>\n",
       "      <td>mid</td>\n",
       "      <td>Bdd</td>\n",
       "      <td>oe:player:30361653a485a9609fb2d3aa073282c</td>\n",
       "      <td>KT Rolster</td>\n",
       "      <td>oe:team:d723992568441c6bafa2658129eade7</td>\n",
       "      <td>Annie</td>\n",
       "      <td>Vi</td>\n",
       "      <td>Maokai</td>\n",
       "      <td>Lucian</td>\n",
       "      <td>Lulu</td>\n",
       "      <td>Ornn</td>\n",
       "      <td>1894</td>\n",
       "      <td>1</td>\n",
       "      <td>2</td>\n",
       "      <td>2</td>\n",
       "      <td>10</td>\n",
       "      <td>12</td>\n",
       "      <td>6</td>\n",
       "      <td>0.0</td>\n",
       "      <td>0.0</td>\n",
       "      <td>0.0</td>\n",
       "      <td>0.0</td>\n",
       "      <td>0.0</td>\n",
       "      <td>0.0</td>\n",
       "      <td>0.0</td>\n",
       "      <td>0.0</td>\n",
       "      <td>0.3801</td>\n",
       "      <td>0.5702</td>\n",
       "      <td>NaN</td>\n",
       "      <td>NaN</td>\n",
       "      <td>NaN</td>\n",
       "      <td>NaN</td>\n",
       "      <td>NaN</td>\n",
       "      <td>NaN</td>\n",
       "      <td>NaN</td>\n",
       "      <td>NaN</td>\n",
       "      <td>NaN</td>\n",
       "      <td>NaN</td>\n",
       "      <td>NaN</td>\n",
       "      <td>NaN</td>\n",
       "      <td>NaN</td>\n",
       "      <td>NaN</td>\n",
       "      <td>NaN</td>\n",
       "      <td>NaN</td>\n",
       "      <td>NaN</td>\n",
       "      <td>NaN</td>\n",
       "      <td>0.0</td>\n",
       "      <td>0.0</td>\n",
       "      <td>NaN</td>\n",
       "      <td>NaN</td>\n",
       "      <td>NaN</td>\n",
       "      <td>NaN</td>\n",
       "      <td>NaN</td>\n",
       "      <td>NaN</td>\n",
       "      <td>NaN</td>\n",
       "      <td>1.0</td>\n",
       "      <td>0.0</td>\n",
       "      <td>15295</td>\n",
       "      <td>484.5301</td>\n",
       "      <td>0.240961</td>\n",
       "      <td>330.3168</td>\n",
       "      <td>291.0982</td>\n",
       "      <td>24</td>\n",
       "      <td>0.7603</td>\n",
       "      <td>7</td>\n",
       "      <td>0.2218</td>\n",
       "      <td>13</td>\n",
       "      <td>42</td>\n",
       "      <td>1.3305</td>\n",
       "      <td>13085</td>\n",
       "      <td>8946</td>\n",
       "      <td>283.4002</td>\n",
       "      <td>0.232456</td>\n",
       "      <td>12475</td>\n",
       "      <td>NaN</td>\n",
       "      <td>293.0</td>\n",
       "      <td>293.0</td>\n",
       "      <td>0</td>\n",
       "      <td>NaN</td>\n",
       "      <td>NaN</td>\n",
       "      <td>9.2819</td>\n",
       "      <td>3526.0</td>\n",
       "      <td>5066.0</td>\n",
       "      <td>99.0</td>\n",
       "      <td>3509.0</td>\n",
       "      <td>4208.0</td>\n",
       "      <td>80.0</td>\n",
       "      <td>17.0</td>\n",
       "      <td>858.0</td>\n",
       "      <td>19.0</td>\n",
       "      <td>0.0</td>\n",
       "      <td>0.0</td>\n",
       "      <td>0.0</td>\n",
       "      <td>1.0</td>\n",
       "      <td>0.0</td>\n",
       "      <td>0.0</td>\n",
       "      <td>5425.0</td>\n",
       "      <td>8471.0</td>\n",
       "      <td>163.0</td>\n",
       "      <td>5265.0</td>\n",
       "      <td>7040.0</td>\n",
       "      <td>134.0</td>\n",
       "      <td>160.0</td>\n",
       "      <td>1431.0</td>\n",
       "      <td>29.0</td>\n",
       "      <td>0.0</td>\n",
       "      <td>0.0</td>\n",
       "      <td>0.0</td>\n",
       "      <td>1.0</td>\n",
       "      <td>0.0</td>\n",
       "      <td>0.0</td>\n",
       "      <td>6.0</td>\n",
       "      <td>1.0</td>\n",
       "      <td>414.519535</td>\n",
       "      <td>47.771911</td>\n",
       "      <td>0.221105</td>\n",
       "    </tr>\n",
       "    <tr>\n",
       "      <th>67575</th>\n",
       "      <td>67575</td>\n",
       "      <td>ESPORTSTMNT03_3167508</td>\n",
       "      <td>complete</td>\n",
       "      <td>NaN</td>\n",
       "      <td>LCK</td>\n",
       "      <td>2023</td>\n",
       "      <td>Summer</td>\n",
       "      <td>0</td>\n",
       "      <td>2023-06-07 08:11:03</td>\n",
       "      <td>1</td>\n",
       "      <td>13.10</td>\n",
       "      <td>4</td>\n",
       "      <td>Blue</td>\n",
       "      <td>bot</td>\n",
       "      <td>Aiming</td>\n",
       "      <td>oe:player:85104684d1eb7f4c0ce393441a0b669</td>\n",
       "      <td>KT Rolster</td>\n",
       "      <td>oe:team:d723992568441c6bafa2658129eade7</td>\n",
       "      <td>Ezreal</td>\n",
       "      <td>Vi</td>\n",
       "      <td>Maokai</td>\n",
       "      <td>Lucian</td>\n",
       "      <td>Lulu</td>\n",
       "      <td>Ornn</td>\n",
       "      <td>1894</td>\n",
       "      <td>1</td>\n",
       "      <td>2</td>\n",
       "      <td>1</td>\n",
       "      <td>3</td>\n",
       "      <td>12</td>\n",
       "      <td>6</td>\n",
       "      <td>0.0</td>\n",
       "      <td>0.0</td>\n",
       "      <td>0.0</td>\n",
       "      <td>0.0</td>\n",
       "      <td>0.0</td>\n",
       "      <td>0.0</td>\n",
       "      <td>0.0</td>\n",
       "      <td>0.0</td>\n",
       "      <td>0.3801</td>\n",
       "      <td>0.5702</td>\n",
       "      <td>NaN</td>\n",
       "      <td>NaN</td>\n",
       "      <td>NaN</td>\n",
       "      <td>NaN</td>\n",
       "      <td>NaN</td>\n",
       "      <td>NaN</td>\n",
       "      <td>NaN</td>\n",
       "      <td>NaN</td>\n",
       "      <td>NaN</td>\n",
       "      <td>NaN</td>\n",
       "      <td>NaN</td>\n",
       "      <td>NaN</td>\n",
       "      <td>NaN</td>\n",
       "      <td>NaN</td>\n",
       "      <td>NaN</td>\n",
       "      <td>NaN</td>\n",
       "      <td>NaN</td>\n",
       "      <td>NaN</td>\n",
       "      <td>0.0</td>\n",
       "      <td>0.0</td>\n",
       "      <td>NaN</td>\n",
       "      <td>NaN</td>\n",
       "      <td>NaN</td>\n",
       "      <td>NaN</td>\n",
       "      <td>NaN</td>\n",
       "      <td>NaN</td>\n",
       "      <td>NaN</td>\n",
       "      <td>1.0</td>\n",
       "      <td>0.0</td>\n",
       "      <td>13502</td>\n",
       "      <td>427.7297</td>\n",
       "      <td>0.212714</td>\n",
       "      <td>372.9884</td>\n",
       "      <td>235.1531</td>\n",
       "      <td>14</td>\n",
       "      <td>0.4435</td>\n",
       "      <td>15</td>\n",
       "      <td>0.4752</td>\n",
       "      <td>4</td>\n",
       "      <td>39</td>\n",
       "      <td>1.2355</td>\n",
       "      <td>13456</td>\n",
       "      <td>9317</td>\n",
       "      <td>295.1531</td>\n",
       "      <td>0.242096</td>\n",
       "      <td>12483</td>\n",
       "      <td>NaN</td>\n",
       "      <td>310.0</td>\n",
       "      <td>298.0</td>\n",
       "      <td>12</td>\n",
       "      <td>NaN</td>\n",
       "      <td>NaN</td>\n",
       "      <td>9.8205</td>\n",
       "      <td>3403.0</td>\n",
       "      <td>3111.0</td>\n",
       "      <td>83.0</td>\n",
       "      <td>3935.0</td>\n",
       "      <td>3729.0</td>\n",
       "      <td>101.0</td>\n",
       "      <td>-532.0</td>\n",
       "      <td>-618.0</td>\n",
       "      <td>-18.0</td>\n",
       "      <td>0.0</td>\n",
       "      <td>0.0</td>\n",
       "      <td>0.0</td>\n",
       "      <td>0.0</td>\n",
       "      <td>0.0</td>\n",
       "      <td>0.0</td>\n",
       "      <td>5309.0</td>\n",
       "      <td>5166.0</td>\n",
       "      <td>142.0</td>\n",
       "      <td>5674.0</td>\n",
       "      <td>6162.0</td>\n",
       "      <td>155.0</td>\n",
       "      <td>-365.0</td>\n",
       "      <td>-996.0</td>\n",
       "      <td>-13.0</td>\n",
       "      <td>0.0</td>\n",
       "      <td>0.0</td>\n",
       "      <td>0.0</td>\n",
       "      <td>0.0</td>\n",
       "      <td>0.0</td>\n",
       "      <td>0.0</td>\n",
       "      <td>5.0</td>\n",
       "      <td>2.0</td>\n",
       "      <td>426.272439</td>\n",
       "      <td>14.128828</td>\n",
       "      <td>0.227374</td>\n",
       "    </tr>\n",
       "    <tr>\n",
       "      <th>67576</th>\n",
       "      <td>67576</td>\n",
       "      <td>ESPORTSTMNT03_3167508</td>\n",
       "      <td>complete</td>\n",
       "      <td>NaN</td>\n",
       "      <td>LCK</td>\n",
       "      <td>2023</td>\n",
       "      <td>Summer</td>\n",
       "      <td>0</td>\n",
       "      <td>2023-06-07 08:11:03</td>\n",
       "      <td>1</td>\n",
       "      <td>13.10</td>\n",
       "      <td>5</td>\n",
       "      <td>Blue</td>\n",
       "      <td>sup</td>\n",
       "      <td>Lehends</td>\n",
       "      <td>oe:player:e4e24b8656e4e6a74b939af730b0148</td>\n",
       "      <td>KT Rolster</td>\n",
       "      <td>oe:team:d723992568441c6bafa2658129eade7</td>\n",
       "      <td>Yuumi</td>\n",
       "      <td>Vi</td>\n",
       "      <td>Maokai</td>\n",
       "      <td>Lucian</td>\n",
       "      <td>Lulu</td>\n",
       "      <td>Ornn</td>\n",
       "      <td>1894</td>\n",
       "      <td>1</td>\n",
       "      <td>1</td>\n",
       "      <td>1</td>\n",
       "      <td>8</td>\n",
       "      <td>12</td>\n",
       "      <td>6</td>\n",
       "      <td>0.0</td>\n",
       "      <td>0.0</td>\n",
       "      <td>0.0</td>\n",
       "      <td>0.0</td>\n",
       "      <td>0.0</td>\n",
       "      <td>0.0</td>\n",
       "      <td>0.0</td>\n",
       "      <td>0.0</td>\n",
       "      <td>0.3801</td>\n",
       "      <td>0.5702</td>\n",
       "      <td>NaN</td>\n",
       "      <td>NaN</td>\n",
       "      <td>NaN</td>\n",
       "      <td>NaN</td>\n",
       "      <td>NaN</td>\n",
       "      <td>NaN</td>\n",
       "      <td>NaN</td>\n",
       "      <td>NaN</td>\n",
       "      <td>NaN</td>\n",
       "      <td>NaN</td>\n",
       "      <td>NaN</td>\n",
       "      <td>NaN</td>\n",
       "      <td>NaN</td>\n",
       "      <td>NaN</td>\n",
       "      <td>NaN</td>\n",
       "      <td>NaN</td>\n",
       "      <td>NaN</td>\n",
       "      <td>NaN</td>\n",
       "      <td>0.0</td>\n",
       "      <td>0.0</td>\n",
       "      <td>NaN</td>\n",
       "      <td>NaN</td>\n",
       "      <td>NaN</td>\n",
       "      <td>NaN</td>\n",
       "      <td>NaN</td>\n",
       "      <td>NaN</td>\n",
       "      <td>NaN</td>\n",
       "      <td>0.0</td>\n",
       "      <td>0.0</td>\n",
       "      <td>3970</td>\n",
       "      <td>125.7656</td>\n",
       "      <td>0.062544</td>\n",
       "      <td>113.4741</td>\n",
       "      <td>58.2577</td>\n",
       "      <td>38</td>\n",
       "      <td>1.2038</td>\n",
       "      <td>2</td>\n",
       "      <td>0.0634</td>\n",
       "      <td>10</td>\n",
       "      <td>66</td>\n",
       "      <td>2.0908</td>\n",
       "      <td>7558</td>\n",
       "      <td>3419</td>\n",
       "      <td>108.3105</td>\n",
       "      <td>0.088835</td>\n",
       "      <td>6650</td>\n",
       "      <td>NaN</td>\n",
       "      <td>11.0</td>\n",
       "      <td>11.0</td>\n",
       "      <td>0</td>\n",
       "      <td>NaN</td>\n",
       "      <td>NaN</td>\n",
       "      <td>0.3485</td>\n",
       "      <td>2109.0</td>\n",
       "      <td>2740.0</td>\n",
       "      <td>4.0</td>\n",
       "      <td>2272.0</td>\n",
       "      <td>2454.0</td>\n",
       "      <td>15.0</td>\n",
       "      <td>-163.0</td>\n",
       "      <td>286.0</td>\n",
       "      <td>-11.0</td>\n",
       "      <td>0.0</td>\n",
       "      <td>0.0</td>\n",
       "      <td>0.0</td>\n",
       "      <td>0.0</td>\n",
       "      <td>1.0</td>\n",
       "      <td>0.0</td>\n",
       "      <td>2936.0</td>\n",
       "      <td>4236.0</td>\n",
       "      <td>6.0</td>\n",
       "      <td>3152.0</td>\n",
       "      <td>3303.0</td>\n",
       "      <td>21.0</td>\n",
       "      <td>-216.0</td>\n",
       "      <td>933.0</td>\n",
       "      <td>-15.0</td>\n",
       "      <td>0.0</td>\n",
       "      <td>0.0</td>\n",
       "      <td>0.0</td>\n",
       "      <td>0.0</td>\n",
       "      <td>1.0</td>\n",
       "      <td>0.0</td>\n",
       "      <td>9.0</td>\n",
       "      <td>1.0</td>\n",
       "      <td>239.429778</td>\n",
       "      <td>35.100317</td>\n",
       "      <td>0.127712</td>\n",
       "    </tr>\n",
       "  </tbody>\n",
       "</table>\n",
       "</div>"
      ],
      "text/plain": [
       "       index                 gameid datacompleteness  url league  year   \n",
       "67572  67572  ESPORTSTMNT03_3167508         complete  NaN    LCK  2023  \\\n",
       "67573  67573  ESPORTSTMNT03_3167508         complete  NaN    LCK  2023   \n",
       "67574  67574  ESPORTSTMNT03_3167508         complete  NaN    LCK  2023   \n",
       "67575  67575  ESPORTSTMNT03_3167508         complete  NaN    LCK  2023   \n",
       "67576  67576  ESPORTSTMNT03_3167508         complete  NaN    LCK  2023   \n",
       "\n",
       "        split  playoffs                 date  game  patch  participantid   \n",
       "67572  Summer         0  2023-06-07 08:11:03     1  13.10              1  \\\n",
       "67573  Summer         0  2023-06-07 08:11:03     1  13.10              2   \n",
       "67574  Summer         0  2023-06-07 08:11:03     1  13.10              3   \n",
       "67575  Summer         0  2023-06-07 08:11:03     1  13.10              4   \n",
       "67576  Summer         0  2023-06-07 08:11:03     1  13.10              5   \n",
       "\n",
       "       side position playername                                   playerid   \n",
       "67572  Blue      top       Kiin  oe:player:03daae1844b9ad257324c3eedf41e28  \\\n",
       "67573  Blue      jng       Cuzz  oe:player:f9fe6d28d5b67bf9ac673b2cc8edf15   \n",
       "67574  Blue      mid        Bdd  oe:player:30361653a485a9609fb2d3aa073282c   \n",
       "67575  Blue      bot     Aiming  oe:player:85104684d1eb7f4c0ce393441a0b669   \n",
       "67576  Blue      sup    Lehends  oe:player:e4e24b8656e4e6a74b939af730b0148   \n",
       "\n",
       "         teamname                                   teamid  champion ban1   \n",
       "67572  KT Rolster  oe:team:d723992568441c6bafa2658129eade7  Malphite   Vi  \\\n",
       "67573  KT Rolster  oe:team:d723992568441c6bafa2658129eade7     Viego   Vi   \n",
       "67574  KT Rolster  oe:team:d723992568441c6bafa2658129eade7     Annie   Vi   \n",
       "67575  KT Rolster  oe:team:d723992568441c6bafa2658129eade7    Ezreal   Vi   \n",
       "67576  KT Rolster  oe:team:d723992568441c6bafa2658129eade7     Yuumi   Vi   \n",
       "\n",
       "         ban2    ban3  ban4  ban5  gamelength  result  kills  deaths  assists   \n",
       "67572  Maokai  Lucian  Lulu  Ornn        1894       1      2       1        9  \\\n",
       "67573  Maokai  Lucian  Lulu  Ornn        1894       1      5       1        5   \n",
       "67574  Maokai  Lucian  Lulu  Ornn        1894       1      2       2       10   \n",
       "67575  Maokai  Lucian  Lulu  Ornn        1894       1      2       1        3   \n",
       "67576  Maokai  Lucian  Lulu  Ornn        1894       1      1       1        8   \n",
       "\n",
       "       teamkills  teamdeaths  doublekills  triplekills  quadrakills   \n",
       "67572         12           6          0.0          0.0          0.0  \\\n",
       "67573         12           6          2.0          1.0          0.0   \n",
       "67574         12           6          0.0          0.0          0.0   \n",
       "67575         12           6          0.0          0.0          0.0   \n",
       "67576         12           6          0.0          0.0          0.0   \n",
       "\n",
       "       pentakills  firstblood  firstbloodkill  firstbloodassist   \n",
       "67572         0.0         0.0             0.0               0.0  \\\n",
       "67573         0.0         0.0             0.0               0.0   \n",
       "67574         0.0         0.0             0.0               0.0   \n",
       "67575         0.0         0.0             0.0               0.0   \n",
       "67576         0.0         0.0             0.0               0.0   \n",
       "\n",
       "       firstbloodvictim  team kpm    ckpm  firstdragon  dragons  opp_dragons   \n",
       "67572               0.0    0.3801  0.5702          NaN      NaN          NaN  \\\n",
       "67573               1.0    0.3801  0.5702          NaN      NaN          NaN   \n",
       "67574               0.0    0.3801  0.5702          NaN      NaN          NaN   \n",
       "67575               0.0    0.3801  0.5702          NaN      NaN          NaN   \n",
       "67576               0.0    0.3801  0.5702          NaN      NaN          NaN   \n",
       "\n",
       "       elementaldrakes  opp_elementaldrakes  infernals  mountains  clouds   \n",
       "67572              NaN                  NaN        NaN        NaN     NaN  \\\n",
       "67573              NaN                  NaN        NaN        NaN     NaN   \n",
       "67574              NaN                  NaN        NaN        NaN     NaN   \n",
       "67575              NaN                  NaN        NaN        NaN     NaN   \n",
       "67576              NaN                  NaN        NaN        NaN     NaN   \n",
       "\n",
       "       oceans  chemtechs  hextechs  dragons (type unknown)  elders   \n",
       "67572     NaN        NaN       NaN                     NaN     NaN  \\\n",
       "67573     NaN        NaN       NaN                     NaN     NaN   \n",
       "67574     NaN        NaN       NaN                     NaN     NaN   \n",
       "67575     NaN        NaN       NaN                     NaN     NaN   \n",
       "67576     NaN        NaN       NaN                     NaN     NaN   \n",
       "\n",
       "       opp_elders  firstherald  heralds  opp_heralds  firstbaron  barons   \n",
       "67572         NaN          NaN      NaN          NaN         NaN     0.0  \\\n",
       "67573         NaN          NaN      NaN          NaN         NaN     1.0   \n",
       "67574         NaN          NaN      NaN          NaN         NaN     0.0   \n",
       "67575         NaN          NaN      NaN          NaN         NaN     0.0   \n",
       "67576         NaN          NaN      NaN          NaN         NaN     0.0   \n",
       "\n",
       "       opp_barons  firsttower  towers  opp_towers  firstmidtower   \n",
       "67572         0.0         NaN     NaN         NaN            NaN  \\\n",
       "67573         0.0         NaN     NaN         NaN            NaN   \n",
       "67574         0.0         NaN     NaN         NaN            NaN   \n",
       "67575         0.0         NaN     NaN         NaN            NaN   \n",
       "67576         0.0         NaN     NaN         NaN            NaN   \n",
       "\n",
       "       firsttothreetowers  turretplates  opp_turretplates  inhibitors   \n",
       "67572                 NaN           NaN               NaN         0.0  \\\n",
       "67573                 NaN           NaN               NaN         0.0   \n",
       "67574                 NaN           NaN               NaN         1.0   \n",
       "67575                 NaN           NaN               NaN         1.0   \n",
       "67576                 NaN           NaN               NaN         0.0   \n",
       "\n",
       "       opp_inhibitors  damagetochampions       dpm  damageshare   \n",
       "67572             0.0              17628  558.4372     0.277716  \\\n",
       "67573             0.0              13080  414.3611     0.206065   \n",
       "67574             0.0              15295  484.5301     0.240961   \n",
       "67575             0.0              13502  427.7297     0.212714   \n",
       "67576             0.0               3970  125.7656     0.062544   \n",
       "\n",
       "       damagetakenperminute  damagemitigatedperminute  wardsplaced     wpm   \n",
       "67572              661.4572                 1947.4974           11  0.3485  \\\n",
       "67573              806.1035                  970.7075           14  0.4435   \n",
       "67574              330.3168                  291.0982           24  0.7603   \n",
       "67575              372.9884                  235.1531           14  0.4435   \n",
       "67576              113.4741                   58.2577           38  1.2038   \n",
       "\n",
       "       wardskilled    wcpm  controlwardsbought  visionscore    vspm   \n",
       "67572           10  0.3168                   6           37  1.1721  \\\n",
       "67573           20  0.6336                  22           63  1.9958   \n",
       "67574            7  0.2218                  13           42  1.3305   \n",
       "67575           15  0.4752                   4           39  1.2355   \n",
       "67576            2  0.0634                  10           66  2.0908   \n",
       "\n",
       "       totalgold  earnedgold  earned gpm  earnedgoldshare  goldspent  gspd   \n",
       "67572      12665        8526    270.0950         0.221542      11800   NaN  \\\n",
       "67573      12416        8277    262.2070         0.215072      11225   NaN   \n",
       "67574      13085        8946    283.4002         0.232456      12475   NaN   \n",
       "67575      13456        9317    295.1531         0.242096      12483   NaN   \n",
       "67576       7558        3419    108.3105         0.088835       6650   NaN   \n",
       "\n",
       "       total cs  minionkills  monsterkills  monsterkillsownjungle   \n",
       "67572     285.0        281.0             4                    NaN  \\\n",
       "67573     214.0         23.0           191                    NaN   \n",
       "67574     293.0        293.0             0                    NaN   \n",
       "67575     310.0        298.0            12                    NaN   \n",
       "67576      11.0         11.0             0                    NaN   \n",
       "\n",
       "       monsterkillsenemyjungle    cspm  goldat10  xpat10  csat10   \n",
       "67572                      NaN  9.0285    3373.0  5212.0    95.0  \\\n",
       "67573                      NaN  6.7793    3334.0  3779.0    78.0   \n",
       "67574                      NaN  9.2819    3526.0  5066.0    99.0   \n",
       "67575                      NaN  9.8205    3403.0  3111.0    83.0   \n",
       "67576                      NaN  0.3485    2109.0  2740.0     4.0   \n",
       "\n",
       "       opp_goldat10  opp_xpat10  opp_csat10  golddiffat10  xpdiffat10   \n",
       "67572        3676.0      5212.0        98.0        -303.0         0.0  \\\n",
       "67573        3256.0      3652.0        71.0          78.0       127.0   \n",
       "67574        3509.0      4208.0        80.0          17.0       858.0   \n",
       "67575        3935.0      3729.0       101.0        -532.0      -618.0   \n",
       "67576        2272.0      2454.0        15.0        -163.0       286.0   \n",
       "\n",
       "       csdiffat10  killsat10  assistsat10  deathsat10  opp_killsat10   \n",
       "67572        -3.0        0.0          0.0         0.0            0.0  \\\n",
       "67573         7.0        0.0          0.0         1.0            0.0   \n",
       "67574        19.0        0.0          0.0         0.0            1.0   \n",
       "67575       -18.0        0.0          0.0         0.0            0.0   \n",
       "67576       -11.0        0.0          0.0         0.0            0.0   \n",
       "\n",
       "       opp_assistsat10  opp_deathsat10  goldat15  xpat15  csat15   \n",
       "67572              0.0             0.0    5153.0  8046.0   146.0  \\\n",
       "67573              0.0             0.0    4884.0  5891.0   117.0   \n",
       "67574              0.0             0.0    5425.0  8471.0   163.0   \n",
       "67575              0.0             0.0    5309.0  5166.0   142.0   \n",
       "67576              1.0             0.0    2936.0  4236.0     6.0   \n",
       "\n",
       "       opp_goldat15  opp_xpat15  opp_csat15  golddiffat15  xpdiffat15   \n",
       "67572        5274.0      7985.0       147.0        -121.0        61.0  \\\n",
       "67573        5011.0      5448.0       106.0        -127.0       443.0   \n",
       "67574        5265.0      7040.0       134.0         160.0      1431.0   \n",
       "67575        5674.0      6162.0       155.0        -365.0      -996.0   \n",
       "67576        3152.0      3303.0        21.0        -216.0       933.0   \n",
       "\n",
       "       csdiffat15  killsat15  assistsat15  deathsat15  opp_killsat15   \n",
       "67572        -1.0        0.0          0.0         0.0            0.0  \\\n",
       "67573        11.0        0.0          0.0         1.0            0.0   \n",
       "67574        29.0        0.0          0.0         0.0            1.0   \n",
       "67575       -13.0        0.0          0.0         0.0            0.0   \n",
       "67576       -15.0        0.0          0.0         0.0            0.0   \n",
       "\n",
       "       opp_assistsat15  opp_deathsat15   kda   kd         gpm       gdpm   \n",
       "67572              0.0             0.0  11.0  2.0  401.214361  53.315734  \\\n",
       "67573              0.0             0.0  10.0  5.0  393.326294  61.805702   \n",
       "67574              0.0             0.0   6.0  1.0  414.519535  47.771911   \n",
       "67575              0.0             0.0   5.0  2.0  426.272439  14.128828   \n",
       "67576              1.0             0.0   9.0  1.0  239.429778  35.100317   \n",
       "\n",
       "       goldshare  \n",
       "67572   0.214008  \n",
       "67573   0.209801  \n",
       "67574   0.221105  \n",
       "67575   0.227374  \n",
       "67576   0.127712  "
      ]
     },
     "execution_count": 18,
     "metadata": {},
     "output_type": "execute_result"
    }
   ],
   "source": [
    "players_data = matches.loc[~matches[\"playername\"].isna()]\n",
    "players_data.head()"
   ]
  },
  {
   "cell_type": "code",
   "execution_count": 19,
   "metadata": {},
   "outputs": [
    {
     "data": {
      "text/plain": [
       "67579     5.0\n",
       "67622     7.0\n",
       "67623     8.0\n",
       "67624     9.0\n",
       "67680     6.0\n",
       "         ... \n",
       "85550     8.0\n",
       "85625    18.0\n",
       "86341    10.0\n",
       "86412    12.0\n",
       "86415    11.0\n",
       "Name: kda, Length: 172, dtype: float64"
      ]
     },
     "execution_count": 19,
     "metadata": {},
     "output_type": "execute_result"
    }
   ],
   "source": [
    "cond = np.isinf(players_data[\"kda\"])\n",
    "players_data.loc[cond, \"kda\"] = players_data.loc[cond, [\"kills\", \"assists\"]].sum(axis=1)\n",
    "players_data.loc[cond, \"kda\"]"
   ]
  },
  {
   "cell_type": "code",
   "execution_count": 20,
   "metadata": {},
   "outputs": [
    {
     "data": {
      "text/html": [
       "<div>\n",
       "<style scoped>\n",
       "    .dataframe tbody tr th:only-of-type {\n",
       "        vertical-align: middle;\n",
       "    }\n",
       "\n",
       "    .dataframe tbody tr th {\n",
       "        vertical-align: top;\n",
       "    }\n",
       "\n",
       "    .dataframe thead th {\n",
       "        text-align: right;\n",
       "    }\n",
       "</style>\n",
       "<table border=\"1\" class=\"dataframe\">\n",
       "  <thead>\n",
       "    <tr style=\"text-align: right;\">\n",
       "      <th></th>\n",
       "      <th></th>\n",
       "      <th>playerid</th>\n",
       "      <th>Team</th>\n",
       "      <th>kills</th>\n",
       "      <th>deaths</th>\n",
       "      <th>assists</th>\n",
       "      <th>kda</th>\n",
       "      <th>doublekills</th>\n",
       "      <th>triplekills</th>\n",
       "      <th>quadrakills</th>\n",
       "      <th>pentakills</th>\n",
       "      <th>firstblood</th>\n",
       "      <th>firstbloodvictim</th>\n",
       "      <th>dpm</th>\n",
       "      <th>damageshare</th>\n",
       "      <th>damagetakenperminute</th>\n",
       "      <th>wpm</th>\n",
       "      <th>wcpm</th>\n",
       "      <th>controlwardsbought</th>\n",
       "      <th>vspm</th>\n",
       "      <th>gpm</th>\n",
       "      <th>gdpm</th>\n",
       "      <th>goldshare</th>\n",
       "      <th>cspm</th>\n",
       "      <th>golddiffat10</th>\n",
       "      <th>xpdiffat10</th>\n",
       "      <th>csdiffat10</th>\n",
       "      <th>golddiffat15</th>\n",
       "      <th>xpdiffat15</th>\n",
       "      <th>csdiffat15</th>\n",
       "      <th>champions</th>\n",
       "    </tr>\n",
       "    <tr>\n",
       "      <th>Player</th>\n",
       "      <th>position</th>\n",
       "      <th></th>\n",
       "      <th></th>\n",
       "      <th></th>\n",
       "      <th></th>\n",
       "      <th></th>\n",
       "      <th></th>\n",
       "      <th></th>\n",
       "      <th></th>\n",
       "      <th></th>\n",
       "      <th></th>\n",
       "      <th></th>\n",
       "      <th></th>\n",
       "      <th></th>\n",
       "      <th></th>\n",
       "      <th></th>\n",
       "      <th></th>\n",
       "      <th></th>\n",
       "      <th></th>\n",
       "      <th></th>\n",
       "      <th></th>\n",
       "      <th></th>\n",
       "      <th></th>\n",
       "      <th></th>\n",
       "      <th></th>\n",
       "      <th></th>\n",
       "      <th></th>\n",
       "      <th></th>\n",
       "      <th></th>\n",
       "      <th></th>\n",
       "      <th></th>\n",
       "    </tr>\n",
       "  </thead>\n",
       "  <tbody>\n",
       "    <tr>\n",
       "      <th>BeryL</th>\n",
       "      <th>sup</th>\n",
       "      <td>oe:player:dee54127bb56d2e2540ba71cc416f1c</td>\n",
       "      <td>DRX</td>\n",
       "      <td>0.100000</td>\n",
       "      <td>3.100000</td>\n",
       "      <td>5.650000</td>\n",
       "      <td>2.676429</td>\n",
       "      <td>0.000000</td>\n",
       "      <td>0.00</td>\n",
       "      <td>0.0</td>\n",
       "      <td>0.0</td>\n",
       "      <td>0.050000</td>\n",
       "      <td>0.100000</td>\n",
       "      <td>176.729915</td>\n",
       "      <td>0.090540</td>\n",
       "      <td>399.427000</td>\n",
       "      <td>1.747735</td>\n",
       "      <td>0.450750</td>\n",
       "      <td>15.050000</td>\n",
       "      <td>3.190590</td>\n",
       "      <td>223.982649</td>\n",
       "      <td>-23.565157</td>\n",
       "      <td>0.134989</td>\n",
       "      <td>1.144465</td>\n",
       "      <td>-28.200000</td>\n",
       "      <td>-57.100000</td>\n",
       "      <td>-1.550000</td>\n",
       "      <td>-117.400000</td>\n",
       "      <td>-134.250000</td>\n",
       "      <td>-1.200000</td>\n",
       "      <td>11</td>\n",
       "    </tr>\n",
       "    <tr>\n",
       "      <th>Rascal</th>\n",
       "      <th>top</th>\n",
       "      <td>oe:player:9daf04bfd9c8815cc827414f59f45af</td>\n",
       "      <td>DRX</td>\n",
       "      <td>1.750000</td>\n",
       "      <td>3.150000</td>\n",
       "      <td>3.050000</td>\n",
       "      <td>1.864167</td>\n",
       "      <td>0.250000</td>\n",
       "      <td>0.15</td>\n",
       "      <td>0.0</td>\n",
       "      <td>0.0</td>\n",
       "      <td>0.150000</td>\n",
       "      <td>0.200000</td>\n",
       "      <td>425.393465</td>\n",
       "      <td>0.225646</td>\n",
       "      <td>913.576800</td>\n",
       "      <td>0.354240</td>\n",
       "      <td>0.250115</td>\n",
       "      <td>5.650000</td>\n",
       "      <td>1.040695</td>\n",
       "      <td>369.534286</td>\n",
       "      <td>-35.610576</td>\n",
       "      <td>0.220811</td>\n",
       "      <td>8.048355</td>\n",
       "      <td>-43.050000</td>\n",
       "      <td>-33.650000</td>\n",
       "      <td>-2.850000</td>\n",
       "      <td>-258.300000</td>\n",
       "      <td>-160.050000</td>\n",
       "      <td>-2.400000</td>\n",
       "      <td>10</td>\n",
       "    </tr>\n",
       "    <tr>\n",
       "      <th>FATE</th>\n",
       "      <th>mid</th>\n",
       "      <td>oe:player:24cd6812f523cf30c3502344539be6f</td>\n",
       "      <td>DRX</td>\n",
       "      <td>2.454545</td>\n",
       "      <td>1.454545</td>\n",
       "      <td>4.272727</td>\n",
       "      <td>4.886364</td>\n",
       "      <td>0.363636</td>\n",
       "      <td>0.00</td>\n",
       "      <td>0.0</td>\n",
       "      <td>0.0</td>\n",
       "      <td>0.090909</td>\n",
       "      <td>0.000000</td>\n",
       "      <td>585.817964</td>\n",
       "      <td>0.298649</td>\n",
       "      <td>477.317600</td>\n",
       "      <td>0.420382</td>\n",
       "      <td>0.317664</td>\n",
       "      <td>6.636364</td>\n",
       "      <td>1.304509</td>\n",
       "      <td>391.414465</td>\n",
       "      <td>-32.649437</td>\n",
       "      <td>0.223839</td>\n",
       "      <td>8.831755</td>\n",
       "      <td>-194.636364</td>\n",
       "      <td>-165.000000</td>\n",
       "      <td>-3.363636</td>\n",
       "      <td>-346.909091</td>\n",
       "      <td>-309.000000</td>\n",
       "      <td>-2.636364</td>\n",
       "      <td>7</td>\n",
       "    </tr>\n",
       "    <tr>\n",
       "      <th>kyeahoo</th>\n",
       "      <th>mid</th>\n",
       "      <td>oe:player:308e48bf56284c09a1a9aadf55bc80c</td>\n",
       "      <td>DRX</td>\n",
       "      <td>1.666667</td>\n",
       "      <td>2.666667</td>\n",
       "      <td>2.555556</td>\n",
       "      <td>1.638889</td>\n",
       "      <td>0.222222</td>\n",
       "      <td>0.00</td>\n",
       "      <td>0.0</td>\n",
       "      <td>0.0</td>\n",
       "      <td>0.000000</td>\n",
       "      <td>0.222222</td>\n",
       "      <td>382.023000</td>\n",
       "      <td>0.192527</td>\n",
       "      <td>610.781667</td>\n",
       "      <td>0.555967</td>\n",
       "      <td>0.209711</td>\n",
       "      <td>7.666667</td>\n",
       "      <td>1.224411</td>\n",
       "      <td>325.214902</td>\n",
       "      <td>-100.279910</td>\n",
       "      <td>0.206384</td>\n",
       "      <td>7.462544</td>\n",
       "      <td>-247.000000</td>\n",
       "      <td>6.888889</td>\n",
       "      <td>-0.666667</td>\n",
       "      <td>-795.444444</td>\n",
       "      <td>-125.111111</td>\n",
       "      <td>-8.222222</td>\n",
       "      <td>4</td>\n",
       "    </tr>\n",
       "    <tr>\n",
       "      <th>Croco</th>\n",
       "      <th>jng</th>\n",
       "      <td>oe:player:5c6f901a83ec448d51703aebba0ca64</td>\n",
       "      <td>DRX</td>\n",
       "      <td>1.375000</td>\n",
       "      <td>3.750000</td>\n",
       "      <td>3.375000</td>\n",
       "      <td>1.304167</td>\n",
       "      <td>0.250000</td>\n",
       "      <td>0.00</td>\n",
       "      <td>0.0</td>\n",
       "      <td>0.0</td>\n",
       "      <td>0.125000</td>\n",
       "      <td>0.125000</td>\n",
       "      <td>257.786113</td>\n",
       "      <td>0.130422</td>\n",
       "      <td>878.547987</td>\n",
       "      <td>0.454188</td>\n",
       "      <td>0.385188</td>\n",
       "      <td>11.000000</td>\n",
       "      <td>1.498025</td>\n",
       "      <td>295.084921</td>\n",
       "      <td>-81.404787</td>\n",
       "      <td>0.187163</td>\n",
       "      <td>4.978525</td>\n",
       "      <td>-323.500000</td>\n",
       "      <td>-342.750000</td>\n",
       "      <td>-11.750000</td>\n",
       "      <td>-737.875000</td>\n",
       "      <td>-449.875000</td>\n",
       "      <td>-16.750000</td>\n",
       "      <td>6</td>\n",
       "    </tr>\n",
       "  </tbody>\n",
       "</table>\n",
       "</div>"
      ],
      "text/plain": [
       "                                                   playerid Team     kills   \n",
       "Player  position                                                             \n",
       "BeryL   sup       oe:player:dee54127bb56d2e2540ba71cc416f1c  DRX  0.100000  \\\n",
       "Rascal  top       oe:player:9daf04bfd9c8815cc827414f59f45af  DRX  1.750000   \n",
       "FATE    mid       oe:player:24cd6812f523cf30c3502344539be6f  DRX  2.454545   \n",
       "kyeahoo mid       oe:player:308e48bf56284c09a1a9aadf55bc80c  DRX  1.666667   \n",
       "Croco   jng       oe:player:5c6f901a83ec448d51703aebba0ca64  DRX  1.375000   \n",
       "\n",
       "                    deaths   assists       kda  doublekills  triplekills   \n",
       "Player  position                                                           \n",
       "BeryL   sup       3.100000  5.650000  2.676429     0.000000         0.00  \\\n",
       "Rascal  top       3.150000  3.050000  1.864167     0.250000         0.15   \n",
       "FATE    mid       1.454545  4.272727  4.886364     0.363636         0.00   \n",
       "kyeahoo mid       2.666667  2.555556  1.638889     0.222222         0.00   \n",
       "Croco   jng       3.750000  3.375000  1.304167     0.250000         0.00   \n",
       "\n",
       "                  quadrakills  pentakills  firstblood  firstbloodvictim   \n",
       "Player  position                                                          \n",
       "BeryL   sup               0.0         0.0    0.050000          0.100000  \\\n",
       "Rascal  top               0.0         0.0    0.150000          0.200000   \n",
       "FATE    mid               0.0         0.0    0.090909          0.000000   \n",
       "kyeahoo mid               0.0         0.0    0.000000          0.222222   \n",
       "Croco   jng               0.0         0.0    0.125000          0.125000   \n",
       "\n",
       "                         dpm  damageshare  damagetakenperminute       wpm   \n",
       "Player  position                                                            \n",
       "BeryL   sup       176.729915     0.090540            399.427000  1.747735  \\\n",
       "Rascal  top       425.393465     0.225646            913.576800  0.354240   \n",
       "FATE    mid       585.817964     0.298649            477.317600  0.420382   \n",
       "kyeahoo mid       382.023000     0.192527            610.781667  0.555967   \n",
       "Croco   jng       257.786113     0.130422            878.547987  0.454188   \n",
       "\n",
       "                      wcpm  controlwardsbought      vspm         gpm   \n",
       "Player  position                                                       \n",
       "BeryL   sup       0.450750           15.050000  3.190590  223.982649  \\\n",
       "Rascal  top       0.250115            5.650000  1.040695  369.534286   \n",
       "FATE    mid       0.317664            6.636364  1.304509  391.414465   \n",
       "kyeahoo mid       0.209711            7.666667  1.224411  325.214902   \n",
       "Croco   jng       0.385188           11.000000  1.498025  295.084921   \n",
       "\n",
       "                        gdpm  goldshare      cspm  golddiffat10  xpdiffat10   \n",
       "Player  position                                                              \n",
       "BeryL   sup       -23.565157   0.134989  1.144465    -28.200000  -57.100000  \\\n",
       "Rascal  top       -35.610576   0.220811  8.048355    -43.050000  -33.650000   \n",
       "FATE    mid       -32.649437   0.223839  8.831755   -194.636364 -165.000000   \n",
       "kyeahoo mid      -100.279910   0.206384  7.462544   -247.000000    6.888889   \n",
       "Croco   jng       -81.404787   0.187163  4.978525   -323.500000 -342.750000   \n",
       "\n",
       "                  csdiffat10  golddiffat15  xpdiffat15  csdiffat15  champions  \n",
       "Player  position                                                               \n",
       "BeryL   sup        -1.550000   -117.400000 -134.250000   -1.200000         11  \n",
       "Rascal  top        -2.850000   -258.300000 -160.050000   -2.400000         10  \n",
       "FATE    mid        -3.363636   -346.909091 -309.000000   -2.636364          7  \n",
       "kyeahoo mid        -0.666667   -795.444444 -125.111111   -8.222222          4  \n",
       "Croco   jng       -11.750000   -737.875000 -449.875000  -16.750000          6  "
      ]
     },
     "execution_count": 20,
     "metadata": {},
     "output_type": "execute_result"
    }
   ],
   "source": [
    "groupby = players_data.groupby([\"playerid\", \"position\"])\n",
    "idx = groupby.groups.keys()\n",
    "idx = pd.MultiIndex.from_tuples(idx, names=[\"playerid\", \"position\"])\n",
    "players_stats = pd.DataFrame(index=idx)\n",
    "players_stats[[\"Player\", \"Team\"]] = groupby.last()[[\"playername\", \"teamname\"]]\n",
    "\n",
    "mean_columns = [\n",
    "    \"kills\",\n",
    "    \"deaths\",\n",
    "    \"assists\",\n",
    "    \"kda\",\n",
    "    \"doublekills\",\n",
    "    \"triplekills\",\n",
    "    \"quadrakills\",\n",
    "    \"pentakills\",\n",
    "    \"firstblood\",\n",
    "    \"firstbloodvictim\",\n",
    "    \"dpm\",\n",
    "    \"damageshare\",\n",
    "    \"damagetakenperminute\",\n",
    "    \"wpm\",\n",
    "    \"wcpm\",\n",
    "    \"controlwardsbought\",\n",
    "    \"vspm\",\n",
    "    \"gpm\",\n",
    "    \"gdpm\",\n",
    "    \"goldshare\",\n",
    "    \"cspm\",\n",
    "    \"golddiffat10\",\n",
    "    \"xpdiffat10\",\n",
    "    \"csdiffat10\",\n",
    "    \"golddiffat15\",\n",
    "    \"xpdiffat15\",\n",
    "    \"csdiffat15\",\n",
    "]\n",
    "num_columns = [\"champion\"]\n",
    "\n",
    "players_stats[mean_columns] = groupby[mean_columns].mean()\n",
    "players_stats[\"champions\"] = groupby[\"champion\"].nunique()\n",
    "players_stats = (\n",
    "    players_stats.reset_index().set_index([\"Player\", \"position\"]).sort_values(\"Team\")\n",
    ")\n",
    "players_stats.head()"
   ]
  },
  {
   "cell_type": "code",
   "execution_count": 21,
   "metadata": {},
   "outputs": [],
   "source": [
    "origin_columns, columns = get_player_stats_columns()\n",
    "\n",
    "positions = [\"top\", \"jng\", \"mid\", \"bot\", \"sup\"]"
   ]
  },
  {
   "cell_type": "code",
   "execution_count": 22,
   "metadata": {},
   "outputs": [
    {
     "data": {
      "text/html": [
       "<div>\n",
       "<style scoped>\n",
       "    .dataframe tbody tr th:only-of-type {\n",
       "        vertical-align: middle;\n",
       "    }\n",
       "\n",
       "    .dataframe tbody tr th {\n",
       "        vertical-align: top;\n",
       "    }\n",
       "\n",
       "    .dataframe thead th {\n",
       "        text-align: right;\n",
       "    }\n",
       "</style>\n",
       "<table border=\"1\" class=\"dataframe\">\n",
       "  <thead>\n",
       "    <tr style=\"text-align: right;\">\n",
       "      <th></th>\n",
       "      <th></th>\n",
       "      <th>playerid</th>\n",
       "      <th>Team</th>\n",
       "      <th>kills</th>\n",
       "      <th>deaths</th>\n",
       "      <th>assists</th>\n",
       "      <th>kda</th>\n",
       "      <th>doublekills</th>\n",
       "      <th>triplekills</th>\n",
       "      <th>quadrakills</th>\n",
       "      <th>pentakills</th>\n",
       "      <th>firstblood</th>\n",
       "      <th>firstbloodvictim</th>\n",
       "      <th>dpm</th>\n",
       "      <th>damageshare</th>\n",
       "      <th>damagetakenperminute</th>\n",
       "      <th>wpm</th>\n",
       "      <th>wcpm</th>\n",
       "      <th>controlwardsbought</th>\n",
       "      <th>vspm</th>\n",
       "      <th>gpm</th>\n",
       "      <th>gdpm</th>\n",
       "      <th>goldshare</th>\n",
       "      <th>cspm</th>\n",
       "      <th>golddiffat10</th>\n",
       "      <th>xpdiffat10</th>\n",
       "      <th>csdiffat10</th>\n",
       "      <th>golddiffat15</th>\n",
       "      <th>xpdiffat15</th>\n",
       "      <th>csdiffat15</th>\n",
       "      <th>champions</th>\n",
       "      <th>_kills</th>\n",
       "      <th>_deaths</th>\n",
       "      <th>_assists</th>\n",
       "      <th>_kda</th>\n",
       "      <th>_dpm</th>\n",
       "      <th>_damageshare</th>\n",
       "      <th>_damagetakenperminute</th>\n",
       "      <th>_firstblood</th>\n",
       "      <th>_firstbloodvictim</th>\n",
       "      <th>_wpm</th>\n",
       "      <th>_wcpm</th>\n",
       "      <th>_controlwardsbought</th>\n",
       "      <th>_vspm</th>\n",
       "      <th>_gpm</th>\n",
       "      <th>_gdpm</th>\n",
       "      <th>_goldshare</th>\n",
       "      <th>_cspm</th>\n",
       "      <th>_champions</th>\n",
       "      <th>_golddiffat10</th>\n",
       "      <th>_xpdiffat10</th>\n",
       "      <th>_csdiffat10</th>\n",
       "      <th>_golddiffat15</th>\n",
       "      <th>_xpdiffat15</th>\n",
       "      <th>_csdiffat15</th>\n",
       "    </tr>\n",
       "    <tr>\n",
       "      <th>Player</th>\n",
       "      <th>position</th>\n",
       "      <th></th>\n",
       "      <th></th>\n",
       "      <th></th>\n",
       "      <th></th>\n",
       "      <th></th>\n",
       "      <th></th>\n",
       "      <th></th>\n",
       "      <th></th>\n",
       "      <th></th>\n",
       "      <th></th>\n",
       "      <th></th>\n",
       "      <th></th>\n",
       "      <th></th>\n",
       "      <th></th>\n",
       "      <th></th>\n",
       "      <th></th>\n",
       "      <th></th>\n",
       "      <th></th>\n",
       "      <th></th>\n",
       "      <th></th>\n",
       "      <th></th>\n",
       "      <th></th>\n",
       "      <th></th>\n",
       "      <th></th>\n",
       "      <th></th>\n",
       "      <th></th>\n",
       "      <th></th>\n",
       "      <th></th>\n",
       "      <th></th>\n",
       "      <th></th>\n",
       "      <th></th>\n",
       "      <th></th>\n",
       "      <th></th>\n",
       "      <th></th>\n",
       "      <th></th>\n",
       "      <th></th>\n",
       "      <th></th>\n",
       "      <th></th>\n",
       "      <th></th>\n",
       "      <th></th>\n",
       "      <th></th>\n",
       "      <th></th>\n",
       "      <th></th>\n",
       "      <th></th>\n",
       "      <th></th>\n",
       "      <th></th>\n",
       "      <th></th>\n",
       "      <th></th>\n",
       "      <th></th>\n",
       "      <th></th>\n",
       "      <th></th>\n",
       "      <th></th>\n",
       "      <th></th>\n",
       "      <th></th>\n",
       "    </tr>\n",
       "  </thead>\n",
       "  <tbody>\n",
       "    <tr>\n",
       "      <th>BeryL</th>\n",
       "      <th>sup</th>\n",
       "      <td>oe:player:dee54127bb56d2e2540ba71cc416f1c</td>\n",
       "      <td>DRX</td>\n",
       "      <td>0.100000</td>\n",
       "      <td>3.100000</td>\n",
       "      <td>5.650000</td>\n",
       "      <td>2.676429</td>\n",
       "      <td>0.000000</td>\n",
       "      <td>0.00</td>\n",
       "      <td>0.0</td>\n",
       "      <td>0.0</td>\n",
       "      <td>0.050000</td>\n",
       "      <td>0.100000</td>\n",
       "      <td>176.729915</td>\n",
       "      <td>0.090540</td>\n",
       "      <td>399.427000</td>\n",
       "      <td>1.747735</td>\n",
       "      <td>0.450750</td>\n",
       "      <td>15.050000</td>\n",
       "      <td>3.190590</td>\n",
       "      <td>223.982649</td>\n",
       "      <td>-23.565157</td>\n",
       "      <td>0.134989</td>\n",
       "      <td>1.144465</td>\n",
       "      <td>-28.200000</td>\n",
       "      <td>-57.100000</td>\n",
       "      <td>-1.550000</td>\n",
       "      <td>-117.400000</td>\n",
       "      <td>-134.250000</td>\n",
       "      <td>-1.200000</td>\n",
       "      <td>11</td>\n",
       "      <td>0.000000</td>\n",
       "      <td>1.000000</td>\n",
       "      <td>0.057646</td>\n",
       "      <td>0.000000</td>\n",
       "      <td>0.723051</td>\n",
       "      <td>0.920157</td>\n",
       "      <td>1.000000</td>\n",
       "      <td>0.000000</td>\n",
       "      <td>0.633333</td>\n",
       "      <td>0.926352</td>\n",
       "      <td>1.000000</td>\n",
       "      <td>0.653774</td>\n",
       "      <td>0.821894</td>\n",
       "      <td>0.091233</td>\n",
       "      <td>0.052168</td>\n",
       "      <td>1.000000</td>\n",
       "      <td>1.000000</td>\n",
       "      <td>1.000</td>\n",
       "      <td>0.388836</td>\n",
       "      <td>0.000000</td>\n",
       "      <td>0.000000</td>\n",
       "      <td>0.254342</td>\n",
       "      <td>0.221226</td>\n",
       "      <td>0.124779</td>\n",
       "    </tr>\n",
       "    <tr>\n",
       "      <th>Rascal</th>\n",
       "      <th>top</th>\n",
       "      <td>oe:player:9daf04bfd9c8815cc827414f59f45af</td>\n",
       "      <td>DRX</td>\n",
       "      <td>1.750000</td>\n",
       "      <td>3.150000</td>\n",
       "      <td>3.050000</td>\n",
       "      <td>1.864167</td>\n",
       "      <td>0.250000</td>\n",
       "      <td>0.15</td>\n",
       "      <td>0.0</td>\n",
       "      <td>0.0</td>\n",
       "      <td>0.150000</td>\n",
       "      <td>0.200000</td>\n",
       "      <td>425.393465</td>\n",
       "      <td>0.225646</td>\n",
       "      <td>913.576800</td>\n",
       "      <td>0.354240</td>\n",
       "      <td>0.250115</td>\n",
       "      <td>5.650000</td>\n",
       "      <td>1.040695</td>\n",
       "      <td>369.534286</td>\n",
       "      <td>-35.610576</td>\n",
       "      <td>0.220811</td>\n",
       "      <td>8.048355</td>\n",
       "      <td>-43.050000</td>\n",
       "      <td>-33.650000</td>\n",
       "      <td>-2.850000</td>\n",
       "      <td>-258.300000</td>\n",
       "      <td>-160.050000</td>\n",
       "      <td>-2.400000</td>\n",
       "      <td>10</td>\n",
       "      <td>0.496974</td>\n",
       "      <td>1.000000</td>\n",
       "      <td>0.167622</td>\n",
       "      <td>0.042816</td>\n",
       "      <td>0.000000</td>\n",
       "      <td>0.288029</td>\n",
       "      <td>0.941370</td>\n",
       "      <td>0.428571</td>\n",
       "      <td>0.760000</td>\n",
       "      <td>0.222712</td>\n",
       "      <td>0.919772</td>\n",
       "      <td>0.300111</td>\n",
       "      <td>0.399708</td>\n",
       "      <td>0.193278</td>\n",
       "      <td>0.099909</td>\n",
       "      <td>0.878350</td>\n",
       "      <td>0.149818</td>\n",
       "      <td>1.000</td>\n",
       "      <td>0.337970</td>\n",
       "      <td>0.281938</td>\n",
       "      <td>0.145322</td>\n",
       "      <td>0.157467</td>\n",
       "      <td>0.341521</td>\n",
       "      <td>0.238759</td>\n",
       "    </tr>\n",
       "    <tr>\n",
       "      <th>FATE</th>\n",
       "      <th>mid</th>\n",
       "      <td>oe:player:24cd6812f523cf30c3502344539be6f</td>\n",
       "      <td>DRX</td>\n",
       "      <td>2.454545</td>\n",
       "      <td>1.454545</td>\n",
       "      <td>4.272727</td>\n",
       "      <td>4.886364</td>\n",
       "      <td>0.363636</td>\n",
       "      <td>0.00</td>\n",
       "      <td>0.0</td>\n",
       "      <td>0.0</td>\n",
       "      <td>0.090909</td>\n",
       "      <td>0.000000</td>\n",
       "      <td>585.817964</td>\n",
       "      <td>0.298649</td>\n",
       "      <td>477.317600</td>\n",
       "      <td>0.420382</td>\n",
       "      <td>0.317664</td>\n",
       "      <td>6.636364</td>\n",
       "      <td>1.304509</td>\n",
       "      <td>391.414465</td>\n",
       "      <td>-32.649437</td>\n",
       "      <td>0.223839</td>\n",
       "      <td>8.831755</td>\n",
       "      <td>-194.636364</td>\n",
       "      <td>-165.000000</td>\n",
       "      <td>-3.363636</td>\n",
       "      <td>-346.909091</td>\n",
       "      <td>-309.000000</td>\n",
       "      <td>-2.636364</td>\n",
       "      <td>7</td>\n",
       "      <td>0.672810</td>\n",
       "      <td>0.125874</td>\n",
       "      <td>0.384447</td>\n",
       "      <td>0.525087</td>\n",
       "      <td>0.863740</td>\n",
       "      <td>1.000000</td>\n",
       "      <td>0.380748</td>\n",
       "      <td>0.272727</td>\n",
       "      <td>0.000000</td>\n",
       "      <td>0.250774</td>\n",
       "      <td>0.751741</td>\n",
       "      <td>0.454545</td>\n",
       "      <td>0.650952</td>\n",
       "      <td>0.724872</td>\n",
       "      <td>0.421136</td>\n",
       "      <td>0.758954</td>\n",
       "      <td>0.672548</td>\n",
       "      <td>0.500</td>\n",
       "      <td>0.139512</td>\n",
       "      <td>0.086914</td>\n",
       "      <td>0.289491</td>\n",
       "      <td>0.375419</td>\n",
       "      <td>0.216976</td>\n",
       "      <td>0.476817</td>\n",
       "    </tr>\n",
       "    <tr>\n",
       "      <th>kyeahoo</th>\n",
       "      <th>mid</th>\n",
       "      <td>oe:player:308e48bf56284c09a1a9aadf55bc80c</td>\n",
       "      <td>DRX</td>\n",
       "      <td>1.666667</td>\n",
       "      <td>2.666667</td>\n",
       "      <td>2.555556</td>\n",
       "      <td>1.638889</td>\n",
       "      <td>0.222222</td>\n",
       "      <td>0.00</td>\n",
       "      <td>0.0</td>\n",
       "      <td>0.0</td>\n",
       "      <td>0.000000</td>\n",
       "      <td>0.222222</td>\n",
       "      <td>382.023000</td>\n",
       "      <td>0.192527</td>\n",
       "      <td>610.781667</td>\n",
       "      <td>0.555967</td>\n",
       "      <td>0.209711</td>\n",
       "      <td>7.666667</td>\n",
       "      <td>1.224411</td>\n",
       "      <td>325.214902</td>\n",
       "      <td>-100.279910</td>\n",
       "      <td>0.206384</td>\n",
       "      <td>7.462544</td>\n",
       "      <td>-247.000000</td>\n",
       "      <td>6.888889</td>\n",
       "      <td>-0.666667</td>\n",
       "      <td>-795.444444</td>\n",
       "      <td>-125.111111</td>\n",
       "      <td>-8.222222</td>\n",
       "      <td>4</td>\n",
       "      <td>0.331815</td>\n",
       "      <td>0.725275</td>\n",
       "      <td>0.012048</td>\n",
       "      <td>0.000000</td>\n",
       "      <td>0.172169</td>\n",
       "      <td>0.000000</td>\n",
       "      <td>1.000000</td>\n",
       "      <td>0.000000</td>\n",
       "      <td>1.000000</td>\n",
       "      <td>1.000000</td>\n",
       "      <td>0.275222</td>\n",
       "      <td>0.740741</td>\n",
       "      <td>0.416708</td>\n",
       "      <td>0.000000</td>\n",
       "      <td>0.000000</td>\n",
       "      <td>0.000000</td>\n",
       "      <td>0.000000</td>\n",
       "      <td>0.000</td>\n",
       "      <td>0.000000</td>\n",
       "      <td>0.576736</td>\n",
       "      <td>0.510269</td>\n",
       "      <td>0.000000</td>\n",
       "      <td>0.441130</td>\n",
       "      <td>0.268143</td>\n",
       "    </tr>\n",
       "    <tr>\n",
       "      <th>Croco</th>\n",
       "      <th>jng</th>\n",
       "      <td>oe:player:5c6f901a83ec448d51703aebba0ca64</td>\n",
       "      <td>DRX</td>\n",
       "      <td>1.375000</td>\n",
       "      <td>3.750000</td>\n",
       "      <td>3.375000</td>\n",
       "      <td>1.304167</td>\n",
       "      <td>0.250000</td>\n",
       "      <td>0.00</td>\n",
       "      <td>0.0</td>\n",
       "      <td>0.0</td>\n",
       "      <td>0.125000</td>\n",
       "      <td>0.125000</td>\n",
       "      <td>257.786113</td>\n",
       "      <td>0.130422</td>\n",
       "      <td>878.547987</td>\n",
       "      <td>0.454188</td>\n",
       "      <td>0.385188</td>\n",
       "      <td>11.000000</td>\n",
       "      <td>1.498025</td>\n",
       "      <td>295.084921</td>\n",
       "      <td>-81.404787</td>\n",
       "      <td>0.187163</td>\n",
       "      <td>4.978525</td>\n",
       "      <td>-323.500000</td>\n",
       "      <td>-342.750000</td>\n",
       "      <td>-11.750000</td>\n",
       "      <td>-737.875000</td>\n",
       "      <td>-449.875000</td>\n",
       "      <td>-16.750000</td>\n",
       "      <td>6</td>\n",
       "      <td>0.140836</td>\n",
       "      <td>1.000000</td>\n",
       "      <td>0.000000</td>\n",
       "      <td>0.000000</td>\n",
       "      <td>0.327630</td>\n",
       "      <td>0.103074</td>\n",
       "      <td>1.000000</td>\n",
       "      <td>0.208333</td>\n",
       "      <td>0.300000</td>\n",
       "      <td>0.502259</td>\n",
       "      <td>0.394773</td>\n",
       "      <td>0.427835</td>\n",
       "      <td>0.281662</td>\n",
       "      <td>0.000000</td>\n",
       "      <td>0.000000</td>\n",
       "      <td>0.706040</td>\n",
       "      <td>0.005740</td>\n",
       "      <td>0.375</td>\n",
       "      <td>0.000000</td>\n",
       "      <td>0.000000</td>\n",
       "      <td>0.000000</td>\n",
       "      <td>0.000000</td>\n",
       "      <td>0.000000</td>\n",
       "      <td>0.000000</td>\n",
       "    </tr>\n",
       "  </tbody>\n",
       "</table>\n",
       "</div>"
      ],
      "text/plain": [
       "                                                   playerid Team     kills   \n",
       "Player  position                                                             \n",
       "BeryL   sup       oe:player:dee54127bb56d2e2540ba71cc416f1c  DRX  0.100000  \\\n",
       "Rascal  top       oe:player:9daf04bfd9c8815cc827414f59f45af  DRX  1.750000   \n",
       "FATE    mid       oe:player:24cd6812f523cf30c3502344539be6f  DRX  2.454545   \n",
       "kyeahoo mid       oe:player:308e48bf56284c09a1a9aadf55bc80c  DRX  1.666667   \n",
       "Croco   jng       oe:player:5c6f901a83ec448d51703aebba0ca64  DRX  1.375000   \n",
       "\n",
       "                    deaths   assists       kda  doublekills  triplekills   \n",
       "Player  position                                                           \n",
       "BeryL   sup       3.100000  5.650000  2.676429     0.000000         0.00  \\\n",
       "Rascal  top       3.150000  3.050000  1.864167     0.250000         0.15   \n",
       "FATE    mid       1.454545  4.272727  4.886364     0.363636         0.00   \n",
       "kyeahoo mid       2.666667  2.555556  1.638889     0.222222         0.00   \n",
       "Croco   jng       3.750000  3.375000  1.304167     0.250000         0.00   \n",
       "\n",
       "                  quadrakills  pentakills  firstblood  firstbloodvictim   \n",
       "Player  position                                                          \n",
       "BeryL   sup               0.0         0.0    0.050000          0.100000  \\\n",
       "Rascal  top               0.0         0.0    0.150000          0.200000   \n",
       "FATE    mid               0.0         0.0    0.090909          0.000000   \n",
       "kyeahoo mid               0.0         0.0    0.000000          0.222222   \n",
       "Croco   jng               0.0         0.0    0.125000          0.125000   \n",
       "\n",
       "                         dpm  damageshare  damagetakenperminute       wpm   \n",
       "Player  position                                                            \n",
       "BeryL   sup       176.729915     0.090540            399.427000  1.747735  \\\n",
       "Rascal  top       425.393465     0.225646            913.576800  0.354240   \n",
       "FATE    mid       585.817964     0.298649            477.317600  0.420382   \n",
       "kyeahoo mid       382.023000     0.192527            610.781667  0.555967   \n",
       "Croco   jng       257.786113     0.130422            878.547987  0.454188   \n",
       "\n",
       "                      wcpm  controlwardsbought      vspm         gpm   \n",
       "Player  position                                                       \n",
       "BeryL   sup       0.450750           15.050000  3.190590  223.982649  \\\n",
       "Rascal  top       0.250115            5.650000  1.040695  369.534286   \n",
       "FATE    mid       0.317664            6.636364  1.304509  391.414465   \n",
       "kyeahoo mid       0.209711            7.666667  1.224411  325.214902   \n",
       "Croco   jng       0.385188           11.000000  1.498025  295.084921   \n",
       "\n",
       "                        gdpm  goldshare      cspm  golddiffat10  xpdiffat10   \n",
       "Player  position                                                              \n",
       "BeryL   sup       -23.565157   0.134989  1.144465    -28.200000  -57.100000  \\\n",
       "Rascal  top       -35.610576   0.220811  8.048355    -43.050000  -33.650000   \n",
       "FATE    mid       -32.649437   0.223839  8.831755   -194.636364 -165.000000   \n",
       "kyeahoo mid      -100.279910   0.206384  7.462544   -247.000000    6.888889   \n",
       "Croco   jng       -81.404787   0.187163  4.978525   -323.500000 -342.750000   \n",
       "\n",
       "                  csdiffat10  golddiffat15  xpdiffat15  csdiffat15  champions   \n",
       "Player  position                                                                \n",
       "BeryL   sup        -1.550000   -117.400000 -134.250000   -1.200000         11  \\\n",
       "Rascal  top        -2.850000   -258.300000 -160.050000   -2.400000         10   \n",
       "FATE    mid        -3.363636   -346.909091 -309.000000   -2.636364          7   \n",
       "kyeahoo mid        -0.666667   -795.444444 -125.111111   -8.222222          4   \n",
       "Croco   jng       -11.750000   -737.875000 -449.875000  -16.750000          6   \n",
       "\n",
       "                    _kills   _deaths  _assists      _kda      _dpm   \n",
       "Player  position                                                     \n",
       "BeryL   sup       0.000000  1.000000  0.057646  0.000000  0.723051  \\\n",
       "Rascal  top       0.496974  1.000000  0.167622  0.042816  0.000000   \n",
       "FATE    mid       0.672810  0.125874  0.384447  0.525087  0.863740   \n",
       "kyeahoo mid       0.331815  0.725275  0.012048  0.000000  0.172169   \n",
       "Croco   jng       0.140836  1.000000  0.000000  0.000000  0.327630   \n",
       "\n",
       "                  _damageshare  _damagetakenperminute  _firstblood   \n",
       "Player  position                                                     \n",
       "BeryL   sup           0.920157               1.000000     0.000000  \\\n",
       "Rascal  top           0.288029               0.941370     0.428571   \n",
       "FATE    mid           1.000000               0.380748     0.272727   \n",
       "kyeahoo mid           0.000000               1.000000     0.000000   \n",
       "Croco   jng           0.103074               1.000000     0.208333   \n",
       "\n",
       "                  _firstbloodvictim      _wpm     _wcpm  _controlwardsbought   \n",
       "Player  position                                                               \n",
       "BeryL   sup                0.633333  0.926352  1.000000             0.653774  \\\n",
       "Rascal  top                0.760000  0.222712  0.919772             0.300111   \n",
       "FATE    mid                0.000000  0.250774  0.751741             0.454545   \n",
       "kyeahoo mid                1.000000  1.000000  0.275222             0.740741   \n",
       "Croco   jng                0.300000  0.502259  0.394773             0.427835   \n",
       "\n",
       "                     _vspm      _gpm     _gdpm  _goldshare     _cspm   \n",
       "Player  position                                                       \n",
       "BeryL   sup       0.821894  0.091233  0.052168    1.000000  1.000000  \\\n",
       "Rascal  top       0.399708  0.193278  0.099909    0.878350  0.149818   \n",
       "FATE    mid       0.650952  0.724872  0.421136    0.758954  0.672548   \n",
       "kyeahoo mid       0.416708  0.000000  0.000000    0.000000  0.000000   \n",
       "Croco   jng       0.281662  0.000000  0.000000    0.706040  0.005740   \n",
       "\n",
       "                  _champions  _golddiffat10  _xpdiffat10  _csdiffat10   \n",
       "Player  position                                                        \n",
       "BeryL   sup            1.000       0.388836     0.000000     0.000000  \\\n",
       "Rascal  top            1.000       0.337970     0.281938     0.145322   \n",
       "FATE    mid            0.500       0.139512     0.086914     0.289491   \n",
       "kyeahoo mid            0.000       0.000000     0.576736     0.510269   \n",
       "Croco   jng            0.375       0.000000     0.000000     0.000000   \n",
       "\n",
       "                  _golddiffat15  _xpdiffat15  _csdiffat15  \n",
       "Player  position                                           \n",
       "BeryL   sup            0.254342     0.221226     0.124779  \n",
       "Rascal  top            0.157467     0.341521     0.238759  \n",
       "FATE    mid            0.375419     0.216976     0.476817  \n",
       "kyeahoo mid            0.000000     0.441130     0.268143  \n",
       "Croco   jng            0.000000     0.000000     0.000000  "
      ]
     },
     "execution_count": 22,
     "metadata": {},
     "output_type": "execute_result"
    }
   ],
   "source": [
    "for key, values in origin_columns.items():\n",
    "    for pos in positions:\n",
    "        scaler = MinMaxScaler()\n",
    "        cond = players_stats.index.get_level_values(1) == pos\n",
    "        players_stats.loc[cond, columns[key]] = scaler.fit_transform(\n",
    "            players_stats.loc[cond, values]\n",
    "        )\n",
    "players_stats.head()"
   ]
  },
  {
   "cell_type": "code",
   "execution_count": 23,
   "metadata": {},
   "outputs": [
    {
     "data": {
      "application/vnd.plotly.v1+json": {
       "config": {
        "plotlyServerURL": "https://plot.ly"
       },
       "data": [
        {
         "fill": "toself",
         "name": "Rascal",
         "r": [
          0.4969742813918306,
          1,
          0.16762177650429788,
          0.04281558181548012,
          0,
          0.288028904302851,
          0.9413701760869824
         ],
         "subplot": "polar",
         "theta": [
          "kills - 1.75 | 6",
          "deaths - 3.15 | 1",
          "assists - 3.05 | 8",
          "kda - 1.86 | 9",
          "dpm - 425.39 | 10",
          "damageshare - 0.23 | 8",
          "damagetakenperminute - 913.58 | 2"
         ],
         "type": "scatterpolar"
        },
        {
         "fill": "toself",
         "name": "Rascal",
         "r": [
          0.42857142857142855,
          0.7600000000000001,
          0.2227116316153499,
          0.9197715510045075,
          0.30011123470522816,
          0.39970787131420593,
          0.19327751954328765,
          0.09990897420187056,
          0.8783502058671715,
          0.1498184614448741,
          1
         ],
         "subplot": "polar2",
         "theta": [
          "firstblood - 0.15 | 7",
          "firstbloodvictim - 0.2 | 4",
          "wpm - 0.35 | 9",
          "wcpm - 0.25 | 2",
          "controlwardsbought - 5.65 | 7",
          "vspm - 1.04 | 6",
          "gpm - 369.53 | 8",
          "gdpm - -35.61 | 9",
          "goldshare - 0.22 | 3",
          "cspm - 8.05 | 8",
          "champions - 10.0 | 1"
         ],
         "type": "scatterpolar"
        },
        {
         "fill": "toself",
         "name": "Rascal",
         "r": [
          0.3379699997784326,
          0.2819380916923732,
          0.14532186604117797,
          0.1574673163105439,
          0.3415213358070502,
          0.23875918367346938
         ],
         "subplot": "polar3",
         "theta": [
          "golddiffat10 - -43.05 | 7",
          "xpdiffat10 - -33.65 | 6",
          "csdiffat10 - -2.85 | 8",
          "golddiffat15 - -258.3 | 7",
          "xpdiffat15 - -160.05 | 8",
          "csdiffat15 - -2.4 | 6"
         ],
         "type": "scatterpolar"
        },
        {
         "fill": "toself",
         "name": "Canna",
         "r": [
          0.24508320726172467,
          0.4580615804641286,
          0.5076157442316392,
          0.34784580853543134,
          0.10408637493375839,
          0,
          0
         ],
         "subplot": "polar4",
         "theta": [
          "kills - 1.26 | 8",
          "deaths - 2.11 | 5",
          "assists - 4.37 | 6",
          "kda - 3.76 | 7",
          "dpm - 443.95 | 8",
          "damageshare - 0.21 | 10",
          "damagetakenperminute - 775.45 | 10"
         ],
         "type": "scatterpolar"
        },
        {
         "fill": "toself",
         "name": "Canna",
         "r": [
          0.6015037593984962,
          0.8,
          0.2902185143188487,
          0.24523716771476822,
          0.5016685205784205,
          0.17415842076475574,
          0.15105681106176494,
          0.1675426203888421,
          0,
          0.01575745799364814,
          0.666666666666667
         ],
         "subplot": "polar5",
         "theta": [
          "firstblood - 0.21 | 4",
          "firstbloodvictim - 0.21 | 2",
          "wpm - 0.37 | 6",
          "wcpm - 0.17 | 4",
          "controlwardsbought - 6.84 | 6",
          "vspm - 0.99 | 9",
          "gpm - 366.75 | 9",
          "gdpm - -28.45 | 7",
          "goldshare - 0.2 | 10",
          "cspm - 7.9 | 9",
          "champions - 9.0 | 3"
         ],
         "type": "scatterpolar"
        },
        {
         "fill": "toself",
         "name": "Canna",
         "r": [
          0.44691615152253705,
          0.861716838634188,
          0.34193380244983057,
          0.4197821197778138,
          0.6837594461287843,
          0.18285714285714283
         ],
         "subplot": "polar6",
         "theta": [
          "golddiffat10 - 5.47 | 6",
          "xpdiffat10 - 167.16 | 2",
          "csdiffat10 - -0.37 | 4",
          "golddiffat15 - 2.21 | 6",
          "xpdiffat15 - 88.74 | 4",
          "csdiffat15 - -3.53 | 7"
         ],
         "type": "scatterpolar"
        },
        {
         "fill": "toself",
         "name": "Doran",
         "r": [
          0.626323751891074,
          0.4034582132564841,
          0.5890514251244156,
          0.5443625016618829,
          0.3969687569207254,
          0.5011401923817669,
          0.18756532582930863
         ],
         "subplot": "polar7",
         "theta": [
          "kills - 2.0 | 5",
          "deaths - 2.0 | 7",
          "assists - 4.68 | 3",
          "kda - 4.99 | 4",
          "dpm - 496.17 | 3",
          "damageshare - 0.24 | 5",
          "damagetakenperminute - 802.97 | 7"
         ],
         "type": "scatterpolar"
        },
        {
         "fill": "toself",
         "name": "Doran",
         "r": [
          0.45112781954887216,
          0.6,
          0.2734518677587263,
          0.05797020795073027,
          0.2525027808676308,
          0,
          0.8402843940469165,
          0.9288609055079664,
          0.524010774088234,
          0.4815450813608697,
          0
         ],
         "subplot": "polar8",
         "theta": [
          "firstblood - 0.16 | 5",
          "firstbloodvictim - 0.16 | 5",
          "wpm - 0.37 | 8",
          "wcpm - 0.15 | 9",
          "controlwardsbought - 5.37 | 8",
          "vspm - 0.96 | 10",
          "gpm - 412.13 | 2",
          "gdpm - 52.1 | 2",
          "goldshare - 0.21 | 5",
          "cspm - 8.42 | 6",
          "champions - 7.0 | 9"
         ],
         "type": "scatterpolar"
        },
        {
         "fill": "toself",
         "name": "Doran",
         "r": [
          0.5851741888787952,
          0.031561991885361795,
          0.33359395360959077,
          0.5754316698077897,
          0.4815421512285625,
          0.3813877551020408
         ],
         "subplot": "polar9",
         "theta": [
          "golddiffat10 - 67.05 | 4",
          "xpdiffat10 - -120.37 | 9",
          "csdiffat10 - -0.47 | 5",
          "golddiffat15 - 156.79 | 4",
          "xpdiffat15 - -58.26 | 6",
          "csdiffat15 - 0.47 | 5"
         ],
         "type": "scatterpolar"
        },
        {
         "fill": "toself",
         "name": "Kingen",
         "r": [
          0.19062027231467477,
          0.34885484604883965,
          0.5483335846780274,
          0.3896548757693541,
          0.22621150595885942,
          0.3166136914530151,
          0.22538702551135525
         ],
         "subplot": "polar10",
         "theta": [
          "kills - 1.16 | 9",
          "deaths - 1.89 | 8",
          "assists - 4.53 | 4",
          "kda - 4.03 | 5",
          "dpm - 465.73 | 5",
          "damageshare - 0.23 | 7",
          "damagetakenperminute - 808.52 | 6"
         ],
         "type": "scatterpolar"
        },
        {
         "fill": "toself",
         "name": "Kingen",
         "r": [
          0,
          0.2,
          0.7187999464371488,
          0.1968668262006792,
          0.9021134593993329,
          1,
          0.33383436914127795,
          0.3554301193575429,
          0.3156895199719454,
          0.45086646824160503,
          0.666666666666667
         ],
         "subplot": "polar11",
         "theta": [
          "firstblood - 0.0 | 10",
          "firstbloodvictim - 0.05 | 9",
          "wpm - 0.49 | 2",
          "wcpm - 0.17 | 6",
          "controlwardsbought - 9.21 | 2",
          "vspm - 1.17 | 1",
          "gpm - 378.79 | 6",
          "gdpm - -8.57 | 5",
          "goldshare - 0.21 | 7",
          "cspm - 8.38 | 7",
          "champions - 9.0 | 3"
         ],
         "type": "scatterpolar"
        },
        {
         "fill": "toself",
         "name": "Kingen",
         "r": [
          0.051521798536178276,
          0.29718722932210867,
          0.1125879593432369,
          0.09295516198589643,
          0.67775012444002,
          0.06008163265306121
         ],
         "subplot": "polar12",
         "theta": [
          "golddiffat10 - -170.63 | 9",
          "xpdiffat10 - -28.37 | 5",
          "csdiffat10 - -3.26 | 9",
          "golddiffat15 - -322.37 | 9",
          "xpdiffat15 - 84.37 | 5",
          "csdiffat15 - -6.0 | 8"
         ],
         "type": "scatterpolar"
        },
        {
         "fill": "toself",
         "name": "Kiin",
         "r": [
          1,
          0,
          0.9999999999999999,
          0.9999999999999999,
          0.38158723632010316,
          0.6201555364991709,
          0.04316311766795078
         ],
         "subplot": "polar13",
         "theta": [
          "kills - 2.72 | 1",
          "deaths - 1.22 | 10",
          "assists - 6.28 | 1",
          "kda - 7.83 | 1",
          "dpm - 493.43 | 4",
          "damageshare - 0.24 | 4",
          "damagetakenperminute - 781.78 | 9"
         ],
         "type": "scatterpolar"
        },
        {
         "fill": "toself",
         "name": "Kiin",
         "r": [
          0.6349206349206349,
          0.2111111111111111,
          0.41746987055507856,
          0.19254611336808458,
          0.2277839574836239,
          0.43303416040972653,
          1,
          1,
          0.7250561656967438,
          0.7997677723956853,
          1
         ],
         "subplot": "polar14",
         "theta": [
          "firstblood - 0.22 | 3",
          "firstbloodvictim - 0.06 | 8",
          "wpm - 0.41 | 4",
          "wcpm - 0.17 | 7",
          "controlwardsbought - 5.22 | 9",
          "vspm - 1.05 | 5",
          "gpm - 422.64 | 1",
          "gdpm - 59.63 | 1",
          "goldshare - 0.22 | 4",
          "cspm - 8.77 | 3",
          "champions - 10.0 | 1"
         ],
         "type": "scatterpolar"
        },
        {
         "fill": "toself",
         "name": "Kiin",
         "r": [
          0.6595223499927375,
          0.49169541234215214,
          0.5031708800277994,
          0.8170821156190919,
          0.9908100416811221,
          0.6501587301587302
         ],
         "subplot": "polar15",
         "theta": [
          "golddiffat10 - 100.17 | 3",
          "xpdiffat10 - 39.0 | 4",
          "csdiffat10 - 1.67 | 3",
          "golddiffat15 - 396.78 | 2",
          "xpdiffat15 - 311.94 | 2",
          "csdiffat15 - 5.89 | 3"
         ],
         "type": "scatterpolar"
        },
        {
         "fill": "toself",
         "name": "DuDu",
         "r": [
          0.9820347957639939,
          0.27377521613832845,
          0.4770773638968481,
          0.6032224889924688,
          1,
          1,
          1
         ],
         "subplot": "polar16",
         "theta": [
          "kills - 2.69 | 2",
          "deaths - 1.75 | 9",
          "assists - 4.25 | 7",
          "kda - 5.36 | 2",
          "dpm - 603.7 | 1",
          "damageshare - 0.26 | 1",
          "damagetakenperminute - 922.18 | 1"
         ],
         "type": "scatterpolar"
        },
        {
         "fill": "toself",
         "name": "DuDu",
         "r": [
          0.8928571428571429,
          0,
          0,
          0.643730174188881,
          0,
          0.3254795261299783,
          0.7194965144952814,
          0.7905858864208426,
          0.950250173953993,
          1.0000000000000009,
          0
         ],
         "subplot": "polar17",
         "theta": [
          "firstblood - 0.31 | 2",
          "firstbloodvictim - 0.0 | 10",
          "wpm - 0.29 | 10",
          "wcpm - 0.22 | 3",
          "controlwardsbought - 3.88 | 10",
          "vspm - 1.02 | 8",
          "gpm - 404.18 | 3",
          "gdpm - 37.47 | 4",
          "goldshare - 0.22 | 2",
          "cspm - 9.0 | 1",
          "champions - 7.0 | 9"
         ],
         "type": "scatterpolar"
        },
        {
         "fill": "toself",
         "name": "DuDu",
         "r": [
          0.9999999999999999,
          0.8491706809306001,
          0.9999999999999999,
          1,
          1.0000000000000002,
          1
         ],
         "subplot": "polar18",
         "theta": [
          "golddiffat10 - 251.81 | 1",
          "xpdiffat10 - 162.81 | 3",
          "csdiffat10 - 7.94 | 1",
          "golddiffat15 - 578.44 | 1",
          "xpdiffat15 - 318.62 | 1",
          "csdiffat15 - 12.94 | 1"
         ],
         "type": "scatterpolar"
        },
        {
         "fill": "toself",
         "name": "Burdol",
         "r": [
          0.7080181543116488,
          0.6764750492947065,
          0.5347609711958979,
          0.3482681223458749,
          0.19688761869501636,
          0.3993288380879454,
          0.33017318221199154
         ],
         "subplot": "polar19",
         "theta": [
          "kills - 2.16 | 3",
          "deaths - 2.53 | 3",
          "assists - 4.47 | 5",
          "kda - 3.77 | 6",
          "dpm - 460.5 | 6",
          "damageshare - 0.23 | 6",
          "damagetakenperminute - 823.9 | 5"
         ],
         "type": "scatterpolar"
        },
        {
         "fill": "toself",
         "name": "Burdol",
         "r": [
          0.45112781954887216,
          0.4,
          0.4716835565733042,
          0.10165655666240037,
          0.7953281423804229,
          0.43682561782109275,
          0.21220024330508824,
          0.11242826739581091,
          0.29637592750686714,
          0,
          0.3333333333333335
         ],
         "subplot": "polar20",
         "theta": [
          "firstblood - 0.16 | 5",
          "firstbloodvictim - 0.11 | 7",
          "wpm - 0.42 | 3",
          "wcpm - 0.16 | 8",
          "controlwardsbought - 8.58 | 4",
          "vspm - 1.05 | 4",
          "gpm - 370.78 | 7",
          "gdpm - -34.29 | 8",
          "goldshare - 0.21 | 8",
          "cspm - 7.88 | 10",
          "champions - 8.0 | 5"
         ],
         "type": "scatterpolar"
        },
        {
         "fill": "toself",
         "name": "Burdol",
         "r": [
          0,
          0.035968817906909645,
          0,
          0.09608193197287929,
          0.2718675053169828,
          0
         ],
         "subplot": "polar21",
         "theta": [
          "golddiffat10 - -193.58 | 10",
          "xpdiffat10 - -118.84 | 8",
          "csdiffat10 - -4.68 | 10",
          "golddiffat15 - -319.26 | 8",
          "xpdiffat15 - -210.68 | 9",
          "csdiffat15 - -7.21 | 10"
         ],
         "type": "scatterpolar"
        },
        {
         "fill": "toself",
         "name": "DnDn",
         "r": [
          0,
          0.8129834673138177,
          0.005429045392851717,
          0,
          0.16565851220388117,
          0.8109130584806232,
          0.849503395237047
         ],
         "subplot": "polar22",
         "theta": [
          "kills - 0.79 | 10",
          "deaths - 2.79 | 2",
          "assists - 2.42 | 9",
          "kda - 1.6 | 10",
          "dpm - 454.93 | 7",
          "damageshare - 0.25 | 3",
          "damagetakenperminute - 900.1 | 3"
         ],
         "type": "scatterpolar"
        },
        {
         "fill": "toself",
         "name": "DnDn",
         "r": [
          0.15037593984962405,
          0.8,
          0.9999999999999998,
          0,
          1,
          0.5560887076724192,
          0,
          0,
          0.3538590851409307,
          0.507555518019049,
          0.3333333333333335
         ],
         "subplot": "polar23",
         "theta": [
          "firstblood - 0.05 | 8",
          "firstbloodvictim - 0.21 | 2",
          "wpm - 0.56 | 1",
          "wcpm - 0.15 | 10",
          "controlwardsbought - 9.79 | 1",
          "vspm - 1.07 | 3",
          "gpm - 356.81 | 10",
          "gdpm - -46.18 | 10",
          "goldshare - 0.21 | 6",
          "cspm - 8.45 | 5",
          "champions - 8.0 | 5"
         ],
         "type": "scatterpolar"
        },
        {
         "fill": "toself",
         "name": "DnDn",
         "r": [
          0.11958729385002836,
          0.04690990320178712,
          0.3002345582486317,
          0,
          0,
          0.01828571428571424
         ],
         "subplot": "polar24",
         "theta": [
          "golddiffat10 - -140.32 | 8",
          "xpdiffat10 - -115.05 | 7",
          "csdiffat10 - -0.89 | 7",
          "golddiffat15 - -414.68 | 10",
          "xpdiffat15 - -408.32 | 10",
          "csdiffat15 - -6.84 | 9"
         ],
         "type": "scatterpolar"
        },
        {
         "fill": "toself",
         "name": "Morgan",
         "r": [
          0.3158850226928895,
          0.6368876080691643,
          0,
          0.12850003742728217,
          0.07671189998976713,
          0.8331597930463497,
          0.4878015912870959
         ],
         "subplot": "polar25",
         "theta": [
          "kills - 1.4 | 7",
          "deaths - 2.45 | 4",
          "assists - 2.4 | 10",
          "kda - 2.4 | 8",
          "dpm - 439.07 | 9",
          "damageshare - 0.25 | 2",
          "damagetakenperminute - 847.03 | 4"
         ],
         "type": "scatterpolar"
        },
        {
         "fill": "toself",
         "name": "Morgan",
         "r": [
          1,
          0.5700000000000001,
          0.2894873076927802,
          1.0000000000000002,
          0.8157953281423805,
          0.7938130873651241,
          0.38821397699245175,
          0.23052557687489938,
          1,
          0.871904564613109,
          0.3333333333333335
         ],
         "subplot": "polar26",
         "theta": [
          "firstblood - 0.35 | 1",
          "firstbloodvictim - 0.15 | 6",
          "wpm - 0.37 | 7",
          "wcpm - 0.26 | 1",
          "controlwardsbought - 8.7 | 3",
          "vspm - 1.12 | 2",
          "gpm - 382.37 | 5",
          "gdpm - -21.79 | 6",
          "goldshare - 0.22 | 1",
          "cspm - 8.85 | 2",
          "champions - 8.0 | 5"
         ],
         "type": "scatterpolar"
        },
        {
         "fill": "toself",
         "name": "Morgan",
         "r": [
          0.5084941543142859,
          0,
          0.3077404222048475,
          0.5162853707574137,
          0.3842345807502603,
          0.4348081632653061
         ],
         "subplot": "polar27",
         "theta": [
          "golddiffat10 - 32.9 | 5",
          "xpdiffat10 - -131.3 | 10",
          "csdiffat10 - -0.8 | 6",
          "golddiffat15 - 98.05 | 5",
          "xpdiffat15 - -129.0 | 7",
          "csdiffat15 - 1.55 | 4"
         ],
         "type": "scatterpolar"
        },
        {
         "fill": "toself",
         "name": "Zeus",
         "r": [
          0.6807866868381238,
          0.43075989686030636,
          0.8469310812848739,
          0.5784291490376718,
          0.5020029993779453,
          0.24692863822616484,
          0.06846623536976004
         ],
         "subplot": "polar28",
         "theta": [
          "kills - 2.11 | 4",
          "deaths - 2.05 | 6",
          "assists - 5.68 | 2",
          "kda - 5.2 | 3",
          "dpm - 514.9 | 2",
          "damageshare - 0.22 | 9",
          "damagetakenperminute - 785.5 | 8"
         ],
         "type": "scatterpolar"
        },
        {
         "fill": "toself",
         "name": "Zeus",
         "r": [
          0.15037593984962405,
          1,
          0.37570285885574495,
          0.1990928821859872,
          0.5728587319243607,
          0.3987867336283628,
          0.575559753999733,
          0.7934118400888384,
          0.1740833995372988,
          0.546181370822068,
          0.3333333333333335
         ],
         "subplot": "polar29",
         "theta": [
          "firstblood - 0.05 | 8",
          "firstbloodvictim - 0.26 | 1",
          "wpm - 0.4 | 5",
          "wcpm - 0.17 | 5",
          "controlwardsbought - 7.26 | 5",
          "vspm - 1.04 | 7",
          "gpm - 394.7 | 4",
          "gdpm - 37.77 | 3",
          "goldshare - 0.21 | 9",
          "cspm - 8.49 | 4",
          "champions - 8.0 | 5"
         ],
         "type": "scatterpolar"
        },
        {
         "fill": "toself",
         "name": "Zeus",
         "r": [
          0.7393850766992369,
          1,
          0.7881157154026583,
          0.6219622469022122,
          0.8981401873387937,
          0.7314285714285713
         ],
         "subplot": "polar30",
         "theta": [
          "golddiffat10 - 135.74 | 2",
          "xpdiffat10 - 215.05 | 1",
          "csdiffat10 - 5.26 | 2",
          "golddiffat15 - 203.0 | 3",
          "xpdiffat15 - 244.58 | 3",
          "csdiffat15 - 7.53 | 2"
         ],
         "type": "scatterpolar"
        }
       ],
       "layout": {
        "annotations": [
         {
          "font": {
           "size": 16
          },
          "showarrow": false,
          "text": "Rascal",
          "x": 0.14444444444444446,
          "xanchor": "center",
          "xref": "paper",
          "y": 1,
          "yanchor": "bottom",
          "yref": "paper",
          "yshift": 20
         },
         {
          "font": {
           "size": 16
          },
          "showarrow": false,
          "text": "Rascal",
          "x": 0.5,
          "xanchor": "center",
          "xref": "paper",
          "y": 1,
          "yanchor": "bottom",
          "yref": "paper",
          "yshift": 20
         },
         {
          "font": {
           "size": 16
          },
          "showarrow": false,
          "text": "Rascal",
          "x": 0.8555555555555556,
          "xanchor": "center",
          "xref": "paper",
          "y": 1,
          "yanchor": "bottom",
          "yref": "paper",
          "yshift": 20
         },
         {
          "font": {
           "size": 16
          },
          "showarrow": false,
          "text": "Canna",
          "x": 0.14444444444444446,
          "xanchor": "center",
          "xref": "paper",
          "y": 0.8950000000000001,
          "yanchor": "bottom",
          "yref": "paper",
          "yshift": 20
         },
         {
          "font": {
           "size": 16
          },
          "showarrow": false,
          "text": "Canna",
          "x": 0.5,
          "xanchor": "center",
          "xref": "paper",
          "y": 0.8950000000000001,
          "yanchor": "bottom",
          "yref": "paper",
          "yshift": 20
         },
         {
          "font": {
           "size": 16
          },
          "showarrow": false,
          "text": "Canna",
          "x": 0.8555555555555556,
          "xanchor": "center",
          "xref": "paper",
          "y": 0.8950000000000001,
          "yanchor": "bottom",
          "yref": "paper",
          "yshift": 20
         },
         {
          "font": {
           "size": 16
          },
          "showarrow": false,
          "text": "Doran",
          "x": 0.14444444444444446,
          "xanchor": "center",
          "xref": "paper",
          "y": 0.7900000000000001,
          "yanchor": "bottom",
          "yref": "paper",
          "yshift": 20
         },
         {
          "font": {
           "size": 16
          },
          "showarrow": false,
          "text": "Doran",
          "x": 0.5,
          "xanchor": "center",
          "xref": "paper",
          "y": 0.7900000000000001,
          "yanchor": "bottom",
          "yref": "paper",
          "yshift": 20
         },
         {
          "font": {
           "size": 16
          },
          "showarrow": false,
          "text": "Doran",
          "x": 0.8555555555555556,
          "xanchor": "center",
          "xref": "paper",
          "y": 0.7900000000000001,
          "yanchor": "bottom",
          "yref": "paper",
          "yshift": 20
         },
         {
          "font": {
           "size": 16
          },
          "showarrow": false,
          "text": "Kingen",
          "x": 0.14444444444444446,
          "xanchor": "center",
          "xref": "paper",
          "y": 0.6850000000000002,
          "yanchor": "bottom",
          "yref": "paper",
          "yshift": 20
         },
         {
          "font": {
           "size": 16
          },
          "showarrow": false,
          "text": "Kingen",
          "x": 0.5,
          "xanchor": "center",
          "xref": "paper",
          "y": 0.6850000000000002,
          "yanchor": "bottom",
          "yref": "paper",
          "yshift": 20
         },
         {
          "font": {
           "size": 16
          },
          "showarrow": false,
          "text": "Kingen",
          "x": 0.8555555555555556,
          "xanchor": "center",
          "xref": "paper",
          "y": 0.6850000000000002,
          "yanchor": "bottom",
          "yref": "paper",
          "yshift": 20
         },
         {
          "font": {
           "size": 16
          },
          "showarrow": false,
          "text": "Kiin",
          "x": 0.14444444444444446,
          "xanchor": "center",
          "xref": "paper",
          "y": 0.5800000000000001,
          "yanchor": "bottom",
          "yref": "paper",
          "yshift": 20
         },
         {
          "font": {
           "size": 16
          },
          "showarrow": false,
          "text": "Kiin",
          "x": 0.5,
          "xanchor": "center",
          "xref": "paper",
          "y": 0.5800000000000001,
          "yanchor": "bottom",
          "yref": "paper",
          "yshift": 20
         },
         {
          "font": {
           "size": 16
          },
          "showarrow": false,
          "text": "Kiin",
          "x": 0.8555555555555556,
          "xanchor": "center",
          "xref": "paper",
          "y": 0.5800000000000001,
          "yanchor": "bottom",
          "yref": "paper",
          "yshift": 20
         },
         {
          "font": {
           "size": 16
          },
          "showarrow": false,
          "text": "DuDu",
          "x": 0.14444444444444446,
          "xanchor": "center",
          "xref": "paper",
          "y": 0.47500000000000003,
          "yanchor": "bottom",
          "yref": "paper",
          "yshift": 20
         },
         {
          "font": {
           "size": 16
          },
          "showarrow": false,
          "text": "DuDu",
          "x": 0.5,
          "xanchor": "center",
          "xref": "paper",
          "y": 0.47500000000000003,
          "yanchor": "bottom",
          "yref": "paper",
          "yshift": 20
         },
         {
          "font": {
           "size": 16
          },
          "showarrow": false,
          "text": "DuDu",
          "x": 0.8555555555555556,
          "xanchor": "center",
          "xref": "paper",
          "y": 0.47500000000000003,
          "yanchor": "bottom",
          "yref": "paper",
          "yshift": 20
         },
         {
          "font": {
           "size": 16
          },
          "showarrow": false,
          "text": "Burdol",
          "x": 0.14444444444444446,
          "xanchor": "center",
          "xref": "paper",
          "y": 0.37000000000000005,
          "yanchor": "bottom",
          "yref": "paper",
          "yshift": 20
         },
         {
          "font": {
           "size": 16
          },
          "showarrow": false,
          "text": "Burdol",
          "x": 0.5,
          "xanchor": "center",
          "xref": "paper",
          "y": 0.37000000000000005,
          "yanchor": "bottom",
          "yref": "paper",
          "yshift": 20
         },
         {
          "font": {
           "size": 16
          },
          "showarrow": false,
          "text": "Burdol",
          "x": 0.8555555555555556,
          "xanchor": "center",
          "xref": "paper",
          "y": 0.37000000000000005,
          "yanchor": "bottom",
          "yref": "paper",
          "yshift": 20
         },
         {
          "font": {
           "size": 16
          },
          "showarrow": false,
          "text": "DnDn",
          "x": 0.14444444444444446,
          "xanchor": "center",
          "xref": "paper",
          "y": 0.265,
          "yanchor": "bottom",
          "yref": "paper",
          "yshift": 20
         },
         {
          "font": {
           "size": 16
          },
          "showarrow": false,
          "text": "DnDn",
          "x": 0.5,
          "xanchor": "center",
          "xref": "paper",
          "y": 0.265,
          "yanchor": "bottom",
          "yref": "paper",
          "yshift": 20
         },
         {
          "font": {
           "size": 16
          },
          "showarrow": false,
          "text": "DnDn",
          "x": 0.8555555555555556,
          "xanchor": "center",
          "xref": "paper",
          "y": 0.265,
          "yanchor": "bottom",
          "yref": "paper",
          "yshift": 20
         },
         {
          "font": {
           "size": 16
          },
          "showarrow": false,
          "text": "Morgan",
          "x": 0.14444444444444446,
          "xanchor": "center",
          "xref": "paper",
          "y": 0.16000000000000003,
          "yanchor": "bottom",
          "yref": "paper",
          "yshift": 20
         },
         {
          "font": {
           "size": 16
          },
          "showarrow": false,
          "text": "Morgan",
          "x": 0.5,
          "xanchor": "center",
          "xref": "paper",
          "y": 0.16000000000000003,
          "yanchor": "bottom",
          "yref": "paper",
          "yshift": 20
         },
         {
          "font": {
           "size": 16
          },
          "showarrow": false,
          "text": "Morgan",
          "x": 0.8555555555555556,
          "xanchor": "center",
          "xref": "paper",
          "y": 0.16000000000000003,
          "yanchor": "bottom",
          "yref": "paper",
          "yshift": 20
         },
         {
          "font": {
           "size": 16
          },
          "showarrow": false,
          "text": "Zeus",
          "x": 0.14444444444444446,
          "xanchor": "center",
          "xref": "paper",
          "y": 0.05500000000000001,
          "yanchor": "bottom",
          "yref": "paper",
          "yshift": 20
         },
         {
          "font": {
           "size": 16
          },
          "showarrow": false,
          "text": "Zeus",
          "x": 0.5,
          "xanchor": "center",
          "xref": "paper",
          "y": 0.05500000000000001,
          "yanchor": "bottom",
          "yref": "paper",
          "yshift": 20
         },
         {
          "font": {
           "size": 16
          },
          "showarrow": false,
          "text": "Zeus",
          "x": 0.8555555555555556,
          "xanchor": "center",
          "xref": "paper",
          "y": 0.05500000000000001,
          "yanchor": "bottom",
          "yref": "paper",
          "yshift": 20
         }
        ],
        "height": 3500,
        "polar": {
         "domain": {
          "x": [
           0,
           0.2888888888888889
          ],
          "y": [
           0.9450000000000001,
           1
          ]
         },
         "radialaxis": {
          "range": [
           -0.2,
           1.2
          ],
          "visible": false
         }
        },
        "polar10": {
         "domain": {
          "x": [
           0,
           0.2888888888888889
          ],
          "y": [
           0.6300000000000001,
           0.6850000000000002
          ]
         },
         "radialaxis": {
          "range": [
           -0.2,
           1.2
          ],
          "visible": false
         }
        },
        "polar11": {
         "domain": {
          "x": [
           0.35555555555555557,
           0.6444444444444445
          ],
          "y": [
           0.6300000000000001,
           0.6850000000000002
          ]
         },
         "radialaxis": {
          "range": [
           -0.2,
           1.2
          ],
          "visible": false
         }
        },
        "polar12": {
         "domain": {
          "x": [
           0.7111111111111111,
           1
          ],
          "y": [
           0.6300000000000001,
           0.6850000000000002
          ]
         },
         "radialaxis": {
          "range": [
           -0.2,
           1.2
          ],
          "visible": false
         }
        },
        "polar13": {
         "domain": {
          "x": [
           0,
           0.2888888888888889
          ],
          "y": [
           0.525,
           0.5800000000000001
          ]
         },
         "radialaxis": {
          "range": [
           -0.2,
           1.2
          ],
          "visible": false
         }
        },
        "polar14": {
         "domain": {
          "x": [
           0.35555555555555557,
           0.6444444444444445
          ],
          "y": [
           0.525,
           0.5800000000000001
          ]
         },
         "radialaxis": {
          "range": [
           -0.2,
           1.2
          ],
          "visible": false
         }
        },
        "polar15": {
         "domain": {
          "x": [
           0.7111111111111111,
           1
          ],
          "y": [
           0.525,
           0.5800000000000001
          ]
         },
         "radialaxis": {
          "range": [
           -0.2,
           1.2
          ],
          "visible": false
         }
        },
        "polar16": {
         "domain": {
          "x": [
           0,
           0.2888888888888889
          ],
          "y": [
           0.42000000000000004,
           0.47500000000000003
          ]
         },
         "radialaxis": {
          "range": [
           -0.2,
           1.2
          ],
          "visible": false
         }
        },
        "polar17": {
         "domain": {
          "x": [
           0.35555555555555557,
           0.6444444444444445
          ],
          "y": [
           0.42000000000000004,
           0.47500000000000003
          ]
         },
         "radialaxis": {
          "range": [
           -0.2,
           1.2
          ],
          "visible": false
         }
        },
        "polar18": {
         "domain": {
          "x": [
           0.7111111111111111,
           1
          ],
          "y": [
           0.42000000000000004,
           0.47500000000000003
          ]
         },
         "radialaxis": {
          "range": [
           -0.2,
           1.2
          ],
          "visible": false
         }
        },
        "polar19": {
         "domain": {
          "x": [
           0,
           0.2888888888888889
          ],
          "y": [
           0.31500000000000006,
           0.37000000000000005
          ]
         },
         "radialaxis": {
          "range": [
           -0.2,
           1.2
          ],
          "visible": false
         }
        },
        "polar2": {
         "domain": {
          "x": [
           0.35555555555555557,
           0.6444444444444445
          ],
          "y": [
           0.9450000000000001,
           1
          ]
         },
         "radialaxis": {
          "range": [
           -0.2,
           1.2
          ],
          "visible": false
         }
        },
        "polar20": {
         "domain": {
          "x": [
           0.35555555555555557,
           0.6444444444444445
          ],
          "y": [
           0.31500000000000006,
           0.37000000000000005
          ]
         },
         "radialaxis": {
          "range": [
           -0.2,
           1.2
          ],
          "visible": false
         }
        },
        "polar21": {
         "domain": {
          "x": [
           0.7111111111111111,
           1
          ],
          "y": [
           0.31500000000000006,
           0.37000000000000005
          ]
         },
         "radialaxis": {
          "range": [
           -0.2,
           1.2
          ],
          "visible": false
         }
        },
        "polar22": {
         "domain": {
          "x": [
           0,
           0.2888888888888889
          ],
          "y": [
           0.21000000000000002,
           0.265
          ]
         },
         "radialaxis": {
          "range": [
           -0.2,
           1.2
          ],
          "visible": false
         }
        },
        "polar23": {
         "domain": {
          "x": [
           0.35555555555555557,
           0.6444444444444445
          ],
          "y": [
           0.21000000000000002,
           0.265
          ]
         },
         "radialaxis": {
          "range": [
           -0.2,
           1.2
          ],
          "visible": false
         }
        },
        "polar24": {
         "domain": {
          "x": [
           0.7111111111111111,
           1
          ],
          "y": [
           0.21000000000000002,
           0.265
          ]
         },
         "radialaxis": {
          "range": [
           -0.2,
           1.2
          ],
          "visible": false
         }
        },
        "polar25": {
         "domain": {
          "x": [
           0,
           0.2888888888888889
          ],
          "y": [
           0.10500000000000001,
           0.16000000000000003
          ]
         },
         "radialaxis": {
          "range": [
           -0.2,
           1.2
          ],
          "visible": false
         }
        },
        "polar26": {
         "domain": {
          "x": [
           0.35555555555555557,
           0.6444444444444445
          ],
          "y": [
           0.10500000000000001,
           0.16000000000000003
          ]
         },
         "radialaxis": {
          "range": [
           -0.2,
           1.2
          ],
          "visible": false
         }
        },
        "polar27": {
         "domain": {
          "x": [
           0.7111111111111111,
           1
          ],
          "y": [
           0.10500000000000001,
           0.16000000000000003
          ]
         },
         "radialaxis": {
          "range": [
           -0.2,
           1.2
          ],
          "visible": false
         }
        },
        "polar28": {
         "domain": {
          "x": [
           0,
           0.2888888888888889
          ],
          "y": [
           0,
           0.05500000000000001
          ]
         },
         "radialaxis": {
          "range": [
           -0.2,
           1.2
          ],
          "visible": false
         }
        },
        "polar29": {
         "domain": {
          "x": [
           0.35555555555555557,
           0.6444444444444445
          ],
          "y": [
           0,
           0.05500000000000001
          ]
         },
         "radialaxis": {
          "range": [
           -0.2,
           1.2
          ],
          "visible": false
         }
        },
        "polar3": {
         "domain": {
          "x": [
           0.7111111111111111,
           1
          ],
          "y": [
           0.9450000000000001,
           1
          ]
         },
         "radialaxis": {
          "range": [
           -0.2,
           1.2
          ],
          "visible": false
         }
        },
        "polar30": {
         "domain": {
          "x": [
           0.7111111111111111,
           1
          ],
          "y": [
           0,
           0.05500000000000001
          ]
         },
         "radialaxis": {
          "range": [
           -0.2,
           1.2
          ],
          "visible": false
         }
        },
        "polar4": {
         "domain": {
          "x": [
           0,
           0.2888888888888889
          ],
          "y": [
           0.8400000000000001,
           0.8950000000000001
          ]
         },
         "radialaxis": {
          "range": [
           -0.2,
           1.2
          ],
          "visible": false
         }
        },
        "polar5": {
         "domain": {
          "x": [
           0.35555555555555557,
           0.6444444444444445
          ],
          "y": [
           0.8400000000000001,
           0.8950000000000001
          ]
         },
         "radialaxis": {
          "range": [
           -0.2,
           1.2
          ],
          "visible": false
         }
        },
        "polar6": {
         "domain": {
          "x": [
           0.7111111111111111,
           1
          ],
          "y": [
           0.8400000000000001,
           0.8950000000000001
          ]
         },
         "radialaxis": {
          "range": [
           -0.2,
           1.2
          ],
          "visible": false
         }
        },
        "polar7": {
         "domain": {
          "x": [
           0,
           0.2888888888888889
          ],
          "y": [
           0.7350000000000001,
           0.7900000000000001
          ]
         },
         "radialaxis": {
          "range": [
           -0.2,
           1.2
          ],
          "visible": false
         }
        },
        "polar8": {
         "domain": {
          "x": [
           0.35555555555555557,
           0.6444444444444445
          ],
          "y": [
           0.7350000000000001,
           0.7900000000000001
          ]
         },
         "radialaxis": {
          "range": [
           -0.2,
           1.2
          ],
          "visible": false
         }
        },
        "polar9": {
         "domain": {
          "x": [
           0.7111111111111111,
           1
          ],
          "y": [
           0.7350000000000001,
           0.7900000000000001
          ]
         },
         "radialaxis": {
          "range": [
           -0.2,
           1.2
          ],
          "visible": false
         }
        },
        "showlegend": false,
        "template": {
         "data": {
          "bar": [
           {
            "error_x": {
             "color": "#2a3f5f"
            },
            "error_y": {
             "color": "#2a3f5f"
            },
            "marker": {
             "line": {
              "color": "#E5ECF6",
              "width": 0.5
             },
             "pattern": {
              "fillmode": "overlay",
              "size": 10,
              "solidity": 0.2
             }
            },
            "type": "bar"
           }
          ],
          "barpolar": [
           {
            "marker": {
             "line": {
              "color": "#E5ECF6",
              "width": 0.5
             },
             "pattern": {
              "fillmode": "overlay",
              "size": 10,
              "solidity": 0.2
             }
            },
            "type": "barpolar"
           }
          ],
          "carpet": [
           {
            "aaxis": {
             "endlinecolor": "#2a3f5f",
             "gridcolor": "white",
             "linecolor": "white",
             "minorgridcolor": "white",
             "startlinecolor": "#2a3f5f"
            },
            "baxis": {
             "endlinecolor": "#2a3f5f",
             "gridcolor": "white",
             "linecolor": "white",
             "minorgridcolor": "white",
             "startlinecolor": "#2a3f5f"
            },
            "type": "carpet"
           }
          ],
          "choropleth": [
           {
            "colorbar": {
             "outlinewidth": 0,
             "ticks": ""
            },
            "type": "choropleth"
           }
          ],
          "contour": [
           {
            "colorbar": {
             "outlinewidth": 0,
             "ticks": ""
            },
            "colorscale": [
             [
              0,
              "#0d0887"
             ],
             [
              0.1111111111111111,
              "#46039f"
             ],
             [
              0.2222222222222222,
              "#7201a8"
             ],
             [
              0.3333333333333333,
              "#9c179e"
             ],
             [
              0.4444444444444444,
              "#bd3786"
             ],
             [
              0.5555555555555556,
              "#d8576b"
             ],
             [
              0.6666666666666666,
              "#ed7953"
             ],
             [
              0.7777777777777778,
              "#fb9f3a"
             ],
             [
              0.8888888888888888,
              "#fdca26"
             ],
             [
              1,
              "#f0f921"
             ]
            ],
            "type": "contour"
           }
          ],
          "contourcarpet": [
           {
            "colorbar": {
             "outlinewidth": 0,
             "ticks": ""
            },
            "type": "contourcarpet"
           }
          ],
          "heatmap": [
           {
            "colorbar": {
             "outlinewidth": 0,
             "ticks": ""
            },
            "colorscale": [
             [
              0,
              "#0d0887"
             ],
             [
              0.1111111111111111,
              "#46039f"
             ],
             [
              0.2222222222222222,
              "#7201a8"
             ],
             [
              0.3333333333333333,
              "#9c179e"
             ],
             [
              0.4444444444444444,
              "#bd3786"
             ],
             [
              0.5555555555555556,
              "#d8576b"
             ],
             [
              0.6666666666666666,
              "#ed7953"
             ],
             [
              0.7777777777777778,
              "#fb9f3a"
             ],
             [
              0.8888888888888888,
              "#fdca26"
             ],
             [
              1,
              "#f0f921"
             ]
            ],
            "type": "heatmap"
           }
          ],
          "heatmapgl": [
           {
            "colorbar": {
             "outlinewidth": 0,
             "ticks": ""
            },
            "colorscale": [
             [
              0,
              "#0d0887"
             ],
             [
              0.1111111111111111,
              "#46039f"
             ],
             [
              0.2222222222222222,
              "#7201a8"
             ],
             [
              0.3333333333333333,
              "#9c179e"
             ],
             [
              0.4444444444444444,
              "#bd3786"
             ],
             [
              0.5555555555555556,
              "#d8576b"
             ],
             [
              0.6666666666666666,
              "#ed7953"
             ],
             [
              0.7777777777777778,
              "#fb9f3a"
             ],
             [
              0.8888888888888888,
              "#fdca26"
             ],
             [
              1,
              "#f0f921"
             ]
            ],
            "type": "heatmapgl"
           }
          ],
          "histogram": [
           {
            "marker": {
             "pattern": {
              "fillmode": "overlay",
              "size": 10,
              "solidity": 0.2
             }
            },
            "type": "histogram"
           }
          ],
          "histogram2d": [
           {
            "colorbar": {
             "outlinewidth": 0,
             "ticks": ""
            },
            "colorscale": [
             [
              0,
              "#0d0887"
             ],
             [
              0.1111111111111111,
              "#46039f"
             ],
             [
              0.2222222222222222,
              "#7201a8"
             ],
             [
              0.3333333333333333,
              "#9c179e"
             ],
             [
              0.4444444444444444,
              "#bd3786"
             ],
             [
              0.5555555555555556,
              "#d8576b"
             ],
             [
              0.6666666666666666,
              "#ed7953"
             ],
             [
              0.7777777777777778,
              "#fb9f3a"
             ],
             [
              0.8888888888888888,
              "#fdca26"
             ],
             [
              1,
              "#f0f921"
             ]
            ],
            "type": "histogram2d"
           }
          ],
          "histogram2dcontour": [
           {
            "colorbar": {
             "outlinewidth": 0,
             "ticks": ""
            },
            "colorscale": [
             [
              0,
              "#0d0887"
             ],
             [
              0.1111111111111111,
              "#46039f"
             ],
             [
              0.2222222222222222,
              "#7201a8"
             ],
             [
              0.3333333333333333,
              "#9c179e"
             ],
             [
              0.4444444444444444,
              "#bd3786"
             ],
             [
              0.5555555555555556,
              "#d8576b"
             ],
             [
              0.6666666666666666,
              "#ed7953"
             ],
             [
              0.7777777777777778,
              "#fb9f3a"
             ],
             [
              0.8888888888888888,
              "#fdca26"
             ],
             [
              1,
              "#f0f921"
             ]
            ],
            "type": "histogram2dcontour"
           }
          ],
          "mesh3d": [
           {
            "colorbar": {
             "outlinewidth": 0,
             "ticks": ""
            },
            "type": "mesh3d"
           }
          ],
          "parcoords": [
           {
            "line": {
             "colorbar": {
              "outlinewidth": 0,
              "ticks": ""
             }
            },
            "type": "parcoords"
           }
          ],
          "pie": [
           {
            "automargin": true,
            "type": "pie"
           }
          ],
          "scatter": [
           {
            "fillpattern": {
             "fillmode": "overlay",
             "size": 10,
             "solidity": 0.2
            },
            "type": "scatter"
           }
          ],
          "scatter3d": [
           {
            "line": {
             "colorbar": {
              "outlinewidth": 0,
              "ticks": ""
             }
            },
            "marker": {
             "colorbar": {
              "outlinewidth": 0,
              "ticks": ""
             }
            },
            "type": "scatter3d"
           }
          ],
          "scattercarpet": [
           {
            "marker": {
             "colorbar": {
              "outlinewidth": 0,
              "ticks": ""
             }
            },
            "type": "scattercarpet"
           }
          ],
          "scattergeo": [
           {
            "marker": {
             "colorbar": {
              "outlinewidth": 0,
              "ticks": ""
             }
            },
            "type": "scattergeo"
           }
          ],
          "scattergl": [
           {
            "marker": {
             "colorbar": {
              "outlinewidth": 0,
              "ticks": ""
             }
            },
            "type": "scattergl"
           }
          ],
          "scattermapbox": [
           {
            "marker": {
             "colorbar": {
              "outlinewidth": 0,
              "ticks": ""
             }
            },
            "type": "scattermapbox"
           }
          ],
          "scatterpolar": [
           {
            "marker": {
             "colorbar": {
              "outlinewidth": 0,
              "ticks": ""
             }
            },
            "type": "scatterpolar"
           }
          ],
          "scatterpolargl": [
           {
            "marker": {
             "colorbar": {
              "outlinewidth": 0,
              "ticks": ""
             }
            },
            "type": "scatterpolargl"
           }
          ],
          "scatterternary": [
           {
            "marker": {
             "colorbar": {
              "outlinewidth": 0,
              "ticks": ""
             }
            },
            "type": "scatterternary"
           }
          ],
          "surface": [
           {
            "colorbar": {
             "outlinewidth": 0,
             "ticks": ""
            },
            "colorscale": [
             [
              0,
              "#0d0887"
             ],
             [
              0.1111111111111111,
              "#46039f"
             ],
             [
              0.2222222222222222,
              "#7201a8"
             ],
             [
              0.3333333333333333,
              "#9c179e"
             ],
             [
              0.4444444444444444,
              "#bd3786"
             ],
             [
              0.5555555555555556,
              "#d8576b"
             ],
             [
              0.6666666666666666,
              "#ed7953"
             ],
             [
              0.7777777777777778,
              "#fb9f3a"
             ],
             [
              0.8888888888888888,
              "#fdca26"
             ],
             [
              1,
              "#f0f921"
             ]
            ],
            "type": "surface"
           }
          ],
          "table": [
           {
            "cells": {
             "fill": {
              "color": "#EBF0F8"
             },
             "line": {
              "color": "white"
             }
            },
            "header": {
             "fill": {
              "color": "#C8D4E3"
             },
             "line": {
              "color": "white"
             }
            },
            "type": "table"
           }
          ]
         },
         "layout": {
          "annotationdefaults": {
           "arrowcolor": "#2a3f5f",
           "arrowhead": 0,
           "arrowwidth": 1
          },
          "autotypenumbers": "strict",
          "coloraxis": {
           "colorbar": {
            "outlinewidth": 0,
            "ticks": ""
           }
          },
          "colorscale": {
           "diverging": [
            [
             0,
             "#8e0152"
            ],
            [
             0.1,
             "#c51b7d"
            ],
            [
             0.2,
             "#de77ae"
            ],
            [
             0.3,
             "#f1b6da"
            ],
            [
             0.4,
             "#fde0ef"
            ],
            [
             0.5,
             "#f7f7f7"
            ],
            [
             0.6,
             "#e6f5d0"
            ],
            [
             0.7,
             "#b8e186"
            ],
            [
             0.8,
             "#7fbc41"
            ],
            [
             0.9,
             "#4d9221"
            ],
            [
             1,
             "#276419"
            ]
           ],
           "sequential": [
            [
             0,
             "#0d0887"
            ],
            [
             0.1111111111111111,
             "#46039f"
            ],
            [
             0.2222222222222222,
             "#7201a8"
            ],
            [
             0.3333333333333333,
             "#9c179e"
            ],
            [
             0.4444444444444444,
             "#bd3786"
            ],
            [
             0.5555555555555556,
             "#d8576b"
            ],
            [
             0.6666666666666666,
             "#ed7953"
            ],
            [
             0.7777777777777778,
             "#fb9f3a"
            ],
            [
             0.8888888888888888,
             "#fdca26"
            ],
            [
             1,
             "#f0f921"
            ]
           ],
           "sequentialminus": [
            [
             0,
             "#0d0887"
            ],
            [
             0.1111111111111111,
             "#46039f"
            ],
            [
             0.2222222222222222,
             "#7201a8"
            ],
            [
             0.3333333333333333,
             "#9c179e"
            ],
            [
             0.4444444444444444,
             "#bd3786"
            ],
            [
             0.5555555555555556,
             "#d8576b"
            ],
            [
             0.6666666666666666,
             "#ed7953"
            ],
            [
             0.7777777777777778,
             "#fb9f3a"
            ],
            [
             0.8888888888888888,
             "#fdca26"
            ],
            [
             1,
             "#f0f921"
            ]
           ]
          },
          "colorway": [
           "#636efa",
           "#EF553B",
           "#00cc96",
           "#ab63fa",
           "#FFA15A",
           "#19d3f3",
           "#FF6692",
           "#B6E880",
           "#FF97FF",
           "#FECB52"
          ],
          "font": {
           "color": "#2a3f5f"
          },
          "geo": {
           "bgcolor": "white",
           "lakecolor": "white",
           "landcolor": "#E5ECF6",
           "showlakes": true,
           "showland": true,
           "subunitcolor": "white"
          },
          "hoverlabel": {
           "align": "left"
          },
          "hovermode": "closest",
          "mapbox": {
           "style": "light"
          },
          "paper_bgcolor": "white",
          "plot_bgcolor": "#E5ECF6",
          "polar": {
           "angularaxis": {
            "gridcolor": "white",
            "linecolor": "white",
            "ticks": ""
           },
           "bgcolor": "#E5ECF6",
           "radialaxis": {
            "gridcolor": "white",
            "linecolor": "white",
            "ticks": ""
           }
          },
          "scene": {
           "xaxis": {
            "backgroundcolor": "#E5ECF6",
            "gridcolor": "white",
            "gridwidth": 2,
            "linecolor": "white",
            "showbackground": true,
            "ticks": "",
            "zerolinecolor": "white"
           },
           "yaxis": {
            "backgroundcolor": "#E5ECF6",
            "gridcolor": "white",
            "gridwidth": 2,
            "linecolor": "white",
            "showbackground": true,
            "ticks": "",
            "zerolinecolor": "white"
           },
           "zaxis": {
            "backgroundcolor": "#E5ECF6",
            "gridcolor": "white",
            "gridwidth": 2,
            "linecolor": "white",
            "showbackground": true,
            "ticks": "",
            "zerolinecolor": "white"
           }
          },
          "shapedefaults": {
           "line": {
            "color": "#2a3f5f"
           }
          },
          "ternary": {
           "aaxis": {
            "gridcolor": "white",
            "linecolor": "white",
            "ticks": ""
           },
           "baxis": {
            "gridcolor": "white",
            "linecolor": "white",
            "ticks": ""
           },
           "bgcolor": "#E5ECF6",
           "caxis": {
            "gridcolor": "white",
            "linecolor": "white",
            "ticks": ""
           }
          },
          "title": {
           "x": 0.05
          },
          "xaxis": {
           "automargin": true,
           "gridcolor": "white",
           "linecolor": "white",
           "ticks": "",
           "title": {
            "standoff": 15
           },
           "zerolinecolor": "white",
           "zerolinewidth": 2
          },
          "yaxis": {
           "automargin": true,
           "gridcolor": "white",
           "linecolor": "white",
           "ticks": "",
           "title": {
            "standoff": 15
           },
           "zerolinecolor": "white",
           "zerolinewidth": 2
          }
         }
        },
        "title": {
         "y": 1
        },
        "width": 1650
       }
      }
     },
     "metadata": {},
     "output_type": "display_data"
    }
   ],
   "source": [
    "position = positions[0]\n",
    "df = players_stats.loc[players_stats.index.get_level_values(1) == position]\n",
    "\n",
    "ROWS, COLUMNS = get_rows_columns(df, len(origin_columns))\n",
    "min_value, max_value = 0, 1\n",
    "\n",
    "fig = get_fig_subplots(df.index.get_level_values(0), ROWS, COLUMNS)\n",
    "for i, player_name in enumerate(df.index.get_level_values(0)):\n",
    "    for j, (key, cols) in enumerate(columns.items()):\n",
    "        _df = df.loc[(player_name, position), cols]\n",
    "        theta_list = get_theta_list(df, (player_name, position), origin_columns[key])\n",
    "\n",
    "        fig.add_trace(\n",
    "            go.Scatterpolar(r=_df, theta=theta_list, fill=\"toself\", name=player_name),\n",
    "            row=i + 1,\n",
    "            col=j + 1,\n",
    "        )\n",
    "\n",
    "fig.update_layout(\n",
    "    height=350 * ROWS, width=550 * COLUMNS, showlegend=False, title=dict(y=1)\n",
    ")\n",
    "fig.update_annotations(yshift=20)\n",
    "fig.update_polars(\n",
    "    radialaxis=dict(range=[min_value - 0.2, max_value + 0.2], visible=False)\n",
    ")\n",
    "fig.show()"
   ]
  },
  {
   "cell_type": "code",
   "execution_count": 24,
   "metadata": {},
   "outputs": [
    {
     "data": {
      "application/vnd.plotly.v1+json": {
       "config": {
        "plotlyServerURL": "https://plot.ly"
       },
       "data": [
        {
         "fill": "toself",
         "name": "Croco",
         "r": [
          0.14083557951482473,
          1,
          0,
          0,
          0.3276296754055701,
          0.10307364174465139,
          1
         ],
         "subplot": "polar",
         "theta": [
          "kills - 1.38 | 10",
          "deaths - 3.75 | 1",
          "assists - 3.38 | 12",
          "kda - 1.3 | 12",
          "dpm - 257.79 | 9",
          "damageshare - 0.13 | 8",
          "damagetakenperminute - 878.55 | 1"
         ],
         "type": "scatterpolar"
        },
        {
         "fill": "toself",
         "name": "Croco",
         "r": [
          0.20833333333333334,
          0.3,
          0.502258594892276,
          0.39477311796568404,
          0.4278350515463918,
          0.281661510008127,
          0,
          0,
          0.7060396549649468,
          0.00573972008419954,
          0.375
         ],
         "subplot": "polar2",
         "theta": [
          "firstblood - 0.12 | 11",
          "firstbloodvictim - 0.12 | 5",
          "wpm - 0.45 | 8",
          "wcpm - 0.39 | 11",
          "controlwardsbought - 11.0 | 9",
          "vspm - 1.5 | 11",
          "gpm - 295.08 | 12",
          "gdpm - -81.4 | 12",
          "goldshare - 0.19 | 5",
          "cspm - 4.98 | 11",
          "champions - 6.0 | 7"
         ],
         "type": "scatterpolar"
        },
        {
         "fill": "toself",
         "name": "Croco",
         "r": [
          0,
          0,
          0,
          0,
          0,
          0
         ],
         "subplot": "polar3",
         "theta": [
          "golddiffat10 - -323.5 | 12",
          "xpdiffat10 - -342.75 | 12",
          "csdiffat10 - -11.75 | 12",
          "golddiffat15 - -737.88 | 12",
          "xpdiffat15 - -449.88 | 12",
          "csdiffat15 - -16.75 | 12"
         ],
         "type": "scatterpolar"
        },
        {
         "fill": "toself",
         "name": "Juhan",
         "r": [
          0.11949685534591192,
          0.7376725838264298,
          0.6043956043956044,
          0.25366764470525477,
          0.2051814151793372,
          0.17281902053503506,
          0.49819724143197686
         ],
         "subplot": "polar4",
         "theta": [
          "kills - 1.33 | 11",
          "deaths - 3.17 | 3",
          "assists - 5.67 | 8",
          "kda - 3.13 | 9",
          "dpm - 243.73 | 11",
          "damageshare - 0.13 | 7",
          "damagetakenperminute - 812.42 | 5"
         ],
         "type": "scatterpolar"
        },
        {
         "fill": "toself",
         "name": "Juhan",
         "r": [
          0.2777777777777778,
          1,
          0.5431361282259883,
          0.46433243596812745,
          0.7542955326460483,
          0.4819489792939282,
          0.20115904125324402,
          0.5085750221210615,
          0.10039439239762693,
          0.060925161177438625,
          0.375
         ],
         "subplot": "polar5",
         "theta": [
          "firstblood - 0.17 | 10",
          "firstbloodvictim - 0.42 | 1",
          "wpm - 0.46 | 6",
          "wcpm - 0.41 | 10",
          "controlwardsbought - 14.33 | 3",
          "vspm - 1.63 | 10",
          "gpm - 309.24 | 10",
          "gdpm - -14.64 | 8",
          "goldshare - 0.18 | 11",
          "cspm - 5.05 | 10",
          "champions - 6.0 | 7"
         ],
         "type": "scatterpolar"
        },
        {
         "fill": "toself",
         "name": "Juhan",
         "r": [
          0.87045203969129,
          0.9243789324432103,
          0.9457013574660633,
          0.7828865993628946,
          0.28493668710250397,
          0.5992601726263871
         ],
         "subplot": "polar6",
         "theta": [
          "golddiffat10 - 71.25 | 4",
          "xpdiffat10 - 69.0 | 4",
          "csdiffat10 - 2.0 | 3",
          "golddiffat15 - 7.5 | 8",
          "xpdiffat15 - -242.67 | 10",
          "csdiffat15 - -3.25 | 9"
         ],
         "type": "scatterpolar"
        },
        {
         "fill": "toself",
         "name": "Canyon",
         "r": [
          0.35309973045822096,
          0.09467455621301779,
          0.6506651243493348,
          0.6969742445535387,
          0.6209886647878626,
          0.3498542062971324,
          0.3642973860063581
         ],
         "subplot": "polar7",
         "theta": [
          "kills - 1.79 | 6",
          "deaths - 1.74 | 11",
          "assists - 5.84 | 7",
          "kda - 6.32 | 3",
          "dpm - 291.45 | 5",
          "damageshare - 0.14 | 5",
          "damagetakenperminute - 794.78 | 8"
         ],
         "type": "scatterpolar"
        },
        {
         "fill": "toself",
         "name": "Canyon",
         "r": [
          0.6140350877192983,
          0,
          0.5064088341212813,
          0.5662405746779132,
          0.4896907216494846,
          0.5959189409941112,
          0.7185347073206572,
          0.7576263633784669,
          1,
          0.8883721926737689,
          1
         ],
         "subplot": "polar8",
         "theta": [
          "firstblood - 0.37 | 7",
          "firstbloodvictim - 0.0 | 9",
          "wpm - 0.46 | 7",
          "wcpm - 0.44 | 9",
          "controlwardsbought - 11.63 | 6",
          "vspm - 1.7 | 9",
          "gpm - 345.64 | 5",
          "gdpm - 18.06 | 5",
          "goldshare - 0.19 | 1",
          "cspm - 6.06 | 2",
          "champions - 11.0 | 1"
         ],
         "type": "scatterpolar"
        },
        {
         "fill": "toself",
         "name": "Canyon",
         "r": [
          0.9491672953055186,
          1,
          1,
          0.9557204751342276,
          0.9005328596802844,
          0.9023947043935361
         ],
         "subplot": "polar9",
         "theta": [
          "golddiffat10 - 106.95 | 2",
          "xpdiffat10 - 102.68 | 1",
          "csdiffat10 - 2.79 | 1",
          "golddiffat15 - 172.05 | 2",
          "xpdiffat15 - 205.0 | 2",
          "csdiffat15 - 3.58 | 2"
         ],
         "type": "scatterpolar"
        },
        {
         "fill": "toself",
         "name": "Peanut",
         "r": [
          0.6226415094339621,
          0,
          0.761711972238288,
          0.7097834679689541,
          0.723570240748233,
          0.5558649376325975,
          0
         ],
         "subplot": "polar10",
         "theta": [
          "kills - 2.32 | 3",
          "deaths - 1.53 | 12",
          "assists - 6.26 | 5",
          "kda - 6.41 | 2",
          "dpm - 303.23 | 4",
          "damageshare - 0.15 | 3",
          "damagetakenperminute - 746.77 | 12"
         ],
         "type": "scatterpolar"
        },
        {
         "fill": "toself",
         "name": "Peanut",
         "r": [
          0.7894736842105263,
          0,
          0.7339523134952468,
          0.6992236112320308,
          0,
          0.8280561603907515,
          1,
          1,
          0.9028444610718154,
          1,
          0.625
         ],
         "subplot": "polar11",
         "theta": [
          "firstblood - 0.47 | 4",
          "firstbloodvictim - 0.0 | 9",
          "wpm - 0.51 | 4",
          "wcpm - 0.48 | 5",
          "controlwardsbought - 6.63 | 12",
          "vspm - 1.85 | 4",
          "gpm - 365.44 | 1",
          "gdpm - 49.88 | 1",
          "goldshare - 0.19 | 3",
          "cspm - 6.2 | 1",
          "champions - 8.0 | 5"
         ],
         "type": "scatterpolar"
        },
        {
         "fill": "toself",
         "name": "Peanut",
         "r": [
          0.9020483955202229,
          0.9862936815053319,
          0.8153846153846154,
          1.0000000000000002,
          0.8442976173603092,
          0.8813680316698033
         ],
         "subplot": "polar12",
         "theta": [
          "golddiffat10 - 85.58 | 3",
          "xpdiffat10 - 96.58 | 2",
          "csdiffat10 - 0.11 | 8",
          "golddiffat15 - 214.21 | 1",
          "xpdiffat15 - 164.11 | 4",
          "csdiffat15 - 3.11 | 4"
         ],
         "type": "scatterpolar"
        },
        {
         "fill": "toself",
         "name": "Clid",
         "r": [
          0.5974842767295596,
          0.3329388560157791,
          0.797802197802198,
          0.5859935063143276,
          0.48593975704021863,
          0.04912712322123358,
          0.4343014147983544
         ],
         "subplot": "polar13",
         "theta": [
          "kills - 2.27 | 4",
          "deaths - 2.27 | 6",
          "assists - 6.4 | 4",
          "kda - 5.52 | 5",
          "dpm - 275.95 | 7",
          "damageshare - 0.13 | 11",
          "damagetakenperminute - 804.0 | 7"
         ],
         "type": "scatterpolar"
        },
        {
         "fill": "toself",
         "name": "Clid",
         "r": [
          0.6666666666666667,
          0.48,
          0.43722566416154174,
          0.6606716183927434,
          0.6824742268041237,
          0.7729630859291459,
          0.7894817663936697,
          0.796779646856228,
          0.9138940256483004,
          0.8197880724231696,
          0.375
         ],
         "subplot": "polar14",
         "theta": [
          "firstblood - 0.4 | 6",
          "firstbloodvictim - 0.2 | 4",
          "wpm - 0.44 | 10",
          "wcpm - 0.47 | 6",
          "controlwardsbought - 13.6 | 5",
          "vspm - 1.82 | 5",
          "gpm - 350.63 | 4",
          "gdpm - 23.2 | 3",
          "goldshare - 0.19 | 2",
          "cspm - 5.98 | 3",
          "champions - 6.0 | 7"
         ],
         "type": "scatterpolar"
        },
        {
         "fill": "toself",
         "name": "Clid",
         "r": [
          0.5059169423006248,
          0.7678275682115815,
          0.798974358974359,
          0.9404704814684293,
          1,
          0.8707768187422933
         ],
         "subplot": "polar15",
         "theta": [
          "golddiffat10 - -94.07 | 9",
          "xpdiffat10 - -0.73 | 7",
          "csdiffat10 - -0.13 | 10",
          "golddiffat15 - 157.53 | 3",
          "xpdiffat15 - 277.33 | 1",
          "csdiffat15 - 2.87 | 5"
         ],
         "type": "scatterpolar"
        },
        {
         "fill": "toself",
         "name": "Grizzly",
         "r": [
          0.20485175202156336,
          0.7751479289940828,
          0.23076923076923073,
          0.062002740960807934,
          0.7343992700187618,
          0.9999999999999996,
          0.44424889172857185
         ],
         "subplot": "polar16",
         "theta": [
          "kills - 1.5 | 8",
          "deaths - 3.25 | 2",
          "assists - 4.25 | 10",
          "kda - 1.75 | 11",
          "dpm - 304.47 | 3",
          "damageshare - 0.16 | 1",
          "damagetakenperminute - 805.31 | 6"
         ],
         "type": "scatterpolar"
        },
        {
         "fill": "toself",
         "name": "Grizzly",
         "r": [
          0,
          0,
          0,
          0,
          0.3788659793814433,
          0,
          0.056924645086908754,
          0.1344316626512822,
          0,
          0,
          0
         ],
         "subplot": "polar17",
         "theta": [
          "firstblood - 0.0 | 12",
          "firstbloodvictim - 0.0 | 9",
          "wpm - 0.34 | 12",
          "wcpm - 0.26 | 12",
          "controlwardsbought - 10.5 | 11",
          "vspm - 1.32 | 12",
          "gpm - 299.09 | 11",
          "gdpm - -63.76 | 11",
          "goldshare - 0.18 | 12",
          "cspm - 4.97 | 12",
          "champions - 3.0 | 12"
         ],
         "type": "scatterpolar"
        },
        {
         "fill": "toself",
         "name": "Grizzly",
         "r": [
          0.4807056229327453,
          0.3294538150237793,
          0.8253393665158372,
          0.6668255975455545,
          0.32607574629003616,
          0.721331689272503
         ],
         "subplot": "polar18",
         "theta": [
          "golddiffat10 - -105.5 | 10",
          "xpdiffat10 - -196.0 | 11",
          "csdiffat10 - 0.25 | 7",
          "golddiffat15 - -103.0 | 9",
          "xpdiffat15 - -212.75 | 9",
          "csdiffat15 - -0.5 | 8"
         ],
         "type": "scatterpolar"
        },
        {
         "fill": "toself",
         "name": "Cuzz",
         "r": [
          0.9161425576519915,
          0.13806706114398415,
          1,
          1.0000000000000002,
          0.8328408644710268,
          0.732598348820034,
          0.8024910153184601
         ],
         "subplot": "polar19",
         "theta": [
          "kills - 2.89 | 2",
          "deaths - 1.83 | 9",
          "assists - 7.17 | 1",
          "kda - 8.49 | 1",
          "dpm - 315.77 | 2",
          "damageshare - 0.15 | 2",
          "damagetakenperminute - 852.52 | 2"
         ],
         "type": "scatterpolar"
        },
        {
         "fill": "toself",
         "name": "Cuzz",
         "r": [
          0.8333333333333334,
          0.5333333333333333,
          0.2247273472034952,
          0.7087112898633768,
          0.4278350515463918,
          0.7088838238891908,
          0.9450949836133047,
          0.7801492972430248,
          0.5750113572022446,
          0.8093344545676908,
          0.25
         ],
         "subplot": "polar20",
         "theta": [
          "firstblood - 0.5 | 2",
          "firstbloodvictim - 0.22 | 2",
          "wpm - 0.39 | 11",
          "wcpm - 0.48 | 4",
          "controlwardsbought - 11.0 | 9",
          "vspm - 1.77 | 8",
          "gpm - 361.57 | 2",
          "gdpm - 21.01 | 4",
          "goldshare - 0.19 | 8",
          "cspm - 5.97 | 4",
          "champions - 5.0 | 11"
         ],
         "type": "scatterpolar"
        },
        {
         "fill": "toself",
         "name": "Cuzz",
         "r": [
          0.6498836212176896,
          0.633526652815933,
          0.9036701860231272,
          0.9072335047790593,
          0.8856357073282531,
          0.9999999999999999
         ],
         "subplot": "polar21",
         "theta": [
          "golddiffat10 - -28.78 | 7",
          "xpdiffat10 - -60.56 | 9",
          "csdiffat10 - 1.39 | 4",
          "golddiffat15 - 125.89 | 4",
          "xpdiffat15 - 194.17 | 3",
          "csdiffat15 - 5.78 | 1"
         ],
         "type": "scatterpolar"
        },
        {
         "fill": "toself",
         "name": "YoungJae",
         "r": [
          0.30087601078167114,
          0.12869822485207094,
          0.7252747252747253,
          0.5419238233643915,
          0.5862226528444943,
          0,
          0.6690002665697543
         ],
         "subplot": "polar22",
         "theta": [
          "kills - 1.69 | 7",
          "deaths - 1.81 | 10",
          "assists - 6.12 | 6",
          "kda - 5.2 | 6",
          "dpm - 287.46 | 6",
          "damageshare - 0.13 | 12",
          "damagetakenperminute - 834.93 | 3"
         ],
         "type": "scatterpolar"
        },
        {
         "fill": "toself",
         "name": "YoungJae",
         "r": [
          0.8333333333333334,
          0,
          0.7460104794251678,
          0.6163439395413707,
          0.8807989690721649,
          0.8854167727532887,
          0.4933012943807453,
          0.5209483104025768,
          0.35411541704561067,
          0.6353788718739786,
          0.375
         ],
         "subplot": "polar23",
         "theta": [
          "firstblood - 0.5 | 2",
          "firstbloodvictim - 0.0 | 9",
          "wpm - 0.51 | 3",
          "wcpm - 0.45 | 8",
          "controlwardsbought - 15.62 | 2",
          "vspm - 1.89 | 2",
          "gpm - 329.79 | 7",
          "gdpm - -13.01 | 7",
          "goldshare - 0.18 | 9",
          "cspm - 5.75 | 5",
          "champions - 6.0 | 7"
         ],
         "type": "scatterpolar"
        },
        {
         "fill": "toself",
         "name": "YoungJae",
         "r": [
          1,
          0.8784967358875138,
          0.9972850678733032,
          0.8788601200964643,
          0.47527645676960995,
          0.8128853267570899
         ],
         "subplot": "polar24",
         "theta": [
          "golddiffat10 - 130.0 | 1",
          "xpdiffat10 - 48.56 | 5",
          "csdiffat10 - 2.75 | 2",
          "golddiffat15 - 98.88 | 5",
          "xpdiffat15 - -104.25 | 7",
          "csdiffat15 - 1.56 | 7"
         ],
         "type": "scatterpolar"
        },
        {
         "fill": "toself",
         "name": "Willer",
         "r": [
          0.595687331536388,
          0.7337278106508875,
          0.8449971081550028,
          0.3965064610090823,
          0.4312721755535227,
          0.09131583298380219,
          0.6662083733755848
         ],
         "subplot": "polar25",
         "theta": [
          "kills - 2.26 | 5",
          "deaths - 3.16 | 4",
          "assists - 6.58 | 2",
          "kda - 4.16 | 7",
          "dpm - 269.68 | 8",
          "damageshare - 0.13 | 9",
          "damagetakenperminute - 834.56 | 4"
         ],
         "type": "scatterpolar"
        },
        {
         "fill": "toself",
         "name": "Willer",
         "r": [
          0.7017543859649122,
          0.5052631578947367,
          1.0000000000000002,
          0.8314555240880249,
          1,
          1,
          0.5093309902864931,
          0.5868188090865373,
          0.6822251858257502,
          0.3516151666586316,
          0.875
         ],
         "subplot": "polar26",
         "theta": [
          "firstblood - 0.42 | 5",
          "firstbloodvictim - 0.21 | 3",
          "wpm - 0.57 | 1",
          "wcpm - 0.52 | 2",
          "controlwardsbought - 16.84 | 1",
          "vspm - 1.96 | 1",
          "gpm - 330.92 | 6",
          "gdpm - -4.37 | 6",
          "goldshare - 0.19 | 7",
          "cspm - 5.4 | 8",
          "champions - 10.0 | 2"
         ],
         "type": "scatterpolar"
        },
        {
         "fill": "toself",
         "name": "Willer",
         "r": [
          0.6356989496895492,
          0.9261513012140726,
          0.8624434389140272,
          0.4502373598125998,
          0.4091801439655979,
          0.5706405347524173
         ],
         "subplot": "polar27",
         "theta": [
          "golddiffat10 - -35.21 | 8",
          "xpdiffat10 - 69.79 | 3",
          "csdiffat10 - 0.79 | 6",
          "golddiffat15 - -309.21 | 11",
          "xpdiffat15 - -152.32 | 8",
          "csdiffat15 - -3.89 | 10"
         ],
         "type": "scatterpolar"
        },
        {
         "fill": "toself",
         "name": "Sylvie",
         "r": [
          0.19137466307277617,
          0.47337278106508873,
          0.1509543088490456,
          0.24438168387553083,
          0.27599248437634394,
          0.19641260818790762,
          0.3395266431089796
         ],
         "subplot": "polar28",
         "theta": [
          "kills - 1.47 | 9",
          "deaths - 2.58 | 5",
          "assists - 3.95 | 11",
          "kda - 3.06 | 10",
          "dpm - 251.86 | 10",
          "damageshare - 0.13 | 6",
          "damagetakenperminute - 791.51 | 9"
         ],
         "type": "scatterpolar"
        },
        {
         "fill": "toself",
         "name": "Sylvie",
         "r": [
          0.5263157894736842,
          0.1263157894736842,
          0.9061061710274048,
          0.7213817603266705,
          0.7061855670103094,
          0.83762126973975,
          0.3206816287514922,
          0.27508491077578895,
          0.6996964536440924,
          0.3911011842591554,
          0.5
         ],
         "subplot": "polar29",
         "theta": [
          "firstblood - 0.32 | 8",
          "firstbloodvictim - 0.05 | 6",
          "wpm - 0.55 | 2",
          "wcpm - 0.49 | 3",
          "controlwardsbought - 13.84 | 4",
          "vspm - 1.86 | 3",
          "gpm - 317.65 | 8",
          "gdpm - -45.29 | 10",
          "goldshare - 0.19 | 6",
          "cspm - 5.45 | 7",
          "champions - 7.0 | 6"
         ],
         "type": "scatterpolar"
        },
        {
         "fill": "toself",
         "name": "Sylvie",
         "r": [
          0.41194220391110087,
          0.5702596520249313,
          0.48959276018099546,
          0.5164631660413083,
          0.15376937157538906,
          0.3954182620546433
         ],
         "subplot": "polar30",
         "theta": [
          "golddiffat10 - -136.68 | 11",
          "xpdiffat10 - -88.74 | 10",
          "csdiffat10 - -4.63 | 11",
          "golddiffat15 - -246.16 | 10",
          "xpdiffat15 - -338.05 | 11",
          "csdiffat15 - -7.84 | 11"
         ],
         "type": "scatterpolar"
        },
        {
         "fill": "toself",
         "name": "UmTi",
         "r": [
          0,
          0.23550295857988157,
          0.2835164835164835,
          0.35637089430744756,
          0,
          0.07638173340828658,
          0.22648509769235936
         ],
         "subplot": "polar31",
         "theta": [
          "kills - 1.1 | 12",
          "deaths - 2.05 | 8",
          "assists - 4.45 | 9",
          "kda - 3.87 | 8",
          "dpm - 220.19 | 12",
          "damageshare - 0.13 | 10",
          "damagetakenperminute - 776.61 | 10"
         ],
         "type": "scatterpolar"
        },
        {
         "fill": "toself",
         "name": "UmTi",
         "r": [
          1,
          0.12,
          0.4857310280873628,
          1,
          0.4817010309278351,
          0.7674908493923014,
          0.2059238271105599,
          0.4504800986383132,
          0.17816163388383188,
          0.31474426751080564,
          0.875
         ],
         "subplot": "polar32",
         "theta": [
          "firstblood - 0.6 | 1",
          "firstbloodvictim - 0.05 | 8",
          "wpm - 0.45 | 9",
          "wcpm - 0.57 | 1",
          "controlwardsbought - 11.55 | 7",
          "vspm - 1.81 | 6",
          "gpm - 309.57 | 9",
          "gdpm - -22.27 | 9",
          "goldshare - 0.18 | 10",
          "cspm - 5.36 | 9",
          "champions - 10.0 | 2"
         ],
         "type": "scatterpolar"
        },
        {
         "fill": "toself",
         "name": "UmTi",
         "r": [
          0.7982359426681368,
          0.8144861607538476,
          0.8012669683257919,
          0.8517354560970724,
          0.768521171145362,
          0.8855733662145499
         ],
         "subplot": "polar33",
         "theta": [
          "golddiffat10 - 38.5 | 6",
          "xpdiffat10 - 20.05 | 6",
          "csdiffat10 - -0.1 | 9",
          "golddiffat15 - 73.05 | 7",
          "xpdiffat15 - 109.0 | 5",
          "csdiffat15 - 3.2 | 3"
         ],
         "type": "scatterpolar"
        },
        {
         "fill": "toself",
         "name": "Oner",
         "r": [
          1,
          0.3076923076923077,
          0.8172353961827646,
          0.6473232547433099,
          1,
          0.5424986294312877,
          0.14434791868531605
         ],
         "subplot": "polar34",
         "theta": [
          "kills - 3.05 | 1",
          "deaths - 2.21 | 7",
          "assists - 6.47 | 3",
          "kda - 5.96 | 4",
          "dpm - 334.95 | 1",
          "damageshare - 0.15 | 4",
          "damagetakenperminute - 765.79 | 11"
         ],
         "type": "scatterpolar"
        },
        {
         "fill": "toself",
         "name": "Oner",
         "r": [
          0.43859649122807015,
          0.1263157894736842,
          0.5853743180124364,
          0.6231894077901768,
          0.44329896907216493,
          0.7498080256481807,
          0.9038174525468126,
          0.8855062386550925,
          0.740155091862011,
          0.5891997279042736,
          0.875
         ],
         "subplot": "polar35",
         "theta": [
          "firstblood - 0.26 | 9",
          "firstbloodvictim - 0.05 | 6",
          "wpm - 0.47 | 5",
          "wcpm - 0.46 | 7",
          "controlwardsbought - 11.16 | 8",
          "vspm - 1.8 | 7",
          "gpm - 358.67 | 3",
          "gdpm - 34.85 | 2",
          "goldshare - 0.19 | 4",
          "cspm - 5.7 | 6",
          "champions - 10.0 | 2"
         ],
         "type": "scatterpolar"
        },
        {
         "fill": "toself",
         "name": "Oner",
         "r": [
          0.8110601752451692,
          0.6743567778335746,
          0.8877828054298643,
          0.8726341756669915,
          0.7271227688197175,
          0.8252969044065156
         ],
         "subplot": "polar36",
         "theta": [
          "golddiffat10 - 44.32 | 5",
          "xpdiffat10 - -42.37 | 8",
          "csdiffat10 - 1.16 | 5",
          "golddiffat15 - 92.95 | 6",
          "xpdiffat15 - 78.89 | 6",
          "csdiffat15 - 1.84 | 6"
         ],
         "type": "scatterpolar"
        }
       ],
       "layout": {
        "annotations": [
         {
          "font": {
           "size": 16
          },
          "showarrow": false,
          "text": "Croco",
          "x": 0.14444444444444446,
          "xanchor": "center",
          "xref": "paper",
          "y": 1,
          "yanchor": "bottom",
          "yref": "paper",
          "yshift": 20
         },
         {
          "font": {
           "size": 16
          },
          "showarrow": false,
          "text": "Croco",
          "x": 0.5,
          "xanchor": "center",
          "xref": "paper",
          "y": 1,
          "yanchor": "bottom",
          "yref": "paper",
          "yshift": 20
         },
         {
          "font": {
           "size": 16
          },
          "showarrow": false,
          "text": "Croco",
          "x": 0.8555555555555556,
          "xanchor": "center",
          "xref": "paper",
          "y": 1,
          "yanchor": "bottom",
          "yref": "paper",
          "yshift": 20
         },
         {
          "font": {
           "size": 16
          },
          "showarrow": false,
          "text": "Juhan",
          "x": 0.14444444444444446,
          "xanchor": "center",
          "xref": "paper",
          "y": 0.9131944444444444,
          "yanchor": "bottom",
          "yref": "paper",
          "yshift": 20
         },
         {
          "font": {
           "size": 16
          },
          "showarrow": false,
          "text": "Juhan",
          "x": 0.5,
          "xanchor": "center",
          "xref": "paper",
          "y": 0.9131944444444444,
          "yanchor": "bottom",
          "yref": "paper",
          "yshift": 20
         },
         {
          "font": {
           "size": 16
          },
          "showarrow": false,
          "text": "Juhan",
          "x": 0.8555555555555556,
          "xanchor": "center",
          "xref": "paper",
          "y": 0.9131944444444444,
          "yanchor": "bottom",
          "yref": "paper",
          "yshift": 20
         },
         {
          "font": {
           "size": 16
          },
          "showarrow": false,
          "text": "Canyon",
          "x": 0.14444444444444446,
          "xanchor": "center",
          "xref": "paper",
          "y": 0.8263888888888888,
          "yanchor": "bottom",
          "yref": "paper",
          "yshift": 20
         },
         {
          "font": {
           "size": 16
          },
          "showarrow": false,
          "text": "Canyon",
          "x": 0.5,
          "xanchor": "center",
          "xref": "paper",
          "y": 0.8263888888888888,
          "yanchor": "bottom",
          "yref": "paper",
          "yshift": 20
         },
         {
          "font": {
           "size": 16
          },
          "showarrow": false,
          "text": "Canyon",
          "x": 0.8555555555555556,
          "xanchor": "center",
          "xref": "paper",
          "y": 0.8263888888888888,
          "yanchor": "bottom",
          "yref": "paper",
          "yshift": 20
         },
         {
          "font": {
           "size": 16
          },
          "showarrow": false,
          "text": "Peanut",
          "x": 0.14444444444444446,
          "xanchor": "center",
          "xref": "paper",
          "y": 0.7395833333333333,
          "yanchor": "bottom",
          "yref": "paper",
          "yshift": 20
         },
         {
          "font": {
           "size": 16
          },
          "showarrow": false,
          "text": "Peanut",
          "x": 0.5,
          "xanchor": "center",
          "xref": "paper",
          "y": 0.7395833333333333,
          "yanchor": "bottom",
          "yref": "paper",
          "yshift": 20
         },
         {
          "font": {
           "size": 16
          },
          "showarrow": false,
          "text": "Peanut",
          "x": 0.8555555555555556,
          "xanchor": "center",
          "xref": "paper",
          "y": 0.7395833333333333,
          "yanchor": "bottom",
          "yref": "paper",
          "yshift": 20
         },
         {
          "font": {
           "size": 16
          },
          "showarrow": false,
          "text": "Clid",
          "x": 0.14444444444444446,
          "xanchor": "center",
          "xref": "paper",
          "y": 0.6527777777777777,
          "yanchor": "bottom",
          "yref": "paper",
          "yshift": 20
         },
         {
          "font": {
           "size": 16
          },
          "showarrow": false,
          "text": "Clid",
          "x": 0.5,
          "xanchor": "center",
          "xref": "paper",
          "y": 0.6527777777777777,
          "yanchor": "bottom",
          "yref": "paper",
          "yshift": 20
         },
         {
          "font": {
           "size": 16
          },
          "showarrow": false,
          "text": "Clid",
          "x": 0.8555555555555556,
          "xanchor": "center",
          "xref": "paper",
          "y": 0.6527777777777777,
          "yanchor": "bottom",
          "yref": "paper",
          "yshift": 20
         },
         {
          "font": {
           "size": 16
          },
          "showarrow": false,
          "text": "Grizzly",
          "x": 0.14444444444444446,
          "xanchor": "center",
          "xref": "paper",
          "y": 0.5659722222222223,
          "yanchor": "bottom",
          "yref": "paper",
          "yshift": 20
         },
         {
          "font": {
           "size": 16
          },
          "showarrow": false,
          "text": "Grizzly",
          "x": 0.5,
          "xanchor": "center",
          "xref": "paper",
          "y": 0.5659722222222223,
          "yanchor": "bottom",
          "yref": "paper",
          "yshift": 20
         },
         {
          "font": {
           "size": 16
          },
          "showarrow": false,
          "text": "Grizzly",
          "x": 0.8555555555555556,
          "xanchor": "center",
          "xref": "paper",
          "y": 0.5659722222222223,
          "yanchor": "bottom",
          "yref": "paper",
          "yshift": 20
         },
         {
          "font": {
           "size": 16
          },
          "showarrow": false,
          "text": "Cuzz",
          "x": 0.14444444444444446,
          "xanchor": "center",
          "xref": "paper",
          "y": 0.4791666666666667,
          "yanchor": "bottom",
          "yref": "paper",
          "yshift": 20
         },
         {
          "font": {
           "size": 16
          },
          "showarrow": false,
          "text": "Cuzz",
          "x": 0.5,
          "xanchor": "center",
          "xref": "paper",
          "y": 0.4791666666666667,
          "yanchor": "bottom",
          "yref": "paper",
          "yshift": 20
         },
         {
          "font": {
           "size": 16
          },
          "showarrow": false,
          "text": "Cuzz",
          "x": 0.8555555555555556,
          "xanchor": "center",
          "xref": "paper",
          "y": 0.4791666666666667,
          "yanchor": "bottom",
          "yref": "paper",
          "yshift": 20
         },
         {
          "font": {
           "size": 16
          },
          "showarrow": false,
          "text": "YoungJae",
          "x": 0.14444444444444446,
          "xanchor": "center",
          "xref": "paper",
          "y": 0.3923611111111111,
          "yanchor": "bottom",
          "yref": "paper",
          "yshift": 20
         },
         {
          "font": {
           "size": 16
          },
          "showarrow": false,
          "text": "YoungJae",
          "x": 0.5,
          "xanchor": "center",
          "xref": "paper",
          "y": 0.3923611111111111,
          "yanchor": "bottom",
          "yref": "paper",
          "yshift": 20
         },
         {
          "font": {
           "size": 16
          },
          "showarrow": false,
          "text": "YoungJae",
          "x": 0.8555555555555556,
          "xanchor": "center",
          "xref": "paper",
          "y": 0.3923611111111111,
          "yanchor": "bottom",
          "yref": "paper",
          "yshift": 20
         },
         {
          "font": {
           "size": 16
          },
          "showarrow": false,
          "text": "Willer",
          "x": 0.14444444444444446,
          "xanchor": "center",
          "xref": "paper",
          "y": 0.3055555555555556,
          "yanchor": "bottom",
          "yref": "paper",
          "yshift": 20
         },
         {
          "font": {
           "size": 16
          },
          "showarrow": false,
          "text": "Willer",
          "x": 0.5,
          "xanchor": "center",
          "xref": "paper",
          "y": 0.3055555555555556,
          "yanchor": "bottom",
          "yref": "paper",
          "yshift": 20
         },
         {
          "font": {
           "size": 16
          },
          "showarrow": false,
          "text": "Willer",
          "x": 0.8555555555555556,
          "xanchor": "center",
          "xref": "paper",
          "y": 0.3055555555555556,
          "yanchor": "bottom",
          "yref": "paper",
          "yshift": 20
         },
         {
          "font": {
           "size": 16
          },
          "showarrow": false,
          "text": "Sylvie",
          "x": 0.14444444444444446,
          "xanchor": "center",
          "xref": "paper",
          "y": 0.21875,
          "yanchor": "bottom",
          "yref": "paper",
          "yshift": 20
         },
         {
          "font": {
           "size": 16
          },
          "showarrow": false,
          "text": "Sylvie",
          "x": 0.5,
          "xanchor": "center",
          "xref": "paper",
          "y": 0.21875,
          "yanchor": "bottom",
          "yref": "paper",
          "yshift": 20
         },
         {
          "font": {
           "size": 16
          },
          "showarrow": false,
          "text": "Sylvie",
          "x": 0.8555555555555556,
          "xanchor": "center",
          "xref": "paper",
          "y": 0.21875,
          "yanchor": "bottom",
          "yref": "paper",
          "yshift": 20
         },
         {
          "font": {
           "size": 16
          },
          "showarrow": false,
          "text": "UmTi",
          "x": 0.14444444444444446,
          "xanchor": "center",
          "xref": "paper",
          "y": 0.13194444444444445,
          "yanchor": "bottom",
          "yref": "paper",
          "yshift": 20
         },
         {
          "font": {
           "size": 16
          },
          "showarrow": false,
          "text": "UmTi",
          "x": 0.5,
          "xanchor": "center",
          "xref": "paper",
          "y": 0.13194444444444445,
          "yanchor": "bottom",
          "yref": "paper",
          "yshift": 20
         },
         {
          "font": {
           "size": 16
          },
          "showarrow": false,
          "text": "UmTi",
          "x": 0.8555555555555556,
          "xanchor": "center",
          "xref": "paper",
          "y": 0.13194444444444445,
          "yanchor": "bottom",
          "yref": "paper",
          "yshift": 20
         },
         {
          "font": {
           "size": 16
          },
          "showarrow": false,
          "text": "Oner",
          "x": 0.14444444444444446,
          "xanchor": "center",
          "xref": "paper",
          "y": 0.045138888888888895,
          "yanchor": "bottom",
          "yref": "paper",
          "yshift": 20
         },
         {
          "font": {
           "size": 16
          },
          "showarrow": false,
          "text": "Oner",
          "x": 0.5,
          "xanchor": "center",
          "xref": "paper",
          "y": 0.045138888888888895,
          "yanchor": "bottom",
          "yref": "paper",
          "yshift": 20
         },
         {
          "font": {
           "size": 16
          },
          "showarrow": false,
          "text": "Oner",
          "x": 0.8555555555555556,
          "xanchor": "center",
          "xref": "paper",
          "y": 0.045138888888888895,
          "yanchor": "bottom",
          "yref": "paper",
          "yshift": 20
         }
        ],
        "height": 4200,
        "polar": {
         "domain": {
          "x": [
           0,
           0.2888888888888889
          ],
          "y": [
           0.9548611111111112,
           1
          ]
         },
         "radialaxis": {
          "range": [
           -0.2,
           1.2
          ],
          "visible": false
         }
        },
        "polar10": {
         "domain": {
          "x": [
           0,
           0.2888888888888889
          ],
          "y": [
           0.6944444444444444,
           0.7395833333333333
          ]
         },
         "radialaxis": {
          "range": [
           -0.2,
           1.2
          ],
          "visible": false
         }
        },
        "polar11": {
         "domain": {
          "x": [
           0.35555555555555557,
           0.6444444444444445
          ],
          "y": [
           0.6944444444444444,
           0.7395833333333333
          ]
         },
         "radialaxis": {
          "range": [
           -0.2,
           1.2
          ],
          "visible": false
         }
        },
        "polar12": {
         "domain": {
          "x": [
           0.7111111111111111,
           1
          ],
          "y": [
           0.6944444444444444,
           0.7395833333333333
          ]
         },
         "radialaxis": {
          "range": [
           -0.2,
           1.2
          ],
          "visible": false
         }
        },
        "polar13": {
         "domain": {
          "x": [
           0,
           0.2888888888888889
          ],
          "y": [
           0.6076388888888888,
           0.6527777777777777
          ]
         },
         "radialaxis": {
          "range": [
           -0.2,
           1.2
          ],
          "visible": false
         }
        },
        "polar14": {
         "domain": {
          "x": [
           0.35555555555555557,
           0.6444444444444445
          ],
          "y": [
           0.6076388888888888,
           0.6527777777777777
          ]
         },
         "radialaxis": {
          "range": [
           -0.2,
           1.2
          ],
          "visible": false
         }
        },
        "polar15": {
         "domain": {
          "x": [
           0.7111111111111111,
           1
          ],
          "y": [
           0.6076388888888888,
           0.6527777777777777
          ]
         },
         "radialaxis": {
          "range": [
           -0.2,
           1.2
          ],
          "visible": false
         }
        },
        "polar16": {
         "domain": {
          "x": [
           0,
           0.2888888888888889
          ],
          "y": [
           0.5208333333333334,
           0.5659722222222223
          ]
         },
         "radialaxis": {
          "range": [
           -0.2,
           1.2
          ],
          "visible": false
         }
        },
        "polar17": {
         "domain": {
          "x": [
           0.35555555555555557,
           0.6444444444444445
          ],
          "y": [
           0.5208333333333334,
           0.5659722222222223
          ]
         },
         "radialaxis": {
          "range": [
           -0.2,
           1.2
          ],
          "visible": false
         }
        },
        "polar18": {
         "domain": {
          "x": [
           0.7111111111111111,
           1
          ],
          "y": [
           0.5208333333333334,
           0.5659722222222223
          ]
         },
         "radialaxis": {
          "range": [
           -0.2,
           1.2
          ],
          "visible": false
         }
        },
        "polar19": {
         "domain": {
          "x": [
           0,
           0.2888888888888889
          ],
          "y": [
           0.4340277777777778,
           0.4791666666666667
          ]
         },
         "radialaxis": {
          "range": [
           -0.2,
           1.2
          ],
          "visible": false
         }
        },
        "polar2": {
         "domain": {
          "x": [
           0.35555555555555557,
           0.6444444444444445
          ],
          "y": [
           0.9548611111111112,
           1
          ]
         },
         "radialaxis": {
          "range": [
           -0.2,
           1.2
          ],
          "visible": false
         }
        },
        "polar20": {
         "domain": {
          "x": [
           0.35555555555555557,
           0.6444444444444445
          ],
          "y": [
           0.4340277777777778,
           0.4791666666666667
          ]
         },
         "radialaxis": {
          "range": [
           -0.2,
           1.2
          ],
          "visible": false
         }
        },
        "polar21": {
         "domain": {
          "x": [
           0.7111111111111111,
           1
          ],
          "y": [
           0.4340277777777778,
           0.4791666666666667
          ]
         },
         "radialaxis": {
          "range": [
           -0.2,
           1.2
          ],
          "visible": false
         }
        },
        "polar22": {
         "domain": {
          "x": [
           0,
           0.2888888888888889
          ],
          "y": [
           0.3472222222222222,
           0.3923611111111111
          ]
         },
         "radialaxis": {
          "range": [
           -0.2,
           1.2
          ],
          "visible": false
         }
        },
        "polar23": {
         "domain": {
          "x": [
           0.35555555555555557,
           0.6444444444444445
          ],
          "y": [
           0.3472222222222222,
           0.3923611111111111
          ]
         },
         "radialaxis": {
          "range": [
           -0.2,
           1.2
          ],
          "visible": false
         }
        },
        "polar24": {
         "domain": {
          "x": [
           0.7111111111111111,
           1
          ],
          "y": [
           0.3472222222222222,
           0.3923611111111111
          ]
         },
         "radialaxis": {
          "range": [
           -0.2,
           1.2
          ],
          "visible": false
         }
        },
        "polar25": {
         "domain": {
          "x": [
           0,
           0.2888888888888889
          ],
          "y": [
           0.2604166666666667,
           0.3055555555555556
          ]
         },
         "radialaxis": {
          "range": [
           -0.2,
           1.2
          ],
          "visible": false
         }
        },
        "polar26": {
         "domain": {
          "x": [
           0.35555555555555557,
           0.6444444444444445
          ],
          "y": [
           0.2604166666666667,
           0.3055555555555556
          ]
         },
         "radialaxis": {
          "range": [
           -0.2,
           1.2
          ],
          "visible": false
         }
        },
        "polar27": {
         "domain": {
          "x": [
           0.7111111111111111,
           1
          ],
          "y": [
           0.2604166666666667,
           0.3055555555555556
          ]
         },
         "radialaxis": {
          "range": [
           -0.2,
           1.2
          ],
          "visible": false
         }
        },
        "polar28": {
         "domain": {
          "x": [
           0,
           0.2888888888888889
          ],
          "y": [
           0.1736111111111111,
           0.21875
          ]
         },
         "radialaxis": {
          "range": [
           -0.2,
           1.2
          ],
          "visible": false
         }
        },
        "polar29": {
         "domain": {
          "x": [
           0.35555555555555557,
           0.6444444444444445
          ],
          "y": [
           0.1736111111111111,
           0.21875
          ]
         },
         "radialaxis": {
          "range": [
           -0.2,
           1.2
          ],
          "visible": false
         }
        },
        "polar3": {
         "domain": {
          "x": [
           0.7111111111111111,
           1
          ],
          "y": [
           0.9548611111111112,
           1
          ]
         },
         "radialaxis": {
          "range": [
           -0.2,
           1.2
          ],
          "visible": false
         }
        },
        "polar30": {
         "domain": {
          "x": [
           0.7111111111111111,
           1
          ],
          "y": [
           0.1736111111111111,
           0.21875
          ]
         },
         "radialaxis": {
          "range": [
           -0.2,
           1.2
          ],
          "visible": false
         }
        },
        "polar31": {
         "domain": {
          "x": [
           0,
           0.2888888888888889
          ],
          "y": [
           0.08680555555555555,
           0.13194444444444445
          ]
         },
         "radialaxis": {
          "range": [
           -0.2,
           1.2
          ],
          "visible": false
         }
        },
        "polar32": {
         "domain": {
          "x": [
           0.35555555555555557,
           0.6444444444444445
          ],
          "y": [
           0.08680555555555555,
           0.13194444444444445
          ]
         },
         "radialaxis": {
          "range": [
           -0.2,
           1.2
          ],
          "visible": false
         }
        },
        "polar33": {
         "domain": {
          "x": [
           0.7111111111111111,
           1
          ],
          "y": [
           0.08680555555555555,
           0.13194444444444445
          ]
         },
         "radialaxis": {
          "range": [
           -0.2,
           1.2
          ],
          "visible": false
         }
        },
        "polar34": {
         "domain": {
          "x": [
           0,
           0.2888888888888889
          ],
          "y": [
           0,
           0.045138888888888895
          ]
         },
         "radialaxis": {
          "range": [
           -0.2,
           1.2
          ],
          "visible": false
         }
        },
        "polar35": {
         "domain": {
          "x": [
           0.35555555555555557,
           0.6444444444444445
          ],
          "y": [
           0,
           0.045138888888888895
          ]
         },
         "radialaxis": {
          "range": [
           -0.2,
           1.2
          ],
          "visible": false
         }
        },
        "polar36": {
         "domain": {
          "x": [
           0.7111111111111111,
           1
          ],
          "y": [
           0,
           0.045138888888888895
          ]
         },
         "radialaxis": {
          "range": [
           -0.2,
           1.2
          ],
          "visible": false
         }
        },
        "polar4": {
         "domain": {
          "x": [
           0,
           0.2888888888888889
          ],
          "y": [
           0.8680555555555556,
           0.9131944444444444
          ]
         },
         "radialaxis": {
          "range": [
           -0.2,
           1.2
          ],
          "visible": false
         }
        },
        "polar5": {
         "domain": {
          "x": [
           0.35555555555555557,
           0.6444444444444445
          ],
          "y": [
           0.8680555555555556,
           0.9131944444444444
          ]
         },
         "radialaxis": {
          "range": [
           -0.2,
           1.2
          ],
          "visible": false
         }
        },
        "polar6": {
         "domain": {
          "x": [
           0.7111111111111111,
           1
          ],
          "y": [
           0.8680555555555556,
           0.9131944444444444
          ]
         },
         "radialaxis": {
          "range": [
           -0.2,
           1.2
          ],
          "visible": false
         }
        },
        "polar7": {
         "domain": {
          "x": [
           0,
           0.2888888888888889
          ],
          "y": [
           0.78125,
           0.8263888888888888
          ]
         },
         "radialaxis": {
          "range": [
           -0.2,
           1.2
          ],
          "visible": false
         }
        },
        "polar8": {
         "domain": {
          "x": [
           0.35555555555555557,
           0.6444444444444445
          ],
          "y": [
           0.78125,
           0.8263888888888888
          ]
         },
         "radialaxis": {
          "range": [
           -0.2,
           1.2
          ],
          "visible": false
         }
        },
        "polar9": {
         "domain": {
          "x": [
           0.7111111111111111,
           1
          ],
          "y": [
           0.78125,
           0.8263888888888888
          ]
         },
         "radialaxis": {
          "range": [
           -0.2,
           1.2
          ],
          "visible": false
         }
        },
        "showlegend": false,
        "template": {
         "data": {
          "bar": [
           {
            "error_x": {
             "color": "#2a3f5f"
            },
            "error_y": {
             "color": "#2a3f5f"
            },
            "marker": {
             "line": {
              "color": "#E5ECF6",
              "width": 0.5
             },
             "pattern": {
              "fillmode": "overlay",
              "size": 10,
              "solidity": 0.2
             }
            },
            "type": "bar"
           }
          ],
          "barpolar": [
           {
            "marker": {
             "line": {
              "color": "#E5ECF6",
              "width": 0.5
             },
             "pattern": {
              "fillmode": "overlay",
              "size": 10,
              "solidity": 0.2
             }
            },
            "type": "barpolar"
           }
          ],
          "carpet": [
           {
            "aaxis": {
             "endlinecolor": "#2a3f5f",
             "gridcolor": "white",
             "linecolor": "white",
             "minorgridcolor": "white",
             "startlinecolor": "#2a3f5f"
            },
            "baxis": {
             "endlinecolor": "#2a3f5f",
             "gridcolor": "white",
             "linecolor": "white",
             "minorgridcolor": "white",
             "startlinecolor": "#2a3f5f"
            },
            "type": "carpet"
           }
          ],
          "choropleth": [
           {
            "colorbar": {
             "outlinewidth": 0,
             "ticks": ""
            },
            "type": "choropleth"
           }
          ],
          "contour": [
           {
            "colorbar": {
             "outlinewidth": 0,
             "ticks": ""
            },
            "colorscale": [
             [
              0,
              "#0d0887"
             ],
             [
              0.1111111111111111,
              "#46039f"
             ],
             [
              0.2222222222222222,
              "#7201a8"
             ],
             [
              0.3333333333333333,
              "#9c179e"
             ],
             [
              0.4444444444444444,
              "#bd3786"
             ],
             [
              0.5555555555555556,
              "#d8576b"
             ],
             [
              0.6666666666666666,
              "#ed7953"
             ],
             [
              0.7777777777777778,
              "#fb9f3a"
             ],
             [
              0.8888888888888888,
              "#fdca26"
             ],
             [
              1,
              "#f0f921"
             ]
            ],
            "type": "contour"
           }
          ],
          "contourcarpet": [
           {
            "colorbar": {
             "outlinewidth": 0,
             "ticks": ""
            },
            "type": "contourcarpet"
           }
          ],
          "heatmap": [
           {
            "colorbar": {
             "outlinewidth": 0,
             "ticks": ""
            },
            "colorscale": [
             [
              0,
              "#0d0887"
             ],
             [
              0.1111111111111111,
              "#46039f"
             ],
             [
              0.2222222222222222,
              "#7201a8"
             ],
             [
              0.3333333333333333,
              "#9c179e"
             ],
             [
              0.4444444444444444,
              "#bd3786"
             ],
             [
              0.5555555555555556,
              "#d8576b"
             ],
             [
              0.6666666666666666,
              "#ed7953"
             ],
             [
              0.7777777777777778,
              "#fb9f3a"
             ],
             [
              0.8888888888888888,
              "#fdca26"
             ],
             [
              1,
              "#f0f921"
             ]
            ],
            "type": "heatmap"
           }
          ],
          "heatmapgl": [
           {
            "colorbar": {
             "outlinewidth": 0,
             "ticks": ""
            },
            "colorscale": [
             [
              0,
              "#0d0887"
             ],
             [
              0.1111111111111111,
              "#46039f"
             ],
             [
              0.2222222222222222,
              "#7201a8"
             ],
             [
              0.3333333333333333,
              "#9c179e"
             ],
             [
              0.4444444444444444,
              "#bd3786"
             ],
             [
              0.5555555555555556,
              "#d8576b"
             ],
             [
              0.6666666666666666,
              "#ed7953"
             ],
             [
              0.7777777777777778,
              "#fb9f3a"
             ],
             [
              0.8888888888888888,
              "#fdca26"
             ],
             [
              1,
              "#f0f921"
             ]
            ],
            "type": "heatmapgl"
           }
          ],
          "histogram": [
           {
            "marker": {
             "pattern": {
              "fillmode": "overlay",
              "size": 10,
              "solidity": 0.2
             }
            },
            "type": "histogram"
           }
          ],
          "histogram2d": [
           {
            "colorbar": {
             "outlinewidth": 0,
             "ticks": ""
            },
            "colorscale": [
             [
              0,
              "#0d0887"
             ],
             [
              0.1111111111111111,
              "#46039f"
             ],
             [
              0.2222222222222222,
              "#7201a8"
             ],
             [
              0.3333333333333333,
              "#9c179e"
             ],
             [
              0.4444444444444444,
              "#bd3786"
             ],
             [
              0.5555555555555556,
              "#d8576b"
             ],
             [
              0.6666666666666666,
              "#ed7953"
             ],
             [
              0.7777777777777778,
              "#fb9f3a"
             ],
             [
              0.8888888888888888,
              "#fdca26"
             ],
             [
              1,
              "#f0f921"
             ]
            ],
            "type": "histogram2d"
           }
          ],
          "histogram2dcontour": [
           {
            "colorbar": {
             "outlinewidth": 0,
             "ticks": ""
            },
            "colorscale": [
             [
              0,
              "#0d0887"
             ],
             [
              0.1111111111111111,
              "#46039f"
             ],
             [
              0.2222222222222222,
              "#7201a8"
             ],
             [
              0.3333333333333333,
              "#9c179e"
             ],
             [
              0.4444444444444444,
              "#bd3786"
             ],
             [
              0.5555555555555556,
              "#d8576b"
             ],
             [
              0.6666666666666666,
              "#ed7953"
             ],
             [
              0.7777777777777778,
              "#fb9f3a"
             ],
             [
              0.8888888888888888,
              "#fdca26"
             ],
             [
              1,
              "#f0f921"
             ]
            ],
            "type": "histogram2dcontour"
           }
          ],
          "mesh3d": [
           {
            "colorbar": {
             "outlinewidth": 0,
             "ticks": ""
            },
            "type": "mesh3d"
           }
          ],
          "parcoords": [
           {
            "line": {
             "colorbar": {
              "outlinewidth": 0,
              "ticks": ""
             }
            },
            "type": "parcoords"
           }
          ],
          "pie": [
           {
            "automargin": true,
            "type": "pie"
           }
          ],
          "scatter": [
           {
            "fillpattern": {
             "fillmode": "overlay",
             "size": 10,
             "solidity": 0.2
            },
            "type": "scatter"
           }
          ],
          "scatter3d": [
           {
            "line": {
             "colorbar": {
              "outlinewidth": 0,
              "ticks": ""
             }
            },
            "marker": {
             "colorbar": {
              "outlinewidth": 0,
              "ticks": ""
             }
            },
            "type": "scatter3d"
           }
          ],
          "scattercarpet": [
           {
            "marker": {
             "colorbar": {
              "outlinewidth": 0,
              "ticks": ""
             }
            },
            "type": "scattercarpet"
           }
          ],
          "scattergeo": [
           {
            "marker": {
             "colorbar": {
              "outlinewidth": 0,
              "ticks": ""
             }
            },
            "type": "scattergeo"
           }
          ],
          "scattergl": [
           {
            "marker": {
             "colorbar": {
              "outlinewidth": 0,
              "ticks": ""
             }
            },
            "type": "scattergl"
           }
          ],
          "scattermapbox": [
           {
            "marker": {
             "colorbar": {
              "outlinewidth": 0,
              "ticks": ""
             }
            },
            "type": "scattermapbox"
           }
          ],
          "scatterpolar": [
           {
            "marker": {
             "colorbar": {
              "outlinewidth": 0,
              "ticks": ""
             }
            },
            "type": "scatterpolar"
           }
          ],
          "scatterpolargl": [
           {
            "marker": {
             "colorbar": {
              "outlinewidth": 0,
              "ticks": ""
             }
            },
            "type": "scatterpolargl"
           }
          ],
          "scatterternary": [
           {
            "marker": {
             "colorbar": {
              "outlinewidth": 0,
              "ticks": ""
             }
            },
            "type": "scatterternary"
           }
          ],
          "surface": [
           {
            "colorbar": {
             "outlinewidth": 0,
             "ticks": ""
            },
            "colorscale": [
             [
              0,
              "#0d0887"
             ],
             [
              0.1111111111111111,
              "#46039f"
             ],
             [
              0.2222222222222222,
              "#7201a8"
             ],
             [
              0.3333333333333333,
              "#9c179e"
             ],
             [
              0.4444444444444444,
              "#bd3786"
             ],
             [
              0.5555555555555556,
              "#d8576b"
             ],
             [
              0.6666666666666666,
              "#ed7953"
             ],
             [
              0.7777777777777778,
              "#fb9f3a"
             ],
             [
              0.8888888888888888,
              "#fdca26"
             ],
             [
              1,
              "#f0f921"
             ]
            ],
            "type": "surface"
           }
          ],
          "table": [
           {
            "cells": {
             "fill": {
              "color": "#EBF0F8"
             },
             "line": {
              "color": "white"
             }
            },
            "header": {
             "fill": {
              "color": "#C8D4E3"
             },
             "line": {
              "color": "white"
             }
            },
            "type": "table"
           }
          ]
         },
         "layout": {
          "annotationdefaults": {
           "arrowcolor": "#2a3f5f",
           "arrowhead": 0,
           "arrowwidth": 1
          },
          "autotypenumbers": "strict",
          "coloraxis": {
           "colorbar": {
            "outlinewidth": 0,
            "ticks": ""
           }
          },
          "colorscale": {
           "diverging": [
            [
             0,
             "#8e0152"
            ],
            [
             0.1,
             "#c51b7d"
            ],
            [
             0.2,
             "#de77ae"
            ],
            [
             0.3,
             "#f1b6da"
            ],
            [
             0.4,
             "#fde0ef"
            ],
            [
             0.5,
             "#f7f7f7"
            ],
            [
             0.6,
             "#e6f5d0"
            ],
            [
             0.7,
             "#b8e186"
            ],
            [
             0.8,
             "#7fbc41"
            ],
            [
             0.9,
             "#4d9221"
            ],
            [
             1,
             "#276419"
            ]
           ],
           "sequential": [
            [
             0,
             "#0d0887"
            ],
            [
             0.1111111111111111,
             "#46039f"
            ],
            [
             0.2222222222222222,
             "#7201a8"
            ],
            [
             0.3333333333333333,
             "#9c179e"
            ],
            [
             0.4444444444444444,
             "#bd3786"
            ],
            [
             0.5555555555555556,
             "#d8576b"
            ],
            [
             0.6666666666666666,
             "#ed7953"
            ],
            [
             0.7777777777777778,
             "#fb9f3a"
            ],
            [
             0.8888888888888888,
             "#fdca26"
            ],
            [
             1,
             "#f0f921"
            ]
           ],
           "sequentialminus": [
            [
             0,
             "#0d0887"
            ],
            [
             0.1111111111111111,
             "#46039f"
            ],
            [
             0.2222222222222222,
             "#7201a8"
            ],
            [
             0.3333333333333333,
             "#9c179e"
            ],
            [
             0.4444444444444444,
             "#bd3786"
            ],
            [
             0.5555555555555556,
             "#d8576b"
            ],
            [
             0.6666666666666666,
             "#ed7953"
            ],
            [
             0.7777777777777778,
             "#fb9f3a"
            ],
            [
             0.8888888888888888,
             "#fdca26"
            ],
            [
             1,
             "#f0f921"
            ]
           ]
          },
          "colorway": [
           "#636efa",
           "#EF553B",
           "#00cc96",
           "#ab63fa",
           "#FFA15A",
           "#19d3f3",
           "#FF6692",
           "#B6E880",
           "#FF97FF",
           "#FECB52"
          ],
          "font": {
           "color": "#2a3f5f"
          },
          "geo": {
           "bgcolor": "white",
           "lakecolor": "white",
           "landcolor": "#E5ECF6",
           "showlakes": true,
           "showland": true,
           "subunitcolor": "white"
          },
          "hoverlabel": {
           "align": "left"
          },
          "hovermode": "closest",
          "mapbox": {
           "style": "light"
          },
          "paper_bgcolor": "white",
          "plot_bgcolor": "#E5ECF6",
          "polar": {
           "angularaxis": {
            "gridcolor": "white",
            "linecolor": "white",
            "ticks": ""
           },
           "bgcolor": "#E5ECF6",
           "radialaxis": {
            "gridcolor": "white",
            "linecolor": "white",
            "ticks": ""
           }
          },
          "scene": {
           "xaxis": {
            "backgroundcolor": "#E5ECF6",
            "gridcolor": "white",
            "gridwidth": 2,
            "linecolor": "white",
            "showbackground": true,
            "ticks": "",
            "zerolinecolor": "white"
           },
           "yaxis": {
            "backgroundcolor": "#E5ECF6",
            "gridcolor": "white",
            "gridwidth": 2,
            "linecolor": "white",
            "showbackground": true,
            "ticks": "",
            "zerolinecolor": "white"
           },
           "zaxis": {
            "backgroundcolor": "#E5ECF6",
            "gridcolor": "white",
            "gridwidth": 2,
            "linecolor": "white",
            "showbackground": true,
            "ticks": "",
            "zerolinecolor": "white"
           }
          },
          "shapedefaults": {
           "line": {
            "color": "#2a3f5f"
           }
          },
          "ternary": {
           "aaxis": {
            "gridcolor": "white",
            "linecolor": "white",
            "ticks": ""
           },
           "baxis": {
            "gridcolor": "white",
            "linecolor": "white",
            "ticks": ""
           },
           "bgcolor": "#E5ECF6",
           "caxis": {
            "gridcolor": "white",
            "linecolor": "white",
            "ticks": ""
           }
          },
          "title": {
           "x": 0.05
          },
          "xaxis": {
           "automargin": true,
           "gridcolor": "white",
           "linecolor": "white",
           "ticks": "",
           "title": {
            "standoff": 15
           },
           "zerolinecolor": "white",
           "zerolinewidth": 2
          },
          "yaxis": {
           "automargin": true,
           "gridcolor": "white",
           "linecolor": "white",
           "ticks": "",
           "title": {
            "standoff": 15
           },
           "zerolinecolor": "white",
           "zerolinewidth": 2
          }
         }
        },
        "title": {
         "y": 1
        },
        "width": 1650
       }
      }
     },
     "metadata": {},
     "output_type": "display_data"
    }
   ],
   "source": [
    "position = positions[1]\n",
    "df = players_stats.loc[players_stats.index.get_level_values(1) == position]\n",
    "\n",
    "ROWS, COLUMNS = get_rows_columns(df, len(origin_columns))\n",
    "min_value, max_value = 0, 1\n",
    "\n",
    "fig = get_fig_subplots(df.index.get_level_values(0), ROWS, COLUMNS)\n",
    "for i, player_name in enumerate(df.index.get_level_values(0)):\n",
    "    for j, (key, cols) in enumerate(columns.items()):\n",
    "        _df = df.loc[(player_name, position), cols]\n",
    "        theta_list = get_theta_list(df, (player_name, position), origin_columns[key])\n",
    "\n",
    "        fig.add_trace(\n",
    "            go.Scatterpolar(r=_df, theta=theta_list, fill=\"toself\", name=player_name),\n",
    "            row=i + 1,\n",
    "            col=j + 1,\n",
    "        )\n",
    "\n",
    "fig.update_layout(\n",
    "    height=350 * ROWS, width=550 * COLUMNS, showlegend=False, title=dict(y=1)\n",
    ")\n",
    "fig.update_annotations(yshift=20)\n",
    "fig.update_polars(\n",
    "    radialaxis=dict(range=[min_value - 0.2, max_value + 0.2], visible=False)\n",
    ")\n",
    "fig.show()"
   ]
  },
  {
   "cell_type": "code",
   "execution_count": 25,
   "metadata": {},
   "outputs": [
    {
     "data": {
      "application/vnd.plotly.v1+json": {
       "config": {
        "plotlyServerURL": "https://plot.ly"
       },
       "data": [
        {
         "fill": "toself",
         "name": "FATE",
         "r": [
          0.672810105611928,
          0.12587412587412594,
          0.384446878422782,
          0.5250870661702896,
          0.8637396969337652,
          0.9999999999999998,
          0.3807475487781389
         ],
         "subplot": "polar",
         "theta": [
          "kills - 2.45 | 7",
          "deaths - 1.45 | 9",
          "assists - 4.27 | 10",
          "kda - 4.89 | 6",
          "dpm - 585.82 | 5",
          "damageshare - 0.3 | 1",
          "damagetakenperminute - 477.32 | 9"
         ],
         "type": "scatterpolar"
        },
        {
         "fill": "toself",
         "name": "FATE",
         "r": [
          0.2727272727272727,
          0,
          0.2507744603894908,
          0.7517409905039443,
          0.4545454545454548,
          0.6509524122693482,
          0.724871834576263,
          0.42113623244848275,
          0.7589543405888026,
          0.6725477636533328,
          0.4999999999999999
         ],
         "subplot": "polar2",
         "theta": [
          "firstblood - 0.09 | 12",
          "firstbloodvictim - 0.0 | 10",
          "wpm - 0.42 | 11",
          "wcpm - 0.32 | 3",
          "controlwardsbought - 6.64 | 10",
          "vspm - 1.3 | 2",
          "gpm - 391.41 | 9",
          "gdpm - -32.65 | 9",
          "goldshare - 0.22 | 4",
          "cspm - 8.83 | 8",
          "champions - 7.0 | 6"
         ],
         "type": "scatterpolar"
        },
        {
         "fill": "toself",
         "name": "FATE",
         "r": [
          0.13951235265622486,
          0.0869141357330333,
          0.2894912067682426,
          0.37541871649378106,
          0.21697568486559315,
          0.4768169306116613
         ],
         "subplot": "polar3",
         "theta": [
          "golddiffat10 - -194.64 | 11",
          "xpdiffat10 - -165.0 | 12",
          "csdiffat10 - -3.36 | 11",
          "golddiffat15 - -346.91 | 10",
          "xpdiffat15 - -309.0 | 11",
          "csdiffat15 - -2.64 | 10"
         ],
         "type": "scatterpolar"
        },
        {
         "fill": "toself",
         "name": "kyeahoo",
         "r": [
          0.3318147304479878,
          0.7252747252747253,
          0.012048192771084265,
          0,
          0.17216936533314087,
          0,
          1
         ],
         "subplot": "polar4",
         "theta": [
          "kills - 1.67 | 11",
          "deaths - 2.67 | 4",
          "assists - 2.56 | 12",
          "kda - 1.64 | 13",
          "dpm - 382.02 | 12",
          "damageshare - 0.19 | 13",
          "damagetakenperminute - 610.78 | 1"
         ],
         "type": "scatterpolar"
        },
        {
         "fill": "toself",
         "name": "kyeahoo",
         "r": [
          0,
          1,
          1,
          0.27522228862091347,
          0.7407407407407409,
          0.416708139437441,
          0,
          0,
          0,
          0,
          0
         ],
         "subplot": "polar5",
         "theta": [
          "firstblood - 0.0 | 13",
          "firstbloodvictim - 0.22 | 1",
          "wpm - 0.56 | 1",
          "wcpm - 0.21 | 11",
          "controlwardsbought - 7.67 | 4",
          "vspm - 1.22 | 7",
          "gpm - 325.21 | 13",
          "gdpm - -100.28 | 13",
          "goldshare - 0.21 | 13",
          "cspm - 7.46 | 13",
          "champions - 4.0 | 13"
         ],
         "type": "scatterpolar"
        },
        {
         "fill": "toself",
         "name": "kyeahoo",
         "r": [
          0,
          0.5767362413031704,
          0.5102685624012638,
          0,
          0.44112971635907416,
          0.26814348756936257
         ],
         "subplot": "polar6",
         "theta": [
          "golddiffat10 - -247.0 | 13",
          "xpdiffat10 - 6.89 | 7",
          "csdiffat10 - -0.67 | 7",
          "golddiffat15 - -795.44 | 13",
          "xpdiffat15 - -125.11 | 10",
          "csdiffat15 - -8.22 | 11"
         ],
         "type": "scatterpolar"
        },
        {
         "fill": "toself",
         "name": "ShowMaker",
         "r": [
          1,
          0.08328513591671494,
          0.46227013316423604,
          0.7155058054647848,
          0.871573090039814,
          0.7210077333785014,
          0.16396702769249583
         ],
         "subplot": "polar7",
         "theta": [
          "kills - 3.21 | 1",
          "deaths - 1.37 | 10",
          "assists - 4.63 | 6",
          "kda - 6.06 | 3",
          "dpm - 588.13 | 4",
          "damageshare - 0.27 | 5",
          "damagetakenperminute - 430.6 | 11"
         ],
         "type": "scatterpolar"
        },
        {
         "fill": "toself",
         "name": "ShowMaker",
         "r": [
          0.7894736842105263,
          0.47368421052631576,
          0.3373694874504367,
          0.7016731179520406,
          0.5847953216374271,
          0.5662546753066842,
          0.8703164414282969,
          0.8136508202827099,
          0.6984738170973035,
          0.6941929668490023,
          0.8333333333333334
         ],
         "subplot": "polar8",
         "theta": [
          "firstblood - 0.26 | 5",
          "firstbloodvictim - 0.11 | 7",
          "wpm - 0.44 | 8",
          "wcpm - 0.31 | 4",
          "controlwardsbought - 7.11 | 6",
          "vspm - 1.28 | 4",
          "gpm - 404.7 | 6",
          "gdpm - 30.38 | 3",
          "goldshare - 0.22 | 5",
          "cspm - 8.88 | 5",
          "champions - 9.0 | 2"
         ],
         "type": "scatterpolar"
        },
        {
         "fill": "toself",
         "name": "ShowMaker",
         "r": [
          0.7584836870150509,
          0.5019122609673791,
          0.49590693666523056,
          0.6883761453520244,
          0.6003079489318022,
          0.5792371215100276
         ],
         "subplot": "polar9",
         "theta": [
          "golddiffat10 - 37.68 | 6",
          "xpdiffat10 - -19.37 | 8",
          "csdiffat10 - -0.84 | 8",
          "golddiffat15 - 27.0 | 7",
          "xpdiffat15 - 5.47 | 8",
          "csdiffat15 - 0.11 | 6"
         ],
         "type": "scatterpolar"
        },
        {
         "fill": "toself",
         "name": "Chovy",
         "r": [
          0.5899772209567198,
          0.08328513591671494,
          0.7247939124920737,
          0.7664242508517,
          0.7442302381746766,
          0.6104999228234684,
          0.3508580887638857
         ],
         "subplot": "polar10",
         "theta": [
          "kills - 2.26 | 9",
          "deaths - 1.37 | 10",
          "assists - 5.84 | 2",
          "kda - 6.38 | 2",
          "dpm - 550.6 | 8",
          "damageshare - 0.26 | 9",
          "damagetakenperminute - 470.88 | 10"
         ],
         "type": "scatterpolar"
        },
        {
         "fill": "toself",
         "name": "Chovy",
         "r": [
          0.9473684210526315,
          0,
          0.30220744345667994,
          1,
          0.13157894736842124,
          1.0000000000000004,
          0.9744638424638263,
          1,
          0.3606771740334551,
          0.9104501663596465,
          0.6666666666666666
         ],
         "subplot": "polar11",
         "theta": [
          "firstblood - 0.32 | 2",
          "firstbloodvictim - 0.0 | 10",
          "wpm - 0.43 | 9",
          "wcpm - 0.37 | 1",
          "controlwardsbought - 5.47 | 12",
          "vspm - 1.42 | 1",
          "gpm - 414.21 | 3",
          "gdpm - 60.31 | 1",
          "goldshare - 0.21 | 10",
          "cspm - 9.32 | 3",
          "champions - 8.0 | 4"
         ],
         "type": "scatterpolar"
        },
        {
         "fill": "toself",
         "name": "Chovy",
         "r": [
          0.9905581004019818,
          1,
          1,
          1,
          1,
          1
         ],
         "subplot": "polar12",
         "theta": [
          "golddiffat10 - 124.79 | 2",
          "xpdiffat10 - 155.42 | 1",
          "csdiffat10 - 5.32 | 1",
          "golddiffat15 - 399.32 | 1",
          "xpdiffat15 - 333.37 | 1",
          "csdiffat15 - 11.37 | 1"
         ],
         "type": "scatterpolar"
        },
        {
         "fill": "toself",
         "name": "Zeka",
         "r": [
          0.9316628701594534,
          0.2914979757085021,
          0.4051997463538364,
          0.6386317180004173,
          0.6054690139916961,
          0.47618217420659037,
          0.5876626381527599
         ],
         "subplot": "polar13",
         "theta": [
          "kills - 3.05 | 2",
          "deaths - 1.79 | 8",
          "assists - 4.37 | 7",
          "kda - 5.59 | 4",
          "dpm - 509.71 | 9",
          "damageshare - 0.24 | 11",
          "damagetakenperminute - 521.91 | 4"
         ],
         "type": "scatterpolar"
        },
        {
         "fill": "toself",
         "name": "Zeka",
         "r": [
          0.9473684210526315,
          0.23684210526315788,
          0.44169227637153297,
          0.4635877751261326,
          0.7748538011695909,
          0.4992380981698967,
          0.7748694673018863,
          0.6339052792170222,
          0.47817858369792354,
          0.6863803972811406,
          0.4999999999999999
         ],
         "subplot": "polar14",
         "theta": [
          "firstblood - 0.32 | 2",
          "firstbloodvictim - 0.05 | 9",
          "wpm - 0.45 | 7",
          "wcpm - 0.25 | 8",
          "controlwardsbought - 7.79 | 3",
          "vspm - 1.25 | 6",
          "gpm - 395.98 | 7",
          "gdpm - 1.52 | 6",
          "goldshare - 0.22 | 8",
          "cspm - 8.86 | 6",
          "champions - 7.0 | 6"
         ],
         "type": "scatterpolar"
        },
        {
         "fill": "toself",
         "name": "Zeka",
         "r": [
          0.8061606057773207,
          0.41342332208473936,
          0.5691512279190005,
          0.6854687132899991,
          0.5828575094630141,
          0.5340149429807315
         ],
         "subplot": "polar15",
         "theta": [
          "golddiffat10 - 55.58 | 4",
          "xpdiffat10 - -50.42 | 9",
          "csdiffat10 - 0.05 | 6",
          "golddiffat15 - 23.53 | 8",
          "xpdiffat15 - -8.84 | 9",
          "csdiffat15 - -1.11 | 9"
         ],
         "type": "scatterpolar"
        },
        {
         "fill": "toself",
         "name": "Bdd",
         "r": [
          0.8127056441407237,
          0.038461538461538436,
          1,
          1,
          0.7648499452114355,
          0.6920992397764734,
          0.08165797072256398
         ],
         "subplot": "polar16",
         "theta": [
          "kills - 2.78 | 5",
          "deaths - 1.28 | 12",
          "assists - 7.11 | 1",
          "kda - 7.82 | 1",
          "dpm - 556.68 | 7",
          "damageshare - 0.27 | 6",
          "damagetakenperminute - 412.86 | 12"
         ],
         "type": "scatterpolar"
        },
        {
         "fill": "toself",
         "name": "Bdd",
         "r": [
          0.6666666666666666,
          0.5,
          0.47329158224350687,
          0,
          0.37037037037037046,
          0.052920110616858196,
          0.9383879872006458,
          0.8131360702425255,
          0.22134939618712401,
          0.566477647944899,
          0.4999999999999999
         ],
         "subplot": "polar17",
         "theta": [
          "firstblood - 0.22 | 7",
          "firstbloodvictim - 0.11 | 5",
          "wpm - 0.46 | 6",
          "wcpm - 0.15 | 13",
          "controlwardsbought - 6.33 | 11",
          "vspm - 1.1 | 12",
          "gpm - 410.91 | 4",
          "gdpm - 30.3 | 4",
          "goldshare - 0.21 | 11",
          "cspm - 8.62 | 10",
          "champions - 7.0 | 6"
         ],
         "type": "scatterpolar"
        },
        {
         "fill": "toself",
         "name": "Bdd",
         "r": [
          0.7313499111900532,
          0.22243052951714365,
          0.4875293216525445,
          0.8135988526901088,
          0.6241098351190094,
          0.5462489622930048
         ],
         "subplot": "polar18",
         "theta": [
          "golddiffat10 - 27.5 | 7",
          "xpdiffat10 - -117.44 | 11",
          "csdiffat10 - -0.94 | 9",
          "golddiffat15 - 176.61 | 4",
          "xpdiffat15 - 25.0 | 7",
          "csdiffat15 - -0.78 | 8"
         ],
         "type": "scatterpolar"
        },
        {
         "fill": "toself",
         "name": "BuLLDoG",
         "r": [
          0.6113325740318907,
          0.6428571428571429,
          0.48795180722891573,
          0.28997688243064734,
          0.9593675186431487,
          0.760385939153372,
          0.5592164229877299
         ],
         "subplot": "polar19",
         "theta": [
          "kills - 2.31 | 8",
          "deaths - 2.5 | 5",
          "assists - 4.75 | 5",
          "kda - 3.43 | 8",
          "dpm - 614.0 | 2",
          "damageshare - 0.27 | 4",
          "damagetakenperminute - 515.78 | 6"
         ],
         "type": "scatterpolar"
        },
        {
         "fill": "toself",
         "name": "BuLLDoG",
         "r": [
          0.75,
          0.5625,
          0.4927357708601954,
          0.4740031376608358,
          0.5902777777777779,
          0.6001862426695808,
          0.9817835143318399,
          0.7823966760449368,
          1,
          0.9649133997718686,
          0.8333333333333334
         ],
         "subplot": "polar20",
         "theta": [
          "firstblood - 0.25 | 6",
          "firstbloodvictim - 0.12 | 4",
          "wpm - 0.46 | 5",
          "wcpm - 0.25 | 7",
          "controlwardsbought - 7.12 | 5",
          "vspm - 1.29 | 3",
          "gpm - 414.88 | 2",
          "gdpm - 25.37 | 5",
          "goldshare - 0.23 | 1",
          "cspm - 9.43 | 2",
          "champions - 9.0 | 2"
         ],
         "type": "scatterpolar"
        },
        {
         "fill": "toself",
         "name": "BuLLDoG",
         "r": [
          0.8289298401420958,
          0.6308398950131233,
          0.4113528651443344,
          0.9555322583013548,
          0.6382041124013601,
          0.5472866692882423
         ],
         "subplot": "polar21",
         "theta": [
          "golddiffat10 - 64.12 | 3",
          "xpdiffat10 - 25.88 | 5",
          "csdiffat10 - -1.88 | 10",
          "golddiffat15 - 346.19 | 2",
          "xpdiffat15 - 36.56 | 6",
          "csdiffat15 - -0.75 | 7"
         ],
         "type": "scatterpolar"
        },
        {
         "fill": "toself",
         "name": "Clozer",
         "r": [
          0.7038724373576308,
          0.81203007518797,
          0.5764109067850349,
          0.2888688034485156,
          0.7921845263976359,
          0.8146539734822225,
          0.9247135816555172
         ],
         "subplot": "polar22",
         "theta": [
          "kills - 2.53 | 6",
          "deaths - 2.84 | 3",
          "assists - 5.16 | 4",
          "kda - 3.43 | 9",
          "dpm - 564.73 | 6",
          "damageshare - 0.28 | 3",
          "damagetakenperminute - 594.56 | 2"
         ],
         "type": "scatterpolar"
        },
        {
         "fill": "toself",
         "name": "Clozer",
         "r": [
          0.9473684210526315,
          0.47368421052631576,
          0,
          0.6367851044359631,
          0.5263157894736843,
          0.19732487801874754,
          0.8877183137614213,
          0.6052936110494735,
          0.9801911686568836,
          0.9999999999999996,
          0.9999999999999999
         ],
         "subplot": "polar23",
         "theta": [
          "firstblood - 0.32 | 2",
          "firstbloodvictim - 0.11 | 7",
          "wpm - 0.38 | 13",
          "wcpm - 0.29 | 5",
          "controlwardsbought - 6.89 | 9",
          "vspm - 1.15 | 10",
          "gpm - 406.29 | 5",
          "gdpm - -3.08 | 7",
          "goldshare - 0.23 | 2",
          "cspm - 9.5 | 1",
          "champions - 10.0 | 1"
         ],
         "type": "scatterpolar"
        },
        {
         "fill": "toself",
         "name": "Clozer",
         "r": [
          0.649527905020099,
          0.6760404949381327,
          0.6811719086600604,
          0.7249833581329783,
          0.6547122602168474,
          0.7896185607550138
         ],
         "subplot": "polar24",
         "theta": [
          "golddiffat10 - -3.21 | 8",
          "xpdiffat10 - 41.74 | 4",
          "csdiffat10 - 1.42 | 4",
          "golddiffat15 - 70.74 | 5",
          "xpdiffat15 - 50.11 | 5",
          "csdiffat15 - 5.74 | 2"
         ],
         "type": "scatterpolar"
        },
        {
         "fill": "toself",
         "name": "Quad",
         "r": [
          0,
          0.5934065934065934,
          0,
          0.04006340819022458,
          0,
          0.17232723163902053,
          0.7140194711982146
         ],
         "subplot": "polar25",
         "theta": [
          "kills - 0.9 | 13",
          "deaths - 2.4 | 6",
          "assists - 2.5 | 13",
          "kda - 1.89 | 12",
          "dpm - 331.29 | 13",
          "damageshare - 0.21 | 12",
          "damagetakenperminute - 549.15 | 3"
         ],
         "type": "scatterpolar"
        },
        {
         "fill": "toself",
         "name": "Quad",
         "r": [
          0.30000000000000004,
          0.9,
          0.8154540431018602,
          0.2349161892199214,
          1,
          0.25977774015299593,
          0.2244033682803268,
          0.11491254892417802,
          0.0581774281250258,
          0.3200156090532511,
          0.16666666666666663
         ],
         "subplot": "polar26",
         "theta": [
          "firstblood - 0.1 | 10",
          "firstbloodvictim - 0.2 | 3",
          "wpm - 0.52 | 3",
          "wcpm - 0.2 | 12",
          "controlwardsbought - 8.6 | 1",
          "vspm - 1.17 | 9",
          "gpm - 345.71 | 12",
          "gdpm - -81.83 | 11",
          "goldshare - 0.21 | 12",
          "cspm - 8.11 | 12",
          "champions - 5.0 | 11"
         ],
         "type": "scatterpolar"
        },
        {
         "fill": "toself",
         "name": "Quad",
         "r": [
          0.5525754884547069,
          0,
          0.20465316673847483,
          0.3586865651186467,
          0,
          0.11954384585135674
         ],
         "subplot": "polar27",
         "theta": [
          "golddiffat10 - -39.6 | 9",
          "xpdiffat10 - -195.5 | 13",
          "csdiffat10 - -4.4 | 12",
          "golddiffat15 - -366.9 | 11",
          "xpdiffat15 - -487.0 | 13",
          "csdiffat15 - -12.2 | 12"
         ],
         "type": "scatterpolar"
        },
        {
         "fill": "toself",
         "name": "FIESTA",
         "r": [
          0.9088838268792709,
          1,
          0.3975903614457831,
          0.20959929546455308,
          1,
          0.9631093274512275,
          0.5137881162026043
         ],
         "subplot": "polar28",
         "theta": [
          "kills - 3.0 | 3",
          "deaths - 3.22 | 1",
          "assists - 4.33 | 8",
          "kda - 2.94 | 10",
          "dpm - 625.97 | 1",
          "damageshare - 0.29 | 2",
          "damagetakenperminute - 505.99 | 7"
         ],
         "type": "scatterpolar"
        },
        {
         "fill": "toself",
         "name": "FIESTA",
         "r": [
          1,
          0.5,
          0.600785902867317,
          0.6159456672272552,
          0.925925925925926,
          0.5073992553713649,
          0.7372567313941167,
          0.3321082198799231,
          0.823217725582543,
          0.4835968498092531,
          0.33333333333333337
         ],
         "subplot": "polar29",
         "theta": [
          "firstblood - 0.33 | 1",
          "firstbloodvictim - 0.11 | 5",
          "wpm - 0.48 | 4",
          "wcpm - 0.29 | 6",
          "controlwardsbought - 8.33 | 2",
          "vspm - 1.26 | 5",
          "gpm - 392.55 | 8",
          "gdpm - -46.95 | 10",
          "goldshare - 0.23 | 3",
          "cspm - 8.45 | 11",
          "champions - 6.0 | 9"
         ],
         "type": "scatterpolar"
        },
        {
         "fill": "toself",
         "name": "FIESTA",
         "r": [
          1,
          0.5881348164812731,
          0.8013308439848724,
          0.9468194455321481,
          0.897022447481163,
          0.7413378773976493
         ],
         "subplot": "polar30",
         "theta": [
          "golddiffat10 - 128.33 | 1",
          "xpdiffat10 - 10.89 | 6",
          "csdiffat10 - 2.89 | 3",
          "golddiffat15 - 335.78 | 3",
          "xpdiffat15 - 248.89 | 2",
          "csdiffat15 - 4.44 | 3"
         ],
         "type": "scatterpolar"
        },
        {
         "fill": "toself",
         "name": "Ivory",
         "r": [
          0.1298405466970387,
          0.8406593406593407,
          0.10843373493975905,
          0.11632760898282696,
          0.4652059170443186,
          0.5514723744713608,
          0.5820513109214227
         ],
         "subplot": "polar31",
         "theta": [
          "kills - 1.2 | 12",
          "deaths - 2.9 | 2",
          "assists - 3.0 | 11",
          "kda - 2.36 | 11",
          "dpm - 468.38 | 10",
          "damageshare - 0.25 | 10",
          "damagetakenperminute - 520.7 | 5"
         ],
         "type": "scatterpolar"
        },
        {
         "fill": "toself",
         "name": "Ivory",
         "r": [
          0.30000000000000004,
          0,
          0.8255111438570637,
          0.2809116382564879,
          0.5833333333333335,
          0.1863442564915574,
          0.4651102444303601,
          0.10782250945667238,
          0.36697172005701795,
          0.7676112145044125,
          0.33333333333333337
         ],
         "subplot": "polar32",
         "theta": [
          "firstblood - 0.1 | 10",
          "firstbloodvictim - 0.0 | 10",
          "wpm - 0.52 | 2",
          "wcpm - 0.21 | 10",
          "controlwardsbought - 7.1 | 7",
          "vspm - 1.15 | 11",
          "gpm - 367.69 | 11",
          "gdpm - -82.96 | 12",
          "goldshare - 0.21 | 9",
          "cspm - 9.03 | 4",
          "champions - 6.0 | 9"
         ],
         "type": "scatterpolar"
        },
        {
         "fill": "toself",
         "name": "Ivory",
         "r": [
          0.09191829484902314,
          0.254188226471691,
          0,
          0.12600389615474983,
          0.09922371206774877,
          0
         ],
         "subplot": "polar33",
         "theta": [
          "golddiffat10 - -212.5 | 12",
          "xpdiffat10 - -106.3 | 10",
          "csdiffat10 - -6.9 | 13",
          "golddiffat15 - -644.9 | 12",
          "xpdiffat15 - -405.6 | 12",
          "csdiffat15 - -15.4 | 13"
         ],
         "type": "scatterpolar"
        },
        {
         "fill": "toself",
         "name": "Karis",
         "r": [
          0.3895216400911161,
          0,
          0.3903614457831326,
          0.6243064729194188,
          0.3391856917432199,
          0.6397385148604282,
          0
         ],
         "subplot": "polar34",
         "theta": [
          "kills - 1.8 | 10",
          "deaths - 1.2 | 13",
          "assists - 4.3 | 9",
          "kda - 5.5 | 5",
          "dpm - 431.24 | 11",
          "damageshare - 0.26 | 7",
          "damagetakenperminute - 395.26 | 13"
         ],
         "type": "scatterpolar"
        },
        {
         "fill": "toself",
         "name": "Karis",
         "r": [
          0.6000000000000001,
          0,
          0.11212009578191218,
          0.7981618031417912,
          0.5555555555555558,
          0.35093352214132834,
          0.5649095670040674,
          0.44047535930825166,
          0.582997619310067,
          0.6793731273229393,
          0.16666666666666663
         ],
         "subplot": "polar35",
         "theta": [
          "firstblood - 0.2 | 8",
          "firstbloodvictim - 0.0 | 10",
          "wpm - 0.4 | 12",
          "wcpm - 0.33 | 2",
          "controlwardsbought - 7.0 | 8",
          "vspm - 1.2 | 8",
          "gpm - 376.81 | 10",
          "gdpm - -29.54 | 8",
          "goldshare - 0.22 | 6",
          "cspm - 8.85 | 7",
          "champions - 5.0 | 11"
         ],
         "type": "scatterpolar"
        },
        {
         "fill": "toself",
         "name": "Karis",
         "r": [
          0.4990230905861456,
          0.9050468691413572,
          0.5730288668677295,
          0.5585593037825984,
          0.7492974914993263,
          0.5939834840739284
         ],
         "subplot": "polar36",
         "theta": [
          "golddiffat10 - -59.7 | 10",
          "xpdiffat10 - 122.1 | 3",
          "csdiffat10 - 0.1 | 5",
          "golddiffat15 - -128.1 | 9",
          "xpdiffat15 - 127.7 | 3",
          "csdiffat15 - 0.5 | 5"
         ],
         "type": "scatterpolar"
        },
        {
         "fill": "toself",
         "name": "Faker",
         "r": [
          0.8405466970387243,
          0.4736842105263158,
          0.5878249841471148,
          0.49381909198359175,
          0.9214399330773544,
          0.6262986558879586,
          0.4042202754583575
         ],
         "subplot": "polar37",
         "theta": [
          "kills - 2.84 | 4",
          "deaths - 2.16 | 7",
          "assists - 5.21 | 3",
          "kda - 4.69 | 7",
          "dpm - 602.82 | 3",
          "damageshare - 0.26 | 8",
          "damagetakenperminute - 482.38 | 8"
         ],
         "type": "scatterpolar"
        },
        {
         "fill": "toself",
         "name": "Faker",
         "r": [
          0.47368421052631576,
          0.9473684210526315,
          0.28475729755407153,
          0.3930542953428129,
          0,
          0,
          0.9999999999999996,
          0.9464801684248794,
          0.48546238606129144,
          0.6110648482339855,
          0.6666666666666666
         ],
         "subplot": "polar38",
         "theta": [
          "firstblood - 0.16 | 9",
          "firstbloodvictim - 0.21 | 2",
          "wpm - 0.43 | 10",
          "wcpm - 0.24 | 9",
          "controlwardsbought - 5.0 | 13",
          "vspm - 1.08 | 13",
          "gpm - 416.54 | 1",
          "gdpm - 51.72 | 2",
          "goldshare - 0.22 | 7",
          "cspm - 8.71 | 9",
          "champions - 8.0 | 4"
         ],
         "type": "scatterpolar"
        },
        {
         "fill": "toself",
         "name": "Faker",
         "r": [
          0.7596054968682808,
          0.9668541432320958,
          0.8362774666092202,
          0.6985081055681729,
          0.7012253801244627,
          0.6814785686197405
         ],
         "subplot": "polar39",
         "theta": [
          "golddiffat10 - 38.11 | 5",
          "xpdiffat10 - 143.79 | 2",
          "csdiffat10 - 3.32 | 2",
          "golddiffat15 - 39.11 | 6",
          "xpdiffat15 - 88.26 | 4",
          "csdiffat15 - 2.84 | 4"
         ],
         "type": "scatterpolar"
        }
       ],
       "layout": {
        "annotations": [
         {
          "font": {
           "size": 16
          },
          "showarrow": false,
          "text": "FATE",
          "x": 0.14444444444444446,
          "xanchor": "center",
          "xref": "paper",
          "y": 1,
          "yanchor": "bottom",
          "yref": "paper",
          "yshift": 20
         },
         {
          "font": {
           "size": 16
          },
          "showarrow": false,
          "text": "FATE",
          "x": 0.5,
          "xanchor": "center",
          "xref": "paper",
          "y": 1,
          "yanchor": "bottom",
          "yref": "paper",
          "yshift": 20
         },
         {
          "font": {
           "size": 16
          },
          "showarrow": false,
          "text": "FATE",
          "x": 0.8555555555555556,
          "xanchor": "center",
          "xref": "paper",
          "y": 1,
          "yanchor": "bottom",
          "yref": "paper",
          "yshift": 20
         },
         {
          "font": {
           "size": 16
          },
          "showarrow": false,
          "text": "kyeahoo",
          "x": 0.14444444444444446,
          "xanchor": "center",
          "xref": "paper",
          "y": 0.9201183431952662,
          "yanchor": "bottom",
          "yref": "paper",
          "yshift": 20
         },
         {
          "font": {
           "size": 16
          },
          "showarrow": false,
          "text": "kyeahoo",
          "x": 0.5,
          "xanchor": "center",
          "xref": "paper",
          "y": 0.9201183431952662,
          "yanchor": "bottom",
          "yref": "paper",
          "yshift": 20
         },
         {
          "font": {
           "size": 16
          },
          "showarrow": false,
          "text": "kyeahoo",
          "x": 0.8555555555555556,
          "xanchor": "center",
          "xref": "paper",
          "y": 0.9201183431952662,
          "yanchor": "bottom",
          "yref": "paper",
          "yshift": 20
         },
         {
          "font": {
           "size": 16
          },
          "showarrow": false,
          "text": "ShowMaker",
          "x": 0.14444444444444446,
          "xanchor": "center",
          "xref": "paper",
          "y": 0.8402366863905325,
          "yanchor": "bottom",
          "yref": "paper",
          "yshift": 20
         },
         {
          "font": {
           "size": 16
          },
          "showarrow": false,
          "text": "ShowMaker",
          "x": 0.5,
          "xanchor": "center",
          "xref": "paper",
          "y": 0.8402366863905325,
          "yanchor": "bottom",
          "yref": "paper",
          "yshift": 20
         },
         {
          "font": {
           "size": 16
          },
          "showarrow": false,
          "text": "ShowMaker",
          "x": 0.8555555555555556,
          "xanchor": "center",
          "xref": "paper",
          "y": 0.8402366863905325,
          "yanchor": "bottom",
          "yref": "paper",
          "yshift": 20
         },
         {
          "font": {
           "size": 16
          },
          "showarrow": false,
          "text": "Chovy",
          "x": 0.14444444444444446,
          "xanchor": "center",
          "xref": "paper",
          "y": 0.7603550295857988,
          "yanchor": "bottom",
          "yref": "paper",
          "yshift": 20
         },
         {
          "font": {
           "size": 16
          },
          "showarrow": false,
          "text": "Chovy",
          "x": 0.5,
          "xanchor": "center",
          "xref": "paper",
          "y": 0.7603550295857988,
          "yanchor": "bottom",
          "yref": "paper",
          "yshift": 20
         },
         {
          "font": {
           "size": 16
          },
          "showarrow": false,
          "text": "Chovy",
          "x": 0.8555555555555556,
          "xanchor": "center",
          "xref": "paper",
          "y": 0.7603550295857988,
          "yanchor": "bottom",
          "yref": "paper",
          "yshift": 20
         },
         {
          "font": {
           "size": 16
          },
          "showarrow": false,
          "text": "Zeka",
          "x": 0.14444444444444446,
          "xanchor": "center",
          "xref": "paper",
          "y": 0.680473372781065,
          "yanchor": "bottom",
          "yref": "paper",
          "yshift": 20
         },
         {
          "font": {
           "size": 16
          },
          "showarrow": false,
          "text": "Zeka",
          "x": 0.5,
          "xanchor": "center",
          "xref": "paper",
          "y": 0.680473372781065,
          "yanchor": "bottom",
          "yref": "paper",
          "yshift": 20
         },
         {
          "font": {
           "size": 16
          },
          "showarrow": false,
          "text": "Zeka",
          "x": 0.8555555555555556,
          "xanchor": "center",
          "xref": "paper",
          "y": 0.680473372781065,
          "yanchor": "bottom",
          "yref": "paper",
          "yshift": 20
         },
         {
          "font": {
           "size": 16
          },
          "showarrow": false,
          "text": "Bdd",
          "x": 0.14444444444444446,
          "xanchor": "center",
          "xref": "paper",
          "y": 0.6005917159763314,
          "yanchor": "bottom",
          "yref": "paper",
          "yshift": 20
         },
         {
          "font": {
           "size": 16
          },
          "showarrow": false,
          "text": "Bdd",
          "x": 0.5,
          "xanchor": "center",
          "xref": "paper",
          "y": 0.6005917159763314,
          "yanchor": "bottom",
          "yref": "paper",
          "yshift": 20
         },
         {
          "font": {
           "size": 16
          },
          "showarrow": false,
          "text": "Bdd",
          "x": 0.8555555555555556,
          "xanchor": "center",
          "xref": "paper",
          "y": 0.6005917159763314,
          "yanchor": "bottom",
          "yref": "paper",
          "yshift": 20
         },
         {
          "font": {
           "size": 16
          },
          "showarrow": false,
          "text": "BuLLDoG",
          "x": 0.14444444444444446,
          "xanchor": "center",
          "xref": "paper",
          "y": 0.5207100591715976,
          "yanchor": "bottom",
          "yref": "paper",
          "yshift": 20
         },
         {
          "font": {
           "size": 16
          },
          "showarrow": false,
          "text": "BuLLDoG",
          "x": 0.5,
          "xanchor": "center",
          "xref": "paper",
          "y": 0.5207100591715976,
          "yanchor": "bottom",
          "yref": "paper",
          "yshift": 20
         },
         {
          "font": {
           "size": 16
          },
          "showarrow": false,
          "text": "BuLLDoG",
          "x": 0.8555555555555556,
          "xanchor": "center",
          "xref": "paper",
          "y": 0.5207100591715976,
          "yanchor": "bottom",
          "yref": "paper",
          "yshift": 20
         },
         {
          "font": {
           "size": 16
          },
          "showarrow": false,
          "text": "Clozer",
          "x": 0.14444444444444446,
          "xanchor": "center",
          "xref": "paper",
          "y": 0.4408284023668639,
          "yanchor": "bottom",
          "yref": "paper",
          "yshift": 20
         },
         {
          "font": {
           "size": 16
          },
          "showarrow": false,
          "text": "Clozer",
          "x": 0.5,
          "xanchor": "center",
          "xref": "paper",
          "y": 0.4408284023668639,
          "yanchor": "bottom",
          "yref": "paper",
          "yshift": 20
         },
         {
          "font": {
           "size": 16
          },
          "showarrow": false,
          "text": "Clozer",
          "x": 0.8555555555555556,
          "xanchor": "center",
          "xref": "paper",
          "y": 0.4408284023668639,
          "yanchor": "bottom",
          "yref": "paper",
          "yshift": 20
         },
         {
          "font": {
           "size": 16
          },
          "showarrow": false,
          "text": "Quad",
          "x": 0.14444444444444446,
          "xanchor": "center",
          "xref": "paper",
          "y": 0.36094674556213013,
          "yanchor": "bottom",
          "yref": "paper",
          "yshift": 20
         },
         {
          "font": {
           "size": 16
          },
          "showarrow": false,
          "text": "Quad",
          "x": 0.5,
          "xanchor": "center",
          "xref": "paper",
          "y": 0.36094674556213013,
          "yanchor": "bottom",
          "yref": "paper",
          "yshift": 20
         },
         {
          "font": {
           "size": 16
          },
          "showarrow": false,
          "text": "Quad",
          "x": 0.8555555555555556,
          "xanchor": "center",
          "xref": "paper",
          "y": 0.36094674556213013,
          "yanchor": "bottom",
          "yref": "paper",
          "yshift": 20
         },
         {
          "font": {
           "size": 16
          },
          "showarrow": false,
          "text": "FIESTA",
          "x": 0.14444444444444446,
          "xanchor": "center",
          "xref": "paper",
          "y": 0.28106508875739644,
          "yanchor": "bottom",
          "yref": "paper",
          "yshift": 20
         },
         {
          "font": {
           "size": 16
          },
          "showarrow": false,
          "text": "FIESTA",
          "x": 0.5,
          "xanchor": "center",
          "xref": "paper",
          "y": 0.28106508875739644,
          "yanchor": "bottom",
          "yref": "paper",
          "yshift": 20
         },
         {
          "font": {
           "size": 16
          },
          "showarrow": false,
          "text": "FIESTA",
          "x": 0.8555555555555556,
          "xanchor": "center",
          "xref": "paper",
          "y": 0.28106508875739644,
          "yanchor": "bottom",
          "yref": "paper",
          "yshift": 20
         },
         {
          "font": {
           "size": 16
          },
          "showarrow": false,
          "text": "Ivory",
          "x": 0.14444444444444446,
          "xanchor": "center",
          "xref": "paper",
          "y": 0.2011834319526627,
          "yanchor": "bottom",
          "yref": "paper",
          "yshift": 20
         },
         {
          "font": {
           "size": 16
          },
          "showarrow": false,
          "text": "Ivory",
          "x": 0.5,
          "xanchor": "center",
          "xref": "paper",
          "y": 0.2011834319526627,
          "yanchor": "bottom",
          "yref": "paper",
          "yshift": 20
         },
         {
          "font": {
           "size": 16
          },
          "showarrow": false,
          "text": "Ivory",
          "x": 0.8555555555555556,
          "xanchor": "center",
          "xref": "paper",
          "y": 0.2011834319526627,
          "yanchor": "bottom",
          "yref": "paper",
          "yshift": 20
         },
         {
          "font": {
           "size": 16
          },
          "showarrow": false,
          "text": "Karis",
          "x": 0.14444444444444446,
          "xanchor": "center",
          "xref": "paper",
          "y": 0.12130177514792898,
          "yanchor": "bottom",
          "yref": "paper",
          "yshift": 20
         },
         {
          "font": {
           "size": 16
          },
          "showarrow": false,
          "text": "Karis",
          "x": 0.5,
          "xanchor": "center",
          "xref": "paper",
          "y": 0.12130177514792898,
          "yanchor": "bottom",
          "yref": "paper",
          "yshift": 20
         },
         {
          "font": {
           "size": 16
          },
          "showarrow": false,
          "text": "Karis",
          "x": 0.8555555555555556,
          "xanchor": "center",
          "xref": "paper",
          "y": 0.12130177514792898,
          "yanchor": "bottom",
          "yref": "paper",
          "yshift": 20
         },
         {
          "font": {
           "size": 16
          },
          "showarrow": false,
          "text": "Faker",
          "x": 0.14444444444444446,
          "xanchor": "center",
          "xref": "paper",
          "y": 0.04142011834319526,
          "yanchor": "bottom",
          "yref": "paper",
          "yshift": 20
         },
         {
          "font": {
           "size": 16
          },
          "showarrow": false,
          "text": "Faker",
          "x": 0.5,
          "xanchor": "center",
          "xref": "paper",
          "y": 0.04142011834319526,
          "yanchor": "bottom",
          "yref": "paper",
          "yshift": 20
         },
         {
          "font": {
           "size": 16
          },
          "showarrow": false,
          "text": "Faker",
          "x": 0.8555555555555556,
          "xanchor": "center",
          "xref": "paper",
          "y": 0.04142011834319526,
          "yanchor": "bottom",
          "yref": "paper",
          "yshift": 20
         }
        ],
        "height": 4550,
        "polar": {
         "domain": {
          "x": [
           0,
           0.2888888888888889
          ],
          "y": [
           0.9585798816568047,
           1
          ]
         },
         "radialaxis": {
          "range": [
           -0.2,
           1.2
          ],
          "visible": false
         }
        },
        "polar10": {
         "domain": {
          "x": [
           0,
           0.2888888888888889
          ],
          "y": [
           0.7189349112426036,
           0.7603550295857988
          ]
         },
         "radialaxis": {
          "range": [
           -0.2,
           1.2
          ],
          "visible": false
         }
        },
        "polar11": {
         "domain": {
          "x": [
           0.35555555555555557,
           0.6444444444444445
          ],
          "y": [
           0.7189349112426036,
           0.7603550295857988
          ]
         },
         "radialaxis": {
          "range": [
           -0.2,
           1.2
          ],
          "visible": false
         }
        },
        "polar12": {
         "domain": {
          "x": [
           0.7111111111111111,
           1
          ],
          "y": [
           0.7189349112426036,
           0.7603550295857988
          ]
         },
         "radialaxis": {
          "range": [
           -0.2,
           1.2
          ],
          "visible": false
         }
        },
        "polar13": {
         "domain": {
          "x": [
           0,
           0.2888888888888889
          ],
          "y": [
           0.6390532544378698,
           0.680473372781065
          ]
         },
         "radialaxis": {
          "range": [
           -0.2,
           1.2
          ],
          "visible": false
         }
        },
        "polar14": {
         "domain": {
          "x": [
           0.35555555555555557,
           0.6444444444444445
          ],
          "y": [
           0.6390532544378698,
           0.680473372781065
          ]
         },
         "radialaxis": {
          "range": [
           -0.2,
           1.2
          ],
          "visible": false
         }
        },
        "polar15": {
         "domain": {
          "x": [
           0.7111111111111111,
           1
          ],
          "y": [
           0.6390532544378698,
           0.680473372781065
          ]
         },
         "radialaxis": {
          "range": [
           -0.2,
           1.2
          ],
          "visible": false
         }
        },
        "polar16": {
         "domain": {
          "x": [
           0,
           0.2888888888888889
          ],
          "y": [
           0.5591715976331362,
           0.6005917159763314
          ]
         },
         "radialaxis": {
          "range": [
           -0.2,
           1.2
          ],
          "visible": false
         }
        },
        "polar17": {
         "domain": {
          "x": [
           0.35555555555555557,
           0.6444444444444445
          ],
          "y": [
           0.5591715976331362,
           0.6005917159763314
          ]
         },
         "radialaxis": {
          "range": [
           -0.2,
           1.2
          ],
          "visible": false
         }
        },
        "polar18": {
         "domain": {
          "x": [
           0.7111111111111111,
           1
          ],
          "y": [
           0.5591715976331362,
           0.6005917159763314
          ]
         },
         "radialaxis": {
          "range": [
           -0.2,
           1.2
          ],
          "visible": false
         }
        },
        "polar19": {
         "domain": {
          "x": [
           0,
           0.2888888888888889
          ],
          "y": [
           0.47928994082840237,
           0.5207100591715976
          ]
         },
         "radialaxis": {
          "range": [
           -0.2,
           1.2
          ],
          "visible": false
         }
        },
        "polar2": {
         "domain": {
          "x": [
           0.35555555555555557,
           0.6444444444444445
          ],
          "y": [
           0.9585798816568047,
           1
          ]
         },
         "radialaxis": {
          "range": [
           -0.2,
           1.2
          ],
          "visible": false
         }
        },
        "polar20": {
         "domain": {
          "x": [
           0.35555555555555557,
           0.6444444444444445
          ],
          "y": [
           0.47928994082840237,
           0.5207100591715976
          ]
         },
         "radialaxis": {
          "range": [
           -0.2,
           1.2
          ],
          "visible": false
         }
        },
        "polar21": {
         "domain": {
          "x": [
           0.7111111111111111,
           1
          ],
          "y": [
           0.47928994082840237,
           0.5207100591715976
          ]
         },
         "radialaxis": {
          "range": [
           -0.2,
           1.2
          ],
          "visible": false
         }
        },
        "polar22": {
         "domain": {
          "x": [
           0,
           0.2888888888888889
          ],
          "y": [
           0.3994082840236686,
           0.4408284023668639
          ]
         },
         "radialaxis": {
          "range": [
           -0.2,
           1.2
          ],
          "visible": false
         }
        },
        "polar23": {
         "domain": {
          "x": [
           0.35555555555555557,
           0.6444444444444445
          ],
          "y": [
           0.3994082840236686,
           0.4408284023668639
          ]
         },
         "radialaxis": {
          "range": [
           -0.2,
           1.2
          ],
          "visible": false
         }
        },
        "polar24": {
         "domain": {
          "x": [
           0.7111111111111111,
           1
          ],
          "y": [
           0.3994082840236686,
           0.4408284023668639
          ]
         },
         "radialaxis": {
          "range": [
           -0.2,
           1.2
          ],
          "visible": false
         }
        },
        "polar25": {
         "domain": {
          "x": [
           0,
           0.2888888888888889
          ],
          "y": [
           0.3195266272189349,
           0.36094674556213013
          ]
         },
         "radialaxis": {
          "range": [
           -0.2,
           1.2
          ],
          "visible": false
         }
        },
        "polar26": {
         "domain": {
          "x": [
           0.35555555555555557,
           0.6444444444444445
          ],
          "y": [
           0.3195266272189349,
           0.36094674556213013
          ]
         },
         "radialaxis": {
          "range": [
           -0.2,
           1.2
          ],
          "visible": false
         }
        },
        "polar27": {
         "domain": {
          "x": [
           0.7111111111111111,
           1
          ],
          "y": [
           0.3195266272189349,
           0.36094674556213013
          ]
         },
         "radialaxis": {
          "range": [
           -0.2,
           1.2
          ],
          "visible": false
         }
        },
        "polar28": {
         "domain": {
          "x": [
           0,
           0.2888888888888889
          ],
          "y": [
           0.23964497041420119,
           0.28106508875739644
          ]
         },
         "radialaxis": {
          "range": [
           -0.2,
           1.2
          ],
          "visible": false
         }
        },
        "polar29": {
         "domain": {
          "x": [
           0.35555555555555557,
           0.6444444444444445
          ],
          "y": [
           0.23964497041420119,
           0.28106508875739644
          ]
         },
         "radialaxis": {
          "range": [
           -0.2,
           1.2
          ],
          "visible": false
         }
        },
        "polar3": {
         "domain": {
          "x": [
           0.7111111111111111,
           1
          ],
          "y": [
           0.9585798816568047,
           1
          ]
         },
         "radialaxis": {
          "range": [
           -0.2,
           1.2
          ],
          "visible": false
         }
        },
        "polar30": {
         "domain": {
          "x": [
           0.7111111111111111,
           1
          ],
          "y": [
           0.23964497041420119,
           0.28106508875739644
          ]
         },
         "radialaxis": {
          "range": [
           -0.2,
           1.2
          ],
          "visible": false
         }
        },
        "polar31": {
         "domain": {
          "x": [
           0,
           0.2888888888888889
          ],
          "y": [
           0.15976331360946744,
           0.2011834319526627
          ]
         },
         "radialaxis": {
          "range": [
           -0.2,
           1.2
          ],
          "visible": false
         }
        },
        "polar32": {
         "domain": {
          "x": [
           0.35555555555555557,
           0.6444444444444445
          ],
          "y": [
           0.15976331360946744,
           0.2011834319526627
          ]
         },
         "radialaxis": {
          "range": [
           -0.2,
           1.2
          ],
          "visible": false
         }
        },
        "polar33": {
         "domain": {
          "x": [
           0.7111111111111111,
           1
          ],
          "y": [
           0.15976331360946744,
           0.2011834319526627
          ]
         },
         "radialaxis": {
          "range": [
           -0.2,
           1.2
          ],
          "visible": false
         }
        },
        "polar34": {
         "domain": {
          "x": [
           0,
           0.2888888888888889
          ],
          "y": [
           0.07988165680473372,
           0.12130177514792898
          ]
         },
         "radialaxis": {
          "range": [
           -0.2,
           1.2
          ],
          "visible": false
         }
        },
        "polar35": {
         "domain": {
          "x": [
           0.35555555555555557,
           0.6444444444444445
          ],
          "y": [
           0.07988165680473372,
           0.12130177514792898
          ]
         },
         "radialaxis": {
          "range": [
           -0.2,
           1.2
          ],
          "visible": false
         }
        },
        "polar36": {
         "domain": {
          "x": [
           0.7111111111111111,
           1
          ],
          "y": [
           0.07988165680473372,
           0.12130177514792898
          ]
         },
         "radialaxis": {
          "range": [
           -0.2,
           1.2
          ],
          "visible": false
         }
        },
        "polar37": {
         "domain": {
          "x": [
           0,
           0.2888888888888889
          ],
          "y": [
           0,
           0.04142011834319526
          ]
         },
         "radialaxis": {
          "range": [
           -0.2,
           1.2
          ],
          "visible": false
         }
        },
        "polar38": {
         "domain": {
          "x": [
           0.35555555555555557,
           0.6444444444444445
          ],
          "y": [
           0,
           0.04142011834319526
          ]
         },
         "radialaxis": {
          "range": [
           -0.2,
           1.2
          ],
          "visible": false
         }
        },
        "polar39": {
         "domain": {
          "x": [
           0.7111111111111111,
           1
          ],
          "y": [
           0,
           0.04142011834319526
          ]
         },
         "radialaxis": {
          "range": [
           -0.2,
           1.2
          ],
          "visible": false
         }
        },
        "polar4": {
         "domain": {
          "x": [
           0,
           0.2888888888888889
          ],
          "y": [
           0.8786982248520709,
           0.9201183431952662
          ]
         },
         "radialaxis": {
          "range": [
           -0.2,
           1.2
          ],
          "visible": false
         }
        },
        "polar5": {
         "domain": {
          "x": [
           0.35555555555555557,
           0.6444444444444445
          ],
          "y": [
           0.8786982248520709,
           0.9201183431952662
          ]
         },
         "radialaxis": {
          "range": [
           -0.2,
           1.2
          ],
          "visible": false
         }
        },
        "polar6": {
         "domain": {
          "x": [
           0.7111111111111111,
           1
          ],
          "y": [
           0.8786982248520709,
           0.9201183431952662
          ]
         },
         "radialaxis": {
          "range": [
           -0.2,
           1.2
          ],
          "visible": false
         }
        },
        "polar7": {
         "domain": {
          "x": [
           0,
           0.2888888888888889
          ],
          "y": [
           0.7988165680473372,
           0.8402366863905325
          ]
         },
         "radialaxis": {
          "range": [
           -0.2,
           1.2
          ],
          "visible": false
         }
        },
        "polar8": {
         "domain": {
          "x": [
           0.35555555555555557,
           0.6444444444444445
          ],
          "y": [
           0.7988165680473372,
           0.8402366863905325
          ]
         },
         "radialaxis": {
          "range": [
           -0.2,
           1.2
          ],
          "visible": false
         }
        },
        "polar9": {
         "domain": {
          "x": [
           0.7111111111111111,
           1
          ],
          "y": [
           0.7988165680473372,
           0.8402366863905325
          ]
         },
         "radialaxis": {
          "range": [
           -0.2,
           1.2
          ],
          "visible": false
         }
        },
        "showlegend": false,
        "template": {
         "data": {
          "bar": [
           {
            "error_x": {
             "color": "#2a3f5f"
            },
            "error_y": {
             "color": "#2a3f5f"
            },
            "marker": {
             "line": {
              "color": "#E5ECF6",
              "width": 0.5
             },
             "pattern": {
              "fillmode": "overlay",
              "size": 10,
              "solidity": 0.2
             }
            },
            "type": "bar"
           }
          ],
          "barpolar": [
           {
            "marker": {
             "line": {
              "color": "#E5ECF6",
              "width": 0.5
             },
             "pattern": {
              "fillmode": "overlay",
              "size": 10,
              "solidity": 0.2
             }
            },
            "type": "barpolar"
           }
          ],
          "carpet": [
           {
            "aaxis": {
             "endlinecolor": "#2a3f5f",
             "gridcolor": "white",
             "linecolor": "white",
             "minorgridcolor": "white",
             "startlinecolor": "#2a3f5f"
            },
            "baxis": {
             "endlinecolor": "#2a3f5f",
             "gridcolor": "white",
             "linecolor": "white",
             "minorgridcolor": "white",
             "startlinecolor": "#2a3f5f"
            },
            "type": "carpet"
           }
          ],
          "choropleth": [
           {
            "colorbar": {
             "outlinewidth": 0,
             "ticks": ""
            },
            "type": "choropleth"
           }
          ],
          "contour": [
           {
            "colorbar": {
             "outlinewidth": 0,
             "ticks": ""
            },
            "colorscale": [
             [
              0,
              "#0d0887"
             ],
             [
              0.1111111111111111,
              "#46039f"
             ],
             [
              0.2222222222222222,
              "#7201a8"
             ],
             [
              0.3333333333333333,
              "#9c179e"
             ],
             [
              0.4444444444444444,
              "#bd3786"
             ],
             [
              0.5555555555555556,
              "#d8576b"
             ],
             [
              0.6666666666666666,
              "#ed7953"
             ],
             [
              0.7777777777777778,
              "#fb9f3a"
             ],
             [
              0.8888888888888888,
              "#fdca26"
             ],
             [
              1,
              "#f0f921"
             ]
            ],
            "type": "contour"
           }
          ],
          "contourcarpet": [
           {
            "colorbar": {
             "outlinewidth": 0,
             "ticks": ""
            },
            "type": "contourcarpet"
           }
          ],
          "heatmap": [
           {
            "colorbar": {
             "outlinewidth": 0,
             "ticks": ""
            },
            "colorscale": [
             [
              0,
              "#0d0887"
             ],
             [
              0.1111111111111111,
              "#46039f"
             ],
             [
              0.2222222222222222,
              "#7201a8"
             ],
             [
              0.3333333333333333,
              "#9c179e"
             ],
             [
              0.4444444444444444,
              "#bd3786"
             ],
             [
              0.5555555555555556,
              "#d8576b"
             ],
             [
              0.6666666666666666,
              "#ed7953"
             ],
             [
              0.7777777777777778,
              "#fb9f3a"
             ],
             [
              0.8888888888888888,
              "#fdca26"
             ],
             [
              1,
              "#f0f921"
             ]
            ],
            "type": "heatmap"
           }
          ],
          "heatmapgl": [
           {
            "colorbar": {
             "outlinewidth": 0,
             "ticks": ""
            },
            "colorscale": [
             [
              0,
              "#0d0887"
             ],
             [
              0.1111111111111111,
              "#46039f"
             ],
             [
              0.2222222222222222,
              "#7201a8"
             ],
             [
              0.3333333333333333,
              "#9c179e"
             ],
             [
              0.4444444444444444,
              "#bd3786"
             ],
             [
              0.5555555555555556,
              "#d8576b"
             ],
             [
              0.6666666666666666,
              "#ed7953"
             ],
             [
              0.7777777777777778,
              "#fb9f3a"
             ],
             [
              0.8888888888888888,
              "#fdca26"
             ],
             [
              1,
              "#f0f921"
             ]
            ],
            "type": "heatmapgl"
           }
          ],
          "histogram": [
           {
            "marker": {
             "pattern": {
              "fillmode": "overlay",
              "size": 10,
              "solidity": 0.2
             }
            },
            "type": "histogram"
           }
          ],
          "histogram2d": [
           {
            "colorbar": {
             "outlinewidth": 0,
             "ticks": ""
            },
            "colorscale": [
             [
              0,
              "#0d0887"
             ],
             [
              0.1111111111111111,
              "#46039f"
             ],
             [
              0.2222222222222222,
              "#7201a8"
             ],
             [
              0.3333333333333333,
              "#9c179e"
             ],
             [
              0.4444444444444444,
              "#bd3786"
             ],
             [
              0.5555555555555556,
              "#d8576b"
             ],
             [
              0.6666666666666666,
              "#ed7953"
             ],
             [
              0.7777777777777778,
              "#fb9f3a"
             ],
             [
              0.8888888888888888,
              "#fdca26"
             ],
             [
              1,
              "#f0f921"
             ]
            ],
            "type": "histogram2d"
           }
          ],
          "histogram2dcontour": [
           {
            "colorbar": {
             "outlinewidth": 0,
             "ticks": ""
            },
            "colorscale": [
             [
              0,
              "#0d0887"
             ],
             [
              0.1111111111111111,
              "#46039f"
             ],
             [
              0.2222222222222222,
              "#7201a8"
             ],
             [
              0.3333333333333333,
              "#9c179e"
             ],
             [
              0.4444444444444444,
              "#bd3786"
             ],
             [
              0.5555555555555556,
              "#d8576b"
             ],
             [
              0.6666666666666666,
              "#ed7953"
             ],
             [
              0.7777777777777778,
              "#fb9f3a"
             ],
             [
              0.8888888888888888,
              "#fdca26"
             ],
             [
              1,
              "#f0f921"
             ]
            ],
            "type": "histogram2dcontour"
           }
          ],
          "mesh3d": [
           {
            "colorbar": {
             "outlinewidth": 0,
             "ticks": ""
            },
            "type": "mesh3d"
           }
          ],
          "parcoords": [
           {
            "line": {
             "colorbar": {
              "outlinewidth": 0,
              "ticks": ""
             }
            },
            "type": "parcoords"
           }
          ],
          "pie": [
           {
            "automargin": true,
            "type": "pie"
           }
          ],
          "scatter": [
           {
            "fillpattern": {
             "fillmode": "overlay",
             "size": 10,
             "solidity": 0.2
            },
            "type": "scatter"
           }
          ],
          "scatter3d": [
           {
            "line": {
             "colorbar": {
              "outlinewidth": 0,
              "ticks": ""
             }
            },
            "marker": {
             "colorbar": {
              "outlinewidth": 0,
              "ticks": ""
             }
            },
            "type": "scatter3d"
           }
          ],
          "scattercarpet": [
           {
            "marker": {
             "colorbar": {
              "outlinewidth": 0,
              "ticks": ""
             }
            },
            "type": "scattercarpet"
           }
          ],
          "scattergeo": [
           {
            "marker": {
             "colorbar": {
              "outlinewidth": 0,
              "ticks": ""
             }
            },
            "type": "scattergeo"
           }
          ],
          "scattergl": [
           {
            "marker": {
             "colorbar": {
              "outlinewidth": 0,
              "ticks": ""
             }
            },
            "type": "scattergl"
           }
          ],
          "scattermapbox": [
           {
            "marker": {
             "colorbar": {
              "outlinewidth": 0,
              "ticks": ""
             }
            },
            "type": "scattermapbox"
           }
          ],
          "scatterpolar": [
           {
            "marker": {
             "colorbar": {
              "outlinewidth": 0,
              "ticks": ""
             }
            },
            "type": "scatterpolar"
           }
          ],
          "scatterpolargl": [
           {
            "marker": {
             "colorbar": {
              "outlinewidth": 0,
              "ticks": ""
             }
            },
            "type": "scatterpolargl"
           }
          ],
          "scatterternary": [
           {
            "marker": {
             "colorbar": {
              "outlinewidth": 0,
              "ticks": ""
             }
            },
            "type": "scatterternary"
           }
          ],
          "surface": [
           {
            "colorbar": {
             "outlinewidth": 0,
             "ticks": ""
            },
            "colorscale": [
             [
              0,
              "#0d0887"
             ],
             [
              0.1111111111111111,
              "#46039f"
             ],
             [
              0.2222222222222222,
              "#7201a8"
             ],
             [
              0.3333333333333333,
              "#9c179e"
             ],
             [
              0.4444444444444444,
              "#bd3786"
             ],
             [
              0.5555555555555556,
              "#d8576b"
             ],
             [
              0.6666666666666666,
              "#ed7953"
             ],
             [
              0.7777777777777778,
              "#fb9f3a"
             ],
             [
              0.8888888888888888,
              "#fdca26"
             ],
             [
              1,
              "#f0f921"
             ]
            ],
            "type": "surface"
           }
          ],
          "table": [
           {
            "cells": {
             "fill": {
              "color": "#EBF0F8"
             },
             "line": {
              "color": "white"
             }
            },
            "header": {
             "fill": {
              "color": "#C8D4E3"
             },
             "line": {
              "color": "white"
             }
            },
            "type": "table"
           }
          ]
         },
         "layout": {
          "annotationdefaults": {
           "arrowcolor": "#2a3f5f",
           "arrowhead": 0,
           "arrowwidth": 1
          },
          "autotypenumbers": "strict",
          "coloraxis": {
           "colorbar": {
            "outlinewidth": 0,
            "ticks": ""
           }
          },
          "colorscale": {
           "diverging": [
            [
             0,
             "#8e0152"
            ],
            [
             0.1,
             "#c51b7d"
            ],
            [
             0.2,
             "#de77ae"
            ],
            [
             0.3,
             "#f1b6da"
            ],
            [
             0.4,
             "#fde0ef"
            ],
            [
             0.5,
             "#f7f7f7"
            ],
            [
             0.6,
             "#e6f5d0"
            ],
            [
             0.7,
             "#b8e186"
            ],
            [
             0.8,
             "#7fbc41"
            ],
            [
             0.9,
             "#4d9221"
            ],
            [
             1,
             "#276419"
            ]
           ],
           "sequential": [
            [
             0,
             "#0d0887"
            ],
            [
             0.1111111111111111,
             "#46039f"
            ],
            [
             0.2222222222222222,
             "#7201a8"
            ],
            [
             0.3333333333333333,
             "#9c179e"
            ],
            [
             0.4444444444444444,
             "#bd3786"
            ],
            [
             0.5555555555555556,
             "#d8576b"
            ],
            [
             0.6666666666666666,
             "#ed7953"
            ],
            [
             0.7777777777777778,
             "#fb9f3a"
            ],
            [
             0.8888888888888888,
             "#fdca26"
            ],
            [
             1,
             "#f0f921"
            ]
           ],
           "sequentialminus": [
            [
             0,
             "#0d0887"
            ],
            [
             0.1111111111111111,
             "#46039f"
            ],
            [
             0.2222222222222222,
             "#7201a8"
            ],
            [
             0.3333333333333333,
             "#9c179e"
            ],
            [
             0.4444444444444444,
             "#bd3786"
            ],
            [
             0.5555555555555556,
             "#d8576b"
            ],
            [
             0.6666666666666666,
             "#ed7953"
            ],
            [
             0.7777777777777778,
             "#fb9f3a"
            ],
            [
             0.8888888888888888,
             "#fdca26"
            ],
            [
             1,
             "#f0f921"
            ]
           ]
          },
          "colorway": [
           "#636efa",
           "#EF553B",
           "#00cc96",
           "#ab63fa",
           "#FFA15A",
           "#19d3f3",
           "#FF6692",
           "#B6E880",
           "#FF97FF",
           "#FECB52"
          ],
          "font": {
           "color": "#2a3f5f"
          },
          "geo": {
           "bgcolor": "white",
           "lakecolor": "white",
           "landcolor": "#E5ECF6",
           "showlakes": true,
           "showland": true,
           "subunitcolor": "white"
          },
          "hoverlabel": {
           "align": "left"
          },
          "hovermode": "closest",
          "mapbox": {
           "style": "light"
          },
          "paper_bgcolor": "white",
          "plot_bgcolor": "#E5ECF6",
          "polar": {
           "angularaxis": {
            "gridcolor": "white",
            "linecolor": "white",
            "ticks": ""
           },
           "bgcolor": "#E5ECF6",
           "radialaxis": {
            "gridcolor": "white",
            "linecolor": "white",
            "ticks": ""
           }
          },
          "scene": {
           "xaxis": {
            "backgroundcolor": "#E5ECF6",
            "gridcolor": "white",
            "gridwidth": 2,
            "linecolor": "white",
            "showbackground": true,
            "ticks": "",
            "zerolinecolor": "white"
           },
           "yaxis": {
            "backgroundcolor": "#E5ECF6",
            "gridcolor": "white",
            "gridwidth": 2,
            "linecolor": "white",
            "showbackground": true,
            "ticks": "",
            "zerolinecolor": "white"
           },
           "zaxis": {
            "backgroundcolor": "#E5ECF6",
            "gridcolor": "white",
            "gridwidth": 2,
            "linecolor": "white",
            "showbackground": true,
            "ticks": "",
            "zerolinecolor": "white"
           }
          },
          "shapedefaults": {
           "line": {
            "color": "#2a3f5f"
           }
          },
          "ternary": {
           "aaxis": {
            "gridcolor": "white",
            "linecolor": "white",
            "ticks": ""
           },
           "baxis": {
            "gridcolor": "white",
            "linecolor": "white",
            "ticks": ""
           },
           "bgcolor": "#E5ECF6",
           "caxis": {
            "gridcolor": "white",
            "linecolor": "white",
            "ticks": ""
           }
          },
          "title": {
           "x": 0.05
          },
          "xaxis": {
           "automargin": true,
           "gridcolor": "white",
           "linecolor": "white",
           "ticks": "",
           "title": {
            "standoff": 15
           },
           "zerolinecolor": "white",
           "zerolinewidth": 2
          },
          "yaxis": {
           "automargin": true,
           "gridcolor": "white",
           "linecolor": "white",
           "ticks": "",
           "title": {
            "standoff": 15
           },
           "zerolinecolor": "white",
           "zerolinewidth": 2
          }
         }
        },
        "title": {
         "y": 1
        },
        "width": 1650
       }
      }
     },
     "metadata": {},
     "output_type": "display_data"
    }
   ],
   "source": [
    "position = positions[2]\n",
    "df = players_stats.loc[players_stats.index.get_level_values(1) == position]\n",
    "\n",
    "ROWS, COLUMNS = get_rows_columns(df, len(origin_columns))\n",
    "min_value, max_value = 0, 1\n",
    "\n",
    "fig = get_fig_subplots(df.index.get_level_values(0), ROWS, COLUMNS)\n",
    "for i, player_name in enumerate(df.index.get_level_values(0)):\n",
    "    for j, (key, cols) in enumerate(columns.items()):\n",
    "        _df = df.loc[(player_name, position), cols]\n",
    "        theta_list = get_theta_list(df, (player_name, position), origin_columns[key])\n",
    "\n",
    "        fig.add_trace(\n",
    "            go.Scatterpolar(r=_df, theta=theta_list, fill=\"toself\", name=player_name),\n",
    "            row=i + 1,\n",
    "            col=j + 1,\n",
    "        )\n",
    "\n",
    "fig.update_layout(\n",
    "    height=350 * ROWS, width=550 * COLUMNS, showlegend=False, title=dict(y=1)\n",
    ")\n",
    "fig.update_annotations(yshift=20)\n",
    "fig.update_polars(\n",
    "    radialaxis=dict(range=[min_value - 0.2, max_value + 0.2], visible=False)\n",
    ")\n",
    "fig.show()"
   ]
  },
  {
   "cell_type": "code",
   "execution_count": 26,
   "metadata": {},
   "outputs": [
    {
     "data": {
      "application/vnd.plotly.v1+json": {
       "config": {
        "plotlyServerURL": "https://plot.ly"
       },
       "data": [
        {
         "fill": "toself",
         "name": "Paduck",
         "r": [
          0.12455012853470437,
          0.6810126582278481,
          0.5073529411764707,
          0.12644415917843382,
          0.59504805154596,
          0.7476296948628876,
          0.6120156231179921
         ],
         "subplot": "polar",
         "theta": [
          "kills - 2.65 | 10",
          "deaths - 2.55 | 4",
          "assists - 3.25 | 9",
          "kda - 3.7 | 9",
          "dpm - 585.22 | 8",
          "damageshare - 0.3 | 2",
          "damagetakenperminute - 428.9 | 4"
         ],
         "type": "scatterpolar"
        },
        {
         "fill": "toself",
         "name": "Paduck",
         "r": [
          0.1,
          0.5333333333333333,
          0.2976314572140941,
          0,
          0.4609668755595344,
          0,
          0,
          0,
          0.31308229561451917,
          0,
          0.7142857142857142
         ],
         "subplot": "polar2",
         "theta": [
          "firstblood - 0.05 | 11",
          "firstbloodvictim - 0.1 | 4",
          "wpm - 0.48 | 6",
          "wcpm - 0.33 | 12",
          "controlwardsbought - 5.45 | 7",
          "vspm - 1.24 | 12",
          "gpm - 409.5 | 12",
          "gdpm - -67.52 | 12",
          "goldshare - 0.25 | 11",
          "cspm - 9.12 | 12",
          "champions - 8.0 | 3"
         ],
         "type": "scatterpolar"
        },
        {
         "fill": "toself",
         "name": "Paduck",
         "r": [
          0,
          0.26929198122832076,
          0,
          0,
          0.0520481927710843,
          0
         ],
         "subplot": "polar3",
         "theta": [
          "golddiffat10 - -329.45 | 12",
          "xpdiffat10 - -82.35 | 10",
          "csdiffat10 - -5.6 | 12",
          "golddiffat15 - -638.95 | 12",
          "xpdiffat15 - -403.0 | 11",
          "csdiffat15 - -12.3 | 12"
         ],
         "type": "scatterpolar"
        },
        {
         "fill": "toself",
         "name": "Deft",
         "r": [
          0.5647493573264781,
          0.48734177215189867,
          0.8216911764705882,
          0.2634146341463414,
          0.8728919221084401,
          0.7130228533833791,
          0.5114886841984989
         ],
         "subplot": "polar4",
         "theta": [
          "kills - 3.94 | 7",
          "deaths - 2.12 | 5",
          "assists - 4.44 | 3",
          "kda - 4.63 | 6",
          "dpm - 650.53 | 3",
          "damageshare - 0.3 | 5",
          "damagetakenperminute - 412.31 | 6"
         ],
         "type": "scatterpolar"
        },
        {
         "fill": "toself",
         "name": "Deft",
         "r": [
          0.375,
          1,
          0.4051572543407145,
          0.42408049748445364,
          0.38059534467323175,
          0.367482978534569,
          0.5145321268976311,
          0.49860571187209995,
          0.499648541543376,
          0.27081933388518653,
          0.5714285714285714
         ],
         "subplot": "polar5",
         "theta": [
          "firstblood - 0.19 | 9",
          "firstbloodvictim - 0.19 | 1",
          "wpm - 0.51 | 5",
          "wcpm - 0.46 | 7",
          "controlwardsbought - 5.19 | 9",
          "vspm - 1.48 | 6",
          "gpm - 457.36 | 5",
          "gdpm - 13.62 | 6",
          "goldshare - 0.25 | 7",
          "cspm - 9.55 | 10",
          "champions - 7.0 | 4"
         ],
         "type": "scatterpolar"
        },
        {
         "fill": "toself",
         "name": "Deft",
         "r": [
          0.334786451051257,
          0.30702917771883287,
          0.46145723336853217,
          0.3389258570999366,
          0.5457314974182443,
          0.5863408367996085
         ],
         "subplot": "polar6",
         "theta": [
          "golddiffat10 - -117.94 | 10",
          "xpdiffat10 - -66.94 | 9",
          "csdiffat10 - -1.0 | 8",
          "golddiffat15 - -131.31 | 8",
          "xpdiffat15 - -4.62 | 8",
          "csdiffat15 - 0.31 | 7"
         ],
         "type": "scatterpolar"
        },
        {
         "fill": "toself",
         "name": "Rahel",
         "r": [
          0.016281062553556214,
          0.2784810126582279,
          0,
          0,
          0.013318326986953677,
          0.002227910687135015,
          0.11379948098576542
         ],
         "subplot": "polar7",
         "theta": [
          "kills - 2.33 | 11",
          "deaths - 1.67 | 8",
          "assists - 1.33 | 12",
          "kda - 2.83 | 12",
          "dpm - 448.47 | 11",
          "damageshare - 0.25 | 11",
          "damagetakenperminute - 346.69 | 10"
         ],
         "type": "scatterpolar"
        },
        {
         "fill": "toself",
         "name": "Rahel",
         "r": [
          0.6666666666666666,
          0,
          0.15868050974687997,
          1.0000000000000002,
          0.73142345568487,
          0.9999999999999998,
          0.3489778433157511,
          0.5487777576335112,
          0.6205322106274558,
          0.6017725522282857,
          0
         ],
         "subplot": "polar8",
         "theta": [
          "firstblood - 0.33 | 3",
          "firstbloodvictim - 0.0 | 8",
          "wpm - 0.45 | 9",
          "wcpm - 0.65 | 1",
          "controlwardsbought - 6.33 | 2",
          "vspm - 1.9 | 1",
          "gpm - 441.96 | 6",
          "gdpm - 21.78 | 5",
          "goldshare - 0.25 | 6",
          "cspm - 10.06 | 6",
          "champions - 3.0 | 12"
         ],
         "type": "scatterpolar"
        },
        {
         "fill": "toself",
         "name": "Rahel",
         "r": [
          0.338908381037803,
          0,
          0.8961633227736712,
          0.16799270032381186,
          0,
          0.6647908000978713
         ],
         "subplot": "polar9",
         "theta": [
          "golddiffat10 - -115.33 | 9",
          "xpdiffat10 - -192.33 | 12",
          "csdiffat10 - 3.33 | 3",
          "golddiffat15 - -387.33 | 11",
          "xpdiffat15 - -445.0 | 12",
          "csdiffat15 - 2.0 | 5"
         ],
         "type": "scatterpolar"
        },
        {
         "fill": "toself",
         "name": "Peyz",
         "r": [
          1,
          0.11858760826115922,
          0.6780185758513934,
          0.6174582798459562,
          0.8062144900753447,
          0.6431916311356805,
          0.27611105254346513
         ],
         "subplot": "polar10",
         "theta": [
          "kills - 5.21 | 1",
          "deaths - 1.32 | 11",
          "assists - 3.89 | 6",
          "kda - 7.05 | 2",
          "dpm - 634.86 | 4",
          "damageshare - 0.29 | 7",
          "damagetakenperminute - 373.47 | 8"
         ],
         "type": "scatterpolar"
        },
        {
         "fill": "toself",
         "name": "Peyz",
         "r": [
          0.631578947368421,
          0,
          0.18133221555526258,
          0.37385180397323103,
          0.14592658907788714,
          0.3262415843592701,
          0.7740290705601724,
          0.7371895363731609,
          0.494643013501495,
          0.7200183102890971,
          0.857142857142857
         ],
         "subplot": "polar11",
         "theta": [
          "firstblood - 0.32 | 5",
          "firstbloodvictim - 0.0 | 8",
          "wpm - 0.45 | 7",
          "wcpm - 0.45 | 10",
          "controlwardsbought - 4.42 | 10",
          "vspm - 1.45 | 8",
          "gpm - 481.5 | 3",
          "gdpm - 52.44 | 2",
          "goldshare - 0.25 | 8",
          "cspm - 10.25 | 5",
          "champions - 9.0 | 2"
         ],
         "type": "scatterpolar"
        },
        {
         "fill": "toself",
         "name": "Peyz",
         "r": [
          0.44523508364654213,
          0.4862595173917245,
          0.46145723336853217,
          0.37406330876095845,
          0.6630600597880242,
          0.6476633227306092
         ],
         "subplot": "polar12",
         "theta": [
          "golddiffat10 - -48.16 | 8",
          "xpdiffat10 - 6.26 | 6",
          "csdiffat10 - -1.0 | 8",
          "golddiffat15 - -78.68 | 6",
          "xpdiffat15 - 90.05 | 5",
          "csdiffat15 - 1.63 | 6"
         ],
         "type": "scatterpolar"
        },
        {
         "fill": "toself",
         "name": "Viper",
         "r": [
          0.6580976863753212,
          0.262491672218521,
          0.5944272445820434,
          0.37419768934531455,
          0.9309569870330263,
          1.0000000000000004,
          0.2285804985173947
         ],
         "subplot": "polar13",
         "theta": [
          "kills - 4.21 | 5",
          "deaths - 1.63 | 9",
          "assists - 3.58 | 8",
          "kda - 5.39 | 4",
          "dpm - 664.18 | 2",
          "damageshare - 0.32 | 1",
          "damagetakenperminute - 365.63 | 9"
         ],
         "type": "scatterpolar"
        },
        {
         "fill": "toself",
         "name": "Viper",
         "r": [
          0.42105263157894735,
          0.2807017543859649,
          0.6246136067213646,
          0.5395045220626331,
          0.4682184422560429,
          0.6311845658700512,
          0.6343132727556338,
          0.5525068700725764,
          0.8293254076500673,
          0.892165335551681,
          0.5714285714285714
         ],
         "subplot": "polar14",
         "theta": [
          "firstblood - 0.21 | 6",
          "firstbloodvictim - 0.05 | 5",
          "wpm - 0.57 | 2",
          "wcpm - 0.5 | 5",
          "controlwardsbought - 5.47 | 6",
          "vspm - 1.65 | 3",
          "gpm - 468.5 | 4",
          "gdpm - 22.39 | 4",
          "goldshare - 0.26 | 2",
          "cspm - 10.52 | 2",
          "champions - 7.0 | 4"
         ],
         "type": "scatterpolar"
        },
        {
         "fill": "toself",
         "name": "Viper",
         "r": [
          0.5899382560921257,
          0.47401711788142054,
          0.6409714889123548,
          0.5356354097546492,
          0.8189437449044297,
          0.7553217518962564
         ],
         "subplot": "polar15",
         "theta": [
          "golddiffat10 - 43.26 | 5",
          "xpdiffat10 - 1.26 | 7",
          "csdiffat10 - 0.79 | 6",
          "golddiffat15 - 163.32 | 3",
          "xpdiffat15 - 215.84 | 2",
          "csdiffat15 - 3.95 | 3"
         ],
         "type": "scatterpolar"
        },
        {
         "fill": "toself",
         "name": "Aiming",
         "r": [
          0.9660097115109967,
          0,
          0.9999999999999999,
          1,
          0.6151311862821334,
          0.3843154453957731,
          0
         ],
         "subplot": "polar16",
         "theta": [
          "kills - 5.11 | 2",
          "deaths - 1.06 | 12",
          "assists - 5.11 | 1",
          "kda - 9.67 | 1",
          "dpm - 589.94 | 6",
          "damageshare - 0.27 | 10",
          "damagetakenperminute - 327.91 | 12"
         ],
         "type": "scatterpolar"
        },
        {
         "fill": "toself",
         "name": "Aiming",
         "r": [
          0.6666666666666666,
          0,
          0.06213743882976219,
          0.23356561774111229,
          0,
          0.1409094174876271,
          1,
          1,
          0.8217038810930202,
          0.7916542965328244,
          0.5714285714285714
         ],
         "subplot": "polar17",
         "theta": [
          "firstblood - 0.33 | 3",
          "firstbloodvictim - 0.0 | 8",
          "wpm - 0.42 | 11",
          "wcpm - 0.4 | 11",
          "controlwardsbought - 3.94 | 12",
          "vspm - 1.33 | 10",
          "gpm - 502.51 | 1",
          "gdpm - 95.21 | 1",
          "goldshare - 0.26 | 3",
          "cspm - 10.36 | 4",
          "champions - 7.0 | 4"
         ],
         "type": "scatterpolar"
        },
        {
         "fill": "toself",
         "name": "Aiming",
         "r": [
          1,
          0.659729306944161,
          0.8181391528804411,
          1,
          1,
          0.8429981241334311
         ],
         "subplot": "polar18",
         "theta": [
          "golddiffat10 - 302.33 | 1",
          "xpdiffat10 - 77.11 | 2",
          "csdiffat10 - 2.56 | 4",
          "golddiffat15 - 858.83 | 1",
          "xpdiffat15 - 361.94 | 1",
          "csdiffat15 - 5.83 | 2"
         ],
         "type": "scatterpolar"
        },
        {
         "fill": "toself",
         "name": "Taeyoon",
         "r": [
          0.47927377892030854,
          0.9999999999999999,
          0.7058823529411765,
          0.1032229965156794,
          0.5223923136071325,
          0,
          1.0000000000000002
         ],
         "subplot": "polar19",
         "theta": [
          "kills - 3.69 | 8",
          "deaths - 3.25 | 1",
          "assists - 4.0 | 4",
          "kda - 3.54 | 10",
          "dpm - 568.14 | 9",
          "damageshare - 0.25 | 12",
          "damagetakenperminute - 492.92 | 1"
         ],
         "type": "scatterpolar"
        },
        {
         "fill": "toself",
         "name": "Taeyoon",
         "r": [
          0.375,
          1,
          0.434546940834025,
          0.59143854879535,
          0.6676365264100268,
          0.4359396990021678,
          0.2366561918292085,
          0.17610736503693702,
          0,
          0.20770052031250597,
          0.5714285714285714
         ],
         "subplot": "polar20",
         "theta": [
          "firstblood - 0.19 | 9",
          "firstbloodvictim - 0.19 | 1",
          "wpm - 0.52 | 4",
          "wcpm - 0.52 | 2",
          "controlwardsbought - 6.12 | 3",
          "vspm - 1.53 | 4",
          "gpm - 431.51 | 10",
          "gdpm - -38.86 | 8",
          "goldshare - 0.24 | 12",
          "cspm - 9.45 | 11",
          "champions - 7.0 | 4"
         ],
         "type": "scatterpolar"
        },
        {
         "fill": "toself",
         "name": "Taeyoon",
         "r": [
          0.5372886274302899,
          0.6176800652927974,
          0.6558210137275607,
          0.3972203367198193,
          0.39593803786574866,
          0.42362980181061904
         ],
         "subplot": "polar21",
         "theta": [
          "golddiffat10 - 10.0 | 7",
          "xpdiffat10 - 59.94 | 3",
          "csdiffat10 - 0.94 | 5",
          "golddiffat15 - -44.0 | 5",
          "xpdiffat15 - -125.5 | 9",
          "csdiffat15 - -3.19 | 9"
         ],
         "type": "scatterpolar"
        },
        {
         "fill": "toself",
         "name": "Teddy",
         "r": [
          0.6760925449871467,
          0.7181878747501665,
          0.7058823529411765,
          0.2800293416468,
          0.6105614538904172,
          0.5380481873973673,
          0.577865183928503
         ],
         "subplot": "polar22",
         "theta": [
          "kills - 4.26 | 4",
          "deaths - 2.63 | 3",
          "assists - 4.0 | 4",
          "kda - 4.75 | 5",
          "dpm - 588.86 | 7",
          "damageshare - 0.29 | 8",
          "damagetakenperminute - 423.27 | 5"
         ],
         "type": "scatterpolar"
        },
        {
         "fill": "toself",
         "name": "Teddy",
         "r": [
          0.42105263157894735,
          0.5614035087719298,
          1.0000000000000002,
          0.5065285788766472,
          0.9999999999999998,
          0.6373425226669267,
          0.3241423979447715,
          0.17253164555373374,
          0.4074021131667749,
          0.4404749319352561,
          0.5714285714285714
         ],
         "subplot": "polar23",
         "theta": [
          "firstblood - 0.21 | 6",
          "firstbloodvictim - 0.11 | 3",
          "wpm - 0.67 | 1",
          "wcpm - 0.49 | 6",
          "controlwardsbought - 7.21 | 1",
          "vspm - 1.66 | 2",
          "gpm - 439.65 | 7",
          "gdpm - -39.45 | 9",
          "goldshare - 0.25 | 10",
          "cspm - 9.81 | 9",
          "champions - 7.0 | 4"
         ],
         "type": "scatterpolar"
        },
        {
         "fill": "toself",
         "name": "Teddy",
         "r": [
          0.6107648497083582,
          0.5553324241024925,
          0.9630411826821541,
          0.19783797459754854,
          0.5993368964580125,
          0.730853927085882
         ],
         "subplot": "polar24",
         "theta": [
          "golddiffat10 - 56.42 | 3",
          "xpdiffat10 - 34.47 | 4",
          "csdiffat10 - 4.0 | 2",
          "golddiffat15 - -342.63 | 10",
          "xpdiffat15 - 38.63 | 6",
          "csdiffat15 - 3.42 | 4"
         ],
         "type": "scatterpolar"
        },
        {
         "fill": "toself",
         "name": "Jiwoo",
         "r": [
          0.643101970865467,
          0.810126582278481,
          0.6176470588235294,
          0.2221544715447154,
          0.636452399040085,
          0.7284563738609715,
          0.8736387954849751
         ],
         "subplot": "polar25",
         "theta": [
          "kills - 4.17 | 6",
          "deaths - 2.83 | 2",
          "assists - 3.67 | 7",
          "kda - 4.35 | 7",
          "dpm - 594.95 | 5",
          "damageshare - 0.3 | 3",
          "damagetakenperminute - 472.07 | 3"
         ],
         "type": "scatterpolar"
        },
        {
         "fill": "toself",
         "name": "Jiwoo",
         "r": [
          1,
          0,
          0,
          0.40288324323198244,
          0.654879140555058,
          0.06959465456251324,
          0.29642874198370794,
          0.11760095646044744,
          0.6295613106477518,
          0.44216175928587553,
          0.42857142857142855
         ],
         "subplot": "polar26",
         "theta": [
          "firstblood - 0.5 | 1",
          "firstbloodvictim - 0.0 | 8",
          "wpm - 0.41 | 12",
          "wcpm - 0.46 | 8",
          "controlwardsbought - 6.08 | 4",
          "vspm - 1.29 | 11",
          "gpm - 437.07 | 9",
          "gdpm - -48.38 | 11",
          "goldshare - 0.25 | 5",
          "cspm - 9.81 | 8",
          "champions - 6.0 | 9"
         ],
         "type": "scatterpolar"
        },
        {
         "fill": "toself",
         "name": "Jiwoo",
         "r": [
          0.6089112828765135,
          1,
          0.6035726856740584,
          0.37107058208241067,
          0.7677108433734939,
          0.5718130658184487
         ],
         "subplot": "polar27",
         "theta": [
          "golddiffat10 - 55.25 | 4",
          "xpdiffat10 - 216.08 | 1",
          "csdiffat10 - 0.42 | 7",
          "golddiffat15 - -83.17 | 7",
          "xpdiffat15 - 174.5 | 3",
          "csdiffat15 - 0.0 | 8"
         ],
         "type": "scatterpolar"
        },
        {
         "fill": "toself",
         "name": "vital",
         "r": [
          0,
          0.36528028933092227,
          0.10084033613445381,
          0.07177700348432048,
          0,
          0.46305015469290245,
          0.9115094184825436
         ],
         "subplot": "polar28",
         "theta": [
          "kills - 2.29 | 12",
          "deaths - 1.86 | 6",
          "assists - 1.71 | 11",
          "kda - 3.32 | 11",
          "dpm - 445.34 | 12",
          "damageshare - 0.28 | 9",
          "damagetakenperminute - 478.32 | 2"
         ],
         "type": "scatterpolar"
        },
        {
         "fill": "toself",
         "name": "vital",
         "r": [
          0,
          0,
          0.09261009211410598,
          0.591128848652051,
          0.4106663256170864,
          0.36703876311590133,
          0.31884664948963337,
          0.21851360487605878,
          1,
          0.9999999999999991,
          0.14285714285714285
         ],
         "subplot": "polar29",
         "theta": [
          "firstblood - 0.0 | 12",
          "firstbloodvictim - 0.0 | 8",
          "wpm - 0.43 | 10",
          "wcpm - 0.52 | 3",
          "controlwardsbought - 5.29 | 8",
          "vspm - 1.48 | 7",
          "gpm - 439.16 | 8",
          "gdpm - -31.96 | 7",
          "goldshare - 0.26 | 1",
          "cspm - 10.69 | 1",
          "champions - 4.0 | 11"
         ],
         "type": "scatterpolar"
        },
        {
         "fill": "toself",
         "name": "vital",
         "r": [
          0.26707845139797015,
          0.42999970851429736,
          0.3468094735254186,
          0.4571183765214945,
          0.5463289894270961,
          0.35929253032262576
         ],
         "subplot": "polar30",
         "theta": [
          "golddiffat10 - -160.71 | 11",
          "xpdiffat10 - -16.71 | 8",
          "csdiffat10 - -2.14 | 10",
          "golddiffat15 - 45.71 | 4",
          "xpdiffat15 - -4.14 | 7",
          "csdiffat15 - -4.57 | 10"
         ],
         "type": "scatterpolar"
        },
        {
         "fill": "toself",
         "name": "Hena",
         "r": [
          0.3296915167095116,
          0.17974683544303793,
          0.2823529411764706,
          0.1695121951219511,
          0.42546885207639273,
          0.7231382380367015,
          0.038815281956742664
         ],
         "subplot": "polar31",
         "theta": [
          "kills - 3.25 | 9",
          "deaths - 1.45 | 10",
          "assists - 2.4 | 10",
          "kda - 3.99 | 8",
          "dpm - 545.35 | 10",
          "damageshare - 0.3 | 4",
          "damagetakenperminute - 334.32 | 11"
         ],
         "type": "scatterpolar"
        },
        {
         "fill": "toself",
         "name": "Hena",
         "r": [
          0.7,
          0.26666666666666666,
          0.1628624915874397,
          0.3893472078997531,
          0.0935541629364367,
          0.19279329538106516,
          0.1629683328678988,
          0.1432178269006738,
          0.4170305422414824,
          0.5274044465056695,
          0.42857142857142855
         ],
         "subplot": "polar32",
         "theta": [
          "firstblood - 0.35 | 2",
          "firstbloodvictim - 0.05 | 7",
          "wpm - 0.45 | 8",
          "wcpm - 0.45 | 9",
          "controlwardsbought - 4.25 | 11",
          "vspm - 1.37 | 9",
          "gpm - 424.66 | 11",
          "gdpm - -44.22 | 10",
          "goldshare - 0.25 | 9",
          "cspm - 9.95 | 7",
          "champions - 6.0 | 9"
         ],
         "type": "scatterpolar"
        },
        {
         "fill": "toself",
         "name": "Hena",
         "r": [
          0.5453610151159416,
          0.14845949806162012,
          0.12038014783526918,
          0.32718350451222367,
          0.16587263339070568,
          0.26266209933936874
         ],
         "subplot": "polar33",
         "theta": [
          "golddiffat10 - 15.1 | 6",
          "xpdiffat10 - -131.7 | 11",
          "csdiffat10 - -4.4 | 11",
          "golddiffat15 - -148.9 | 9",
          "xpdiffat15 - -311.15 | 10",
          "csdiffat15 - -6.65 | 11"
         ],
         "type": "scatterpolar"
        },
        {
         "fill": "toself",
         "name": "Gumayusi",
         "r": [
          0.802056555269923,
          0.3344437041972018,
          0.9845201238390092,
          0.5666238767650835,
          0.9999999999999998,
          0.7022884588535354,
          0.45560557484030073
         ],
         "subplot": "polar34",
         "theta": [
          "kills - 4.63 | 3",
          "deaths - 1.79 | 7",
          "assists - 5.05 | 2",
          "kda - 6.71 | 3",
          "dpm - 680.41 | 1",
          "damageshare - 0.3 | 6",
          "damagetakenperminute - 403.09 | 7"
         ],
         "type": "scatterpolar"
        },
        {
         "fill": "toself",
         "name": "Gumayusi",
         "r": [
          0.42105263157894735,
          0.2807017543859649,
          0.4428522044665477,
          0.5629741833725592,
          0.5810205908683974,
          0.3870203777120398,
          0.8786841561113299,
          0.7356178517425843,
          0.7306958380532684,
          0.8895570472901264,
          0.9999999999999998
         ],
         "subplot": "polar35",
         "theta": [
          "firstblood - 0.21 | 6",
          "firstbloodvictim - 0.05 | 5",
          "wpm - 0.52 | 3",
          "wcpm - 0.51 | 4",
          "controlwardsbought - 5.84 | 5",
          "vspm - 1.49 | 5",
          "gpm - 491.23 | 2",
          "gdpm - 52.19 | 3",
          "goldshare - 0.26 | 4",
          "cspm - 10.52 | 3",
          "champions - 10.0 | 1"
         ],
         "type": "scatterpolar"
        },
        {
         "fill": "toself",
         "name": "Gumayusi",
         "r": [
          0.7214790213722504,
          0.5106154490490662,
          1,
          0.7725469158223879,
          0.7193477670078812,
          1
         ],
         "subplot": "polar36",
         "theta": [
          "golddiffat10 - 126.37 | 2",
          "xpdiffat10 - 16.21 | 5",
          "csdiffat10 - 4.37 | 1",
          "golddiffat15 - 518.16 | 2",
          "xpdiffat15 - 135.47 | 4",
          "csdiffat15 - 9.21 | 1"
         ],
         "type": "scatterpolar"
        }
       ],
       "layout": {
        "annotations": [
         {
          "font": {
           "size": 16
          },
          "showarrow": false,
          "text": "Paduck",
          "x": 0.14444444444444446,
          "xanchor": "center",
          "xref": "paper",
          "y": 1,
          "yanchor": "bottom",
          "yref": "paper",
          "yshift": 20
         },
         {
          "font": {
           "size": 16
          },
          "showarrow": false,
          "text": "Paduck",
          "x": 0.5,
          "xanchor": "center",
          "xref": "paper",
          "y": 1,
          "yanchor": "bottom",
          "yref": "paper",
          "yshift": 20
         },
         {
          "font": {
           "size": 16
          },
          "showarrow": false,
          "text": "Paduck",
          "x": 0.8555555555555556,
          "xanchor": "center",
          "xref": "paper",
          "y": 1,
          "yanchor": "bottom",
          "yref": "paper",
          "yshift": 20
         },
         {
          "font": {
           "size": 16
          },
          "showarrow": false,
          "text": "Deft",
          "x": 0.14444444444444446,
          "xanchor": "center",
          "xref": "paper",
          "y": 0.9131944444444444,
          "yanchor": "bottom",
          "yref": "paper",
          "yshift": 20
         },
         {
          "font": {
           "size": 16
          },
          "showarrow": false,
          "text": "Deft",
          "x": 0.5,
          "xanchor": "center",
          "xref": "paper",
          "y": 0.9131944444444444,
          "yanchor": "bottom",
          "yref": "paper",
          "yshift": 20
         },
         {
          "font": {
           "size": 16
          },
          "showarrow": false,
          "text": "Deft",
          "x": 0.8555555555555556,
          "xanchor": "center",
          "xref": "paper",
          "y": 0.9131944444444444,
          "yanchor": "bottom",
          "yref": "paper",
          "yshift": 20
         },
         {
          "font": {
           "size": 16
          },
          "showarrow": false,
          "text": "Rahel",
          "x": 0.14444444444444446,
          "xanchor": "center",
          "xref": "paper",
          "y": 0.8263888888888888,
          "yanchor": "bottom",
          "yref": "paper",
          "yshift": 20
         },
         {
          "font": {
           "size": 16
          },
          "showarrow": false,
          "text": "Rahel",
          "x": 0.5,
          "xanchor": "center",
          "xref": "paper",
          "y": 0.8263888888888888,
          "yanchor": "bottom",
          "yref": "paper",
          "yshift": 20
         },
         {
          "font": {
           "size": 16
          },
          "showarrow": false,
          "text": "Rahel",
          "x": 0.8555555555555556,
          "xanchor": "center",
          "xref": "paper",
          "y": 0.8263888888888888,
          "yanchor": "bottom",
          "yref": "paper",
          "yshift": 20
         },
         {
          "font": {
           "size": 16
          },
          "showarrow": false,
          "text": "Peyz",
          "x": 0.14444444444444446,
          "xanchor": "center",
          "xref": "paper",
          "y": 0.7395833333333333,
          "yanchor": "bottom",
          "yref": "paper",
          "yshift": 20
         },
         {
          "font": {
           "size": 16
          },
          "showarrow": false,
          "text": "Peyz",
          "x": 0.5,
          "xanchor": "center",
          "xref": "paper",
          "y": 0.7395833333333333,
          "yanchor": "bottom",
          "yref": "paper",
          "yshift": 20
         },
         {
          "font": {
           "size": 16
          },
          "showarrow": false,
          "text": "Peyz",
          "x": 0.8555555555555556,
          "xanchor": "center",
          "xref": "paper",
          "y": 0.7395833333333333,
          "yanchor": "bottom",
          "yref": "paper",
          "yshift": 20
         },
         {
          "font": {
           "size": 16
          },
          "showarrow": false,
          "text": "Viper",
          "x": 0.14444444444444446,
          "xanchor": "center",
          "xref": "paper",
          "y": 0.6527777777777777,
          "yanchor": "bottom",
          "yref": "paper",
          "yshift": 20
         },
         {
          "font": {
           "size": 16
          },
          "showarrow": false,
          "text": "Viper",
          "x": 0.5,
          "xanchor": "center",
          "xref": "paper",
          "y": 0.6527777777777777,
          "yanchor": "bottom",
          "yref": "paper",
          "yshift": 20
         },
         {
          "font": {
           "size": 16
          },
          "showarrow": false,
          "text": "Viper",
          "x": 0.8555555555555556,
          "xanchor": "center",
          "xref": "paper",
          "y": 0.6527777777777777,
          "yanchor": "bottom",
          "yref": "paper",
          "yshift": 20
         },
         {
          "font": {
           "size": 16
          },
          "showarrow": false,
          "text": "Aiming",
          "x": 0.14444444444444446,
          "xanchor": "center",
          "xref": "paper",
          "y": 0.5659722222222223,
          "yanchor": "bottom",
          "yref": "paper",
          "yshift": 20
         },
         {
          "font": {
           "size": 16
          },
          "showarrow": false,
          "text": "Aiming",
          "x": 0.5,
          "xanchor": "center",
          "xref": "paper",
          "y": 0.5659722222222223,
          "yanchor": "bottom",
          "yref": "paper",
          "yshift": 20
         },
         {
          "font": {
           "size": 16
          },
          "showarrow": false,
          "text": "Aiming",
          "x": 0.8555555555555556,
          "xanchor": "center",
          "xref": "paper",
          "y": 0.5659722222222223,
          "yanchor": "bottom",
          "yref": "paper",
          "yshift": 20
         },
         {
          "font": {
           "size": 16
          },
          "showarrow": false,
          "text": "Taeyoon",
          "x": 0.14444444444444446,
          "xanchor": "center",
          "xref": "paper",
          "y": 0.4791666666666667,
          "yanchor": "bottom",
          "yref": "paper",
          "yshift": 20
         },
         {
          "font": {
           "size": 16
          },
          "showarrow": false,
          "text": "Taeyoon",
          "x": 0.5,
          "xanchor": "center",
          "xref": "paper",
          "y": 0.4791666666666667,
          "yanchor": "bottom",
          "yref": "paper",
          "yshift": 20
         },
         {
          "font": {
           "size": 16
          },
          "showarrow": false,
          "text": "Taeyoon",
          "x": 0.8555555555555556,
          "xanchor": "center",
          "xref": "paper",
          "y": 0.4791666666666667,
          "yanchor": "bottom",
          "yref": "paper",
          "yshift": 20
         },
         {
          "font": {
           "size": 16
          },
          "showarrow": false,
          "text": "Teddy",
          "x": 0.14444444444444446,
          "xanchor": "center",
          "xref": "paper",
          "y": 0.3923611111111111,
          "yanchor": "bottom",
          "yref": "paper",
          "yshift": 20
         },
         {
          "font": {
           "size": 16
          },
          "showarrow": false,
          "text": "Teddy",
          "x": 0.5,
          "xanchor": "center",
          "xref": "paper",
          "y": 0.3923611111111111,
          "yanchor": "bottom",
          "yref": "paper",
          "yshift": 20
         },
         {
          "font": {
           "size": 16
          },
          "showarrow": false,
          "text": "Teddy",
          "x": 0.8555555555555556,
          "xanchor": "center",
          "xref": "paper",
          "y": 0.3923611111111111,
          "yanchor": "bottom",
          "yref": "paper",
          "yshift": 20
         },
         {
          "font": {
           "size": 16
          },
          "showarrow": false,
          "text": "Jiwoo",
          "x": 0.14444444444444446,
          "xanchor": "center",
          "xref": "paper",
          "y": 0.3055555555555556,
          "yanchor": "bottom",
          "yref": "paper",
          "yshift": 20
         },
         {
          "font": {
           "size": 16
          },
          "showarrow": false,
          "text": "Jiwoo",
          "x": 0.5,
          "xanchor": "center",
          "xref": "paper",
          "y": 0.3055555555555556,
          "yanchor": "bottom",
          "yref": "paper",
          "yshift": 20
         },
         {
          "font": {
           "size": 16
          },
          "showarrow": false,
          "text": "Jiwoo",
          "x": 0.8555555555555556,
          "xanchor": "center",
          "xref": "paper",
          "y": 0.3055555555555556,
          "yanchor": "bottom",
          "yref": "paper",
          "yshift": 20
         },
         {
          "font": {
           "size": 16
          },
          "showarrow": false,
          "text": "vital",
          "x": 0.14444444444444446,
          "xanchor": "center",
          "xref": "paper",
          "y": 0.21875,
          "yanchor": "bottom",
          "yref": "paper",
          "yshift": 20
         },
         {
          "font": {
           "size": 16
          },
          "showarrow": false,
          "text": "vital",
          "x": 0.5,
          "xanchor": "center",
          "xref": "paper",
          "y": 0.21875,
          "yanchor": "bottom",
          "yref": "paper",
          "yshift": 20
         },
         {
          "font": {
           "size": 16
          },
          "showarrow": false,
          "text": "vital",
          "x": 0.8555555555555556,
          "xanchor": "center",
          "xref": "paper",
          "y": 0.21875,
          "yanchor": "bottom",
          "yref": "paper",
          "yshift": 20
         },
         {
          "font": {
           "size": 16
          },
          "showarrow": false,
          "text": "Hena",
          "x": 0.14444444444444446,
          "xanchor": "center",
          "xref": "paper",
          "y": 0.13194444444444445,
          "yanchor": "bottom",
          "yref": "paper",
          "yshift": 20
         },
         {
          "font": {
           "size": 16
          },
          "showarrow": false,
          "text": "Hena",
          "x": 0.5,
          "xanchor": "center",
          "xref": "paper",
          "y": 0.13194444444444445,
          "yanchor": "bottom",
          "yref": "paper",
          "yshift": 20
         },
         {
          "font": {
           "size": 16
          },
          "showarrow": false,
          "text": "Hena",
          "x": 0.8555555555555556,
          "xanchor": "center",
          "xref": "paper",
          "y": 0.13194444444444445,
          "yanchor": "bottom",
          "yref": "paper",
          "yshift": 20
         },
         {
          "font": {
           "size": 16
          },
          "showarrow": false,
          "text": "Gumayusi",
          "x": 0.14444444444444446,
          "xanchor": "center",
          "xref": "paper",
          "y": 0.045138888888888895,
          "yanchor": "bottom",
          "yref": "paper",
          "yshift": 20
         },
         {
          "font": {
           "size": 16
          },
          "showarrow": false,
          "text": "Gumayusi",
          "x": 0.5,
          "xanchor": "center",
          "xref": "paper",
          "y": 0.045138888888888895,
          "yanchor": "bottom",
          "yref": "paper",
          "yshift": 20
         },
         {
          "font": {
           "size": 16
          },
          "showarrow": false,
          "text": "Gumayusi",
          "x": 0.8555555555555556,
          "xanchor": "center",
          "xref": "paper",
          "y": 0.045138888888888895,
          "yanchor": "bottom",
          "yref": "paper",
          "yshift": 20
         }
        ],
        "height": 4200,
        "polar": {
         "domain": {
          "x": [
           0,
           0.2888888888888889
          ],
          "y": [
           0.9548611111111112,
           1
          ]
         },
         "radialaxis": {
          "range": [
           -0.2,
           1.2
          ],
          "visible": false
         }
        },
        "polar10": {
         "domain": {
          "x": [
           0,
           0.2888888888888889
          ],
          "y": [
           0.6944444444444444,
           0.7395833333333333
          ]
         },
         "radialaxis": {
          "range": [
           -0.2,
           1.2
          ],
          "visible": false
         }
        },
        "polar11": {
         "domain": {
          "x": [
           0.35555555555555557,
           0.6444444444444445
          ],
          "y": [
           0.6944444444444444,
           0.7395833333333333
          ]
         },
         "radialaxis": {
          "range": [
           -0.2,
           1.2
          ],
          "visible": false
         }
        },
        "polar12": {
         "domain": {
          "x": [
           0.7111111111111111,
           1
          ],
          "y": [
           0.6944444444444444,
           0.7395833333333333
          ]
         },
         "radialaxis": {
          "range": [
           -0.2,
           1.2
          ],
          "visible": false
         }
        },
        "polar13": {
         "domain": {
          "x": [
           0,
           0.2888888888888889
          ],
          "y": [
           0.6076388888888888,
           0.6527777777777777
          ]
         },
         "radialaxis": {
          "range": [
           -0.2,
           1.2
          ],
          "visible": false
         }
        },
        "polar14": {
         "domain": {
          "x": [
           0.35555555555555557,
           0.6444444444444445
          ],
          "y": [
           0.6076388888888888,
           0.6527777777777777
          ]
         },
         "radialaxis": {
          "range": [
           -0.2,
           1.2
          ],
          "visible": false
         }
        },
        "polar15": {
         "domain": {
          "x": [
           0.7111111111111111,
           1
          ],
          "y": [
           0.6076388888888888,
           0.6527777777777777
          ]
         },
         "radialaxis": {
          "range": [
           -0.2,
           1.2
          ],
          "visible": false
         }
        },
        "polar16": {
         "domain": {
          "x": [
           0,
           0.2888888888888889
          ],
          "y": [
           0.5208333333333334,
           0.5659722222222223
          ]
         },
         "radialaxis": {
          "range": [
           -0.2,
           1.2
          ],
          "visible": false
         }
        },
        "polar17": {
         "domain": {
          "x": [
           0.35555555555555557,
           0.6444444444444445
          ],
          "y": [
           0.5208333333333334,
           0.5659722222222223
          ]
         },
         "radialaxis": {
          "range": [
           -0.2,
           1.2
          ],
          "visible": false
         }
        },
        "polar18": {
         "domain": {
          "x": [
           0.7111111111111111,
           1
          ],
          "y": [
           0.5208333333333334,
           0.5659722222222223
          ]
         },
         "radialaxis": {
          "range": [
           -0.2,
           1.2
          ],
          "visible": false
         }
        },
        "polar19": {
         "domain": {
          "x": [
           0,
           0.2888888888888889
          ],
          "y": [
           0.4340277777777778,
           0.4791666666666667
          ]
         },
         "radialaxis": {
          "range": [
           -0.2,
           1.2
          ],
          "visible": false
         }
        },
        "polar2": {
         "domain": {
          "x": [
           0.35555555555555557,
           0.6444444444444445
          ],
          "y": [
           0.9548611111111112,
           1
          ]
         },
         "radialaxis": {
          "range": [
           -0.2,
           1.2
          ],
          "visible": false
         }
        },
        "polar20": {
         "domain": {
          "x": [
           0.35555555555555557,
           0.6444444444444445
          ],
          "y": [
           0.4340277777777778,
           0.4791666666666667
          ]
         },
         "radialaxis": {
          "range": [
           -0.2,
           1.2
          ],
          "visible": false
         }
        },
        "polar21": {
         "domain": {
          "x": [
           0.7111111111111111,
           1
          ],
          "y": [
           0.4340277777777778,
           0.4791666666666667
          ]
         },
         "radialaxis": {
          "range": [
           -0.2,
           1.2
          ],
          "visible": false
         }
        },
        "polar22": {
         "domain": {
          "x": [
           0,
           0.2888888888888889
          ],
          "y": [
           0.3472222222222222,
           0.3923611111111111
          ]
         },
         "radialaxis": {
          "range": [
           -0.2,
           1.2
          ],
          "visible": false
         }
        },
        "polar23": {
         "domain": {
          "x": [
           0.35555555555555557,
           0.6444444444444445
          ],
          "y": [
           0.3472222222222222,
           0.3923611111111111
          ]
         },
         "radialaxis": {
          "range": [
           -0.2,
           1.2
          ],
          "visible": false
         }
        },
        "polar24": {
         "domain": {
          "x": [
           0.7111111111111111,
           1
          ],
          "y": [
           0.3472222222222222,
           0.3923611111111111
          ]
         },
         "radialaxis": {
          "range": [
           -0.2,
           1.2
          ],
          "visible": false
         }
        },
        "polar25": {
         "domain": {
          "x": [
           0,
           0.2888888888888889
          ],
          "y": [
           0.2604166666666667,
           0.3055555555555556
          ]
         },
         "radialaxis": {
          "range": [
           -0.2,
           1.2
          ],
          "visible": false
         }
        },
        "polar26": {
         "domain": {
          "x": [
           0.35555555555555557,
           0.6444444444444445
          ],
          "y": [
           0.2604166666666667,
           0.3055555555555556
          ]
         },
         "radialaxis": {
          "range": [
           -0.2,
           1.2
          ],
          "visible": false
         }
        },
        "polar27": {
         "domain": {
          "x": [
           0.7111111111111111,
           1
          ],
          "y": [
           0.2604166666666667,
           0.3055555555555556
          ]
         },
         "radialaxis": {
          "range": [
           -0.2,
           1.2
          ],
          "visible": false
         }
        },
        "polar28": {
         "domain": {
          "x": [
           0,
           0.2888888888888889
          ],
          "y": [
           0.1736111111111111,
           0.21875
          ]
         },
         "radialaxis": {
          "range": [
           -0.2,
           1.2
          ],
          "visible": false
         }
        },
        "polar29": {
         "domain": {
          "x": [
           0.35555555555555557,
           0.6444444444444445
          ],
          "y": [
           0.1736111111111111,
           0.21875
          ]
         },
         "radialaxis": {
          "range": [
           -0.2,
           1.2
          ],
          "visible": false
         }
        },
        "polar3": {
         "domain": {
          "x": [
           0.7111111111111111,
           1
          ],
          "y": [
           0.9548611111111112,
           1
          ]
         },
         "radialaxis": {
          "range": [
           -0.2,
           1.2
          ],
          "visible": false
         }
        },
        "polar30": {
         "domain": {
          "x": [
           0.7111111111111111,
           1
          ],
          "y": [
           0.1736111111111111,
           0.21875
          ]
         },
         "radialaxis": {
          "range": [
           -0.2,
           1.2
          ],
          "visible": false
         }
        },
        "polar31": {
         "domain": {
          "x": [
           0,
           0.2888888888888889
          ],
          "y": [
           0.08680555555555555,
           0.13194444444444445
          ]
         },
         "radialaxis": {
          "range": [
           -0.2,
           1.2
          ],
          "visible": false
         }
        },
        "polar32": {
         "domain": {
          "x": [
           0.35555555555555557,
           0.6444444444444445
          ],
          "y": [
           0.08680555555555555,
           0.13194444444444445
          ]
         },
         "radialaxis": {
          "range": [
           -0.2,
           1.2
          ],
          "visible": false
         }
        },
        "polar33": {
         "domain": {
          "x": [
           0.7111111111111111,
           1
          ],
          "y": [
           0.08680555555555555,
           0.13194444444444445
          ]
         },
         "radialaxis": {
          "range": [
           -0.2,
           1.2
          ],
          "visible": false
         }
        },
        "polar34": {
         "domain": {
          "x": [
           0,
           0.2888888888888889
          ],
          "y": [
           0,
           0.045138888888888895
          ]
         },
         "radialaxis": {
          "range": [
           -0.2,
           1.2
          ],
          "visible": false
         }
        },
        "polar35": {
         "domain": {
          "x": [
           0.35555555555555557,
           0.6444444444444445
          ],
          "y": [
           0,
           0.045138888888888895
          ]
         },
         "radialaxis": {
          "range": [
           -0.2,
           1.2
          ],
          "visible": false
         }
        },
        "polar36": {
         "domain": {
          "x": [
           0.7111111111111111,
           1
          ],
          "y": [
           0,
           0.045138888888888895
          ]
         },
         "radialaxis": {
          "range": [
           -0.2,
           1.2
          ],
          "visible": false
         }
        },
        "polar4": {
         "domain": {
          "x": [
           0,
           0.2888888888888889
          ],
          "y": [
           0.8680555555555556,
           0.9131944444444444
          ]
         },
         "radialaxis": {
          "range": [
           -0.2,
           1.2
          ],
          "visible": false
         }
        },
        "polar5": {
         "domain": {
          "x": [
           0.35555555555555557,
           0.6444444444444445
          ],
          "y": [
           0.8680555555555556,
           0.9131944444444444
          ]
         },
         "radialaxis": {
          "range": [
           -0.2,
           1.2
          ],
          "visible": false
         }
        },
        "polar6": {
         "domain": {
          "x": [
           0.7111111111111111,
           1
          ],
          "y": [
           0.8680555555555556,
           0.9131944444444444
          ]
         },
         "radialaxis": {
          "range": [
           -0.2,
           1.2
          ],
          "visible": false
         }
        },
        "polar7": {
         "domain": {
          "x": [
           0,
           0.2888888888888889
          ],
          "y": [
           0.78125,
           0.8263888888888888
          ]
         },
         "radialaxis": {
          "range": [
           -0.2,
           1.2
          ],
          "visible": false
         }
        },
        "polar8": {
         "domain": {
          "x": [
           0.35555555555555557,
           0.6444444444444445
          ],
          "y": [
           0.78125,
           0.8263888888888888
          ]
         },
         "radialaxis": {
          "range": [
           -0.2,
           1.2
          ],
          "visible": false
         }
        },
        "polar9": {
         "domain": {
          "x": [
           0.7111111111111111,
           1
          ],
          "y": [
           0.78125,
           0.8263888888888888
          ]
         },
         "radialaxis": {
          "range": [
           -0.2,
           1.2
          ],
          "visible": false
         }
        },
        "showlegend": false,
        "template": {
         "data": {
          "bar": [
           {
            "error_x": {
             "color": "#2a3f5f"
            },
            "error_y": {
             "color": "#2a3f5f"
            },
            "marker": {
             "line": {
              "color": "#E5ECF6",
              "width": 0.5
             },
             "pattern": {
              "fillmode": "overlay",
              "size": 10,
              "solidity": 0.2
             }
            },
            "type": "bar"
           }
          ],
          "barpolar": [
           {
            "marker": {
             "line": {
              "color": "#E5ECF6",
              "width": 0.5
             },
             "pattern": {
              "fillmode": "overlay",
              "size": 10,
              "solidity": 0.2
             }
            },
            "type": "barpolar"
           }
          ],
          "carpet": [
           {
            "aaxis": {
             "endlinecolor": "#2a3f5f",
             "gridcolor": "white",
             "linecolor": "white",
             "minorgridcolor": "white",
             "startlinecolor": "#2a3f5f"
            },
            "baxis": {
             "endlinecolor": "#2a3f5f",
             "gridcolor": "white",
             "linecolor": "white",
             "minorgridcolor": "white",
             "startlinecolor": "#2a3f5f"
            },
            "type": "carpet"
           }
          ],
          "choropleth": [
           {
            "colorbar": {
             "outlinewidth": 0,
             "ticks": ""
            },
            "type": "choropleth"
           }
          ],
          "contour": [
           {
            "colorbar": {
             "outlinewidth": 0,
             "ticks": ""
            },
            "colorscale": [
             [
              0,
              "#0d0887"
             ],
             [
              0.1111111111111111,
              "#46039f"
             ],
             [
              0.2222222222222222,
              "#7201a8"
             ],
             [
              0.3333333333333333,
              "#9c179e"
             ],
             [
              0.4444444444444444,
              "#bd3786"
             ],
             [
              0.5555555555555556,
              "#d8576b"
             ],
             [
              0.6666666666666666,
              "#ed7953"
             ],
             [
              0.7777777777777778,
              "#fb9f3a"
             ],
             [
              0.8888888888888888,
              "#fdca26"
             ],
             [
              1,
              "#f0f921"
             ]
            ],
            "type": "contour"
           }
          ],
          "contourcarpet": [
           {
            "colorbar": {
             "outlinewidth": 0,
             "ticks": ""
            },
            "type": "contourcarpet"
           }
          ],
          "heatmap": [
           {
            "colorbar": {
             "outlinewidth": 0,
             "ticks": ""
            },
            "colorscale": [
             [
              0,
              "#0d0887"
             ],
             [
              0.1111111111111111,
              "#46039f"
             ],
             [
              0.2222222222222222,
              "#7201a8"
             ],
             [
              0.3333333333333333,
              "#9c179e"
             ],
             [
              0.4444444444444444,
              "#bd3786"
             ],
             [
              0.5555555555555556,
              "#d8576b"
             ],
             [
              0.6666666666666666,
              "#ed7953"
             ],
             [
              0.7777777777777778,
              "#fb9f3a"
             ],
             [
              0.8888888888888888,
              "#fdca26"
             ],
             [
              1,
              "#f0f921"
             ]
            ],
            "type": "heatmap"
           }
          ],
          "heatmapgl": [
           {
            "colorbar": {
             "outlinewidth": 0,
             "ticks": ""
            },
            "colorscale": [
             [
              0,
              "#0d0887"
             ],
             [
              0.1111111111111111,
              "#46039f"
             ],
             [
              0.2222222222222222,
              "#7201a8"
             ],
             [
              0.3333333333333333,
              "#9c179e"
             ],
             [
              0.4444444444444444,
              "#bd3786"
             ],
             [
              0.5555555555555556,
              "#d8576b"
             ],
             [
              0.6666666666666666,
              "#ed7953"
             ],
             [
              0.7777777777777778,
              "#fb9f3a"
             ],
             [
              0.8888888888888888,
              "#fdca26"
             ],
             [
              1,
              "#f0f921"
             ]
            ],
            "type": "heatmapgl"
           }
          ],
          "histogram": [
           {
            "marker": {
             "pattern": {
              "fillmode": "overlay",
              "size": 10,
              "solidity": 0.2
             }
            },
            "type": "histogram"
           }
          ],
          "histogram2d": [
           {
            "colorbar": {
             "outlinewidth": 0,
             "ticks": ""
            },
            "colorscale": [
             [
              0,
              "#0d0887"
             ],
             [
              0.1111111111111111,
              "#46039f"
             ],
             [
              0.2222222222222222,
              "#7201a8"
             ],
             [
              0.3333333333333333,
              "#9c179e"
             ],
             [
              0.4444444444444444,
              "#bd3786"
             ],
             [
              0.5555555555555556,
              "#d8576b"
             ],
             [
              0.6666666666666666,
              "#ed7953"
             ],
             [
              0.7777777777777778,
              "#fb9f3a"
             ],
             [
              0.8888888888888888,
              "#fdca26"
             ],
             [
              1,
              "#f0f921"
             ]
            ],
            "type": "histogram2d"
           }
          ],
          "histogram2dcontour": [
           {
            "colorbar": {
             "outlinewidth": 0,
             "ticks": ""
            },
            "colorscale": [
             [
              0,
              "#0d0887"
             ],
             [
              0.1111111111111111,
              "#46039f"
             ],
             [
              0.2222222222222222,
              "#7201a8"
             ],
             [
              0.3333333333333333,
              "#9c179e"
             ],
             [
              0.4444444444444444,
              "#bd3786"
             ],
             [
              0.5555555555555556,
              "#d8576b"
             ],
             [
              0.6666666666666666,
              "#ed7953"
             ],
             [
              0.7777777777777778,
              "#fb9f3a"
             ],
             [
              0.8888888888888888,
              "#fdca26"
             ],
             [
              1,
              "#f0f921"
             ]
            ],
            "type": "histogram2dcontour"
           }
          ],
          "mesh3d": [
           {
            "colorbar": {
             "outlinewidth": 0,
             "ticks": ""
            },
            "type": "mesh3d"
           }
          ],
          "parcoords": [
           {
            "line": {
             "colorbar": {
              "outlinewidth": 0,
              "ticks": ""
             }
            },
            "type": "parcoords"
           }
          ],
          "pie": [
           {
            "automargin": true,
            "type": "pie"
           }
          ],
          "scatter": [
           {
            "fillpattern": {
             "fillmode": "overlay",
             "size": 10,
             "solidity": 0.2
            },
            "type": "scatter"
           }
          ],
          "scatter3d": [
           {
            "line": {
             "colorbar": {
              "outlinewidth": 0,
              "ticks": ""
             }
            },
            "marker": {
             "colorbar": {
              "outlinewidth": 0,
              "ticks": ""
             }
            },
            "type": "scatter3d"
           }
          ],
          "scattercarpet": [
           {
            "marker": {
             "colorbar": {
              "outlinewidth": 0,
              "ticks": ""
             }
            },
            "type": "scattercarpet"
           }
          ],
          "scattergeo": [
           {
            "marker": {
             "colorbar": {
              "outlinewidth": 0,
              "ticks": ""
             }
            },
            "type": "scattergeo"
           }
          ],
          "scattergl": [
           {
            "marker": {
             "colorbar": {
              "outlinewidth": 0,
              "ticks": ""
             }
            },
            "type": "scattergl"
           }
          ],
          "scattermapbox": [
           {
            "marker": {
             "colorbar": {
              "outlinewidth": 0,
              "ticks": ""
             }
            },
            "type": "scattermapbox"
           }
          ],
          "scatterpolar": [
           {
            "marker": {
             "colorbar": {
              "outlinewidth": 0,
              "ticks": ""
             }
            },
            "type": "scatterpolar"
           }
          ],
          "scatterpolargl": [
           {
            "marker": {
             "colorbar": {
              "outlinewidth": 0,
              "ticks": ""
             }
            },
            "type": "scatterpolargl"
           }
          ],
          "scatterternary": [
           {
            "marker": {
             "colorbar": {
              "outlinewidth": 0,
              "ticks": ""
             }
            },
            "type": "scatterternary"
           }
          ],
          "surface": [
           {
            "colorbar": {
             "outlinewidth": 0,
             "ticks": ""
            },
            "colorscale": [
             [
              0,
              "#0d0887"
             ],
             [
              0.1111111111111111,
              "#46039f"
             ],
             [
              0.2222222222222222,
              "#7201a8"
             ],
             [
              0.3333333333333333,
              "#9c179e"
             ],
             [
              0.4444444444444444,
              "#bd3786"
             ],
             [
              0.5555555555555556,
              "#d8576b"
             ],
             [
              0.6666666666666666,
              "#ed7953"
             ],
             [
              0.7777777777777778,
              "#fb9f3a"
             ],
             [
              0.8888888888888888,
              "#fdca26"
             ],
             [
              1,
              "#f0f921"
             ]
            ],
            "type": "surface"
           }
          ],
          "table": [
           {
            "cells": {
             "fill": {
              "color": "#EBF0F8"
             },
             "line": {
              "color": "white"
             }
            },
            "header": {
             "fill": {
              "color": "#C8D4E3"
             },
             "line": {
              "color": "white"
             }
            },
            "type": "table"
           }
          ]
         },
         "layout": {
          "annotationdefaults": {
           "arrowcolor": "#2a3f5f",
           "arrowhead": 0,
           "arrowwidth": 1
          },
          "autotypenumbers": "strict",
          "coloraxis": {
           "colorbar": {
            "outlinewidth": 0,
            "ticks": ""
           }
          },
          "colorscale": {
           "diverging": [
            [
             0,
             "#8e0152"
            ],
            [
             0.1,
             "#c51b7d"
            ],
            [
             0.2,
             "#de77ae"
            ],
            [
             0.3,
             "#f1b6da"
            ],
            [
             0.4,
             "#fde0ef"
            ],
            [
             0.5,
             "#f7f7f7"
            ],
            [
             0.6,
             "#e6f5d0"
            ],
            [
             0.7,
             "#b8e186"
            ],
            [
             0.8,
             "#7fbc41"
            ],
            [
             0.9,
             "#4d9221"
            ],
            [
             1,
             "#276419"
            ]
           ],
           "sequential": [
            [
             0,
             "#0d0887"
            ],
            [
             0.1111111111111111,
             "#46039f"
            ],
            [
             0.2222222222222222,
             "#7201a8"
            ],
            [
             0.3333333333333333,
             "#9c179e"
            ],
            [
             0.4444444444444444,
             "#bd3786"
            ],
            [
             0.5555555555555556,
             "#d8576b"
            ],
            [
             0.6666666666666666,
             "#ed7953"
            ],
            [
             0.7777777777777778,
             "#fb9f3a"
            ],
            [
             0.8888888888888888,
             "#fdca26"
            ],
            [
             1,
             "#f0f921"
            ]
           ],
           "sequentialminus": [
            [
             0,
             "#0d0887"
            ],
            [
             0.1111111111111111,
             "#46039f"
            ],
            [
             0.2222222222222222,
             "#7201a8"
            ],
            [
             0.3333333333333333,
             "#9c179e"
            ],
            [
             0.4444444444444444,
             "#bd3786"
            ],
            [
             0.5555555555555556,
             "#d8576b"
            ],
            [
             0.6666666666666666,
             "#ed7953"
            ],
            [
             0.7777777777777778,
             "#fb9f3a"
            ],
            [
             0.8888888888888888,
             "#fdca26"
            ],
            [
             1,
             "#f0f921"
            ]
           ]
          },
          "colorway": [
           "#636efa",
           "#EF553B",
           "#00cc96",
           "#ab63fa",
           "#FFA15A",
           "#19d3f3",
           "#FF6692",
           "#B6E880",
           "#FF97FF",
           "#FECB52"
          ],
          "font": {
           "color": "#2a3f5f"
          },
          "geo": {
           "bgcolor": "white",
           "lakecolor": "white",
           "landcolor": "#E5ECF6",
           "showlakes": true,
           "showland": true,
           "subunitcolor": "white"
          },
          "hoverlabel": {
           "align": "left"
          },
          "hovermode": "closest",
          "mapbox": {
           "style": "light"
          },
          "paper_bgcolor": "white",
          "plot_bgcolor": "#E5ECF6",
          "polar": {
           "angularaxis": {
            "gridcolor": "white",
            "linecolor": "white",
            "ticks": ""
           },
           "bgcolor": "#E5ECF6",
           "radialaxis": {
            "gridcolor": "white",
            "linecolor": "white",
            "ticks": ""
           }
          },
          "scene": {
           "xaxis": {
            "backgroundcolor": "#E5ECF6",
            "gridcolor": "white",
            "gridwidth": 2,
            "linecolor": "white",
            "showbackground": true,
            "ticks": "",
            "zerolinecolor": "white"
           },
           "yaxis": {
            "backgroundcolor": "#E5ECF6",
            "gridcolor": "white",
            "gridwidth": 2,
            "linecolor": "white",
            "showbackground": true,
            "ticks": "",
            "zerolinecolor": "white"
           },
           "zaxis": {
            "backgroundcolor": "#E5ECF6",
            "gridcolor": "white",
            "gridwidth": 2,
            "linecolor": "white",
            "showbackground": true,
            "ticks": "",
            "zerolinecolor": "white"
           }
          },
          "shapedefaults": {
           "line": {
            "color": "#2a3f5f"
           }
          },
          "ternary": {
           "aaxis": {
            "gridcolor": "white",
            "linecolor": "white",
            "ticks": ""
           },
           "baxis": {
            "gridcolor": "white",
            "linecolor": "white",
            "ticks": ""
           },
           "bgcolor": "#E5ECF6",
           "caxis": {
            "gridcolor": "white",
            "linecolor": "white",
            "ticks": ""
           }
          },
          "title": {
           "x": 0.05
          },
          "xaxis": {
           "automargin": true,
           "gridcolor": "white",
           "linecolor": "white",
           "ticks": "",
           "title": {
            "standoff": 15
           },
           "zerolinecolor": "white",
           "zerolinewidth": 2
          },
          "yaxis": {
           "automargin": true,
           "gridcolor": "white",
           "linecolor": "white",
           "ticks": "",
           "title": {
            "standoff": 15
           },
           "zerolinecolor": "white",
           "zerolinewidth": 2
          }
         }
        },
        "title": {
         "y": 1
        },
        "width": 1650
       }
      }
     },
     "metadata": {},
     "output_type": "display_data"
    }
   ],
   "source": [
    "position = positions[3]\n",
    "df = players_stats.loc[players_stats.index.get_level_values(1) == position]\n",
    "\n",
    "ROWS, COLUMNS = get_rows_columns(df, len(origin_columns))\n",
    "min_value, max_value = 0, 1\n",
    "\n",
    "fig = get_fig_subplots(df.index.get_level_values(0), ROWS, COLUMNS)\n",
    "for i, player_name in enumerate(df.index.get_level_values(0)):\n",
    "    for j, (key, cols) in enumerate(columns.items()):\n",
    "        _df = df.loc[(player_name, position), cols]\n",
    "        theta_list = get_theta_list(df, (player_name, position), origin_columns[key])\n",
    "\n",
    "        fig.add_trace(\n",
    "            go.Scatterpolar(r=_df, theta=theta_list, fill=\"toself\", name=player_name),\n",
    "            row=i + 1,\n",
    "            col=j + 1,\n",
    "        )\n",
    "\n",
    "fig.update_layout(\n",
    "    height=350 * ROWS, width=550 * COLUMNS, showlegend=False, title=dict(y=1)\n",
    ")\n",
    "fig.update_annotations(yshift=20)\n",
    "fig.update_polars(\n",
    "    radialaxis=dict(range=[min_value - 0.2, max_value + 0.2], visible=False)\n",
    ")\n",
    "fig.show()"
   ]
  },
  {
   "cell_type": "code",
   "execution_count": 27,
   "metadata": {},
   "outputs": [
    {
     "data": {
      "application/vnd.plotly.v1+json": {
       "config": {
        "plotlyServerURL": "https://plot.ly"
       },
       "data": [
        {
         "fill": "toself",
         "name": "BeryL",
         "r": [
          0,
          1,
          0.05764563106796117,
          0,
          0.7230512105257005,
          0.9201567709231191,
          1.0000000000000002
         ],
         "subplot": "polar",
         "theta": [
          "kills - 0.1 | 10",
          "deaths - 3.1 | 1",
          "assists - 5.65 | 9",
          "kda - 2.68 | 10",
          "dpm - 176.73 | 3",
          "damageshare - 0.09 | 2",
          "damagetakenperminute - 399.43 | 1"
         ],
         "type": "scatterpolar"
        },
        {
         "fill": "toself",
         "name": "BeryL",
         "r": [
          0,
          0.6333333333333334,
          0.9263519208947972,
          1,
          0.6537735849056605,
          0.8218940780539645,
          0.09123320350472586,
          0.05216844746172011,
          1.0000000000000018,
          0.9999999999999998,
          1
         ],
         "subplot": "polar2",
         "theta": [
          "firstblood - 0.05 | 10",
          "firstbloodvictim - 0.1 | 5",
          "wpm - 1.75 | 2",
          "wcpm - 0.45 | 1",
          "controlwardsbought - 15.05 | 6",
          "vspm - 3.19 | 2",
          "gpm - 223.98 | 8",
          "gdpm - -23.57 | 9",
          "goldshare - 0.13 | 1",
          "cspm - 1.14 | 1",
          "champions - 11.0 | 1"
         ],
         "type": "scatterpolar"
        },
        {
         "fill": "toself",
         "name": "BeryL",
         "r": [
          0.3888361755780656,
          0,
          0,
          0.25434249263984293,
          0.22122566425860168,
          0.12477876106194688
         ],
         "subplot": "polar3",
         "theta": [
          "golddiffat10 - -28.2 | 9",
          "xpdiffat10 - -57.1 | 10",
          "csdiffat10 - -1.55 | 10",
          "golddiffat15 - -117.4 | 8",
          "xpdiffat15 - -134.25 | 8",
          "csdiffat15 - -1.2 | 5"
         ],
         "type": "scatterpolar"
        },
        {
         "fill": "toself",
         "name": "Kellin",
         "r": [
          0.9999999999999999,
          0.24390243902439024,
          0.5995145631067962,
          0.7893461599099412,
          0.8506872523764835,
          0.8962679894476104,
          0
         ],
         "subplot": "polar4",
         "theta": [
          "kills - 0.79 | 1",
          "deaths - 1.63 | 8",
          "assists - 8.0 | 5",
          "kda - 6.25 | 4",
          "dpm - 188.59 | 2",
          "damageshare - 0.09 | 3",
          "damagetakenperminute - 239.4 | 10"
         ],
         "type": "scatterpolar"
        },
        {
         "fill": "toself",
         "name": "Kellin",
         "r": [
          0.6090225563909772,
          0.33333333333333337,
          0.7224995947479336,
          0.4256286748382063,
          0.23899371069182385,
          0.5731593552577197,
          0.6427635392966797,
          0.6812369960934112,
          0.8095885320488012,
          0.4381356044819704,
          1
         ],
         "subplot": "polar5",
         "theta": [
          "firstblood - 0.26 | 6",
          "firstbloodvictim - 0.05 | 7",
          "wpm - 1.68 | 7",
          "wcpm - 0.34 | 4",
          "controlwardsbought - 11.58 | 9",
          "vspm - 3.08 | 3",
          "gpm - 242.63 | 4",
          "gdpm - 14.89 | 4",
          "goldshare - 0.13 | 2",
          "cspm - 0.91 | 5",
          "champions - 11.0 | 1"
         ],
         "type": "scatterpolar"
        },
        {
         "fill": "toself",
         "name": "Kellin",
         "r": [
          0.887977091080053,
          0.2185632696712097,
          0.10973997355663287,
          0.5518891069676153,
          0.13444349210236317,
          0.06194690265486724
         ],
         "subplot": "polar6",
         "theta": [
          "golddiffat10 - 48.63 | 2",
          "xpdiffat10 - -17.42 | 5",
          "csdiffat10 - -0.89 | 8",
          "golddiffat15 - 10.26 | 6",
          "xpdiffat15 - -179.84 | 9",
          "csdiffat15 - -1.95 | 9"
         ],
         "type": "scatterpolar"
        },
        {
         "fill": "toself",
         "name": "Delight",
         "r": [
          0.5419847328244274,
          0,
          0.8058252427184467,
          1,
          0.3793746442132362,
          0.0916907609799602,
          0.17819696859818168
         ],
         "subplot": "polar7",
         "theta": [
          "kills - 0.47 | 4",
          "deaths - 1.16 | 10",
          "assists - 8.89 | 2",
          "kda - 7.21 | 1",
          "dpm - 144.78 | 6",
          "damageshare - 0.07 | 8",
          "damagetakenperminute - 267.92 | 9"
         ],
         "type": "scatterpolar"
        },
        {
         "fill": "toself",
         "name": "Delight",
         "r": [
          0.7593984962406013,
          0.6666666666666667,
          0,
          0,
          0,
          0,
          1,
          0.9999999999999999,
          0.662615731133803,
          0.7695057923022846,
          0
         ],
         "subplot": "polar8",
         "theta": [
          "firstblood - 0.32 | 3",
          "firstbloodvictim - 0.11 | 3",
          "wpm - 1.45 | 10",
          "wcpm - 0.26 | 10",
          "controlwardsbought - 9.58 | 10",
          "vspm - 2.82 | 10",
          "gpm - 254.71 | 1",
          "gdpm - 34.38 | 1",
          "goldshare - 0.13 | 4",
          "cspm - 1.05 | 2",
          "champions - 7.0 | 8"
         ],
         "type": "scatterpolar"
        },
        {
         "fill": "toself",
         "name": "Delight",
         "r": [
          0.47424883532076767,
          0.58587944247055,
          1,
          0.8126840039254171,
          0.7930362768124491,
          1
         ],
         "subplot": "polar9",
         "theta": [
          "golddiffat10 - -15.05 | 6",
          "xpdiffat10 - 49.26 | 2",
          "csdiffat10 - 4.42 | 1",
          "golddiffat15 - 122.16 | 3",
          "xpdiffat15 - 166.16 | 2",
          "csdiffat15 - 9.21 | 1"
         ],
         "type": "scatterpolar"
        },
        {
         "fill": "toself",
         "name": "Life",
         "r": [
          0.7709923664122137,
          0.758807588075881,
          0.40533980582524287,
          0.3246685714759874,
          0.4104089454937889,
          0.3869183242196854,
          0.3754291383390549
         ],
         "subplot": "polar10",
         "theta": [
          "kills - 0.63 | 2",
          "deaths - 2.63 | 3",
          "assists - 7.16 | 7",
          "kda - 4.15 | 7",
          "dpm - 147.67 | 5",
          "damageshare - 0.07 | 4",
          "damagetakenperminute - 299.48 | 8"
         ],
         "type": "scatterpolar"
        },
        {
         "fill": "toself",
         "name": "Life",
         "r": [
          0.7593984962406013,
          1,
          0.4796401361646945,
          0.07523915880682974,
          0.6666666666666665,
          0.2697880380232629,
          0.3048007914247064,
          0.2807045848213489,
          0.0673350849041281,
          0,
          0.5
         ],
         "subplot": "polar11",
         "theta": [
          "firstblood - 0.32 | 3",
          "firstbloodvictim - 0.16 | 1",
          "wpm - 1.6 | 9",
          "wcpm - 0.27 | 8",
          "controlwardsbought - 15.16 | 5",
          "vspm - 2.94 | 9",
          "gpm - 231.2 | 6",
          "gdpm - -9.59 | 6",
          "goldshare - 0.13 | 9",
          "cspm - 0.73 | 10",
          "champions - 9.0 | 4"
         ],
         "type": "scatterpolar"
        },
        {
         "fill": "toself",
         "name": "Life",
         "r": [
          0.3904774116339702,
          0.346703560418888,
          0.11855442926399296,
          0,
          0.2841145630419537,
          0
         ],
         "subplot": "polar12",
         "theta": [
          "golddiffat10 - -27.95 | 8",
          "xpdiffat10 - 5.84 | 4",
          "csdiffat10 - -0.84 | 7",
          "golddiffat15 - -226.53 | 10",
          "xpdiffat15 - -101.21 | 7",
          "csdiffat15 - -2.68 | 10"
         ],
         "type": "scatterpolar"
        },
        {
         "fill": "toself",
         "name": "Lehends",
         "r": [
          0.4995759117896522,
          0.17615176151761525,
          0.7788565264293421,
          0.9471536807412959,
          0.16325593519912096,
          0.015397891074094616,
          0.44340611297381005
         ],
         "subplot": "polar13",
         "theta": [
          "kills - 0.44 | 7",
          "deaths - 1.5 | 9",
          "assists - 8.78 | 3",
          "kda - 6.97 | 3",
          "dpm - 124.69 | 9",
          "damageshare - 0.06 | 9",
          "damagetakenperminute - 310.36 | 7"
         ],
         "type": "scatterpolar"
        },
        {
         "fill": "toself",
         "name": "Lehends",
         "r": [
          0.8095238095238093,
          0,
          0.8124070171646762,
          0.10099610259722214,
          0.4951083158630327,
          0.3067590351170679,
          0.7448942257602571,
          0.8352916383087042,
          0,
          0.5502586977344415,
          0
         ],
         "subplot": "polar14",
         "theta": [
          "firstblood - 0.33 | 2",
          "firstbloodvictim - 0.0 | 10",
          "wpm - 1.71 | 3",
          "wcpm - 0.27 | 6",
          "controlwardsbought - 13.72 | 8",
          "vspm - 2.96 | 7",
          "gpm - 246.08 | 3",
          "gdpm - 24.31 | 3",
          "goldshare - 0.13 | 10",
          "cspm - 0.96 | 3",
          "champions - 7.0 | 8"
         ],
         "type": "scatterpolar"
        },
        {
         "fill": "toself",
         "name": "Lehends",
         "r": [
          0.5597678714745006,
          1,
          0.01767788061309436,
          0.8125749645622069,
          0.9999999999999999,
          0.11356932153392328
         ],
         "subplot": "polar15",
         "theta": [
          "golddiffat10 - -1.89 | 5",
          "xpdiffat10 - 124.44 | 1",
          "csdiffat10 - -1.44 | 9",
          "golddiffat15 - 122.11 | 4",
          "xpdiffat15 - 274.89 | 1",
          "csdiffat15 - -1.33 | 8"
         ],
         "type": "scatterpolar"
        },
        {
         "fill": "toself",
         "name": "Jun",
         "r": [
          0.5801526717557252,
          0.7554200542005421,
          0.5706917475728155,
          0.45584318237765586,
          1,
          1,
          0.6611360689818142
         ],
         "subplot": "polar16",
         "theta": [
          "kills - 0.5 | 3",
          "deaths - 2.62 | 4",
          "assists - 7.88 | 6",
          "kda - 4.74 | 5",
          "dpm - 202.47 | 1",
          "damageshare - 0.09 | 1",
          "damagetakenperminute - 345.2 | 4"
         ],
         "type": "scatterpolar"
        },
        {
         "fill": "toself",
         "name": "Jun",
         "r": [
          0.5714285714285714,
          0.39583333333333337,
          0.5538053169071162,
          0.02150242858872753,
          0.7598270440251573,
          0.2920743047765253,
          0.32742715464065597,
          0.39046404898461307,
          0.1530358193325938,
          0.15993772017361407,
          0
         ],
         "subplot": "polar17",
         "theta": [
          "firstblood - 0.25 | 7",
          "firstbloodvictim - 0.06 | 6",
          "wpm - 1.63 | 8",
          "wcpm - 0.26 | 9",
          "controlwardsbought - 15.94 | 3",
          "vspm - 2.95 | 8",
          "gpm - 231.97 | 5",
          "gdpm - -2.88 | 5",
          "goldshare - 0.13 | 7",
          "cspm - 0.8 | 9",
          "champions - 7.0 | 8"
         ],
         "type": "scatterpolar"
        },
        {
         "fill": "toself",
         "name": "Jun",
         "r": [
          1,
          0.20091498867739765,
          0.2281842221242838,
          0.8204735034347399,
          0.40621695403898167,
          0.18888274336283184
         ],
         "subplot": "polar18",
         "theta": [
          "golddiffat10 - 65.88 | 1",
          "xpdiffat10 - -20.62 | 6",
          "csdiffat10 - -0.19 | 3",
          "golddiffat15 - 125.5 | 2",
          "xpdiffat15 - -37.06 | 6",
          "csdiffat15 - -0.44 | 3"
         ],
         "type": "scatterpolar"
        },
        {
         "fill": "toself",
         "name": "Kael",
         "r": [
          0.3129770992366412,
          0.8672086720867208,
          0.6480582524271847,
          0.44685081052740605,
          0.32018563781498344,
          0.38061519213224093,
          0.8453698281604869
         ],
         "subplot": "polar19",
         "theta": [
          "kills - 0.32 | 9",
          "deaths - 2.84 | 2",
          "assists - 8.21 | 4",
          "kda - 4.7 | 6",
          "dpm - 139.28 | 7",
          "damageshare - 0.07 | 5",
          "damagetakenperminute - 374.68 | 2"
         ],
         "type": "scatterpolar"
        },
        {
         "fill": "toself",
         "name": "Kael",
         "r": [
          0.45864661654135325,
          0.33333333333333337,
          1,
          0.5146724432544432,
          0.9999999999999998,
          1,
          0.15353329389859116,
          0.1694275483570638,
          0.08931832650025484,
          0.44104646814154624,
          1
         ],
         "subplot": "polar20",
         "theta": [
          "firstblood - 0.21 | 8",
          "firstbloodvictim - 0.05 | 7",
          "wpm - 1.77 | 1",
          "wcpm - 0.36 | 2",
          "controlwardsbought - 17.95 | 1",
          "vspm - 3.27 | 1",
          "gpm - 226.09 | 7",
          "gdpm - -16.4 | 7",
          "goldshare - 0.13 | 8",
          "cspm - 0.91 | 4",
          "champions - 11.0 | 1"
         ],
         "type": "scatterpolar"
        },
        {
         "fill": "toself",
         "name": "Kael",
         "r": [
          0,
          0.17101800342093992,
          0.17144116350815336,
          0.05483316977428848,
          0,
          0.11504424778761059
         ],
         "subplot": "polar21",
         "theta": [
          "golddiffat10 - -88.05 | 10",
          "xpdiffat10 - -26.05 | 7",
          "csdiffat10 - -0.53 | 5",
          "golddiffat15 - -203.0 | 9",
          "xpdiffat15 - -250.47 | 10",
          "csdiffat15 - -1.32 | 7"
         ],
         "type": "scatterpolar"
        },
        {
         "fill": "toself",
         "name": "Peter",
         "r": [
          0.46564885496183195,
          0.5962059620596206,
          0.06553398058252413,
          0.12369551447830263,
          0.1996804266811889,
          0.2831458289246469,
          0.6767955894683853
         ],
         "subplot": "polar22",
         "theta": [
          "kills - 0.42 | 8",
          "deaths - 2.32 | 5",
          "assists - 5.68 | 8",
          "kda - 3.24 | 9",
          "dpm - 128.08 | 8",
          "damageshare - 0.07 | 7",
          "damagetakenperminute - 347.71 | 3"
         ],
         "type": "scatterpolar"
        },
        {
         "fill": "toself",
         "name": "Peter",
         "r": [
          0.7593984962406013,
          0.6666666666666667,
          0.808915545469282,
          0.41171642694724375,
          0.6477987421383649,
          0.3415717069138573,
          0,
          0,
          0.3635455674883392,
          0.32104294979329695,
          0.25
         ],
         "subplot": "polar23",
         "theta": [
          "firstblood - 0.32 | 3",
          "firstbloodvictim - 0.11 | 3",
          "wpm - 1.71 | 4",
          "wcpm - 0.34 | 5",
          "controlwardsbought - 15.0 | 7",
          "vspm - 2.98 | 5",
          "gpm - 220.9 | 10",
          "gdpm - -26.75 | 10",
          "goldshare - 0.13 | 6",
          "cspm - 0.86 | 7",
          "champions - 8.0 | 6"
         ],
         "type": "scatterpolar"
        },
        {
         "fill": "toself",
         "name": "Peter",
         "r": [
          0.8226695730221824,
          0.11100660028797746,
          0.15381225209343322,
          0.6501472031403337,
          0.5934748488929951,
          0.11946902654867254
         ],
         "subplot": "polar24",
         "theta": [
          "golddiffat10 - 38.58 | 4",
          "xpdiffat10 - -36.95 | 9",
          "csdiffat10 - -0.63 | 6",
          "golddiffat15 - 52.42 | 5",
          "xpdiffat15 - 61.32 | 5",
          "csdiffat15 - -1.26 | 6"
         ],
         "type": "scatterpolar"
        },
        {
         "fill": "toself",
         "name": "Effort",
         "r": [
          0.5076335877862596,
          0.45934959349593496,
          0,
          0.21709570975352732,
          0,
          0,
          0.5575542276118342
         ],
         "subplot": "polar25",
         "theta": [
          "kills - 0.45 | 6",
          "deaths - 2.05 | 7",
          "assists - 5.4 | 10",
          "kda - 3.66 | 8",
          "dpm - 109.52 | 10",
          "damageshare - 0.06 | 10",
          "damagetakenperminute - 328.62 | 6"
         ],
         "type": "scatterpolar"
        },
        {
         "fill": "toself",
         "name": "Effort",
         "r": [
          1,
          0.9500000000000001,
          0.7847527962392613,
          0.09140104678228811,
          0.8150943396226413,
          0.3123817677274605,
          0.06578073427376463,
          0.15718485400310794,
          0.447055806673438,
          0.2593870607047959,
          0.25
         ],
         "subplot": "polar26",
         "theta": [
          "firstblood - 0.4 | 1",
          "firstbloodvictim - 0.15 | 2",
          "wpm - 1.7 | 5",
          "wcpm - 0.27 | 7",
          "controlwardsbought - 16.4 | 2",
          "vspm - 2.96 | 6",
          "gpm - 223.12 | 9",
          "gdpm - -17.15 | 8",
          "goldshare - 0.13 | 5",
          "cspm - 0.84 | 8",
          "champions - 8.0 | 6"
         ],
         "type": "scatterpolar"
        },
        {
         "fill": "toself",
         "name": "Effort",
         "r": [
          0.4235927683036287,
          0.3726360242364894,
          0.5526663728514765,
          0.40479023552502447,
          0.6199027126907621,
          0.343362831858407
         ],
         "subplot": "polar27",
         "theta": [
          "golddiffat10 - -22.85 | 7",
          "xpdiffat10 - 10.55 | 3",
          "csdiffat10 - 1.75 | 2",
          "golddiffat15 - -52.85 | 7",
          "xpdiffat15 - 75.2 | 4",
          "csdiffat15 - 1.4 | 2"
         ],
         "type": "scatterpolar"
        },
        {
         "fill": "toself",
         "name": "Keria",
         "r": [
          0.5419847328244274,
          0.5149051490514905,
          1,
          0.9657300278529957,
          0.6653347359588064,
          0.33091493270327454,
          0.6374307133879651
         ],
         "subplot": "polar28",
         "theta": [
          "kills - 0.47 | 4",
          "deaths - 2.16 | 6",
          "assists - 9.74 | 1",
          "kda - 7.05 | 2",
          "dpm - 171.36 | 4",
          "damageshare - 0.07 | 6",
          "damagetakenperminute - 341.41 | 5"
         ],
         "type": "scatterpolar"
        },
        {
         "fill": "toself",
         "name": "Keria",
         "r": [
          0.45864661654135325,
          0.33333333333333337,
          0.771518884746313,
          0.44656432060062157,
          0.6855345911949686,
          0.5175414772391811,
          0.9835398993270896,
          0.8583916448559838,
          0.6833562911140856,
          0.32425755574778514,
          0.5
         ],
         "subplot": "polar29",
         "theta": [
          "firstblood - 0.21 | 8",
          "firstbloodvictim - 0.05 | 7",
          "wpm - 1.7 | 6",
          "wcpm - 0.34 | 3",
          "controlwardsbought - 15.32 | 4",
          "vspm - 3.05 | 4",
          "gpm - 254.15 | 2",
          "gdpm - 25.72 | 2",
          "goldshare - 0.13 | 3",
          "cspm - 0.86 | 6",
          "champions - 9.0 | 4"
         ],
         "type": "scatterpolar"
        },
        {
         "fill": "toself",
         "name": "Keria",
         "r": [
          0.8572039150318417,
          0.17014827294075205,
          0.22432789775231377,
          1,
          0.7375357592083439,
          0.17699115044247785
         ],
         "subplot": "polar30",
         "theta": [
          "golddiffat10 - 43.89 | 3",
          "xpdiffat10 - -26.21 | 8",
          "csdiffat10 - -0.21 | 4",
          "golddiffat15 - 202.53 | 1",
          "xpdiffat15 - 137.0 | 3",
          "csdiffat15 - -0.58 | 4"
         ],
         "type": "scatterpolar"
        }
       ],
       "layout": {
        "annotations": [
         {
          "font": {
           "size": 16
          },
          "showarrow": false,
          "text": "BeryL",
          "x": 0.14444444444444446,
          "xanchor": "center",
          "xref": "paper",
          "y": 1,
          "yanchor": "bottom",
          "yref": "paper",
          "yshift": 20
         },
         {
          "font": {
           "size": 16
          },
          "showarrow": false,
          "text": "BeryL",
          "x": 0.5,
          "xanchor": "center",
          "xref": "paper",
          "y": 1,
          "yanchor": "bottom",
          "yref": "paper",
          "yshift": 20
         },
         {
          "font": {
           "size": 16
          },
          "showarrow": false,
          "text": "BeryL",
          "x": 0.8555555555555556,
          "xanchor": "center",
          "xref": "paper",
          "y": 1,
          "yanchor": "bottom",
          "yref": "paper",
          "yshift": 20
         },
         {
          "font": {
           "size": 16
          },
          "showarrow": false,
          "text": "Kellin",
          "x": 0.14444444444444446,
          "xanchor": "center",
          "xref": "paper",
          "y": 0.8950000000000001,
          "yanchor": "bottom",
          "yref": "paper",
          "yshift": 20
         },
         {
          "font": {
           "size": 16
          },
          "showarrow": false,
          "text": "Kellin",
          "x": 0.5,
          "xanchor": "center",
          "xref": "paper",
          "y": 0.8950000000000001,
          "yanchor": "bottom",
          "yref": "paper",
          "yshift": 20
         },
         {
          "font": {
           "size": 16
          },
          "showarrow": false,
          "text": "Kellin",
          "x": 0.8555555555555556,
          "xanchor": "center",
          "xref": "paper",
          "y": 0.8950000000000001,
          "yanchor": "bottom",
          "yref": "paper",
          "yshift": 20
         },
         {
          "font": {
           "size": 16
          },
          "showarrow": false,
          "text": "Delight",
          "x": 0.14444444444444446,
          "xanchor": "center",
          "xref": "paper",
          "y": 0.7900000000000001,
          "yanchor": "bottom",
          "yref": "paper",
          "yshift": 20
         },
         {
          "font": {
           "size": 16
          },
          "showarrow": false,
          "text": "Delight",
          "x": 0.5,
          "xanchor": "center",
          "xref": "paper",
          "y": 0.7900000000000001,
          "yanchor": "bottom",
          "yref": "paper",
          "yshift": 20
         },
         {
          "font": {
           "size": 16
          },
          "showarrow": false,
          "text": "Delight",
          "x": 0.8555555555555556,
          "xanchor": "center",
          "xref": "paper",
          "y": 0.7900000000000001,
          "yanchor": "bottom",
          "yref": "paper",
          "yshift": 20
         },
         {
          "font": {
           "size": 16
          },
          "showarrow": false,
          "text": "Life",
          "x": 0.14444444444444446,
          "xanchor": "center",
          "xref": "paper",
          "y": 0.6850000000000002,
          "yanchor": "bottom",
          "yref": "paper",
          "yshift": 20
         },
         {
          "font": {
           "size": 16
          },
          "showarrow": false,
          "text": "Life",
          "x": 0.5,
          "xanchor": "center",
          "xref": "paper",
          "y": 0.6850000000000002,
          "yanchor": "bottom",
          "yref": "paper",
          "yshift": 20
         },
         {
          "font": {
           "size": 16
          },
          "showarrow": false,
          "text": "Life",
          "x": 0.8555555555555556,
          "xanchor": "center",
          "xref": "paper",
          "y": 0.6850000000000002,
          "yanchor": "bottom",
          "yref": "paper",
          "yshift": 20
         },
         {
          "font": {
           "size": 16
          },
          "showarrow": false,
          "text": "Lehends",
          "x": 0.14444444444444446,
          "xanchor": "center",
          "xref": "paper",
          "y": 0.5800000000000001,
          "yanchor": "bottom",
          "yref": "paper",
          "yshift": 20
         },
         {
          "font": {
           "size": 16
          },
          "showarrow": false,
          "text": "Lehends",
          "x": 0.5,
          "xanchor": "center",
          "xref": "paper",
          "y": 0.5800000000000001,
          "yanchor": "bottom",
          "yref": "paper",
          "yshift": 20
         },
         {
          "font": {
           "size": 16
          },
          "showarrow": false,
          "text": "Lehends",
          "x": 0.8555555555555556,
          "xanchor": "center",
          "xref": "paper",
          "y": 0.5800000000000001,
          "yanchor": "bottom",
          "yref": "paper",
          "yshift": 20
         },
         {
          "font": {
           "size": 16
          },
          "showarrow": false,
          "text": "Jun",
          "x": 0.14444444444444446,
          "xanchor": "center",
          "xref": "paper",
          "y": 0.47500000000000003,
          "yanchor": "bottom",
          "yref": "paper",
          "yshift": 20
         },
         {
          "font": {
           "size": 16
          },
          "showarrow": false,
          "text": "Jun",
          "x": 0.5,
          "xanchor": "center",
          "xref": "paper",
          "y": 0.47500000000000003,
          "yanchor": "bottom",
          "yref": "paper",
          "yshift": 20
         },
         {
          "font": {
           "size": 16
          },
          "showarrow": false,
          "text": "Jun",
          "x": 0.8555555555555556,
          "xanchor": "center",
          "xref": "paper",
          "y": 0.47500000000000003,
          "yanchor": "bottom",
          "yref": "paper",
          "yshift": 20
         },
         {
          "font": {
           "size": 16
          },
          "showarrow": false,
          "text": "Kael",
          "x": 0.14444444444444446,
          "xanchor": "center",
          "xref": "paper",
          "y": 0.37000000000000005,
          "yanchor": "bottom",
          "yref": "paper",
          "yshift": 20
         },
         {
          "font": {
           "size": 16
          },
          "showarrow": false,
          "text": "Kael",
          "x": 0.5,
          "xanchor": "center",
          "xref": "paper",
          "y": 0.37000000000000005,
          "yanchor": "bottom",
          "yref": "paper",
          "yshift": 20
         },
         {
          "font": {
           "size": 16
          },
          "showarrow": false,
          "text": "Kael",
          "x": 0.8555555555555556,
          "xanchor": "center",
          "xref": "paper",
          "y": 0.37000000000000005,
          "yanchor": "bottom",
          "yref": "paper",
          "yshift": 20
         },
         {
          "font": {
           "size": 16
          },
          "showarrow": false,
          "text": "Peter",
          "x": 0.14444444444444446,
          "xanchor": "center",
          "xref": "paper",
          "y": 0.265,
          "yanchor": "bottom",
          "yref": "paper",
          "yshift": 20
         },
         {
          "font": {
           "size": 16
          },
          "showarrow": false,
          "text": "Peter",
          "x": 0.5,
          "xanchor": "center",
          "xref": "paper",
          "y": 0.265,
          "yanchor": "bottom",
          "yref": "paper",
          "yshift": 20
         },
         {
          "font": {
           "size": 16
          },
          "showarrow": false,
          "text": "Peter",
          "x": 0.8555555555555556,
          "xanchor": "center",
          "xref": "paper",
          "y": 0.265,
          "yanchor": "bottom",
          "yref": "paper",
          "yshift": 20
         },
         {
          "font": {
           "size": 16
          },
          "showarrow": false,
          "text": "Effort",
          "x": 0.14444444444444446,
          "xanchor": "center",
          "xref": "paper",
          "y": 0.16000000000000003,
          "yanchor": "bottom",
          "yref": "paper",
          "yshift": 20
         },
         {
          "font": {
           "size": 16
          },
          "showarrow": false,
          "text": "Effort",
          "x": 0.5,
          "xanchor": "center",
          "xref": "paper",
          "y": 0.16000000000000003,
          "yanchor": "bottom",
          "yref": "paper",
          "yshift": 20
         },
         {
          "font": {
           "size": 16
          },
          "showarrow": false,
          "text": "Effort",
          "x": 0.8555555555555556,
          "xanchor": "center",
          "xref": "paper",
          "y": 0.16000000000000003,
          "yanchor": "bottom",
          "yref": "paper",
          "yshift": 20
         },
         {
          "font": {
           "size": 16
          },
          "showarrow": false,
          "text": "Keria",
          "x": 0.14444444444444446,
          "xanchor": "center",
          "xref": "paper",
          "y": 0.05500000000000001,
          "yanchor": "bottom",
          "yref": "paper",
          "yshift": 20
         },
         {
          "font": {
           "size": 16
          },
          "showarrow": false,
          "text": "Keria",
          "x": 0.5,
          "xanchor": "center",
          "xref": "paper",
          "y": 0.05500000000000001,
          "yanchor": "bottom",
          "yref": "paper",
          "yshift": 20
         },
         {
          "font": {
           "size": 16
          },
          "showarrow": false,
          "text": "Keria",
          "x": 0.8555555555555556,
          "xanchor": "center",
          "xref": "paper",
          "y": 0.05500000000000001,
          "yanchor": "bottom",
          "yref": "paper",
          "yshift": 20
         }
        ],
        "height": 3500,
        "polar": {
         "domain": {
          "x": [
           0,
           0.2888888888888889
          ],
          "y": [
           0.9450000000000001,
           1
          ]
         },
         "radialaxis": {
          "range": [
           -0.2,
           1.2
          ],
          "visible": false
         }
        },
        "polar10": {
         "domain": {
          "x": [
           0,
           0.2888888888888889
          ],
          "y": [
           0.6300000000000001,
           0.6850000000000002
          ]
         },
         "radialaxis": {
          "range": [
           -0.2,
           1.2
          ],
          "visible": false
         }
        },
        "polar11": {
         "domain": {
          "x": [
           0.35555555555555557,
           0.6444444444444445
          ],
          "y": [
           0.6300000000000001,
           0.6850000000000002
          ]
         },
         "radialaxis": {
          "range": [
           -0.2,
           1.2
          ],
          "visible": false
         }
        },
        "polar12": {
         "domain": {
          "x": [
           0.7111111111111111,
           1
          ],
          "y": [
           0.6300000000000001,
           0.6850000000000002
          ]
         },
         "radialaxis": {
          "range": [
           -0.2,
           1.2
          ],
          "visible": false
         }
        },
        "polar13": {
         "domain": {
          "x": [
           0,
           0.2888888888888889
          ],
          "y": [
           0.525,
           0.5800000000000001
          ]
         },
         "radialaxis": {
          "range": [
           -0.2,
           1.2
          ],
          "visible": false
         }
        },
        "polar14": {
         "domain": {
          "x": [
           0.35555555555555557,
           0.6444444444444445
          ],
          "y": [
           0.525,
           0.5800000000000001
          ]
         },
         "radialaxis": {
          "range": [
           -0.2,
           1.2
          ],
          "visible": false
         }
        },
        "polar15": {
         "domain": {
          "x": [
           0.7111111111111111,
           1
          ],
          "y": [
           0.525,
           0.5800000000000001
          ]
         },
         "radialaxis": {
          "range": [
           -0.2,
           1.2
          ],
          "visible": false
         }
        },
        "polar16": {
         "domain": {
          "x": [
           0,
           0.2888888888888889
          ],
          "y": [
           0.42000000000000004,
           0.47500000000000003
          ]
         },
         "radialaxis": {
          "range": [
           -0.2,
           1.2
          ],
          "visible": false
         }
        },
        "polar17": {
         "domain": {
          "x": [
           0.35555555555555557,
           0.6444444444444445
          ],
          "y": [
           0.42000000000000004,
           0.47500000000000003
          ]
         },
         "radialaxis": {
          "range": [
           -0.2,
           1.2
          ],
          "visible": false
         }
        },
        "polar18": {
         "domain": {
          "x": [
           0.7111111111111111,
           1
          ],
          "y": [
           0.42000000000000004,
           0.47500000000000003
          ]
         },
         "radialaxis": {
          "range": [
           -0.2,
           1.2
          ],
          "visible": false
         }
        },
        "polar19": {
         "domain": {
          "x": [
           0,
           0.2888888888888889
          ],
          "y": [
           0.31500000000000006,
           0.37000000000000005
          ]
         },
         "radialaxis": {
          "range": [
           -0.2,
           1.2
          ],
          "visible": false
         }
        },
        "polar2": {
         "domain": {
          "x": [
           0.35555555555555557,
           0.6444444444444445
          ],
          "y": [
           0.9450000000000001,
           1
          ]
         },
         "radialaxis": {
          "range": [
           -0.2,
           1.2
          ],
          "visible": false
         }
        },
        "polar20": {
         "domain": {
          "x": [
           0.35555555555555557,
           0.6444444444444445
          ],
          "y": [
           0.31500000000000006,
           0.37000000000000005
          ]
         },
         "radialaxis": {
          "range": [
           -0.2,
           1.2
          ],
          "visible": false
         }
        },
        "polar21": {
         "domain": {
          "x": [
           0.7111111111111111,
           1
          ],
          "y": [
           0.31500000000000006,
           0.37000000000000005
          ]
         },
         "radialaxis": {
          "range": [
           -0.2,
           1.2
          ],
          "visible": false
         }
        },
        "polar22": {
         "domain": {
          "x": [
           0,
           0.2888888888888889
          ],
          "y": [
           0.21000000000000002,
           0.265
          ]
         },
         "radialaxis": {
          "range": [
           -0.2,
           1.2
          ],
          "visible": false
         }
        },
        "polar23": {
         "domain": {
          "x": [
           0.35555555555555557,
           0.6444444444444445
          ],
          "y": [
           0.21000000000000002,
           0.265
          ]
         },
         "radialaxis": {
          "range": [
           -0.2,
           1.2
          ],
          "visible": false
         }
        },
        "polar24": {
         "domain": {
          "x": [
           0.7111111111111111,
           1
          ],
          "y": [
           0.21000000000000002,
           0.265
          ]
         },
         "radialaxis": {
          "range": [
           -0.2,
           1.2
          ],
          "visible": false
         }
        },
        "polar25": {
         "domain": {
          "x": [
           0,
           0.2888888888888889
          ],
          "y": [
           0.10500000000000001,
           0.16000000000000003
          ]
         },
         "radialaxis": {
          "range": [
           -0.2,
           1.2
          ],
          "visible": false
         }
        },
        "polar26": {
         "domain": {
          "x": [
           0.35555555555555557,
           0.6444444444444445
          ],
          "y": [
           0.10500000000000001,
           0.16000000000000003
          ]
         },
         "radialaxis": {
          "range": [
           -0.2,
           1.2
          ],
          "visible": false
         }
        },
        "polar27": {
         "domain": {
          "x": [
           0.7111111111111111,
           1
          ],
          "y": [
           0.10500000000000001,
           0.16000000000000003
          ]
         },
         "radialaxis": {
          "range": [
           -0.2,
           1.2
          ],
          "visible": false
         }
        },
        "polar28": {
         "domain": {
          "x": [
           0,
           0.2888888888888889
          ],
          "y": [
           0,
           0.05500000000000001
          ]
         },
         "radialaxis": {
          "range": [
           -0.2,
           1.2
          ],
          "visible": false
         }
        },
        "polar29": {
         "domain": {
          "x": [
           0.35555555555555557,
           0.6444444444444445
          ],
          "y": [
           0,
           0.05500000000000001
          ]
         },
         "radialaxis": {
          "range": [
           -0.2,
           1.2
          ],
          "visible": false
         }
        },
        "polar3": {
         "domain": {
          "x": [
           0.7111111111111111,
           1
          ],
          "y": [
           0.9450000000000001,
           1
          ]
         },
         "radialaxis": {
          "range": [
           -0.2,
           1.2
          ],
          "visible": false
         }
        },
        "polar30": {
         "domain": {
          "x": [
           0.7111111111111111,
           1
          ],
          "y": [
           0,
           0.05500000000000001
          ]
         },
         "radialaxis": {
          "range": [
           -0.2,
           1.2
          ],
          "visible": false
         }
        },
        "polar4": {
         "domain": {
          "x": [
           0,
           0.2888888888888889
          ],
          "y": [
           0.8400000000000001,
           0.8950000000000001
          ]
         },
         "radialaxis": {
          "range": [
           -0.2,
           1.2
          ],
          "visible": false
         }
        },
        "polar5": {
         "domain": {
          "x": [
           0.35555555555555557,
           0.6444444444444445
          ],
          "y": [
           0.8400000000000001,
           0.8950000000000001
          ]
         },
         "radialaxis": {
          "range": [
           -0.2,
           1.2
          ],
          "visible": false
         }
        },
        "polar6": {
         "domain": {
          "x": [
           0.7111111111111111,
           1
          ],
          "y": [
           0.8400000000000001,
           0.8950000000000001
          ]
         },
         "radialaxis": {
          "range": [
           -0.2,
           1.2
          ],
          "visible": false
         }
        },
        "polar7": {
         "domain": {
          "x": [
           0,
           0.2888888888888889
          ],
          "y": [
           0.7350000000000001,
           0.7900000000000001
          ]
         },
         "radialaxis": {
          "range": [
           -0.2,
           1.2
          ],
          "visible": false
         }
        },
        "polar8": {
         "domain": {
          "x": [
           0.35555555555555557,
           0.6444444444444445
          ],
          "y": [
           0.7350000000000001,
           0.7900000000000001
          ]
         },
         "radialaxis": {
          "range": [
           -0.2,
           1.2
          ],
          "visible": false
         }
        },
        "polar9": {
         "domain": {
          "x": [
           0.7111111111111111,
           1
          ],
          "y": [
           0.7350000000000001,
           0.7900000000000001
          ]
         },
         "radialaxis": {
          "range": [
           -0.2,
           1.2
          ],
          "visible": false
         }
        },
        "showlegend": false,
        "template": {
         "data": {
          "bar": [
           {
            "error_x": {
             "color": "#2a3f5f"
            },
            "error_y": {
             "color": "#2a3f5f"
            },
            "marker": {
             "line": {
              "color": "#E5ECF6",
              "width": 0.5
             },
             "pattern": {
              "fillmode": "overlay",
              "size": 10,
              "solidity": 0.2
             }
            },
            "type": "bar"
           }
          ],
          "barpolar": [
           {
            "marker": {
             "line": {
              "color": "#E5ECF6",
              "width": 0.5
             },
             "pattern": {
              "fillmode": "overlay",
              "size": 10,
              "solidity": 0.2
             }
            },
            "type": "barpolar"
           }
          ],
          "carpet": [
           {
            "aaxis": {
             "endlinecolor": "#2a3f5f",
             "gridcolor": "white",
             "linecolor": "white",
             "minorgridcolor": "white",
             "startlinecolor": "#2a3f5f"
            },
            "baxis": {
             "endlinecolor": "#2a3f5f",
             "gridcolor": "white",
             "linecolor": "white",
             "minorgridcolor": "white",
             "startlinecolor": "#2a3f5f"
            },
            "type": "carpet"
           }
          ],
          "choropleth": [
           {
            "colorbar": {
             "outlinewidth": 0,
             "ticks": ""
            },
            "type": "choropleth"
           }
          ],
          "contour": [
           {
            "colorbar": {
             "outlinewidth": 0,
             "ticks": ""
            },
            "colorscale": [
             [
              0,
              "#0d0887"
             ],
             [
              0.1111111111111111,
              "#46039f"
             ],
             [
              0.2222222222222222,
              "#7201a8"
             ],
             [
              0.3333333333333333,
              "#9c179e"
             ],
             [
              0.4444444444444444,
              "#bd3786"
             ],
             [
              0.5555555555555556,
              "#d8576b"
             ],
             [
              0.6666666666666666,
              "#ed7953"
             ],
             [
              0.7777777777777778,
              "#fb9f3a"
             ],
             [
              0.8888888888888888,
              "#fdca26"
             ],
             [
              1,
              "#f0f921"
             ]
            ],
            "type": "contour"
           }
          ],
          "contourcarpet": [
           {
            "colorbar": {
             "outlinewidth": 0,
             "ticks": ""
            },
            "type": "contourcarpet"
           }
          ],
          "heatmap": [
           {
            "colorbar": {
             "outlinewidth": 0,
             "ticks": ""
            },
            "colorscale": [
             [
              0,
              "#0d0887"
             ],
             [
              0.1111111111111111,
              "#46039f"
             ],
             [
              0.2222222222222222,
              "#7201a8"
             ],
             [
              0.3333333333333333,
              "#9c179e"
             ],
             [
              0.4444444444444444,
              "#bd3786"
             ],
             [
              0.5555555555555556,
              "#d8576b"
             ],
             [
              0.6666666666666666,
              "#ed7953"
             ],
             [
              0.7777777777777778,
              "#fb9f3a"
             ],
             [
              0.8888888888888888,
              "#fdca26"
             ],
             [
              1,
              "#f0f921"
             ]
            ],
            "type": "heatmap"
           }
          ],
          "heatmapgl": [
           {
            "colorbar": {
             "outlinewidth": 0,
             "ticks": ""
            },
            "colorscale": [
             [
              0,
              "#0d0887"
             ],
             [
              0.1111111111111111,
              "#46039f"
             ],
             [
              0.2222222222222222,
              "#7201a8"
             ],
             [
              0.3333333333333333,
              "#9c179e"
             ],
             [
              0.4444444444444444,
              "#bd3786"
             ],
             [
              0.5555555555555556,
              "#d8576b"
             ],
             [
              0.6666666666666666,
              "#ed7953"
             ],
             [
              0.7777777777777778,
              "#fb9f3a"
             ],
             [
              0.8888888888888888,
              "#fdca26"
             ],
             [
              1,
              "#f0f921"
             ]
            ],
            "type": "heatmapgl"
           }
          ],
          "histogram": [
           {
            "marker": {
             "pattern": {
              "fillmode": "overlay",
              "size": 10,
              "solidity": 0.2
             }
            },
            "type": "histogram"
           }
          ],
          "histogram2d": [
           {
            "colorbar": {
             "outlinewidth": 0,
             "ticks": ""
            },
            "colorscale": [
             [
              0,
              "#0d0887"
             ],
             [
              0.1111111111111111,
              "#46039f"
             ],
             [
              0.2222222222222222,
              "#7201a8"
             ],
             [
              0.3333333333333333,
              "#9c179e"
             ],
             [
              0.4444444444444444,
              "#bd3786"
             ],
             [
              0.5555555555555556,
              "#d8576b"
             ],
             [
              0.6666666666666666,
              "#ed7953"
             ],
             [
              0.7777777777777778,
              "#fb9f3a"
             ],
             [
              0.8888888888888888,
              "#fdca26"
             ],
             [
              1,
              "#f0f921"
             ]
            ],
            "type": "histogram2d"
           }
          ],
          "histogram2dcontour": [
           {
            "colorbar": {
             "outlinewidth": 0,
             "ticks": ""
            },
            "colorscale": [
             [
              0,
              "#0d0887"
             ],
             [
              0.1111111111111111,
              "#46039f"
             ],
             [
              0.2222222222222222,
              "#7201a8"
             ],
             [
              0.3333333333333333,
              "#9c179e"
             ],
             [
              0.4444444444444444,
              "#bd3786"
             ],
             [
              0.5555555555555556,
              "#d8576b"
             ],
             [
              0.6666666666666666,
              "#ed7953"
             ],
             [
              0.7777777777777778,
              "#fb9f3a"
             ],
             [
              0.8888888888888888,
              "#fdca26"
             ],
             [
              1,
              "#f0f921"
             ]
            ],
            "type": "histogram2dcontour"
           }
          ],
          "mesh3d": [
           {
            "colorbar": {
             "outlinewidth": 0,
             "ticks": ""
            },
            "type": "mesh3d"
           }
          ],
          "parcoords": [
           {
            "line": {
             "colorbar": {
              "outlinewidth": 0,
              "ticks": ""
             }
            },
            "type": "parcoords"
           }
          ],
          "pie": [
           {
            "automargin": true,
            "type": "pie"
           }
          ],
          "scatter": [
           {
            "fillpattern": {
             "fillmode": "overlay",
             "size": 10,
             "solidity": 0.2
            },
            "type": "scatter"
           }
          ],
          "scatter3d": [
           {
            "line": {
             "colorbar": {
              "outlinewidth": 0,
              "ticks": ""
             }
            },
            "marker": {
             "colorbar": {
              "outlinewidth": 0,
              "ticks": ""
             }
            },
            "type": "scatter3d"
           }
          ],
          "scattercarpet": [
           {
            "marker": {
             "colorbar": {
              "outlinewidth": 0,
              "ticks": ""
             }
            },
            "type": "scattercarpet"
           }
          ],
          "scattergeo": [
           {
            "marker": {
             "colorbar": {
              "outlinewidth": 0,
              "ticks": ""
             }
            },
            "type": "scattergeo"
           }
          ],
          "scattergl": [
           {
            "marker": {
             "colorbar": {
              "outlinewidth": 0,
              "ticks": ""
             }
            },
            "type": "scattergl"
           }
          ],
          "scattermapbox": [
           {
            "marker": {
             "colorbar": {
              "outlinewidth": 0,
              "ticks": ""
             }
            },
            "type": "scattermapbox"
           }
          ],
          "scatterpolar": [
           {
            "marker": {
             "colorbar": {
              "outlinewidth": 0,
              "ticks": ""
             }
            },
            "type": "scatterpolar"
           }
          ],
          "scatterpolargl": [
           {
            "marker": {
             "colorbar": {
              "outlinewidth": 0,
              "ticks": ""
             }
            },
            "type": "scatterpolargl"
           }
          ],
          "scatterternary": [
           {
            "marker": {
             "colorbar": {
              "outlinewidth": 0,
              "ticks": ""
             }
            },
            "type": "scatterternary"
           }
          ],
          "surface": [
           {
            "colorbar": {
             "outlinewidth": 0,
             "ticks": ""
            },
            "colorscale": [
             [
              0,
              "#0d0887"
             ],
             [
              0.1111111111111111,
              "#46039f"
             ],
             [
              0.2222222222222222,
              "#7201a8"
             ],
             [
              0.3333333333333333,
              "#9c179e"
             ],
             [
              0.4444444444444444,
              "#bd3786"
             ],
             [
              0.5555555555555556,
              "#d8576b"
             ],
             [
              0.6666666666666666,
              "#ed7953"
             ],
             [
              0.7777777777777778,
              "#fb9f3a"
             ],
             [
              0.8888888888888888,
              "#fdca26"
             ],
             [
              1,
              "#f0f921"
             ]
            ],
            "type": "surface"
           }
          ],
          "table": [
           {
            "cells": {
             "fill": {
              "color": "#EBF0F8"
             },
             "line": {
              "color": "white"
             }
            },
            "header": {
             "fill": {
              "color": "#C8D4E3"
             },
             "line": {
              "color": "white"
             }
            },
            "type": "table"
           }
          ]
         },
         "layout": {
          "annotationdefaults": {
           "arrowcolor": "#2a3f5f",
           "arrowhead": 0,
           "arrowwidth": 1
          },
          "autotypenumbers": "strict",
          "coloraxis": {
           "colorbar": {
            "outlinewidth": 0,
            "ticks": ""
           }
          },
          "colorscale": {
           "diverging": [
            [
             0,
             "#8e0152"
            ],
            [
             0.1,
             "#c51b7d"
            ],
            [
             0.2,
             "#de77ae"
            ],
            [
             0.3,
             "#f1b6da"
            ],
            [
             0.4,
             "#fde0ef"
            ],
            [
             0.5,
             "#f7f7f7"
            ],
            [
             0.6,
             "#e6f5d0"
            ],
            [
             0.7,
             "#b8e186"
            ],
            [
             0.8,
             "#7fbc41"
            ],
            [
             0.9,
             "#4d9221"
            ],
            [
             1,
             "#276419"
            ]
           ],
           "sequential": [
            [
             0,
             "#0d0887"
            ],
            [
             0.1111111111111111,
             "#46039f"
            ],
            [
             0.2222222222222222,
             "#7201a8"
            ],
            [
             0.3333333333333333,
             "#9c179e"
            ],
            [
             0.4444444444444444,
             "#bd3786"
            ],
            [
             0.5555555555555556,
             "#d8576b"
            ],
            [
             0.6666666666666666,
             "#ed7953"
            ],
            [
             0.7777777777777778,
             "#fb9f3a"
            ],
            [
             0.8888888888888888,
             "#fdca26"
            ],
            [
             1,
             "#f0f921"
            ]
           ],
           "sequentialminus": [
            [
             0,
             "#0d0887"
            ],
            [
             0.1111111111111111,
             "#46039f"
            ],
            [
             0.2222222222222222,
             "#7201a8"
            ],
            [
             0.3333333333333333,
             "#9c179e"
            ],
            [
             0.4444444444444444,
             "#bd3786"
            ],
            [
             0.5555555555555556,
             "#d8576b"
            ],
            [
             0.6666666666666666,
             "#ed7953"
            ],
            [
             0.7777777777777778,
             "#fb9f3a"
            ],
            [
             0.8888888888888888,
             "#fdca26"
            ],
            [
             1,
             "#f0f921"
            ]
           ]
          },
          "colorway": [
           "#636efa",
           "#EF553B",
           "#00cc96",
           "#ab63fa",
           "#FFA15A",
           "#19d3f3",
           "#FF6692",
           "#B6E880",
           "#FF97FF",
           "#FECB52"
          ],
          "font": {
           "color": "#2a3f5f"
          },
          "geo": {
           "bgcolor": "white",
           "lakecolor": "white",
           "landcolor": "#E5ECF6",
           "showlakes": true,
           "showland": true,
           "subunitcolor": "white"
          },
          "hoverlabel": {
           "align": "left"
          },
          "hovermode": "closest",
          "mapbox": {
           "style": "light"
          },
          "paper_bgcolor": "white",
          "plot_bgcolor": "#E5ECF6",
          "polar": {
           "angularaxis": {
            "gridcolor": "white",
            "linecolor": "white",
            "ticks": ""
           },
           "bgcolor": "#E5ECF6",
           "radialaxis": {
            "gridcolor": "white",
            "linecolor": "white",
            "ticks": ""
           }
          },
          "scene": {
           "xaxis": {
            "backgroundcolor": "#E5ECF6",
            "gridcolor": "white",
            "gridwidth": 2,
            "linecolor": "white",
            "showbackground": true,
            "ticks": "",
            "zerolinecolor": "white"
           },
           "yaxis": {
            "backgroundcolor": "#E5ECF6",
            "gridcolor": "white",
            "gridwidth": 2,
            "linecolor": "white",
            "showbackground": true,
            "ticks": "",
            "zerolinecolor": "white"
           },
           "zaxis": {
            "backgroundcolor": "#E5ECF6",
            "gridcolor": "white",
            "gridwidth": 2,
            "linecolor": "white",
            "showbackground": true,
            "ticks": "",
            "zerolinecolor": "white"
           }
          },
          "shapedefaults": {
           "line": {
            "color": "#2a3f5f"
           }
          },
          "ternary": {
           "aaxis": {
            "gridcolor": "white",
            "linecolor": "white",
            "ticks": ""
           },
           "baxis": {
            "gridcolor": "white",
            "linecolor": "white",
            "ticks": ""
           },
           "bgcolor": "#E5ECF6",
           "caxis": {
            "gridcolor": "white",
            "linecolor": "white",
            "ticks": ""
           }
          },
          "title": {
           "x": 0.05
          },
          "xaxis": {
           "automargin": true,
           "gridcolor": "white",
           "linecolor": "white",
           "ticks": "",
           "title": {
            "standoff": 15
           },
           "zerolinecolor": "white",
           "zerolinewidth": 2
          },
          "yaxis": {
           "automargin": true,
           "gridcolor": "white",
           "linecolor": "white",
           "ticks": "",
           "title": {
            "standoff": 15
           },
           "zerolinecolor": "white",
           "zerolinewidth": 2
          }
         }
        },
        "title": {
         "y": 1
        },
        "width": 1650
       }
      }
     },
     "metadata": {},
     "output_type": "display_data"
    }
   ],
   "source": [
    "position = positions[4]\n",
    "df = players_stats.loc[players_stats.index.get_level_values(1) == position]\n",
    "\n",
    "ROWS, COLUMNS = get_rows_columns(df, len(origin_columns))\n",
    "min_value, max_value = 0, 1\n",
    "\n",
    "fig = get_fig_subplots(df.index.get_level_values(0), ROWS, COLUMNS)\n",
    "for i, player_name in enumerate(df.index.get_level_values(0)):\n",
    "    for j, (key, cols) in enumerate(columns.items()):\n",
    "        _df = df.loc[(player_name, position), cols]\n",
    "        theta_list = get_theta_list(df, (player_name, position), origin_columns[key])\n",
    "\n",
    "        fig.add_trace(\n",
    "            go.Scatterpolar(r=_df, theta=theta_list, fill=\"toself\", name=player_name),\n",
    "            row=i + 1,\n",
    "            col=j + 1,\n",
    "        )\n",
    "\n",
    "fig.update_layout(\n",
    "    height=350 * ROWS, width=550 * COLUMNS, showlegend=False, title=dict(y=1)\n",
    ")\n",
    "fig.update_annotations(yshift=20)\n",
    "fig.update_polars(\n",
    "    radialaxis=dict(range=[min_value - 0.2, max_value + 0.2], visible=False)\n",
    ")\n",
    "fig.show()"
   ]
  },
  {
   "cell_type": "code",
   "execution_count": null,
   "metadata": {},
   "outputs": [],
   "source": []
  },
  {
   "cell_type": "code",
   "execution_count": null,
   "metadata": {},
   "outputs": [],
   "source": []
  },
  {
   "cell_type": "code",
   "execution_count": null,
   "metadata": {},
   "outputs": [],
   "source": []
  },
  {
   "cell_type": "code",
   "execution_count": 31,
   "metadata": {},
   "outputs": [
    {
     "data": {
      "application/vnd.plotly.v1+json": {
       "config": {
        "plotlyServerURL": "https://plot.ly"
       },
       "data": [
        {
         "fill": "toself",
         "name": "T1",
         "r": [
          0.3101640442513875,
          0.31372549019607837,
          0.7647078408837129,
          1,
          0.28570341931155063
         ],
         "subplot": "polar",
         "theta": [
          "kd - 1.83 | 1",
          "firstblood - 0.37 | 1",
          "team kpm - 0.45 | 1",
          "dpm - 2304.45 | 1",
          "damagetakenperminute - 2778.16 | 1"
         ],
         "type": "scatterpolar"
        },
        {
         "fill": "toself",
         "name": "T1",
         "r": [
          0.6363636363636362,
          0.9267734553775744,
          0.31999999999999984,
          0.8,
          0.6336295283663704,
          0.888888888888889,
          0
         ],
         "subplot": "polar2",
         "theta": [
          "firstdragon - 0.53 | 1",
          "dragons - 2.68 | 1",
          "firstherald - 0.53 | 1",
          "heralds - 1.16 | 1",
          "firstbaron - 0.53 | 1",
          "barons - 0.79 | 1",
          "elders - 0.0 | 1"
         ],
         "type": "scatterpolar"
        },
        {
         "fill": "toself",
         "name": "T1",
         "r": [
          0.9024390243902438,
          1,
          1,
          1.0000000000000002,
          1.0000000000000002
         ],
         "subplot": "polar3",
         "theta": [
          "firsttower - 0.74 | 1",
          "towers - 7.74 | 1",
          "firstmidtower - 0.74 | 1",
          "firsttothreetowers - 0.79 | 1",
          "turretplates - 6.11 | 1"
         ],
         "type": "scatterpolar"
        },
        {
         "fill": "toself",
         "name": "T1",
         "r": [
          0.4174977233858259,
          0.11394822896610801,
          0.8439771364053348,
          0.8968001941758166,
          0.9024014353989728,
          0.5154305275168962,
          0.6723718322947718,
          0.2940011634967288
         ],
         "subplot": "polar4",
         "theta": [
          "gamelength - 30.36 | 1",
          "win_gamelength - 29.41 | 1",
          "loss_gamelength - 32.42 | 1",
          "gpm - 1915.29 | 1",
          "gdpm - 202.24 | 1",
          "wpm - 3.52 | 1",
          "wcpm - 1.71 | 1",
          "vspm - 8.47 | 1"
         ],
         "type": "scatterpolar"
        },
        {
         "fill": "toself",
         "name": "T1",
         "r": [
          0.8913186223561327,
          1,
          1,
          0.8233058064428593,
          0.7998655261633633,
          0.9108413165133264
         ],
         "subplot": "polar5",
         "theta": [
          "golddiffat10 - 388.42 | 1",
          "xpdiffat10 - 306.47 | 1",
          "csdiffat10 - 13.89 | 1",
          "golddiffat15 - 1055.74 | 1",
          "xpdiffat15 - 684.21 | 1",
          "csdiffat15 - 20.84 | 1"
         ],
         "type": "scatterpolar"
        }
       ],
       "layout": {
        "annotations": [
         {
          "font": {
           "size": 16
          },
          "showarrow": false,
          "text": "T1",
          "x": 0.08399999999999999,
          "xanchor": "center",
          "xref": "paper",
          "y": 1,
          "yanchor": "bottom",
          "yref": "paper",
          "yshift": 20
         },
         {
          "font": {
           "size": 16
          },
          "showarrow": false,
          "text": "T1",
          "x": 0.292,
          "xanchor": "center",
          "xref": "paper",
          "y": 1,
          "yanchor": "bottom",
          "yref": "paper",
          "yshift": 20
         },
         {
          "font": {
           "size": 16
          },
          "showarrow": false,
          "text": "T1",
          "x": 0.5,
          "xanchor": "center",
          "xref": "paper",
          "y": 1,
          "yanchor": "bottom",
          "yref": "paper",
          "yshift": 20
         },
         {
          "font": {
           "size": 16
          },
          "showarrow": false,
          "text": "T1",
          "x": 0.708,
          "xanchor": "center",
          "xref": "paper",
          "y": 1,
          "yanchor": "bottom",
          "yref": "paper",
          "yshift": 20
         },
         {
          "font": {
           "size": 16
          },
          "showarrow": false,
          "text": "T1",
          "x": 0.9159999999999999,
          "xanchor": "center",
          "xref": "paper",
          "y": 1,
          "yanchor": "bottom",
          "yref": "paper",
          "yshift": 20
         }
        ],
        "height": 400,
        "polar": {
         "domain": {
          "x": [
           0,
           0.16799999999999998
          ],
          "y": [
           0,
           1
          ]
         },
         "radialaxis": {
          "range": [
           -0.2,
           1.2
          ],
          "visible": false
         }
        },
        "polar2": {
         "domain": {
          "x": [
           0.208,
           0.376
          ],
          "y": [
           0,
           1
          ]
         },
         "radialaxis": {
          "range": [
           -0.2,
           1.2
          ],
          "visible": false
         }
        },
        "polar3": {
         "domain": {
          "x": [
           0.416,
           0.584
          ],
          "y": [
           0,
           1
          ]
         },
         "radialaxis": {
          "range": [
           -0.2,
           1.2
          ],
          "visible": false
         }
        },
        "polar4": {
         "domain": {
          "x": [
           0.624,
           0.792
          ],
          "y": [
           0,
           1
          ]
         },
         "radialaxis": {
          "range": [
           -0.2,
           1.2
          ],
          "visible": false
         }
        },
        "polar5": {
         "domain": {
          "x": [
           0.832,
           1
          ],
          "y": [
           0,
           1
          ]
         },
         "radialaxis": {
          "range": [
           -0.2,
           1.2
          ],
          "visible": false
         }
        },
        "showlegend": false,
        "template": {
         "data": {
          "bar": [
           {
            "error_x": {
             "color": "#2a3f5f"
            },
            "error_y": {
             "color": "#2a3f5f"
            },
            "marker": {
             "line": {
              "color": "#E5ECF6",
              "width": 0.5
             },
             "pattern": {
              "fillmode": "overlay",
              "size": 10,
              "solidity": 0.2
             }
            },
            "type": "bar"
           }
          ],
          "barpolar": [
           {
            "marker": {
             "line": {
              "color": "#E5ECF6",
              "width": 0.5
             },
             "pattern": {
              "fillmode": "overlay",
              "size": 10,
              "solidity": 0.2
             }
            },
            "type": "barpolar"
           }
          ],
          "carpet": [
           {
            "aaxis": {
             "endlinecolor": "#2a3f5f",
             "gridcolor": "white",
             "linecolor": "white",
             "minorgridcolor": "white",
             "startlinecolor": "#2a3f5f"
            },
            "baxis": {
             "endlinecolor": "#2a3f5f",
             "gridcolor": "white",
             "linecolor": "white",
             "minorgridcolor": "white",
             "startlinecolor": "#2a3f5f"
            },
            "type": "carpet"
           }
          ],
          "choropleth": [
           {
            "colorbar": {
             "outlinewidth": 0,
             "ticks": ""
            },
            "type": "choropleth"
           }
          ],
          "contour": [
           {
            "colorbar": {
             "outlinewidth": 0,
             "ticks": ""
            },
            "colorscale": [
             [
              0,
              "#0d0887"
             ],
             [
              0.1111111111111111,
              "#46039f"
             ],
             [
              0.2222222222222222,
              "#7201a8"
             ],
             [
              0.3333333333333333,
              "#9c179e"
             ],
             [
              0.4444444444444444,
              "#bd3786"
             ],
             [
              0.5555555555555556,
              "#d8576b"
             ],
             [
              0.6666666666666666,
              "#ed7953"
             ],
             [
              0.7777777777777778,
              "#fb9f3a"
             ],
             [
              0.8888888888888888,
              "#fdca26"
             ],
             [
              1,
              "#f0f921"
             ]
            ],
            "type": "contour"
           }
          ],
          "contourcarpet": [
           {
            "colorbar": {
             "outlinewidth": 0,
             "ticks": ""
            },
            "type": "contourcarpet"
           }
          ],
          "heatmap": [
           {
            "colorbar": {
             "outlinewidth": 0,
             "ticks": ""
            },
            "colorscale": [
             [
              0,
              "#0d0887"
             ],
             [
              0.1111111111111111,
              "#46039f"
             ],
             [
              0.2222222222222222,
              "#7201a8"
             ],
             [
              0.3333333333333333,
              "#9c179e"
             ],
             [
              0.4444444444444444,
              "#bd3786"
             ],
             [
              0.5555555555555556,
              "#d8576b"
             ],
             [
              0.6666666666666666,
              "#ed7953"
             ],
             [
              0.7777777777777778,
              "#fb9f3a"
             ],
             [
              0.8888888888888888,
              "#fdca26"
             ],
             [
              1,
              "#f0f921"
             ]
            ],
            "type": "heatmap"
           }
          ],
          "heatmapgl": [
           {
            "colorbar": {
             "outlinewidth": 0,
             "ticks": ""
            },
            "colorscale": [
             [
              0,
              "#0d0887"
             ],
             [
              0.1111111111111111,
              "#46039f"
             ],
             [
              0.2222222222222222,
              "#7201a8"
             ],
             [
              0.3333333333333333,
              "#9c179e"
             ],
             [
              0.4444444444444444,
              "#bd3786"
             ],
             [
              0.5555555555555556,
              "#d8576b"
             ],
             [
              0.6666666666666666,
              "#ed7953"
             ],
             [
              0.7777777777777778,
              "#fb9f3a"
             ],
             [
              0.8888888888888888,
              "#fdca26"
             ],
             [
              1,
              "#f0f921"
             ]
            ],
            "type": "heatmapgl"
           }
          ],
          "histogram": [
           {
            "marker": {
             "pattern": {
              "fillmode": "overlay",
              "size": 10,
              "solidity": 0.2
             }
            },
            "type": "histogram"
           }
          ],
          "histogram2d": [
           {
            "colorbar": {
             "outlinewidth": 0,
             "ticks": ""
            },
            "colorscale": [
             [
              0,
              "#0d0887"
             ],
             [
              0.1111111111111111,
              "#46039f"
             ],
             [
              0.2222222222222222,
              "#7201a8"
             ],
             [
              0.3333333333333333,
              "#9c179e"
             ],
             [
              0.4444444444444444,
              "#bd3786"
             ],
             [
              0.5555555555555556,
              "#d8576b"
             ],
             [
              0.6666666666666666,
              "#ed7953"
             ],
             [
              0.7777777777777778,
              "#fb9f3a"
             ],
             [
              0.8888888888888888,
              "#fdca26"
             ],
             [
              1,
              "#f0f921"
             ]
            ],
            "type": "histogram2d"
           }
          ],
          "histogram2dcontour": [
           {
            "colorbar": {
             "outlinewidth": 0,
             "ticks": ""
            },
            "colorscale": [
             [
              0,
              "#0d0887"
             ],
             [
              0.1111111111111111,
              "#46039f"
             ],
             [
              0.2222222222222222,
              "#7201a8"
             ],
             [
              0.3333333333333333,
              "#9c179e"
             ],
             [
              0.4444444444444444,
              "#bd3786"
             ],
             [
              0.5555555555555556,
              "#d8576b"
             ],
             [
              0.6666666666666666,
              "#ed7953"
             ],
             [
              0.7777777777777778,
              "#fb9f3a"
             ],
             [
              0.8888888888888888,
              "#fdca26"
             ],
             [
              1,
              "#f0f921"
             ]
            ],
            "type": "histogram2dcontour"
           }
          ],
          "mesh3d": [
           {
            "colorbar": {
             "outlinewidth": 0,
             "ticks": ""
            },
            "type": "mesh3d"
           }
          ],
          "parcoords": [
           {
            "line": {
             "colorbar": {
              "outlinewidth": 0,
              "ticks": ""
             }
            },
            "type": "parcoords"
           }
          ],
          "pie": [
           {
            "automargin": true,
            "type": "pie"
           }
          ],
          "scatter": [
           {
            "fillpattern": {
             "fillmode": "overlay",
             "size": 10,
             "solidity": 0.2
            },
            "type": "scatter"
           }
          ],
          "scatter3d": [
           {
            "line": {
             "colorbar": {
              "outlinewidth": 0,
              "ticks": ""
             }
            },
            "marker": {
             "colorbar": {
              "outlinewidth": 0,
              "ticks": ""
             }
            },
            "type": "scatter3d"
           }
          ],
          "scattercarpet": [
           {
            "marker": {
             "colorbar": {
              "outlinewidth": 0,
              "ticks": ""
             }
            },
            "type": "scattercarpet"
           }
          ],
          "scattergeo": [
           {
            "marker": {
             "colorbar": {
              "outlinewidth": 0,
              "ticks": ""
             }
            },
            "type": "scattergeo"
           }
          ],
          "scattergl": [
           {
            "marker": {
             "colorbar": {
              "outlinewidth": 0,
              "ticks": ""
             }
            },
            "type": "scattergl"
           }
          ],
          "scattermapbox": [
           {
            "marker": {
             "colorbar": {
              "outlinewidth": 0,
              "ticks": ""
             }
            },
            "type": "scattermapbox"
           }
          ],
          "scatterpolar": [
           {
            "marker": {
             "colorbar": {
              "outlinewidth": 0,
              "ticks": ""
             }
            },
            "type": "scatterpolar"
           }
          ],
          "scatterpolargl": [
           {
            "marker": {
             "colorbar": {
              "outlinewidth": 0,
              "ticks": ""
             }
            },
            "type": "scatterpolargl"
           }
          ],
          "scatterternary": [
           {
            "marker": {
             "colorbar": {
              "outlinewidth": 0,
              "ticks": ""
             }
            },
            "type": "scatterternary"
           }
          ],
          "surface": [
           {
            "colorbar": {
             "outlinewidth": 0,
             "ticks": ""
            },
            "colorscale": [
             [
              0,
              "#0d0887"
             ],
             [
              0.1111111111111111,
              "#46039f"
             ],
             [
              0.2222222222222222,
              "#7201a8"
             ],
             [
              0.3333333333333333,
              "#9c179e"
             ],
             [
              0.4444444444444444,
              "#bd3786"
             ],
             [
              0.5555555555555556,
              "#d8576b"
             ],
             [
              0.6666666666666666,
              "#ed7953"
             ],
             [
              0.7777777777777778,
              "#fb9f3a"
             ],
             [
              0.8888888888888888,
              "#fdca26"
             ],
             [
              1,
              "#f0f921"
             ]
            ],
            "type": "surface"
           }
          ],
          "table": [
           {
            "cells": {
             "fill": {
              "color": "#EBF0F8"
             },
             "line": {
              "color": "white"
             }
            },
            "header": {
             "fill": {
              "color": "#C8D4E3"
             },
             "line": {
              "color": "white"
             }
            },
            "type": "table"
           }
          ]
         },
         "layout": {
          "annotationdefaults": {
           "arrowcolor": "#2a3f5f",
           "arrowhead": 0,
           "arrowwidth": 1
          },
          "autotypenumbers": "strict",
          "coloraxis": {
           "colorbar": {
            "outlinewidth": 0,
            "ticks": ""
           }
          },
          "colorscale": {
           "diverging": [
            [
             0,
             "#8e0152"
            ],
            [
             0.1,
             "#c51b7d"
            ],
            [
             0.2,
             "#de77ae"
            ],
            [
             0.3,
             "#f1b6da"
            ],
            [
             0.4,
             "#fde0ef"
            ],
            [
             0.5,
             "#f7f7f7"
            ],
            [
             0.6,
             "#e6f5d0"
            ],
            [
             0.7,
             "#b8e186"
            ],
            [
             0.8,
             "#7fbc41"
            ],
            [
             0.9,
             "#4d9221"
            ],
            [
             1,
             "#276419"
            ]
           ],
           "sequential": [
            [
             0,
             "#0d0887"
            ],
            [
             0.1111111111111111,
             "#46039f"
            ],
            [
             0.2222222222222222,
             "#7201a8"
            ],
            [
             0.3333333333333333,
             "#9c179e"
            ],
            [
             0.4444444444444444,
             "#bd3786"
            ],
            [
             0.5555555555555556,
             "#d8576b"
            ],
            [
             0.6666666666666666,
             "#ed7953"
            ],
            [
             0.7777777777777778,
             "#fb9f3a"
            ],
            [
             0.8888888888888888,
             "#fdca26"
            ],
            [
             1,
             "#f0f921"
            ]
           ],
           "sequentialminus": [
            [
             0,
             "#0d0887"
            ],
            [
             0.1111111111111111,
             "#46039f"
            ],
            [
             0.2222222222222222,
             "#7201a8"
            ],
            [
             0.3333333333333333,
             "#9c179e"
            ],
            [
             0.4444444444444444,
             "#bd3786"
            ],
            [
             0.5555555555555556,
             "#d8576b"
            ],
            [
             0.6666666666666666,
             "#ed7953"
            ],
            [
             0.7777777777777778,
             "#fb9f3a"
            ],
            [
             0.8888888888888888,
             "#fdca26"
            ],
            [
             1,
             "#f0f921"
            ]
           ]
          },
          "colorway": [
           "#636efa",
           "#EF553B",
           "#00cc96",
           "#ab63fa",
           "#FFA15A",
           "#19d3f3",
           "#FF6692",
           "#B6E880",
           "#FF97FF",
           "#FECB52"
          ],
          "font": {
           "color": "#2a3f5f"
          },
          "geo": {
           "bgcolor": "white",
           "lakecolor": "white",
           "landcolor": "#E5ECF6",
           "showlakes": true,
           "showland": true,
           "subunitcolor": "white"
          },
          "hoverlabel": {
           "align": "left"
          },
          "hovermode": "closest",
          "mapbox": {
           "style": "light"
          },
          "paper_bgcolor": "white",
          "plot_bgcolor": "#E5ECF6",
          "polar": {
           "angularaxis": {
            "gridcolor": "white",
            "linecolor": "white",
            "ticks": ""
           },
           "bgcolor": "#E5ECF6",
           "radialaxis": {
            "gridcolor": "white",
            "linecolor": "white",
            "ticks": ""
           }
          },
          "scene": {
           "xaxis": {
            "backgroundcolor": "#E5ECF6",
            "gridcolor": "white",
            "gridwidth": 2,
            "linecolor": "white",
            "showbackground": true,
            "ticks": "",
            "zerolinecolor": "white"
           },
           "yaxis": {
            "backgroundcolor": "#E5ECF6",
            "gridcolor": "white",
            "gridwidth": 2,
            "linecolor": "white",
            "showbackground": true,
            "ticks": "",
            "zerolinecolor": "white"
           },
           "zaxis": {
            "backgroundcolor": "#E5ECF6",
            "gridcolor": "white",
            "gridwidth": 2,
            "linecolor": "white",
            "showbackground": true,
            "ticks": "",
            "zerolinecolor": "white"
           }
          },
          "shapedefaults": {
           "line": {
            "color": "#2a3f5f"
           }
          },
          "ternary": {
           "aaxis": {
            "gridcolor": "white",
            "linecolor": "white",
            "ticks": ""
           },
           "baxis": {
            "gridcolor": "white",
            "linecolor": "white",
            "ticks": ""
           },
           "bgcolor": "#E5ECF6",
           "caxis": {
            "gridcolor": "white",
            "linecolor": "white",
            "ticks": ""
           }
          },
          "title": {
           "x": 0.05
          },
          "xaxis": {
           "automargin": true,
           "gridcolor": "white",
           "linecolor": "white",
           "ticks": "",
           "title": {
            "standoff": 15
           },
           "zerolinecolor": "white",
           "zerolinewidth": 2
          },
          "yaxis": {
           "automargin": true,
           "gridcolor": "white",
           "linecolor": "white",
           "ticks": "",
           "title": {
            "standoff": 15
           },
           "zerolinecolor": "white",
           "zerolinewidth": 2
          }
         }
        },
        "title": {
         "y": 1
        },
        "width": 2750
       }
      }
     },
     "metadata": {},
     "output_type": "display_data"
    }
   ],
   "source": [
    "origin_columns, columns = get_team_stats_columns()\n",
    "target_team = \"T1\"\n",
    "target_df = teams_stats.loc[[target_team]]\n",
    "\n",
    "ROWS, COLUMNS = get_rows_columns(target_df, len(origin_columns))\n",
    "min_value, max_value = 0, 1\n",
    "\n",
    "fig = get_fig_subplots(target_df.index.values, ROWS, COLUMNS)\n",
    "for i, team_name in enumerate(target_df.index):\n",
    "    for j, (key, cols) in enumerate(columns.items()):\n",
    "        df = target_df.loc[team_name, cols]\n",
    "        theta_list = get_theta_list(target_df, team_name, origin_columns[key])\n",
    "\n",
    "        fig.add_trace(\n",
    "            go.Scatterpolar(r=df, theta=theta_list, fill=\"toself\", name=team_name),\n",
    "            row=i + 1,\n",
    "            col=j + 1,\n",
    "        )\n",
    "\n",
    "fig.update_layout(\n",
    "    height=400 * ROWS,\n",
    "    width=550 * COLUMNS,\n",
    "    showlegend=False,\n",
    "    title=dict(y=1),\n",
    ")\n",
    "fig.update_annotations(yshift=20)\n",
    "fig.update_polars(\n",
    "    radialaxis=dict(range=[min_value - 0.2, max_value + 0.2], visible=False)\n",
    ")\n",
    "fig.show()"
   ]
  },
  {
   "cell_type": "code",
   "execution_count": 32,
   "metadata": {},
   "outputs": [
    {
     "data": {
      "text/html": [
       "<div>\n",
       "<style scoped>\n",
       "    .dataframe tbody tr th:only-of-type {\n",
       "        vertical-align: middle;\n",
       "    }\n",
       "\n",
       "    .dataframe tbody tr th {\n",
       "        vertical-align: top;\n",
       "    }\n",
       "\n",
       "    .dataframe thead th {\n",
       "        text-align: right;\n",
       "    }\n",
       "</style>\n",
       "<table border=\"1\" class=\"dataframe\">\n",
       "  <thead>\n",
       "    <tr style=\"text-align: right;\">\n",
       "      <th></th>\n",
       "      <th></th>\n",
       "      <th>playerid</th>\n",
       "      <th>Team</th>\n",
       "      <th>kills</th>\n",
       "      <th>deaths</th>\n",
       "      <th>assists</th>\n",
       "      <th>kda</th>\n",
       "      <th>doublekills</th>\n",
       "      <th>triplekills</th>\n",
       "      <th>quadrakills</th>\n",
       "      <th>pentakills</th>\n",
       "      <th>firstblood</th>\n",
       "      <th>firstbloodvictim</th>\n",
       "      <th>dpm</th>\n",
       "      <th>damageshare</th>\n",
       "      <th>damagetakenperminute</th>\n",
       "      <th>wpm</th>\n",
       "      <th>wcpm</th>\n",
       "      <th>controlwardsbought</th>\n",
       "      <th>vspm</th>\n",
       "      <th>gpm</th>\n",
       "      <th>gdpm</th>\n",
       "      <th>goldshare</th>\n",
       "      <th>cspm</th>\n",
       "      <th>golddiffat10</th>\n",
       "      <th>xpdiffat10</th>\n",
       "      <th>csdiffat10</th>\n",
       "      <th>golddiffat15</th>\n",
       "      <th>xpdiffat15</th>\n",
       "      <th>csdiffat15</th>\n",
       "      <th>champions</th>\n",
       "      <th>_kills</th>\n",
       "      <th>_deaths</th>\n",
       "      <th>_assists</th>\n",
       "      <th>_kda</th>\n",
       "      <th>_dpm</th>\n",
       "      <th>_damageshare</th>\n",
       "      <th>_damagetakenperminute</th>\n",
       "      <th>_firstblood</th>\n",
       "      <th>_firstbloodvictim</th>\n",
       "      <th>_wpm</th>\n",
       "      <th>_wcpm</th>\n",
       "      <th>_controlwardsbought</th>\n",
       "      <th>_vspm</th>\n",
       "      <th>_gpm</th>\n",
       "      <th>_gdpm</th>\n",
       "      <th>_goldshare</th>\n",
       "      <th>_cspm</th>\n",
       "      <th>_champions</th>\n",
       "      <th>_golddiffat10</th>\n",
       "      <th>_xpdiffat10</th>\n",
       "      <th>_csdiffat10</th>\n",
       "      <th>_golddiffat15</th>\n",
       "      <th>_xpdiffat15</th>\n",
       "      <th>_csdiffat15</th>\n",
       "    </tr>\n",
       "    <tr>\n",
       "      <th>Player</th>\n",
       "      <th>position</th>\n",
       "      <th></th>\n",
       "      <th></th>\n",
       "      <th></th>\n",
       "      <th></th>\n",
       "      <th></th>\n",
       "      <th></th>\n",
       "      <th></th>\n",
       "      <th></th>\n",
       "      <th></th>\n",
       "      <th></th>\n",
       "      <th></th>\n",
       "      <th></th>\n",
       "      <th></th>\n",
       "      <th></th>\n",
       "      <th></th>\n",
       "      <th></th>\n",
       "      <th></th>\n",
       "      <th></th>\n",
       "      <th></th>\n",
       "      <th></th>\n",
       "      <th></th>\n",
       "      <th></th>\n",
       "      <th></th>\n",
       "      <th></th>\n",
       "      <th></th>\n",
       "      <th></th>\n",
       "      <th></th>\n",
       "      <th></th>\n",
       "      <th></th>\n",
       "      <th></th>\n",
       "      <th></th>\n",
       "      <th></th>\n",
       "      <th></th>\n",
       "      <th></th>\n",
       "      <th></th>\n",
       "      <th></th>\n",
       "      <th></th>\n",
       "      <th></th>\n",
       "      <th></th>\n",
       "      <th></th>\n",
       "      <th></th>\n",
       "      <th></th>\n",
       "      <th></th>\n",
       "      <th></th>\n",
       "      <th></th>\n",
       "      <th></th>\n",
       "      <th></th>\n",
       "      <th></th>\n",
       "      <th></th>\n",
       "      <th></th>\n",
       "      <th></th>\n",
       "      <th></th>\n",
       "      <th></th>\n",
       "      <th></th>\n",
       "    </tr>\n",
       "  </thead>\n",
       "  <tbody>\n",
       "    <tr>\n",
       "      <th>BeryL</th>\n",
       "      <th>sup</th>\n",
       "      <td>oe:player:dee54127bb56d2e2540ba71cc416f1c</td>\n",
       "      <td>DRX</td>\n",
       "      <td>0.100000</td>\n",
       "      <td>3.100000</td>\n",
       "      <td>5.650000</td>\n",
       "      <td>2.676429</td>\n",
       "      <td>0.000000</td>\n",
       "      <td>0.00</td>\n",
       "      <td>0.0</td>\n",
       "      <td>0.0</td>\n",
       "      <td>0.050000</td>\n",
       "      <td>0.100000</td>\n",
       "      <td>176.729915</td>\n",
       "      <td>0.090540</td>\n",
       "      <td>399.427000</td>\n",
       "      <td>1.747735</td>\n",
       "      <td>0.450750</td>\n",
       "      <td>15.050000</td>\n",
       "      <td>3.190590</td>\n",
       "      <td>223.982649</td>\n",
       "      <td>-23.565157</td>\n",
       "      <td>0.134989</td>\n",
       "      <td>1.144465</td>\n",
       "      <td>-28.200000</td>\n",
       "      <td>-57.100000</td>\n",
       "      <td>-1.550000</td>\n",
       "      <td>-117.400000</td>\n",
       "      <td>-134.250000</td>\n",
       "      <td>-1.200000</td>\n",
       "      <td>11</td>\n",
       "      <td>0.000000</td>\n",
       "      <td>1.000000</td>\n",
       "      <td>0.057646</td>\n",
       "      <td>0.000000</td>\n",
       "      <td>0.723051</td>\n",
       "      <td>0.920157</td>\n",
       "      <td>1.000000</td>\n",
       "      <td>0.000000</td>\n",
       "      <td>0.633333</td>\n",
       "      <td>0.926352</td>\n",
       "      <td>1.000000</td>\n",
       "      <td>0.653774</td>\n",
       "      <td>0.821894</td>\n",
       "      <td>0.091233</td>\n",
       "      <td>0.052168</td>\n",
       "      <td>1.000000</td>\n",
       "      <td>1.000000</td>\n",
       "      <td>1.000</td>\n",
       "      <td>0.388836</td>\n",
       "      <td>0.000000</td>\n",
       "      <td>0.000000</td>\n",
       "      <td>0.254342</td>\n",
       "      <td>0.221226</td>\n",
       "      <td>0.124779</td>\n",
       "    </tr>\n",
       "    <tr>\n",
       "      <th>Rascal</th>\n",
       "      <th>top</th>\n",
       "      <td>oe:player:9daf04bfd9c8815cc827414f59f45af</td>\n",
       "      <td>DRX</td>\n",
       "      <td>1.750000</td>\n",
       "      <td>3.150000</td>\n",
       "      <td>3.050000</td>\n",
       "      <td>1.864167</td>\n",
       "      <td>0.250000</td>\n",
       "      <td>0.15</td>\n",
       "      <td>0.0</td>\n",
       "      <td>0.0</td>\n",
       "      <td>0.150000</td>\n",
       "      <td>0.200000</td>\n",
       "      <td>425.393465</td>\n",
       "      <td>0.225646</td>\n",
       "      <td>913.576800</td>\n",
       "      <td>0.354240</td>\n",
       "      <td>0.250115</td>\n",
       "      <td>5.650000</td>\n",
       "      <td>1.040695</td>\n",
       "      <td>369.534286</td>\n",
       "      <td>-35.610576</td>\n",
       "      <td>0.220811</td>\n",
       "      <td>8.048355</td>\n",
       "      <td>-43.050000</td>\n",
       "      <td>-33.650000</td>\n",
       "      <td>-2.850000</td>\n",
       "      <td>-258.300000</td>\n",
       "      <td>-160.050000</td>\n",
       "      <td>-2.400000</td>\n",
       "      <td>10</td>\n",
       "      <td>0.496974</td>\n",
       "      <td>1.000000</td>\n",
       "      <td>0.167622</td>\n",
       "      <td>0.042816</td>\n",
       "      <td>0.000000</td>\n",
       "      <td>0.288029</td>\n",
       "      <td>0.941370</td>\n",
       "      <td>0.428571</td>\n",
       "      <td>0.760000</td>\n",
       "      <td>0.222712</td>\n",
       "      <td>0.919772</td>\n",
       "      <td>0.300111</td>\n",
       "      <td>0.399708</td>\n",
       "      <td>0.193278</td>\n",
       "      <td>0.099909</td>\n",
       "      <td>0.878350</td>\n",
       "      <td>0.149818</td>\n",
       "      <td>1.000</td>\n",
       "      <td>0.337970</td>\n",
       "      <td>0.281938</td>\n",
       "      <td>0.145322</td>\n",
       "      <td>0.157467</td>\n",
       "      <td>0.341521</td>\n",
       "      <td>0.238759</td>\n",
       "    </tr>\n",
       "    <tr>\n",
       "      <th>FATE</th>\n",
       "      <th>mid</th>\n",
       "      <td>oe:player:24cd6812f523cf30c3502344539be6f</td>\n",
       "      <td>DRX</td>\n",
       "      <td>2.454545</td>\n",
       "      <td>1.454545</td>\n",
       "      <td>4.272727</td>\n",
       "      <td>4.886364</td>\n",
       "      <td>0.363636</td>\n",
       "      <td>0.00</td>\n",
       "      <td>0.0</td>\n",
       "      <td>0.0</td>\n",
       "      <td>0.090909</td>\n",
       "      <td>0.000000</td>\n",
       "      <td>585.817964</td>\n",
       "      <td>0.298649</td>\n",
       "      <td>477.317600</td>\n",
       "      <td>0.420382</td>\n",
       "      <td>0.317664</td>\n",
       "      <td>6.636364</td>\n",
       "      <td>1.304509</td>\n",
       "      <td>391.414465</td>\n",
       "      <td>-32.649437</td>\n",
       "      <td>0.223839</td>\n",
       "      <td>8.831755</td>\n",
       "      <td>-194.636364</td>\n",
       "      <td>-165.000000</td>\n",
       "      <td>-3.363636</td>\n",
       "      <td>-346.909091</td>\n",
       "      <td>-309.000000</td>\n",
       "      <td>-2.636364</td>\n",
       "      <td>7</td>\n",
       "      <td>0.672810</td>\n",
       "      <td>0.125874</td>\n",
       "      <td>0.384447</td>\n",
       "      <td>0.525087</td>\n",
       "      <td>0.863740</td>\n",
       "      <td>1.000000</td>\n",
       "      <td>0.380748</td>\n",
       "      <td>0.272727</td>\n",
       "      <td>0.000000</td>\n",
       "      <td>0.250774</td>\n",
       "      <td>0.751741</td>\n",
       "      <td>0.454545</td>\n",
       "      <td>0.650952</td>\n",
       "      <td>0.724872</td>\n",
       "      <td>0.421136</td>\n",
       "      <td>0.758954</td>\n",
       "      <td>0.672548</td>\n",
       "      <td>0.500</td>\n",
       "      <td>0.139512</td>\n",
       "      <td>0.086914</td>\n",
       "      <td>0.289491</td>\n",
       "      <td>0.375419</td>\n",
       "      <td>0.216976</td>\n",
       "      <td>0.476817</td>\n",
       "    </tr>\n",
       "    <tr>\n",
       "      <th>kyeahoo</th>\n",
       "      <th>mid</th>\n",
       "      <td>oe:player:308e48bf56284c09a1a9aadf55bc80c</td>\n",
       "      <td>DRX</td>\n",
       "      <td>1.666667</td>\n",
       "      <td>2.666667</td>\n",
       "      <td>2.555556</td>\n",
       "      <td>1.638889</td>\n",
       "      <td>0.222222</td>\n",
       "      <td>0.00</td>\n",
       "      <td>0.0</td>\n",
       "      <td>0.0</td>\n",
       "      <td>0.000000</td>\n",
       "      <td>0.222222</td>\n",
       "      <td>382.023000</td>\n",
       "      <td>0.192527</td>\n",
       "      <td>610.781667</td>\n",
       "      <td>0.555967</td>\n",
       "      <td>0.209711</td>\n",
       "      <td>7.666667</td>\n",
       "      <td>1.224411</td>\n",
       "      <td>325.214902</td>\n",
       "      <td>-100.279910</td>\n",
       "      <td>0.206384</td>\n",
       "      <td>7.462544</td>\n",
       "      <td>-247.000000</td>\n",
       "      <td>6.888889</td>\n",
       "      <td>-0.666667</td>\n",
       "      <td>-795.444444</td>\n",
       "      <td>-125.111111</td>\n",
       "      <td>-8.222222</td>\n",
       "      <td>4</td>\n",
       "      <td>0.331815</td>\n",
       "      <td>0.725275</td>\n",
       "      <td>0.012048</td>\n",
       "      <td>0.000000</td>\n",
       "      <td>0.172169</td>\n",
       "      <td>0.000000</td>\n",
       "      <td>1.000000</td>\n",
       "      <td>0.000000</td>\n",
       "      <td>1.000000</td>\n",
       "      <td>1.000000</td>\n",
       "      <td>0.275222</td>\n",
       "      <td>0.740741</td>\n",
       "      <td>0.416708</td>\n",
       "      <td>0.000000</td>\n",
       "      <td>0.000000</td>\n",
       "      <td>0.000000</td>\n",
       "      <td>0.000000</td>\n",
       "      <td>0.000</td>\n",
       "      <td>0.000000</td>\n",
       "      <td>0.576736</td>\n",
       "      <td>0.510269</td>\n",
       "      <td>0.000000</td>\n",
       "      <td>0.441130</td>\n",
       "      <td>0.268143</td>\n",
       "    </tr>\n",
       "    <tr>\n",
       "      <th>Croco</th>\n",
       "      <th>jng</th>\n",
       "      <td>oe:player:5c6f901a83ec448d51703aebba0ca64</td>\n",
       "      <td>DRX</td>\n",
       "      <td>1.375000</td>\n",
       "      <td>3.750000</td>\n",
       "      <td>3.375000</td>\n",
       "      <td>1.304167</td>\n",
       "      <td>0.250000</td>\n",
       "      <td>0.00</td>\n",
       "      <td>0.0</td>\n",
       "      <td>0.0</td>\n",
       "      <td>0.125000</td>\n",
       "      <td>0.125000</td>\n",
       "      <td>257.786113</td>\n",
       "      <td>0.130422</td>\n",
       "      <td>878.547987</td>\n",
       "      <td>0.454188</td>\n",
       "      <td>0.385188</td>\n",
       "      <td>11.000000</td>\n",
       "      <td>1.498025</td>\n",
       "      <td>295.084921</td>\n",
       "      <td>-81.404787</td>\n",
       "      <td>0.187163</td>\n",
       "      <td>4.978525</td>\n",
       "      <td>-323.500000</td>\n",
       "      <td>-342.750000</td>\n",
       "      <td>-11.750000</td>\n",
       "      <td>-737.875000</td>\n",
       "      <td>-449.875000</td>\n",
       "      <td>-16.750000</td>\n",
       "      <td>6</td>\n",
       "      <td>0.140836</td>\n",
       "      <td>1.000000</td>\n",
       "      <td>0.000000</td>\n",
       "      <td>0.000000</td>\n",
       "      <td>0.327630</td>\n",
       "      <td>0.103074</td>\n",
       "      <td>1.000000</td>\n",
       "      <td>0.208333</td>\n",
       "      <td>0.300000</td>\n",
       "      <td>0.502259</td>\n",
       "      <td>0.394773</td>\n",
       "      <td>0.427835</td>\n",
       "      <td>0.281662</td>\n",
       "      <td>0.000000</td>\n",
       "      <td>0.000000</td>\n",
       "      <td>0.706040</td>\n",
       "      <td>0.005740</td>\n",
       "      <td>0.375</td>\n",
       "      <td>0.000000</td>\n",
       "      <td>0.000000</td>\n",
       "      <td>0.000000</td>\n",
       "      <td>0.000000</td>\n",
       "      <td>0.000000</td>\n",
       "      <td>0.000000</td>\n",
       "    </tr>\n",
       "  </tbody>\n",
       "</table>\n",
       "</div>"
      ],
      "text/plain": [
       "                                                   playerid Team     kills   \n",
       "Player  position                                                             \n",
       "BeryL   sup       oe:player:dee54127bb56d2e2540ba71cc416f1c  DRX  0.100000  \\\n",
       "Rascal  top       oe:player:9daf04bfd9c8815cc827414f59f45af  DRX  1.750000   \n",
       "FATE    mid       oe:player:24cd6812f523cf30c3502344539be6f  DRX  2.454545   \n",
       "kyeahoo mid       oe:player:308e48bf56284c09a1a9aadf55bc80c  DRX  1.666667   \n",
       "Croco   jng       oe:player:5c6f901a83ec448d51703aebba0ca64  DRX  1.375000   \n",
       "\n",
       "                    deaths   assists       kda  doublekills  triplekills   \n",
       "Player  position                                                           \n",
       "BeryL   sup       3.100000  5.650000  2.676429     0.000000         0.00  \\\n",
       "Rascal  top       3.150000  3.050000  1.864167     0.250000         0.15   \n",
       "FATE    mid       1.454545  4.272727  4.886364     0.363636         0.00   \n",
       "kyeahoo mid       2.666667  2.555556  1.638889     0.222222         0.00   \n",
       "Croco   jng       3.750000  3.375000  1.304167     0.250000         0.00   \n",
       "\n",
       "                  quadrakills  pentakills  firstblood  firstbloodvictim   \n",
       "Player  position                                                          \n",
       "BeryL   sup               0.0         0.0    0.050000          0.100000  \\\n",
       "Rascal  top               0.0         0.0    0.150000          0.200000   \n",
       "FATE    mid               0.0         0.0    0.090909          0.000000   \n",
       "kyeahoo mid               0.0         0.0    0.000000          0.222222   \n",
       "Croco   jng               0.0         0.0    0.125000          0.125000   \n",
       "\n",
       "                         dpm  damageshare  damagetakenperminute       wpm   \n",
       "Player  position                                                            \n",
       "BeryL   sup       176.729915     0.090540            399.427000  1.747735  \\\n",
       "Rascal  top       425.393465     0.225646            913.576800  0.354240   \n",
       "FATE    mid       585.817964     0.298649            477.317600  0.420382   \n",
       "kyeahoo mid       382.023000     0.192527            610.781667  0.555967   \n",
       "Croco   jng       257.786113     0.130422            878.547987  0.454188   \n",
       "\n",
       "                      wcpm  controlwardsbought      vspm         gpm   \n",
       "Player  position                                                       \n",
       "BeryL   sup       0.450750           15.050000  3.190590  223.982649  \\\n",
       "Rascal  top       0.250115            5.650000  1.040695  369.534286   \n",
       "FATE    mid       0.317664            6.636364  1.304509  391.414465   \n",
       "kyeahoo mid       0.209711            7.666667  1.224411  325.214902   \n",
       "Croco   jng       0.385188           11.000000  1.498025  295.084921   \n",
       "\n",
       "                        gdpm  goldshare      cspm  golddiffat10  xpdiffat10   \n",
       "Player  position                                                              \n",
       "BeryL   sup       -23.565157   0.134989  1.144465    -28.200000  -57.100000  \\\n",
       "Rascal  top       -35.610576   0.220811  8.048355    -43.050000  -33.650000   \n",
       "FATE    mid       -32.649437   0.223839  8.831755   -194.636364 -165.000000   \n",
       "kyeahoo mid      -100.279910   0.206384  7.462544   -247.000000    6.888889   \n",
       "Croco   jng       -81.404787   0.187163  4.978525   -323.500000 -342.750000   \n",
       "\n",
       "                  csdiffat10  golddiffat15  xpdiffat15  csdiffat15  champions   \n",
       "Player  position                                                                \n",
       "BeryL   sup        -1.550000   -117.400000 -134.250000   -1.200000         11  \\\n",
       "Rascal  top        -2.850000   -258.300000 -160.050000   -2.400000         10   \n",
       "FATE    mid        -3.363636   -346.909091 -309.000000   -2.636364          7   \n",
       "kyeahoo mid        -0.666667   -795.444444 -125.111111   -8.222222          4   \n",
       "Croco   jng       -11.750000   -737.875000 -449.875000  -16.750000          6   \n",
       "\n",
       "                    _kills   _deaths  _assists      _kda      _dpm   \n",
       "Player  position                                                     \n",
       "BeryL   sup       0.000000  1.000000  0.057646  0.000000  0.723051  \\\n",
       "Rascal  top       0.496974  1.000000  0.167622  0.042816  0.000000   \n",
       "FATE    mid       0.672810  0.125874  0.384447  0.525087  0.863740   \n",
       "kyeahoo mid       0.331815  0.725275  0.012048  0.000000  0.172169   \n",
       "Croco   jng       0.140836  1.000000  0.000000  0.000000  0.327630   \n",
       "\n",
       "                  _damageshare  _damagetakenperminute  _firstblood   \n",
       "Player  position                                                     \n",
       "BeryL   sup           0.920157               1.000000     0.000000  \\\n",
       "Rascal  top           0.288029               0.941370     0.428571   \n",
       "FATE    mid           1.000000               0.380748     0.272727   \n",
       "kyeahoo mid           0.000000               1.000000     0.000000   \n",
       "Croco   jng           0.103074               1.000000     0.208333   \n",
       "\n",
       "                  _firstbloodvictim      _wpm     _wcpm  _controlwardsbought   \n",
       "Player  position                                                               \n",
       "BeryL   sup                0.633333  0.926352  1.000000             0.653774  \\\n",
       "Rascal  top                0.760000  0.222712  0.919772             0.300111   \n",
       "FATE    mid                0.000000  0.250774  0.751741             0.454545   \n",
       "kyeahoo mid                1.000000  1.000000  0.275222             0.740741   \n",
       "Croco   jng                0.300000  0.502259  0.394773             0.427835   \n",
       "\n",
       "                     _vspm      _gpm     _gdpm  _goldshare     _cspm   \n",
       "Player  position                                                       \n",
       "BeryL   sup       0.821894  0.091233  0.052168    1.000000  1.000000  \\\n",
       "Rascal  top       0.399708  0.193278  0.099909    0.878350  0.149818   \n",
       "FATE    mid       0.650952  0.724872  0.421136    0.758954  0.672548   \n",
       "kyeahoo mid       0.416708  0.000000  0.000000    0.000000  0.000000   \n",
       "Croco   jng       0.281662  0.000000  0.000000    0.706040  0.005740   \n",
       "\n",
       "                  _champions  _golddiffat10  _xpdiffat10  _csdiffat10   \n",
       "Player  position                                                        \n",
       "BeryL   sup            1.000       0.388836     0.000000     0.000000  \\\n",
       "Rascal  top            1.000       0.337970     0.281938     0.145322   \n",
       "FATE    mid            0.500       0.139512     0.086914     0.289491   \n",
       "kyeahoo mid            0.000       0.000000     0.576736     0.510269   \n",
       "Croco   jng            0.375       0.000000     0.000000     0.000000   \n",
       "\n",
       "                  _golddiffat15  _xpdiffat15  _csdiffat15  \n",
       "Player  position                                           \n",
       "BeryL   sup            0.254342     0.221226     0.124779  \n",
       "Rascal  top            0.157467     0.341521     0.238759  \n",
       "FATE    mid            0.375419     0.216976     0.476817  \n",
       "kyeahoo mid            0.000000     0.441130     0.268143  \n",
       "Croco   jng            0.000000     0.000000     0.000000  "
      ]
     },
     "execution_count": 32,
     "metadata": {},
     "output_type": "execute_result"
    }
   ],
   "source": [
    "players_stats.head()"
   ]
  },
  {
   "cell_type": "code",
   "execution_count": 41,
   "metadata": {},
   "outputs": [
    {
     "data": {
      "text/plain": [
       "'top'"
      ]
     },
     "execution_count": 41,
     "metadata": {},
     "output_type": "execute_result"
    }
   ],
   "source": [
    "df\n",
    "position = df.loc[\"Zeus\"].index.values[0]\n",
    "position"
   ]
  },
  {
   "cell_type": "code",
   "execution_count": 42,
   "metadata": {},
   "outputs": [
    {
     "data": {
      "application/vnd.plotly.v1+json": {
       "config": {
        "plotlyServerURL": "https://plot.ly"
       },
       "data": [
        {
         "fill": "toself",
         "name": "Zeus",
         "r": [
          0.6807866868381238,
          0.43075989686030636,
          0.8469310812848739,
          0.5784291490376718,
          0.5020029993779453,
          0.24692863822616484,
          0.06846623536976004
         ],
         "subplot": "polar",
         "theta": [
          "kills - 2.11 | 4",
          "deaths - 2.05 | 6",
          "assists - 5.68 | 2",
          "kda - 5.2 | 3",
          "dpm - 514.9 | 2",
          "damageshare - 0.22 | 9",
          "damagetakenperminute - 785.5 | 8"
         ],
         "type": "scatterpolar"
        },
        {
         "fill": "toself",
         "name": "Zeus",
         "r": [
          0.15037593984962405,
          1,
          0.37570285885574495,
          0.1990928821859872,
          0.5728587319243607,
          0.3987867336283628,
          0.575559753999733,
          0.7934118400888384,
          0.1740833995372988,
          0.546181370822068,
          0.3333333333333335
         ],
         "subplot": "polar2",
         "theta": [
          "firstblood - 0.05 | 8",
          "firstbloodvictim - 0.26 | 1",
          "wpm - 0.4 | 5",
          "wcpm - 0.17 | 5",
          "controlwardsbought - 7.26 | 5",
          "vspm - 1.04 | 7",
          "gpm - 394.7 | 4",
          "gdpm - 37.77 | 3",
          "goldshare - 0.21 | 9",
          "cspm - 8.49 | 4",
          "champions - 8.0 | 5"
         ],
         "type": "scatterpolar"
        },
        {
         "fill": "toself",
         "name": "Zeus",
         "r": [
          0.7393850766992369,
          1,
          0.7881157154026583,
          0.6219622469022122,
          0.8981401873387937,
          0.7314285714285713
         ],
         "subplot": "polar3",
         "theta": [
          "golddiffat10 - 135.74 | 2",
          "xpdiffat10 - 215.05 | 1",
          "csdiffat10 - 5.26 | 2",
          "golddiffat15 - 203.0 | 3",
          "xpdiffat15 - 244.58 | 3",
          "csdiffat15 - 7.53 | 2"
         ],
         "type": "scatterpolar"
        },
        {
         "fill": "toself",
         "name": "Oner",
         "r": [
          1,
          0.3076923076923077,
          0.8172353961827646,
          0.6473232547433099,
          1,
          0.5424986294312877,
          0.14434791868531605
         ],
         "subplot": "polar4",
         "theta": [
          "kills - 3.05 | 1",
          "deaths - 2.21 | 7",
          "assists - 6.47 | 3",
          "kda - 5.96 | 4",
          "dpm - 334.95 | 1",
          "damageshare - 0.15 | 4",
          "damagetakenperminute - 765.79 | 11"
         ],
         "type": "scatterpolar"
        },
        {
         "fill": "toself",
         "name": "Oner",
         "r": [
          0.43859649122807015,
          0.1263157894736842,
          0.5853743180124364,
          0.6231894077901768,
          0.44329896907216493,
          0.7498080256481807,
          0.9038174525468126,
          0.8855062386550925,
          0.740155091862011,
          0.5891997279042736,
          0.875
         ],
         "subplot": "polar5",
         "theta": [
          "firstblood - 0.26 | 9",
          "firstbloodvictim - 0.05 | 6",
          "wpm - 0.47 | 5",
          "wcpm - 0.46 | 7",
          "controlwardsbought - 11.16 | 8",
          "vspm - 1.8 | 7",
          "gpm - 358.67 | 3",
          "gdpm - 34.85 | 2",
          "goldshare - 0.19 | 4",
          "cspm - 5.7 | 6",
          "champions - 10.0 | 2"
         ],
         "type": "scatterpolar"
        },
        {
         "fill": "toself",
         "name": "Oner",
         "r": [
          0.8110601752451692,
          0.6743567778335746,
          0.8877828054298643,
          0.8726341756669915,
          0.7271227688197175,
          0.8252969044065156
         ],
         "subplot": "polar6",
         "theta": [
          "golddiffat10 - 44.32 | 5",
          "xpdiffat10 - -42.37 | 8",
          "csdiffat10 - 1.16 | 5",
          "golddiffat15 - 92.95 | 6",
          "xpdiffat15 - 78.89 | 6",
          "csdiffat15 - 1.84 | 6"
         ],
         "type": "scatterpolar"
        },
        {
         "fill": "toself",
         "name": "Faker",
         "r": [
          0.8405466970387243,
          0.4736842105263158,
          0.5878249841471148,
          0.49381909198359175,
          0.9214399330773544,
          0.6262986558879586,
          0.4042202754583575
         ],
         "subplot": "polar7",
         "theta": [
          "kills - 2.84 | 4",
          "deaths - 2.16 | 7",
          "assists - 5.21 | 3",
          "kda - 4.69 | 7",
          "dpm - 602.82 | 3",
          "damageshare - 0.26 | 8",
          "damagetakenperminute - 482.38 | 8"
         ],
         "type": "scatterpolar"
        },
        {
         "fill": "toself",
         "name": "Faker",
         "r": [
          0.47368421052631576,
          0.9473684210526315,
          0.28475729755407153,
          0.3930542953428129,
          0,
          0,
          0.9999999999999996,
          0.9464801684248794,
          0.48546238606129144,
          0.6110648482339855,
          0.6666666666666666
         ],
         "subplot": "polar8",
         "theta": [
          "firstblood - 0.16 | 9",
          "firstbloodvictim - 0.21 | 2",
          "wpm - 0.43 | 10",
          "wcpm - 0.24 | 9",
          "controlwardsbought - 5.0 | 13",
          "vspm - 1.08 | 13",
          "gpm - 416.54 | 1",
          "gdpm - 51.72 | 2",
          "goldshare - 0.22 | 7",
          "cspm - 8.71 | 9",
          "champions - 8.0 | 4"
         ],
         "type": "scatterpolar"
        },
        {
         "fill": "toself",
         "name": "Faker",
         "r": [
          0.7596054968682808,
          0.9668541432320958,
          0.8362774666092202,
          0.6985081055681729,
          0.7012253801244627,
          0.6814785686197405
         ],
         "subplot": "polar9",
         "theta": [
          "golddiffat10 - 38.11 | 5",
          "xpdiffat10 - 143.79 | 2",
          "csdiffat10 - 3.32 | 2",
          "golddiffat15 - 39.11 | 6",
          "xpdiffat15 - 88.26 | 4",
          "csdiffat15 - 2.84 | 4"
         ],
         "type": "scatterpolar"
        },
        {
         "fill": "toself",
         "name": "Gumayusi",
         "r": [
          0.802056555269923,
          0.3344437041972018,
          0.9845201238390092,
          0.5666238767650835,
          0.9999999999999998,
          0.7022884588535354,
          0.45560557484030073
         ],
         "subplot": "polar10",
         "theta": [
          "kills - 4.63 | 3",
          "deaths - 1.79 | 7",
          "assists - 5.05 | 2",
          "kda - 6.71 | 3",
          "dpm - 680.41 | 1",
          "damageshare - 0.3 | 6",
          "damagetakenperminute - 403.09 | 7"
         ],
         "type": "scatterpolar"
        },
        {
         "fill": "toself",
         "name": "Gumayusi",
         "r": [
          0.42105263157894735,
          0.2807017543859649,
          0.4428522044665477,
          0.5629741833725592,
          0.5810205908683974,
          0.3870203777120398,
          0.8786841561113299,
          0.7356178517425843,
          0.7306958380532684,
          0.8895570472901264,
          0.9999999999999998
         ],
         "subplot": "polar11",
         "theta": [
          "firstblood - 0.21 | 6",
          "firstbloodvictim - 0.05 | 5",
          "wpm - 0.52 | 3",
          "wcpm - 0.51 | 4",
          "controlwardsbought - 5.84 | 5",
          "vspm - 1.49 | 5",
          "gpm - 491.23 | 2",
          "gdpm - 52.19 | 3",
          "goldshare - 0.26 | 4",
          "cspm - 10.52 | 3",
          "champions - 10.0 | 1"
         ],
         "type": "scatterpolar"
        },
        {
         "fill": "toself",
         "name": "Gumayusi",
         "r": [
          0.7214790213722504,
          0.5106154490490662,
          1,
          0.7725469158223879,
          0.7193477670078812,
          1
         ],
         "subplot": "polar12",
         "theta": [
          "golddiffat10 - 126.37 | 2",
          "xpdiffat10 - 16.21 | 5",
          "csdiffat10 - 4.37 | 1",
          "golddiffat15 - 518.16 | 2",
          "xpdiffat15 - 135.47 | 4",
          "csdiffat15 - 9.21 | 1"
         ],
         "type": "scatterpolar"
        },
        {
         "fill": "toself",
         "name": "Keria",
         "r": [
          0.5419847328244274,
          0.5149051490514905,
          1,
          0.9657300278529957,
          0.6653347359588064,
          0.33091493270327454,
          0.6374307133879651
         ],
         "subplot": "polar13",
         "theta": [
          "kills - 0.47 | 4",
          "deaths - 2.16 | 6",
          "assists - 9.74 | 1",
          "kda - 7.05 | 2",
          "dpm - 171.36 | 4",
          "damageshare - 0.07 | 6",
          "damagetakenperminute - 341.41 | 5"
         ],
         "type": "scatterpolar"
        },
        {
         "fill": "toself",
         "name": "Keria",
         "r": [
          0.45864661654135325,
          0.33333333333333337,
          0.771518884746313,
          0.44656432060062157,
          0.6855345911949686,
          0.5175414772391811,
          0.9835398993270896,
          0.8583916448559838,
          0.6833562911140856,
          0.32425755574778514,
          0.5
         ],
         "subplot": "polar14",
         "theta": [
          "firstblood - 0.21 | 8",
          "firstbloodvictim - 0.05 | 7",
          "wpm - 1.7 | 6",
          "wcpm - 0.34 | 3",
          "controlwardsbought - 15.32 | 4",
          "vspm - 3.05 | 4",
          "gpm - 254.15 | 2",
          "gdpm - 25.72 | 2",
          "goldshare - 0.13 | 3",
          "cspm - 0.86 | 6",
          "champions - 9.0 | 4"
         ],
         "type": "scatterpolar"
        },
        {
         "fill": "toself",
         "name": "Keria",
         "r": [
          0.8572039150318417,
          0.17014827294075205,
          0.22432789775231377,
          1,
          0.7375357592083439,
          0.17699115044247785
         ],
         "subplot": "polar15",
         "theta": [
          "golddiffat10 - 43.89 | 3",
          "xpdiffat10 - -26.21 | 8",
          "csdiffat10 - -0.21 | 4",
          "golddiffat15 - 202.53 | 1",
          "xpdiffat15 - 137.0 | 3",
          "csdiffat15 - -0.58 | 4"
         ],
         "type": "scatterpolar"
        }
       ],
       "layout": {
        "annotations": [
         {
          "font": {
           "size": 16
          },
          "showarrow": false,
          "text": "Zeus",
          "x": 0.14444444444444446,
          "xanchor": "center",
          "xref": "paper",
          "y": 1,
          "yanchor": "bottom",
          "yref": "paper",
          "yshift": 20
         },
         {
          "font": {
           "size": 16
          },
          "showarrow": false,
          "text": "Zeus",
          "x": 0.5,
          "xanchor": "center",
          "xref": "paper",
          "y": 1,
          "yanchor": "bottom",
          "yref": "paper",
          "yshift": 20
         },
         {
          "font": {
           "size": 16
          },
          "showarrow": false,
          "text": "Zeus",
          "x": 0.8555555555555556,
          "xanchor": "center",
          "xref": "paper",
          "y": 1,
          "yanchor": "bottom",
          "yref": "paper",
          "yshift": 20
         },
         {
          "font": {
           "size": 16
          },
          "showarrow": false,
          "text": "Oner",
          "x": 0.14444444444444446,
          "xanchor": "center",
          "xref": "paper",
          "y": 0.78,
          "yanchor": "bottom",
          "yref": "paper",
          "yshift": 20
         },
         {
          "font": {
           "size": 16
          },
          "showarrow": false,
          "text": "Oner",
          "x": 0.5,
          "xanchor": "center",
          "xref": "paper",
          "y": 0.78,
          "yanchor": "bottom",
          "yref": "paper",
          "yshift": 20
         },
         {
          "font": {
           "size": 16
          },
          "showarrow": false,
          "text": "Oner",
          "x": 0.8555555555555556,
          "xanchor": "center",
          "xref": "paper",
          "y": 0.78,
          "yanchor": "bottom",
          "yref": "paper",
          "yshift": 20
         },
         {
          "font": {
           "size": 16
          },
          "showarrow": false,
          "text": "Faker",
          "x": 0.14444444444444446,
          "xanchor": "center",
          "xref": "paper",
          "y": 0.56,
          "yanchor": "bottom",
          "yref": "paper",
          "yshift": 20
         },
         {
          "font": {
           "size": 16
          },
          "showarrow": false,
          "text": "Faker",
          "x": 0.5,
          "xanchor": "center",
          "xref": "paper",
          "y": 0.56,
          "yanchor": "bottom",
          "yref": "paper",
          "yshift": 20
         },
         {
          "font": {
           "size": 16
          },
          "showarrow": false,
          "text": "Faker",
          "x": 0.8555555555555556,
          "xanchor": "center",
          "xref": "paper",
          "y": 0.56,
          "yanchor": "bottom",
          "yref": "paper",
          "yshift": 20
         },
         {
          "font": {
           "size": 16
          },
          "showarrow": false,
          "text": "Gumayusi",
          "x": 0.14444444444444446,
          "xanchor": "center",
          "xref": "paper",
          "y": 0.33999999999999997,
          "yanchor": "bottom",
          "yref": "paper",
          "yshift": 20
         },
         {
          "font": {
           "size": 16
          },
          "showarrow": false,
          "text": "Gumayusi",
          "x": 0.5,
          "xanchor": "center",
          "xref": "paper",
          "y": 0.33999999999999997,
          "yanchor": "bottom",
          "yref": "paper",
          "yshift": 20
         },
         {
          "font": {
           "size": 16
          },
          "showarrow": false,
          "text": "Gumayusi",
          "x": 0.8555555555555556,
          "xanchor": "center",
          "xref": "paper",
          "y": 0.33999999999999997,
          "yanchor": "bottom",
          "yref": "paper",
          "yshift": 20
         },
         {
          "font": {
           "size": 16
          },
          "showarrow": false,
          "text": "Keria",
          "x": 0.14444444444444446,
          "xanchor": "center",
          "xref": "paper",
          "y": 0.12,
          "yanchor": "bottom",
          "yref": "paper",
          "yshift": 20
         },
         {
          "font": {
           "size": 16
          },
          "showarrow": false,
          "text": "Keria",
          "x": 0.5,
          "xanchor": "center",
          "xref": "paper",
          "y": 0.12,
          "yanchor": "bottom",
          "yref": "paper",
          "yshift": 20
         },
         {
          "font": {
           "size": 16
          },
          "showarrow": false,
          "text": "Keria",
          "x": 0.8555555555555556,
          "xanchor": "center",
          "xref": "paper",
          "y": 0.12,
          "yanchor": "bottom",
          "yref": "paper",
          "yshift": 20
         }
        ],
        "height": 1750,
        "polar": {
         "domain": {
          "x": [
           0,
           0.2888888888888889
          ],
          "y": [
           0.88,
           1
          ]
         },
         "radialaxis": {
          "range": [
           -0.2,
           1.2
          ],
          "visible": false
         }
        },
        "polar10": {
         "domain": {
          "x": [
           0,
           0.2888888888888889
          ],
          "y": [
           0.22,
           0.33999999999999997
          ]
         },
         "radialaxis": {
          "range": [
           -0.2,
           1.2
          ],
          "visible": false
         }
        },
        "polar11": {
         "domain": {
          "x": [
           0.35555555555555557,
           0.6444444444444445
          ],
          "y": [
           0.22,
           0.33999999999999997
          ]
         },
         "radialaxis": {
          "range": [
           -0.2,
           1.2
          ],
          "visible": false
         }
        },
        "polar12": {
         "domain": {
          "x": [
           0.7111111111111111,
           1
          ],
          "y": [
           0.22,
           0.33999999999999997
          ]
         },
         "radialaxis": {
          "range": [
           -0.2,
           1.2
          ],
          "visible": false
         }
        },
        "polar13": {
         "domain": {
          "x": [
           0,
           0.2888888888888889
          ],
          "y": [
           0,
           0.12
          ]
         },
         "radialaxis": {
          "range": [
           -0.2,
           1.2
          ],
          "visible": false
         }
        },
        "polar14": {
         "domain": {
          "x": [
           0.35555555555555557,
           0.6444444444444445
          ],
          "y": [
           0,
           0.12
          ]
         },
         "radialaxis": {
          "range": [
           -0.2,
           1.2
          ],
          "visible": false
         }
        },
        "polar15": {
         "domain": {
          "x": [
           0.7111111111111111,
           1
          ],
          "y": [
           0,
           0.12
          ]
         },
         "radialaxis": {
          "range": [
           -0.2,
           1.2
          ],
          "visible": false
         }
        },
        "polar2": {
         "domain": {
          "x": [
           0.35555555555555557,
           0.6444444444444445
          ],
          "y": [
           0.88,
           1
          ]
         },
         "radialaxis": {
          "range": [
           -0.2,
           1.2
          ],
          "visible": false
         }
        },
        "polar3": {
         "domain": {
          "x": [
           0.7111111111111111,
           1
          ],
          "y": [
           0.88,
           1
          ]
         },
         "radialaxis": {
          "range": [
           -0.2,
           1.2
          ],
          "visible": false
         }
        },
        "polar4": {
         "domain": {
          "x": [
           0,
           0.2888888888888889
          ],
          "y": [
           0.66,
           0.78
          ]
         },
         "radialaxis": {
          "range": [
           -0.2,
           1.2
          ],
          "visible": false
         }
        },
        "polar5": {
         "domain": {
          "x": [
           0.35555555555555557,
           0.6444444444444445
          ],
          "y": [
           0.66,
           0.78
          ]
         },
         "radialaxis": {
          "range": [
           -0.2,
           1.2
          ],
          "visible": false
         }
        },
        "polar6": {
         "domain": {
          "x": [
           0.7111111111111111,
           1
          ],
          "y": [
           0.66,
           0.78
          ]
         },
         "radialaxis": {
          "range": [
           -0.2,
           1.2
          ],
          "visible": false
         }
        },
        "polar7": {
         "domain": {
          "x": [
           0,
           0.2888888888888889
          ],
          "y": [
           0.44,
           0.56
          ]
         },
         "radialaxis": {
          "range": [
           -0.2,
           1.2
          ],
          "visible": false
         }
        },
        "polar8": {
         "domain": {
          "x": [
           0.35555555555555557,
           0.6444444444444445
          ],
          "y": [
           0.44,
           0.56
          ]
         },
         "radialaxis": {
          "range": [
           -0.2,
           1.2
          ],
          "visible": false
         }
        },
        "polar9": {
         "domain": {
          "x": [
           0.7111111111111111,
           1
          ],
          "y": [
           0.44,
           0.56
          ]
         },
         "radialaxis": {
          "range": [
           -0.2,
           1.2
          ],
          "visible": false
         }
        },
        "showlegend": false,
        "template": {
         "data": {
          "bar": [
           {
            "error_x": {
             "color": "#2a3f5f"
            },
            "error_y": {
             "color": "#2a3f5f"
            },
            "marker": {
             "line": {
              "color": "#E5ECF6",
              "width": 0.5
             },
             "pattern": {
              "fillmode": "overlay",
              "size": 10,
              "solidity": 0.2
             }
            },
            "type": "bar"
           }
          ],
          "barpolar": [
           {
            "marker": {
             "line": {
              "color": "#E5ECF6",
              "width": 0.5
             },
             "pattern": {
              "fillmode": "overlay",
              "size": 10,
              "solidity": 0.2
             }
            },
            "type": "barpolar"
           }
          ],
          "carpet": [
           {
            "aaxis": {
             "endlinecolor": "#2a3f5f",
             "gridcolor": "white",
             "linecolor": "white",
             "minorgridcolor": "white",
             "startlinecolor": "#2a3f5f"
            },
            "baxis": {
             "endlinecolor": "#2a3f5f",
             "gridcolor": "white",
             "linecolor": "white",
             "minorgridcolor": "white",
             "startlinecolor": "#2a3f5f"
            },
            "type": "carpet"
           }
          ],
          "choropleth": [
           {
            "colorbar": {
             "outlinewidth": 0,
             "ticks": ""
            },
            "type": "choropleth"
           }
          ],
          "contour": [
           {
            "colorbar": {
             "outlinewidth": 0,
             "ticks": ""
            },
            "colorscale": [
             [
              0,
              "#0d0887"
             ],
             [
              0.1111111111111111,
              "#46039f"
             ],
             [
              0.2222222222222222,
              "#7201a8"
             ],
             [
              0.3333333333333333,
              "#9c179e"
             ],
             [
              0.4444444444444444,
              "#bd3786"
             ],
             [
              0.5555555555555556,
              "#d8576b"
             ],
             [
              0.6666666666666666,
              "#ed7953"
             ],
             [
              0.7777777777777778,
              "#fb9f3a"
             ],
             [
              0.8888888888888888,
              "#fdca26"
             ],
             [
              1,
              "#f0f921"
             ]
            ],
            "type": "contour"
           }
          ],
          "contourcarpet": [
           {
            "colorbar": {
             "outlinewidth": 0,
             "ticks": ""
            },
            "type": "contourcarpet"
           }
          ],
          "heatmap": [
           {
            "colorbar": {
             "outlinewidth": 0,
             "ticks": ""
            },
            "colorscale": [
             [
              0,
              "#0d0887"
             ],
             [
              0.1111111111111111,
              "#46039f"
             ],
             [
              0.2222222222222222,
              "#7201a8"
             ],
             [
              0.3333333333333333,
              "#9c179e"
             ],
             [
              0.4444444444444444,
              "#bd3786"
             ],
             [
              0.5555555555555556,
              "#d8576b"
             ],
             [
              0.6666666666666666,
              "#ed7953"
             ],
             [
              0.7777777777777778,
              "#fb9f3a"
             ],
             [
              0.8888888888888888,
              "#fdca26"
             ],
             [
              1,
              "#f0f921"
             ]
            ],
            "type": "heatmap"
           }
          ],
          "heatmapgl": [
           {
            "colorbar": {
             "outlinewidth": 0,
             "ticks": ""
            },
            "colorscale": [
             [
              0,
              "#0d0887"
             ],
             [
              0.1111111111111111,
              "#46039f"
             ],
             [
              0.2222222222222222,
              "#7201a8"
             ],
             [
              0.3333333333333333,
              "#9c179e"
             ],
             [
              0.4444444444444444,
              "#bd3786"
             ],
             [
              0.5555555555555556,
              "#d8576b"
             ],
             [
              0.6666666666666666,
              "#ed7953"
             ],
             [
              0.7777777777777778,
              "#fb9f3a"
             ],
             [
              0.8888888888888888,
              "#fdca26"
             ],
             [
              1,
              "#f0f921"
             ]
            ],
            "type": "heatmapgl"
           }
          ],
          "histogram": [
           {
            "marker": {
             "pattern": {
              "fillmode": "overlay",
              "size": 10,
              "solidity": 0.2
             }
            },
            "type": "histogram"
           }
          ],
          "histogram2d": [
           {
            "colorbar": {
             "outlinewidth": 0,
             "ticks": ""
            },
            "colorscale": [
             [
              0,
              "#0d0887"
             ],
             [
              0.1111111111111111,
              "#46039f"
             ],
             [
              0.2222222222222222,
              "#7201a8"
             ],
             [
              0.3333333333333333,
              "#9c179e"
             ],
             [
              0.4444444444444444,
              "#bd3786"
             ],
             [
              0.5555555555555556,
              "#d8576b"
             ],
             [
              0.6666666666666666,
              "#ed7953"
             ],
             [
              0.7777777777777778,
              "#fb9f3a"
             ],
             [
              0.8888888888888888,
              "#fdca26"
             ],
             [
              1,
              "#f0f921"
             ]
            ],
            "type": "histogram2d"
           }
          ],
          "histogram2dcontour": [
           {
            "colorbar": {
             "outlinewidth": 0,
             "ticks": ""
            },
            "colorscale": [
             [
              0,
              "#0d0887"
             ],
             [
              0.1111111111111111,
              "#46039f"
             ],
             [
              0.2222222222222222,
              "#7201a8"
             ],
             [
              0.3333333333333333,
              "#9c179e"
             ],
             [
              0.4444444444444444,
              "#bd3786"
             ],
             [
              0.5555555555555556,
              "#d8576b"
             ],
             [
              0.6666666666666666,
              "#ed7953"
             ],
             [
              0.7777777777777778,
              "#fb9f3a"
             ],
             [
              0.8888888888888888,
              "#fdca26"
             ],
             [
              1,
              "#f0f921"
             ]
            ],
            "type": "histogram2dcontour"
           }
          ],
          "mesh3d": [
           {
            "colorbar": {
             "outlinewidth": 0,
             "ticks": ""
            },
            "type": "mesh3d"
           }
          ],
          "parcoords": [
           {
            "line": {
             "colorbar": {
              "outlinewidth": 0,
              "ticks": ""
             }
            },
            "type": "parcoords"
           }
          ],
          "pie": [
           {
            "automargin": true,
            "type": "pie"
           }
          ],
          "scatter": [
           {
            "fillpattern": {
             "fillmode": "overlay",
             "size": 10,
             "solidity": 0.2
            },
            "type": "scatter"
           }
          ],
          "scatter3d": [
           {
            "line": {
             "colorbar": {
              "outlinewidth": 0,
              "ticks": ""
             }
            },
            "marker": {
             "colorbar": {
              "outlinewidth": 0,
              "ticks": ""
             }
            },
            "type": "scatter3d"
           }
          ],
          "scattercarpet": [
           {
            "marker": {
             "colorbar": {
              "outlinewidth": 0,
              "ticks": ""
             }
            },
            "type": "scattercarpet"
           }
          ],
          "scattergeo": [
           {
            "marker": {
             "colorbar": {
              "outlinewidth": 0,
              "ticks": ""
             }
            },
            "type": "scattergeo"
           }
          ],
          "scattergl": [
           {
            "marker": {
             "colorbar": {
              "outlinewidth": 0,
              "ticks": ""
             }
            },
            "type": "scattergl"
           }
          ],
          "scattermapbox": [
           {
            "marker": {
             "colorbar": {
              "outlinewidth": 0,
              "ticks": ""
             }
            },
            "type": "scattermapbox"
           }
          ],
          "scatterpolar": [
           {
            "marker": {
             "colorbar": {
              "outlinewidth": 0,
              "ticks": ""
             }
            },
            "type": "scatterpolar"
           }
          ],
          "scatterpolargl": [
           {
            "marker": {
             "colorbar": {
              "outlinewidth": 0,
              "ticks": ""
             }
            },
            "type": "scatterpolargl"
           }
          ],
          "scatterternary": [
           {
            "marker": {
             "colorbar": {
              "outlinewidth": 0,
              "ticks": ""
             }
            },
            "type": "scatterternary"
           }
          ],
          "surface": [
           {
            "colorbar": {
             "outlinewidth": 0,
             "ticks": ""
            },
            "colorscale": [
             [
              0,
              "#0d0887"
             ],
             [
              0.1111111111111111,
              "#46039f"
             ],
             [
              0.2222222222222222,
              "#7201a8"
             ],
             [
              0.3333333333333333,
              "#9c179e"
             ],
             [
              0.4444444444444444,
              "#bd3786"
             ],
             [
              0.5555555555555556,
              "#d8576b"
             ],
             [
              0.6666666666666666,
              "#ed7953"
             ],
             [
              0.7777777777777778,
              "#fb9f3a"
             ],
             [
              0.8888888888888888,
              "#fdca26"
             ],
             [
              1,
              "#f0f921"
             ]
            ],
            "type": "surface"
           }
          ],
          "table": [
           {
            "cells": {
             "fill": {
              "color": "#EBF0F8"
             },
             "line": {
              "color": "white"
             }
            },
            "header": {
             "fill": {
              "color": "#C8D4E3"
             },
             "line": {
              "color": "white"
             }
            },
            "type": "table"
           }
          ]
         },
         "layout": {
          "annotationdefaults": {
           "arrowcolor": "#2a3f5f",
           "arrowhead": 0,
           "arrowwidth": 1
          },
          "autotypenumbers": "strict",
          "coloraxis": {
           "colorbar": {
            "outlinewidth": 0,
            "ticks": ""
           }
          },
          "colorscale": {
           "diverging": [
            [
             0,
             "#8e0152"
            ],
            [
             0.1,
             "#c51b7d"
            ],
            [
             0.2,
             "#de77ae"
            ],
            [
             0.3,
             "#f1b6da"
            ],
            [
             0.4,
             "#fde0ef"
            ],
            [
             0.5,
             "#f7f7f7"
            ],
            [
             0.6,
             "#e6f5d0"
            ],
            [
             0.7,
             "#b8e186"
            ],
            [
             0.8,
             "#7fbc41"
            ],
            [
             0.9,
             "#4d9221"
            ],
            [
             1,
             "#276419"
            ]
           ],
           "sequential": [
            [
             0,
             "#0d0887"
            ],
            [
             0.1111111111111111,
             "#46039f"
            ],
            [
             0.2222222222222222,
             "#7201a8"
            ],
            [
             0.3333333333333333,
             "#9c179e"
            ],
            [
             0.4444444444444444,
             "#bd3786"
            ],
            [
             0.5555555555555556,
             "#d8576b"
            ],
            [
             0.6666666666666666,
             "#ed7953"
            ],
            [
             0.7777777777777778,
             "#fb9f3a"
            ],
            [
             0.8888888888888888,
             "#fdca26"
            ],
            [
             1,
             "#f0f921"
            ]
           ],
           "sequentialminus": [
            [
             0,
             "#0d0887"
            ],
            [
             0.1111111111111111,
             "#46039f"
            ],
            [
             0.2222222222222222,
             "#7201a8"
            ],
            [
             0.3333333333333333,
             "#9c179e"
            ],
            [
             0.4444444444444444,
             "#bd3786"
            ],
            [
             0.5555555555555556,
             "#d8576b"
            ],
            [
             0.6666666666666666,
             "#ed7953"
            ],
            [
             0.7777777777777778,
             "#fb9f3a"
            ],
            [
             0.8888888888888888,
             "#fdca26"
            ],
            [
             1,
             "#f0f921"
            ]
           ]
          },
          "colorway": [
           "#636efa",
           "#EF553B",
           "#00cc96",
           "#ab63fa",
           "#FFA15A",
           "#19d3f3",
           "#FF6692",
           "#B6E880",
           "#FF97FF",
           "#FECB52"
          ],
          "font": {
           "color": "#2a3f5f"
          },
          "geo": {
           "bgcolor": "white",
           "lakecolor": "white",
           "landcolor": "#E5ECF6",
           "showlakes": true,
           "showland": true,
           "subunitcolor": "white"
          },
          "hoverlabel": {
           "align": "left"
          },
          "hovermode": "closest",
          "mapbox": {
           "style": "light"
          },
          "paper_bgcolor": "white",
          "plot_bgcolor": "#E5ECF6",
          "polar": {
           "angularaxis": {
            "gridcolor": "white",
            "linecolor": "white",
            "ticks": ""
           },
           "bgcolor": "#E5ECF6",
           "radialaxis": {
            "gridcolor": "white",
            "linecolor": "white",
            "ticks": ""
           }
          },
          "scene": {
           "xaxis": {
            "backgroundcolor": "#E5ECF6",
            "gridcolor": "white",
            "gridwidth": 2,
            "linecolor": "white",
            "showbackground": true,
            "ticks": "",
            "zerolinecolor": "white"
           },
           "yaxis": {
            "backgroundcolor": "#E5ECF6",
            "gridcolor": "white",
            "gridwidth": 2,
            "linecolor": "white",
            "showbackground": true,
            "ticks": "",
            "zerolinecolor": "white"
           },
           "zaxis": {
            "backgroundcolor": "#E5ECF6",
            "gridcolor": "white",
            "gridwidth": 2,
            "linecolor": "white",
            "showbackground": true,
            "ticks": "",
            "zerolinecolor": "white"
           }
          },
          "shapedefaults": {
           "line": {
            "color": "#2a3f5f"
           }
          },
          "ternary": {
           "aaxis": {
            "gridcolor": "white",
            "linecolor": "white",
            "ticks": ""
           },
           "baxis": {
            "gridcolor": "white",
            "linecolor": "white",
            "ticks": ""
           },
           "bgcolor": "#E5ECF6",
           "caxis": {
            "gridcolor": "white",
            "linecolor": "white",
            "ticks": ""
           }
          },
          "title": {
           "x": 0.05
          },
          "xaxis": {
           "automargin": true,
           "gridcolor": "white",
           "linecolor": "white",
           "ticks": "",
           "title": {
            "standoff": 15
           },
           "zerolinecolor": "white",
           "zerolinewidth": 2
          },
          "yaxis": {
           "automargin": true,
           "gridcolor": "white",
           "linecolor": "white",
           "ticks": "",
           "title": {
            "standoff": 15
           },
           "zerolinecolor": "white",
           "zerolinewidth": 2
          }
         }
        },
        "title": {
         "y": 1
        },
        "width": 1650
       }
      }
     },
     "metadata": {},
     "output_type": "display_data"
    }
   ],
   "source": [
    "origin_columns, columns = get_player_stats_columns()\n",
    "\n",
    "position = positions[4]\n",
    "\n",
    "target_df = players_stats.loc[players_stats[\"Team\"] == target_team].sort_values(\n",
    "    by=[\"position\"], key=lambda x: [positions.index(pos) for pos in x]\n",
    ")\n",
    "\n",
    "ROWS, COLUMNS = get_rows_columns(target_df, len(origin_columns))\n",
    "min_value, max_value = 0, 1\n",
    "\n",
    "fig = get_fig_subplots(target_df.index.get_level_values(0), ROWS, COLUMNS)\n",
    "for i, player_name in enumerate(df.index.get_level_values(0)):\n",
    "    position = target_df.loc[player_name].index.values[0]\n",
    "    df = players_stats.loc[players_stats.index.get_level_values(1) == position]\n",
    "    for j, (key, cols) in enumerate(columns.items()):\n",
    "        _df = df.loc[(player_name, position), cols]\n",
    "        theta_list = get_theta_list(df, (player_name, position), origin_columns[key])\n",
    "\n",
    "        fig.add_trace(\n",
    "            go.Scatterpolar(r=_df, theta=theta_list, fill=\"toself\", name=player_name),\n",
    "            row=i + 1,\n",
    "            col=j + 1,\n",
    "        )\n",
    "\n",
    "fig.update_layout(\n",
    "    height=350 * ROWS, width=550 * COLUMNS, showlegend=False, title=dict(y=1)\n",
    ")\n",
    "fig.update_annotations(yshift=20)\n",
    "fig.update_polars(\n",
    "    radialaxis=dict(range=[min_value - 0.2, max_value + 0.2], visible=False)\n",
    ")\n",
    "fig.show()"
   ]
  }
 ],
 "metadata": {
  "kernelspec": {
   "display_name": "Python 3.10.4 64-bit",
   "language": "python",
   "name": "python3"
  },
  "language_info": {
   "codemirror_mode": {
    "name": "ipython",
    "version": 3
   },
   "file_extension": ".py",
   "mimetype": "text/x-python",
   "name": "python",
   "nbconvert_exporter": "python",
   "pygments_lexer": "ipython3",
   "version": "3.11.3"
  },
  "orig_nbformat": 4,
  "vscode": {
   "interpreter": {
    "hash": "26de051ba29f2982a8de78e945f0abaf191376122a1563185a90213a26c5da77"
   }
  }
 },
 "nbformat": 4,
 "nbformat_minor": 2
}
