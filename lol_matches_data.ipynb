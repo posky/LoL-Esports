{
 "cells": [
  {
   "cell_type": "code",
   "execution_count": 1,
   "metadata": {},
   "outputs": [],
   "source": [
    "from typing import Iterable, Any\n",
    "from functools import reduce\n",
    "\n",
    "import numpy as np\n",
    "import pandas as pd\n",
    "from sklearn.preprocessing import MinMaxScaler\n",
    "import plotly.graph_objects as go\n",
    "from plotly.subplots import make_subplots\n",
    "\n",
    "pd.set_option(\"display.max_columns\", None)"
   ]
  },
  {
   "cell_type": "code",
   "execution_count": 2,
   "metadata": {},
   "outputs": [],
   "source": [
    "def get_matches(\n",
    "    matches_data,\n",
    "    league: str | Iterable[str] = None,\n",
    "    split: str | Iterable[str] = None,\n",
    "    playoffs=None,\n",
    "    patch: str | Iterable[str] = None,\n",
    "):\n",
    "    df = matches_data\n",
    "    if league is not None:\n",
    "        if not isinstance(league, str) and isinstance(league, Iterable):\n",
    "            df = df.loc[df[\"league\"].isin(league)]\n",
    "        else:\n",
    "            df = df.loc[df[\"league\"] == league]\n",
    "    if split is not None:\n",
    "        if not isinstance(split, str) and isinstance(split, Iterable):\n",
    "            df = df.loc[df[\"split\"].isin(split)]\n",
    "        else:\n",
    "            df = df.loc[df[\"split\"] == split]\n",
    "    if playoffs is not None:\n",
    "        df = df.loc[df[\"playoffs\"] == playoffs]\n",
    "    if patch is not None:\n",
    "        if not isinstance(patch, str) and isinstance(patch, Iterable):\n",
    "            df = df.loc[df[\"patch\"].isin(patch)]\n",
    "        else:\n",
    "            df = df.loc[df[\"patch\"] == patch]\n",
    "\n",
    "    return df\n",
    "\n",
    "\n",
    "def get_rc(i: int, cols: int):\n",
    "    r = i // cols + 1\n",
    "    c = i % cols + 1\n",
    "\n",
    "    return (r, c)\n",
    "\n",
    "\n",
    "def get_rows_columns(df, c=5):\n",
    "    COLUMNS = c\n",
    "    # d, m = divmod(df.shape[0], COLUMNS)\n",
    "    # ROWS = d + (1 if m > 0 else m)\n",
    "    ROWS = df.shape[0]\n",
    "\n",
    "    return ROWS, COLUMNS\n",
    "\n",
    "\n",
    "def get_fig_subplots(\n",
    "    title_list: Iterable[str], ROWS: int, COLUMNS: int, repeat: int = 1\n",
    "):\n",
    "    titles = reduce(lambda x, y: x + y, [[value] * COLUMNS for value in title_list])\n",
    "\n",
    "    fig = make_subplots(\n",
    "        rows=ROWS,\n",
    "        cols=COLUMNS,\n",
    "        subplot_titles=titles,\n",
    "        specs=[[{\"type\": \"polar\"} for _ in range(COLUMNS)] for _ in range(ROWS)],\n",
    "    )\n",
    "\n",
    "    return fig\n",
    "\n",
    "\n",
    "def get_min_max_value(df, columns: Iterable[str]):\n",
    "    min_value = df[columns].unstack().min()\n",
    "    max_value = df[columns].unstack().max()\n",
    "\n",
    "    return min_value, max_value\n",
    "\n",
    "\n",
    "def get_theta_list(\n",
    "    df, idx: Any, origin_columns: Iterable[str], rank_columns: Iterable[str]\n",
    "):\n",
    "    return [\n",
    "        f\"{col} - {round(value, ndigits=2)} | {standing}\"\n",
    "        for col, value, standing in zip(origin_columns, df.loc[idx, origin_columns].values, df.loc[idx, rank_columns].values)\n",
    "    ]"
   ]
  },
  {
   "cell_type": "code",
   "execution_count": 3,
   "metadata": {},
   "outputs": [
    {
     "data": {
      "text/plain": [
       "(74832, 127)"
      ]
     },
     "execution_count": 3,
     "metadata": {},
     "output_type": "execute_result"
    }
   ],
   "source": [
    "matches_data = pd.read_csv(\n",
    "    \"./csv/oracleselixir_match_data/2023_LoL_esports_match_data_from_OraclesElixir.csv\",\n",
    "    dtype={\"patch\": \"object\"},\n",
    ")\n",
    "matches_data[\"kda\"] = (\n",
    "    matches_data[[\"kills\", \"assists\"]].sum(axis=1).divide(matches_data[\"deaths\"])\n",
    ")\n",
    "matches_data[\"kd\"] = matches_data[\"kills\"].divide(matches_data[\"deaths\"])\n",
    "matches_data[\"gpm\"] = matches_data[\"totalgold\"].divide(matches_data[\"gamelength\"] / 60)\n",
    "matches_data.reset_index(drop=False, inplace=True)\n",
    "matches_data.shape"
   ]
  },
  {
   "cell_type": "code",
   "execution_count": 4,
   "metadata": {},
   "outputs": [
    {
     "data": {
      "text/html": [
       "<div>\n",
       "<style scoped>\n",
       "    .dataframe tbody tr th:only-of-type {\n",
       "        vertical-align: middle;\n",
       "    }\n",
       "\n",
       "    .dataframe tbody tr th {\n",
       "        vertical-align: top;\n",
       "    }\n",
       "\n",
       "    .dataframe thead th {\n",
       "        text-align: right;\n",
       "    }\n",
       "</style>\n",
       "<table border=\"1\" class=\"dataframe\">\n",
       "  <thead>\n",
       "    <tr style=\"text-align: right;\">\n",
       "      <th></th>\n",
       "      <th>index_x</th>\n",
       "      <th>gameid</th>\n",
       "      <th>teamid_x</th>\n",
       "      <th>participantid_x</th>\n",
       "      <th>position</th>\n",
       "      <th>gamelength_x</th>\n",
       "      <th>totalgold_x</th>\n",
       "      <th>index_y</th>\n",
       "      <th>teamid_y</th>\n",
       "      <th>participantid_y</th>\n",
       "      <th>gamelength_y</th>\n",
       "      <th>totalgold_y</th>\n",
       "    </tr>\n",
       "  </thead>\n",
       "  <tbody>\n",
       "    <tr>\n",
       "      <th>1</th>\n",
       "      <td>0</td>\n",
       "      <td>ESPORTSTMNT06_2753012</td>\n",
       "      <td>oe:team:0ade5e44c23039bca133eee58ec1b83</td>\n",
       "      <td>1</td>\n",
       "      <td>top</td>\n",
       "      <td>2612</td>\n",
       "      <td>18855</td>\n",
       "      <td>5</td>\n",
       "      <td>oe:team:14ad76b8d9e647d4b29c3d26ecd29c9</td>\n",
       "      <td>6</td>\n",
       "      <td>2612</td>\n",
       "      <td>11796</td>\n",
       "    </tr>\n",
       "    <tr>\n",
       "      <th>2</th>\n",
       "      <td>5</td>\n",
       "      <td>ESPORTSTMNT06_2753012</td>\n",
       "      <td>oe:team:14ad76b8d9e647d4b29c3d26ecd29c9</td>\n",
       "      <td>6</td>\n",
       "      <td>top</td>\n",
       "      <td>2612</td>\n",
       "      <td>11796</td>\n",
       "      <td>0</td>\n",
       "      <td>oe:team:0ade5e44c23039bca133eee58ec1b83</td>\n",
       "      <td>1</td>\n",
       "      <td>2612</td>\n",
       "      <td>18855</td>\n",
       "    </tr>\n",
       "    <tr>\n",
       "      <th>5</th>\n",
       "      <td>1</td>\n",
       "      <td>ESPORTSTMNT06_2753012</td>\n",
       "      <td>oe:team:0ade5e44c23039bca133eee58ec1b83</td>\n",
       "      <td>2</td>\n",
       "      <td>jng</td>\n",
       "      <td>2612</td>\n",
       "      <td>12082</td>\n",
       "      <td>6</td>\n",
       "      <td>oe:team:14ad76b8d9e647d4b29c3d26ecd29c9</td>\n",
       "      <td>7</td>\n",
       "      <td>2612</td>\n",
       "      <td>11711</td>\n",
       "    </tr>\n",
       "    <tr>\n",
       "      <th>6</th>\n",
       "      <td>6</td>\n",
       "      <td>ESPORTSTMNT06_2753012</td>\n",
       "      <td>oe:team:14ad76b8d9e647d4b29c3d26ecd29c9</td>\n",
       "      <td>7</td>\n",
       "      <td>jng</td>\n",
       "      <td>2612</td>\n",
       "      <td>11711</td>\n",
       "      <td>1</td>\n",
       "      <td>oe:team:0ade5e44c23039bca133eee58ec1b83</td>\n",
       "      <td>2</td>\n",
       "      <td>2612</td>\n",
       "      <td>12082</td>\n",
       "    </tr>\n",
       "    <tr>\n",
       "      <th>9</th>\n",
       "      <td>2</td>\n",
       "      <td>ESPORTSTMNT06_2753012</td>\n",
       "      <td>oe:team:0ade5e44c23039bca133eee58ec1b83</td>\n",
       "      <td>3</td>\n",
       "      <td>mid</td>\n",
       "      <td>2612</td>\n",
       "      <td>15722</td>\n",
       "      <td>7</td>\n",
       "      <td>oe:team:14ad76b8d9e647d4b29c3d26ecd29c9</td>\n",
       "      <td>8</td>\n",
       "      <td>2612</td>\n",
       "      <td>14129</td>\n",
       "    </tr>\n",
       "    <tr>\n",
       "      <th>10</th>\n",
       "      <td>7</td>\n",
       "      <td>ESPORTSTMNT06_2753012</td>\n",
       "      <td>oe:team:14ad76b8d9e647d4b29c3d26ecd29c9</td>\n",
       "      <td>8</td>\n",
       "      <td>mid</td>\n",
       "      <td>2612</td>\n",
       "      <td>14129</td>\n",
       "      <td>2</td>\n",
       "      <td>oe:team:0ade5e44c23039bca133eee58ec1b83</td>\n",
       "      <td>3</td>\n",
       "      <td>2612</td>\n",
       "      <td>15722</td>\n",
       "    </tr>\n",
       "    <tr>\n",
       "      <th>13</th>\n",
       "      <td>3</td>\n",
       "      <td>ESPORTSTMNT06_2753012</td>\n",
       "      <td>oe:team:0ade5e44c23039bca133eee58ec1b83</td>\n",
       "      <td>4</td>\n",
       "      <td>bot</td>\n",
       "      <td>2612</td>\n",
       "      <td>17332</td>\n",
       "      <td>8</td>\n",
       "      <td>oe:team:14ad76b8d9e647d4b29c3d26ecd29c9</td>\n",
       "      <td>9</td>\n",
       "      <td>2612</td>\n",
       "      <td>16823</td>\n",
       "    </tr>\n",
       "    <tr>\n",
       "      <th>14</th>\n",
       "      <td>8</td>\n",
       "      <td>ESPORTSTMNT06_2753012</td>\n",
       "      <td>oe:team:14ad76b8d9e647d4b29c3d26ecd29c9</td>\n",
       "      <td>9</td>\n",
       "      <td>bot</td>\n",
       "      <td>2612</td>\n",
       "      <td>16823</td>\n",
       "      <td>3</td>\n",
       "      <td>oe:team:0ade5e44c23039bca133eee58ec1b83</td>\n",
       "      <td>4</td>\n",
       "      <td>2612</td>\n",
       "      <td>17332</td>\n",
       "    </tr>\n",
       "    <tr>\n",
       "      <th>17</th>\n",
       "      <td>4</td>\n",
       "      <td>ESPORTSTMNT06_2753012</td>\n",
       "      <td>oe:team:0ade5e44c23039bca133eee58ec1b83</td>\n",
       "      <td>5</td>\n",
       "      <td>sup</td>\n",
       "      <td>2612</td>\n",
       "      <td>8816</td>\n",
       "      <td>9</td>\n",
       "      <td>oe:team:14ad76b8d9e647d4b29c3d26ecd29c9</td>\n",
       "      <td>10</td>\n",
       "      <td>2612</td>\n",
       "      <td>8286</td>\n",
       "    </tr>\n",
       "    <tr>\n",
       "      <th>18</th>\n",
       "      <td>9</td>\n",
       "      <td>ESPORTSTMNT06_2753012</td>\n",
       "      <td>oe:team:14ad76b8d9e647d4b29c3d26ecd29c9</td>\n",
       "      <td>10</td>\n",
       "      <td>sup</td>\n",
       "      <td>2612</td>\n",
       "      <td>8286</td>\n",
       "      <td>4</td>\n",
       "      <td>oe:team:0ade5e44c23039bca133eee58ec1b83</td>\n",
       "      <td>5</td>\n",
       "      <td>2612</td>\n",
       "      <td>8816</td>\n",
       "    </tr>\n",
       "    <tr>\n",
       "      <th>21</th>\n",
       "      <td>10</td>\n",
       "      <td>ESPORTSTMNT06_2753012</td>\n",
       "      <td>oe:team:0ade5e44c23039bca133eee58ec1b83</td>\n",
       "      <td>100</td>\n",
       "      <td>team</td>\n",
       "      <td>2612</td>\n",
       "      <td>72807</td>\n",
       "      <td>11</td>\n",
       "      <td>oe:team:14ad76b8d9e647d4b29c3d26ecd29c9</td>\n",
       "      <td>200</td>\n",
       "      <td>2612</td>\n",
       "      <td>62745</td>\n",
       "    </tr>\n",
       "    <tr>\n",
       "      <th>22</th>\n",
       "      <td>11</td>\n",
       "      <td>ESPORTSTMNT06_2753012</td>\n",
       "      <td>oe:team:14ad76b8d9e647d4b29c3d26ecd29c9</td>\n",
       "      <td>200</td>\n",
       "      <td>team</td>\n",
       "      <td>2612</td>\n",
       "      <td>62745</td>\n",
       "      <td>10</td>\n",
       "      <td>oe:team:0ade5e44c23039bca133eee58ec1b83</td>\n",
       "      <td>100</td>\n",
       "      <td>2612</td>\n",
       "      <td>72807</td>\n",
       "    </tr>\n",
       "    <tr>\n",
       "      <th>25</th>\n",
       "      <td>12</td>\n",
       "      <td>ESPORTSTMNT06_2754023</td>\n",
       "      <td>oe:team:607baf04091e515e195644cb08ec21c</td>\n",
       "      <td>1</td>\n",
       "      <td>top</td>\n",
       "      <td>2436</td>\n",
       "      <td>16027</td>\n",
       "      <td>17</td>\n",
       "      <td>oe:team:2d9e95ecefb34c32ff1a997ebe372f9</td>\n",
       "      <td>6</td>\n",
       "      <td>2436</td>\n",
       "      <td>19532</td>\n",
       "    </tr>\n",
       "    <tr>\n",
       "      <th>26</th>\n",
       "      <td>17</td>\n",
       "      <td>ESPORTSTMNT06_2754023</td>\n",
       "      <td>oe:team:2d9e95ecefb34c32ff1a997ebe372f9</td>\n",
       "      <td>6</td>\n",
       "      <td>top</td>\n",
       "      <td>2436</td>\n",
       "      <td>19532</td>\n",
       "      <td>12</td>\n",
       "      <td>oe:team:607baf04091e515e195644cb08ec21c</td>\n",
       "      <td>1</td>\n",
       "      <td>2436</td>\n",
       "      <td>16027</td>\n",
       "    </tr>\n",
       "    <tr>\n",
       "      <th>29</th>\n",
       "      <td>13</td>\n",
       "      <td>ESPORTSTMNT06_2754023</td>\n",
       "      <td>oe:team:607baf04091e515e195644cb08ec21c</td>\n",
       "      <td>2</td>\n",
       "      <td>jng</td>\n",
       "      <td>2436</td>\n",
       "      <td>14237</td>\n",
       "      <td>18</td>\n",
       "      <td>oe:team:2d9e95ecefb34c32ff1a997ebe372f9</td>\n",
       "      <td>7</td>\n",
       "      <td>2436</td>\n",
       "      <td>11893</td>\n",
       "    </tr>\n",
       "    <tr>\n",
       "      <th>30</th>\n",
       "      <td>18</td>\n",
       "      <td>ESPORTSTMNT06_2754023</td>\n",
       "      <td>oe:team:2d9e95ecefb34c32ff1a997ebe372f9</td>\n",
       "      <td>7</td>\n",
       "      <td>jng</td>\n",
       "      <td>2436</td>\n",
       "      <td>11893</td>\n",
       "      <td>13</td>\n",
       "      <td>oe:team:607baf04091e515e195644cb08ec21c</td>\n",
       "      <td>2</td>\n",
       "      <td>2436</td>\n",
       "      <td>14237</td>\n",
       "    </tr>\n",
       "    <tr>\n",
       "      <th>33</th>\n",
       "      <td>14</td>\n",
       "      <td>ESPORTSTMNT06_2754023</td>\n",
       "      <td>oe:team:607baf04091e515e195644cb08ec21c</td>\n",
       "      <td>3</td>\n",
       "      <td>mid</td>\n",
       "      <td>2436</td>\n",
       "      <td>20369</td>\n",
       "      <td>19</td>\n",
       "      <td>oe:team:2d9e95ecefb34c32ff1a997ebe372f9</td>\n",
       "      <td>8</td>\n",
       "      <td>2436</td>\n",
       "      <td>16630</td>\n",
       "    </tr>\n",
       "    <tr>\n",
       "      <th>34</th>\n",
       "      <td>19</td>\n",
       "      <td>ESPORTSTMNT06_2754023</td>\n",
       "      <td>oe:team:2d9e95ecefb34c32ff1a997ebe372f9</td>\n",
       "      <td>8</td>\n",
       "      <td>mid</td>\n",
       "      <td>2436</td>\n",
       "      <td>16630</td>\n",
       "      <td>14</td>\n",
       "      <td>oe:team:607baf04091e515e195644cb08ec21c</td>\n",
       "      <td>3</td>\n",
       "      <td>2436</td>\n",
       "      <td>20369</td>\n",
       "    </tr>\n",
       "    <tr>\n",
       "      <th>37</th>\n",
       "      <td>15</td>\n",
       "      <td>ESPORTSTMNT06_2754023</td>\n",
       "      <td>oe:team:607baf04091e515e195644cb08ec21c</td>\n",
       "      <td>4</td>\n",
       "      <td>bot</td>\n",
       "      <td>2436</td>\n",
       "      <td>19563</td>\n",
       "      <td>20</td>\n",
       "      <td>oe:team:2d9e95ecefb34c32ff1a997ebe372f9</td>\n",
       "      <td>9</td>\n",
       "      <td>2436</td>\n",
       "      <td>20103</td>\n",
       "    </tr>\n",
       "    <tr>\n",
       "      <th>38</th>\n",
       "      <td>20</td>\n",
       "      <td>ESPORTSTMNT06_2754023</td>\n",
       "      <td>oe:team:2d9e95ecefb34c32ff1a997ebe372f9</td>\n",
       "      <td>9</td>\n",
       "      <td>bot</td>\n",
       "      <td>2436</td>\n",
       "      <td>20103</td>\n",
       "      <td>15</td>\n",
       "      <td>oe:team:607baf04091e515e195644cb08ec21c</td>\n",
       "      <td>4</td>\n",
       "      <td>2436</td>\n",
       "      <td>19563</td>\n",
       "    </tr>\n",
       "  </tbody>\n",
       "</table>\n",
       "</div>"
      ],
      "text/plain": [
       "    index_x                 gameid                                 teamid_x   \n",
       "1         0  ESPORTSTMNT06_2753012  oe:team:0ade5e44c23039bca133eee58ec1b83  \\\n",
       "2         5  ESPORTSTMNT06_2753012  oe:team:14ad76b8d9e647d4b29c3d26ecd29c9   \n",
       "5         1  ESPORTSTMNT06_2753012  oe:team:0ade5e44c23039bca133eee58ec1b83   \n",
       "6         6  ESPORTSTMNT06_2753012  oe:team:14ad76b8d9e647d4b29c3d26ecd29c9   \n",
       "9         2  ESPORTSTMNT06_2753012  oe:team:0ade5e44c23039bca133eee58ec1b83   \n",
       "10        7  ESPORTSTMNT06_2753012  oe:team:14ad76b8d9e647d4b29c3d26ecd29c9   \n",
       "13        3  ESPORTSTMNT06_2753012  oe:team:0ade5e44c23039bca133eee58ec1b83   \n",
       "14        8  ESPORTSTMNT06_2753012  oe:team:14ad76b8d9e647d4b29c3d26ecd29c9   \n",
       "17        4  ESPORTSTMNT06_2753012  oe:team:0ade5e44c23039bca133eee58ec1b83   \n",
       "18        9  ESPORTSTMNT06_2753012  oe:team:14ad76b8d9e647d4b29c3d26ecd29c9   \n",
       "21       10  ESPORTSTMNT06_2753012  oe:team:0ade5e44c23039bca133eee58ec1b83   \n",
       "22       11  ESPORTSTMNT06_2753012  oe:team:14ad76b8d9e647d4b29c3d26ecd29c9   \n",
       "25       12  ESPORTSTMNT06_2754023  oe:team:607baf04091e515e195644cb08ec21c   \n",
       "26       17  ESPORTSTMNT06_2754023  oe:team:2d9e95ecefb34c32ff1a997ebe372f9   \n",
       "29       13  ESPORTSTMNT06_2754023  oe:team:607baf04091e515e195644cb08ec21c   \n",
       "30       18  ESPORTSTMNT06_2754023  oe:team:2d9e95ecefb34c32ff1a997ebe372f9   \n",
       "33       14  ESPORTSTMNT06_2754023  oe:team:607baf04091e515e195644cb08ec21c   \n",
       "34       19  ESPORTSTMNT06_2754023  oe:team:2d9e95ecefb34c32ff1a997ebe372f9   \n",
       "37       15  ESPORTSTMNT06_2754023  oe:team:607baf04091e515e195644cb08ec21c   \n",
       "38       20  ESPORTSTMNT06_2754023  oe:team:2d9e95ecefb34c32ff1a997ebe372f9   \n",
       "\n",
       "    participantid_x position  gamelength_x  totalgold_x  index_y   \n",
       "1                 1      top          2612        18855        5  \\\n",
       "2                 6      top          2612        11796        0   \n",
       "5                 2      jng          2612        12082        6   \n",
       "6                 7      jng          2612        11711        1   \n",
       "9                 3      mid          2612        15722        7   \n",
       "10                8      mid          2612        14129        2   \n",
       "13                4      bot          2612        17332        8   \n",
       "14                9      bot          2612        16823        3   \n",
       "17                5      sup          2612         8816        9   \n",
       "18               10      sup          2612         8286        4   \n",
       "21              100     team          2612        72807       11   \n",
       "22              200     team          2612        62745       10   \n",
       "25                1      top          2436        16027       17   \n",
       "26                6      top          2436        19532       12   \n",
       "29                2      jng          2436        14237       18   \n",
       "30                7      jng          2436        11893       13   \n",
       "33                3      mid          2436        20369       19   \n",
       "34                8      mid          2436        16630       14   \n",
       "37                4      bot          2436        19563       20   \n",
       "38                9      bot          2436        20103       15   \n",
       "\n",
       "                                   teamid_y  participantid_y  gamelength_y   \n",
       "1   oe:team:14ad76b8d9e647d4b29c3d26ecd29c9                6          2612  \\\n",
       "2   oe:team:0ade5e44c23039bca133eee58ec1b83                1          2612   \n",
       "5   oe:team:14ad76b8d9e647d4b29c3d26ecd29c9                7          2612   \n",
       "6   oe:team:0ade5e44c23039bca133eee58ec1b83                2          2612   \n",
       "9   oe:team:14ad76b8d9e647d4b29c3d26ecd29c9                8          2612   \n",
       "10  oe:team:0ade5e44c23039bca133eee58ec1b83                3          2612   \n",
       "13  oe:team:14ad76b8d9e647d4b29c3d26ecd29c9                9          2612   \n",
       "14  oe:team:0ade5e44c23039bca133eee58ec1b83                4          2612   \n",
       "17  oe:team:14ad76b8d9e647d4b29c3d26ecd29c9               10          2612   \n",
       "18  oe:team:0ade5e44c23039bca133eee58ec1b83                5          2612   \n",
       "21  oe:team:14ad76b8d9e647d4b29c3d26ecd29c9              200          2612   \n",
       "22  oe:team:0ade5e44c23039bca133eee58ec1b83              100          2612   \n",
       "25  oe:team:2d9e95ecefb34c32ff1a997ebe372f9                6          2436   \n",
       "26  oe:team:607baf04091e515e195644cb08ec21c                1          2436   \n",
       "29  oe:team:2d9e95ecefb34c32ff1a997ebe372f9                7          2436   \n",
       "30  oe:team:607baf04091e515e195644cb08ec21c                2          2436   \n",
       "33  oe:team:2d9e95ecefb34c32ff1a997ebe372f9                8          2436   \n",
       "34  oe:team:607baf04091e515e195644cb08ec21c                3          2436   \n",
       "37  oe:team:2d9e95ecefb34c32ff1a997ebe372f9                9          2436   \n",
       "38  oe:team:607baf04091e515e195644cb08ec21c                4          2436   \n",
       "\n",
       "    totalgold_y  \n",
       "1         11796  \n",
       "2         18855  \n",
       "5         11711  \n",
       "6         12082  \n",
       "9         14129  \n",
       "10        15722  \n",
       "13        16823  \n",
       "14        17332  \n",
       "17         8286  \n",
       "18         8816  \n",
       "21        62745  \n",
       "22        72807  \n",
       "25        19532  \n",
       "26        16027  \n",
       "29        11893  \n",
       "30        14237  \n",
       "33        16630  \n",
       "34        20369  \n",
       "37        20103  \n",
       "38        19563  "
      ]
     },
     "execution_count": 4,
     "metadata": {},
     "output_type": "execute_result"
    }
   ],
   "source": [
    "columns = [\n",
    "    \"index\",\n",
    "    \"gameid\",\n",
    "    \"teamid\",\n",
    "    \"participantid\",\n",
    "    \"position\",\n",
    "    \"gamelength\",\n",
    "    \"totalgold\",\n",
    "]\n",
    "merged = pd.merge(\n",
    "    matches_data[columns],\n",
    "    matches_data[columns],\n",
    "    on=[\"gameid\", \"position\"],\n",
    "    how=\"inner\",\n",
    ")\n",
    "merged = merged.loc[merged[\"participantid_x\"] != merged[\"participantid_y\"]]\n",
    "merged.head(20)"
   ]
  },
  {
   "cell_type": "code",
   "execution_count": 5,
   "metadata": {},
   "outputs": [
    {
     "data": {
      "text/plain": [
       "0        162.151608\n",
       "1          8.522205\n",
       "2         36.592649\n",
       "3         11.692190\n",
       "4         12.174579\n",
       "            ...    \n",
       "74827    135.205748\n",
       "74828    -60.548661\n",
       "74829     63.723057\n",
       "74830   -396.721097\n",
       "74831    396.721097\n",
       "Name: gdpm, Length: 74832, dtype: float64"
      ]
     },
     "execution_count": 5,
     "metadata": {},
     "output_type": "execute_result"
    }
   ],
   "source": [
    "matches_data[\"gdpm\"] = 0\n",
    "for row in merged.itertuples():\n",
    "    gdpm = (row.totalgold_x - row.totalgold_y) / (row.gamelength_x / 60)\n",
    "    matches_data.loc[row.index_x, \"gdpm\"] = gdpm\n",
    "    matches_data.loc[row.index_y, \"gdpm\"] = -gdpm\n",
    "matches_data[\"gdpm\"]"
   ]
  },
  {
   "cell_type": "code",
   "execution_count": 6,
   "metadata": {},
   "outputs": [
    {
     "data": {
      "text/html": [
       "<div>\n",
       "<style scoped>\n",
       "    .dataframe tbody tr th:only-of-type {\n",
       "        vertical-align: middle;\n",
       "    }\n",
       "\n",
       "    .dataframe tbody tr th {\n",
       "        vertical-align: top;\n",
       "    }\n",
       "\n",
       "    .dataframe thead th {\n",
       "        text-align: right;\n",
       "    }\n",
       "</style>\n",
       "<table border=\"1\" class=\"dataframe\">\n",
       "  <thead>\n",
       "    <tr style=\"text-align: right;\">\n",
       "      <th></th>\n",
       "      <th>index_x</th>\n",
       "      <th>gameid</th>\n",
       "      <th>position_x</th>\n",
       "      <th>playername_x</th>\n",
       "      <th>teamname</th>\n",
       "      <th>totalgold_x</th>\n",
       "      <th>index_y</th>\n",
       "      <th>position_y</th>\n",
       "      <th>playername_y</th>\n",
       "      <th>totalgold_y</th>\n",
       "      <th>goldshare</th>\n",
       "    </tr>\n",
       "  </thead>\n",
       "  <tbody>\n",
       "    <tr>\n",
       "      <th>5</th>\n",
       "      <td>0</td>\n",
       "      <td>ESPORTSTMNT06_2753012</td>\n",
       "      <td>top</td>\n",
       "      <td>Wylenz</td>\n",
       "      <td>Klanik Esport</td>\n",
       "      <td>18855</td>\n",
       "      <td>10</td>\n",
       "      <td>team</td>\n",
       "      <td>NaN</td>\n",
       "      <td>72807</td>\n",
       "      <td>0.258972</td>\n",
       "    </tr>\n",
       "    <tr>\n",
       "      <th>11</th>\n",
       "      <td>1</td>\n",
       "      <td>ESPORTSTMNT06_2753012</td>\n",
       "      <td>jng</td>\n",
       "      <td>Julbu</td>\n",
       "      <td>Klanik Esport</td>\n",
       "      <td>12082</td>\n",
       "      <td>10</td>\n",
       "      <td>team</td>\n",
       "      <td>NaN</td>\n",
       "      <td>72807</td>\n",
       "      <td>0.165946</td>\n",
       "    </tr>\n",
       "    <tr>\n",
       "      <th>17</th>\n",
       "      <td>2</td>\n",
       "      <td>ESPORTSTMNT06_2753012</td>\n",
       "      <td>mid</td>\n",
       "      <td>Sintax</td>\n",
       "      <td>Klanik Esport</td>\n",
       "      <td>15722</td>\n",
       "      <td>10</td>\n",
       "      <td>team</td>\n",
       "      <td>NaN</td>\n",
       "      <td>72807</td>\n",
       "      <td>0.215941</td>\n",
       "    </tr>\n",
       "    <tr>\n",
       "      <th>23</th>\n",
       "      <td>3</td>\n",
       "      <td>ESPORTSTMNT06_2753012</td>\n",
       "      <td>bot</td>\n",
       "      <td>Axelent</td>\n",
       "      <td>Klanik Esport</td>\n",
       "      <td>17332</td>\n",
       "      <td>10</td>\n",
       "      <td>team</td>\n",
       "      <td>NaN</td>\n",
       "      <td>72807</td>\n",
       "      <td>0.238054</td>\n",
       "    </tr>\n",
       "    <tr>\n",
       "      <th>29</th>\n",
       "      <td>4</td>\n",
       "      <td>ESPORTSTMNT06_2753012</td>\n",
       "      <td>sup</td>\n",
       "      <td>Wixo</td>\n",
       "      <td>Klanik Esport</td>\n",
       "      <td>8816</td>\n",
       "      <td>10</td>\n",
       "      <td>team</td>\n",
       "      <td>NaN</td>\n",
       "      <td>72807</td>\n",
       "      <td>0.121087</td>\n",
       "    </tr>\n",
       "    <tr>\n",
       "      <th>35</th>\n",
       "      <td>10</td>\n",
       "      <td>ESPORTSTMNT06_2753012</td>\n",
       "      <td>team</td>\n",
       "      <td>NaN</td>\n",
       "      <td>Klanik Esport</td>\n",
       "      <td>72807</td>\n",
       "      <td>10</td>\n",
       "      <td>team</td>\n",
       "      <td>NaN</td>\n",
       "      <td>72807</td>\n",
       "      <td>1.000000</td>\n",
       "    </tr>\n",
       "    <tr>\n",
       "      <th>41</th>\n",
       "      <td>5</td>\n",
       "      <td>ESPORTSTMNT06_2753012</td>\n",
       "      <td>top</td>\n",
       "      <td>Anathar</td>\n",
       "      <td>MS Company</td>\n",
       "      <td>11796</td>\n",
       "      <td>11</td>\n",
       "      <td>team</td>\n",
       "      <td>NaN</td>\n",
       "      <td>62745</td>\n",
       "      <td>0.187999</td>\n",
       "    </tr>\n",
       "    <tr>\n",
       "      <th>47</th>\n",
       "      <td>6</td>\n",
       "      <td>ESPORTSTMNT06_2753012</td>\n",
       "      <td>jng</td>\n",
       "      <td>nicolaiy</td>\n",
       "      <td>MS Company</td>\n",
       "      <td>11711</td>\n",
       "      <td>11</td>\n",
       "      <td>team</td>\n",
       "      <td>NaN</td>\n",
       "      <td>62745</td>\n",
       "      <td>0.186644</td>\n",
       "    </tr>\n",
       "    <tr>\n",
       "      <th>53</th>\n",
       "      <td>7</td>\n",
       "      <td>ESPORTSTMNT06_2753012</td>\n",
       "      <td>mid</td>\n",
       "      <td>Kuroneel</td>\n",
       "      <td>MS Company</td>\n",
       "      <td>14129</td>\n",
       "      <td>11</td>\n",
       "      <td>team</td>\n",
       "      <td>NaN</td>\n",
       "      <td>62745</td>\n",
       "      <td>0.225181</td>\n",
       "    </tr>\n",
       "    <tr>\n",
       "      <th>59</th>\n",
       "      <td>8</td>\n",
       "      <td>ESPORTSTMNT06_2753012</td>\n",
       "      <td>bot</td>\n",
       "      <td>Scripter</td>\n",
       "      <td>MS Company</td>\n",
       "      <td>16823</td>\n",
       "      <td>11</td>\n",
       "      <td>team</td>\n",
       "      <td>NaN</td>\n",
       "      <td>62745</td>\n",
       "      <td>0.268117</td>\n",
       "    </tr>\n",
       "  </tbody>\n",
       "</table>\n",
       "</div>"
      ],
      "text/plain": [
       "    index_x                 gameid position_x playername_x       teamname   \n",
       "5         0  ESPORTSTMNT06_2753012        top       Wylenz  Klanik Esport  \\\n",
       "11        1  ESPORTSTMNT06_2753012        jng        Julbu  Klanik Esport   \n",
       "17        2  ESPORTSTMNT06_2753012        mid       Sintax  Klanik Esport   \n",
       "23        3  ESPORTSTMNT06_2753012        bot      Axelent  Klanik Esport   \n",
       "29        4  ESPORTSTMNT06_2753012        sup         Wixo  Klanik Esport   \n",
       "35       10  ESPORTSTMNT06_2753012       team          NaN  Klanik Esport   \n",
       "41        5  ESPORTSTMNT06_2753012        top      Anathar     MS Company   \n",
       "47        6  ESPORTSTMNT06_2753012        jng     nicolaiy     MS Company   \n",
       "53        7  ESPORTSTMNT06_2753012        mid     Kuroneel     MS Company   \n",
       "59        8  ESPORTSTMNT06_2753012        bot     Scripter     MS Company   \n",
       "\n",
       "    totalgold_x  index_y position_y playername_y  totalgold_y  goldshare  \n",
       "5         18855       10       team          NaN        72807   0.258972  \n",
       "11        12082       10       team          NaN        72807   0.165946  \n",
       "17        15722       10       team          NaN        72807   0.215941  \n",
       "23        17332       10       team          NaN        72807   0.238054  \n",
       "29         8816       10       team          NaN        72807   0.121087  \n",
       "35        72807       10       team          NaN        72807   1.000000  \n",
       "41        11796       11       team          NaN        62745   0.187999  \n",
       "47        11711       11       team          NaN        62745   0.186644  \n",
       "53        14129       11       team          NaN        62745   0.225181  \n",
       "59        16823       11       team          NaN        62745   0.268117  "
      ]
     },
     "execution_count": 6,
     "metadata": {},
     "output_type": "execute_result"
    }
   ],
   "source": [
    "columns = [\"index\", \"gameid\", \"position\", \"playername\", \"teamname\", \"totalgold\"]\n",
    "merged = pd.merge(\n",
    "    matches_data[columns], matches_data[columns], how=\"inner\", on=[\"gameid\", \"teamname\"]\n",
    ")\n",
    "merged = merged.loc[merged[\"position_y\"] == \"team\"]\n",
    "merged[\"goldshare\"] = merged[\"totalgold_x\"].divide(merged[\"totalgold_y\"])\n",
    "merged.head(10)"
   ]
  },
  {
   "cell_type": "code",
   "execution_count": 7,
   "metadata": {},
   "outputs": [],
   "source": [
    "for row in merged.itertuples():\n",
    "    matches_data.loc[row.index_x, \"goldshare\"] = row.goldshare"
   ]
  },
  {
   "cell_type": "code",
   "execution_count": 8,
   "metadata": {},
   "outputs": [
    {
     "data": {
      "text/plain": [
       "Index(['index', 'gameid', 'datacompleteness', 'url', 'league', 'year', 'split',\n",
       "       'playoffs', 'date', 'game',\n",
       "       ...\n",
       "       'assistsat15', 'deathsat15', 'opp_killsat15', 'opp_assistsat15',\n",
       "       'opp_deathsat15', 'kda', 'kd', 'gpm', 'gdpm', 'goldshare'],\n",
       "      dtype='object', length=129)"
      ]
     },
     "execution_count": 8,
     "metadata": {},
     "output_type": "execute_result"
    }
   ],
   "source": [
    "matches_data.columns"
   ]
  },
  {
   "cell_type": "code",
   "execution_count": 9,
   "metadata": {},
   "outputs": [
    {
     "data": {
      "text/html": [
       "<div>\n",
       "<style scoped>\n",
       "    .dataframe tbody tr th:only-of-type {\n",
       "        vertical-align: middle;\n",
       "    }\n",
       "\n",
       "    .dataframe tbody tr th {\n",
       "        vertical-align: top;\n",
       "    }\n",
       "\n",
       "    .dataframe thead th {\n",
       "        text-align: right;\n",
       "    }\n",
       "</style>\n",
       "<table border=\"1\" class=\"dataframe\">\n",
       "  <thead>\n",
       "    <tr style=\"text-align: right;\">\n",
       "      <th></th>\n",
       "      <th>index</th>\n",
       "      <th>gameid</th>\n",
       "      <th>datacompleteness</th>\n",
       "      <th>url</th>\n",
       "      <th>league</th>\n",
       "      <th>year</th>\n",
       "      <th>split</th>\n",
       "      <th>playoffs</th>\n",
       "      <th>date</th>\n",
       "      <th>game</th>\n",
       "      <th>patch</th>\n",
       "      <th>participantid</th>\n",
       "      <th>side</th>\n",
       "      <th>position</th>\n",
       "      <th>playername</th>\n",
       "      <th>playerid</th>\n",
       "      <th>teamname</th>\n",
       "      <th>teamid</th>\n",
       "      <th>champion</th>\n",
       "      <th>ban1</th>\n",
       "      <th>ban2</th>\n",
       "      <th>ban3</th>\n",
       "      <th>ban4</th>\n",
       "      <th>ban5</th>\n",
       "      <th>gamelength</th>\n",
       "      <th>result</th>\n",
       "      <th>kills</th>\n",
       "      <th>deaths</th>\n",
       "      <th>assists</th>\n",
       "      <th>teamkills</th>\n",
       "      <th>teamdeaths</th>\n",
       "      <th>doublekills</th>\n",
       "      <th>triplekills</th>\n",
       "      <th>quadrakills</th>\n",
       "      <th>pentakills</th>\n",
       "      <th>firstblood</th>\n",
       "      <th>firstbloodkill</th>\n",
       "      <th>firstbloodassist</th>\n",
       "      <th>firstbloodvictim</th>\n",
       "      <th>team kpm</th>\n",
       "      <th>ckpm</th>\n",
       "      <th>firstdragon</th>\n",
       "      <th>dragons</th>\n",
       "      <th>opp_dragons</th>\n",
       "      <th>elementaldrakes</th>\n",
       "      <th>opp_elementaldrakes</th>\n",
       "      <th>infernals</th>\n",
       "      <th>mountains</th>\n",
       "      <th>clouds</th>\n",
       "      <th>oceans</th>\n",
       "      <th>chemtechs</th>\n",
       "      <th>hextechs</th>\n",
       "      <th>dragons (type unknown)</th>\n",
       "      <th>elders</th>\n",
       "      <th>opp_elders</th>\n",
       "      <th>firstherald</th>\n",
       "      <th>heralds</th>\n",
       "      <th>opp_heralds</th>\n",
       "      <th>firstbaron</th>\n",
       "      <th>barons</th>\n",
       "      <th>opp_barons</th>\n",
       "      <th>firsttower</th>\n",
       "      <th>towers</th>\n",
       "      <th>opp_towers</th>\n",
       "      <th>firstmidtower</th>\n",
       "      <th>firsttothreetowers</th>\n",
       "      <th>turretplates</th>\n",
       "      <th>opp_turretplates</th>\n",
       "      <th>inhibitors</th>\n",
       "      <th>opp_inhibitors</th>\n",
       "      <th>damagetochampions</th>\n",
       "      <th>dpm</th>\n",
       "      <th>damageshare</th>\n",
       "      <th>damagetakenperminute</th>\n",
       "      <th>damagemitigatedperminute</th>\n",
       "      <th>wardsplaced</th>\n",
       "      <th>wpm</th>\n",
       "      <th>wardskilled</th>\n",
       "      <th>wcpm</th>\n",
       "      <th>controlwardsbought</th>\n",
       "      <th>visionscore</th>\n",
       "      <th>vspm</th>\n",
       "      <th>totalgold</th>\n",
       "      <th>earnedgold</th>\n",
       "      <th>earned gpm</th>\n",
       "      <th>earnedgoldshare</th>\n",
       "      <th>goldspent</th>\n",
       "      <th>gspd</th>\n",
       "      <th>total cs</th>\n",
       "      <th>minionkills</th>\n",
       "      <th>monsterkills</th>\n",
       "      <th>monsterkillsownjungle</th>\n",
       "      <th>monsterkillsenemyjungle</th>\n",
       "      <th>cspm</th>\n",
       "      <th>goldat10</th>\n",
       "      <th>xpat10</th>\n",
       "      <th>csat10</th>\n",
       "      <th>opp_goldat10</th>\n",
       "      <th>opp_xpat10</th>\n",
       "      <th>opp_csat10</th>\n",
       "      <th>golddiffat10</th>\n",
       "      <th>xpdiffat10</th>\n",
       "      <th>csdiffat10</th>\n",
       "      <th>killsat10</th>\n",
       "      <th>assistsat10</th>\n",
       "      <th>deathsat10</th>\n",
       "      <th>opp_killsat10</th>\n",
       "      <th>opp_assistsat10</th>\n",
       "      <th>opp_deathsat10</th>\n",
       "      <th>goldat15</th>\n",
       "      <th>xpat15</th>\n",
       "      <th>csat15</th>\n",
       "      <th>opp_goldat15</th>\n",
       "      <th>opp_xpat15</th>\n",
       "      <th>opp_csat15</th>\n",
       "      <th>golddiffat15</th>\n",
       "      <th>xpdiffat15</th>\n",
       "      <th>csdiffat15</th>\n",
       "      <th>killsat15</th>\n",
       "      <th>assistsat15</th>\n",
       "      <th>deathsat15</th>\n",
       "      <th>opp_killsat15</th>\n",
       "      <th>opp_assistsat15</th>\n",
       "      <th>opp_deathsat15</th>\n",
       "      <th>kda</th>\n",
       "      <th>kd</th>\n",
       "      <th>gpm</th>\n",
       "      <th>gdpm</th>\n",
       "      <th>goldshare</th>\n",
       "    </tr>\n",
       "  </thead>\n",
       "  <tbody>\n",
       "    <tr>\n",
       "      <th>0</th>\n",
       "      <td>0</td>\n",
       "      <td>ESPORTSTMNT06_2753012</td>\n",
       "      <td>complete</td>\n",
       "      <td>NaN</td>\n",
       "      <td>LFL2</td>\n",
       "      <td>2023</td>\n",
       "      <td>Spring</td>\n",
       "      <td>0</td>\n",
       "      <td>2023-01-10 17:07:16</td>\n",
       "      <td>1</td>\n",
       "      <td>13.01</td>\n",
       "      <td>1</td>\n",
       "      <td>Blue</td>\n",
       "      <td>top</td>\n",
       "      <td>Wylenz</td>\n",
       "      <td>oe:player:60aff1184bec1d2b2efdae84f5b6e3e</td>\n",
       "      <td>Klanik Esport</td>\n",
       "      <td>oe:team:0ade5e44c23039bca133eee58ec1b83</td>\n",
       "      <td>Jax</td>\n",
       "      <td>Sylas</td>\n",
       "      <td>Caitlyn</td>\n",
       "      <td>Wukong</td>\n",
       "      <td>Akali</td>\n",
       "      <td>Yone</td>\n",
       "      <td>2612</td>\n",
       "      <td>1</td>\n",
       "      <td>4</td>\n",
       "      <td>0</td>\n",
       "      <td>6</td>\n",
       "      <td>13</td>\n",
       "      <td>7</td>\n",
       "      <td>1.0</td>\n",
       "      <td>1.0</td>\n",
       "      <td>0.0</td>\n",
       "      <td>0.0</td>\n",
       "      <td>0.0</td>\n",
       "      <td>0.0</td>\n",
       "      <td>0.0</td>\n",
       "      <td>0.0</td>\n",
       "      <td>0.2986</td>\n",
       "      <td>0.4594</td>\n",
       "      <td>NaN</td>\n",
       "      <td>NaN</td>\n",
       "      <td>NaN</td>\n",
       "      <td>NaN</td>\n",
       "      <td>NaN</td>\n",
       "      <td>NaN</td>\n",
       "      <td>NaN</td>\n",
       "      <td>NaN</td>\n",
       "      <td>NaN</td>\n",
       "      <td>NaN</td>\n",
       "      <td>NaN</td>\n",
       "      <td>NaN</td>\n",
       "      <td>NaN</td>\n",
       "      <td>NaN</td>\n",
       "      <td>NaN</td>\n",
       "      <td>NaN</td>\n",
       "      <td>NaN</td>\n",
       "      <td>NaN</td>\n",
       "      <td>0.0</td>\n",
       "      <td>0.0</td>\n",
       "      <td>NaN</td>\n",
       "      <td>NaN</td>\n",
       "      <td>NaN</td>\n",
       "      <td>NaN</td>\n",
       "      <td>NaN</td>\n",
       "      <td>NaN</td>\n",
       "      <td>NaN</td>\n",
       "      <td>1.0</td>\n",
       "      <td>0.0</td>\n",
       "      <td>14283</td>\n",
       "      <td>328.0934</td>\n",
       "      <td>0.150027</td>\n",
       "      <td>719.5406</td>\n",
       "      <td>878.9127</td>\n",
       "      <td>20</td>\n",
       "      <td>0.4594</td>\n",
       "      <td>5</td>\n",
       "      <td>0.1149</td>\n",
       "      <td>11</td>\n",
       "      <td>49</td>\n",
       "      <td>1.1256</td>\n",
       "      <td>18855</td>\n",
       "      <td>13251</td>\n",
       "      <td>304.3874</td>\n",
       "      <td>0.295868</td>\n",
       "      <td>15955</td>\n",
       "      <td>NaN</td>\n",
       "      <td>399.0</td>\n",
       "      <td>367.0</td>\n",
       "      <td>32</td>\n",
       "      <td>NaN</td>\n",
       "      <td>NaN</td>\n",
       "      <td>9.1654</td>\n",
       "      <td>3163.0</td>\n",
       "      <td>4772.0</td>\n",
       "      <td>83.0</td>\n",
       "      <td>3087.0</td>\n",
       "      <td>4814.0</td>\n",
       "      <td>81.0</td>\n",
       "      <td>76.0</td>\n",
       "      <td>-42.0</td>\n",
       "      <td>2.0</td>\n",
       "      <td>0.0</td>\n",
       "      <td>0.0</td>\n",
       "      <td>0.0</td>\n",
       "      <td>0.0</td>\n",
       "      <td>0.0</td>\n",
       "      <td>0.0</td>\n",
       "      <td>5059.0</td>\n",
       "      <td>7946.0</td>\n",
       "      <td>143.0</td>\n",
       "      <td>4737.0</td>\n",
       "      <td>7683.0</td>\n",
       "      <td>131.0</td>\n",
       "      <td>322.0</td>\n",
       "      <td>263.0</td>\n",
       "      <td>12.0</td>\n",
       "      <td>0.0</td>\n",
       "      <td>0.0</td>\n",
       "      <td>0.0</td>\n",
       "      <td>0.0</td>\n",
       "      <td>0.0</td>\n",
       "      <td>0.0</td>\n",
       "      <td>inf</td>\n",
       "      <td>inf</td>\n",
       "      <td>433.116386</td>\n",
       "      <td>162.151608</td>\n",
       "      <td>0.258972</td>\n",
       "    </tr>\n",
       "    <tr>\n",
       "      <th>1</th>\n",
       "      <td>1</td>\n",
       "      <td>ESPORTSTMNT06_2753012</td>\n",
       "      <td>complete</td>\n",
       "      <td>NaN</td>\n",
       "      <td>LFL2</td>\n",
       "      <td>2023</td>\n",
       "      <td>Spring</td>\n",
       "      <td>0</td>\n",
       "      <td>2023-01-10 17:07:16</td>\n",
       "      <td>1</td>\n",
       "      <td>13.01</td>\n",
       "      <td>2</td>\n",
       "      <td>Blue</td>\n",
       "      <td>jng</td>\n",
       "      <td>Julbu</td>\n",
       "      <td>oe:player:fd78e127e45463dcfc2ea3836af0335</td>\n",
       "      <td>Klanik Esport</td>\n",
       "      <td>oe:team:0ade5e44c23039bca133eee58ec1b83</td>\n",
       "      <td>Poppy</td>\n",
       "      <td>Sylas</td>\n",
       "      <td>Caitlyn</td>\n",
       "      <td>Wukong</td>\n",
       "      <td>Akali</td>\n",
       "      <td>Yone</td>\n",
       "      <td>2612</td>\n",
       "      <td>1</td>\n",
       "      <td>2</td>\n",
       "      <td>2</td>\n",
       "      <td>4</td>\n",
       "      <td>13</td>\n",
       "      <td>7</td>\n",
       "      <td>0.0</td>\n",
       "      <td>0.0</td>\n",
       "      <td>0.0</td>\n",
       "      <td>0.0</td>\n",
       "      <td>0.0</td>\n",
       "      <td>0.0</td>\n",
       "      <td>0.0</td>\n",
       "      <td>0.0</td>\n",
       "      <td>0.2986</td>\n",
       "      <td>0.4594</td>\n",
       "      <td>NaN</td>\n",
       "      <td>NaN</td>\n",
       "      <td>NaN</td>\n",
       "      <td>NaN</td>\n",
       "      <td>NaN</td>\n",
       "      <td>NaN</td>\n",
       "      <td>NaN</td>\n",
       "      <td>NaN</td>\n",
       "      <td>NaN</td>\n",
       "      <td>NaN</td>\n",
       "      <td>NaN</td>\n",
       "      <td>NaN</td>\n",
       "      <td>NaN</td>\n",
       "      <td>NaN</td>\n",
       "      <td>NaN</td>\n",
       "      <td>NaN</td>\n",
       "      <td>NaN</td>\n",
       "      <td>NaN</td>\n",
       "      <td>1.0</td>\n",
       "      <td>0.0</td>\n",
       "      <td>NaN</td>\n",
       "      <td>NaN</td>\n",
       "      <td>NaN</td>\n",
       "      <td>NaN</td>\n",
       "      <td>NaN</td>\n",
       "      <td>NaN</td>\n",
       "      <td>NaN</td>\n",
       "      <td>0.0</td>\n",
       "      <td>0.0</td>\n",
       "      <td>6219</td>\n",
       "      <td>142.8560</td>\n",
       "      <td>0.065324</td>\n",
       "      <td>847.3047</td>\n",
       "      <td>1513.9663</td>\n",
       "      <td>18</td>\n",
       "      <td>0.4135</td>\n",
       "      <td>11</td>\n",
       "      <td>0.2527</td>\n",
       "      <td>17</td>\n",
       "      <td>61</td>\n",
       "      <td>1.4012</td>\n",
       "      <td>12082</td>\n",
       "      <td>6478</td>\n",
       "      <td>148.8055</td>\n",
       "      <td>0.144640</td>\n",
       "      <td>11675</td>\n",
       "      <td>NaN</td>\n",
       "      <td>159.0</td>\n",
       "      <td>23.0</td>\n",
       "      <td>136</td>\n",
       "      <td>NaN</td>\n",
       "      <td>NaN</td>\n",
       "      <td>3.6524</td>\n",
       "      <td>3035.0</td>\n",
       "      <td>3302.0</td>\n",
       "      <td>54.0</td>\n",
       "      <td>2948.0</td>\n",
       "      <td>3140.0</td>\n",
       "      <td>66.0</td>\n",
       "      <td>87.0</td>\n",
       "      <td>162.0</td>\n",
       "      <td>-12.0</td>\n",
       "      <td>0.0</td>\n",
       "      <td>0.0</td>\n",
       "      <td>0.0</td>\n",
       "      <td>0.0</td>\n",
       "      <td>0.0</td>\n",
       "      <td>0.0</td>\n",
       "      <td>4325.0</td>\n",
       "      <td>4637.0</td>\n",
       "      <td>74.0</td>\n",
       "      <td>4682.0</td>\n",
       "      <td>5960.0</td>\n",
       "      <td>117.0</td>\n",
       "      <td>-357.0</td>\n",
       "      <td>-1323.0</td>\n",
       "      <td>-43.0</td>\n",
       "      <td>0.0</td>\n",
       "      <td>0.0</td>\n",
       "      <td>0.0</td>\n",
       "      <td>0.0</td>\n",
       "      <td>0.0</td>\n",
       "      <td>0.0</td>\n",
       "      <td>3.0</td>\n",
       "      <td>1.0</td>\n",
       "      <td>277.534456</td>\n",
       "      <td>8.522205</td>\n",
       "      <td>0.165946</td>\n",
       "    </tr>\n",
       "    <tr>\n",
       "      <th>2</th>\n",
       "      <td>2</td>\n",
       "      <td>ESPORTSTMNT06_2753012</td>\n",
       "      <td>complete</td>\n",
       "      <td>NaN</td>\n",
       "      <td>LFL2</td>\n",
       "      <td>2023</td>\n",
       "      <td>Spring</td>\n",
       "      <td>0</td>\n",
       "      <td>2023-01-10 17:07:16</td>\n",
       "      <td>1</td>\n",
       "      <td>13.01</td>\n",
       "      <td>3</td>\n",
       "      <td>Blue</td>\n",
       "      <td>mid</td>\n",
       "      <td>Sintax</td>\n",
       "      <td>oe:player:baf7147fedeec5de54ca1f240952a3f</td>\n",
       "      <td>Klanik Esport</td>\n",
       "      <td>oe:team:0ade5e44c23039bca133eee58ec1b83</td>\n",
       "      <td>Taliyah</td>\n",
       "      <td>Sylas</td>\n",
       "      <td>Caitlyn</td>\n",
       "      <td>Wukong</td>\n",
       "      <td>Akali</td>\n",
       "      <td>Yone</td>\n",
       "      <td>2612</td>\n",
       "      <td>1</td>\n",
       "      <td>2</td>\n",
       "      <td>2</td>\n",
       "      <td>11</td>\n",
       "      <td>13</td>\n",
       "      <td>7</td>\n",
       "      <td>0.0</td>\n",
       "      <td>0.0</td>\n",
       "      <td>0.0</td>\n",
       "      <td>0.0</td>\n",
       "      <td>0.0</td>\n",
       "      <td>0.0</td>\n",
       "      <td>0.0</td>\n",
       "      <td>0.0</td>\n",
       "      <td>0.2986</td>\n",
       "      <td>0.4594</td>\n",
       "      <td>NaN</td>\n",
       "      <td>NaN</td>\n",
       "      <td>NaN</td>\n",
       "      <td>NaN</td>\n",
       "      <td>NaN</td>\n",
       "      <td>NaN</td>\n",
       "      <td>NaN</td>\n",
       "      <td>NaN</td>\n",
       "      <td>NaN</td>\n",
       "      <td>NaN</td>\n",
       "      <td>NaN</td>\n",
       "      <td>NaN</td>\n",
       "      <td>NaN</td>\n",
       "      <td>NaN</td>\n",
       "      <td>NaN</td>\n",
       "      <td>NaN</td>\n",
       "      <td>NaN</td>\n",
       "      <td>NaN</td>\n",
       "      <td>0.0</td>\n",
       "      <td>0.0</td>\n",
       "      <td>NaN</td>\n",
       "      <td>NaN</td>\n",
       "      <td>NaN</td>\n",
       "      <td>NaN</td>\n",
       "      <td>NaN</td>\n",
       "      <td>NaN</td>\n",
       "      <td>NaN</td>\n",
       "      <td>0.0</td>\n",
       "      <td>0.0</td>\n",
       "      <td>27028</td>\n",
       "      <td>620.8576</td>\n",
       "      <td>0.283899</td>\n",
       "      <td>365.3522</td>\n",
       "      <td>323.7289</td>\n",
       "      <td>23</td>\n",
       "      <td>0.5283</td>\n",
       "      <td>10</td>\n",
       "      <td>0.2297</td>\n",
       "      <td>7</td>\n",
       "      <td>49</td>\n",
       "      <td>1.1256</td>\n",
       "      <td>15722</td>\n",
       "      <td>10118</td>\n",
       "      <td>232.4196</td>\n",
       "      <td>0.225914</td>\n",
       "      <td>14525</td>\n",
       "      <td>NaN</td>\n",
       "      <td>337.0</td>\n",
       "      <td>287.0</td>\n",
       "      <td>50</td>\n",
       "      <td>NaN</td>\n",
       "      <td>NaN</td>\n",
       "      <td>7.7412</td>\n",
       "      <td>3117.0</td>\n",
       "      <td>4927.0</td>\n",
       "      <td>85.0</td>\n",
       "      <td>3455.0</td>\n",
       "      <td>5174.0</td>\n",
       "      <td>103.0</td>\n",
       "      <td>-338.0</td>\n",
       "      <td>-247.0</td>\n",
       "      <td>-18.0</td>\n",
       "      <td>0.0</td>\n",
       "      <td>0.0</td>\n",
       "      <td>0.0</td>\n",
       "      <td>0.0</td>\n",
       "      <td>0.0</td>\n",
       "      <td>0.0</td>\n",
       "      <td>4956.0</td>\n",
       "      <td>7772.0</td>\n",
       "      <td>136.0</td>\n",
       "      <td>5435.0</td>\n",
       "      <td>8096.0</td>\n",
       "      <td>162.0</td>\n",
       "      <td>-479.0</td>\n",
       "      <td>-324.0</td>\n",
       "      <td>-26.0</td>\n",
       "      <td>0.0</td>\n",
       "      <td>0.0</td>\n",
       "      <td>0.0</td>\n",
       "      <td>0.0</td>\n",
       "      <td>0.0</td>\n",
       "      <td>0.0</td>\n",
       "      <td>6.5</td>\n",
       "      <td>1.0</td>\n",
       "      <td>361.148545</td>\n",
       "      <td>36.592649</td>\n",
       "      <td>0.215941</td>\n",
       "    </tr>\n",
       "    <tr>\n",
       "      <th>3</th>\n",
       "      <td>3</td>\n",
       "      <td>ESPORTSTMNT06_2753012</td>\n",
       "      <td>complete</td>\n",
       "      <td>NaN</td>\n",
       "      <td>LFL2</td>\n",
       "      <td>2023</td>\n",
       "      <td>Spring</td>\n",
       "      <td>0</td>\n",
       "      <td>2023-01-10 17:07:16</td>\n",
       "      <td>1</td>\n",
       "      <td>13.01</td>\n",
       "      <td>4</td>\n",
       "      <td>Blue</td>\n",
       "      <td>bot</td>\n",
       "      <td>Axelent</td>\n",
       "      <td>oe:player:8204ca38dc1c42012b5d53131271eb1</td>\n",
       "      <td>Klanik Esport</td>\n",
       "      <td>oe:team:0ade5e44c23039bca133eee58ec1b83</td>\n",
       "      <td>Ezreal</td>\n",
       "      <td>Sylas</td>\n",
       "      <td>Caitlyn</td>\n",
       "      <td>Wukong</td>\n",
       "      <td>Akali</td>\n",
       "      <td>Yone</td>\n",
       "      <td>2612</td>\n",
       "      <td>1</td>\n",
       "      <td>5</td>\n",
       "      <td>1</td>\n",
       "      <td>7</td>\n",
       "      <td>13</td>\n",
       "      <td>7</td>\n",
       "      <td>0.0</td>\n",
       "      <td>0.0</td>\n",
       "      <td>0.0</td>\n",
       "      <td>0.0</td>\n",
       "      <td>0.0</td>\n",
       "      <td>0.0</td>\n",
       "      <td>0.0</td>\n",
       "      <td>0.0</td>\n",
       "      <td>0.2986</td>\n",
       "      <td>0.4594</td>\n",
       "      <td>NaN</td>\n",
       "      <td>NaN</td>\n",
       "      <td>NaN</td>\n",
       "      <td>NaN</td>\n",
       "      <td>NaN</td>\n",
       "      <td>NaN</td>\n",
       "      <td>NaN</td>\n",
       "      <td>NaN</td>\n",
       "      <td>NaN</td>\n",
       "      <td>NaN</td>\n",
       "      <td>NaN</td>\n",
       "      <td>NaN</td>\n",
       "      <td>NaN</td>\n",
       "      <td>NaN</td>\n",
       "      <td>NaN</td>\n",
       "      <td>NaN</td>\n",
       "      <td>NaN</td>\n",
       "      <td>NaN</td>\n",
       "      <td>0.0</td>\n",
       "      <td>0.0</td>\n",
       "      <td>NaN</td>\n",
       "      <td>NaN</td>\n",
       "      <td>NaN</td>\n",
       "      <td>NaN</td>\n",
       "      <td>NaN</td>\n",
       "      <td>NaN</td>\n",
       "      <td>NaN</td>\n",
       "      <td>1.0</td>\n",
       "      <td>0.0</td>\n",
       "      <td>42005</td>\n",
       "      <td>964.8928</td>\n",
       "      <td>0.441215</td>\n",
       "      <td>398.4533</td>\n",
       "      <td>234.3721</td>\n",
       "      <td>17</td>\n",
       "      <td>0.3905</td>\n",
       "      <td>6</td>\n",
       "      <td>0.1378</td>\n",
       "      <td>5</td>\n",
       "      <td>47</td>\n",
       "      <td>1.0796</td>\n",
       "      <td>17332</td>\n",
       "      <td>11728</td>\n",
       "      <td>269.4028</td>\n",
       "      <td>0.261862</td>\n",
       "      <td>15225</td>\n",
       "      <td>NaN</td>\n",
       "      <td>370.0</td>\n",
       "      <td>345.0</td>\n",
       "      <td>25</td>\n",
       "      <td>NaN</td>\n",
       "      <td>NaN</td>\n",
       "      <td>8.4992</td>\n",
       "      <td>3344.0</td>\n",
       "      <td>3377.0</td>\n",
       "      <td>94.0</td>\n",
       "      <td>3015.0</td>\n",
       "      <td>2948.0</td>\n",
       "      <td>75.0</td>\n",
       "      <td>329.0</td>\n",
       "      <td>429.0</td>\n",
       "      <td>19.0</td>\n",
       "      <td>0.0</td>\n",
       "      <td>0.0</td>\n",
       "      <td>0.0</td>\n",
       "      <td>0.0</td>\n",
       "      <td>0.0</td>\n",
       "      <td>0.0</td>\n",
       "      <td>5217.0</td>\n",
       "      <td>5647.0</td>\n",
       "      <td>142.0</td>\n",
       "      <td>5017.0</td>\n",
       "      <td>5355.0</td>\n",
       "      <td>122.0</td>\n",
       "      <td>200.0</td>\n",
       "      <td>292.0</td>\n",
       "      <td>20.0</td>\n",
       "      <td>0.0</td>\n",
       "      <td>0.0</td>\n",
       "      <td>0.0</td>\n",
       "      <td>1.0</td>\n",
       "      <td>0.0</td>\n",
       "      <td>0.0</td>\n",
       "      <td>12.0</td>\n",
       "      <td>5.0</td>\n",
       "      <td>398.131700</td>\n",
       "      <td>11.692190</td>\n",
       "      <td>0.238054</td>\n",
       "    </tr>\n",
       "    <tr>\n",
       "      <th>4</th>\n",
       "      <td>4</td>\n",
       "      <td>ESPORTSTMNT06_2753012</td>\n",
       "      <td>complete</td>\n",
       "      <td>NaN</td>\n",
       "      <td>LFL2</td>\n",
       "      <td>2023</td>\n",
       "      <td>Spring</td>\n",
       "      <td>0</td>\n",
       "      <td>2023-01-10 17:07:16</td>\n",
       "      <td>1</td>\n",
       "      <td>13.01</td>\n",
       "      <td>5</td>\n",
       "      <td>Blue</td>\n",
       "      <td>sup</td>\n",
       "      <td>Wixo</td>\n",
       "      <td>oe:player:bb97cd2e43cb0855f6485e6f9e93ea2</td>\n",
       "      <td>Klanik Esport</td>\n",
       "      <td>oe:team:0ade5e44c23039bca133eee58ec1b83</td>\n",
       "      <td>Karma</td>\n",
       "      <td>Sylas</td>\n",
       "      <td>Caitlyn</td>\n",
       "      <td>Wukong</td>\n",
       "      <td>Akali</td>\n",
       "      <td>Yone</td>\n",
       "      <td>2612</td>\n",
       "      <td>1</td>\n",
       "      <td>0</td>\n",
       "      <td>2</td>\n",
       "      <td>10</td>\n",
       "      <td>13</td>\n",
       "      <td>7</td>\n",
       "      <td>0.0</td>\n",
       "      <td>0.0</td>\n",
       "      <td>0.0</td>\n",
       "      <td>0.0</td>\n",
       "      <td>0.0</td>\n",
       "      <td>0.0</td>\n",
       "      <td>0.0</td>\n",
       "      <td>1.0</td>\n",
       "      <td>0.2986</td>\n",
       "      <td>0.4594</td>\n",
       "      <td>NaN</td>\n",
       "      <td>NaN</td>\n",
       "      <td>NaN</td>\n",
       "      <td>NaN</td>\n",
       "      <td>NaN</td>\n",
       "      <td>NaN</td>\n",
       "      <td>NaN</td>\n",
       "      <td>NaN</td>\n",
       "      <td>NaN</td>\n",
       "      <td>NaN</td>\n",
       "      <td>NaN</td>\n",
       "      <td>NaN</td>\n",
       "      <td>NaN</td>\n",
       "      <td>NaN</td>\n",
       "      <td>NaN</td>\n",
       "      <td>NaN</td>\n",
       "      <td>NaN</td>\n",
       "      <td>NaN</td>\n",
       "      <td>0.0</td>\n",
       "      <td>0.0</td>\n",
       "      <td>NaN</td>\n",
       "      <td>NaN</td>\n",
       "      <td>NaN</td>\n",
       "      <td>NaN</td>\n",
       "      <td>NaN</td>\n",
       "      <td>NaN</td>\n",
       "      <td>NaN</td>\n",
       "      <td>0.0</td>\n",
       "      <td>0.0</td>\n",
       "      <td>5668</td>\n",
       "      <td>130.1991</td>\n",
       "      <td>0.059536</td>\n",
       "      <td>360.2757</td>\n",
       "      <td>284.1501</td>\n",
       "      <td>52</td>\n",
       "      <td>1.1945</td>\n",
       "      <td>8</td>\n",
       "      <td>0.1838</td>\n",
       "      <td>15</td>\n",
       "      <td>106</td>\n",
       "      <td>2.4349</td>\n",
       "      <td>8816</td>\n",
       "      <td>3212</td>\n",
       "      <td>73.7825</td>\n",
       "      <td>0.071716</td>\n",
       "      <td>8125</td>\n",
       "      <td>NaN</td>\n",
       "      <td>21.0</td>\n",
       "      <td>17.0</td>\n",
       "      <td>4</td>\n",
       "      <td>NaN</td>\n",
       "      <td>NaN</td>\n",
       "      <td>0.4824</td>\n",
       "      <td>1953.0</td>\n",
       "      <td>2367.0</td>\n",
       "      <td>1.0</td>\n",
       "      <td>2032.0</td>\n",
       "      <td>2825.0</td>\n",
       "      <td>3.0</td>\n",
       "      <td>-79.0</td>\n",
       "      <td>-458.0</td>\n",
       "      <td>-2.0</td>\n",
       "      <td>0.0</td>\n",
       "      <td>0.0</td>\n",
       "      <td>0.0</td>\n",
       "      <td>0.0</td>\n",
       "      <td>0.0</td>\n",
       "      <td>0.0</td>\n",
       "      <td>2827.0</td>\n",
       "      <td>3218.0</td>\n",
       "      <td>3.0</td>\n",
       "      <td>3043.0</td>\n",
       "      <td>3797.0</td>\n",
       "      <td>3.0</td>\n",
       "      <td>-216.0</td>\n",
       "      <td>-579.0</td>\n",
       "      <td>0.0</td>\n",
       "      <td>0.0</td>\n",
       "      <td>0.0</td>\n",
       "      <td>1.0</td>\n",
       "      <td>0.0</td>\n",
       "      <td>1.0</td>\n",
       "      <td>0.0</td>\n",
       "      <td>5.0</td>\n",
       "      <td>0.0</td>\n",
       "      <td>202.511485</td>\n",
       "      <td>12.174579</td>\n",
       "      <td>0.121087</td>\n",
       "    </tr>\n",
       "  </tbody>\n",
       "</table>\n",
       "</div>"
      ],
      "text/plain": [
       "   index                 gameid datacompleteness  url league  year   split   \n",
       "0      0  ESPORTSTMNT06_2753012         complete  NaN   LFL2  2023  Spring  \\\n",
       "1      1  ESPORTSTMNT06_2753012         complete  NaN   LFL2  2023  Spring   \n",
       "2      2  ESPORTSTMNT06_2753012         complete  NaN   LFL2  2023  Spring   \n",
       "3      3  ESPORTSTMNT06_2753012         complete  NaN   LFL2  2023  Spring   \n",
       "4      4  ESPORTSTMNT06_2753012         complete  NaN   LFL2  2023  Spring   \n",
       "\n",
       "   playoffs                 date  game  patch  participantid  side position   \n",
       "0         0  2023-01-10 17:07:16     1  13.01              1  Blue      top  \\\n",
       "1         0  2023-01-10 17:07:16     1  13.01              2  Blue      jng   \n",
       "2         0  2023-01-10 17:07:16     1  13.01              3  Blue      mid   \n",
       "3         0  2023-01-10 17:07:16     1  13.01              4  Blue      bot   \n",
       "4         0  2023-01-10 17:07:16     1  13.01              5  Blue      sup   \n",
       "\n",
       "  playername                                   playerid       teamname   \n",
       "0     Wylenz  oe:player:60aff1184bec1d2b2efdae84f5b6e3e  Klanik Esport  \\\n",
       "1      Julbu  oe:player:fd78e127e45463dcfc2ea3836af0335  Klanik Esport   \n",
       "2     Sintax  oe:player:baf7147fedeec5de54ca1f240952a3f  Klanik Esport   \n",
       "3    Axelent  oe:player:8204ca38dc1c42012b5d53131271eb1  Klanik Esport   \n",
       "4       Wixo  oe:player:bb97cd2e43cb0855f6485e6f9e93ea2  Klanik Esport   \n",
       "\n",
       "                                    teamid champion   ban1     ban2    ban3   \n",
       "0  oe:team:0ade5e44c23039bca133eee58ec1b83      Jax  Sylas  Caitlyn  Wukong  \\\n",
       "1  oe:team:0ade5e44c23039bca133eee58ec1b83    Poppy  Sylas  Caitlyn  Wukong   \n",
       "2  oe:team:0ade5e44c23039bca133eee58ec1b83  Taliyah  Sylas  Caitlyn  Wukong   \n",
       "3  oe:team:0ade5e44c23039bca133eee58ec1b83   Ezreal  Sylas  Caitlyn  Wukong   \n",
       "4  oe:team:0ade5e44c23039bca133eee58ec1b83    Karma  Sylas  Caitlyn  Wukong   \n",
       "\n",
       "    ban4  ban5  gamelength  result  kills  deaths  assists  teamkills   \n",
       "0  Akali  Yone        2612       1      4       0        6         13  \\\n",
       "1  Akali  Yone        2612       1      2       2        4         13   \n",
       "2  Akali  Yone        2612       1      2       2       11         13   \n",
       "3  Akali  Yone        2612       1      5       1        7         13   \n",
       "4  Akali  Yone        2612       1      0       2       10         13   \n",
       "\n",
       "   teamdeaths  doublekills  triplekills  quadrakills  pentakills  firstblood   \n",
       "0           7          1.0          1.0          0.0         0.0         0.0  \\\n",
       "1           7          0.0          0.0          0.0         0.0         0.0   \n",
       "2           7          0.0          0.0          0.0         0.0         0.0   \n",
       "3           7          0.0          0.0          0.0         0.0         0.0   \n",
       "4           7          0.0          0.0          0.0         0.0         0.0   \n",
       "\n",
       "   firstbloodkill  firstbloodassist  firstbloodvictim  team kpm    ckpm   \n",
       "0             0.0               0.0               0.0    0.2986  0.4594  \\\n",
       "1             0.0               0.0               0.0    0.2986  0.4594   \n",
       "2             0.0               0.0               0.0    0.2986  0.4594   \n",
       "3             0.0               0.0               0.0    0.2986  0.4594   \n",
       "4             0.0               0.0               1.0    0.2986  0.4594   \n",
       "\n",
       "   firstdragon  dragons  opp_dragons  elementaldrakes  opp_elementaldrakes   \n",
       "0          NaN      NaN          NaN              NaN                  NaN  \\\n",
       "1          NaN      NaN          NaN              NaN                  NaN   \n",
       "2          NaN      NaN          NaN              NaN                  NaN   \n",
       "3          NaN      NaN          NaN              NaN                  NaN   \n",
       "4          NaN      NaN          NaN              NaN                  NaN   \n",
       "\n",
       "   infernals  mountains  clouds  oceans  chemtechs  hextechs   \n",
       "0        NaN        NaN     NaN     NaN        NaN       NaN  \\\n",
       "1        NaN        NaN     NaN     NaN        NaN       NaN   \n",
       "2        NaN        NaN     NaN     NaN        NaN       NaN   \n",
       "3        NaN        NaN     NaN     NaN        NaN       NaN   \n",
       "4        NaN        NaN     NaN     NaN        NaN       NaN   \n",
       "\n",
       "   dragons (type unknown)  elders  opp_elders  firstherald  heralds   \n",
       "0                     NaN     NaN         NaN          NaN      NaN  \\\n",
       "1                     NaN     NaN         NaN          NaN      NaN   \n",
       "2                     NaN     NaN         NaN          NaN      NaN   \n",
       "3                     NaN     NaN         NaN          NaN      NaN   \n",
       "4                     NaN     NaN         NaN          NaN      NaN   \n",
       "\n",
       "   opp_heralds  firstbaron  barons  opp_barons  firsttower  towers   \n",
       "0          NaN         NaN     0.0         0.0         NaN     NaN  \\\n",
       "1          NaN         NaN     1.0         0.0         NaN     NaN   \n",
       "2          NaN         NaN     0.0         0.0         NaN     NaN   \n",
       "3          NaN         NaN     0.0         0.0         NaN     NaN   \n",
       "4          NaN         NaN     0.0         0.0         NaN     NaN   \n",
       "\n",
       "   opp_towers  firstmidtower  firsttothreetowers  turretplates   \n",
       "0         NaN            NaN                 NaN           NaN  \\\n",
       "1         NaN            NaN                 NaN           NaN   \n",
       "2         NaN            NaN                 NaN           NaN   \n",
       "3         NaN            NaN                 NaN           NaN   \n",
       "4         NaN            NaN                 NaN           NaN   \n",
       "\n",
       "   opp_turretplates  inhibitors  opp_inhibitors  damagetochampions       dpm   \n",
       "0               NaN         1.0             0.0              14283  328.0934  \\\n",
       "1               NaN         0.0             0.0               6219  142.8560   \n",
       "2               NaN         0.0             0.0              27028  620.8576   \n",
       "3               NaN         1.0             0.0              42005  964.8928   \n",
       "4               NaN         0.0             0.0               5668  130.1991   \n",
       "\n",
       "   damageshare  damagetakenperminute  damagemitigatedperminute  wardsplaced   \n",
       "0     0.150027              719.5406                  878.9127           20  \\\n",
       "1     0.065324              847.3047                 1513.9663           18   \n",
       "2     0.283899              365.3522                  323.7289           23   \n",
       "3     0.441215              398.4533                  234.3721           17   \n",
       "4     0.059536              360.2757                  284.1501           52   \n",
       "\n",
       "      wpm  wardskilled    wcpm  controlwardsbought  visionscore    vspm   \n",
       "0  0.4594            5  0.1149                  11           49  1.1256  \\\n",
       "1  0.4135           11  0.2527                  17           61  1.4012   \n",
       "2  0.5283           10  0.2297                   7           49  1.1256   \n",
       "3  0.3905            6  0.1378                   5           47  1.0796   \n",
       "4  1.1945            8  0.1838                  15          106  2.4349   \n",
       "\n",
       "   totalgold  earnedgold  earned gpm  earnedgoldshare  goldspent  gspd   \n",
       "0      18855       13251    304.3874         0.295868      15955   NaN  \\\n",
       "1      12082        6478    148.8055         0.144640      11675   NaN   \n",
       "2      15722       10118    232.4196         0.225914      14525   NaN   \n",
       "3      17332       11728    269.4028         0.261862      15225   NaN   \n",
       "4       8816        3212     73.7825         0.071716       8125   NaN   \n",
       "\n",
       "   total cs  minionkills  monsterkills  monsterkillsownjungle   \n",
       "0     399.0        367.0            32                    NaN  \\\n",
       "1     159.0         23.0           136                    NaN   \n",
       "2     337.0        287.0            50                    NaN   \n",
       "3     370.0        345.0            25                    NaN   \n",
       "4      21.0         17.0             4                    NaN   \n",
       "\n",
       "   monsterkillsenemyjungle    cspm  goldat10  xpat10  csat10  opp_goldat10   \n",
       "0                      NaN  9.1654    3163.0  4772.0    83.0        3087.0  \\\n",
       "1                      NaN  3.6524    3035.0  3302.0    54.0        2948.0   \n",
       "2                      NaN  7.7412    3117.0  4927.0    85.0        3455.0   \n",
       "3                      NaN  8.4992    3344.0  3377.0    94.0        3015.0   \n",
       "4                      NaN  0.4824    1953.0  2367.0     1.0        2032.0   \n",
       "\n",
       "   opp_xpat10  opp_csat10  golddiffat10  xpdiffat10  csdiffat10  killsat10   \n",
       "0      4814.0        81.0          76.0       -42.0         2.0        0.0  \\\n",
       "1      3140.0        66.0          87.0       162.0       -12.0        0.0   \n",
       "2      5174.0       103.0        -338.0      -247.0       -18.0        0.0   \n",
       "3      2948.0        75.0         329.0       429.0        19.0        0.0   \n",
       "4      2825.0         3.0         -79.0      -458.0        -2.0        0.0   \n",
       "\n",
       "   assistsat10  deathsat10  opp_killsat10  opp_assistsat10  opp_deathsat10   \n",
       "0          0.0         0.0            0.0              0.0             0.0  \\\n",
       "1          0.0         0.0            0.0              0.0             0.0   \n",
       "2          0.0         0.0            0.0              0.0             0.0   \n",
       "3          0.0         0.0            0.0              0.0             0.0   \n",
       "4          0.0         0.0            0.0              0.0             0.0   \n",
       "\n",
       "   goldat15  xpat15  csat15  opp_goldat15  opp_xpat15  opp_csat15   \n",
       "0    5059.0  7946.0   143.0        4737.0      7683.0       131.0  \\\n",
       "1    4325.0  4637.0    74.0        4682.0      5960.0       117.0   \n",
       "2    4956.0  7772.0   136.0        5435.0      8096.0       162.0   \n",
       "3    5217.0  5647.0   142.0        5017.0      5355.0       122.0   \n",
       "4    2827.0  3218.0     3.0        3043.0      3797.0         3.0   \n",
       "\n",
       "   golddiffat15  xpdiffat15  csdiffat15  killsat15  assistsat15  deathsat15   \n",
       "0         322.0       263.0        12.0        0.0          0.0         0.0  \\\n",
       "1        -357.0     -1323.0       -43.0        0.0          0.0         0.0   \n",
       "2        -479.0      -324.0       -26.0        0.0          0.0         0.0   \n",
       "3         200.0       292.0        20.0        0.0          0.0         0.0   \n",
       "4        -216.0      -579.0         0.0        0.0          0.0         1.0   \n",
       "\n",
       "   opp_killsat15  opp_assistsat15  opp_deathsat15   kda   kd         gpm   \n",
       "0            0.0              0.0             0.0   inf  inf  433.116386  \\\n",
       "1            0.0              0.0             0.0   3.0  1.0  277.534456   \n",
       "2            0.0              0.0             0.0   6.5  1.0  361.148545   \n",
       "3            1.0              0.0             0.0  12.0  5.0  398.131700   \n",
       "4            0.0              1.0             0.0   5.0  0.0  202.511485   \n",
       "\n",
       "         gdpm  goldshare  \n",
       "0  162.151608   0.258972  \n",
       "1    8.522205   0.165946  \n",
       "2   36.592649   0.215941  \n",
       "3   11.692190   0.238054  \n",
       "4   12.174579   0.121087  "
      ]
     },
     "execution_count": 9,
     "metadata": {},
     "output_type": "execute_result"
    }
   ],
   "source": [
    "matches_data.head()"
   ]
  },
  {
   "cell_type": "code",
   "execution_count": 10,
   "metadata": {},
   "outputs": [
    {
     "data": {
      "text/html": [
       "<div>\n",
       "<style scoped>\n",
       "    .dataframe tbody tr th:only-of-type {\n",
       "        vertical-align: middle;\n",
       "    }\n",
       "\n",
       "    .dataframe tbody tr th {\n",
       "        vertical-align: top;\n",
       "    }\n",
       "\n",
       "    .dataframe thead th {\n",
       "        text-align: right;\n",
       "    }\n",
       "</style>\n",
       "<table border=\"1\" class=\"dataframe\">\n",
       "  <thead>\n",
       "    <tr style=\"text-align: right;\">\n",
       "      <th></th>\n",
       "      <th>index</th>\n",
       "      <th>gameid</th>\n",
       "      <th>datacompleteness</th>\n",
       "      <th>url</th>\n",
       "      <th>league</th>\n",
       "      <th>year</th>\n",
       "      <th>split</th>\n",
       "      <th>playoffs</th>\n",
       "      <th>date</th>\n",
       "      <th>game</th>\n",
       "      <th>patch</th>\n",
       "      <th>participantid</th>\n",
       "      <th>side</th>\n",
       "      <th>position</th>\n",
       "      <th>playername</th>\n",
       "      <th>playerid</th>\n",
       "      <th>teamname</th>\n",
       "      <th>teamid</th>\n",
       "      <th>champion</th>\n",
       "      <th>ban1</th>\n",
       "      <th>ban2</th>\n",
       "      <th>ban3</th>\n",
       "      <th>ban4</th>\n",
       "      <th>ban5</th>\n",
       "      <th>gamelength</th>\n",
       "      <th>result</th>\n",
       "      <th>kills</th>\n",
       "      <th>deaths</th>\n",
       "      <th>assists</th>\n",
       "      <th>teamkills</th>\n",
       "      <th>teamdeaths</th>\n",
       "      <th>doublekills</th>\n",
       "      <th>triplekills</th>\n",
       "      <th>quadrakills</th>\n",
       "      <th>pentakills</th>\n",
       "      <th>firstblood</th>\n",
       "      <th>firstbloodkill</th>\n",
       "      <th>firstbloodassist</th>\n",
       "      <th>firstbloodvictim</th>\n",
       "      <th>team kpm</th>\n",
       "      <th>ckpm</th>\n",
       "      <th>firstdragon</th>\n",
       "      <th>dragons</th>\n",
       "      <th>opp_dragons</th>\n",
       "      <th>elementaldrakes</th>\n",
       "      <th>opp_elementaldrakes</th>\n",
       "      <th>infernals</th>\n",
       "      <th>mountains</th>\n",
       "      <th>clouds</th>\n",
       "      <th>oceans</th>\n",
       "      <th>chemtechs</th>\n",
       "      <th>hextechs</th>\n",
       "      <th>dragons (type unknown)</th>\n",
       "      <th>elders</th>\n",
       "      <th>opp_elders</th>\n",
       "      <th>firstherald</th>\n",
       "      <th>heralds</th>\n",
       "      <th>opp_heralds</th>\n",
       "      <th>firstbaron</th>\n",
       "      <th>barons</th>\n",
       "      <th>opp_barons</th>\n",
       "      <th>firsttower</th>\n",
       "      <th>towers</th>\n",
       "      <th>opp_towers</th>\n",
       "      <th>firstmidtower</th>\n",
       "      <th>firsttothreetowers</th>\n",
       "      <th>turretplates</th>\n",
       "      <th>opp_turretplates</th>\n",
       "      <th>inhibitors</th>\n",
       "      <th>opp_inhibitors</th>\n",
       "      <th>damagetochampions</th>\n",
       "      <th>dpm</th>\n",
       "      <th>damageshare</th>\n",
       "      <th>damagetakenperminute</th>\n",
       "      <th>damagemitigatedperminute</th>\n",
       "      <th>wardsplaced</th>\n",
       "      <th>wpm</th>\n",
       "      <th>wardskilled</th>\n",
       "      <th>wcpm</th>\n",
       "      <th>controlwardsbought</th>\n",
       "      <th>visionscore</th>\n",
       "      <th>vspm</th>\n",
       "      <th>totalgold</th>\n",
       "      <th>earnedgold</th>\n",
       "      <th>earned gpm</th>\n",
       "      <th>earnedgoldshare</th>\n",
       "      <th>goldspent</th>\n",
       "      <th>gspd</th>\n",
       "      <th>total cs</th>\n",
       "      <th>minionkills</th>\n",
       "      <th>monsterkills</th>\n",
       "      <th>monsterkillsownjungle</th>\n",
       "      <th>monsterkillsenemyjungle</th>\n",
       "      <th>cspm</th>\n",
       "      <th>goldat10</th>\n",
       "      <th>xpat10</th>\n",
       "      <th>csat10</th>\n",
       "      <th>opp_goldat10</th>\n",
       "      <th>opp_xpat10</th>\n",
       "      <th>opp_csat10</th>\n",
       "      <th>golddiffat10</th>\n",
       "      <th>xpdiffat10</th>\n",
       "      <th>csdiffat10</th>\n",
       "      <th>killsat10</th>\n",
       "      <th>assistsat10</th>\n",
       "      <th>deathsat10</th>\n",
       "      <th>opp_killsat10</th>\n",
       "      <th>opp_assistsat10</th>\n",
       "      <th>opp_deathsat10</th>\n",
       "      <th>goldat15</th>\n",
       "      <th>xpat15</th>\n",
       "      <th>csat15</th>\n",
       "      <th>opp_goldat15</th>\n",
       "      <th>opp_xpat15</th>\n",
       "      <th>opp_csat15</th>\n",
       "      <th>golddiffat15</th>\n",
       "      <th>xpdiffat15</th>\n",
       "      <th>csdiffat15</th>\n",
       "      <th>killsat15</th>\n",
       "      <th>assistsat15</th>\n",
       "      <th>deathsat15</th>\n",
       "      <th>opp_killsat15</th>\n",
       "      <th>opp_assistsat15</th>\n",
       "      <th>opp_deathsat15</th>\n",
       "      <th>kda</th>\n",
       "      <th>kd</th>\n",
       "      <th>gpm</th>\n",
       "      <th>gdpm</th>\n",
       "      <th>goldshare</th>\n",
       "    </tr>\n",
       "  </thead>\n",
       "  <tbody>\n",
       "    <tr>\n",
       "      <th>67572</th>\n",
       "      <td>67572</td>\n",
       "      <td>ESPORTSTMNT03_3167508</td>\n",
       "      <td>complete</td>\n",
       "      <td>NaN</td>\n",
       "      <td>LCK</td>\n",
       "      <td>2023</td>\n",
       "      <td>Summer</td>\n",
       "      <td>0</td>\n",
       "      <td>2023-06-07 08:11:03</td>\n",
       "      <td>1</td>\n",
       "      <td>13.10</td>\n",
       "      <td>1</td>\n",
       "      <td>Blue</td>\n",
       "      <td>top</td>\n",
       "      <td>Kiin</td>\n",
       "      <td>oe:player:03daae1844b9ad257324c3eedf41e28</td>\n",
       "      <td>KT Rolster</td>\n",
       "      <td>oe:team:d723992568441c6bafa2658129eade7</td>\n",
       "      <td>Malphite</td>\n",
       "      <td>Vi</td>\n",
       "      <td>Maokai</td>\n",
       "      <td>Lucian</td>\n",
       "      <td>Lulu</td>\n",
       "      <td>Ornn</td>\n",
       "      <td>1894</td>\n",
       "      <td>1</td>\n",
       "      <td>2</td>\n",
       "      <td>1</td>\n",
       "      <td>9</td>\n",
       "      <td>12</td>\n",
       "      <td>6</td>\n",
       "      <td>0.0</td>\n",
       "      <td>0.0</td>\n",
       "      <td>0.0</td>\n",
       "      <td>0.0</td>\n",
       "      <td>0.0</td>\n",
       "      <td>0.0</td>\n",
       "      <td>0.0</td>\n",
       "      <td>0.0</td>\n",
       "      <td>0.3801</td>\n",
       "      <td>0.5702</td>\n",
       "      <td>NaN</td>\n",
       "      <td>NaN</td>\n",
       "      <td>NaN</td>\n",
       "      <td>NaN</td>\n",
       "      <td>NaN</td>\n",
       "      <td>NaN</td>\n",
       "      <td>NaN</td>\n",
       "      <td>NaN</td>\n",
       "      <td>NaN</td>\n",
       "      <td>NaN</td>\n",
       "      <td>NaN</td>\n",
       "      <td>NaN</td>\n",
       "      <td>NaN</td>\n",
       "      <td>NaN</td>\n",
       "      <td>NaN</td>\n",
       "      <td>NaN</td>\n",
       "      <td>NaN</td>\n",
       "      <td>NaN</td>\n",
       "      <td>0.0</td>\n",
       "      <td>0.0</td>\n",
       "      <td>NaN</td>\n",
       "      <td>NaN</td>\n",
       "      <td>NaN</td>\n",
       "      <td>NaN</td>\n",
       "      <td>NaN</td>\n",
       "      <td>NaN</td>\n",
       "      <td>NaN</td>\n",
       "      <td>0.0</td>\n",
       "      <td>0.0</td>\n",
       "      <td>17628</td>\n",
       "      <td>558.4372</td>\n",
       "      <td>0.277716</td>\n",
       "      <td>661.4572</td>\n",
       "      <td>1947.4974</td>\n",
       "      <td>11</td>\n",
       "      <td>0.3485</td>\n",
       "      <td>10</td>\n",
       "      <td>0.3168</td>\n",
       "      <td>6</td>\n",
       "      <td>37</td>\n",
       "      <td>1.1721</td>\n",
       "      <td>12665</td>\n",
       "      <td>8526</td>\n",
       "      <td>270.0950</td>\n",
       "      <td>0.221542</td>\n",
       "      <td>11800</td>\n",
       "      <td>NaN</td>\n",
       "      <td>285.0</td>\n",
       "      <td>281.0</td>\n",
       "      <td>4</td>\n",
       "      <td>NaN</td>\n",
       "      <td>NaN</td>\n",
       "      <td>9.0285</td>\n",
       "      <td>3373.0</td>\n",
       "      <td>5212.0</td>\n",
       "      <td>95.0</td>\n",
       "      <td>3676.0</td>\n",
       "      <td>5212.0</td>\n",
       "      <td>98.0</td>\n",
       "      <td>-303.0</td>\n",
       "      <td>0.0</td>\n",
       "      <td>-3.0</td>\n",
       "      <td>0.0</td>\n",
       "      <td>0.0</td>\n",
       "      <td>0.0</td>\n",
       "      <td>0.0</td>\n",
       "      <td>0.0</td>\n",
       "      <td>0.0</td>\n",
       "      <td>5153.0</td>\n",
       "      <td>8046.0</td>\n",
       "      <td>146.0</td>\n",
       "      <td>5274.0</td>\n",
       "      <td>7985.0</td>\n",
       "      <td>147.0</td>\n",
       "      <td>-121.0</td>\n",
       "      <td>61.0</td>\n",
       "      <td>-1.0</td>\n",
       "      <td>0.0</td>\n",
       "      <td>0.0</td>\n",
       "      <td>0.0</td>\n",
       "      <td>0.0</td>\n",
       "      <td>0.0</td>\n",
       "      <td>0.0</td>\n",
       "      <td>11.0</td>\n",
       "      <td>2.0</td>\n",
       "      <td>401.214361</td>\n",
       "      <td>53.315734</td>\n",
       "      <td>0.214008</td>\n",
       "    </tr>\n",
       "    <tr>\n",
       "      <th>67573</th>\n",
       "      <td>67573</td>\n",
       "      <td>ESPORTSTMNT03_3167508</td>\n",
       "      <td>complete</td>\n",
       "      <td>NaN</td>\n",
       "      <td>LCK</td>\n",
       "      <td>2023</td>\n",
       "      <td>Summer</td>\n",
       "      <td>0</td>\n",
       "      <td>2023-06-07 08:11:03</td>\n",
       "      <td>1</td>\n",
       "      <td>13.10</td>\n",
       "      <td>2</td>\n",
       "      <td>Blue</td>\n",
       "      <td>jng</td>\n",
       "      <td>Cuzz</td>\n",
       "      <td>oe:player:f9fe6d28d5b67bf9ac673b2cc8edf15</td>\n",
       "      <td>KT Rolster</td>\n",
       "      <td>oe:team:d723992568441c6bafa2658129eade7</td>\n",
       "      <td>Viego</td>\n",
       "      <td>Vi</td>\n",
       "      <td>Maokai</td>\n",
       "      <td>Lucian</td>\n",
       "      <td>Lulu</td>\n",
       "      <td>Ornn</td>\n",
       "      <td>1894</td>\n",
       "      <td>1</td>\n",
       "      <td>5</td>\n",
       "      <td>1</td>\n",
       "      <td>5</td>\n",
       "      <td>12</td>\n",
       "      <td>6</td>\n",
       "      <td>2.0</td>\n",
       "      <td>1.0</td>\n",
       "      <td>0.0</td>\n",
       "      <td>0.0</td>\n",
       "      <td>0.0</td>\n",
       "      <td>0.0</td>\n",
       "      <td>0.0</td>\n",
       "      <td>1.0</td>\n",
       "      <td>0.3801</td>\n",
       "      <td>0.5702</td>\n",
       "      <td>NaN</td>\n",
       "      <td>NaN</td>\n",
       "      <td>NaN</td>\n",
       "      <td>NaN</td>\n",
       "      <td>NaN</td>\n",
       "      <td>NaN</td>\n",
       "      <td>NaN</td>\n",
       "      <td>NaN</td>\n",
       "      <td>NaN</td>\n",
       "      <td>NaN</td>\n",
       "      <td>NaN</td>\n",
       "      <td>NaN</td>\n",
       "      <td>NaN</td>\n",
       "      <td>NaN</td>\n",
       "      <td>NaN</td>\n",
       "      <td>NaN</td>\n",
       "      <td>NaN</td>\n",
       "      <td>NaN</td>\n",
       "      <td>1.0</td>\n",
       "      <td>0.0</td>\n",
       "      <td>NaN</td>\n",
       "      <td>NaN</td>\n",
       "      <td>NaN</td>\n",
       "      <td>NaN</td>\n",
       "      <td>NaN</td>\n",
       "      <td>NaN</td>\n",
       "      <td>NaN</td>\n",
       "      <td>0.0</td>\n",
       "      <td>0.0</td>\n",
       "      <td>13080</td>\n",
       "      <td>414.3611</td>\n",
       "      <td>0.206065</td>\n",
       "      <td>806.1035</td>\n",
       "      <td>970.7075</td>\n",
       "      <td>14</td>\n",
       "      <td>0.4435</td>\n",
       "      <td>20</td>\n",
       "      <td>0.6336</td>\n",
       "      <td>22</td>\n",
       "      <td>63</td>\n",
       "      <td>1.9958</td>\n",
       "      <td>12416</td>\n",
       "      <td>8277</td>\n",
       "      <td>262.2070</td>\n",
       "      <td>0.215072</td>\n",
       "      <td>11225</td>\n",
       "      <td>NaN</td>\n",
       "      <td>214.0</td>\n",
       "      <td>23.0</td>\n",
       "      <td>191</td>\n",
       "      <td>NaN</td>\n",
       "      <td>NaN</td>\n",
       "      <td>6.7793</td>\n",
       "      <td>3334.0</td>\n",
       "      <td>3779.0</td>\n",
       "      <td>78.0</td>\n",
       "      <td>3256.0</td>\n",
       "      <td>3652.0</td>\n",
       "      <td>71.0</td>\n",
       "      <td>78.0</td>\n",
       "      <td>127.0</td>\n",
       "      <td>7.0</td>\n",
       "      <td>0.0</td>\n",
       "      <td>0.0</td>\n",
       "      <td>1.0</td>\n",
       "      <td>0.0</td>\n",
       "      <td>0.0</td>\n",
       "      <td>0.0</td>\n",
       "      <td>4884.0</td>\n",
       "      <td>5891.0</td>\n",
       "      <td>117.0</td>\n",
       "      <td>5011.0</td>\n",
       "      <td>5448.0</td>\n",
       "      <td>106.0</td>\n",
       "      <td>-127.0</td>\n",
       "      <td>443.0</td>\n",
       "      <td>11.0</td>\n",
       "      <td>0.0</td>\n",
       "      <td>0.0</td>\n",
       "      <td>1.0</td>\n",
       "      <td>0.0</td>\n",
       "      <td>0.0</td>\n",
       "      <td>0.0</td>\n",
       "      <td>10.0</td>\n",
       "      <td>5.0</td>\n",
       "      <td>393.326294</td>\n",
       "      <td>61.805702</td>\n",
       "      <td>0.209801</td>\n",
       "    </tr>\n",
       "    <tr>\n",
       "      <th>67574</th>\n",
       "      <td>67574</td>\n",
       "      <td>ESPORTSTMNT03_3167508</td>\n",
       "      <td>complete</td>\n",
       "      <td>NaN</td>\n",
       "      <td>LCK</td>\n",
       "      <td>2023</td>\n",
       "      <td>Summer</td>\n",
       "      <td>0</td>\n",
       "      <td>2023-06-07 08:11:03</td>\n",
       "      <td>1</td>\n",
       "      <td>13.10</td>\n",
       "      <td>3</td>\n",
       "      <td>Blue</td>\n",
       "      <td>mid</td>\n",
       "      <td>Bdd</td>\n",
       "      <td>oe:player:30361653a485a9609fb2d3aa073282c</td>\n",
       "      <td>KT Rolster</td>\n",
       "      <td>oe:team:d723992568441c6bafa2658129eade7</td>\n",
       "      <td>Annie</td>\n",
       "      <td>Vi</td>\n",
       "      <td>Maokai</td>\n",
       "      <td>Lucian</td>\n",
       "      <td>Lulu</td>\n",
       "      <td>Ornn</td>\n",
       "      <td>1894</td>\n",
       "      <td>1</td>\n",
       "      <td>2</td>\n",
       "      <td>2</td>\n",
       "      <td>10</td>\n",
       "      <td>12</td>\n",
       "      <td>6</td>\n",
       "      <td>0.0</td>\n",
       "      <td>0.0</td>\n",
       "      <td>0.0</td>\n",
       "      <td>0.0</td>\n",
       "      <td>0.0</td>\n",
       "      <td>0.0</td>\n",
       "      <td>0.0</td>\n",
       "      <td>0.0</td>\n",
       "      <td>0.3801</td>\n",
       "      <td>0.5702</td>\n",
       "      <td>NaN</td>\n",
       "      <td>NaN</td>\n",
       "      <td>NaN</td>\n",
       "      <td>NaN</td>\n",
       "      <td>NaN</td>\n",
       "      <td>NaN</td>\n",
       "      <td>NaN</td>\n",
       "      <td>NaN</td>\n",
       "      <td>NaN</td>\n",
       "      <td>NaN</td>\n",
       "      <td>NaN</td>\n",
       "      <td>NaN</td>\n",
       "      <td>NaN</td>\n",
       "      <td>NaN</td>\n",
       "      <td>NaN</td>\n",
       "      <td>NaN</td>\n",
       "      <td>NaN</td>\n",
       "      <td>NaN</td>\n",
       "      <td>0.0</td>\n",
       "      <td>0.0</td>\n",
       "      <td>NaN</td>\n",
       "      <td>NaN</td>\n",
       "      <td>NaN</td>\n",
       "      <td>NaN</td>\n",
       "      <td>NaN</td>\n",
       "      <td>NaN</td>\n",
       "      <td>NaN</td>\n",
       "      <td>1.0</td>\n",
       "      <td>0.0</td>\n",
       "      <td>15295</td>\n",
       "      <td>484.5301</td>\n",
       "      <td>0.240961</td>\n",
       "      <td>330.3168</td>\n",
       "      <td>291.0982</td>\n",
       "      <td>24</td>\n",
       "      <td>0.7603</td>\n",
       "      <td>7</td>\n",
       "      <td>0.2218</td>\n",
       "      <td>13</td>\n",
       "      <td>42</td>\n",
       "      <td>1.3305</td>\n",
       "      <td>13085</td>\n",
       "      <td>8946</td>\n",
       "      <td>283.4002</td>\n",
       "      <td>0.232456</td>\n",
       "      <td>12475</td>\n",
       "      <td>NaN</td>\n",
       "      <td>293.0</td>\n",
       "      <td>293.0</td>\n",
       "      <td>0</td>\n",
       "      <td>NaN</td>\n",
       "      <td>NaN</td>\n",
       "      <td>9.2819</td>\n",
       "      <td>3526.0</td>\n",
       "      <td>5066.0</td>\n",
       "      <td>99.0</td>\n",
       "      <td>3509.0</td>\n",
       "      <td>4208.0</td>\n",
       "      <td>80.0</td>\n",
       "      <td>17.0</td>\n",
       "      <td>858.0</td>\n",
       "      <td>19.0</td>\n",
       "      <td>0.0</td>\n",
       "      <td>0.0</td>\n",
       "      <td>0.0</td>\n",
       "      <td>1.0</td>\n",
       "      <td>0.0</td>\n",
       "      <td>0.0</td>\n",
       "      <td>5425.0</td>\n",
       "      <td>8471.0</td>\n",
       "      <td>163.0</td>\n",
       "      <td>5265.0</td>\n",
       "      <td>7040.0</td>\n",
       "      <td>134.0</td>\n",
       "      <td>160.0</td>\n",
       "      <td>1431.0</td>\n",
       "      <td>29.0</td>\n",
       "      <td>0.0</td>\n",
       "      <td>0.0</td>\n",
       "      <td>0.0</td>\n",
       "      <td>1.0</td>\n",
       "      <td>0.0</td>\n",
       "      <td>0.0</td>\n",
       "      <td>6.0</td>\n",
       "      <td>1.0</td>\n",
       "      <td>414.519535</td>\n",
       "      <td>47.771911</td>\n",
       "      <td>0.221105</td>\n",
       "    </tr>\n",
       "    <tr>\n",
       "      <th>67575</th>\n",
       "      <td>67575</td>\n",
       "      <td>ESPORTSTMNT03_3167508</td>\n",
       "      <td>complete</td>\n",
       "      <td>NaN</td>\n",
       "      <td>LCK</td>\n",
       "      <td>2023</td>\n",
       "      <td>Summer</td>\n",
       "      <td>0</td>\n",
       "      <td>2023-06-07 08:11:03</td>\n",
       "      <td>1</td>\n",
       "      <td>13.10</td>\n",
       "      <td>4</td>\n",
       "      <td>Blue</td>\n",
       "      <td>bot</td>\n",
       "      <td>Aiming</td>\n",
       "      <td>oe:player:85104684d1eb7f4c0ce393441a0b669</td>\n",
       "      <td>KT Rolster</td>\n",
       "      <td>oe:team:d723992568441c6bafa2658129eade7</td>\n",
       "      <td>Ezreal</td>\n",
       "      <td>Vi</td>\n",
       "      <td>Maokai</td>\n",
       "      <td>Lucian</td>\n",
       "      <td>Lulu</td>\n",
       "      <td>Ornn</td>\n",
       "      <td>1894</td>\n",
       "      <td>1</td>\n",
       "      <td>2</td>\n",
       "      <td>1</td>\n",
       "      <td>3</td>\n",
       "      <td>12</td>\n",
       "      <td>6</td>\n",
       "      <td>0.0</td>\n",
       "      <td>0.0</td>\n",
       "      <td>0.0</td>\n",
       "      <td>0.0</td>\n",
       "      <td>0.0</td>\n",
       "      <td>0.0</td>\n",
       "      <td>0.0</td>\n",
       "      <td>0.0</td>\n",
       "      <td>0.3801</td>\n",
       "      <td>0.5702</td>\n",
       "      <td>NaN</td>\n",
       "      <td>NaN</td>\n",
       "      <td>NaN</td>\n",
       "      <td>NaN</td>\n",
       "      <td>NaN</td>\n",
       "      <td>NaN</td>\n",
       "      <td>NaN</td>\n",
       "      <td>NaN</td>\n",
       "      <td>NaN</td>\n",
       "      <td>NaN</td>\n",
       "      <td>NaN</td>\n",
       "      <td>NaN</td>\n",
       "      <td>NaN</td>\n",
       "      <td>NaN</td>\n",
       "      <td>NaN</td>\n",
       "      <td>NaN</td>\n",
       "      <td>NaN</td>\n",
       "      <td>NaN</td>\n",
       "      <td>0.0</td>\n",
       "      <td>0.0</td>\n",
       "      <td>NaN</td>\n",
       "      <td>NaN</td>\n",
       "      <td>NaN</td>\n",
       "      <td>NaN</td>\n",
       "      <td>NaN</td>\n",
       "      <td>NaN</td>\n",
       "      <td>NaN</td>\n",
       "      <td>1.0</td>\n",
       "      <td>0.0</td>\n",
       "      <td>13502</td>\n",
       "      <td>427.7297</td>\n",
       "      <td>0.212714</td>\n",
       "      <td>372.9884</td>\n",
       "      <td>235.1531</td>\n",
       "      <td>14</td>\n",
       "      <td>0.4435</td>\n",
       "      <td>15</td>\n",
       "      <td>0.4752</td>\n",
       "      <td>4</td>\n",
       "      <td>39</td>\n",
       "      <td>1.2355</td>\n",
       "      <td>13456</td>\n",
       "      <td>9317</td>\n",
       "      <td>295.1531</td>\n",
       "      <td>0.242096</td>\n",
       "      <td>12483</td>\n",
       "      <td>NaN</td>\n",
       "      <td>310.0</td>\n",
       "      <td>298.0</td>\n",
       "      <td>12</td>\n",
       "      <td>NaN</td>\n",
       "      <td>NaN</td>\n",
       "      <td>9.8205</td>\n",
       "      <td>3403.0</td>\n",
       "      <td>3111.0</td>\n",
       "      <td>83.0</td>\n",
       "      <td>3935.0</td>\n",
       "      <td>3729.0</td>\n",
       "      <td>101.0</td>\n",
       "      <td>-532.0</td>\n",
       "      <td>-618.0</td>\n",
       "      <td>-18.0</td>\n",
       "      <td>0.0</td>\n",
       "      <td>0.0</td>\n",
       "      <td>0.0</td>\n",
       "      <td>0.0</td>\n",
       "      <td>0.0</td>\n",
       "      <td>0.0</td>\n",
       "      <td>5309.0</td>\n",
       "      <td>5166.0</td>\n",
       "      <td>142.0</td>\n",
       "      <td>5674.0</td>\n",
       "      <td>6162.0</td>\n",
       "      <td>155.0</td>\n",
       "      <td>-365.0</td>\n",
       "      <td>-996.0</td>\n",
       "      <td>-13.0</td>\n",
       "      <td>0.0</td>\n",
       "      <td>0.0</td>\n",
       "      <td>0.0</td>\n",
       "      <td>0.0</td>\n",
       "      <td>0.0</td>\n",
       "      <td>0.0</td>\n",
       "      <td>5.0</td>\n",
       "      <td>2.0</td>\n",
       "      <td>426.272439</td>\n",
       "      <td>14.128828</td>\n",
       "      <td>0.227374</td>\n",
       "    </tr>\n",
       "    <tr>\n",
       "      <th>67576</th>\n",
       "      <td>67576</td>\n",
       "      <td>ESPORTSTMNT03_3167508</td>\n",
       "      <td>complete</td>\n",
       "      <td>NaN</td>\n",
       "      <td>LCK</td>\n",
       "      <td>2023</td>\n",
       "      <td>Summer</td>\n",
       "      <td>0</td>\n",
       "      <td>2023-06-07 08:11:03</td>\n",
       "      <td>1</td>\n",
       "      <td>13.10</td>\n",
       "      <td>5</td>\n",
       "      <td>Blue</td>\n",
       "      <td>sup</td>\n",
       "      <td>Lehends</td>\n",
       "      <td>oe:player:e4e24b8656e4e6a74b939af730b0148</td>\n",
       "      <td>KT Rolster</td>\n",
       "      <td>oe:team:d723992568441c6bafa2658129eade7</td>\n",
       "      <td>Yuumi</td>\n",
       "      <td>Vi</td>\n",
       "      <td>Maokai</td>\n",
       "      <td>Lucian</td>\n",
       "      <td>Lulu</td>\n",
       "      <td>Ornn</td>\n",
       "      <td>1894</td>\n",
       "      <td>1</td>\n",
       "      <td>1</td>\n",
       "      <td>1</td>\n",
       "      <td>8</td>\n",
       "      <td>12</td>\n",
       "      <td>6</td>\n",
       "      <td>0.0</td>\n",
       "      <td>0.0</td>\n",
       "      <td>0.0</td>\n",
       "      <td>0.0</td>\n",
       "      <td>0.0</td>\n",
       "      <td>0.0</td>\n",
       "      <td>0.0</td>\n",
       "      <td>0.0</td>\n",
       "      <td>0.3801</td>\n",
       "      <td>0.5702</td>\n",
       "      <td>NaN</td>\n",
       "      <td>NaN</td>\n",
       "      <td>NaN</td>\n",
       "      <td>NaN</td>\n",
       "      <td>NaN</td>\n",
       "      <td>NaN</td>\n",
       "      <td>NaN</td>\n",
       "      <td>NaN</td>\n",
       "      <td>NaN</td>\n",
       "      <td>NaN</td>\n",
       "      <td>NaN</td>\n",
       "      <td>NaN</td>\n",
       "      <td>NaN</td>\n",
       "      <td>NaN</td>\n",
       "      <td>NaN</td>\n",
       "      <td>NaN</td>\n",
       "      <td>NaN</td>\n",
       "      <td>NaN</td>\n",
       "      <td>0.0</td>\n",
       "      <td>0.0</td>\n",
       "      <td>NaN</td>\n",
       "      <td>NaN</td>\n",
       "      <td>NaN</td>\n",
       "      <td>NaN</td>\n",
       "      <td>NaN</td>\n",
       "      <td>NaN</td>\n",
       "      <td>NaN</td>\n",
       "      <td>0.0</td>\n",
       "      <td>0.0</td>\n",
       "      <td>3970</td>\n",
       "      <td>125.7656</td>\n",
       "      <td>0.062544</td>\n",
       "      <td>113.4741</td>\n",
       "      <td>58.2577</td>\n",
       "      <td>38</td>\n",
       "      <td>1.2038</td>\n",
       "      <td>2</td>\n",
       "      <td>0.0634</td>\n",
       "      <td>10</td>\n",
       "      <td>66</td>\n",
       "      <td>2.0908</td>\n",
       "      <td>7558</td>\n",
       "      <td>3419</td>\n",
       "      <td>108.3105</td>\n",
       "      <td>0.088835</td>\n",
       "      <td>6650</td>\n",
       "      <td>NaN</td>\n",
       "      <td>11.0</td>\n",
       "      <td>11.0</td>\n",
       "      <td>0</td>\n",
       "      <td>NaN</td>\n",
       "      <td>NaN</td>\n",
       "      <td>0.3485</td>\n",
       "      <td>2109.0</td>\n",
       "      <td>2740.0</td>\n",
       "      <td>4.0</td>\n",
       "      <td>2272.0</td>\n",
       "      <td>2454.0</td>\n",
       "      <td>15.0</td>\n",
       "      <td>-163.0</td>\n",
       "      <td>286.0</td>\n",
       "      <td>-11.0</td>\n",
       "      <td>0.0</td>\n",
       "      <td>0.0</td>\n",
       "      <td>0.0</td>\n",
       "      <td>0.0</td>\n",
       "      <td>1.0</td>\n",
       "      <td>0.0</td>\n",
       "      <td>2936.0</td>\n",
       "      <td>4236.0</td>\n",
       "      <td>6.0</td>\n",
       "      <td>3152.0</td>\n",
       "      <td>3303.0</td>\n",
       "      <td>21.0</td>\n",
       "      <td>-216.0</td>\n",
       "      <td>933.0</td>\n",
       "      <td>-15.0</td>\n",
       "      <td>0.0</td>\n",
       "      <td>0.0</td>\n",
       "      <td>0.0</td>\n",
       "      <td>0.0</td>\n",
       "      <td>1.0</td>\n",
       "      <td>0.0</td>\n",
       "      <td>9.0</td>\n",
       "      <td>1.0</td>\n",
       "      <td>239.429778</td>\n",
       "      <td>35.100317</td>\n",
       "      <td>0.127712</td>\n",
       "    </tr>\n",
       "  </tbody>\n",
       "</table>\n",
       "</div>"
      ],
      "text/plain": [
       "       index                 gameid datacompleteness  url league  year   \n",
       "67572  67572  ESPORTSTMNT03_3167508         complete  NaN    LCK  2023  \\\n",
       "67573  67573  ESPORTSTMNT03_3167508         complete  NaN    LCK  2023   \n",
       "67574  67574  ESPORTSTMNT03_3167508         complete  NaN    LCK  2023   \n",
       "67575  67575  ESPORTSTMNT03_3167508         complete  NaN    LCK  2023   \n",
       "67576  67576  ESPORTSTMNT03_3167508         complete  NaN    LCK  2023   \n",
       "\n",
       "        split  playoffs                 date  game  patch  participantid   \n",
       "67572  Summer         0  2023-06-07 08:11:03     1  13.10              1  \\\n",
       "67573  Summer         0  2023-06-07 08:11:03     1  13.10              2   \n",
       "67574  Summer         0  2023-06-07 08:11:03     1  13.10              3   \n",
       "67575  Summer         0  2023-06-07 08:11:03     1  13.10              4   \n",
       "67576  Summer         0  2023-06-07 08:11:03     1  13.10              5   \n",
       "\n",
       "       side position playername                                   playerid   \n",
       "67572  Blue      top       Kiin  oe:player:03daae1844b9ad257324c3eedf41e28  \\\n",
       "67573  Blue      jng       Cuzz  oe:player:f9fe6d28d5b67bf9ac673b2cc8edf15   \n",
       "67574  Blue      mid        Bdd  oe:player:30361653a485a9609fb2d3aa073282c   \n",
       "67575  Blue      bot     Aiming  oe:player:85104684d1eb7f4c0ce393441a0b669   \n",
       "67576  Blue      sup    Lehends  oe:player:e4e24b8656e4e6a74b939af730b0148   \n",
       "\n",
       "         teamname                                   teamid  champion ban1   \n",
       "67572  KT Rolster  oe:team:d723992568441c6bafa2658129eade7  Malphite   Vi  \\\n",
       "67573  KT Rolster  oe:team:d723992568441c6bafa2658129eade7     Viego   Vi   \n",
       "67574  KT Rolster  oe:team:d723992568441c6bafa2658129eade7     Annie   Vi   \n",
       "67575  KT Rolster  oe:team:d723992568441c6bafa2658129eade7    Ezreal   Vi   \n",
       "67576  KT Rolster  oe:team:d723992568441c6bafa2658129eade7     Yuumi   Vi   \n",
       "\n",
       "         ban2    ban3  ban4  ban5  gamelength  result  kills  deaths  assists   \n",
       "67572  Maokai  Lucian  Lulu  Ornn        1894       1      2       1        9  \\\n",
       "67573  Maokai  Lucian  Lulu  Ornn        1894       1      5       1        5   \n",
       "67574  Maokai  Lucian  Lulu  Ornn        1894       1      2       2       10   \n",
       "67575  Maokai  Lucian  Lulu  Ornn        1894       1      2       1        3   \n",
       "67576  Maokai  Lucian  Lulu  Ornn        1894       1      1       1        8   \n",
       "\n",
       "       teamkills  teamdeaths  doublekills  triplekills  quadrakills   \n",
       "67572         12           6          0.0          0.0          0.0  \\\n",
       "67573         12           6          2.0          1.0          0.0   \n",
       "67574         12           6          0.0          0.0          0.0   \n",
       "67575         12           6          0.0          0.0          0.0   \n",
       "67576         12           6          0.0          0.0          0.0   \n",
       "\n",
       "       pentakills  firstblood  firstbloodkill  firstbloodassist   \n",
       "67572         0.0         0.0             0.0               0.0  \\\n",
       "67573         0.0         0.0             0.0               0.0   \n",
       "67574         0.0         0.0             0.0               0.0   \n",
       "67575         0.0         0.0             0.0               0.0   \n",
       "67576         0.0         0.0             0.0               0.0   \n",
       "\n",
       "       firstbloodvictim  team kpm    ckpm  firstdragon  dragons  opp_dragons   \n",
       "67572               0.0    0.3801  0.5702          NaN      NaN          NaN  \\\n",
       "67573               1.0    0.3801  0.5702          NaN      NaN          NaN   \n",
       "67574               0.0    0.3801  0.5702          NaN      NaN          NaN   \n",
       "67575               0.0    0.3801  0.5702          NaN      NaN          NaN   \n",
       "67576               0.0    0.3801  0.5702          NaN      NaN          NaN   \n",
       "\n",
       "       elementaldrakes  opp_elementaldrakes  infernals  mountains  clouds   \n",
       "67572              NaN                  NaN        NaN        NaN     NaN  \\\n",
       "67573              NaN                  NaN        NaN        NaN     NaN   \n",
       "67574              NaN                  NaN        NaN        NaN     NaN   \n",
       "67575              NaN                  NaN        NaN        NaN     NaN   \n",
       "67576              NaN                  NaN        NaN        NaN     NaN   \n",
       "\n",
       "       oceans  chemtechs  hextechs  dragons (type unknown)  elders   \n",
       "67572     NaN        NaN       NaN                     NaN     NaN  \\\n",
       "67573     NaN        NaN       NaN                     NaN     NaN   \n",
       "67574     NaN        NaN       NaN                     NaN     NaN   \n",
       "67575     NaN        NaN       NaN                     NaN     NaN   \n",
       "67576     NaN        NaN       NaN                     NaN     NaN   \n",
       "\n",
       "       opp_elders  firstherald  heralds  opp_heralds  firstbaron  barons   \n",
       "67572         NaN          NaN      NaN          NaN         NaN     0.0  \\\n",
       "67573         NaN          NaN      NaN          NaN         NaN     1.0   \n",
       "67574         NaN          NaN      NaN          NaN         NaN     0.0   \n",
       "67575         NaN          NaN      NaN          NaN         NaN     0.0   \n",
       "67576         NaN          NaN      NaN          NaN         NaN     0.0   \n",
       "\n",
       "       opp_barons  firsttower  towers  opp_towers  firstmidtower   \n",
       "67572         0.0         NaN     NaN         NaN            NaN  \\\n",
       "67573         0.0         NaN     NaN         NaN            NaN   \n",
       "67574         0.0         NaN     NaN         NaN            NaN   \n",
       "67575         0.0         NaN     NaN         NaN            NaN   \n",
       "67576         0.0         NaN     NaN         NaN            NaN   \n",
       "\n",
       "       firsttothreetowers  turretplates  opp_turretplates  inhibitors   \n",
       "67572                 NaN           NaN               NaN         0.0  \\\n",
       "67573                 NaN           NaN               NaN         0.0   \n",
       "67574                 NaN           NaN               NaN         1.0   \n",
       "67575                 NaN           NaN               NaN         1.0   \n",
       "67576                 NaN           NaN               NaN         0.0   \n",
       "\n",
       "       opp_inhibitors  damagetochampions       dpm  damageshare   \n",
       "67572             0.0              17628  558.4372     0.277716  \\\n",
       "67573             0.0              13080  414.3611     0.206065   \n",
       "67574             0.0              15295  484.5301     0.240961   \n",
       "67575             0.0              13502  427.7297     0.212714   \n",
       "67576             0.0               3970  125.7656     0.062544   \n",
       "\n",
       "       damagetakenperminute  damagemitigatedperminute  wardsplaced     wpm   \n",
       "67572              661.4572                 1947.4974           11  0.3485  \\\n",
       "67573              806.1035                  970.7075           14  0.4435   \n",
       "67574              330.3168                  291.0982           24  0.7603   \n",
       "67575              372.9884                  235.1531           14  0.4435   \n",
       "67576              113.4741                   58.2577           38  1.2038   \n",
       "\n",
       "       wardskilled    wcpm  controlwardsbought  visionscore    vspm   \n",
       "67572           10  0.3168                   6           37  1.1721  \\\n",
       "67573           20  0.6336                  22           63  1.9958   \n",
       "67574            7  0.2218                  13           42  1.3305   \n",
       "67575           15  0.4752                   4           39  1.2355   \n",
       "67576            2  0.0634                  10           66  2.0908   \n",
       "\n",
       "       totalgold  earnedgold  earned gpm  earnedgoldshare  goldspent  gspd   \n",
       "67572      12665        8526    270.0950         0.221542      11800   NaN  \\\n",
       "67573      12416        8277    262.2070         0.215072      11225   NaN   \n",
       "67574      13085        8946    283.4002         0.232456      12475   NaN   \n",
       "67575      13456        9317    295.1531         0.242096      12483   NaN   \n",
       "67576       7558        3419    108.3105         0.088835       6650   NaN   \n",
       "\n",
       "       total cs  minionkills  monsterkills  monsterkillsownjungle   \n",
       "67572     285.0        281.0             4                    NaN  \\\n",
       "67573     214.0         23.0           191                    NaN   \n",
       "67574     293.0        293.0             0                    NaN   \n",
       "67575     310.0        298.0            12                    NaN   \n",
       "67576      11.0         11.0             0                    NaN   \n",
       "\n",
       "       monsterkillsenemyjungle    cspm  goldat10  xpat10  csat10   \n",
       "67572                      NaN  9.0285    3373.0  5212.0    95.0  \\\n",
       "67573                      NaN  6.7793    3334.0  3779.0    78.0   \n",
       "67574                      NaN  9.2819    3526.0  5066.0    99.0   \n",
       "67575                      NaN  9.8205    3403.0  3111.0    83.0   \n",
       "67576                      NaN  0.3485    2109.0  2740.0     4.0   \n",
       "\n",
       "       opp_goldat10  opp_xpat10  opp_csat10  golddiffat10  xpdiffat10   \n",
       "67572        3676.0      5212.0        98.0        -303.0         0.0  \\\n",
       "67573        3256.0      3652.0        71.0          78.0       127.0   \n",
       "67574        3509.0      4208.0        80.0          17.0       858.0   \n",
       "67575        3935.0      3729.0       101.0        -532.0      -618.0   \n",
       "67576        2272.0      2454.0        15.0        -163.0       286.0   \n",
       "\n",
       "       csdiffat10  killsat10  assistsat10  deathsat10  opp_killsat10   \n",
       "67572        -3.0        0.0          0.0         0.0            0.0  \\\n",
       "67573         7.0        0.0          0.0         1.0            0.0   \n",
       "67574        19.0        0.0          0.0         0.0            1.0   \n",
       "67575       -18.0        0.0          0.0         0.0            0.0   \n",
       "67576       -11.0        0.0          0.0         0.0            0.0   \n",
       "\n",
       "       opp_assistsat10  opp_deathsat10  goldat15  xpat15  csat15   \n",
       "67572              0.0             0.0    5153.0  8046.0   146.0  \\\n",
       "67573              0.0             0.0    4884.0  5891.0   117.0   \n",
       "67574              0.0             0.0    5425.0  8471.0   163.0   \n",
       "67575              0.0             0.0    5309.0  5166.0   142.0   \n",
       "67576              1.0             0.0    2936.0  4236.0     6.0   \n",
       "\n",
       "       opp_goldat15  opp_xpat15  opp_csat15  golddiffat15  xpdiffat15   \n",
       "67572        5274.0      7985.0       147.0        -121.0        61.0  \\\n",
       "67573        5011.0      5448.0       106.0        -127.0       443.0   \n",
       "67574        5265.0      7040.0       134.0         160.0      1431.0   \n",
       "67575        5674.0      6162.0       155.0        -365.0      -996.0   \n",
       "67576        3152.0      3303.0        21.0        -216.0       933.0   \n",
       "\n",
       "       csdiffat15  killsat15  assistsat15  deathsat15  opp_killsat15   \n",
       "67572        -1.0        0.0          0.0         0.0            0.0  \\\n",
       "67573        11.0        0.0          0.0         1.0            0.0   \n",
       "67574        29.0        0.0          0.0         0.0            1.0   \n",
       "67575       -13.0        0.0          0.0         0.0            0.0   \n",
       "67576       -15.0        0.0          0.0         0.0            0.0   \n",
       "\n",
       "       opp_assistsat15  opp_deathsat15   kda   kd         gpm       gdpm   \n",
       "67572              0.0             0.0  11.0  2.0  401.214361  53.315734  \\\n",
       "67573              0.0             0.0  10.0  5.0  393.326294  61.805702   \n",
       "67574              0.0             0.0   6.0  1.0  414.519535  47.771911   \n",
       "67575              0.0             0.0   5.0  2.0  426.272439  14.128828   \n",
       "67576              1.0             0.0   9.0  1.0  239.429778  35.100317   \n",
       "\n",
       "       goldshare  \n",
       "67572   0.214008  \n",
       "67573   0.209801  \n",
       "67574   0.221105  \n",
       "67575   0.227374  \n",
       "67576   0.127712  "
      ]
     },
     "execution_count": 10,
     "metadata": {},
     "output_type": "execute_result"
    }
   ],
   "source": [
    "matches = get_matches(matches_data, \"LCK\", \"Summer\")\n",
    "matches.head()"
   ]
  },
  {
   "cell_type": "code",
   "execution_count": 11,
   "metadata": {},
   "outputs": [
    {
     "name": "stdout",
     "output_type": "stream",
     "text": [
      "(94, 129) (47, 37) True\n"
     ]
    },
    {
     "data": {
      "text/html": [
       "<div>\n",
       "<style scoped>\n",
       "    .dataframe tbody tr th:only-of-type {\n",
       "        vertical-align: middle;\n",
       "    }\n",
       "\n",
       "    .dataframe tbody tr th {\n",
       "        vertical-align: top;\n",
       "    }\n",
       "\n",
       "    .dataframe thead th {\n",
       "        text-align: right;\n",
       "    }\n",
       "</style>\n",
       "<table border=\"1\" class=\"dataframe\">\n",
       "  <thead>\n",
       "    <tr style=\"text-align: right;\">\n",
       "      <th></th>\n",
       "      <th>index</th>\n",
       "      <th>gameid</th>\n",
       "      <th>datacompleteness</th>\n",
       "      <th>url</th>\n",
       "      <th>league</th>\n",
       "      <th>year</th>\n",
       "      <th>split</th>\n",
       "      <th>playoffs</th>\n",
       "      <th>date</th>\n",
       "      <th>game</th>\n",
       "      <th>patch</th>\n",
       "      <th>participantid</th>\n",
       "      <th>side</th>\n",
       "      <th>position</th>\n",
       "      <th>playername</th>\n",
       "      <th>playerid</th>\n",
       "      <th>teamname</th>\n",
       "      <th>teamid</th>\n",
       "      <th>champion</th>\n",
       "      <th>ban1</th>\n",
       "      <th>ban2</th>\n",
       "      <th>ban3</th>\n",
       "      <th>ban4</th>\n",
       "      <th>ban5</th>\n",
       "      <th>gamelength</th>\n",
       "      <th>result</th>\n",
       "      <th>kills</th>\n",
       "      <th>deaths</th>\n",
       "      <th>assists</th>\n",
       "      <th>teamkills</th>\n",
       "      <th>teamdeaths</th>\n",
       "      <th>doublekills</th>\n",
       "      <th>triplekills</th>\n",
       "      <th>quadrakills</th>\n",
       "      <th>pentakills</th>\n",
       "      <th>firstblood</th>\n",
       "      <th>firstbloodkill</th>\n",
       "      <th>firstbloodassist</th>\n",
       "      <th>firstbloodvictim</th>\n",
       "      <th>team kpm</th>\n",
       "      <th>ckpm</th>\n",
       "      <th>firstdragon</th>\n",
       "      <th>dragons</th>\n",
       "      <th>opp_dragons</th>\n",
       "      <th>elementaldrakes</th>\n",
       "      <th>opp_elementaldrakes</th>\n",
       "      <th>infernals</th>\n",
       "      <th>mountains</th>\n",
       "      <th>clouds</th>\n",
       "      <th>oceans</th>\n",
       "      <th>chemtechs</th>\n",
       "      <th>hextechs</th>\n",
       "      <th>dragons (type unknown)</th>\n",
       "      <th>elders</th>\n",
       "      <th>opp_elders</th>\n",
       "      <th>firstherald</th>\n",
       "      <th>heralds</th>\n",
       "      <th>opp_heralds</th>\n",
       "      <th>firstbaron</th>\n",
       "      <th>barons</th>\n",
       "      <th>opp_barons</th>\n",
       "      <th>firsttower</th>\n",
       "      <th>towers</th>\n",
       "      <th>opp_towers</th>\n",
       "      <th>firstmidtower</th>\n",
       "      <th>firsttothreetowers</th>\n",
       "      <th>turretplates</th>\n",
       "      <th>opp_turretplates</th>\n",
       "      <th>inhibitors</th>\n",
       "      <th>opp_inhibitors</th>\n",
       "      <th>damagetochampions</th>\n",
       "      <th>dpm</th>\n",
       "      <th>damageshare</th>\n",
       "      <th>damagetakenperminute</th>\n",
       "      <th>damagemitigatedperminute</th>\n",
       "      <th>wardsplaced</th>\n",
       "      <th>wpm</th>\n",
       "      <th>wardskilled</th>\n",
       "      <th>wcpm</th>\n",
       "      <th>controlwardsbought</th>\n",
       "      <th>visionscore</th>\n",
       "      <th>vspm</th>\n",
       "      <th>totalgold</th>\n",
       "      <th>earnedgold</th>\n",
       "      <th>earned gpm</th>\n",
       "      <th>earnedgoldshare</th>\n",
       "      <th>goldspent</th>\n",
       "      <th>gspd</th>\n",
       "      <th>total cs</th>\n",
       "      <th>minionkills</th>\n",
       "      <th>monsterkills</th>\n",
       "      <th>monsterkillsownjungle</th>\n",
       "      <th>monsterkillsenemyjungle</th>\n",
       "      <th>cspm</th>\n",
       "      <th>goldat10</th>\n",
       "      <th>xpat10</th>\n",
       "      <th>csat10</th>\n",
       "      <th>opp_goldat10</th>\n",
       "      <th>opp_xpat10</th>\n",
       "      <th>opp_csat10</th>\n",
       "      <th>golddiffat10</th>\n",
       "      <th>xpdiffat10</th>\n",
       "      <th>csdiffat10</th>\n",
       "      <th>killsat10</th>\n",
       "      <th>assistsat10</th>\n",
       "      <th>deathsat10</th>\n",
       "      <th>opp_killsat10</th>\n",
       "      <th>opp_assistsat10</th>\n",
       "      <th>opp_deathsat10</th>\n",
       "      <th>goldat15</th>\n",
       "      <th>xpat15</th>\n",
       "      <th>csat15</th>\n",
       "      <th>opp_goldat15</th>\n",
       "      <th>opp_xpat15</th>\n",
       "      <th>opp_csat15</th>\n",
       "      <th>golddiffat15</th>\n",
       "      <th>xpdiffat15</th>\n",
       "      <th>csdiffat15</th>\n",
       "      <th>killsat15</th>\n",
       "      <th>assistsat15</th>\n",
       "      <th>deathsat15</th>\n",
       "      <th>opp_killsat15</th>\n",
       "      <th>opp_assistsat15</th>\n",
       "      <th>opp_deathsat15</th>\n",
       "      <th>kda</th>\n",
       "      <th>kd</th>\n",
       "      <th>gpm</th>\n",
       "      <th>gdpm</th>\n",
       "      <th>goldshare</th>\n",
       "    </tr>\n",
       "  </thead>\n",
       "  <tbody>\n",
       "    <tr>\n",
       "      <th>67582</th>\n",
       "      <td>67582</td>\n",
       "      <td>ESPORTSTMNT03_3167508</td>\n",
       "      <td>complete</td>\n",
       "      <td>NaN</td>\n",
       "      <td>LCK</td>\n",
       "      <td>2023</td>\n",
       "      <td>Summer</td>\n",
       "      <td>0</td>\n",
       "      <td>2023-06-07 08:11:03</td>\n",
       "      <td>1</td>\n",
       "      <td>13.10</td>\n",
       "      <td>100</td>\n",
       "      <td>Blue</td>\n",
       "      <td>team</td>\n",
       "      <td>NaN</td>\n",
       "      <td>NaN</td>\n",
       "      <td>KT Rolster</td>\n",
       "      <td>oe:team:d723992568441c6bafa2658129eade7</td>\n",
       "      <td>NaN</td>\n",
       "      <td>Vi</td>\n",
       "      <td>Maokai</td>\n",
       "      <td>Lucian</td>\n",
       "      <td>Lulu</td>\n",
       "      <td>Ornn</td>\n",
       "      <td>1894</td>\n",
       "      <td>1</td>\n",
       "      <td>12</td>\n",
       "      <td>6</td>\n",
       "      <td>35</td>\n",
       "      <td>12</td>\n",
       "      <td>6</td>\n",
       "      <td>2.0</td>\n",
       "      <td>1.0</td>\n",
       "      <td>0.0</td>\n",
       "      <td>0.0</td>\n",
       "      <td>0.0</td>\n",
       "      <td>NaN</td>\n",
       "      <td>NaN</td>\n",
       "      <td>NaN</td>\n",
       "      <td>0.3801</td>\n",
       "      <td>0.5702</td>\n",
       "      <td>0.0</td>\n",
       "      <td>3.0</td>\n",
       "      <td>1.0</td>\n",
       "      <td>3.0</td>\n",
       "      <td>1.0</td>\n",
       "      <td>2.0</td>\n",
       "      <td>0.0</td>\n",
       "      <td>0.0</td>\n",
       "      <td>0.0</td>\n",
       "      <td>0.0</td>\n",
       "      <td>1.0</td>\n",
       "      <td>NaN</td>\n",
       "      <td>0.0</td>\n",
       "      <td>0.0</td>\n",
       "      <td>0.0</td>\n",
       "      <td>0.0</td>\n",
       "      <td>2.0</td>\n",
       "      <td>1.0</td>\n",
       "      <td>1.0</td>\n",
       "      <td>0.0</td>\n",
       "      <td>0.0</td>\n",
       "      <td>9.0</td>\n",
       "      <td>3.0</td>\n",
       "      <td>0.0</td>\n",
       "      <td>0.0</td>\n",
       "      <td>3.0</td>\n",
       "      <td>4.0</td>\n",
       "      <td>2.0</td>\n",
       "      <td>0.0</td>\n",
       "      <td>63475</td>\n",
       "      <td>2010.8237</td>\n",
       "      <td>NaN</td>\n",
       "      <td>2284.3400</td>\n",
       "      <td>3502.7138</td>\n",
       "      <td>101</td>\n",
       "      <td>3.1996</td>\n",
       "      <td>54</td>\n",
       "      <td>1.7107</td>\n",
       "      <td>55</td>\n",
       "      <td>247</td>\n",
       "      <td>7.8247</td>\n",
       "      <td>59180</td>\n",
       "      <td>38483</td>\n",
       "      <td>1219.1024</td>\n",
       "      <td>NaN</td>\n",
       "      <td>54633</td>\n",
       "      <td>0.068589</td>\n",
       "      <td>NaN</td>\n",
       "      <td>906.0</td>\n",
       "      <td>207</td>\n",
       "      <td>NaN</td>\n",
       "      <td>NaN</td>\n",
       "      <td>35.2587</td>\n",
       "      <td>15745.0</td>\n",
       "      <td>19908.0</td>\n",
       "      <td>359.0</td>\n",
       "      <td>16648.0</td>\n",
       "      <td>19255.0</td>\n",
       "      <td>365.0</td>\n",
       "      <td>-903.0</td>\n",
       "      <td>653.0</td>\n",
       "      <td>-6.0</td>\n",
       "      <td>0.0</td>\n",
       "      <td>0.0</td>\n",
       "      <td>1.0</td>\n",
       "      <td>1.0</td>\n",
       "      <td>1.0</td>\n",
       "      <td>0.0</td>\n",
       "      <td>23707.0</td>\n",
       "      <td>31810.0</td>\n",
       "      <td>574.0</td>\n",
       "      <td>24376.0</td>\n",
       "      <td>29938.0</td>\n",
       "      <td>563.0</td>\n",
       "      <td>-669.0</td>\n",
       "      <td>1872.0</td>\n",
       "      <td>11.0</td>\n",
       "      <td>0.0</td>\n",
       "      <td>0.0</td>\n",
       "      <td>1.0</td>\n",
       "      <td>1.0</td>\n",
       "      <td>1.0</td>\n",
       "      <td>0.0</td>\n",
       "      <td>7.833333</td>\n",
       "      <td>2.000000</td>\n",
       "      <td>1874.762408</td>\n",
       "      <td>212.122492</td>\n",
       "      <td>1.0</td>\n",
       "    </tr>\n",
       "    <tr>\n",
       "      <th>67583</th>\n",
       "      <td>67583</td>\n",
       "      <td>ESPORTSTMNT03_3167508</td>\n",
       "      <td>complete</td>\n",
       "      <td>NaN</td>\n",
       "      <td>LCK</td>\n",
       "      <td>2023</td>\n",
       "      <td>Summer</td>\n",
       "      <td>0</td>\n",
       "      <td>2023-06-07 08:11:03</td>\n",
       "      <td>1</td>\n",
       "      <td>13.10</td>\n",
       "      <td>200</td>\n",
       "      <td>Red</td>\n",
       "      <td>team</td>\n",
       "      <td>NaN</td>\n",
       "      <td>NaN</td>\n",
       "      <td>Hanwha Life Esports</td>\n",
       "      <td>oe:team:3a1d18f46bcb3716ebcfcf4ef068934</td>\n",
       "      <td>NaN</td>\n",
       "      <td>Milio</td>\n",
       "      <td>Zeri</td>\n",
       "      <td>Neeko</td>\n",
       "      <td>Kha'Zix</td>\n",
       "      <td>Jax</td>\n",
       "      <td>1894</td>\n",
       "      <td>0</td>\n",
       "      <td>6</td>\n",
       "      <td>12</td>\n",
       "      <td>15</td>\n",
       "      <td>6</td>\n",
       "      <td>12</td>\n",
       "      <td>1.0</td>\n",
       "      <td>0.0</td>\n",
       "      <td>0.0</td>\n",
       "      <td>0.0</td>\n",
       "      <td>1.0</td>\n",
       "      <td>NaN</td>\n",
       "      <td>NaN</td>\n",
       "      <td>NaN</td>\n",
       "      <td>0.1901</td>\n",
       "      <td>0.5702</td>\n",
       "      <td>1.0</td>\n",
       "      <td>1.0</td>\n",
       "      <td>3.0</td>\n",
       "      <td>1.0</td>\n",
       "      <td>3.0</td>\n",
       "      <td>0.0</td>\n",
       "      <td>1.0</td>\n",
       "      <td>0.0</td>\n",
       "      <td>0.0</td>\n",
       "      <td>0.0</td>\n",
       "      <td>0.0</td>\n",
       "      <td>NaN</td>\n",
       "      <td>0.0</td>\n",
       "      <td>0.0</td>\n",
       "      <td>1.0</td>\n",
       "      <td>2.0</td>\n",
       "      <td>0.0</td>\n",
       "      <td>0.0</td>\n",
       "      <td>0.0</td>\n",
       "      <td>1.0</td>\n",
       "      <td>1.0</td>\n",
       "      <td>3.0</td>\n",
       "      <td>9.0</td>\n",
       "      <td>1.0</td>\n",
       "      <td>1.0</td>\n",
       "      <td>4.0</td>\n",
       "      <td>3.0</td>\n",
       "      <td>0.0</td>\n",
       "      <td>2.0</td>\n",
       "      <td>43064</td>\n",
       "      <td>1364.2239</td>\n",
       "      <td>NaN</td>\n",
       "      <td>2790.0317</td>\n",
       "      <td>3714.9630</td>\n",
       "      <td>115</td>\n",
       "      <td>3.6431</td>\n",
       "      <td>43</td>\n",
       "      <td>1.3622</td>\n",
       "      <td>53</td>\n",
       "      <td>260</td>\n",
       "      <td>8.2365</td>\n",
       "      <td>52484</td>\n",
       "      <td>31787</td>\n",
       "      <td>1006.9799</td>\n",
       "      <td>NaN</td>\n",
       "      <td>51010</td>\n",
       "      <td>-0.068589</td>\n",
       "      <td>NaN</td>\n",
       "      <td>900.0</td>\n",
       "      <td>195</td>\n",
       "      <td>NaN</td>\n",
       "      <td>NaN</td>\n",
       "      <td>34.6885</td>\n",
       "      <td>16648.0</td>\n",
       "      <td>19255.0</td>\n",
       "      <td>365.0</td>\n",
       "      <td>15745.0</td>\n",
       "      <td>19908.0</td>\n",
       "      <td>359.0</td>\n",
       "      <td>903.0</td>\n",
       "      <td>-653.0</td>\n",
       "      <td>6.0</td>\n",
       "      <td>1.0</td>\n",
       "      <td>1.0</td>\n",
       "      <td>0.0</td>\n",
       "      <td>0.0</td>\n",
       "      <td>0.0</td>\n",
       "      <td>1.0</td>\n",
       "      <td>24376.0</td>\n",
       "      <td>29938.0</td>\n",
       "      <td>563.0</td>\n",
       "      <td>23707.0</td>\n",
       "      <td>31810.0</td>\n",
       "      <td>574.0</td>\n",
       "      <td>669.0</td>\n",
       "      <td>-1872.0</td>\n",
       "      <td>-11.0</td>\n",
       "      <td>1.0</td>\n",
       "      <td>1.0</td>\n",
       "      <td>0.0</td>\n",
       "      <td>0.0</td>\n",
       "      <td>0.0</td>\n",
       "      <td>1.0</td>\n",
       "      <td>1.750000</td>\n",
       "      <td>0.500000</td>\n",
       "      <td>1662.639916</td>\n",
       "      <td>-212.122492</td>\n",
       "      <td>1.0</td>\n",
       "    </tr>\n",
       "    <tr>\n",
       "      <th>67594</th>\n",
       "      <td>67594</td>\n",
       "      <td>ESPORTSTMNT03_3165687</td>\n",
       "      <td>complete</td>\n",
       "      <td>NaN</td>\n",
       "      <td>LCK</td>\n",
       "      <td>2023</td>\n",
       "      <td>Summer</td>\n",
       "      <td>0</td>\n",
       "      <td>2023-06-07 09:09:21</td>\n",
       "      <td>2</td>\n",
       "      <td>13.10</td>\n",
       "      <td>100</td>\n",
       "      <td>Blue</td>\n",
       "      <td>team</td>\n",
       "      <td>NaN</td>\n",
       "      <td>NaN</td>\n",
       "      <td>Hanwha Life Esports</td>\n",
       "      <td>oe:team:3a1d18f46bcb3716ebcfcf4ef068934</td>\n",
       "      <td>NaN</td>\n",
       "      <td>Yuumi</td>\n",
       "      <td>Maokai</td>\n",
       "      <td>Annie</td>\n",
       "      <td>Jax</td>\n",
       "      <td>Malphite</td>\n",
       "      <td>1771</td>\n",
       "      <td>1</td>\n",
       "      <td>21</td>\n",
       "      <td>8</td>\n",
       "      <td>46</td>\n",
       "      <td>21</td>\n",
       "      <td>8</td>\n",
       "      <td>5.0</td>\n",
       "      <td>0.0</td>\n",
       "      <td>0.0</td>\n",
       "      <td>0.0</td>\n",
       "      <td>1.0</td>\n",
       "      <td>NaN</td>\n",
       "      <td>NaN</td>\n",
       "      <td>NaN</td>\n",
       "      <td>0.7115</td>\n",
       "      <td>0.9825</td>\n",
       "      <td>1.0</td>\n",
       "      <td>4.0</td>\n",
       "      <td>0.0</td>\n",
       "      <td>4.0</td>\n",
       "      <td>0.0</td>\n",
       "      <td>1.0</td>\n",
       "      <td>0.0</td>\n",
       "      <td>2.0</td>\n",
       "      <td>0.0</td>\n",
       "      <td>1.0</td>\n",
       "      <td>0.0</td>\n",
       "      <td>NaN</td>\n",
       "      <td>0.0</td>\n",
       "      <td>0.0</td>\n",
       "      <td>1.0</td>\n",
       "      <td>2.0</td>\n",
       "      <td>0.0</td>\n",
       "      <td>1.0</td>\n",
       "      <td>2.0</td>\n",
       "      <td>0.0</td>\n",
       "      <td>1.0</td>\n",
       "      <td>11.0</td>\n",
       "      <td>2.0</td>\n",
       "      <td>1.0</td>\n",
       "      <td>1.0</td>\n",
       "      <td>5.0</td>\n",
       "      <td>3.0</td>\n",
       "      <td>4.0</td>\n",
       "      <td>0.0</td>\n",
       "      <td>64790</td>\n",
       "      <td>2195.0311</td>\n",
       "      <td>NaN</td>\n",
       "      <td>2398.4416</td>\n",
       "      <td>2116.2620</td>\n",
       "      <td>99</td>\n",
       "      <td>3.3540</td>\n",
       "      <td>58</td>\n",
       "      <td>1.9650</td>\n",
       "      <td>56</td>\n",
       "      <td>282</td>\n",
       "      <td>9.5539</td>\n",
       "      <td>64347</td>\n",
       "      <td>44905</td>\n",
       "      <td>1521.3439</td>\n",
       "      <td>NaN</td>\n",
       "      <td>56900</td>\n",
       "      <td>0.239937</td>\n",
       "      <td>NaN</td>\n",
       "      <td>863.0</td>\n",
       "      <td>209</td>\n",
       "      <td>NaN</td>\n",
       "      <td>NaN</td>\n",
       "      <td>36.3185</td>\n",
       "      <td>17573.0</td>\n",
       "      <td>19024.0</td>\n",
       "      <td>327.0</td>\n",
       "      <td>15633.0</td>\n",
       "      <td>18366.0</td>\n",
       "      <td>309.0</td>\n",
       "      <td>1940.0</td>\n",
       "      <td>658.0</td>\n",
       "      <td>18.0</td>\n",
       "      <td>5.0</td>\n",
       "      <td>7.0</td>\n",
       "      <td>3.0</td>\n",
       "      <td>3.0</td>\n",
       "      <td>2.0</td>\n",
       "      <td>5.0</td>\n",
       "      <td>26565.0</td>\n",
       "      <td>30325.0</td>\n",
       "      <td>510.0</td>\n",
       "      <td>24999.0</td>\n",
       "      <td>30125.0</td>\n",
       "      <td>514.0</td>\n",
       "      <td>1566.0</td>\n",
       "      <td>200.0</td>\n",
       "      <td>-4.0</td>\n",
       "      <td>7.0</td>\n",
       "      <td>8.0</td>\n",
       "      <td>5.0</td>\n",
       "      <td>5.0</td>\n",
       "      <td>3.0</td>\n",
       "      <td>7.0</td>\n",
       "      <td>8.375000</td>\n",
       "      <td>2.625000</td>\n",
       "      <td>2180.022586</td>\n",
       "      <td>495.652174</td>\n",
       "      <td>1.0</td>\n",
       "    </tr>\n",
       "    <tr>\n",
       "      <th>67595</th>\n",
       "      <td>67595</td>\n",
       "      <td>ESPORTSTMNT03_3165687</td>\n",
       "      <td>complete</td>\n",
       "      <td>NaN</td>\n",
       "      <td>LCK</td>\n",
       "      <td>2023</td>\n",
       "      <td>Summer</td>\n",
       "      <td>0</td>\n",
       "      <td>2023-06-07 09:09:21</td>\n",
       "      <td>2</td>\n",
       "      <td>13.10</td>\n",
       "      <td>200</td>\n",
       "      <td>Red</td>\n",
       "      <td>team</td>\n",
       "      <td>NaN</td>\n",
       "      <td>NaN</td>\n",
       "      <td>KT Rolster</td>\n",
       "      <td>oe:team:d723992568441c6bafa2658129eade7</td>\n",
       "      <td>NaN</td>\n",
       "      <td>Neeko</td>\n",
       "      <td>Zeri</td>\n",
       "      <td>Lucian</td>\n",
       "      <td>LeBlanc</td>\n",
       "      <td>Ahri</td>\n",
       "      <td>1771</td>\n",
       "      <td>0</td>\n",
       "      <td>8</td>\n",
       "      <td>21</td>\n",
       "      <td>12</td>\n",
       "      <td>8</td>\n",
       "      <td>21</td>\n",
       "      <td>1.0</td>\n",
       "      <td>0.0</td>\n",
       "      <td>0.0</td>\n",
       "      <td>0.0</td>\n",
       "      <td>0.0</td>\n",
       "      <td>NaN</td>\n",
       "      <td>NaN</td>\n",
       "      <td>NaN</td>\n",
       "      <td>0.2710</td>\n",
       "      <td>0.9825</td>\n",
       "      <td>0.0</td>\n",
       "      <td>0.0</td>\n",
       "      <td>4.0</td>\n",
       "      <td>0.0</td>\n",
       "      <td>4.0</td>\n",
       "      <td>0.0</td>\n",
       "      <td>0.0</td>\n",
       "      <td>0.0</td>\n",
       "      <td>0.0</td>\n",
       "      <td>0.0</td>\n",
       "      <td>0.0</td>\n",
       "      <td>NaN</td>\n",
       "      <td>0.0</td>\n",
       "      <td>0.0</td>\n",
       "      <td>0.0</td>\n",
       "      <td>0.0</td>\n",
       "      <td>2.0</td>\n",
       "      <td>0.0</td>\n",
       "      <td>0.0</td>\n",
       "      <td>2.0</td>\n",
       "      <td>0.0</td>\n",
       "      <td>2.0</td>\n",
       "      <td>11.0</td>\n",
       "      <td>0.0</td>\n",
       "      <td>0.0</td>\n",
       "      <td>3.0</td>\n",
       "      <td>5.0</td>\n",
       "      <td>0.0</td>\n",
       "      <td>4.0</td>\n",
       "      <td>42966</td>\n",
       "      <td>1455.6522</td>\n",
       "      <td>NaN</td>\n",
       "      <td>2861.1632</td>\n",
       "      <td>2925.0932</td>\n",
       "      <td>103</td>\n",
       "      <td>3.4896</td>\n",
       "      <td>32</td>\n",
       "      <td>1.0841</td>\n",
       "      <td>37</td>\n",
       "      <td>200</td>\n",
       "      <td>6.7758</td>\n",
       "      <td>49717</td>\n",
       "      <td>30275</td>\n",
       "      <td>1025.6917</td>\n",
       "      <td>NaN</td>\n",
       "      <td>44710</td>\n",
       "      <td>-0.239937</td>\n",
       "      <td>NaN</td>\n",
       "      <td>825.0</td>\n",
       "      <td>146</td>\n",
       "      <td>NaN</td>\n",
       "      <td>NaN</td>\n",
       "      <td>32.8967</td>\n",
       "      <td>15633.0</td>\n",
       "      <td>18366.0</td>\n",
       "      <td>309.0</td>\n",
       "      <td>17573.0</td>\n",
       "      <td>19024.0</td>\n",
       "      <td>327.0</td>\n",
       "      <td>-1940.0</td>\n",
       "      <td>-658.0</td>\n",
       "      <td>-18.0</td>\n",
       "      <td>3.0</td>\n",
       "      <td>2.0</td>\n",
       "      <td>5.0</td>\n",
       "      <td>5.0</td>\n",
       "      <td>7.0</td>\n",
       "      <td>3.0</td>\n",
       "      <td>24999.0</td>\n",
       "      <td>30125.0</td>\n",
       "      <td>514.0</td>\n",
       "      <td>26565.0</td>\n",
       "      <td>30325.0</td>\n",
       "      <td>510.0</td>\n",
       "      <td>-1566.0</td>\n",
       "      <td>-200.0</td>\n",
       "      <td>4.0</td>\n",
       "      <td>5.0</td>\n",
       "      <td>3.0</td>\n",
       "      <td>7.0</td>\n",
       "      <td>7.0</td>\n",
       "      <td>8.0</td>\n",
       "      <td>5.0</td>\n",
       "      <td>0.952381</td>\n",
       "      <td>0.380952</td>\n",
       "      <td>1684.370412</td>\n",
       "      <td>-495.652174</td>\n",
       "      <td>1.0</td>\n",
       "    </tr>\n",
       "    <tr>\n",
       "      <th>67630</th>\n",
       "      <td>67630</td>\n",
       "      <td>ESPORTSTMNT03_3166614</td>\n",
       "      <td>complete</td>\n",
       "      <td>NaN</td>\n",
       "      <td>LCK</td>\n",
       "      <td>2023</td>\n",
       "      <td>Summer</td>\n",
       "      <td>0</td>\n",
       "      <td>2023-06-07 10:02:16</td>\n",
       "      <td>3</td>\n",
       "      <td>13.10</td>\n",
       "      <td>100</td>\n",
       "      <td>Blue</td>\n",
       "      <td>team</td>\n",
       "      <td>NaN</td>\n",
       "      <td>NaN</td>\n",
       "      <td>KT Rolster</td>\n",
       "      <td>oe:team:d723992568441c6bafa2658129eade7</td>\n",
       "      <td>NaN</td>\n",
       "      <td>Vi</td>\n",
       "      <td>Maokai</td>\n",
       "      <td>Lucian</td>\n",
       "      <td>Gnar</td>\n",
       "      <td>Ornn</td>\n",
       "      <td>1605</td>\n",
       "      <td>1</td>\n",
       "      <td>10</td>\n",
       "      <td>2</td>\n",
       "      <td>26</td>\n",
       "      <td>10</td>\n",
       "      <td>2</td>\n",
       "      <td>0.0</td>\n",
       "      <td>0.0</td>\n",
       "      <td>0.0</td>\n",
       "      <td>0.0</td>\n",
       "      <td>1.0</td>\n",
       "      <td>NaN</td>\n",
       "      <td>NaN</td>\n",
       "      <td>NaN</td>\n",
       "      <td>0.3738</td>\n",
       "      <td>0.4486</td>\n",
       "      <td>1.0</td>\n",
       "      <td>3.0</td>\n",
       "      <td>1.0</td>\n",
       "      <td>3.0</td>\n",
       "      <td>1.0</td>\n",
       "      <td>1.0</td>\n",
       "      <td>1.0</td>\n",
       "      <td>0.0</td>\n",
       "      <td>0.0</td>\n",
       "      <td>0.0</td>\n",
       "      <td>1.0</td>\n",
       "      <td>NaN</td>\n",
       "      <td>0.0</td>\n",
       "      <td>0.0</td>\n",
       "      <td>1.0</td>\n",
       "      <td>2.0</td>\n",
       "      <td>0.0</td>\n",
       "      <td>1.0</td>\n",
       "      <td>1.0</td>\n",
       "      <td>0.0</td>\n",
       "      <td>1.0</td>\n",
       "      <td>8.0</td>\n",
       "      <td>2.0</td>\n",
       "      <td>1.0</td>\n",
       "      <td>1.0</td>\n",
       "      <td>5.0</td>\n",
       "      <td>6.0</td>\n",
       "      <td>1.0</td>\n",
       "      <td>0.0</td>\n",
       "      <td>50259</td>\n",
       "      <td>1878.8411</td>\n",
       "      <td>NaN</td>\n",
       "      <td>1655.8505</td>\n",
       "      <td>2929.9813</td>\n",
       "      <td>75</td>\n",
       "      <td>2.8037</td>\n",
       "      <td>27</td>\n",
       "      <td>1.0093</td>\n",
       "      <td>38</td>\n",
       "      <td>182</td>\n",
       "      <td>6.8037</td>\n",
       "      <td>50073</td>\n",
       "      <td>32324</td>\n",
       "      <td>1208.3738</td>\n",
       "      <td>NaN</td>\n",
       "      <td>45570</td>\n",
       "      <td>0.135677</td>\n",
       "      <td>NaN</td>\n",
       "      <td>715.0</td>\n",
       "      <td>164</td>\n",
       "      <td>NaN</td>\n",
       "      <td>NaN</td>\n",
       "      <td>32.8598</td>\n",
       "      <td>15684.0</td>\n",
       "      <td>17884.0</td>\n",
       "      <td>323.0</td>\n",
       "      <td>14157.0</td>\n",
       "      <td>17132.0</td>\n",
       "      <td>302.0</td>\n",
       "      <td>1527.0</td>\n",
       "      <td>752.0</td>\n",
       "      <td>21.0</td>\n",
       "      <td>1.0</td>\n",
       "      <td>2.0</td>\n",
       "      <td>0.0</td>\n",
       "      <td>0.0</td>\n",
       "      <td>0.0</td>\n",
       "      <td>1.0</td>\n",
       "      <td>24578.0</td>\n",
       "      <td>28552.0</td>\n",
       "      <td>518.0</td>\n",
       "      <td>23166.0</td>\n",
       "      <td>29206.0</td>\n",
       "      <td>525.0</td>\n",
       "      <td>1412.0</td>\n",
       "      <td>-654.0</td>\n",
       "      <td>-7.0</td>\n",
       "      <td>1.0</td>\n",
       "      <td>2.0</td>\n",
       "      <td>0.0</td>\n",
       "      <td>0.0</td>\n",
       "      <td>0.0</td>\n",
       "      <td>1.0</td>\n",
       "      <td>18.000000</td>\n",
       "      <td>5.000000</td>\n",
       "      <td>1871.887850</td>\n",
       "      <td>290.654206</td>\n",
       "      <td>1.0</td>\n",
       "    </tr>\n",
       "  </tbody>\n",
       "</table>\n",
       "</div>"
      ],
      "text/plain": [
       "       index                 gameid datacompleteness  url league  year   \n",
       "67582  67582  ESPORTSTMNT03_3167508         complete  NaN    LCK  2023  \\\n",
       "67583  67583  ESPORTSTMNT03_3167508         complete  NaN    LCK  2023   \n",
       "67594  67594  ESPORTSTMNT03_3165687         complete  NaN    LCK  2023   \n",
       "67595  67595  ESPORTSTMNT03_3165687         complete  NaN    LCK  2023   \n",
       "67630  67630  ESPORTSTMNT03_3166614         complete  NaN    LCK  2023   \n",
       "\n",
       "        split  playoffs                 date  game  patch  participantid   \n",
       "67582  Summer         0  2023-06-07 08:11:03     1  13.10            100  \\\n",
       "67583  Summer         0  2023-06-07 08:11:03     1  13.10            200   \n",
       "67594  Summer         0  2023-06-07 09:09:21     2  13.10            100   \n",
       "67595  Summer         0  2023-06-07 09:09:21     2  13.10            200   \n",
       "67630  Summer         0  2023-06-07 10:02:16     3  13.10            100   \n",
       "\n",
       "       side position playername playerid             teamname   \n",
       "67582  Blue     team        NaN      NaN           KT Rolster  \\\n",
       "67583   Red     team        NaN      NaN  Hanwha Life Esports   \n",
       "67594  Blue     team        NaN      NaN  Hanwha Life Esports   \n",
       "67595   Red     team        NaN      NaN           KT Rolster   \n",
       "67630  Blue     team        NaN      NaN           KT Rolster   \n",
       "\n",
       "                                        teamid champion   ban1    ban2   \n",
       "67582  oe:team:d723992568441c6bafa2658129eade7      NaN     Vi  Maokai  \\\n",
       "67583  oe:team:3a1d18f46bcb3716ebcfcf4ef068934      NaN  Milio    Zeri   \n",
       "67594  oe:team:3a1d18f46bcb3716ebcfcf4ef068934      NaN  Yuumi  Maokai   \n",
       "67595  oe:team:d723992568441c6bafa2658129eade7      NaN  Neeko    Zeri   \n",
       "67630  oe:team:d723992568441c6bafa2658129eade7      NaN     Vi  Maokai   \n",
       "\n",
       "         ban3     ban4      ban5  gamelength  result  kills  deaths  assists   \n",
       "67582  Lucian     Lulu      Ornn        1894       1     12       6       35  \\\n",
       "67583   Neeko  Kha'Zix       Jax        1894       0      6      12       15   \n",
       "67594   Annie      Jax  Malphite        1771       1     21       8       46   \n",
       "67595  Lucian  LeBlanc      Ahri        1771       0      8      21       12   \n",
       "67630  Lucian     Gnar      Ornn        1605       1     10       2       26   \n",
       "\n",
       "       teamkills  teamdeaths  doublekills  triplekills  quadrakills   \n",
       "67582         12           6          2.0          1.0          0.0  \\\n",
       "67583          6          12          1.0          0.0          0.0   \n",
       "67594         21           8          5.0          0.0          0.0   \n",
       "67595          8          21          1.0          0.0          0.0   \n",
       "67630         10           2          0.0          0.0          0.0   \n",
       "\n",
       "       pentakills  firstblood  firstbloodkill  firstbloodassist   \n",
       "67582         0.0         0.0             NaN               NaN  \\\n",
       "67583         0.0         1.0             NaN               NaN   \n",
       "67594         0.0         1.0             NaN               NaN   \n",
       "67595         0.0         0.0             NaN               NaN   \n",
       "67630         0.0         1.0             NaN               NaN   \n",
       "\n",
       "       firstbloodvictim  team kpm    ckpm  firstdragon  dragons  opp_dragons   \n",
       "67582               NaN    0.3801  0.5702          0.0      3.0          1.0  \\\n",
       "67583               NaN    0.1901  0.5702          1.0      1.0          3.0   \n",
       "67594               NaN    0.7115  0.9825          1.0      4.0          0.0   \n",
       "67595               NaN    0.2710  0.9825          0.0      0.0          4.0   \n",
       "67630               NaN    0.3738  0.4486          1.0      3.0          1.0   \n",
       "\n",
       "       elementaldrakes  opp_elementaldrakes  infernals  mountains  clouds   \n",
       "67582              3.0                  1.0        2.0        0.0     0.0  \\\n",
       "67583              1.0                  3.0        0.0        1.0     0.0   \n",
       "67594              4.0                  0.0        1.0        0.0     2.0   \n",
       "67595              0.0                  4.0        0.0        0.0     0.0   \n",
       "67630              3.0                  1.0        1.0        1.0     0.0   \n",
       "\n",
       "       oceans  chemtechs  hextechs  dragons (type unknown)  elders   \n",
       "67582     0.0        0.0       1.0                     NaN     0.0  \\\n",
       "67583     0.0        0.0       0.0                     NaN     0.0   \n",
       "67594     0.0        1.0       0.0                     NaN     0.0   \n",
       "67595     0.0        0.0       0.0                     NaN     0.0   \n",
       "67630     0.0        0.0       1.0                     NaN     0.0   \n",
       "\n",
       "       opp_elders  firstherald  heralds  opp_heralds  firstbaron  barons   \n",
       "67582         0.0          0.0      0.0          2.0         1.0     1.0  \\\n",
       "67583         0.0          1.0      2.0          0.0         0.0     0.0   \n",
       "67594         0.0          1.0      2.0          0.0         1.0     2.0   \n",
       "67595         0.0          0.0      0.0          2.0         0.0     0.0   \n",
       "67630         0.0          1.0      2.0          0.0         1.0     1.0   \n",
       "\n",
       "       opp_barons  firsttower  towers  opp_towers  firstmidtower   \n",
       "67582         0.0         0.0     9.0         3.0            0.0  \\\n",
       "67583         1.0         1.0     3.0         9.0            1.0   \n",
       "67594         0.0         1.0    11.0         2.0            1.0   \n",
       "67595         2.0         0.0     2.0        11.0            0.0   \n",
       "67630         0.0         1.0     8.0         2.0            1.0   \n",
       "\n",
       "       firsttothreetowers  turretplates  opp_turretplates  inhibitors   \n",
       "67582                 0.0           3.0               4.0         2.0  \\\n",
       "67583                 1.0           4.0               3.0         0.0   \n",
       "67594                 1.0           5.0               3.0         4.0   \n",
       "67595                 0.0           3.0               5.0         0.0   \n",
       "67630                 1.0           5.0               6.0         1.0   \n",
       "\n",
       "       opp_inhibitors  damagetochampions        dpm  damageshare   \n",
       "67582             0.0              63475  2010.8237          NaN  \\\n",
       "67583             2.0              43064  1364.2239          NaN   \n",
       "67594             0.0              64790  2195.0311          NaN   \n",
       "67595             4.0              42966  1455.6522          NaN   \n",
       "67630             0.0              50259  1878.8411          NaN   \n",
       "\n",
       "       damagetakenperminute  damagemitigatedperminute  wardsplaced     wpm   \n",
       "67582             2284.3400                 3502.7138          101  3.1996  \\\n",
       "67583             2790.0317                 3714.9630          115  3.6431   \n",
       "67594             2398.4416                 2116.2620           99  3.3540   \n",
       "67595             2861.1632                 2925.0932          103  3.4896   \n",
       "67630             1655.8505                 2929.9813           75  2.8037   \n",
       "\n",
       "       wardskilled    wcpm  controlwardsbought  visionscore    vspm   \n",
       "67582           54  1.7107                  55          247  7.8247  \\\n",
       "67583           43  1.3622                  53          260  8.2365   \n",
       "67594           58  1.9650                  56          282  9.5539   \n",
       "67595           32  1.0841                  37          200  6.7758   \n",
       "67630           27  1.0093                  38          182  6.8037   \n",
       "\n",
       "       totalgold  earnedgold  earned gpm  earnedgoldshare  goldspent   \n",
       "67582      59180       38483   1219.1024              NaN      54633  \\\n",
       "67583      52484       31787   1006.9799              NaN      51010   \n",
       "67594      64347       44905   1521.3439              NaN      56900   \n",
       "67595      49717       30275   1025.6917              NaN      44710   \n",
       "67630      50073       32324   1208.3738              NaN      45570   \n",
       "\n",
       "           gspd  total cs  minionkills  monsterkills  monsterkillsownjungle   \n",
       "67582  0.068589       NaN        906.0           207                    NaN  \\\n",
       "67583 -0.068589       NaN        900.0           195                    NaN   \n",
       "67594  0.239937       NaN        863.0           209                    NaN   \n",
       "67595 -0.239937       NaN        825.0           146                    NaN   \n",
       "67630  0.135677       NaN        715.0           164                    NaN   \n",
       "\n",
       "       monsterkillsenemyjungle     cspm  goldat10   xpat10  csat10   \n",
       "67582                      NaN  35.2587   15745.0  19908.0   359.0  \\\n",
       "67583                      NaN  34.6885   16648.0  19255.0   365.0   \n",
       "67594                      NaN  36.3185   17573.0  19024.0   327.0   \n",
       "67595                      NaN  32.8967   15633.0  18366.0   309.0   \n",
       "67630                      NaN  32.8598   15684.0  17884.0   323.0   \n",
       "\n",
       "       opp_goldat10  opp_xpat10  opp_csat10  golddiffat10  xpdiffat10   \n",
       "67582       16648.0     19255.0       365.0        -903.0       653.0  \\\n",
       "67583       15745.0     19908.0       359.0         903.0      -653.0   \n",
       "67594       15633.0     18366.0       309.0        1940.0       658.0   \n",
       "67595       17573.0     19024.0       327.0       -1940.0      -658.0   \n",
       "67630       14157.0     17132.0       302.0        1527.0       752.0   \n",
       "\n",
       "       csdiffat10  killsat10  assistsat10  deathsat10  opp_killsat10   \n",
       "67582        -6.0        0.0          0.0         1.0            1.0  \\\n",
       "67583         6.0        1.0          1.0         0.0            0.0   \n",
       "67594        18.0        5.0          7.0         3.0            3.0   \n",
       "67595       -18.0        3.0          2.0         5.0            5.0   \n",
       "67630        21.0        1.0          2.0         0.0            0.0   \n",
       "\n",
       "       opp_assistsat10  opp_deathsat10  goldat15   xpat15  csat15   \n",
       "67582              1.0             0.0   23707.0  31810.0   574.0  \\\n",
       "67583              0.0             1.0   24376.0  29938.0   563.0   \n",
       "67594              2.0             5.0   26565.0  30325.0   510.0   \n",
       "67595              7.0             3.0   24999.0  30125.0   514.0   \n",
       "67630              0.0             1.0   24578.0  28552.0   518.0   \n",
       "\n",
       "       opp_goldat15  opp_xpat15  opp_csat15  golddiffat15  xpdiffat15   \n",
       "67582       24376.0     29938.0       563.0        -669.0      1872.0  \\\n",
       "67583       23707.0     31810.0       574.0         669.0     -1872.0   \n",
       "67594       24999.0     30125.0       514.0        1566.0       200.0   \n",
       "67595       26565.0     30325.0       510.0       -1566.0      -200.0   \n",
       "67630       23166.0     29206.0       525.0        1412.0      -654.0   \n",
       "\n",
       "       csdiffat15  killsat15  assistsat15  deathsat15  opp_killsat15   \n",
       "67582        11.0        0.0          0.0         1.0            1.0  \\\n",
       "67583       -11.0        1.0          1.0         0.0            0.0   \n",
       "67594        -4.0        7.0          8.0         5.0            5.0   \n",
       "67595         4.0        5.0          3.0         7.0            7.0   \n",
       "67630        -7.0        1.0          2.0         0.0            0.0   \n",
       "\n",
       "       opp_assistsat15  opp_deathsat15        kda        kd          gpm   \n",
       "67582              1.0             0.0   7.833333  2.000000  1874.762408  \\\n",
       "67583              0.0             1.0   1.750000  0.500000  1662.639916   \n",
       "67594              3.0             7.0   8.375000  2.625000  2180.022586   \n",
       "67595              8.0             5.0   0.952381  0.380952  1684.370412   \n",
       "67630              0.0             1.0  18.000000  5.000000  1871.887850   \n",
       "\n",
       "             gdpm  goldshare  \n",
       "67582  212.122492        1.0  \n",
       "67583 -212.122492        1.0  \n",
       "67594  495.652174        1.0  \n",
       "67595 -495.652174        1.0  \n",
       "67630  290.654206        1.0  "
      ]
     },
     "execution_count": 11,
     "metadata": {},
     "output_type": "execute_result"
    }
   ],
   "source": [
    "teams_data = matches.loc[matches[\"position\"] == \"team\"]\n",
    "df = pd.read_csv(\"./csv/scoreboard_games/2023_scoreboard_games.csv\")\n",
    "df = df.loc[df[\"OverviewPage\"] == \"LCK/2023 Season/Summer Season\"]\n",
    "print(teams_data.shape, df.shape, teams_data.shape[0] == df.shape[0] * 2)\n",
    "teams_data.head()"
   ]
  },
  {
   "cell_type": "code",
   "execution_count": 12,
   "metadata": {},
   "outputs": [
    {
     "data": {
      "text/html": [
       "<div>\n",
       "<style scoped>\n",
       "    .dataframe tbody tr th:only-of-type {\n",
       "        vertical-align: middle;\n",
       "    }\n",
       "\n",
       "    .dataframe tbody tr th {\n",
       "        vertical-align: top;\n",
       "    }\n",
       "\n",
       "    .dataframe thead th {\n",
       "        text-align: right;\n",
       "    }\n",
       "</style>\n",
       "<table border=\"1\" class=\"dataframe\">\n",
       "  <thead>\n",
       "    <tr style=\"text-align: right;\">\n",
       "      <th></th>\n",
       "      <th>gameid</th>\n",
       "      <th>teamname</th>\n",
       "      <th>gamelength</th>\n",
       "      <th>totalgold</th>\n",
       "      <th>gpm</th>\n",
       "      <th>earned gpm</th>\n",
       "      <th>gdpm</th>\n",
       "    </tr>\n",
       "  </thead>\n",
       "  <tbody>\n",
       "    <tr>\n",
       "      <th>67582</th>\n",
       "      <td>ESPORTSTMNT03_3167508</td>\n",
       "      <td>KT Rolster</td>\n",
       "      <td>1894</td>\n",
       "      <td>59180</td>\n",
       "      <td>1874.762408</td>\n",
       "      <td>1219.1024</td>\n",
       "      <td>212.122492</td>\n",
       "    </tr>\n",
       "    <tr>\n",
       "      <th>67583</th>\n",
       "      <td>ESPORTSTMNT03_3167508</td>\n",
       "      <td>Hanwha Life Esports</td>\n",
       "      <td>1894</td>\n",
       "      <td>52484</td>\n",
       "      <td>1662.639916</td>\n",
       "      <td>1006.9799</td>\n",
       "      <td>-212.122492</td>\n",
       "    </tr>\n",
       "    <tr>\n",
       "      <th>67594</th>\n",
       "      <td>ESPORTSTMNT03_3165687</td>\n",
       "      <td>Hanwha Life Esports</td>\n",
       "      <td>1771</td>\n",
       "      <td>64347</td>\n",
       "      <td>2180.022586</td>\n",
       "      <td>1521.3439</td>\n",
       "      <td>495.652174</td>\n",
       "    </tr>\n",
       "    <tr>\n",
       "      <th>67595</th>\n",
       "      <td>ESPORTSTMNT03_3165687</td>\n",
       "      <td>KT Rolster</td>\n",
       "      <td>1771</td>\n",
       "      <td>49717</td>\n",
       "      <td>1684.370412</td>\n",
       "      <td>1025.6917</td>\n",
       "      <td>-495.652174</td>\n",
       "    </tr>\n",
       "    <tr>\n",
       "      <th>67630</th>\n",
       "      <td>ESPORTSTMNT03_3166614</td>\n",
       "      <td>KT Rolster</td>\n",
       "      <td>1605</td>\n",
       "      <td>50073</td>\n",
       "      <td>1871.887850</td>\n",
       "      <td>1208.3738</td>\n",
       "      <td>290.654206</td>\n",
       "    </tr>\n",
       "    <tr>\n",
       "      <th>...</th>\n",
       "      <td>...</td>\n",
       "      <td>...</td>\n",
       "      <td>...</td>\n",
       "      <td>...</td>\n",
       "      <td>...</td>\n",
       "      <td>...</td>\n",
       "      <td>...</td>\n",
       "    </tr>\n",
       "    <tr>\n",
       "      <th>74423</th>\n",
       "      <td>ESPORTSTMNT01_3380253</td>\n",
       "      <td>KT Rolster</td>\n",
       "      <td>1431</td>\n",
       "      <td>51585</td>\n",
       "      <td>2162.893082</td>\n",
       "      <td>1493.1237</td>\n",
       "      <td>616.226415</td>\n",
       "    </tr>\n",
       "    <tr>\n",
       "      <th>74470</th>\n",
       "      <td>ESPORTSTMNT01_3380258</td>\n",
       "      <td>Dplus KIA</td>\n",
       "      <td>1751</td>\n",
       "      <td>58427</td>\n",
       "      <td>2002.067390</td>\n",
       "      <td>1342.8555</td>\n",
       "      <td>272.724158</td>\n",
       "    </tr>\n",
       "    <tr>\n",
       "      <th>74471</th>\n",
       "      <td>ESPORTSTMNT01_3380258</td>\n",
       "      <td>Nongshim RedForce</td>\n",
       "      <td>1751</td>\n",
       "      <td>50468</td>\n",
       "      <td>1729.343232</td>\n",
       "      <td>1070.1314</td>\n",
       "      <td>-272.724158</td>\n",
       "    </tr>\n",
       "    <tr>\n",
       "      <th>74518</th>\n",
       "      <td>ESPORTSTMNT01_3381214</td>\n",
       "      <td>Nongshim RedForce</td>\n",
       "      <td>1878</td>\n",
       "      <td>51082</td>\n",
       "      <td>1632.012780</td>\n",
       "      <td>975.9744</td>\n",
       "      <td>-292.779553</td>\n",
       "    </tr>\n",
       "    <tr>\n",
       "      <th>74519</th>\n",
       "      <td>ESPORTSTMNT01_3381214</td>\n",
       "      <td>Dplus KIA</td>\n",
       "      <td>1878</td>\n",
       "      <td>60246</td>\n",
       "      <td>1924.792332</td>\n",
       "      <td>1268.7540</td>\n",
       "      <td>292.779553</td>\n",
       "    </tr>\n",
       "  </tbody>\n",
       "</table>\n",
       "<p>94 rows × 7 columns</p>\n",
       "</div>"
      ],
      "text/plain": [
       "                      gameid             teamname  gamelength  totalgold   \n",
       "67582  ESPORTSTMNT03_3167508           KT Rolster        1894      59180  \\\n",
       "67583  ESPORTSTMNT03_3167508  Hanwha Life Esports        1894      52484   \n",
       "67594  ESPORTSTMNT03_3165687  Hanwha Life Esports        1771      64347   \n",
       "67595  ESPORTSTMNT03_3165687           KT Rolster        1771      49717   \n",
       "67630  ESPORTSTMNT03_3166614           KT Rolster        1605      50073   \n",
       "...                      ...                  ...         ...        ...   \n",
       "74423  ESPORTSTMNT01_3380253           KT Rolster        1431      51585   \n",
       "74470  ESPORTSTMNT01_3380258            Dplus KIA        1751      58427   \n",
       "74471  ESPORTSTMNT01_3380258    Nongshim RedForce        1751      50468   \n",
       "74518  ESPORTSTMNT01_3381214    Nongshim RedForce        1878      51082   \n",
       "74519  ESPORTSTMNT01_3381214            Dplus KIA        1878      60246   \n",
       "\n",
       "               gpm  earned gpm        gdpm  \n",
       "67582  1874.762408   1219.1024  212.122492  \n",
       "67583  1662.639916   1006.9799 -212.122492  \n",
       "67594  2180.022586   1521.3439  495.652174  \n",
       "67595  1684.370412   1025.6917 -495.652174  \n",
       "67630  1871.887850   1208.3738  290.654206  \n",
       "...            ...         ...         ...  \n",
       "74423  2162.893082   1493.1237  616.226415  \n",
       "74470  2002.067390   1342.8555  272.724158  \n",
       "74471  1729.343232   1070.1314 -272.724158  \n",
       "74518  1632.012780    975.9744 -292.779553  \n",
       "74519  1924.792332   1268.7540  292.779553  \n",
       "\n",
       "[94 rows x 7 columns]"
      ]
     },
     "execution_count": 12,
     "metadata": {},
     "output_type": "execute_result"
    }
   ],
   "source": [
    "teams_data[\n",
    "    [\"gameid\", \"teamname\", \"gamelength\", \"totalgold\", \"gpm\", \"earned gpm\", \"gdpm\"]\n",
    "]"
   ]
  },
  {
   "cell_type": "code",
   "execution_count": 13,
   "metadata": {},
   "outputs": [
    {
     "data": {
      "text/plain": [
       "67690    11.0\n",
       "68338    11.0\n",
       "69059    13.0\n",
       "Name: kd, dtype: float64"
      ]
     },
     "execution_count": 13,
     "metadata": {},
     "output_type": "execute_result"
    }
   ],
   "source": [
    "cond = np.isinf(teams_data[\"kd\"])\n",
    "teams_data.loc[cond, \"kd\"] = teams_data.loc[cond, \"kills\"]\n",
    "teams_data.loc[cond, \"kd\"]"
   ]
  },
  {
   "cell_type": "code",
   "execution_count": 14,
   "metadata": {},
   "outputs": [
    {
     "data": {
      "text/html": [
       "<div>\n",
       "<style scoped>\n",
       "    .dataframe tbody tr th:only-of-type {\n",
       "        vertical-align: middle;\n",
       "    }\n",
       "\n",
       "    .dataframe tbody tr th {\n",
       "        vertical-align: top;\n",
       "    }\n",
       "\n",
       "    .dataframe thead th {\n",
       "        text-align: right;\n",
       "    }\n",
       "</style>\n",
       "<table border=\"1\" class=\"dataframe\">\n",
       "  <thead>\n",
       "    <tr style=\"text-align: right;\">\n",
       "      <th></th>\n",
       "      <th>gamelength</th>\n",
       "      <th>kills</th>\n",
       "      <th>deaths</th>\n",
       "      <th>assists</th>\n",
       "      <th>kd</th>\n",
       "      <th>firstblood</th>\n",
       "      <th>team kpm</th>\n",
       "      <th>ckpm</th>\n",
       "      <th>firstdragon</th>\n",
       "      <th>dragons</th>\n",
       "      <th>opp_dragons</th>\n",
       "      <th>elders</th>\n",
       "      <th>opp_elders</th>\n",
       "      <th>firstherald</th>\n",
       "      <th>heralds</th>\n",
       "      <th>opp_heralds</th>\n",
       "      <th>firstbaron</th>\n",
       "      <th>barons</th>\n",
       "      <th>opp_barons</th>\n",
       "      <th>firsttower</th>\n",
       "      <th>towers</th>\n",
       "      <th>opp_towers</th>\n",
       "      <th>firstmidtower</th>\n",
       "      <th>firsttothreetowers</th>\n",
       "      <th>turretplates</th>\n",
       "      <th>opp_turretplates</th>\n",
       "      <th>inhibitors</th>\n",
       "      <th>opp_inhibitors</th>\n",
       "      <th>dpm</th>\n",
       "      <th>damagetakenperminute</th>\n",
       "      <th>wpm</th>\n",
       "      <th>wcpm</th>\n",
       "      <th>vspm</th>\n",
       "      <th>gpm</th>\n",
       "      <th>gdpm</th>\n",
       "      <th>cspm</th>\n",
       "      <th>golddiffat10</th>\n",
       "      <th>xpdiffat10</th>\n",
       "      <th>csdiffat10</th>\n",
       "      <th>golddiffat15</th>\n",
       "      <th>xpdiffat15</th>\n",
       "      <th>csdiffat15</th>\n",
       "      <th>win_gamelength</th>\n",
       "      <th>loss_gamelength</th>\n",
       "    </tr>\n",
       "    <tr>\n",
       "      <th>Team</th>\n",
       "      <th></th>\n",
       "      <th></th>\n",
       "      <th></th>\n",
       "      <th></th>\n",
       "      <th></th>\n",
       "      <th></th>\n",
       "      <th></th>\n",
       "      <th></th>\n",
       "      <th></th>\n",
       "      <th></th>\n",
       "      <th></th>\n",
       "      <th></th>\n",
       "      <th></th>\n",
       "      <th></th>\n",
       "      <th></th>\n",
       "      <th></th>\n",
       "      <th></th>\n",
       "      <th></th>\n",
       "      <th></th>\n",
       "      <th></th>\n",
       "      <th></th>\n",
       "      <th></th>\n",
       "      <th></th>\n",
       "      <th></th>\n",
       "      <th></th>\n",
       "      <th></th>\n",
       "      <th></th>\n",
       "      <th></th>\n",
       "      <th></th>\n",
       "      <th></th>\n",
       "      <th></th>\n",
       "      <th></th>\n",
       "      <th></th>\n",
       "      <th></th>\n",
       "      <th></th>\n",
       "      <th></th>\n",
       "      <th></th>\n",
       "      <th></th>\n",
       "      <th></th>\n",
       "      <th></th>\n",
       "      <th></th>\n",
       "      <th></th>\n",
       "      <th></th>\n",
       "      <th></th>\n",
       "    </tr>\n",
       "  </thead>\n",
       "  <tbody>\n",
       "    <tr>\n",
       "      <th>KT Rolster</th>\n",
       "      <td>27.566667</td>\n",
       "      <td>11.700000</td>\n",
       "      <td>7.800000</td>\n",
       "      <td>28.400000</td>\n",
       "      <td>3.006429</td>\n",
       "      <td>0.600000</td>\n",
       "      <td>0.448450</td>\n",
       "      <td>0.721430</td>\n",
       "      <td>0.600000</td>\n",
       "      <td>2.400000</td>\n",
       "      <td>1.600000</td>\n",
       "      <td>0.000000</td>\n",
       "      <td>0.000000</td>\n",
       "      <td>0.500000</td>\n",
       "      <td>1.100000</td>\n",
       "      <td>0.900000</td>\n",
       "      <td>0.600000</td>\n",
       "      <td>0.600000</td>\n",
       "      <td>0.500000</td>\n",
       "      <td>0.600000</td>\n",
       "      <td>7.000000</td>\n",
       "      <td>4.200000</td>\n",
       "      <td>0.500000</td>\n",
       "      <td>0.600000</td>\n",
       "      <td>5.300000</td>\n",
       "      <td>4.700000</td>\n",
       "      <td>0.900000</td>\n",
       "      <td>0.600000</td>\n",
       "      <td>1975.524640</td>\n",
       "      <td>2585.012570</td>\n",
       "      <td>3.283290</td>\n",
       "      <td>1.257080</td>\n",
       "      <td>7.475850</td>\n",
       "      <td>1897.670635</td>\n",
       "      <td>139.590299</td>\n",
       "      <td>34.370640</td>\n",
       "      <td>376.100000</td>\n",
       "      <td>139.000000</td>\n",
       "      <td>5.300000</td>\n",
       "      <td>1175.100000</td>\n",
       "      <td>776.800000</td>\n",
       "      <td>9.900000</td>\n",
       "      <td>27.678571</td>\n",
       "      <td>27.305556</td>\n",
       "    </tr>\n",
       "    <tr>\n",
       "      <th>Hanwha Life Esports</th>\n",
       "      <td>31.258333</td>\n",
       "      <td>10.400000</td>\n",
       "      <td>7.200000</td>\n",
       "      <td>23.400000</td>\n",
       "      <td>3.270000</td>\n",
       "      <td>0.700000</td>\n",
       "      <td>0.347020</td>\n",
       "      <td>0.572810</td>\n",
       "      <td>0.500000</td>\n",
       "      <td>2.000000</td>\n",
       "      <td>2.300000</td>\n",
       "      <td>0.100000</td>\n",
       "      <td>0.000000</td>\n",
       "      <td>0.500000</td>\n",
       "      <td>0.900000</td>\n",
       "      <td>1.100000</td>\n",
       "      <td>0.500000</td>\n",
       "      <td>0.800000</td>\n",
       "      <td>0.500000</td>\n",
       "      <td>0.500000</td>\n",
       "      <td>6.100000</td>\n",
       "      <td>5.400000</td>\n",
       "      <td>0.400000</td>\n",
       "      <td>0.500000</td>\n",
       "      <td>3.800000</td>\n",
       "      <td>5.300000</td>\n",
       "      <td>1.200000</td>\n",
       "      <td>0.700000</td>\n",
       "      <td>2079.584220</td>\n",
       "      <td>2699.945560</td>\n",
       "      <td>3.382060</td>\n",
       "      <td>1.583660</td>\n",
       "      <td>8.616960</td>\n",
       "      <td>1800.922526</td>\n",
       "      <td>61.998795</td>\n",
       "      <td>34.000900</td>\n",
       "      <td>-116.800000</td>\n",
       "      <td>-201.500000</td>\n",
       "      <td>-5.800000</td>\n",
       "      <td>-425.800000</td>\n",
       "      <td>44.500000</td>\n",
       "      <td>-7.000000</td>\n",
       "      <td>33.161111</td>\n",
       "      <td>28.404167</td>\n",
       "    </tr>\n",
       "    <tr>\n",
       "      <th>Dplus KIA</th>\n",
       "      <td>31.118333</td>\n",
       "      <td>12.400000</td>\n",
       "      <td>6.800000</td>\n",
       "      <td>31.900000</td>\n",
       "      <td>3.221818</td>\n",
       "      <td>0.500000</td>\n",
       "      <td>0.407880</td>\n",
       "      <td>0.616470</td>\n",
       "      <td>0.800000</td>\n",
       "      <td>2.900000</td>\n",
       "      <td>1.500000</td>\n",
       "      <td>0.000000</td>\n",
       "      <td>0.100000</td>\n",
       "      <td>0.600000</td>\n",
       "      <td>1.100000</td>\n",
       "      <td>0.900000</td>\n",
       "      <td>0.500000</td>\n",
       "      <td>0.800000</td>\n",
       "      <td>0.400000</td>\n",
       "      <td>0.500000</td>\n",
       "      <td>6.800000</td>\n",
       "      <td>4.000000</td>\n",
       "      <td>0.600000</td>\n",
       "      <td>0.600000</td>\n",
       "      <td>5.700000</td>\n",
       "      <td>4.800000</td>\n",
       "      <td>1.300000</td>\n",
       "      <td>0.400000</td>\n",
       "      <td>2330.542290</td>\n",
       "      <td>2693.759840</td>\n",
       "      <td>3.339480</td>\n",
       "      <td>1.861560</td>\n",
       "      <td>8.834360</td>\n",
       "      <td>1879.879301</td>\n",
       "      <td>215.918230</td>\n",
       "      <td>33.921300</td>\n",
       "      <td>423.800000</td>\n",
       "      <td>498.400000</td>\n",
       "      <td>8.600000</td>\n",
       "      <td>1179.700000</td>\n",
       "      <td>808.500000</td>\n",
       "      <td>14.800000</td>\n",
       "      <td>30.052381</td>\n",
       "      <td>33.605556</td>\n",
       "    </tr>\n",
       "    <tr>\n",
       "      <th>Liiv SANDBOX</th>\n",
       "      <td>30.429167</td>\n",
       "      <td>8.375000</td>\n",
       "      <td>12.625000</td>\n",
       "      <td>21.875000</td>\n",
       "      <td>1.377936</td>\n",
       "      <td>0.375000</td>\n",
       "      <td>0.270962</td>\n",
       "      <td>0.695388</td>\n",
       "      <td>0.375000</td>\n",
       "      <td>1.375000</td>\n",
       "      <td>2.875000</td>\n",
       "      <td>0.000000</td>\n",
       "      <td>0.000000</td>\n",
       "      <td>0.500000</td>\n",
       "      <td>0.875000</td>\n",
       "      <td>1.125000</td>\n",
       "      <td>0.500000</td>\n",
       "      <td>0.500000</td>\n",
       "      <td>0.750000</td>\n",
       "      <td>0.250000</td>\n",
       "      <td>4.125000</td>\n",
       "      <td>7.500000</td>\n",
       "      <td>0.375000</td>\n",
       "      <td>0.250000</td>\n",
       "      <td>3.625000</td>\n",
       "      <td>5.625000</td>\n",
       "      <td>0.625000</td>\n",
       "      <td>1.250000</td>\n",
       "      <td>1808.503375</td>\n",
       "      <td>2856.017000</td>\n",
       "      <td>3.794313</td>\n",
       "      <td>1.781250</td>\n",
       "      <td>8.805375</td>\n",
       "      <td>1707.778170</td>\n",
       "      <td>-175.019549</td>\n",
       "      <td>33.051500</td>\n",
       "      <td>-670.500000</td>\n",
       "      <td>-253.500000</td>\n",
       "      <td>1.250000</td>\n",
       "      <td>-1689.625000</td>\n",
       "      <td>-1440.125000</td>\n",
       "      <td>-5.750000</td>\n",
       "      <td>27.675000</td>\n",
       "      <td>31.347222</td>\n",
       "    </tr>\n",
       "    <tr>\n",
       "      <th>Kwangdong Freecs</th>\n",
       "      <td>33.885417</td>\n",
       "      <td>10.000000</td>\n",
       "      <td>9.500000</td>\n",
       "      <td>25.000000</td>\n",
       "      <td>1.528299</td>\n",
       "      <td>0.750000</td>\n",
       "      <td>0.283062</td>\n",
       "      <td>0.562775</td>\n",
       "      <td>0.750000</td>\n",
       "      <td>3.375000</td>\n",
       "      <td>1.375000</td>\n",
       "      <td>0.250000</td>\n",
       "      <td>0.125000</td>\n",
       "      <td>0.750000</td>\n",
       "      <td>1.250000</td>\n",
       "      <td>0.750000</td>\n",
       "      <td>0.125000</td>\n",
       "      <td>0.250000</td>\n",
       "      <td>1.125000</td>\n",
       "      <td>0.875000</td>\n",
       "      <td>6.625000</td>\n",
       "      <td>5.000000</td>\n",
       "      <td>1.000000</td>\n",
       "      <td>0.875000</td>\n",
       "      <td>6.000000</td>\n",
       "      <td>3.000000</td>\n",
       "      <td>0.875000</td>\n",
       "      <td>0.625000</td>\n",
       "      <td>2123.401588</td>\n",
       "      <td>3079.897825</td>\n",
       "      <td>3.484875</td>\n",
       "      <td>1.731400</td>\n",
       "      <td>8.790662</td>\n",
       "      <td>1800.505682</td>\n",
       "      <td>53.768135</td>\n",
       "      <td>34.535250</td>\n",
       "      <td>950.625000</td>\n",
       "      <td>599.375000</td>\n",
       "      <td>19.000000</td>\n",
       "      <td>2073.625000</td>\n",
       "      <td>719.000000</td>\n",
       "      <td>23.625000</td>\n",
       "      <td>33.479167</td>\n",
       "      <td>34.291667</td>\n",
       "    </tr>\n",
       "    <tr>\n",
       "      <th>DRX</th>\n",
       "      <td>29.514815</td>\n",
       "      <td>6.555556</td>\n",
       "      <td>16.666667</td>\n",
       "      <td>15.222222</td>\n",
       "      <td>0.400089</td>\n",
       "      <td>0.111111</td>\n",
       "      <td>0.197456</td>\n",
       "      <td>0.793767</td>\n",
       "      <td>0.000000</td>\n",
       "      <td>0.666667</td>\n",
       "      <td>3.444444</td>\n",
       "      <td>0.111111</td>\n",
       "      <td>0.111111</td>\n",
       "      <td>0.222222</td>\n",
       "      <td>0.777778</td>\n",
       "      <td>1.222222</td>\n",
       "      <td>0.333333</td>\n",
       "      <td>0.555556</td>\n",
       "      <td>0.666667</td>\n",
       "      <td>0.222222</td>\n",
       "      <td>2.333333</td>\n",
       "      <td>8.000000</td>\n",
       "      <td>0.222222</td>\n",
       "      <td>0.222222</td>\n",
       "      <td>3.888889</td>\n",
       "      <td>6.444444</td>\n",
       "      <td>0.111111</td>\n",
       "      <td>1.444444</td>\n",
       "      <td>1946.215667</td>\n",
       "      <td>3301.084400</td>\n",
       "      <td>3.353044</td>\n",
       "      <td>1.474889</td>\n",
       "      <td>7.611133</td>\n",
       "      <td>1572.103559</td>\n",
       "      <td>-406.418388</td>\n",
       "      <td>29.964922</td>\n",
       "      <td>-1152.555556</td>\n",
       "      <td>-583.333333</td>\n",
       "      <td>-27.333333</td>\n",
       "      <td>-2867.777778</td>\n",
       "      <td>-1192.555556</td>\n",
       "      <td>-43.555556</td>\n",
       "      <td>34.433333</td>\n",
       "      <td>28.900000</td>\n",
       "    </tr>\n",
       "    <tr>\n",
       "      <th>OKSavingsBank BRION</th>\n",
       "      <td>31.323333</td>\n",
       "      <td>5.500000</td>\n",
       "      <td>8.900000</td>\n",
       "      <td>12.400000</td>\n",
       "      <td>1.770865</td>\n",
       "      <td>0.600000</td>\n",
       "      <td>0.174150</td>\n",
       "      <td>0.471470</td>\n",
       "      <td>0.400000</td>\n",
       "      <td>1.700000</td>\n",
       "      <td>2.700000</td>\n",
       "      <td>0.000000</td>\n",
       "      <td>0.100000</td>\n",
       "      <td>0.400000</td>\n",
       "      <td>0.900000</td>\n",
       "      <td>1.100000</td>\n",
       "      <td>0.500000</td>\n",
       "      <td>0.500000</td>\n",
       "      <td>0.700000</td>\n",
       "      <td>0.300000</td>\n",
       "      <td>3.700000</td>\n",
       "      <td>6.700000</td>\n",
       "      <td>0.400000</td>\n",
       "      <td>0.400000</td>\n",
       "      <td>4.000000</td>\n",
       "      <td>5.000000</td>\n",
       "      <td>0.400000</td>\n",
       "      <td>1.000000</td>\n",
       "      <td>1713.528790</td>\n",
       "      <td>2702.431850</td>\n",
       "      <td>3.321150</td>\n",
       "      <td>1.773730</td>\n",
       "      <td>8.319640</td>\n",
       "      <td>1674.528986</td>\n",
       "      <td>-181.922727</td>\n",
       "      <td>33.839480</td>\n",
       "      <td>-123.000000</td>\n",
       "      <td>-333.700000</td>\n",
       "      <td>-11.800000</td>\n",
       "      <td>-678.500000</td>\n",
       "      <td>-378.100000</td>\n",
       "      <td>-10.400000</td>\n",
       "      <td>32.822222</td>\n",
       "      <td>30.680952</td>\n",
       "    </tr>\n",
       "    <tr>\n",
       "      <th>Nongshim RedForce</th>\n",
       "      <td>29.977778</td>\n",
       "      <td>6.111111</td>\n",
       "      <td>10.555556</td>\n",
       "      <td>13.000000</td>\n",
       "      <td>0.940717</td>\n",
       "      <td>0.333333</td>\n",
       "      <td>0.202511</td>\n",
       "      <td>0.559800</td>\n",
       "      <td>0.444444</td>\n",
       "      <td>1.555556</td>\n",
       "      <td>2.444444</td>\n",
       "      <td>0.000000</td>\n",
       "      <td>0.000000</td>\n",
       "      <td>0.555556</td>\n",
       "      <td>1.000000</td>\n",
       "      <td>1.000000</td>\n",
       "      <td>0.111111</td>\n",
       "      <td>0.222222</td>\n",
       "      <td>1.000000</td>\n",
       "      <td>0.333333</td>\n",
       "      <td>3.000000</td>\n",
       "      <td>8.222222</td>\n",
       "      <td>0.111111</td>\n",
       "      <td>0.111111</td>\n",
       "      <td>2.888889</td>\n",
       "      <td>5.000000</td>\n",
       "      <td>0.333333</td>\n",
       "      <td>1.555556</td>\n",
       "      <td>1604.290033</td>\n",
       "      <td>2980.389256</td>\n",
       "      <td>3.779133</td>\n",
       "      <td>1.582689</td>\n",
       "      <td>8.201533</td>\n",
       "      <td>1669.705131</td>\n",
       "      <td>-226.318810</td>\n",
       "      <td>33.161144</td>\n",
       "      <td>-532.555556</td>\n",
       "      <td>-524.888889</td>\n",
       "      <td>-7.000000</td>\n",
       "      <td>-1206.555556</td>\n",
       "      <td>-1551.888889</td>\n",
       "      <td>-26.555556</td>\n",
       "      <td>32.583333</td>\n",
       "      <td>29.233333</td>\n",
       "    </tr>\n",
       "    <tr>\n",
       "      <th>Gen.G</th>\n",
       "      <td>28.193333</td>\n",
       "      <td>11.500000</td>\n",
       "      <td>8.300000</td>\n",
       "      <td>27.400000</td>\n",
       "      <td>4.132232</td>\n",
       "      <td>0.700000</td>\n",
       "      <td>0.407580</td>\n",
       "      <td>0.698790</td>\n",
       "      <td>0.500000</td>\n",
       "      <td>2.400000</td>\n",
       "      <td>1.600000</td>\n",
       "      <td>0.000000</td>\n",
       "      <td>0.000000</td>\n",
       "      <td>0.400000</td>\n",
       "      <td>0.700000</td>\n",
       "      <td>1.300000</td>\n",
       "      <td>0.700000</td>\n",
       "      <td>0.900000</td>\n",
       "      <td>0.200000</td>\n",
       "      <td>0.600000</td>\n",
       "      <td>7.000000</td>\n",
       "      <td>3.700000</td>\n",
       "      <td>0.500000</td>\n",
       "      <td>0.600000</td>\n",
       "      <td>5.200000</td>\n",
       "      <td>5.200000</td>\n",
       "      <td>1.100000</td>\n",
       "      <td>0.400000</td>\n",
       "      <td>2026.293360</td>\n",
       "      <td>2738.804860</td>\n",
       "      <td>3.068400</td>\n",
       "      <td>1.603030</td>\n",
       "      <td>8.181840</td>\n",
       "      <td>1913.826839</td>\n",
       "      <td>203.749706</td>\n",
       "      <td>34.902230</td>\n",
       "      <td>144.800000</td>\n",
       "      <td>262.600000</td>\n",
       "      <td>5.900000</td>\n",
       "      <td>143.800000</td>\n",
       "      <td>504.800000</td>\n",
       "      <td>18.400000</td>\n",
       "      <td>28.481250</td>\n",
       "      <td>27.041667</td>\n",
       "    </tr>\n",
       "    <tr>\n",
       "      <th>T1</th>\n",
       "      <td>31.391667</td>\n",
       "      <td>12.200000</td>\n",
       "      <td>9.200000</td>\n",
       "      <td>29.600000</td>\n",
       "      <td>1.798333</td>\n",
       "      <td>0.300000</td>\n",
       "      <td>0.406920</td>\n",
       "      <td>0.684750</td>\n",
       "      <td>0.600000</td>\n",
       "      <td>2.900000</td>\n",
       "      <td>1.700000</td>\n",
       "      <td>0.000000</td>\n",
       "      <td>0.000000</td>\n",
       "      <td>0.600000</td>\n",
       "      <td>1.400000</td>\n",
       "      <td>0.600000</td>\n",
       "      <td>0.500000</td>\n",
       "      <td>0.900000</td>\n",
       "      <td>0.500000</td>\n",
       "      <td>0.800000</td>\n",
       "      <td>8.000000</td>\n",
       "      <td>3.400000</td>\n",
       "      <td>0.900000</td>\n",
       "      <td>0.800000</td>\n",
       "      <td>7.300000</td>\n",
       "      <td>2.900000</td>\n",
       "      <td>1.400000</td>\n",
       "      <td>0.600000</td>\n",
       "      <td>2215.307320</td>\n",
       "      <td>2700.211610</td>\n",
       "      <td>3.590580</td>\n",
       "      <td>1.761260</td>\n",
       "      <td>8.449470</td>\n",
       "      <td>1909.073091</td>\n",
       "      <td>227.130307</td>\n",
       "      <td>34.031160</td>\n",
       "      <td>587.600000</td>\n",
       "      <td>355.900000</td>\n",
       "      <td>12.500000</td>\n",
       "      <td>1965.400000</td>\n",
       "      <td>1290.400000</td>\n",
       "      <td>23.100000</td>\n",
       "      <td>30.138095</td>\n",
       "      <td>34.316667</td>\n",
       "    </tr>\n",
       "  </tbody>\n",
       "</table>\n",
       "</div>"
      ],
      "text/plain": [
       "                     gamelength      kills     deaths    assists        kd   \n",
       "Team                                                                         \n",
       "KT Rolster            27.566667  11.700000   7.800000  28.400000  3.006429  \\\n",
       "Hanwha Life Esports   31.258333  10.400000   7.200000  23.400000  3.270000   \n",
       "Dplus KIA             31.118333  12.400000   6.800000  31.900000  3.221818   \n",
       "Liiv SANDBOX          30.429167   8.375000  12.625000  21.875000  1.377936   \n",
       "Kwangdong Freecs      33.885417  10.000000   9.500000  25.000000  1.528299   \n",
       "DRX                   29.514815   6.555556  16.666667  15.222222  0.400089   \n",
       "OKSavingsBank BRION   31.323333   5.500000   8.900000  12.400000  1.770865   \n",
       "Nongshim RedForce     29.977778   6.111111  10.555556  13.000000  0.940717   \n",
       "Gen.G                 28.193333  11.500000   8.300000  27.400000  4.132232   \n",
       "T1                    31.391667  12.200000   9.200000  29.600000  1.798333   \n",
       "\n",
       "                     firstblood  team kpm      ckpm  firstdragon   dragons   \n",
       "Team                                                                         \n",
       "KT Rolster             0.600000  0.448450  0.721430     0.600000  2.400000  \\\n",
       "Hanwha Life Esports    0.700000  0.347020  0.572810     0.500000  2.000000   \n",
       "Dplus KIA              0.500000  0.407880  0.616470     0.800000  2.900000   \n",
       "Liiv SANDBOX           0.375000  0.270962  0.695388     0.375000  1.375000   \n",
       "Kwangdong Freecs       0.750000  0.283062  0.562775     0.750000  3.375000   \n",
       "DRX                    0.111111  0.197456  0.793767     0.000000  0.666667   \n",
       "OKSavingsBank BRION    0.600000  0.174150  0.471470     0.400000  1.700000   \n",
       "Nongshim RedForce      0.333333  0.202511  0.559800     0.444444  1.555556   \n",
       "Gen.G                  0.700000  0.407580  0.698790     0.500000  2.400000   \n",
       "T1                     0.300000  0.406920  0.684750     0.600000  2.900000   \n",
       "\n",
       "                     opp_dragons    elders  opp_elders  firstherald   heralds   \n",
       "Team                                                                            \n",
       "KT Rolster              1.600000  0.000000    0.000000     0.500000  1.100000  \\\n",
       "Hanwha Life Esports     2.300000  0.100000    0.000000     0.500000  0.900000   \n",
       "Dplus KIA               1.500000  0.000000    0.100000     0.600000  1.100000   \n",
       "Liiv SANDBOX            2.875000  0.000000    0.000000     0.500000  0.875000   \n",
       "Kwangdong Freecs        1.375000  0.250000    0.125000     0.750000  1.250000   \n",
       "DRX                     3.444444  0.111111    0.111111     0.222222  0.777778   \n",
       "OKSavingsBank BRION     2.700000  0.000000    0.100000     0.400000  0.900000   \n",
       "Nongshim RedForce       2.444444  0.000000    0.000000     0.555556  1.000000   \n",
       "Gen.G                   1.600000  0.000000    0.000000     0.400000  0.700000   \n",
       "T1                      1.700000  0.000000    0.000000     0.600000  1.400000   \n",
       "\n",
       "                     opp_heralds  firstbaron    barons  opp_barons   \n",
       "Team                                                                 \n",
       "KT Rolster              0.900000    0.600000  0.600000    0.500000  \\\n",
       "Hanwha Life Esports     1.100000    0.500000  0.800000    0.500000   \n",
       "Dplus KIA               0.900000    0.500000  0.800000    0.400000   \n",
       "Liiv SANDBOX            1.125000    0.500000  0.500000    0.750000   \n",
       "Kwangdong Freecs        0.750000    0.125000  0.250000    1.125000   \n",
       "DRX                     1.222222    0.333333  0.555556    0.666667   \n",
       "OKSavingsBank BRION     1.100000    0.500000  0.500000    0.700000   \n",
       "Nongshim RedForce       1.000000    0.111111  0.222222    1.000000   \n",
       "Gen.G                   1.300000    0.700000  0.900000    0.200000   \n",
       "T1                      0.600000    0.500000  0.900000    0.500000   \n",
       "\n",
       "                     firsttower    towers  opp_towers  firstmidtower   \n",
       "Team                                                                   \n",
       "KT Rolster             0.600000  7.000000    4.200000       0.500000  \\\n",
       "Hanwha Life Esports    0.500000  6.100000    5.400000       0.400000   \n",
       "Dplus KIA              0.500000  6.800000    4.000000       0.600000   \n",
       "Liiv SANDBOX           0.250000  4.125000    7.500000       0.375000   \n",
       "Kwangdong Freecs       0.875000  6.625000    5.000000       1.000000   \n",
       "DRX                    0.222222  2.333333    8.000000       0.222222   \n",
       "OKSavingsBank BRION    0.300000  3.700000    6.700000       0.400000   \n",
       "Nongshim RedForce      0.333333  3.000000    8.222222       0.111111   \n",
       "Gen.G                  0.600000  7.000000    3.700000       0.500000   \n",
       "T1                     0.800000  8.000000    3.400000       0.900000   \n",
       "\n",
       "                     firsttothreetowers  turretplates  opp_turretplates   \n",
       "Team                                                                      \n",
       "KT Rolster                     0.600000      5.300000          4.700000  \\\n",
       "Hanwha Life Esports            0.500000      3.800000          5.300000   \n",
       "Dplus KIA                      0.600000      5.700000          4.800000   \n",
       "Liiv SANDBOX                   0.250000      3.625000          5.625000   \n",
       "Kwangdong Freecs               0.875000      6.000000          3.000000   \n",
       "DRX                            0.222222      3.888889          6.444444   \n",
       "OKSavingsBank BRION            0.400000      4.000000          5.000000   \n",
       "Nongshim RedForce              0.111111      2.888889          5.000000   \n",
       "Gen.G                          0.600000      5.200000          5.200000   \n",
       "T1                             0.800000      7.300000          2.900000   \n",
       "\n",
       "                     inhibitors  opp_inhibitors          dpm   \n",
       "Team                                                           \n",
       "KT Rolster             0.900000        0.600000  1975.524640  \\\n",
       "Hanwha Life Esports    1.200000        0.700000  2079.584220   \n",
       "Dplus KIA              1.300000        0.400000  2330.542290   \n",
       "Liiv SANDBOX           0.625000        1.250000  1808.503375   \n",
       "Kwangdong Freecs       0.875000        0.625000  2123.401588   \n",
       "DRX                    0.111111        1.444444  1946.215667   \n",
       "OKSavingsBank BRION    0.400000        1.000000  1713.528790   \n",
       "Nongshim RedForce      0.333333        1.555556  1604.290033   \n",
       "Gen.G                  1.100000        0.400000  2026.293360   \n",
       "T1                     1.400000        0.600000  2215.307320   \n",
       "\n",
       "                     damagetakenperminute       wpm      wcpm      vspm   \n",
       "Team                                                                      \n",
       "KT Rolster                    2585.012570  3.283290  1.257080  7.475850  \\\n",
       "Hanwha Life Esports           2699.945560  3.382060  1.583660  8.616960   \n",
       "Dplus KIA                     2693.759840  3.339480  1.861560  8.834360   \n",
       "Liiv SANDBOX                  2856.017000  3.794313  1.781250  8.805375   \n",
       "Kwangdong Freecs              3079.897825  3.484875  1.731400  8.790662   \n",
       "DRX                           3301.084400  3.353044  1.474889  7.611133   \n",
       "OKSavingsBank BRION           2702.431850  3.321150  1.773730  8.319640   \n",
       "Nongshim RedForce             2980.389256  3.779133  1.582689  8.201533   \n",
       "Gen.G                         2738.804860  3.068400  1.603030  8.181840   \n",
       "T1                            2700.211610  3.590580  1.761260  8.449470   \n",
       "\n",
       "                             gpm        gdpm       cspm  golddiffat10   \n",
       "Team                                                                    \n",
       "KT Rolster           1897.670635  139.590299  34.370640    376.100000  \\\n",
       "Hanwha Life Esports  1800.922526   61.998795  34.000900   -116.800000   \n",
       "Dplus KIA            1879.879301  215.918230  33.921300    423.800000   \n",
       "Liiv SANDBOX         1707.778170 -175.019549  33.051500   -670.500000   \n",
       "Kwangdong Freecs     1800.505682   53.768135  34.535250    950.625000   \n",
       "DRX                  1572.103559 -406.418388  29.964922  -1152.555556   \n",
       "OKSavingsBank BRION  1674.528986 -181.922727  33.839480   -123.000000   \n",
       "Nongshim RedForce    1669.705131 -226.318810  33.161144   -532.555556   \n",
       "Gen.G                1913.826839  203.749706  34.902230    144.800000   \n",
       "T1                   1909.073091  227.130307  34.031160    587.600000   \n",
       "\n",
       "                     xpdiffat10  csdiffat10  golddiffat15   xpdiffat15   \n",
       "Team                                                                     \n",
       "KT Rolster           139.000000    5.300000   1175.100000   776.800000  \\\n",
       "Hanwha Life Esports -201.500000   -5.800000   -425.800000    44.500000   \n",
       "Dplus KIA            498.400000    8.600000   1179.700000   808.500000   \n",
       "Liiv SANDBOX        -253.500000    1.250000  -1689.625000 -1440.125000   \n",
       "Kwangdong Freecs     599.375000   19.000000   2073.625000   719.000000   \n",
       "DRX                 -583.333333  -27.333333  -2867.777778 -1192.555556   \n",
       "OKSavingsBank BRION -333.700000  -11.800000   -678.500000  -378.100000   \n",
       "Nongshim RedForce   -524.888889   -7.000000  -1206.555556 -1551.888889   \n",
       "Gen.G                262.600000    5.900000    143.800000   504.800000   \n",
       "T1                   355.900000   12.500000   1965.400000  1290.400000   \n",
       "\n",
       "                     csdiffat15  win_gamelength  loss_gamelength  \n",
       "Team                                                              \n",
       "KT Rolster             9.900000       27.678571        27.305556  \n",
       "Hanwha Life Esports   -7.000000       33.161111        28.404167  \n",
       "Dplus KIA             14.800000       30.052381        33.605556  \n",
       "Liiv SANDBOX          -5.750000       27.675000        31.347222  \n",
       "Kwangdong Freecs      23.625000       33.479167        34.291667  \n",
       "DRX                  -43.555556       34.433333        28.900000  \n",
       "OKSavingsBank BRION  -10.400000       32.822222        30.680952  \n",
       "Nongshim RedForce    -26.555556       32.583333        29.233333  \n",
       "Gen.G                 18.400000       28.481250        27.041667  \n",
       "T1                    23.100000       30.138095        34.316667  "
      ]
     },
     "execution_count": 14,
     "metadata": {},
     "output_type": "execute_result"
    }
   ],
   "source": [
    "teams_id = teams_data[\"teamid\"].unique()\n",
    "groupby = teams_data.groupby(\"teamid\")\n",
    "teams_stats = pd.DataFrame(index=teams_id)\n",
    "teams_stats[\"Team\"] = groupby.last()[\"teamname\"]\n",
    "\n",
    "columns = [\n",
    "    \"gamelength\",\n",
    "    \"kills\",\n",
    "    \"deaths\",\n",
    "    \"assists\",\n",
    "    \"kd\",\n",
    "    \"firstblood\",\n",
    "    \"team kpm\",\n",
    "    \"ckpm\",\n",
    "    \"firstdragon\",\n",
    "    \"dragons\",\n",
    "    \"opp_dragons\",\n",
    "    \"elders\",\n",
    "    \"opp_elders\",\n",
    "    \"firstherald\",\n",
    "    \"heralds\",\n",
    "    \"opp_heralds\",\n",
    "    \"firstbaron\",\n",
    "    \"barons\",\n",
    "    \"opp_barons\",\n",
    "    \"firsttower\",\n",
    "    \"towers\",\n",
    "    \"opp_towers\",\n",
    "    \"firstmidtower\",\n",
    "    \"firsttothreetowers\",\n",
    "    \"turretplates\",\n",
    "    \"opp_turretplates\",\n",
    "    \"inhibitors\",\n",
    "    \"opp_inhibitors\",\n",
    "    \"dpm\",\n",
    "    \"damagetakenperminute\",\n",
    "    \"wpm\",\n",
    "    \"wcpm\",\n",
    "    \"vspm\",\n",
    "    \"gpm\",\n",
    "    \"gdpm\",\n",
    "    \"cspm\",\n",
    "    \"golddiffat10\",\n",
    "    \"xpdiffat10\",\n",
    "    \"csdiffat10\",\n",
    "    \"golddiffat15\",\n",
    "    \"xpdiffat15\",\n",
    "    \"csdiffat15\",\n",
    "]\n",
    "teams_stats[columns] = groupby[columns].mean()\n",
    "teams_stats[\"win_gamelength\"] = (\n",
    "    teams_data.loc[teams_data[\"result\"] == 1].groupby(\"teamid\")[\"gamelength\"].mean()\n",
    ")\n",
    "teams_stats[\"loss_gamelength\"] = (\n",
    "    teams_data.loc[teams_data[\"result\"] == 0].groupby(\"teamid\")[\"gamelength\"].mean()\n",
    ")\n",
    "teams_stats[[\"gamelength\", \"win_gamelength\", \"loss_gamelength\"]] /= 60\n",
    "\n",
    "\n",
    "teams_stats.set_index(\"Team\", inplace=True)\n",
    "teams_stats"
   ]
  },
  {
   "cell_type": "code",
   "execution_count": 15,
   "metadata": {},
   "outputs": [
    {
     "name": "stderr",
     "output_type": "stream",
     "text": [
      "C:\\Users\\pjm58\\AppData\\Local\\Temp\\ipykernel_39548\\1548367295.py:46: PerformanceWarning: DataFrame is highly fragmented.  This is usually the result of calling `frame.insert` many times, which has poor performance.  Consider joining all columns at once using pd.concat(axis=1) instead. To get a de-fragmented frame, use `newframe = frame.copy()`\n",
      "  teams_stats[rank_columns[key]] = teams_stats[values].rank(method='min')\n",
      "C:\\Users\\pjm58\\AppData\\Local\\Temp\\ipykernel_39548\\1548367295.py:46: PerformanceWarning: DataFrame is highly fragmented.  This is usually the result of calling `frame.insert` many times, which has poor performance.  Consider joining all columns at once using pd.concat(axis=1) instead. To get a de-fragmented frame, use `newframe = frame.copy()`\n",
      "  teams_stats[rank_columns[key]] = teams_stats[values].rank(method='min')\n",
      "C:\\Users\\pjm58\\AppData\\Local\\Temp\\ipykernel_39548\\1548367295.py:46: PerformanceWarning: DataFrame is highly fragmented.  This is usually the result of calling `frame.insert` many times, which has poor performance.  Consider joining all columns at once using pd.concat(axis=1) instead. To get a de-fragmented frame, use `newframe = frame.copy()`\n",
      "  teams_stats[rank_columns[key]] = teams_stats[values].rank(method='min')\n",
      "C:\\Users\\pjm58\\AppData\\Local\\Temp\\ipykernel_39548\\1548367295.py:46: PerformanceWarning: DataFrame is highly fragmented.  This is usually the result of calling `frame.insert` many times, which has poor performance.  Consider joining all columns at once using pd.concat(axis=1) instead. To get a de-fragmented frame, use `newframe = frame.copy()`\n",
      "  teams_stats[rank_columns[key]] = teams_stats[values].rank(method='min')\n",
      "C:\\Users\\pjm58\\AppData\\Local\\Temp\\ipykernel_39548\\1548367295.py:46: PerformanceWarning: DataFrame is highly fragmented.  This is usually the result of calling `frame.insert` many times, which has poor performance.  Consider joining all columns at once using pd.concat(axis=1) instead. To get a de-fragmented frame, use `newframe = frame.copy()`\n",
      "  teams_stats[rank_columns[key]] = teams_stats[values].rank(method='min')\n",
      "C:\\Users\\pjm58\\AppData\\Local\\Temp\\ipykernel_39548\\1548367295.py:46: PerformanceWarning: DataFrame is highly fragmented.  This is usually the result of calling `frame.insert` many times, which has poor performance.  Consider joining all columns at once using pd.concat(axis=1) instead. To get a de-fragmented frame, use `newframe = frame.copy()`\n",
      "  teams_stats[rank_columns[key]] = teams_stats[values].rank(method='min')\n"
     ]
    },
    {
     "data": {
      "text/html": [
       "<div>\n",
       "<style scoped>\n",
       "    .dataframe tbody tr th:only-of-type {\n",
       "        vertical-align: middle;\n",
       "    }\n",
       "\n",
       "    .dataframe tbody tr th {\n",
       "        vertical-align: top;\n",
       "    }\n",
       "\n",
       "    .dataframe thead th {\n",
       "        text-align: right;\n",
       "    }\n",
       "</style>\n",
       "<table border=\"1\" class=\"dataframe\">\n",
       "  <thead>\n",
       "    <tr style=\"text-align: right;\">\n",
       "      <th></th>\n",
       "      <th>gamelength</th>\n",
       "      <th>kills</th>\n",
       "      <th>deaths</th>\n",
       "      <th>assists</th>\n",
       "      <th>kd</th>\n",
       "      <th>firstblood</th>\n",
       "      <th>team kpm</th>\n",
       "      <th>ckpm</th>\n",
       "      <th>firstdragon</th>\n",
       "      <th>dragons</th>\n",
       "      <th>opp_dragons</th>\n",
       "      <th>elders</th>\n",
       "      <th>opp_elders</th>\n",
       "      <th>firstherald</th>\n",
       "      <th>heralds</th>\n",
       "      <th>opp_heralds</th>\n",
       "      <th>firstbaron</th>\n",
       "      <th>barons</th>\n",
       "      <th>opp_barons</th>\n",
       "      <th>firsttower</th>\n",
       "      <th>towers</th>\n",
       "      <th>opp_towers</th>\n",
       "      <th>firstmidtower</th>\n",
       "      <th>firsttothreetowers</th>\n",
       "      <th>turretplates</th>\n",
       "      <th>opp_turretplates</th>\n",
       "      <th>inhibitors</th>\n",
       "      <th>opp_inhibitors</th>\n",
       "      <th>dpm</th>\n",
       "      <th>damagetakenperminute</th>\n",
       "      <th>wpm</th>\n",
       "      <th>wcpm</th>\n",
       "      <th>vspm</th>\n",
       "      <th>gpm</th>\n",
       "      <th>gdpm</th>\n",
       "      <th>cspm</th>\n",
       "      <th>golddiffat10</th>\n",
       "      <th>xpdiffat10</th>\n",
       "      <th>csdiffat10</th>\n",
       "      <th>golddiffat15</th>\n",
       "      <th>xpdiffat15</th>\n",
       "      <th>csdiffat15</th>\n",
       "      <th>win_gamelength</th>\n",
       "      <th>loss_gamelength</th>\n",
       "      <th>_kd</th>\n",
       "      <th>_firstblood</th>\n",
       "      <th>_team kpm</th>\n",
       "      <th>_dpm</th>\n",
       "      <th>_damagetakenperminute</th>\n",
       "      <th>kd_rank</th>\n",
       "      <th>firstblood_rank</th>\n",
       "      <th>team kpm_rank</th>\n",
       "      <th>dpm_rank</th>\n",
       "      <th>damagetakenperminute_rank</th>\n",
       "      <th>_firstdragon</th>\n",
       "      <th>_dragons</th>\n",
       "      <th>_firstherald</th>\n",
       "      <th>_heralds</th>\n",
       "      <th>_firstbaron</th>\n",
       "      <th>_barons</th>\n",
       "      <th>_elders</th>\n",
       "      <th>firstdragon_rank</th>\n",
       "      <th>dragons_rank</th>\n",
       "      <th>firstherald_rank</th>\n",
       "      <th>heralds_rank</th>\n",
       "      <th>firstbaron_rank</th>\n",
       "      <th>barons_rank</th>\n",
       "      <th>elders_rank</th>\n",
       "      <th>_firsttower</th>\n",
       "      <th>_towers</th>\n",
       "      <th>_firstmidtower</th>\n",
       "      <th>_firsttothreetowers</th>\n",
       "      <th>_turretplates</th>\n",
       "      <th>firsttower_rank</th>\n",
       "      <th>towers_rank</th>\n",
       "      <th>firstmidtower_rank</th>\n",
       "      <th>firsttothreetowers_rank</th>\n",
       "      <th>turretplates_rank</th>\n",
       "      <th>_gamelength</th>\n",
       "      <th>_win_gamelength</th>\n",
       "      <th>_loss_gamelength</th>\n",
       "      <th>_gpm</th>\n",
       "      <th>_gdpm</th>\n",
       "      <th>_wpm</th>\n",
       "      <th>_wcpm</th>\n",
       "      <th>_vspm</th>\n",
       "      <th>gamelength_rank</th>\n",
       "      <th>win_gamelength_rank</th>\n",
       "      <th>loss_gamelength_rank</th>\n",
       "      <th>gpm_rank</th>\n",
       "      <th>gdpm_rank</th>\n",
       "      <th>wpm_rank</th>\n",
       "      <th>wcpm_rank</th>\n",
       "      <th>vspm_rank</th>\n",
       "      <th>_golddiffat10</th>\n",
       "      <th>_xpdiffat10</th>\n",
       "      <th>_csdiffat10</th>\n",
       "      <th>_golddiffat15</th>\n",
       "      <th>_xpdiffat15</th>\n",
       "      <th>_csdiffat15</th>\n",
       "      <th>golddiffat10_rank</th>\n",
       "      <th>xpdiffat10_rank</th>\n",
       "      <th>csdiffat10_rank</th>\n",
       "      <th>golddiffat15_rank</th>\n",
       "      <th>xpdiffat15_rank</th>\n",
       "      <th>csdiffat15_rank</th>\n",
       "    </tr>\n",
       "    <tr>\n",
       "      <th>Team</th>\n",
       "      <th></th>\n",
       "      <th></th>\n",
       "      <th></th>\n",
       "      <th></th>\n",
       "      <th></th>\n",
       "      <th></th>\n",
       "      <th></th>\n",
       "      <th></th>\n",
       "      <th></th>\n",
       "      <th></th>\n",
       "      <th></th>\n",
       "      <th></th>\n",
       "      <th></th>\n",
       "      <th></th>\n",
       "      <th></th>\n",
       "      <th></th>\n",
       "      <th></th>\n",
       "      <th></th>\n",
       "      <th></th>\n",
       "      <th></th>\n",
       "      <th></th>\n",
       "      <th></th>\n",
       "      <th></th>\n",
       "      <th></th>\n",
       "      <th></th>\n",
       "      <th></th>\n",
       "      <th></th>\n",
       "      <th></th>\n",
       "      <th></th>\n",
       "      <th></th>\n",
       "      <th></th>\n",
       "      <th></th>\n",
       "      <th></th>\n",
       "      <th></th>\n",
       "      <th></th>\n",
       "      <th></th>\n",
       "      <th></th>\n",
       "      <th></th>\n",
       "      <th></th>\n",
       "      <th></th>\n",
       "      <th></th>\n",
       "      <th></th>\n",
       "      <th></th>\n",
       "      <th></th>\n",
       "      <th></th>\n",
       "      <th></th>\n",
       "      <th></th>\n",
       "      <th></th>\n",
       "      <th></th>\n",
       "      <th></th>\n",
       "      <th></th>\n",
       "      <th></th>\n",
       "      <th></th>\n",
       "      <th></th>\n",
       "      <th></th>\n",
       "      <th></th>\n",
       "      <th></th>\n",
       "      <th></th>\n",
       "      <th></th>\n",
       "      <th></th>\n",
       "      <th></th>\n",
       "      <th></th>\n",
       "      <th></th>\n",
       "      <th></th>\n",
       "      <th></th>\n",
       "      <th></th>\n",
       "      <th></th>\n",
       "      <th></th>\n",
       "      <th></th>\n",
       "      <th></th>\n",
       "      <th></th>\n",
       "      <th></th>\n",
       "      <th></th>\n",
       "      <th></th>\n",
       "      <th></th>\n",
       "      <th></th>\n",
       "      <th></th>\n",
       "      <th></th>\n",
       "      <th></th>\n",
       "      <th></th>\n",
       "      <th></th>\n",
       "      <th></th>\n",
       "      <th></th>\n",
       "      <th></th>\n",
       "      <th></th>\n",
       "      <th></th>\n",
       "      <th></th>\n",
       "      <th></th>\n",
       "      <th></th>\n",
       "      <th></th>\n",
       "      <th></th>\n",
       "      <th></th>\n",
       "      <th></th>\n",
       "      <th></th>\n",
       "      <th></th>\n",
       "      <th></th>\n",
       "      <th></th>\n",
       "      <th></th>\n",
       "      <th></th>\n",
       "      <th></th>\n",
       "      <th></th>\n",
       "      <th></th>\n",
       "      <th></th>\n",
       "      <th></th>\n",
       "      <th></th>\n",
       "      <th></th>\n",
       "    </tr>\n",
       "  </thead>\n",
       "  <tbody>\n",
       "    <tr>\n",
       "      <th>DRX</th>\n",
       "      <td>29.514815</td>\n",
       "      <td>6.555556</td>\n",
       "      <td>16.666667</td>\n",
       "      <td>15.222222</td>\n",
       "      <td>0.400089</td>\n",
       "      <td>0.111111</td>\n",
       "      <td>0.197456</td>\n",
       "      <td>0.793767</td>\n",
       "      <td>0.0</td>\n",
       "      <td>0.666667</td>\n",
       "      <td>3.444444</td>\n",
       "      <td>0.111111</td>\n",
       "      <td>0.111111</td>\n",
       "      <td>0.222222</td>\n",
       "      <td>0.777778</td>\n",
       "      <td>1.222222</td>\n",
       "      <td>0.333333</td>\n",
       "      <td>0.555556</td>\n",
       "      <td>0.666667</td>\n",
       "      <td>0.222222</td>\n",
       "      <td>2.333333</td>\n",
       "      <td>8.0</td>\n",
       "      <td>0.222222</td>\n",
       "      <td>0.222222</td>\n",
       "      <td>3.888889</td>\n",
       "      <td>6.444444</td>\n",
       "      <td>0.111111</td>\n",
       "      <td>1.444444</td>\n",
       "      <td>1946.215667</td>\n",
       "      <td>3301.08440</td>\n",
       "      <td>3.353044</td>\n",
       "      <td>1.474889</td>\n",
       "      <td>7.611133</td>\n",
       "      <td>1572.103559</td>\n",
       "      <td>-406.418388</td>\n",
       "      <td>29.964922</td>\n",
       "      <td>-1152.555556</td>\n",
       "      <td>-583.333333</td>\n",
       "      <td>-27.333333</td>\n",
       "      <td>-2867.777778</td>\n",
       "      <td>-1192.555556</td>\n",
       "      <td>-43.555556</td>\n",
       "      <td>34.433333</td>\n",
       "      <td>28.900000</td>\n",
       "      <td>0.000000</td>\n",
       "      <td>0.000000</td>\n",
       "      <td>0.084964</td>\n",
       "      <td>0.470808</td>\n",
       "      <td>1.000000</td>\n",
       "      <td>1.0</td>\n",
       "      <td>1.0</td>\n",
       "      <td>2.0</td>\n",
       "      <td>4.0</td>\n",
       "      <td>10.0</td>\n",
       "      <td>0.000</td>\n",
       "      <td>0.000000</td>\n",
       "      <td>0.000000</td>\n",
       "      <td>0.111111</td>\n",
       "      <td>0.377358</td>\n",
       "      <td>0.491803</td>\n",
       "      <td>0.444444</td>\n",
       "      <td>1.0</td>\n",
       "      <td>1.0</td>\n",
       "      <td>1.0</td>\n",
       "      <td>2.0</td>\n",
       "      <td>3.0</td>\n",
       "      <td>5.0</td>\n",
       "      <td>9.0</td>\n",
       "      <td>0.000000</td>\n",
       "      <td>0.000000</td>\n",
       "      <td>0.1250</td>\n",
       "      <td>0.145455</td>\n",
       "      <td>0.226700</td>\n",
       "      <td>1.0</td>\n",
       "      <td>1.0</td>\n",
       "      <td>2.0</td>\n",
       "      <td>2.0</td>\n",
       "      <td>4.0</td>\n",
       "      <td>0.308312</td>\n",
       "      <td>1.000000</td>\n",
       "      <td>0.255441</td>\n",
       "      <td>0.000000</td>\n",
       "      <td>0.000000</td>\n",
       "      <td>0.392119</td>\n",
       "      <td>0.360324</td>\n",
       "      <td>0.099582</td>\n",
       "      <td>3.0</td>\n",
       "      <td>10.0</td>\n",
       "      <td>4.0</td>\n",
       "      <td>1.0</td>\n",
       "      <td>1.0</td>\n",
       "      <td>5.0</td>\n",
       "      <td>2.0</td>\n",
       "      <td>2.0</td>\n",
       "      <td>0.000000</td>\n",
       "      <td>0.000000</td>\n",
       "      <td>0.000000</td>\n",
       "      <td>0.000000</td>\n",
       "      <td>0.126424</td>\n",
       "      <td>0.000000</td>\n",
       "      <td>1.0</td>\n",
       "      <td>1.0</td>\n",
       "      <td>1.0</td>\n",
       "      <td>1.0</td>\n",
       "      <td>3.0</td>\n",
       "      <td>1.0</td>\n",
       "    </tr>\n",
       "    <tr>\n",
       "      <th>Dplus KIA</th>\n",
       "      <td>31.118333</td>\n",
       "      <td>12.400000</td>\n",
       "      <td>6.800000</td>\n",
       "      <td>31.900000</td>\n",
       "      <td>3.221818</td>\n",
       "      <td>0.500000</td>\n",
       "      <td>0.407880</td>\n",
       "      <td>0.616470</td>\n",
       "      <td>0.8</td>\n",
       "      <td>2.900000</td>\n",
       "      <td>1.500000</td>\n",
       "      <td>0.000000</td>\n",
       "      <td>0.100000</td>\n",
       "      <td>0.600000</td>\n",
       "      <td>1.100000</td>\n",
       "      <td>0.900000</td>\n",
       "      <td>0.500000</td>\n",
       "      <td>0.800000</td>\n",
       "      <td>0.400000</td>\n",
       "      <td>0.500000</td>\n",
       "      <td>6.800000</td>\n",
       "      <td>4.0</td>\n",
       "      <td>0.600000</td>\n",
       "      <td>0.600000</td>\n",
       "      <td>5.700000</td>\n",
       "      <td>4.800000</td>\n",
       "      <td>1.300000</td>\n",
       "      <td>0.400000</td>\n",
       "      <td>2330.542290</td>\n",
       "      <td>2693.75984</td>\n",
       "      <td>3.339480</td>\n",
       "      <td>1.861560</td>\n",
       "      <td>8.834360</td>\n",
       "      <td>1879.879301</td>\n",
       "      <td>215.918230</td>\n",
       "      <td>33.921300</td>\n",
       "      <td>423.800000</td>\n",
       "      <td>498.400000</td>\n",
       "      <td>8.600000</td>\n",
       "      <td>1179.700000</td>\n",
       "      <td>808.500000</td>\n",
       "      <td>14.800000</td>\n",
       "      <td>30.052381</td>\n",
       "      <td>33.605556</td>\n",
       "      <td>0.756061</td>\n",
       "      <td>0.608696</td>\n",
       "      <td>0.852096</td>\n",
       "      <td>1.000000</td>\n",
       "      <td>0.151866</td>\n",
       "      <td>8.0</td>\n",
       "      <td>5.0</td>\n",
       "      <td>9.0</td>\n",
       "      <td>10.0</td>\n",
       "      <td>2.0</td>\n",
       "      <td>1.000</td>\n",
       "      <td>0.824615</td>\n",
       "      <td>0.715789</td>\n",
       "      <td>0.571429</td>\n",
       "      <td>0.660377</td>\n",
       "      <td>0.852459</td>\n",
       "      <td>0.000000</td>\n",
       "      <td>10.0</td>\n",
       "      <td>8.0</td>\n",
       "      <td>8.0</td>\n",
       "      <td>7.0</td>\n",
       "      <td>4.0</td>\n",
       "      <td>7.0</td>\n",
       "      <td>1.0</td>\n",
       "      <td>0.425532</td>\n",
       "      <td>0.788235</td>\n",
       "      <td>0.5500</td>\n",
       "      <td>0.640000</td>\n",
       "      <td>0.637280</td>\n",
       "      <td>5.0</td>\n",
       "      <td>7.0</td>\n",
       "      <td>8.0</td>\n",
       "      <td>6.0</td>\n",
       "      <td>8.0</td>\n",
       "      <td>0.562084</td>\n",
       "      <td>0.351770</td>\n",
       "      <td>0.902253</td>\n",
       "      <td>0.900658</td>\n",
       "      <td>0.982303</td>\n",
       "      <td>0.373433</td>\n",
       "      <td>1.000000</td>\n",
       "      <td>1.000000</td>\n",
       "      <td>6.0</td>\n",
       "      <td>4.0</td>\n",
       "      <td>8.0</td>\n",
       "      <td>7.0</td>\n",
       "      <td>9.0</td>\n",
       "      <td>4.0</td>\n",
       "      <td>10.0</td>\n",
       "      <td>10.0</td>\n",
       "      <td>0.749510</td>\n",
       "      <td>0.914624</td>\n",
       "      <td>0.775540</td>\n",
       "      <td>0.819095</td>\n",
       "      <td>0.830454</td>\n",
       "      <td>0.868638</td>\n",
       "      <td>8.0</td>\n",
       "      <td>9.0</td>\n",
       "      <td>8.0</td>\n",
       "      <td>8.0</td>\n",
       "      <td>9.0</td>\n",
       "      <td>7.0</td>\n",
       "    </tr>\n",
       "    <tr>\n",
       "      <th>Gen.G</th>\n",
       "      <td>28.193333</td>\n",
       "      <td>11.500000</td>\n",
       "      <td>8.300000</td>\n",
       "      <td>27.400000</td>\n",
       "      <td>4.132232</td>\n",
       "      <td>0.700000</td>\n",
       "      <td>0.407580</td>\n",
       "      <td>0.698790</td>\n",
       "      <td>0.5</td>\n",
       "      <td>2.400000</td>\n",
       "      <td>1.600000</td>\n",
       "      <td>0.000000</td>\n",
       "      <td>0.000000</td>\n",
       "      <td>0.400000</td>\n",
       "      <td>0.700000</td>\n",
       "      <td>1.300000</td>\n",
       "      <td>0.700000</td>\n",
       "      <td>0.900000</td>\n",
       "      <td>0.200000</td>\n",
       "      <td>0.600000</td>\n",
       "      <td>7.000000</td>\n",
       "      <td>3.7</td>\n",
       "      <td>0.500000</td>\n",
       "      <td>0.600000</td>\n",
       "      <td>5.200000</td>\n",
       "      <td>5.200000</td>\n",
       "      <td>1.100000</td>\n",
       "      <td>0.400000</td>\n",
       "      <td>2026.293360</td>\n",
       "      <td>2738.80486</td>\n",
       "      <td>3.068400</td>\n",
       "      <td>1.603030</td>\n",
       "      <td>8.181840</td>\n",
       "      <td>1913.826839</td>\n",
       "      <td>203.749706</td>\n",
       "      <td>34.902230</td>\n",
       "      <td>144.800000</td>\n",
       "      <td>262.600000</td>\n",
       "      <td>5.900000</td>\n",
       "      <td>143.800000</td>\n",
       "      <td>504.800000</td>\n",
       "      <td>18.400000</td>\n",
       "      <td>28.481250</td>\n",
       "      <td>27.041667</td>\n",
       "      <td>1.000000</td>\n",
       "      <td>0.921739</td>\n",
       "      <td>0.851003</td>\n",
       "      <td>0.581070</td>\n",
       "      <td>0.214772</td>\n",
       "      <td>10.0</td>\n",
       "      <td>8.0</td>\n",
       "      <td>8.0</td>\n",
       "      <td>6.0</td>\n",
       "      <td>6.0</td>\n",
       "      <td>0.625</td>\n",
       "      <td>0.640000</td>\n",
       "      <td>0.336842</td>\n",
       "      <td>0.000000</td>\n",
       "      <td>1.000000</td>\n",
       "      <td>1.000000</td>\n",
       "      <td>0.000000</td>\n",
       "      <td>5.0</td>\n",
       "      <td>6.0</td>\n",
       "      <td>2.0</td>\n",
       "      <td>1.0</td>\n",
       "      <td>10.0</td>\n",
       "      <td>9.0</td>\n",
       "      <td>1.0</td>\n",
       "      <td>0.578723</td>\n",
       "      <td>0.823529</td>\n",
       "      <td>0.4375</td>\n",
       "      <td>0.640000</td>\n",
       "      <td>0.523929</td>\n",
       "      <td>7.0</td>\n",
       "      <td>8.0</td>\n",
       "      <td>6.0</td>\n",
       "      <td>6.0</td>\n",
       "      <td>6.0</td>\n",
       "      <td>0.099176</td>\n",
       "      <td>0.119297</td>\n",
       "      <td>0.000000</td>\n",
       "      <td>1.000000</td>\n",
       "      <td>0.963096</td>\n",
       "      <td>0.000000</td>\n",
       "      <td>0.572310</td>\n",
       "      <td>0.519680</td>\n",
       "      <td>2.0</td>\n",
       "      <td>3.0</td>\n",
       "      <td>1.0</td>\n",
       "      <td>10.0</td>\n",
       "      <td>8.0</td>\n",
       "      <td>1.0</td>\n",
       "      <td>5.0</td>\n",
       "      <td>3.0</td>\n",
       "      <td>0.616854</td>\n",
       "      <td>0.715251</td>\n",
       "      <td>0.717266</td>\n",
       "      <td>0.609458</td>\n",
       "      <td>0.723603</td>\n",
       "      <td>0.922225</td>\n",
       "      <td>6.0</td>\n",
       "      <td>7.0</td>\n",
       "      <td>7.0</td>\n",
       "      <td>6.0</td>\n",
       "      <td>6.0</td>\n",
       "      <td>8.0</td>\n",
       "    </tr>\n",
       "    <tr>\n",
       "      <th>Hanwha Life Esports</th>\n",
       "      <td>31.258333</td>\n",
       "      <td>10.400000</td>\n",
       "      <td>7.200000</td>\n",
       "      <td>23.400000</td>\n",
       "      <td>3.270000</td>\n",
       "      <td>0.700000</td>\n",
       "      <td>0.347020</td>\n",
       "      <td>0.572810</td>\n",
       "      <td>0.5</td>\n",
       "      <td>2.000000</td>\n",
       "      <td>2.300000</td>\n",
       "      <td>0.100000</td>\n",
       "      <td>0.000000</td>\n",
       "      <td>0.500000</td>\n",
       "      <td>0.900000</td>\n",
       "      <td>1.100000</td>\n",
       "      <td>0.500000</td>\n",
       "      <td>0.800000</td>\n",
       "      <td>0.500000</td>\n",
       "      <td>0.500000</td>\n",
       "      <td>6.100000</td>\n",
       "      <td>5.4</td>\n",
       "      <td>0.400000</td>\n",
       "      <td>0.500000</td>\n",
       "      <td>3.800000</td>\n",
       "      <td>5.300000</td>\n",
       "      <td>1.200000</td>\n",
       "      <td>0.700000</td>\n",
       "      <td>2079.584220</td>\n",
       "      <td>2699.94556</td>\n",
       "      <td>3.382060</td>\n",
       "      <td>1.583660</td>\n",
       "      <td>8.616960</td>\n",
       "      <td>1800.922526</td>\n",
       "      <td>61.998795</td>\n",
       "      <td>34.000900</td>\n",
       "      <td>-116.800000</td>\n",
       "      <td>-201.500000</td>\n",
       "      <td>-5.800000</td>\n",
       "      <td>-425.800000</td>\n",
       "      <td>44.500000</td>\n",
       "      <td>-7.000000</td>\n",
       "      <td>33.161111</td>\n",
       "      <td>28.404167</td>\n",
       "      <td>0.768971</td>\n",
       "      <td>0.921739</td>\n",
       "      <td>0.630222</td>\n",
       "      <td>0.654448</td>\n",
       "      <td>0.160505</td>\n",
       "      <td>9.0</td>\n",
       "      <td>8.0</td>\n",
       "      <td>6.0</td>\n",
       "      <td>7.0</td>\n",
       "      <td>3.0</td>\n",
       "      <td>0.625</td>\n",
       "      <td>0.492308</td>\n",
       "      <td>0.526316</td>\n",
       "      <td>0.285714</td>\n",
       "      <td>0.660377</td>\n",
       "      <td>0.852459</td>\n",
       "      <td>0.400000</td>\n",
       "      <td>5.0</td>\n",
       "      <td>5.0</td>\n",
       "      <td>4.0</td>\n",
       "      <td>4.0</td>\n",
       "      <td>4.0</td>\n",
       "      <td>7.0</td>\n",
       "      <td>8.0</td>\n",
       "      <td>0.425532</td>\n",
       "      <td>0.664706</td>\n",
       "      <td>0.3250</td>\n",
       "      <td>0.509091</td>\n",
       "      <td>0.206549</td>\n",
       "      <td>5.0</td>\n",
       "      <td>5.0</td>\n",
       "      <td>4.0</td>\n",
       "      <td>5.0</td>\n",
       "      <td>3.0</td>\n",
       "      <td>0.584240</td>\n",
       "      <td>0.811755</td>\n",
       "      <td>0.187285</td>\n",
       "      <td>0.669603</td>\n",
       "      <td>0.739355</td>\n",
       "      <td>0.432091</td>\n",
       "      <td>0.540266</td>\n",
       "      <td>0.839972</td>\n",
       "      <td>7.0</td>\n",
       "      <td>8.0</td>\n",
       "      <td>3.0</td>\n",
       "      <td>6.0</td>\n",
       "      <td>6.0</td>\n",
       "      <td>6.0</td>\n",
       "      <td>4.0</td>\n",
       "      <td>7.0</td>\n",
       "      <td>0.492471</td>\n",
       "      <td>0.322847</td>\n",
       "      <td>0.464748</td>\n",
       "      <td>0.494187</td>\n",
       "      <td>0.561656</td>\n",
       "      <td>0.544139</td>\n",
       "      <td>5.0</td>\n",
       "      <td>5.0</td>\n",
       "      <td>4.0</td>\n",
       "      <td>5.0</td>\n",
       "      <td>5.0</td>\n",
       "      <td>4.0</td>\n",
       "    </tr>\n",
       "    <tr>\n",
       "      <th>KT Rolster</th>\n",
       "      <td>27.566667</td>\n",
       "      <td>11.700000</td>\n",
       "      <td>7.800000</td>\n",
       "      <td>28.400000</td>\n",
       "      <td>3.006429</td>\n",
       "      <td>0.600000</td>\n",
       "      <td>0.448450</td>\n",
       "      <td>0.721430</td>\n",
       "      <td>0.6</td>\n",
       "      <td>2.400000</td>\n",
       "      <td>1.600000</td>\n",
       "      <td>0.000000</td>\n",
       "      <td>0.000000</td>\n",
       "      <td>0.500000</td>\n",
       "      <td>1.100000</td>\n",
       "      <td>0.900000</td>\n",
       "      <td>0.600000</td>\n",
       "      <td>0.600000</td>\n",
       "      <td>0.500000</td>\n",
       "      <td>0.600000</td>\n",
       "      <td>7.000000</td>\n",
       "      <td>4.2</td>\n",
       "      <td>0.500000</td>\n",
       "      <td>0.600000</td>\n",
       "      <td>5.300000</td>\n",
       "      <td>4.700000</td>\n",
       "      <td>0.900000</td>\n",
       "      <td>0.600000</td>\n",
       "      <td>1975.524640</td>\n",
       "      <td>2585.01257</td>\n",
       "      <td>3.283290</td>\n",
       "      <td>1.257080</td>\n",
       "      <td>7.475850</td>\n",
       "      <td>1897.670635</td>\n",
       "      <td>139.590299</td>\n",
       "      <td>34.370640</td>\n",
       "      <td>376.100000</td>\n",
       "      <td>139.000000</td>\n",
       "      <td>5.300000</td>\n",
       "      <td>1175.100000</td>\n",
       "      <td>776.800000</td>\n",
       "      <td>9.900000</td>\n",
       "      <td>27.678571</td>\n",
       "      <td>27.305556</td>\n",
       "      <td>0.698349</td>\n",
       "      <td>0.765217</td>\n",
       "      <td>1.000000</td>\n",
       "      <td>0.511165</td>\n",
       "      <td>0.000000</td>\n",
       "      <td>7.0</td>\n",
       "      <td>6.0</td>\n",
       "      <td>10.0</td>\n",
       "      <td>5.0</td>\n",
       "      <td>1.0</td>\n",
       "      <td>0.750</td>\n",
       "      <td>0.640000</td>\n",
       "      <td>0.526316</td>\n",
       "      <td>0.571429</td>\n",
       "      <td>0.830189</td>\n",
       "      <td>0.557377</td>\n",
       "      <td>0.000000</td>\n",
       "      <td>7.0</td>\n",
       "      <td>6.0</td>\n",
       "      <td>4.0</td>\n",
       "      <td>7.0</td>\n",
       "      <td>9.0</td>\n",
       "      <td>6.0</td>\n",
       "      <td>1.0</td>\n",
       "      <td>0.578723</td>\n",
       "      <td>0.823529</td>\n",
       "      <td>0.4375</td>\n",
       "      <td>0.640000</td>\n",
       "      <td>0.546599</td>\n",
       "      <td>7.0</td>\n",
       "      <td>8.0</td>\n",
       "      <td>6.0</td>\n",
       "      <td>6.0</td>\n",
       "      <td>7.0</td>\n",
       "      <td>0.000000</td>\n",
       "      <td>0.000528</td>\n",
       "      <td>0.036273</td>\n",
       "      <td>0.952721</td>\n",
       "      <td>0.861826</td>\n",
       "      <td>0.296027</td>\n",
       "      <td>0.000000</td>\n",
       "      <td>0.000000</td>\n",
       "      <td>1.0</td>\n",
       "      <td>2.0</td>\n",
       "      <td>2.0</td>\n",
       "      <td>8.0</td>\n",
       "      <td>7.0</td>\n",
       "      <td>2.0</td>\n",
       "      <td>1.0</td>\n",
       "      <td>1.0</td>\n",
       "      <td>0.726830</td>\n",
       "      <td>0.610745</td>\n",
       "      <td>0.704317</td>\n",
       "      <td>0.818164</td>\n",
       "      <td>0.819301</td>\n",
       "      <td>0.795700</td>\n",
       "      <td>7.0</td>\n",
       "      <td>6.0</td>\n",
       "      <td>6.0</td>\n",
       "      <td>7.0</td>\n",
       "      <td>8.0</td>\n",
       "      <td>6.0</td>\n",
       "    </tr>\n",
       "  </tbody>\n",
       "</table>\n",
       "</div>"
      ],
      "text/plain": [
       "                     gamelength      kills     deaths    assists        kd   \n",
       "Team                                                                         \n",
       "DRX                   29.514815   6.555556  16.666667  15.222222  0.400089  \\\n",
       "Dplus KIA             31.118333  12.400000   6.800000  31.900000  3.221818   \n",
       "Gen.G                 28.193333  11.500000   8.300000  27.400000  4.132232   \n",
       "Hanwha Life Esports   31.258333  10.400000   7.200000  23.400000  3.270000   \n",
       "KT Rolster            27.566667  11.700000   7.800000  28.400000  3.006429   \n",
       "\n",
       "                     firstblood  team kpm      ckpm  firstdragon   dragons   \n",
       "Team                                                                         \n",
       "DRX                    0.111111  0.197456  0.793767          0.0  0.666667  \\\n",
       "Dplus KIA              0.500000  0.407880  0.616470          0.8  2.900000   \n",
       "Gen.G                  0.700000  0.407580  0.698790          0.5  2.400000   \n",
       "Hanwha Life Esports    0.700000  0.347020  0.572810          0.5  2.000000   \n",
       "KT Rolster             0.600000  0.448450  0.721430          0.6  2.400000   \n",
       "\n",
       "                     opp_dragons    elders  opp_elders  firstherald   heralds   \n",
       "Team                                                                            \n",
       "DRX                     3.444444  0.111111    0.111111     0.222222  0.777778  \\\n",
       "Dplus KIA               1.500000  0.000000    0.100000     0.600000  1.100000   \n",
       "Gen.G                   1.600000  0.000000    0.000000     0.400000  0.700000   \n",
       "Hanwha Life Esports     2.300000  0.100000    0.000000     0.500000  0.900000   \n",
       "KT Rolster              1.600000  0.000000    0.000000     0.500000  1.100000   \n",
       "\n",
       "                     opp_heralds  firstbaron    barons  opp_barons   \n",
       "Team                                                                 \n",
       "DRX                     1.222222    0.333333  0.555556    0.666667  \\\n",
       "Dplus KIA               0.900000    0.500000  0.800000    0.400000   \n",
       "Gen.G                   1.300000    0.700000  0.900000    0.200000   \n",
       "Hanwha Life Esports     1.100000    0.500000  0.800000    0.500000   \n",
       "KT Rolster              0.900000    0.600000  0.600000    0.500000   \n",
       "\n",
       "                     firsttower    towers  opp_towers  firstmidtower   \n",
       "Team                                                                   \n",
       "DRX                    0.222222  2.333333         8.0       0.222222  \\\n",
       "Dplus KIA              0.500000  6.800000         4.0       0.600000   \n",
       "Gen.G                  0.600000  7.000000         3.7       0.500000   \n",
       "Hanwha Life Esports    0.500000  6.100000         5.4       0.400000   \n",
       "KT Rolster             0.600000  7.000000         4.2       0.500000   \n",
       "\n",
       "                     firsttothreetowers  turretplates  opp_turretplates   \n",
       "Team                                                                      \n",
       "DRX                            0.222222      3.888889          6.444444  \\\n",
       "Dplus KIA                      0.600000      5.700000          4.800000   \n",
       "Gen.G                          0.600000      5.200000          5.200000   \n",
       "Hanwha Life Esports            0.500000      3.800000          5.300000   \n",
       "KT Rolster                     0.600000      5.300000          4.700000   \n",
       "\n",
       "                     inhibitors  opp_inhibitors          dpm   \n",
       "Team                                                           \n",
       "DRX                    0.111111        1.444444  1946.215667  \\\n",
       "Dplus KIA              1.300000        0.400000  2330.542290   \n",
       "Gen.G                  1.100000        0.400000  2026.293360   \n",
       "Hanwha Life Esports    1.200000        0.700000  2079.584220   \n",
       "KT Rolster             0.900000        0.600000  1975.524640   \n",
       "\n",
       "                     damagetakenperminute       wpm      wcpm      vspm   \n",
       "Team                                                                      \n",
       "DRX                            3301.08440  3.353044  1.474889  7.611133  \\\n",
       "Dplus KIA                      2693.75984  3.339480  1.861560  8.834360   \n",
       "Gen.G                          2738.80486  3.068400  1.603030  8.181840   \n",
       "Hanwha Life Esports            2699.94556  3.382060  1.583660  8.616960   \n",
       "KT Rolster                     2585.01257  3.283290  1.257080  7.475850   \n",
       "\n",
       "                             gpm        gdpm       cspm  golddiffat10   \n",
       "Team                                                                    \n",
       "DRX                  1572.103559 -406.418388  29.964922  -1152.555556  \\\n",
       "Dplus KIA            1879.879301  215.918230  33.921300    423.800000   \n",
       "Gen.G                1913.826839  203.749706  34.902230    144.800000   \n",
       "Hanwha Life Esports  1800.922526   61.998795  34.000900   -116.800000   \n",
       "KT Rolster           1897.670635  139.590299  34.370640    376.100000   \n",
       "\n",
       "                     xpdiffat10  csdiffat10  golddiffat15   xpdiffat15   \n",
       "Team                                                                     \n",
       "DRX                 -583.333333  -27.333333  -2867.777778 -1192.555556  \\\n",
       "Dplus KIA            498.400000    8.600000   1179.700000   808.500000   \n",
       "Gen.G                262.600000    5.900000    143.800000   504.800000   \n",
       "Hanwha Life Esports -201.500000   -5.800000   -425.800000    44.500000   \n",
       "KT Rolster           139.000000    5.300000   1175.100000   776.800000   \n",
       "\n",
       "                     csdiffat15  win_gamelength  loss_gamelength       _kd   \n",
       "Team                                                                         \n",
       "DRX                  -43.555556       34.433333        28.900000  0.000000  \\\n",
       "Dplus KIA             14.800000       30.052381        33.605556  0.756061   \n",
       "Gen.G                 18.400000       28.481250        27.041667  1.000000   \n",
       "Hanwha Life Esports   -7.000000       33.161111        28.404167  0.768971   \n",
       "KT Rolster             9.900000       27.678571        27.305556  0.698349   \n",
       "\n",
       "                     _firstblood  _team kpm      _dpm  _damagetakenperminute   \n",
       "Team                                                                           \n",
       "DRX                     0.000000   0.084964  0.470808               1.000000  \\\n",
       "Dplus KIA               0.608696   0.852096  1.000000               0.151866   \n",
       "Gen.G                   0.921739   0.851003  0.581070               0.214772   \n",
       "Hanwha Life Esports     0.921739   0.630222  0.654448               0.160505   \n",
       "KT Rolster              0.765217   1.000000  0.511165               0.000000   \n",
       "\n",
       "                     kd_rank  firstblood_rank  team kpm_rank  dpm_rank   \n",
       "Team                                                                     \n",
       "DRX                      1.0              1.0            2.0       4.0  \\\n",
       "Dplus KIA                8.0              5.0            9.0      10.0   \n",
       "Gen.G                   10.0              8.0            8.0       6.0   \n",
       "Hanwha Life Esports      9.0              8.0            6.0       7.0   \n",
       "KT Rolster               7.0              6.0           10.0       5.0   \n",
       "\n",
       "                     damagetakenperminute_rank  _firstdragon  _dragons   \n",
       "Team                                                                     \n",
       "DRX                                       10.0         0.000  0.000000  \\\n",
       "Dplus KIA                                  2.0         1.000  0.824615   \n",
       "Gen.G                                      6.0         0.625  0.640000   \n",
       "Hanwha Life Esports                        3.0         0.625  0.492308   \n",
       "KT Rolster                                 1.0         0.750  0.640000   \n",
       "\n",
       "                     _firstherald  _heralds  _firstbaron   _barons   _elders   \n",
       "Team                                                                           \n",
       "DRX                      0.000000  0.111111     0.377358  0.491803  0.444444  \\\n",
       "Dplus KIA                0.715789  0.571429     0.660377  0.852459  0.000000   \n",
       "Gen.G                    0.336842  0.000000     1.000000  1.000000  0.000000   \n",
       "Hanwha Life Esports      0.526316  0.285714     0.660377  0.852459  0.400000   \n",
       "KT Rolster               0.526316  0.571429     0.830189  0.557377  0.000000   \n",
       "\n",
       "                     firstdragon_rank  dragons_rank  firstherald_rank   \n",
       "Team                                                                    \n",
       "DRX                               1.0           1.0               1.0  \\\n",
       "Dplus KIA                        10.0           8.0               8.0   \n",
       "Gen.G                             5.0           6.0               2.0   \n",
       "Hanwha Life Esports               5.0           5.0               4.0   \n",
       "KT Rolster                        7.0           6.0               4.0   \n",
       "\n",
       "                     heralds_rank  firstbaron_rank  barons_rank  elders_rank   \n",
       "Team                                                                           \n",
       "DRX                           2.0              3.0          5.0          9.0  \\\n",
       "Dplus KIA                     7.0              4.0          7.0          1.0   \n",
       "Gen.G                         1.0             10.0          9.0          1.0   \n",
       "Hanwha Life Esports           4.0              4.0          7.0          8.0   \n",
       "KT Rolster                    7.0              9.0          6.0          1.0   \n",
       "\n",
       "                     _firsttower   _towers  _firstmidtower   \n",
       "Team                                                         \n",
       "DRX                     0.000000  0.000000          0.1250  \\\n",
       "Dplus KIA               0.425532  0.788235          0.5500   \n",
       "Gen.G                   0.578723  0.823529          0.4375   \n",
       "Hanwha Life Esports     0.425532  0.664706          0.3250   \n",
       "KT Rolster              0.578723  0.823529          0.4375   \n",
       "\n",
       "                     _firsttothreetowers  _turretplates  firsttower_rank   \n",
       "Team                                                                       \n",
       "DRX                             0.145455       0.226700              1.0  \\\n",
       "Dplus KIA                       0.640000       0.637280              5.0   \n",
       "Gen.G                           0.640000       0.523929              7.0   \n",
       "Hanwha Life Esports             0.509091       0.206549              5.0   \n",
       "KT Rolster                      0.640000       0.546599              7.0   \n",
       "\n",
       "                     towers_rank  firstmidtower_rank  firsttothreetowers_rank   \n",
       "Team                                                                            \n",
       "DRX                          1.0                 2.0                      2.0  \\\n",
       "Dplus KIA                    7.0                 8.0                      6.0   \n",
       "Gen.G                        8.0                 6.0                      6.0   \n",
       "Hanwha Life Esports          5.0                 4.0                      5.0   \n",
       "KT Rolster                   8.0                 6.0                      6.0   \n",
       "\n",
       "                     turretplates_rank  _gamelength  _win_gamelength   \n",
       "Team                                                                   \n",
       "DRX                                4.0     0.308312         1.000000  \\\n",
       "Dplus KIA                          8.0     0.562084         0.351770   \n",
       "Gen.G                              6.0     0.099176         0.119297   \n",
       "Hanwha Life Esports                3.0     0.584240         0.811755   \n",
       "KT Rolster                         7.0     0.000000         0.000528   \n",
       "\n",
       "                     _loss_gamelength      _gpm     _gdpm      _wpm     _wcpm   \n",
       "Team                                                                            \n",
       "DRX                          0.255441  0.000000  0.000000  0.392119  0.360324  \\\n",
       "Dplus KIA                    0.902253  0.900658  0.982303  0.373433  1.000000   \n",
       "Gen.G                        0.000000  1.000000  0.963096  0.000000  0.572310   \n",
       "Hanwha Life Esports          0.187285  0.669603  0.739355  0.432091  0.540266   \n",
       "KT Rolster                   0.036273  0.952721  0.861826  0.296027  0.000000   \n",
       "\n",
       "                        _vspm  gamelength_rank  win_gamelength_rank   \n",
       "Team                                                                  \n",
       "DRX                  0.099582              3.0                 10.0  \\\n",
       "Dplus KIA            1.000000              6.0                  4.0   \n",
       "Gen.G                0.519680              2.0                  3.0   \n",
       "Hanwha Life Esports  0.839972              7.0                  8.0   \n",
       "KT Rolster           0.000000              1.0                  2.0   \n",
       "\n",
       "                     loss_gamelength_rank  gpm_rank  gdpm_rank  wpm_rank   \n",
       "Team                                                                       \n",
       "DRX                                   4.0       1.0        1.0       5.0  \\\n",
       "Dplus KIA                             8.0       7.0        9.0       4.0   \n",
       "Gen.G                                 1.0      10.0        8.0       1.0   \n",
       "Hanwha Life Esports                   3.0       6.0        6.0       6.0   \n",
       "KT Rolster                            2.0       8.0        7.0       2.0   \n",
       "\n",
       "                     wcpm_rank  vspm_rank  _golddiffat10  _xpdiffat10   \n",
       "Team                                                                    \n",
       "DRX                        2.0        2.0       0.000000     0.000000  \\\n",
       "Dplus KIA                 10.0       10.0       0.749510     0.914624   \n",
       "Gen.G                      5.0        3.0       0.616854     0.715251   \n",
       "Hanwha Life Esports        4.0        7.0       0.492471     0.322847   \n",
       "KT Rolster                 1.0        1.0       0.726830     0.610745   \n",
       "\n",
       "                     _csdiffat10  _golddiffat15  _xpdiffat15  _csdiffat15   \n",
       "Team                                                                        \n",
       "DRX                     0.000000       0.000000     0.126424     0.000000  \\\n",
       "Dplus KIA               0.775540       0.819095     0.830454     0.868638   \n",
       "Gen.G                   0.717266       0.609458     0.723603     0.922225   \n",
       "Hanwha Life Esports     0.464748       0.494187     0.561656     0.544139   \n",
       "KT Rolster              0.704317       0.818164     0.819301     0.795700   \n",
       "\n",
       "                     golddiffat10_rank  xpdiffat10_rank  csdiffat10_rank   \n",
       "Team                                                                       \n",
       "DRX                                1.0              1.0              1.0  \\\n",
       "Dplus KIA                          8.0              9.0              8.0   \n",
       "Gen.G                              6.0              7.0              7.0   \n",
       "Hanwha Life Esports                5.0              5.0              4.0   \n",
       "KT Rolster                         7.0              6.0              6.0   \n",
       "\n",
       "                     golddiffat15_rank  xpdiffat15_rank  csdiffat15_rank  \n",
       "Team                                                                      \n",
       "DRX                                1.0              3.0              1.0  \n",
       "Dplus KIA                          8.0              9.0              7.0  \n",
       "Gen.G                              6.0              6.0              8.0  \n",
       "Hanwha Life Esports                5.0              5.0              4.0  \n",
       "KT Rolster                         7.0              8.0              6.0  "
      ]
     },
     "execution_count": 15,
     "metadata": {},
     "output_type": "execute_result"
    }
   ],
   "source": [
    "origin_columns = {\n",
    "    \"combat\": [\"kd\", \"firstblood\", \"team kpm\", \"dpm\", \"damagetakenperminute\"],\n",
    "    \"objects\": [\n",
    "        \"firstdragon\",\n",
    "        \"dragons\",\n",
    "        \"firstherald\",\n",
    "        \"heralds\",\n",
    "        \"firstbaron\",\n",
    "        \"barons\",\n",
    "        \"elders\",\n",
    "    ],\n",
    "    \"towers\": [\n",
    "        \"firsttower\",\n",
    "        \"towers\",\n",
    "        \"firstmidtower\",\n",
    "        \"firsttothreetowers\",\n",
    "        \"turretplates\",\n",
    "    ],\n",
    "    \"macro\": [\n",
    "        \"gamelength\",\n",
    "        \"win_gamelength\",\n",
    "        \"loss_gamelength\",\n",
    "        \"gpm\",\n",
    "        \"gdpm\",\n",
    "        \"wpm\",\n",
    "        \"wcpm\",\n",
    "        \"vspm\",\n",
    "    ],\n",
    "    \"early\": [\n",
    "        \"golddiffat10\",\n",
    "        \"xpdiffat10\",\n",
    "        \"csdiffat10\",\n",
    "        \"golddiffat15\",\n",
    "        \"xpdiffat15\",\n",
    "        \"csdiffat15\",\n",
    "    ],\n",
    "}\n",
    "columns = {}\n",
    "rank_columns = {}\n",
    "\n",
    "for key, values in origin_columns.items():\n",
    "    columns[key] = [\"_\" + col for col in values]\n",
    "    rank_columns[key] = [col + '_rank' for col in values]\n",
    "    scaler = MinMaxScaler()\n",
    "    teams_stats[columns[key]] = scaler.fit_transform(teams_stats[values])\n",
    "    teams_stats[rank_columns[key]] = teams_stats[values].rank(method='min')\n",
    "teams_stats.sort_index(inplace=True)\n",
    "teams_stats.head()"
   ]
  },
  {
   "cell_type": "code",
   "execution_count": 16,
   "metadata": {},
   "outputs": [
    {
     "data": {
      "application/vnd.plotly.v1+json": {
       "config": {
        "plotlyServerURL": "https://plot.ly"
       },
       "data": [
        {
         "fill": "toself",
         "name": "DRX",
         "r": [
          0,
          0,
          0.08496374610118695,
          0.4708083592093666,
          1
         ],
         "subplot": "polar",
         "theta": [
          "kd - 0.4 | 1.0",
          "firstblood - 0.11 | 1.0",
          "team kpm - 0.2 | 2.0",
          "dpm - 1946.22 | 4.0",
          "damagetakenperminute - 3301.08 | 10.0"
         ],
         "type": "scatterpolar"
        },
        {
         "fill": "toself",
         "name": "DRX",
         "r": [
          0,
          0,
          0,
          0.11111111111111116,
          0.3773584905660378,
          0.4918032786885245,
          0.4444444444444444
         ],
         "subplot": "polar2",
         "theta": [
          "firstdragon - 0.0 | 1.0",
          "dragons - 0.67 | 1.0",
          "firstherald - 0.22 | 1.0",
          "heralds - 0.78 | 2.0",
          "firstbaron - 0.33 | 3.0",
          "barons - 0.56 | 5.0",
          "elders - 0.11 | 9.0"
         ],
         "type": "scatterpolar"
        },
        {
         "fill": "toself",
         "name": "DRX",
         "r": [
          0,
          0,
          0.125,
          0.14545454545454545,
          0.22670025188916876
         ],
         "subplot": "polar3",
         "theta": [
          "firsttower - 0.22 | 1.0",
          "towers - 2.33 | 1.0",
          "firstmidtower - 0.22 | 2.0",
          "firsttothreetowers - 0.22 | 2.0",
          "turretplates - 3.89 | 4.0"
         ],
         "type": "scatterpolar"
        },
        {
         "fill": "toself",
         "name": "DRX",
         "r": [
          0.30831226874748197,
          1,
          0.25544100801832714,
          0,
          0,
          0.3921194971080455,
          0.36032439268278305,
          0.09958214023697654
         ],
         "subplot": "polar4",
         "theta": [
          "gamelength - 29.51 | 3.0",
          "win_gamelength - 34.43 | 10.0",
          "loss_gamelength - 28.9 | 4.0",
          "gpm - 1572.1 | 1.0",
          "gdpm - -406.42 | 1.0",
          "wpm - 3.35 | 5.0",
          "wcpm - 1.47 | 2.0",
          "vspm - 7.61 | 2.0"
         ],
         "type": "scatterpolar"
        },
        {
         "fill": "toself",
         "name": "DRX",
         "r": [
          0,
          0,
          0,
          0,
          0.12642393063493418,
          0
         ],
         "subplot": "polar5",
         "theta": [
          "golddiffat10 - -1152.56 | 1.0",
          "xpdiffat10 - -583.33 | 1.0",
          "csdiffat10 - -27.33 | 1.0",
          "golddiffat15 - -2867.78 | 1.0",
          "xpdiffat15 - -1192.56 | 3.0",
          "csdiffat15 - -43.56 | 1.0"
         ],
         "type": "scatterpolar"
        },
        {
         "fill": "toself",
         "name": "Dplus KIA",
         "r": [
          0.7560613646852862,
          0.6086956521739131,
          0.8520962449872401,
          1,
          0.15186642658460636
         ],
         "subplot": "polar6",
         "theta": [
          "kd - 3.22 | 8.0",
          "firstblood - 0.5 | 5.0",
          "team kpm - 0.41 | 9.0",
          "dpm - 2330.54 | 10.0",
          "damagetakenperminute - 2693.76 | 2.0"
         ],
         "type": "scatterpolar"
        },
        {
         "fill": "toself",
         "name": "Dplus KIA",
         "r": [
          1,
          0.8246153846153845,
          0.7157894736842105,
          0.5714285714285716,
          0.6603773584905661,
          0.8524590163934427,
          0
         ],
         "subplot": "polar7",
         "theta": [
          "firstdragon - 0.8 | 10.0",
          "dragons - 2.9 | 8.0",
          "firstherald - 0.6 | 8.0",
          "heralds - 1.1 | 7.0",
          "firstbaron - 0.5 | 4.0",
          "barons - 0.8 | 7.0",
          "elders - 0.0 | 1.0"
         ],
         "type": "scatterpolar"
        },
        {
         "fill": "toself",
         "name": "Dplus KIA",
         "r": [
          0.425531914893617,
          0.7882352941176469,
          0.5499999999999999,
          0.6399999999999999,
          0.63727959697733
         ],
         "subplot": "polar8",
         "theta": [
          "firsttower - 0.5 | 5.0",
          "towers - 6.8 | 7.0",
          "firstmidtower - 0.6 | 8.0",
          "firsttothreetowers - 0.6 | 6.0",
          "turretplates - 5.7 | 8.0"
         ],
         "type": "scatterpolar"
        },
        {
         "fill": "toself",
         "name": "Dplus KIA",
         "r": [
          0.5620837454665351,
          0.3517703012154305,
          0.9022527682321493,
          0.9006578116179291,
          0.9823027389777905,
          0.373433437225561,
          1,
          1
         ],
         "subplot": "polar9",
         "theta": [
          "gamelength - 31.12 | 6.0",
          "win_gamelength - 30.05 | 4.0",
          "loss_gamelength - 33.61 | 8.0",
          "gpm - 1879.88 | 7.0",
          "gdpm - 215.92 | 9.0",
          "wpm - 3.34 | 4.0",
          "wcpm - 1.86 | 10.0",
          "vspm - 8.83 | 10.0"
         ],
         "type": "scatterpolar"
        },
        {
         "fill": "toself",
         "name": "Dplus KIA",
         "r": [
          0.7495103315745334,
          0.9146239210850802,
          0.7755395683453237,
          0.8190948926446326,
          0.8304535468284557,
          0.8686375852801324
         ],
         "subplot": "polar10",
         "theta": [
          "golddiffat10 - 423.8 | 8.0",
          "xpdiffat10 - 498.4 | 9.0",
          "csdiffat10 - 8.6 | 8.0",
          "golddiffat15 - 1179.7 | 8.0",
          "xpdiffat15 - 808.5 | 9.0",
          "csdiffat15 - 14.8 | 7.0"
         ],
         "type": "scatterpolar"
        },
        {
         "fill": "toself",
         "name": "Gen.G",
         "r": [
          1.0000000000000002,
          0.9217391304347825,
          0.8510025519504191,
          0.5810699007030511,
          0.21477215491077262
         ],
         "subplot": "polar11",
         "theta": [
          "kd - 4.13 | 10.0",
          "firstblood - 0.7 | 8.0",
          "team kpm - 0.41 | 8.0",
          "dpm - 2026.29 | 6.0",
          "damagetakenperminute - 2738.8 | 6.0"
         ],
         "type": "scatterpolar"
        },
        {
         "fill": "toself",
         "name": "Gen.G",
         "r": [
          0.625,
          0.6399999999999999,
          0.33684210526315794,
          0,
          1.0000000000000002,
          1,
          0
         ],
         "subplot": "polar12",
         "theta": [
          "firstdragon - 0.5 | 5.0",
          "dragons - 2.4 | 6.0",
          "firstherald - 0.4 | 2.0",
          "heralds - 0.7 | 1.0",
          "firstbaron - 0.7 | 10.0",
          "barons - 0.9 | 9.0",
          "elders - 0.0 | 1.0"
         ],
         "type": "scatterpolar"
        },
        {
         "fill": "toself",
         "name": "Gen.G",
         "r": [
          0.5787234042553191,
          0.8235294117647058,
          0.4375,
          0.6399999999999999,
          0.5239294710327457
         ],
         "subplot": "polar13",
         "theta": [
          "firsttower - 0.6 | 7.0",
          "towers - 7.0 | 8.0",
          "firstmidtower - 0.5 | 6.0",
          "firsttothreetowers - 0.6 | 6.0",
          "turretplates - 5.2 | 6.0"
         ],
         "type": "scatterpolar"
        },
        {
         "fill": "toself",
         "name": "Gen.G",
         "r": [
          0.09917573359709841,
          0.11929716399506773,
          0,
          1,
          0.9630958111693249,
          0,
          0.5723100847008995,
          0.5196796490272426
         ],
         "subplot": "polar14",
         "theta": [
          "gamelength - 28.19 | 2.0",
          "win_gamelength - 28.48 | 3.0",
          "loss_gamelength - 27.04 | 1.0",
          "gpm - 1913.83 | 10.0",
          "gdpm - 203.75 | 8.0",
          "wpm - 3.07 | 1.0",
          "wcpm - 1.6 | 5.0",
          "vspm - 8.18 | 3.0"
         ],
         "type": "scatterpolar"
        },
        {
         "fill": "toself",
         "name": "Gen.G",
         "r": [
          0.6168541032431041,
          0.7152510128589044,
          0.7172661870503597,
          0.609458065495347,
          0.723603042930971,
          0.9222245193301633
         ],
         "subplot": "polar15",
         "theta": [
          "golddiffat10 - 144.8 | 6.0",
          "xpdiffat10 - 262.6 | 7.0",
          "csdiffat10 - 5.9 | 7.0",
          "golddiffat15 - 143.8 | 6.0",
          "xpdiffat15 - 504.8 | 6.0",
          "csdiffat15 - 18.4 | 8.0"
         ],
         "type": "scatterpolar"
        },
        {
         "fill": "toself",
         "name": "Hanwha Life Esports",
         "r": [
          0.7689713260126816,
          0.9217391304347825,
          0.6302223842508202,
          0.6544477931788588,
          0.16050483371200386
         ],
         "subplot": "polar16",
         "theta": [
          "kd - 3.27 | 9.0",
          "firstblood - 0.7 | 8.0",
          "team kpm - 0.35 | 6.0",
          "dpm - 2079.58 | 7.0",
          "damagetakenperminute - 2699.95 | 3.0"
         ],
         "type": "scatterpolar"
        },
        {
         "fill": "toself",
         "name": "Hanwha Life Esports",
         "r": [
          0.625,
          0.4923076923076923,
          0.5263157894736842,
          0.2857142857142858,
          0.6603773584905661,
          0.8524590163934427,
          0.4
         ],
         "subplot": "polar17",
         "theta": [
          "firstdragon - 0.5 | 5.0",
          "dragons - 2.0 | 5.0",
          "firstherald - 0.5 | 4.0",
          "heralds - 0.9 | 4.0",
          "firstbaron - 0.5 | 4.0",
          "barons - 0.8 | 7.0",
          "elders - 0.1 | 8.0"
         ],
         "type": "scatterpolar"
        },
        {
         "fill": "toself",
         "name": "Hanwha Life Esports",
         "r": [
          0.425531914893617,
          0.664705882352941,
          0.325,
          0.509090909090909,
          0.20654911838790924
         ],
         "subplot": "polar18",
         "theta": [
          "firsttower - 0.5 | 5.0",
          "towers - 6.1 | 5.0",
          "firstmidtower - 0.4 | 4.0",
          "firsttothreetowers - 0.5 | 5.0",
          "turretplates - 3.8 | 3.0"
         ],
         "type": "scatterpolar"
        },
        {
         "fill": "toself",
         "name": "Hanwha Life Esports",
         "r": [
          0.5842400263765253,
          0.8117550349362928,
          0.18728522336769737,
          0.6696030975347895,
          0.7393546655941376,
          0.4320906445336039,
          0.5402660137638962,
          0.8399717337376984
         ],
         "subplot": "polar19",
         "theta": [
          "gamelength - 31.26 | 7.0",
          "win_gamelength - 33.16 | 8.0",
          "loss_gamelength - 28.4 | 3.0",
          "gpm - 1800.92 | 6.0",
          "gdpm - 62.0 | 6.0",
          "wpm - 3.38 | 6.0",
          "wcpm - 1.58 | 4.0",
          "vspm - 8.62 | 7.0"
         ],
         "type": "scatterpolar"
        },
        {
         "fill": "toself",
         "name": "Hanwha Life Esports",
         "r": [
          0.4924710590441726,
          0.32284657389466265,
          0.4647482014388489,
          0.49418715445737693,
          0.5616560987623432,
          0.5441389290882779
         ],
         "subplot": "polar20",
         "theta": [
          "golddiffat10 - -116.8 | 5.0",
          "xpdiffat10 - -201.5 | 5.0",
          "csdiffat10 - -5.8 | 4.0",
          "golddiffat15 - -425.8 | 5.0",
          "xpdiffat15 - 44.5 | 5.0",
          "csdiffat15 - -7.0 | 4.0"
         ],
         "type": "scatterpolar"
        },
        {
         "fill": "toself",
         "name": "KT Rolster",
         "r": [
          0.6983493138457039,
          0.7652173913043478,
          0.9999999999999999,
          0.5111648235980009,
          0
         ],
         "subplot": "polar21",
         "theta": [
          "kd - 3.01 | 7.0",
          "firstblood - 0.6 | 6.0",
          "team kpm - 0.45 | 10.0",
          "dpm - 1975.52 | 5.0",
          "damagetakenperminute - 2585.01 | 1.0"
         ],
         "type": "scatterpolar"
        },
        {
         "fill": "toself",
         "name": "KT Rolster",
         "r": [
          0.75,
          0.6399999999999999,
          0.5263157894736842,
          0.5714285714285716,
          0.8301886792452833,
          0.5573770491803278,
          0
         ],
         "subplot": "polar22",
         "theta": [
          "firstdragon - 0.6 | 7.0",
          "dragons - 2.4 | 6.0",
          "firstherald - 0.5 | 4.0",
          "heralds - 1.1 | 7.0",
          "firstbaron - 0.6 | 9.0",
          "barons - 0.6 | 6.0",
          "elders - 0.0 | 1.0"
         ],
         "type": "scatterpolar"
        },
        {
         "fill": "toself",
         "name": "KT Rolster",
         "r": [
          0.5787234042553191,
          0.8235294117647058,
          0.4375,
          0.6399999999999999,
          0.5465994962216624
         ],
         "subplot": "polar23",
         "theta": [
          "firsttower - 0.6 | 7.0",
          "towers - 7.0 | 8.0",
          "firstmidtower - 0.5 | 6.0",
          "firsttothreetowers - 0.6 | 6.0",
          "turretplates - 5.3 | 7.0"
         ],
         "type": "scatterpolar"
        },
        {
         "fill": "toself",
         "name": "KT Rolster",
         "r": [
          0,
          0.0005284481240090955,
          0.03627338678885028,
          0.9527213832606876,
          0.8618259198436735,
          0.2960274137723209,
          0,
          0
         ],
         "subplot": "polar24",
         "theta": [
          "gamelength - 27.57 | 1.0",
          "win_gamelength - 27.68 | 2.0",
          "loss_gamelength - 27.31 | 2.0",
          "gpm - 1897.67 | 8.0",
          "gdpm - 139.59 | 7.0",
          "wpm - 3.28 | 2.0",
          "wcpm - 1.26 | 1.0",
          "vspm - 7.48 | 1.0"
         ],
         "type": "scatterpolar"
        },
        {
         "fill": "toself",
         "name": "KT Rolster",
         "r": [
          0.726830395763031,
          0.6107451118548529,
          0.7043165467625899,
          0.8181639828995928,
          0.8193005637084352,
          0.7956998139342568
         ],
         "subplot": "polar25",
         "theta": [
          "golddiffat10 - 376.1 | 7.0",
          "xpdiffat10 - 139.0 | 6.0",
          "csdiffat10 - 5.3 | 6.0",
          "golddiffat15 - 1175.1 | 7.0",
          "xpdiffat15 - 776.8 | 8.0",
          "csdiffat15 - 9.9 | 6.0"
         ],
         "type": "scatterpolar"
        },
        {
         "fill": "toself",
         "name": "Kwangdong Freecs",
         "r": [
          0.30229533861892965,
          1,
          0.39705614290922353,
          0.714781330318023,
          0.6911111906189635
         ],
         "subplot": "polar26",
         "theta": [
          "kd - 1.53 | 4.0",
          "firstblood - 0.75 | 10.0",
          "team kpm - 0.28 | 5.0",
          "dpm - 2123.4 | 8.0",
          "damagetakenperminute - 3079.9 | 9.0"
         ],
         "type": "scatterpolar"
        },
        {
         "fill": "toself",
         "name": "Kwangdong Freecs",
         "r": [
          0.9375,
          0.9999999999999998,
          1,
          0.7857142857142858,
          0.02358490566037738,
          0.04098360655737704,
          1
         ],
         "subplot": "polar27",
         "theta": [
          "firstdragon - 0.75 | 9.0",
          "dragons - 3.38 | 10.0",
          "firstherald - 0.75 | 10.0",
          "heralds - 1.25 | 9.0",
          "firstbaron - 0.12 | 2.0",
          "barons - 0.25 | 2.0",
          "elders - 0.25 | 10.0"
         ],
         "type": "scatterpolar"
        },
        {
         "fill": "toself",
         "name": "Kwangdong Freecs",
         "r": [
          1,
          0.7573529411764706,
          1,
          1,
          0.7052896725440806
         ],
         "subplot": "polar28",
         "theta": [
          "firsttower - 0.88 | 10.0",
          "towers - 6.62 | 6.0",
          "firstmidtower - 1.0 | 10.0",
          "firsttothreetowers - 0.88 | 10.0",
          "turretplates - 6.0 | 9.0"
         ],
         "type": "scatterpolar"
        },
        {
         "fill": "toself",
         "name": "Kwangdong Freecs",
         "r": [
          1,
          0.8588162762022193,
          0.9965635738831611,
          0.6683832682297046,
          0.7263633040486122,
          0.5737261722315017,
          0.7846744309158282,
          0.9678342448712192
         ],
         "subplot": "polar29",
         "theta": [
          "gamelength - 33.89 | 10.0",
          "win_gamelength - 33.48 | 9.0",
          "loss_gamelength - 34.29 | 9.0",
          "gpm - 1800.51 | 5.0",
          "gdpm - 53.77 | 5.0",
          "wpm - 3.48 | 7.0",
          "wcpm - 1.73 | 6.0",
          "vspm - 8.79 | 8.0"
         ],
         "type": "scatterpolar"
        },
        {
         "fill": "toself",
         "name": "Kwangdong Freecs",
         "r": [
          1,
          1,
          1,
          1,
          0.7989648405432239,
          1
         ],
         "subplot": "polar30",
         "theta": [
          "golddiffat10 - 950.62 | 10.0",
          "xpdiffat10 - 599.38 | 10.0",
          "csdiffat10 - 19.0 | 10.0",
          "golddiffat15 - 2073.62 | 10.0",
          "xpdiffat15 - 719.0 | 7.0",
          "csdiffat15 - 23.62 | 10.0"
         ],
         "type": "scatterpolar"
        },
        {
         "fill": "toself",
         "name": "Liiv SANDBOX",
         "r": [
          0.2620066850660946,
          0.4130434782608696,
          0.35294385709077647,
          0.28118789276326606,
          0.37845983970630437
         ],
         "subplot": "polar31",
         "theta": [
          "kd - 1.38 | 3.0",
          "firstblood - 0.38 | 4.0",
          "team kpm - 0.27 | 4.0",
          "dpm - 1808.5 | 3.0",
          "damagetakenperminute - 2856.02 | 7.0"
         ],
         "type": "scatterpolar"
        },
        {
         "fill": "toself",
         "name": "Liiv SANDBOX",
         "r": [
          0.46875,
          0.26153846153846155,
          0.5263157894736842,
          0.25,
          0.6603773584905661,
          0.40983606557377045,
          0
         ],
         "subplot": "polar32",
         "theta": [
          "firstdragon - 0.38 | 2.0",
          "dragons - 1.38 | 2.0",
          "firstherald - 0.5 | 4.0",
          "heralds - 0.88 | 3.0",
          "firstbaron - 0.5 | 4.0",
          "barons - 0.5 | 3.0",
          "elders - 0.0 | 1.0"
         ],
         "type": "scatterpolar"
        },
        {
         "fill": "toself",
         "name": "Liiv SANDBOX",
         "r": [
          0.04255319148936171,
          0.31617647058823534,
          0.296875,
          0.18181818181818182,
          0.16687657430730474
         ],
         "subplot": "polar33",
         "theta": [
          "firsttower - 0.25 | 2.0",
          "towers - 4.12 | 4.0",
          "firstmidtower - 0.38 | 3.0",
          "firsttothreetowers - 0.25 | 3.0",
          "turretplates - 3.62 | 2.0"
         ],
         "type": "scatterpolar"
        },
        {
         "fill": "toself",
         "name": "Liiv SANDBOX",
         "r": [
          0.4530168150346192,
          0,
          0.5918289423444061,
          0.39703063687130236,
          0.3652423889323462,
          1,
          0.8671420063525672,
          0.9786641246659942
         ],
         "subplot": "polar34",
         "theta": [
          "gamelength - 30.43 | 5.0",
          "win_gamelength - 27.68 | 1.0",
          "loss_gamelength - 31.35 | 7.0",
          "gpm - 1707.78 | 4.0",
          "gdpm - -175.02 | 4.0",
          "wpm - 3.79 | 10.0",
          "wcpm - 1.78 | 9.0",
          "vspm - 8.81 | 9.0"
         ],
         "type": "scatterpolar"
        },
        {
         "fill": "toself",
         "name": "Liiv SANDBOX",
         "r": [
          0.22920312489681643,
          0.27887968997710055,
          0.6169064748201439,
          0.2384247612997884,
          0.03932179073203912,
          0.5627455034112053
         ],
         "subplot": "polar35",
         "theta": [
          "golddiffat10 - -670.5 | 2.0",
          "xpdiffat10 - -253.5 | 4.0",
          "csdiffat10 - 1.25 | 5.0",
          "golddiffat15 - -1689.62 | 2.0",
          "xpdiffat15 - -1440.12 | 2.0",
          "csdiffat15 - -5.75 | 5.0"
         ],
         "type": "scatterpolar"
        },
        {
         "fill": "toself",
         "name": "Nongshim RedForce",
         "r": [
          0.14485711492335437,
          0.34782608695652173,
          0.10339449912909637,
          0,
          0.5521466827644312
         ],
         "subplot": "polar36",
         "theta": [
          "kd - 0.94 | 2.0",
          "firstblood - 0.33 | 3.0",
          "team kpm - 0.2 | 3.0",
          "dpm - 1604.29 | 1.0",
          "damagetakenperminute - 2980.39 | 8.0"
         ],
         "type": "scatterpolar"
        },
        {
         "fill": "toself",
         "name": "Nongshim RedForce",
         "r": [
          0.5555555555555556,
          0.3282051282051282,
          0.631578947368421,
          0.4285714285714286,
          0,
          0,
          0
         ],
         "subplot": "polar37",
         "theta": [
          "firstdragon - 0.44 | 4.0",
          "dragons - 1.56 | 3.0",
          "firstherald - 0.56 | 7.0",
          "heralds - 1.0 | 6.0",
          "firstbaron - 0.11 | 1.0",
          "barons - 0.22 | 1.0",
          "elders - 0.0 | 1.0"
         ],
         "type": "scatterpolar"
        },
        {
         "fill": "toself",
         "name": "Nongshim RedForce",
         "r": [
          0.17021276595744678,
          0.11764705882352938,
          0,
          0,
          0
         ],
         "subplot": "polar38",
         "theta": [
          "firsttower - 0.33 | 4.0",
          "towers - 3.0 | 2.0",
          "firstmidtower - 0.11 | 1.0",
          "firsttothreetowers - 0.11 | 1.0",
          "turretplates - 2.89 | 1.0"
         ],
         "type": "scatterpolar"
        },
        {
         "fill": "toself",
         "name": "Nongshim RedForce",
         "r": [
          0.38158039344982964,
          0.7262638717632557,
          0.3012600229095077,
          0.28561581123364554,
          0.2842710894379412,
          0.979089536732503,
          0.5386594906181985,
          0.5341759231314702
         ],
         "subplot": "polar39",
         "theta": [
          "gamelength - 29.98 | 4.0",
          "win_gamelength - 32.58 | 6.0",
          "loss_gamelength - 29.23 | 5.0",
          "gpm - 1669.71 | 2.0",
          "gdpm - -226.32 | 2.0",
          "wpm - 3.78 | 9.0",
          "wcpm - 1.58 | 3.0",
          "vspm - 8.2 | 4.0"
         ],
         "type": "scatterpolar"
        },
        {
         "fill": "toself",
         "name": "Nongshim RedForce",
         "r": [
          0.2947916185142873,
          0.04941577124067875,
          0.43884892086330934,
          0.336184338118112,
          0,
          0.2530494107918131
         ],
         "subplot": "polar40",
         "theta": [
          "golddiffat10 - -532.56 | 3.0",
          "xpdiffat10 - -524.89 | 2.0",
          "csdiffat10 - -7.0 | 3.0",
          "golddiffat15 - -1206.56 | 3.0",
          "xpdiffat15 - -1551.89 | 1.0",
          "csdiffat15 - -26.56 | 2.0"
         ],
         "type": "scatterpolar"
        },
        {
         "fill": "toself",
         "name": "OKSavingsBank BRION",
         "r": [
          0.3672892718527321,
          0.7652173913043478,
          0,
          0.15041434386455155,
          0.16397695745132168
         ],
         "subplot": "polar41",
         "theta": [
          "kd - 1.77 | 5.0",
          "firstblood - 0.6 | 6.0",
          "team kpm - 0.17 | 1.0",
          "dpm - 1713.53 | 2.0",
          "damagetakenperminute - 2702.43 | 5.0"
         ],
         "type": "scatterpolar"
        },
        {
         "fill": "toself",
         "name": "OKSavingsBank BRION",
         "r": [
          0.5,
          0.38153846153846155,
          0.33684210526315794,
          0.2857142857142858,
          0.6603773584905661,
          0.40983606557377045,
          0
         ],
         "subplot": "polar42",
         "theta": [
          "firstdragon - 0.4 | 3.0",
          "dragons - 1.7 | 4.0",
          "firstherald - 0.4 | 2.0",
          "heralds - 0.9 | 4.0",
          "firstbaron - 0.5 | 4.0",
          "barons - 0.5 | 3.0",
          "elders - 0.0 | 1.0"
         ],
         "type": "scatterpolar"
        },
        {
         "fill": "toself",
         "name": "OKSavingsBank BRION",
         "r": [
          0.11914893617021277,
          0.24117647058823538,
          0.325,
          0.37818181818181823,
          0.2518891687657431
         ],
         "subplot": "polar43",
         "theta": [
          "firsttower - 0.3 | 3.0",
          "towers - 3.7 | 3.0",
          "firstmidtower - 0.4 | 4.0",
          "firsttothreetowers - 0.4 | 4.0",
          "turretplates - 4.0 | 5.0"
         ],
         "type": "scatterpolar"
        },
        {
         "fill": "toself",
         "name": "OKSavingsBank BRION",
         "r": [
          0.5945268710847351,
          0.761611179613646,
          0.5002454590083452,
          0.29973207279236913,
          0.35434633973748847,
          0.34818246000723185,
          0.8547015616728424,
          0.6211143090591902
         ],
         "subplot": "polar44",
         "theta": [
          "gamelength - 31.32 | 8.0",
          "win_gamelength - 32.82 | 7.0",
          "loss_gamelength - 30.68 | 6.0",
          "gpm - 1674.53 | 3.0",
          "gdpm - -181.92 | 3.0",
          "wpm - 3.32 | 3.0",
          "wcpm - 1.77 | 8.0",
          "vspm - 8.32 | 5.0"
         ],
         "type": "scatterpolar"
        },
        {
         "fill": "toself",
         "name": "OKSavingsBank BRION",
         "r": [
          0.48952314285902976,
          0.21106922670424522,
          0.33525179856115106,
          0.4430478299853,
          0.4129731124367684,
          0.4935290469299152
         ],
         "subplot": "polar45",
         "theta": [
          "golddiffat10 - -123.0 | 4.0",
          "xpdiffat10 - -333.7 | 3.0",
          "csdiffat10 - -11.8 | 2.0",
          "golddiffat15 - -678.5 | 4.0",
          "xpdiffat15 - -378.1 | 4.0",
          "csdiffat15 - -10.4 | 3.0"
         ],
         "type": "scatterpolar"
        },
        {
         "fill": "toself",
         "name": "T1",
         "r": [
          0.3746491424498184,
          0.2956521739130435,
          0.848596427269413,
          0.8413292778890593,
          0.16087637465085036
         ],
         "subplot": "polar46",
         "theta": [
          "kd - 1.8 | 6.0",
          "firstblood - 0.3 | 2.0",
          "team kpm - 0.41 | 7.0",
          "dpm - 2215.31 | 9.0",
          "damagetakenperminute - 2700.21 | 4.0"
         ],
         "type": "scatterpolar"
        },
        {
         "fill": "toself",
         "name": "T1",
         "r": [
          0.75,
          0.8246153846153845,
          0.7157894736842105,
          1,
          0.6603773584905661,
          1,
          0
         ],
         "subplot": "polar47",
         "theta": [
          "firstdragon - 0.6 | 7.0",
          "dragons - 2.9 | 8.0",
          "firstherald - 0.6 | 8.0",
          "heralds - 1.4 | 10.0",
          "firstbaron - 0.5 | 4.0",
          "barons - 0.9 | 9.0",
          "elders - 0.0 | 1.0"
         ],
         "type": "scatterpolar"
        },
        {
         "fill": "toself",
         "name": "T1",
         "r": [
          0.8851063829787233,
          1,
          0.8875,
          0.9018181818181819,
          0.9999999999999999
         ],
         "subplot": "polar48",
         "theta": [
          "firsttower - 0.8 | 9.0",
          "towers - 8.0 | 10.0",
          "firstmidtower - 0.9 | 9.0",
          "firsttothreetowers - 0.8 | 9.0",
          "turretplates - 7.3 | 10.0"
         ],
         "type": "scatterpolar"
        },
        {
         "fill": "toself",
         "name": "T1",
         "r": [
          0.6053412462908012,
          0.3644530561916506,
          1.0000000000000004,
          0.9860888955440155,
          1,
          0.7193428960101933,
          0.8340722604552671,
          0.7166822474622929
         ],
         "subplot": "polar49",
         "theta": [
          "gamelength - 31.39 | 9.0",
          "win_gamelength - 30.14 | 5.0",
          "loss_gamelength - 34.32 | 10.0",
          "gpm - 1909.07 | 9.0",
          "gdpm - 227.13 | 10.0",
          "wpm - 3.59 | 8.0",
          "wcpm - 1.76 | 7.0",
          "vspm - 8.45 | 6.0"
         ],
         "type": "scatterpolar"
        },
        {
         "fill": "toself",
         "name": "T1",
         "r": [
          0.8273923753045983,
          0.7941377488109918,
          0.8597122302158273,
          0.9780983245311021,
          0.9999999999999998,
          0.9921852387843705
         ],
         "subplot": "polar50",
         "theta": [
          "golddiffat10 - 587.6 | 9.0",
          "xpdiffat10 - 355.9 | 8.0",
          "csdiffat10 - 12.5 | 9.0",
          "golddiffat15 - 1965.4 | 9.0",
          "xpdiffat15 - 1290.4 | 10.0",
          "csdiffat15 - 23.1 | 9.0"
         ],
         "type": "scatterpolar"
        }
       ],
       "layout": {
        "annotations": [
         {
          "font": {
           "size": 16
          },
          "showarrow": false,
          "text": "DRX",
          "x": 0.08399999999999999,
          "xanchor": "center",
          "xref": "paper",
          "y": 1,
          "yanchor": "bottom",
          "yref": "paper",
          "yshift": 20
         },
         {
          "font": {
           "size": 16
          },
          "showarrow": false,
          "text": "DRX",
          "x": 0.292,
          "xanchor": "center",
          "xref": "paper",
          "y": 1,
          "yanchor": "bottom",
          "yref": "paper",
          "yshift": 20
         },
         {
          "font": {
           "size": 16
          },
          "showarrow": false,
          "text": "DRX",
          "x": 0.5,
          "xanchor": "center",
          "xref": "paper",
          "y": 1,
          "yanchor": "bottom",
          "yref": "paper",
          "yshift": 20
         },
         {
          "font": {
           "size": 16
          },
          "showarrow": false,
          "text": "DRX",
          "x": 0.708,
          "xanchor": "center",
          "xref": "paper",
          "y": 1,
          "yanchor": "bottom",
          "yref": "paper",
          "yshift": 20
         },
         {
          "font": {
           "size": 16
          },
          "showarrow": false,
          "text": "DRX",
          "x": 0.9159999999999999,
          "xanchor": "center",
          "xref": "paper",
          "y": 1,
          "yanchor": "bottom",
          "yref": "paper",
          "yshift": 20
         },
         {
          "font": {
           "size": 16
          },
          "showarrow": false,
          "text": "Dplus KIA",
          "x": 0.08399999999999999,
          "xanchor": "center",
          "xref": "paper",
          "y": 0.8950000000000001,
          "yanchor": "bottom",
          "yref": "paper",
          "yshift": 20
         },
         {
          "font": {
           "size": 16
          },
          "showarrow": false,
          "text": "Dplus KIA",
          "x": 0.292,
          "xanchor": "center",
          "xref": "paper",
          "y": 0.8950000000000001,
          "yanchor": "bottom",
          "yref": "paper",
          "yshift": 20
         },
         {
          "font": {
           "size": 16
          },
          "showarrow": false,
          "text": "Dplus KIA",
          "x": 0.5,
          "xanchor": "center",
          "xref": "paper",
          "y": 0.8950000000000001,
          "yanchor": "bottom",
          "yref": "paper",
          "yshift": 20
         },
         {
          "font": {
           "size": 16
          },
          "showarrow": false,
          "text": "Dplus KIA",
          "x": 0.708,
          "xanchor": "center",
          "xref": "paper",
          "y": 0.8950000000000001,
          "yanchor": "bottom",
          "yref": "paper",
          "yshift": 20
         },
         {
          "font": {
           "size": 16
          },
          "showarrow": false,
          "text": "Dplus KIA",
          "x": 0.9159999999999999,
          "xanchor": "center",
          "xref": "paper",
          "y": 0.8950000000000001,
          "yanchor": "bottom",
          "yref": "paper",
          "yshift": 20
         },
         {
          "font": {
           "size": 16
          },
          "showarrow": false,
          "text": "Gen.G",
          "x": 0.08399999999999999,
          "xanchor": "center",
          "xref": "paper",
          "y": 0.7900000000000001,
          "yanchor": "bottom",
          "yref": "paper",
          "yshift": 20
         },
         {
          "font": {
           "size": 16
          },
          "showarrow": false,
          "text": "Gen.G",
          "x": 0.292,
          "xanchor": "center",
          "xref": "paper",
          "y": 0.7900000000000001,
          "yanchor": "bottom",
          "yref": "paper",
          "yshift": 20
         },
         {
          "font": {
           "size": 16
          },
          "showarrow": false,
          "text": "Gen.G",
          "x": 0.5,
          "xanchor": "center",
          "xref": "paper",
          "y": 0.7900000000000001,
          "yanchor": "bottom",
          "yref": "paper",
          "yshift": 20
         },
         {
          "font": {
           "size": 16
          },
          "showarrow": false,
          "text": "Gen.G",
          "x": 0.708,
          "xanchor": "center",
          "xref": "paper",
          "y": 0.7900000000000001,
          "yanchor": "bottom",
          "yref": "paper",
          "yshift": 20
         },
         {
          "font": {
           "size": 16
          },
          "showarrow": false,
          "text": "Gen.G",
          "x": 0.9159999999999999,
          "xanchor": "center",
          "xref": "paper",
          "y": 0.7900000000000001,
          "yanchor": "bottom",
          "yref": "paper",
          "yshift": 20
         },
         {
          "font": {
           "size": 16
          },
          "showarrow": false,
          "text": "Hanwha Life Esports",
          "x": 0.08399999999999999,
          "xanchor": "center",
          "xref": "paper",
          "y": 0.6850000000000002,
          "yanchor": "bottom",
          "yref": "paper",
          "yshift": 20
         },
         {
          "font": {
           "size": 16
          },
          "showarrow": false,
          "text": "Hanwha Life Esports",
          "x": 0.292,
          "xanchor": "center",
          "xref": "paper",
          "y": 0.6850000000000002,
          "yanchor": "bottom",
          "yref": "paper",
          "yshift": 20
         },
         {
          "font": {
           "size": 16
          },
          "showarrow": false,
          "text": "Hanwha Life Esports",
          "x": 0.5,
          "xanchor": "center",
          "xref": "paper",
          "y": 0.6850000000000002,
          "yanchor": "bottom",
          "yref": "paper",
          "yshift": 20
         },
         {
          "font": {
           "size": 16
          },
          "showarrow": false,
          "text": "Hanwha Life Esports",
          "x": 0.708,
          "xanchor": "center",
          "xref": "paper",
          "y": 0.6850000000000002,
          "yanchor": "bottom",
          "yref": "paper",
          "yshift": 20
         },
         {
          "font": {
           "size": 16
          },
          "showarrow": false,
          "text": "Hanwha Life Esports",
          "x": 0.9159999999999999,
          "xanchor": "center",
          "xref": "paper",
          "y": 0.6850000000000002,
          "yanchor": "bottom",
          "yref": "paper",
          "yshift": 20
         },
         {
          "font": {
           "size": 16
          },
          "showarrow": false,
          "text": "KT Rolster",
          "x": 0.08399999999999999,
          "xanchor": "center",
          "xref": "paper",
          "y": 0.5800000000000001,
          "yanchor": "bottom",
          "yref": "paper",
          "yshift": 20
         },
         {
          "font": {
           "size": 16
          },
          "showarrow": false,
          "text": "KT Rolster",
          "x": 0.292,
          "xanchor": "center",
          "xref": "paper",
          "y": 0.5800000000000001,
          "yanchor": "bottom",
          "yref": "paper",
          "yshift": 20
         },
         {
          "font": {
           "size": 16
          },
          "showarrow": false,
          "text": "KT Rolster",
          "x": 0.5,
          "xanchor": "center",
          "xref": "paper",
          "y": 0.5800000000000001,
          "yanchor": "bottom",
          "yref": "paper",
          "yshift": 20
         },
         {
          "font": {
           "size": 16
          },
          "showarrow": false,
          "text": "KT Rolster",
          "x": 0.708,
          "xanchor": "center",
          "xref": "paper",
          "y": 0.5800000000000001,
          "yanchor": "bottom",
          "yref": "paper",
          "yshift": 20
         },
         {
          "font": {
           "size": 16
          },
          "showarrow": false,
          "text": "KT Rolster",
          "x": 0.9159999999999999,
          "xanchor": "center",
          "xref": "paper",
          "y": 0.5800000000000001,
          "yanchor": "bottom",
          "yref": "paper",
          "yshift": 20
         },
         {
          "font": {
           "size": 16
          },
          "showarrow": false,
          "text": "Kwangdong Freecs",
          "x": 0.08399999999999999,
          "xanchor": "center",
          "xref": "paper",
          "y": 0.47500000000000003,
          "yanchor": "bottom",
          "yref": "paper",
          "yshift": 20
         },
         {
          "font": {
           "size": 16
          },
          "showarrow": false,
          "text": "Kwangdong Freecs",
          "x": 0.292,
          "xanchor": "center",
          "xref": "paper",
          "y": 0.47500000000000003,
          "yanchor": "bottom",
          "yref": "paper",
          "yshift": 20
         },
         {
          "font": {
           "size": 16
          },
          "showarrow": false,
          "text": "Kwangdong Freecs",
          "x": 0.5,
          "xanchor": "center",
          "xref": "paper",
          "y": 0.47500000000000003,
          "yanchor": "bottom",
          "yref": "paper",
          "yshift": 20
         },
         {
          "font": {
           "size": 16
          },
          "showarrow": false,
          "text": "Kwangdong Freecs",
          "x": 0.708,
          "xanchor": "center",
          "xref": "paper",
          "y": 0.47500000000000003,
          "yanchor": "bottom",
          "yref": "paper",
          "yshift": 20
         },
         {
          "font": {
           "size": 16
          },
          "showarrow": false,
          "text": "Kwangdong Freecs",
          "x": 0.9159999999999999,
          "xanchor": "center",
          "xref": "paper",
          "y": 0.47500000000000003,
          "yanchor": "bottom",
          "yref": "paper",
          "yshift": 20
         },
         {
          "font": {
           "size": 16
          },
          "showarrow": false,
          "text": "Liiv SANDBOX",
          "x": 0.08399999999999999,
          "xanchor": "center",
          "xref": "paper",
          "y": 0.37000000000000005,
          "yanchor": "bottom",
          "yref": "paper",
          "yshift": 20
         },
         {
          "font": {
           "size": 16
          },
          "showarrow": false,
          "text": "Liiv SANDBOX",
          "x": 0.292,
          "xanchor": "center",
          "xref": "paper",
          "y": 0.37000000000000005,
          "yanchor": "bottom",
          "yref": "paper",
          "yshift": 20
         },
         {
          "font": {
           "size": 16
          },
          "showarrow": false,
          "text": "Liiv SANDBOX",
          "x": 0.5,
          "xanchor": "center",
          "xref": "paper",
          "y": 0.37000000000000005,
          "yanchor": "bottom",
          "yref": "paper",
          "yshift": 20
         },
         {
          "font": {
           "size": 16
          },
          "showarrow": false,
          "text": "Liiv SANDBOX",
          "x": 0.708,
          "xanchor": "center",
          "xref": "paper",
          "y": 0.37000000000000005,
          "yanchor": "bottom",
          "yref": "paper",
          "yshift": 20
         },
         {
          "font": {
           "size": 16
          },
          "showarrow": false,
          "text": "Liiv SANDBOX",
          "x": 0.9159999999999999,
          "xanchor": "center",
          "xref": "paper",
          "y": 0.37000000000000005,
          "yanchor": "bottom",
          "yref": "paper",
          "yshift": 20
         },
         {
          "font": {
           "size": 16
          },
          "showarrow": false,
          "text": "Nongshim RedForce",
          "x": 0.08399999999999999,
          "xanchor": "center",
          "xref": "paper",
          "y": 0.265,
          "yanchor": "bottom",
          "yref": "paper",
          "yshift": 20
         },
         {
          "font": {
           "size": 16
          },
          "showarrow": false,
          "text": "Nongshim RedForce",
          "x": 0.292,
          "xanchor": "center",
          "xref": "paper",
          "y": 0.265,
          "yanchor": "bottom",
          "yref": "paper",
          "yshift": 20
         },
         {
          "font": {
           "size": 16
          },
          "showarrow": false,
          "text": "Nongshim RedForce",
          "x": 0.5,
          "xanchor": "center",
          "xref": "paper",
          "y": 0.265,
          "yanchor": "bottom",
          "yref": "paper",
          "yshift": 20
         },
         {
          "font": {
           "size": 16
          },
          "showarrow": false,
          "text": "Nongshim RedForce",
          "x": 0.708,
          "xanchor": "center",
          "xref": "paper",
          "y": 0.265,
          "yanchor": "bottom",
          "yref": "paper",
          "yshift": 20
         },
         {
          "font": {
           "size": 16
          },
          "showarrow": false,
          "text": "Nongshim RedForce",
          "x": 0.9159999999999999,
          "xanchor": "center",
          "xref": "paper",
          "y": 0.265,
          "yanchor": "bottom",
          "yref": "paper",
          "yshift": 20
         },
         {
          "font": {
           "size": 16
          },
          "showarrow": false,
          "text": "OKSavingsBank BRION",
          "x": 0.08399999999999999,
          "xanchor": "center",
          "xref": "paper",
          "y": 0.16000000000000003,
          "yanchor": "bottom",
          "yref": "paper",
          "yshift": 20
         },
         {
          "font": {
           "size": 16
          },
          "showarrow": false,
          "text": "OKSavingsBank BRION",
          "x": 0.292,
          "xanchor": "center",
          "xref": "paper",
          "y": 0.16000000000000003,
          "yanchor": "bottom",
          "yref": "paper",
          "yshift": 20
         },
         {
          "font": {
           "size": 16
          },
          "showarrow": false,
          "text": "OKSavingsBank BRION",
          "x": 0.5,
          "xanchor": "center",
          "xref": "paper",
          "y": 0.16000000000000003,
          "yanchor": "bottom",
          "yref": "paper",
          "yshift": 20
         },
         {
          "font": {
           "size": 16
          },
          "showarrow": false,
          "text": "OKSavingsBank BRION",
          "x": 0.708,
          "xanchor": "center",
          "xref": "paper",
          "y": 0.16000000000000003,
          "yanchor": "bottom",
          "yref": "paper",
          "yshift": 20
         },
         {
          "font": {
           "size": 16
          },
          "showarrow": false,
          "text": "OKSavingsBank BRION",
          "x": 0.9159999999999999,
          "xanchor": "center",
          "xref": "paper",
          "y": 0.16000000000000003,
          "yanchor": "bottom",
          "yref": "paper",
          "yshift": 20
         },
         {
          "font": {
           "size": 16
          },
          "showarrow": false,
          "text": "T1",
          "x": 0.08399999999999999,
          "xanchor": "center",
          "xref": "paper",
          "y": 0.05500000000000001,
          "yanchor": "bottom",
          "yref": "paper",
          "yshift": 20
         },
         {
          "font": {
           "size": 16
          },
          "showarrow": false,
          "text": "T1",
          "x": 0.292,
          "xanchor": "center",
          "xref": "paper",
          "y": 0.05500000000000001,
          "yanchor": "bottom",
          "yref": "paper",
          "yshift": 20
         },
         {
          "font": {
           "size": 16
          },
          "showarrow": false,
          "text": "T1",
          "x": 0.5,
          "xanchor": "center",
          "xref": "paper",
          "y": 0.05500000000000001,
          "yanchor": "bottom",
          "yref": "paper",
          "yshift": 20
         },
         {
          "font": {
           "size": 16
          },
          "showarrow": false,
          "text": "T1",
          "x": 0.708,
          "xanchor": "center",
          "xref": "paper",
          "y": 0.05500000000000001,
          "yanchor": "bottom",
          "yref": "paper",
          "yshift": 20
         },
         {
          "font": {
           "size": 16
          },
          "showarrow": false,
          "text": "T1",
          "x": 0.9159999999999999,
          "xanchor": "center",
          "xref": "paper",
          "y": 0.05500000000000001,
          "yanchor": "bottom",
          "yref": "paper",
          "yshift": 20
         }
        ],
        "height": 4000,
        "polar": {
         "domain": {
          "x": [
           0,
           0.16799999999999998
          ],
          "y": [
           0.9450000000000001,
           1
          ]
         },
         "radialaxis": {
          "range": [
           -0.2,
           1.2
          ],
          "visible": false
         }
        },
        "polar10": {
         "domain": {
          "x": [
           0.832,
           1
          ],
          "y": [
           0.8400000000000001,
           0.8950000000000001
          ]
         },
         "radialaxis": {
          "range": [
           -0.2,
           1.2
          ],
          "visible": false
         }
        },
        "polar11": {
         "domain": {
          "x": [
           0,
           0.16799999999999998
          ],
          "y": [
           0.7350000000000001,
           0.7900000000000001
          ]
         },
         "radialaxis": {
          "range": [
           -0.2,
           1.2
          ],
          "visible": false
         }
        },
        "polar12": {
         "domain": {
          "x": [
           0.208,
           0.376
          ],
          "y": [
           0.7350000000000001,
           0.7900000000000001
          ]
         },
         "radialaxis": {
          "range": [
           -0.2,
           1.2
          ],
          "visible": false
         }
        },
        "polar13": {
         "domain": {
          "x": [
           0.416,
           0.584
          ],
          "y": [
           0.7350000000000001,
           0.7900000000000001
          ]
         },
         "radialaxis": {
          "range": [
           -0.2,
           1.2
          ],
          "visible": false
         }
        },
        "polar14": {
         "domain": {
          "x": [
           0.624,
           0.792
          ],
          "y": [
           0.7350000000000001,
           0.7900000000000001
          ]
         },
         "radialaxis": {
          "range": [
           -0.2,
           1.2
          ],
          "visible": false
         }
        },
        "polar15": {
         "domain": {
          "x": [
           0.832,
           1
          ],
          "y": [
           0.7350000000000001,
           0.7900000000000001
          ]
         },
         "radialaxis": {
          "range": [
           -0.2,
           1.2
          ],
          "visible": false
         }
        },
        "polar16": {
         "domain": {
          "x": [
           0,
           0.16799999999999998
          ],
          "y": [
           0.6300000000000001,
           0.6850000000000002
          ]
         },
         "radialaxis": {
          "range": [
           -0.2,
           1.2
          ],
          "visible": false
         }
        },
        "polar17": {
         "domain": {
          "x": [
           0.208,
           0.376
          ],
          "y": [
           0.6300000000000001,
           0.6850000000000002
          ]
         },
         "radialaxis": {
          "range": [
           -0.2,
           1.2
          ],
          "visible": false
         }
        },
        "polar18": {
         "domain": {
          "x": [
           0.416,
           0.584
          ],
          "y": [
           0.6300000000000001,
           0.6850000000000002
          ]
         },
         "radialaxis": {
          "range": [
           -0.2,
           1.2
          ],
          "visible": false
         }
        },
        "polar19": {
         "domain": {
          "x": [
           0.624,
           0.792
          ],
          "y": [
           0.6300000000000001,
           0.6850000000000002
          ]
         },
         "radialaxis": {
          "range": [
           -0.2,
           1.2
          ],
          "visible": false
         }
        },
        "polar2": {
         "domain": {
          "x": [
           0.208,
           0.376
          ],
          "y": [
           0.9450000000000001,
           1
          ]
         },
         "radialaxis": {
          "range": [
           -0.2,
           1.2
          ],
          "visible": false
         }
        },
        "polar20": {
         "domain": {
          "x": [
           0.832,
           1
          ],
          "y": [
           0.6300000000000001,
           0.6850000000000002
          ]
         },
         "radialaxis": {
          "range": [
           -0.2,
           1.2
          ],
          "visible": false
         }
        },
        "polar21": {
         "domain": {
          "x": [
           0,
           0.16799999999999998
          ],
          "y": [
           0.525,
           0.5800000000000001
          ]
         },
         "radialaxis": {
          "range": [
           -0.2,
           1.2
          ],
          "visible": false
         }
        },
        "polar22": {
         "domain": {
          "x": [
           0.208,
           0.376
          ],
          "y": [
           0.525,
           0.5800000000000001
          ]
         },
         "radialaxis": {
          "range": [
           -0.2,
           1.2
          ],
          "visible": false
         }
        },
        "polar23": {
         "domain": {
          "x": [
           0.416,
           0.584
          ],
          "y": [
           0.525,
           0.5800000000000001
          ]
         },
         "radialaxis": {
          "range": [
           -0.2,
           1.2
          ],
          "visible": false
         }
        },
        "polar24": {
         "domain": {
          "x": [
           0.624,
           0.792
          ],
          "y": [
           0.525,
           0.5800000000000001
          ]
         },
         "radialaxis": {
          "range": [
           -0.2,
           1.2
          ],
          "visible": false
         }
        },
        "polar25": {
         "domain": {
          "x": [
           0.832,
           1
          ],
          "y": [
           0.525,
           0.5800000000000001
          ]
         },
         "radialaxis": {
          "range": [
           -0.2,
           1.2
          ],
          "visible": false
         }
        },
        "polar26": {
         "domain": {
          "x": [
           0,
           0.16799999999999998
          ],
          "y": [
           0.42000000000000004,
           0.47500000000000003
          ]
         },
         "radialaxis": {
          "range": [
           -0.2,
           1.2
          ],
          "visible": false
         }
        },
        "polar27": {
         "domain": {
          "x": [
           0.208,
           0.376
          ],
          "y": [
           0.42000000000000004,
           0.47500000000000003
          ]
         },
         "radialaxis": {
          "range": [
           -0.2,
           1.2
          ],
          "visible": false
         }
        },
        "polar28": {
         "domain": {
          "x": [
           0.416,
           0.584
          ],
          "y": [
           0.42000000000000004,
           0.47500000000000003
          ]
         },
         "radialaxis": {
          "range": [
           -0.2,
           1.2
          ],
          "visible": false
         }
        },
        "polar29": {
         "domain": {
          "x": [
           0.624,
           0.792
          ],
          "y": [
           0.42000000000000004,
           0.47500000000000003
          ]
         },
         "radialaxis": {
          "range": [
           -0.2,
           1.2
          ],
          "visible": false
         }
        },
        "polar3": {
         "domain": {
          "x": [
           0.416,
           0.584
          ],
          "y": [
           0.9450000000000001,
           1
          ]
         },
         "radialaxis": {
          "range": [
           -0.2,
           1.2
          ],
          "visible": false
         }
        },
        "polar30": {
         "domain": {
          "x": [
           0.832,
           1
          ],
          "y": [
           0.42000000000000004,
           0.47500000000000003
          ]
         },
         "radialaxis": {
          "range": [
           -0.2,
           1.2
          ],
          "visible": false
         }
        },
        "polar31": {
         "domain": {
          "x": [
           0,
           0.16799999999999998
          ],
          "y": [
           0.31500000000000006,
           0.37000000000000005
          ]
         },
         "radialaxis": {
          "range": [
           -0.2,
           1.2
          ],
          "visible": false
         }
        },
        "polar32": {
         "domain": {
          "x": [
           0.208,
           0.376
          ],
          "y": [
           0.31500000000000006,
           0.37000000000000005
          ]
         },
         "radialaxis": {
          "range": [
           -0.2,
           1.2
          ],
          "visible": false
         }
        },
        "polar33": {
         "domain": {
          "x": [
           0.416,
           0.584
          ],
          "y": [
           0.31500000000000006,
           0.37000000000000005
          ]
         },
         "radialaxis": {
          "range": [
           -0.2,
           1.2
          ],
          "visible": false
         }
        },
        "polar34": {
         "domain": {
          "x": [
           0.624,
           0.792
          ],
          "y": [
           0.31500000000000006,
           0.37000000000000005
          ]
         },
         "radialaxis": {
          "range": [
           -0.2,
           1.2
          ],
          "visible": false
         }
        },
        "polar35": {
         "domain": {
          "x": [
           0.832,
           1
          ],
          "y": [
           0.31500000000000006,
           0.37000000000000005
          ]
         },
         "radialaxis": {
          "range": [
           -0.2,
           1.2
          ],
          "visible": false
         }
        },
        "polar36": {
         "domain": {
          "x": [
           0,
           0.16799999999999998
          ],
          "y": [
           0.21000000000000002,
           0.265
          ]
         },
         "radialaxis": {
          "range": [
           -0.2,
           1.2
          ],
          "visible": false
         }
        },
        "polar37": {
         "domain": {
          "x": [
           0.208,
           0.376
          ],
          "y": [
           0.21000000000000002,
           0.265
          ]
         },
         "radialaxis": {
          "range": [
           -0.2,
           1.2
          ],
          "visible": false
         }
        },
        "polar38": {
         "domain": {
          "x": [
           0.416,
           0.584
          ],
          "y": [
           0.21000000000000002,
           0.265
          ]
         },
         "radialaxis": {
          "range": [
           -0.2,
           1.2
          ],
          "visible": false
         }
        },
        "polar39": {
         "domain": {
          "x": [
           0.624,
           0.792
          ],
          "y": [
           0.21000000000000002,
           0.265
          ]
         },
         "radialaxis": {
          "range": [
           -0.2,
           1.2
          ],
          "visible": false
         }
        },
        "polar4": {
         "domain": {
          "x": [
           0.624,
           0.792
          ],
          "y": [
           0.9450000000000001,
           1
          ]
         },
         "radialaxis": {
          "range": [
           -0.2,
           1.2
          ],
          "visible": false
         }
        },
        "polar40": {
         "domain": {
          "x": [
           0.832,
           1
          ],
          "y": [
           0.21000000000000002,
           0.265
          ]
         },
         "radialaxis": {
          "range": [
           -0.2,
           1.2
          ],
          "visible": false
         }
        },
        "polar41": {
         "domain": {
          "x": [
           0,
           0.16799999999999998
          ],
          "y": [
           0.10500000000000001,
           0.16000000000000003
          ]
         },
         "radialaxis": {
          "range": [
           -0.2,
           1.2
          ],
          "visible": false
         }
        },
        "polar42": {
         "domain": {
          "x": [
           0.208,
           0.376
          ],
          "y": [
           0.10500000000000001,
           0.16000000000000003
          ]
         },
         "radialaxis": {
          "range": [
           -0.2,
           1.2
          ],
          "visible": false
         }
        },
        "polar43": {
         "domain": {
          "x": [
           0.416,
           0.584
          ],
          "y": [
           0.10500000000000001,
           0.16000000000000003
          ]
         },
         "radialaxis": {
          "range": [
           -0.2,
           1.2
          ],
          "visible": false
         }
        },
        "polar44": {
         "domain": {
          "x": [
           0.624,
           0.792
          ],
          "y": [
           0.10500000000000001,
           0.16000000000000003
          ]
         },
         "radialaxis": {
          "range": [
           -0.2,
           1.2
          ],
          "visible": false
         }
        },
        "polar45": {
         "domain": {
          "x": [
           0.832,
           1
          ],
          "y": [
           0.10500000000000001,
           0.16000000000000003
          ]
         },
         "radialaxis": {
          "range": [
           -0.2,
           1.2
          ],
          "visible": false
         }
        },
        "polar46": {
         "domain": {
          "x": [
           0,
           0.16799999999999998
          ],
          "y": [
           0,
           0.05500000000000001
          ]
         },
         "radialaxis": {
          "range": [
           -0.2,
           1.2
          ],
          "visible": false
         }
        },
        "polar47": {
         "domain": {
          "x": [
           0.208,
           0.376
          ],
          "y": [
           0,
           0.05500000000000001
          ]
         },
         "radialaxis": {
          "range": [
           -0.2,
           1.2
          ],
          "visible": false
         }
        },
        "polar48": {
         "domain": {
          "x": [
           0.416,
           0.584
          ],
          "y": [
           0,
           0.05500000000000001
          ]
         },
         "radialaxis": {
          "range": [
           -0.2,
           1.2
          ],
          "visible": false
         }
        },
        "polar49": {
         "domain": {
          "x": [
           0.624,
           0.792
          ],
          "y": [
           0,
           0.05500000000000001
          ]
         },
         "radialaxis": {
          "range": [
           -0.2,
           1.2
          ],
          "visible": false
         }
        },
        "polar5": {
         "domain": {
          "x": [
           0.832,
           1
          ],
          "y": [
           0.9450000000000001,
           1
          ]
         },
         "radialaxis": {
          "range": [
           -0.2,
           1.2
          ],
          "visible": false
         }
        },
        "polar50": {
         "domain": {
          "x": [
           0.832,
           1
          ],
          "y": [
           0,
           0.05500000000000001
          ]
         },
         "radialaxis": {
          "range": [
           -0.2,
           1.2
          ],
          "visible": false
         }
        },
        "polar6": {
         "domain": {
          "x": [
           0,
           0.16799999999999998
          ],
          "y": [
           0.8400000000000001,
           0.8950000000000001
          ]
         },
         "radialaxis": {
          "range": [
           -0.2,
           1.2
          ],
          "visible": false
         }
        },
        "polar7": {
         "domain": {
          "x": [
           0.208,
           0.376
          ],
          "y": [
           0.8400000000000001,
           0.8950000000000001
          ]
         },
         "radialaxis": {
          "range": [
           -0.2,
           1.2
          ],
          "visible": false
         }
        },
        "polar8": {
         "domain": {
          "x": [
           0.416,
           0.584
          ],
          "y": [
           0.8400000000000001,
           0.8950000000000001
          ]
         },
         "radialaxis": {
          "range": [
           -0.2,
           1.2
          ],
          "visible": false
         }
        },
        "polar9": {
         "domain": {
          "x": [
           0.624,
           0.792
          ],
          "y": [
           0.8400000000000001,
           0.8950000000000001
          ]
         },
         "radialaxis": {
          "range": [
           -0.2,
           1.2
          ],
          "visible": false
         }
        },
        "showlegend": false,
        "template": {
         "data": {
          "bar": [
           {
            "error_x": {
             "color": "#2a3f5f"
            },
            "error_y": {
             "color": "#2a3f5f"
            },
            "marker": {
             "line": {
              "color": "#E5ECF6",
              "width": 0.5
             },
             "pattern": {
              "fillmode": "overlay",
              "size": 10,
              "solidity": 0.2
             }
            },
            "type": "bar"
           }
          ],
          "barpolar": [
           {
            "marker": {
             "line": {
              "color": "#E5ECF6",
              "width": 0.5
             },
             "pattern": {
              "fillmode": "overlay",
              "size": 10,
              "solidity": 0.2
             }
            },
            "type": "barpolar"
           }
          ],
          "carpet": [
           {
            "aaxis": {
             "endlinecolor": "#2a3f5f",
             "gridcolor": "white",
             "linecolor": "white",
             "minorgridcolor": "white",
             "startlinecolor": "#2a3f5f"
            },
            "baxis": {
             "endlinecolor": "#2a3f5f",
             "gridcolor": "white",
             "linecolor": "white",
             "minorgridcolor": "white",
             "startlinecolor": "#2a3f5f"
            },
            "type": "carpet"
           }
          ],
          "choropleth": [
           {
            "colorbar": {
             "outlinewidth": 0,
             "ticks": ""
            },
            "type": "choropleth"
           }
          ],
          "contour": [
           {
            "colorbar": {
             "outlinewidth": 0,
             "ticks": ""
            },
            "colorscale": [
             [
              0,
              "#0d0887"
             ],
             [
              0.1111111111111111,
              "#46039f"
             ],
             [
              0.2222222222222222,
              "#7201a8"
             ],
             [
              0.3333333333333333,
              "#9c179e"
             ],
             [
              0.4444444444444444,
              "#bd3786"
             ],
             [
              0.5555555555555556,
              "#d8576b"
             ],
             [
              0.6666666666666666,
              "#ed7953"
             ],
             [
              0.7777777777777778,
              "#fb9f3a"
             ],
             [
              0.8888888888888888,
              "#fdca26"
             ],
             [
              1,
              "#f0f921"
             ]
            ],
            "type": "contour"
           }
          ],
          "contourcarpet": [
           {
            "colorbar": {
             "outlinewidth": 0,
             "ticks": ""
            },
            "type": "contourcarpet"
           }
          ],
          "heatmap": [
           {
            "colorbar": {
             "outlinewidth": 0,
             "ticks": ""
            },
            "colorscale": [
             [
              0,
              "#0d0887"
             ],
             [
              0.1111111111111111,
              "#46039f"
             ],
             [
              0.2222222222222222,
              "#7201a8"
             ],
             [
              0.3333333333333333,
              "#9c179e"
             ],
             [
              0.4444444444444444,
              "#bd3786"
             ],
             [
              0.5555555555555556,
              "#d8576b"
             ],
             [
              0.6666666666666666,
              "#ed7953"
             ],
             [
              0.7777777777777778,
              "#fb9f3a"
             ],
             [
              0.8888888888888888,
              "#fdca26"
             ],
             [
              1,
              "#f0f921"
             ]
            ],
            "type": "heatmap"
           }
          ],
          "heatmapgl": [
           {
            "colorbar": {
             "outlinewidth": 0,
             "ticks": ""
            },
            "colorscale": [
             [
              0,
              "#0d0887"
             ],
             [
              0.1111111111111111,
              "#46039f"
             ],
             [
              0.2222222222222222,
              "#7201a8"
             ],
             [
              0.3333333333333333,
              "#9c179e"
             ],
             [
              0.4444444444444444,
              "#bd3786"
             ],
             [
              0.5555555555555556,
              "#d8576b"
             ],
             [
              0.6666666666666666,
              "#ed7953"
             ],
             [
              0.7777777777777778,
              "#fb9f3a"
             ],
             [
              0.8888888888888888,
              "#fdca26"
             ],
             [
              1,
              "#f0f921"
             ]
            ],
            "type": "heatmapgl"
           }
          ],
          "histogram": [
           {
            "marker": {
             "pattern": {
              "fillmode": "overlay",
              "size": 10,
              "solidity": 0.2
             }
            },
            "type": "histogram"
           }
          ],
          "histogram2d": [
           {
            "colorbar": {
             "outlinewidth": 0,
             "ticks": ""
            },
            "colorscale": [
             [
              0,
              "#0d0887"
             ],
             [
              0.1111111111111111,
              "#46039f"
             ],
             [
              0.2222222222222222,
              "#7201a8"
             ],
             [
              0.3333333333333333,
              "#9c179e"
             ],
             [
              0.4444444444444444,
              "#bd3786"
             ],
             [
              0.5555555555555556,
              "#d8576b"
             ],
             [
              0.6666666666666666,
              "#ed7953"
             ],
             [
              0.7777777777777778,
              "#fb9f3a"
             ],
             [
              0.8888888888888888,
              "#fdca26"
             ],
             [
              1,
              "#f0f921"
             ]
            ],
            "type": "histogram2d"
           }
          ],
          "histogram2dcontour": [
           {
            "colorbar": {
             "outlinewidth": 0,
             "ticks": ""
            },
            "colorscale": [
             [
              0,
              "#0d0887"
             ],
             [
              0.1111111111111111,
              "#46039f"
             ],
             [
              0.2222222222222222,
              "#7201a8"
             ],
             [
              0.3333333333333333,
              "#9c179e"
             ],
             [
              0.4444444444444444,
              "#bd3786"
             ],
             [
              0.5555555555555556,
              "#d8576b"
             ],
             [
              0.6666666666666666,
              "#ed7953"
             ],
             [
              0.7777777777777778,
              "#fb9f3a"
             ],
             [
              0.8888888888888888,
              "#fdca26"
             ],
             [
              1,
              "#f0f921"
             ]
            ],
            "type": "histogram2dcontour"
           }
          ],
          "mesh3d": [
           {
            "colorbar": {
             "outlinewidth": 0,
             "ticks": ""
            },
            "type": "mesh3d"
           }
          ],
          "parcoords": [
           {
            "line": {
             "colorbar": {
              "outlinewidth": 0,
              "ticks": ""
             }
            },
            "type": "parcoords"
           }
          ],
          "pie": [
           {
            "automargin": true,
            "type": "pie"
           }
          ],
          "scatter": [
           {
            "fillpattern": {
             "fillmode": "overlay",
             "size": 10,
             "solidity": 0.2
            },
            "type": "scatter"
           }
          ],
          "scatter3d": [
           {
            "line": {
             "colorbar": {
              "outlinewidth": 0,
              "ticks": ""
             }
            },
            "marker": {
             "colorbar": {
              "outlinewidth": 0,
              "ticks": ""
             }
            },
            "type": "scatter3d"
           }
          ],
          "scattercarpet": [
           {
            "marker": {
             "colorbar": {
              "outlinewidth": 0,
              "ticks": ""
             }
            },
            "type": "scattercarpet"
           }
          ],
          "scattergeo": [
           {
            "marker": {
             "colorbar": {
              "outlinewidth": 0,
              "ticks": ""
             }
            },
            "type": "scattergeo"
           }
          ],
          "scattergl": [
           {
            "marker": {
             "colorbar": {
              "outlinewidth": 0,
              "ticks": ""
             }
            },
            "type": "scattergl"
           }
          ],
          "scattermapbox": [
           {
            "marker": {
             "colorbar": {
              "outlinewidth": 0,
              "ticks": ""
             }
            },
            "type": "scattermapbox"
           }
          ],
          "scatterpolar": [
           {
            "marker": {
             "colorbar": {
              "outlinewidth": 0,
              "ticks": ""
             }
            },
            "type": "scatterpolar"
           }
          ],
          "scatterpolargl": [
           {
            "marker": {
             "colorbar": {
              "outlinewidth": 0,
              "ticks": ""
             }
            },
            "type": "scatterpolargl"
           }
          ],
          "scatterternary": [
           {
            "marker": {
             "colorbar": {
              "outlinewidth": 0,
              "ticks": ""
             }
            },
            "type": "scatterternary"
           }
          ],
          "surface": [
           {
            "colorbar": {
             "outlinewidth": 0,
             "ticks": ""
            },
            "colorscale": [
             [
              0,
              "#0d0887"
             ],
             [
              0.1111111111111111,
              "#46039f"
             ],
             [
              0.2222222222222222,
              "#7201a8"
             ],
             [
              0.3333333333333333,
              "#9c179e"
             ],
             [
              0.4444444444444444,
              "#bd3786"
             ],
             [
              0.5555555555555556,
              "#d8576b"
             ],
             [
              0.6666666666666666,
              "#ed7953"
             ],
             [
              0.7777777777777778,
              "#fb9f3a"
             ],
             [
              0.8888888888888888,
              "#fdca26"
             ],
             [
              1,
              "#f0f921"
             ]
            ],
            "type": "surface"
           }
          ],
          "table": [
           {
            "cells": {
             "fill": {
              "color": "#EBF0F8"
             },
             "line": {
              "color": "white"
             }
            },
            "header": {
             "fill": {
              "color": "#C8D4E3"
             },
             "line": {
              "color": "white"
             }
            },
            "type": "table"
           }
          ]
         },
         "layout": {
          "annotationdefaults": {
           "arrowcolor": "#2a3f5f",
           "arrowhead": 0,
           "arrowwidth": 1
          },
          "autotypenumbers": "strict",
          "coloraxis": {
           "colorbar": {
            "outlinewidth": 0,
            "ticks": ""
           }
          },
          "colorscale": {
           "diverging": [
            [
             0,
             "#8e0152"
            ],
            [
             0.1,
             "#c51b7d"
            ],
            [
             0.2,
             "#de77ae"
            ],
            [
             0.3,
             "#f1b6da"
            ],
            [
             0.4,
             "#fde0ef"
            ],
            [
             0.5,
             "#f7f7f7"
            ],
            [
             0.6,
             "#e6f5d0"
            ],
            [
             0.7,
             "#b8e186"
            ],
            [
             0.8,
             "#7fbc41"
            ],
            [
             0.9,
             "#4d9221"
            ],
            [
             1,
             "#276419"
            ]
           ],
           "sequential": [
            [
             0,
             "#0d0887"
            ],
            [
             0.1111111111111111,
             "#46039f"
            ],
            [
             0.2222222222222222,
             "#7201a8"
            ],
            [
             0.3333333333333333,
             "#9c179e"
            ],
            [
             0.4444444444444444,
             "#bd3786"
            ],
            [
             0.5555555555555556,
             "#d8576b"
            ],
            [
             0.6666666666666666,
             "#ed7953"
            ],
            [
             0.7777777777777778,
             "#fb9f3a"
            ],
            [
             0.8888888888888888,
             "#fdca26"
            ],
            [
             1,
             "#f0f921"
            ]
           ],
           "sequentialminus": [
            [
             0,
             "#0d0887"
            ],
            [
             0.1111111111111111,
             "#46039f"
            ],
            [
             0.2222222222222222,
             "#7201a8"
            ],
            [
             0.3333333333333333,
             "#9c179e"
            ],
            [
             0.4444444444444444,
             "#bd3786"
            ],
            [
             0.5555555555555556,
             "#d8576b"
            ],
            [
             0.6666666666666666,
             "#ed7953"
            ],
            [
             0.7777777777777778,
             "#fb9f3a"
            ],
            [
             0.8888888888888888,
             "#fdca26"
            ],
            [
             1,
             "#f0f921"
            ]
           ]
          },
          "colorway": [
           "#636efa",
           "#EF553B",
           "#00cc96",
           "#ab63fa",
           "#FFA15A",
           "#19d3f3",
           "#FF6692",
           "#B6E880",
           "#FF97FF",
           "#FECB52"
          ],
          "font": {
           "color": "#2a3f5f"
          },
          "geo": {
           "bgcolor": "white",
           "lakecolor": "white",
           "landcolor": "#E5ECF6",
           "showlakes": true,
           "showland": true,
           "subunitcolor": "white"
          },
          "hoverlabel": {
           "align": "left"
          },
          "hovermode": "closest",
          "mapbox": {
           "style": "light"
          },
          "paper_bgcolor": "white",
          "plot_bgcolor": "#E5ECF6",
          "polar": {
           "angularaxis": {
            "gridcolor": "white",
            "linecolor": "white",
            "ticks": ""
           },
           "bgcolor": "#E5ECF6",
           "radialaxis": {
            "gridcolor": "white",
            "linecolor": "white",
            "ticks": ""
           }
          },
          "scene": {
           "xaxis": {
            "backgroundcolor": "#E5ECF6",
            "gridcolor": "white",
            "gridwidth": 2,
            "linecolor": "white",
            "showbackground": true,
            "ticks": "",
            "zerolinecolor": "white"
           },
           "yaxis": {
            "backgroundcolor": "#E5ECF6",
            "gridcolor": "white",
            "gridwidth": 2,
            "linecolor": "white",
            "showbackground": true,
            "ticks": "",
            "zerolinecolor": "white"
           },
           "zaxis": {
            "backgroundcolor": "#E5ECF6",
            "gridcolor": "white",
            "gridwidth": 2,
            "linecolor": "white",
            "showbackground": true,
            "ticks": "",
            "zerolinecolor": "white"
           }
          },
          "shapedefaults": {
           "line": {
            "color": "#2a3f5f"
           }
          },
          "ternary": {
           "aaxis": {
            "gridcolor": "white",
            "linecolor": "white",
            "ticks": ""
           },
           "baxis": {
            "gridcolor": "white",
            "linecolor": "white",
            "ticks": ""
           },
           "bgcolor": "#E5ECF6",
           "caxis": {
            "gridcolor": "white",
            "linecolor": "white",
            "ticks": ""
           }
          },
          "title": {
           "x": 0.05
          },
          "xaxis": {
           "automargin": true,
           "gridcolor": "white",
           "linecolor": "white",
           "ticks": "",
           "title": {
            "standoff": 15
           },
           "zerolinecolor": "white",
           "zerolinewidth": 2
          },
          "yaxis": {
           "automargin": true,
           "gridcolor": "white",
           "linecolor": "white",
           "ticks": "",
           "title": {
            "standoff": 15
           },
           "zerolinecolor": "white",
           "zerolinewidth": 2
          }
         }
        },
        "title": {
         "y": 1
        },
        "width": 2750
       }
      }
     },
     "metadata": {},
     "output_type": "display_data"
    }
   ],
   "source": [
    "ROWS, COLUMNS = get_rows_columns(teams_stats, len(origin_columns))\n",
    "min_value, max_value = 0, 1\n",
    "\n",
    "fig = get_fig_subplots(teams_stats.index.values, ROWS, COLUMNS)\n",
    "for i, team_name in enumerate(teams_stats.index):\n",
    "    for j, (key, cols) in enumerate(columns.items()):\n",
    "        df = teams_stats.loc[team_name, cols]\n",
    "        theta_list = get_theta_list(teams_stats, team_name, origin_columns[key], rank_columns[key])\n",
    "\n",
    "        fig.add_trace(\n",
    "            go.Scatterpolar(r=df, theta=theta_list, fill=\"toself\", name=team_name),\n",
    "            row=i + 1,\n",
    "            col=j + 1,\n",
    "        )\n",
    "\n",
    "fig.update_layout(\n",
    "    height=400 * ROWS,\n",
    "    width=550 * COLUMNS,\n",
    "    showlegend=False,\n",
    "    title=dict(y=1),\n",
    ")\n",
    "fig.update_annotations(yshift=20)\n",
    "fig.update_polars(\n",
    "    radialaxis=dict(range=[min_value - 0.2, max_value + 0.2], visible=False)\n",
    ")\n",
    "fig.show()"
   ]
  },
  {
   "cell_type": "code",
   "execution_count": 17,
   "metadata": {},
   "outputs": [
    {
     "data": {
      "text/html": [
       "<div>\n",
       "<style scoped>\n",
       "    .dataframe tbody tr th:only-of-type {\n",
       "        vertical-align: middle;\n",
       "    }\n",
       "\n",
       "    .dataframe tbody tr th {\n",
       "        vertical-align: top;\n",
       "    }\n",
       "\n",
       "    .dataframe thead th {\n",
       "        text-align: right;\n",
       "    }\n",
       "</style>\n",
       "<table border=\"1\" class=\"dataframe\">\n",
       "  <thead>\n",
       "    <tr style=\"text-align: right;\">\n",
       "      <th></th>\n",
       "      <th>index</th>\n",
       "      <th>gameid</th>\n",
       "      <th>datacompleteness</th>\n",
       "      <th>url</th>\n",
       "      <th>league</th>\n",
       "      <th>year</th>\n",
       "      <th>split</th>\n",
       "      <th>playoffs</th>\n",
       "      <th>date</th>\n",
       "      <th>game</th>\n",
       "      <th>patch</th>\n",
       "      <th>participantid</th>\n",
       "      <th>side</th>\n",
       "      <th>position</th>\n",
       "      <th>playername</th>\n",
       "      <th>playerid</th>\n",
       "      <th>teamname</th>\n",
       "      <th>teamid</th>\n",
       "      <th>champion</th>\n",
       "      <th>ban1</th>\n",
       "      <th>ban2</th>\n",
       "      <th>ban3</th>\n",
       "      <th>ban4</th>\n",
       "      <th>ban5</th>\n",
       "      <th>gamelength</th>\n",
       "      <th>result</th>\n",
       "      <th>kills</th>\n",
       "      <th>deaths</th>\n",
       "      <th>assists</th>\n",
       "      <th>teamkills</th>\n",
       "      <th>teamdeaths</th>\n",
       "      <th>doublekills</th>\n",
       "      <th>triplekills</th>\n",
       "      <th>quadrakills</th>\n",
       "      <th>pentakills</th>\n",
       "      <th>firstblood</th>\n",
       "      <th>firstbloodkill</th>\n",
       "      <th>firstbloodassist</th>\n",
       "      <th>firstbloodvictim</th>\n",
       "      <th>team kpm</th>\n",
       "      <th>ckpm</th>\n",
       "      <th>firstdragon</th>\n",
       "      <th>dragons</th>\n",
       "      <th>opp_dragons</th>\n",
       "      <th>elementaldrakes</th>\n",
       "      <th>opp_elementaldrakes</th>\n",
       "      <th>infernals</th>\n",
       "      <th>mountains</th>\n",
       "      <th>clouds</th>\n",
       "      <th>oceans</th>\n",
       "      <th>chemtechs</th>\n",
       "      <th>hextechs</th>\n",
       "      <th>dragons (type unknown)</th>\n",
       "      <th>elders</th>\n",
       "      <th>opp_elders</th>\n",
       "      <th>firstherald</th>\n",
       "      <th>heralds</th>\n",
       "      <th>opp_heralds</th>\n",
       "      <th>firstbaron</th>\n",
       "      <th>barons</th>\n",
       "      <th>opp_barons</th>\n",
       "      <th>firsttower</th>\n",
       "      <th>towers</th>\n",
       "      <th>opp_towers</th>\n",
       "      <th>firstmidtower</th>\n",
       "      <th>firsttothreetowers</th>\n",
       "      <th>turretplates</th>\n",
       "      <th>opp_turretplates</th>\n",
       "      <th>inhibitors</th>\n",
       "      <th>opp_inhibitors</th>\n",
       "      <th>damagetochampions</th>\n",
       "      <th>dpm</th>\n",
       "      <th>damageshare</th>\n",
       "      <th>damagetakenperminute</th>\n",
       "      <th>damagemitigatedperminute</th>\n",
       "      <th>wardsplaced</th>\n",
       "      <th>wpm</th>\n",
       "      <th>wardskilled</th>\n",
       "      <th>wcpm</th>\n",
       "      <th>controlwardsbought</th>\n",
       "      <th>visionscore</th>\n",
       "      <th>vspm</th>\n",
       "      <th>totalgold</th>\n",
       "      <th>earnedgold</th>\n",
       "      <th>earned gpm</th>\n",
       "      <th>earnedgoldshare</th>\n",
       "      <th>goldspent</th>\n",
       "      <th>gspd</th>\n",
       "      <th>total cs</th>\n",
       "      <th>minionkills</th>\n",
       "      <th>monsterkills</th>\n",
       "      <th>monsterkillsownjungle</th>\n",
       "      <th>monsterkillsenemyjungle</th>\n",
       "      <th>cspm</th>\n",
       "      <th>goldat10</th>\n",
       "      <th>xpat10</th>\n",
       "      <th>csat10</th>\n",
       "      <th>opp_goldat10</th>\n",
       "      <th>opp_xpat10</th>\n",
       "      <th>opp_csat10</th>\n",
       "      <th>golddiffat10</th>\n",
       "      <th>xpdiffat10</th>\n",
       "      <th>csdiffat10</th>\n",
       "      <th>killsat10</th>\n",
       "      <th>assistsat10</th>\n",
       "      <th>deathsat10</th>\n",
       "      <th>opp_killsat10</th>\n",
       "      <th>opp_assistsat10</th>\n",
       "      <th>opp_deathsat10</th>\n",
       "      <th>goldat15</th>\n",
       "      <th>xpat15</th>\n",
       "      <th>csat15</th>\n",
       "      <th>opp_goldat15</th>\n",
       "      <th>opp_xpat15</th>\n",
       "      <th>opp_csat15</th>\n",
       "      <th>golddiffat15</th>\n",
       "      <th>xpdiffat15</th>\n",
       "      <th>csdiffat15</th>\n",
       "      <th>killsat15</th>\n",
       "      <th>assistsat15</th>\n",
       "      <th>deathsat15</th>\n",
       "      <th>opp_killsat15</th>\n",
       "      <th>opp_assistsat15</th>\n",
       "      <th>opp_deathsat15</th>\n",
       "      <th>kda</th>\n",
       "      <th>kd</th>\n",
       "      <th>gpm</th>\n",
       "      <th>gdpm</th>\n",
       "      <th>goldshare</th>\n",
       "    </tr>\n",
       "  </thead>\n",
       "  <tbody>\n",
       "    <tr>\n",
       "      <th>67572</th>\n",
       "      <td>67572</td>\n",
       "      <td>ESPORTSTMNT03_3167508</td>\n",
       "      <td>complete</td>\n",
       "      <td>NaN</td>\n",
       "      <td>LCK</td>\n",
       "      <td>2023</td>\n",
       "      <td>Summer</td>\n",
       "      <td>0</td>\n",
       "      <td>2023-06-07 08:11:03</td>\n",
       "      <td>1</td>\n",
       "      <td>13.10</td>\n",
       "      <td>1</td>\n",
       "      <td>Blue</td>\n",
       "      <td>top</td>\n",
       "      <td>Kiin</td>\n",
       "      <td>oe:player:03daae1844b9ad257324c3eedf41e28</td>\n",
       "      <td>KT Rolster</td>\n",
       "      <td>oe:team:d723992568441c6bafa2658129eade7</td>\n",
       "      <td>Malphite</td>\n",
       "      <td>Vi</td>\n",
       "      <td>Maokai</td>\n",
       "      <td>Lucian</td>\n",
       "      <td>Lulu</td>\n",
       "      <td>Ornn</td>\n",
       "      <td>1894</td>\n",
       "      <td>1</td>\n",
       "      <td>2</td>\n",
       "      <td>1</td>\n",
       "      <td>9</td>\n",
       "      <td>12</td>\n",
       "      <td>6</td>\n",
       "      <td>0.0</td>\n",
       "      <td>0.0</td>\n",
       "      <td>0.0</td>\n",
       "      <td>0.0</td>\n",
       "      <td>0.0</td>\n",
       "      <td>0.0</td>\n",
       "      <td>0.0</td>\n",
       "      <td>0.0</td>\n",
       "      <td>0.3801</td>\n",
       "      <td>0.5702</td>\n",
       "      <td>NaN</td>\n",
       "      <td>NaN</td>\n",
       "      <td>NaN</td>\n",
       "      <td>NaN</td>\n",
       "      <td>NaN</td>\n",
       "      <td>NaN</td>\n",
       "      <td>NaN</td>\n",
       "      <td>NaN</td>\n",
       "      <td>NaN</td>\n",
       "      <td>NaN</td>\n",
       "      <td>NaN</td>\n",
       "      <td>NaN</td>\n",
       "      <td>NaN</td>\n",
       "      <td>NaN</td>\n",
       "      <td>NaN</td>\n",
       "      <td>NaN</td>\n",
       "      <td>NaN</td>\n",
       "      <td>NaN</td>\n",
       "      <td>0.0</td>\n",
       "      <td>0.0</td>\n",
       "      <td>NaN</td>\n",
       "      <td>NaN</td>\n",
       "      <td>NaN</td>\n",
       "      <td>NaN</td>\n",
       "      <td>NaN</td>\n",
       "      <td>NaN</td>\n",
       "      <td>NaN</td>\n",
       "      <td>0.0</td>\n",
       "      <td>0.0</td>\n",
       "      <td>17628</td>\n",
       "      <td>558.4372</td>\n",
       "      <td>0.277716</td>\n",
       "      <td>661.4572</td>\n",
       "      <td>1947.4974</td>\n",
       "      <td>11</td>\n",
       "      <td>0.3485</td>\n",
       "      <td>10</td>\n",
       "      <td>0.3168</td>\n",
       "      <td>6</td>\n",
       "      <td>37</td>\n",
       "      <td>1.1721</td>\n",
       "      <td>12665</td>\n",
       "      <td>8526</td>\n",
       "      <td>270.0950</td>\n",
       "      <td>0.221542</td>\n",
       "      <td>11800</td>\n",
       "      <td>NaN</td>\n",
       "      <td>285.0</td>\n",
       "      <td>281.0</td>\n",
       "      <td>4</td>\n",
       "      <td>NaN</td>\n",
       "      <td>NaN</td>\n",
       "      <td>9.0285</td>\n",
       "      <td>3373.0</td>\n",
       "      <td>5212.0</td>\n",
       "      <td>95.0</td>\n",
       "      <td>3676.0</td>\n",
       "      <td>5212.0</td>\n",
       "      <td>98.0</td>\n",
       "      <td>-303.0</td>\n",
       "      <td>0.0</td>\n",
       "      <td>-3.0</td>\n",
       "      <td>0.0</td>\n",
       "      <td>0.0</td>\n",
       "      <td>0.0</td>\n",
       "      <td>0.0</td>\n",
       "      <td>0.0</td>\n",
       "      <td>0.0</td>\n",
       "      <td>5153.0</td>\n",
       "      <td>8046.0</td>\n",
       "      <td>146.0</td>\n",
       "      <td>5274.0</td>\n",
       "      <td>7985.0</td>\n",
       "      <td>147.0</td>\n",
       "      <td>-121.0</td>\n",
       "      <td>61.0</td>\n",
       "      <td>-1.0</td>\n",
       "      <td>0.0</td>\n",
       "      <td>0.0</td>\n",
       "      <td>0.0</td>\n",
       "      <td>0.0</td>\n",
       "      <td>0.0</td>\n",
       "      <td>0.0</td>\n",
       "      <td>11.0</td>\n",
       "      <td>2.0</td>\n",
       "      <td>401.214361</td>\n",
       "      <td>53.315734</td>\n",
       "      <td>0.214008</td>\n",
       "    </tr>\n",
       "    <tr>\n",
       "      <th>67573</th>\n",
       "      <td>67573</td>\n",
       "      <td>ESPORTSTMNT03_3167508</td>\n",
       "      <td>complete</td>\n",
       "      <td>NaN</td>\n",
       "      <td>LCK</td>\n",
       "      <td>2023</td>\n",
       "      <td>Summer</td>\n",
       "      <td>0</td>\n",
       "      <td>2023-06-07 08:11:03</td>\n",
       "      <td>1</td>\n",
       "      <td>13.10</td>\n",
       "      <td>2</td>\n",
       "      <td>Blue</td>\n",
       "      <td>jng</td>\n",
       "      <td>Cuzz</td>\n",
       "      <td>oe:player:f9fe6d28d5b67bf9ac673b2cc8edf15</td>\n",
       "      <td>KT Rolster</td>\n",
       "      <td>oe:team:d723992568441c6bafa2658129eade7</td>\n",
       "      <td>Viego</td>\n",
       "      <td>Vi</td>\n",
       "      <td>Maokai</td>\n",
       "      <td>Lucian</td>\n",
       "      <td>Lulu</td>\n",
       "      <td>Ornn</td>\n",
       "      <td>1894</td>\n",
       "      <td>1</td>\n",
       "      <td>5</td>\n",
       "      <td>1</td>\n",
       "      <td>5</td>\n",
       "      <td>12</td>\n",
       "      <td>6</td>\n",
       "      <td>2.0</td>\n",
       "      <td>1.0</td>\n",
       "      <td>0.0</td>\n",
       "      <td>0.0</td>\n",
       "      <td>0.0</td>\n",
       "      <td>0.0</td>\n",
       "      <td>0.0</td>\n",
       "      <td>1.0</td>\n",
       "      <td>0.3801</td>\n",
       "      <td>0.5702</td>\n",
       "      <td>NaN</td>\n",
       "      <td>NaN</td>\n",
       "      <td>NaN</td>\n",
       "      <td>NaN</td>\n",
       "      <td>NaN</td>\n",
       "      <td>NaN</td>\n",
       "      <td>NaN</td>\n",
       "      <td>NaN</td>\n",
       "      <td>NaN</td>\n",
       "      <td>NaN</td>\n",
       "      <td>NaN</td>\n",
       "      <td>NaN</td>\n",
       "      <td>NaN</td>\n",
       "      <td>NaN</td>\n",
       "      <td>NaN</td>\n",
       "      <td>NaN</td>\n",
       "      <td>NaN</td>\n",
       "      <td>NaN</td>\n",
       "      <td>1.0</td>\n",
       "      <td>0.0</td>\n",
       "      <td>NaN</td>\n",
       "      <td>NaN</td>\n",
       "      <td>NaN</td>\n",
       "      <td>NaN</td>\n",
       "      <td>NaN</td>\n",
       "      <td>NaN</td>\n",
       "      <td>NaN</td>\n",
       "      <td>0.0</td>\n",
       "      <td>0.0</td>\n",
       "      <td>13080</td>\n",
       "      <td>414.3611</td>\n",
       "      <td>0.206065</td>\n",
       "      <td>806.1035</td>\n",
       "      <td>970.7075</td>\n",
       "      <td>14</td>\n",
       "      <td>0.4435</td>\n",
       "      <td>20</td>\n",
       "      <td>0.6336</td>\n",
       "      <td>22</td>\n",
       "      <td>63</td>\n",
       "      <td>1.9958</td>\n",
       "      <td>12416</td>\n",
       "      <td>8277</td>\n",
       "      <td>262.2070</td>\n",
       "      <td>0.215072</td>\n",
       "      <td>11225</td>\n",
       "      <td>NaN</td>\n",
       "      <td>214.0</td>\n",
       "      <td>23.0</td>\n",
       "      <td>191</td>\n",
       "      <td>NaN</td>\n",
       "      <td>NaN</td>\n",
       "      <td>6.7793</td>\n",
       "      <td>3334.0</td>\n",
       "      <td>3779.0</td>\n",
       "      <td>78.0</td>\n",
       "      <td>3256.0</td>\n",
       "      <td>3652.0</td>\n",
       "      <td>71.0</td>\n",
       "      <td>78.0</td>\n",
       "      <td>127.0</td>\n",
       "      <td>7.0</td>\n",
       "      <td>0.0</td>\n",
       "      <td>0.0</td>\n",
       "      <td>1.0</td>\n",
       "      <td>0.0</td>\n",
       "      <td>0.0</td>\n",
       "      <td>0.0</td>\n",
       "      <td>4884.0</td>\n",
       "      <td>5891.0</td>\n",
       "      <td>117.0</td>\n",
       "      <td>5011.0</td>\n",
       "      <td>5448.0</td>\n",
       "      <td>106.0</td>\n",
       "      <td>-127.0</td>\n",
       "      <td>443.0</td>\n",
       "      <td>11.0</td>\n",
       "      <td>0.0</td>\n",
       "      <td>0.0</td>\n",
       "      <td>1.0</td>\n",
       "      <td>0.0</td>\n",
       "      <td>0.0</td>\n",
       "      <td>0.0</td>\n",
       "      <td>10.0</td>\n",
       "      <td>5.0</td>\n",
       "      <td>393.326294</td>\n",
       "      <td>61.805702</td>\n",
       "      <td>0.209801</td>\n",
       "    </tr>\n",
       "    <tr>\n",
       "      <th>67574</th>\n",
       "      <td>67574</td>\n",
       "      <td>ESPORTSTMNT03_3167508</td>\n",
       "      <td>complete</td>\n",
       "      <td>NaN</td>\n",
       "      <td>LCK</td>\n",
       "      <td>2023</td>\n",
       "      <td>Summer</td>\n",
       "      <td>0</td>\n",
       "      <td>2023-06-07 08:11:03</td>\n",
       "      <td>1</td>\n",
       "      <td>13.10</td>\n",
       "      <td>3</td>\n",
       "      <td>Blue</td>\n",
       "      <td>mid</td>\n",
       "      <td>Bdd</td>\n",
       "      <td>oe:player:30361653a485a9609fb2d3aa073282c</td>\n",
       "      <td>KT Rolster</td>\n",
       "      <td>oe:team:d723992568441c6bafa2658129eade7</td>\n",
       "      <td>Annie</td>\n",
       "      <td>Vi</td>\n",
       "      <td>Maokai</td>\n",
       "      <td>Lucian</td>\n",
       "      <td>Lulu</td>\n",
       "      <td>Ornn</td>\n",
       "      <td>1894</td>\n",
       "      <td>1</td>\n",
       "      <td>2</td>\n",
       "      <td>2</td>\n",
       "      <td>10</td>\n",
       "      <td>12</td>\n",
       "      <td>6</td>\n",
       "      <td>0.0</td>\n",
       "      <td>0.0</td>\n",
       "      <td>0.0</td>\n",
       "      <td>0.0</td>\n",
       "      <td>0.0</td>\n",
       "      <td>0.0</td>\n",
       "      <td>0.0</td>\n",
       "      <td>0.0</td>\n",
       "      <td>0.3801</td>\n",
       "      <td>0.5702</td>\n",
       "      <td>NaN</td>\n",
       "      <td>NaN</td>\n",
       "      <td>NaN</td>\n",
       "      <td>NaN</td>\n",
       "      <td>NaN</td>\n",
       "      <td>NaN</td>\n",
       "      <td>NaN</td>\n",
       "      <td>NaN</td>\n",
       "      <td>NaN</td>\n",
       "      <td>NaN</td>\n",
       "      <td>NaN</td>\n",
       "      <td>NaN</td>\n",
       "      <td>NaN</td>\n",
       "      <td>NaN</td>\n",
       "      <td>NaN</td>\n",
       "      <td>NaN</td>\n",
       "      <td>NaN</td>\n",
       "      <td>NaN</td>\n",
       "      <td>0.0</td>\n",
       "      <td>0.0</td>\n",
       "      <td>NaN</td>\n",
       "      <td>NaN</td>\n",
       "      <td>NaN</td>\n",
       "      <td>NaN</td>\n",
       "      <td>NaN</td>\n",
       "      <td>NaN</td>\n",
       "      <td>NaN</td>\n",
       "      <td>1.0</td>\n",
       "      <td>0.0</td>\n",
       "      <td>15295</td>\n",
       "      <td>484.5301</td>\n",
       "      <td>0.240961</td>\n",
       "      <td>330.3168</td>\n",
       "      <td>291.0982</td>\n",
       "      <td>24</td>\n",
       "      <td>0.7603</td>\n",
       "      <td>7</td>\n",
       "      <td>0.2218</td>\n",
       "      <td>13</td>\n",
       "      <td>42</td>\n",
       "      <td>1.3305</td>\n",
       "      <td>13085</td>\n",
       "      <td>8946</td>\n",
       "      <td>283.4002</td>\n",
       "      <td>0.232456</td>\n",
       "      <td>12475</td>\n",
       "      <td>NaN</td>\n",
       "      <td>293.0</td>\n",
       "      <td>293.0</td>\n",
       "      <td>0</td>\n",
       "      <td>NaN</td>\n",
       "      <td>NaN</td>\n",
       "      <td>9.2819</td>\n",
       "      <td>3526.0</td>\n",
       "      <td>5066.0</td>\n",
       "      <td>99.0</td>\n",
       "      <td>3509.0</td>\n",
       "      <td>4208.0</td>\n",
       "      <td>80.0</td>\n",
       "      <td>17.0</td>\n",
       "      <td>858.0</td>\n",
       "      <td>19.0</td>\n",
       "      <td>0.0</td>\n",
       "      <td>0.0</td>\n",
       "      <td>0.0</td>\n",
       "      <td>1.0</td>\n",
       "      <td>0.0</td>\n",
       "      <td>0.0</td>\n",
       "      <td>5425.0</td>\n",
       "      <td>8471.0</td>\n",
       "      <td>163.0</td>\n",
       "      <td>5265.0</td>\n",
       "      <td>7040.0</td>\n",
       "      <td>134.0</td>\n",
       "      <td>160.0</td>\n",
       "      <td>1431.0</td>\n",
       "      <td>29.0</td>\n",
       "      <td>0.0</td>\n",
       "      <td>0.0</td>\n",
       "      <td>0.0</td>\n",
       "      <td>1.0</td>\n",
       "      <td>0.0</td>\n",
       "      <td>0.0</td>\n",
       "      <td>6.0</td>\n",
       "      <td>1.0</td>\n",
       "      <td>414.519535</td>\n",
       "      <td>47.771911</td>\n",
       "      <td>0.221105</td>\n",
       "    </tr>\n",
       "    <tr>\n",
       "      <th>67575</th>\n",
       "      <td>67575</td>\n",
       "      <td>ESPORTSTMNT03_3167508</td>\n",
       "      <td>complete</td>\n",
       "      <td>NaN</td>\n",
       "      <td>LCK</td>\n",
       "      <td>2023</td>\n",
       "      <td>Summer</td>\n",
       "      <td>0</td>\n",
       "      <td>2023-06-07 08:11:03</td>\n",
       "      <td>1</td>\n",
       "      <td>13.10</td>\n",
       "      <td>4</td>\n",
       "      <td>Blue</td>\n",
       "      <td>bot</td>\n",
       "      <td>Aiming</td>\n",
       "      <td>oe:player:85104684d1eb7f4c0ce393441a0b669</td>\n",
       "      <td>KT Rolster</td>\n",
       "      <td>oe:team:d723992568441c6bafa2658129eade7</td>\n",
       "      <td>Ezreal</td>\n",
       "      <td>Vi</td>\n",
       "      <td>Maokai</td>\n",
       "      <td>Lucian</td>\n",
       "      <td>Lulu</td>\n",
       "      <td>Ornn</td>\n",
       "      <td>1894</td>\n",
       "      <td>1</td>\n",
       "      <td>2</td>\n",
       "      <td>1</td>\n",
       "      <td>3</td>\n",
       "      <td>12</td>\n",
       "      <td>6</td>\n",
       "      <td>0.0</td>\n",
       "      <td>0.0</td>\n",
       "      <td>0.0</td>\n",
       "      <td>0.0</td>\n",
       "      <td>0.0</td>\n",
       "      <td>0.0</td>\n",
       "      <td>0.0</td>\n",
       "      <td>0.0</td>\n",
       "      <td>0.3801</td>\n",
       "      <td>0.5702</td>\n",
       "      <td>NaN</td>\n",
       "      <td>NaN</td>\n",
       "      <td>NaN</td>\n",
       "      <td>NaN</td>\n",
       "      <td>NaN</td>\n",
       "      <td>NaN</td>\n",
       "      <td>NaN</td>\n",
       "      <td>NaN</td>\n",
       "      <td>NaN</td>\n",
       "      <td>NaN</td>\n",
       "      <td>NaN</td>\n",
       "      <td>NaN</td>\n",
       "      <td>NaN</td>\n",
       "      <td>NaN</td>\n",
       "      <td>NaN</td>\n",
       "      <td>NaN</td>\n",
       "      <td>NaN</td>\n",
       "      <td>NaN</td>\n",
       "      <td>0.0</td>\n",
       "      <td>0.0</td>\n",
       "      <td>NaN</td>\n",
       "      <td>NaN</td>\n",
       "      <td>NaN</td>\n",
       "      <td>NaN</td>\n",
       "      <td>NaN</td>\n",
       "      <td>NaN</td>\n",
       "      <td>NaN</td>\n",
       "      <td>1.0</td>\n",
       "      <td>0.0</td>\n",
       "      <td>13502</td>\n",
       "      <td>427.7297</td>\n",
       "      <td>0.212714</td>\n",
       "      <td>372.9884</td>\n",
       "      <td>235.1531</td>\n",
       "      <td>14</td>\n",
       "      <td>0.4435</td>\n",
       "      <td>15</td>\n",
       "      <td>0.4752</td>\n",
       "      <td>4</td>\n",
       "      <td>39</td>\n",
       "      <td>1.2355</td>\n",
       "      <td>13456</td>\n",
       "      <td>9317</td>\n",
       "      <td>295.1531</td>\n",
       "      <td>0.242096</td>\n",
       "      <td>12483</td>\n",
       "      <td>NaN</td>\n",
       "      <td>310.0</td>\n",
       "      <td>298.0</td>\n",
       "      <td>12</td>\n",
       "      <td>NaN</td>\n",
       "      <td>NaN</td>\n",
       "      <td>9.8205</td>\n",
       "      <td>3403.0</td>\n",
       "      <td>3111.0</td>\n",
       "      <td>83.0</td>\n",
       "      <td>3935.0</td>\n",
       "      <td>3729.0</td>\n",
       "      <td>101.0</td>\n",
       "      <td>-532.0</td>\n",
       "      <td>-618.0</td>\n",
       "      <td>-18.0</td>\n",
       "      <td>0.0</td>\n",
       "      <td>0.0</td>\n",
       "      <td>0.0</td>\n",
       "      <td>0.0</td>\n",
       "      <td>0.0</td>\n",
       "      <td>0.0</td>\n",
       "      <td>5309.0</td>\n",
       "      <td>5166.0</td>\n",
       "      <td>142.0</td>\n",
       "      <td>5674.0</td>\n",
       "      <td>6162.0</td>\n",
       "      <td>155.0</td>\n",
       "      <td>-365.0</td>\n",
       "      <td>-996.0</td>\n",
       "      <td>-13.0</td>\n",
       "      <td>0.0</td>\n",
       "      <td>0.0</td>\n",
       "      <td>0.0</td>\n",
       "      <td>0.0</td>\n",
       "      <td>0.0</td>\n",
       "      <td>0.0</td>\n",
       "      <td>5.0</td>\n",
       "      <td>2.0</td>\n",
       "      <td>426.272439</td>\n",
       "      <td>14.128828</td>\n",
       "      <td>0.227374</td>\n",
       "    </tr>\n",
       "    <tr>\n",
       "      <th>67576</th>\n",
       "      <td>67576</td>\n",
       "      <td>ESPORTSTMNT03_3167508</td>\n",
       "      <td>complete</td>\n",
       "      <td>NaN</td>\n",
       "      <td>LCK</td>\n",
       "      <td>2023</td>\n",
       "      <td>Summer</td>\n",
       "      <td>0</td>\n",
       "      <td>2023-06-07 08:11:03</td>\n",
       "      <td>1</td>\n",
       "      <td>13.10</td>\n",
       "      <td>5</td>\n",
       "      <td>Blue</td>\n",
       "      <td>sup</td>\n",
       "      <td>Lehends</td>\n",
       "      <td>oe:player:e4e24b8656e4e6a74b939af730b0148</td>\n",
       "      <td>KT Rolster</td>\n",
       "      <td>oe:team:d723992568441c6bafa2658129eade7</td>\n",
       "      <td>Yuumi</td>\n",
       "      <td>Vi</td>\n",
       "      <td>Maokai</td>\n",
       "      <td>Lucian</td>\n",
       "      <td>Lulu</td>\n",
       "      <td>Ornn</td>\n",
       "      <td>1894</td>\n",
       "      <td>1</td>\n",
       "      <td>1</td>\n",
       "      <td>1</td>\n",
       "      <td>8</td>\n",
       "      <td>12</td>\n",
       "      <td>6</td>\n",
       "      <td>0.0</td>\n",
       "      <td>0.0</td>\n",
       "      <td>0.0</td>\n",
       "      <td>0.0</td>\n",
       "      <td>0.0</td>\n",
       "      <td>0.0</td>\n",
       "      <td>0.0</td>\n",
       "      <td>0.0</td>\n",
       "      <td>0.3801</td>\n",
       "      <td>0.5702</td>\n",
       "      <td>NaN</td>\n",
       "      <td>NaN</td>\n",
       "      <td>NaN</td>\n",
       "      <td>NaN</td>\n",
       "      <td>NaN</td>\n",
       "      <td>NaN</td>\n",
       "      <td>NaN</td>\n",
       "      <td>NaN</td>\n",
       "      <td>NaN</td>\n",
       "      <td>NaN</td>\n",
       "      <td>NaN</td>\n",
       "      <td>NaN</td>\n",
       "      <td>NaN</td>\n",
       "      <td>NaN</td>\n",
       "      <td>NaN</td>\n",
       "      <td>NaN</td>\n",
       "      <td>NaN</td>\n",
       "      <td>NaN</td>\n",
       "      <td>0.0</td>\n",
       "      <td>0.0</td>\n",
       "      <td>NaN</td>\n",
       "      <td>NaN</td>\n",
       "      <td>NaN</td>\n",
       "      <td>NaN</td>\n",
       "      <td>NaN</td>\n",
       "      <td>NaN</td>\n",
       "      <td>NaN</td>\n",
       "      <td>0.0</td>\n",
       "      <td>0.0</td>\n",
       "      <td>3970</td>\n",
       "      <td>125.7656</td>\n",
       "      <td>0.062544</td>\n",
       "      <td>113.4741</td>\n",
       "      <td>58.2577</td>\n",
       "      <td>38</td>\n",
       "      <td>1.2038</td>\n",
       "      <td>2</td>\n",
       "      <td>0.0634</td>\n",
       "      <td>10</td>\n",
       "      <td>66</td>\n",
       "      <td>2.0908</td>\n",
       "      <td>7558</td>\n",
       "      <td>3419</td>\n",
       "      <td>108.3105</td>\n",
       "      <td>0.088835</td>\n",
       "      <td>6650</td>\n",
       "      <td>NaN</td>\n",
       "      <td>11.0</td>\n",
       "      <td>11.0</td>\n",
       "      <td>0</td>\n",
       "      <td>NaN</td>\n",
       "      <td>NaN</td>\n",
       "      <td>0.3485</td>\n",
       "      <td>2109.0</td>\n",
       "      <td>2740.0</td>\n",
       "      <td>4.0</td>\n",
       "      <td>2272.0</td>\n",
       "      <td>2454.0</td>\n",
       "      <td>15.0</td>\n",
       "      <td>-163.0</td>\n",
       "      <td>286.0</td>\n",
       "      <td>-11.0</td>\n",
       "      <td>0.0</td>\n",
       "      <td>0.0</td>\n",
       "      <td>0.0</td>\n",
       "      <td>0.0</td>\n",
       "      <td>1.0</td>\n",
       "      <td>0.0</td>\n",
       "      <td>2936.0</td>\n",
       "      <td>4236.0</td>\n",
       "      <td>6.0</td>\n",
       "      <td>3152.0</td>\n",
       "      <td>3303.0</td>\n",
       "      <td>21.0</td>\n",
       "      <td>-216.0</td>\n",
       "      <td>933.0</td>\n",
       "      <td>-15.0</td>\n",
       "      <td>0.0</td>\n",
       "      <td>0.0</td>\n",
       "      <td>0.0</td>\n",
       "      <td>0.0</td>\n",
       "      <td>1.0</td>\n",
       "      <td>0.0</td>\n",
       "      <td>9.0</td>\n",
       "      <td>1.0</td>\n",
       "      <td>239.429778</td>\n",
       "      <td>35.100317</td>\n",
       "      <td>0.127712</td>\n",
       "    </tr>\n",
       "  </tbody>\n",
       "</table>\n",
       "</div>"
      ],
      "text/plain": [
       "       index                 gameid datacompleteness  url league  year   \n",
       "67572  67572  ESPORTSTMNT03_3167508         complete  NaN    LCK  2023  \\\n",
       "67573  67573  ESPORTSTMNT03_3167508         complete  NaN    LCK  2023   \n",
       "67574  67574  ESPORTSTMNT03_3167508         complete  NaN    LCK  2023   \n",
       "67575  67575  ESPORTSTMNT03_3167508         complete  NaN    LCK  2023   \n",
       "67576  67576  ESPORTSTMNT03_3167508         complete  NaN    LCK  2023   \n",
       "\n",
       "        split  playoffs                 date  game  patch  participantid   \n",
       "67572  Summer         0  2023-06-07 08:11:03     1  13.10              1  \\\n",
       "67573  Summer         0  2023-06-07 08:11:03     1  13.10              2   \n",
       "67574  Summer         0  2023-06-07 08:11:03     1  13.10              3   \n",
       "67575  Summer         0  2023-06-07 08:11:03     1  13.10              4   \n",
       "67576  Summer         0  2023-06-07 08:11:03     1  13.10              5   \n",
       "\n",
       "       side position playername                                   playerid   \n",
       "67572  Blue      top       Kiin  oe:player:03daae1844b9ad257324c3eedf41e28  \\\n",
       "67573  Blue      jng       Cuzz  oe:player:f9fe6d28d5b67bf9ac673b2cc8edf15   \n",
       "67574  Blue      mid        Bdd  oe:player:30361653a485a9609fb2d3aa073282c   \n",
       "67575  Blue      bot     Aiming  oe:player:85104684d1eb7f4c0ce393441a0b669   \n",
       "67576  Blue      sup    Lehends  oe:player:e4e24b8656e4e6a74b939af730b0148   \n",
       "\n",
       "         teamname                                   teamid  champion ban1   \n",
       "67572  KT Rolster  oe:team:d723992568441c6bafa2658129eade7  Malphite   Vi  \\\n",
       "67573  KT Rolster  oe:team:d723992568441c6bafa2658129eade7     Viego   Vi   \n",
       "67574  KT Rolster  oe:team:d723992568441c6bafa2658129eade7     Annie   Vi   \n",
       "67575  KT Rolster  oe:team:d723992568441c6bafa2658129eade7    Ezreal   Vi   \n",
       "67576  KT Rolster  oe:team:d723992568441c6bafa2658129eade7     Yuumi   Vi   \n",
       "\n",
       "         ban2    ban3  ban4  ban5  gamelength  result  kills  deaths  assists   \n",
       "67572  Maokai  Lucian  Lulu  Ornn        1894       1      2       1        9  \\\n",
       "67573  Maokai  Lucian  Lulu  Ornn        1894       1      5       1        5   \n",
       "67574  Maokai  Lucian  Lulu  Ornn        1894       1      2       2       10   \n",
       "67575  Maokai  Lucian  Lulu  Ornn        1894       1      2       1        3   \n",
       "67576  Maokai  Lucian  Lulu  Ornn        1894       1      1       1        8   \n",
       "\n",
       "       teamkills  teamdeaths  doublekills  triplekills  quadrakills   \n",
       "67572         12           6          0.0          0.0          0.0  \\\n",
       "67573         12           6          2.0          1.0          0.0   \n",
       "67574         12           6          0.0          0.0          0.0   \n",
       "67575         12           6          0.0          0.0          0.0   \n",
       "67576         12           6          0.0          0.0          0.0   \n",
       "\n",
       "       pentakills  firstblood  firstbloodkill  firstbloodassist   \n",
       "67572         0.0         0.0             0.0               0.0  \\\n",
       "67573         0.0         0.0             0.0               0.0   \n",
       "67574         0.0         0.0             0.0               0.0   \n",
       "67575         0.0         0.0             0.0               0.0   \n",
       "67576         0.0         0.0             0.0               0.0   \n",
       "\n",
       "       firstbloodvictim  team kpm    ckpm  firstdragon  dragons  opp_dragons   \n",
       "67572               0.0    0.3801  0.5702          NaN      NaN          NaN  \\\n",
       "67573               1.0    0.3801  0.5702          NaN      NaN          NaN   \n",
       "67574               0.0    0.3801  0.5702          NaN      NaN          NaN   \n",
       "67575               0.0    0.3801  0.5702          NaN      NaN          NaN   \n",
       "67576               0.0    0.3801  0.5702          NaN      NaN          NaN   \n",
       "\n",
       "       elementaldrakes  opp_elementaldrakes  infernals  mountains  clouds   \n",
       "67572              NaN                  NaN        NaN        NaN     NaN  \\\n",
       "67573              NaN                  NaN        NaN        NaN     NaN   \n",
       "67574              NaN                  NaN        NaN        NaN     NaN   \n",
       "67575              NaN                  NaN        NaN        NaN     NaN   \n",
       "67576              NaN                  NaN        NaN        NaN     NaN   \n",
       "\n",
       "       oceans  chemtechs  hextechs  dragons (type unknown)  elders   \n",
       "67572     NaN        NaN       NaN                     NaN     NaN  \\\n",
       "67573     NaN        NaN       NaN                     NaN     NaN   \n",
       "67574     NaN        NaN       NaN                     NaN     NaN   \n",
       "67575     NaN        NaN       NaN                     NaN     NaN   \n",
       "67576     NaN        NaN       NaN                     NaN     NaN   \n",
       "\n",
       "       opp_elders  firstherald  heralds  opp_heralds  firstbaron  barons   \n",
       "67572         NaN          NaN      NaN          NaN         NaN     0.0  \\\n",
       "67573         NaN          NaN      NaN          NaN         NaN     1.0   \n",
       "67574         NaN          NaN      NaN          NaN         NaN     0.0   \n",
       "67575         NaN          NaN      NaN          NaN         NaN     0.0   \n",
       "67576         NaN          NaN      NaN          NaN         NaN     0.0   \n",
       "\n",
       "       opp_barons  firsttower  towers  opp_towers  firstmidtower   \n",
       "67572         0.0         NaN     NaN         NaN            NaN  \\\n",
       "67573         0.0         NaN     NaN         NaN            NaN   \n",
       "67574         0.0         NaN     NaN         NaN            NaN   \n",
       "67575         0.0         NaN     NaN         NaN            NaN   \n",
       "67576         0.0         NaN     NaN         NaN            NaN   \n",
       "\n",
       "       firsttothreetowers  turretplates  opp_turretplates  inhibitors   \n",
       "67572                 NaN           NaN               NaN         0.0  \\\n",
       "67573                 NaN           NaN               NaN         0.0   \n",
       "67574                 NaN           NaN               NaN         1.0   \n",
       "67575                 NaN           NaN               NaN         1.0   \n",
       "67576                 NaN           NaN               NaN         0.0   \n",
       "\n",
       "       opp_inhibitors  damagetochampions       dpm  damageshare   \n",
       "67572             0.0              17628  558.4372     0.277716  \\\n",
       "67573             0.0              13080  414.3611     0.206065   \n",
       "67574             0.0              15295  484.5301     0.240961   \n",
       "67575             0.0              13502  427.7297     0.212714   \n",
       "67576             0.0               3970  125.7656     0.062544   \n",
       "\n",
       "       damagetakenperminute  damagemitigatedperminute  wardsplaced     wpm   \n",
       "67572              661.4572                 1947.4974           11  0.3485  \\\n",
       "67573              806.1035                  970.7075           14  0.4435   \n",
       "67574              330.3168                  291.0982           24  0.7603   \n",
       "67575              372.9884                  235.1531           14  0.4435   \n",
       "67576              113.4741                   58.2577           38  1.2038   \n",
       "\n",
       "       wardskilled    wcpm  controlwardsbought  visionscore    vspm   \n",
       "67572           10  0.3168                   6           37  1.1721  \\\n",
       "67573           20  0.6336                  22           63  1.9958   \n",
       "67574            7  0.2218                  13           42  1.3305   \n",
       "67575           15  0.4752                   4           39  1.2355   \n",
       "67576            2  0.0634                  10           66  2.0908   \n",
       "\n",
       "       totalgold  earnedgold  earned gpm  earnedgoldshare  goldspent  gspd   \n",
       "67572      12665        8526    270.0950         0.221542      11800   NaN  \\\n",
       "67573      12416        8277    262.2070         0.215072      11225   NaN   \n",
       "67574      13085        8946    283.4002         0.232456      12475   NaN   \n",
       "67575      13456        9317    295.1531         0.242096      12483   NaN   \n",
       "67576       7558        3419    108.3105         0.088835       6650   NaN   \n",
       "\n",
       "       total cs  minionkills  monsterkills  monsterkillsownjungle   \n",
       "67572     285.0        281.0             4                    NaN  \\\n",
       "67573     214.0         23.0           191                    NaN   \n",
       "67574     293.0        293.0             0                    NaN   \n",
       "67575     310.0        298.0            12                    NaN   \n",
       "67576      11.0         11.0             0                    NaN   \n",
       "\n",
       "       monsterkillsenemyjungle    cspm  goldat10  xpat10  csat10   \n",
       "67572                      NaN  9.0285    3373.0  5212.0    95.0  \\\n",
       "67573                      NaN  6.7793    3334.0  3779.0    78.0   \n",
       "67574                      NaN  9.2819    3526.0  5066.0    99.0   \n",
       "67575                      NaN  9.8205    3403.0  3111.0    83.0   \n",
       "67576                      NaN  0.3485    2109.0  2740.0     4.0   \n",
       "\n",
       "       opp_goldat10  opp_xpat10  opp_csat10  golddiffat10  xpdiffat10   \n",
       "67572        3676.0      5212.0        98.0        -303.0         0.0  \\\n",
       "67573        3256.0      3652.0        71.0          78.0       127.0   \n",
       "67574        3509.0      4208.0        80.0          17.0       858.0   \n",
       "67575        3935.0      3729.0       101.0        -532.0      -618.0   \n",
       "67576        2272.0      2454.0        15.0        -163.0       286.0   \n",
       "\n",
       "       csdiffat10  killsat10  assistsat10  deathsat10  opp_killsat10   \n",
       "67572        -3.0        0.0          0.0         0.0            0.0  \\\n",
       "67573         7.0        0.0          0.0         1.0            0.0   \n",
       "67574        19.0        0.0          0.0         0.0            1.0   \n",
       "67575       -18.0        0.0          0.0         0.0            0.0   \n",
       "67576       -11.0        0.0          0.0         0.0            0.0   \n",
       "\n",
       "       opp_assistsat10  opp_deathsat10  goldat15  xpat15  csat15   \n",
       "67572              0.0             0.0    5153.0  8046.0   146.0  \\\n",
       "67573              0.0             0.0    4884.0  5891.0   117.0   \n",
       "67574              0.0             0.0    5425.0  8471.0   163.0   \n",
       "67575              0.0             0.0    5309.0  5166.0   142.0   \n",
       "67576              1.0             0.0    2936.0  4236.0     6.0   \n",
       "\n",
       "       opp_goldat15  opp_xpat15  opp_csat15  golddiffat15  xpdiffat15   \n",
       "67572        5274.0      7985.0       147.0        -121.0        61.0  \\\n",
       "67573        5011.0      5448.0       106.0        -127.0       443.0   \n",
       "67574        5265.0      7040.0       134.0         160.0      1431.0   \n",
       "67575        5674.0      6162.0       155.0        -365.0      -996.0   \n",
       "67576        3152.0      3303.0        21.0        -216.0       933.0   \n",
       "\n",
       "       csdiffat15  killsat15  assistsat15  deathsat15  opp_killsat15   \n",
       "67572        -1.0        0.0          0.0         0.0            0.0  \\\n",
       "67573        11.0        0.0          0.0         1.0            0.0   \n",
       "67574        29.0        0.0          0.0         0.0            1.0   \n",
       "67575       -13.0        0.0          0.0         0.0            0.0   \n",
       "67576       -15.0        0.0          0.0         0.0            0.0   \n",
       "\n",
       "       opp_assistsat15  opp_deathsat15   kda   kd         gpm       gdpm   \n",
       "67572              0.0             0.0  11.0  2.0  401.214361  53.315734  \\\n",
       "67573              0.0             0.0  10.0  5.0  393.326294  61.805702   \n",
       "67574              0.0             0.0   6.0  1.0  414.519535  47.771911   \n",
       "67575              0.0             0.0   5.0  2.0  426.272439  14.128828   \n",
       "67576              1.0             0.0   9.0  1.0  239.429778  35.100317   \n",
       "\n",
       "       goldshare  \n",
       "67572   0.214008  \n",
       "67573   0.209801  \n",
       "67574   0.221105  \n",
       "67575   0.227374  \n",
       "67576   0.127712  "
      ]
     },
     "execution_count": 17,
     "metadata": {},
     "output_type": "execute_result"
    }
   ],
   "source": [
    "players_data = matches.loc[~matches[\"playername\"].isna()]\n",
    "players_data.head()"
   ]
  },
  {
   "cell_type": "code",
   "execution_count": 18,
   "metadata": {},
   "outputs": [
    {
     "data": {
      "text/plain": [
       "67579     5.0\n",
       "67622     7.0\n",
       "67623     8.0\n",
       "67624     9.0\n",
       "67680     6.0\n",
       "         ... \n",
       "74418     9.0\n",
       "74420    10.0\n",
       "74421     7.0\n",
       "74515     7.0\n",
       "74517     9.0\n",
       "Name: kda, Length: 100, dtype: float64"
      ]
     },
     "execution_count": 18,
     "metadata": {},
     "output_type": "execute_result"
    }
   ],
   "source": [
    "cond = np.isinf(players_data[\"kda\"])\n",
    "players_data.loc[cond, \"kda\"] = players_data.loc[cond, [\"kills\", \"assists\"]].sum(axis=1)\n",
    "players_data.loc[cond, \"kda\"]"
   ]
  },
  {
   "cell_type": "code",
   "execution_count": 19,
   "metadata": {},
   "outputs": [
    {
     "data": {
      "text/html": [
       "<div>\n",
       "<style scoped>\n",
       "    .dataframe tbody tr th:only-of-type {\n",
       "        vertical-align: middle;\n",
       "    }\n",
       "\n",
       "    .dataframe tbody tr th {\n",
       "        vertical-align: top;\n",
       "    }\n",
       "\n",
       "    .dataframe thead th {\n",
       "        text-align: right;\n",
       "    }\n",
       "</style>\n",
       "<table border=\"1\" class=\"dataframe\">\n",
       "  <thead>\n",
       "    <tr style=\"text-align: right;\">\n",
       "      <th></th>\n",
       "      <th></th>\n",
       "      <th>playerid</th>\n",
       "      <th>Team</th>\n",
       "      <th>kills</th>\n",
       "      <th>deaths</th>\n",
       "      <th>assists</th>\n",
       "      <th>kda</th>\n",
       "      <th>doublekills</th>\n",
       "      <th>triplekills</th>\n",
       "      <th>quadrakills</th>\n",
       "      <th>pentakills</th>\n",
       "      <th>firstblood</th>\n",
       "      <th>firstbloodvictim</th>\n",
       "      <th>dpm</th>\n",
       "      <th>damageshare</th>\n",
       "      <th>damagetakenperminute</th>\n",
       "      <th>wpm</th>\n",
       "      <th>wcpm</th>\n",
       "      <th>controlwardsbought</th>\n",
       "      <th>vspm</th>\n",
       "      <th>gpm</th>\n",
       "      <th>gdpm</th>\n",
       "      <th>goldshare</th>\n",
       "      <th>cspm</th>\n",
       "      <th>golddiffat10</th>\n",
       "      <th>xpdiffat10</th>\n",
       "      <th>csdiffat10</th>\n",
       "      <th>golddiffat15</th>\n",
       "      <th>xpdiffat15</th>\n",
       "      <th>csdiffat15</th>\n",
       "      <th>champions</th>\n",
       "    </tr>\n",
       "    <tr>\n",
       "      <th>Player</th>\n",
       "      <th>position</th>\n",
       "      <th></th>\n",
       "      <th></th>\n",
       "      <th></th>\n",
       "      <th></th>\n",
       "      <th></th>\n",
       "      <th></th>\n",
       "      <th></th>\n",
       "      <th></th>\n",
       "      <th></th>\n",
       "      <th></th>\n",
       "      <th></th>\n",
       "      <th></th>\n",
       "      <th></th>\n",
       "      <th></th>\n",
       "      <th></th>\n",
       "      <th></th>\n",
       "      <th></th>\n",
       "      <th></th>\n",
       "      <th></th>\n",
       "      <th></th>\n",
       "      <th></th>\n",
       "      <th></th>\n",
       "      <th></th>\n",
       "      <th></th>\n",
       "      <th></th>\n",
       "      <th></th>\n",
       "      <th></th>\n",
       "      <th></th>\n",
       "      <th></th>\n",
       "      <th></th>\n",
       "    </tr>\n",
       "  </thead>\n",
       "  <tbody>\n",
       "    <tr>\n",
       "      <th>BeryL</th>\n",
       "      <th>sup</th>\n",
       "      <td>oe:player:dee54127bb56d2e2540ba71cc416f1c</td>\n",
       "      <td>DRX</td>\n",
       "      <td>0.000000</td>\n",
       "      <td>3.333333</td>\n",
       "      <td>4.222222</td>\n",
       "      <td>1.777778</td>\n",
       "      <td>0.000000</td>\n",
       "      <td>0.000000</td>\n",
       "      <td>0.0</td>\n",
       "      <td>0.0</td>\n",
       "      <td>0.000000</td>\n",
       "      <td>0.111111</td>\n",
       "      <td>195.058722</td>\n",
       "      <td>0.096427</td>\n",
       "      <td>394.196222</td>\n",
       "      <td>1.546322</td>\n",
       "      <td>0.329189</td>\n",
       "      <td>14.000000</td>\n",
       "      <td>2.744944</td>\n",
       "      <td>215.134230</td>\n",
       "      <td>-42.647303</td>\n",
       "      <td>0.137262</td>\n",
       "      <td>1.130133</td>\n",
       "      <td>-67.333333</td>\n",
       "      <td>31.666667</td>\n",
       "      <td>-1.777778</td>\n",
       "      <td>-150.000000</td>\n",
       "      <td>221.777778</td>\n",
       "      <td>-1.444444</td>\n",
       "      <td>6</td>\n",
       "    </tr>\n",
       "    <tr>\n",
       "      <th>Rascal</th>\n",
       "      <th>top</th>\n",
       "      <td>oe:player:9daf04bfd9c8815cc827414f59f45af</td>\n",
       "      <td>DRX</td>\n",
       "      <td>1.333333</td>\n",
       "      <td>3.222222</td>\n",
       "      <td>3.000000</td>\n",
       "      <td>1.468519</td>\n",
       "      <td>0.000000</td>\n",
       "      <td>0.000000</td>\n",
       "      <td>0.0</td>\n",
       "      <td>0.0</td>\n",
       "      <td>0.111111</td>\n",
       "      <td>0.222222</td>\n",
       "      <td>419.383456</td>\n",
       "      <td>0.223373</td>\n",
       "      <td>946.776689</td>\n",
       "      <td>0.373122</td>\n",
       "      <td>0.243567</td>\n",
       "      <td>5.444444</td>\n",
       "      <td>1.018311</td>\n",
       "      <td>349.950537</td>\n",
       "      <td>-70.868877</td>\n",
       "      <td>0.222254</td>\n",
       "      <td>7.544422</td>\n",
       "      <td>-242.222222</td>\n",
       "      <td>-187.777778</td>\n",
       "      <td>-6.666667</td>\n",
       "      <td>-550.777778</td>\n",
       "      <td>-297.555556</td>\n",
       "      <td>-6.222222</td>\n",
       "      <td>5</td>\n",
       "    </tr>\n",
       "    <tr>\n",
       "      <th>kyeahoo</th>\n",
       "      <th>mid</th>\n",
       "      <td>oe:player:308e48bf56284c09a1a9aadf55bc80c</td>\n",
       "      <td>DRX</td>\n",
       "      <td>1.666667</td>\n",
       "      <td>2.666667</td>\n",
       "      <td>2.555556</td>\n",
       "      <td>1.638889</td>\n",
       "      <td>0.222222</td>\n",
       "      <td>0.000000</td>\n",
       "      <td>0.0</td>\n",
       "      <td>0.0</td>\n",
       "      <td>0.000000</td>\n",
       "      <td>0.222222</td>\n",
       "      <td>382.023000</td>\n",
       "      <td>0.192527</td>\n",
       "      <td>610.781667</td>\n",
       "      <td>0.555967</td>\n",
       "      <td>0.209711</td>\n",
       "      <td>7.666667</td>\n",
       "      <td>1.224411</td>\n",
       "      <td>325.214902</td>\n",
       "      <td>-100.279910</td>\n",
       "      <td>0.206384</td>\n",
       "      <td>7.462544</td>\n",
       "      <td>-247.000000</td>\n",
       "      <td>6.888889</td>\n",
       "      <td>-0.666667</td>\n",
       "      <td>-795.444444</td>\n",
       "      <td>-125.111111</td>\n",
       "      <td>-8.222222</td>\n",
       "      <td>4</td>\n",
       "    </tr>\n",
       "    <tr>\n",
       "      <th>Paduck</th>\n",
       "      <th>bot</th>\n",
       "      <td>oe:player:326f63d01099f1c8b91620cbc893813</td>\n",
       "      <td>DRX</td>\n",
       "      <td>1.888889</td>\n",
       "      <td>3.333333</td>\n",
       "      <td>2.444444</td>\n",
       "      <td>1.944444</td>\n",
       "      <td>0.333333</td>\n",
       "      <td>0.222222</td>\n",
       "      <td>0.0</td>\n",
       "      <td>0.0</td>\n",
       "      <td>0.000000</td>\n",
       "      <td>0.111111</td>\n",
       "      <td>674.938022</td>\n",
       "      <td>0.343557</td>\n",
       "      <td>463.212622</td>\n",
       "      <td>0.430733</td>\n",
       "      <td>0.306878</td>\n",
       "      <td>4.555556</td>\n",
       "      <td>1.123489</td>\n",
       "      <td>380.594265</td>\n",
       "      <td>-117.710673</td>\n",
       "      <td>0.241751</td>\n",
       "      <td>8.772089</td>\n",
       "      <td>-354.000000</td>\n",
       "      <td>-174.000000</td>\n",
       "      <td>-8.777778</td>\n",
       "      <td>-822.888889</td>\n",
       "      <td>-656.333333</td>\n",
       "      <td>-14.333333</td>\n",
       "      <td>5</td>\n",
       "    </tr>\n",
       "    <tr>\n",
       "      <th>Croco</th>\n",
       "      <th>jng</th>\n",
       "      <td>oe:player:5c6f901a83ec448d51703aebba0ca64</td>\n",
       "      <td>DRX</td>\n",
       "      <td>1.375000</td>\n",
       "      <td>3.750000</td>\n",
       "      <td>3.375000</td>\n",
       "      <td>1.304167</td>\n",
       "      <td>0.250000</td>\n",
       "      <td>0.000000</td>\n",
       "      <td>0.0</td>\n",
       "      <td>0.0</td>\n",
       "      <td>0.125000</td>\n",
       "      <td>0.125000</td>\n",
       "      <td>257.786113</td>\n",
       "      <td>0.130422</td>\n",
       "      <td>878.547987</td>\n",
       "      <td>0.454188</td>\n",
       "      <td>0.385188</td>\n",
       "      <td>11.000000</td>\n",
       "      <td>1.498025</td>\n",
       "      <td>295.084921</td>\n",
       "      <td>-81.404787</td>\n",
       "      <td>0.187163</td>\n",
       "      <td>4.978525</td>\n",
       "      <td>-323.500000</td>\n",
       "      <td>-342.750000</td>\n",
       "      <td>-11.750000</td>\n",
       "      <td>-737.875000</td>\n",
       "      <td>-449.875000</td>\n",
       "      <td>-16.750000</td>\n",
       "      <td>6</td>\n",
       "    </tr>\n",
       "  </tbody>\n",
       "</table>\n",
       "</div>"
      ],
      "text/plain": [
       "                                                   playerid Team     kills   \n",
       "Player  position                                                             \n",
       "BeryL   sup       oe:player:dee54127bb56d2e2540ba71cc416f1c  DRX  0.000000  \\\n",
       "Rascal  top       oe:player:9daf04bfd9c8815cc827414f59f45af  DRX  1.333333   \n",
       "kyeahoo mid       oe:player:308e48bf56284c09a1a9aadf55bc80c  DRX  1.666667   \n",
       "Paduck  bot       oe:player:326f63d01099f1c8b91620cbc893813  DRX  1.888889   \n",
       "Croco   jng       oe:player:5c6f901a83ec448d51703aebba0ca64  DRX  1.375000   \n",
       "\n",
       "                    deaths   assists       kda  doublekills  triplekills   \n",
       "Player  position                                                           \n",
       "BeryL   sup       3.333333  4.222222  1.777778     0.000000     0.000000  \\\n",
       "Rascal  top       3.222222  3.000000  1.468519     0.000000     0.000000   \n",
       "kyeahoo mid       2.666667  2.555556  1.638889     0.222222     0.000000   \n",
       "Paduck  bot       3.333333  2.444444  1.944444     0.333333     0.222222   \n",
       "Croco   jng       3.750000  3.375000  1.304167     0.250000     0.000000   \n",
       "\n",
       "                  quadrakills  pentakills  firstblood  firstbloodvictim   \n",
       "Player  position                                                          \n",
       "BeryL   sup               0.0         0.0    0.000000          0.111111  \\\n",
       "Rascal  top               0.0         0.0    0.111111          0.222222   \n",
       "kyeahoo mid               0.0         0.0    0.000000          0.222222   \n",
       "Paduck  bot               0.0         0.0    0.000000          0.111111   \n",
       "Croco   jng               0.0         0.0    0.125000          0.125000   \n",
       "\n",
       "                         dpm  damageshare  damagetakenperminute       wpm   \n",
       "Player  position                                                            \n",
       "BeryL   sup       195.058722     0.096427            394.196222  1.546322  \\\n",
       "Rascal  top       419.383456     0.223373            946.776689  0.373122   \n",
       "kyeahoo mid       382.023000     0.192527            610.781667  0.555967   \n",
       "Paduck  bot       674.938022     0.343557            463.212622  0.430733   \n",
       "Croco   jng       257.786113     0.130422            878.547987  0.454188   \n",
       "\n",
       "                      wcpm  controlwardsbought      vspm         gpm   \n",
       "Player  position                                                       \n",
       "BeryL   sup       0.329189           14.000000  2.744944  215.134230  \\\n",
       "Rascal  top       0.243567            5.444444  1.018311  349.950537   \n",
       "kyeahoo mid       0.209711            7.666667  1.224411  325.214902   \n",
       "Paduck  bot       0.306878            4.555556  1.123489  380.594265   \n",
       "Croco   jng       0.385188           11.000000  1.498025  295.084921   \n",
       "\n",
       "                        gdpm  goldshare      cspm  golddiffat10  xpdiffat10   \n",
       "Player  position                                                              \n",
       "BeryL   sup       -42.647303   0.137262  1.130133    -67.333333   31.666667  \\\n",
       "Rascal  top       -70.868877   0.222254  7.544422   -242.222222 -187.777778   \n",
       "kyeahoo mid      -100.279910   0.206384  7.462544   -247.000000    6.888889   \n",
       "Paduck  bot      -117.710673   0.241751  8.772089   -354.000000 -174.000000   \n",
       "Croco   jng       -81.404787   0.187163  4.978525   -323.500000 -342.750000   \n",
       "\n",
       "                  csdiffat10  golddiffat15  xpdiffat15  csdiffat15  champions  \n",
       "Player  position                                                               \n",
       "BeryL   sup        -1.777778   -150.000000  221.777778   -1.444444          6  \n",
       "Rascal  top        -6.666667   -550.777778 -297.555556   -6.222222          5  \n",
       "kyeahoo mid        -0.666667   -795.444444 -125.111111   -8.222222          4  \n",
       "Paduck  bot        -8.777778   -822.888889 -656.333333  -14.333333          5  \n",
       "Croco   jng       -11.750000   -737.875000 -449.875000  -16.750000          6  "
      ]
     },
     "execution_count": 19,
     "metadata": {},
     "output_type": "execute_result"
    }
   ],
   "source": [
    "groupby = players_data.groupby([\"playerid\", \"position\"])\n",
    "idx = groupby.groups.keys()\n",
    "idx = pd.MultiIndex.from_tuples(idx, names=[\"playerid\", \"position\"])\n",
    "players_stats = pd.DataFrame(index=idx)\n",
    "players_stats[[\"Player\", \"Team\"]] = groupby.last()[[\"playername\", \"teamname\"]]\n",
    "\n",
    "mean_columns = [\n",
    "    \"kills\",\n",
    "    \"deaths\",\n",
    "    \"assists\",\n",
    "    \"kda\",\n",
    "    \"doublekills\",\n",
    "    \"triplekills\",\n",
    "    \"quadrakills\",\n",
    "    \"pentakills\",\n",
    "    \"firstblood\",\n",
    "    \"firstbloodvictim\",\n",
    "    \"dpm\",\n",
    "    \"damageshare\",\n",
    "    \"damagetakenperminute\",\n",
    "    \"wpm\",\n",
    "    \"wcpm\",\n",
    "    \"controlwardsbought\",\n",
    "    \"vspm\",\n",
    "    \"gpm\",\n",
    "    \"gdpm\",\n",
    "    \"goldshare\",\n",
    "    \"cspm\",\n",
    "    \"golddiffat10\",\n",
    "    \"xpdiffat10\",\n",
    "    \"csdiffat10\",\n",
    "    \"golddiffat15\",\n",
    "    \"xpdiffat15\",\n",
    "    \"csdiffat15\",\n",
    "]\n",
    "num_columns = [\"champion\"]\n",
    "\n",
    "players_stats[mean_columns] = groupby[mean_columns].mean()\n",
    "players_stats[\"champions\"] = groupby[\"champion\"].nunique()\n",
    "players_stats = (\n",
    "    players_stats.reset_index().set_index([\"Player\", \"position\"]).sort_values(\"Team\")\n",
    ")\n",
    "players_stats.head()"
   ]
  },
  {
   "cell_type": "code",
   "execution_count": 20,
   "metadata": {},
   "outputs": [],
   "source": [
    "origin_columns = {\n",
    "    \"combat\": [\n",
    "        \"kills\",\n",
    "        \"deaths\",\n",
    "        \"assists\",\n",
    "        \"kda\",\n",
    "        # \"doublekills\",\n",
    "        # \"triplekills\",\n",
    "        # \"quadrakills\",\n",
    "        # \"pentakills\",\n",
    "        \"dpm\",\n",
    "        \"damageshare\",\n",
    "        \"damagetakenperminute\",\n",
    "    ],\n",
    "    \"macro\": [\n",
    "        \"firstblood\",\n",
    "        \"firstbloodvictim\",\n",
    "        \"wpm\",\n",
    "        \"wcpm\",\n",
    "        \"controlwardsbought\",\n",
    "        \"vspm\",\n",
    "        \"gpm\",\n",
    "        \"gdpm\",\n",
    "        \"goldshare\",\n",
    "        \"cspm\",\n",
    "        \"champions\",\n",
    "    ],\n",
    "    \"early\": [\n",
    "        \"golddiffat10\",\n",
    "        \"xpdiffat10\",\n",
    "        \"csdiffat10\",\n",
    "        \"golddiffat15\",\n",
    "        \"xpdiffat15\",\n",
    "        \"csdiffat15\",\n",
    "    ],\n",
    "}\n",
    "columns = {}\n",
    "rank_columns = {}\n",
    "positions = [\"top\", \"jng\", \"mid\", \"bot\", \"sup\"]"
   ]
  },
  {
   "cell_type": "code",
   "execution_count": 32,
   "metadata": {},
   "outputs": [
    {
     "data": {
      "text/html": [
       "<div>\n",
       "<style scoped>\n",
       "    .dataframe tbody tr th:only-of-type {\n",
       "        vertical-align: middle;\n",
       "    }\n",
       "\n",
       "    .dataframe tbody tr th {\n",
       "        vertical-align: top;\n",
       "    }\n",
       "\n",
       "    .dataframe thead th {\n",
       "        text-align: right;\n",
       "    }\n",
       "</style>\n",
       "<table border=\"1\" class=\"dataframe\">\n",
       "  <thead>\n",
       "    <tr style=\"text-align: right;\">\n",
       "      <th></th>\n",
       "      <th></th>\n",
       "      <th>playerid</th>\n",
       "      <th>Team</th>\n",
       "      <th>kills</th>\n",
       "      <th>deaths</th>\n",
       "      <th>assists</th>\n",
       "      <th>kda</th>\n",
       "      <th>doublekills</th>\n",
       "      <th>triplekills</th>\n",
       "      <th>quadrakills</th>\n",
       "      <th>pentakills</th>\n",
       "      <th>firstblood</th>\n",
       "      <th>firstbloodvictim</th>\n",
       "      <th>dpm</th>\n",
       "      <th>damageshare</th>\n",
       "      <th>damagetakenperminute</th>\n",
       "      <th>wpm</th>\n",
       "      <th>wcpm</th>\n",
       "      <th>controlwardsbought</th>\n",
       "      <th>vspm</th>\n",
       "      <th>gpm</th>\n",
       "      <th>gdpm</th>\n",
       "      <th>goldshare</th>\n",
       "      <th>cspm</th>\n",
       "      <th>golddiffat10</th>\n",
       "      <th>xpdiffat10</th>\n",
       "      <th>csdiffat10</th>\n",
       "      <th>golddiffat15</th>\n",
       "      <th>xpdiffat15</th>\n",
       "      <th>csdiffat15</th>\n",
       "      <th>champions</th>\n",
       "      <th>_kills</th>\n",
       "      <th>_deaths</th>\n",
       "      <th>_assists</th>\n",
       "      <th>_kda</th>\n",
       "      <th>_dpm</th>\n",
       "      <th>_damageshare</th>\n",
       "      <th>_damagetakenperminute</th>\n",
       "      <th>kills_rank</th>\n",
       "      <th>deaths_rank</th>\n",
       "      <th>assists_rank</th>\n",
       "      <th>kda_rank</th>\n",
       "      <th>dpm_rank</th>\n",
       "      <th>damageshare_rank</th>\n",
       "      <th>damagetakenperminute_rank</th>\n",
       "      <th>_firstblood</th>\n",
       "      <th>_firstbloodvictim</th>\n",
       "      <th>_wpm</th>\n",
       "      <th>_wcpm</th>\n",
       "      <th>_controlwardsbought</th>\n",
       "      <th>_vspm</th>\n",
       "      <th>_gpm</th>\n",
       "      <th>_gdpm</th>\n",
       "      <th>_goldshare</th>\n",
       "      <th>_cspm</th>\n",
       "      <th>_champions</th>\n",
       "      <th>firstblood_rank</th>\n",
       "      <th>firstbloodvictim_rank</th>\n",
       "      <th>wpm_rank</th>\n",
       "      <th>wcpm_rank</th>\n",
       "      <th>controlwardsbought_rank</th>\n",
       "      <th>vspm_rank</th>\n",
       "      <th>gpm_rank</th>\n",
       "      <th>gdpm_rank</th>\n",
       "      <th>goldshare_rank</th>\n",
       "      <th>cspm_rank</th>\n",
       "      <th>champions_rank</th>\n",
       "      <th>_golddiffat10</th>\n",
       "      <th>_xpdiffat10</th>\n",
       "      <th>_csdiffat10</th>\n",
       "      <th>_golddiffat15</th>\n",
       "      <th>_xpdiffat15</th>\n",
       "      <th>_csdiffat15</th>\n",
       "      <th>golddiffat10_rank</th>\n",
       "      <th>xpdiffat10_rank</th>\n",
       "      <th>csdiffat10_rank</th>\n",
       "      <th>golddiffat15_rank</th>\n",
       "      <th>xpdiffat15_rank</th>\n",
       "      <th>csdiffat15_rank</th>\n",
       "    </tr>\n",
       "    <tr>\n",
       "      <th>Player</th>\n",
       "      <th>position</th>\n",
       "      <th></th>\n",
       "      <th></th>\n",
       "      <th></th>\n",
       "      <th></th>\n",
       "      <th></th>\n",
       "      <th></th>\n",
       "      <th></th>\n",
       "      <th></th>\n",
       "      <th></th>\n",
       "      <th></th>\n",
       "      <th></th>\n",
       "      <th></th>\n",
       "      <th></th>\n",
       "      <th></th>\n",
       "      <th></th>\n",
       "      <th></th>\n",
       "      <th></th>\n",
       "      <th></th>\n",
       "      <th></th>\n",
       "      <th></th>\n",
       "      <th></th>\n",
       "      <th></th>\n",
       "      <th></th>\n",
       "      <th></th>\n",
       "      <th></th>\n",
       "      <th></th>\n",
       "      <th></th>\n",
       "      <th></th>\n",
       "      <th></th>\n",
       "      <th></th>\n",
       "      <th></th>\n",
       "      <th></th>\n",
       "      <th></th>\n",
       "      <th></th>\n",
       "      <th></th>\n",
       "      <th></th>\n",
       "      <th></th>\n",
       "      <th></th>\n",
       "      <th></th>\n",
       "      <th></th>\n",
       "      <th></th>\n",
       "      <th></th>\n",
       "      <th></th>\n",
       "      <th></th>\n",
       "      <th></th>\n",
       "      <th></th>\n",
       "      <th></th>\n",
       "      <th></th>\n",
       "      <th></th>\n",
       "      <th></th>\n",
       "      <th></th>\n",
       "      <th></th>\n",
       "      <th></th>\n",
       "      <th></th>\n",
       "      <th></th>\n",
       "      <th></th>\n",
       "      <th></th>\n",
       "      <th></th>\n",
       "      <th></th>\n",
       "      <th></th>\n",
       "      <th></th>\n",
       "      <th></th>\n",
       "      <th></th>\n",
       "      <th></th>\n",
       "      <th></th>\n",
       "      <th></th>\n",
       "      <th></th>\n",
       "      <th></th>\n",
       "      <th></th>\n",
       "      <th></th>\n",
       "      <th></th>\n",
       "      <th></th>\n",
       "      <th></th>\n",
       "      <th></th>\n",
       "      <th></th>\n",
       "      <th></th>\n",
       "      <th></th>\n",
       "      <th></th>\n",
       "    </tr>\n",
       "  </thead>\n",
       "  <tbody>\n",
       "    <tr>\n",
       "      <th>BeryL</th>\n",
       "      <th>sup</th>\n",
       "      <td>oe:player:dee54127bb56d2e2540ba71cc416f1c</td>\n",
       "      <td>DRX</td>\n",
       "      <td>0.000000</td>\n",
       "      <td>3.333333</td>\n",
       "      <td>4.222222</td>\n",
       "      <td>1.777778</td>\n",
       "      <td>0.000000</td>\n",
       "      <td>0.000000</td>\n",
       "      <td>0.0</td>\n",
       "      <td>0.0</td>\n",
       "      <td>0.000000</td>\n",
       "      <td>0.111111</td>\n",
       "      <td>195.058722</td>\n",
       "      <td>0.096427</td>\n",
       "      <td>394.196222</td>\n",
       "      <td>1.546322</td>\n",
       "      <td>0.329189</td>\n",
       "      <td>14.000000</td>\n",
       "      <td>2.744944</td>\n",
       "      <td>215.134230</td>\n",
       "      <td>-42.647303</td>\n",
       "      <td>0.137262</td>\n",
       "      <td>1.130133</td>\n",
       "      <td>-67.333333</td>\n",
       "      <td>31.666667</td>\n",
       "      <td>-1.777778</td>\n",
       "      <td>-150.000000</td>\n",
       "      <td>221.777778</td>\n",
       "      <td>-1.444444</td>\n",
       "      <td>6</td>\n",
       "      <td>0.000000</td>\n",
       "      <td>1.000000</td>\n",
       "      <td>0.148746</td>\n",
       "      <td>0.000000</td>\n",
       "      <td>1.000000</td>\n",
       "      <td>1.000000</td>\n",
       "      <td>1.000000</td>\n",
       "      <td>1.000000</td>\n",
       "      <td>0.0</td>\n",
       "      <td>0.777778</td>\n",
       "      <td>1.0</td>\n",
       "      <td>0.000000</td>\n",
       "      <td>0.000000</td>\n",
       "      <td>0.000000</td>\n",
       "      <td>0.000000</td>\n",
       "      <td>0.370370</td>\n",
       "      <td>0.396939</td>\n",
       "      <td>1.000000</td>\n",
       "      <td>0.609929</td>\n",
       "      <td>0.405211</td>\n",
       "      <td>0.028301</td>\n",
       "      <td>0.0</td>\n",
       "      <td>1.000000</td>\n",
       "      <td>1.000000</td>\n",
       "      <td>1.000000</td>\n",
       "      <td>1.000</td>\n",
       "      <td>0.333333</td>\n",
       "      <td>0.666667</td>\n",
       "      <td>0.000000</td>\n",
       "      <td>0.333333</td>\n",
       "      <td>0.555556</td>\n",
       "      <td>0.888889</td>\n",
       "      <td>1.0</td>\n",
       "      <td>0.000000</td>\n",
       "      <td>0.000000</td>\n",
       "      <td>0.000000</td>\n",
       "      <td>0.180976</td>\n",
       "      <td>0.538382</td>\n",
       "      <td>0.228482</td>\n",
       "      <td>0.260985</td>\n",
       "      <td>0.765373</td>\n",
       "      <td>0.266314</td>\n",
       "      <td>0.888889</td>\n",
       "      <td>0.444444</td>\n",
       "      <td>0.777778</td>\n",
       "      <td>0.777778</td>\n",
       "      <td>0.222222</td>\n",
       "      <td>0.777778</td>\n",
       "    </tr>\n",
       "    <tr>\n",
       "      <th>Rascal</th>\n",
       "      <th>top</th>\n",
       "      <td>oe:player:9daf04bfd9c8815cc827414f59f45af</td>\n",
       "      <td>DRX</td>\n",
       "      <td>1.333333</td>\n",
       "      <td>3.222222</td>\n",
       "      <td>3.000000</td>\n",
       "      <td>1.468519</td>\n",
       "      <td>0.000000</td>\n",
       "      <td>0.000000</td>\n",
       "      <td>0.0</td>\n",
       "      <td>0.0</td>\n",
       "      <td>0.111111</td>\n",
       "      <td>0.222222</td>\n",
       "      <td>419.383456</td>\n",
       "      <td>0.223373</td>\n",
       "      <td>946.776689</td>\n",
       "      <td>0.373122</td>\n",
       "      <td>0.243567</td>\n",
       "      <td>5.444444</td>\n",
       "      <td>1.018311</td>\n",
       "      <td>349.950537</td>\n",
       "      <td>-70.868877</td>\n",
       "      <td>0.222254</td>\n",
       "      <td>7.544422</td>\n",
       "      <td>-242.222222</td>\n",
       "      <td>-187.777778</td>\n",
       "      <td>-6.666667</td>\n",
       "      <td>-550.777778</td>\n",
       "      <td>-297.555556</td>\n",
       "      <td>-6.222222</td>\n",
       "      <td>5</td>\n",
       "      <td>0.242424</td>\n",
       "      <td>1.000000</td>\n",
       "      <td>0.291545</td>\n",
       "      <td>0.000000</td>\n",
       "      <td>0.162074</td>\n",
       "      <td>0.239258</td>\n",
       "      <td>0.881297</td>\n",
       "      <td>0.444444</td>\n",
       "      <td>0.0</td>\n",
       "      <td>0.666667</td>\n",
       "      <td>1.0</td>\n",
       "      <td>0.888889</td>\n",
       "      <td>0.555556</td>\n",
       "      <td>0.111111</td>\n",
       "      <td>0.277778</td>\n",
       "      <td>0.555556</td>\n",
       "      <td>0.316455</td>\n",
       "      <td>0.856309</td>\n",
       "      <td>0.271111</td>\n",
       "      <td>0.347507</td>\n",
       "      <td>0.125217</td>\n",
       "      <td>0.0</td>\n",
       "      <td>0.869864</td>\n",
       "      <td>0.031241</td>\n",
       "      <td>0.333333</td>\n",
       "      <td>0.625</td>\n",
       "      <td>0.571429</td>\n",
       "      <td>0.777778</td>\n",
       "      <td>0.111111</td>\n",
       "      <td>0.666667</td>\n",
       "      <td>0.444444</td>\n",
       "      <td>0.888889</td>\n",
       "      <td>1.0</td>\n",
       "      <td>0.222222</td>\n",
       "      <td>0.888889</td>\n",
       "      <td>0.666667</td>\n",
       "      <td>0.082431</td>\n",
       "      <td>0.088564</td>\n",
       "      <td>0.000000</td>\n",
       "      <td>0.004686</td>\n",
       "      <td>0.220418</td>\n",
       "      <td>0.132227</td>\n",
       "      <td>0.888889</td>\n",
       "      <td>0.888889</td>\n",
       "      <td>1.000000</td>\n",
       "      <td>0.888889</td>\n",
       "      <td>0.666667</td>\n",
       "      <td>0.666667</td>\n",
       "    </tr>\n",
       "    <tr>\n",
       "      <th>kyeahoo</th>\n",
       "      <th>mid</th>\n",
       "      <td>oe:player:308e48bf56284c09a1a9aadf55bc80c</td>\n",
       "      <td>DRX</td>\n",
       "      <td>1.666667</td>\n",
       "      <td>2.666667</td>\n",
       "      <td>2.555556</td>\n",
       "      <td>1.638889</td>\n",
       "      <td>0.222222</td>\n",
       "      <td>0.000000</td>\n",
       "      <td>0.0</td>\n",
       "      <td>0.0</td>\n",
       "      <td>0.000000</td>\n",
       "      <td>0.222222</td>\n",
       "      <td>382.023000</td>\n",
       "      <td>0.192527</td>\n",
       "      <td>610.781667</td>\n",
       "      <td>0.555967</td>\n",
       "      <td>0.209711</td>\n",
       "      <td>7.666667</td>\n",
       "      <td>1.224411</td>\n",
       "      <td>325.214902</td>\n",
       "      <td>-100.279910</td>\n",
       "      <td>0.206384</td>\n",
       "      <td>7.462544</td>\n",
       "      <td>-247.000000</td>\n",
       "      <td>6.888889</td>\n",
       "      <td>-0.666667</td>\n",
       "      <td>-795.444444</td>\n",
       "      <td>-125.111111</td>\n",
       "      <td>-8.222222</td>\n",
       "      <td>4</td>\n",
       "      <td>0.346667</td>\n",
       "      <td>0.929825</td>\n",
       "      <td>0.171717</td>\n",
       "      <td>0.028195</td>\n",
       "      <td>0.115953</td>\n",
       "      <td>0.000000</td>\n",
       "      <td>1.000000</td>\n",
       "      <td>0.600000</td>\n",
       "      <td>0.1</td>\n",
       "      <td>0.900000</td>\n",
       "      <td>0.9</td>\n",
       "      <td>0.700000</td>\n",
       "      <td>1.000000</td>\n",
       "      <td>0.000000</td>\n",
       "      <td>0.000000</td>\n",
       "      <td>0.888889</td>\n",
       "      <td>0.996503</td>\n",
       "      <td>0.376898</td>\n",
       "      <td>0.760274</td>\n",
       "      <td>0.529531</td>\n",
       "      <td>0.000000</td>\n",
       "      <td>0.0</td>\n",
       "      <td>0.000000</td>\n",
       "      <td>0.000000</td>\n",
       "      <td>0.500000</td>\n",
       "      <td>1.000</td>\n",
       "      <td>0.333333</td>\n",
       "      <td>0.100000</td>\n",
       "      <td>0.800000</td>\n",
       "      <td>0.300000</td>\n",
       "      <td>0.500000</td>\n",
       "      <td>1.000000</td>\n",
       "      <td>1.0</td>\n",
       "      <td>1.000000</td>\n",
       "      <td>1.000000</td>\n",
       "      <td>0.777778</td>\n",
       "      <td>0.000000</td>\n",
       "      <td>0.598205</td>\n",
       "      <td>0.547264</td>\n",
       "      <td>0.000000</td>\n",
       "      <td>0.268159</td>\n",
       "      <td>0.299932</td>\n",
       "      <td>1.000000</td>\n",
       "      <td>0.300000</td>\n",
       "      <td>0.500000</td>\n",
       "      <td>1.000000</td>\n",
       "      <td>0.600000</td>\n",
       "      <td>0.800000</td>\n",
       "    </tr>\n",
       "    <tr>\n",
       "      <th>Paduck</th>\n",
       "      <th>bot</th>\n",
       "      <td>oe:player:326f63d01099f1c8b91620cbc893813</td>\n",
       "      <td>DRX</td>\n",
       "      <td>1.888889</td>\n",
       "      <td>3.333333</td>\n",
       "      <td>2.444444</td>\n",
       "      <td>1.944444</td>\n",
       "      <td>0.333333</td>\n",
       "      <td>0.222222</td>\n",
       "      <td>0.0</td>\n",
       "      <td>0.0</td>\n",
       "      <td>0.000000</td>\n",
       "      <td>0.111111</td>\n",
       "      <td>674.938022</td>\n",
       "      <td>0.343557</td>\n",
       "      <td>463.212622</td>\n",
       "      <td>0.430733</td>\n",
       "      <td>0.306878</td>\n",
       "      <td>4.555556</td>\n",
       "      <td>1.123489</td>\n",
       "      <td>380.594265</td>\n",
       "      <td>-117.710673</td>\n",
       "      <td>0.241751</td>\n",
       "      <td>8.772089</td>\n",
       "      <td>-354.000000</td>\n",
       "      <td>-174.000000</td>\n",
       "      <td>-8.777778</td>\n",
       "      <td>-822.888889</td>\n",
       "      <td>-656.333333</td>\n",
       "      <td>-14.333333</td>\n",
       "      <td>5</td>\n",
       "      <td>0.019204</td>\n",
       "      <td>1.000000</td>\n",
       "      <td>0.303030</td>\n",
       "      <td>0.000000</td>\n",
       "      <td>0.676838</td>\n",
       "      <td>1.000000</td>\n",
       "      <td>0.650205</td>\n",
       "      <td>0.909091</td>\n",
       "      <td>0.0</td>\n",
       "      <td>0.636364</td>\n",
       "      <td>1.0</td>\n",
       "      <td>0.272727</td>\n",
       "      <td>0.000000</td>\n",
       "      <td>0.272727</td>\n",
       "      <td>0.000000</td>\n",
       "      <td>0.777778</td>\n",
       "      <td>0.071081</td>\n",
       "      <td>0.000000</td>\n",
       "      <td>0.182099</td>\n",
       "      <td>0.000000</td>\n",
       "      <td>0.000000</td>\n",
       "      <td>0.0</td>\n",
       "      <td>0.119203</td>\n",
       "      <td>0.000000</td>\n",
       "      <td>0.750000</td>\n",
       "      <td>1.000</td>\n",
       "      <td>0.333333</td>\n",
       "      <td>0.727273</td>\n",
       "      <td>1.000000</td>\n",
       "      <td>0.727273</td>\n",
       "      <td>1.000000</td>\n",
       "      <td>1.000000</td>\n",
       "      <td>1.0</td>\n",
       "      <td>0.909091</td>\n",
       "      <td>1.000000</td>\n",
       "      <td>0.400000</td>\n",
       "      <td>0.229124</td>\n",
       "      <td>0.118706</td>\n",
       "      <td>0.000000</td>\n",
       "      <td>0.000000</td>\n",
       "      <td>0.074475</td>\n",
       "      <td>0.109573</td>\n",
       "      <td>0.909091</td>\n",
       "      <td>0.727273</td>\n",
       "      <td>1.000000</td>\n",
       "      <td>1.000000</td>\n",
       "      <td>0.909091</td>\n",
       "      <td>0.909091</td>\n",
       "    </tr>\n",
       "    <tr>\n",
       "      <th>Croco</th>\n",
       "      <th>jng</th>\n",
       "      <td>oe:player:5c6f901a83ec448d51703aebba0ca64</td>\n",
       "      <td>DRX</td>\n",
       "      <td>1.375000</td>\n",
       "      <td>3.750000</td>\n",
       "      <td>3.375000</td>\n",
       "      <td>1.304167</td>\n",
       "      <td>0.250000</td>\n",
       "      <td>0.000000</td>\n",
       "      <td>0.0</td>\n",
       "      <td>0.0</td>\n",
       "      <td>0.125000</td>\n",
       "      <td>0.125000</td>\n",
       "      <td>257.786113</td>\n",
       "      <td>0.130422</td>\n",
       "      <td>878.547987</td>\n",
       "      <td>0.454188</td>\n",
       "      <td>0.385188</td>\n",
       "      <td>11.000000</td>\n",
       "      <td>1.498025</td>\n",
       "      <td>295.084921</td>\n",
       "      <td>-81.404787</td>\n",
       "      <td>0.187163</td>\n",
       "      <td>4.978525</td>\n",
       "      <td>-323.500000</td>\n",
       "      <td>-342.750000</td>\n",
       "      <td>-11.750000</td>\n",
       "      <td>-737.875000</td>\n",
       "      <td>-449.875000</td>\n",
       "      <td>-16.750000</td>\n",
       "      <td>6</td>\n",
       "      <td>0.094828</td>\n",
       "      <td>0.429825</td>\n",
       "      <td>0.444079</td>\n",
       "      <td>0.092724</td>\n",
       "      <td>0.320816</td>\n",
       "      <td>0.097575</td>\n",
       "      <td>0.587954</td>\n",
       "      <td>0.700000</td>\n",
       "      <td>0.1</td>\n",
       "      <td>0.700000</td>\n",
       "      <td>0.9</td>\n",
       "      <td>0.700000</td>\n",
       "      <td>0.700000</td>\n",
       "      <td>0.100000</td>\n",
       "      <td>0.200000</td>\n",
       "      <td>0.125000</td>\n",
       "      <td>0.253931</td>\n",
       "      <td>0.045200</td>\n",
       "      <td>0.405941</td>\n",
       "      <td>0.000000</td>\n",
       "      <td>0.000000</td>\n",
       "      <td>0.0</td>\n",
       "      <td>0.119978</td>\n",
       "      <td>0.000000</td>\n",
       "      <td>0.714286</td>\n",
       "      <td>0.800</td>\n",
       "      <td>0.333333</td>\n",
       "      <td>0.600000</td>\n",
       "      <td>0.900000</td>\n",
       "      <td>0.700000</td>\n",
       "      <td>1.000000</td>\n",
       "      <td>1.000000</td>\n",
       "      <td>1.0</td>\n",
       "      <td>0.600000</td>\n",
       "      <td>1.000000</td>\n",
       "      <td>0.300000</td>\n",
       "      <td>0.000000</td>\n",
       "      <td>0.000000</td>\n",
       "      <td>0.000000</td>\n",
       "      <td>0.000000</td>\n",
       "      <td>0.000000</td>\n",
       "      <td>0.000000</td>\n",
       "      <td>1.000000</td>\n",
       "      <td>1.000000</td>\n",
       "      <td>1.000000</td>\n",
       "      <td>1.000000</td>\n",
       "      <td>1.000000</td>\n",
       "      <td>1.000000</td>\n",
       "    </tr>\n",
       "  </tbody>\n",
       "</table>\n",
       "</div>"
      ],
      "text/plain": [
       "                                                   playerid Team     kills   \n",
       "Player  position                                                             \n",
       "BeryL   sup       oe:player:dee54127bb56d2e2540ba71cc416f1c  DRX  0.000000  \\\n",
       "Rascal  top       oe:player:9daf04bfd9c8815cc827414f59f45af  DRX  1.333333   \n",
       "kyeahoo mid       oe:player:308e48bf56284c09a1a9aadf55bc80c  DRX  1.666667   \n",
       "Paduck  bot       oe:player:326f63d01099f1c8b91620cbc893813  DRX  1.888889   \n",
       "Croco   jng       oe:player:5c6f901a83ec448d51703aebba0ca64  DRX  1.375000   \n",
       "\n",
       "                    deaths   assists       kda  doublekills  triplekills   \n",
       "Player  position                                                           \n",
       "BeryL   sup       3.333333  4.222222  1.777778     0.000000     0.000000  \\\n",
       "Rascal  top       3.222222  3.000000  1.468519     0.000000     0.000000   \n",
       "kyeahoo mid       2.666667  2.555556  1.638889     0.222222     0.000000   \n",
       "Paduck  bot       3.333333  2.444444  1.944444     0.333333     0.222222   \n",
       "Croco   jng       3.750000  3.375000  1.304167     0.250000     0.000000   \n",
       "\n",
       "                  quadrakills  pentakills  firstblood  firstbloodvictim   \n",
       "Player  position                                                          \n",
       "BeryL   sup               0.0         0.0    0.000000          0.111111  \\\n",
       "Rascal  top               0.0         0.0    0.111111          0.222222   \n",
       "kyeahoo mid               0.0         0.0    0.000000          0.222222   \n",
       "Paduck  bot               0.0         0.0    0.000000          0.111111   \n",
       "Croco   jng               0.0         0.0    0.125000          0.125000   \n",
       "\n",
       "                         dpm  damageshare  damagetakenperminute       wpm   \n",
       "Player  position                                                            \n",
       "BeryL   sup       195.058722     0.096427            394.196222  1.546322  \\\n",
       "Rascal  top       419.383456     0.223373            946.776689  0.373122   \n",
       "kyeahoo mid       382.023000     0.192527            610.781667  0.555967   \n",
       "Paduck  bot       674.938022     0.343557            463.212622  0.430733   \n",
       "Croco   jng       257.786113     0.130422            878.547987  0.454188   \n",
       "\n",
       "                      wcpm  controlwardsbought      vspm         gpm   \n",
       "Player  position                                                       \n",
       "BeryL   sup       0.329189           14.000000  2.744944  215.134230  \\\n",
       "Rascal  top       0.243567            5.444444  1.018311  349.950537   \n",
       "kyeahoo mid       0.209711            7.666667  1.224411  325.214902   \n",
       "Paduck  bot       0.306878            4.555556  1.123489  380.594265   \n",
       "Croco   jng       0.385188           11.000000  1.498025  295.084921   \n",
       "\n",
       "                        gdpm  goldshare      cspm  golddiffat10  xpdiffat10   \n",
       "Player  position                                                              \n",
       "BeryL   sup       -42.647303   0.137262  1.130133    -67.333333   31.666667  \\\n",
       "Rascal  top       -70.868877   0.222254  7.544422   -242.222222 -187.777778   \n",
       "kyeahoo mid      -100.279910   0.206384  7.462544   -247.000000    6.888889   \n",
       "Paduck  bot      -117.710673   0.241751  8.772089   -354.000000 -174.000000   \n",
       "Croco   jng       -81.404787   0.187163  4.978525   -323.500000 -342.750000   \n",
       "\n",
       "                  csdiffat10  golddiffat15  xpdiffat15  csdiffat15  champions   \n",
       "Player  position                                                                \n",
       "BeryL   sup        -1.777778   -150.000000  221.777778   -1.444444          6  \\\n",
       "Rascal  top        -6.666667   -550.777778 -297.555556   -6.222222          5   \n",
       "kyeahoo mid        -0.666667   -795.444444 -125.111111   -8.222222          4   \n",
       "Paduck  bot        -8.777778   -822.888889 -656.333333  -14.333333          5   \n",
       "Croco   jng       -11.750000   -737.875000 -449.875000  -16.750000          6   \n",
       "\n",
       "                    _kills   _deaths  _assists      _kda      _dpm   \n",
       "Player  position                                                     \n",
       "BeryL   sup       0.000000  1.000000  0.148746  0.000000  1.000000  \\\n",
       "Rascal  top       0.242424  1.000000  0.291545  0.000000  0.162074   \n",
       "kyeahoo mid       0.346667  0.929825  0.171717  0.028195  0.115953   \n",
       "Paduck  bot       0.019204  1.000000  0.303030  0.000000  0.676838   \n",
       "Croco   jng       0.094828  0.429825  0.444079  0.092724  0.320816   \n",
       "\n",
       "                  _damageshare  _damagetakenperminute  kills_rank   \n",
       "Player  position                                                    \n",
       "BeryL   sup           1.000000               1.000000    1.000000  \\\n",
       "Rascal  top           0.239258               0.881297    0.444444   \n",
       "kyeahoo mid           0.000000               1.000000    0.600000   \n",
       "Paduck  bot           1.000000               0.650205    0.909091   \n",
       "Croco   jng           0.097575               0.587954    0.700000   \n",
       "\n",
       "                  deaths_rank  assists_rank  kda_rank  dpm_rank   \n",
       "Player  position                                                  \n",
       "BeryL   sup               0.0      0.777778       1.0  0.000000  \\\n",
       "Rascal  top               0.0      0.666667       1.0  0.888889   \n",
       "kyeahoo mid               0.1      0.900000       0.9  0.700000   \n",
       "Paduck  bot               0.0      0.636364       1.0  0.272727   \n",
       "Croco   jng               0.1      0.700000       0.9  0.700000   \n",
       "\n",
       "                  damageshare_rank  damagetakenperminute_rank  _firstblood   \n",
       "Player  position                                                             \n",
       "BeryL   sup               0.000000                   0.000000     0.000000  \\\n",
       "Rascal  top               0.555556                   0.111111     0.277778   \n",
       "kyeahoo mid               1.000000                   0.000000     0.000000   \n",
       "Paduck  bot               0.000000                   0.272727     0.000000   \n",
       "Croco   jng               0.700000                   0.100000     0.200000   \n",
       "\n",
       "                  _firstbloodvictim      _wpm     _wcpm  _controlwardsbought   \n",
       "Player  position                                                               \n",
       "BeryL   sup                0.370370  0.396939  1.000000             0.609929  \\\n",
       "Rascal  top                0.555556  0.316455  0.856309             0.271111   \n",
       "kyeahoo mid                0.888889  0.996503  0.376898             0.760274   \n",
       "Paduck  bot                0.777778  0.071081  0.000000             0.182099   \n",
       "Croco   jng                0.125000  0.253931  0.045200             0.405941   \n",
       "\n",
       "                     _vspm      _gpm  _gdpm  _goldshare     _cspm  _champions   \n",
       "Player  position                                                                \n",
       "BeryL   sup       0.405211  0.028301    0.0    1.000000  1.000000    1.000000  \\\n",
       "Rascal  top       0.347507  0.125217    0.0    0.869864  0.031241    0.333333   \n",
       "kyeahoo mid       0.529531  0.000000    0.0    0.000000  0.000000    0.500000   \n",
       "Paduck  bot       0.000000  0.000000    0.0    0.119203  0.000000    0.750000   \n",
       "Croco   jng       0.000000  0.000000    0.0    0.119978  0.000000    0.714286   \n",
       "\n",
       "                  firstblood_rank  firstbloodvictim_rank  wpm_rank  wcpm_rank   \n",
       "Player  position                                                                \n",
       "BeryL   sup                 1.000               0.333333  0.666667   0.000000  \\\n",
       "Rascal  top                 0.625               0.571429  0.777778   0.111111   \n",
       "kyeahoo mid                 1.000               0.333333  0.100000   0.800000   \n",
       "Paduck  bot                 1.000               0.333333  0.727273   1.000000   \n",
       "Croco   jng                 0.800               0.333333  0.600000   0.900000   \n",
       "\n",
       "                  controlwardsbought_rank  vspm_rank  gpm_rank  gdpm_rank   \n",
       "Player  position                                                            \n",
       "BeryL   sup                      0.333333   0.555556  0.888889        1.0  \\\n",
       "Rascal  top                      0.666667   0.444444  0.888889        1.0   \n",
       "kyeahoo mid                      0.300000   0.500000  1.000000        1.0   \n",
       "Paduck  bot                      0.727273   1.000000  1.000000        1.0   \n",
       "Croco   jng                      0.700000   1.000000  1.000000        1.0   \n",
       "\n",
       "                  goldshare_rank  cspm_rank  champions_rank  _golddiffat10   \n",
       "Player  position                                                             \n",
       "BeryL   sup             0.000000   0.000000        0.000000       0.180976  \\\n",
       "Rascal  top             0.222222   0.888889        0.666667       0.082431   \n",
       "kyeahoo mid             1.000000   1.000000        0.777778       0.000000   \n",
       "Paduck  bot             0.909091   1.000000        0.400000       0.229124   \n",
       "Croco   jng             0.600000   1.000000        0.300000       0.000000   \n",
       "\n",
       "                  _xpdiffat10  _csdiffat10  _golddiffat15  _xpdiffat15   \n",
       "Player  position                                                         \n",
       "BeryL   sup          0.538382     0.228482       0.260985     0.765373  \\\n",
       "Rascal  top          0.088564     0.000000       0.004686     0.220418   \n",
       "kyeahoo mid          0.598205     0.547264       0.000000     0.268159   \n",
       "Paduck  bot          0.118706     0.000000       0.000000     0.074475   \n",
       "Croco   jng          0.000000     0.000000       0.000000     0.000000   \n",
       "\n",
       "                  _csdiffat15  golddiffat10_rank  xpdiffat10_rank   \n",
       "Player  position                                                    \n",
       "BeryL   sup          0.266314           0.888889         0.444444  \\\n",
       "Rascal  top          0.132227           0.888889         0.888889   \n",
       "kyeahoo mid          0.299932           1.000000         0.300000   \n",
       "Paduck  bot          0.109573           0.909091         0.727273   \n",
       "Croco   jng          0.000000           1.000000         1.000000   \n",
       "\n",
       "                  csdiffat10_rank  golddiffat15_rank  xpdiffat15_rank   \n",
       "Player  position                                                        \n",
       "BeryL   sup              0.777778           0.777778         0.222222  \\\n",
       "Rascal  top              1.000000           0.888889         0.666667   \n",
       "kyeahoo mid              0.500000           1.000000         0.600000   \n",
       "Paduck  bot              1.000000           1.000000         0.909091   \n",
       "Croco   jng              1.000000           1.000000         1.000000   \n",
       "\n",
       "                  csdiffat15_rank  \n",
       "Player  position                   \n",
       "BeryL   sup              0.777778  \n",
       "Rascal  top              0.666667  \n",
       "kyeahoo mid              0.800000  \n",
       "Paduck  bot              0.909091  \n",
       "Croco   jng              1.000000  "
      ]
     },
     "execution_count": 32,
     "metadata": {},
     "output_type": "execute_result"
    }
   ],
   "source": [
    "for key, values in origin_columns.items():\n",
    "    columns[key] = [\"_\" + col for col in values]\n",
    "    rank_columns[key] = [col + \"_rank\" for col in values]\n",
    "    for pos in positions:\n",
    "        scaler = MinMaxScaler()\n",
    "        players_stats.loc[\n",
    "            players_stats.index.get_level_values(1) == pos, columns[key]\n",
    "        ] = scaler.fit_transform(\n",
    "            players_stats.loc[players_stats.index.get_level_values(1) == pos, values]\n",
    "        )\n",
    "        players_stats.loc[\n",
    "            players_stats.index.get_level_values(1) == pos, rank_columns[key]\n",
    "        ] = scaler.fit_transform(\n",
    "            players_stats.loc[\n",
    "                players_stats.index.get_level_values(1) == pos, values\n",
    "            ].rank(method=\"min\", ascending=False)\n",
    "        )\n",
    "players_stats.head()"
   ]
  },
  {
   "cell_type": "code",
   "execution_count": 30,
   "metadata": {},
   "outputs": [
    {
     "data": {
      "text/plain": [
       "'2.0.0'"
      ]
     },
     "execution_count": 30,
     "metadata": {},
     "output_type": "execute_result"
    }
   ],
   "source": [
    "pd.__version__"
   ]
  },
  {
   "cell_type": "code",
   "execution_count": 22,
   "metadata": {},
   "outputs": [
    {
     "data": {
      "application/vnd.plotly.v1+json": {
       "config": {
        "plotlyServerURL": "https://plot.ly"
       },
       "data": [
        {
         "fill": "toself",
         "name": "Rascal",
         "r": [
          0.24242424242424232,
          0.9999999999999999,
          0.29154518950437314,
          0,
          0.16207383879680748,
          0.2392584745065034,
          0.8812967524263278
         ],
         "subplot": "polar",
         "theta": [
          "kills - 1.33 | 0.5555555555555556",
          "deaths - 3.22 | 1.0",
          "assists - 3.0 | 0.2222222222222222",
          "kda - 1.47 | 0.0",
          "dpm - 419.38 | 0.1111111111111111",
          "damageshare - 0.22 | 0.4444444444444445",
          "damagetakenperminute - 946.78 | 0.8888888888888888"
         ],
         "type": "scatterpolar"
        },
        {
         "fill": "toself",
         "name": "Rascal",
         "r": [
          0.2777777777777778,
          0.5555555555555556,
          0.3164551428059299,
          0.8563085399449035,
          0.2711111111111112,
          0.34750677044864897,
          0.1252172632256796,
          0,
          0.8698636398683384,
          0.031240912264937748,
          0.33333333333333326
         ],
         "subplot": "polar2",
         "theta": [
          "firstblood - 0.11 | 0.5",
          "firstbloodvictim - 0.22 | 0.5555555555555556",
          "wpm - 0.37 | 0.2222222222222222",
          "wcpm - 0.24 | 0.8888888888888888",
          "controlwardsbought - 5.44 | 0.3333333333333333",
          "vspm - 1.02 | 0.5555555555555556",
          "gpm - 349.95 | 0.1111111111111111",
          "gdpm - -70.87 | 0.0",
          "goldshare - 0.22 | 0.7777777777777777",
          "cspm - 7.54 | 0.1111111111111111",
          "champions - 5.0 | 0.125"
         ],
         "type": "scatterpolar"
        },
        {
         "fill": "toself",
         "name": "Rascal",
         "r": [
          0.08243059867982244,
          0.08856353800174027,
          0,
          0.004686290508169544,
          0.2204180585507492,
          0.13222724987430867
         ],
         "subplot": "polar3",
         "theta": [
          "golddiffat10 - -242.22 | 0.1111111111111111",
          "xpdiffat10 - -187.78 | 0.1111111111111111",
          "csdiffat10 - -6.67 | 0.0",
          "golddiffat15 - -550.78 | 0.1111111111111111",
          "xpdiffat15 - -297.56 | 0.3333333333333333",
          "csdiffat15 - -6.22 | 0.3333333333333333"
         ],
         "type": "scatterpolar"
        },
        {
         "fill": "toself",
         "name": "Canna",
         "r": [
          0.045454545454545414,
          0.2827225130890052,
          0.9999999999999999,
          0.7202676451543277,
          0.36287812151670495,
          0,
          0.11715279675920964
         ],
         "subplot": "polar4",
         "theta": [
          "kills - 0.9 | 0.2222222222222222",
          "deaths - 1.7 | 0.2222222222222222",
          "assists - 5.7 | 1.0",
          "kda - 4.56 | 0.6666666666666665",
          "dpm - 459.79 | 0.5555555555555556",
          "damageshare - 0.2 | 0.0",
          "damagetakenperminute - 764.87 | 0.1111111111111111"
         ],
         "type": "scatterpolar"
        },
        {
         "fill": "toself",
         "name": "Canna",
         "r": [
          0.75,
          0.75,
          0.29869500780372205,
          0.5882975206611569,
          0.4720000000000001,
          0.4609851712970858,
          0.29650948336885286,
          0.388883815374944,
          0,
          0.13871362076261295,
          0.9999999999999998
         ],
         "subplot": "polar5",
         "theta": [
          "firstblood - 0.3 | 0.875",
          "firstbloodvictim - 0.3 | 0.6666666666666665",
          "wpm - 0.37 | 0.1111111111111111",
          "wcpm - 0.2 | 0.7777777777777777",
          "controlwardsbought - 6.7 | 0.4444444444444445",
          "vspm - 1.05 | 0.6666666666666665",
          "gpm - 362.92 | 0.3333333333333333",
          "gdpm - -24.39 | 0.3333333333333333",
          "goldshare - 0.19 | 0.0",
          "cspm - 7.72 | 0.2222222222222222",
          "champions - 7.0 | 1.0"
         ],
         "type": "scatterpolar"
        },
        {
         "fill": "toself",
         "name": "Canna",
         "r": [
          0.3939557027530532,
          0.7398706162751105,
          0.23325740318906604,
          0.28552061758614194,
          0.694913104148167,
          0.09683257918552035
         ],
         "subplot": "polar6",
         "theta": [
          "golddiffat10 - -54.1 | 0.5555555555555556",
          "xpdiffat10 - 194.8 | 0.7777777777777777",
          "csdiffat10 - -2.4 | 0.4444444444444445",
          "golddiffat15 - -177.9 | 0.4444444444444445",
          "xpdiffat15 - 170.0 | 0.6666666666666665",
          "csdiffat15 - -7.2 | 0.2222222222222222"
         ],
         "type": "scatterpolar"
        },
        {
         "fill": "toself",
         "name": "Doran",
         "r": [
          0.36363636363636365,
          0.7539267015706806,
          0.5801749271137026,
          0.4494711849773365,
          0.36496336499389015,
          0.3512000052688551,
          0.21487340515581188
         ],
         "subplot": "polar7",
         "theta": [
          "kills - 1.6 | 0.6666666666666665",
          "deaths - 2.7 | 0.7777777777777777",
          "assists - 4.1 | 0.5555555555555556",
          "kda - 3.4 | 0.4444444444444445",
          "dpm - 460.21 | 0.6666666666666665",
          "damageshare - 0.23 | 0.6666666666666665",
          "damagetakenperminute - 788.13 | 0.3333333333333333"
         ],
         "type": "scatterpolar"
        },
        {
         "fill": "toself",
         "name": "Doran",
         "r": [
          0.25,
          0.75,
          0.3333828807757382,
          0.0645289256198347,
          0.16800000000000004,
          0,
          0.7622207644401362,
          0.8647082761636692,
          0.4481238254682731,
          0.40218314604980776,
          0
         ],
         "subplot": "polar8",
         "theta": [
          "firstblood - 0.1 | 0.25",
          "firstbloodvictim - 0.3 | 0.6666666666666665",
          "wpm - 0.38 | 0.3333333333333333",
          "wcpm - 0.12 | 0.2222222222222222",
          "controlwardsbought - 4.8 | 0.1111111111111111",
          "vspm - 0.92 | 0.0",
          "gpm - 398.19 | 0.7777777777777777",
          "gdpm - 32.49 | 0.6666666666666665",
          "goldshare - 0.21 | 0.4444444444444445",
          "cspm - 8.14 | 0.3333333333333333",
          "champions - 4.0 | 0.0"
         ],
         "type": "scatterpolar"
        },
        {
         "fill": "toself",
         "name": "Doran",
         "r": [
          0.2629683295383979,
          0,
          0.069248291571754,
          0.2658633025795518,
          0.17653177724216673,
          0.042533936651583726
         ],
         "subplot": "polar9",
         "theta": [
          "golddiffat10 - -133.2 | 0.3333333333333333",
          "xpdiffat10 - -239.8 | 0.0",
          "csdiffat10 - -5.4 | 0.2222222222222222",
          "golddiffat15 - -204.0 | 0.3333333333333333",
          "xpdiffat15 - -340.8 | 0.2222222222222222",
          "csdiffat15 - -8.7 | 0.1111111111111111"
         ],
         "type": "scatterpolar"
        },
        {
         "fill": "toself",
         "name": "Kingen",
         "r": [
          0,
          0,
          0.7900874635568512,
          0.8018562486509822,
          0.35854970448987533,
          0.20991789053859478,
          0.22128090071411677
         ],
         "subplot": "polar10",
         "theta": [
          "kills - 0.8 | 0.0",
          "deaths - 1.1 | 0.0",
          "assists - 4.9 | 0.7777777777777777",
          "kda - 4.91 | 0.7777777777777777",
          "dpm - 458.92 | 0.4444444444444445",
          "damageshare - 0.22 | 0.3333333333333333",
          "damagetakenperminute - 789.66 | 0.4444444444444445"
         ],
         "type": "scatterpolar"
        },
        {
         "fill": "toself",
         "name": "Kingen",
         "r": [
          0,
          0,
          0.6637675583749021,
          0.31272727272727274,
          0.9519999999999998,
          1,
          0.43248186761840657,
          0.5910360852432971,
          0.43910213510219265,
          0.5360618740890501,
          0.9999999999999998
         ],
         "subplot": "polar11",
         "theta": [
          "firstblood - 0.0 | 0.0",
          "firstbloodvictim - 0.0 | 0.0",
          "wpm - 0.48 | 0.8888888888888888",
          "wcpm - 0.16 | 0.4444444444444445",
          "controlwardsbought - 9.7 | 0.8888888888888888",
          "vspm - 1.21 | 1.0",
          "gpm - 373.22 | 0.4444444444444445",
          "gdpm - -0.22 | 0.4444444444444445",
          "goldshare - 0.21 | 0.3333333333333333",
          "cspm - 8.35 | 0.5555555555555556",
          "champions - 7.0 | 1.0"
         ],
         "type": "scatterpolar"
        },
        {
         "fill": "toself",
         "name": "Kingen",
         "r": [
          0.20898364727799623,
          0.20990806945863122,
          0.09111617312072895,
          0.30088495575221236,
          0.6553342636052264,
          0.183710407239819
         ],
         "subplot": "polar12",
         "theta": [
          "golddiffat10 - -165.8 | 0.2222222222222222",
          "xpdiffat10 - -116.5 | 0.4444444444444445",
          "csdiffat10 - -5.0 | 0.3333333333333333",
          "golddiffat15 - -157.5 | 0.5555555555555556",
          "xpdiffat15 - 131.0 | 0.5555555555555556",
          "csdiffat15 - -4.8 | 0.4444444444444445"
         ],
         "type": "scatterpolar"
        },
        {
         "fill": "toself",
         "name": "Kiin",
         "r": [
          0.8181818181818182,
          0.2827225130890052,
          0.6588921282798833,
          0.9999999999999998,
          0.19946363160648906,
          0.2646389493526602,
          0.1355093818138542
         ],
         "subplot": "polar13",
         "theta": [
          "kills - 2.6 | 0.8888888888888888",
          "deaths - 1.7 | 0.2222222222222222",
          "assists - 4.4 | 0.6666666666666665",
          "kda - 5.76 | 1.0",
          "dpm - 426.91 | 0.2222222222222222",
          "damageshare - 0.23 | 0.5555555555555556",
          "damagetakenperminute - 769.24 | 0.2222222222222222"
         ],
         "type": "scatterpolar"
        },
        {
         "fill": "toself",
         "name": "Kiin",
         "r": [
          1,
          0,
          0.38047277003720437,
          0.2591735537190083,
          0.16800000000000004,
          0.10298278506903014,
          1,
          1,
          0.7748603062271329,
          0.7138981616437068,
          0.6666666666666667
         ],
         "subplot": "polar14",
         "theta": [
          "firstblood - 0.4 | 1.0",
          "firstbloodvictim - 0.0 | 0.0",
          "wpm - 0.39 | 0.4444444444444445",
          "wcpm - 0.15 | 0.3333333333333333",
          "controlwardsbought - 4.8 | 0.1111111111111111",
          "vspm - 0.95 | 0.2222222222222222",
          "gpm - 416.2 | 1.0",
          "gdpm - 48.66 | 1.0",
          "goldshare - 0.22 | 0.6666666666666665",
          "cspm - 8.63 | 0.7777777777777777",
          "champions - 6.0 | 0.5"
         ],
         "type": "scatterpolar"
        },
        {
         "fill": "toself",
         "name": "Kiin",
         "r": [
          0.7845994618091492,
          0.6516853932584269,
          0.60501138952164,
          0.7797401619280738,
          0.8650006342762908,
          0.6542986425339367
         ],
         "subplot": "polar15",
         "theta": [
          "golddiffat10 - 181.8 | 0.6666666666666665",
          "xpdiffat10 - 143.0 | 0.6666666666666665",
          "csdiffat10 - 4.4 | 0.7777777777777777",
          "golddiffat15 - 478.3 | 0.8888888888888888",
          "xpdiffat15 - 337.6 | 0.7777777777777777",
          "csdiffat15 - 8.2 | 0.7777777777777777"
         ],
         "type": "scatterpolar"
        },
        {
         "fill": "toself",
         "name": "DuDu",
         "r": [
          0.9999999999999999,
          0.12958115183246066,
          0.42274052478134105,
          0.8960716598316425,
          1,
          0.7930338149945029,
          1
         ],
         "subplot": "polar16",
         "theta": [
          "kills - 3.0 | 1.0",
          "deaths - 1.38 | 0.1111111111111111",
          "assists - 3.5 | 0.4444444444444445",
          "kda - 5.31 | 0.8888888888888888",
          "dpm - 588.0 | 1.0",
          "damageshare - 0.28 | 0.7777777777777777",
          "damagetakenperminute - 975.03 | 1.0"
         ],
         "type": "scatterpolar"
        },
        {
         "fill": "toself",
         "name": "DuDu",
         "r": [
          0.625,
          0,
          0,
          0.5810743801652893,
          0,
          0.020342594170785766,
          0.8638040418338484,
          0.9730368530371974,
          0.9708420527777202,
          1,
          0.33333333333333326
         ],
         "subplot": "polar17",
         "theta": [
          "firstblood - 0.25 | 0.625",
          "firstbloodvictim - 0.0 | 0.0",
          "wpm - 0.27 | 0.0",
          "wcpm - 0.2 | 0.6666666666666665",
          "controlwardsbought - 3.75 | 0.0",
          "vspm - 0.92 | 0.1111111111111111",
          "gpm - 405.88 | 0.8888888888888888",
          "gdpm - 45.44 | 0.8888888888888888",
          "goldshare - 0.23 | 0.8888888888888888",
          "cspm - 9.09 | 1.0",
          "champions - 5.0 | 0.125"
         ],
         "type": "scatterpolar"
        },
        {
         "fill": "toself",
         "name": "DuDu",
         "r": [
          1,
          0.7817075246850527,
          0.9999999999999999,
          1,
          1,
          1
         ],
         "subplot": "polar18",
         "theta": [
          "golddiffat10 - 311.88 | 1.0",
          "xpdiffat10 - 219.38 | 0.8888888888888888",
          "csdiffat10 - 11.62 | 1.0",
          "golddiffat15 - 770.75 | 1.0",
          "xpdiffat15 - 470.62 | 1.0",
          "csdiffat15 - 17.75 | 1.0"
         ],
         "type": "scatterpolar"
        },
        {
         "fill": "toself",
         "name": "Burdol",
         "r": [
          0.20454545454545447,
          0.600785340314136,
          0.29154518950437314,
          0.3594323332613857,
          0,
          0.18674839429288914,
          0.40520439303611866
         ],
         "subplot": "polar19",
         "theta": [
          "kills - 1.25 | 0.4444444444444445",
          "deaths - 2.38 | 0.6666666666666665",
          "assists - 3.0 | 0.2222222222222222",
          "kda - 3.01 | 0.3333333333333333",
          "dpm - 386.77 | 0.0",
          "damageshare - 0.22 | 0.2222222222222222",
          "damagetakenperminute - 833.44 | 0.5555555555555556"
         ],
         "type": "scatterpolar"
        },
        {
         "fill": "toself",
         "name": "Burdol",
         "r": [
          0.625,
          0.3125,
          0.5574218425528008,
          0,
          0.82,
          0.20876938810294865,
          0,
          0.1598536602667177,
          0.18899172808627096,
          0,
          0.6666666666666667
         ],
         "subplot": "polar20",
         "theta": [
          "firstblood - 0.25 | 0.625",
          "firstbloodvictim - 0.12 | 0.4444444444444445",
          "wpm - 0.45 | 0.7777777777777777",
          "wcpm - 0.11 | 0.0",
          "controlwardsbought - 8.88 | 0.7777777777777777",
          "vspm - 0.98 | 0.3333333333333333",
          "gpm - 340.47 | 0.0",
          "gdpm - -51.76 | 0.1111111111111111",
          "goldshare - 0.2 | 0.1111111111111111",
          "cspm - 7.49 | 0.0",
          "champions - 6.0 | 0.5"
         ],
         "type": "scatterpolar"
        },
        {
         "fill": "toself",
         "name": "Burdol",
         "r": [
          0,
          0.10478379298604018,
          0.05694760820045558,
          0,
          0,
          0
         ],
         "subplot": "polar21",
         "theta": [
          "golddiffat10 - -292.0 | 0.0",
          "xpdiffat10 - -178.25 | 0.2222222222222222",
          "csdiffat10 - -5.62 | 0.1111111111111111",
          "golddiffat15 - -557.0 | 0.0",
          "xpdiffat15 - -514.75 | 0.0",
          "csdiffat15 - -9.88 | 0.0"
         ],
         "type": "scatterpolar"
        },
        {
         "fill": "toself",
         "name": "DnDn",
         "r": [
          0.04040404040404033,
          0.8429319371727747,
          0,
          0.00992877185409019,
          0.4558656276367574,
          1,
          0.47193327475077185
         ],
         "subplot": "polar22",
         "theta": [
          "kills - 0.89 | 0.1111111111111111",
          "deaths - 2.89 | 0.8888888888888888",
          "assists - 1.89 | 0.0",
          "kda - 1.51 | 0.1111111111111111",
          "dpm - 478.5 | 0.8888888888888888",
          "damageshare - 0.3 | 1.0",
          "damagetakenperminute - 849.33 | 0.6666666666666665"
         ],
         "type": "scatterpolar"
        },
        {
         "fill": "toself",
         "name": "DnDn",
         "r": [
          0,
          0.8333333333333333,
          1,
          0.05425160697887976,
          1,
          0.27766225403859623,
          0.17493571074981418,
          0.3390367903849991,
          0.5554427588531752,
          0.4611763251332581,
          0.6666666666666667
         ],
         "subplot": "polar23",
         "theta": [
          "firstblood - 0.0 | 0.0",
          "firstbloodvictim - 0.33 | 0.8888888888888888",
          "wpm - 0.59 | 1.0",
          "wcpm - 0.12 | 0.1111111111111111",
          "controlwardsbought - 10.0 | 1.0",
          "vspm - 1.0 | 0.4444444444444445",
          "gpm - 353.72 | 0.2222222222222222",
          "gdpm - -30.34 | 0.2222222222222222",
          "goldshare - 0.21 | 0.5555555555555556",
          "cspm - 8.23 | 0.4444444444444445",
          "champions - 6.0 | 0.5"
         ],
         "type": "scatterpolar"
        },
        {
         "fill": "toself",
         "name": "DnDn",
         "r": [
          0.3151866418270889,
          0.196194151250331,
          0.3705391040242976,
          0.14878972363438564,
          0.08093365469998737,
          0.20864756158873807
         ],
         "subplot": "polar24",
         "theta": [
          "golddiffat10 - -101.67 | 0.4444444444444445",
          "xpdiffat10 - -124.56 | 0.3333333333333333",
          "csdiffat10 - 0.11 | 0.6666666666666665",
          "golddiffat15 - -359.44 | 0.2222222222222222",
          "xpdiffat15 - -435.0 | 0.1111111111111111",
          "csdiffat15 - -4.11 | 0.5555555555555556"
         ],
         "type": "scatterpolar"
        },
        {
         "fill": "toself",
         "name": "Morgan",
         "r": [
          0.18181818181818177,
          0.5654450261780103,
          0.002915451895043719,
          0.1868335851500108,
          0.4001278026003301,
          0.8110652072565308,
          0.6947541675663724
         ],
         "subplot": "polar25",
         "theta": [
          "kills - 1.2 | 0.3333333333333333",
          "deaths - 2.3 | 0.5555555555555556",
          "assists - 1.9 | 0.1111111111111111",
          "kda - 2.27 | 0.2222222222222222",
          "dpm - 467.29 | 0.7777777777777777",
          "damageshare - 0.28 | 0.8888888888888888",
          "damagetakenperminute - 902.37 | 0.7777777777777777"
         ],
         "type": "scatterpolar"
        },
        {
         "fill": "toself",
         "name": "Morgan",
         "r": [
          1,
          0.25,
          0.40329373909774113,
          1,
          0.7759999999999999,
          0.9487642747571163,
          0.5260368130943451,
          0.6181785956005613,
          1,
          0.9072625260551357,
          0.33333333333333326
         ],
         "subplot": "polar26",
         "theta": [
          "firstblood - 0.4 | 1.0",
          "firstbloodvictim - 0.1 | 0.3333333333333333",
          "wpm - 0.4 | 0.5555555555555556",
          "wcpm - 0.27 | 1.0",
          "controlwardsbought - 8.6 | 0.6666666666666665",
          "vspm - 1.19 | 0.8888888888888888",
          "gpm - 380.3 | 0.5555555555555556",
          "gdpm - 3.02 | 0.5555555555555556",
          "goldshare - 0.23 | 1.0",
          "cspm - 8.94 | 0.8888888888888888",
          "champions - 5.0 | 0.125"
         ],
         "type": "scatterpolar"
        },
        {
         "fill": "toself",
         "name": "Morgan",
         "r": [
          0.7903953632788243,
          0.2705141300646918,
          0.3207289293849658,
          0.6998305403878742,
          0.5725231510846125,
          0.5131221719457013
         ],
         "subplot": "polar27",
         "theta": [
          "golddiffat10 - 185.3 | 0.7777777777777777",
          "xpdiffat10 - -80.9 | 0.5555555555555556",
          "csdiffat10 - -0.8 | 0.5555555555555556",
          "golddiffat15 - 372.2 | 0.7777777777777777",
          "xpdiffat15 - 49.4 | 0.4444444444444445",
          "csdiffat15 - 4.3 | 0.6666666666666665"
         ],
         "type": "scatterpolar"
        },
        {
         "fill": "toself",
         "name": "Zeus",
         "r": [
          0.5909090909090909,
          0.518324607329843,
          0.8425655976676384,
          0.658104899633067,
          0.2832154696928808,
          0.015655908950420017,
          0
         ],
         "subplot": "polar28",
         "theta": [
          "kills - 2.1 | 0.7777777777777777",
          "deaths - 2.2 | 0.4444444444444445",
          "assists - 5.1 | 0.8888888888888888",
          "kda - 4.29 | 0.5555555555555556",
          "dpm - 443.76 | 0.3333333333333333",
          "damageshare - 0.2 | 0.1111111111111111",
          "damagetakenperminute - 736.98 | 0.0"
         ],
         "type": "scatterpolar"
        },
        {
         "fill": "toself",
         "name": "Zeus",
         "r": [
          0.25,
          1,
          0.4582529280352545,
          0.444297520661157,
          0.648,
          0.5472643599795468,
          0.6566785331305862,
          0.8990145062442536,
          0.3509283699182797,
          0.548054288714404,
          0.6666666666666667
         ],
         "subplot": "polar29",
         "theta": [
          "firstblood - 0.1 | 0.25",
          "firstbloodvictim - 0.4 | 1.0",
          "wpm - 0.42 | 0.6666666666666665",
          "wcpm - 0.18 | 0.5555555555555556",
          "controlwardsbought - 7.8 | 0.5555555555555556",
          "vspm - 1.08 | 0.7777777777777777",
          "gpm - 390.2 | 0.6666666666666665",
          "gdpm - 36.59 | 0.7777777777777777",
          "goldshare - 0.2 | 0.2222222222222222",
          "cspm - 8.37 | 0.6666666666666665",
          "champions - 6.0 | 0.5"
         ],
         "type": "scatterpolar"
        },
        {
         "fill": "toself",
         "name": "Zeus",
         "r": [
          0.946553508590354,
          1,
          0.9275626423690204,
          0.6733948408962531,
          0.874946086515286,
          0.7628959276018099
         ],
         "subplot": "polar30",
         "theta": [
          "golddiffat10 - 279.6 | 0.8888888888888888",
          "xpdiffat10 - 347.6 | 1.0",
          "csdiffat10 - 10.3 | 0.8888888888888888",
          "golddiffat15 - 337.1 | 0.6666666666666665",
          "xpdiffat15 - 347.4 | 0.8888888888888888",
          "csdiffat15 - 11.2 | 0.8888888888888888"
         ],
         "type": "scatterpolar"
        }
       ],
       "layout": {
        "annotations": [
         {
          "font": {
           "size": 16
          },
          "showarrow": false,
          "text": "Rascal",
          "x": 0.14444444444444446,
          "xanchor": "center",
          "xref": "paper",
          "y": 1,
          "yanchor": "bottom",
          "yref": "paper",
          "yshift": 20
         },
         {
          "font": {
           "size": 16
          },
          "showarrow": false,
          "text": "Rascal",
          "x": 0.5,
          "xanchor": "center",
          "xref": "paper",
          "y": 1,
          "yanchor": "bottom",
          "yref": "paper",
          "yshift": 20
         },
         {
          "font": {
           "size": 16
          },
          "showarrow": false,
          "text": "Rascal",
          "x": 0.8555555555555556,
          "xanchor": "center",
          "xref": "paper",
          "y": 1,
          "yanchor": "bottom",
          "yref": "paper",
          "yshift": 20
         },
         {
          "font": {
           "size": 16
          },
          "showarrow": false,
          "text": "Canna",
          "x": 0.14444444444444446,
          "xanchor": "center",
          "xref": "paper",
          "y": 0.8950000000000001,
          "yanchor": "bottom",
          "yref": "paper",
          "yshift": 20
         },
         {
          "font": {
           "size": 16
          },
          "showarrow": false,
          "text": "Canna",
          "x": 0.5,
          "xanchor": "center",
          "xref": "paper",
          "y": 0.8950000000000001,
          "yanchor": "bottom",
          "yref": "paper",
          "yshift": 20
         },
         {
          "font": {
           "size": 16
          },
          "showarrow": false,
          "text": "Canna",
          "x": 0.8555555555555556,
          "xanchor": "center",
          "xref": "paper",
          "y": 0.8950000000000001,
          "yanchor": "bottom",
          "yref": "paper",
          "yshift": 20
         },
         {
          "font": {
           "size": 16
          },
          "showarrow": false,
          "text": "Doran",
          "x": 0.14444444444444446,
          "xanchor": "center",
          "xref": "paper",
          "y": 0.7900000000000001,
          "yanchor": "bottom",
          "yref": "paper",
          "yshift": 20
         },
         {
          "font": {
           "size": 16
          },
          "showarrow": false,
          "text": "Doran",
          "x": 0.5,
          "xanchor": "center",
          "xref": "paper",
          "y": 0.7900000000000001,
          "yanchor": "bottom",
          "yref": "paper",
          "yshift": 20
         },
         {
          "font": {
           "size": 16
          },
          "showarrow": false,
          "text": "Doran",
          "x": 0.8555555555555556,
          "xanchor": "center",
          "xref": "paper",
          "y": 0.7900000000000001,
          "yanchor": "bottom",
          "yref": "paper",
          "yshift": 20
         },
         {
          "font": {
           "size": 16
          },
          "showarrow": false,
          "text": "Kingen",
          "x": 0.14444444444444446,
          "xanchor": "center",
          "xref": "paper",
          "y": 0.6850000000000002,
          "yanchor": "bottom",
          "yref": "paper",
          "yshift": 20
         },
         {
          "font": {
           "size": 16
          },
          "showarrow": false,
          "text": "Kingen",
          "x": 0.5,
          "xanchor": "center",
          "xref": "paper",
          "y": 0.6850000000000002,
          "yanchor": "bottom",
          "yref": "paper",
          "yshift": 20
         },
         {
          "font": {
           "size": 16
          },
          "showarrow": false,
          "text": "Kingen",
          "x": 0.8555555555555556,
          "xanchor": "center",
          "xref": "paper",
          "y": 0.6850000000000002,
          "yanchor": "bottom",
          "yref": "paper",
          "yshift": 20
         },
         {
          "font": {
           "size": 16
          },
          "showarrow": false,
          "text": "Kiin",
          "x": 0.14444444444444446,
          "xanchor": "center",
          "xref": "paper",
          "y": 0.5800000000000001,
          "yanchor": "bottom",
          "yref": "paper",
          "yshift": 20
         },
         {
          "font": {
           "size": 16
          },
          "showarrow": false,
          "text": "Kiin",
          "x": 0.5,
          "xanchor": "center",
          "xref": "paper",
          "y": 0.5800000000000001,
          "yanchor": "bottom",
          "yref": "paper",
          "yshift": 20
         },
         {
          "font": {
           "size": 16
          },
          "showarrow": false,
          "text": "Kiin",
          "x": 0.8555555555555556,
          "xanchor": "center",
          "xref": "paper",
          "y": 0.5800000000000001,
          "yanchor": "bottom",
          "yref": "paper",
          "yshift": 20
         },
         {
          "font": {
           "size": 16
          },
          "showarrow": false,
          "text": "DuDu",
          "x": 0.14444444444444446,
          "xanchor": "center",
          "xref": "paper",
          "y": 0.47500000000000003,
          "yanchor": "bottom",
          "yref": "paper",
          "yshift": 20
         },
         {
          "font": {
           "size": 16
          },
          "showarrow": false,
          "text": "DuDu",
          "x": 0.5,
          "xanchor": "center",
          "xref": "paper",
          "y": 0.47500000000000003,
          "yanchor": "bottom",
          "yref": "paper",
          "yshift": 20
         },
         {
          "font": {
           "size": 16
          },
          "showarrow": false,
          "text": "DuDu",
          "x": 0.8555555555555556,
          "xanchor": "center",
          "xref": "paper",
          "y": 0.47500000000000003,
          "yanchor": "bottom",
          "yref": "paper",
          "yshift": 20
         },
         {
          "font": {
           "size": 16
          },
          "showarrow": false,
          "text": "Burdol",
          "x": 0.14444444444444446,
          "xanchor": "center",
          "xref": "paper",
          "y": 0.37000000000000005,
          "yanchor": "bottom",
          "yref": "paper",
          "yshift": 20
         },
         {
          "font": {
           "size": 16
          },
          "showarrow": false,
          "text": "Burdol",
          "x": 0.5,
          "xanchor": "center",
          "xref": "paper",
          "y": 0.37000000000000005,
          "yanchor": "bottom",
          "yref": "paper",
          "yshift": 20
         },
         {
          "font": {
           "size": 16
          },
          "showarrow": false,
          "text": "Burdol",
          "x": 0.8555555555555556,
          "xanchor": "center",
          "xref": "paper",
          "y": 0.37000000000000005,
          "yanchor": "bottom",
          "yref": "paper",
          "yshift": 20
         },
         {
          "font": {
           "size": 16
          },
          "showarrow": false,
          "text": "DnDn",
          "x": 0.14444444444444446,
          "xanchor": "center",
          "xref": "paper",
          "y": 0.265,
          "yanchor": "bottom",
          "yref": "paper",
          "yshift": 20
         },
         {
          "font": {
           "size": 16
          },
          "showarrow": false,
          "text": "DnDn",
          "x": 0.5,
          "xanchor": "center",
          "xref": "paper",
          "y": 0.265,
          "yanchor": "bottom",
          "yref": "paper",
          "yshift": 20
         },
         {
          "font": {
           "size": 16
          },
          "showarrow": false,
          "text": "DnDn",
          "x": 0.8555555555555556,
          "xanchor": "center",
          "xref": "paper",
          "y": 0.265,
          "yanchor": "bottom",
          "yref": "paper",
          "yshift": 20
         },
         {
          "font": {
           "size": 16
          },
          "showarrow": false,
          "text": "Morgan",
          "x": 0.14444444444444446,
          "xanchor": "center",
          "xref": "paper",
          "y": 0.16000000000000003,
          "yanchor": "bottom",
          "yref": "paper",
          "yshift": 20
         },
         {
          "font": {
           "size": 16
          },
          "showarrow": false,
          "text": "Morgan",
          "x": 0.5,
          "xanchor": "center",
          "xref": "paper",
          "y": 0.16000000000000003,
          "yanchor": "bottom",
          "yref": "paper",
          "yshift": 20
         },
         {
          "font": {
           "size": 16
          },
          "showarrow": false,
          "text": "Morgan",
          "x": 0.8555555555555556,
          "xanchor": "center",
          "xref": "paper",
          "y": 0.16000000000000003,
          "yanchor": "bottom",
          "yref": "paper",
          "yshift": 20
         },
         {
          "font": {
           "size": 16
          },
          "showarrow": false,
          "text": "Zeus",
          "x": 0.14444444444444446,
          "xanchor": "center",
          "xref": "paper",
          "y": 0.05500000000000001,
          "yanchor": "bottom",
          "yref": "paper",
          "yshift": 20
         },
         {
          "font": {
           "size": 16
          },
          "showarrow": false,
          "text": "Zeus",
          "x": 0.5,
          "xanchor": "center",
          "xref": "paper",
          "y": 0.05500000000000001,
          "yanchor": "bottom",
          "yref": "paper",
          "yshift": 20
         },
         {
          "font": {
           "size": 16
          },
          "showarrow": false,
          "text": "Zeus",
          "x": 0.8555555555555556,
          "xanchor": "center",
          "xref": "paper",
          "y": 0.05500000000000001,
          "yanchor": "bottom",
          "yref": "paper",
          "yshift": 20
         }
        ],
        "height": 3500,
        "polar": {
         "domain": {
          "x": [
           0,
           0.2888888888888889
          ],
          "y": [
           0.9450000000000001,
           1
          ]
         },
         "radialaxis": {
          "range": [
           -0.2,
           1.2
          ],
          "visible": false
         }
        },
        "polar10": {
         "domain": {
          "x": [
           0,
           0.2888888888888889
          ],
          "y": [
           0.6300000000000001,
           0.6850000000000002
          ]
         },
         "radialaxis": {
          "range": [
           -0.2,
           1.2
          ],
          "visible": false
         }
        },
        "polar11": {
         "domain": {
          "x": [
           0.35555555555555557,
           0.6444444444444445
          ],
          "y": [
           0.6300000000000001,
           0.6850000000000002
          ]
         },
         "radialaxis": {
          "range": [
           -0.2,
           1.2
          ],
          "visible": false
         }
        },
        "polar12": {
         "domain": {
          "x": [
           0.7111111111111111,
           1
          ],
          "y": [
           0.6300000000000001,
           0.6850000000000002
          ]
         },
         "radialaxis": {
          "range": [
           -0.2,
           1.2
          ],
          "visible": false
         }
        },
        "polar13": {
         "domain": {
          "x": [
           0,
           0.2888888888888889
          ],
          "y": [
           0.525,
           0.5800000000000001
          ]
         },
         "radialaxis": {
          "range": [
           -0.2,
           1.2
          ],
          "visible": false
         }
        },
        "polar14": {
         "domain": {
          "x": [
           0.35555555555555557,
           0.6444444444444445
          ],
          "y": [
           0.525,
           0.5800000000000001
          ]
         },
         "radialaxis": {
          "range": [
           -0.2,
           1.2
          ],
          "visible": false
         }
        },
        "polar15": {
         "domain": {
          "x": [
           0.7111111111111111,
           1
          ],
          "y": [
           0.525,
           0.5800000000000001
          ]
         },
         "radialaxis": {
          "range": [
           -0.2,
           1.2
          ],
          "visible": false
         }
        },
        "polar16": {
         "domain": {
          "x": [
           0,
           0.2888888888888889
          ],
          "y": [
           0.42000000000000004,
           0.47500000000000003
          ]
         },
         "radialaxis": {
          "range": [
           -0.2,
           1.2
          ],
          "visible": false
         }
        },
        "polar17": {
         "domain": {
          "x": [
           0.35555555555555557,
           0.6444444444444445
          ],
          "y": [
           0.42000000000000004,
           0.47500000000000003
          ]
         },
         "radialaxis": {
          "range": [
           -0.2,
           1.2
          ],
          "visible": false
         }
        },
        "polar18": {
         "domain": {
          "x": [
           0.7111111111111111,
           1
          ],
          "y": [
           0.42000000000000004,
           0.47500000000000003
          ]
         },
         "radialaxis": {
          "range": [
           -0.2,
           1.2
          ],
          "visible": false
         }
        },
        "polar19": {
         "domain": {
          "x": [
           0,
           0.2888888888888889
          ],
          "y": [
           0.31500000000000006,
           0.37000000000000005
          ]
         },
         "radialaxis": {
          "range": [
           -0.2,
           1.2
          ],
          "visible": false
         }
        },
        "polar2": {
         "domain": {
          "x": [
           0.35555555555555557,
           0.6444444444444445
          ],
          "y": [
           0.9450000000000001,
           1
          ]
         },
         "radialaxis": {
          "range": [
           -0.2,
           1.2
          ],
          "visible": false
         }
        },
        "polar20": {
         "domain": {
          "x": [
           0.35555555555555557,
           0.6444444444444445
          ],
          "y": [
           0.31500000000000006,
           0.37000000000000005
          ]
         },
         "radialaxis": {
          "range": [
           -0.2,
           1.2
          ],
          "visible": false
         }
        },
        "polar21": {
         "domain": {
          "x": [
           0.7111111111111111,
           1
          ],
          "y": [
           0.31500000000000006,
           0.37000000000000005
          ]
         },
         "radialaxis": {
          "range": [
           -0.2,
           1.2
          ],
          "visible": false
         }
        },
        "polar22": {
         "domain": {
          "x": [
           0,
           0.2888888888888889
          ],
          "y": [
           0.21000000000000002,
           0.265
          ]
         },
         "radialaxis": {
          "range": [
           -0.2,
           1.2
          ],
          "visible": false
         }
        },
        "polar23": {
         "domain": {
          "x": [
           0.35555555555555557,
           0.6444444444444445
          ],
          "y": [
           0.21000000000000002,
           0.265
          ]
         },
         "radialaxis": {
          "range": [
           -0.2,
           1.2
          ],
          "visible": false
         }
        },
        "polar24": {
         "domain": {
          "x": [
           0.7111111111111111,
           1
          ],
          "y": [
           0.21000000000000002,
           0.265
          ]
         },
         "radialaxis": {
          "range": [
           -0.2,
           1.2
          ],
          "visible": false
         }
        },
        "polar25": {
         "domain": {
          "x": [
           0,
           0.2888888888888889
          ],
          "y": [
           0.10500000000000001,
           0.16000000000000003
          ]
         },
         "radialaxis": {
          "range": [
           -0.2,
           1.2
          ],
          "visible": false
         }
        },
        "polar26": {
         "domain": {
          "x": [
           0.35555555555555557,
           0.6444444444444445
          ],
          "y": [
           0.10500000000000001,
           0.16000000000000003
          ]
         },
         "radialaxis": {
          "range": [
           -0.2,
           1.2
          ],
          "visible": false
         }
        },
        "polar27": {
         "domain": {
          "x": [
           0.7111111111111111,
           1
          ],
          "y": [
           0.10500000000000001,
           0.16000000000000003
          ]
         },
         "radialaxis": {
          "range": [
           -0.2,
           1.2
          ],
          "visible": false
         }
        },
        "polar28": {
         "domain": {
          "x": [
           0,
           0.2888888888888889
          ],
          "y": [
           0,
           0.05500000000000001
          ]
         },
         "radialaxis": {
          "range": [
           -0.2,
           1.2
          ],
          "visible": false
         }
        },
        "polar29": {
         "domain": {
          "x": [
           0.35555555555555557,
           0.6444444444444445
          ],
          "y": [
           0,
           0.05500000000000001
          ]
         },
         "radialaxis": {
          "range": [
           -0.2,
           1.2
          ],
          "visible": false
         }
        },
        "polar3": {
         "domain": {
          "x": [
           0.7111111111111111,
           1
          ],
          "y": [
           0.9450000000000001,
           1
          ]
         },
         "radialaxis": {
          "range": [
           -0.2,
           1.2
          ],
          "visible": false
         }
        },
        "polar30": {
         "domain": {
          "x": [
           0.7111111111111111,
           1
          ],
          "y": [
           0,
           0.05500000000000001
          ]
         },
         "radialaxis": {
          "range": [
           -0.2,
           1.2
          ],
          "visible": false
         }
        },
        "polar4": {
         "domain": {
          "x": [
           0,
           0.2888888888888889
          ],
          "y": [
           0.8400000000000001,
           0.8950000000000001
          ]
         },
         "radialaxis": {
          "range": [
           -0.2,
           1.2
          ],
          "visible": false
         }
        },
        "polar5": {
         "domain": {
          "x": [
           0.35555555555555557,
           0.6444444444444445
          ],
          "y": [
           0.8400000000000001,
           0.8950000000000001
          ]
         },
         "radialaxis": {
          "range": [
           -0.2,
           1.2
          ],
          "visible": false
         }
        },
        "polar6": {
         "domain": {
          "x": [
           0.7111111111111111,
           1
          ],
          "y": [
           0.8400000000000001,
           0.8950000000000001
          ]
         },
         "radialaxis": {
          "range": [
           -0.2,
           1.2
          ],
          "visible": false
         }
        },
        "polar7": {
         "domain": {
          "x": [
           0,
           0.2888888888888889
          ],
          "y": [
           0.7350000000000001,
           0.7900000000000001
          ]
         },
         "radialaxis": {
          "range": [
           -0.2,
           1.2
          ],
          "visible": false
         }
        },
        "polar8": {
         "domain": {
          "x": [
           0.35555555555555557,
           0.6444444444444445
          ],
          "y": [
           0.7350000000000001,
           0.7900000000000001
          ]
         },
         "radialaxis": {
          "range": [
           -0.2,
           1.2
          ],
          "visible": false
         }
        },
        "polar9": {
         "domain": {
          "x": [
           0.7111111111111111,
           1
          ],
          "y": [
           0.7350000000000001,
           0.7900000000000001
          ]
         },
         "radialaxis": {
          "range": [
           -0.2,
           1.2
          ],
          "visible": false
         }
        },
        "showlegend": false,
        "template": {
         "data": {
          "bar": [
           {
            "error_x": {
             "color": "#2a3f5f"
            },
            "error_y": {
             "color": "#2a3f5f"
            },
            "marker": {
             "line": {
              "color": "#E5ECF6",
              "width": 0.5
             },
             "pattern": {
              "fillmode": "overlay",
              "size": 10,
              "solidity": 0.2
             }
            },
            "type": "bar"
           }
          ],
          "barpolar": [
           {
            "marker": {
             "line": {
              "color": "#E5ECF6",
              "width": 0.5
             },
             "pattern": {
              "fillmode": "overlay",
              "size": 10,
              "solidity": 0.2
             }
            },
            "type": "barpolar"
           }
          ],
          "carpet": [
           {
            "aaxis": {
             "endlinecolor": "#2a3f5f",
             "gridcolor": "white",
             "linecolor": "white",
             "minorgridcolor": "white",
             "startlinecolor": "#2a3f5f"
            },
            "baxis": {
             "endlinecolor": "#2a3f5f",
             "gridcolor": "white",
             "linecolor": "white",
             "minorgridcolor": "white",
             "startlinecolor": "#2a3f5f"
            },
            "type": "carpet"
           }
          ],
          "choropleth": [
           {
            "colorbar": {
             "outlinewidth": 0,
             "ticks": ""
            },
            "type": "choropleth"
           }
          ],
          "contour": [
           {
            "colorbar": {
             "outlinewidth": 0,
             "ticks": ""
            },
            "colorscale": [
             [
              0,
              "#0d0887"
             ],
             [
              0.1111111111111111,
              "#46039f"
             ],
             [
              0.2222222222222222,
              "#7201a8"
             ],
             [
              0.3333333333333333,
              "#9c179e"
             ],
             [
              0.4444444444444444,
              "#bd3786"
             ],
             [
              0.5555555555555556,
              "#d8576b"
             ],
             [
              0.6666666666666666,
              "#ed7953"
             ],
             [
              0.7777777777777778,
              "#fb9f3a"
             ],
             [
              0.8888888888888888,
              "#fdca26"
             ],
             [
              1,
              "#f0f921"
             ]
            ],
            "type": "contour"
           }
          ],
          "contourcarpet": [
           {
            "colorbar": {
             "outlinewidth": 0,
             "ticks": ""
            },
            "type": "contourcarpet"
           }
          ],
          "heatmap": [
           {
            "colorbar": {
             "outlinewidth": 0,
             "ticks": ""
            },
            "colorscale": [
             [
              0,
              "#0d0887"
             ],
             [
              0.1111111111111111,
              "#46039f"
             ],
             [
              0.2222222222222222,
              "#7201a8"
             ],
             [
              0.3333333333333333,
              "#9c179e"
             ],
             [
              0.4444444444444444,
              "#bd3786"
             ],
             [
              0.5555555555555556,
              "#d8576b"
             ],
             [
              0.6666666666666666,
              "#ed7953"
             ],
             [
              0.7777777777777778,
              "#fb9f3a"
             ],
             [
              0.8888888888888888,
              "#fdca26"
             ],
             [
              1,
              "#f0f921"
             ]
            ],
            "type": "heatmap"
           }
          ],
          "heatmapgl": [
           {
            "colorbar": {
             "outlinewidth": 0,
             "ticks": ""
            },
            "colorscale": [
             [
              0,
              "#0d0887"
             ],
             [
              0.1111111111111111,
              "#46039f"
             ],
             [
              0.2222222222222222,
              "#7201a8"
             ],
             [
              0.3333333333333333,
              "#9c179e"
             ],
             [
              0.4444444444444444,
              "#bd3786"
             ],
             [
              0.5555555555555556,
              "#d8576b"
             ],
             [
              0.6666666666666666,
              "#ed7953"
             ],
             [
              0.7777777777777778,
              "#fb9f3a"
             ],
             [
              0.8888888888888888,
              "#fdca26"
             ],
             [
              1,
              "#f0f921"
             ]
            ],
            "type": "heatmapgl"
           }
          ],
          "histogram": [
           {
            "marker": {
             "pattern": {
              "fillmode": "overlay",
              "size": 10,
              "solidity": 0.2
             }
            },
            "type": "histogram"
           }
          ],
          "histogram2d": [
           {
            "colorbar": {
             "outlinewidth": 0,
             "ticks": ""
            },
            "colorscale": [
             [
              0,
              "#0d0887"
             ],
             [
              0.1111111111111111,
              "#46039f"
             ],
             [
              0.2222222222222222,
              "#7201a8"
             ],
             [
              0.3333333333333333,
              "#9c179e"
             ],
             [
              0.4444444444444444,
              "#bd3786"
             ],
             [
              0.5555555555555556,
              "#d8576b"
             ],
             [
              0.6666666666666666,
              "#ed7953"
             ],
             [
              0.7777777777777778,
              "#fb9f3a"
             ],
             [
              0.8888888888888888,
              "#fdca26"
             ],
             [
              1,
              "#f0f921"
             ]
            ],
            "type": "histogram2d"
           }
          ],
          "histogram2dcontour": [
           {
            "colorbar": {
             "outlinewidth": 0,
             "ticks": ""
            },
            "colorscale": [
             [
              0,
              "#0d0887"
             ],
             [
              0.1111111111111111,
              "#46039f"
             ],
             [
              0.2222222222222222,
              "#7201a8"
             ],
             [
              0.3333333333333333,
              "#9c179e"
             ],
             [
              0.4444444444444444,
              "#bd3786"
             ],
             [
              0.5555555555555556,
              "#d8576b"
             ],
             [
              0.6666666666666666,
              "#ed7953"
             ],
             [
              0.7777777777777778,
              "#fb9f3a"
             ],
             [
              0.8888888888888888,
              "#fdca26"
             ],
             [
              1,
              "#f0f921"
             ]
            ],
            "type": "histogram2dcontour"
           }
          ],
          "mesh3d": [
           {
            "colorbar": {
             "outlinewidth": 0,
             "ticks": ""
            },
            "type": "mesh3d"
           }
          ],
          "parcoords": [
           {
            "line": {
             "colorbar": {
              "outlinewidth": 0,
              "ticks": ""
             }
            },
            "type": "parcoords"
           }
          ],
          "pie": [
           {
            "automargin": true,
            "type": "pie"
           }
          ],
          "scatter": [
           {
            "fillpattern": {
             "fillmode": "overlay",
             "size": 10,
             "solidity": 0.2
            },
            "type": "scatter"
           }
          ],
          "scatter3d": [
           {
            "line": {
             "colorbar": {
              "outlinewidth": 0,
              "ticks": ""
             }
            },
            "marker": {
             "colorbar": {
              "outlinewidth": 0,
              "ticks": ""
             }
            },
            "type": "scatter3d"
           }
          ],
          "scattercarpet": [
           {
            "marker": {
             "colorbar": {
              "outlinewidth": 0,
              "ticks": ""
             }
            },
            "type": "scattercarpet"
           }
          ],
          "scattergeo": [
           {
            "marker": {
             "colorbar": {
              "outlinewidth": 0,
              "ticks": ""
             }
            },
            "type": "scattergeo"
           }
          ],
          "scattergl": [
           {
            "marker": {
             "colorbar": {
              "outlinewidth": 0,
              "ticks": ""
             }
            },
            "type": "scattergl"
           }
          ],
          "scattermapbox": [
           {
            "marker": {
             "colorbar": {
              "outlinewidth": 0,
              "ticks": ""
             }
            },
            "type": "scattermapbox"
           }
          ],
          "scatterpolar": [
           {
            "marker": {
             "colorbar": {
              "outlinewidth": 0,
              "ticks": ""
             }
            },
            "type": "scatterpolar"
           }
          ],
          "scatterpolargl": [
           {
            "marker": {
             "colorbar": {
              "outlinewidth": 0,
              "ticks": ""
             }
            },
            "type": "scatterpolargl"
           }
          ],
          "scatterternary": [
           {
            "marker": {
             "colorbar": {
              "outlinewidth": 0,
              "ticks": ""
             }
            },
            "type": "scatterternary"
           }
          ],
          "surface": [
           {
            "colorbar": {
             "outlinewidth": 0,
             "ticks": ""
            },
            "colorscale": [
             [
              0,
              "#0d0887"
             ],
             [
              0.1111111111111111,
              "#46039f"
             ],
             [
              0.2222222222222222,
              "#7201a8"
             ],
             [
              0.3333333333333333,
              "#9c179e"
             ],
             [
              0.4444444444444444,
              "#bd3786"
             ],
             [
              0.5555555555555556,
              "#d8576b"
             ],
             [
              0.6666666666666666,
              "#ed7953"
             ],
             [
              0.7777777777777778,
              "#fb9f3a"
             ],
             [
              0.8888888888888888,
              "#fdca26"
             ],
             [
              1,
              "#f0f921"
             ]
            ],
            "type": "surface"
           }
          ],
          "table": [
           {
            "cells": {
             "fill": {
              "color": "#EBF0F8"
             },
             "line": {
              "color": "white"
             }
            },
            "header": {
             "fill": {
              "color": "#C8D4E3"
             },
             "line": {
              "color": "white"
             }
            },
            "type": "table"
           }
          ]
         },
         "layout": {
          "annotationdefaults": {
           "arrowcolor": "#2a3f5f",
           "arrowhead": 0,
           "arrowwidth": 1
          },
          "autotypenumbers": "strict",
          "coloraxis": {
           "colorbar": {
            "outlinewidth": 0,
            "ticks": ""
           }
          },
          "colorscale": {
           "diverging": [
            [
             0,
             "#8e0152"
            ],
            [
             0.1,
             "#c51b7d"
            ],
            [
             0.2,
             "#de77ae"
            ],
            [
             0.3,
             "#f1b6da"
            ],
            [
             0.4,
             "#fde0ef"
            ],
            [
             0.5,
             "#f7f7f7"
            ],
            [
             0.6,
             "#e6f5d0"
            ],
            [
             0.7,
             "#b8e186"
            ],
            [
             0.8,
             "#7fbc41"
            ],
            [
             0.9,
             "#4d9221"
            ],
            [
             1,
             "#276419"
            ]
           ],
           "sequential": [
            [
             0,
             "#0d0887"
            ],
            [
             0.1111111111111111,
             "#46039f"
            ],
            [
             0.2222222222222222,
             "#7201a8"
            ],
            [
             0.3333333333333333,
             "#9c179e"
            ],
            [
             0.4444444444444444,
             "#bd3786"
            ],
            [
             0.5555555555555556,
             "#d8576b"
            ],
            [
             0.6666666666666666,
             "#ed7953"
            ],
            [
             0.7777777777777778,
             "#fb9f3a"
            ],
            [
             0.8888888888888888,
             "#fdca26"
            ],
            [
             1,
             "#f0f921"
            ]
           ],
           "sequentialminus": [
            [
             0,
             "#0d0887"
            ],
            [
             0.1111111111111111,
             "#46039f"
            ],
            [
             0.2222222222222222,
             "#7201a8"
            ],
            [
             0.3333333333333333,
             "#9c179e"
            ],
            [
             0.4444444444444444,
             "#bd3786"
            ],
            [
             0.5555555555555556,
             "#d8576b"
            ],
            [
             0.6666666666666666,
             "#ed7953"
            ],
            [
             0.7777777777777778,
             "#fb9f3a"
            ],
            [
             0.8888888888888888,
             "#fdca26"
            ],
            [
             1,
             "#f0f921"
            ]
           ]
          },
          "colorway": [
           "#636efa",
           "#EF553B",
           "#00cc96",
           "#ab63fa",
           "#FFA15A",
           "#19d3f3",
           "#FF6692",
           "#B6E880",
           "#FF97FF",
           "#FECB52"
          ],
          "font": {
           "color": "#2a3f5f"
          },
          "geo": {
           "bgcolor": "white",
           "lakecolor": "white",
           "landcolor": "#E5ECF6",
           "showlakes": true,
           "showland": true,
           "subunitcolor": "white"
          },
          "hoverlabel": {
           "align": "left"
          },
          "hovermode": "closest",
          "mapbox": {
           "style": "light"
          },
          "paper_bgcolor": "white",
          "plot_bgcolor": "#E5ECF6",
          "polar": {
           "angularaxis": {
            "gridcolor": "white",
            "linecolor": "white",
            "ticks": ""
           },
           "bgcolor": "#E5ECF6",
           "radialaxis": {
            "gridcolor": "white",
            "linecolor": "white",
            "ticks": ""
           }
          },
          "scene": {
           "xaxis": {
            "backgroundcolor": "#E5ECF6",
            "gridcolor": "white",
            "gridwidth": 2,
            "linecolor": "white",
            "showbackground": true,
            "ticks": "",
            "zerolinecolor": "white"
           },
           "yaxis": {
            "backgroundcolor": "#E5ECF6",
            "gridcolor": "white",
            "gridwidth": 2,
            "linecolor": "white",
            "showbackground": true,
            "ticks": "",
            "zerolinecolor": "white"
           },
           "zaxis": {
            "backgroundcolor": "#E5ECF6",
            "gridcolor": "white",
            "gridwidth": 2,
            "linecolor": "white",
            "showbackground": true,
            "ticks": "",
            "zerolinecolor": "white"
           }
          },
          "shapedefaults": {
           "line": {
            "color": "#2a3f5f"
           }
          },
          "ternary": {
           "aaxis": {
            "gridcolor": "white",
            "linecolor": "white",
            "ticks": ""
           },
           "baxis": {
            "gridcolor": "white",
            "linecolor": "white",
            "ticks": ""
           },
           "bgcolor": "#E5ECF6",
           "caxis": {
            "gridcolor": "white",
            "linecolor": "white",
            "ticks": ""
           }
          },
          "title": {
           "x": 0.05
          },
          "xaxis": {
           "automargin": true,
           "gridcolor": "white",
           "linecolor": "white",
           "ticks": "",
           "title": {
            "standoff": 15
           },
           "zerolinecolor": "white",
           "zerolinewidth": 2
          },
          "yaxis": {
           "automargin": true,
           "gridcolor": "white",
           "linecolor": "white",
           "ticks": "",
           "title": {
            "standoff": 15
           },
           "zerolinecolor": "white",
           "zerolinewidth": 2
          }
         }
        },
        "title": {
         "y": 1
        },
        "width": 1650
       }
      }
     },
     "metadata": {},
     "output_type": "display_data"
    }
   ],
   "source": [
    "position = positions[0]\n",
    "df = players_stats.loc[players_stats.index.get_level_values(1) == position]\n",
    "\n",
    "ROWS, COLUMNS = get_rows_columns(df, len(origin_columns))\n",
    "min_value, max_value = 0, 1\n",
    "\n",
    "fig = get_fig_subplots(df.index.get_level_values(0), ROWS, COLUMNS, len(origin_columns))\n",
    "for i, player_name in enumerate(df.index.get_level_values(0)):\n",
    "    for j, (key, cols) in enumerate(columns.items()):\n",
    "        _df = df.loc[(player_name, position), cols]\n",
    "        theta_list = get_theta_list(df, (player_name, position), origin_columns[key], rank_columns[key])\n",
    "\n",
    "        fig.add_trace(\n",
    "            go.Scatterpolar(r=_df, theta=theta_list, fill=\"toself\", name=player_name),\n",
    "            row=i + 1,\n",
    "            col=j + 1,\n",
    "        )\n",
    "\n",
    "fig.update_layout(\n",
    "    height=350 * ROWS, width=550 * COLUMNS, showlegend=False, title=dict(y=1)\n",
    ")\n",
    "fig.update_annotations(yshift=20)\n",
    "fig.update_polars(\n",
    "    radialaxis=dict(range=[min_value - 0.2, max_value + 0.2], visible=False)\n",
    ")\n",
    "fig.show()"
   ]
  },
  {
   "cell_type": "code",
   "execution_count": 23,
   "metadata": {},
   "outputs": [
    {
     "data": {
      "application/vnd.plotly.v1+json": {
       "config": {
        "plotlyServerURL": "https://plot.ly"
       },
       "data": [
        {
         "fill": "toself",
         "name": "Croco",
         "r": [
          0.09482758620689652,
          0.4298245614035087,
          0.444078947368421,
          0.09272371196143415,
          0.32081645574389117,
          0.0975753330334922,
          0.5879535733368391
         ],
         "subplot": "polar",
         "theta": [
          "kills - 1.38 | 0.20000000000000004",
          "deaths - 3.75 | 0.9",
          "assists - 3.38 | 0.30000000000000004",
          "kda - 1.3 | 0.1",
          "dpm - 257.79 | 0.30000000000000004",
          "damageshare - 0.13 | 0.30000000000000004",
          "damagetakenperminute - 878.55 | 0.9"
         ],
         "type": "scatterpolar"
        },
        {
         "fill": "toself",
         "name": "Croco",
         "r": [
          0.2,
          0.125,
          0.25393078379075984,
          0.04519957908254302,
          0.40594059405940597,
          0,
          0,
          0,
          0.11997818376536262,
          0,
          0.7142857142857142
         ],
         "subplot": "polar2",
         "theta": [
          "firstblood - 0.12 | 0.20000000000000004",
          "firstbloodvictim - 0.12 | 0.7000000000000001",
          "wpm - 0.45 | 0.4",
          "wcpm - 0.39 | 0.1",
          "controlwardsbought - 11.0 | 0.20000000000000004",
          "vspm - 1.5 | 0.0",
          "gpm - 295.08 | 0.0",
          "gdpm - -81.4 | 0.0",
          "goldshare - 0.19 | 0.4",
          "cspm - 4.98 | 0.0",
          "champions - 6.0 | 0.4"
         ],
         "type": "scatterpolar"
        },
        {
         "fill": "toself",
         "name": "Croco",
         "r": [
          0,
          0,
          0,
          0,
          0,
          0
         ],
         "subplot": "polar3",
         "theta": [
          "golddiffat10 - -323.5 | 0.0",
          "xpdiffat10 - -342.75 | 0.0",
          "csdiffat10 - -11.75 | 0.0",
          "golddiffat15 - -737.88 | 0.0",
          "xpdiffat15 - -449.88 | 0.0",
          "csdiffat15 - -16.75 | 0.0"
         ],
         "type": "scatterpolar"
        },
        {
         "fill": "toself",
         "name": "Juhan",
         "r": [
          1,
          0.9999999999999998,
          0,
          0,
          0.9999999999999999,
          1,
          1
         ],
         "subplot": "polar4",
         "theta": [
          "kills - 4.0 | 1.0",
          "deaths - 7.0 | 1.0",
          "assists - 0.0 | 0.0",
          "kda - 0.57 | 0.0",
          "dpm - 411.02 | 1.0",
          "damageshare - 0.25 | 1.0",
          "damagetakenperminute - 946.67 | 1.0"
         ],
         "type": "scatterpolar"
        },
        {
         "fill": "toself",
         "name": "Juhan",
         "r": [
          0,
          1,
          0,
          0.06345865734465317,
          0.40594059405940597,
          0.030618651533366403,
          0.6860889244567798,
          0.4092164408380896,
          1.0000000000000004,
          0.5276132063655932,
          0
         ],
         "subplot": "polar5",
         "theta": [
          "firstblood - 0.0 | 0.0",
          "firstbloodvictim - 1.0 | 1.0",
          "wpm - 0.39 | 0.0",
          "wcpm - 0.39 | 0.20000000000000004",
          "controlwardsbought - 11.0 | 0.20000000000000004",
          "vspm - 1.52 | 0.1",
          "gpm - 350.21 | 0.7000000000000001",
          "gdpm - -22.97 | 0.30000000000000004",
          "goldshare - 0.23 | 1.0",
          "cspm - 5.67 | 0.4",
          "champions - 1.0 | 0.0"
         ],
         "type": "scatterpolar"
        },
        {
         "fill": "toself",
         "name": "Juhan",
         "r": [
          1,
          1,
          1,
          1,
          1,
          1
         ],
         "subplot": "polar6",
         "theta": [
          "golddiffat10 - 410.0 | 1.0",
          "xpdiffat10 - 401.0 | 1.0",
          "csdiffat10 - 9.0 | 1.0",
          "golddiffat15 - 965.0 | 1.0",
          "xpdiffat15 - 581.0 | 1.0",
          "csdiffat15 - 14.0 | 1.0"
         ],
         "type": "scatterpolar"
        },
        {
         "fill": "toself",
         "name": "Canyon",
         "r": [
          0.37931034482758624,
          0,
          0.8684210526315789,
          0.8894245254594756,
          0.7140280746761031,
          0.2807290824245079,
          0.5828717661256047
         ],
         "subplot": "polar7",
         "theta": [
          "kills - 2.2 | 0.6000000000000001",
          "deaths - 1.3 | 0.0",
          "assists - 6.6 | 0.9",
          "kda - 7.6 | 0.9",
          "dpm - 346.5 | 0.9",
          "damageshare - 0.16 | 0.8",
          "damagetakenperminute - 877.71 | 0.8"
         ],
         "type": "scatterpolar"
        },
        {
         "fill": "toself",
         "name": "Canyon",
         "r": [
          0.48,
          0,
          0.11518110642691237,
          0.4251623029178857,
          0.5445544554455447,
          0.3809766235283236,
          0.7408414965622145,
          1,
          0.14882101692450656,
          0.8874673123854273,
          0.8571428571428572
         ],
         "subplot": "polar8",
         "theta": [
          "firstblood - 0.3 | 0.4",
          "firstbloodvictim - 0.0 | 0.0",
          "wpm - 0.42 | 0.20000000000000004",
          "wcpm - 0.46 | 0.30000000000000004",
          "controlwardsbought - 12.4 | 0.6000000000000001",
          "vspm - 1.72 | 0.30000000000000004",
          "gpm - 354.61 | 0.9",
          "gdpm - 61.4 | 1.0",
          "goldshare - 0.19 | 0.6000000000000001",
          "cspm - 6.15 | 0.9",
          "champions - 7.0 | 0.8"
         ],
         "type": "scatterpolar"
        },
        {
         "fill": "toself",
         "name": "Canyon",
         "r": [
          0.7869120654396728,
          0.7992605042016807,
          0.9228915662650603,
          0.7273434632606621,
          0.8269431308354553,
          0.869918699186992
         ],
         "subplot": "polar9",
         "theta": [
          "golddiffat10 - 253.7 | 0.9",
          "xpdiffat10 - 251.7 | 0.9",
          "csdiffat10 - 7.4 | 0.9",
          "golddiffat15 - 500.7 | 0.9",
          "xpdiffat15 - 402.6 | 0.9",
          "csdiffat15 - 10.0 | 0.9"
         ],
         "type": "scatterpolar"
        },
        {
         "fill": "toself",
         "name": "Peanut",
         "r": [
          0.517241379310345,
          0.05263157894736842,
          0.7236842105263157,
          0.7913528171135883,
          0.5624503090820526,
          0.2784232406331939,
          0.12613795610995293
         ],
         "subplot": "polar10",
         "theta": [
          "kills - 2.6 | 0.9",
          "deaths - 1.6 | 0.20000000000000004",
          "assists - 5.5 | 0.6000000000000001",
          "kda - 6.82 | 0.8",
          "dpm - 312.3 | 0.7000000000000001",
          "damageshare - 0.16 | 0.7000000000000001",
          "damagetakenperminute - 802.2 | 0.1"
         ],
         "type": "scatterpolar"
        },
        {
         "fill": "toself",
         "name": "Peanut",
         "r": [
          0.96,
          0,
          0.278370472339327,
          0.821805664550189,
          0,
          0.6122591415485998,
          0.9999999999999996,
          0.9279344751153742,
          0.27971143638593166,
          1.0000000000000004,
          0.7142857142857142
         ],
         "subplot": "polar11",
         "theta": [
          "firstblood - 0.6 | 0.7000000000000001",
          "firstbloodvictim - 0.0 | 0.0",
          "wpm - 0.46 | 0.6000000000000001",
          "wcpm - 0.53 | 0.7000000000000001",
          "controlwardsbought - 6.9 | 0.0",
          "vspm - 1.85 | 0.6000000000000001",
          "gpm - 375.43 | 1.0",
          "gdpm - 51.11 | 0.9",
          "goldshare - 0.2 | 0.9",
          "cspm - 6.3 | 1.0",
          "champions - 6.0 | 0.4"
         ],
         "type": "scatterpolar"
        },
        {
         "fill": "toself",
         "name": "Peanut",
         "r": [
          0.556237218813906,
          0.6978823529411765,
          0.5855421686746989,
          0.52139763635029,
          0.6154722929550139,
          0.6195121951219513
         ],
         "subplot": "polar12",
         "theta": [
          "golddiffat10 - 84.5 | 0.7000000000000001",
          "xpdiffat10 - 176.3 | 0.8",
          "csdiffat10 - 0.4 | 0.6000000000000001",
          "golddiffat15 - 150.0 | 0.6000000000000001",
          "xpdiffat15 - 184.6 | 0.7000000000000001",
          "csdiffat15 - 2.3 | 0.5000000000000001"
         ],
         "type": "scatterpolar"
        },
        {
         "fill": "toself",
         "name": "Clid",
         "r": [
          0.41379310344827586,
          0.10526315789473684,
          0.6710526315789472,
          0.6068092799035852,
          0.4065644976923558,
          0.09938242395465413,
          0.20816060208619458
         ],
         "subplot": "polar13",
         "theta": [
          "kills - 2.3 | 0.7000000000000001",
          "deaths - 1.9 | 0.4",
          "assists - 5.1 | 0.5000000000000001",
          "kda - 5.37 | 0.7000000000000001",
          "dpm - 277.13 | 0.4",
          "damageshare - 0.13 | 0.4",
          "damagetakenperminute - 815.76 | 0.4"
         ],
         "type": "scatterpolar"
        },
        {
         "fill": "toself",
         "name": "Clid",
         "r": [
          0.8,
          0,
          0.20058934870515333,
          0.5105586074052937,
          0.6633663366336634,
          0.6344587589979711,
          0.7070728615929798,
          0.7871689051857688,
          0.26829458652830196,
          0.8094421187267291,
          0.7142857142857142
         ],
         "subplot": "polar14",
         "theta": [
          "firstblood - 0.5 | 0.6000000000000001",
          "firstbloodvictim - 0.0 | 0.0",
          "wpm - 0.44 | 0.30000000000000004",
          "wcpm - 0.47 | 0.4",
          "controlwardsbought - 13.6 | 0.7000000000000001",
          "vspm - 1.86 | 0.7000000000000001",
          "gpm - 351.89 | 0.8",
          "gdpm - 31.01 | 0.7000000000000001",
          "goldshare - 0.2 | 0.8",
          "cspm - 6.04 | 0.8",
          "champions - 6.0 | 0.4"
         ],
         "type": "scatterpolar"
        },
        {
         "fill": "toself",
         "name": "Clid",
         "r": [
          0.3840490797546013,
          0.5249747899159665,
          0.5469879518072289,
          0.5502899508184688,
          0.7304231841881896,
          0.6227642276422765
         ],
         "subplot": "polar15",
         "theta": [
          "golddiffat10 - -41.8 | 0.30000000000000004",
          "xpdiffat10 - 47.7 | 0.6000000000000001",
          "csdiffat10 - -0.4 | 0.30000000000000004",
          "golddiffat15 - 199.2 | 0.7000000000000001",
          "xpdiffat15 - 303.1 | 0.8",
          "csdiffat15 - 2.4 | 0.6000000000000001"
         ],
         "type": "scatterpolar"
        },
        {
         "fill": "toself",
         "name": "Cuzz",
         "r": [
          0.24137931034482757,
          0.12280701754385964,
          0.9999999999999999,
          1,
          0.6146294849252968,
          0.3675322733235722,
          0.5118721448413428
         ],
         "subplot": "polar16",
         "theta": [
          "kills - 1.8 | 0.5000000000000001",
          "deaths - 2.0 | 0.5000000000000001",
          "assists - 7.6 | 1.0",
          "kda - 8.47 | 1.0",
          "dpm - 324.08 | 0.8",
          "damageshare - 0.17 | 0.9",
          "damagetakenperminute - 865.97 | 0.7000000000000001"
         ],
         "type": "scatterpolar"
        },
        {
         "fill": "toself",
         "name": "Cuzz",
         "r": [
          0.96,
          0.3,
          0.005187989331497889,
          0,
          0.3168316831683168,
          0.12500644884967116,
          0.6637316968723144,
          0.513762796962078,
          0.04941465132587908,
          0.612166434516602,
          0.42857142857142855
         ],
         "subplot": "polar17",
         "theta": [
          "firstblood - 0.6 | 0.7000000000000001",
          "firstbloodvictim - 0.3 | 0.9",
          "wpm - 0.39 | 0.1",
          "wcpm - 0.38 | 0.0",
          "controlwardsbought - 10.1 | 0.1",
          "vspm - 1.57 | 0.20000000000000004",
          "gpm - 348.41 | 0.6000000000000001",
          "gdpm - -8.04 | 0.6000000000000001",
          "goldshare - 0.18 | 0.20000000000000004",
          "cspm - 5.78 | 0.6000000000000001",
          "champions - 4.0 | 0.1"
         ],
         "type": "scatterpolar"
        },
        {
         "fill": "toself",
         "name": "Cuzz",
         "r": [
          0.412678936605317,
          0.2863193277310924,
          0.5807228915662651,
          0.4414152536152096,
          0.5203104159088153,
          0.6227642276422765
         ],
         "subplot": "polar18",
         "theta": [
          "golddiffat10 - -20.8 | 0.4",
          "xpdiffat10 - -129.8 | 0.20000000000000004",
          "csdiffat10 - 0.3 | 0.5000000000000001",
          "golddiffat15 - 13.8 | 0.4",
          "xpdiffat15 - 86.5 | 0.6000000000000001",
          "csdiffat15 - 2.4 | 0.6000000000000001"
         ],
         "type": "scatterpolar"
        },
        {
         "fill": "toself",
         "name": "YoungJae",
         "r": [
          0.18103448275862072,
          0.057017543859649134,
          0.7236842105263157,
          0.5235010545344982,
          0.44695371237529347,
          0.13420986129964174,
          0.40911627525776506
         ],
         "subplot": "polar19",
         "theta": [
          "kills - 1.62 | 0.4",
          "deaths - 1.62 | 0.30000000000000004",
          "assists - 5.5 | 0.6000000000000001",
          "kda - 4.71 | 0.6000000000000001",
          "dpm - 286.25 | 0.6000000000000001",
          "damageshare - 0.14 | 0.5000000000000001",
          "damagetakenperminute - 848.98 | 0.5000000000000001"
         ],
         "type": "scatterpolar"
        },
        {
         "fill": "toself",
         "name": "YoungJae",
         "r": [
          1,
          0,
          0.5518530069689409,
          0.7395796176071916,
          1,
          0.851605885244545,
          0.4230646348180458,
          0.5107984005939126,
          0.04670147989340778,
          0.6345572132883457,
          0.5714285714285714
         ],
         "subplot": "polar20",
         "theta": [
          "firstblood - 0.62 | 1.0",
          "firstbloodvictim - 0.0 | 0.0",
          "wpm - 0.53 | 0.8",
          "wcpm - 0.51 | 0.6000000000000001",
          "controlwardsbought - 17.0 | 1.0",
          "vspm - 1.98 | 0.8",
          "gpm - 329.08 | 0.4",
          "gdpm - -8.46 | 0.5000000000000001",
          "goldshare - 0.18 | 0.1",
          "cspm - 5.81 | 0.7000000000000001",
          "champions - 5.0 | 0.20000000000000004"
         ],
         "type": "scatterpolar"
        },
        {
         "fill": "toself",
         "name": "YoungJae",
         "r": [
          0.6048057259713702,
          0.4689075630252101,
          0.6807228915662651,
          0.4863833223225428,
          0.23390323754092399,
          0.5203252032520326
         ],
         "subplot": "polar21",
         "theta": [
          "golddiffat10 - 120.12 | 0.8",
          "xpdiffat10 - 6.0 | 0.4",
          "csdiffat10 - 2.38 | 0.7000000000000001",
          "golddiffat15 - 90.38 | 0.5000000000000001",
          "xpdiffat15 - -208.75 | 0.30000000000000004",
          "csdiffat15 - -0.75 | 0.30000000000000004"
         ],
         "type": "scatterpolar"
        },
        {
         "fill": "toself",
         "name": "Willer",
         "r": [
          0.09482758620689652,
          0.34210526315789475,
          0.6578947368421052,
          0.2891307622777945,
          0.24225726964445038,
          0.06657744930500109,
          0
         ],
         "subplot": "polar22",
         "theta": [
          "kills - 1.38 | 0.20000000000000004",
          "deaths - 3.25 | 0.8",
          "assists - 5.0 | 0.4",
          "kda - 2.86 | 0.30000000000000004",
          "dpm - 240.06 | 0.20000000000000004",
          "damageshare - 0.13 | 0.1",
          "damagetakenperminute - 781.34 | 0.0"
         ],
         "type": "scatterpolar"
        },
        {
         "fill": "toself",
         "name": "Willer",
         "r": [
          0.6000000000000001,
          0.125,
          0.9570678826464771,
          0.9156158593136907,
          0.8638613861386139,
          0.9631734180850082,
          0.40013223684509613,
          0.4429973987829622,
          0.20659864099614733,
          0.5233054626744447,
          0.8571428571428572
         ],
         "subplot": "polar23",
         "theta": [
          "firstblood - 0.38 | 0.5000000000000001",
          "firstbloodvictim - 0.12 | 0.7000000000000001",
          "wpm - 0.64 | 0.9",
          "wcpm - 0.55 | 0.9",
          "controlwardsbought - 15.62 | 0.9",
          "vspm - 2.05 | 0.9",
          "gpm - 327.23 | 0.30000000000000004",
          "gdpm - -18.14 | 0.4",
          "goldshare - 0.19 | 0.7000000000000001",
          "cspm - 5.67 | 0.30000000000000004",
          "champions - 7.0 | 0.8"
         ],
         "type": "scatterpolar"
        },
        {
         "fill": "toself",
         "name": "Willer",
         "r": [
          0.3035105657805045,
          0.645546218487395,
          0.7349397590361446,
          0.2040666519856126,
          0.168667394203953,
          0.4308943089430895
         ],
         "subplot": "polar24",
         "theta": [
          "golddiffat10 - -100.88 | 0.20000000000000004",
          "xpdiffat10 - 137.38 | 0.7000000000000001",
          "csdiffat10 - 3.5 | 0.8",
          "golddiffat15 - -390.38 | 0.20000000000000004",
          "xpdiffat15 - -276.0 | 0.20000000000000004",
          "csdiffat15 - -3.5 | 0.20000000000000004"
         ],
         "type": "scatterpolar"
        },
        {
         "fill": "toself",
         "name": "Sylvie",
         "r": [
          0.04214559386973182,
          0.12280701754385964,
          0.3216374269005848,
          0.2417060024773191,
          0,
          0,
          0.1606985187931116
         ],
         "subplot": "polar25",
         "theta": [
          "kills - 1.22 | 0.1",
          "deaths - 2.0 | 0.5000000000000001",
          "assists - 2.44 | 0.1",
          "kda - 2.48 | 0.20000000000000004",
          "dpm - 185.4 | 0.0",
          "damageshare - 0.12 | 0.0",
          "damagetakenperminute - 807.91 | 0.30000000000000004"
         ],
         "type": "scatterpolar"
        },
        {
         "fill": "toself",
         "name": "Sylvie",
         "r": [
          0.17777777777777778,
          0.1111111111111111,
          1,
          1,
          0.691969196919692,
          1,
          0.22900609220864876,
          0.18640081163573313,
          0.13558599517875303,
          0.5480744617639774,
          0.5714285714285714
         ],
         "subplot": "polar26",
         "theta": [
          "firstblood - 0.11 | 0.1",
          "firstbloodvictim - 0.11 | 0.6000000000000001",
          "wpm - 0.65 | 1.0",
          "wcpm - 0.56 | 1.0",
          "controlwardsbought - 13.89 | 0.8",
          "vspm - 2.07 | 1.0",
          "gpm - 313.48 | 0.20000000000000004",
          "gdpm - -54.79 | 0.1",
          "goldshare - 0.19 | 0.5000000000000001",
          "cspm - 5.7 | 0.5000000000000001",
          "champions - 5.0 | 0.20000000000000004"
         ],
         "type": "scatterpolar"
        },
        {
         "fill": "toself",
         "name": "Sylvie",
         "r": [
          0.26365220025751723,
          0.4838468720821662,
          0.47523427041499333,
          0.19293351929335198,
          0.017662988561497117,
          0.30984643179765137
         ],
         "subplot": "polar27",
         "theta": [
          "golddiffat10 - -130.11 | 0.1",
          "xpdiffat10 - 17.11 | 0.5000000000000001",
          "csdiffat10 - -1.89 | 0.1",
          "golddiffat15 - -409.33 | 0.1",
          "xpdiffat15 - -431.67 | 0.1",
          "csdiffat15 - -7.22 | 0.1"
         ],
         "type": "scatterpolar"
        },
        {
         "fill": "toself",
         "name": "UmTi",
         "r": [
          0,
          0.03508771929824561,
          0.40789473684210525,
          0.3642663452847243,
          0.1516756293887458,
          0.13771702542910402,
          0.15352918231953172
         ],
         "subplot": "polar28",
         "theta": [
          "kills - 1.1 | 0.0",
          "deaths - 1.5 | 0.1",
          "assists - 3.1 | 0.20000000000000004",
          "kda - 3.45 | 0.4",
          "dpm - 219.62 | 0.1",
          "damageshare - 0.14 | 0.6000000000000001",
          "damagetakenperminute - 806.73 | 0.20000000000000004"
         ],
         "type": "scatterpolar"
        },
        {
         "fill": "toself",
         "name": "UmTi",
         "r": [
          0.96,
          0.1,
          0.2754280306289254,
          0.910251837055005,
          0.42574257425742557,
          0.5624107503540783,
          0.1935038518734027,
          0.35994209649129205,
          0.09214255270077532,
          0.47204141506533714,
          0.7142857142857142
         ],
         "subplot": "polar29",
         "theta": [
          "firstblood - 0.6 | 0.7000000000000001",
          "firstbloodvictim - 0.1 | 0.5000000000000001",
          "wpm - 0.46 | 0.5000000000000001",
          "wcpm - 0.55 | 0.8",
          "controlwardsbought - 11.2 | 0.4",
          "vspm - 1.82 | 0.5000000000000001",
          "gpm - 310.63 | 0.1",
          "gdpm - -30.0 | 0.20000000000000004",
          "goldshare - 0.19 | 0.30000000000000004",
          "cspm - 5.6 | 0.20000000000000004",
          "champions - 6.0 | 0.4"
         ],
         "type": "scatterpolar"
        },
        {
         "fill": "toself",
         "name": "UmTi",
         "r": [
          0.46816632583503753,
          0.35905882352941176,
          0.5469879518072289,
          0.4321368274242091,
          0.4645325572935613,
          0.6292682926829269
         ],
         "subplot": "polar30",
         "theta": [
          "golddiffat10 - 19.9 | 0.5000000000000001",
          "xpdiffat10 - -75.7 | 0.30000000000000004",
          "csdiffat10 - -0.4 | 0.30000000000000004",
          "golddiffat15 - -2.0 | 0.30000000000000004",
          "xpdiffat15 - 29.0 | 0.4",
          "csdiffat15 - 2.6 | 0.8"
         ],
         "type": "scatterpolar"
        },
        {
         "fill": "toself",
         "name": "Oner",
         "r": [
          0.41379310344827586,
          0.26315789473684204,
          0.7763157894736842,
          0.41868032539921657,
          0.41251832176002357,
          0.08878821956567096,
          0.41240247540521313
         ],
         "subplot": "polar31",
         "theta": [
          "kills - 2.3 | 0.7000000000000001",
          "deaths - 2.8 | 0.7000000000000001",
          "assists - 5.9 | 0.8",
          "kda - 3.88 | 0.5000000000000001",
          "dpm - 278.48 | 0.5000000000000001",
          "damageshare - 0.13 | 0.20000000000000004",
          "damagetakenperminute - 849.52 | 0.6000000000000001"
         ],
         "type": "scatterpolar"
        },
        {
         "fill": "toself",
         "name": "Oner",
         "r": [
          0.32000000000000006,
          0,
          0.48337348361008337,
          0.5446957266176788,
          0.4554455445544555,
          0.5592218550298598,
          0.61812309546317,
          0.7978348997520455,
          0,
          0.43477089255690204,
          1
         ],
         "subplot": "polar32",
         "theta": [
          "firstblood - 0.2 | 0.30000000000000004",
          "firstbloodvictim - 0.0 | 0.0",
          "wpm - 0.51 | 0.7000000000000001",
          "wcpm - 0.48 | 0.5000000000000001",
          "controlwardsbought - 11.5 | 0.5000000000000001",
          "vspm - 1.82 | 0.4",
          "gpm - 344.75 | 0.5000000000000001",
          "gdpm - 32.53 | 0.8",
          "goldshare - 0.18 | 0.0",
          "cspm - 5.55 | 0.1",
          "champions - 8.0 | 1.0"
         ],
         "type": "scatterpolar"
        },
        {
         "fill": "toself",
         "name": "Oner",
         "r": [
          0.4737559645535106,
          0.23737815126050424,
          0.47951807228915666,
          0.5745430521911474,
          0.5065357099551352,
          0.6162601626016261
         ],
         "subplot": "polar33",
         "theta": [
          "golddiffat10 - 24.0 | 0.6000000000000001",
          "xpdiffat10 - -166.2 | 0.1",
          "csdiffat10 - -1.8 | 0.20000000000000004",
          "golddiffat15 - 240.5 | 0.8",
          "xpdiffat15 - 72.3 | 0.5000000000000001",
          "csdiffat15 - 2.2 | 0.4"
         ],
         "type": "scatterpolar"
        }
       ],
       "layout": {
        "annotations": [
         {
          "font": {
           "size": 16
          },
          "showarrow": false,
          "text": "Croco",
          "x": 0.14444444444444446,
          "xanchor": "center",
          "xref": "paper",
          "y": 0.9999999999999999,
          "yanchor": "bottom",
          "yref": "paper",
          "yshift": 20
         },
         {
          "font": {
           "size": 16
          },
          "showarrow": false,
          "text": "Croco",
          "x": 0.5,
          "xanchor": "center",
          "xref": "paper",
          "y": 0.9999999999999999,
          "yanchor": "bottom",
          "yref": "paper",
          "yshift": 20
         },
         {
          "font": {
           "size": 16
          },
          "showarrow": false,
          "text": "Croco",
          "x": 0.8555555555555556,
          "xanchor": "center",
          "xref": "paper",
          "y": 0.9999999999999999,
          "yanchor": "bottom",
          "yref": "paper",
          "yshift": 20
         },
         {
          "font": {
           "size": 16
          },
          "showarrow": false,
          "text": "Juhan",
          "x": 0.14444444444444446,
          "xanchor": "center",
          "xref": "paper",
          "y": 0.9049586776859503,
          "yanchor": "bottom",
          "yref": "paper",
          "yshift": 20
         },
         {
          "font": {
           "size": 16
          },
          "showarrow": false,
          "text": "Juhan",
          "x": 0.5,
          "xanchor": "center",
          "xref": "paper",
          "y": 0.9049586776859503,
          "yanchor": "bottom",
          "yref": "paper",
          "yshift": 20
         },
         {
          "font": {
           "size": 16
          },
          "showarrow": false,
          "text": "Juhan",
          "x": 0.8555555555555556,
          "xanchor": "center",
          "xref": "paper",
          "y": 0.9049586776859503,
          "yanchor": "bottom",
          "yref": "paper",
          "yshift": 20
         },
         {
          "font": {
           "size": 16
          },
          "showarrow": false,
          "text": "Canyon",
          "x": 0.14444444444444446,
          "xanchor": "center",
          "xref": "paper",
          "y": 0.8099173553719007,
          "yanchor": "bottom",
          "yref": "paper",
          "yshift": 20
         },
         {
          "font": {
           "size": 16
          },
          "showarrow": false,
          "text": "Canyon",
          "x": 0.5,
          "xanchor": "center",
          "xref": "paper",
          "y": 0.8099173553719007,
          "yanchor": "bottom",
          "yref": "paper",
          "yshift": 20
         },
         {
          "font": {
           "size": 16
          },
          "showarrow": false,
          "text": "Canyon",
          "x": 0.8555555555555556,
          "xanchor": "center",
          "xref": "paper",
          "y": 0.8099173553719007,
          "yanchor": "bottom",
          "yref": "paper",
          "yshift": 20
         },
         {
          "font": {
           "size": 16
          },
          "showarrow": false,
          "text": "Peanut",
          "x": 0.14444444444444446,
          "xanchor": "center",
          "xref": "paper",
          "y": 0.7148760330578511,
          "yanchor": "bottom",
          "yref": "paper",
          "yshift": 20
         },
         {
          "font": {
           "size": 16
          },
          "showarrow": false,
          "text": "Peanut",
          "x": 0.5,
          "xanchor": "center",
          "xref": "paper",
          "y": 0.7148760330578511,
          "yanchor": "bottom",
          "yref": "paper",
          "yshift": 20
         },
         {
          "font": {
           "size": 16
          },
          "showarrow": false,
          "text": "Peanut",
          "x": 0.8555555555555556,
          "xanchor": "center",
          "xref": "paper",
          "y": 0.7148760330578511,
          "yanchor": "bottom",
          "yref": "paper",
          "yshift": 20
         },
         {
          "font": {
           "size": 16
          },
          "showarrow": false,
          "text": "Clid",
          "x": 0.14444444444444446,
          "xanchor": "center",
          "xref": "paper",
          "y": 0.6198347107438015,
          "yanchor": "bottom",
          "yref": "paper",
          "yshift": 20
         },
         {
          "font": {
           "size": 16
          },
          "showarrow": false,
          "text": "Clid",
          "x": 0.5,
          "xanchor": "center",
          "xref": "paper",
          "y": 0.6198347107438015,
          "yanchor": "bottom",
          "yref": "paper",
          "yshift": 20
         },
         {
          "font": {
           "size": 16
          },
          "showarrow": false,
          "text": "Clid",
          "x": 0.8555555555555556,
          "xanchor": "center",
          "xref": "paper",
          "y": 0.6198347107438015,
          "yanchor": "bottom",
          "yref": "paper",
          "yshift": 20
         },
         {
          "font": {
           "size": 16
          },
          "showarrow": false,
          "text": "Cuzz",
          "x": 0.14444444444444446,
          "xanchor": "center",
          "xref": "paper",
          "y": 0.524793388429752,
          "yanchor": "bottom",
          "yref": "paper",
          "yshift": 20
         },
         {
          "font": {
           "size": 16
          },
          "showarrow": false,
          "text": "Cuzz",
          "x": 0.5,
          "xanchor": "center",
          "xref": "paper",
          "y": 0.524793388429752,
          "yanchor": "bottom",
          "yref": "paper",
          "yshift": 20
         },
         {
          "font": {
           "size": 16
          },
          "showarrow": false,
          "text": "Cuzz",
          "x": 0.8555555555555556,
          "xanchor": "center",
          "xref": "paper",
          "y": 0.524793388429752,
          "yanchor": "bottom",
          "yref": "paper",
          "yshift": 20
         },
         {
          "font": {
           "size": 16
          },
          "showarrow": false,
          "text": "YoungJae",
          "x": 0.14444444444444446,
          "xanchor": "center",
          "xref": "paper",
          "y": 0.42975206611570244,
          "yanchor": "bottom",
          "yref": "paper",
          "yshift": 20
         },
         {
          "font": {
           "size": 16
          },
          "showarrow": false,
          "text": "YoungJae",
          "x": 0.5,
          "xanchor": "center",
          "xref": "paper",
          "y": 0.42975206611570244,
          "yanchor": "bottom",
          "yref": "paper",
          "yshift": 20
         },
         {
          "font": {
           "size": 16
          },
          "showarrow": false,
          "text": "YoungJae",
          "x": 0.8555555555555556,
          "xanchor": "center",
          "xref": "paper",
          "y": 0.42975206611570244,
          "yanchor": "bottom",
          "yref": "paper",
          "yshift": 20
         },
         {
          "font": {
           "size": 16
          },
          "showarrow": false,
          "text": "Willer",
          "x": 0.14444444444444446,
          "xanchor": "center",
          "xref": "paper",
          "y": 0.33471074380165283,
          "yanchor": "bottom",
          "yref": "paper",
          "yshift": 20
         },
         {
          "font": {
           "size": 16
          },
          "showarrow": false,
          "text": "Willer",
          "x": 0.5,
          "xanchor": "center",
          "xref": "paper",
          "y": 0.33471074380165283,
          "yanchor": "bottom",
          "yref": "paper",
          "yshift": 20
         },
         {
          "font": {
           "size": 16
          },
          "showarrow": false,
          "text": "Willer",
          "x": 0.8555555555555556,
          "xanchor": "center",
          "xref": "paper",
          "y": 0.33471074380165283,
          "yanchor": "bottom",
          "yref": "paper",
          "yshift": 20
         },
         {
          "font": {
           "size": 16
          },
          "showarrow": false,
          "text": "Sylvie",
          "x": 0.14444444444444446,
          "xanchor": "center",
          "xref": "paper",
          "y": 0.23966942148760328,
          "yanchor": "bottom",
          "yref": "paper",
          "yshift": 20
         },
         {
          "font": {
           "size": 16
          },
          "showarrow": false,
          "text": "Sylvie",
          "x": 0.5,
          "xanchor": "center",
          "xref": "paper",
          "y": 0.23966942148760328,
          "yanchor": "bottom",
          "yref": "paper",
          "yshift": 20
         },
         {
          "font": {
           "size": 16
          },
          "showarrow": false,
          "text": "Sylvie",
          "x": 0.8555555555555556,
          "xanchor": "center",
          "xref": "paper",
          "y": 0.23966942148760328,
          "yanchor": "bottom",
          "yref": "paper",
          "yshift": 20
         },
         {
          "font": {
           "size": 16
          },
          "showarrow": false,
          "text": "UmTi",
          "x": 0.14444444444444446,
          "xanchor": "center",
          "xref": "paper",
          "y": 0.1446280991735537,
          "yanchor": "bottom",
          "yref": "paper",
          "yshift": 20
         },
         {
          "font": {
           "size": 16
          },
          "showarrow": false,
          "text": "UmTi",
          "x": 0.5,
          "xanchor": "center",
          "xref": "paper",
          "y": 0.1446280991735537,
          "yanchor": "bottom",
          "yref": "paper",
          "yshift": 20
         },
         {
          "font": {
           "size": 16
          },
          "showarrow": false,
          "text": "UmTi",
          "x": 0.8555555555555556,
          "xanchor": "center",
          "xref": "paper",
          "y": 0.1446280991735537,
          "yanchor": "bottom",
          "yref": "paper",
          "yshift": 20
         },
         {
          "font": {
           "size": 16
          },
          "showarrow": false,
          "text": "Oner",
          "x": 0.14444444444444446,
          "xanchor": "center",
          "xref": "paper",
          "y": 0.04958677685950413,
          "yanchor": "bottom",
          "yref": "paper",
          "yshift": 20
         },
         {
          "font": {
           "size": 16
          },
          "showarrow": false,
          "text": "Oner",
          "x": 0.5,
          "xanchor": "center",
          "xref": "paper",
          "y": 0.04958677685950413,
          "yanchor": "bottom",
          "yref": "paper",
          "yshift": 20
         },
         {
          "font": {
           "size": 16
          },
          "showarrow": false,
          "text": "Oner",
          "x": 0.8555555555555556,
          "xanchor": "center",
          "xref": "paper",
          "y": 0.04958677685950413,
          "yanchor": "bottom",
          "yref": "paper",
          "yshift": 20
         }
        ],
        "height": 3850,
        "polar": {
         "domain": {
          "x": [
           0,
           0.2888888888888889
          ],
          "y": [
           0.9504132231404958,
           0.9999999999999999
          ]
         },
         "radialaxis": {
          "range": [
           -0.2,
           1.2
          ],
          "visible": false
         }
        },
        "polar10": {
         "domain": {
          "x": [
           0,
           0.2888888888888889
          ],
          "y": [
           0.665289256198347,
           0.7148760330578511
          ]
         },
         "radialaxis": {
          "range": [
           -0.2,
           1.2
          ],
          "visible": false
         }
        },
        "polar11": {
         "domain": {
          "x": [
           0.35555555555555557,
           0.6444444444444445
          ],
          "y": [
           0.665289256198347,
           0.7148760330578511
          ]
         },
         "radialaxis": {
          "range": [
           -0.2,
           1.2
          ],
          "visible": false
         }
        },
        "polar12": {
         "domain": {
          "x": [
           0.7111111111111111,
           1
          ],
          "y": [
           0.665289256198347,
           0.7148760330578511
          ]
         },
         "radialaxis": {
          "range": [
           -0.2,
           1.2
          ],
          "visible": false
         }
        },
        "polar13": {
         "domain": {
          "x": [
           0,
           0.2888888888888889
          ],
          "y": [
           0.5702479338842974,
           0.6198347107438015
          ]
         },
         "radialaxis": {
          "range": [
           -0.2,
           1.2
          ],
          "visible": false
         }
        },
        "polar14": {
         "domain": {
          "x": [
           0.35555555555555557,
           0.6444444444444445
          ],
          "y": [
           0.5702479338842974,
           0.6198347107438015
          ]
         },
         "radialaxis": {
          "range": [
           -0.2,
           1.2
          ],
          "visible": false
         }
        },
        "polar15": {
         "domain": {
          "x": [
           0.7111111111111111,
           1
          ],
          "y": [
           0.5702479338842974,
           0.6198347107438015
          ]
         },
         "radialaxis": {
          "range": [
           -0.2,
           1.2
          ],
          "visible": false
         }
        },
        "polar16": {
         "domain": {
          "x": [
           0,
           0.2888888888888889
          ],
          "y": [
           0.4752066115702479,
           0.524793388429752
          ]
         },
         "radialaxis": {
          "range": [
           -0.2,
           1.2
          ],
          "visible": false
         }
        },
        "polar17": {
         "domain": {
          "x": [
           0.35555555555555557,
           0.6444444444444445
          ],
          "y": [
           0.4752066115702479,
           0.524793388429752
          ]
         },
         "radialaxis": {
          "range": [
           -0.2,
           1.2
          ],
          "visible": false
         }
        },
        "polar18": {
         "domain": {
          "x": [
           0.7111111111111111,
           1
          ],
          "y": [
           0.4752066115702479,
           0.524793388429752
          ]
         },
         "radialaxis": {
          "range": [
           -0.2,
           1.2
          ],
          "visible": false
         }
        },
        "polar19": {
         "domain": {
          "x": [
           0,
           0.2888888888888889
          ],
          "y": [
           0.3801652892561983,
           0.42975206611570244
          ]
         },
         "radialaxis": {
          "range": [
           -0.2,
           1.2
          ],
          "visible": false
         }
        },
        "polar2": {
         "domain": {
          "x": [
           0.35555555555555557,
           0.6444444444444445
          ],
          "y": [
           0.9504132231404958,
           0.9999999999999999
          ]
         },
         "radialaxis": {
          "range": [
           -0.2,
           1.2
          ],
          "visible": false
         }
        },
        "polar20": {
         "domain": {
          "x": [
           0.35555555555555557,
           0.6444444444444445
          ],
          "y": [
           0.3801652892561983,
           0.42975206611570244
          ]
         },
         "radialaxis": {
          "range": [
           -0.2,
           1.2
          ],
          "visible": false
         }
        },
        "polar21": {
         "domain": {
          "x": [
           0.7111111111111111,
           1
          ],
          "y": [
           0.3801652892561983,
           0.42975206611570244
          ]
         },
         "radialaxis": {
          "range": [
           -0.2,
           1.2
          ],
          "visible": false
         }
        },
        "polar22": {
         "domain": {
          "x": [
           0,
           0.2888888888888889
          ],
          "y": [
           0.2851239669421487,
           0.33471074380165283
          ]
         },
         "radialaxis": {
          "range": [
           -0.2,
           1.2
          ],
          "visible": false
         }
        },
        "polar23": {
         "domain": {
          "x": [
           0.35555555555555557,
           0.6444444444444445
          ],
          "y": [
           0.2851239669421487,
           0.33471074380165283
          ]
         },
         "radialaxis": {
          "range": [
           -0.2,
           1.2
          ],
          "visible": false
         }
        },
        "polar24": {
         "domain": {
          "x": [
           0.7111111111111111,
           1
          ],
          "y": [
           0.2851239669421487,
           0.33471074380165283
          ]
         },
         "radialaxis": {
          "range": [
           -0.2,
           1.2
          ],
          "visible": false
         }
        },
        "polar25": {
         "domain": {
          "x": [
           0,
           0.2888888888888889
          ],
          "y": [
           0.19008264462809915,
           0.23966942148760328
          ]
         },
         "radialaxis": {
          "range": [
           -0.2,
           1.2
          ],
          "visible": false
         }
        },
        "polar26": {
         "domain": {
          "x": [
           0.35555555555555557,
           0.6444444444444445
          ],
          "y": [
           0.19008264462809915,
           0.23966942148760328
          ]
         },
         "radialaxis": {
          "range": [
           -0.2,
           1.2
          ],
          "visible": false
         }
        },
        "polar27": {
         "domain": {
          "x": [
           0.7111111111111111,
           1
          ],
          "y": [
           0.19008264462809915,
           0.23966942148760328
          ]
         },
         "radialaxis": {
          "range": [
           -0.2,
           1.2
          ],
          "visible": false
         }
        },
        "polar28": {
         "domain": {
          "x": [
           0,
           0.2888888888888889
          ],
          "y": [
           0.09504132231404958,
           0.1446280991735537
          ]
         },
         "radialaxis": {
          "range": [
           -0.2,
           1.2
          ],
          "visible": false
         }
        },
        "polar29": {
         "domain": {
          "x": [
           0.35555555555555557,
           0.6444444444444445
          ],
          "y": [
           0.09504132231404958,
           0.1446280991735537
          ]
         },
         "radialaxis": {
          "range": [
           -0.2,
           1.2
          ],
          "visible": false
         }
        },
        "polar3": {
         "domain": {
          "x": [
           0.7111111111111111,
           1
          ],
          "y": [
           0.9504132231404958,
           0.9999999999999999
          ]
         },
         "radialaxis": {
          "range": [
           -0.2,
           1.2
          ],
          "visible": false
         }
        },
        "polar30": {
         "domain": {
          "x": [
           0.7111111111111111,
           1
          ],
          "y": [
           0.09504132231404958,
           0.1446280991735537
          ]
         },
         "radialaxis": {
          "range": [
           -0.2,
           1.2
          ],
          "visible": false
         }
        },
        "polar31": {
         "domain": {
          "x": [
           0,
           0.2888888888888889
          ],
          "y": [
           0,
           0.04958677685950413
          ]
         },
         "radialaxis": {
          "range": [
           -0.2,
           1.2
          ],
          "visible": false
         }
        },
        "polar32": {
         "domain": {
          "x": [
           0.35555555555555557,
           0.6444444444444445
          ],
          "y": [
           0,
           0.04958677685950413
          ]
         },
         "radialaxis": {
          "range": [
           -0.2,
           1.2
          ],
          "visible": false
         }
        },
        "polar33": {
         "domain": {
          "x": [
           0.7111111111111111,
           1
          ],
          "y": [
           0,
           0.04958677685950413
          ]
         },
         "radialaxis": {
          "range": [
           -0.2,
           1.2
          ],
          "visible": false
         }
        },
        "polar4": {
         "domain": {
          "x": [
           0,
           0.2888888888888889
          ],
          "y": [
           0.8553719008264462,
           0.9049586776859503
          ]
         },
         "radialaxis": {
          "range": [
           -0.2,
           1.2
          ],
          "visible": false
         }
        },
        "polar5": {
         "domain": {
          "x": [
           0.35555555555555557,
           0.6444444444444445
          ],
          "y": [
           0.8553719008264462,
           0.9049586776859503
          ]
         },
         "radialaxis": {
          "range": [
           -0.2,
           1.2
          ],
          "visible": false
         }
        },
        "polar6": {
         "domain": {
          "x": [
           0.7111111111111111,
           1
          ],
          "y": [
           0.8553719008264462,
           0.9049586776859503
          ]
         },
         "radialaxis": {
          "range": [
           -0.2,
           1.2
          ],
          "visible": false
         }
        },
        "polar7": {
         "domain": {
          "x": [
           0,
           0.2888888888888889
          ],
          "y": [
           0.7603305785123966,
           0.8099173553719007
          ]
         },
         "radialaxis": {
          "range": [
           -0.2,
           1.2
          ],
          "visible": false
         }
        },
        "polar8": {
         "domain": {
          "x": [
           0.35555555555555557,
           0.6444444444444445
          ],
          "y": [
           0.7603305785123966,
           0.8099173553719007
          ]
         },
         "radialaxis": {
          "range": [
           -0.2,
           1.2
          ],
          "visible": false
         }
        },
        "polar9": {
         "domain": {
          "x": [
           0.7111111111111111,
           1
          ],
          "y": [
           0.7603305785123966,
           0.8099173553719007
          ]
         },
         "radialaxis": {
          "range": [
           -0.2,
           1.2
          ],
          "visible": false
         }
        },
        "showlegend": false,
        "template": {
         "data": {
          "bar": [
           {
            "error_x": {
             "color": "#2a3f5f"
            },
            "error_y": {
             "color": "#2a3f5f"
            },
            "marker": {
             "line": {
              "color": "#E5ECF6",
              "width": 0.5
             },
             "pattern": {
              "fillmode": "overlay",
              "size": 10,
              "solidity": 0.2
             }
            },
            "type": "bar"
           }
          ],
          "barpolar": [
           {
            "marker": {
             "line": {
              "color": "#E5ECF6",
              "width": 0.5
             },
             "pattern": {
              "fillmode": "overlay",
              "size": 10,
              "solidity": 0.2
             }
            },
            "type": "barpolar"
           }
          ],
          "carpet": [
           {
            "aaxis": {
             "endlinecolor": "#2a3f5f",
             "gridcolor": "white",
             "linecolor": "white",
             "minorgridcolor": "white",
             "startlinecolor": "#2a3f5f"
            },
            "baxis": {
             "endlinecolor": "#2a3f5f",
             "gridcolor": "white",
             "linecolor": "white",
             "minorgridcolor": "white",
             "startlinecolor": "#2a3f5f"
            },
            "type": "carpet"
           }
          ],
          "choropleth": [
           {
            "colorbar": {
             "outlinewidth": 0,
             "ticks": ""
            },
            "type": "choropleth"
           }
          ],
          "contour": [
           {
            "colorbar": {
             "outlinewidth": 0,
             "ticks": ""
            },
            "colorscale": [
             [
              0,
              "#0d0887"
             ],
             [
              0.1111111111111111,
              "#46039f"
             ],
             [
              0.2222222222222222,
              "#7201a8"
             ],
             [
              0.3333333333333333,
              "#9c179e"
             ],
             [
              0.4444444444444444,
              "#bd3786"
             ],
             [
              0.5555555555555556,
              "#d8576b"
             ],
             [
              0.6666666666666666,
              "#ed7953"
             ],
             [
              0.7777777777777778,
              "#fb9f3a"
             ],
             [
              0.8888888888888888,
              "#fdca26"
             ],
             [
              1,
              "#f0f921"
             ]
            ],
            "type": "contour"
           }
          ],
          "contourcarpet": [
           {
            "colorbar": {
             "outlinewidth": 0,
             "ticks": ""
            },
            "type": "contourcarpet"
           }
          ],
          "heatmap": [
           {
            "colorbar": {
             "outlinewidth": 0,
             "ticks": ""
            },
            "colorscale": [
             [
              0,
              "#0d0887"
             ],
             [
              0.1111111111111111,
              "#46039f"
             ],
             [
              0.2222222222222222,
              "#7201a8"
             ],
             [
              0.3333333333333333,
              "#9c179e"
             ],
             [
              0.4444444444444444,
              "#bd3786"
             ],
             [
              0.5555555555555556,
              "#d8576b"
             ],
             [
              0.6666666666666666,
              "#ed7953"
             ],
             [
              0.7777777777777778,
              "#fb9f3a"
             ],
             [
              0.8888888888888888,
              "#fdca26"
             ],
             [
              1,
              "#f0f921"
             ]
            ],
            "type": "heatmap"
           }
          ],
          "heatmapgl": [
           {
            "colorbar": {
             "outlinewidth": 0,
             "ticks": ""
            },
            "colorscale": [
             [
              0,
              "#0d0887"
             ],
             [
              0.1111111111111111,
              "#46039f"
             ],
             [
              0.2222222222222222,
              "#7201a8"
             ],
             [
              0.3333333333333333,
              "#9c179e"
             ],
             [
              0.4444444444444444,
              "#bd3786"
             ],
             [
              0.5555555555555556,
              "#d8576b"
             ],
             [
              0.6666666666666666,
              "#ed7953"
             ],
             [
              0.7777777777777778,
              "#fb9f3a"
             ],
             [
              0.8888888888888888,
              "#fdca26"
             ],
             [
              1,
              "#f0f921"
             ]
            ],
            "type": "heatmapgl"
           }
          ],
          "histogram": [
           {
            "marker": {
             "pattern": {
              "fillmode": "overlay",
              "size": 10,
              "solidity": 0.2
             }
            },
            "type": "histogram"
           }
          ],
          "histogram2d": [
           {
            "colorbar": {
             "outlinewidth": 0,
             "ticks": ""
            },
            "colorscale": [
             [
              0,
              "#0d0887"
             ],
             [
              0.1111111111111111,
              "#46039f"
             ],
             [
              0.2222222222222222,
              "#7201a8"
             ],
             [
              0.3333333333333333,
              "#9c179e"
             ],
             [
              0.4444444444444444,
              "#bd3786"
             ],
             [
              0.5555555555555556,
              "#d8576b"
             ],
             [
              0.6666666666666666,
              "#ed7953"
             ],
             [
              0.7777777777777778,
              "#fb9f3a"
             ],
             [
              0.8888888888888888,
              "#fdca26"
             ],
             [
              1,
              "#f0f921"
             ]
            ],
            "type": "histogram2d"
           }
          ],
          "histogram2dcontour": [
           {
            "colorbar": {
             "outlinewidth": 0,
             "ticks": ""
            },
            "colorscale": [
             [
              0,
              "#0d0887"
             ],
             [
              0.1111111111111111,
              "#46039f"
             ],
             [
              0.2222222222222222,
              "#7201a8"
             ],
             [
              0.3333333333333333,
              "#9c179e"
             ],
             [
              0.4444444444444444,
              "#bd3786"
             ],
             [
              0.5555555555555556,
              "#d8576b"
             ],
             [
              0.6666666666666666,
              "#ed7953"
             ],
             [
              0.7777777777777778,
              "#fb9f3a"
             ],
             [
              0.8888888888888888,
              "#fdca26"
             ],
             [
              1,
              "#f0f921"
             ]
            ],
            "type": "histogram2dcontour"
           }
          ],
          "mesh3d": [
           {
            "colorbar": {
             "outlinewidth": 0,
             "ticks": ""
            },
            "type": "mesh3d"
           }
          ],
          "parcoords": [
           {
            "line": {
             "colorbar": {
              "outlinewidth": 0,
              "ticks": ""
             }
            },
            "type": "parcoords"
           }
          ],
          "pie": [
           {
            "automargin": true,
            "type": "pie"
           }
          ],
          "scatter": [
           {
            "fillpattern": {
             "fillmode": "overlay",
             "size": 10,
             "solidity": 0.2
            },
            "type": "scatter"
           }
          ],
          "scatter3d": [
           {
            "line": {
             "colorbar": {
              "outlinewidth": 0,
              "ticks": ""
             }
            },
            "marker": {
             "colorbar": {
              "outlinewidth": 0,
              "ticks": ""
             }
            },
            "type": "scatter3d"
           }
          ],
          "scattercarpet": [
           {
            "marker": {
             "colorbar": {
              "outlinewidth": 0,
              "ticks": ""
             }
            },
            "type": "scattercarpet"
           }
          ],
          "scattergeo": [
           {
            "marker": {
             "colorbar": {
              "outlinewidth": 0,
              "ticks": ""
             }
            },
            "type": "scattergeo"
           }
          ],
          "scattergl": [
           {
            "marker": {
             "colorbar": {
              "outlinewidth": 0,
              "ticks": ""
             }
            },
            "type": "scattergl"
           }
          ],
          "scattermapbox": [
           {
            "marker": {
             "colorbar": {
              "outlinewidth": 0,
              "ticks": ""
             }
            },
            "type": "scattermapbox"
           }
          ],
          "scatterpolar": [
           {
            "marker": {
             "colorbar": {
              "outlinewidth": 0,
              "ticks": ""
             }
            },
            "type": "scatterpolar"
           }
          ],
          "scatterpolargl": [
           {
            "marker": {
             "colorbar": {
              "outlinewidth": 0,
              "ticks": ""
             }
            },
            "type": "scatterpolargl"
           }
          ],
          "scatterternary": [
           {
            "marker": {
             "colorbar": {
              "outlinewidth": 0,
              "ticks": ""
             }
            },
            "type": "scatterternary"
           }
          ],
          "surface": [
           {
            "colorbar": {
             "outlinewidth": 0,
             "ticks": ""
            },
            "colorscale": [
             [
              0,
              "#0d0887"
             ],
             [
              0.1111111111111111,
              "#46039f"
             ],
             [
              0.2222222222222222,
              "#7201a8"
             ],
             [
              0.3333333333333333,
              "#9c179e"
             ],
             [
              0.4444444444444444,
              "#bd3786"
             ],
             [
              0.5555555555555556,
              "#d8576b"
             ],
             [
              0.6666666666666666,
              "#ed7953"
             ],
             [
              0.7777777777777778,
              "#fb9f3a"
             ],
             [
              0.8888888888888888,
              "#fdca26"
             ],
             [
              1,
              "#f0f921"
             ]
            ],
            "type": "surface"
           }
          ],
          "table": [
           {
            "cells": {
             "fill": {
              "color": "#EBF0F8"
             },
             "line": {
              "color": "white"
             }
            },
            "header": {
             "fill": {
              "color": "#C8D4E3"
             },
             "line": {
              "color": "white"
             }
            },
            "type": "table"
           }
          ]
         },
         "layout": {
          "annotationdefaults": {
           "arrowcolor": "#2a3f5f",
           "arrowhead": 0,
           "arrowwidth": 1
          },
          "autotypenumbers": "strict",
          "coloraxis": {
           "colorbar": {
            "outlinewidth": 0,
            "ticks": ""
           }
          },
          "colorscale": {
           "diverging": [
            [
             0,
             "#8e0152"
            ],
            [
             0.1,
             "#c51b7d"
            ],
            [
             0.2,
             "#de77ae"
            ],
            [
             0.3,
             "#f1b6da"
            ],
            [
             0.4,
             "#fde0ef"
            ],
            [
             0.5,
             "#f7f7f7"
            ],
            [
             0.6,
             "#e6f5d0"
            ],
            [
             0.7,
             "#b8e186"
            ],
            [
             0.8,
             "#7fbc41"
            ],
            [
             0.9,
             "#4d9221"
            ],
            [
             1,
             "#276419"
            ]
           ],
           "sequential": [
            [
             0,
             "#0d0887"
            ],
            [
             0.1111111111111111,
             "#46039f"
            ],
            [
             0.2222222222222222,
             "#7201a8"
            ],
            [
             0.3333333333333333,
             "#9c179e"
            ],
            [
             0.4444444444444444,
             "#bd3786"
            ],
            [
             0.5555555555555556,
             "#d8576b"
            ],
            [
             0.6666666666666666,
             "#ed7953"
            ],
            [
             0.7777777777777778,
             "#fb9f3a"
            ],
            [
             0.8888888888888888,
             "#fdca26"
            ],
            [
             1,
             "#f0f921"
            ]
           ],
           "sequentialminus": [
            [
             0,
             "#0d0887"
            ],
            [
             0.1111111111111111,
             "#46039f"
            ],
            [
             0.2222222222222222,
             "#7201a8"
            ],
            [
             0.3333333333333333,
             "#9c179e"
            ],
            [
             0.4444444444444444,
             "#bd3786"
            ],
            [
             0.5555555555555556,
             "#d8576b"
            ],
            [
             0.6666666666666666,
             "#ed7953"
            ],
            [
             0.7777777777777778,
             "#fb9f3a"
            ],
            [
             0.8888888888888888,
             "#fdca26"
            ],
            [
             1,
             "#f0f921"
            ]
           ]
          },
          "colorway": [
           "#636efa",
           "#EF553B",
           "#00cc96",
           "#ab63fa",
           "#FFA15A",
           "#19d3f3",
           "#FF6692",
           "#B6E880",
           "#FF97FF",
           "#FECB52"
          ],
          "font": {
           "color": "#2a3f5f"
          },
          "geo": {
           "bgcolor": "white",
           "lakecolor": "white",
           "landcolor": "#E5ECF6",
           "showlakes": true,
           "showland": true,
           "subunitcolor": "white"
          },
          "hoverlabel": {
           "align": "left"
          },
          "hovermode": "closest",
          "mapbox": {
           "style": "light"
          },
          "paper_bgcolor": "white",
          "plot_bgcolor": "#E5ECF6",
          "polar": {
           "angularaxis": {
            "gridcolor": "white",
            "linecolor": "white",
            "ticks": ""
           },
           "bgcolor": "#E5ECF6",
           "radialaxis": {
            "gridcolor": "white",
            "linecolor": "white",
            "ticks": ""
           }
          },
          "scene": {
           "xaxis": {
            "backgroundcolor": "#E5ECF6",
            "gridcolor": "white",
            "gridwidth": 2,
            "linecolor": "white",
            "showbackground": true,
            "ticks": "",
            "zerolinecolor": "white"
           },
           "yaxis": {
            "backgroundcolor": "#E5ECF6",
            "gridcolor": "white",
            "gridwidth": 2,
            "linecolor": "white",
            "showbackground": true,
            "ticks": "",
            "zerolinecolor": "white"
           },
           "zaxis": {
            "backgroundcolor": "#E5ECF6",
            "gridcolor": "white",
            "gridwidth": 2,
            "linecolor": "white",
            "showbackground": true,
            "ticks": "",
            "zerolinecolor": "white"
           }
          },
          "shapedefaults": {
           "line": {
            "color": "#2a3f5f"
           }
          },
          "ternary": {
           "aaxis": {
            "gridcolor": "white",
            "linecolor": "white",
            "ticks": ""
           },
           "baxis": {
            "gridcolor": "white",
            "linecolor": "white",
            "ticks": ""
           },
           "bgcolor": "#E5ECF6",
           "caxis": {
            "gridcolor": "white",
            "linecolor": "white",
            "ticks": ""
           }
          },
          "title": {
           "x": 0.05
          },
          "xaxis": {
           "automargin": true,
           "gridcolor": "white",
           "linecolor": "white",
           "ticks": "",
           "title": {
            "standoff": 15
           },
           "zerolinecolor": "white",
           "zerolinewidth": 2
          },
          "yaxis": {
           "automargin": true,
           "gridcolor": "white",
           "linecolor": "white",
           "ticks": "",
           "title": {
            "standoff": 15
           },
           "zerolinecolor": "white",
           "zerolinewidth": 2
          }
         }
        },
        "title": {
         "y": 1
        },
        "width": 1650
       }
      }
     },
     "metadata": {},
     "output_type": "display_data"
    }
   ],
   "source": [
    "position = positions[1]\n",
    "df = players_stats.loc[players_stats.index.get_level_values(1) == position]\n",
    "\n",
    "ROWS, COLUMNS = get_rows_columns(df, len(origin_columns))\n",
    "min_value, max_value = 0, 1\n",
    "\n",
    "fig = get_fig_subplots(df.index.get_level_values(0), ROWS, COLUMNS, len(origin_columns))\n",
    "for i, player_name in enumerate(df.index.get_level_values(0)):\n",
    "    for j, (key, cols) in enumerate(columns.items()):\n",
    "        _df = df.loc[(player_name, position), cols]\n",
    "        theta_list = get_theta_list(df, (player_name, position), origin_columns[key], rank_columns[key])\n",
    "\n",
    "        fig.add_trace(\n",
    "            go.Scatterpolar(r=_df, theta=theta_list, fill=\"toself\", name=player_name),\n",
    "            row=i + 1,\n",
    "            col=j + 1,\n",
    "        )\n",
    "\n",
    "fig.update_layout(\n",
    "    height=350 * ROWS, width=550 * COLUMNS, showlegend=False, title=dict(y=1)\n",
    ")\n",
    "fig.update_annotations(yshift=20)\n",
    "fig.update_polars(\n",
    "    radialaxis=dict(range=[min_value - 0.2, max_value + 0.2], visible=False)\n",
    ")\n",
    "fig.show()"
   ]
  },
  {
   "cell_type": "code",
   "execution_count": 24,
   "metadata": {},
   "outputs": [
    {
     "data": {
      "application/vnd.plotly.v1+json": {
       "config": {
        "plotlyServerURL": "https://plot.ly"
       },
       "data": [
        {
         "fill": "toself",
         "name": "kyeahoo",
         "r": [
          0.3466666666666667,
          0.9298245614035088,
          0.1717171717171717,
          0.02819463392451116,
          0.11595280441757416,
          0,
          1.0000000000000002
         ],
         "subplot": "polar",
         "theta": [
          "kills - 1.67 | 0.4",
          "deaths - 2.67 | 0.9",
          "assists - 2.56 | 0.1",
          "kda - 1.64 | 0.1",
          "dpm - 382.02 | 0.30000000000000004",
          "damageshare - 0.19 | 0.0",
          "damagetakenperminute - 610.78 | 1.0"
         ],
         "type": "scatterpolar"
        },
        {
         "fill": "toself",
         "name": "kyeahoo",
         "r": [
          0,
          0.8888888888888888,
          0.9965029251233786,
          0.37689835601498944,
          0.7602739726027399,
          0.5295307399297728,
          0,
          0,
          0,
          0,
          0.5
         ],
         "subplot": "polar2",
         "theta": [
          "firstblood - 0.0 | 0.0",
          "firstbloodvictim - 0.22 | 0.7777777777777777",
          "wpm - 0.56 | 0.9",
          "wcpm - 0.21 | 0.20000000000000004",
          "controlwardsbought - 7.67 | 0.7000000000000001",
          "vspm - 1.22 | 0.5000000000000001",
          "gpm - 325.21 | 0.0",
          "gdpm - -100.28 | 0.0",
          "goldshare - 0.21 | 0.0",
          "cspm - 7.46 | 0.0",
          "champions - 4.0 | 0.5"
         ],
         "type": "scatterpolar"
        },
        {
         "fill": "toself",
         "name": "kyeahoo",
         "r": [
          0,
          0.59820469275292,
          0.5472636815920398,
          0,
          0.2681590788407255,
          0.29993183367416504
         ],
         "subplot": "polar3",
         "theta": [
          "golddiffat10 - -247.0 | 0.0",
          "xpdiffat10 - 6.89 | 0.7000000000000001",
          "csdiffat10 - -0.67 | 0.5000000000000001",
          "golddiffat15 - -795.44 | 0.0",
          "xpdiffat15 - -125.11 | 0.4",
          "csdiffat15 - -8.22 | 0.20000000000000004"
         ],
         "type": "scatterpolar"
        },
        {
         "fill": "toself",
         "name": "ShowMaker",
         "r": [
          1,
          0,
          1,
          1,
          0.9999999999999998,
          0.8859311036989306,
          0.2968127698381071
         ],
         "subplot": "polar4",
         "theta": [
          "kills - 3.3 | 1.0",
          "deaths - 0.9 | 0.0",
          "assists - 6.2 | 1.0",
          "kda - 7.58 | 1.0",
          "dpm - 662.93 | 1.0",
          "damageshare - 0.27 | 0.9",
          "damagetakenperminute - 427.46 | 0.20000000000000004"
         ],
         "type": "scatterpolar"
        },
        {
         "fill": "toself",
         "name": "ShowMaker",
         "r": [
          0.33333333333333337,
          0,
          0.352534562211982,
          1,
          0.7705479452054793,
          1,
          1,
          1,
          0.9313387898546086,
          0.9741399860609601,
          1
         ],
         "subplot": "polar5",
         "theta": [
          "firstblood - 0.2 | 0.5000000000000001",
          "firstbloodvictim - 0.0 | 0.0",
          "wpm - 0.42 | 0.30000000000000004",
          "wcpm - 0.33 | 1.0",
          "controlwardsbought - 7.7 | 0.8",
          "vspm - 1.37 | 1.0",
          "gpm - 421.36 | 1.0",
          "gdpm - 69.94 | 1.0",
          "goldshare - 0.22 | 0.9",
          "cspm - 9.25 | 0.9",
          "champions - 5.0 | 1.0"
         ],
         "type": "scatterpolar"
        },
        {
         "fill": "toself",
         "name": "ShowMaker",
         "r": [
          1,
          0.890825910650539,
          0.9029850746268655,
          0.9960159179788297,
          0.691246751069003,
          0.8128834355828221
         ],
         "subplot": "polar6",
         "theta": [
          "golddiffat10 - 174.6 | 1.0",
          "xpdiffat10 - 100.7 | 0.8",
          "csdiffat10 - 4.1 | 0.9",
          "golddiffat15 - 410.8 | 0.9",
          "xpdiffat15 - 211.3 | 0.8",
          "csdiffat15 - 8.5 | 0.9"
         ],
         "type": "scatterpolar"
        },
        {
         "fill": "toself",
         "name": "Chovy",
         "r": [
          0.43999999999999995,
          0.2631578947368421,
          0.9772727272727272,
          0.8272851296043655,
          0.5712933060397398,
          0.7449485498663106,
          0.593238707314286
         ],
         "subplot": "polar7",
         "theta": [
          "kills - 1.9 | 0.6000000000000001",
          "deaths - 1.4 | 0.20000000000000004",
          "assists - 6.1 | 0.9",
          "kda - 6.52 | 0.8",
          "dpm - 526.71 | 0.6000000000000001",
          "damageshare - 0.26 | 0.6000000000000001",
          "damagetakenperminute - 504.74 | 0.6000000000000001"
         ],
         "type": "scatterpolar"
        },
        {
         "fill": "toself",
         "name": "Chovy",
         "r": [
          0.6666666666666667,
          0,
          0.2521815864300425,
          0.8529288921374123,
          0.21575342465753433,
          0.7670185300173209,
          0.8804736163665492,
          0.8884178793777352,
          0.38772832377784283,
          1,
          1
         ],
         "subplot": "polar8",
         "theta": [
          "firstblood - 0.4 | 0.9",
          "firstbloodvictim - 0.0 | 0.0",
          "wpm - 0.4 | 0.20000000000000004",
          "wcpm - 0.3 | 0.9",
          "controlwardsbought - 5.9 | 0.1",
          "vspm - 1.3 | 0.8",
          "gpm - 409.87 | 0.7000000000000001",
          "gdpm - 50.94 | 0.8",
          "goldshare - 0.21 | 0.4",
          "cspm - 9.29 | 1.0",
          "champions - 5.0 | 1.0"
         ],
         "type": "scatterpolar"
        },
        {
         "fill": "toself",
         "name": "Chovy",
         "r": [
          0.8747628083491461,
          1,
          1,
          0.9606752525889652,
          1,
          1
         ],
         "subplot": "polar9",
         "theta": [
          "golddiffat10 - 121.8 | 0.9",
          "xpdiffat10 - 135.7 | 1.0",
          "csdiffat10 - 5.4 | 1.0",
          "golddiffat15 - 368.0 | 0.8",
          "xpdiffat15 - 456.8 | 1.0",
          "csdiffat15 - 14.6 | 1.0"
         ],
         "type": "scatterpolar"
        },
        {
         "fill": "toself",
         "name": "Zeka",
         "r": [
          0.76,
          0.15789473684210525,
          0.5227272727272726,
          0.7721691678035469,
          0.4645194019131307,
          0.4535785284914522,
          0.7710680564895178
         ],
         "subplot": "polar10",
         "theta": [
          "kills - 2.7 | 0.7000000000000001",
          "deaths - 1.2 | 0.1",
          "assists - 4.1 | 0.4",
          "kda - 6.18 | 0.7000000000000001",
          "dpm - 492.78 | 0.5000000000000001",
          "damageshare - 0.23 | 0.4",
          "damagetakenperminute - 551.1 | 0.9"
         ],
         "type": "scatterpolar"
        },
        {
         "fill": "toself",
         "name": "Zeka",
         "r": [
          1,
          0,
          0.5055397587998824,
          0.5931398141380388,
          0.8938356164383561,
          0.7663649138860746,
          0.6447712668401868,
          0.6700411131763682,
          0.4037255880138577,
          0.6300276536494147,
          1
         ],
         "subplot": "polar11",
         "theta": [
          "firstblood - 0.6 | 1.0",
          "firstbloodvictim - 0.0 | 0.0",
          "wpm - 0.46 | 0.4",
          "wcpm - 0.25 | 0.6000000000000001",
          "controlwardsbought - 8.1 | 0.9",
          "vspm - 1.3 | 0.7000000000000001",
          "gpm - 387.21 | 0.5000000000000001",
          "gdpm - 13.77 | 0.5000000000000001",
          "goldshare - 0.21 | 0.5000000000000001",
          "cspm - 8.62 | 0.30000000000000004",
          "champions - 5.0 | 1.0"
         ],
         "type": "scatterpolar"
        },
        {
         "fill": "toself",
         "name": "Zeka",
         "r": [
          0.7386148007590132,
          0.3477627976293626,
          0.46268656716417905,
          0.6162689083340024,
          0.12480087197115786,
          0.42024539877300615
         ],
         "subplot": "polar12",
         "theta": [
          "golddiffat10 - 64.4 | 0.6000000000000001",
          "xpdiffat10 - -73.4 | 0.20000000000000004",
          "csdiffat10 - -1.8 | 0.4",
          "golddiffat15 - -49.1 | 0.5000000000000001",
          "xpdiffat15 - -239.1 | 0.20000000000000004",
          "csdiffat15 - -4.3 | 0.30000000000000004"
         ],
         "type": "scatterpolar"
        },
        {
         "fill": "toself",
         "name": "Bdd",
         "r": [
          0.8399999999999999,
          0.2631578947368421,
          0.8409090909090909,
          0.936183113536456,
          0.7129228848842732,
          1,
          0.15399103980922457
         ],
         "subplot": "polar13",
         "theta": [
          "kills - 2.9 | 0.9",
          "deaths - 1.4 | 0.20000000000000004",
          "assists - 5.5 | 0.8",
          "kda - 7.19 | 0.9",
          "dpm - 571.71 | 0.8",
          "damageshare - 0.28 | 1.0",
          "damagetakenperminute - 390.22 | 0.1"
         ],
         "type": "scatterpolar"
        },
        {
         "fill": "toself",
         "name": "Bdd",
         "r": [
          0.16666666666666669,
          0.4,
          0.8411118737131094,
          0,
          0.4315068493150682,
          0,
          0.9018355701648257,
          0.7297437602138509,
          0.5556079034380037,
          0.8012977016353817,
          1
         ],
         "subplot": "polar14",
         "theta": [
          "firstblood - 0.1 | 0.20000000000000004",
          "firstbloodvictim - 0.1 | 0.5555555555555556",
          "wpm - 0.52 | 0.7000000000000001",
          "wcpm - 0.14 | 0.0",
          "controlwardsbought - 6.6 | 0.30000000000000004",
          "vspm - 1.06 | 0.0",
          "gpm - 411.92 | 0.8",
          "gdpm - 23.93 | 0.6000000000000001",
          "goldshare - 0.22 | 0.7000000000000001",
          "cspm - 8.93 | 0.6000000000000001",
          "champions - 5.0 | 1.0"
         ],
         "type": "scatterpolar"
        },
        {
         "fill": "toself",
         "name": "Bdd",
         "r": [
          0.7817836812144212,
          0.5087165979274253,
          0.6641791044776119,
          0.7837242106953222,
          0.26804728766663866,
          0.5153374233128835
         ],
         "subplot": "polar15",
         "theta": [
          "golddiffat10 - 82.6 | 0.7000000000000001",
          "xpdiffat10 - -21.8 | 0.5000000000000001",
          "csdiffat10 - 0.9 | 0.6000000000000001",
          "golddiffat15 - 153.7 | 0.6000000000000001",
          "xpdiffat15 - -125.2 | 0.30000000000000004",
          "csdiffat15 - -1.2 | 0.5000000000000001"
         ],
         "type": "scatterpolar"
        },
        {
         "fill": "toself",
         "name": "BuLLDoG",
         "r": [
          0.42999999999999994,
          0.9078947368421053,
          0.6420454545454545,
          0.30388813096862205,
          0.6089620406993668,
          0.6750367380383744,
          0.48705101842585274
         ],
         "subplot": "polar16",
         "theta": [
          "kills - 1.88 | 0.5000000000000001",
          "deaths - 2.62 | 0.8",
          "assists - 4.62 | 0.6000000000000001",
          "kda - 3.32 | 0.4",
          "dpm - 538.68 | 0.7000000000000001",
          "damageshare - 0.25 | 0.5000000000000001",
          "damagetakenperminute - 477.05 | 0.4"
         ],
         "type": "scatterpolar"
        },
        {
         "fill": "toself",
         "name": "BuLLDoG",
         "r": [
          0.625,
          1,
          0.9225781939405826,
          0.4111021196616893,
          0.5933219178082192,
          0.9165577306447918,
          0.8155152328635777,
          0.7629022544187841,
          0.8974565505987115,
          0.9061407600477258,
          1
         ],
         "subplot": "polar17",
         "theta": [
          "firstblood - 0.38 | 0.8",
          "firstbloodvictim - 0.25 | 1.0",
          "wpm - 0.54 | 0.8",
          "wcpm - 0.22 | 0.30000000000000004",
          "controlwardsbought - 7.12 | 0.5000000000000001",
          "vspm - 1.34 | 0.9",
          "gpm - 403.62 | 0.6000000000000001",
          "gdpm - 29.58 | 0.7000000000000001",
          "goldshare - 0.22 | 0.8",
          "cspm - 9.12 | 0.7000000000000001",
          "champions - 5.0 | 1.0"
         ],
         "type": "scatterpolar"
        },
        {
         "fill": "toself",
         "name": "BuLLDoG",
         "r": [
          0.6697699240986716,
          0.4652029251724258,
          0.3544776119402985,
          1,
          0.4006665548754925,
          0.48312883435582826
         ],
         "subplot": "polar18",
         "theta": [
          "golddiffat10 - 35.38 | 0.5000000000000001",
          "xpdiffat10 - -35.75 | 0.30000000000000004",
          "csdiffat10 - -3.25 | 0.1",
          "golddiffat15 - 415.62 | 1.0",
          "xpdiffat15 - -19.75 | 0.6000000000000001",
          "csdiffat15 - -2.25 | 0.4"
         ],
         "type": "scatterpolar"
        },
        {
         "fill": "toself",
         "name": "Clozer",
         "r": [
          0.32999999999999996,
          0.7763157894736843,
          0.5852272727272727,
          0.32435197817189626,
          0.4323333596078369,
          0.8573403613470014,
          0.711814621084436
         ],
         "subplot": "polar19",
         "theta": [
          "kills - 1.62 | 0.30000000000000004",
          "deaths - 2.38 | 0.7000000000000001",
          "assists - 4.38 | 0.5000000000000001",
          "kda - 3.45 | 0.5000000000000001",
          "dpm - 482.55 | 0.4",
          "damageshare - 0.27 | 0.8",
          "damagetakenperminute - 535.65 | 0.7000000000000001"
         ],
         "type": "scatterpolar"
        },
        {
         "fill": "toself",
         "name": "Clozer",
         "r": [
          0.4166666666666667,
          1,
          0.04963721933522902,
          0.7246789182416205,
          0.40068493150684903,
          0.30497728683943937,
          0.6234216219090438,
          0.4630328735661202,
          1,
          0.9577092963938645,
          1
         ],
         "subplot": "polar20",
         "theta": [
          "firstblood - 0.25 | 0.7000000000000001",
          "firstbloodvictim - 0.25 | 1.0",
          "wpm - 0.36 | 0.1",
          "wcpm - 0.28 | 0.7000000000000001",
          "controlwardsbought - 6.5 | 0.20000000000000004",
          "vspm - 1.16 | 0.20000000000000004",
          "gpm - 385.16 | 0.4",
          "gdpm - -21.46 | 0.4",
          "goldshare - 0.23 | 1.0",
          "cspm - 9.22 | 0.8",
          "champions - 5.0 | 1.0"
         ],
         "type": "scatterpolar"
        },
        {
         "fill": "toself",
         "name": "Clozer",
         "r": [
          0.105550284629981,
          0.581005441375247,
          0.6809701492537312,
          0.5736206520866545,
          0.5363356250524021,
          0.7745398773006136
         ],
         "subplot": "polar21",
         "theta": [
          "golddiffat10 - -202.5 | 0.1",
          "xpdiffat10 - 1.38 | 0.6000000000000001",
          "csdiffat10 - 1.12 | 0.7000000000000001",
          "golddiffat15 - -100.75 | 0.4",
          "xpdiffat15 - 88.12 | 0.7000000000000001",
          "csdiffat15 - 7.25 | 0.8"
         ],
         "type": "scatterpolar"
        },
        {
         "fill": "toself",
         "name": "Quad",
         "r": [
          0.07999999999999996,
          0.6374269005847955,
          0.2222222222222222,
          0.10307715628315905,
          0,
          0.3107878892519955,
          0.7557809009801131
         ],
         "subplot": "polar22",
         "theta": [
          "kills - 1.0 | 0.1",
          "deaths - 2.11 | 0.6000000000000001",
          "assists - 2.78 | 0.20000000000000004",
          "kda - 2.1 | 0.20000000000000004",
          "dpm - 345.18 | 0.0",
          "damageshare - 0.22 | 0.30000000000000004",
          "damagetakenperminute - 547.11 | 0.8"
         ],
         "type": "scatterpolar"
        },
        {
         "fill": "toself",
         "name": "Quad",
         "r": [
          0.18518518518518517,
          0.8888888888888888,
          0.8126069004586507,
          0.3193530797164503,
          1,
          0.37288074047445274,
          0.24761515837116477,
          0.1567307090704137,
          0.1605679498661008,
          0.3990399167296994,
          0.5
         ],
         "subplot": "polar23",
         "theta": [
          "firstblood - 0.11 | 0.4",
          "firstbloodvictim - 0.22 | 0.7777777777777777",
          "wpm - 0.52 | 0.6000000000000001",
          "wcpm - 0.2 | 0.1",
          "controlwardsbought - 8.44 | 1.0",
          "vspm - 1.18 | 0.4",
          "gpm - 349.02 | 0.1",
          "gdpm - -73.6 | 0.20000000000000004",
          "goldshare - 0.21 | 0.1",
          "cspm - 8.19 | 0.1",
          "champions - 4.0 | 0.5"
         ],
         "type": "scatterpolar"
        },
        {
         "fill": "toself",
         "name": "Quad",
         "r": [
          0.5711047860004216,
          0,
          0.3565505804311774,
          0.41340871818984604,
          0,
          0.26584867075664625
         ],
         "subplot": "polar24",
         "theta": [
          "golddiffat10 - -6.22 | 0.4",
          "xpdiffat10 - -184.89 | 0.0",
          "csdiffat10 - -3.22 | 0.20000000000000004",
          "golddiffat15 - -294.78 | 0.30000000000000004",
          "xpdiffat15 - -338.33 | 0.0",
          "csdiffat15 - -9.33 | 0.1"
         ],
         "type": "scatterpolar"
        },
        {
         "fill": "toself",
         "name": "Ivory",
         "r": [
          0.07999999999999996,
          1,
          0,
          0,
          0.09119106038581681,
          0.28269166959252745,
          0.47724757018005937
         ],
         "subplot": "polar25",
         "theta": [
          "kills - 1.0 | 0.1",
          "deaths - 2.8 | 1.0",
          "assists - 1.8 | 0.0",
          "kda - 1.47 | 0.0",
          "dpm - 374.15 | 0.20000000000000004",
          "damageshare - 0.22 | 0.20000000000000004",
          "damagetakenperminute - 474.5 | 0.30000000000000004"
         ],
         "type": "scatterpolar"
        },
        {
         "fill": "toself",
         "name": "Ivory",
         "r": [
          0,
          0,
          1.0000000000000002,
          0.4695624934739482,
          0.6780821917808217,
          0.6296937808425103,
          0.2878378920621363,
          0.12331792648717266,
          0.16366126503826628,
          0.6793128987078187,
          0
         ],
         "subplot": "polar26",
         "theta": [
          "firstblood - 0.0 | 0.0",
          "firstbloodvictim - 0.0 | 0.0",
          "wpm - 0.56 | 1.0",
          "wcpm - 0.23 | 0.4",
          "controlwardsbought - 7.4 | 0.6000000000000001",
          "vspm - 1.26 | 0.6000000000000001",
          "gpm - 352.89 | 0.30000000000000004",
          "gdpm - -79.29 | 0.1",
          "goldshare - 0.21 | 0.20000000000000004",
          "cspm - 8.71 | 0.5000000000000001",
          "champions - 3.0 | 0.0"
         ],
         "type": "scatterpolar"
        },
        {
         "fill": "toself",
         "name": "Ivory",
         "r": [
          0.19971537001897527,
          0.30658856964613734,
          0,
          0.2832574515178275,
          0.036639557306950565,
          0
         ],
         "subplot": "polar27",
         "theta": [
          "golddiffat10 - -162.8 | 0.30000000000000004",
          "xpdiffat10 - -86.6 | 0.1",
          "csdiffat10 - -8.0 | 0.0",
          "golddiffat15 - -452.4 | 0.1",
          "xpdiffat15 - -309.2 | 0.1",
          "csdiffat15 - -18.0 | 0.0"
         ],
         "type": "scatterpolar"
        },
        {
         "fill": "toself",
         "name": "Karis",
         "r": [
          0,
          0.3684210526315789,
          0.2272727272727273,
          0.21828103683492495,
          0.07046202955875369,
          0.1948256637202288,
          0
         ],
         "subplot": "polar28",
         "theta": [
          "kills - 0.8 | 0.0",
          "deaths - 1.6 | 0.4",
          "assists - 2.8 | 0.30000000000000004",
          "kda - 2.8 | 0.30000000000000004",
          "dpm - 367.57 | 0.1",
          "damageshare - 0.21 | 0.1",
          "damagetakenperminute - 350.07 | 0.0"
         ],
         "type": "scatterpolar"
        },
        {
         "fill": "toself",
         "name": "Karis",
         "r": [
          0.33333333333333337,
          0,
          0,
          0.7403153388326196,
          0.554794520547945,
          0.07830321252328565,
          0.25581087417271053,
          0.245222404137882,
          0.20699059979626178,
          0.5225478237081376,
          0
         ],
         "subplot": "polar29",
         "theta": [
          "firstblood - 0.2 | 0.5000000000000001",
          "firstbloodvictim - 0.0 | 0.0",
          "wpm - 0.35 | 0.0",
          "wcpm - 0.28 | 0.8",
          "controlwardsbought - 7.0 | 0.4",
          "vspm - 1.09 | 0.1",
          "gpm - 349.81 | 0.20000000000000004",
          "gdpm - -58.54 | 0.30000000000000004",
          "goldshare - 0.21 | 0.30000000000000004",
          "cspm - 8.42 | 0.20000000000000004",
          "champions - 3.0 | 0.0"
         ],
         "type": "scatterpolar"
        },
        {
         "fill": "toself",
         "name": "Karis",
         "r": [
          0.13140417457305503,
          0.49935881884032857,
          0.3582089552238805,
          0.40017890523756555,
          0.3754506581705374,
          0.558282208588957
         ],
         "subplot": "polar30",
         "theta": [
          "golddiffat10 - -191.6 | 0.20000000000000004",
          "xpdiffat10 - -24.8 | 0.4",
          "csdiffat10 - -3.2 | 0.30000000000000004",
          "golddiffat15 - -310.8 | 0.20000000000000004",
          "xpdiffat15 - -39.8 | 0.5000000000000001",
          "csdiffat15 - 0.2 | 0.6000000000000001"
         ],
         "type": "scatterpolar"
        },
        {
         "fill": "toself",
         "name": "Faker",
         "r": [
          0.7999999999999998,
          0.4210526315789473,
          0.7954545454545453,
          0.5975443383356069,
          0.8143963747143408,
          0.8369977728091733,
          0.5333752390005171
         ],
         "subplot": "polar31",
         "theta": [
          "kills - 2.8 | 0.8",
          "deaths - 1.7 | 0.5000000000000001",
          "assists - 5.3 | 0.7000000000000001",
          "kda - 5.12 | 0.6000000000000001",
          "dpm - 603.96 | 0.9",
          "damageshare - 0.27 | 0.7000000000000001",
          "damagetakenperminute - 489.13 | 0.5000000000000001"
         ],
         "type": "scatterpolar"
        },
        {
         "fill": "toself",
         "name": "Faker",
         "r": [
          0.16666666666666669,
          0.8,
          0.5778017452691444,
          0.5210399916466533,
          0,
          0.36429295075002477,
          0.9067933278395266,
          0.9435602763649888,
          0.48065296412939595,
          0.6413936129107789,
          1
         ],
         "subplot": "polar32",
         "theta": [
          "firstblood - 0.1 | 0.20000000000000004",
          "firstbloodvictim - 0.2 | 0.6666666666666665",
          "wpm - 0.47 | 0.5000000000000001",
          "wcpm - 0.24 | 0.5000000000000001",
          "controlwardsbought - 5.2 | 0.0",
          "vspm - 1.17 | 0.30000000000000004",
          "gpm - 412.4 | 0.9",
          "gdpm - 60.33 | 0.9",
          "goldshare - 0.22 | 0.6000000000000001",
          "cspm - 8.64 | 0.4",
          "champions - 5.0 | 1.0"
         ],
         "type": "scatterpolar"
        },
        {
         "fill": "toself",
         "name": "Faker",
         "r": [
          0.8121442125237192,
          0.8955048001940873,
          0.7611940298507462,
          0.8446620869984061,
          0.7186635365137921,
          0.647239263803681
         ],
         "subplot": "polar33",
         "theta": [
          "golddiffat10 - 95.4 | 0.8",
          "xpdiffat10 - 102.2 | 0.9",
          "csdiffat10 - 2.2 | 0.8",
          "golddiffat15 - 227.5 | 0.7000000000000001",
          "xpdiffat15 - 233.1 | 0.9",
          "csdiffat15 - 3.1 | 0.7000000000000001"
         ],
         "type": "scatterpolar"
        }
       ],
       "layout": {
        "annotations": [
         {
          "font": {
           "size": 16
          },
          "showarrow": false,
          "text": "kyeahoo",
          "x": 0.14444444444444446,
          "xanchor": "center",
          "xref": "paper",
          "y": 0.9999999999999999,
          "yanchor": "bottom",
          "yref": "paper",
          "yshift": 20
         },
         {
          "font": {
           "size": 16
          },
          "showarrow": false,
          "text": "kyeahoo",
          "x": 0.5,
          "xanchor": "center",
          "xref": "paper",
          "y": 0.9999999999999999,
          "yanchor": "bottom",
          "yref": "paper",
          "yshift": 20
         },
         {
          "font": {
           "size": 16
          },
          "showarrow": false,
          "text": "kyeahoo",
          "x": 0.8555555555555556,
          "xanchor": "center",
          "xref": "paper",
          "y": 0.9999999999999999,
          "yanchor": "bottom",
          "yref": "paper",
          "yshift": 20
         },
         {
          "font": {
           "size": 16
          },
          "showarrow": false,
          "text": "ShowMaker",
          "x": 0.14444444444444446,
          "xanchor": "center",
          "xref": "paper",
          "y": 0.9049586776859503,
          "yanchor": "bottom",
          "yref": "paper",
          "yshift": 20
         },
         {
          "font": {
           "size": 16
          },
          "showarrow": false,
          "text": "ShowMaker",
          "x": 0.5,
          "xanchor": "center",
          "xref": "paper",
          "y": 0.9049586776859503,
          "yanchor": "bottom",
          "yref": "paper",
          "yshift": 20
         },
         {
          "font": {
           "size": 16
          },
          "showarrow": false,
          "text": "ShowMaker",
          "x": 0.8555555555555556,
          "xanchor": "center",
          "xref": "paper",
          "y": 0.9049586776859503,
          "yanchor": "bottom",
          "yref": "paper",
          "yshift": 20
         },
         {
          "font": {
           "size": 16
          },
          "showarrow": false,
          "text": "Chovy",
          "x": 0.14444444444444446,
          "xanchor": "center",
          "xref": "paper",
          "y": 0.8099173553719007,
          "yanchor": "bottom",
          "yref": "paper",
          "yshift": 20
         },
         {
          "font": {
           "size": 16
          },
          "showarrow": false,
          "text": "Chovy",
          "x": 0.5,
          "xanchor": "center",
          "xref": "paper",
          "y": 0.8099173553719007,
          "yanchor": "bottom",
          "yref": "paper",
          "yshift": 20
         },
         {
          "font": {
           "size": 16
          },
          "showarrow": false,
          "text": "Chovy",
          "x": 0.8555555555555556,
          "xanchor": "center",
          "xref": "paper",
          "y": 0.8099173553719007,
          "yanchor": "bottom",
          "yref": "paper",
          "yshift": 20
         },
         {
          "font": {
           "size": 16
          },
          "showarrow": false,
          "text": "Zeka",
          "x": 0.14444444444444446,
          "xanchor": "center",
          "xref": "paper",
          "y": 0.7148760330578511,
          "yanchor": "bottom",
          "yref": "paper",
          "yshift": 20
         },
         {
          "font": {
           "size": 16
          },
          "showarrow": false,
          "text": "Zeka",
          "x": 0.5,
          "xanchor": "center",
          "xref": "paper",
          "y": 0.7148760330578511,
          "yanchor": "bottom",
          "yref": "paper",
          "yshift": 20
         },
         {
          "font": {
           "size": 16
          },
          "showarrow": false,
          "text": "Zeka",
          "x": 0.8555555555555556,
          "xanchor": "center",
          "xref": "paper",
          "y": 0.7148760330578511,
          "yanchor": "bottom",
          "yref": "paper",
          "yshift": 20
         },
         {
          "font": {
           "size": 16
          },
          "showarrow": false,
          "text": "Bdd",
          "x": 0.14444444444444446,
          "xanchor": "center",
          "xref": "paper",
          "y": 0.6198347107438015,
          "yanchor": "bottom",
          "yref": "paper",
          "yshift": 20
         },
         {
          "font": {
           "size": 16
          },
          "showarrow": false,
          "text": "Bdd",
          "x": 0.5,
          "xanchor": "center",
          "xref": "paper",
          "y": 0.6198347107438015,
          "yanchor": "bottom",
          "yref": "paper",
          "yshift": 20
         },
         {
          "font": {
           "size": 16
          },
          "showarrow": false,
          "text": "Bdd",
          "x": 0.8555555555555556,
          "xanchor": "center",
          "xref": "paper",
          "y": 0.6198347107438015,
          "yanchor": "bottom",
          "yref": "paper",
          "yshift": 20
         },
         {
          "font": {
           "size": 16
          },
          "showarrow": false,
          "text": "BuLLDoG",
          "x": 0.14444444444444446,
          "xanchor": "center",
          "xref": "paper",
          "y": 0.524793388429752,
          "yanchor": "bottom",
          "yref": "paper",
          "yshift": 20
         },
         {
          "font": {
           "size": 16
          },
          "showarrow": false,
          "text": "BuLLDoG",
          "x": 0.5,
          "xanchor": "center",
          "xref": "paper",
          "y": 0.524793388429752,
          "yanchor": "bottom",
          "yref": "paper",
          "yshift": 20
         },
         {
          "font": {
           "size": 16
          },
          "showarrow": false,
          "text": "BuLLDoG",
          "x": 0.8555555555555556,
          "xanchor": "center",
          "xref": "paper",
          "y": 0.524793388429752,
          "yanchor": "bottom",
          "yref": "paper",
          "yshift": 20
         },
         {
          "font": {
           "size": 16
          },
          "showarrow": false,
          "text": "Clozer",
          "x": 0.14444444444444446,
          "xanchor": "center",
          "xref": "paper",
          "y": 0.42975206611570244,
          "yanchor": "bottom",
          "yref": "paper",
          "yshift": 20
         },
         {
          "font": {
           "size": 16
          },
          "showarrow": false,
          "text": "Clozer",
          "x": 0.5,
          "xanchor": "center",
          "xref": "paper",
          "y": 0.42975206611570244,
          "yanchor": "bottom",
          "yref": "paper",
          "yshift": 20
         },
         {
          "font": {
           "size": 16
          },
          "showarrow": false,
          "text": "Clozer",
          "x": 0.8555555555555556,
          "xanchor": "center",
          "xref": "paper",
          "y": 0.42975206611570244,
          "yanchor": "bottom",
          "yref": "paper",
          "yshift": 20
         },
         {
          "font": {
           "size": 16
          },
          "showarrow": false,
          "text": "Quad",
          "x": 0.14444444444444446,
          "xanchor": "center",
          "xref": "paper",
          "y": 0.33471074380165283,
          "yanchor": "bottom",
          "yref": "paper",
          "yshift": 20
         },
         {
          "font": {
           "size": 16
          },
          "showarrow": false,
          "text": "Quad",
          "x": 0.5,
          "xanchor": "center",
          "xref": "paper",
          "y": 0.33471074380165283,
          "yanchor": "bottom",
          "yref": "paper",
          "yshift": 20
         },
         {
          "font": {
           "size": 16
          },
          "showarrow": false,
          "text": "Quad",
          "x": 0.8555555555555556,
          "xanchor": "center",
          "xref": "paper",
          "y": 0.33471074380165283,
          "yanchor": "bottom",
          "yref": "paper",
          "yshift": 20
         },
         {
          "font": {
           "size": 16
          },
          "showarrow": false,
          "text": "Ivory",
          "x": 0.14444444444444446,
          "xanchor": "center",
          "xref": "paper",
          "y": 0.23966942148760328,
          "yanchor": "bottom",
          "yref": "paper",
          "yshift": 20
         },
         {
          "font": {
           "size": 16
          },
          "showarrow": false,
          "text": "Ivory",
          "x": 0.5,
          "xanchor": "center",
          "xref": "paper",
          "y": 0.23966942148760328,
          "yanchor": "bottom",
          "yref": "paper",
          "yshift": 20
         },
         {
          "font": {
           "size": 16
          },
          "showarrow": false,
          "text": "Ivory",
          "x": 0.8555555555555556,
          "xanchor": "center",
          "xref": "paper",
          "y": 0.23966942148760328,
          "yanchor": "bottom",
          "yref": "paper",
          "yshift": 20
         },
         {
          "font": {
           "size": 16
          },
          "showarrow": false,
          "text": "Karis",
          "x": 0.14444444444444446,
          "xanchor": "center",
          "xref": "paper",
          "y": 0.1446280991735537,
          "yanchor": "bottom",
          "yref": "paper",
          "yshift": 20
         },
         {
          "font": {
           "size": 16
          },
          "showarrow": false,
          "text": "Karis",
          "x": 0.5,
          "xanchor": "center",
          "xref": "paper",
          "y": 0.1446280991735537,
          "yanchor": "bottom",
          "yref": "paper",
          "yshift": 20
         },
         {
          "font": {
           "size": 16
          },
          "showarrow": false,
          "text": "Karis",
          "x": 0.8555555555555556,
          "xanchor": "center",
          "xref": "paper",
          "y": 0.1446280991735537,
          "yanchor": "bottom",
          "yref": "paper",
          "yshift": 20
         },
         {
          "font": {
           "size": 16
          },
          "showarrow": false,
          "text": "Faker",
          "x": 0.14444444444444446,
          "xanchor": "center",
          "xref": "paper",
          "y": 0.04958677685950413,
          "yanchor": "bottom",
          "yref": "paper",
          "yshift": 20
         },
         {
          "font": {
           "size": 16
          },
          "showarrow": false,
          "text": "Faker",
          "x": 0.5,
          "xanchor": "center",
          "xref": "paper",
          "y": 0.04958677685950413,
          "yanchor": "bottom",
          "yref": "paper",
          "yshift": 20
         },
         {
          "font": {
           "size": 16
          },
          "showarrow": false,
          "text": "Faker",
          "x": 0.8555555555555556,
          "xanchor": "center",
          "xref": "paper",
          "y": 0.04958677685950413,
          "yanchor": "bottom",
          "yref": "paper",
          "yshift": 20
         }
        ],
        "height": 3850,
        "polar": {
         "domain": {
          "x": [
           0,
           0.2888888888888889
          ],
          "y": [
           0.9504132231404958,
           0.9999999999999999
          ]
         },
         "radialaxis": {
          "range": [
           -0.2,
           1.2
          ],
          "visible": false
         }
        },
        "polar10": {
         "domain": {
          "x": [
           0,
           0.2888888888888889
          ],
          "y": [
           0.665289256198347,
           0.7148760330578511
          ]
         },
         "radialaxis": {
          "range": [
           -0.2,
           1.2
          ],
          "visible": false
         }
        },
        "polar11": {
         "domain": {
          "x": [
           0.35555555555555557,
           0.6444444444444445
          ],
          "y": [
           0.665289256198347,
           0.7148760330578511
          ]
         },
         "radialaxis": {
          "range": [
           -0.2,
           1.2
          ],
          "visible": false
         }
        },
        "polar12": {
         "domain": {
          "x": [
           0.7111111111111111,
           1
          ],
          "y": [
           0.665289256198347,
           0.7148760330578511
          ]
         },
         "radialaxis": {
          "range": [
           -0.2,
           1.2
          ],
          "visible": false
         }
        },
        "polar13": {
         "domain": {
          "x": [
           0,
           0.2888888888888889
          ],
          "y": [
           0.5702479338842974,
           0.6198347107438015
          ]
         },
         "radialaxis": {
          "range": [
           -0.2,
           1.2
          ],
          "visible": false
         }
        },
        "polar14": {
         "domain": {
          "x": [
           0.35555555555555557,
           0.6444444444444445
          ],
          "y": [
           0.5702479338842974,
           0.6198347107438015
          ]
         },
         "radialaxis": {
          "range": [
           -0.2,
           1.2
          ],
          "visible": false
         }
        },
        "polar15": {
         "domain": {
          "x": [
           0.7111111111111111,
           1
          ],
          "y": [
           0.5702479338842974,
           0.6198347107438015
          ]
         },
         "radialaxis": {
          "range": [
           -0.2,
           1.2
          ],
          "visible": false
         }
        },
        "polar16": {
         "domain": {
          "x": [
           0,
           0.2888888888888889
          ],
          "y": [
           0.4752066115702479,
           0.524793388429752
          ]
         },
         "radialaxis": {
          "range": [
           -0.2,
           1.2
          ],
          "visible": false
         }
        },
        "polar17": {
         "domain": {
          "x": [
           0.35555555555555557,
           0.6444444444444445
          ],
          "y": [
           0.4752066115702479,
           0.524793388429752
          ]
         },
         "radialaxis": {
          "range": [
           -0.2,
           1.2
          ],
          "visible": false
         }
        },
        "polar18": {
         "domain": {
          "x": [
           0.7111111111111111,
           1
          ],
          "y": [
           0.4752066115702479,
           0.524793388429752
          ]
         },
         "radialaxis": {
          "range": [
           -0.2,
           1.2
          ],
          "visible": false
         }
        },
        "polar19": {
         "domain": {
          "x": [
           0,
           0.2888888888888889
          ],
          "y": [
           0.3801652892561983,
           0.42975206611570244
          ]
         },
         "radialaxis": {
          "range": [
           -0.2,
           1.2
          ],
          "visible": false
         }
        },
        "polar2": {
         "domain": {
          "x": [
           0.35555555555555557,
           0.6444444444444445
          ],
          "y": [
           0.9504132231404958,
           0.9999999999999999
          ]
         },
         "radialaxis": {
          "range": [
           -0.2,
           1.2
          ],
          "visible": false
         }
        },
        "polar20": {
         "domain": {
          "x": [
           0.35555555555555557,
           0.6444444444444445
          ],
          "y": [
           0.3801652892561983,
           0.42975206611570244
          ]
         },
         "radialaxis": {
          "range": [
           -0.2,
           1.2
          ],
          "visible": false
         }
        },
        "polar21": {
         "domain": {
          "x": [
           0.7111111111111111,
           1
          ],
          "y": [
           0.3801652892561983,
           0.42975206611570244
          ]
         },
         "radialaxis": {
          "range": [
           -0.2,
           1.2
          ],
          "visible": false
         }
        },
        "polar22": {
         "domain": {
          "x": [
           0,
           0.2888888888888889
          ],
          "y": [
           0.2851239669421487,
           0.33471074380165283
          ]
         },
         "radialaxis": {
          "range": [
           -0.2,
           1.2
          ],
          "visible": false
         }
        },
        "polar23": {
         "domain": {
          "x": [
           0.35555555555555557,
           0.6444444444444445
          ],
          "y": [
           0.2851239669421487,
           0.33471074380165283
          ]
         },
         "radialaxis": {
          "range": [
           -0.2,
           1.2
          ],
          "visible": false
         }
        },
        "polar24": {
         "domain": {
          "x": [
           0.7111111111111111,
           1
          ],
          "y": [
           0.2851239669421487,
           0.33471074380165283
          ]
         },
         "radialaxis": {
          "range": [
           -0.2,
           1.2
          ],
          "visible": false
         }
        },
        "polar25": {
         "domain": {
          "x": [
           0,
           0.2888888888888889
          ],
          "y": [
           0.19008264462809915,
           0.23966942148760328
          ]
         },
         "radialaxis": {
          "range": [
           -0.2,
           1.2
          ],
          "visible": false
         }
        },
        "polar26": {
         "domain": {
          "x": [
           0.35555555555555557,
           0.6444444444444445
          ],
          "y": [
           0.19008264462809915,
           0.23966942148760328
          ]
         },
         "radialaxis": {
          "range": [
           -0.2,
           1.2
          ],
          "visible": false
         }
        },
        "polar27": {
         "domain": {
          "x": [
           0.7111111111111111,
           1
          ],
          "y": [
           0.19008264462809915,
           0.23966942148760328
          ]
         },
         "radialaxis": {
          "range": [
           -0.2,
           1.2
          ],
          "visible": false
         }
        },
        "polar28": {
         "domain": {
          "x": [
           0,
           0.2888888888888889
          ],
          "y": [
           0.09504132231404958,
           0.1446280991735537
          ]
         },
         "radialaxis": {
          "range": [
           -0.2,
           1.2
          ],
          "visible": false
         }
        },
        "polar29": {
         "domain": {
          "x": [
           0.35555555555555557,
           0.6444444444444445
          ],
          "y": [
           0.09504132231404958,
           0.1446280991735537
          ]
         },
         "radialaxis": {
          "range": [
           -0.2,
           1.2
          ],
          "visible": false
         }
        },
        "polar3": {
         "domain": {
          "x": [
           0.7111111111111111,
           1
          ],
          "y": [
           0.9504132231404958,
           0.9999999999999999
          ]
         },
         "radialaxis": {
          "range": [
           -0.2,
           1.2
          ],
          "visible": false
         }
        },
        "polar30": {
         "domain": {
          "x": [
           0.7111111111111111,
           1
          ],
          "y": [
           0.09504132231404958,
           0.1446280991735537
          ]
         },
         "radialaxis": {
          "range": [
           -0.2,
           1.2
          ],
          "visible": false
         }
        },
        "polar31": {
         "domain": {
          "x": [
           0,
           0.2888888888888889
          ],
          "y": [
           0,
           0.04958677685950413
          ]
         },
         "radialaxis": {
          "range": [
           -0.2,
           1.2
          ],
          "visible": false
         }
        },
        "polar32": {
         "domain": {
          "x": [
           0.35555555555555557,
           0.6444444444444445
          ],
          "y": [
           0,
           0.04958677685950413
          ]
         },
         "radialaxis": {
          "range": [
           -0.2,
           1.2
          ],
          "visible": false
         }
        },
        "polar33": {
         "domain": {
          "x": [
           0.7111111111111111,
           1
          ],
          "y": [
           0,
           0.04958677685950413
          ]
         },
         "radialaxis": {
          "range": [
           -0.2,
           1.2
          ],
          "visible": false
         }
        },
        "polar4": {
         "domain": {
          "x": [
           0,
           0.2888888888888889
          ],
          "y": [
           0.8553719008264462,
           0.9049586776859503
          ]
         },
         "radialaxis": {
          "range": [
           -0.2,
           1.2
          ],
          "visible": false
         }
        },
        "polar5": {
         "domain": {
          "x": [
           0.35555555555555557,
           0.6444444444444445
          ],
          "y": [
           0.8553719008264462,
           0.9049586776859503
          ]
         },
         "radialaxis": {
          "range": [
           -0.2,
           1.2
          ],
          "visible": false
         }
        },
        "polar6": {
         "domain": {
          "x": [
           0.7111111111111111,
           1
          ],
          "y": [
           0.8553719008264462,
           0.9049586776859503
          ]
         },
         "radialaxis": {
          "range": [
           -0.2,
           1.2
          ],
          "visible": false
         }
        },
        "polar7": {
         "domain": {
          "x": [
           0,
           0.2888888888888889
          ],
          "y": [
           0.7603305785123966,
           0.8099173553719007
          ]
         },
         "radialaxis": {
          "range": [
           -0.2,
           1.2
          ],
          "visible": false
         }
        },
        "polar8": {
         "domain": {
          "x": [
           0.35555555555555557,
           0.6444444444444445
          ],
          "y": [
           0.7603305785123966,
           0.8099173553719007
          ]
         },
         "radialaxis": {
          "range": [
           -0.2,
           1.2
          ],
          "visible": false
         }
        },
        "polar9": {
         "domain": {
          "x": [
           0.7111111111111111,
           1
          ],
          "y": [
           0.7603305785123966,
           0.8099173553719007
          ]
         },
         "radialaxis": {
          "range": [
           -0.2,
           1.2
          ],
          "visible": false
         }
        },
        "showlegend": false,
        "template": {
         "data": {
          "bar": [
           {
            "error_x": {
             "color": "#2a3f5f"
            },
            "error_y": {
             "color": "#2a3f5f"
            },
            "marker": {
             "line": {
              "color": "#E5ECF6",
              "width": 0.5
             },
             "pattern": {
              "fillmode": "overlay",
              "size": 10,
              "solidity": 0.2
             }
            },
            "type": "bar"
           }
          ],
          "barpolar": [
           {
            "marker": {
             "line": {
              "color": "#E5ECF6",
              "width": 0.5
             },
             "pattern": {
              "fillmode": "overlay",
              "size": 10,
              "solidity": 0.2
             }
            },
            "type": "barpolar"
           }
          ],
          "carpet": [
           {
            "aaxis": {
             "endlinecolor": "#2a3f5f",
             "gridcolor": "white",
             "linecolor": "white",
             "minorgridcolor": "white",
             "startlinecolor": "#2a3f5f"
            },
            "baxis": {
             "endlinecolor": "#2a3f5f",
             "gridcolor": "white",
             "linecolor": "white",
             "minorgridcolor": "white",
             "startlinecolor": "#2a3f5f"
            },
            "type": "carpet"
           }
          ],
          "choropleth": [
           {
            "colorbar": {
             "outlinewidth": 0,
             "ticks": ""
            },
            "type": "choropleth"
           }
          ],
          "contour": [
           {
            "colorbar": {
             "outlinewidth": 0,
             "ticks": ""
            },
            "colorscale": [
             [
              0,
              "#0d0887"
             ],
             [
              0.1111111111111111,
              "#46039f"
             ],
             [
              0.2222222222222222,
              "#7201a8"
             ],
             [
              0.3333333333333333,
              "#9c179e"
             ],
             [
              0.4444444444444444,
              "#bd3786"
             ],
             [
              0.5555555555555556,
              "#d8576b"
             ],
             [
              0.6666666666666666,
              "#ed7953"
             ],
             [
              0.7777777777777778,
              "#fb9f3a"
             ],
             [
              0.8888888888888888,
              "#fdca26"
             ],
             [
              1,
              "#f0f921"
             ]
            ],
            "type": "contour"
           }
          ],
          "contourcarpet": [
           {
            "colorbar": {
             "outlinewidth": 0,
             "ticks": ""
            },
            "type": "contourcarpet"
           }
          ],
          "heatmap": [
           {
            "colorbar": {
             "outlinewidth": 0,
             "ticks": ""
            },
            "colorscale": [
             [
              0,
              "#0d0887"
             ],
             [
              0.1111111111111111,
              "#46039f"
             ],
             [
              0.2222222222222222,
              "#7201a8"
             ],
             [
              0.3333333333333333,
              "#9c179e"
             ],
             [
              0.4444444444444444,
              "#bd3786"
             ],
             [
              0.5555555555555556,
              "#d8576b"
             ],
             [
              0.6666666666666666,
              "#ed7953"
             ],
             [
              0.7777777777777778,
              "#fb9f3a"
             ],
             [
              0.8888888888888888,
              "#fdca26"
             ],
             [
              1,
              "#f0f921"
             ]
            ],
            "type": "heatmap"
           }
          ],
          "heatmapgl": [
           {
            "colorbar": {
             "outlinewidth": 0,
             "ticks": ""
            },
            "colorscale": [
             [
              0,
              "#0d0887"
             ],
             [
              0.1111111111111111,
              "#46039f"
             ],
             [
              0.2222222222222222,
              "#7201a8"
             ],
             [
              0.3333333333333333,
              "#9c179e"
             ],
             [
              0.4444444444444444,
              "#bd3786"
             ],
             [
              0.5555555555555556,
              "#d8576b"
             ],
             [
              0.6666666666666666,
              "#ed7953"
             ],
             [
              0.7777777777777778,
              "#fb9f3a"
             ],
             [
              0.8888888888888888,
              "#fdca26"
             ],
             [
              1,
              "#f0f921"
             ]
            ],
            "type": "heatmapgl"
           }
          ],
          "histogram": [
           {
            "marker": {
             "pattern": {
              "fillmode": "overlay",
              "size": 10,
              "solidity": 0.2
             }
            },
            "type": "histogram"
           }
          ],
          "histogram2d": [
           {
            "colorbar": {
             "outlinewidth": 0,
             "ticks": ""
            },
            "colorscale": [
             [
              0,
              "#0d0887"
             ],
             [
              0.1111111111111111,
              "#46039f"
             ],
             [
              0.2222222222222222,
              "#7201a8"
             ],
             [
              0.3333333333333333,
              "#9c179e"
             ],
             [
              0.4444444444444444,
              "#bd3786"
             ],
             [
              0.5555555555555556,
              "#d8576b"
             ],
             [
              0.6666666666666666,
              "#ed7953"
             ],
             [
              0.7777777777777778,
              "#fb9f3a"
             ],
             [
              0.8888888888888888,
              "#fdca26"
             ],
             [
              1,
              "#f0f921"
             ]
            ],
            "type": "histogram2d"
           }
          ],
          "histogram2dcontour": [
           {
            "colorbar": {
             "outlinewidth": 0,
             "ticks": ""
            },
            "colorscale": [
             [
              0,
              "#0d0887"
             ],
             [
              0.1111111111111111,
              "#46039f"
             ],
             [
              0.2222222222222222,
              "#7201a8"
             ],
             [
              0.3333333333333333,
              "#9c179e"
             ],
             [
              0.4444444444444444,
              "#bd3786"
             ],
             [
              0.5555555555555556,
              "#d8576b"
             ],
             [
              0.6666666666666666,
              "#ed7953"
             ],
             [
              0.7777777777777778,
              "#fb9f3a"
             ],
             [
              0.8888888888888888,
              "#fdca26"
             ],
             [
              1,
              "#f0f921"
             ]
            ],
            "type": "histogram2dcontour"
           }
          ],
          "mesh3d": [
           {
            "colorbar": {
             "outlinewidth": 0,
             "ticks": ""
            },
            "type": "mesh3d"
           }
          ],
          "parcoords": [
           {
            "line": {
             "colorbar": {
              "outlinewidth": 0,
              "ticks": ""
             }
            },
            "type": "parcoords"
           }
          ],
          "pie": [
           {
            "automargin": true,
            "type": "pie"
           }
          ],
          "scatter": [
           {
            "fillpattern": {
             "fillmode": "overlay",
             "size": 10,
             "solidity": 0.2
            },
            "type": "scatter"
           }
          ],
          "scatter3d": [
           {
            "line": {
             "colorbar": {
              "outlinewidth": 0,
              "ticks": ""
             }
            },
            "marker": {
             "colorbar": {
              "outlinewidth": 0,
              "ticks": ""
             }
            },
            "type": "scatter3d"
           }
          ],
          "scattercarpet": [
           {
            "marker": {
             "colorbar": {
              "outlinewidth": 0,
              "ticks": ""
             }
            },
            "type": "scattercarpet"
           }
          ],
          "scattergeo": [
           {
            "marker": {
             "colorbar": {
              "outlinewidth": 0,
              "ticks": ""
             }
            },
            "type": "scattergeo"
           }
          ],
          "scattergl": [
           {
            "marker": {
             "colorbar": {
              "outlinewidth": 0,
              "ticks": ""
             }
            },
            "type": "scattergl"
           }
          ],
          "scattermapbox": [
           {
            "marker": {
             "colorbar": {
              "outlinewidth": 0,
              "ticks": ""
             }
            },
            "type": "scattermapbox"
           }
          ],
          "scatterpolar": [
           {
            "marker": {
             "colorbar": {
              "outlinewidth": 0,
              "ticks": ""
             }
            },
            "type": "scatterpolar"
           }
          ],
          "scatterpolargl": [
           {
            "marker": {
             "colorbar": {
              "outlinewidth": 0,
              "ticks": ""
             }
            },
            "type": "scatterpolargl"
           }
          ],
          "scatterternary": [
           {
            "marker": {
             "colorbar": {
              "outlinewidth": 0,
              "ticks": ""
             }
            },
            "type": "scatterternary"
           }
          ],
          "surface": [
           {
            "colorbar": {
             "outlinewidth": 0,
             "ticks": ""
            },
            "colorscale": [
             [
              0,
              "#0d0887"
             ],
             [
              0.1111111111111111,
              "#46039f"
             ],
             [
              0.2222222222222222,
              "#7201a8"
             ],
             [
              0.3333333333333333,
              "#9c179e"
             ],
             [
              0.4444444444444444,
              "#bd3786"
             ],
             [
              0.5555555555555556,
              "#d8576b"
             ],
             [
              0.6666666666666666,
              "#ed7953"
             ],
             [
              0.7777777777777778,
              "#fb9f3a"
             ],
             [
              0.8888888888888888,
              "#fdca26"
             ],
             [
              1,
              "#f0f921"
             ]
            ],
            "type": "surface"
           }
          ],
          "table": [
           {
            "cells": {
             "fill": {
              "color": "#EBF0F8"
             },
             "line": {
              "color": "white"
             }
            },
            "header": {
             "fill": {
              "color": "#C8D4E3"
             },
             "line": {
              "color": "white"
             }
            },
            "type": "table"
           }
          ]
         },
         "layout": {
          "annotationdefaults": {
           "arrowcolor": "#2a3f5f",
           "arrowhead": 0,
           "arrowwidth": 1
          },
          "autotypenumbers": "strict",
          "coloraxis": {
           "colorbar": {
            "outlinewidth": 0,
            "ticks": ""
           }
          },
          "colorscale": {
           "diverging": [
            [
             0,
             "#8e0152"
            ],
            [
             0.1,
             "#c51b7d"
            ],
            [
             0.2,
             "#de77ae"
            ],
            [
             0.3,
             "#f1b6da"
            ],
            [
             0.4,
             "#fde0ef"
            ],
            [
             0.5,
             "#f7f7f7"
            ],
            [
             0.6,
             "#e6f5d0"
            ],
            [
             0.7,
             "#b8e186"
            ],
            [
             0.8,
             "#7fbc41"
            ],
            [
             0.9,
             "#4d9221"
            ],
            [
             1,
             "#276419"
            ]
           ],
           "sequential": [
            [
             0,
             "#0d0887"
            ],
            [
             0.1111111111111111,
             "#46039f"
            ],
            [
             0.2222222222222222,
             "#7201a8"
            ],
            [
             0.3333333333333333,
             "#9c179e"
            ],
            [
             0.4444444444444444,
             "#bd3786"
            ],
            [
             0.5555555555555556,
             "#d8576b"
            ],
            [
             0.6666666666666666,
             "#ed7953"
            ],
            [
             0.7777777777777778,
             "#fb9f3a"
            ],
            [
             0.8888888888888888,
             "#fdca26"
            ],
            [
             1,
             "#f0f921"
            ]
           ],
           "sequentialminus": [
            [
             0,
             "#0d0887"
            ],
            [
             0.1111111111111111,
             "#46039f"
            ],
            [
             0.2222222222222222,
             "#7201a8"
            ],
            [
             0.3333333333333333,
             "#9c179e"
            ],
            [
             0.4444444444444444,
             "#bd3786"
            ],
            [
             0.5555555555555556,
             "#d8576b"
            ],
            [
             0.6666666666666666,
             "#ed7953"
            ],
            [
             0.7777777777777778,
             "#fb9f3a"
            ],
            [
             0.8888888888888888,
             "#fdca26"
            ],
            [
             1,
             "#f0f921"
            ]
           ]
          },
          "colorway": [
           "#636efa",
           "#EF553B",
           "#00cc96",
           "#ab63fa",
           "#FFA15A",
           "#19d3f3",
           "#FF6692",
           "#B6E880",
           "#FF97FF",
           "#FECB52"
          ],
          "font": {
           "color": "#2a3f5f"
          },
          "geo": {
           "bgcolor": "white",
           "lakecolor": "white",
           "landcolor": "#E5ECF6",
           "showlakes": true,
           "showland": true,
           "subunitcolor": "white"
          },
          "hoverlabel": {
           "align": "left"
          },
          "hovermode": "closest",
          "mapbox": {
           "style": "light"
          },
          "paper_bgcolor": "white",
          "plot_bgcolor": "#E5ECF6",
          "polar": {
           "angularaxis": {
            "gridcolor": "white",
            "linecolor": "white",
            "ticks": ""
           },
           "bgcolor": "#E5ECF6",
           "radialaxis": {
            "gridcolor": "white",
            "linecolor": "white",
            "ticks": ""
           }
          },
          "scene": {
           "xaxis": {
            "backgroundcolor": "#E5ECF6",
            "gridcolor": "white",
            "gridwidth": 2,
            "linecolor": "white",
            "showbackground": true,
            "ticks": "",
            "zerolinecolor": "white"
           },
           "yaxis": {
            "backgroundcolor": "#E5ECF6",
            "gridcolor": "white",
            "gridwidth": 2,
            "linecolor": "white",
            "showbackground": true,
            "ticks": "",
            "zerolinecolor": "white"
           },
           "zaxis": {
            "backgroundcolor": "#E5ECF6",
            "gridcolor": "white",
            "gridwidth": 2,
            "linecolor": "white",
            "showbackground": true,
            "ticks": "",
            "zerolinecolor": "white"
           }
          },
          "shapedefaults": {
           "line": {
            "color": "#2a3f5f"
           }
          },
          "ternary": {
           "aaxis": {
            "gridcolor": "white",
            "linecolor": "white",
            "ticks": ""
           },
           "baxis": {
            "gridcolor": "white",
            "linecolor": "white",
            "ticks": ""
           },
           "bgcolor": "#E5ECF6",
           "caxis": {
            "gridcolor": "white",
            "linecolor": "white",
            "ticks": ""
           }
          },
          "title": {
           "x": 0.05
          },
          "xaxis": {
           "automargin": true,
           "gridcolor": "white",
           "linecolor": "white",
           "ticks": "",
           "title": {
            "standoff": 15
           },
           "zerolinecolor": "white",
           "zerolinewidth": 2
          },
          "yaxis": {
           "automargin": true,
           "gridcolor": "white",
           "linecolor": "white",
           "ticks": "",
           "title": {
            "standoff": 15
           },
           "zerolinecolor": "white",
           "zerolinewidth": 2
          }
         }
        },
        "title": {
         "y": 1
        },
        "width": 1650
       }
      }
     },
     "metadata": {},
     "output_type": "display_data"
    }
   ],
   "source": [
    "position = positions[2]\n",
    "df = players_stats.loc[players_stats.index.get_level_values(1) == position]\n",
    "\n",
    "ROWS, COLUMNS = get_rows_columns(df, len(origin_columns))\n",
    "min_value, max_value = 0, 1\n",
    "\n",
    "fig = get_fig_subplots(df.index.get_level_values(0), ROWS, COLUMNS, len(origin_columns))\n",
    "for i, player_name in enumerate(df.index.get_level_values(0)):\n",
    "    for j, (key, cols) in enumerate(columns.items()):\n",
    "        _df = df.loc[(player_name, position), cols]\n",
    "        theta_list = get_theta_list(df, (player_name, position), origin_columns[key], rank_columns[key])\n",
    "\n",
    "        fig.add_trace(\n",
    "            go.Scatterpolar(r=_df, theta=theta_list, fill=\"toself\", name=player_name),\n",
    "            row=i + 1,\n",
    "            col=j + 1,\n",
    "        )\n",
    "\n",
    "fig.update_layout(\n",
    "    height=350 * ROWS, width=550 * COLUMNS, showlegend=False, title=dict(y=1)\n",
    ")\n",
    "fig.update_annotations(yshift=20)\n",
    "fig.update_polars(\n",
    "    radialaxis=dict(range=[min_value - 0.2, max_value + 0.2], visible=False)\n",
    ")\n",
    "fig.show()"
   ]
  },
  {
   "cell_type": "code",
   "execution_count": 25,
   "metadata": {},
   "outputs": [
    {
     "data": {
      "application/vnd.plotly.v1+json": {
       "config": {
        "plotlyServerURL": "https://plot.ly"
       },
       "data": [
        {
         "fill": "toself",
         "name": "Paduck",
         "r": [
          0.019204389574759895,
          1,
          0.30303030303030304,
          0,
          0.6768376086552843,
          1,
          0.6502054790299601
         ],
         "subplot": "polar",
         "theta": [
          "kills - 1.89 | 0.09090909090909091",
          "deaths - 3.33 | 0.9999999999999999",
          "assists - 2.44 | 0.36363636363636365",
          "kda - 1.94 | 0.0",
          "dpm - 674.94 | 0.7272727272727273",
          "damageshare - 0.34 | 0.9999999999999999",
          "damagetakenperminute - 463.21 | 0.7272727272727273"
         ],
         "type": "scatterpolar"
        },
        {
         "fill": "toself",
         "name": "Paduck",
         "r": [
          0,
          0.7777777777777777,
          0.0710805093817708,
          0,
          0.1820987654320989,
          0,
          0,
          0,
          0.11920343568514546,
          0,
          0.75
         ],
         "subplot": "polar2",
         "theta": [
          "firstblood - 0.0 | 0.0",
          "firstbloodvictim - 0.11 | 0.9090909090909091",
          "wpm - 0.43 | 0.2727272727272727",
          "wcpm - 0.31 | 0.0",
          "controlwardsbought - 4.56 | 0.2727272727272727",
          "vspm - 1.12 | 0.0",
          "gpm - 380.59 | 0.0",
          "gdpm - -117.71 | 0.0",
          "goldshare - 0.24 | 0.09090909090909091",
          "cspm - 8.77 | 0.0",
          "champions - 5.0 | 0.875"
         ],
         "type": "scatterpolar"
        },
        {
         "fill": "toself",
         "name": "Paduck",
         "r": [
          0.22912393788455904,
          0.11870572467930307,
          0,
          0,
          0.07447537206550842,
          0.10957324106113031
         ],
         "subplot": "polar3",
         "theta": [
          "golddiffat10 - -354.0 | 0.09090909090909091",
          "xpdiffat10 - -174.0 | 0.2727272727272727",
          "csdiffat10 - -8.78 | 0.0",
          "golddiffat15 - -822.89 | 0.0",
          "xpdiffat15 - -656.33 | 0.09090909090909091",
          "csdiffat15 - -14.33 | 0.09090909090909091"
         ],
         "type": "scatterpolar"
        },
        {
         "fill": "toself",
         "name": "Rahel",
         "r": [
          0.11522633744855965,
          0.28571428571428575,
          0,
          0.16474464579901155,
          0.009229156213109935,
          0.0709863801917412,
          0.12436172322135586
         ],
         "subplot": "polar4",
         "theta": [
          "kills - 2.33 | 0.2727272727272727",
          "deaths - 1.67 | 0.4545454545454545",
          "assists - 1.33 | 0.0",
          "kda - 2.83 | 0.09090909090909091",
          "dpm - 448.47 | 0.09090909090909091",
          "damageshare - 0.25 | 0.09090909090909091",
          "damagetakenperminute - 346.69 | 0.2727272727272727"
         ],
         "type": "scatterpolar"
        },
        {
         "fill": "toself",
         "name": "Rahel",
         "r": [
          0.6666666666666666,
          0,
          0.10629533523452284,
          1,
          0.675925925925926,
          0.8835115416512718,
          0.45675117842232105,
          0.6334210499688979,
          0.5367160747914692,
          0.6102280406468914,
          0.25
         ],
         "subplot": "polar5",
         "theta": [
          "firstblood - 0.33 | 0.7272727272727273",
          "firstbloodvictim - 0.0 | 0.0",
          "wpm - 0.45 | 0.5454545454545454",
          "wcpm - 0.65 | 0.9999999999999999",
          "controlwardsbought - 6.33 | 0.8181818181818182",
          "vspm - 1.9 | 0.9090909090909091",
          "gpm - 441.96 | 0.5454545454545454",
          "gdpm - 21.78 | 0.6363636363636364",
          "goldshare - 0.25 | 0.4545454545454545",
          "cspm - 10.06 | 0.5454545454545454",
          "champions - 3.0 | 0.25"
         ],
         "type": "scatterpolar"
        },
        {
         "fill": "toself",
         "name": "Rahel",
         "r": [
          0.5088387537845492,
          0.09062480056161848,
          0.7060728744939271,
          0.26716464702915643,
          0.23239305062581728,
          0.6747404844290659
         ],
         "subplot": "polar6",
         "theta": [
          "golddiffat10 - -115.33 | 0.36363636363636365",
          "xpdiffat10 - -192.33 | 0.1818181818181818",
          "csdiffat10 - 3.33 | 0.8181818181818182",
          "golddiffat15 - -387.33 | 0.2727272727272727",
          "xpdiffat15 - -445.0 | 0.1818181818181818",
          "csdiffat15 - 2.0 | 0.5454545454545454"
         ],
         "type": "scatterpolar"
        },
        {
         "fill": "toself",
         "name": "Deft",
         "r": [
          1,
          0.3673469387755102,
          1,
          0.8840315368321958,
          1.0000000000000002,
          0.7299659757620343,
          0.6325234136564497
         ],
         "subplot": "polar7",
         "theta": [
          "kills - 6.43 | 0.9999999999999999",
          "deaths - 1.86 | 0.5454545454545454",
          "assists - 5.0 | 0.9999999999999999",
          "kda - 6.71 | 0.9090909090909091",
          "dpm - 784.56 | 0.9999999999999999",
          "damageshare - 0.32 | 0.7272727272727273",
          "damagetakenperminute - 459.29 | 0.6363636363636364"
         ],
         "type": "scatterpolar"
        },
        {
         "fill": "toself",
         "name": "Deft",
         "r": [
          0.8571428571428571,
          1,
          0.22642506633976978,
          0.6493621279859334,
          0.6626984126984128,
          0.5296226919019398,
          1,
          1,
          1,
          0.5741250526914143,
          1
         ],
         "subplot": "polar8",
         "theta": [
          "firstblood - 0.43 | 0.9090909090909091",
          "firstbloodvictim - 0.14 | 0.9999999999999999",
          "wpm - 0.51 | 0.9090909090909091",
          "wcpm - 0.53 | 0.7272727272727273",
          "controlwardsbought - 6.29 | 0.7272727272727273",
          "vspm - 1.59 | 0.8181818181818182",
          "gpm - 514.95 | 0.9999999999999999",
          "gdpm - 102.51 | 0.9999999999999999",
          "goldshare - 0.27 | 0.9999999999999999",
          "cspm - 9.99 | 0.36363636363636365",
          "champions - 6.0 | 1.0"
         ],
         "type": "scatterpolar"
        },
        {
         "fill": "toself",
         "name": "Deft",
         "r": [
          0.6746473567452178,
          0.2580892207543557,
          0.42845575477154424,
          0.9287768649435976,
          0.769982119505751,
          0.7983193277310925
         ],
         "subplot": "polar9",
         "theta": [
          "golddiffat10 - 26.14 | 0.4545454545454545",
          "xpdiffat10 - -83.0 | 0.36363636363636365",
          "csdiffat10 - -1.43 | 0.36363636363636365",
          "golddiffat15 - 691.29 | 0.9090909090909091",
          "xpdiffat15 - 274.43 | 0.8181818181818182",
          "csdiffat15 - 5.57 | 0.8181818181818182"
         ],
         "type": "scatterpolar"
        },
        {
         "fill": "toself",
         "name": "Peyz",
         "r": [
          0.6481481481481481,
          0.12857142857142861,
          0.5363636363636364,
          0.8165156507413507,
          0.4829155427009417,
          0.5017121203805561,
          0.3128046501760453
         ],
         "subplot": "polar10",
         "theta": [
          "kills - 4.8 | 0.9090909090909091",
          "deaths - 1.3 | 0.09090909090909091",
          "assists - 3.3 | 0.6363636363636364",
          "kda - 6.35 | 0.8181818181818182",
          "dpm - 609.15 | 0.6363636363636364",
          "damageshare - 0.29 | 0.4545454545454545",
          "damagetakenperminute - 388.45 | 0.5454545454545454"
         ],
         "type": "scatterpolar"
        },
        {
         "fill": "toself",
         "name": "Peyz",
         "r": [
          0.4,
          0,
          0,
          0.2705545371219067,
          0,
          0.25072237401070985,
          0.7103390827662679,
          0.7066289938522246,
          0.38355731330229936,
          0.6755189991899169,
          1
         ],
         "subplot": "polar11",
         "theta": [
          "firstblood - 0.2 | 0.4545454545454545",
          "firstbloodvictim - 0.0 | 0.0",
          "wpm - 0.4 | 0.0",
          "wcpm - 0.4 | 0.1818181818181818",
          "controlwardsbought - 3.9 | 0.0",
          "vspm - 1.34 | 0.1818181818181818",
          "gpm - 476.03 | 0.7272727272727273",
          "gdpm - 37.9 | 0.7272727272727273",
          "goldshare - 0.25 | 0.2727272727272727",
          "cspm - 10.2 | 0.7272727272727273",
          "champions - 6.0 | 1.0"
         ],
         "type": "scatterpolar"
        },
        {
         "fill": "toself",
         "name": "Peyz",
         "r": [
          0.7268678581892762,
          0.5602910204863105,
          0.6166801619433199,
          0.36495917560623203,
          0.6581729871100317,
          0.6885813148788928
         ],
         "subplot": "polar12",
         "theta": [
          "golddiffat10 - 70.7 | 0.7272727272727273",
          "xpdiffat10 - 114.3 | 0.8181818181818182",
          "csdiffat10 - 1.8 | 0.6363636363636364",
          "golddiffat15 - -227.9 | 0.4545454545454545",
          "xpdiffat15 - 124.8 | 0.6363636363636364",
          "csdiffat15 - 2.4 | 0.6363636363636364"
         ],
         "type": "scatterpolar"
        },
        {
         "fill": "toself",
         "name": "Viper",
         "r": [
          0.4104938271604938,
          0.12857142857142861,
          0.45454545454545453,
          0.6404448105436573,
          0.728979085025397,
          0.919234688155468,
          0
         ],
         "subplot": "polar13",
         "theta": [
          "kills - 3.7 | 0.4545454545454545",
          "deaths - 1.3 | 0.09090909090909091",
          "assists - 3.0 | 0.5454545454545454",
          "kda - 5.4 | 0.5454545454545454",
          "dpm - 692.63 | 0.8181818181818182",
          "damageshare - 0.34 | 0.9090909090909091",
          "damagetakenperminute - 319.13 | 0.0"
         ],
         "type": "scatterpolar"
        },
        {
         "fill": "toself",
         "name": "Viper",
         "r": [
          0.2,
          0,
          0.20689052745163528,
          0.4087010606259005,
          0.4722222222222223,
          0.38056987547353516,
          0.5731466030215149,
          0.62846972432494,
          0.5935555457559634,
          0.7602881673221491,
          0.25
         ],
         "subplot": "polar14",
         "theta": [
          "firstblood - 0.1 | 0.1818181818181818",
          "firstbloodvictim - 0.0 | 0.0",
          "wpm - 0.5 | 0.8181818181818182",
          "wcpm - 0.45 | 0.36363636363636365",
          "controlwardsbought - 5.6 | 0.4545454545454545",
          "vspm - 1.46 | 0.6363636363636364",
          "gpm - 457.6 | 0.6363636363636364",
          "gdpm - 20.69 | 0.5454545454545454",
          "goldshare - 0.25 | 0.5454545454545454",
          "cspm - 10.38 | 0.8181818181818182",
          "champions - 3.0 | 0.25"
         ],
         "type": "scatterpolar"
        },
        {
         "fill": "toself",
         "name": "Viper",
         "r": [
          0.7198359214767067,
          0.412330078498947,
          0.6982995951417004,
          0.4490547005983943,
          0.7165327853540071,
          0.7439446366782008
         ],
         "subplot": "polar15",
         "theta": [
          "golddiffat10 - 64.7 | 0.6363636363636364",
          "xpdiffat10 - 17.7 | 0.7272727272727273",
          "csdiffat10 - 3.2 | 0.7272727272727273",
          "golddiffat15 - -90.8 | 0.5454545454545454",
          "xpdiffat15 - 202.9 | 0.7272727272727273",
          "csdiffat15 - 4.0 | 0.7272727272727273"
         ],
         "type": "scatterpolar"
        },
        {
         "fill": "toself",
         "name": "Aiming",
         "r": [
          0.43209876543209863,
          0.17142857142857143,
          0.5636363636363635,
          0.7887149917627676,
          0.22452014778969276,
          0.11353255176330501,
          0.05614171550764668
         ],
         "subplot": "polar16",
         "theta": [
          "kills - 3.8 | 0.5454545454545454",
          "deaths - 1.4 | 0.36363636363636365",
          "assists - 3.4 | 0.7272727272727273",
          "kda - 6.2 | 0.7272727272727273",
          "dpm - 521.5 | 0.36363636363636365",
          "damageshare - 0.25 | 0.1818181818181818",
          "damagetakenperminute - 331.58 | 0.1818181818181818"
         ],
         "type": "scatterpolar"
        },
        {
         "fill": "toself",
         "name": "Aiming",
         "r": [
          0.4,
          0,
          0.06258510392313021,
          0.14130548644755803,
          0.0277777777777779,
          0.127611004251311,
          0.7143097692713196,
          0.7891717986658386,
          0.4581745506199173,
          0.6464457055073094,
          0.5
         ],
         "subplot": "polar17",
         "theta": [
          "firstblood - 0.2 | 0.4545454545454545",
          "firstbloodvictim - 0.0 | 0.0",
          "wpm - 0.43 | 0.09090909090909091",
          "wcpm - 0.35 | 0.09090909090909091",
          "controlwardsbought - 4.0 | 0.09090909090909091",
          "vspm - 1.24 | 0.09090909090909091",
          "gpm - 476.56 | 0.8181818181818182",
          "gdpm - 56.08 | 0.8181818181818182",
          "goldshare - 0.25 | 0.36363636363636365",
          "cspm - 10.14 | 0.6363636363636364",
          "champions - 4.0 | 0.5"
         ],
         "type": "scatterpolar"
        },
        {
         "fill": "toself",
         "name": "Aiming",
         "r": [
          0.7940228537943158,
          0.2893356308634884,
          0.5292307692307693,
          0.7504736720145033,
          0.6245469830001867,
          0.6505190311418686
         ],
         "subplot": "polar18",
         "theta": [
          "golddiffat10 - 128.0 | 0.8181818181818182",
          "xpdiffat10 - -62.6 | 0.5454545454545454",
          "csdiffat10 - 0.3 | 0.5454545454545454",
          "golddiffat15 - 400.6 | 0.7272727272727273",
          "xpdiffat15 - 79.8 | 0.5454545454545454",
          "csdiffat15 - 1.3 | 0.4545454545454545"
         ],
         "type": "scatterpolar"
        },
        {
         "fill": "toself",
         "name": "Taeyoon",
         "r": [
          0.3132716049382716,
          0.5357142857142856,
          0.6590909090909092,
          0.4991247940691927,
          0.20905122377942664,
          0,
          0.7003444497962141
         ],
         "subplot": "polar19",
         "theta": [
          "kills - 3.25 | 0.36363636363636365",
          "deaths - 2.25 | 0.8181818181818182",
          "assists - 3.75 | 0.8181818181818182",
          "kda - 4.64 | 0.4545454545454545",
          "dpm - 516.25 | 0.2727272727272727",
          "damageshare - 0.24 | 0.0",
          "damagetakenperminute - 474.32 | 0.8181818181818182"
         ],
         "type": "scatterpolar"
        },
        {
         "fill": "toself",
         "name": "Taeyoon",
         "r": [
          0.75,
          0,
          0.08303573722477708,
          0.555200013094147,
          0.47916666666666674,
          0.3372902292790214,
          0.373549390840898,
          0.4533982620480656,
          0,
          0.4331888229442553,
          1
         ],
         "subplot": "polar20",
         "theta": [
          "firstblood - 0.38 | 0.8181818181818182",
          "firstbloodvictim - 0.0 | 0.0",
          "wpm - 0.44 | 0.4545454545454545",
          "wcpm - 0.5 | 0.4545454545454545",
          "controlwardsbought - 5.62 | 0.5454545454545454",
          "vspm - 1.42 | 0.36363636363636365",
          "gpm - 430.78 | 0.1818181818181818",
          "gdpm - -17.86 | 0.4545454545454545",
          "goldshare - 0.24 | 0.0",
          "cspm - 9.69 | 0.1818181818181818",
          "champions - 6.0 | 1.0"
         ],
         "type": "scatterpolar"
        },
        {
         "fill": "toself",
         "name": "Taeyoon",
         "r": [
          1,
          1,
          1,
          0.8059239671223914,
          1,
          0.869377162629758
         ],
         "subplot": "polar21",
         "theta": [
          "golddiffat10 - 303.75 | 0.9999999999999999",
          "xpdiffat10 - 401.38 | 0.9999999999999999",
          "csdiffat10 - 8.38 | 0.9999999999999999",
          "golddiffat15 - 491.0 | 0.8181818181818182",
          "xpdiffat15 - 582.25 | 0.9999999999999999",
          "csdiffat15 - 7.62 | 0.9090909090909091"
         ],
         "type": "scatterpolar"
        },
        {
         "fill": "toself",
         "name": "Teddy",
         "r": [
          0.4753086419753086,
          0.37499999999999994,
          0.3863636363636364,
          0.647394975288303,
          0.34154991671195534,
          0.6028131271312023,
          0.25825676975445044
         ],
         "subplot": "polar22",
         "theta": [
          "kills - 4.0 | 0.6363636363636364",
          "deaths - 1.88 | 0.7272727272727273",
          "assists - 2.75 | 0.4545454545454545",
          "kda - 5.44 | 0.6363636363636364",
          "dpm - 561.2 | 0.5454545454545454",
          "damageshare - 0.3 | 0.5454545454545454",
          "damagetakenperminute - 376.36 | 0.4545454545454545"
         ],
         "type": "scatterpolar"
        },
        {
         "fill": "toself",
         "name": "Teddy",
         "r": [
          0.5,
          0,
          1,
          0.9469318777006679,
          1.0000000000000002,
          1,
          0.4161318158645333,
          0.2864858938900221,
          0.5992193752580359,
          0.5502292526243773,
          0.5
         ],
         "subplot": "polar23",
         "theta": [
          "firstblood - 0.25 | 0.6363636363636364",
          "firstbloodvictim - 0.0 | 0.0",
          "wpm - 0.88 | 0.9999999999999999",
          "wcpm - 0.63 | 0.9090909090909091",
          "controlwardsbought - 7.5 | 0.9999999999999999",
          "vspm - 2.0 | 0.9999999999999999",
          "gpm - 436.5 | 0.2727272727272727",
          "gdpm - -54.62 | 0.1818181818181818",
          "goldshare - 0.26 | 0.6363636363636364",
          "cspm - 9.94 | 0.2727272727272727",
          "champions - 4.0 | 0.5"
         ],
         "type": "scatterpolar"
        },
        {
         "fill": "toself",
         "name": "Teddy",
         "r": [
          0.6987987108116027,
          0,
          0.48259109311740894,
          0.27319629786131977,
          0.24322809639454507,
          0.5190311418685122
         ],
         "subplot": "polar24",
         "theta": [
          "golddiffat10 - 46.75 | 0.5454545454545454",
          "xpdiffat10 - -251.5 | 0.0",
          "csdiffat10 - -0.5 | 0.4545454545454545",
          "golddiffat15 - -377.5 | 0.36363636363636365",
          "xpdiffat15 - -430.5 | 0.2727272727272727",
          "csdiffat15 - -2.5 | 0.36363636363636365"
         ],
         "type": "scatterpolar"
        },
        {
         "fill": "toself",
         "name": "vital",
         "r": [
          0.10493827160493824,
          0.3673469387755102,
          0.10389610389610388,
          0.25564838785596605,
          0,
          0.39369837432934096,
          0.7183861072418394
         ],
         "subplot": "polar25",
         "theta": [
          "kills - 2.29 | 0.1818181818181818",
          "deaths - 1.86 | 0.5454545454545454",
          "assists - 1.71 | 0.1818181818181818",
          "kda - 3.32 | 0.2727272727272727",
          "dpm - 445.34 | 0.0",
          "damageshare - 0.28 | 0.2727272727272727",
          "damagetakenperminute - 478.32 | 0.9090909090909091"
         ],
         "type": "scatterpolar"
        },
        {
         "fill": "toself",
         "name": "vital",
         "r": [
          0,
          0,
          0.07063029204179672,
          0.6145129912643335,
          0.3849206349206351,
          0.4085354237028198,
          0.43589141297748624,
          0.38937077990659064,
          0.8900193373286935,
          0.9050556175493742,
          0.5
         ],
         "subplot": "polar26",
         "theta": [
          "firstblood - 0.0 | 0.0",
          "firstbloodvictim - 0.0 | 0.0",
          "wpm - 0.43 | 0.1818181818181818",
          "wcpm - 0.52 | 0.6363636363636364",
          "controlwardsbought - 5.29 | 0.36363636363636365",
          "vspm - 1.48 | 0.7272727272727273",
          "gpm - 439.16 | 0.36363636363636365",
          "gdpm - -31.96 | 0.36363636363636365",
          "goldshare - 0.26 | 0.8181818181818182",
          "cspm - 10.69 | 0.9090909090909091",
          "champions - 4.0 | 0.5"
         ],
         "type": "scatterpolar"
        },
        {
         "fill": "toself",
         "name": "vital",
         "r": [
          0.4556527562680507,
          0.3596181723694647,
          0.3868131868131868,
          0.5327909553472848,
          0.5618211416829014,
          0.4473554127533367
         ],
         "subplot": "polar27",
         "theta": [
          "golddiffat10 - -160.71 | 0.1818181818181818",
          "xpdiffat10 - -16.71 | 0.6363636363636364",
          "csdiffat10 - -2.14 | 0.2727272727272727",
          "golddiffat15 - 45.71 | 0.6363636363636364",
          "xpdiffat15 - -4.14 | 0.4545454545454545",
          "csdiffat15 - -4.57 | 0.2727272727272727"
         ],
         "type": "scatterpolar"
        },
        {
         "fill": "toself",
         "name": "Jiwoo",
         "r": [
          0.4753086419753086,
          0.857142857142857,
          0.04545454545454547,
          0.36243822075782534,
          0.17511394069840702,
          0.4990347697645503,
          0.9999999999999998
         ],
         "subplot": "polar28",
         "theta": [
          "kills - 4.0 | 0.6363636363636364",
          "deaths - 3.0 | 0.9090909090909091",
          "assists - 1.5 | 0.09090909090909091",
          "kda - 3.9 | 0.36363636363636365",
          "dpm - 504.74 | 0.1818181818181818",
          "damageshare - 0.29 | 0.36363636363636365",
          "damagetakenperminute - 540.72 | 0.9999999999999999"
         ],
         "type": "scatterpolar"
        },
        {
         "fill": "toself",
         "name": "Jiwoo",
         "r": [
          1,
          0,
          0.07275903707319575,
          0.40413447688883086,
          0.8611111111111114,
          0.354287544657794,
          0.44842639182923616,
          0.33718930342412456,
          0.8642213351908818,
          0.4076782708701465,
          0
         ],
         "subplot": "polar29",
         "theta": [
          "firstblood - 0.5 | 0.9999999999999999",
          "firstbloodvictim - 0.0 | 0.0",
          "wpm - 0.43 | 0.36363636363636365",
          "wcpm - 0.44 | 0.2727272727272727",
          "controlwardsbought - 7.0 | 0.9090909090909091",
          "vspm - 1.43 | 0.4545454545454545",
          "gpm - 440.84 | 0.4545454545454545",
          "gdpm - -43.45 | 0.2727272727272727",
          "goldshare - 0.26 | 0.7272727272727273",
          "cspm - 9.64 | 0.09090909090909091",
          "champions - 2.0 | 0.0"
         ],
         "type": "scatterpolar"
        },
        {
         "fill": "toself",
         "name": "Jiwoo",
         "r": [
          0,
          0.08883783266322037,
          0.1036437246963563,
          0.15235881847797939,
          0,
          0
         ],
         "subplot": "polar30",
         "theta": [
          "golddiffat10 - -549.5 | 0.0",
          "xpdiffat10 - -193.5 | 0.09090909090909091",
          "csdiffat10 - -7.0 | 0.09090909090909091",
          "golddiffat15 - -574.5 | 0.09090909090909091",
          "xpdiffat15 - -756.0 | 0.0",
          "csdiffat15 - -17.5 | 0.0"
         ],
         "type": "scatterpolar"
        },
        {
         "fill": "toself",
         "name": "Hena",
         "r": [
          0,
          0.12857142857142861,
          0.12727272727272732,
          0.20181219110378917,
          0.278338117667025,
          0.6310601306222572,
          0.005984434999395827
         ],
         "subplot": "polar31",
         "theta": [
          "kills - 1.8 | 0.0",
          "deaths - 1.3 | 0.09090909090909091",
          "assists - 1.8 | 0.2727272727272727",
          "kda - 3.03 | 0.1818181818181818",
          "dpm - 539.76 | 0.4545454545454545",
          "damageshare - 0.3 | 0.6363636363636364",
          "damagetakenperminute - 320.46 | 0.09090909090909091"
         ],
         "type": "scatterpolar"
        },
        {
         "fill": "toself",
         "name": "Hena",
         "r": [
          0.2,
          0.7000000000000001,
          0.11834647894561068,
          0.5751014796386018,
          0.16666666666666674,
          0.32078956089872146,
          0.2437823438404676,
          0.23447545743580983,
          0.30343487943772196,
          0.5948201866130525,
          0
         ],
         "subplot": "polar32",
         "theta": [
          "firstblood - 0.1 | 0.1818181818181818",
          "firstbloodvictim - 0.1 | 0.8181818181818182",
          "wpm - 0.45 | 0.6363636363636364",
          "wcpm - 0.5 | 0.5454545454545454",
          "controlwardsbought - 4.5 | 0.1818181818181818",
          "vspm - 1.4 | 0.2727272727272727",
          "gpm - 413.35 | 0.09090909090909091",
          "gdpm - -66.07 | 0.09090909090909091",
          "goldshare - 0.25 | 0.1818181818181818",
          "cspm - 10.03 | 0.4545454545454545",
          "champions - 2.0 | 0.0"
         ],
         "type": "scatterpolar"
        },
        {
         "fill": "toself",
         "name": "Hena",
         "r": [
          0.4744213302080281,
          0.27447826919394985,
          0.1619433198380567,
          0.1831509071330235,
          0.4221184382589202,
          0.3252595155709343
         ],
         "subplot": "polar33",
         "theta": [
          "golddiffat10 - -144.7 | 0.2727272727272727",
          "xpdiffat10 - -72.3 | 0.4545454545454545",
          "csdiffat10 - -6.0 | 0.1818181818181818",
          "golddiffat15 - -524.3 | 0.1818181818181818",
          "xpdiffat15 - -191.1 | 0.36363636363636365",
          "csdiffat15 - -8.1 | 0.1818181818181818"
         ],
         "type": "scatterpolar"
        },
        {
         "fill": "toself",
         "name": "Gumayusi",
         "r": [
          0.6049382716049381,
          0,
          0.7545454545454544,
          1,
          0.7356645451078829,
          0.7384166406169839,
          0.22262077438520333
         ],
         "subplot": "polar34",
         "theta": [
          "kills - 4.6 | 0.8181818181818182",
          "deaths - 1.0 | 0.0",
          "assists - 4.1 | 0.9090909090909091",
          "kda - 7.34 | 0.9999999999999999",
          "dpm - 694.89 | 0.9090909090909091",
          "damageshare - 0.32 | 0.8181818181818182",
          "damagetakenperminute - 368.46 | 0.36363636363636365"
         ],
         "type": "scatterpolar"
        },
        {
         "fill": "toself",
         "name": "Gumayusi",
         "r": [
          0.2,
          0,
          0.13947537445726188,
          0.7714645803325915,
          0.6111111111111112,
          0.3701345799194138,
          0.9332504010012692,
          0.843719074846194,
          0.9579889582740808,
          1,
          1
         ],
         "subplot": "polar35",
         "theta": [
          "firstblood - 0.1 | 0.1818181818181818",
          "firstbloodvictim - 0.0 | 0.0",
          "wpm - 0.46 | 0.7272727272727273",
          "wcpm - 0.57 | 0.8181818181818182",
          "controlwardsbought - 6.1 | 0.6363636363636364",
          "vspm - 1.45 | 0.5454545454545454",
          "gpm - 505.98 | 0.9090909090909091",
          "gdpm - 68.09 | 0.9090909090909091",
          "goldshare - 0.26 | 0.9090909090909091",
          "cspm - 10.89 | 0.9999999999999999",
          "champions - 6.0 | 1.0"
         ],
         "type": "scatterpolar"
        },
        {
         "fill": "toself",
         "name": "Gumayusi",
         "r": [
          0.8294169352475828,
          0.700440359946391,
          0.8148987854251013,
          1,
          0.8252568653091723,
          1
         ],
         "subplot": "polar36",
         "theta": [
          "golddiffat10 - 158.2 | 0.9090909090909091",
          "xpdiffat10 - 205.8 | 0.9090909090909091",
          "csdiffat10 - 5.2 | 0.9090909090909091",
          "golddiffat15 - 807.4 | 0.9999999999999999",
          "xpdiffat15 - 348.4 | 0.9090909090909091",
          "csdiffat15 - 11.4 | 0.9999999999999999"
         ],
         "type": "scatterpolar"
        }
       ],
       "layout": {
        "annotations": [
         {
          "font": {
           "size": 16
          },
          "showarrow": false,
          "text": "Paduck",
          "x": 0.14444444444444446,
          "xanchor": "center",
          "xref": "paper",
          "y": 1,
          "yanchor": "bottom",
          "yref": "paper",
          "yshift": 20
         },
         {
          "font": {
           "size": 16
          },
          "showarrow": false,
          "text": "Paduck",
          "x": 0.5,
          "xanchor": "center",
          "xref": "paper",
          "y": 1,
          "yanchor": "bottom",
          "yref": "paper",
          "yshift": 20
         },
         {
          "font": {
           "size": 16
          },
          "showarrow": false,
          "text": "Paduck",
          "x": 0.8555555555555556,
          "xanchor": "center",
          "xref": "paper",
          "y": 1,
          "yanchor": "bottom",
          "yref": "paper",
          "yshift": 20
         },
         {
          "font": {
           "size": 16
          },
          "showarrow": false,
          "text": "Rahel",
          "x": 0.14444444444444446,
          "xanchor": "center",
          "xref": "paper",
          "y": 0.9131944444444444,
          "yanchor": "bottom",
          "yref": "paper",
          "yshift": 20
         },
         {
          "font": {
           "size": 16
          },
          "showarrow": false,
          "text": "Rahel",
          "x": 0.5,
          "xanchor": "center",
          "xref": "paper",
          "y": 0.9131944444444444,
          "yanchor": "bottom",
          "yref": "paper",
          "yshift": 20
         },
         {
          "font": {
           "size": 16
          },
          "showarrow": false,
          "text": "Rahel",
          "x": 0.8555555555555556,
          "xanchor": "center",
          "xref": "paper",
          "y": 0.9131944444444444,
          "yanchor": "bottom",
          "yref": "paper",
          "yshift": 20
         },
         {
          "font": {
           "size": 16
          },
          "showarrow": false,
          "text": "Deft",
          "x": 0.14444444444444446,
          "xanchor": "center",
          "xref": "paper",
          "y": 0.8263888888888888,
          "yanchor": "bottom",
          "yref": "paper",
          "yshift": 20
         },
         {
          "font": {
           "size": 16
          },
          "showarrow": false,
          "text": "Deft",
          "x": 0.5,
          "xanchor": "center",
          "xref": "paper",
          "y": 0.8263888888888888,
          "yanchor": "bottom",
          "yref": "paper",
          "yshift": 20
         },
         {
          "font": {
           "size": 16
          },
          "showarrow": false,
          "text": "Deft",
          "x": 0.8555555555555556,
          "xanchor": "center",
          "xref": "paper",
          "y": 0.8263888888888888,
          "yanchor": "bottom",
          "yref": "paper",
          "yshift": 20
         },
         {
          "font": {
           "size": 16
          },
          "showarrow": false,
          "text": "Peyz",
          "x": 0.14444444444444446,
          "xanchor": "center",
          "xref": "paper",
          "y": 0.7395833333333333,
          "yanchor": "bottom",
          "yref": "paper",
          "yshift": 20
         },
         {
          "font": {
           "size": 16
          },
          "showarrow": false,
          "text": "Peyz",
          "x": 0.5,
          "xanchor": "center",
          "xref": "paper",
          "y": 0.7395833333333333,
          "yanchor": "bottom",
          "yref": "paper",
          "yshift": 20
         },
         {
          "font": {
           "size": 16
          },
          "showarrow": false,
          "text": "Peyz",
          "x": 0.8555555555555556,
          "xanchor": "center",
          "xref": "paper",
          "y": 0.7395833333333333,
          "yanchor": "bottom",
          "yref": "paper",
          "yshift": 20
         },
         {
          "font": {
           "size": 16
          },
          "showarrow": false,
          "text": "Viper",
          "x": 0.14444444444444446,
          "xanchor": "center",
          "xref": "paper",
          "y": 0.6527777777777777,
          "yanchor": "bottom",
          "yref": "paper",
          "yshift": 20
         },
         {
          "font": {
           "size": 16
          },
          "showarrow": false,
          "text": "Viper",
          "x": 0.5,
          "xanchor": "center",
          "xref": "paper",
          "y": 0.6527777777777777,
          "yanchor": "bottom",
          "yref": "paper",
          "yshift": 20
         },
         {
          "font": {
           "size": 16
          },
          "showarrow": false,
          "text": "Viper",
          "x": 0.8555555555555556,
          "xanchor": "center",
          "xref": "paper",
          "y": 0.6527777777777777,
          "yanchor": "bottom",
          "yref": "paper",
          "yshift": 20
         },
         {
          "font": {
           "size": 16
          },
          "showarrow": false,
          "text": "Aiming",
          "x": 0.14444444444444446,
          "xanchor": "center",
          "xref": "paper",
          "y": 0.5659722222222223,
          "yanchor": "bottom",
          "yref": "paper",
          "yshift": 20
         },
         {
          "font": {
           "size": 16
          },
          "showarrow": false,
          "text": "Aiming",
          "x": 0.5,
          "xanchor": "center",
          "xref": "paper",
          "y": 0.5659722222222223,
          "yanchor": "bottom",
          "yref": "paper",
          "yshift": 20
         },
         {
          "font": {
           "size": 16
          },
          "showarrow": false,
          "text": "Aiming",
          "x": 0.8555555555555556,
          "xanchor": "center",
          "xref": "paper",
          "y": 0.5659722222222223,
          "yanchor": "bottom",
          "yref": "paper",
          "yshift": 20
         },
         {
          "font": {
           "size": 16
          },
          "showarrow": false,
          "text": "Taeyoon",
          "x": 0.14444444444444446,
          "xanchor": "center",
          "xref": "paper",
          "y": 0.4791666666666667,
          "yanchor": "bottom",
          "yref": "paper",
          "yshift": 20
         },
         {
          "font": {
           "size": 16
          },
          "showarrow": false,
          "text": "Taeyoon",
          "x": 0.5,
          "xanchor": "center",
          "xref": "paper",
          "y": 0.4791666666666667,
          "yanchor": "bottom",
          "yref": "paper",
          "yshift": 20
         },
         {
          "font": {
           "size": 16
          },
          "showarrow": false,
          "text": "Taeyoon",
          "x": 0.8555555555555556,
          "xanchor": "center",
          "xref": "paper",
          "y": 0.4791666666666667,
          "yanchor": "bottom",
          "yref": "paper",
          "yshift": 20
         },
         {
          "font": {
           "size": 16
          },
          "showarrow": false,
          "text": "Teddy",
          "x": 0.14444444444444446,
          "xanchor": "center",
          "xref": "paper",
          "y": 0.3923611111111111,
          "yanchor": "bottom",
          "yref": "paper",
          "yshift": 20
         },
         {
          "font": {
           "size": 16
          },
          "showarrow": false,
          "text": "Teddy",
          "x": 0.5,
          "xanchor": "center",
          "xref": "paper",
          "y": 0.3923611111111111,
          "yanchor": "bottom",
          "yref": "paper",
          "yshift": 20
         },
         {
          "font": {
           "size": 16
          },
          "showarrow": false,
          "text": "Teddy",
          "x": 0.8555555555555556,
          "xanchor": "center",
          "xref": "paper",
          "y": 0.3923611111111111,
          "yanchor": "bottom",
          "yref": "paper",
          "yshift": 20
         },
         {
          "font": {
           "size": 16
          },
          "showarrow": false,
          "text": "vital",
          "x": 0.14444444444444446,
          "xanchor": "center",
          "xref": "paper",
          "y": 0.3055555555555556,
          "yanchor": "bottom",
          "yref": "paper",
          "yshift": 20
         },
         {
          "font": {
           "size": 16
          },
          "showarrow": false,
          "text": "vital",
          "x": 0.5,
          "xanchor": "center",
          "xref": "paper",
          "y": 0.3055555555555556,
          "yanchor": "bottom",
          "yref": "paper",
          "yshift": 20
         },
         {
          "font": {
           "size": 16
          },
          "showarrow": false,
          "text": "vital",
          "x": 0.8555555555555556,
          "xanchor": "center",
          "xref": "paper",
          "y": 0.3055555555555556,
          "yanchor": "bottom",
          "yref": "paper",
          "yshift": 20
         },
         {
          "font": {
           "size": 16
          },
          "showarrow": false,
          "text": "Jiwoo",
          "x": 0.14444444444444446,
          "xanchor": "center",
          "xref": "paper",
          "y": 0.21875,
          "yanchor": "bottom",
          "yref": "paper",
          "yshift": 20
         },
         {
          "font": {
           "size": 16
          },
          "showarrow": false,
          "text": "Jiwoo",
          "x": 0.5,
          "xanchor": "center",
          "xref": "paper",
          "y": 0.21875,
          "yanchor": "bottom",
          "yref": "paper",
          "yshift": 20
         },
         {
          "font": {
           "size": 16
          },
          "showarrow": false,
          "text": "Jiwoo",
          "x": 0.8555555555555556,
          "xanchor": "center",
          "xref": "paper",
          "y": 0.21875,
          "yanchor": "bottom",
          "yref": "paper",
          "yshift": 20
         },
         {
          "font": {
           "size": 16
          },
          "showarrow": false,
          "text": "Hena",
          "x": 0.14444444444444446,
          "xanchor": "center",
          "xref": "paper",
          "y": 0.13194444444444445,
          "yanchor": "bottom",
          "yref": "paper",
          "yshift": 20
         },
         {
          "font": {
           "size": 16
          },
          "showarrow": false,
          "text": "Hena",
          "x": 0.5,
          "xanchor": "center",
          "xref": "paper",
          "y": 0.13194444444444445,
          "yanchor": "bottom",
          "yref": "paper",
          "yshift": 20
         },
         {
          "font": {
           "size": 16
          },
          "showarrow": false,
          "text": "Hena",
          "x": 0.8555555555555556,
          "xanchor": "center",
          "xref": "paper",
          "y": 0.13194444444444445,
          "yanchor": "bottom",
          "yref": "paper",
          "yshift": 20
         },
         {
          "font": {
           "size": 16
          },
          "showarrow": false,
          "text": "Gumayusi",
          "x": 0.14444444444444446,
          "xanchor": "center",
          "xref": "paper",
          "y": 0.045138888888888895,
          "yanchor": "bottom",
          "yref": "paper",
          "yshift": 20
         },
         {
          "font": {
           "size": 16
          },
          "showarrow": false,
          "text": "Gumayusi",
          "x": 0.5,
          "xanchor": "center",
          "xref": "paper",
          "y": 0.045138888888888895,
          "yanchor": "bottom",
          "yref": "paper",
          "yshift": 20
         },
         {
          "font": {
           "size": 16
          },
          "showarrow": false,
          "text": "Gumayusi",
          "x": 0.8555555555555556,
          "xanchor": "center",
          "xref": "paper",
          "y": 0.045138888888888895,
          "yanchor": "bottom",
          "yref": "paper",
          "yshift": 20
         }
        ],
        "height": 4200,
        "polar": {
         "domain": {
          "x": [
           0,
           0.2888888888888889
          ],
          "y": [
           0.9548611111111112,
           1
          ]
         },
         "radialaxis": {
          "range": [
           -0.2,
           1.2
          ],
          "visible": false
         }
        },
        "polar10": {
         "domain": {
          "x": [
           0,
           0.2888888888888889
          ],
          "y": [
           0.6944444444444444,
           0.7395833333333333
          ]
         },
         "radialaxis": {
          "range": [
           -0.2,
           1.2
          ],
          "visible": false
         }
        },
        "polar11": {
         "domain": {
          "x": [
           0.35555555555555557,
           0.6444444444444445
          ],
          "y": [
           0.6944444444444444,
           0.7395833333333333
          ]
         },
         "radialaxis": {
          "range": [
           -0.2,
           1.2
          ],
          "visible": false
         }
        },
        "polar12": {
         "domain": {
          "x": [
           0.7111111111111111,
           1
          ],
          "y": [
           0.6944444444444444,
           0.7395833333333333
          ]
         },
         "radialaxis": {
          "range": [
           -0.2,
           1.2
          ],
          "visible": false
         }
        },
        "polar13": {
         "domain": {
          "x": [
           0,
           0.2888888888888889
          ],
          "y": [
           0.6076388888888888,
           0.6527777777777777
          ]
         },
         "radialaxis": {
          "range": [
           -0.2,
           1.2
          ],
          "visible": false
         }
        },
        "polar14": {
         "domain": {
          "x": [
           0.35555555555555557,
           0.6444444444444445
          ],
          "y": [
           0.6076388888888888,
           0.6527777777777777
          ]
         },
         "radialaxis": {
          "range": [
           -0.2,
           1.2
          ],
          "visible": false
         }
        },
        "polar15": {
         "domain": {
          "x": [
           0.7111111111111111,
           1
          ],
          "y": [
           0.6076388888888888,
           0.6527777777777777
          ]
         },
         "radialaxis": {
          "range": [
           -0.2,
           1.2
          ],
          "visible": false
         }
        },
        "polar16": {
         "domain": {
          "x": [
           0,
           0.2888888888888889
          ],
          "y": [
           0.5208333333333334,
           0.5659722222222223
          ]
         },
         "radialaxis": {
          "range": [
           -0.2,
           1.2
          ],
          "visible": false
         }
        },
        "polar17": {
         "domain": {
          "x": [
           0.35555555555555557,
           0.6444444444444445
          ],
          "y": [
           0.5208333333333334,
           0.5659722222222223
          ]
         },
         "radialaxis": {
          "range": [
           -0.2,
           1.2
          ],
          "visible": false
         }
        },
        "polar18": {
         "domain": {
          "x": [
           0.7111111111111111,
           1
          ],
          "y": [
           0.5208333333333334,
           0.5659722222222223
          ]
         },
         "radialaxis": {
          "range": [
           -0.2,
           1.2
          ],
          "visible": false
         }
        },
        "polar19": {
         "domain": {
          "x": [
           0,
           0.2888888888888889
          ],
          "y": [
           0.4340277777777778,
           0.4791666666666667
          ]
         },
         "radialaxis": {
          "range": [
           -0.2,
           1.2
          ],
          "visible": false
         }
        },
        "polar2": {
         "domain": {
          "x": [
           0.35555555555555557,
           0.6444444444444445
          ],
          "y": [
           0.9548611111111112,
           1
          ]
         },
         "radialaxis": {
          "range": [
           -0.2,
           1.2
          ],
          "visible": false
         }
        },
        "polar20": {
         "domain": {
          "x": [
           0.35555555555555557,
           0.6444444444444445
          ],
          "y": [
           0.4340277777777778,
           0.4791666666666667
          ]
         },
         "radialaxis": {
          "range": [
           -0.2,
           1.2
          ],
          "visible": false
         }
        },
        "polar21": {
         "domain": {
          "x": [
           0.7111111111111111,
           1
          ],
          "y": [
           0.4340277777777778,
           0.4791666666666667
          ]
         },
         "radialaxis": {
          "range": [
           -0.2,
           1.2
          ],
          "visible": false
         }
        },
        "polar22": {
         "domain": {
          "x": [
           0,
           0.2888888888888889
          ],
          "y": [
           0.3472222222222222,
           0.3923611111111111
          ]
         },
         "radialaxis": {
          "range": [
           -0.2,
           1.2
          ],
          "visible": false
         }
        },
        "polar23": {
         "domain": {
          "x": [
           0.35555555555555557,
           0.6444444444444445
          ],
          "y": [
           0.3472222222222222,
           0.3923611111111111
          ]
         },
         "radialaxis": {
          "range": [
           -0.2,
           1.2
          ],
          "visible": false
         }
        },
        "polar24": {
         "domain": {
          "x": [
           0.7111111111111111,
           1
          ],
          "y": [
           0.3472222222222222,
           0.3923611111111111
          ]
         },
         "radialaxis": {
          "range": [
           -0.2,
           1.2
          ],
          "visible": false
         }
        },
        "polar25": {
         "domain": {
          "x": [
           0,
           0.2888888888888889
          ],
          "y": [
           0.2604166666666667,
           0.3055555555555556
          ]
         },
         "radialaxis": {
          "range": [
           -0.2,
           1.2
          ],
          "visible": false
         }
        },
        "polar26": {
         "domain": {
          "x": [
           0.35555555555555557,
           0.6444444444444445
          ],
          "y": [
           0.2604166666666667,
           0.3055555555555556
          ]
         },
         "radialaxis": {
          "range": [
           -0.2,
           1.2
          ],
          "visible": false
         }
        },
        "polar27": {
         "domain": {
          "x": [
           0.7111111111111111,
           1
          ],
          "y": [
           0.2604166666666667,
           0.3055555555555556
          ]
         },
         "radialaxis": {
          "range": [
           -0.2,
           1.2
          ],
          "visible": false
         }
        },
        "polar28": {
         "domain": {
          "x": [
           0,
           0.2888888888888889
          ],
          "y": [
           0.1736111111111111,
           0.21875
          ]
         },
         "radialaxis": {
          "range": [
           -0.2,
           1.2
          ],
          "visible": false
         }
        },
        "polar29": {
         "domain": {
          "x": [
           0.35555555555555557,
           0.6444444444444445
          ],
          "y": [
           0.1736111111111111,
           0.21875
          ]
         },
         "radialaxis": {
          "range": [
           -0.2,
           1.2
          ],
          "visible": false
         }
        },
        "polar3": {
         "domain": {
          "x": [
           0.7111111111111111,
           1
          ],
          "y": [
           0.9548611111111112,
           1
          ]
         },
         "radialaxis": {
          "range": [
           -0.2,
           1.2
          ],
          "visible": false
         }
        },
        "polar30": {
         "domain": {
          "x": [
           0.7111111111111111,
           1
          ],
          "y": [
           0.1736111111111111,
           0.21875
          ]
         },
         "radialaxis": {
          "range": [
           -0.2,
           1.2
          ],
          "visible": false
         }
        },
        "polar31": {
         "domain": {
          "x": [
           0,
           0.2888888888888889
          ],
          "y": [
           0.08680555555555555,
           0.13194444444444445
          ]
         },
         "radialaxis": {
          "range": [
           -0.2,
           1.2
          ],
          "visible": false
         }
        },
        "polar32": {
         "domain": {
          "x": [
           0.35555555555555557,
           0.6444444444444445
          ],
          "y": [
           0.08680555555555555,
           0.13194444444444445
          ]
         },
         "radialaxis": {
          "range": [
           -0.2,
           1.2
          ],
          "visible": false
         }
        },
        "polar33": {
         "domain": {
          "x": [
           0.7111111111111111,
           1
          ],
          "y": [
           0.08680555555555555,
           0.13194444444444445
          ]
         },
         "radialaxis": {
          "range": [
           -0.2,
           1.2
          ],
          "visible": false
         }
        },
        "polar34": {
         "domain": {
          "x": [
           0,
           0.2888888888888889
          ],
          "y": [
           0,
           0.045138888888888895
          ]
         },
         "radialaxis": {
          "range": [
           -0.2,
           1.2
          ],
          "visible": false
         }
        },
        "polar35": {
         "domain": {
          "x": [
           0.35555555555555557,
           0.6444444444444445
          ],
          "y": [
           0,
           0.045138888888888895
          ]
         },
         "radialaxis": {
          "range": [
           -0.2,
           1.2
          ],
          "visible": false
         }
        },
        "polar36": {
         "domain": {
          "x": [
           0.7111111111111111,
           1
          ],
          "y": [
           0,
           0.045138888888888895
          ]
         },
         "radialaxis": {
          "range": [
           -0.2,
           1.2
          ],
          "visible": false
         }
        },
        "polar4": {
         "domain": {
          "x": [
           0,
           0.2888888888888889
          ],
          "y": [
           0.8680555555555556,
           0.9131944444444444
          ]
         },
         "radialaxis": {
          "range": [
           -0.2,
           1.2
          ],
          "visible": false
         }
        },
        "polar5": {
         "domain": {
          "x": [
           0.35555555555555557,
           0.6444444444444445
          ],
          "y": [
           0.8680555555555556,
           0.9131944444444444
          ]
         },
         "radialaxis": {
          "range": [
           -0.2,
           1.2
          ],
          "visible": false
         }
        },
        "polar6": {
         "domain": {
          "x": [
           0.7111111111111111,
           1
          ],
          "y": [
           0.8680555555555556,
           0.9131944444444444
          ]
         },
         "radialaxis": {
          "range": [
           -0.2,
           1.2
          ],
          "visible": false
         }
        },
        "polar7": {
         "domain": {
          "x": [
           0,
           0.2888888888888889
          ],
          "y": [
           0.78125,
           0.8263888888888888
          ]
         },
         "radialaxis": {
          "range": [
           -0.2,
           1.2
          ],
          "visible": false
         }
        },
        "polar8": {
         "domain": {
          "x": [
           0.35555555555555557,
           0.6444444444444445
          ],
          "y": [
           0.78125,
           0.8263888888888888
          ]
         },
         "radialaxis": {
          "range": [
           -0.2,
           1.2
          ],
          "visible": false
         }
        },
        "polar9": {
         "domain": {
          "x": [
           0.7111111111111111,
           1
          ],
          "y": [
           0.78125,
           0.8263888888888888
          ]
         },
         "radialaxis": {
          "range": [
           -0.2,
           1.2
          ],
          "visible": false
         }
        },
        "showlegend": false,
        "template": {
         "data": {
          "bar": [
           {
            "error_x": {
             "color": "#2a3f5f"
            },
            "error_y": {
             "color": "#2a3f5f"
            },
            "marker": {
             "line": {
              "color": "#E5ECF6",
              "width": 0.5
             },
             "pattern": {
              "fillmode": "overlay",
              "size": 10,
              "solidity": 0.2
             }
            },
            "type": "bar"
           }
          ],
          "barpolar": [
           {
            "marker": {
             "line": {
              "color": "#E5ECF6",
              "width": 0.5
             },
             "pattern": {
              "fillmode": "overlay",
              "size": 10,
              "solidity": 0.2
             }
            },
            "type": "barpolar"
           }
          ],
          "carpet": [
           {
            "aaxis": {
             "endlinecolor": "#2a3f5f",
             "gridcolor": "white",
             "linecolor": "white",
             "minorgridcolor": "white",
             "startlinecolor": "#2a3f5f"
            },
            "baxis": {
             "endlinecolor": "#2a3f5f",
             "gridcolor": "white",
             "linecolor": "white",
             "minorgridcolor": "white",
             "startlinecolor": "#2a3f5f"
            },
            "type": "carpet"
           }
          ],
          "choropleth": [
           {
            "colorbar": {
             "outlinewidth": 0,
             "ticks": ""
            },
            "type": "choropleth"
           }
          ],
          "contour": [
           {
            "colorbar": {
             "outlinewidth": 0,
             "ticks": ""
            },
            "colorscale": [
             [
              0,
              "#0d0887"
             ],
             [
              0.1111111111111111,
              "#46039f"
             ],
             [
              0.2222222222222222,
              "#7201a8"
             ],
             [
              0.3333333333333333,
              "#9c179e"
             ],
             [
              0.4444444444444444,
              "#bd3786"
             ],
             [
              0.5555555555555556,
              "#d8576b"
             ],
             [
              0.6666666666666666,
              "#ed7953"
             ],
             [
              0.7777777777777778,
              "#fb9f3a"
             ],
             [
              0.8888888888888888,
              "#fdca26"
             ],
             [
              1,
              "#f0f921"
             ]
            ],
            "type": "contour"
           }
          ],
          "contourcarpet": [
           {
            "colorbar": {
             "outlinewidth": 0,
             "ticks": ""
            },
            "type": "contourcarpet"
           }
          ],
          "heatmap": [
           {
            "colorbar": {
             "outlinewidth": 0,
             "ticks": ""
            },
            "colorscale": [
             [
              0,
              "#0d0887"
             ],
             [
              0.1111111111111111,
              "#46039f"
             ],
             [
              0.2222222222222222,
              "#7201a8"
             ],
             [
              0.3333333333333333,
              "#9c179e"
             ],
             [
              0.4444444444444444,
              "#bd3786"
             ],
             [
              0.5555555555555556,
              "#d8576b"
             ],
             [
              0.6666666666666666,
              "#ed7953"
             ],
             [
              0.7777777777777778,
              "#fb9f3a"
             ],
             [
              0.8888888888888888,
              "#fdca26"
             ],
             [
              1,
              "#f0f921"
             ]
            ],
            "type": "heatmap"
           }
          ],
          "heatmapgl": [
           {
            "colorbar": {
             "outlinewidth": 0,
             "ticks": ""
            },
            "colorscale": [
             [
              0,
              "#0d0887"
             ],
             [
              0.1111111111111111,
              "#46039f"
             ],
             [
              0.2222222222222222,
              "#7201a8"
             ],
             [
              0.3333333333333333,
              "#9c179e"
             ],
             [
              0.4444444444444444,
              "#bd3786"
             ],
             [
              0.5555555555555556,
              "#d8576b"
             ],
             [
              0.6666666666666666,
              "#ed7953"
             ],
             [
              0.7777777777777778,
              "#fb9f3a"
             ],
             [
              0.8888888888888888,
              "#fdca26"
             ],
             [
              1,
              "#f0f921"
             ]
            ],
            "type": "heatmapgl"
           }
          ],
          "histogram": [
           {
            "marker": {
             "pattern": {
              "fillmode": "overlay",
              "size": 10,
              "solidity": 0.2
             }
            },
            "type": "histogram"
           }
          ],
          "histogram2d": [
           {
            "colorbar": {
             "outlinewidth": 0,
             "ticks": ""
            },
            "colorscale": [
             [
              0,
              "#0d0887"
             ],
             [
              0.1111111111111111,
              "#46039f"
             ],
             [
              0.2222222222222222,
              "#7201a8"
             ],
             [
              0.3333333333333333,
              "#9c179e"
             ],
             [
              0.4444444444444444,
              "#bd3786"
             ],
             [
              0.5555555555555556,
              "#d8576b"
             ],
             [
              0.6666666666666666,
              "#ed7953"
             ],
             [
              0.7777777777777778,
              "#fb9f3a"
             ],
             [
              0.8888888888888888,
              "#fdca26"
             ],
             [
              1,
              "#f0f921"
             ]
            ],
            "type": "histogram2d"
           }
          ],
          "histogram2dcontour": [
           {
            "colorbar": {
             "outlinewidth": 0,
             "ticks": ""
            },
            "colorscale": [
             [
              0,
              "#0d0887"
             ],
             [
              0.1111111111111111,
              "#46039f"
             ],
             [
              0.2222222222222222,
              "#7201a8"
             ],
             [
              0.3333333333333333,
              "#9c179e"
             ],
             [
              0.4444444444444444,
              "#bd3786"
             ],
             [
              0.5555555555555556,
              "#d8576b"
             ],
             [
              0.6666666666666666,
              "#ed7953"
             ],
             [
              0.7777777777777778,
              "#fb9f3a"
             ],
             [
              0.8888888888888888,
              "#fdca26"
             ],
             [
              1,
              "#f0f921"
             ]
            ],
            "type": "histogram2dcontour"
           }
          ],
          "mesh3d": [
           {
            "colorbar": {
             "outlinewidth": 0,
             "ticks": ""
            },
            "type": "mesh3d"
           }
          ],
          "parcoords": [
           {
            "line": {
             "colorbar": {
              "outlinewidth": 0,
              "ticks": ""
             }
            },
            "type": "parcoords"
           }
          ],
          "pie": [
           {
            "automargin": true,
            "type": "pie"
           }
          ],
          "scatter": [
           {
            "fillpattern": {
             "fillmode": "overlay",
             "size": 10,
             "solidity": 0.2
            },
            "type": "scatter"
           }
          ],
          "scatter3d": [
           {
            "line": {
             "colorbar": {
              "outlinewidth": 0,
              "ticks": ""
             }
            },
            "marker": {
             "colorbar": {
              "outlinewidth": 0,
              "ticks": ""
             }
            },
            "type": "scatter3d"
           }
          ],
          "scattercarpet": [
           {
            "marker": {
             "colorbar": {
              "outlinewidth": 0,
              "ticks": ""
             }
            },
            "type": "scattercarpet"
           }
          ],
          "scattergeo": [
           {
            "marker": {
             "colorbar": {
              "outlinewidth": 0,
              "ticks": ""
             }
            },
            "type": "scattergeo"
           }
          ],
          "scattergl": [
           {
            "marker": {
             "colorbar": {
              "outlinewidth": 0,
              "ticks": ""
             }
            },
            "type": "scattergl"
           }
          ],
          "scattermapbox": [
           {
            "marker": {
             "colorbar": {
              "outlinewidth": 0,
              "ticks": ""
             }
            },
            "type": "scattermapbox"
           }
          ],
          "scatterpolar": [
           {
            "marker": {
             "colorbar": {
              "outlinewidth": 0,
              "ticks": ""
             }
            },
            "type": "scatterpolar"
           }
          ],
          "scatterpolargl": [
           {
            "marker": {
             "colorbar": {
              "outlinewidth": 0,
              "ticks": ""
             }
            },
            "type": "scatterpolargl"
           }
          ],
          "scatterternary": [
           {
            "marker": {
             "colorbar": {
              "outlinewidth": 0,
              "ticks": ""
             }
            },
            "type": "scatterternary"
           }
          ],
          "surface": [
           {
            "colorbar": {
             "outlinewidth": 0,
             "ticks": ""
            },
            "colorscale": [
             [
              0,
              "#0d0887"
             ],
             [
              0.1111111111111111,
              "#46039f"
             ],
             [
              0.2222222222222222,
              "#7201a8"
             ],
             [
              0.3333333333333333,
              "#9c179e"
             ],
             [
              0.4444444444444444,
              "#bd3786"
             ],
             [
              0.5555555555555556,
              "#d8576b"
             ],
             [
              0.6666666666666666,
              "#ed7953"
             ],
             [
              0.7777777777777778,
              "#fb9f3a"
             ],
             [
              0.8888888888888888,
              "#fdca26"
             ],
             [
              1,
              "#f0f921"
             ]
            ],
            "type": "surface"
           }
          ],
          "table": [
           {
            "cells": {
             "fill": {
              "color": "#EBF0F8"
             },
             "line": {
              "color": "white"
             }
            },
            "header": {
             "fill": {
              "color": "#C8D4E3"
             },
             "line": {
              "color": "white"
             }
            },
            "type": "table"
           }
          ]
         },
         "layout": {
          "annotationdefaults": {
           "arrowcolor": "#2a3f5f",
           "arrowhead": 0,
           "arrowwidth": 1
          },
          "autotypenumbers": "strict",
          "coloraxis": {
           "colorbar": {
            "outlinewidth": 0,
            "ticks": ""
           }
          },
          "colorscale": {
           "diverging": [
            [
             0,
             "#8e0152"
            ],
            [
             0.1,
             "#c51b7d"
            ],
            [
             0.2,
             "#de77ae"
            ],
            [
             0.3,
             "#f1b6da"
            ],
            [
             0.4,
             "#fde0ef"
            ],
            [
             0.5,
             "#f7f7f7"
            ],
            [
             0.6,
             "#e6f5d0"
            ],
            [
             0.7,
             "#b8e186"
            ],
            [
             0.8,
             "#7fbc41"
            ],
            [
             0.9,
             "#4d9221"
            ],
            [
             1,
             "#276419"
            ]
           ],
           "sequential": [
            [
             0,
             "#0d0887"
            ],
            [
             0.1111111111111111,
             "#46039f"
            ],
            [
             0.2222222222222222,
             "#7201a8"
            ],
            [
             0.3333333333333333,
             "#9c179e"
            ],
            [
             0.4444444444444444,
             "#bd3786"
            ],
            [
             0.5555555555555556,
             "#d8576b"
            ],
            [
             0.6666666666666666,
             "#ed7953"
            ],
            [
             0.7777777777777778,
             "#fb9f3a"
            ],
            [
             0.8888888888888888,
             "#fdca26"
            ],
            [
             1,
             "#f0f921"
            ]
           ],
           "sequentialminus": [
            [
             0,
             "#0d0887"
            ],
            [
             0.1111111111111111,
             "#46039f"
            ],
            [
             0.2222222222222222,
             "#7201a8"
            ],
            [
             0.3333333333333333,
             "#9c179e"
            ],
            [
             0.4444444444444444,
             "#bd3786"
            ],
            [
             0.5555555555555556,
             "#d8576b"
            ],
            [
             0.6666666666666666,
             "#ed7953"
            ],
            [
             0.7777777777777778,
             "#fb9f3a"
            ],
            [
             0.8888888888888888,
             "#fdca26"
            ],
            [
             1,
             "#f0f921"
            ]
           ]
          },
          "colorway": [
           "#636efa",
           "#EF553B",
           "#00cc96",
           "#ab63fa",
           "#FFA15A",
           "#19d3f3",
           "#FF6692",
           "#B6E880",
           "#FF97FF",
           "#FECB52"
          ],
          "font": {
           "color": "#2a3f5f"
          },
          "geo": {
           "bgcolor": "white",
           "lakecolor": "white",
           "landcolor": "#E5ECF6",
           "showlakes": true,
           "showland": true,
           "subunitcolor": "white"
          },
          "hoverlabel": {
           "align": "left"
          },
          "hovermode": "closest",
          "mapbox": {
           "style": "light"
          },
          "paper_bgcolor": "white",
          "plot_bgcolor": "#E5ECF6",
          "polar": {
           "angularaxis": {
            "gridcolor": "white",
            "linecolor": "white",
            "ticks": ""
           },
           "bgcolor": "#E5ECF6",
           "radialaxis": {
            "gridcolor": "white",
            "linecolor": "white",
            "ticks": ""
           }
          },
          "scene": {
           "xaxis": {
            "backgroundcolor": "#E5ECF6",
            "gridcolor": "white",
            "gridwidth": 2,
            "linecolor": "white",
            "showbackground": true,
            "ticks": "",
            "zerolinecolor": "white"
           },
           "yaxis": {
            "backgroundcolor": "#E5ECF6",
            "gridcolor": "white",
            "gridwidth": 2,
            "linecolor": "white",
            "showbackground": true,
            "ticks": "",
            "zerolinecolor": "white"
           },
           "zaxis": {
            "backgroundcolor": "#E5ECF6",
            "gridcolor": "white",
            "gridwidth": 2,
            "linecolor": "white",
            "showbackground": true,
            "ticks": "",
            "zerolinecolor": "white"
           }
          },
          "shapedefaults": {
           "line": {
            "color": "#2a3f5f"
           }
          },
          "ternary": {
           "aaxis": {
            "gridcolor": "white",
            "linecolor": "white",
            "ticks": ""
           },
           "baxis": {
            "gridcolor": "white",
            "linecolor": "white",
            "ticks": ""
           },
           "bgcolor": "#E5ECF6",
           "caxis": {
            "gridcolor": "white",
            "linecolor": "white",
            "ticks": ""
           }
          },
          "title": {
           "x": 0.05
          },
          "xaxis": {
           "automargin": true,
           "gridcolor": "white",
           "linecolor": "white",
           "ticks": "",
           "title": {
            "standoff": 15
           },
           "zerolinecolor": "white",
           "zerolinewidth": 2
          },
          "yaxis": {
           "automargin": true,
           "gridcolor": "white",
           "linecolor": "white",
           "ticks": "",
           "title": {
            "standoff": 15
           },
           "zerolinecolor": "white",
           "zerolinewidth": 2
          }
         }
        },
        "title": {
         "y": 1
        },
        "width": 1650
       }
      }
     },
     "metadata": {},
     "output_type": "display_data"
    }
   ],
   "source": [
    "position = positions[3]\n",
    "df = players_stats.loc[players_stats.index.get_level_values(1) == position]\n",
    "\n",
    "ROWS, COLUMNS = get_rows_columns(df, len(origin_columns))\n",
    "min_value, max_value = 0, 1\n",
    "\n",
    "fig = get_fig_subplots(df.index.get_level_values(0), ROWS, COLUMNS, len(origin_columns))\n",
    "for i, player_name in enumerate(df.index.get_level_values(0)):\n",
    "    for j, (key, cols) in enumerate(columns.items()):\n",
    "        _df = df.loc[(player_name, position), cols]\n",
    "        theta_list = get_theta_list(df, (player_name, position), origin_columns[key], rank_columns[key])\n",
    "\n",
    "        fig.add_trace(\n",
    "            go.Scatterpolar(r=_df, theta=theta_list, fill=\"toself\", name=player_name),\n",
    "            row=i + 1,\n",
    "            col=j + 1,\n",
    "        )\n",
    "\n",
    "fig.update_layout(\n",
    "    height=350 * ROWS, width=550 * COLUMNS, showlegend=False, title=dict(y=1)\n",
    ")\n",
    "fig.update_annotations(yshift=20)\n",
    "fig.update_polars(\n",
    "    radialaxis=dict(range=[min_value - 0.2, max_value + 0.2], visible=False)\n",
    ")\n",
    "fig.show()"
   ]
  },
  {
   "cell_type": "code",
   "execution_count": 26,
   "metadata": {},
   "outputs": [
    {
     "data": {
      "application/vnd.plotly.v1+json": {
       "config": {
        "plotlyServerURL": "https://plot.ly"
       },
       "data": [
        {
         "fill": "toself",
         "name": "BeryL",
         "r": [
          0,
          1,
          0.14874551971326166,
          0,
          1,
          1,
          1.0000000000000002
         ],
         "subplot": "polar",
         "theta": [
          "kills - 0.0 | 0.0",
          "deaths - 3.33 | 1.0",
          "assists - 4.22 | 0.1111111111111111",
          "kda - 1.78 | 0.0",
          "dpm - 195.06 | 1.0",
          "damageshare - 0.1 | 1.0",
          "damagetakenperminute - 394.2 | 1.0"
         ],
         "type": "scatterpolar"
        },
        {
         "fill": "toself",
         "name": "BeryL",
         "r": [
          0,
          0.37037037037037035,
          0.39693883695373966,
          1,
          0.6099290780141844,
          0.4052106260365016,
          0.028300760972554073,
          0,
          1,
          1.0000000000000002,
          1
         ],
         "subplot": "polar2",
         "theta": [
          "firstblood - 0.0 | 0.0",
          "firstbloodvictim - 0.11 | 0.7777777777777777",
          "wpm - 1.55 | 0.3333333333333333",
          "wcpm - 0.33 | 1.0",
          "controlwardsbought - 14.0 | 0.6666666666666665",
          "vspm - 2.74 | 0.4444444444444445",
          "gpm - 215.13 | 0.1111111111111111",
          "gdpm - -42.65 | 0.0",
          "goldshare - 0.14 | 1.0",
          "cspm - 1.13 | 1.0",
          "champions - 6.0 | 0.9999999999999999"
         ],
         "type": "scatterpolar"
        },
        {
         "fill": "toself",
         "name": "BeryL",
         "r": [
          0.18097608184708977,
          0.5383819811537578,
          0.22848200312989048,
          0.26098457016899346,
          0.7653729577881274,
          0.26631393298059963
         ],
         "subplot": "polar3",
         "theta": [
          "golddiffat10 - -67.33 | 0.1111111111111111",
          "xpdiffat10 - 31.67 | 0.5555555555555556",
          "csdiffat10 - -1.78 | 0.2222222222222222",
          "golddiffat15 - -150.0 | 0.2222222222222222",
          "xpdiffat15 - 221.78 | 0.7777777777777777",
          "csdiffat15 - -1.44 | 0.2222222222222222"
         ],
         "type": "scatterpolar"
        },
        {
         "fill": "toself",
         "name": "Kellin",
         "r": [
          0.888888888888889,
          0,
          1,
          0.9486738481035573,
          0.7789119751147786,
          0.4384091017071863,
          0
         ],
         "subplot": "polar4",
         "theta": [
          "kills - 0.8 | 0.8888888888888888",
          "deaths - 1.1 | 0.0",
          "assists - 9.5 | 1.0",
          "kda - 7.6 | 0.8888888888888888",
          "dpm - 177.58 | 0.6666666666666665",
          "damageshare - 0.08 | 0.3333333333333333",
          "damagetakenperminute - 198.21 | 0.0"
         ],
         "type": "scatterpolar"
        },
        {
         "fill": "toself",
         "name": "Kellin",
         "r": [
          0.7999999999999999,
          0.33333333333333337,
          0.7150453868039559,
          0.8553014199472835,
          0.198581560283688,
          0.8362433434121113,
          0.8131029023622558,
          0.9914924215695569,
          0.3699979783598071,
          0.3974026763990268,
          1
         ],
         "subplot": "polar5",
         "theta": [
          "firstblood - 0.3 | 0.75",
          "firstbloodvictim - 0.1 | 0.4444444444444445",
          "wpm - 1.64 | 0.7777777777777777",
          "wcpm - 0.31 | 0.8888888888888888",
          "controlwardsbought - 11.1 | 0.1111111111111111",
          "vspm - 3.02 | 0.8888888888888888",
          "gpm - 247.94 | 0.7777777777777777",
          "gdpm - 30.67 | 0.8888888888888888",
          "goldshare - 0.13 | 0.6666666666666665",
          "cspm - 0.8 | 0.5555555555555556",
          "champions - 6.0 | 0.9999999999999999"
         ],
         "type": "scatterpolar"
        },
        {
         "fill": "toself",
         "name": "Kellin",
         "r": [
          0.6230609705516383,
          0.6297402895886003,
          0.4084507042253521,
          0.5966201322556943,
          0.42501663339986695,
          0.30158730158730157
         ],
         "subplot": "polar6",
         "theta": [
          "golddiffat10 - 65.9 | 0.8888888888888888",
          "xpdiffat10 - 67.0 | 0.7777777777777777",
          "csdiffat10 - -0.5 | 0.4444444444444445",
          "golddiffat15 - 78.4 | 0.6666666666666665",
          "xpdiffat15 - -34.0 | 0.5555555555555556",
          "csdiffat15 - -1.0 | 0.3333333333333333"
         ],
         "type": "scatterpolar"
        },
        {
         "fill": "toself",
         "name": "Delight",
         "r": [
          0.6666666666666666,
          0.08955223880597013,
          0.8225806451612905,
          0.9258622250384716,
          0.02421881167395079,
          0,
          0.2912393855598332
         ],
         "subplot": "polar7",
         "theta": [
          "kills - 0.6 | 0.6666666666666665",
          "deaths - 1.3 | 0.1111111111111111",
          "assists - 8.4 | 0.7777777777777777",
          "kda - 7.46 | 0.7777777777777777",
          "dpm - 117.91 | 0.1111111111111111",
          "damageshare - 0.06 | 0.0",
          "damagetakenperminute - 255.29 | 0.3333333333333333"
         ],
         "type": "scatterpolar"
        },
        {
         "fill": "toself",
         "name": "Delight",
         "r": [
          0.5333333333333333,
          0,
          0,
          0.3889635235099054,
          0,
          0.45699833284470914,
          0.9655400601704347,
          1,
          0.5706980865907632,
          0.7135523114355233,
          0
         ],
         "subplot": "polar8",
         "theta": [
          "firstblood - 0.2 | 0.375",
          "firstbloodvictim - 0.0 | 0.0",
          "wpm - 1.43 | 0.0",
          "wcpm - 0.25 | 0.4444444444444445",
          "controlwardsbought - 9.7 | 0.0",
          "vspm - 2.78 | 0.5555555555555556",
          "gpm - 254.31 | 0.8888888888888888",
          "gdpm - 31.3 | 1.0",
          "goldshare - 0.13 | 0.7777777777777777",
          "cspm - 0.97 | 0.8888888888888888",
          "champions - 5.0 | 0.0"
         ],
         "type": "scatterpolar"
        },
        {
         "fill": "toself",
         "name": "Delight",
         "r": [
          0.40771464122770634,
          0.6532693633647437,
          1,
          0.5662013225569434,
          0.5759148369926813,
          0.9999999999999999
         ],
         "subplot": "polar9",
         "theta": [
          "golddiffat10 - 1.0 | 0.5555555555555556",
          "xpdiffat10 - 76.1 | 0.8888888888888888",
          "csdiffat10 - 3.7 | 1.0",
          "golddiffat15 - 57.7 | 0.5555555555555556",
          "xpdiffat15 - 79.4 | 0.6666666666666665",
          "csdiffat15 - 7.8 | 1.0"
         ],
         "type": "scatterpolar"
        },
        {
         "fill": "toself",
         "name": "Life",
         "r": [
          1,
          0.2686567164179104,
          0.4838709677419355,
          0.5046618991581424,
          0.5328143627794972,
          0.5497958899584101,
          0.13309953374352324
         ],
         "subplot": "polar10",
         "theta": [
          "kills - 0.9 | 1.0",
          "deaths - 1.7 | 0.7777777777777777",
          "assists - 6.3 | 0.3333333333333333",
          "kda - 4.88 | 0.3333333333333333",
          "dpm - 158.12 | 0.5555555555555556",
          "damageshare - 0.08 | 0.4444444444444445",
          "damagetakenperminute - 224.3 | 0.1111111111111111"
         ],
         "type": "scatterpolar"
        },
        {
         "fill": "toself",
         "name": "Life",
         "r": [
          0.7999999999999999,
          1,
          0.2589080070451164,
          0.42018535838789206,
          0.7943262411347518,
          0.48161972231581407,
          0.40798167592954293,
          0.532752735361595,
          0.02022028513126628,
          0.04627128953771309,
          1
         ],
         "subplot": "polar11",
         "theta": [
          "firstblood - 0.3 | 0.75",
          "firstbloodvictim - 0.3 | 1.0",
          "wpm - 1.51 | 0.2222222222222222",
          "wcpm - 0.25 | 0.5555555555555556",
          "controlwardsbought - 15.3 | 0.7777777777777777",
          "vspm - 2.79 | 0.6666666666666665",
          "gpm - 231.0 | 0.4444444444444445",
          "gdpm - -3.25 | 0.4444444444444445",
          "goldshare - 0.13 | 0.2222222222222222",
          "cspm - 0.61 | 0.2222222222222222",
          "champions - 6.0 | 0.9999999999999999"
         ],
         "type": "scatterpolar"
        },
        {
         "fill": "toself",
         "name": "Life",
         "r": [
          0.2773123185400249,
          0.2574120891749023,
          0.22535211267605637,
          0,
          0,
          0.03968253968253971
         ],
         "subplot": "polar12",
         "theta": [
          "golddiffat10 - -38.3 | 0.3333333333333333",
          "xpdiffat10 - -77.0 | 0.2222222222222222",
          "csdiffat10 - -1.8 | 0.1111111111111111",
          "golddiffat15 - -327.6 | 0.0",
          "xpdiffat15 - -353.4 | 0.0",
          "csdiffat15 - -4.3 | 0.1111111111111111"
         ],
         "type": "scatterpolar"
        },
        {
         "fill": "toself",
         "name": "Lehends",
         "r": [
          0.6666666666666666,
          0.08955223880597013,
          0.6774193548387097,
          0.8794242780845476,
          0.19387622260806103,
          0.3464430830939682,
          0.15202491174744215
         ],
         "subplot": "polar13",
         "theta": [
          "kills - 0.6 | 0.6666666666666665",
          "deaths - 1.3 | 0.1111111111111111",
          "assists - 7.5 | 0.5555555555555556",
          "kda - 7.18 | 0.6666666666666665",
          "dpm - 131.33 | 0.2222222222222222",
          "damageshare - 0.07 | 0.2222222222222222",
          "damagetakenperminute - 228.01 | 0.2222222222222222"
         ],
         "type": "scatterpolar"
        },
        {
         "fill": "toself",
         "name": "Lehends",
         "r": [
          0.5333333333333333,
          0,
          0.40604254166102205,
          0.2776209505994387,
          0.45390070921985815,
          0.27502373836601324,
          0.7326775377044843,
          0.8329516588529076,
          0.13919430724115145,
          0.5450851581508518,
          1
         ],
         "subplot": "polar14",
         "theta": [
          "firstblood - 0.2 | 0.375",
          "firstbloodvictim - 0.0 | 0.0",
          "wpm - 1.55 | 0.4444444444444445",
          "wcpm - 0.23 | 0.3333333333333333",
          "controlwardsbought - 12.9 | 0.3333333333333333",
          "vspm - 2.66 | 0.2222222222222222",
          "gpm - 244.58 | 0.6666666666666665",
          "gdpm - 18.95 | 0.6666666666666665",
          "goldshare - 0.13 | 0.4444444444444445",
          "cspm - 0.88 | 0.7777777777777777",
          "champions - 6.0 | 0.9999999999999999"
         ],
         "type": "scatterpolar"
        },
        {
         "fill": "toself",
         "name": "Lehends",
         "r": [
          0.41932807963500623,
          1,
          0.3943661971830986,
          0.6705363703159442,
          1,
          0.31746031746031744
         ],
         "subplot": "polar15",
         "theta": [
          "golddiffat10 - 4.5 | 0.6666666666666665",
          "xpdiffat10 - 210.2 | 1.0",
          "csdiffat10 - -0.6 | 0.3333333333333333",
          "golddiffat15 - 128.7 | 0.7777777777777777",
          "xpdiffat15 - 398.1 | 1.0",
          "csdiffat15 - -0.8 | 0.4444444444444445"
         ],
         "type": "scatterpolar"
        },
        {
         "fill": "toself",
         "name": "Jun",
         "r": [
          0.2777777777777778,
          0.23507462686567165,
          0.6975806451612903,
          0.698153344799493,
          0.9894743241221904,
          0.9719241309537154,
          0.5423668348457977
         ],
         "subplot": "polar16",
         "theta": [
          "kills - 0.25 | 0.2222222222222222",
          "deaths - 1.62 | 0.6666666666666665",
          "assists - 7.62 | 0.6666666666666665",
          "kda - 6.06 | 0.5555555555555556",
          "dpm - 194.23 | 0.8888888888888888",
          "damageshare - 0.1 | 0.8888888888888888",
          "damagetakenperminute - 304.51 | 0.7777777777777777"
         ],
         "type": "scatterpolar"
        },
        {
         "fill": "toself",
         "name": "Jun",
         "r": [
          1,
          0,
          0.9300738382333016,
          0.7988266303885725,
          0.9999999999999998,
          0.9999999999999996,
          0.41128755421865737,
          0.6453202262401978,
          0.09128700798979494,
          0.43246654501216564,
          0
         ],
         "subplot": "polar17",
         "theta": [
          "firstblood - 0.38 | 1.0",
          "firstbloodvictim - 0.0 | 0.0",
          "wpm - 1.7 | 0.8888888888888888",
          "wcpm - 0.3 | 0.7777777777777777",
          "controlwardsbought - 16.75 | 1.0",
          "vspm - 3.12 | 1.0",
          "gpm - 231.14 | 0.5555555555555556",
          "gdpm - 5.07 | 0.5555555555555556",
          "goldshare - 0.13 | 0.3333333333333333",
          "cspm - 0.82 | 0.6666666666666665",
          "champions - 5.0 | 0.0"
         ],
         "type": "scatterpolar"
        },
        {
         "fill": "toself",
         "name": "Jun",
         "r": [
          1,
          0.47815875660767637,
          0.46126760563380287,
          0.9308963997060984,
          0.33003992015968064,
          0.4801587301587301
         ],
         "subplot": "polar18",
         "theta": [
          "golddiffat10 - 179.5 | 1.0",
          "xpdiffat10 - 8.38 | 0.4444444444444445",
          "csdiffat10 - -0.12 | 0.5555555555555556",
          "golddiffat15 - 305.88 | 0.8888888888888888",
          "xpdiffat15 - -105.38 | 0.3333333333333333",
          "csdiffat15 - 1.25 | 0.6666666666666665"
         ],
         "type": "scatterpolar"
        },
        {
         "fill": "toself",
         "name": "Kael",
         "r": [
          0.1388888888888889,
          0.7388059701492538,
          0.5564516129032258,
          0.5455909167324029,
          0.2772364955739761,
          0.618478759704745,
          0.6684700297341271
         ],
         "subplot": "polar19",
         "theta": [
          "kills - 0.12 | 0.1111111111111111",
          "deaths - 2.75 | 0.8888888888888888",
          "assists - 6.75 | 0.4444444444444445",
          "kda - 5.13 | 0.4444444444444445",
          "dpm - 137.92 | 0.4444444444444445",
          "damageshare - 0.08 | 0.5555555555555556",
          "damagetakenperminute - 329.22 | 0.8888888888888888"
         ],
         "type": "scatterpolar"
        },
        {
         "fill": "toself",
         "name": "Kael",
         "r": [
          1,
          0.4166666666666667,
          0.1158210269611164,
          0.12350140294192657,
          0.5921985815602837,
          0.216128524108115,
          0.10689570261588699,
          0.18412354242502138,
          0,
          0.2785203771289537,
          0
         ],
         "subplot": "polar20",
         "theta": [
          "firstblood - 0.38 | 1.0",
          "firstbloodvictim - 0.12 | 0.8888888888888888",
          "wpm - 1.46 | 0.1111111111111111",
          "wcpm - 0.21 | 0.2222222222222222",
          "controlwardsbought - 13.88 | 0.5555555555555556",
          "vspm - 2.62 | 0.1111111111111111",
          "gpm - 218.42 | 0.2222222222222222",
          "gdpm - -29.03 | 0.2222222222222222",
          "goldshare - 0.13 | 0.0",
          "cspm - 0.73 | 0.4444444444444445",
          "champions - 5.0 | 0.0"
         ],
         "type": "scatterpolar"
        },
        {
         "fill": "toself",
         "name": "Kael",
         "r": [
          0,
          0.5534647207538497,
          0.8661971830985916,
          0.09346069066862606,
          0.061743180306054524,
          0.6091269841269841
         ],
         "subplot": "polar21",
         "theta": [
          "golddiffat10 - -121.88 | 0.0",
          "xpdiffat10 - 37.5 | 0.6666666666666665",
          "csdiffat10 - 2.75 | 0.8888888888888888",
          "golddiffat15 - -264.0 | 0.1111111111111111",
          "xpdiffat15 - -307.0 | 0.1111111111111111",
          "csdiffat15 - 2.88 | 0.8888888888888888"
         ],
         "type": "scatterpolar"
        },
        {
         "fill": "toself",
         "name": "Peter",
         "r": [
          0.37037037037037035,
          0.15422885572139305,
          0.14874551971326166,
          0.2715669412510184,
          0.26143150316277297,
          0.6732542532689658,
          0.4369741387926367
         ],
         "subplot": "polar22",
         "theta": [
          "kills - 0.33 | 0.3333333333333333",
          "deaths - 1.44 | 0.3333333333333333",
          "assists - 4.22 | 0.1111111111111111",
          "kda - 3.44 | 0.2222222222222222",
          "dpm - 136.67 | 0.3333333333333333",
          "damageshare - 0.08 | 0.7777777777777777",
          "damagetakenperminute - 283.85 | 0.6666666666666665"
         ],
         "type": "scatterpolar"
        },
        {
         "fill": "toself",
         "name": "Peter",
         "r": [
          0.2962962962962963,
          0,
          0.5543249183338608,
          0,
          0.5784081954294722,
          0,
          0,
          0.1294990000056721,
          0.0062652937954812415,
          0,
          0
         ],
         "subplot": "polar23",
         "theta": [
          "firstblood - 0.11 | 0.25",
          "firstbloodvictim - 0.0 | 0.0",
          "wpm - 1.59 | 0.6666666666666665",
          "wcpm - 0.2 | 0.0",
          "controlwardsbought - 13.78 | 0.4444444444444445",
          "vspm - 2.49 | 0.0",
          "gpm - 213.95 | 0.0",
          "gdpm - -33.07 | 0.1111111111111111",
          "goldshare - 0.13 | 0.1111111111111111",
          "cspm - 0.58 | 0.0",
          "champions - 5.0 | 0.0"
         ],
         "type": "scatterpolar"
        },
        {
         "fill": "toself",
         "name": "Peter",
         "r": [
          0.24696990644730174,
          0,
          0.6510172143974962,
          0.40662911258061885,
          0.23650476824129518,
          0.5044091710758377
         ],
         "subplot": "polar24",
         "theta": [
          "golddiffat10 - -47.44 | 0.2222222222222222",
          "xpdiffat10 - -176.56 | 0.0",
          "csdiffat10 - 1.22 | 0.7777777777777777",
          "golddiffat15 - -50.89 | 0.4444444444444445",
          "xpdiffat15 - -175.67 | 0.2222222222222222",
          "csdiffat15 - 1.56 | 0.7777777777777777"
         ],
         "type": "scatterpolar"
        },
        {
         "fill": "toself",
         "name": "Effort",
         "r": [
          0.5555555555555556,
          0.2238805970149254,
          0,
          0.21815877613831808,
          0,
          0.2331504827455384,
          0.31828277600467003
         ],
         "subplot": "polar25",
         "theta": [
          "kills - 0.5 | 0.5555555555555556",
          "deaths - 1.6 | 0.5555555555555556",
          "assists - 3.3 | 0.0",
          "kda - 3.12 | 0.1111111111111111",
          "dpm - 116.0 | 0.0",
          "damageshare - 0.07 | 0.1111111111111111",
          "damagetakenperminute - 260.59 | 0.5555555555555556"
         ],
         "type": "scatterpolar"
        },
        {
         "fill": "toself",
         "name": "Effort",
         "r": [
          0.5333333333333333,
          0.33333333333333337,
          0.4171860181547222,
          0.05807329308732245,
          0.35460992907801403,
          0.38291362735359824,
          0.11831160761267778,
          0.3068842019732421,
          0.32155941600320936,
          0.21904501216545014,
          0
         ],
         "subplot": "polar26",
         "theta": [
          "firstblood - 0.2 | 0.375",
          "firstbloodvictim - 0.1 | 0.4444444444444445",
          "wpm - 1.55 | 0.5555555555555556",
          "wcpm - 0.21 | 0.1111111111111111",
          "controlwardsbought - 12.2 | 0.2222222222222222",
          "vspm - 2.73 | 0.3333333333333333",
          "gpm - 218.9 | 0.3333333333333333",
          "gdpm - -19.95 | 0.3333333333333333",
          "goldshare - 0.13 | 0.5555555555555556",
          "cspm - 0.7 | 0.3333333333333333",
          "champions - 5.0 | 0.0"
         ],
         "type": "scatterpolar"
        },
        {
         "fill": "toself",
         "name": "Effort",
         "r": [
          0.383492326835338,
          0.32955067800505633,
          0.619718309859155,
          0.271565025716385,
          0.34930139720558884,
          0.3571428571428571
         ],
         "subplot": "polar27",
         "theta": [
          "golddiffat10 - -6.3 | 0.4444444444444445",
          "xpdiffat10 - -49.1 | 0.3333333333333333",
          "csdiffat10 - 1.0 | 0.6666666666666665",
          "golddiffat15 - -142.8 | 0.3333333333333333",
          "xpdiffat15 - -90.9 | 0.4444444444444445",
          "csdiffat15 - -0.3 | 0.5555555555555556"
         ],
         "type": "scatterpolar"
        },
        {
         "fill": "toself",
         "name": "Keria",
         "r": [
          0.4444444444444445,
          0.17910447761194032,
          0.9516129032258063,
          1,
          0.9893826834609007,
          0.6394779320207462,
          0.2954271268235886
         ],
         "subplot": "polar28",
         "theta": [
          "kills - 0.4 | 0.4444444444444445",
          "deaths - 1.5 | 0.4444444444444445",
          "assists - 9.2 | 0.8888888888888888",
          "kda - 7.92 | 1.0",
          "dpm - 194.22 | 0.7777777777777777",
          "damageshare - 0.08 | 0.6666666666666665",
          "damagetakenperminute - 256.11 | 0.4444444444444445"
         ],
         "type": "scatterpolar"
        },
        {
         "fill": "toself",
         "name": "Keria",
         "r": [
          0.26666666666666666,
          0.33333333333333337,
          1,
          0.7418926961993026,
          0.8794326241134753,
          0.7027711534001653,
          1,
          0.9767770677881813,
          0.6116189698224304,
          0.0029318734793186696,
          0
         ],
         "subplot": "polar29",
         "theta": [
          "firstblood - 0.1 | 0.125",
          "firstbloodvictim - 0.1 | 0.4444444444444445",
          "wpm - 1.72 | 1.0",
          "wcpm - 0.3 | 0.6666666666666665",
          "controlwardsbought - 15.9 | 0.8888888888888888",
          "vspm - 2.93 | 0.7777777777777777",
          "gpm - 255.75 | 1.0",
          "gdpm - 29.59 | 0.7777777777777777",
          "goldshare - 0.13 | 0.8888888888888888",
          "cspm - 0.58 | 0.1111111111111111",
          "champions - 5.0 | 0.0"
         ],
         "type": "scatterpolar"
        },
        {
         "fill": "toself",
         "name": "Keria",
         "r": [
          0.5052675238490253,
          0.11132498276258329,
          0,
          1,
          0.8550898203592814,
          0
         ],
         "subplot": "polar30",
         "theta": [
          "golddiffat10 - 30.4 | 0.7777777777777777",
          "xpdiffat10 - -133.5 | 0.1111111111111111",
          "csdiffat10 - -3.4 | 0.0",
          "golddiffat15 - 352.9 | 1.0",
          "xpdiffat15 - 289.2 | 0.8888888888888888",
          "csdiffat15 - -4.8 | 0.0"
         ],
         "type": "scatterpolar"
        }
       ],
       "layout": {
        "annotations": [
         {
          "font": {
           "size": 16
          },
          "showarrow": false,
          "text": "BeryL",
          "x": 0.14444444444444446,
          "xanchor": "center",
          "xref": "paper",
          "y": 1,
          "yanchor": "bottom",
          "yref": "paper",
          "yshift": 20
         },
         {
          "font": {
           "size": 16
          },
          "showarrow": false,
          "text": "BeryL",
          "x": 0.5,
          "xanchor": "center",
          "xref": "paper",
          "y": 1,
          "yanchor": "bottom",
          "yref": "paper",
          "yshift": 20
         },
         {
          "font": {
           "size": 16
          },
          "showarrow": false,
          "text": "BeryL",
          "x": 0.8555555555555556,
          "xanchor": "center",
          "xref": "paper",
          "y": 1,
          "yanchor": "bottom",
          "yref": "paper",
          "yshift": 20
         },
         {
          "font": {
           "size": 16
          },
          "showarrow": false,
          "text": "Kellin",
          "x": 0.14444444444444446,
          "xanchor": "center",
          "xref": "paper",
          "y": 0.8950000000000001,
          "yanchor": "bottom",
          "yref": "paper",
          "yshift": 20
         },
         {
          "font": {
           "size": 16
          },
          "showarrow": false,
          "text": "Kellin",
          "x": 0.5,
          "xanchor": "center",
          "xref": "paper",
          "y": 0.8950000000000001,
          "yanchor": "bottom",
          "yref": "paper",
          "yshift": 20
         },
         {
          "font": {
           "size": 16
          },
          "showarrow": false,
          "text": "Kellin",
          "x": 0.8555555555555556,
          "xanchor": "center",
          "xref": "paper",
          "y": 0.8950000000000001,
          "yanchor": "bottom",
          "yref": "paper",
          "yshift": 20
         },
         {
          "font": {
           "size": 16
          },
          "showarrow": false,
          "text": "Delight",
          "x": 0.14444444444444446,
          "xanchor": "center",
          "xref": "paper",
          "y": 0.7900000000000001,
          "yanchor": "bottom",
          "yref": "paper",
          "yshift": 20
         },
         {
          "font": {
           "size": 16
          },
          "showarrow": false,
          "text": "Delight",
          "x": 0.5,
          "xanchor": "center",
          "xref": "paper",
          "y": 0.7900000000000001,
          "yanchor": "bottom",
          "yref": "paper",
          "yshift": 20
         },
         {
          "font": {
           "size": 16
          },
          "showarrow": false,
          "text": "Delight",
          "x": 0.8555555555555556,
          "xanchor": "center",
          "xref": "paper",
          "y": 0.7900000000000001,
          "yanchor": "bottom",
          "yref": "paper",
          "yshift": 20
         },
         {
          "font": {
           "size": 16
          },
          "showarrow": false,
          "text": "Life",
          "x": 0.14444444444444446,
          "xanchor": "center",
          "xref": "paper",
          "y": 0.6850000000000002,
          "yanchor": "bottom",
          "yref": "paper",
          "yshift": 20
         },
         {
          "font": {
           "size": 16
          },
          "showarrow": false,
          "text": "Life",
          "x": 0.5,
          "xanchor": "center",
          "xref": "paper",
          "y": 0.6850000000000002,
          "yanchor": "bottom",
          "yref": "paper",
          "yshift": 20
         },
         {
          "font": {
           "size": 16
          },
          "showarrow": false,
          "text": "Life",
          "x": 0.8555555555555556,
          "xanchor": "center",
          "xref": "paper",
          "y": 0.6850000000000002,
          "yanchor": "bottom",
          "yref": "paper",
          "yshift": 20
         },
         {
          "font": {
           "size": 16
          },
          "showarrow": false,
          "text": "Lehends",
          "x": 0.14444444444444446,
          "xanchor": "center",
          "xref": "paper",
          "y": 0.5800000000000001,
          "yanchor": "bottom",
          "yref": "paper",
          "yshift": 20
         },
         {
          "font": {
           "size": 16
          },
          "showarrow": false,
          "text": "Lehends",
          "x": 0.5,
          "xanchor": "center",
          "xref": "paper",
          "y": 0.5800000000000001,
          "yanchor": "bottom",
          "yref": "paper",
          "yshift": 20
         },
         {
          "font": {
           "size": 16
          },
          "showarrow": false,
          "text": "Lehends",
          "x": 0.8555555555555556,
          "xanchor": "center",
          "xref": "paper",
          "y": 0.5800000000000001,
          "yanchor": "bottom",
          "yref": "paper",
          "yshift": 20
         },
         {
          "font": {
           "size": 16
          },
          "showarrow": false,
          "text": "Jun",
          "x": 0.14444444444444446,
          "xanchor": "center",
          "xref": "paper",
          "y": 0.47500000000000003,
          "yanchor": "bottom",
          "yref": "paper",
          "yshift": 20
         },
         {
          "font": {
           "size": 16
          },
          "showarrow": false,
          "text": "Jun",
          "x": 0.5,
          "xanchor": "center",
          "xref": "paper",
          "y": 0.47500000000000003,
          "yanchor": "bottom",
          "yref": "paper",
          "yshift": 20
         },
         {
          "font": {
           "size": 16
          },
          "showarrow": false,
          "text": "Jun",
          "x": 0.8555555555555556,
          "xanchor": "center",
          "xref": "paper",
          "y": 0.47500000000000003,
          "yanchor": "bottom",
          "yref": "paper",
          "yshift": 20
         },
         {
          "font": {
           "size": 16
          },
          "showarrow": false,
          "text": "Kael",
          "x": 0.14444444444444446,
          "xanchor": "center",
          "xref": "paper",
          "y": 0.37000000000000005,
          "yanchor": "bottom",
          "yref": "paper",
          "yshift": 20
         },
         {
          "font": {
           "size": 16
          },
          "showarrow": false,
          "text": "Kael",
          "x": 0.5,
          "xanchor": "center",
          "xref": "paper",
          "y": 0.37000000000000005,
          "yanchor": "bottom",
          "yref": "paper",
          "yshift": 20
         },
         {
          "font": {
           "size": 16
          },
          "showarrow": false,
          "text": "Kael",
          "x": 0.8555555555555556,
          "xanchor": "center",
          "xref": "paper",
          "y": 0.37000000000000005,
          "yanchor": "bottom",
          "yref": "paper",
          "yshift": 20
         },
         {
          "font": {
           "size": 16
          },
          "showarrow": false,
          "text": "Peter",
          "x": 0.14444444444444446,
          "xanchor": "center",
          "xref": "paper",
          "y": 0.265,
          "yanchor": "bottom",
          "yref": "paper",
          "yshift": 20
         },
         {
          "font": {
           "size": 16
          },
          "showarrow": false,
          "text": "Peter",
          "x": 0.5,
          "xanchor": "center",
          "xref": "paper",
          "y": 0.265,
          "yanchor": "bottom",
          "yref": "paper",
          "yshift": 20
         },
         {
          "font": {
           "size": 16
          },
          "showarrow": false,
          "text": "Peter",
          "x": 0.8555555555555556,
          "xanchor": "center",
          "xref": "paper",
          "y": 0.265,
          "yanchor": "bottom",
          "yref": "paper",
          "yshift": 20
         },
         {
          "font": {
           "size": 16
          },
          "showarrow": false,
          "text": "Effort",
          "x": 0.14444444444444446,
          "xanchor": "center",
          "xref": "paper",
          "y": 0.16000000000000003,
          "yanchor": "bottom",
          "yref": "paper",
          "yshift": 20
         },
         {
          "font": {
           "size": 16
          },
          "showarrow": false,
          "text": "Effort",
          "x": 0.5,
          "xanchor": "center",
          "xref": "paper",
          "y": 0.16000000000000003,
          "yanchor": "bottom",
          "yref": "paper",
          "yshift": 20
         },
         {
          "font": {
           "size": 16
          },
          "showarrow": false,
          "text": "Effort",
          "x": 0.8555555555555556,
          "xanchor": "center",
          "xref": "paper",
          "y": 0.16000000000000003,
          "yanchor": "bottom",
          "yref": "paper",
          "yshift": 20
         },
         {
          "font": {
           "size": 16
          },
          "showarrow": false,
          "text": "Keria",
          "x": 0.14444444444444446,
          "xanchor": "center",
          "xref": "paper",
          "y": 0.05500000000000001,
          "yanchor": "bottom",
          "yref": "paper",
          "yshift": 20
         },
         {
          "font": {
           "size": 16
          },
          "showarrow": false,
          "text": "Keria",
          "x": 0.5,
          "xanchor": "center",
          "xref": "paper",
          "y": 0.05500000000000001,
          "yanchor": "bottom",
          "yref": "paper",
          "yshift": 20
         },
         {
          "font": {
           "size": 16
          },
          "showarrow": false,
          "text": "Keria",
          "x": 0.8555555555555556,
          "xanchor": "center",
          "xref": "paper",
          "y": 0.05500000000000001,
          "yanchor": "bottom",
          "yref": "paper",
          "yshift": 20
         }
        ],
        "height": 3500,
        "polar": {
         "domain": {
          "x": [
           0,
           0.2888888888888889
          ],
          "y": [
           0.9450000000000001,
           1
          ]
         },
         "radialaxis": {
          "range": [
           -0.2,
           1.2
          ],
          "visible": false
         }
        },
        "polar10": {
         "domain": {
          "x": [
           0,
           0.2888888888888889
          ],
          "y": [
           0.6300000000000001,
           0.6850000000000002
          ]
         },
         "radialaxis": {
          "range": [
           -0.2,
           1.2
          ],
          "visible": false
         }
        },
        "polar11": {
         "domain": {
          "x": [
           0.35555555555555557,
           0.6444444444444445
          ],
          "y": [
           0.6300000000000001,
           0.6850000000000002
          ]
         },
         "radialaxis": {
          "range": [
           -0.2,
           1.2
          ],
          "visible": false
         }
        },
        "polar12": {
         "domain": {
          "x": [
           0.7111111111111111,
           1
          ],
          "y": [
           0.6300000000000001,
           0.6850000000000002
          ]
         },
         "radialaxis": {
          "range": [
           -0.2,
           1.2
          ],
          "visible": false
         }
        },
        "polar13": {
         "domain": {
          "x": [
           0,
           0.2888888888888889
          ],
          "y": [
           0.525,
           0.5800000000000001
          ]
         },
         "radialaxis": {
          "range": [
           -0.2,
           1.2
          ],
          "visible": false
         }
        },
        "polar14": {
         "domain": {
          "x": [
           0.35555555555555557,
           0.6444444444444445
          ],
          "y": [
           0.525,
           0.5800000000000001
          ]
         },
         "radialaxis": {
          "range": [
           -0.2,
           1.2
          ],
          "visible": false
         }
        },
        "polar15": {
         "domain": {
          "x": [
           0.7111111111111111,
           1
          ],
          "y": [
           0.525,
           0.5800000000000001
          ]
         },
         "radialaxis": {
          "range": [
           -0.2,
           1.2
          ],
          "visible": false
         }
        },
        "polar16": {
         "domain": {
          "x": [
           0,
           0.2888888888888889
          ],
          "y": [
           0.42000000000000004,
           0.47500000000000003
          ]
         },
         "radialaxis": {
          "range": [
           -0.2,
           1.2
          ],
          "visible": false
         }
        },
        "polar17": {
         "domain": {
          "x": [
           0.35555555555555557,
           0.6444444444444445
          ],
          "y": [
           0.42000000000000004,
           0.47500000000000003
          ]
         },
         "radialaxis": {
          "range": [
           -0.2,
           1.2
          ],
          "visible": false
         }
        },
        "polar18": {
         "domain": {
          "x": [
           0.7111111111111111,
           1
          ],
          "y": [
           0.42000000000000004,
           0.47500000000000003
          ]
         },
         "radialaxis": {
          "range": [
           -0.2,
           1.2
          ],
          "visible": false
         }
        },
        "polar19": {
         "domain": {
          "x": [
           0,
           0.2888888888888889
          ],
          "y": [
           0.31500000000000006,
           0.37000000000000005
          ]
         },
         "radialaxis": {
          "range": [
           -0.2,
           1.2
          ],
          "visible": false
         }
        },
        "polar2": {
         "domain": {
          "x": [
           0.35555555555555557,
           0.6444444444444445
          ],
          "y": [
           0.9450000000000001,
           1
          ]
         },
         "radialaxis": {
          "range": [
           -0.2,
           1.2
          ],
          "visible": false
         }
        },
        "polar20": {
         "domain": {
          "x": [
           0.35555555555555557,
           0.6444444444444445
          ],
          "y": [
           0.31500000000000006,
           0.37000000000000005
          ]
         },
         "radialaxis": {
          "range": [
           -0.2,
           1.2
          ],
          "visible": false
         }
        },
        "polar21": {
         "domain": {
          "x": [
           0.7111111111111111,
           1
          ],
          "y": [
           0.31500000000000006,
           0.37000000000000005
          ]
         },
         "radialaxis": {
          "range": [
           -0.2,
           1.2
          ],
          "visible": false
         }
        },
        "polar22": {
         "domain": {
          "x": [
           0,
           0.2888888888888889
          ],
          "y": [
           0.21000000000000002,
           0.265
          ]
         },
         "radialaxis": {
          "range": [
           -0.2,
           1.2
          ],
          "visible": false
         }
        },
        "polar23": {
         "domain": {
          "x": [
           0.35555555555555557,
           0.6444444444444445
          ],
          "y": [
           0.21000000000000002,
           0.265
          ]
         },
         "radialaxis": {
          "range": [
           -0.2,
           1.2
          ],
          "visible": false
         }
        },
        "polar24": {
         "domain": {
          "x": [
           0.7111111111111111,
           1
          ],
          "y": [
           0.21000000000000002,
           0.265
          ]
         },
         "radialaxis": {
          "range": [
           -0.2,
           1.2
          ],
          "visible": false
         }
        },
        "polar25": {
         "domain": {
          "x": [
           0,
           0.2888888888888889
          ],
          "y": [
           0.10500000000000001,
           0.16000000000000003
          ]
         },
         "radialaxis": {
          "range": [
           -0.2,
           1.2
          ],
          "visible": false
         }
        },
        "polar26": {
         "domain": {
          "x": [
           0.35555555555555557,
           0.6444444444444445
          ],
          "y": [
           0.10500000000000001,
           0.16000000000000003
          ]
         },
         "radialaxis": {
          "range": [
           -0.2,
           1.2
          ],
          "visible": false
         }
        },
        "polar27": {
         "domain": {
          "x": [
           0.7111111111111111,
           1
          ],
          "y": [
           0.10500000000000001,
           0.16000000000000003
          ]
         },
         "radialaxis": {
          "range": [
           -0.2,
           1.2
          ],
          "visible": false
         }
        },
        "polar28": {
         "domain": {
          "x": [
           0,
           0.2888888888888889
          ],
          "y": [
           0,
           0.05500000000000001
          ]
         },
         "radialaxis": {
          "range": [
           -0.2,
           1.2
          ],
          "visible": false
         }
        },
        "polar29": {
         "domain": {
          "x": [
           0.35555555555555557,
           0.6444444444444445
          ],
          "y": [
           0,
           0.05500000000000001
          ]
         },
         "radialaxis": {
          "range": [
           -0.2,
           1.2
          ],
          "visible": false
         }
        },
        "polar3": {
         "domain": {
          "x": [
           0.7111111111111111,
           1
          ],
          "y": [
           0.9450000000000001,
           1
          ]
         },
         "radialaxis": {
          "range": [
           -0.2,
           1.2
          ],
          "visible": false
         }
        },
        "polar30": {
         "domain": {
          "x": [
           0.7111111111111111,
           1
          ],
          "y": [
           0,
           0.05500000000000001
          ]
         },
         "radialaxis": {
          "range": [
           -0.2,
           1.2
          ],
          "visible": false
         }
        },
        "polar4": {
         "domain": {
          "x": [
           0,
           0.2888888888888889
          ],
          "y": [
           0.8400000000000001,
           0.8950000000000001
          ]
         },
         "radialaxis": {
          "range": [
           -0.2,
           1.2
          ],
          "visible": false
         }
        },
        "polar5": {
         "domain": {
          "x": [
           0.35555555555555557,
           0.6444444444444445
          ],
          "y": [
           0.8400000000000001,
           0.8950000000000001
          ]
         },
         "radialaxis": {
          "range": [
           -0.2,
           1.2
          ],
          "visible": false
         }
        },
        "polar6": {
         "domain": {
          "x": [
           0.7111111111111111,
           1
          ],
          "y": [
           0.8400000000000001,
           0.8950000000000001
          ]
         },
         "radialaxis": {
          "range": [
           -0.2,
           1.2
          ],
          "visible": false
         }
        },
        "polar7": {
         "domain": {
          "x": [
           0,
           0.2888888888888889
          ],
          "y": [
           0.7350000000000001,
           0.7900000000000001
          ]
         },
         "radialaxis": {
          "range": [
           -0.2,
           1.2
          ],
          "visible": false
         }
        },
        "polar8": {
         "domain": {
          "x": [
           0.35555555555555557,
           0.6444444444444445
          ],
          "y": [
           0.7350000000000001,
           0.7900000000000001
          ]
         },
         "radialaxis": {
          "range": [
           -0.2,
           1.2
          ],
          "visible": false
         }
        },
        "polar9": {
         "domain": {
          "x": [
           0.7111111111111111,
           1
          ],
          "y": [
           0.7350000000000001,
           0.7900000000000001
          ]
         },
         "radialaxis": {
          "range": [
           -0.2,
           1.2
          ],
          "visible": false
         }
        },
        "showlegend": false,
        "template": {
         "data": {
          "bar": [
           {
            "error_x": {
             "color": "#2a3f5f"
            },
            "error_y": {
             "color": "#2a3f5f"
            },
            "marker": {
             "line": {
              "color": "#E5ECF6",
              "width": 0.5
             },
             "pattern": {
              "fillmode": "overlay",
              "size": 10,
              "solidity": 0.2
             }
            },
            "type": "bar"
           }
          ],
          "barpolar": [
           {
            "marker": {
             "line": {
              "color": "#E5ECF6",
              "width": 0.5
             },
             "pattern": {
              "fillmode": "overlay",
              "size": 10,
              "solidity": 0.2
             }
            },
            "type": "barpolar"
           }
          ],
          "carpet": [
           {
            "aaxis": {
             "endlinecolor": "#2a3f5f",
             "gridcolor": "white",
             "linecolor": "white",
             "minorgridcolor": "white",
             "startlinecolor": "#2a3f5f"
            },
            "baxis": {
             "endlinecolor": "#2a3f5f",
             "gridcolor": "white",
             "linecolor": "white",
             "minorgridcolor": "white",
             "startlinecolor": "#2a3f5f"
            },
            "type": "carpet"
           }
          ],
          "choropleth": [
           {
            "colorbar": {
             "outlinewidth": 0,
             "ticks": ""
            },
            "type": "choropleth"
           }
          ],
          "contour": [
           {
            "colorbar": {
             "outlinewidth": 0,
             "ticks": ""
            },
            "colorscale": [
             [
              0,
              "#0d0887"
             ],
             [
              0.1111111111111111,
              "#46039f"
             ],
             [
              0.2222222222222222,
              "#7201a8"
             ],
             [
              0.3333333333333333,
              "#9c179e"
             ],
             [
              0.4444444444444444,
              "#bd3786"
             ],
             [
              0.5555555555555556,
              "#d8576b"
             ],
             [
              0.6666666666666666,
              "#ed7953"
             ],
             [
              0.7777777777777778,
              "#fb9f3a"
             ],
             [
              0.8888888888888888,
              "#fdca26"
             ],
             [
              1,
              "#f0f921"
             ]
            ],
            "type": "contour"
           }
          ],
          "contourcarpet": [
           {
            "colorbar": {
             "outlinewidth": 0,
             "ticks": ""
            },
            "type": "contourcarpet"
           }
          ],
          "heatmap": [
           {
            "colorbar": {
             "outlinewidth": 0,
             "ticks": ""
            },
            "colorscale": [
             [
              0,
              "#0d0887"
             ],
             [
              0.1111111111111111,
              "#46039f"
             ],
             [
              0.2222222222222222,
              "#7201a8"
             ],
             [
              0.3333333333333333,
              "#9c179e"
             ],
             [
              0.4444444444444444,
              "#bd3786"
             ],
             [
              0.5555555555555556,
              "#d8576b"
             ],
             [
              0.6666666666666666,
              "#ed7953"
             ],
             [
              0.7777777777777778,
              "#fb9f3a"
             ],
             [
              0.8888888888888888,
              "#fdca26"
             ],
             [
              1,
              "#f0f921"
             ]
            ],
            "type": "heatmap"
           }
          ],
          "heatmapgl": [
           {
            "colorbar": {
             "outlinewidth": 0,
             "ticks": ""
            },
            "colorscale": [
             [
              0,
              "#0d0887"
             ],
             [
              0.1111111111111111,
              "#46039f"
             ],
             [
              0.2222222222222222,
              "#7201a8"
             ],
             [
              0.3333333333333333,
              "#9c179e"
             ],
             [
              0.4444444444444444,
              "#bd3786"
             ],
             [
              0.5555555555555556,
              "#d8576b"
             ],
             [
              0.6666666666666666,
              "#ed7953"
             ],
             [
              0.7777777777777778,
              "#fb9f3a"
             ],
             [
              0.8888888888888888,
              "#fdca26"
             ],
             [
              1,
              "#f0f921"
             ]
            ],
            "type": "heatmapgl"
           }
          ],
          "histogram": [
           {
            "marker": {
             "pattern": {
              "fillmode": "overlay",
              "size": 10,
              "solidity": 0.2
             }
            },
            "type": "histogram"
           }
          ],
          "histogram2d": [
           {
            "colorbar": {
             "outlinewidth": 0,
             "ticks": ""
            },
            "colorscale": [
             [
              0,
              "#0d0887"
             ],
             [
              0.1111111111111111,
              "#46039f"
             ],
             [
              0.2222222222222222,
              "#7201a8"
             ],
             [
              0.3333333333333333,
              "#9c179e"
             ],
             [
              0.4444444444444444,
              "#bd3786"
             ],
             [
              0.5555555555555556,
              "#d8576b"
             ],
             [
              0.6666666666666666,
              "#ed7953"
             ],
             [
              0.7777777777777778,
              "#fb9f3a"
             ],
             [
              0.8888888888888888,
              "#fdca26"
             ],
             [
              1,
              "#f0f921"
             ]
            ],
            "type": "histogram2d"
           }
          ],
          "histogram2dcontour": [
           {
            "colorbar": {
             "outlinewidth": 0,
             "ticks": ""
            },
            "colorscale": [
             [
              0,
              "#0d0887"
             ],
             [
              0.1111111111111111,
              "#46039f"
             ],
             [
              0.2222222222222222,
              "#7201a8"
             ],
             [
              0.3333333333333333,
              "#9c179e"
             ],
             [
              0.4444444444444444,
              "#bd3786"
             ],
             [
              0.5555555555555556,
              "#d8576b"
             ],
             [
              0.6666666666666666,
              "#ed7953"
             ],
             [
              0.7777777777777778,
              "#fb9f3a"
             ],
             [
              0.8888888888888888,
              "#fdca26"
             ],
             [
              1,
              "#f0f921"
             ]
            ],
            "type": "histogram2dcontour"
           }
          ],
          "mesh3d": [
           {
            "colorbar": {
             "outlinewidth": 0,
             "ticks": ""
            },
            "type": "mesh3d"
           }
          ],
          "parcoords": [
           {
            "line": {
             "colorbar": {
              "outlinewidth": 0,
              "ticks": ""
             }
            },
            "type": "parcoords"
           }
          ],
          "pie": [
           {
            "automargin": true,
            "type": "pie"
           }
          ],
          "scatter": [
           {
            "fillpattern": {
             "fillmode": "overlay",
             "size": 10,
             "solidity": 0.2
            },
            "type": "scatter"
           }
          ],
          "scatter3d": [
           {
            "line": {
             "colorbar": {
              "outlinewidth": 0,
              "ticks": ""
             }
            },
            "marker": {
             "colorbar": {
              "outlinewidth": 0,
              "ticks": ""
             }
            },
            "type": "scatter3d"
           }
          ],
          "scattercarpet": [
           {
            "marker": {
             "colorbar": {
              "outlinewidth": 0,
              "ticks": ""
             }
            },
            "type": "scattercarpet"
           }
          ],
          "scattergeo": [
           {
            "marker": {
             "colorbar": {
              "outlinewidth": 0,
              "ticks": ""
             }
            },
            "type": "scattergeo"
           }
          ],
          "scattergl": [
           {
            "marker": {
             "colorbar": {
              "outlinewidth": 0,
              "ticks": ""
             }
            },
            "type": "scattergl"
           }
          ],
          "scattermapbox": [
           {
            "marker": {
             "colorbar": {
              "outlinewidth": 0,
              "ticks": ""
             }
            },
            "type": "scattermapbox"
           }
          ],
          "scatterpolar": [
           {
            "marker": {
             "colorbar": {
              "outlinewidth": 0,
              "ticks": ""
             }
            },
            "type": "scatterpolar"
           }
          ],
          "scatterpolargl": [
           {
            "marker": {
             "colorbar": {
              "outlinewidth": 0,
              "ticks": ""
             }
            },
            "type": "scatterpolargl"
           }
          ],
          "scatterternary": [
           {
            "marker": {
             "colorbar": {
              "outlinewidth": 0,
              "ticks": ""
             }
            },
            "type": "scatterternary"
           }
          ],
          "surface": [
           {
            "colorbar": {
             "outlinewidth": 0,
             "ticks": ""
            },
            "colorscale": [
             [
              0,
              "#0d0887"
             ],
             [
              0.1111111111111111,
              "#46039f"
             ],
             [
              0.2222222222222222,
              "#7201a8"
             ],
             [
              0.3333333333333333,
              "#9c179e"
             ],
             [
              0.4444444444444444,
              "#bd3786"
             ],
             [
              0.5555555555555556,
              "#d8576b"
             ],
             [
              0.6666666666666666,
              "#ed7953"
             ],
             [
              0.7777777777777778,
              "#fb9f3a"
             ],
             [
              0.8888888888888888,
              "#fdca26"
             ],
             [
              1,
              "#f0f921"
             ]
            ],
            "type": "surface"
           }
          ],
          "table": [
           {
            "cells": {
             "fill": {
              "color": "#EBF0F8"
             },
             "line": {
              "color": "white"
             }
            },
            "header": {
             "fill": {
              "color": "#C8D4E3"
             },
             "line": {
              "color": "white"
             }
            },
            "type": "table"
           }
          ]
         },
         "layout": {
          "annotationdefaults": {
           "arrowcolor": "#2a3f5f",
           "arrowhead": 0,
           "arrowwidth": 1
          },
          "autotypenumbers": "strict",
          "coloraxis": {
           "colorbar": {
            "outlinewidth": 0,
            "ticks": ""
           }
          },
          "colorscale": {
           "diverging": [
            [
             0,
             "#8e0152"
            ],
            [
             0.1,
             "#c51b7d"
            ],
            [
             0.2,
             "#de77ae"
            ],
            [
             0.3,
             "#f1b6da"
            ],
            [
             0.4,
             "#fde0ef"
            ],
            [
             0.5,
             "#f7f7f7"
            ],
            [
             0.6,
             "#e6f5d0"
            ],
            [
             0.7,
             "#b8e186"
            ],
            [
             0.8,
             "#7fbc41"
            ],
            [
             0.9,
             "#4d9221"
            ],
            [
             1,
             "#276419"
            ]
           ],
           "sequential": [
            [
             0,
             "#0d0887"
            ],
            [
             0.1111111111111111,
             "#46039f"
            ],
            [
             0.2222222222222222,
             "#7201a8"
            ],
            [
             0.3333333333333333,
             "#9c179e"
            ],
            [
             0.4444444444444444,
             "#bd3786"
            ],
            [
             0.5555555555555556,
             "#d8576b"
            ],
            [
             0.6666666666666666,
             "#ed7953"
            ],
            [
             0.7777777777777778,
             "#fb9f3a"
            ],
            [
             0.8888888888888888,
             "#fdca26"
            ],
            [
             1,
             "#f0f921"
            ]
           ],
           "sequentialminus": [
            [
             0,
             "#0d0887"
            ],
            [
             0.1111111111111111,
             "#46039f"
            ],
            [
             0.2222222222222222,
             "#7201a8"
            ],
            [
             0.3333333333333333,
             "#9c179e"
            ],
            [
             0.4444444444444444,
             "#bd3786"
            ],
            [
             0.5555555555555556,
             "#d8576b"
            ],
            [
             0.6666666666666666,
             "#ed7953"
            ],
            [
             0.7777777777777778,
             "#fb9f3a"
            ],
            [
             0.8888888888888888,
             "#fdca26"
            ],
            [
             1,
             "#f0f921"
            ]
           ]
          },
          "colorway": [
           "#636efa",
           "#EF553B",
           "#00cc96",
           "#ab63fa",
           "#FFA15A",
           "#19d3f3",
           "#FF6692",
           "#B6E880",
           "#FF97FF",
           "#FECB52"
          ],
          "font": {
           "color": "#2a3f5f"
          },
          "geo": {
           "bgcolor": "white",
           "lakecolor": "white",
           "landcolor": "#E5ECF6",
           "showlakes": true,
           "showland": true,
           "subunitcolor": "white"
          },
          "hoverlabel": {
           "align": "left"
          },
          "hovermode": "closest",
          "mapbox": {
           "style": "light"
          },
          "paper_bgcolor": "white",
          "plot_bgcolor": "#E5ECF6",
          "polar": {
           "angularaxis": {
            "gridcolor": "white",
            "linecolor": "white",
            "ticks": ""
           },
           "bgcolor": "#E5ECF6",
           "radialaxis": {
            "gridcolor": "white",
            "linecolor": "white",
            "ticks": ""
           }
          },
          "scene": {
           "xaxis": {
            "backgroundcolor": "#E5ECF6",
            "gridcolor": "white",
            "gridwidth": 2,
            "linecolor": "white",
            "showbackground": true,
            "ticks": "",
            "zerolinecolor": "white"
           },
           "yaxis": {
            "backgroundcolor": "#E5ECF6",
            "gridcolor": "white",
            "gridwidth": 2,
            "linecolor": "white",
            "showbackground": true,
            "ticks": "",
            "zerolinecolor": "white"
           },
           "zaxis": {
            "backgroundcolor": "#E5ECF6",
            "gridcolor": "white",
            "gridwidth": 2,
            "linecolor": "white",
            "showbackground": true,
            "ticks": "",
            "zerolinecolor": "white"
           }
          },
          "shapedefaults": {
           "line": {
            "color": "#2a3f5f"
           }
          },
          "ternary": {
           "aaxis": {
            "gridcolor": "white",
            "linecolor": "white",
            "ticks": ""
           },
           "baxis": {
            "gridcolor": "white",
            "linecolor": "white",
            "ticks": ""
           },
           "bgcolor": "#E5ECF6",
           "caxis": {
            "gridcolor": "white",
            "linecolor": "white",
            "ticks": ""
           }
          },
          "title": {
           "x": 0.05
          },
          "xaxis": {
           "automargin": true,
           "gridcolor": "white",
           "linecolor": "white",
           "ticks": "",
           "title": {
            "standoff": 15
           },
           "zerolinecolor": "white",
           "zerolinewidth": 2
          },
          "yaxis": {
           "automargin": true,
           "gridcolor": "white",
           "linecolor": "white",
           "ticks": "",
           "title": {
            "standoff": 15
           },
           "zerolinecolor": "white",
           "zerolinewidth": 2
          }
         }
        },
        "title": {
         "y": 1
        },
        "width": 1650
       }
      }
     },
     "metadata": {},
     "output_type": "display_data"
    }
   ],
   "source": [
    "position = positions[4]\n",
    "df = players_stats.loc[players_stats.index.get_level_values(1) == position]\n",
    "\n",
    "ROWS, COLUMNS = get_rows_columns(df, len(origin_columns))\n",
    "min_value, max_value = 0, 1\n",
    "\n",
    "fig = get_fig_subplots(df.index.get_level_values(0), ROWS, COLUMNS, len(origin_columns))\n",
    "for i, player_name in enumerate(df.index.get_level_values(0)):\n",
    "    for j, (key, cols) in enumerate(columns.items()):\n",
    "        _df = df.loc[(player_name, position), cols]\n",
    "        theta_list = get_theta_list(df, (player_name, position), origin_columns[key], rank_columns[key])\n",
    "\n",
    "        fig.add_trace(\n",
    "            go.Scatterpolar(r=_df, theta=theta_list, fill=\"toself\", name=player_name),\n",
    "            row=i + 1,\n",
    "            col=j + 1,\n",
    "        )\n",
    "\n",
    "fig.update_layout(\n",
    "    height=350 * ROWS, width=550 * COLUMNS, showlegend=False, title=dict(y=1)\n",
    ")\n",
    "fig.update_annotations(yshift=20)\n",
    "fig.update_polars(\n",
    "    radialaxis=dict(range=[min_value - 0.2, max_value + 0.2], visible=False)\n",
    ")\n",
    "fig.show()"
   ]
  },
  {
   "cell_type": "code",
   "execution_count": null,
   "metadata": {},
   "outputs": [],
   "source": []
  }
 ],
 "metadata": {
  "kernelspec": {
   "display_name": "Python 3.10.4 64-bit",
   "language": "python",
   "name": "python3"
  },
  "language_info": {
   "codemirror_mode": {
    "name": "ipython",
    "version": 3
   },
   "file_extension": ".py",
   "mimetype": "text/x-python",
   "name": "python",
   "nbconvert_exporter": "python",
   "pygments_lexer": "ipython3",
   "version": "3.11.3"
  },
  "orig_nbformat": 4,
  "vscode": {
   "interpreter": {
    "hash": "26de051ba29f2982a8de78e945f0abaf191376122a1563185a90213a26c5da77"
   }
  }
 },
 "nbformat": 4,
 "nbformat_minor": 2
}
