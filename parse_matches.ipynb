{
 "cells": [
  {
   "cell_type": "code",
   "execution_count": 1,
   "metadata": {},
   "outputs": [],
   "source": [
    "from collections import Counter\n",
    "\n",
    "import pandas as pd\n",
    "import numpy as np\n",
    "\n",
    "from lol_fandom import SITE, set_default_delay\n",
    "from lol_fandom import get_leagues, get_tournaments\n",
    "from lol_fandom import get_scoreboard_games, get_scoreboard_players\n",
    "from lol_fandom import from_response\n",
    "\n",
    "pd.set_option('display.max_columns', None)\n",
    "# set_default_delay(0.5)"
   ]
  },
  {
   "cell_type": "code",
   "execution_count": 2,
   "metadata": {},
   "outputs": [],
   "source": [
    "def get_new_id(ids):\n",
    "    if 'team_id' in ids.columns:\n",
    "        id_list = sorted(ids['team_id'].unique())\n",
    "    else:\n",
    "        id_list = sorted(ids['player_id'].unique())\n",
    "\n",
    "    if len(id_list) == 0:\n",
    "        return 1\n",
    "    prev = id_list[0]\n",
    "    for id in id_list[1:]:\n",
    "        if prev + 1 != id:\n",
    "            return prev + 1\n",
    "        prev = id\n",
    "    return prev + 1"
   ]
  },
  {
   "attachments": {},
   "cell_type": "markdown",
   "metadata": {},
   "source": [
    "## Teams"
   ]
  },
  {
   "cell_type": "code",
   "execution_count": 3,
   "metadata": {},
   "outputs": [
    {
     "name": "stdout",
     "output_type": "stream",
     "text": [
      "2023 - tournament 10\n",
      "2023 - scoreboard games 230\n",
      "\tLLA/2023 Season/Opening Promotion\n",
      "\tLPL/2023 Season/Spring Season\n",
      "\tLCK/2023 Season/Spring Season\n",
      "\tLEC/2023 Season/Winter Season\n",
      "\tCBLOL/2023 Season/Split 1\n",
      "\tLCO/2023 Season/Split 1 Stage 1\n",
      "\tLLA/2023 Season/Opening Season\n",
      "\tTCL/2023 Season/Winter Season\n",
      "\tLCS/2023 Season/Spring Season\n",
      "\tLJL/2023 Season/Spring Season\n",
      "\n",
      "Completed\n"
     ]
    }
   ],
   "source": [
    "teams = pd.read_csv('./csv/teams_id.csv')\n",
    "names = []\n",
    "\n",
    "# for year in range(2011, 2024):\n",
    "for year in range(2023, 2024):\n",
    "    tournaments = pd.read_csv(f'./csv/tournaments/{year}_tournaments.csv')\n",
    "    scoreboard_games = pd.read_csv(f'./csv/scoreboard_games/{year}_scoreboard_games.csv')\n",
    "    print(f'{year} - tournament {tournaments.shape[0]}')\n",
    "    print(f'{year} - scoreboard games {scoreboard_games.shape[0]}')\n",
    "    for page in tournaments['OverviewPage']:\n",
    "        print(f'\\t{page}')\n",
    "        sg = scoreboard_games.loc[scoreboard_games['OverviewPage'] == page]\n",
    "        team_names = sg[['Team1', 'Team2']].unstack().unique()\n",
    "        names = []\n",
    "        for name in team_names:\n",
    "            if name not in teams['team'].values:\n",
    "                names.append(name)\n",
    "        if len(names) > 0:\n",
    "            names = sorted(names)\n",
    "            break\n",
    "    if len(names) > 0:\n",
    "        print(f'https://lol.fandom.com/wiki/{page.replace(\" \", \"_\")}')\n",
    "        print(f'{page}\\n{names}')\n",
    "        break\n",
    "if len(names) == 0:\n",
    "    print('\\nCompleted')"
   ]
  },
  {
   "cell_type": "code",
   "execution_count": null,
   "metadata": {},
   "outputs": [],
   "source": [
    "teams.loc[teams['team'].str.contains(\n",
    "    'rainbow',\n",
    "    case=False\n",
    ")]"
   ]
  },
  {
   "cell_type": "code",
   "execution_count": null,
   "metadata": {},
   "outputs": [],
   "source": [
    "if len(names) > 0:\n",
    "    teams = pd.concat(\n",
    "        [\n",
    "            teams,\n",
    "            pd.Series({'team': names.pop(0), 'team_id': get_new_id(teams)}).to_frame().T\n",
    "            # pd.Series({'team': names.pop(0), 'team_id': 323}).to_frame().T\n",
    "        ],\n",
    "        ignore_index=True\n",
    "    )\n",
    "names"
   ]
  },
  {
   "cell_type": "code",
   "execution_count": null,
   "metadata": {},
   "outputs": [],
   "source": [
    "teams = teams.sort_values(by=['team_id', 'team']).reset_index(drop=True)\n",
    "teams"
   ]
  },
  {
   "cell_type": "code",
   "execution_count": null,
   "metadata": {},
   "outputs": [],
   "source": [
    "teams.to_csv('./csv/teams_id.csv', index=False)"
   ]
  },
  {
   "attachments": {},
   "cell_type": "markdown",
   "metadata": {},
   "source": [
    "## Players"
   ]
  },
  {
   "cell_type": "code",
   "execution_count": 4,
   "metadata": {},
   "outputs": [
    {
     "name": "stdout",
     "output_type": "stream",
     "text": [
      "2023\n",
      "2023 - 10 tournaments | 230 scoreboard games | 2300 scoreboard players\n",
      "\tLLA/2023 Season/Opening Promotion\n",
      "\tLPL/2023 Season/Spring Season\n",
      "\tLCK/2023 Season/Spring Season\n",
      "\tLEC/2023 Season/Winter Season\n",
      "\tCBLOL/2023 Season/Split 1\n",
      "\tLCO/2023 Season/Split 1 Stage 1\n",
      "\tLLA/2023 Season/Opening Season\n",
      "\tTCL/2023 Season/Winter Season\n",
      "\tLCS/2023 Season/Spring Season\n",
      "\tLJL/2023 Season/Spring Season\n",
      "\n",
      "Completed\n"
     ]
    }
   ],
   "source": [
    "players = pd.read_csv('./csv/players_id.csv')\n",
    "names = {}\n",
    "\n",
    "# for year in range(2011, 2024):\n",
    "for year in range(2023, 2024):\n",
    "    tournaments = pd.read_csv(f'./csv/tournaments/{year}_tournaments.csv')\n",
    "    scoreboard_games = pd.read_csv(\n",
    "        f'./csv/scoreboard_games/{year}_scoreboard_games.csv'\n",
    "    )\n",
    "    scoreboard_players = pd.read_csv(\n",
    "        f'./csv/scoreboard_players/{year}_scoreboard_players.csv'\n",
    "    )\n",
    "    print(year)\n",
    "    print(f'{year} - {tournaments.shape[0]} tournaments | {scoreboard_games.shape[0]} scoreboard games | {scoreboard_players.shape[0]} scoreboard players')\n",
    "    for page in tournaments['OverviewPage']:\n",
    "        print(f'\\t{page}')\n",
    "        sp = scoreboard_players.loc[scoreboard_players['OverviewPage'] == page]\n",
    "        player_names = sp['Link'].unique()\n",
    "        for i, name in enumerate(player_names):\n",
    "            team = sp.loc[sp['Link'] == name, 'Team'].unique()\n",
    "            team = sorted(team)[0]\n",
    "            position = sp.loc[sp['Link'] == name, 'Role Number'].unique()[0]\n",
    "            player_names[i] = (team, position, name)\n",
    "        player_names = sorted(player_names)\n",
    "        for (team, _, name) in player_names:\n",
    "            if name not in players['player'].values:\n",
    "                lst = names.get(team, [])\n",
    "                lst.append(name)\n",
    "                names[team] = lst\n",
    "        if len(names) > 0:\n",
    "            break\n",
    "    if len(names) > 0:\n",
    "        print(f'{page}')\n",
    "        for team, player_lst in names.items():\n",
    "            print(f'{team}\\n  {player_lst}')\n",
    "        break\n",
    "if len(names) == 0:\n",
    "    print('\\nCompleted')"
   ]
  },
  {
   "cell_type": "code",
   "execution_count": null,
   "metadata": {},
   "outputs": [],
   "source": [
    "print(f'https://lol.fandom.com/wiki/{page.replace(\" \", \"_\")}')\n",
    "print(page)\n",
    "teams = list(names.keys())\n",
    "print(teams)\n",
    "print()\n",
    "print(teams[0])\n",
    "print(names[teams[0]])"
   ]
  },
  {
   "cell_type": "code",
   "execution_count": null,
   "metadata": {},
   "outputs": [],
   "source": [
    "players.loc[players['player'].str.contains(\n",
    "    'ace..ko',\n",
    "    case=False\n",
    ")]\n",
    "# players.loc[players['player_id'] == 135]"
   ]
  },
  {
   "cell_type": "code",
   "execution_count": null,
   "metadata": {},
   "outputs": [],
   "source": [
    "if len(names) > 0:\n",
    "    name = names[teams[0]].pop(0)\n",
    "    players = pd.concat(\n",
    "        [\n",
    "            players,\n",
    "            pd.Series({'player': name, 'player_id': get_new_id(players)}).to_frame().T\n",
    "            # pd.Series({'player': name, 'player_id': 2967}).to_frame().T\n",
    "        ],\n",
    "        ignore_index=True\n",
    "    )\n",
    "    if len(names[teams[0]]) == 0:\n",
    "        del names[teams[0]]\n",
    "        del teams[0]\n",
    "print(teams)\n",
    "print()\n",
    "if len(teams) > 0:\n",
    "    print(teams[0])\n",
    "    print(names[teams[0]])"
   ]
  },
  {
   "cell_type": "code",
   "execution_count": null,
   "metadata": {},
   "outputs": [],
   "source": [
    "players = players.sort_values(by=['player_id', 'player']).reset_index(drop=True)\n",
    "players"
   ]
  },
  {
   "cell_type": "code",
   "execution_count": null,
   "metadata": {},
   "outputs": [],
   "source": [
    "while True:\n",
    "    players['lower'] = players['player'].str.lower()\n",
    "    lst = sorted(list(players[['lower', 'player_id']].itertuples(index=False)))\n",
    "\n",
    "    is_complete = True\n",
    "    prev = lst[0]\n",
    "    for cur in lst[1:]:\n",
    "        if prev[0] == cur[0] and prev[1] != cur[1] and cur[1] != 1869:\n",
    "            is_complete = False\n",
    "            break\n",
    "        prev = cur\n",
    "\n",
    "    if not is_complete:\n",
    "        print('incomplete')\n",
    "        candidate = players.loc[players['lower'] == prev[0]]\n",
    "        print(candidate)\n",
    "        df = players.loc[players['player_id'].isin(candidate['player_id'].values)]\n",
    "        if candidate.shape[0] != df.shape[0]:\n",
    "            print('improper id')\n",
    "            print(df)\n",
    "            break\n",
    "        else:\n",
    "            players.loc[players['lower'] == prev[0], 'player_id'] = min(players.loc[players['lower'] == prev[0], 'player_id'])\n",
    "            print('after correction')\n",
    "            print(players.loc[players['lower'] == prev[0]])\n",
    "            print('\\n')\n",
    "    else:\n",
    "        print('completed')\n",
    "        break"
   ]
  },
  {
   "cell_type": "code",
   "execution_count": null,
   "metadata": {},
   "outputs": [],
   "source": [
    "is_complete = True\n",
    "\n",
    "counter = Counter(players[['player', 'player_id']].itertuples(index=False))\n",
    "lst = [key for key, value in counter.items() if value > 1]\n",
    "if len(lst) > 0:\n",
    "    is_complete = False\n",
    "    print('incomplete')\n",
    "    print(lst)\n",
    "    for (name, id) in lst:\n",
    "        idx = players.loc[players['player'] == name].index\n",
    "        players.drop(idx[1:], inplace=True)\n",
    "else:\n",
    "    print('completed')"
   ]
  },
  {
   "cell_type": "code",
   "execution_count": null,
   "metadata": {},
   "outputs": [],
   "source": [
    "if is_complete:\n",
    "    players[['player', 'player_id']].to_csv('./csv/players_id.csv', index=False)\n",
    "    print('Save complete')"
   ]
  },
  {
   "cell_type": "code",
   "execution_count": null,
   "metadata": {},
   "outputs": [],
   "source": []
  }
 ],
 "metadata": {
  "kernelspec": {
   "display_name": "Python 3",
   "language": "python",
   "name": "python3"
  },
  "language_info": {
   "codemirror_mode": {
    "name": "ipython",
    "version": 3
   },
   "file_extension": ".py",
   "mimetype": "text/x-python",
   "name": "python",
   "nbconvert_exporter": "python",
   "pygments_lexer": "ipython3",
   "version": "3.11.1"
  },
  "orig_nbformat": 4,
  "vscode": {
   "interpreter": {
    "hash": "cc0362ac4c7af633927c7f13c3a204675dc26ff026425e1d1bcaf453ea76d9c8"
   }
  }
 },
 "nbformat": 4,
 "nbformat_minor": 2
}
