{
 "cells": [
  {
   "cell_type": "code",
   "execution_count": 1,
   "metadata": {},
   "outputs": [],
   "source": [
    "import numpy as np\n",
    "import pandas as pd\n",
    "import matplotlib as mpl\n",
    "import matplotlib.pyplot as plt\n",
    "import seaborn as sns\n",
    "from sklearn.preprocessing import StandardScaler\n",
    "import plotly.express as px\n",
    "import plotly.graph_objects as go\n",
    "from plotly.subplots import make_subplots\n",
    "import pandas as pd\n",
    "\n",
    "\n",
    "pd.set_option(\"display.max_columns\", None)"
   ]
  },
  {
   "cell_type": "code",
   "execution_count": 2,
   "metadata": {},
   "outputs": [
    {
     "data": {
      "text/html": [
       "<div>\n",
       "<style scoped>\n",
       "    .dataframe tbody tr th:only-of-type {\n",
       "        vertical-align: middle;\n",
       "    }\n",
       "\n",
       "    .dataframe tbody tr th {\n",
       "        vertical-align: top;\n",
       "    }\n",
       "\n",
       "    .dataframe thead th {\n",
       "        text-align: right;\n",
       "    }\n",
       "</style>\n",
       "<table border=\"1\" class=\"dataframe\">\n",
       "  <thead>\n",
       "    <tr style=\"text-align: right;\">\n",
       "      <th></th>\n",
       "      <th>Games</th>\n",
       "      <th>Win</th>\n",
       "      <th>Loss</th>\n",
       "      <th>WinRate</th>\n",
       "      <th>KD</th>\n",
       "      <th>CKPM</th>\n",
       "      <th>GameDuration</th>\n",
       "      <th>WinGameDuration</th>\n",
       "      <th>LossGameDuration</th>\n",
       "      <th>GPM</th>\n",
       "      <th>GDPM</th>\n",
       "      <th>KPM</th>\n",
       "    </tr>\n",
       "    <tr>\n",
       "      <th>Team</th>\n",
       "      <th></th>\n",
       "      <th></th>\n",
       "      <th></th>\n",
       "      <th></th>\n",
       "      <th></th>\n",
       "      <th></th>\n",
       "      <th></th>\n",
       "      <th></th>\n",
       "      <th></th>\n",
       "      <th></th>\n",
       "      <th></th>\n",
       "      <th></th>\n",
       "    </tr>\n",
       "  </thead>\n",
       "  <tbody>\n",
       "    <tr>\n",
       "      <th>BRION</th>\n",
       "      <td>44.0</td>\n",
       "      <td>13.0</td>\n",
       "      <td>31.0</td>\n",
       "      <td>0.295455</td>\n",
       "      <td>0.695402</td>\n",
       "      <td>0.615470</td>\n",
       "      <td>33.289394</td>\n",
       "      <td>37.120513</td>\n",
       "      <td>31.682796</td>\n",
       "      <td>1681.889327</td>\n",
       "      <td>-182.042493</td>\n",
       "      <td>0.238777</td>\n",
       "    </tr>\n",
       "    <tr>\n",
       "      <th>DRX</th>\n",
       "      <td>44.0</td>\n",
       "      <td>12.0</td>\n",
       "      <td>32.0</td>\n",
       "      <td>0.272727</td>\n",
       "      <td>0.579734</td>\n",
       "      <td>0.703692</td>\n",
       "      <td>31.122348</td>\n",
       "      <td>33.691667</td>\n",
       "      <td>30.158854</td>\n",
       "      <td>1670.051516</td>\n",
       "      <td>-210.690261</td>\n",
       "      <td>0.250340</td>\n",
       "    </tr>\n",
       "    <tr>\n",
       "      <th>Dplus KIA</th>\n",
       "      <td>40.0</td>\n",
       "      <td>26.0</td>\n",
       "      <td>14.0</td>\n",
       "      <td>0.650000</td>\n",
       "      <td>1.609272</td>\n",
       "      <td>0.626404</td>\n",
       "      <td>31.742083</td>\n",
       "      <td>31.475641</td>\n",
       "      <td>32.236905</td>\n",
       "      <td>1828.281426</td>\n",
       "      <td>134.408577</td>\n",
       "      <td>0.389279</td>\n",
       "    </tr>\n",
       "    <tr>\n",
       "      <th>Gen.G</th>\n",
       "      <td>43.0</td>\n",
       "      <td>30.0</td>\n",
       "      <td>13.0</td>\n",
       "      <td>0.697674</td>\n",
       "      <td>1.461165</td>\n",
       "      <td>0.718349</td>\n",
       "      <td>32.885659</td>\n",
       "      <td>31.058333</td>\n",
       "      <td>37.102564</td>\n",
       "      <td>1903.036537</td>\n",
       "      <td>215.913066</td>\n",
       "      <td>0.437646</td>\n",
       "    </tr>\n",
       "    <tr>\n",
       "      <th>Hanwha Life Esports</th>\n",
       "      <td>45.0</td>\n",
       "      <td>24.0</td>\n",
       "      <td>21.0</td>\n",
       "      <td>0.533333</td>\n",
       "      <td>0.953291</td>\n",
       "      <td>0.613193</td>\n",
       "      <td>33.695556</td>\n",
       "      <td>32.777778</td>\n",
       "      <td>34.744444</td>\n",
       "      <td>1795.842084</td>\n",
       "      <td>29.085460</td>\n",
       "      <td>0.307844</td>\n",
       "    </tr>\n",
       "    <tr>\n",
       "      <th>KT Rolster</th>\n",
       "      <td>43.0</td>\n",
       "      <td>28.0</td>\n",
       "      <td>15.0</td>\n",
       "      <td>0.651163</td>\n",
       "      <td>1.504532</td>\n",
       "      <td>0.622379</td>\n",
       "      <td>31.317442</td>\n",
       "      <td>31.762500</td>\n",
       "      <td>30.486667</td>\n",
       "      <td>1836.387996</td>\n",
       "      <td>120.098320</td>\n",
       "      <td>0.371694</td>\n",
       "    </tr>\n",
       "    <tr>\n",
       "      <th>Kwangdong Freecs</th>\n",
       "      <td>45.0</td>\n",
       "      <td>17.0</td>\n",
       "      <td>28.0</td>\n",
       "      <td>0.377778</td>\n",
       "      <td>0.750000</td>\n",
       "      <td>0.647925</td>\n",
       "      <td>33.475185</td>\n",
       "      <td>34.244118</td>\n",
       "      <td>33.008333</td>\n",
       "      <td>1758.233907</td>\n",
       "      <td>-73.621209</td>\n",
       "      <td>0.277649</td>\n",
       "    </tr>\n",
       "    <tr>\n",
       "      <th>Liiv SANDBOX</th>\n",
       "      <td>47.0</td>\n",
       "      <td>24.0</td>\n",
       "      <td>23.0</td>\n",
       "      <td>0.510638</td>\n",
       "      <td>0.957447</td>\n",
       "      <td>0.657991</td>\n",
       "      <td>32.924113</td>\n",
       "      <td>32.713889</td>\n",
       "      <td>33.143478</td>\n",
       "      <td>1759.536043</td>\n",
       "      <td>-40.842285</td>\n",
       "      <td>0.321019</td>\n",
       "    </tr>\n",
       "    <tr>\n",
       "      <th>Nongshim RedForce</th>\n",
       "      <td>42.0</td>\n",
       "      <td>9.0</td>\n",
       "      <td>33.0</td>\n",
       "      <td>0.214286</td>\n",
       "      <td>0.687850</td>\n",
       "      <td>0.713640</td>\n",
       "      <td>30.966667</td>\n",
       "      <td>33.922222</td>\n",
       "      <td>30.160606</td>\n",
       "      <td>1662.989486</td>\n",
       "      <td>-245.882399</td>\n",
       "      <td>0.277305</td>\n",
       "    </tr>\n",
       "    <tr>\n",
       "      <th>T1</th>\n",
       "      <td>43.0</td>\n",
       "      <td>35.0</td>\n",
       "      <td>8.0</td>\n",
       "      <td>0.813953</td>\n",
       "      <td>1.554156</td>\n",
       "      <td>0.790467</td>\n",
       "      <td>30.181008</td>\n",
       "      <td>29.455238</td>\n",
       "      <td>33.356250</td>\n",
       "      <td>1937.739571</td>\n",
       "      <td>272.236406</td>\n",
       "      <td>0.493465</td>\n",
       "    </tr>\n",
       "  </tbody>\n",
       "</table>\n",
       "</div>"
      ],
      "text/plain": [
       "                     Games   Win  Loss   WinRate        KD      CKPM   \n",
       "Team                                                                   \n",
       "BRION                 44.0  13.0  31.0  0.295455  0.695402  0.615470  \\\n",
       "DRX                   44.0  12.0  32.0  0.272727  0.579734  0.703692   \n",
       "Dplus KIA             40.0  26.0  14.0  0.650000  1.609272  0.626404   \n",
       "Gen.G                 43.0  30.0  13.0  0.697674  1.461165  0.718349   \n",
       "Hanwha Life Esports   45.0  24.0  21.0  0.533333  0.953291  0.613193   \n",
       "KT Rolster            43.0  28.0  15.0  0.651163  1.504532  0.622379   \n",
       "Kwangdong Freecs      45.0  17.0  28.0  0.377778  0.750000  0.647925   \n",
       "Liiv SANDBOX          47.0  24.0  23.0  0.510638  0.957447  0.657991   \n",
       "Nongshim RedForce     42.0   9.0  33.0  0.214286  0.687850  0.713640   \n",
       "T1                    43.0  35.0   8.0  0.813953  1.554156  0.790467   \n",
       "\n",
       "                     GameDuration  WinGameDuration  LossGameDuration   \n",
       "Team                                                                   \n",
       "BRION                   33.289394        37.120513         31.682796  \\\n",
       "DRX                     31.122348        33.691667         30.158854   \n",
       "Dplus KIA               31.742083        31.475641         32.236905   \n",
       "Gen.G                   32.885659        31.058333         37.102564   \n",
       "Hanwha Life Esports     33.695556        32.777778         34.744444   \n",
       "KT Rolster              31.317442        31.762500         30.486667   \n",
       "Kwangdong Freecs        33.475185        34.244118         33.008333   \n",
       "Liiv SANDBOX            32.924113        32.713889         33.143478   \n",
       "Nongshim RedForce       30.966667        33.922222         30.160606   \n",
       "T1                      30.181008        29.455238         33.356250   \n",
       "\n",
       "                             GPM        GDPM       KPM  \n",
       "Team                                                    \n",
       "BRION                1681.889327 -182.042493  0.238777  \n",
       "DRX                  1670.051516 -210.690261  0.250340  \n",
       "Dplus KIA            1828.281426  134.408577  0.389279  \n",
       "Gen.G                1903.036537  215.913066  0.437646  \n",
       "Hanwha Life Esports  1795.842084   29.085460  0.307844  \n",
       "KT Rolster           1836.387996  120.098320  0.371694  \n",
       "Kwangdong Freecs     1758.233907  -73.621209  0.277649  \n",
       "Liiv SANDBOX         1759.536043  -40.842285  0.321019  \n",
       "Nongshim RedForce    1662.989486 -245.882399  0.277305  \n",
       "T1                   1937.739571  272.236406  0.493465  "
      ]
     },
     "execution_count": 2,
     "metadata": {},
     "output_type": "execute_result"
    }
   ],
   "source": [
    "teams_stats = pd.read_csv(\"./csv/stats/teams.csv\", index_col=\"Team\")\n",
    "teams_stats"
   ]
  },
  {
   "cell_type": "code",
   "execution_count": 3,
   "metadata": {},
   "outputs": [
    {
     "data": {
      "text/html": [
       "<div>\n",
       "<style scoped>\n",
       "    .dataframe tbody tr th:only-of-type {\n",
       "        vertical-align: middle;\n",
       "    }\n",
       "\n",
       "    .dataframe tbody tr th {\n",
       "        vertical-align: top;\n",
       "    }\n",
       "\n",
       "    .dataframe thead th {\n",
       "        text-align: right;\n",
       "    }\n",
       "</style>\n",
       "<table border=\"1\" class=\"dataframe\">\n",
       "  <thead>\n",
       "    <tr style=\"text-align: right;\">\n",
       "      <th></th>\n",
       "      <th>Games</th>\n",
       "      <th>Win</th>\n",
       "      <th>Loss</th>\n",
       "      <th>WinRate</th>\n",
       "      <th>KD</th>\n",
       "      <th>CKPM</th>\n",
       "      <th>GameDuration</th>\n",
       "      <th>WinGameDuration</th>\n",
       "      <th>LossGameDuration</th>\n",
       "      <th>GPM</th>\n",
       "      <th>GDPM</th>\n",
       "      <th>KPM</th>\n",
       "      <th>_KD</th>\n",
       "      <th>_CKPM</th>\n",
       "      <th>_GPM</th>\n",
       "      <th>_GDPM</th>\n",
       "      <th>_KPM</th>\n",
       "    </tr>\n",
       "    <tr>\n",
       "      <th>Team</th>\n",
       "      <th></th>\n",
       "      <th></th>\n",
       "      <th></th>\n",
       "      <th></th>\n",
       "      <th></th>\n",
       "      <th></th>\n",
       "      <th></th>\n",
       "      <th></th>\n",
       "      <th></th>\n",
       "      <th></th>\n",
       "      <th></th>\n",
       "      <th></th>\n",
       "      <th></th>\n",
       "      <th></th>\n",
       "      <th></th>\n",
       "      <th></th>\n",
       "      <th></th>\n",
       "    </tr>\n",
       "  </thead>\n",
       "  <tbody>\n",
       "    <tr>\n",
       "      <th>BRION</th>\n",
       "      <td>44.0</td>\n",
       "      <td>13.0</td>\n",
       "      <td>31.0</td>\n",
       "      <td>0.295455</td>\n",
       "      <td>0.695402</td>\n",
       "      <td>0.615470</td>\n",
       "      <td>33.289394</td>\n",
       "      <td>37.120513</td>\n",
       "      <td>31.682796</td>\n",
       "      <td>1681.889327</td>\n",
       "      <td>-182.042493</td>\n",
       "      <td>0.238777</td>\n",
       "      <td>-0.973680</td>\n",
       "      <td>-0.998385</td>\n",
       "      <td>-1.121229</td>\n",
       "      <td>-1.063381</td>\n",
       "      <td>-1.222566</td>\n",
       "    </tr>\n",
       "    <tr>\n",
       "      <th>DRX</th>\n",
       "      <td>44.0</td>\n",
       "      <td>12.0</td>\n",
       "      <td>32.0</td>\n",
       "      <td>0.272727</td>\n",
       "      <td>0.579734</td>\n",
       "      <td>0.703692</td>\n",
       "      <td>31.122348</td>\n",
       "      <td>33.691667</td>\n",
       "      <td>30.158854</td>\n",
       "      <td>1670.051516</td>\n",
       "      <td>-210.690261</td>\n",
       "      <td>0.250340</td>\n",
       "      <td>-1.270150</td>\n",
       "      <td>0.589176</td>\n",
       "      <td>-1.251984</td>\n",
       "      <td>-1.229025</td>\n",
       "      <td>-1.077910</td>\n",
       "    </tr>\n",
       "    <tr>\n",
       "      <th>Dplus KIA</th>\n",
       "      <td>40.0</td>\n",
       "      <td>26.0</td>\n",
       "      <td>14.0</td>\n",
       "      <td>0.650000</td>\n",
       "      <td>1.609272</td>\n",
       "      <td>0.626404</td>\n",
       "      <td>31.742083</td>\n",
       "      <td>31.475641</td>\n",
       "      <td>32.236905</td>\n",
       "      <td>1828.281426</td>\n",
       "      <td>134.408577</td>\n",
       "      <td>0.389279</td>\n",
       "      <td>1.368665</td>\n",
       "      <td>-0.801625</td>\n",
       "      <td>0.495754</td>\n",
       "      <td>0.766374</td>\n",
       "      <td>0.660263</td>\n",
       "    </tr>\n",
       "    <tr>\n",
       "      <th>Gen.G</th>\n",
       "      <td>43.0</td>\n",
       "      <td>30.0</td>\n",
       "      <td>13.0</td>\n",
       "      <td>0.697674</td>\n",
       "      <td>1.461165</td>\n",
       "      <td>0.718349</td>\n",
       "      <td>32.885659</td>\n",
       "      <td>31.058333</td>\n",
       "      <td>37.102564</td>\n",
       "      <td>1903.036537</td>\n",
       "      <td>215.913066</td>\n",
       "      <td>0.437646</td>\n",
       "      <td>0.989052</td>\n",
       "      <td>0.852930</td>\n",
       "      <td>1.321466</td>\n",
       "      <td>1.237641</td>\n",
       "      <td>1.265343</td>\n",
       "    </tr>\n",
       "    <tr>\n",
       "      <th>Hanwha Life Esports</th>\n",
       "      <td>45.0</td>\n",
       "      <td>24.0</td>\n",
       "      <td>21.0</td>\n",
       "      <td>0.533333</td>\n",
       "      <td>0.953291</td>\n",
       "      <td>0.613193</td>\n",
       "      <td>33.695556</td>\n",
       "      <td>32.777778</td>\n",
       "      <td>34.744444</td>\n",
       "      <td>1795.842084</td>\n",
       "      <td>29.085460</td>\n",
       "      <td>0.307844</td>\n",
       "      <td>-0.312684</td>\n",
       "      <td>-1.039358</td>\n",
       "      <td>0.137443</td>\n",
       "      <td>0.157384</td>\n",
       "      <td>-0.358517</td>\n",
       "    </tr>\n",
       "    <tr>\n",
       "      <th>KT Rolster</th>\n",
       "      <td>43.0</td>\n",
       "      <td>28.0</td>\n",
       "      <td>15.0</td>\n",
       "      <td>0.651163</td>\n",
       "      <td>1.504532</td>\n",
       "      <td>0.622379</td>\n",
       "      <td>31.317442</td>\n",
       "      <td>31.762500</td>\n",
       "      <td>30.486667</td>\n",
       "      <td>1836.387996</td>\n",
       "      <td>120.098320</td>\n",
       "      <td>0.371694</td>\n",
       "      <td>1.100206</td>\n",
       "      <td>-0.874065</td>\n",
       "      <td>0.585295</td>\n",
       "      <td>0.683630</td>\n",
       "      <td>0.440263</td>\n",
       "    </tr>\n",
       "    <tr>\n",
       "      <th>Kwangdong Freecs</th>\n",
       "      <td>45.0</td>\n",
       "      <td>17.0</td>\n",
       "      <td>28.0</td>\n",
       "      <td>0.377778</td>\n",
       "      <td>0.750000</td>\n",
       "      <td>0.647925</td>\n",
       "      <td>33.475185</td>\n",
       "      <td>34.244118</td>\n",
       "      <td>33.008333</td>\n",
       "      <td>1758.233907</td>\n",
       "      <td>-73.621209</td>\n",
       "      <td>0.277649</td>\n",
       "      <td>-0.833740</td>\n",
       "      <td>-0.414355</td>\n",
       "      <td>-0.277960</td>\n",
       "      <td>-0.436477</td>\n",
       "      <td>-0.736269</td>\n",
       "    </tr>\n",
       "    <tr>\n",
       "      <th>Liiv SANDBOX</th>\n",
       "      <td>47.0</td>\n",
       "      <td>24.0</td>\n",
       "      <td>23.0</td>\n",
       "      <td>0.510638</td>\n",
       "      <td>0.957447</td>\n",
       "      <td>0.657991</td>\n",
       "      <td>32.924113</td>\n",
       "      <td>32.713889</td>\n",
       "      <td>33.143478</td>\n",
       "      <td>1759.536043</td>\n",
       "      <td>-40.842285</td>\n",
       "      <td>0.321019</td>\n",
       "      <td>-0.302032</td>\n",
       "      <td>-0.233223</td>\n",
       "      <td>-0.263577</td>\n",
       "      <td>-0.246946</td>\n",
       "      <td>-0.193696</td>\n",
       "    </tr>\n",
       "    <tr>\n",
       "      <th>Nongshim RedForce</th>\n",
       "      <td>42.0</td>\n",
       "      <td>9.0</td>\n",
       "      <td>33.0</td>\n",
       "      <td>0.214286</td>\n",
       "      <td>0.687850</td>\n",
       "      <td>0.713640</td>\n",
       "      <td>30.966667</td>\n",
       "      <td>33.922222</td>\n",
       "      <td>30.160606</td>\n",
       "      <td>1662.989486</td>\n",
       "      <td>-245.882399</td>\n",
       "      <td>0.277305</td>\n",
       "      <td>-0.993036</td>\n",
       "      <td>0.768198</td>\n",
       "      <td>-1.329988</td>\n",
       "      <td>-1.432510</td>\n",
       "      <td>-0.740575</td>\n",
       "    </tr>\n",
       "    <tr>\n",
       "      <th>T1</th>\n",
       "      <td>43.0</td>\n",
       "      <td>35.0</td>\n",
       "      <td>8.0</td>\n",
       "      <td>0.813953</td>\n",
       "      <td>1.554156</td>\n",
       "      <td>0.790467</td>\n",
       "      <td>30.181008</td>\n",
       "      <td>29.455238</td>\n",
       "      <td>33.356250</td>\n",
       "      <td>1937.739571</td>\n",
       "      <td>272.236406</td>\n",
       "      <td>0.493465</td>\n",
       "      <td>1.227399</td>\n",
       "      <td>2.150707</td>\n",
       "      <td>1.704780</td>\n",
       "      <td>1.563309</td>\n",
       "      <td>1.963664</td>\n",
       "    </tr>\n",
       "  </tbody>\n",
       "</table>\n",
       "</div>"
      ],
      "text/plain": [
       "                     Games   Win  Loss   WinRate        KD      CKPM   \n",
       "Team                                                                   \n",
       "BRION                 44.0  13.0  31.0  0.295455  0.695402  0.615470  \\\n",
       "DRX                   44.0  12.0  32.0  0.272727  0.579734  0.703692   \n",
       "Dplus KIA             40.0  26.0  14.0  0.650000  1.609272  0.626404   \n",
       "Gen.G                 43.0  30.0  13.0  0.697674  1.461165  0.718349   \n",
       "Hanwha Life Esports   45.0  24.0  21.0  0.533333  0.953291  0.613193   \n",
       "KT Rolster            43.0  28.0  15.0  0.651163  1.504532  0.622379   \n",
       "Kwangdong Freecs      45.0  17.0  28.0  0.377778  0.750000  0.647925   \n",
       "Liiv SANDBOX          47.0  24.0  23.0  0.510638  0.957447  0.657991   \n",
       "Nongshim RedForce     42.0   9.0  33.0  0.214286  0.687850  0.713640   \n",
       "T1                    43.0  35.0   8.0  0.813953  1.554156  0.790467   \n",
       "\n",
       "                     GameDuration  WinGameDuration  LossGameDuration   \n",
       "Team                                                                   \n",
       "BRION                   33.289394        37.120513         31.682796  \\\n",
       "DRX                     31.122348        33.691667         30.158854   \n",
       "Dplus KIA               31.742083        31.475641         32.236905   \n",
       "Gen.G                   32.885659        31.058333         37.102564   \n",
       "Hanwha Life Esports     33.695556        32.777778         34.744444   \n",
       "KT Rolster              31.317442        31.762500         30.486667   \n",
       "Kwangdong Freecs        33.475185        34.244118         33.008333   \n",
       "Liiv SANDBOX            32.924113        32.713889         33.143478   \n",
       "Nongshim RedForce       30.966667        33.922222         30.160606   \n",
       "T1                      30.181008        29.455238         33.356250   \n",
       "\n",
       "                             GPM        GDPM       KPM       _KD     _CKPM   \n",
       "Team                                                                         \n",
       "BRION                1681.889327 -182.042493  0.238777 -0.973680 -0.998385  \\\n",
       "DRX                  1670.051516 -210.690261  0.250340 -1.270150  0.589176   \n",
       "Dplus KIA            1828.281426  134.408577  0.389279  1.368665 -0.801625   \n",
       "Gen.G                1903.036537  215.913066  0.437646  0.989052  0.852930   \n",
       "Hanwha Life Esports  1795.842084   29.085460  0.307844 -0.312684 -1.039358   \n",
       "KT Rolster           1836.387996  120.098320  0.371694  1.100206 -0.874065   \n",
       "Kwangdong Freecs     1758.233907  -73.621209  0.277649 -0.833740 -0.414355   \n",
       "Liiv SANDBOX         1759.536043  -40.842285  0.321019 -0.302032 -0.233223   \n",
       "Nongshim RedForce    1662.989486 -245.882399  0.277305 -0.993036  0.768198   \n",
       "T1                   1937.739571  272.236406  0.493465  1.227399  2.150707   \n",
       "\n",
       "                         _GPM     _GDPM      _KPM  \n",
       "Team                                               \n",
       "BRION               -1.121229 -1.063381 -1.222566  \n",
       "DRX                 -1.251984 -1.229025 -1.077910  \n",
       "Dplus KIA            0.495754  0.766374  0.660263  \n",
       "Gen.G                1.321466  1.237641  1.265343  \n",
       "Hanwha Life Esports  0.137443  0.157384 -0.358517  \n",
       "KT Rolster           0.585295  0.683630  0.440263  \n",
       "Kwangdong Freecs    -0.277960 -0.436477 -0.736269  \n",
       "Liiv SANDBOX        -0.263577 -0.246946 -0.193696  \n",
       "Nongshim RedForce   -1.329988 -1.432510 -0.740575  \n",
       "T1                   1.704780  1.563309  1.963664  "
      ]
     },
     "execution_count": 3,
     "metadata": {},
     "output_type": "execute_result"
    }
   ],
   "source": [
    "scaler = StandardScaler()\n",
    "columns = [\"_KD\", \"_CKPM\", \"_GPM\", \"_GDPM\", \"_KPM\"]\n",
    "teams_stats[columns] = scaler.fit_transform(\n",
    "    teams_stats[[\"KD\", \"CKPM\", \"GPM\", \"GDPM\", \"KPM\"]]\n",
    ")\n",
    "teams_stats"
   ]
  },
  {
   "cell_type": "code",
   "execution_count": 4,
   "metadata": {},
   "outputs": [
    {
     "name": "stderr",
     "output_type": "stream",
     "text": [
      "C:\\Users\\pjm58\\AppData\\Local\\Temp\\ipykernel_94744\\580848112.py:6: RuntimeWarning: divide by zero encountered in divide\n",
      "  x = 100 / y\n"
     ]
    },
    {
     "data": {
      "image/png": "[encoded data removed]",
      "text/plain": [
       "<Figure size 1500x1500 with 1 Axes>"
      ]
     },
     "metadata": {},
     "output_type": "display_data"
    }
   ],
   "source": [
    "fig, ax = plt.subplots(1, 1, figsize=(15, 15))\n",
    "ax.set_xlim(teams_stats[\"GDPM\"].min() - 25, teams_stats[\"GDPM\"].max() + 25)\n",
    "ax.set_ylim(teams_stats[\"KPM\"].min() - 0.01, teams_stats[\"KPM\"].max() + 0.01)\n",
    "ax = sns.regplot(data=teams_stats, x=\"GDPM\", y=\"KPM\")\n",
    "y = np.linspace(0, 1.2)\n",
    "x = 100 / y\n",
    "sns.lineplot(x=x, y=y)\n",
    "for idx, i in zip(teams_stats.index, range(teams_stats.shape[0])):\n",
    "    row = teams_stats.iloc[i]\n",
    "    plt.annotate(\n",
    "        idx, xy=(row[\"GDPM\"], row[\"KPM\"]), xytext=(5, 5), textcoords=\"offset pixels\"\n",
    "    )"
   ]
  },
  {
   "cell_type": "code",
   "execution_count": 5,
   "metadata": {},
   "outputs": [
    {
     "data": {
      "image/png": "[encoded data removed]",
      "text/plain": [
       "<Figure size 1500x1500 with 1 Axes>"
      ]
     },
     "metadata": {},
     "output_type": "display_data"
    }
   ],
   "source": [
    "fig, ax = plt.subplots(1, 1, figsize=(15, 15))\n",
    "ax.set_xlim(teams_stats[\"GDPM\"].min() - 25, teams_stats[\"GDPM\"].max() + 25)\n",
    "ax.set_ylim(teams_stats[\"CKPM\"].min() - 0.01, teams_stats[\"CKPM\"].max() + 0.01)\n",
    "ax = sns.regplot(data=teams_stats, x=\"GDPM\", y=\"CKPM\")\n",
    "for idx, i in zip(teams_stats.index, range(teams_stats.shape[0])):\n",
    "    row = teams_stats.iloc[i]\n",
    "    plt.annotate(\n",
    "        idx, xy=(row[\"GDPM\"], row[\"CKPM\"]), xytext=(5, 5), textcoords=\"offset pixels\"\n",
    "    )"
   ]
  },
  {
   "cell_type": "code",
   "execution_count": 6,
   "metadata": {},
   "outputs": [
    {
     "data": {
      "text/plain": [
       "(-1.4325098494775834, 2.1507071538700155)"
      ]
     },
     "execution_count": 6,
     "metadata": {},
     "output_type": "execute_result"
    }
   ],
   "source": [
    "min_value = teams_stats[columns].unstack().min()\n",
    "max_value = teams_stats[columns].unstack().max()\n",
    "min_value, max_value"
   ]
  },
  {
   "cell_type": "code",
   "execution_count": 7,
   "metadata": {},
   "outputs": [],
   "source": [
    "def get_rc(i, cols):\n",
    "    r = i // cols + 1\n",
    "    c = i % cols + 1\n",
    "\n",
    "    return (r, c)"
   ]
  },
  {
   "cell_type": "code",
   "execution_count": 8,
   "metadata": {},
   "outputs": [
    {
     "data": {
      "text/plain": [
       "array(['BRION', 'DRX', 'Dplus KIA', 'Gen.G', 'Hanwha Life Esports',\n",
       "       'KT Rolster', 'Kwangdong Freecs', 'Liiv SANDBOX',\n",
       "       'Nongshim RedForce', 'T1'], dtype=object)"
      ]
     },
     "execution_count": 8,
     "metadata": {},
     "output_type": "execute_result"
    }
   ],
   "source": [
    "teams_stats.index.values"
   ]
  },
  {
   "cell_type": "code",
   "execution_count": 9,
   "metadata": {},
   "outputs": [
    {
     "data": {
      "application/vnd.plotly.v1+json": {
       "config": {
        "plotlyServerURL": "https://plot.ly"
       },
       "data": [
        {
         "fill": "toself",
         "name": "BRION",
         "r": [
          -0.9736800244963999,
          -0.9983846692893997,
          -1.1212286695040425,
          -1.0633806142132358,
          -1.2225658310295817
         ],
         "subplot": "polar",
         "theta": [
          "_KD",
          "_CKPM",
          "_GPM",
          "_GDPM",
          "_KPM"
         ],
         "type": "scatterpolar"
        },
        {
         "fill": "toself",
         "name": "DRX",
         "r": [
          -1.270149761149722,
          0.5891757885529353,
          -1.2519838995184047,
          -1.2290251054582275,
          -1.0779099547601885
         ],
         "subplot": "polar2",
         "theta": [
          "_KD",
          "_CKPM",
          "_GPM",
          "_GDPM",
          "_KPM"
         ],
         "type": "scatterpolar"
        },
        {
         "fill": "toself",
         "name": "Dplus KIA",
         "r": [
          1.368665151912724,
          -0.801625342385461,
          0.49575377150782607,
          0.7663736602947301,
          0.6602632640105512
         ],
         "subplot": "polar3",
         "theta": [
          "_KD",
          "_CKPM",
          "_GPM",
          "_GDPM",
          "_KPM"
         ],
         "type": "scatterpolar"
        },
        {
         "fill": "toself",
         "name": "Gen.G",
         "r": [
          0.9890523175801726,
          0.8529296973624357,
          1.3214656939426843,
          1.2376414203488229,
          1.265343002326816
         ],
         "subplot": "polar4",
         "theta": [
          "_KD",
          "_CKPM",
          "_GPM",
          "_GDPM",
          "_KPM"
         ],
         "type": "scatterpolar"
        },
        {
         "fill": "toself",
         "name": "Hanwha Life Esports",
         "r": [
          -0.3126838603343411,
          -1.0393580567874283,
          0.13744314059610235,
          0.1573840187591685,
          -0.3585171900349775
         ],
         "subplot": "polar5",
         "theta": [
          "_KD",
          "_CKPM",
          "_GPM",
          "_GDPM",
          "_KPM"
         ],
         "type": "scatterpolar"
        },
        {
         "fill": "toself",
         "name": "KT Rolster",
         "r": [
          1.1002057690921727,
          -0.8740653319978097,
          0.5852953597963755,
          0.6836302082390433,
          0.4402634191729159
         ],
         "subplot": "polar6",
         "theta": [
          "_KD",
          "_CKPM",
          "_GPM",
          "_GDPM",
          "_KPM"
         ],
         "type": "scatterpolar"
        },
        {
         "fill": "toself",
         "name": "Kwangdong Freecs",
         "r": [
          -0.8337402404158164,
          -0.4143548174427626,
          -0.2779601688886313,
          -0.4364770391571801,
          -0.7362692030458701
         ],
         "subplot": "polar7",
         "theta": [
          "_KD",
          "_CKPM",
          "_GPM",
          "_GDPM",
          "_KPM"
         ],
         "type": "scatterpolar"
        },
        {
         "fill": "toself",
         "name": "Liiv SANDBOX",
         "r": [
          -0.3020317439035884,
          -0.23322255548559587,
          -0.26357734964876756,
          -0.2469457582972706,
          -0.19369630652894984
         ],
         "subplot": "polar8",
         "theta": [
          "_KD",
          "_CKPM",
          "_GPM",
          "_GDPM",
          "_KPM"
         ],
         "type": "scatterpolar"
        },
        {
         "fill": "toself",
         "name": "Nongshim RedForce",
         "r": [
          -0.9930361815467982,
          0.7681981336030709,
          -1.329987952289564,
          -1.4325098494775834,
          -0.7405747272686474
         ],
         "subplot": "polar9",
         "theta": [
          "_KD",
          "_CKPM",
          "_GPM",
          "_GDPM",
          "_KPM"
         ],
         "type": "scatterpolar"
        },
        {
         "fill": "toself",
         "name": "T1",
         "r": [
          1.227398573261598,
          2.1507071538700155,
          1.7047800740064067,
          1.5633090589617322,
          1.9636635271579341
         ],
         "subplot": "polar10",
         "theta": [
          "_KD",
          "_CKPM",
          "_GPM",
          "_GDPM",
          "_KPM"
         ],
         "type": "scatterpolar"
        }
       ],
       "layout": {
        "annotations": [
         {
          "font": {
           "size": 16
          },
          "showarrow": false,
          "text": "BRION",
          "x": 0.08399999999999999,
          "xanchor": "center",
          "xref": "paper",
          "y": 1,
          "yanchor": "bottom",
          "yref": "paper",
          "yshift": 20
         },
         {
          "font": {
           "size": 16
          },
          "showarrow": false,
          "text": "DRX",
          "x": 0.292,
          "xanchor": "center",
          "xref": "paper",
          "y": 1,
          "yanchor": "bottom",
          "yref": "paper",
          "yshift": 20
         },
         {
          "font": {
           "size": 16
          },
          "showarrow": false,
          "text": "Dplus KIA",
          "x": 0.5,
          "xanchor": "center",
          "xref": "paper",
          "y": 1,
          "yanchor": "bottom",
          "yref": "paper",
          "yshift": 20
         },
         {
          "font": {
           "size": 16
          },
          "showarrow": false,
          "text": "Gen.G",
          "x": 0.708,
          "xanchor": "center",
          "xref": "paper",
          "y": 1,
          "yanchor": "bottom",
          "yref": "paper",
          "yshift": 20
         },
         {
          "font": {
           "size": 16
          },
          "showarrow": false,
          "text": "Hanwha Life Esports",
          "x": 0.9159999999999999,
          "xanchor": "center",
          "xref": "paper",
          "y": 1,
          "yanchor": "bottom",
          "yref": "paper",
          "yshift": 20
         },
         {
          "font": {
           "size": 16
          },
          "showarrow": false,
          "text": "KT Rolster",
          "x": 0.08399999999999999,
          "xanchor": "center",
          "xref": "paper",
          "y": 0.375,
          "yanchor": "bottom",
          "yref": "paper",
          "yshift": 20
         },
         {
          "font": {
           "size": 16
          },
          "showarrow": false,
          "text": "Kwangdong Freecs",
          "x": 0.292,
          "xanchor": "center",
          "xref": "paper",
          "y": 0.375,
          "yanchor": "bottom",
          "yref": "paper",
          "yshift": 20
         },
         {
          "font": {
           "size": 16
          },
          "showarrow": false,
          "text": "Liiv SANDBOX",
          "x": 0.5,
          "xanchor": "center",
          "xref": "paper",
          "y": 0.375,
          "yanchor": "bottom",
          "yref": "paper",
          "yshift": 20
         },
         {
          "font": {
           "size": 16
          },
          "showarrow": false,
          "text": "Nongshim RedForce",
          "x": 0.708,
          "xanchor": "center",
          "xref": "paper",
          "y": 0.375,
          "yanchor": "bottom",
          "yref": "paper",
          "yshift": 20
         },
         {
          "font": {
           "size": 16
          },
          "showarrow": false,
          "text": "T1",
          "x": 0.9159999999999999,
          "xanchor": "center",
          "xref": "paper",
          "y": 0.375,
          "yanchor": "bottom",
          "yref": "paper",
          "yshift": 20
         }
        ],
        "height": 800,
        "polar": {
         "domain": {
          "x": [
           0,
           0.16799999999999998
          ],
          "y": [
           0.625,
           1
          ]
         },
         "radialaxis": {
          "range": [
           -1.6325098494775834,
           2.3507071538700157
          ],
          "visible": true
         }
        },
        "polar10": {
         "domain": {
          "x": [
           0.832,
           1
          ],
          "y": [
           0,
           0.375
          ]
         },
         "radialaxis": {
          "range": [
           -1.6325098494775834,
           2.3507071538700157
          ]
         }
        },
        "polar2": {
         "domain": {
          "x": [
           0.208,
           0.376
          ],
          "y": [
           0.625,
           1
          ]
         },
         "radialaxis": {
          "range": [
           -1.6325098494775834,
           2.3507071538700157
          ]
         }
        },
        "polar3": {
         "domain": {
          "x": [
           0.416,
           0.584
          ],
          "y": [
           0.625,
           1
          ]
         },
         "radialaxis": {
          "range": [
           -1.6325098494775834,
           2.3507071538700157
          ]
         }
        },
        "polar4": {
         "domain": {
          "x": [
           0.624,
           0.792
          ],
          "y": [
           0.625,
           1
          ]
         },
         "radialaxis": {
          "range": [
           -1.6325098494775834,
           2.3507071538700157
          ]
         }
        },
        "polar5": {
         "domain": {
          "x": [
           0.832,
           1
          ],
          "y": [
           0.625,
           1
          ]
         },
         "radialaxis": {
          "range": [
           -1.6325098494775834,
           2.3507071538700157
          ]
         }
        },
        "polar6": {
         "domain": {
          "x": [
           0,
           0.16799999999999998
          ],
          "y": [
           0,
           0.375
          ]
         },
         "radialaxis": {
          "range": [
           -1.6325098494775834,
           2.3507071538700157
          ]
         }
        },
        "polar7": {
         "domain": {
          "x": [
           0.208,
           0.376
          ],
          "y": [
           0,
           0.375
          ]
         },
         "radialaxis": {
          "range": [
           -1.6325098494775834,
           2.3507071538700157
          ]
         }
        },
        "polar8": {
         "domain": {
          "x": [
           0.416,
           0.584
          ],
          "y": [
           0,
           0.375
          ]
         },
         "radialaxis": {
          "range": [
           -1.6325098494775834,
           2.3507071538700157
          ]
         }
        },
        "polar9": {
         "domain": {
          "x": [
           0.624,
           0.792
          ],
          "y": [
           0,
           0.375
          ]
         },
         "radialaxis": {
          "range": [
           -1.6325098494775834,
           2.3507071538700157
          ]
         }
        },
        "showlegend": false,
        "template": {
         "data": {
          "bar": [
           {
            "error_x": {
             "color": "#2a3f5f"
            },
            "error_y": {
             "color": "#2a3f5f"
            },
            "marker": {
             "line": {
              "color": "#E5ECF6",
              "width": 0.5
             },
             "pattern": {
              "fillmode": "overlay",
              "size": 10,
              "solidity": 0.2
             }
            },
            "type": "bar"
           }
          ],
          "barpolar": [
           {
            "marker": {
             "line": {
              "color": "#E5ECF6",
              "width": 0.5
             },
             "pattern": {
              "fillmode": "overlay",
              "size": 10,
              "solidity": 0.2
             }
            },
            "type": "barpolar"
           }
          ],
          "carpet": [
           {
            "aaxis": {
             "endlinecolor": "#2a3f5f",
             "gridcolor": "white",
             "linecolor": "white",
             "minorgridcolor": "white",
             "startlinecolor": "#2a3f5f"
            },
            "baxis": {
             "endlinecolor": "#2a3f5f",
             "gridcolor": "white",
             "linecolor": "white",
             "minorgridcolor": "white",
             "startlinecolor": "#2a3f5f"
            },
            "type": "carpet"
           }
          ],
          "choropleth": [
           {
            "colorbar": {
             "outlinewidth": 0,
             "ticks": ""
            },
            "type": "choropleth"
           }
          ],
          "contour": [
           {
            "colorbar": {
             "outlinewidth": 0,
             "ticks": ""
            },
            "colorscale": [
             [
              0,
              "#0d0887"
             ],
             [
              0.1111111111111111,
              "#46039f"
             ],
             [
              0.2222222222222222,
              "#7201a8"
             ],
             [
              0.3333333333333333,
              "#9c179e"
             ],
             [
              0.4444444444444444,
              "#bd3786"
             ],
             [
              0.5555555555555556,
              "#d8576b"
             ],
             [
              0.6666666666666666,
              "#ed7953"
             ],
             [
              0.7777777777777778,
              "#fb9f3a"
             ],
             [
              0.8888888888888888,
              "#fdca26"
             ],
             [
              1,
              "#f0f921"
             ]
            ],
            "type": "contour"
           }
          ],
          "contourcarpet": [
           {
            "colorbar": {
             "outlinewidth": 0,
             "ticks": ""
            },
            "type": "contourcarpet"
           }
          ],
          "heatmap": [
           {
            "colorbar": {
             "outlinewidth": 0,
             "ticks": ""
            },
            "colorscale": [
             [
              0,
              "#0d0887"
             ],
             [
              0.1111111111111111,
              "#46039f"
             ],
             [
              0.2222222222222222,
              "#7201a8"
             ],
             [
              0.3333333333333333,
              "#9c179e"
             ],
             [
              0.4444444444444444,
              "#bd3786"
             ],
             [
              0.5555555555555556,
              "#d8576b"
             ],
             [
              0.6666666666666666,
              "#ed7953"
             ],
             [
              0.7777777777777778,
              "#fb9f3a"
             ],
             [
              0.8888888888888888,
              "#fdca26"
             ],
             [
              1,
              "#f0f921"
             ]
            ],
            "type": "heatmap"
           }
          ],
          "heatmapgl": [
           {
            "colorbar": {
             "outlinewidth": 0,
             "ticks": ""
            },
            "colorscale": [
             [
              0,
              "#0d0887"
             ],
             [
              0.1111111111111111,
              "#46039f"
             ],
             [
              0.2222222222222222,
              "#7201a8"
             ],
             [
              0.3333333333333333,
              "#9c179e"
             ],
             [
              0.4444444444444444,
              "#bd3786"
             ],
             [
              0.5555555555555556,
              "#d8576b"
             ],
             [
              0.6666666666666666,
              "#ed7953"
             ],
             [
              0.7777777777777778,
              "#fb9f3a"
             ],
             [
              0.8888888888888888,
              "#fdca26"
             ],
             [
              1,
              "#f0f921"
             ]
            ],
            "type": "heatmapgl"
           }
          ],
          "histogram": [
           {
            "marker": {
             "pattern": {
              "fillmode": "overlay",
              "size": 10,
              "solidity": 0.2
             }
            },
            "type": "histogram"
           }
          ],
          "histogram2d": [
           {
            "colorbar": {
             "outlinewidth": 0,
             "ticks": ""
            },
            "colorscale": [
             [
              0,
              "#0d0887"
             ],
             [
              0.1111111111111111,
              "#46039f"
             ],
             [
              0.2222222222222222,
              "#7201a8"
             ],
             [
              0.3333333333333333,
              "#9c179e"
             ],
             [
              0.4444444444444444,
              "#bd3786"
             ],
             [
              0.5555555555555556,
              "#d8576b"
             ],
             [
              0.6666666666666666,
              "#ed7953"
             ],
             [
              0.7777777777777778,
              "#fb9f3a"
             ],
             [
              0.8888888888888888,
              "#fdca26"
             ],
             [
              1,
              "#f0f921"
             ]
            ],
            "type": "histogram2d"
           }
          ],
          "histogram2dcontour": [
           {
            "colorbar": {
             "outlinewidth": 0,
             "ticks": ""
            },
            "colorscale": [
             [
              0,
              "#0d0887"
             ],
             [
              0.1111111111111111,
              "#46039f"
             ],
             [
              0.2222222222222222,
              "#7201a8"
             ],
             [
              0.3333333333333333,
              "#9c179e"
             ],
             [
              0.4444444444444444,
              "#bd3786"
             ],
             [
              0.5555555555555556,
              "#d8576b"
             ],
             [
              0.6666666666666666,
              "#ed7953"
             ],
             [
              0.7777777777777778,
              "#fb9f3a"
             ],
             [
              0.8888888888888888,
              "#fdca26"
             ],
             [
              1,
              "#f0f921"
             ]
            ],
            "type": "histogram2dcontour"
           }
          ],
          "mesh3d": [
           {
            "colorbar": {
             "outlinewidth": 0,
             "ticks": ""
            },
            "type": "mesh3d"
           }
          ],
          "parcoords": [
           {
            "line": {
             "colorbar": {
              "outlinewidth": 0,
              "ticks": ""
             }
            },
            "type": "parcoords"
           }
          ],
          "pie": [
           {
            "automargin": true,
            "type": "pie"
           }
          ],
          "scatter": [
           {
            "fillpattern": {
             "fillmode": "overlay",
             "size": 10,
             "solidity": 0.2
            },
            "type": "scatter"
           }
          ],
          "scatter3d": [
           {
            "line": {
             "colorbar": {
              "outlinewidth": 0,
              "ticks": ""
             }
            },
            "marker": {
             "colorbar": {
              "outlinewidth": 0,
              "ticks": ""
             }
            },
            "type": "scatter3d"
           }
          ],
          "scattercarpet": [
           {
            "marker": {
             "colorbar": {
              "outlinewidth": 0,
              "ticks": ""
             }
            },
            "type": "scattercarpet"
           }
          ],
          "scattergeo": [
           {
            "marker": {
             "colorbar": {
              "outlinewidth": 0,
              "ticks": ""
             }
            },
            "type": "scattergeo"
           }
          ],
          "scattergl": [
           {
            "marker": {
             "colorbar": {
              "outlinewidth": 0,
              "ticks": ""
             }
            },
            "type": "scattergl"
           }
          ],
          "scattermapbox": [
           {
            "marker": {
             "colorbar": {
              "outlinewidth": 0,
              "ticks": ""
             }
            },
            "type": "scattermapbox"
           }
          ],
          "scatterpolar": [
           {
            "marker": {
             "colorbar": {
              "outlinewidth": 0,
              "ticks": ""
             }
            },
            "type": "scatterpolar"
           }
          ],
          "scatterpolargl": [
           {
            "marker": {
             "colorbar": {
              "outlinewidth": 0,
              "ticks": ""
             }
            },
            "type": "scatterpolargl"
           }
          ],
          "scatterternary": [
           {
            "marker": {
             "colorbar": {
              "outlinewidth": 0,
              "ticks": ""
             }
            },
            "type": "scatterternary"
           }
          ],
          "surface": [
           {
            "colorbar": {
             "outlinewidth": 0,
             "ticks": ""
            },
            "colorscale": [
             [
              0,
              "#0d0887"
             ],
             [
              0.1111111111111111,
              "#46039f"
             ],
             [
              0.2222222222222222,
              "#7201a8"
             ],
             [
              0.3333333333333333,
              "#9c179e"
             ],
             [
              0.4444444444444444,
              "#bd3786"
             ],
             [
              0.5555555555555556,
              "#d8576b"
             ],
             [
              0.6666666666666666,
              "#ed7953"
             ],
             [
              0.7777777777777778,
              "#fb9f3a"
             ],
             [
              0.8888888888888888,
              "#fdca26"
             ],
             [
              1,
              "#f0f921"
             ]
            ],
            "type": "surface"
           }
          ],
          "table": [
           {
            "cells": {
             "fill": {
              "color": "#EBF0F8"
             },
             "line": {
              "color": "white"
             }
            },
            "header": {
             "fill": {
              "color": "#C8D4E3"
             },
             "line": {
              "color": "white"
             }
            },
            "type": "table"
           }
          ]
         },
         "layout": {
          "annotationdefaults": {
           "arrowcolor": "#2a3f5f",
           "arrowhead": 0,
           "arrowwidth": 1
          },
          "autotypenumbers": "strict",
          "coloraxis": {
           "colorbar": {
            "outlinewidth": 0,
            "ticks": ""
           }
          },
          "colorscale": {
           "diverging": [
            [
             0,
             "#8e0152"
            ],
            [
             0.1,
             "#c51b7d"
            ],
            [
             0.2,
             "#de77ae"
            ],
            [
             0.3,
             "#f1b6da"
            ],
            [
             0.4,
             "#fde0ef"
            ],
            [
             0.5,
             "#f7f7f7"
            ],
            [
             0.6,
             "#e6f5d0"
            ],
            [
             0.7,
             "#b8e186"
            ],
            [
             0.8,
             "#7fbc41"
            ],
            [
             0.9,
             "#4d9221"
            ],
            [
             1,
             "#276419"
            ]
           ],
           "sequential": [
            [
             0,
             "#0d0887"
            ],
            [
             0.1111111111111111,
             "#46039f"
            ],
            [
             0.2222222222222222,
             "#7201a8"
            ],
            [
             0.3333333333333333,
             "#9c179e"
            ],
            [
             0.4444444444444444,
             "#bd3786"
            ],
            [
             0.5555555555555556,
             "#d8576b"
            ],
            [
             0.6666666666666666,
             "#ed7953"
            ],
            [
             0.7777777777777778,
             "#fb9f3a"
            ],
            [
             0.8888888888888888,
             "#fdca26"
            ],
            [
             1,
             "#f0f921"
            ]
           ],
           "sequentialminus": [
            [
             0,
             "#0d0887"
            ],
            [
             0.1111111111111111,
             "#46039f"
            ],
            [
             0.2222222222222222,
             "#7201a8"
            ],
            [
             0.3333333333333333,
             "#9c179e"
            ],
            [
             0.4444444444444444,
             "#bd3786"
            ],
            [
             0.5555555555555556,
             "#d8576b"
            ],
            [
             0.6666666666666666,
             "#ed7953"
            ],
            [
             0.7777777777777778,
             "#fb9f3a"
            ],
            [
             0.8888888888888888,
             "#fdca26"
            ],
            [
             1,
             "#f0f921"
            ]
           ]
          },
          "colorway": [
           "#636efa",
           "#EF553B",
           "#00cc96",
           "#ab63fa",
           "#FFA15A",
           "#19d3f3",
           "#FF6692",
           "#B6E880",
           "#FF97FF",
           "#FECB52"
          ],
          "font": {
           "color": "#2a3f5f"
          },
          "geo": {
           "bgcolor": "white",
           "lakecolor": "white",
           "landcolor": "#E5ECF6",
           "showlakes": true,
           "showland": true,
           "subunitcolor": "white"
          },
          "hoverlabel": {
           "align": "left"
          },
          "hovermode": "closest",
          "mapbox": {
           "style": "light"
          },
          "paper_bgcolor": "white",
          "plot_bgcolor": "#E5ECF6",
          "polar": {
           "angularaxis": {
            "gridcolor": "white",
            "linecolor": "white",
            "ticks": ""
           },
           "bgcolor": "#E5ECF6",
           "radialaxis": {
            "gridcolor": "white",
            "linecolor": "white",
            "ticks": ""
           }
          },
          "scene": {
           "xaxis": {
            "backgroundcolor": "#E5ECF6",
            "gridcolor": "white",
            "gridwidth": 2,
            "linecolor": "white",
            "showbackground": true,
            "ticks": "",
            "zerolinecolor": "white"
           },
           "yaxis": {
            "backgroundcolor": "#E5ECF6",
            "gridcolor": "white",
            "gridwidth": 2,
            "linecolor": "white",
            "showbackground": true,
            "ticks": "",
            "zerolinecolor": "white"
           },
           "zaxis": {
            "backgroundcolor": "#E5ECF6",
            "gridcolor": "white",
            "gridwidth": 2,
            "linecolor": "white",
            "showbackground": true,
            "ticks": "",
            "zerolinecolor": "white"
           }
          },
          "shapedefaults": {
           "line": {
            "color": "#2a3f5f"
           }
          },
          "ternary": {
           "aaxis": {
            "gridcolor": "white",
            "linecolor": "white",
            "ticks": ""
           },
           "baxis": {
            "gridcolor": "white",
            "linecolor": "white",
            "ticks": ""
           },
           "bgcolor": "#E5ECF6",
           "caxis": {
            "gridcolor": "white",
            "linecolor": "white",
            "ticks": ""
           }
          },
          "title": {
           "x": 0.05
          },
          "xaxis": {
           "automargin": true,
           "gridcolor": "white",
           "linecolor": "white",
           "ticks": "",
           "title": {
            "standoff": 15
           },
           "zerolinecolor": "white",
           "zerolinewidth": 2
          },
          "yaxis": {
           "automargin": true,
           "gridcolor": "white",
           "linecolor": "white",
           "ticks": "",
           "title": {
            "standoff": 15
           },
           "zerolinecolor": "white",
           "zerolinewidth": 2
          }
         }
        },
        "title": {
         "y": 1
        }
       }
      }
     },
     "metadata": {},
     "output_type": "display_data"
    }
   ],
   "source": [
    "ROWS, COLUMNS = 2, 5\n",
    "fig = make_subplots(\n",
    "    rows=ROWS,\n",
    "    cols=COLUMNS,\n",
    "    subplot_titles=teams_stats.index.values,\n",
    "    specs=[[{\"type\": \"polar\"} for _ in range(COLUMNS)] for _ in range(ROWS)],\n",
    ")\n",
    "\n",
    "for i, team_name in enumerate(teams_stats.index):\n",
    "    df = teams_stats.loc[team_name, columns]\n",
    "\n",
    "    r, c = get_rc(i, COLUMNS)\n",
    "    fig.add_trace(\n",
    "        go.Scatterpolar(\n",
    "            r=df,\n",
    "            theta=columns,\n",
    "            fill=\"toself\",\n",
    "            name=team_name,\n",
    "        ),\n",
    "        row=r,\n",
    "        col=c,\n",
    "    )\n",
    "fig.update_layout(\n",
    "    height=800,\n",
    "    showlegend=False,\n",
    "    polar=dict(\n",
    "        radialaxis=dict(visible=True),\n",
    "    ),\n",
    "    title=dict(y=1),\n",
    ")\n",
    "fig.update_annotations(yshift=20)\n",
    "fig.update_polars(radialaxis=dict(range=[min_value - 0.2, max_value + 0.2]))\n",
    "fig.show()"
   ]
  },
  {
   "cell_type": "code",
   "execution_count": 18,
   "metadata": {},
   "outputs": [
    {
     "data": {
      "text/html": [
       "<div>\n",
       "<style scoped>\n",
       "    .dataframe tbody tr th:only-of-type {\n",
       "        vertical-align: middle;\n",
       "    }\n",
       "\n",
       "    .dataframe tbody tr th {\n",
       "        vertical-align: top;\n",
       "    }\n",
       "\n",
       "    .dataframe thead th {\n",
       "        text-align: right;\n",
       "    }\n",
       "</style>\n",
       "<table border=\"1\" class=\"dataframe\">\n",
       "  <thead>\n",
       "    <tr style=\"text-align: right;\">\n",
       "      <th></th>\n",
       "      <th>Position</th>\n",
       "      <th>Team</th>\n",
       "      <th>Games</th>\n",
       "      <th>Win</th>\n",
       "      <th>Loss</th>\n",
       "      <th>WinRate</th>\n",
       "      <th>Kills</th>\n",
       "      <th>Deaths</th>\n",
       "      <th>Assists</th>\n",
       "      <th>KDA</th>\n",
       "      <th>DPM</th>\n",
       "      <th>CS</th>\n",
       "      <th>CSPM</th>\n",
       "      <th>Gold</th>\n",
       "      <th>GPM</th>\n",
       "      <th>KP</th>\n",
       "      <th>KS</th>\n",
       "      <th>GS</th>\n",
       "      <th>ChampionsPlayed</th>\n",
       "    </tr>\n",
       "    <tr>\n",
       "      <th>Player</th>\n",
       "      <th></th>\n",
       "      <th></th>\n",
       "      <th></th>\n",
       "      <th></th>\n",
       "      <th></th>\n",
       "      <th></th>\n",
       "      <th></th>\n",
       "      <th></th>\n",
       "      <th></th>\n",
       "      <th></th>\n",
       "      <th></th>\n",
       "      <th></th>\n",
       "      <th></th>\n",
       "      <th></th>\n",
       "      <th></th>\n",
       "      <th></th>\n",
       "      <th></th>\n",
       "      <th></th>\n",
       "      <th></th>\n",
       "    </tr>\n",
       "  </thead>\n",
       "  <tbody>\n",
       "    <tr>\n",
       "      <th>Paduck</th>\n",
       "      <td>Bot</td>\n",
       "      <td>DRX</td>\n",
       "      <td>2</td>\n",
       "      <td>0</td>\n",
       "      <td>2</td>\n",
       "      <td>0.000000</td>\n",
       "      <td>4.500000</td>\n",
       "      <td>4.500000</td>\n",
       "      <td>3.500000</td>\n",
       "      <td>1.777778</td>\n",
       "      <td>793.560986</td>\n",
       "      <td>310.000000</td>\n",
       "      <td>8.731239</td>\n",
       "      <td>14903.500000</td>\n",
       "      <td>408.003510</td>\n",
       "      <td>0.761905</td>\n",
       "      <td>0.428571</td>\n",
       "      <td>0.255247</td>\n",
       "      <td>1</td>\n",
       "    </tr>\n",
       "    <tr>\n",
       "      <th>Croco</th>\n",
       "      <td>Jungle</td>\n",
       "      <td>DRX</td>\n",
       "      <td>2</td>\n",
       "      <td>0</td>\n",
       "      <td>2</td>\n",
       "      <td>0.000000</td>\n",
       "      <td>4.000000</td>\n",
       "      <td>3.500000</td>\n",
       "      <td>4.000000</td>\n",
       "      <td>2.285714</td>\n",
       "      <td>302.800707</td>\n",
       "      <td>213.500000</td>\n",
       "      <td>5.960021</td>\n",
       "      <td>12574.000000</td>\n",
       "      <td>344.711923</td>\n",
       "      <td>0.761905</td>\n",
       "      <td>0.380952</td>\n",
       "      <td>0.215351</td>\n",
       "      <td>2</td>\n",
       "    </tr>\n",
       "    <tr>\n",
       "      <th>Kyeahoo</th>\n",
       "      <td>Mid</td>\n",
       "      <td>DRX</td>\n",
       "      <td>2</td>\n",
       "      <td>0</td>\n",
       "      <td>2</td>\n",
       "      <td>0.000000</td>\n",
       "      <td>1.000000</td>\n",
       "      <td>2.500000</td>\n",
       "      <td>6.000000</td>\n",
       "      <td>2.800000</td>\n",
       "      <td>454.796600</td>\n",
       "      <td>278.500000</td>\n",
       "      <td>7.717359</td>\n",
       "      <td>11799.500000</td>\n",
       "      <td>324.169588</td>\n",
       "      <td>0.666667</td>\n",
       "      <td>0.095238</td>\n",
       "      <td>0.202086</td>\n",
       "      <td>1</td>\n",
       "    </tr>\n",
       "    <tr>\n",
       "      <th>BeryL</th>\n",
       "      <td>Support</td>\n",
       "      <td>DRX</td>\n",
       "      <td>2</td>\n",
       "      <td>0</td>\n",
       "      <td>2</td>\n",
       "      <td>0.000000</td>\n",
       "      <td>0.000000</td>\n",
       "      <td>2.000000</td>\n",
       "      <td>9.500000</td>\n",
       "      <td>4.750000</td>\n",
       "      <td>382.269741</td>\n",
       "      <td>2.500000</td>\n",
       "      <td>0.075080</td>\n",
       "      <td>7355.500000</td>\n",
       "      <td>202.457605</td>\n",
       "      <td>0.904762</td>\n",
       "      <td>0.000000</td>\n",
       "      <td>0.125975</td>\n",
       "      <td>1</td>\n",
       "    </tr>\n",
       "    <tr>\n",
       "      <th>Rascal</th>\n",
       "      <td>Top</td>\n",
       "      <td>DRX</td>\n",
       "      <td>2</td>\n",
       "      <td>0</td>\n",
       "      <td>2</td>\n",
       "      <td>0.000000</td>\n",
       "      <td>1.000000</td>\n",
       "      <td>3.500000</td>\n",
       "      <td>6.000000</td>\n",
       "      <td>2.000000</td>\n",
       "      <td>462.947256</td>\n",
       "      <td>258.000000</td>\n",
       "      <td>7.143991</td>\n",
       "      <td>11756.000000</td>\n",
       "      <td>324.138401</td>\n",
       "      <td>0.666667</td>\n",
       "      <td>0.095238</td>\n",
       "      <td>0.201341</td>\n",
       "      <td>1</td>\n",
       "    </tr>\n",
       "    <tr>\n",
       "      <th>Deft</th>\n",
       "      <td>Bot</td>\n",
       "      <td>Dplus KIA</td>\n",
       "      <td>2</td>\n",
       "      <td>2</td>\n",
       "      <td>0</td>\n",
       "      <td>1.000000</td>\n",
       "      <td>5.000000</td>\n",
       "      <td>2.000000</td>\n",
       "      <td>7.000000</td>\n",
       "      <td>6.000000</td>\n",
       "      <td>692.426897</td>\n",
       "      <td>278.000000</td>\n",
       "      <td>9.410698</td>\n",
       "      <td>15598.500000</td>\n",
       "      <td>528.013309</td>\n",
       "      <td>0.727273</td>\n",
       "      <td>0.303030</td>\n",
       "      <td>0.260196</td>\n",
       "      <td>2</td>\n",
       "    </tr>\n",
       "    <tr>\n",
       "      <th>Canyon</th>\n",
       "      <td>Jungle</td>\n",
       "      <td>Dplus KIA</td>\n",
       "      <td>2</td>\n",
       "      <td>2</td>\n",
       "      <td>0</td>\n",
       "      <td>1.000000</td>\n",
       "      <td>2.000000</td>\n",
       "      <td>0.000000</td>\n",
       "      <td>11.500000</td>\n",
       "      <td>27.000000</td>\n",
       "      <td>342.301315</td>\n",
       "      <td>170.000000</td>\n",
       "      <td>5.754559</td>\n",
       "      <td>10895.500000</td>\n",
       "      <td>368.981049</td>\n",
       "      <td>0.818182</td>\n",
       "      <td>0.121212</td>\n",
       "      <td>0.181746</td>\n",
       "      <td>2</td>\n",
       "    </tr>\n",
       "    <tr>\n",
       "      <th>ShowMaker</th>\n",
       "      <td>Mid</td>\n",
       "      <td>Dplus KIA</td>\n",
       "      <td>2</td>\n",
       "      <td>2</td>\n",
       "      <td>0</td>\n",
       "      <td>1.000000</td>\n",
       "      <td>7.000000</td>\n",
       "      <td>0.000000</td>\n",
       "      <td>6.500000</td>\n",
       "      <td>27.000000</td>\n",
       "      <td>613.207563</td>\n",
       "      <td>248.500000</td>\n",
       "      <td>8.420706</td>\n",
       "      <td>13029.000000</td>\n",
       "      <td>441.441750</td>\n",
       "      <td>0.818182</td>\n",
       "      <td>0.424242</td>\n",
       "      <td>0.217335</td>\n",
       "      <td>2</td>\n",
       "    </tr>\n",
       "    <tr>\n",
       "      <th>Kellin</th>\n",
       "      <td>Support</td>\n",
       "      <td>Dplus KIA</td>\n",
       "      <td>2</td>\n",
       "      <td>2</td>\n",
       "      <td>0</td>\n",
       "      <td>1.000000</td>\n",
       "      <td>0.500000</td>\n",
       "      <td>1.000000</td>\n",
       "      <td>15.000000</td>\n",
       "      <td>15.500000</td>\n",
       "      <td>121.308906</td>\n",
       "      <td>27.500000</td>\n",
       "      <td>0.929494</td>\n",
       "      <td>8138.000000</td>\n",
       "      <td>275.615400</td>\n",
       "      <td>0.939394</td>\n",
       "      <td>0.030303</td>\n",
       "      <td>0.135749</td>\n",
       "      <td>2</td>\n",
       "    </tr>\n",
       "    <tr>\n",
       "      <th>Canna</th>\n",
       "      <td>Top</td>\n",
       "      <td>Dplus KIA</td>\n",
       "      <td>2</td>\n",
       "      <td>2</td>\n",
       "      <td>0</td>\n",
       "      <td>1.000000</td>\n",
       "      <td>2.000000</td>\n",
       "      <td>0.000000</td>\n",
       "      <td>6.000000</td>\n",
       "      <td>16.000000</td>\n",
       "      <td>421.635922</td>\n",
       "      <td>245.500000</td>\n",
       "      <td>8.312303</td>\n",
       "      <td>12288.000000</td>\n",
       "      <td>416.099461</td>\n",
       "      <td>0.484848</td>\n",
       "      <td>0.121212</td>\n",
       "      <td>0.204974</td>\n",
       "      <td>2</td>\n",
       "    </tr>\n",
       "    <tr>\n",
       "      <th>Peyz</th>\n",
       "      <td>Bot</td>\n",
       "      <td>Gen.G</td>\n",
       "      <td>3</td>\n",
       "      <td>2</td>\n",
       "      <td>1</td>\n",
       "      <td>0.666667</td>\n",
       "      <td>4.000000</td>\n",
       "      <td>1.000000</td>\n",
       "      <td>2.333333</td>\n",
       "      <td>6.333333</td>\n",
       "      <td>438.065772</td>\n",
       "      <td>250.666667</td>\n",
       "      <td>9.812563</td>\n",
       "      <td>12134.000000</td>\n",
       "      <td>476.782013</td>\n",
       "      <td>0.678571</td>\n",
       "      <td>0.428571</td>\n",
       "      <td>0.246281</td>\n",
       "      <td>2</td>\n",
       "    </tr>\n",
       "    <tr>\n",
       "      <th>Peanut</th>\n",
       "      <td>Jungle</td>\n",
       "      <td>Gen.G</td>\n",
       "      <td>3</td>\n",
       "      <td>2</td>\n",
       "      <td>1</td>\n",
       "      <td>0.666667</td>\n",
       "      <td>1.666667</td>\n",
       "      <td>1.333333</td>\n",
       "      <td>5.333333</td>\n",
       "      <td>5.250000</td>\n",
       "      <td>315.095770</td>\n",
       "      <td>175.333333</td>\n",
       "      <td>6.804378</td>\n",
       "      <td>9730.333333</td>\n",
       "      <td>380.745975</td>\n",
       "      <td>0.750000</td>\n",
       "      <td>0.178571</td>\n",
       "      <td>0.197494</td>\n",
       "      <td>3</td>\n",
       "    </tr>\n",
       "    <tr>\n",
       "      <th>Chovy</th>\n",
       "      <td>Mid</td>\n",
       "      <td>Gen.G</td>\n",
       "      <td>3</td>\n",
       "      <td>2</td>\n",
       "      <td>1</td>\n",
       "      <td>0.666667</td>\n",
       "      <td>2.000000</td>\n",
       "      <td>1.000000</td>\n",
       "      <td>5.666667</td>\n",
       "      <td>7.666667</td>\n",
       "      <td>418.212653</td>\n",
       "      <td>255.666667</td>\n",
       "      <td>10.040908</td>\n",
       "      <td>10956.666667</td>\n",
       "      <td>429.745439</td>\n",
       "      <td>0.821429</td>\n",
       "      <td>0.214286</td>\n",
       "      <td>0.222385</td>\n",
       "      <td>2</td>\n",
       "    </tr>\n",
       "    <tr>\n",
       "      <th>Delight</th>\n",
       "      <td>Support</td>\n",
       "      <td>Gen.G</td>\n",
       "      <td>3</td>\n",
       "      <td>2</td>\n",
       "      <td>1</td>\n",
       "      <td>0.666667</td>\n",
       "      <td>0.666667</td>\n",
       "      <td>1.666667</td>\n",
       "      <td>6.000000</td>\n",
       "      <td>4.000000</td>\n",
       "      <td>171.369116</td>\n",
       "      <td>21.333333</td>\n",
       "      <td>0.878286</td>\n",
       "      <td>6313.333333</td>\n",
       "      <td>246.987860</td>\n",
       "      <td>0.714286</td>\n",
       "      <td>0.071429</td>\n",
       "      <td>0.128140</td>\n",
       "      <td>3</td>\n",
       "    </tr>\n",
       "    <tr>\n",
       "      <th>Doran</th>\n",
       "      <td>Top</td>\n",
       "      <td>Gen.G</td>\n",
       "      <td>3</td>\n",
       "      <td>2</td>\n",
       "      <td>1</td>\n",
       "      <td>0.666667</td>\n",
       "      <td>1.000000</td>\n",
       "      <td>2.333333</td>\n",
       "      <td>3.000000</td>\n",
       "      <td>1.714286</td>\n",
       "      <td>445.604185</td>\n",
       "      <td>208.666667</td>\n",
       "      <td>8.182866</td>\n",
       "      <td>10134.666667</td>\n",
       "      <td>397.047497</td>\n",
       "      <td>0.428571</td>\n",
       "      <td>0.107143</td>\n",
       "      <td>0.205701</td>\n",
       "      <td>2</td>\n",
       "    </tr>\n",
       "    <tr>\n",
       "      <th>Viper</th>\n",
       "      <td>Bot</td>\n",
       "      <td>Hanwha Life Esports</td>\n",
       "      <td>6</td>\n",
       "      <td>2</td>\n",
       "      <td>4</td>\n",
       "      <td>0.333333</td>\n",
       "      <td>2.333333</td>\n",
       "      <td>1.500000</td>\n",
       "      <td>3.000000</td>\n",
       "      <td>3.555556</td>\n",
       "      <td>554.645597</td>\n",
       "      <td>332.500000</td>\n",
       "      <td>10.604812</td>\n",
       "      <td>13800.333333</td>\n",
       "      <td>437.462026</td>\n",
       "      <td>0.640000</td>\n",
       "      <td>0.280000</td>\n",
       "      <td>0.254380</td>\n",
       "      <td>3</td>\n",
       "    </tr>\n",
       "    <tr>\n",
       "      <th>Clid</th>\n",
       "      <td>Jungle</td>\n",
       "      <td>Hanwha Life Esports</td>\n",
       "      <td>6</td>\n",
       "      <td>2</td>\n",
       "      <td>4</td>\n",
       "      <td>0.333333</td>\n",
       "      <td>2.500000</td>\n",
       "      <td>2.500000</td>\n",
       "      <td>3.333333</td>\n",
       "      <td>2.333333</td>\n",
       "      <td>207.291874</td>\n",
       "      <td>183.500000</td>\n",
       "      <td>5.911041</td>\n",
       "      <td>10648.833333</td>\n",
       "      <td>338.591773</td>\n",
       "      <td>0.700000</td>\n",
       "      <td>0.300000</td>\n",
       "      <td>0.196289</td>\n",
       "      <td>3</td>\n",
       "    </tr>\n",
       "    <tr>\n",
       "      <th>Zeka</th>\n",
       "      <td>Mid</td>\n",
       "      <td>Hanwha Life Esports</td>\n",
       "      <td>6</td>\n",
       "      <td>2</td>\n",
       "      <td>4</td>\n",
       "      <td>0.333333</td>\n",
       "      <td>2.500000</td>\n",
       "      <td>1.500000</td>\n",
       "      <td>3.666667</td>\n",
       "      <td>4.111111</td>\n",
       "      <td>383.402324</td>\n",
       "      <td>264.333333</td>\n",
       "      <td>8.354188</td>\n",
       "      <td>11755.666667</td>\n",
       "      <td>367.780203</td>\n",
       "      <td>0.740000</td>\n",
       "      <td>0.300000</td>\n",
       "      <td>0.216691</td>\n",
       "      <td>2</td>\n",
       "    </tr>\n",
       "    <tr>\n",
       "      <th>Life</th>\n",
       "      <td>Support</td>\n",
       "      <td>Hanwha Life Esports</td>\n",
       "      <td>6</td>\n",
       "      <td>2</td>\n",
       "      <td>4</td>\n",
       "      <td>0.333333</td>\n",
       "      <td>0.500000</td>\n",
       "      <td>2.166667</td>\n",
       "      <td>5.500000</td>\n",
       "      <td>2.769231</td>\n",
       "      <td>135.275132</td>\n",
       "      <td>16.333333</td>\n",
       "      <td>0.515572</td>\n",
       "      <td>6832.833333</td>\n",
       "      <td>217.809675</td>\n",
       "      <td>0.720000</td>\n",
       "      <td>0.060000</td>\n",
       "      <td>0.125949</td>\n",
       "      <td>5</td>\n",
       "    </tr>\n",
       "    <tr>\n",
       "      <th>Kingen</th>\n",
       "      <td>Top</td>\n",
       "      <td>Hanwha Life Esports</td>\n",
       "      <td>6</td>\n",
       "      <td>2</td>\n",
       "      <td>4</td>\n",
       "      <td>0.333333</td>\n",
       "      <td>0.500000</td>\n",
       "      <td>1.166667</td>\n",
       "      <td>4.666667</td>\n",
       "      <td>4.428571</td>\n",
       "      <td>345.730030</td>\n",
       "      <td>256.333333</td>\n",
       "      <td>8.251499</td>\n",
       "      <td>11213.166667</td>\n",
       "      <td>359.681375</td>\n",
       "      <td>0.620000</td>\n",
       "      <td>0.060000</td>\n",
       "      <td>0.206691</td>\n",
       "      <td>4</td>\n",
       "    </tr>\n",
       "    <tr>\n",
       "      <th>Aiming</th>\n",
       "      <td>Bot</td>\n",
       "      <td>KT Rolster</td>\n",
       "      <td>6</td>\n",
       "      <td>3</td>\n",
       "      <td>3</td>\n",
       "      <td>0.500000</td>\n",
       "      <td>2.500000</td>\n",
       "      <td>1.666667</td>\n",
       "      <td>3.000000</td>\n",
       "      <td>3.300000</td>\n",
       "      <td>433.454306</td>\n",
       "      <td>272.500000</td>\n",
       "      <td>9.964691</td>\n",
       "      <td>12191.333333</td>\n",
       "      <td>447.570174</td>\n",
       "      <td>0.634615</td>\n",
       "      <td>0.288462</td>\n",
       "      <td>0.250628</td>\n",
       "      <td>3</td>\n",
       "    </tr>\n",
       "    <tr>\n",
       "      <th>Cuzz</th>\n",
       "      <td>Jungle</td>\n",
       "      <td>KT Rolster</td>\n",
       "      <td>6</td>\n",
       "      <td>3</td>\n",
       "      <td>3</td>\n",
       "      <td>0.500000</td>\n",
       "      <td>1.500000</td>\n",
       "      <td>2.833333</td>\n",
       "      <td>5.333333</td>\n",
       "      <td>2.411765</td>\n",
       "      <td>289.681928</td>\n",
       "      <td>151.833333</td>\n",
       "      <td>5.539170</td>\n",
       "      <td>8940.833333</td>\n",
       "      <td>325.690401</td>\n",
       "      <td>0.788462</td>\n",
       "      <td>0.173077</td>\n",
       "      <td>0.183805</td>\n",
       "      <td>4</td>\n",
       "    </tr>\n",
       "    <tr>\n",
       "      <th>Bdd</th>\n",
       "      <td>Mid</td>\n",
       "      <td>KT Rolster</td>\n",
       "      <td>6</td>\n",
       "      <td>3</td>\n",
       "      <td>3</td>\n",
       "      <td>0.500000</td>\n",
       "      <td>1.500000</td>\n",
       "      <td>1.000000</td>\n",
       "      <td>4.833333</td>\n",
       "      <td>6.333333</td>\n",
       "      <td>455.446186</td>\n",
       "      <td>241.166667</td>\n",
       "      <td>8.795973</td>\n",
       "      <td>10615.666667</td>\n",
       "      <td>387.662383</td>\n",
       "      <td>0.730769</td>\n",
       "      <td>0.173077</td>\n",
       "      <td>0.218236</td>\n",
       "      <td>3</td>\n",
       "    </tr>\n",
       "    <tr>\n",
       "      <th>Lehends</th>\n",
       "      <td>Support</td>\n",
       "      <td>KT Rolster</td>\n",
       "      <td>6</td>\n",
       "      <td>3</td>\n",
       "      <td>3</td>\n",
       "      <td>0.500000</td>\n",
       "      <td>0.666667</td>\n",
       "      <td>1.666667</td>\n",
       "      <td>6.000000</td>\n",
       "      <td>4.000000</td>\n",
       "      <td>134.663939</td>\n",
       "      <td>19.500000</td>\n",
       "      <td>0.720567</td>\n",
       "      <td>6452.833333</td>\n",
       "      <td>235.593006</td>\n",
       "      <td>0.769231</td>\n",
       "      <td>0.076923</td>\n",
       "      <td>0.132657</td>\n",
       "      <td>4</td>\n",
       "    </tr>\n",
       "    <tr>\n",
       "      <th>Kiin</th>\n",
       "      <td>Top</td>\n",
       "      <td>KT Rolster</td>\n",
       "      <td>6</td>\n",
       "      <td>3</td>\n",
       "      <td>3</td>\n",
       "      <td>0.500000</td>\n",
       "      <td>2.500000</td>\n",
       "      <td>2.333333</td>\n",
       "      <td>3.000000</td>\n",
       "      <td>2.357143</td>\n",
       "      <td>392.190976</td>\n",
       "      <td>227.666667</td>\n",
       "      <td>8.223629</td>\n",
       "      <td>10442.500000</td>\n",
       "      <td>381.045568</td>\n",
       "      <td>0.634615</td>\n",
       "      <td>0.288462</td>\n",
       "      <td>0.214676</td>\n",
       "      <td>6</td>\n",
       "    </tr>\n",
       "    <tr>\n",
       "      <th>Taeyoon</th>\n",
       "      <td>Bot</td>\n",
       "      <td>Kwangdong Freecs</td>\n",
       "      <td>4</td>\n",
       "      <td>4</td>\n",
       "      <td>0</td>\n",
       "      <td>1.000000</td>\n",
       "      <td>4.250000</td>\n",
       "      <td>1.750000</td>\n",
       "      <td>5.250000</td>\n",
       "      <td>5.428571</td>\n",
       "      <td>541.072809</td>\n",
       "      <td>327.750000</td>\n",
       "      <td>9.893001</td>\n",
       "      <td>15350.500000</td>\n",
       "      <td>464.595638</td>\n",
       "      <td>0.745098</td>\n",
       "      <td>0.333333</td>\n",
       "      <td>0.240487</td>\n",
       "      <td>3</td>\n",
       "    </tr>\n",
       "    <tr>\n",
       "      <th>YoungJae</th>\n",
       "      <td>Jungle</td>\n",
       "      <td>Kwangdong Freecs</td>\n",
       "      <td>4</td>\n",
       "      <td>4</td>\n",
       "      <td>0</td>\n",
       "      <td>1.000000</td>\n",
       "      <td>2.000000</td>\n",
       "      <td>1.000000</td>\n",
       "      <td>7.500000</td>\n",
       "      <td>9.500000</td>\n",
       "      <td>307.550312</td>\n",
       "      <td>190.500000</td>\n",
       "      <td>5.747844</td>\n",
       "      <td>11361.500000</td>\n",
       "      <td>338.166132</td>\n",
       "      <td>0.745098</td>\n",
       "      <td>0.156863</td>\n",
       "      <td>0.177993</td>\n",
       "      <td>3</td>\n",
       "    </tr>\n",
       "    <tr>\n",
       "      <th>BuLLDoG</th>\n",
       "      <td>Mid</td>\n",
       "      <td>Kwangdong Freecs</td>\n",
       "      <td>4</td>\n",
       "      <td>4</td>\n",
       "      <td>0</td>\n",
       "      <td>1.000000</td>\n",
       "      <td>2.500000</td>\n",
       "      <td>2.000000</td>\n",
       "      <td>7.250000</td>\n",
       "      <td>4.875000</td>\n",
       "      <td>540.616741</td>\n",
       "      <td>314.500000</td>\n",
       "      <td>9.366057</td>\n",
       "      <td>14737.000000</td>\n",
       "      <td>443.533556</td>\n",
       "      <td>0.764706</td>\n",
       "      <td>0.196078</td>\n",
       "      <td>0.230875</td>\n",
       "      <td>3</td>\n",
       "    </tr>\n",
       "    <tr>\n",
       "      <th>Jun</th>\n",
       "      <td>Support</td>\n",
       "      <td>Kwangdong Freecs</td>\n",
       "      <td>4</td>\n",
       "      <td>4</td>\n",
       "      <td>0</td>\n",
       "      <td>1.000000</td>\n",
       "      <td>0.250000</td>\n",
       "      <td>2.000000</td>\n",
       "      <td>9.500000</td>\n",
       "      <td>4.875000</td>\n",
       "      <td>107.291207</td>\n",
       "      <td>43.000000</td>\n",
       "      <td>1.276584</td>\n",
       "      <td>8164.000000</td>\n",
       "      <td>244.490687</td>\n",
       "      <td>0.764706</td>\n",
       "      <td>0.019608</td>\n",
       "      <td>0.127900</td>\n",
       "      <td>3</td>\n",
       "    </tr>\n",
       "    <tr>\n",
       "      <th>DuDu</th>\n",
       "      <td>Top</td>\n",
       "      <td>Kwangdong Freecs</td>\n",
       "      <td>4</td>\n",
       "      <td>4</td>\n",
       "      <td>0</td>\n",
       "      <td>1.000000</td>\n",
       "      <td>3.750000</td>\n",
       "      <td>0.250000</td>\n",
       "      <td>5.000000</td>\n",
       "      <td>35.000000</td>\n",
       "      <td>641.789853</td>\n",
       "      <td>309.000000</td>\n",
       "      <td>9.301942</td>\n",
       "      <td>14218.000000</td>\n",
       "      <td>422.113769</td>\n",
       "      <td>0.686275</td>\n",
       "      <td>0.294118</td>\n",
       "      <td>0.222744</td>\n",
       "      <td>4</td>\n",
       "    </tr>\n",
       "    <tr>\n",
       "      <th>Teddy</th>\n",
       "      <td>Bot</td>\n",
       "      <td>Liiv SANDBOX</td>\n",
       "      <td>4</td>\n",
       "      <td>2</td>\n",
       "      <td>2</td>\n",
       "      <td>0.500000</td>\n",
       "      <td>4.750000</td>\n",
       "      <td>1.750000</td>\n",
       "      <td>3.500000</td>\n",
       "      <td>4.714286</td>\n",
       "      <td>626.106104</td>\n",
       "      <td>290.500000</td>\n",
       "      <td>10.161549</td>\n",
       "      <td>12912.250000</td>\n",
       "      <td>453.095109</td>\n",
       "      <td>0.942857</td>\n",
       "      <td>0.542857</td>\n",
       "      <td>0.259195</td>\n",
       "      <td>4</td>\n",
       "    </tr>\n",
       "    <tr>\n",
       "      <th>Willer</th>\n",
       "      <td>Jungle</td>\n",
       "      <td>Liiv SANDBOX</td>\n",
       "      <td>4</td>\n",
       "      <td>2</td>\n",
       "      <td>2</td>\n",
       "      <td>0.500000</td>\n",
       "      <td>1.000000</td>\n",
       "      <td>2.500000</td>\n",
       "      <td>6.250000</td>\n",
       "      <td>2.900000</td>\n",
       "      <td>207.700078</td>\n",
       "      <td>155.250000</td>\n",
       "      <td>5.443881</td>\n",
       "      <td>9428.750000</td>\n",
       "      <td>331.121747</td>\n",
       "      <td>0.828571</td>\n",
       "      <td>0.114286</td>\n",
       "      <td>0.189269</td>\n",
       "      <td>4</td>\n",
       "    </tr>\n",
       "    <tr>\n",
       "      <th>Clozer</th>\n",
       "      <td>Mid</td>\n",
       "      <td>Liiv SANDBOX</td>\n",
       "      <td>4</td>\n",
       "      <td>2</td>\n",
       "      <td>2</td>\n",
       "      <td>0.500000</td>\n",
       "      <td>1.500000</td>\n",
       "      <td>2.500000</td>\n",
       "      <td>4.750000</td>\n",
       "      <td>2.500000</td>\n",
       "      <td>413.152081</td>\n",
       "      <td>250.750000</td>\n",
       "      <td>8.767776</td>\n",
       "      <td>10841.500000</td>\n",
       "      <td>380.107784</td>\n",
       "      <td>0.714286</td>\n",
       "      <td>0.171429</td>\n",
       "      <td>0.217628</td>\n",
       "      <td>4</td>\n",
       "    </tr>\n",
       "    <tr>\n",
       "      <th>Kael</th>\n",
       "      <td>Support</td>\n",
       "      <td>Liiv SANDBOX</td>\n",
       "      <td>4</td>\n",
       "      <td>2</td>\n",
       "      <td>2</td>\n",
       "      <td>0.500000</td>\n",
       "      <td>0.000000</td>\n",
       "      <td>2.000000</td>\n",
       "      <td>7.750000</td>\n",
       "      <td>3.875000</td>\n",
       "      <td>124.241105</td>\n",
       "      <td>19.500000</td>\n",
       "      <td>0.682184</td>\n",
       "      <td>6472.000000</td>\n",
       "      <td>227.038812</td>\n",
       "      <td>0.885714</td>\n",
       "      <td>0.000000</td>\n",
       "      <td>0.129916</td>\n",
       "      <td>3</td>\n",
       "    </tr>\n",
       "    <tr>\n",
       "      <th>Burdol</th>\n",
       "      <td>Top</td>\n",
       "      <td>Liiv SANDBOX</td>\n",
       "      <td>4</td>\n",
       "      <td>2</td>\n",
       "      <td>2</td>\n",
       "      <td>0.500000</td>\n",
       "      <td>1.500000</td>\n",
       "      <td>1.500000</td>\n",
       "      <td>3.750000</td>\n",
       "      <td>3.500000</td>\n",
       "      <td>387.319851</td>\n",
       "      <td>221.500000</td>\n",
       "      <td>7.754558</td>\n",
       "      <td>10162.250000</td>\n",
       "      <td>356.340119</td>\n",
       "      <td>0.600000</td>\n",
       "      <td>0.171429</td>\n",
       "      <td>0.203993</td>\n",
       "      <td>4</td>\n",
       "    </tr>\n",
       "    <tr>\n",
       "      <th>vital</th>\n",
       "      <td>Bot</td>\n",
       "      <td>Nongshim RedForce</td>\n",
       "      <td>5</td>\n",
       "      <td>2</td>\n",
       "      <td>3</td>\n",
       "      <td>0.400000</td>\n",
       "      <td>2.600000</td>\n",
       "      <td>1.800000</td>\n",
       "      <td>2.200000</td>\n",
       "      <td>2.666667</td>\n",
       "      <td>497.443823</td>\n",
       "      <td>333.400000</td>\n",
       "      <td>10.887059</td>\n",
       "      <td>13691.200000</td>\n",
       "      <td>447.006287</td>\n",
       "      <td>0.750000</td>\n",
       "      <td>0.406250</td>\n",
       "      <td>0.262774</td>\n",
       "      <td>4</td>\n",
       "    </tr>\n",
       "    <tr>\n",
       "      <th>Sylvie</th>\n",
       "      <td>Jungle</td>\n",
       "      <td>Nongshim RedForce</td>\n",
       "      <td>5</td>\n",
       "      <td>2</td>\n",
       "      <td>3</td>\n",
       "      <td>0.400000</td>\n",
       "      <td>1.200000</td>\n",
       "      <td>2.000000</td>\n",
       "      <td>2.000000</td>\n",
       "      <td>1.600000</td>\n",
       "      <td>192.431524</td>\n",
       "      <td>190.000000</td>\n",
       "      <td>6.182572</td>\n",
       "      <td>10053.000000</td>\n",
       "      <td>327.565488</td>\n",
       "      <td>0.500000</td>\n",
       "      <td>0.187500</td>\n",
       "      <td>0.192946</td>\n",
       "      <td>3</td>\n",
       "    </tr>\n",
       "    <tr>\n",
       "      <th>Quad</th>\n",
       "      <td>Mid</td>\n",
       "      <td>Nongshim RedForce</td>\n",
       "      <td>5</td>\n",
       "      <td>2</td>\n",
       "      <td>3</td>\n",
       "      <td>0.400000</td>\n",
       "      <td>1.200000</td>\n",
       "      <td>2.000000</td>\n",
       "      <td>2.800000</td>\n",
       "      <td>2.000000</td>\n",
       "      <td>332.585239</td>\n",
       "      <td>250.200000</td>\n",
       "      <td>8.167161</td>\n",
       "      <td>10919.600000</td>\n",
       "      <td>356.590519</td>\n",
       "      <td>0.625000</td>\n",
       "      <td>0.187500</td>\n",
       "      <td>0.209579</td>\n",
       "      <td>2</td>\n",
       "    </tr>\n",
       "    <tr>\n",
       "      <th>Peter</th>\n",
       "      <td>Support</td>\n",
       "      <td>Nongshim RedForce</td>\n",
       "      <td>5</td>\n",
       "      <td>2</td>\n",
       "      <td>3</td>\n",
       "      <td>0.400000</td>\n",
       "      <td>0.400000</td>\n",
       "      <td>1.200000</td>\n",
       "      <td>4.600000</td>\n",
       "      <td>4.166667</td>\n",
       "      <td>187.986268</td>\n",
       "      <td>9.200000</td>\n",
       "      <td>0.317393</td>\n",
       "      <td>6631.400000</td>\n",
       "      <td>217.729232</td>\n",
       "      <td>0.781250</td>\n",
       "      <td>0.062500</td>\n",
       "      <td>0.127276</td>\n",
       "      <td>3</td>\n",
       "    </tr>\n",
       "    <tr>\n",
       "      <th>DnDn</th>\n",
       "      <td>Top</td>\n",
       "      <td>Nongshim RedForce</td>\n",
       "      <td>5</td>\n",
       "      <td>2</td>\n",
       "      <td>3</td>\n",
       "      <td>0.400000</td>\n",
       "      <td>1.000000</td>\n",
       "      <td>2.600000</td>\n",
       "      <td>2.600000</td>\n",
       "      <td>1.384615</td>\n",
       "      <td>529.288680</td>\n",
       "      <td>249.400000</td>\n",
       "      <td>8.152738</td>\n",
       "      <td>10807.400000</td>\n",
       "      <td>353.476647</td>\n",
       "      <td>0.562500</td>\n",
       "      <td>0.156250</td>\n",
       "      <td>0.207425</td>\n",
       "      <td>4</td>\n",
       "    </tr>\n",
       "    <tr>\n",
       "      <th>Hena</th>\n",
       "      <td>Bot</td>\n",
       "      <td>OKSavingsBank BRION</td>\n",
       "      <td>5</td>\n",
       "      <td>1</td>\n",
       "      <td>4</td>\n",
       "      <td>0.200000</td>\n",
       "      <td>1.600000</td>\n",
       "      <td>1.400000</td>\n",
       "      <td>1.600000</td>\n",
       "      <td>2.285714</td>\n",
       "      <td>597.480454</td>\n",
       "      <td>325.000000</td>\n",
       "      <td>10.166141</td>\n",
       "      <td>13516.800000</td>\n",
       "      <td>423.339460</td>\n",
       "      <td>0.640000</td>\n",
       "      <td>0.320000</td>\n",
       "      <td>0.254305</td>\n",
       "      <td>2</td>\n",
       "    </tr>\n",
       "    <tr>\n",
       "      <th>UmTi</th>\n",
       "      <td>Jungle</td>\n",
       "      <td>OKSavingsBank BRION</td>\n",
       "      <td>5</td>\n",
       "      <td>1</td>\n",
       "      <td>4</td>\n",
       "      <td>0.200000</td>\n",
       "      <td>1.400000</td>\n",
       "      <td>1.800000</td>\n",
       "      <td>2.600000</td>\n",
       "      <td>2.222222</td>\n",
       "      <td>208.780045</td>\n",
       "      <td>182.000000</td>\n",
       "      <td>5.707811</td>\n",
       "      <td>10082.600000</td>\n",
       "      <td>316.348172</td>\n",
       "      <td>0.800000</td>\n",
       "      <td>0.280000</td>\n",
       "      <td>0.189694</td>\n",
       "      <td>4</td>\n",
       "    </tr>\n",
       "    <tr>\n",
       "      <th>Karis</th>\n",
       "      <td>Mid</td>\n",
       "      <td>OKSavingsBank BRION</td>\n",
       "      <td>5</td>\n",
       "      <td>1</td>\n",
       "      <td>4</td>\n",
       "      <td>0.200000</td>\n",
       "      <td>0.800000</td>\n",
       "      <td>1.600000</td>\n",
       "      <td>2.800000</td>\n",
       "      <td>2.250000</td>\n",
       "      <td>367.504823</td>\n",
       "      <td>268.400000</td>\n",
       "      <td>8.417975</td>\n",
       "      <td>11168.200000</td>\n",
       "      <td>349.739899</td>\n",
       "      <td>0.720000</td>\n",
       "      <td>0.160000</td>\n",
       "      <td>0.210118</td>\n",
       "      <td>3</td>\n",
       "    </tr>\n",
       "    <tr>\n",
       "      <th>Effort</th>\n",
       "      <td>Support</td>\n",
       "      <td>OKSavingsBank BRION</td>\n",
       "      <td>5</td>\n",
       "      <td>1</td>\n",
       "      <td>4</td>\n",
       "      <td>0.200000</td>\n",
       "      <td>0.200000</td>\n",
       "      <td>1.800000</td>\n",
       "      <td>3.400000</td>\n",
       "      <td>2.000000</td>\n",
       "      <td>108.621494</td>\n",
       "      <td>16.000000</td>\n",
       "      <td>0.511045</td>\n",
       "      <td>6805.800000</td>\n",
       "      <td>213.101983</td>\n",
       "      <td>0.720000</td>\n",
       "      <td>0.040000</td>\n",
       "      <td>0.128044</td>\n",
       "      <td>2</td>\n",
       "    </tr>\n",
       "    <tr>\n",
       "      <th>Morgan</th>\n",
       "      <td>Top</td>\n",
       "      <td>OKSavingsBank BRION</td>\n",
       "      <td>5</td>\n",
       "      <td>1</td>\n",
       "      <td>4</td>\n",
       "      <td>0.200000</td>\n",
       "      <td>1.000000</td>\n",
       "      <td>2.000000</td>\n",
       "      <td>1.800000</td>\n",
       "      <td>1.400000</td>\n",
       "      <td>454.527062</td>\n",
       "      <td>279.400000</td>\n",
       "      <td>8.765762</td>\n",
       "      <td>11578.600000</td>\n",
       "      <td>362.896518</td>\n",
       "      <td>0.560000</td>\n",
       "      <td>0.200000</td>\n",
       "      <td>0.217839</td>\n",
       "      <td>2</td>\n",
       "    </tr>\n",
       "    <tr>\n",
       "      <th>Gumayusi</th>\n",
       "      <td>Bot</td>\n",
       "      <td>T1</td>\n",
       "      <td>3</td>\n",
       "      <td>2</td>\n",
       "      <td>1</td>\n",
       "      <td>0.666667</td>\n",
       "      <td>3.000000</td>\n",
       "      <td>0.000000</td>\n",
       "      <td>2.666667</td>\n",
       "      <td>17.000000</td>\n",
       "      <td>594.369320</td>\n",
       "      <td>350.333333</td>\n",
       "      <td>10.662305</td>\n",
       "      <td>15655.666667</td>\n",
       "      <td>481.195297</td>\n",
       "      <td>0.739130</td>\n",
       "      <td>0.391304</td>\n",
       "      <td>0.254148</td>\n",
       "      <td>2</td>\n",
       "    </tr>\n",
       "    <tr>\n",
       "      <th>Oner</th>\n",
       "      <td>Jungle</td>\n",
       "      <td>T1</td>\n",
       "      <td>3</td>\n",
       "      <td>2</td>\n",
       "      <td>1</td>\n",
       "      <td>0.666667</td>\n",
       "      <td>2.333333</td>\n",
       "      <td>1.333333</td>\n",
       "      <td>4.000000</td>\n",
       "      <td>4.750000</td>\n",
       "      <td>333.761757</td>\n",
       "      <td>198.333333</td>\n",
       "      <td>6.157231</td>\n",
       "      <td>11386.333333</td>\n",
       "      <td>354.223644</td>\n",
       "      <td>0.826087</td>\n",
       "      <td>0.304348</td>\n",
       "      <td>0.184841</td>\n",
       "      <td>3</td>\n",
       "    </tr>\n",
       "    <tr>\n",
       "      <th>Faker</th>\n",
       "      <td>Mid</td>\n",
       "      <td>T1</td>\n",
       "      <td>3</td>\n",
       "      <td>2</td>\n",
       "      <td>1</td>\n",
       "      <td>0.666667</td>\n",
       "      <td>1.666667</td>\n",
       "      <td>1.666667</td>\n",
       "      <td>5.000000</td>\n",
       "      <td>4.000000</td>\n",
       "      <td>531.540030</td>\n",
       "      <td>301.000000</td>\n",
       "      <td>8.981593</td>\n",
       "      <td>13811.000000</td>\n",
       "      <td>413.847005</td>\n",
       "      <td>0.869565</td>\n",
       "      <td>0.217391</td>\n",
       "      <td>0.224202</td>\n",
       "      <td>3</td>\n",
       "    </tr>\n",
       "    <tr>\n",
       "      <th>Keria</th>\n",
       "      <td>Support</td>\n",
       "      <td>T1</td>\n",
       "      <td>3</td>\n",
       "      <td>2</td>\n",
       "      <td>1</td>\n",
       "      <td>0.666667</td>\n",
       "      <td>0.333333</td>\n",
       "      <td>1.333333</td>\n",
       "      <td>6.333333</td>\n",
       "      <td>5.000000</td>\n",
       "      <td>61.108234</td>\n",
       "      <td>30.666667</td>\n",
       "      <td>0.839280</td>\n",
       "      <td>8347.333333</td>\n",
       "      <td>258.224139</td>\n",
       "      <td>0.869565</td>\n",
       "      <td>0.043478</td>\n",
       "      <td>0.135507</td>\n",
       "      <td>2</td>\n",
       "    </tr>\n",
       "    <tr>\n",
       "      <th>Zeus</th>\n",
       "      <td>Top</td>\n",
       "      <td>T1</td>\n",
       "      <td>3</td>\n",
       "      <td>2</td>\n",
       "      <td>1</td>\n",
       "      <td>0.666667</td>\n",
       "      <td>0.333333</td>\n",
       "      <td>3.000000</td>\n",
       "      <td>3.666667</td>\n",
       "      <td>1.333333</td>\n",
       "      <td>361.106190</td>\n",
       "      <td>287.333333</td>\n",
       "      <td>8.713877</td>\n",
       "      <td>12400.333333</td>\n",
       "      <td>374.714358</td>\n",
       "      <td>0.521739</td>\n",
       "      <td>0.043478</td>\n",
       "      <td>0.201302</td>\n",
       "      <td>2</td>\n",
       "    </tr>\n",
       "  </tbody>\n",
       "</table>\n",
       "</div>"
      ],
      "text/plain": [
       "          Position                 Team  Games  Win  Loss   WinRate     Kills   \n",
       "Player                                                                          \n",
       "Paduck         Bot                  DRX      2    0     2  0.000000  4.500000  \\\n",
       "Croco       Jungle                  DRX      2    0     2  0.000000  4.000000   \n",
       "Kyeahoo        Mid                  DRX      2    0     2  0.000000  1.000000   \n",
       "BeryL      Support                  DRX      2    0     2  0.000000  0.000000   \n",
       "Rascal         Top                  DRX      2    0     2  0.000000  1.000000   \n",
       "Deft           Bot            Dplus KIA      2    2     0  1.000000  5.000000   \n",
       "Canyon      Jungle            Dplus KIA      2    2     0  1.000000  2.000000   \n",
       "ShowMaker      Mid            Dplus KIA      2    2     0  1.000000  7.000000   \n",
       "Kellin     Support            Dplus KIA      2    2     0  1.000000  0.500000   \n",
       "Canna          Top            Dplus KIA      2    2     0  1.000000  2.000000   \n",
       "Peyz           Bot                Gen.G      3    2     1  0.666667  4.000000   \n",
       "Peanut      Jungle                Gen.G      3    2     1  0.666667  1.666667   \n",
       "Chovy          Mid                Gen.G      3    2     1  0.666667  2.000000   \n",
       "Delight    Support                Gen.G      3    2     1  0.666667  0.666667   \n",
       "Doran          Top                Gen.G      3    2     1  0.666667  1.000000   \n",
       "Viper          Bot  Hanwha Life Esports      6    2     4  0.333333  2.333333   \n",
       "Clid        Jungle  Hanwha Life Esports      6    2     4  0.333333  2.500000   \n",
       "Zeka           Mid  Hanwha Life Esports      6    2     4  0.333333  2.500000   \n",
       "Life       Support  Hanwha Life Esports      6    2     4  0.333333  0.500000   \n",
       "Kingen         Top  Hanwha Life Esports      6    2     4  0.333333  0.500000   \n",
       "Aiming         Bot           KT Rolster      6    3     3  0.500000  2.500000   \n",
       "Cuzz        Jungle           KT Rolster      6    3     3  0.500000  1.500000   \n",
       "Bdd            Mid           KT Rolster      6    3     3  0.500000  1.500000   \n",
       "Lehends    Support           KT Rolster      6    3     3  0.500000  0.666667   \n",
       "Kiin           Top           KT Rolster      6    3     3  0.500000  2.500000   \n",
       "Taeyoon        Bot     Kwangdong Freecs      4    4     0  1.000000  4.250000   \n",
       "YoungJae    Jungle     Kwangdong Freecs      4    4     0  1.000000  2.000000   \n",
       "BuLLDoG        Mid     Kwangdong Freecs      4    4     0  1.000000  2.500000   \n",
       "Jun        Support     Kwangdong Freecs      4    4     0  1.000000  0.250000   \n",
       "DuDu           Top     Kwangdong Freecs      4    4     0  1.000000  3.750000   \n",
       "Teddy          Bot         Liiv SANDBOX      4    2     2  0.500000  4.750000   \n",
       "Willer      Jungle         Liiv SANDBOX      4    2     2  0.500000  1.000000   \n",
       "Clozer         Mid         Liiv SANDBOX      4    2     2  0.500000  1.500000   \n",
       "Kael       Support         Liiv SANDBOX      4    2     2  0.500000  0.000000   \n",
       "Burdol         Top         Liiv SANDBOX      4    2     2  0.500000  1.500000   \n",
       "vital          Bot    Nongshim RedForce      5    2     3  0.400000  2.600000   \n",
       "Sylvie      Jungle    Nongshim RedForce      5    2     3  0.400000  1.200000   \n",
       "Quad           Mid    Nongshim RedForce      5    2     3  0.400000  1.200000   \n",
       "Peter      Support    Nongshim RedForce      5    2     3  0.400000  0.400000   \n",
       "DnDn           Top    Nongshim RedForce      5    2     3  0.400000  1.000000   \n",
       "Hena           Bot  OKSavingsBank BRION      5    1     4  0.200000  1.600000   \n",
       "UmTi        Jungle  OKSavingsBank BRION      5    1     4  0.200000  1.400000   \n",
       "Karis          Mid  OKSavingsBank BRION      5    1     4  0.200000  0.800000   \n",
       "Effort     Support  OKSavingsBank BRION      5    1     4  0.200000  0.200000   \n",
       "Morgan         Top  OKSavingsBank BRION      5    1     4  0.200000  1.000000   \n",
       "Gumayusi       Bot                   T1      3    2     1  0.666667  3.000000   \n",
       "Oner        Jungle                   T1      3    2     1  0.666667  2.333333   \n",
       "Faker          Mid                   T1      3    2     1  0.666667  1.666667   \n",
       "Keria      Support                   T1      3    2     1  0.666667  0.333333   \n",
       "Zeus           Top                   T1      3    2     1  0.666667  0.333333   \n",
       "\n",
       "             Deaths    Assists        KDA         DPM          CS       CSPM   \n",
       "Player                                                                         \n",
       "Paduck     4.500000   3.500000   1.777778  793.560986  310.000000   8.731239  \\\n",
       "Croco      3.500000   4.000000   2.285714  302.800707  213.500000   5.960021   \n",
       "Kyeahoo    2.500000   6.000000   2.800000  454.796600  278.500000   7.717359   \n",
       "BeryL      2.000000   9.500000   4.750000  382.269741    2.500000   0.075080   \n",
       "Rascal     3.500000   6.000000   2.000000  462.947256  258.000000   7.143991   \n",
       "Deft       2.000000   7.000000   6.000000  692.426897  278.000000   9.410698   \n",
       "Canyon     0.000000  11.500000  27.000000  342.301315  170.000000   5.754559   \n",
       "ShowMaker  0.000000   6.500000  27.000000  613.207563  248.500000   8.420706   \n",
       "Kellin     1.000000  15.000000  15.500000  121.308906   27.500000   0.929494   \n",
       "Canna      0.000000   6.000000  16.000000  421.635922  245.500000   8.312303   \n",
       "Peyz       1.000000   2.333333   6.333333  438.065772  250.666667   9.812563   \n",
       "Peanut     1.333333   5.333333   5.250000  315.095770  175.333333   6.804378   \n",
       "Chovy      1.000000   5.666667   7.666667  418.212653  255.666667  10.040908   \n",
       "Delight    1.666667   6.000000   4.000000  171.369116   21.333333   0.878286   \n",
       "Doran      2.333333   3.000000   1.714286  445.604185  208.666667   8.182866   \n",
       "Viper      1.500000   3.000000   3.555556  554.645597  332.500000  10.604812   \n",
       "Clid       2.500000   3.333333   2.333333  207.291874  183.500000   5.911041   \n",
       "Zeka       1.500000   3.666667   4.111111  383.402324  264.333333   8.354188   \n",
       "Life       2.166667   5.500000   2.769231  135.275132   16.333333   0.515572   \n",
       "Kingen     1.166667   4.666667   4.428571  345.730030  256.333333   8.251499   \n",
       "Aiming     1.666667   3.000000   3.300000  433.454306  272.500000   9.964691   \n",
       "Cuzz       2.833333   5.333333   2.411765  289.681928  151.833333   5.539170   \n",
       "Bdd        1.000000   4.833333   6.333333  455.446186  241.166667   8.795973   \n",
       "Lehends    1.666667   6.000000   4.000000  134.663939   19.500000   0.720567   \n",
       "Kiin       2.333333   3.000000   2.357143  392.190976  227.666667   8.223629   \n",
       "Taeyoon    1.750000   5.250000   5.428571  541.072809  327.750000   9.893001   \n",
       "YoungJae   1.000000   7.500000   9.500000  307.550312  190.500000   5.747844   \n",
       "BuLLDoG    2.000000   7.250000   4.875000  540.616741  314.500000   9.366057   \n",
       "Jun        2.000000   9.500000   4.875000  107.291207   43.000000   1.276584   \n",
       "DuDu       0.250000   5.000000  35.000000  641.789853  309.000000   9.301942   \n",
       "Teddy      1.750000   3.500000   4.714286  626.106104  290.500000  10.161549   \n",
       "Willer     2.500000   6.250000   2.900000  207.700078  155.250000   5.443881   \n",
       "Clozer     2.500000   4.750000   2.500000  413.152081  250.750000   8.767776   \n",
       "Kael       2.000000   7.750000   3.875000  124.241105   19.500000   0.682184   \n",
       "Burdol     1.500000   3.750000   3.500000  387.319851  221.500000   7.754558   \n",
       "vital      1.800000   2.200000   2.666667  497.443823  333.400000  10.887059   \n",
       "Sylvie     2.000000   2.000000   1.600000  192.431524  190.000000   6.182572   \n",
       "Quad       2.000000   2.800000   2.000000  332.585239  250.200000   8.167161   \n",
       "Peter      1.200000   4.600000   4.166667  187.986268    9.200000   0.317393   \n",
       "DnDn       2.600000   2.600000   1.384615  529.288680  249.400000   8.152738   \n",
       "Hena       1.400000   1.600000   2.285714  597.480454  325.000000  10.166141   \n",
       "UmTi       1.800000   2.600000   2.222222  208.780045  182.000000   5.707811   \n",
       "Karis      1.600000   2.800000   2.250000  367.504823  268.400000   8.417975   \n",
       "Effort     1.800000   3.400000   2.000000  108.621494   16.000000   0.511045   \n",
       "Morgan     2.000000   1.800000   1.400000  454.527062  279.400000   8.765762   \n",
       "Gumayusi   0.000000   2.666667  17.000000  594.369320  350.333333  10.662305   \n",
       "Oner       1.333333   4.000000   4.750000  333.761757  198.333333   6.157231   \n",
       "Faker      1.666667   5.000000   4.000000  531.540030  301.000000   8.981593   \n",
       "Keria      1.333333   6.333333   5.000000   61.108234   30.666667   0.839280   \n",
       "Zeus       3.000000   3.666667   1.333333  361.106190  287.333333   8.713877   \n",
       "\n",
       "                   Gold         GPM        KP        KS        GS   \n",
       "Player                                                              \n",
       "Paduck     14903.500000  408.003510  0.761905  0.428571  0.255247  \\\n",
       "Croco      12574.000000  344.711923  0.761905  0.380952  0.215351   \n",
       "Kyeahoo    11799.500000  324.169588  0.666667  0.095238  0.202086   \n",
       "BeryL       7355.500000  202.457605  0.904762  0.000000  0.125975   \n",
       "Rascal     11756.000000  324.138401  0.666667  0.095238  0.201341   \n",
       "Deft       15598.500000  528.013309  0.727273  0.303030  0.260196   \n",
       "Canyon     10895.500000  368.981049  0.818182  0.121212  0.181746   \n",
       "ShowMaker  13029.000000  441.441750  0.818182  0.424242  0.217335   \n",
       "Kellin      8138.000000  275.615400  0.939394  0.030303  0.135749   \n",
       "Canna      12288.000000  416.099461  0.484848  0.121212  0.204974   \n",
       "Peyz       12134.000000  476.782013  0.678571  0.428571  0.246281   \n",
       "Peanut      9730.333333  380.745975  0.750000  0.178571  0.197494   \n",
       "Chovy      10956.666667  429.745439  0.821429  0.214286  0.222385   \n",
       "Delight     6313.333333  246.987860  0.714286  0.071429  0.128140   \n",
       "Doran      10134.666667  397.047497  0.428571  0.107143  0.205701   \n",
       "Viper      13800.333333  437.462026  0.640000  0.280000  0.254380   \n",
       "Clid       10648.833333  338.591773  0.700000  0.300000  0.196289   \n",
       "Zeka       11755.666667  367.780203  0.740000  0.300000  0.216691   \n",
       "Life        6832.833333  217.809675  0.720000  0.060000  0.125949   \n",
       "Kingen     11213.166667  359.681375  0.620000  0.060000  0.206691   \n",
       "Aiming     12191.333333  447.570174  0.634615  0.288462  0.250628   \n",
       "Cuzz        8940.833333  325.690401  0.788462  0.173077  0.183805   \n",
       "Bdd        10615.666667  387.662383  0.730769  0.173077  0.218236   \n",
       "Lehends     6452.833333  235.593006  0.769231  0.076923  0.132657   \n",
       "Kiin       10442.500000  381.045568  0.634615  0.288462  0.214676   \n",
       "Taeyoon    15350.500000  464.595638  0.745098  0.333333  0.240487   \n",
       "YoungJae   11361.500000  338.166132  0.745098  0.156863  0.177993   \n",
       "BuLLDoG    14737.000000  443.533556  0.764706  0.196078  0.230875   \n",
       "Jun         8164.000000  244.490687  0.764706  0.019608  0.127900   \n",
       "DuDu       14218.000000  422.113769  0.686275  0.294118  0.222744   \n",
       "Teddy      12912.250000  453.095109  0.942857  0.542857  0.259195   \n",
       "Willer      9428.750000  331.121747  0.828571  0.114286  0.189269   \n",
       "Clozer     10841.500000  380.107784  0.714286  0.171429  0.217628   \n",
       "Kael        6472.000000  227.038812  0.885714  0.000000  0.129916   \n",
       "Burdol     10162.250000  356.340119  0.600000  0.171429  0.203993   \n",
       "vital      13691.200000  447.006287  0.750000  0.406250  0.262774   \n",
       "Sylvie     10053.000000  327.565488  0.500000  0.187500  0.192946   \n",
       "Quad       10919.600000  356.590519  0.625000  0.187500  0.209579   \n",
       "Peter       6631.400000  217.729232  0.781250  0.062500  0.127276   \n",
       "DnDn       10807.400000  353.476647  0.562500  0.156250  0.207425   \n",
       "Hena       13516.800000  423.339460  0.640000  0.320000  0.254305   \n",
       "UmTi       10082.600000  316.348172  0.800000  0.280000  0.189694   \n",
       "Karis      11168.200000  349.739899  0.720000  0.160000  0.210118   \n",
       "Effort      6805.800000  213.101983  0.720000  0.040000  0.128044   \n",
       "Morgan     11578.600000  362.896518  0.560000  0.200000  0.217839   \n",
       "Gumayusi   15655.666667  481.195297  0.739130  0.391304  0.254148   \n",
       "Oner       11386.333333  354.223644  0.826087  0.304348  0.184841   \n",
       "Faker      13811.000000  413.847005  0.869565  0.217391  0.224202   \n",
       "Keria       8347.333333  258.224139  0.869565  0.043478  0.135507   \n",
       "Zeus       12400.333333  374.714358  0.521739  0.043478  0.201302   \n",
       "\n",
       "           ChampionsPlayed  \n",
       "Player                      \n",
       "Paduck                   1  \n",
       "Croco                    2  \n",
       "Kyeahoo                  1  \n",
       "BeryL                    1  \n",
       "Rascal                   1  \n",
       "Deft                     2  \n",
       "Canyon                   2  \n",
       "ShowMaker                2  \n",
       "Kellin                   2  \n",
       "Canna                    2  \n",
       "Peyz                     2  \n",
       "Peanut                   3  \n",
       "Chovy                    2  \n",
       "Delight                  3  \n",
       "Doran                    2  \n",
       "Viper                    3  \n",
       "Clid                     3  \n",
       "Zeka                     2  \n",
       "Life                     5  \n",
       "Kingen                   4  \n",
       "Aiming                   3  \n",
       "Cuzz                     4  \n",
       "Bdd                      3  \n",
       "Lehends                  4  \n",
       "Kiin                     6  \n",
       "Taeyoon                  3  \n",
       "YoungJae                 3  \n",
       "BuLLDoG                  3  \n",
       "Jun                      3  \n",
       "DuDu                     4  \n",
       "Teddy                    4  \n",
       "Willer                   4  \n",
       "Clozer                   4  \n",
       "Kael                     3  \n",
       "Burdol                   4  \n",
       "vital                    4  \n",
       "Sylvie                   3  \n",
       "Quad                     2  \n",
       "Peter                    3  \n",
       "DnDn                     4  \n",
       "Hena                     2  \n",
       "UmTi                     4  \n",
       "Karis                    3  \n",
       "Effort                   2  \n",
       "Morgan                   2  \n",
       "Gumayusi                 2  \n",
       "Oner                     3  \n",
       "Faker                    3  \n",
       "Keria                    2  \n",
       "Zeus                     2  "
      ]
     },
     "execution_count": 18,
     "metadata": {},
     "output_type": "execute_result"
    }
   ],
   "source": [
    "players_stats = pd.read_csv(\"./csv/stats/players_by_position.csv\", index_col=\"Player\")\n",
    "players_stats"
   ]
  },
  {
   "cell_type": "code",
   "execution_count": 19,
   "metadata": {},
   "outputs": [],
   "source": [
    "columns = [\n",
    "    \"_KDA\",\n",
    "    \"_DPM\",\n",
    "    \"_CSPM\",\n",
    "    \"_Gold\",\n",
    "    \"_GPM\",\n",
    "    \"_KP\",\n",
    "    \"_KS\",\n",
    "    \"_GS\",\n",
    "    \"_ChampionsPlayed\",\n",
    "]\n",
    "origin_columns = [col[1:] for col in columns]\n",
    "positions = [\"Top\", \"Jungle\", \"Mid\", \"Bot\", \"Support\"]"
   ]
  },
  {
   "cell_type": "code",
   "execution_count": 20,
   "metadata": {},
   "outputs": [
    {
     "data": {
      "text/html": [
       "<div>\n",
       "<style scoped>\n",
       "    .dataframe tbody tr th:only-of-type {\n",
       "        vertical-align: middle;\n",
       "    }\n",
       "\n",
       "    .dataframe tbody tr th {\n",
       "        vertical-align: top;\n",
       "    }\n",
       "\n",
       "    .dataframe thead th {\n",
       "        text-align: right;\n",
       "    }\n",
       "</style>\n",
       "<table border=\"1\" class=\"dataframe\">\n",
       "  <thead>\n",
       "    <tr style=\"text-align: right;\">\n",
       "      <th></th>\n",
       "      <th>Position</th>\n",
       "      <th>Team</th>\n",
       "      <th>Games</th>\n",
       "      <th>Win</th>\n",
       "      <th>Loss</th>\n",
       "      <th>WinRate</th>\n",
       "      <th>Kills</th>\n",
       "      <th>Deaths</th>\n",
       "      <th>Assists</th>\n",
       "      <th>KDA</th>\n",
       "      <th>DPM</th>\n",
       "      <th>CS</th>\n",
       "      <th>CSPM</th>\n",
       "      <th>Gold</th>\n",
       "      <th>GPM</th>\n",
       "      <th>KP</th>\n",
       "      <th>KS</th>\n",
       "      <th>GS</th>\n",
       "      <th>ChampionsPlayed</th>\n",
       "    </tr>\n",
       "    <tr>\n",
       "      <th>Player</th>\n",
       "      <th></th>\n",
       "      <th></th>\n",
       "      <th></th>\n",
       "      <th></th>\n",
       "      <th></th>\n",
       "      <th></th>\n",
       "      <th></th>\n",
       "      <th></th>\n",
       "      <th></th>\n",
       "      <th></th>\n",
       "      <th></th>\n",
       "      <th></th>\n",
       "      <th></th>\n",
       "      <th></th>\n",
       "      <th></th>\n",
       "      <th></th>\n",
       "      <th></th>\n",
       "      <th></th>\n",
       "      <th></th>\n",
       "    </tr>\n",
       "  </thead>\n",
       "  <tbody>\n",
       "    <tr>\n",
       "      <th>Rascal</th>\n",
       "      <td>Top</td>\n",
       "      <td>DRX</td>\n",
       "      <td>2</td>\n",
       "      <td>0</td>\n",
       "      <td>2</td>\n",
       "      <td>0.000000</td>\n",
       "      <td>1.000000</td>\n",
       "      <td>3.500000</td>\n",
       "      <td>6.000000</td>\n",
       "      <td>2.000000</td>\n",
       "      <td>462.947256</td>\n",
       "      <td>258.000000</td>\n",
       "      <td>7.143991</td>\n",
       "      <td>11756.000000</td>\n",
       "      <td>324.138401</td>\n",
       "      <td>0.666667</td>\n",
       "      <td>0.095238</td>\n",
       "      <td>0.201341</td>\n",
       "      <td>1</td>\n",
       "    </tr>\n",
       "    <tr>\n",
       "      <th>Canna</th>\n",
       "      <td>Top</td>\n",
       "      <td>Dplus KIA</td>\n",
       "      <td>2</td>\n",
       "      <td>2</td>\n",
       "      <td>0</td>\n",
       "      <td>1.000000</td>\n",
       "      <td>2.000000</td>\n",
       "      <td>0.000000</td>\n",
       "      <td>6.000000</td>\n",
       "      <td>16.000000</td>\n",
       "      <td>421.635922</td>\n",
       "      <td>245.500000</td>\n",
       "      <td>8.312303</td>\n",
       "      <td>12288.000000</td>\n",
       "      <td>416.099461</td>\n",
       "      <td>0.484848</td>\n",
       "      <td>0.121212</td>\n",
       "      <td>0.204974</td>\n",
       "      <td>2</td>\n",
       "    </tr>\n",
       "    <tr>\n",
       "      <th>Doran</th>\n",
       "      <td>Top</td>\n",
       "      <td>Gen.G</td>\n",
       "      <td>3</td>\n",
       "      <td>2</td>\n",
       "      <td>1</td>\n",
       "      <td>0.666667</td>\n",
       "      <td>1.000000</td>\n",
       "      <td>2.333333</td>\n",
       "      <td>3.000000</td>\n",
       "      <td>1.714286</td>\n",
       "      <td>445.604185</td>\n",
       "      <td>208.666667</td>\n",
       "      <td>8.182866</td>\n",
       "      <td>10134.666667</td>\n",
       "      <td>397.047497</td>\n",
       "      <td>0.428571</td>\n",
       "      <td>0.107143</td>\n",
       "      <td>0.205701</td>\n",
       "      <td>2</td>\n",
       "    </tr>\n",
       "    <tr>\n",
       "      <th>Kingen</th>\n",
       "      <td>Top</td>\n",
       "      <td>Hanwha Life Esports</td>\n",
       "      <td>6</td>\n",
       "      <td>2</td>\n",
       "      <td>4</td>\n",
       "      <td>0.333333</td>\n",
       "      <td>0.500000</td>\n",
       "      <td>1.166667</td>\n",
       "      <td>4.666667</td>\n",
       "      <td>4.428571</td>\n",
       "      <td>345.730030</td>\n",
       "      <td>256.333333</td>\n",
       "      <td>8.251499</td>\n",
       "      <td>11213.166667</td>\n",
       "      <td>359.681375</td>\n",
       "      <td>0.620000</td>\n",
       "      <td>0.060000</td>\n",
       "      <td>0.206691</td>\n",
       "      <td>4</td>\n",
       "    </tr>\n",
       "    <tr>\n",
       "      <th>Kiin</th>\n",
       "      <td>Top</td>\n",
       "      <td>KT Rolster</td>\n",
       "      <td>6</td>\n",
       "      <td>3</td>\n",
       "      <td>3</td>\n",
       "      <td>0.500000</td>\n",
       "      <td>2.500000</td>\n",
       "      <td>2.333333</td>\n",
       "      <td>3.000000</td>\n",
       "      <td>2.357143</td>\n",
       "      <td>392.190976</td>\n",
       "      <td>227.666667</td>\n",
       "      <td>8.223629</td>\n",
       "      <td>10442.500000</td>\n",
       "      <td>381.045568</td>\n",
       "      <td>0.634615</td>\n",
       "      <td>0.288462</td>\n",
       "      <td>0.214676</td>\n",
       "      <td>6</td>\n",
       "    </tr>\n",
       "    <tr>\n",
       "      <th>DuDu</th>\n",
       "      <td>Top</td>\n",
       "      <td>Kwangdong Freecs</td>\n",
       "      <td>4</td>\n",
       "      <td>4</td>\n",
       "      <td>0</td>\n",
       "      <td>1.000000</td>\n",
       "      <td>3.750000</td>\n",
       "      <td>0.250000</td>\n",
       "      <td>5.000000</td>\n",
       "      <td>35.000000</td>\n",
       "      <td>641.789853</td>\n",
       "      <td>309.000000</td>\n",
       "      <td>9.301942</td>\n",
       "      <td>14218.000000</td>\n",
       "      <td>422.113769</td>\n",
       "      <td>0.686275</td>\n",
       "      <td>0.294118</td>\n",
       "      <td>0.222744</td>\n",
       "      <td>4</td>\n",
       "    </tr>\n",
       "    <tr>\n",
       "      <th>Burdol</th>\n",
       "      <td>Top</td>\n",
       "      <td>Liiv SANDBOX</td>\n",
       "      <td>4</td>\n",
       "      <td>2</td>\n",
       "      <td>2</td>\n",
       "      <td>0.500000</td>\n",
       "      <td>1.500000</td>\n",
       "      <td>1.500000</td>\n",
       "      <td>3.750000</td>\n",
       "      <td>3.500000</td>\n",
       "      <td>387.319851</td>\n",
       "      <td>221.500000</td>\n",
       "      <td>7.754558</td>\n",
       "      <td>10162.250000</td>\n",
       "      <td>356.340119</td>\n",
       "      <td>0.600000</td>\n",
       "      <td>0.171429</td>\n",
       "      <td>0.203993</td>\n",
       "      <td>4</td>\n",
       "    </tr>\n",
       "    <tr>\n",
       "      <th>DnDn</th>\n",
       "      <td>Top</td>\n",
       "      <td>Nongshim RedForce</td>\n",
       "      <td>5</td>\n",
       "      <td>2</td>\n",
       "      <td>3</td>\n",
       "      <td>0.400000</td>\n",
       "      <td>1.000000</td>\n",
       "      <td>2.600000</td>\n",
       "      <td>2.600000</td>\n",
       "      <td>1.384615</td>\n",
       "      <td>529.288680</td>\n",
       "      <td>249.400000</td>\n",
       "      <td>8.152738</td>\n",
       "      <td>10807.400000</td>\n",
       "      <td>353.476647</td>\n",
       "      <td>0.562500</td>\n",
       "      <td>0.156250</td>\n",
       "      <td>0.207425</td>\n",
       "      <td>4</td>\n",
       "    </tr>\n",
       "    <tr>\n",
       "      <th>Morgan</th>\n",
       "      <td>Top</td>\n",
       "      <td>OKSavingsBank BRION</td>\n",
       "      <td>5</td>\n",
       "      <td>1</td>\n",
       "      <td>4</td>\n",
       "      <td>0.200000</td>\n",
       "      <td>1.000000</td>\n",
       "      <td>2.000000</td>\n",
       "      <td>1.800000</td>\n",
       "      <td>1.400000</td>\n",
       "      <td>454.527062</td>\n",
       "      <td>279.400000</td>\n",
       "      <td>8.765762</td>\n",
       "      <td>11578.600000</td>\n",
       "      <td>362.896518</td>\n",
       "      <td>0.560000</td>\n",
       "      <td>0.200000</td>\n",
       "      <td>0.217839</td>\n",
       "      <td>2</td>\n",
       "    </tr>\n",
       "    <tr>\n",
       "      <th>Zeus</th>\n",
       "      <td>Top</td>\n",
       "      <td>T1</td>\n",
       "      <td>3</td>\n",
       "      <td>2</td>\n",
       "      <td>1</td>\n",
       "      <td>0.666667</td>\n",
       "      <td>0.333333</td>\n",
       "      <td>3.000000</td>\n",
       "      <td>3.666667</td>\n",
       "      <td>1.333333</td>\n",
       "      <td>361.106190</td>\n",
       "      <td>287.333333</td>\n",
       "      <td>8.713877</td>\n",
       "      <td>12400.333333</td>\n",
       "      <td>374.714358</td>\n",
       "      <td>0.521739</td>\n",
       "      <td>0.043478</td>\n",
       "      <td>0.201302</td>\n",
       "      <td>2</td>\n",
       "    </tr>\n",
       "  </tbody>\n",
       "</table>\n",
       "</div>"
      ],
      "text/plain": [
       "       Position                 Team  Games  Win  Loss   WinRate     Kills   \n",
       "Player                                                                       \n",
       "Rascal      Top                  DRX      2    0     2  0.000000  1.000000  \\\n",
       "Canna       Top            Dplus KIA      2    2     0  1.000000  2.000000   \n",
       "Doran       Top                Gen.G      3    2     1  0.666667  1.000000   \n",
       "Kingen      Top  Hanwha Life Esports      6    2     4  0.333333  0.500000   \n",
       "Kiin        Top           KT Rolster      6    3     3  0.500000  2.500000   \n",
       "DuDu        Top     Kwangdong Freecs      4    4     0  1.000000  3.750000   \n",
       "Burdol      Top         Liiv SANDBOX      4    2     2  0.500000  1.500000   \n",
       "DnDn        Top    Nongshim RedForce      5    2     3  0.400000  1.000000   \n",
       "Morgan      Top  OKSavingsBank BRION      5    1     4  0.200000  1.000000   \n",
       "Zeus        Top                   T1      3    2     1  0.666667  0.333333   \n",
       "\n",
       "          Deaths   Assists        KDA         DPM          CS      CSPM   \n",
       "Player                                                                    \n",
       "Rascal  3.500000  6.000000   2.000000  462.947256  258.000000  7.143991  \\\n",
       "Canna   0.000000  6.000000  16.000000  421.635922  245.500000  8.312303   \n",
       "Doran   2.333333  3.000000   1.714286  445.604185  208.666667  8.182866   \n",
       "Kingen  1.166667  4.666667   4.428571  345.730030  256.333333  8.251499   \n",
       "Kiin    2.333333  3.000000   2.357143  392.190976  227.666667  8.223629   \n",
       "DuDu    0.250000  5.000000  35.000000  641.789853  309.000000  9.301942   \n",
       "Burdol  1.500000  3.750000   3.500000  387.319851  221.500000  7.754558   \n",
       "DnDn    2.600000  2.600000   1.384615  529.288680  249.400000  8.152738   \n",
       "Morgan  2.000000  1.800000   1.400000  454.527062  279.400000  8.765762   \n",
       "Zeus    3.000000  3.666667   1.333333  361.106190  287.333333  8.713877   \n",
       "\n",
       "                Gold         GPM        KP        KS        GS   \n",
       "Player                                                           \n",
       "Rascal  11756.000000  324.138401  0.666667  0.095238  0.201341  \\\n",
       "Canna   12288.000000  416.099461  0.484848  0.121212  0.204974   \n",
       "Doran   10134.666667  397.047497  0.428571  0.107143  0.205701   \n",
       "Kingen  11213.166667  359.681375  0.620000  0.060000  0.206691   \n",
       "Kiin    10442.500000  381.045568  0.634615  0.288462  0.214676   \n",
       "DuDu    14218.000000  422.113769  0.686275  0.294118  0.222744   \n",
       "Burdol  10162.250000  356.340119  0.600000  0.171429  0.203993   \n",
       "DnDn    10807.400000  353.476647  0.562500  0.156250  0.207425   \n",
       "Morgan  11578.600000  362.896518  0.560000  0.200000  0.217839   \n",
       "Zeus    12400.333333  374.714358  0.521739  0.043478  0.201302   \n",
       "\n",
       "        ChampionsPlayed  \n",
       "Player                   \n",
       "Rascal                1  \n",
       "Canna                 2  \n",
       "Doran                 2  \n",
       "Kingen                4  \n",
       "Kiin                  6  \n",
       "DuDu                  4  \n",
       "Burdol                4  \n",
       "DnDn                  4  \n",
       "Morgan                2  \n",
       "Zeus                  2  "
      ]
     },
     "execution_count": 20,
     "metadata": {},
     "output_type": "execute_result"
    }
   ],
   "source": []
  },
  {
   "cell_type": "code",
   "execution_count": 23,
   "metadata": {},
   "outputs": [
    {
     "data": {
      "text/html": [
       "<div>\n",
       "<style scoped>\n",
       "    .dataframe tbody tr th:only-of-type {\n",
       "        vertical-align: middle;\n",
       "    }\n",
       "\n",
       "    .dataframe tbody tr th {\n",
       "        vertical-align: top;\n",
       "    }\n",
       "\n",
       "    .dataframe thead th {\n",
       "        text-align: right;\n",
       "    }\n",
       "</style>\n",
       "<table border=\"1\" class=\"dataframe\">\n",
       "  <thead>\n",
       "    <tr style=\"text-align: right;\">\n",
       "      <th></th>\n",
       "      <th>Position</th>\n",
       "      <th>Team</th>\n",
       "      <th>Games</th>\n",
       "      <th>Win</th>\n",
       "      <th>Loss</th>\n",
       "      <th>WinRate</th>\n",
       "      <th>Kills</th>\n",
       "      <th>Deaths</th>\n",
       "      <th>Assists</th>\n",
       "      <th>KDA</th>\n",
       "      <th>DPM</th>\n",
       "      <th>CS</th>\n",
       "      <th>CSPM</th>\n",
       "      <th>Gold</th>\n",
       "      <th>GPM</th>\n",
       "      <th>KP</th>\n",
       "      <th>KS</th>\n",
       "      <th>GS</th>\n",
       "      <th>ChampionsPlayed</th>\n",
       "      <th>_KDA</th>\n",
       "      <th>_DPM</th>\n",
       "      <th>_CSPM</th>\n",
       "      <th>_Gold</th>\n",
       "      <th>_GPM</th>\n",
       "      <th>_KP</th>\n",
       "      <th>_KS</th>\n",
       "      <th>_GS</th>\n",
       "      <th>_ChampionsPlayed</th>\n",
       "    </tr>\n",
       "    <tr>\n",
       "      <th>Player</th>\n",
       "      <th></th>\n",
       "      <th></th>\n",
       "      <th></th>\n",
       "      <th></th>\n",
       "      <th></th>\n",
       "      <th></th>\n",
       "      <th></th>\n",
       "      <th></th>\n",
       "      <th></th>\n",
       "      <th></th>\n",
       "      <th></th>\n",
       "      <th></th>\n",
       "      <th></th>\n",
       "      <th></th>\n",
       "      <th></th>\n",
       "      <th></th>\n",
       "      <th></th>\n",
       "      <th></th>\n",
       "      <th></th>\n",
       "      <th></th>\n",
       "      <th></th>\n",
       "      <th></th>\n",
       "      <th></th>\n",
       "      <th></th>\n",
       "      <th></th>\n",
       "      <th></th>\n",
       "      <th></th>\n",
       "      <th></th>\n",
       "    </tr>\n",
       "  </thead>\n",
       "  <tbody>\n",
       "    <tr>\n",
       "      <th>Paduck</th>\n",
       "      <td>Bot</td>\n",
       "      <td>DRX</td>\n",
       "      <td>2</td>\n",
       "      <td>0</td>\n",
       "      <td>2</td>\n",
       "      <td>0.000000</td>\n",
       "      <td>4.500000</td>\n",
       "      <td>4.500000</td>\n",
       "      <td>3.500000</td>\n",
       "      <td>1.777778</td>\n",
       "      <td>793.560986</td>\n",
       "      <td>310.000000</td>\n",
       "      <td>8.731239</td>\n",
       "      <td>14903.500000</td>\n",
       "      <td>408.003510</td>\n",
       "      <td>0.761905</td>\n",
       "      <td>0.428571</td>\n",
       "      <td>0.255247</td>\n",
       "      <td>1</td>\n",
       "      <td>-0.845201</td>\n",
       "      <td>2.053279</td>\n",
       "      <td>-2.151327</td>\n",
       "      <td>0.728376</td>\n",
       "      <td>-1.525248</td>\n",
       "      <td>0.415717</td>\n",
       "      <td>0.718125</td>\n",
       "      <td>0.235345</td>\n",
       "      <td>-1.745743</td>\n",
       "    </tr>\n",
       "    <tr>\n",
       "      <th>Croco</th>\n",
       "      <td>Jungle</td>\n",
       "      <td>DRX</td>\n",
       "      <td>2</td>\n",
       "      <td>0</td>\n",
       "      <td>2</td>\n",
       "      <td>0.000000</td>\n",
       "      <td>4.000000</td>\n",
       "      <td>3.500000</td>\n",
       "      <td>4.000000</td>\n",
       "      <td>2.285714</td>\n",
       "      <td>302.800707</td>\n",
       "      <td>213.500000</td>\n",
       "      <td>5.960021</td>\n",
       "      <td>12574.000000</td>\n",
       "      <td>344.711923</td>\n",
       "      <td>0.761905</td>\n",
       "      <td>0.380952</td>\n",
       "      <td>0.215351</td>\n",
       "      <td>2</td>\n",
       "      <td>-0.509495</td>\n",
       "      <td>0.568789</td>\n",
       "      <td>0.105336</td>\n",
       "      <td>2.009146</td>\n",
       "      <td>0.109639</td>\n",
       "      <td>0.108809</td>\n",
       "      <td>1.888647</td>\n",
       "      <td>2.421414</td>\n",
       "      <td>-1.571429</td>\n",
       "    </tr>\n",
       "    <tr>\n",
       "      <th>Kyeahoo</th>\n",
       "      <td>Mid</td>\n",
       "      <td>DRX</td>\n",
       "      <td>2</td>\n",
       "      <td>0</td>\n",
       "      <td>2</td>\n",
       "      <td>0.000000</td>\n",
       "      <td>1.000000</td>\n",
       "      <td>2.500000</td>\n",
       "      <td>6.000000</td>\n",
       "      <td>2.800000</td>\n",
       "      <td>454.796600</td>\n",
       "      <td>278.500000</td>\n",
       "      <td>7.717359</td>\n",
       "      <td>11799.500000</td>\n",
       "      <td>324.169588</td>\n",
       "      <td>0.666667</td>\n",
       "      <td>0.095238</td>\n",
       "      <td>0.202086</td>\n",
       "      <td>1</td>\n",
       "      <td>-0.500546</td>\n",
       "      <td>0.045169</td>\n",
       "      <td>-1.586128</td>\n",
       "      <td>-0.121736</td>\n",
       "      <td>-1.667848</td>\n",
       "      <td>-1.143923</td>\n",
       "      <td>-1.387783</td>\n",
       "      <td>-1.913723</td>\n",
       "      <td>-1.860521</td>\n",
       "    </tr>\n",
       "    <tr>\n",
       "      <th>BeryL</th>\n",
       "      <td>Support</td>\n",
       "      <td>DRX</td>\n",
       "      <td>2</td>\n",
       "      <td>0</td>\n",
       "      <td>2</td>\n",
       "      <td>0.000000</td>\n",
       "      <td>0.000000</td>\n",
       "      <td>2.000000</td>\n",
       "      <td>9.500000</td>\n",
       "      <td>4.750000</td>\n",
       "      <td>382.269741</td>\n",
       "      <td>2.500000</td>\n",
       "      <td>0.075080</td>\n",
       "      <td>7355.500000</td>\n",
       "      <td>202.457605</td>\n",
       "      <td>0.904762</td>\n",
       "      <td>0.000000</td>\n",
       "      <td>0.125975</td>\n",
       "      <td>1</td>\n",
       "      <td>-0.095970</td>\n",
       "      <td>2.752932</td>\n",
       "      <td>-1.861386</td>\n",
       "      <td>0.272531</td>\n",
       "      <td>-1.465151</td>\n",
       "      <td>1.215738</td>\n",
       "      <td>-1.530349</td>\n",
       "      <td>-1.072587</td>\n",
       "      <td>-1.671258</td>\n",
       "    </tr>\n",
       "    <tr>\n",
       "      <th>Rascal</th>\n",
       "      <td>Top</td>\n",
       "      <td>DRX</td>\n",
       "      <td>2</td>\n",
       "      <td>0</td>\n",
       "      <td>2</td>\n",
       "      <td>0.000000</td>\n",
       "      <td>1.000000</td>\n",
       "      <td>3.500000</td>\n",
       "      <td>6.000000</td>\n",
       "      <td>2.000000</td>\n",
       "      <td>462.947256</td>\n",
       "      <td>258.000000</td>\n",
       "      <td>7.143991</td>\n",
       "      <td>11756.000000</td>\n",
       "      <td>324.138401</td>\n",
       "      <td>0.666667</td>\n",
       "      <td>0.095238</td>\n",
       "      <td>0.201341</td>\n",
       "      <td>1</td>\n",
       "      <td>-0.478594</td>\n",
       "      <td>0.224238</td>\n",
       "      <td>-2.052236</td>\n",
       "      <td>0.214566</td>\n",
       "      <td>-1.766491</td>\n",
       "      <td>1.166179</td>\n",
       "      <td>-0.709815</td>\n",
       "      <td>-1.062024</td>\n",
       "      <td>-1.452600</td>\n",
       "    </tr>\n",
       "    <tr>\n",
       "      <th>Deft</th>\n",
       "      <td>Bot</td>\n",
       "      <td>Dplus KIA</td>\n",
       "      <td>2</td>\n",
       "      <td>2</td>\n",
       "      <td>0</td>\n",
       "      <td>1.000000</td>\n",
       "      <td>5.000000</td>\n",
       "      <td>2.000000</td>\n",
       "      <td>7.000000</td>\n",
       "      <td>6.000000</td>\n",
       "      <td>692.426897</td>\n",
       "      <td>278.000000</td>\n",
       "      <td>9.410698</td>\n",
       "      <td>15598.500000</td>\n",
       "      <td>528.013309</td>\n",
       "      <td>0.727273</td>\n",
       "      <td>0.303030</td>\n",
       "      <td>0.260196</td>\n",
       "      <td>2</td>\n",
       "      <td>0.166196</td>\n",
       "      <td>1.095004</td>\n",
       "      <td>-1.025324</td>\n",
       "      <td>1.273819</td>\n",
       "      <td>2.233156</td>\n",
       "      <td>0.015349</td>\n",
       "      <td>-0.882241</td>\n",
       "      <td>1.020612</td>\n",
       "      <td>-0.654654</td>\n",
       "    </tr>\n",
       "    <tr>\n",
       "      <th>Canyon</th>\n",
       "      <td>Jungle</td>\n",
       "      <td>Dplus KIA</td>\n",
       "      <td>2</td>\n",
       "      <td>2</td>\n",
       "      <td>0</td>\n",
       "      <td>1.000000</td>\n",
       "      <td>2.000000</td>\n",
       "      <td>0.000000</td>\n",
       "      <td>11.500000</td>\n",
       "      <td>27.000000</td>\n",
       "      <td>342.301315</td>\n",
       "      <td>170.000000</td>\n",
       "      <td>5.754559</td>\n",
       "      <td>10895.500000</td>\n",
       "      <td>368.981049</td>\n",
       "      <td>0.818182</td>\n",
       "      <td>0.121212</td>\n",
       "      <td>0.181746</td>\n",
       "      <td>2</td>\n",
       "      <td>2.857668</td>\n",
       "      <td>1.269560</td>\n",
       "      <td>-0.447194</td>\n",
       "      <td>0.375121</td>\n",
       "      <td>1.378337</td>\n",
       "      <td>0.716640</td>\n",
       "      <td>-1.153166</td>\n",
       "      <td>-0.912357</td>\n",
       "      <td>-1.571429</td>\n",
       "    </tr>\n",
       "    <tr>\n",
       "      <th>ShowMaker</th>\n",
       "      <td>Mid</td>\n",
       "      <td>Dplus KIA</td>\n",
       "      <td>2</td>\n",
       "      <td>2</td>\n",
       "      <td>0</td>\n",
       "      <td>1.000000</td>\n",
       "      <td>7.000000</td>\n",
       "      <td>0.000000</td>\n",
       "      <td>6.500000</td>\n",
       "      <td>27.000000</td>\n",
       "      <td>613.207563</td>\n",
       "      <td>248.500000</td>\n",
       "      <td>8.420706</td>\n",
       "      <td>13029.000000</td>\n",
       "      <td>441.441750</td>\n",
       "      <td>0.818182</td>\n",
       "      <td>0.424242</td>\n",
       "      <td>0.217335</td>\n",
       "      <td>2</td>\n",
       "      <td>2.908160</td>\n",
       "      <td>1.953129</td>\n",
       "      <td>-0.454242</td>\n",
       "      <td>0.791579</td>\n",
       "      <td>1.327794</td>\n",
       "      <td>1.011989</td>\n",
       "      <td>2.459228</td>\n",
       "      <td>0.054383</td>\n",
       "      <td>-0.620174</td>\n",
       "    </tr>\n",
       "    <tr>\n",
       "      <th>Kellin</th>\n",
       "      <td>Support</td>\n",
       "      <td>Dplus KIA</td>\n",
       "      <td>2</td>\n",
       "      <td>2</td>\n",
       "      <td>0</td>\n",
       "      <td>1.000000</td>\n",
       "      <td>0.500000</td>\n",
       "      <td>1.000000</td>\n",
       "      <td>15.000000</td>\n",
       "      <td>15.500000</td>\n",
       "      <td>121.308906</td>\n",
       "      <td>27.500000</td>\n",
       "      <td>0.929494</td>\n",
       "      <td>8138.000000</td>\n",
       "      <td>275.615400</td>\n",
       "      <td>0.939394</td>\n",
       "      <td>0.030303</td>\n",
       "      <td>0.135749</td>\n",
       "      <td>2</td>\n",
       "      <td>2.906672</td>\n",
       "      <td>-0.386189</td>\n",
       "      <td>0.791620</td>\n",
       "      <td>1.316894</td>\n",
       "      <td>1.943327</td>\n",
       "      <td>1.645931</td>\n",
       "      <td>-0.383156</td>\n",
       "      <td>1.733254</td>\n",
       "      <td>-0.742781</td>\n",
       "    </tr>\n",
       "    <tr>\n",
       "      <th>Canna</th>\n",
       "      <td>Top</td>\n",
       "      <td>Dplus KIA</td>\n",
       "      <td>2</td>\n",
       "      <td>2</td>\n",
       "      <td>0</td>\n",
       "      <td>1.000000</td>\n",
       "      <td>2.000000</td>\n",
       "      <td>0.000000</td>\n",
       "      <td>6.000000</td>\n",
       "      <td>16.000000</td>\n",
       "      <td>421.635922</td>\n",
       "      <td>245.500000</td>\n",
       "      <td>8.312303</td>\n",
       "      <td>12288.000000</td>\n",
       "      <td>416.099461</td>\n",
       "      <td>0.484848</td>\n",
       "      <td>0.121212</td>\n",
       "      <td>0.204974</td>\n",
       "      <td>2</td>\n",
       "      <td>0.885535</td>\n",
       "      <td>-0.270261</td>\n",
       "      <td>0.057768</td>\n",
       "      <td>0.660622</td>\n",
       "      <td>1.442875</td>\n",
       "      <td>-1.185946</td>\n",
       "      <td>-0.394629</td>\n",
       "      <td>-0.535447</td>\n",
       "      <td>-0.760886</td>\n",
       "    </tr>\n",
       "    <tr>\n",
       "      <th>Peyz</th>\n",
       "      <td>Bot</td>\n",
       "      <td>Gen.G</td>\n",
       "      <td>3</td>\n",
       "      <td>2</td>\n",
       "      <td>1</td>\n",
       "      <td>0.666667</td>\n",
       "      <td>4.000000</td>\n",
       "      <td>1.000000</td>\n",
       "      <td>2.333333</td>\n",
       "      <td>6.333333</td>\n",
       "      <td>438.065772</td>\n",
       "      <td>250.666667</td>\n",
       "      <td>9.812563</td>\n",
       "      <td>12134.000000</td>\n",
       "      <td>476.782013</td>\n",
       "      <td>0.678571</td>\n",
       "      <td>0.428571</td>\n",
       "      <td>0.246281</td>\n",
       "      <td>2</td>\n",
       "      <td>0.246043</td>\n",
       "      <td>-1.315139</td>\n",
       "      <td>-0.359352</td>\n",
       "      <td>-1.445156</td>\n",
       "      <td>0.628721</td>\n",
       "      <td>-0.547668</td>\n",
       "      <td>0.718125</td>\n",
       "      <td>-1.187399</td>\n",
       "      <td>-0.654654</td>\n",
       "    </tr>\n",
       "    <tr>\n",
       "      <th>Peanut</th>\n",
       "      <td>Jungle</td>\n",
       "      <td>Gen.G</td>\n",
       "      <td>3</td>\n",
       "      <td>2</td>\n",
       "      <td>1</td>\n",
       "      <td>0.666667</td>\n",
       "      <td>1.666667</td>\n",
       "      <td>1.333333</td>\n",
       "      <td>5.333333</td>\n",
       "      <td>5.250000</td>\n",
       "      <td>315.095770</td>\n",
       "      <td>175.333333</td>\n",
       "      <td>6.804378</td>\n",
       "      <td>9730.333333</td>\n",
       "      <td>380.745975</td>\n",
       "      <td>0.750000</td>\n",
       "      <td>0.178571</td>\n",
       "      <td>0.197494</td>\n",
       "      <td>3</td>\n",
       "      <td>-0.105630</td>\n",
       "      <td>0.786913</td>\n",
       "      <td>2.375988</td>\n",
       "      <td>-0.759171</td>\n",
       "      <td>1.993362</td>\n",
       "      <td>-0.019770</td>\n",
       "      <td>-0.481432</td>\n",
       "      <td>0.649929</td>\n",
       "      <td>-0.142857</td>\n",
       "    </tr>\n",
       "    <tr>\n",
       "      <th>Chovy</th>\n",
       "      <td>Mid</td>\n",
       "      <td>Gen.G</td>\n",
       "      <td>3</td>\n",
       "      <td>2</td>\n",
       "      <td>1</td>\n",
       "      <td>0.666667</td>\n",
       "      <td>2.000000</td>\n",
       "      <td>1.000000</td>\n",
       "      <td>5.666667</td>\n",
       "      <td>7.666667</td>\n",
       "      <td>418.212653</td>\n",
       "      <td>255.666667</td>\n",
       "      <td>10.040908</td>\n",
       "      <td>10956.666667</td>\n",
       "      <td>429.745439</td>\n",
       "      <td>0.821429</td>\n",
       "      <td>0.214286</td>\n",
       "      <td>0.222385</td>\n",
       "      <td>2</td>\n",
       "      <td>0.184951</td>\n",
       "      <td>-0.395462</td>\n",
       "      <td>2.153124</td>\n",
       "      <td>-0.747821</td>\n",
       "      <td>1.029020</td>\n",
       "      <td>1.058187</td>\n",
       "      <td>0.004228</td>\n",
       "      <td>0.706153</td>\n",
       "      <td>-0.620174</td>\n",
       "    </tr>\n",
       "    <tr>\n",
       "      <th>Delight</th>\n",
       "      <td>Support</td>\n",
       "      <td>Gen.G</td>\n",
       "      <td>3</td>\n",
       "      <td>2</td>\n",
       "      <td>1</td>\n",
       "      <td>0.666667</td>\n",
       "      <td>0.666667</td>\n",
       "      <td>1.666667</td>\n",
       "      <td>6.000000</td>\n",
       "      <td>4.000000</td>\n",
       "      <td>171.369116</td>\n",
       "      <td>21.333333</td>\n",
       "      <td>0.878286</td>\n",
       "      <td>6313.333333</td>\n",
       "      <td>246.987860</td>\n",
       "      <td>0.714286</td>\n",
       "      <td>0.071429</td>\n",
       "      <td>0.128140</td>\n",
       "      <td>3</td>\n",
       "      <td>-0.305457</td>\n",
       "      <td>0.215990</td>\n",
       "      <td>0.632617</td>\n",
       "      <td>-1.118396</td>\n",
       "      <td>0.609548</td>\n",
       "      <td>-1.150324</td>\n",
       "      <td>1.173748</td>\n",
       "      <td>-0.451070</td>\n",
       "      <td>0.185695</td>\n",
       "    </tr>\n",
       "    <tr>\n",
       "      <th>Doran</th>\n",
       "      <td>Top</td>\n",
       "      <td>Gen.G</td>\n",
       "      <td>3</td>\n",
       "      <td>2</td>\n",
       "      <td>1</td>\n",
       "      <td>0.666667</td>\n",
       "      <td>1.000000</td>\n",
       "      <td>2.333333</td>\n",
       "      <td>3.000000</td>\n",
       "      <td>1.714286</td>\n",
       "      <td>445.604185</td>\n",
       "      <td>208.666667</td>\n",
       "      <td>8.182866</td>\n",
       "      <td>10134.666667</td>\n",
       "      <td>397.047497</td>\n",
       "      <td>0.428571</td>\n",
       "      <td>0.107143</td>\n",
       "      <td>0.205701</td>\n",
       "      <td>2</td>\n",
       "      <td>-0.506434</td>\n",
       "      <td>0.016641</td>\n",
       "      <td>-0.175998</td>\n",
       "      <td>-1.144841</td>\n",
       "      <td>0.777977</td>\n",
       "      <td>-1.913984</td>\n",
       "      <td>-0.565355</td>\n",
       "      <td>-0.430160</td>\n",
       "      <td>-0.760886</td>\n",
       "    </tr>\n",
       "    <tr>\n",
       "      <th>Viper</th>\n",
       "      <td>Bot</td>\n",
       "      <td>Hanwha Life Esports</td>\n",
       "      <td>6</td>\n",
       "      <td>2</td>\n",
       "      <td>4</td>\n",
       "      <td>0.333333</td>\n",
       "      <td>2.333333</td>\n",
       "      <td>1.500000</td>\n",
       "      <td>3.000000</td>\n",
       "      <td>3.555556</td>\n",
       "      <td>554.645597</td>\n",
       "      <td>332.500000</td>\n",
       "      <td>10.604812</td>\n",
       "      <td>13800.333333</td>\n",
       "      <td>437.462026</td>\n",
       "      <td>0.640000</td>\n",
       "      <td>0.280000</td>\n",
       "      <td>0.254380</td>\n",
       "      <td>3</td>\n",
       "      <td>-0.419350</td>\n",
       "      <td>-0.210512</td>\n",
       "      <td>0.953566</td>\n",
       "      <td>-0.137401</td>\n",
       "      <td>-0.602681</td>\n",
       "      <td>-0.993577</td>\n",
       "      <td>-1.175826</td>\n",
       "      <td>0.097766</td>\n",
       "      <td>0.436436</td>\n",
       "    </tr>\n",
       "    <tr>\n",
       "      <th>Clid</th>\n",
       "      <td>Jungle</td>\n",
       "      <td>Hanwha Life Esports</td>\n",
       "      <td>6</td>\n",
       "      <td>2</td>\n",
       "      <td>4</td>\n",
       "      <td>0.333333</td>\n",
       "      <td>2.500000</td>\n",
       "      <td>2.500000</td>\n",
       "      <td>3.333333</td>\n",
       "      <td>2.333333</td>\n",
       "      <td>207.291874</td>\n",
       "      <td>183.500000</td>\n",
       "      <td>5.911041</td>\n",
       "      <td>10648.833333</td>\n",
       "      <td>338.591773</td>\n",
       "      <td>0.700000</td>\n",
       "      <td>0.300000</td>\n",
       "      <td>0.196289</td>\n",
       "      <td>3</td>\n",
       "      <td>-0.503007</td>\n",
       "      <td>-1.125609</td>\n",
       "      <td>-0.026380</td>\n",
       "      <td>0.134991</td>\n",
       "      <td>-0.210300</td>\n",
       "      <td>-0.559804</td>\n",
       "      <td>0.940615</td>\n",
       "      <td>0.530368</td>\n",
       "      <td>-0.142857</td>\n",
       "    </tr>\n",
       "    <tr>\n",
       "      <th>Zeka</th>\n",
       "      <td>Mid</td>\n",
       "      <td>Hanwha Life Esports</td>\n",
       "      <td>6</td>\n",
       "      <td>2</td>\n",
       "      <td>4</td>\n",
       "      <td>0.333333</td>\n",
       "      <td>2.500000</td>\n",
       "      <td>1.500000</td>\n",
       "      <td>3.666667</td>\n",
       "      <td>4.111111</td>\n",
       "      <td>383.402324</td>\n",
       "      <td>264.333333</td>\n",
       "      <td>8.354188</td>\n",
       "      <td>11755.666667</td>\n",
       "      <td>367.780203</td>\n",
       "      <td>0.740000</td>\n",
       "      <td>0.300000</td>\n",
       "      <td>0.216691</td>\n",
       "      <td>2</td>\n",
       "      <td>-0.315869</td>\n",
       "      <td>-0.814731</td>\n",
       "      <td>-0.561288</td>\n",
       "      <td>-0.154297</td>\n",
       "      <td>-0.553843</td>\n",
       "      <td>-0.100461</td>\n",
       "      <td>1.006475</td>\n",
       "      <td>-0.028704</td>\n",
       "      <td>-0.620174</td>\n",
       "    </tr>\n",
       "    <tr>\n",
       "      <th>Life</th>\n",
       "      <td>Support</td>\n",
       "      <td>Hanwha Life Esports</td>\n",
       "      <td>6</td>\n",
       "      <td>2</td>\n",
       "      <td>4</td>\n",
       "      <td>0.333333</td>\n",
       "      <td>0.500000</td>\n",
       "      <td>2.166667</td>\n",
       "      <td>5.500000</td>\n",
       "      <td>2.769231</td>\n",
       "      <td>135.275132</td>\n",
       "      <td>16.333333</td>\n",
       "      <td>0.515572</td>\n",
       "      <td>6832.833333</td>\n",
       "      <td>217.809675</td>\n",
       "      <td>0.720000</td>\n",
       "      <td>0.060000</td>\n",
       "      <td>0.125949</td>\n",
       "      <td>5</td>\n",
       "      <td>-0.649230</td>\n",
       "      <td>-0.218188</td>\n",
       "      <td>-0.493631</td>\n",
       "      <td>-0.425046</td>\n",
       "      <td>-0.749886</td>\n",
       "      <td>-1.079342</td>\n",
       "      <td>0.741093</td>\n",
       "      <td>-1.080119</td>\n",
       "      <td>2.042649</td>\n",
       "    </tr>\n",
       "    <tr>\n",
       "      <th>Kingen</th>\n",
       "      <td>Top</td>\n",
       "      <td>Hanwha Life Esports</td>\n",
       "      <td>6</td>\n",
       "      <td>2</td>\n",
       "      <td>4</td>\n",
       "      <td>0.333333</td>\n",
       "      <td>0.500000</td>\n",
       "      <td>1.166667</td>\n",
       "      <td>4.666667</td>\n",
       "      <td>4.428571</td>\n",
       "      <td>345.730030</td>\n",
       "      <td>256.333333</td>\n",
       "      <td>8.251499</td>\n",
       "      <td>11213.166667</td>\n",
       "      <td>359.681375</td>\n",
       "      <td>0.620000</td>\n",
       "      <td>0.060000</td>\n",
       "      <td>0.206691</td>\n",
       "      <td>4</td>\n",
       "      <td>-0.241960</td>\n",
       "      <td>-1.178859</td>\n",
       "      <td>-0.052046</td>\n",
       "      <td>-0.240572</td>\n",
       "      <td>-0.526070</td>\n",
       "      <td>0.562467</td>\n",
       "      <td>-1.137418</td>\n",
       "      <td>-0.286607</td>\n",
       "      <td>0.622543</td>\n",
       "    </tr>\n",
       "    <tr>\n",
       "      <th>Aiming</th>\n",
       "      <td>Bot</td>\n",
       "      <td>KT Rolster</td>\n",
       "      <td>6</td>\n",
       "      <td>3</td>\n",
       "      <td>3</td>\n",
       "      <td>0.500000</td>\n",
       "      <td>2.500000</td>\n",
       "      <td>1.666667</td>\n",
       "      <td>3.000000</td>\n",
       "      <td>3.300000</td>\n",
       "      <td>433.454306</td>\n",
       "      <td>272.500000</td>\n",
       "      <td>9.964691</td>\n",
       "      <td>12191.333333</td>\n",
       "      <td>447.570174</td>\n",
       "      <td>0.634615</td>\n",
       "      <td>0.288462</td>\n",
       "      <td>0.250628</td>\n",
       "      <td>3</td>\n",
       "      <td>-0.480566</td>\n",
       "      <td>-1.358834</td>\n",
       "      <td>-0.107246</td>\n",
       "      <td>-1.400160</td>\n",
       "      <td>-0.286120</td>\n",
       "      <td>-1.055826</td>\n",
       "      <td>-1.067960</td>\n",
       "      <td>-0.497611</td>\n",
       "      <td>0.436436</td>\n",
       "    </tr>\n",
       "    <tr>\n",
       "      <th>Cuzz</th>\n",
       "      <td>Jungle</td>\n",
       "      <td>KT Rolster</td>\n",
       "      <td>6</td>\n",
       "      <td>3</td>\n",
       "      <td>3</td>\n",
       "      <td>0.500000</td>\n",
       "      <td>1.500000</td>\n",
       "      <td>2.833333</td>\n",
       "      <td>5.333333</td>\n",
       "      <td>2.411765</td>\n",
       "      <td>289.681928</td>\n",
       "      <td>151.833333</td>\n",
       "      <td>5.539170</td>\n",
       "      <td>8940.833333</td>\n",
       "      <td>325.690401</td>\n",
       "      <td>0.788462</td>\n",
       "      <td>0.173077</td>\n",
       "      <td>0.183805</td>\n",
       "      <td>4</td>\n",
       "      <td>-0.492321</td>\n",
       "      <td>0.336052</td>\n",
       "      <td>-1.026417</td>\n",
       "      <td>-1.527752</td>\n",
       "      <td>-0.884735</td>\n",
       "      <td>0.395641</td>\n",
       "      <td>-0.545778</td>\n",
       "      <td>-0.708155</td>\n",
       "      <td>1.285714</td>\n",
       "    </tr>\n",
       "    <tr>\n",
       "      <th>Bdd</th>\n",
       "      <td>Mid</td>\n",
       "      <td>KT Rolster</td>\n",
       "      <td>6</td>\n",
       "      <td>3</td>\n",
       "      <td>3</td>\n",
       "      <td>0.500000</td>\n",
       "      <td>1.500000</td>\n",
       "      <td>1.000000</td>\n",
       "      <td>4.833333</td>\n",
       "      <td>6.333333</td>\n",
       "      <td>455.446186</td>\n",
       "      <td>241.166667</td>\n",
       "      <td>8.795973</td>\n",
       "      <td>10615.666667</td>\n",
       "      <td>387.662383</td>\n",
       "      <td>0.730769</td>\n",
       "      <td>0.173077</td>\n",
       "      <td>0.218236</td>\n",
       "      <td>3</td>\n",
       "      <td>-0.002856</td>\n",
       "      <td>0.052992</td>\n",
       "      <td>0.149669</td>\n",
       "      <td>-1.001128</td>\n",
       "      <td>-0.045965</td>\n",
       "      <td>-0.231806</td>\n",
       "      <td>-0.477622</td>\n",
       "      <td>0.170644</td>\n",
       "      <td>0.620174</td>\n",
       "    </tr>\n",
       "    <tr>\n",
       "      <th>Lehends</th>\n",
       "      <td>Support</td>\n",
       "      <td>KT Rolster</td>\n",
       "      <td>6</td>\n",
       "      <td>3</td>\n",
       "      <td>3</td>\n",
       "      <td>0.500000</td>\n",
       "      <td>0.666667</td>\n",
       "      <td>1.666667</td>\n",
       "      <td>6.000000</td>\n",
       "      <td>4.000000</td>\n",
       "      <td>134.663939</td>\n",
       "      <td>19.500000</td>\n",
       "      <td>0.720567</td>\n",
       "      <td>6452.833333</td>\n",
       "      <td>235.593006</td>\n",
       "      <td>0.769231</td>\n",
       "      <td>0.076923</td>\n",
       "      <td>0.132657</td>\n",
       "      <td>4</td>\n",
       "      <td>-0.305457</td>\n",
       "      <td>-0.225540</td>\n",
       "      <td>0.142889</td>\n",
       "      <td>-0.932213</td>\n",
       "      <td>0.078653</td>\n",
       "      <td>-0.467806</td>\n",
       "      <td>1.381756</td>\n",
       "      <td>0.845532</td>\n",
       "      <td>1.114172</td>\n",
       "    </tr>\n",
       "    <tr>\n",
       "      <th>Kiin</th>\n",
       "      <td>Top</td>\n",
       "      <td>KT Rolster</td>\n",
       "      <td>6</td>\n",
       "      <td>3</td>\n",
       "      <td>3</td>\n",
       "      <td>0.500000</td>\n",
       "      <td>2.500000</td>\n",
       "      <td>2.333333</td>\n",
       "      <td>3.000000</td>\n",
       "      <td>2.357143</td>\n",
       "      <td>392.190976</td>\n",
       "      <td>227.666667</td>\n",
       "      <td>8.223629</td>\n",
       "      <td>10442.500000</td>\n",
       "      <td>381.045568</td>\n",
       "      <td>0.634615</td>\n",
       "      <td>0.288462</td>\n",
       "      <td>0.214676</td>\n",
       "      <td>6</td>\n",
       "      <td>-0.443795</td>\n",
       "      <td>-0.622719</td>\n",
       "      <td>-0.102380</td>\n",
       "      <td>-0.886738</td>\n",
       "      <td>0.219523</td>\n",
       "      <td>0.751541</td>\n",
       "      <td>1.634887</td>\n",
       "      <td>0.870612</td>\n",
       "      <td>2.005972</td>\n",
       "    </tr>\n",
       "    <tr>\n",
       "      <th>Taeyoon</th>\n",
       "      <td>Bot</td>\n",
       "      <td>Kwangdong Freecs</td>\n",
       "      <td>4</td>\n",
       "      <td>4</td>\n",
       "      <td>0</td>\n",
       "      <td>1.000000</td>\n",
       "      <td>4.250000</td>\n",
       "      <td>1.750000</td>\n",
       "      <td>5.250000</td>\n",
       "      <td>5.428571</td>\n",
       "      <td>541.072809</td>\n",
       "      <td>327.750000</td>\n",
       "      <td>9.893001</td>\n",
       "      <td>15350.500000</td>\n",
       "      <td>464.595638</td>\n",
       "      <td>0.745098</td>\n",
       "      <td>0.333333</td>\n",
       "      <td>0.240487</td>\n",
       "      <td>3</td>\n",
       "      <td>0.029315</td>\n",
       "      <td>-0.339118</td>\n",
       "      <td>-0.226051</td>\n",
       "      <td>1.079186</td>\n",
       "      <td>0.247075</td>\n",
       "      <td>0.221421</td>\n",
       "      <td>-0.495946</td>\n",
       "      <td>-2.106750</td>\n",
       "      <td>0.436436</td>\n",
       "    </tr>\n",
       "    <tr>\n",
       "      <th>YoungJae</th>\n",
       "      <td>Jungle</td>\n",
       "      <td>Kwangdong Freecs</td>\n",
       "      <td>4</td>\n",
       "      <td>4</td>\n",
       "      <td>0</td>\n",
       "      <td>1.000000</td>\n",
       "      <td>2.000000</td>\n",
       "      <td>1.000000</td>\n",
       "      <td>7.500000</td>\n",
       "      <td>9.500000</td>\n",
       "      <td>307.550312</td>\n",
       "      <td>190.500000</td>\n",
       "      <td>5.747844</td>\n",
       "      <td>11361.500000</td>\n",
       "      <td>338.166132</td>\n",
       "      <td>0.745098</td>\n",
       "      <td>0.156863</td>\n",
       "      <td>0.177993</td>\n",
       "      <td>3</td>\n",
       "      <td>0.473405</td>\n",
       "      <td>0.653051</td>\n",
       "      <td>-0.465252</td>\n",
       "      <td>0.828774</td>\n",
       "      <td>-0.232551</td>\n",
       "      <td>-0.072715</td>\n",
       "      <td>-0.735662</td>\n",
       "      <td>-1.284648</td>\n",
       "      <td>-0.142857</td>\n",
       "    </tr>\n",
       "    <tr>\n",
       "      <th>BuLLDoG</th>\n",
       "      <td>Mid</td>\n",
       "      <td>Kwangdong Freecs</td>\n",
       "      <td>4</td>\n",
       "      <td>4</td>\n",
       "      <td>0</td>\n",
       "      <td>1.000000</td>\n",
       "      <td>2.500000</td>\n",
       "      <td>2.000000</td>\n",
       "      <td>7.250000</td>\n",
       "      <td>4.875000</td>\n",
       "      <td>540.616741</td>\n",
       "      <td>314.500000</td>\n",
       "      <td>9.366057</td>\n",
       "      <td>14737.000000</td>\n",
       "      <td>443.533556</td>\n",
       "      <td>0.764706</td>\n",
       "      <td>0.196078</td>\n",
       "      <td>0.230875</td>\n",
       "      <td>3</td>\n",
       "      <td>-0.208271</td>\n",
       "      <td>1.078818</td>\n",
       "      <td>1.067096</td>\n",
       "      <td>2.060340</td>\n",
       "      <td>1.381228</td>\n",
       "      <td>0.251079</td>\n",
       "      <td>-0.208668</td>\n",
       "      <td>1.802021</td>\n",
       "      <td>0.620174</td>\n",
       "    </tr>\n",
       "    <tr>\n",
       "      <th>Jun</th>\n",
       "      <td>Support</td>\n",
       "      <td>Kwangdong Freecs</td>\n",
       "      <td>4</td>\n",
       "      <td>4</td>\n",
       "      <td>0</td>\n",
       "      <td>1.000000</td>\n",
       "      <td>0.250000</td>\n",
       "      <td>2.000000</td>\n",
       "      <td>9.500000</td>\n",
       "      <td>4.875000</td>\n",
       "      <td>107.291207</td>\n",
       "      <td>43.000000</td>\n",
       "      <td>1.276584</td>\n",
       "      <td>8164.000000</td>\n",
       "      <td>244.490687</td>\n",
       "      <td>0.764706</td>\n",
       "      <td>0.019608</td>\n",
       "      <td>0.127900</td>\n",
       "      <td>3</td>\n",
       "      <td>-0.061056</td>\n",
       "      <td>-0.554809</td>\n",
       "      <td>1.869356</td>\n",
       "      <td>1.351595</td>\n",
       "      <td>0.493203</td>\n",
       "      <td>-0.524013</td>\n",
       "      <td>-0.788048</td>\n",
       "      <td>-0.519924</td>\n",
       "      <td>0.185695</td>\n",
       "    </tr>\n",
       "    <tr>\n",
       "      <th>DuDu</th>\n",
       "      <td>Top</td>\n",
       "      <td>Kwangdong Freecs</td>\n",
       "      <td>4</td>\n",
       "      <td>4</td>\n",
       "      <td>0</td>\n",
       "      <td>1.000000</td>\n",
       "      <td>3.750000</td>\n",
       "      <td>0.250000</td>\n",
       "      <td>5.000000</td>\n",
       "      <td>35.000000</td>\n",
       "      <td>641.789853</td>\n",
       "      <td>309.000000</td>\n",
       "      <td>9.301942</td>\n",
       "      <td>14218.000000</td>\n",
       "      <td>422.113769</td>\n",
       "      <td>0.686275</td>\n",
       "      <td>0.294118</td>\n",
       "      <td>0.222744</td>\n",
       "      <td>4</td>\n",
       "      <td>2.736853</td>\n",
       "      <td>2.364995</td>\n",
       "      <td>1.845085</td>\n",
       "      <td>2.278832</td>\n",
       "      <td>1.652769</td>\n",
       "      <td>1.419839</td>\n",
       "      <td>1.703522</td>\n",
       "      <td>2.040066</td>\n",
       "      <td>0.622543</td>\n",
       "    </tr>\n",
       "    <tr>\n",
       "      <th>Teddy</th>\n",
       "      <td>Bot</td>\n",
       "      <td>Liiv SANDBOX</td>\n",
       "      <td>4</td>\n",
       "      <td>2</td>\n",
       "      <td>2</td>\n",
       "      <td>0.500000</td>\n",
       "      <td>4.750000</td>\n",
       "      <td>1.750000</td>\n",
       "      <td>3.500000</td>\n",
       "      <td>4.714286</td>\n",
       "      <td>626.106104</td>\n",
       "      <td>290.500000</td>\n",
       "      <td>10.161549</td>\n",
       "      <td>12912.250000</td>\n",
       "      <td>453.095109</td>\n",
       "      <td>0.942857</td>\n",
       "      <td>0.542857</td>\n",
       "      <td>0.259195</td>\n",
       "      <td>4</td>\n",
       "      <td>-0.141786</td>\n",
       "      <td>0.466596</td>\n",
       "      <td>0.218988</td>\n",
       "      <td>-0.834378</td>\n",
       "      <td>-0.113093</td>\n",
       "      <td>2.507638</td>\n",
       "      <td>2.175010</td>\n",
       "      <td>0.861746</td>\n",
       "      <td>1.527525</td>\n",
       "    </tr>\n",
       "    <tr>\n",
       "      <th>Willer</th>\n",
       "      <td>Jungle</td>\n",
       "      <td>Liiv SANDBOX</td>\n",
       "      <td>4</td>\n",
       "      <td>2</td>\n",
       "      <td>2</td>\n",
       "      <td>0.500000</td>\n",
       "      <td>1.000000</td>\n",
       "      <td>2.500000</td>\n",
       "      <td>6.250000</td>\n",
       "      <td>2.900000</td>\n",
       "      <td>207.700078</td>\n",
       "      <td>155.250000</td>\n",
       "      <td>5.443881</td>\n",
       "      <td>9428.750000</td>\n",
       "      <td>331.121747</td>\n",
       "      <td>0.828571</td>\n",
       "      <td>0.114286</td>\n",
       "      <td>0.189269</td>\n",
       "      <td>4</td>\n",
       "      <td>-0.425803</td>\n",
       "      <td>-1.118367</td>\n",
       "      <td>-1.282671</td>\n",
       "      <td>-1.052764</td>\n",
       "      <td>-0.600804</td>\n",
       "      <td>0.828855</td>\n",
       "      <td>-1.234281</td>\n",
       "      <td>-0.166077</td>\n",
       "      <td>1.285714</td>\n",
       "    </tr>\n",
       "    <tr>\n",
       "      <th>Clozer</th>\n",
       "      <td>Mid</td>\n",
       "      <td>Liiv SANDBOX</td>\n",
       "      <td>4</td>\n",
       "      <td>2</td>\n",
       "      <td>2</td>\n",
       "      <td>0.500000</td>\n",
       "      <td>1.500000</td>\n",
       "      <td>2.500000</td>\n",
       "      <td>4.750000</td>\n",
       "      <td>2.500000</td>\n",
       "      <td>413.152081</td>\n",
       "      <td>250.750000</td>\n",
       "      <td>8.767776</td>\n",
       "      <td>10841.500000</td>\n",
       "      <td>380.107784</td>\n",
       "      <td>0.714286</td>\n",
       "      <td>0.171429</td>\n",
       "      <td>0.217628</td>\n",
       "      <td>4</td>\n",
       "      <td>-0.542803</td>\n",
       "      <td>-0.456414</td>\n",
       "      <td>0.104292</td>\n",
       "      <td>-0.833371</td>\n",
       "      <td>-0.238943</td>\n",
       "      <td>-0.466350</td>\n",
       "      <td>-0.496896</td>\n",
       "      <td>0.092183</td>\n",
       "      <td>1.860521</td>\n",
       "    </tr>\n",
       "    <tr>\n",
       "      <th>Kael</th>\n",
       "      <td>Support</td>\n",
       "      <td>Liiv SANDBOX</td>\n",
       "      <td>4</td>\n",
       "      <td>2</td>\n",
       "      <td>2</td>\n",
       "      <td>0.500000</td>\n",
       "      <td>0.000000</td>\n",
       "      <td>2.000000</td>\n",
       "      <td>7.750000</td>\n",
       "      <td>3.875000</td>\n",
       "      <td>124.241105</td>\n",
       "      <td>19.500000</td>\n",
       "      <td>0.682184</td>\n",
       "      <td>6472.000000</td>\n",
       "      <td>227.038812</td>\n",
       "      <td>0.885714</td>\n",
       "      <td>0.000000</td>\n",
       "      <td>0.129916</td>\n",
       "      <td>3</td>\n",
       "      <td>-0.340371</td>\n",
       "      <td>-0.350917</td>\n",
       "      <td>0.023710</td>\n",
       "      <td>-0.906632</td>\n",
       "      <td>-0.319894</td>\n",
       "      <td>0.979132</td>\n",
       "      <td>-1.530349</td>\n",
       "      <td>0.058812</td>\n",
       "      <td>0.185695</td>\n",
       "    </tr>\n",
       "    <tr>\n",
       "      <th>Burdol</th>\n",
       "      <td>Top</td>\n",
       "      <td>Liiv SANDBOX</td>\n",
       "      <td>4</td>\n",
       "      <td>2</td>\n",
       "      <td>2</td>\n",
       "      <td>0.500000</td>\n",
       "      <td>1.500000</td>\n",
       "      <td>1.500000</td>\n",
       "      <td>3.750000</td>\n",
       "      <td>3.500000</td>\n",
       "      <td>387.319851</td>\n",
       "      <td>221.500000</td>\n",
       "      <td>7.754558</td>\n",
       "      <td>10162.250000</td>\n",
       "      <td>356.340119</td>\n",
       "      <td>0.600000</td>\n",
       "      <td>0.171429</td>\n",
       "      <td>0.203993</td>\n",
       "      <td>4</td>\n",
       "      <td>-0.332438</td>\n",
       "      <td>-0.681026</td>\n",
       "      <td>-0.949536</td>\n",
       "      <td>-1.121714</td>\n",
       "      <td>-0.642677</td>\n",
       "      <td>0.303733</td>\n",
       "      <td>0.214731</td>\n",
       "      <td>-0.677714</td>\n",
       "      <td>0.622543</td>\n",
       "    </tr>\n",
       "    <tr>\n",
       "      <th>vital</th>\n",
       "      <td>Bot</td>\n",
       "      <td>Nongshim RedForce</td>\n",
       "      <td>5</td>\n",
       "      <td>2</td>\n",
       "      <td>3</td>\n",
       "      <td>0.400000</td>\n",
       "      <td>2.600000</td>\n",
       "      <td>1.800000</td>\n",
       "      <td>2.200000</td>\n",
       "      <td>2.666667</td>\n",
       "      <td>497.443823</td>\n",
       "      <td>333.400000</td>\n",
       "      <td>10.887059</td>\n",
       "      <td>13691.200000</td>\n",
       "      <td>447.006287</td>\n",
       "      <td>0.750000</td>\n",
       "      <td>0.406250</td>\n",
       "      <td>0.262774</td>\n",
       "      <td>4</td>\n",
       "      <td>-0.632275</td>\n",
       "      <td>-0.752515</td>\n",
       "      <td>1.421305</td>\n",
       "      <td>-0.223050</td>\n",
       "      <td>-0.303779</td>\n",
       "      <td>0.278091</td>\n",
       "      <td>0.433577</td>\n",
       "      <td>1.429616</td>\n",
       "      <td>1.527525</td>\n",
       "    </tr>\n",
       "    <tr>\n",
       "      <th>Sylvie</th>\n",
       "      <td>Jungle</td>\n",
       "      <td>Nongshim RedForce</td>\n",
       "      <td>5</td>\n",
       "      <td>2</td>\n",
       "      <td>3</td>\n",
       "      <td>0.400000</td>\n",
       "      <td>1.200000</td>\n",
       "      <td>2.000000</td>\n",
       "      <td>2.000000</td>\n",
       "      <td>1.600000</td>\n",
       "      <td>192.431524</td>\n",
       "      <td>190.000000</td>\n",
       "      <td>6.182572</td>\n",
       "      <td>10053.000000</td>\n",
       "      <td>327.565488</td>\n",
       "      <td>0.500000</td>\n",
       "      <td>0.187500</td>\n",
       "      <td>0.192946</td>\n",
       "      <td>3</td>\n",
       "      <td>-0.602919</td>\n",
       "      <td>-1.389243</td>\n",
       "      <td>0.703822</td>\n",
       "      <td>-0.445055</td>\n",
       "      <td>-0.786712</td>\n",
       "      <td>-2.719942</td>\n",
       "      <td>-0.376870</td>\n",
       "      <td>0.198759</td>\n",
       "      <td>-0.142857</td>\n",
       "    </tr>\n",
       "    <tr>\n",
       "      <th>Quad</th>\n",
       "      <td>Mid</td>\n",
       "      <td>Nongshim RedForce</td>\n",
       "      <td>5</td>\n",
       "      <td>2</td>\n",
       "      <td>3</td>\n",
       "      <td>0.400000</td>\n",
       "      <td>1.200000</td>\n",
       "      <td>2.000000</td>\n",
       "      <td>2.800000</td>\n",
       "      <td>2.000000</td>\n",
       "      <td>332.585239</td>\n",
       "      <td>250.200000</td>\n",
       "      <td>8.167161</td>\n",
       "      <td>10919.600000</td>\n",
       "      <td>356.590519</td>\n",
       "      <td>0.625000</td>\n",
       "      <td>0.187500</td>\n",
       "      <td>0.209579</td>\n",
       "      <td>2</td>\n",
       "      <td>-0.613231</td>\n",
       "      <td>-1.426790</td>\n",
       "      <td>-0.862270</td>\n",
       "      <td>-0.775355</td>\n",
       "      <td>-0.839676</td>\n",
       "      <td>-1.736798</td>\n",
       "      <td>-0.308975</td>\n",
       "      <td>-0.946654</td>\n",
       "      <td>-0.620174</td>\n",
       "    </tr>\n",
       "    <tr>\n",
       "      <th>Peter</th>\n",
       "      <td>Support</td>\n",
       "      <td>Nongshim RedForce</td>\n",
       "      <td>5</td>\n",
       "      <td>2</td>\n",
       "      <td>3</td>\n",
       "      <td>0.400000</td>\n",
       "      <td>0.400000</td>\n",
       "      <td>1.200000</td>\n",
       "      <td>4.600000</td>\n",
       "      <td>4.166667</td>\n",
       "      <td>187.986268</td>\n",
       "      <td>9.200000</td>\n",
       "      <td>0.317393</td>\n",
       "      <td>6631.400000</td>\n",
       "      <td>217.729232</td>\n",
       "      <td>0.781250</td>\n",
       "      <td>0.062500</td>\n",
       "      <td>0.127276</td>\n",
       "      <td>3</td>\n",
       "      <td>-0.258904</td>\n",
       "      <td>0.415879</td>\n",
       "      <td>-1.108988</td>\n",
       "      <td>-0.693889</td>\n",
       "      <td>-0.753634</td>\n",
       "      <td>-0.318505</td>\n",
       "      <td>0.835736</td>\n",
       "      <td>-0.699190</td>\n",
       "      <td>0.185695</td>\n",
       "    </tr>\n",
       "    <tr>\n",
       "      <th>DnDn</th>\n",
       "      <td>Top</td>\n",
       "      <td>Nongshim RedForce</td>\n",
       "      <td>5</td>\n",
       "      <td>2</td>\n",
       "      <td>3</td>\n",
       "      <td>0.400000</td>\n",
       "      <td>1.000000</td>\n",
       "      <td>2.600000</td>\n",
       "      <td>2.600000</td>\n",
       "      <td>1.384615</td>\n",
       "      <td>529.288680</td>\n",
       "      <td>249.400000</td>\n",
       "      <td>8.152738</td>\n",
       "      <td>10807.400000</td>\n",
       "      <td>353.476647</td>\n",
       "      <td>0.562500</td>\n",
       "      <td>0.156250</td>\n",
       "      <td>0.207425</td>\n",
       "      <td>4</td>\n",
       "      <td>-0.538556</td>\n",
       "      <td>1.018349</td>\n",
       "      <td>-0.230410</td>\n",
       "      <td>-0.580788</td>\n",
       "      <td>-0.742610</td>\n",
       "      <td>-0.181392</td>\n",
       "      <td>0.030544</td>\n",
       "      <td>-0.180195</td>\n",
       "      <td>0.622543</td>\n",
       "    </tr>\n",
       "    <tr>\n",
       "      <th>Hena</th>\n",
       "      <td>Bot</td>\n",
       "      <td>OKSavingsBank BRION</td>\n",
       "      <td>5</td>\n",
       "      <td>1</td>\n",
       "      <td>4</td>\n",
       "      <td>0.200000</td>\n",
       "      <td>1.600000</td>\n",
       "      <td>1.400000</td>\n",
       "      <td>1.600000</td>\n",
       "      <td>2.285714</td>\n",
       "      <td>597.480454</td>\n",
       "      <td>325.000000</td>\n",
       "      <td>10.166141</td>\n",
       "      <td>13516.800000</td>\n",
       "      <td>423.339460</td>\n",
       "      <td>0.640000</td>\n",
       "      <td>0.320000</td>\n",
       "      <td>0.254305</td>\n",
       "      <td>2</td>\n",
       "      <td>-0.723529</td>\n",
       "      <td>0.195360</td>\n",
       "      <td>0.226598</td>\n",
       "      <td>-0.359921</td>\n",
       "      <td>-1.044964</td>\n",
       "      <td>-0.993577</td>\n",
       "      <td>-0.665916</td>\n",
       "      <td>0.085789</td>\n",
       "      <td>-0.654654</td>\n",
       "    </tr>\n",
       "    <tr>\n",
       "      <th>UmTi</th>\n",
       "      <td>Jungle</td>\n",
       "      <td>OKSavingsBank BRION</td>\n",
       "      <td>5</td>\n",
       "      <td>1</td>\n",
       "      <td>4</td>\n",
       "      <td>0.200000</td>\n",
       "      <td>1.400000</td>\n",
       "      <td>1.800000</td>\n",
       "      <td>2.600000</td>\n",
       "      <td>2.222222</td>\n",
       "      <td>208.780045</td>\n",
       "      <td>182.000000</td>\n",
       "      <td>5.707811</td>\n",
       "      <td>10082.600000</td>\n",
       "      <td>316.348172</td>\n",
       "      <td>0.800000</td>\n",
       "      <td>0.280000</td>\n",
       "      <td>0.189694</td>\n",
       "      <td>4</td>\n",
       "      <td>-0.518145</td>\n",
       "      <td>-1.099208</td>\n",
       "      <td>-0.572908</td>\n",
       "      <td>-0.416239</td>\n",
       "      <td>-1.373111</td>\n",
       "      <td>0.520264</td>\n",
       "      <td>0.706396</td>\n",
       "      <td>-0.123910</td>\n",
       "      <td>1.285714</td>\n",
       "    </tr>\n",
       "    <tr>\n",
       "      <th>Karis</th>\n",
       "      <td>Mid</td>\n",
       "      <td>OKSavingsBank BRION</td>\n",
       "      <td>5</td>\n",
       "      <td>1</td>\n",
       "      <td>4</td>\n",
       "      <td>0.200000</td>\n",
       "      <td>0.800000</td>\n",
       "      <td>1.600000</td>\n",
       "      <td>2.800000</td>\n",
       "      <td>2.250000</td>\n",
       "      <td>367.504823</td>\n",
       "      <td>268.400000</td>\n",
       "      <td>8.417975</td>\n",
       "      <td>11168.200000</td>\n",
       "      <td>349.739899</td>\n",
       "      <td>0.720000</td>\n",
       "      <td>0.160000</td>\n",
       "      <td>0.210118</td>\n",
       "      <td>3</td>\n",
       "      <td>-0.578017</td>\n",
       "      <td>-1.006206</td>\n",
       "      <td>-0.458637</td>\n",
       "      <td>-0.590687</td>\n",
       "      <td>-1.014671</td>\n",
       "      <td>-0.385042</td>\n",
       "      <td>-0.630529</td>\n",
       "      <td>-0.877040</td>\n",
       "      <td>0.620174</td>\n",
       "    </tr>\n",
       "    <tr>\n",
       "      <th>Effort</th>\n",
       "      <td>Support</td>\n",
       "      <td>OKSavingsBank BRION</td>\n",
       "      <td>5</td>\n",
       "      <td>1</td>\n",
       "      <td>4</td>\n",
       "      <td>0.200000</td>\n",
       "      <td>0.200000</td>\n",
       "      <td>1.800000</td>\n",
       "      <td>3.400000</td>\n",
       "      <td>2.000000</td>\n",
       "      <td>108.621494</td>\n",
       "      <td>16.000000</td>\n",
       "      <td>0.511045</td>\n",
       "      <td>6805.800000</td>\n",
       "      <td>213.101983</td>\n",
       "      <td>0.720000</td>\n",
       "      <td>0.040000</td>\n",
       "      <td>0.128044</td>\n",
       "      <td>2</td>\n",
       "      <td>-0.864088</td>\n",
       "      <td>-0.538807</td>\n",
       "      <td>-0.507687</td>\n",
       "      <td>-0.461126</td>\n",
       "      <td>-0.969221</td>\n",
       "      <td>-1.079342</td>\n",
       "      <td>-0.016054</td>\n",
       "      <td>-0.478623</td>\n",
       "      <td>-0.742781</td>\n",
       "    </tr>\n",
       "    <tr>\n",
       "      <th>Morgan</th>\n",
       "      <td>Top</td>\n",
       "      <td>OKSavingsBank BRION</td>\n",
       "      <td>5</td>\n",
       "      <td>1</td>\n",
       "      <td>4</td>\n",
       "      <td>0.200000</td>\n",
       "      <td>1.000000</td>\n",
       "      <td>2.000000</td>\n",
       "      <td>1.800000</td>\n",
       "      <td>1.400000</td>\n",
       "      <td>454.527062</td>\n",
       "      <td>279.400000</td>\n",
       "      <td>8.765762</td>\n",
       "      <td>11578.600000</td>\n",
       "      <td>362.896518</td>\n",
       "      <td>0.560000</td>\n",
       "      <td>0.200000</td>\n",
       "      <td>0.217839</td>\n",
       "      <td>2</td>\n",
       "      <td>-0.537057</td>\n",
       "      <td>0.123448</td>\n",
       "      <td>0.876728</td>\n",
       "      <td>0.065825</td>\n",
       "      <td>-0.413864</td>\n",
       "      <td>-0.213734</td>\n",
       "      <td>0.561436</td>\n",
       "      <td>1.329158</td>\n",
       "      <td>-0.760886</td>\n",
       "    </tr>\n",
       "    <tr>\n",
       "      <th>Gumayusi</th>\n",
       "      <td>Bot</td>\n",
       "      <td>T1</td>\n",
       "      <td>3</td>\n",
       "      <td>2</td>\n",
       "      <td>1</td>\n",
       "      <td>0.666667</td>\n",
       "      <td>3.000000</td>\n",
       "      <td>0.000000</td>\n",
       "      <td>2.666667</td>\n",
       "      <td>17.000000</td>\n",
       "      <td>594.369320</td>\n",
       "      <td>350.333333</td>\n",
       "      <td>10.662305</td>\n",
       "      <td>15655.666667</td>\n",
       "      <td>481.195297</td>\n",
       "      <td>0.739130</td>\n",
       "      <td>0.391304</td>\n",
       "      <td>0.254148</td>\n",
       "      <td>2</td>\n",
       "      <td>2.801152</td>\n",
       "      <td>0.165881</td>\n",
       "      <td>1.048843</td>\n",
       "      <td>1.318684</td>\n",
       "      <td>0.766934</td>\n",
       "      <td>0.152432</td>\n",
       "      <td>0.243054</td>\n",
       "      <td>0.060885</td>\n",
       "      <td>-0.654654</td>\n",
       "    </tr>\n",
       "    <tr>\n",
       "      <th>Oner</th>\n",
       "      <td>Jungle</td>\n",
       "      <td>T1</td>\n",
       "      <td>3</td>\n",
       "      <td>2</td>\n",
       "      <td>1</td>\n",
       "      <td>0.666667</td>\n",
       "      <td>2.333333</td>\n",
       "      <td>1.333333</td>\n",
       "      <td>4.000000</td>\n",
       "      <td>4.750000</td>\n",
       "      <td>333.761757</td>\n",
       "      <td>198.333333</td>\n",
       "      <td>6.157231</td>\n",
       "      <td>11386.333333</td>\n",
       "      <td>354.223644</td>\n",
       "      <td>0.826087</td>\n",
       "      <td>0.304348</td>\n",
       "      <td>0.184841</td>\n",
       "      <td>3</td>\n",
       "      <td>-0.173752</td>\n",
       "      <td>1.118062</td>\n",
       "      <td>0.635675</td>\n",
       "      <td>0.852949</td>\n",
       "      <td>0.606875</td>\n",
       "      <td>0.802021</td>\n",
       "      <td>0.991533</td>\n",
       "      <td>-0.605322</td>\n",
       "      <td>-0.142857</td>\n",
       "    </tr>\n",
       "    <tr>\n",
       "      <th>Faker</th>\n",
       "      <td>Mid</td>\n",
       "      <td>T1</td>\n",
       "      <td>3</td>\n",
       "      <td>2</td>\n",
       "      <td>1</td>\n",
       "      <td>0.666667</td>\n",
       "      <td>1.666667</td>\n",
       "      <td>1.666667</td>\n",
       "      <td>5.000000</td>\n",
       "      <td>4.000000</td>\n",
       "      <td>531.540030</td>\n",
       "      <td>301.000000</td>\n",
       "      <td>8.981593</td>\n",
       "      <td>13811.000000</td>\n",
       "      <td>413.847005</td>\n",
       "      <td>0.869565</td>\n",
       "      <td>0.217391</td>\n",
       "      <td>0.224202</td>\n",
       "      <td>3</td>\n",
       "      <td>-0.331519</td>\n",
       "      <td>0.969495</td>\n",
       "      <td>0.448384</td>\n",
       "      <td>1.372475</td>\n",
       "      <td>0.622904</td>\n",
       "      <td>1.743125</td>\n",
       "      <td>0.040541</td>\n",
       "      <td>0.940736</td>\n",
       "      <td>0.620174</td>\n",
       "    </tr>\n",
       "    <tr>\n",
       "      <th>Keria</th>\n",
       "      <td>Support</td>\n",
       "      <td>T1</td>\n",
       "      <td>3</td>\n",
       "      <td>2</td>\n",
       "      <td>1</td>\n",
       "      <td>0.666667</td>\n",
       "      <td>0.333333</td>\n",
       "      <td>1.333333</td>\n",
       "      <td>6.333333</td>\n",
       "      <td>5.000000</td>\n",
       "      <td>61.108234</td>\n",
       "      <td>30.666667</td>\n",
       "      <td>0.839280</td>\n",
       "      <td>8347.333333</td>\n",
       "      <td>258.224139</td>\n",
       "      <td>0.869565</td>\n",
       "      <td>0.043478</td>\n",
       "      <td>0.135507</td>\n",
       "      <td>2</td>\n",
       "      <td>-0.026141</td>\n",
       "      <td>-1.110348</td>\n",
       "      <td>0.511501</td>\n",
       "      <td>1.596281</td>\n",
       "      <td>1.133055</td>\n",
       "      <td>0.778531</td>\n",
       "      <td>0.115623</td>\n",
       "      <td>1.663915</td>\n",
       "      <td>-0.742781</td>\n",
       "    </tr>\n",
       "    <tr>\n",
       "      <th>Zeus</th>\n",
       "      <td>Top</td>\n",
       "      <td>T1</td>\n",
       "      <td>3</td>\n",
       "      <td>2</td>\n",
       "      <td>1</td>\n",
       "      <td>0.666667</td>\n",
       "      <td>0.333333</td>\n",
       "      <td>3.000000</td>\n",
       "      <td>3.666667</td>\n",
       "      <td>1.333333</td>\n",
       "      <td>361.106190</td>\n",
       "      <td>287.333333</td>\n",
       "      <td>8.713877</td>\n",
       "      <td>12400.333333</td>\n",
       "      <td>374.714358</td>\n",
       "      <td>0.521739</td>\n",
       "      <td>0.043478</td>\n",
       "      <td>0.201302</td>\n",
       "      <td>2</td>\n",
       "      <td>-0.543553</td>\n",
       "      <td>-0.994806</td>\n",
       "      <td>0.783023</td>\n",
       "      <td>0.754808</td>\n",
       "      <td>-0.001431</td>\n",
       "      <td>-0.708703</td>\n",
       "      <td>-1.337904</td>\n",
       "      <td>-1.067689</td>\n",
       "      <td>-0.760886</td>\n",
       "    </tr>\n",
       "  </tbody>\n",
       "</table>\n",
       "</div>"
      ],
      "text/plain": [
       "          Position                 Team  Games  Win  Loss   WinRate     Kills   \n",
       "Player                                                                          \n",
       "Paduck         Bot                  DRX      2    0     2  0.000000  4.500000  \\\n",
       "Croco       Jungle                  DRX      2    0     2  0.000000  4.000000   \n",
       "Kyeahoo        Mid                  DRX      2    0     2  0.000000  1.000000   \n",
       "BeryL      Support                  DRX      2    0     2  0.000000  0.000000   \n",
       "Rascal         Top                  DRX      2    0     2  0.000000  1.000000   \n",
       "Deft           Bot            Dplus KIA      2    2     0  1.000000  5.000000   \n",
       "Canyon      Jungle            Dplus KIA      2    2     0  1.000000  2.000000   \n",
       "ShowMaker      Mid            Dplus KIA      2    2     0  1.000000  7.000000   \n",
       "Kellin     Support            Dplus KIA      2    2     0  1.000000  0.500000   \n",
       "Canna          Top            Dplus KIA      2    2     0  1.000000  2.000000   \n",
       "Peyz           Bot                Gen.G      3    2     1  0.666667  4.000000   \n",
       "Peanut      Jungle                Gen.G      3    2     1  0.666667  1.666667   \n",
       "Chovy          Mid                Gen.G      3    2     1  0.666667  2.000000   \n",
       "Delight    Support                Gen.G      3    2     1  0.666667  0.666667   \n",
       "Doran          Top                Gen.G      3    2     1  0.666667  1.000000   \n",
       "Viper          Bot  Hanwha Life Esports      6    2     4  0.333333  2.333333   \n",
       "Clid        Jungle  Hanwha Life Esports      6    2     4  0.333333  2.500000   \n",
       "Zeka           Mid  Hanwha Life Esports      6    2     4  0.333333  2.500000   \n",
       "Life       Support  Hanwha Life Esports      6    2     4  0.333333  0.500000   \n",
       "Kingen         Top  Hanwha Life Esports      6    2     4  0.333333  0.500000   \n",
       "Aiming         Bot           KT Rolster      6    3     3  0.500000  2.500000   \n",
       "Cuzz        Jungle           KT Rolster      6    3     3  0.500000  1.500000   \n",
       "Bdd            Mid           KT Rolster      6    3     3  0.500000  1.500000   \n",
       "Lehends    Support           KT Rolster      6    3     3  0.500000  0.666667   \n",
       "Kiin           Top           KT Rolster      6    3     3  0.500000  2.500000   \n",
       "Taeyoon        Bot     Kwangdong Freecs      4    4     0  1.000000  4.250000   \n",
       "YoungJae    Jungle     Kwangdong Freecs      4    4     0  1.000000  2.000000   \n",
       "BuLLDoG        Mid     Kwangdong Freecs      4    4     0  1.000000  2.500000   \n",
       "Jun        Support     Kwangdong Freecs      4    4     0  1.000000  0.250000   \n",
       "DuDu           Top     Kwangdong Freecs      4    4     0  1.000000  3.750000   \n",
       "Teddy          Bot         Liiv SANDBOX      4    2     2  0.500000  4.750000   \n",
       "Willer      Jungle         Liiv SANDBOX      4    2     2  0.500000  1.000000   \n",
       "Clozer         Mid         Liiv SANDBOX      4    2     2  0.500000  1.500000   \n",
       "Kael       Support         Liiv SANDBOX      4    2     2  0.500000  0.000000   \n",
       "Burdol         Top         Liiv SANDBOX      4    2     2  0.500000  1.500000   \n",
       "vital          Bot    Nongshim RedForce      5    2     3  0.400000  2.600000   \n",
       "Sylvie      Jungle    Nongshim RedForce      5    2     3  0.400000  1.200000   \n",
       "Quad           Mid    Nongshim RedForce      5    2     3  0.400000  1.200000   \n",
       "Peter      Support    Nongshim RedForce      5    2     3  0.400000  0.400000   \n",
       "DnDn           Top    Nongshim RedForce      5    2     3  0.400000  1.000000   \n",
       "Hena           Bot  OKSavingsBank BRION      5    1     4  0.200000  1.600000   \n",
       "UmTi        Jungle  OKSavingsBank BRION      5    1     4  0.200000  1.400000   \n",
       "Karis          Mid  OKSavingsBank BRION      5    1     4  0.200000  0.800000   \n",
       "Effort     Support  OKSavingsBank BRION      5    1     4  0.200000  0.200000   \n",
       "Morgan         Top  OKSavingsBank BRION      5    1     4  0.200000  1.000000   \n",
       "Gumayusi       Bot                   T1      3    2     1  0.666667  3.000000   \n",
       "Oner        Jungle                   T1      3    2     1  0.666667  2.333333   \n",
       "Faker          Mid                   T1      3    2     1  0.666667  1.666667   \n",
       "Keria      Support                   T1      3    2     1  0.666667  0.333333   \n",
       "Zeus           Top                   T1      3    2     1  0.666667  0.333333   \n",
       "\n",
       "             Deaths    Assists        KDA         DPM          CS       CSPM   \n",
       "Player                                                                         \n",
       "Paduck     4.500000   3.500000   1.777778  793.560986  310.000000   8.731239  \\\n",
       "Croco      3.500000   4.000000   2.285714  302.800707  213.500000   5.960021   \n",
       "Kyeahoo    2.500000   6.000000   2.800000  454.796600  278.500000   7.717359   \n",
       "BeryL      2.000000   9.500000   4.750000  382.269741    2.500000   0.075080   \n",
       "Rascal     3.500000   6.000000   2.000000  462.947256  258.000000   7.143991   \n",
       "Deft       2.000000   7.000000   6.000000  692.426897  278.000000   9.410698   \n",
       "Canyon     0.000000  11.500000  27.000000  342.301315  170.000000   5.754559   \n",
       "ShowMaker  0.000000   6.500000  27.000000  613.207563  248.500000   8.420706   \n",
       "Kellin     1.000000  15.000000  15.500000  121.308906   27.500000   0.929494   \n",
       "Canna      0.000000   6.000000  16.000000  421.635922  245.500000   8.312303   \n",
       "Peyz       1.000000   2.333333   6.333333  438.065772  250.666667   9.812563   \n",
       "Peanut     1.333333   5.333333   5.250000  315.095770  175.333333   6.804378   \n",
       "Chovy      1.000000   5.666667   7.666667  418.212653  255.666667  10.040908   \n",
       "Delight    1.666667   6.000000   4.000000  171.369116   21.333333   0.878286   \n",
       "Doran      2.333333   3.000000   1.714286  445.604185  208.666667   8.182866   \n",
       "Viper      1.500000   3.000000   3.555556  554.645597  332.500000  10.604812   \n",
       "Clid       2.500000   3.333333   2.333333  207.291874  183.500000   5.911041   \n",
       "Zeka       1.500000   3.666667   4.111111  383.402324  264.333333   8.354188   \n",
       "Life       2.166667   5.500000   2.769231  135.275132   16.333333   0.515572   \n",
       "Kingen     1.166667   4.666667   4.428571  345.730030  256.333333   8.251499   \n",
       "Aiming     1.666667   3.000000   3.300000  433.454306  272.500000   9.964691   \n",
       "Cuzz       2.833333   5.333333   2.411765  289.681928  151.833333   5.539170   \n",
       "Bdd        1.000000   4.833333   6.333333  455.446186  241.166667   8.795973   \n",
       "Lehends    1.666667   6.000000   4.000000  134.663939   19.500000   0.720567   \n",
       "Kiin       2.333333   3.000000   2.357143  392.190976  227.666667   8.223629   \n",
       "Taeyoon    1.750000   5.250000   5.428571  541.072809  327.750000   9.893001   \n",
       "YoungJae   1.000000   7.500000   9.500000  307.550312  190.500000   5.747844   \n",
       "BuLLDoG    2.000000   7.250000   4.875000  540.616741  314.500000   9.366057   \n",
       "Jun        2.000000   9.500000   4.875000  107.291207   43.000000   1.276584   \n",
       "DuDu       0.250000   5.000000  35.000000  641.789853  309.000000   9.301942   \n",
       "Teddy      1.750000   3.500000   4.714286  626.106104  290.500000  10.161549   \n",
       "Willer     2.500000   6.250000   2.900000  207.700078  155.250000   5.443881   \n",
       "Clozer     2.500000   4.750000   2.500000  413.152081  250.750000   8.767776   \n",
       "Kael       2.000000   7.750000   3.875000  124.241105   19.500000   0.682184   \n",
       "Burdol     1.500000   3.750000   3.500000  387.319851  221.500000   7.754558   \n",
       "vital      1.800000   2.200000   2.666667  497.443823  333.400000  10.887059   \n",
       "Sylvie     2.000000   2.000000   1.600000  192.431524  190.000000   6.182572   \n",
       "Quad       2.000000   2.800000   2.000000  332.585239  250.200000   8.167161   \n",
       "Peter      1.200000   4.600000   4.166667  187.986268    9.200000   0.317393   \n",
       "DnDn       2.600000   2.600000   1.384615  529.288680  249.400000   8.152738   \n",
       "Hena       1.400000   1.600000   2.285714  597.480454  325.000000  10.166141   \n",
       "UmTi       1.800000   2.600000   2.222222  208.780045  182.000000   5.707811   \n",
       "Karis      1.600000   2.800000   2.250000  367.504823  268.400000   8.417975   \n",
       "Effort     1.800000   3.400000   2.000000  108.621494   16.000000   0.511045   \n",
       "Morgan     2.000000   1.800000   1.400000  454.527062  279.400000   8.765762   \n",
       "Gumayusi   0.000000   2.666667  17.000000  594.369320  350.333333  10.662305   \n",
       "Oner       1.333333   4.000000   4.750000  333.761757  198.333333   6.157231   \n",
       "Faker      1.666667   5.000000   4.000000  531.540030  301.000000   8.981593   \n",
       "Keria      1.333333   6.333333   5.000000   61.108234   30.666667   0.839280   \n",
       "Zeus       3.000000   3.666667   1.333333  361.106190  287.333333   8.713877   \n",
       "\n",
       "                   Gold         GPM        KP        KS        GS   \n",
       "Player                                                              \n",
       "Paduck     14903.500000  408.003510  0.761905  0.428571  0.255247  \\\n",
       "Croco      12574.000000  344.711923  0.761905  0.380952  0.215351   \n",
       "Kyeahoo    11799.500000  324.169588  0.666667  0.095238  0.202086   \n",
       "BeryL       7355.500000  202.457605  0.904762  0.000000  0.125975   \n",
       "Rascal     11756.000000  324.138401  0.666667  0.095238  0.201341   \n",
       "Deft       15598.500000  528.013309  0.727273  0.303030  0.260196   \n",
       "Canyon     10895.500000  368.981049  0.818182  0.121212  0.181746   \n",
       "ShowMaker  13029.000000  441.441750  0.818182  0.424242  0.217335   \n",
       "Kellin      8138.000000  275.615400  0.939394  0.030303  0.135749   \n",
       "Canna      12288.000000  416.099461  0.484848  0.121212  0.204974   \n",
       "Peyz       12134.000000  476.782013  0.678571  0.428571  0.246281   \n",
       "Peanut      9730.333333  380.745975  0.750000  0.178571  0.197494   \n",
       "Chovy      10956.666667  429.745439  0.821429  0.214286  0.222385   \n",
       "Delight     6313.333333  246.987860  0.714286  0.071429  0.128140   \n",
       "Doran      10134.666667  397.047497  0.428571  0.107143  0.205701   \n",
       "Viper      13800.333333  437.462026  0.640000  0.280000  0.254380   \n",
       "Clid       10648.833333  338.591773  0.700000  0.300000  0.196289   \n",
       "Zeka       11755.666667  367.780203  0.740000  0.300000  0.216691   \n",
       "Life        6832.833333  217.809675  0.720000  0.060000  0.125949   \n",
       "Kingen     11213.166667  359.681375  0.620000  0.060000  0.206691   \n",
       "Aiming     12191.333333  447.570174  0.634615  0.288462  0.250628   \n",
       "Cuzz        8940.833333  325.690401  0.788462  0.173077  0.183805   \n",
       "Bdd        10615.666667  387.662383  0.730769  0.173077  0.218236   \n",
       "Lehends     6452.833333  235.593006  0.769231  0.076923  0.132657   \n",
       "Kiin       10442.500000  381.045568  0.634615  0.288462  0.214676   \n",
       "Taeyoon    15350.500000  464.595638  0.745098  0.333333  0.240487   \n",
       "YoungJae   11361.500000  338.166132  0.745098  0.156863  0.177993   \n",
       "BuLLDoG    14737.000000  443.533556  0.764706  0.196078  0.230875   \n",
       "Jun         8164.000000  244.490687  0.764706  0.019608  0.127900   \n",
       "DuDu       14218.000000  422.113769  0.686275  0.294118  0.222744   \n",
       "Teddy      12912.250000  453.095109  0.942857  0.542857  0.259195   \n",
       "Willer      9428.750000  331.121747  0.828571  0.114286  0.189269   \n",
       "Clozer     10841.500000  380.107784  0.714286  0.171429  0.217628   \n",
       "Kael        6472.000000  227.038812  0.885714  0.000000  0.129916   \n",
       "Burdol     10162.250000  356.340119  0.600000  0.171429  0.203993   \n",
       "vital      13691.200000  447.006287  0.750000  0.406250  0.262774   \n",
       "Sylvie     10053.000000  327.565488  0.500000  0.187500  0.192946   \n",
       "Quad       10919.600000  356.590519  0.625000  0.187500  0.209579   \n",
       "Peter       6631.400000  217.729232  0.781250  0.062500  0.127276   \n",
       "DnDn       10807.400000  353.476647  0.562500  0.156250  0.207425   \n",
       "Hena       13516.800000  423.339460  0.640000  0.320000  0.254305   \n",
       "UmTi       10082.600000  316.348172  0.800000  0.280000  0.189694   \n",
       "Karis      11168.200000  349.739899  0.720000  0.160000  0.210118   \n",
       "Effort      6805.800000  213.101983  0.720000  0.040000  0.128044   \n",
       "Morgan     11578.600000  362.896518  0.560000  0.200000  0.217839   \n",
       "Gumayusi   15655.666667  481.195297  0.739130  0.391304  0.254148   \n",
       "Oner       11386.333333  354.223644  0.826087  0.304348  0.184841   \n",
       "Faker      13811.000000  413.847005  0.869565  0.217391  0.224202   \n",
       "Keria       8347.333333  258.224139  0.869565  0.043478  0.135507   \n",
       "Zeus       12400.333333  374.714358  0.521739  0.043478  0.201302   \n",
       "\n",
       "           ChampionsPlayed      _KDA      _DPM     _CSPM     _Gold      _GPM   \n",
       "Player                                                                         \n",
       "Paduck                   1 -0.845201  2.053279 -2.151327  0.728376 -1.525248  \\\n",
       "Croco                    2 -0.509495  0.568789  0.105336  2.009146  0.109639   \n",
       "Kyeahoo                  1 -0.500546  0.045169 -1.586128 -0.121736 -1.667848   \n",
       "BeryL                    1 -0.095970  2.752932 -1.861386  0.272531 -1.465151   \n",
       "Rascal                   1 -0.478594  0.224238 -2.052236  0.214566 -1.766491   \n",
       "Deft                     2  0.166196  1.095004 -1.025324  1.273819  2.233156   \n",
       "Canyon                   2  2.857668  1.269560 -0.447194  0.375121  1.378337   \n",
       "ShowMaker                2  2.908160  1.953129 -0.454242  0.791579  1.327794   \n",
       "Kellin                   2  2.906672 -0.386189  0.791620  1.316894  1.943327   \n",
       "Canna                    2  0.885535 -0.270261  0.057768  0.660622  1.442875   \n",
       "Peyz                     2  0.246043 -1.315139 -0.359352 -1.445156  0.628721   \n",
       "Peanut                   3 -0.105630  0.786913  2.375988 -0.759171  1.993362   \n",
       "Chovy                    2  0.184951 -0.395462  2.153124 -0.747821  1.029020   \n",
       "Delight                  3 -0.305457  0.215990  0.632617 -1.118396  0.609548   \n",
       "Doran                    2 -0.506434  0.016641 -0.175998 -1.144841  0.777977   \n",
       "Viper                    3 -0.419350 -0.210512  0.953566 -0.137401 -0.602681   \n",
       "Clid                     3 -0.503007 -1.125609 -0.026380  0.134991 -0.210300   \n",
       "Zeka                     2 -0.315869 -0.814731 -0.561288 -0.154297 -0.553843   \n",
       "Life                     5 -0.649230 -0.218188 -0.493631 -0.425046 -0.749886   \n",
       "Kingen                   4 -0.241960 -1.178859 -0.052046 -0.240572 -0.526070   \n",
       "Aiming                   3 -0.480566 -1.358834 -0.107246 -1.400160 -0.286120   \n",
       "Cuzz                     4 -0.492321  0.336052 -1.026417 -1.527752 -0.884735   \n",
       "Bdd                      3 -0.002856  0.052992  0.149669 -1.001128 -0.045965   \n",
       "Lehends                  4 -0.305457 -0.225540  0.142889 -0.932213  0.078653   \n",
       "Kiin                     6 -0.443795 -0.622719 -0.102380 -0.886738  0.219523   \n",
       "Taeyoon                  3  0.029315 -0.339118 -0.226051  1.079186  0.247075   \n",
       "YoungJae                 3  0.473405  0.653051 -0.465252  0.828774 -0.232551   \n",
       "BuLLDoG                  3 -0.208271  1.078818  1.067096  2.060340  1.381228   \n",
       "Jun                      3 -0.061056 -0.554809  1.869356  1.351595  0.493203   \n",
       "DuDu                     4  2.736853  2.364995  1.845085  2.278832  1.652769   \n",
       "Teddy                    4 -0.141786  0.466596  0.218988 -0.834378 -0.113093   \n",
       "Willer                   4 -0.425803 -1.118367 -1.282671 -1.052764 -0.600804   \n",
       "Clozer                   4 -0.542803 -0.456414  0.104292 -0.833371 -0.238943   \n",
       "Kael                     3 -0.340371 -0.350917  0.023710 -0.906632 -0.319894   \n",
       "Burdol                   4 -0.332438 -0.681026 -0.949536 -1.121714 -0.642677   \n",
       "vital                    4 -0.632275 -0.752515  1.421305 -0.223050 -0.303779   \n",
       "Sylvie                   3 -0.602919 -1.389243  0.703822 -0.445055 -0.786712   \n",
       "Quad                     2 -0.613231 -1.426790 -0.862270 -0.775355 -0.839676   \n",
       "Peter                    3 -0.258904  0.415879 -1.108988 -0.693889 -0.753634   \n",
       "DnDn                     4 -0.538556  1.018349 -0.230410 -0.580788 -0.742610   \n",
       "Hena                     2 -0.723529  0.195360  0.226598 -0.359921 -1.044964   \n",
       "UmTi                     4 -0.518145 -1.099208 -0.572908 -0.416239 -1.373111   \n",
       "Karis                    3 -0.578017 -1.006206 -0.458637 -0.590687 -1.014671   \n",
       "Effort                   2 -0.864088 -0.538807 -0.507687 -0.461126 -0.969221   \n",
       "Morgan                   2 -0.537057  0.123448  0.876728  0.065825 -0.413864   \n",
       "Gumayusi                 2  2.801152  0.165881  1.048843  1.318684  0.766934   \n",
       "Oner                     3 -0.173752  1.118062  0.635675  0.852949  0.606875   \n",
       "Faker                    3 -0.331519  0.969495  0.448384  1.372475  0.622904   \n",
       "Keria                    2 -0.026141 -1.110348  0.511501  1.596281  1.133055   \n",
       "Zeus                     2 -0.543553 -0.994806  0.783023  0.754808 -0.001431   \n",
       "\n",
       "                _KP       _KS       _GS  _ChampionsPlayed  \n",
       "Player                                                     \n",
       "Paduck     0.415717  0.718125  0.235345         -1.745743  \n",
       "Croco      0.108809  1.888647  2.421414         -1.571429  \n",
       "Kyeahoo   -1.143923 -1.387783 -1.913723         -1.860521  \n",
       "BeryL      1.215738 -1.530349 -1.072587         -1.671258  \n",
       "Rascal     1.166179 -0.709815 -1.062024         -1.452600  \n",
       "Deft       0.015349 -0.882241  1.020612         -0.654654  \n",
       "Canyon     0.716640 -1.153166 -0.912357         -1.571429  \n",
       "ShowMaker  1.011989  2.459228  0.054383         -0.620174  \n",
       "Kellin     1.645931 -0.383156  1.733254         -0.742781  \n",
       "Canna     -1.185946 -0.394629 -0.535447         -0.760886  \n",
       "Peyz      -0.547668  0.718125 -1.187399         -0.654654  \n",
       "Peanut    -0.019770 -0.481432  0.649929         -0.142857  \n",
       "Chovy      1.058187  0.004228  0.706153         -0.620174  \n",
       "Delight   -1.150324  1.173748 -0.451070          0.185695  \n",
       "Doran     -1.913984 -0.565355 -0.430160         -0.760886  \n",
       "Viper     -0.993577 -1.175826  0.097766          0.436436  \n",
       "Clid      -0.559804  0.940615  0.530368         -0.142857  \n",
       "Zeka      -0.100461  1.006475 -0.028704         -0.620174  \n",
       "Life      -1.079342  0.741093 -1.080119          2.042649  \n",
       "Kingen     0.562467 -1.137418 -0.286607          0.622543  \n",
       "Aiming    -1.055826 -1.067960 -0.497611          0.436436  \n",
       "Cuzz       0.395641 -0.545778 -0.708155          1.285714  \n",
       "Bdd       -0.231806 -0.477622  0.170644          0.620174  \n",
       "Lehends   -0.467806  1.381756  0.845532          1.114172  \n",
       "Kiin       0.751541  1.634887  0.870612          2.005972  \n",
       "Taeyoon    0.221421 -0.495946 -2.106750          0.436436  \n",
       "YoungJae  -0.072715 -0.735662 -1.284648         -0.142857  \n",
       "BuLLDoG    0.251079 -0.208668  1.802021          0.620174  \n",
       "Jun       -0.524013 -0.788048 -0.519924          0.185695  \n",
       "DuDu       1.419839  1.703522  2.040066          0.622543  \n",
       "Teddy      2.507638  2.175010  0.861746          1.527525  \n",
       "Willer     0.828855 -1.234281 -0.166077          1.285714  \n",
       "Clozer    -0.466350 -0.496896  0.092183          1.860521  \n",
       "Kael       0.979132 -1.530349  0.058812          0.185695  \n",
       "Burdol     0.303733  0.214731 -0.677714          0.622543  \n",
       "vital      0.278091  0.433577  1.429616          1.527525  \n",
       "Sylvie    -2.719942 -0.376870  0.198759         -0.142857  \n",
       "Quad      -1.736798 -0.308975 -0.946654         -0.620174  \n",
       "Peter     -0.318505  0.835736 -0.699190          0.185695  \n",
       "DnDn      -0.181392  0.030544 -0.180195          0.622543  \n",
       "Hena      -0.993577 -0.665916  0.085789         -0.654654  \n",
       "UmTi       0.520264  0.706396 -0.123910          1.285714  \n",
       "Karis     -0.385042 -0.630529 -0.877040          0.620174  \n",
       "Effort    -1.079342 -0.016054 -0.478623         -0.742781  \n",
       "Morgan    -0.213734  0.561436  1.329158         -0.760886  \n",
       "Gumayusi   0.152432  0.243054  0.060885         -0.654654  \n",
       "Oner       0.802021  0.991533 -0.605322         -0.142857  \n",
       "Faker      1.743125  0.040541  0.940736          0.620174  \n",
       "Keria      0.778531  0.115623  1.663915         -0.742781  \n",
       "Zeus      -0.708703 -1.337904 -1.067689         -0.760886  "
      ]
     },
     "execution_count": 23,
     "metadata": {},
     "output_type": "execute_result"
    }
   ],
   "source": [
    "for position in positions:\n",
    "    scaler = StandardScaler()\n",
    "    df = players_stats.loc[players_stats[\"Position\"] == position]\n",
    "    players_stats.loc[\n",
    "        players_stats[\"Position\"] == position, columns\n",
    "    ] = scaler.fit_transform(df[origin_columns])\n",
    "players_stats"
   ]
  },
  {
   "cell_type": "code",
   "execution_count": 31,
   "metadata": {},
   "outputs": [
    {
     "data": {
      "application/vnd.plotly.v1+json": {
       "config": {
        "plotlyServerURL": "https://plot.ly"
       },
       "data": [
        {
         "fill": "toself",
         "name": "Rascal",
         "r": [
          -0.47859447930449905,
          0.22423821769965468,
          -2.0522357646723957,
          0.214566469237662,
          -1.7664906821713096,
          1.1661786810210923,
          -0.7098152502256756,
          -1.0620239643278573,
          -1.4526003741187568
         ],
         "subplot": "polar",
         "theta": [
          "_KDA",
          "_DPM",
          "_CSPM",
          "_Gold",
          "_GPM",
          "_KP",
          "_KS",
          "_GS",
          "_ChampionsPlayed"
         ],
         "type": "scatterpolar"
        },
        {
         "fill": "toself",
         "name": "Canna",
         "r": [
          0.8855347005882577,
          -0.27026098609017063,
          0.05776787614788778,
          0.6606221335749041,
          1.442874750407551,
          -1.1859455380397228,
          -0.3946290223204977,
          -0.5354470569264552,
          -0.7608859102526822
         ],
         "subplot": "polar2",
         "theta": [
          "_KDA",
          "_DPM",
          "_CSPM",
          "_Gold",
          "_GPM",
          "_KP",
          "_KS",
          "_GS",
          "_ChampionsPlayed"
         ],
         "type": "scatterpolar"
        },
        {
         "fill": "toself",
         "name": "Doran",
         "r": [
          -0.5064338503227186,
          0.016640591654283967,
          -0.17599845617565088,
          -1.144841269694886,
          0.7779768547645098,
          -1.9139839867966422,
          -0.565354895769136,
          -0.4301596447520141,
          -0.7608859102526822
         ],
         "subplot": "polar3",
         "theta": [
          "_KDA",
          "_DPM",
          "_CSPM",
          "_Gold",
          "_GPM",
          "_KP",
          "_KS",
          "_GS",
          "_ChampionsPlayed"
         ],
         "type": "scatterpolar"
        },
        {
         "fill": "toself",
         "name": "Kingen",
         "r": [
          -0.2419598256496331,
          -1.178859192787389,
          -0.052045690316987525,
          -0.2405724088157212,
          -0.5260700979484123,
          0.562466798128817,
          -1.137417899417033,
          -0.2866073862117699,
          0.622543017479467
         ],
         "subplot": "polar4",
         "theta": [
          "_KDA",
          "_DPM",
          "_CSPM",
          "_Gold",
          "_GPM",
          "_KP",
          "_KS",
          "_GS",
          "_ChampionsPlayed"
         ],
         "type": "scatterpolar"
        },
        {
         "fill": "toself",
         "name": "Kiin",
         "r": [
          -0.44379526553172466,
          -0.6227188050959784,
          -0.10237957528179391,
          -0.8867382584070138,
          0.21952270390511563,
          0.7515413988148589,
          1.6348874259535462,
          0.8706117329265972,
          2.0059719452116163
         ],
         "subplot": "polar5",
         "theta": [
          "_KDA",
          "_DPM",
          "_CSPM",
          "_Gold",
          "_GPM",
          "_KP",
          "_KS",
          "_GS",
          "_ChampionsPlayed"
         ],
         "type": "scatterpolar"
        },
        {
         "fill": "toself",
         "name": "DuDu",
         "r": [
          2.736852873299856,
          2.3649951242488174,
          1.8450854942681167,
          2.2788315925427187,
          1.6527691825472672,
          1.4198391360178475,
          1.7035224359894592,
          2.0400657271673373,
          0.622543017479467
         ],
         "subplot": "polar6",
         "theta": [
          "_KDA",
          "_DPM",
          "_CSPM",
          "_Gold",
          "_GPM",
          "_KP",
          "_KS",
          "_GS",
          "_ChampionsPlayed"
         ],
         "type": "scatterpolar"
        },
        {
         "fill": "toself",
         "name": "Burdol",
         "r": [
          -0.33243778145884656,
          -0.681026474415147,
          -0.9495356024624861,
          -1.1217140101560967,
          -0.6426771651001119,
          0.30373313403212704,
          0.214731018296179,
          -0.677713874332377,
          0.622543017479467
         ],
         "subplot": "polar7",
         "theta": [
          "_KDA",
          "_DPM",
          "_CSPM",
          "_Gold",
          "_GPM",
          "_KP",
          "_KS",
          "_GS",
          "_ChampionsPlayed"
         ],
         "type": "scatterpolar"
        },
        {
         "fill": "toself",
         "name": "DnDn",
         "r": [
          -0.5385562014975873,
          1.018349152044756,
          -0.2304100722045253,
          -0.5807876720975035,
          -0.7426100009992626,
          -0.18139248614916578,
          0.03054406636409111,
          -0.1801954841476489,
          0.622543017479467
         ],
         "subplot": "polar8",
         "theta": [
          "_KDA",
          "_DPM",
          "_CSPM",
          "_Gold",
          "_GPM",
          "_KP",
          "_KS",
          "_GS",
          "_ChampionsPlayed"
         ],
         "type": "scatterpolar"
        },
        {
         "fill": "toself",
         "name": "Morgan",
         "r": [
          -0.5370571584427601,
          0.12344798587764133,
          0.8767283475536298,
          0.0658253510921233,
          -0.4138642299554551,
          -0.2137341941612513,
          0.5614358689918749,
          1.329158460227446,
          -0.7608859102526822
         ],
         "subplot": "polar9",
         "theta": [
          "_KDA",
          "_DPM",
          "_CSPM",
          "_Gold",
          "_GPM",
          "_KP",
          "_KS",
          "_GS",
          "_ChampionsPlayed"
         ],
         "type": "scatterpolar"
        },
        {
         "fill": "toself",
         "name": "Zeus",
         "r": [
          -0.5435530116803446,
          -0.9948056131364683,
          0.7830234431441857,
          0.7548080727238085,
          -0.0014313154499104416,
          -0.7087029428679628,
          -1.3379037478628049,
          -1.0676885096232738,
          -0.7608859102526822
         ],
         "subplot": "polar10",
         "theta": [
          "_KDA",
          "_DPM",
          "_CSPM",
          "_Gold",
          "_GPM",
          "_KP",
          "_KS",
          "_GS",
          "_ChampionsPlayed"
         ],
         "type": "scatterpolar"
        }
       ],
       "layout": {
        "annotations": [
         {
          "font": {
           "size": 16
          },
          "showarrow": false,
          "text": "Rascal",
          "x": 0.08399999999999999,
          "xanchor": "center",
          "xref": "paper",
          "y": 1,
          "yanchor": "bottom",
          "yref": "paper",
          "yshift": 20
         },
         {
          "font": {
           "size": 16
          },
          "showarrow": false,
          "text": "Canna",
          "x": 0.292,
          "xanchor": "center",
          "xref": "paper",
          "y": 1,
          "yanchor": "bottom",
          "yref": "paper",
          "yshift": 20
         },
         {
          "font": {
           "size": 16
          },
          "showarrow": false,
          "text": "Doran",
          "x": 0.5,
          "xanchor": "center",
          "xref": "paper",
          "y": 1,
          "yanchor": "bottom",
          "yref": "paper",
          "yshift": 20
         },
         {
          "font": {
           "size": 16
          },
          "showarrow": false,
          "text": "Kingen",
          "x": 0.708,
          "xanchor": "center",
          "xref": "paper",
          "y": 1,
          "yanchor": "bottom",
          "yref": "paper",
          "yshift": 20
         },
         {
          "font": {
           "size": 16
          },
          "showarrow": false,
          "text": "Kiin",
          "x": 0.9159999999999999,
          "xanchor": "center",
          "xref": "paper",
          "y": 1,
          "yanchor": "bottom",
          "yref": "paper",
          "yshift": 20
         },
         {
          "font": {
           "size": 16
          },
          "showarrow": false,
          "text": "DuDu",
          "x": 0.08399999999999999,
          "xanchor": "center",
          "xref": "paper",
          "y": 0.375,
          "yanchor": "bottom",
          "yref": "paper",
          "yshift": 20
         },
         {
          "font": {
           "size": 16
          },
          "showarrow": false,
          "text": "Burdol",
          "x": 0.292,
          "xanchor": "center",
          "xref": "paper",
          "y": 0.375,
          "yanchor": "bottom",
          "yref": "paper",
          "yshift": 20
         },
         {
          "font": {
           "size": 16
          },
          "showarrow": false,
          "text": "DnDn",
          "x": 0.5,
          "xanchor": "center",
          "xref": "paper",
          "y": 0.375,
          "yanchor": "bottom",
          "yref": "paper",
          "yshift": 20
         },
         {
          "font": {
           "size": 16
          },
          "showarrow": false,
          "text": "Morgan",
          "x": 0.708,
          "xanchor": "center",
          "xref": "paper",
          "y": 0.375,
          "yanchor": "bottom",
          "yref": "paper",
          "yshift": 20
         },
         {
          "font": {
           "size": 16
          },
          "showarrow": false,
          "text": "Zeus",
          "x": 0.9159999999999999,
          "xanchor": "center",
          "xref": "paper",
          "y": 0.375,
          "yanchor": "bottom",
          "yref": "paper",
          "yshift": 20
         }
        ],
        "height": 800,
        "polar": {
         "domain": {
          "x": [
           0,
           0.16799999999999998
          ],
          "y": [
           0.625,
           1
          ]
         },
         "radialaxis": {
          "range": [
           -2.252235764672396,
           2.936852873299856
          ],
          "visible": true
         }
        },
        "polar10": {
         "domain": {
          "x": [
           0.832,
           1
          ],
          "y": [
           0,
           0.375
          ]
         },
         "radialaxis": {
          "range": [
           -2.252235764672396,
           2.936852873299856
          ]
         }
        },
        "polar2": {
         "domain": {
          "x": [
           0.208,
           0.376
          ],
          "y": [
           0.625,
           1
          ]
         },
         "radialaxis": {
          "range": [
           -2.252235764672396,
           2.936852873299856
          ]
         }
        },
        "polar3": {
         "domain": {
          "x": [
           0.416,
           0.584
          ],
          "y": [
           0.625,
           1
          ]
         },
         "radialaxis": {
          "range": [
           -2.252235764672396,
           2.936852873299856
          ]
         }
        },
        "polar4": {
         "domain": {
          "x": [
           0.624,
           0.792
          ],
          "y": [
           0.625,
           1
          ]
         },
         "radialaxis": {
          "range": [
           -2.252235764672396,
           2.936852873299856
          ]
         }
        },
        "polar5": {
         "domain": {
          "x": [
           0.832,
           1
          ],
          "y": [
           0.625,
           1
          ]
         },
         "radialaxis": {
          "range": [
           -2.252235764672396,
           2.936852873299856
          ]
         }
        },
        "polar6": {
         "domain": {
          "x": [
           0,
           0.16799999999999998
          ],
          "y": [
           0,
           0.375
          ]
         },
         "radialaxis": {
          "range": [
           -2.252235764672396,
           2.936852873299856
          ]
         }
        },
        "polar7": {
         "domain": {
          "x": [
           0.208,
           0.376
          ],
          "y": [
           0,
           0.375
          ]
         },
         "radialaxis": {
          "range": [
           -2.252235764672396,
           2.936852873299856
          ]
         }
        },
        "polar8": {
         "domain": {
          "x": [
           0.416,
           0.584
          ],
          "y": [
           0,
           0.375
          ]
         },
         "radialaxis": {
          "range": [
           -2.252235764672396,
           2.936852873299856
          ]
         }
        },
        "polar9": {
         "domain": {
          "x": [
           0.624,
           0.792
          ],
          "y": [
           0,
           0.375
          ]
         },
         "radialaxis": {
          "range": [
           -2.252235764672396,
           2.936852873299856
          ]
         }
        },
        "showlegend": false,
        "template": {
         "data": {
          "bar": [
           {
            "error_x": {
             "color": "#2a3f5f"
            },
            "error_y": {
             "color": "#2a3f5f"
            },
            "marker": {
             "line": {
              "color": "#E5ECF6",
              "width": 0.5
             },
             "pattern": {
              "fillmode": "overlay",
              "size": 10,
              "solidity": 0.2
             }
            },
            "type": "bar"
           }
          ],
          "barpolar": [
           {
            "marker": {
             "line": {
              "color": "#E5ECF6",
              "width": 0.5
             },
             "pattern": {
              "fillmode": "overlay",
              "size": 10,
              "solidity": 0.2
             }
            },
            "type": "barpolar"
           }
          ],
          "carpet": [
           {
            "aaxis": {
             "endlinecolor": "#2a3f5f",
             "gridcolor": "white",
             "linecolor": "white",
             "minorgridcolor": "white",
             "startlinecolor": "#2a3f5f"
            },
            "baxis": {
             "endlinecolor": "#2a3f5f",
             "gridcolor": "white",
             "linecolor": "white",
             "minorgridcolor": "white",
             "startlinecolor": "#2a3f5f"
            },
            "type": "carpet"
           }
          ],
          "choropleth": [
           {
            "colorbar": {
             "outlinewidth": 0,
             "ticks": ""
            },
            "type": "choropleth"
           }
          ],
          "contour": [
           {
            "colorbar": {
             "outlinewidth": 0,
             "ticks": ""
            },
            "colorscale": [
             [
              0,
              "#0d0887"
             ],
             [
              0.1111111111111111,
              "#46039f"
             ],
             [
              0.2222222222222222,
              "#7201a8"
             ],
             [
              0.3333333333333333,
              "#9c179e"
             ],
             [
              0.4444444444444444,
              "#bd3786"
             ],
             [
              0.5555555555555556,
              "#d8576b"
             ],
             [
              0.6666666666666666,
              "#ed7953"
             ],
             [
              0.7777777777777778,
              "#fb9f3a"
             ],
             [
              0.8888888888888888,
              "#fdca26"
             ],
             [
              1,
              "#f0f921"
             ]
            ],
            "type": "contour"
           }
          ],
          "contourcarpet": [
           {
            "colorbar": {
             "outlinewidth": 0,
             "ticks": ""
            },
            "type": "contourcarpet"
           }
          ],
          "heatmap": [
           {
            "colorbar": {
             "outlinewidth": 0,
             "ticks": ""
            },
            "colorscale": [
             [
              0,
              "#0d0887"
             ],
             [
              0.1111111111111111,
              "#46039f"
             ],
             [
              0.2222222222222222,
              "#7201a8"
             ],
             [
              0.3333333333333333,
              "#9c179e"
             ],
             [
              0.4444444444444444,
              "#bd3786"
             ],
             [
              0.5555555555555556,
              "#d8576b"
             ],
             [
              0.6666666666666666,
              "#ed7953"
             ],
             [
              0.7777777777777778,
              "#fb9f3a"
             ],
             [
              0.8888888888888888,
              "#fdca26"
             ],
             [
              1,
              "#f0f921"
             ]
            ],
            "type": "heatmap"
           }
          ],
          "heatmapgl": [
           {
            "colorbar": {
             "outlinewidth": 0,
             "ticks": ""
            },
            "colorscale": [
             [
              0,
              "#0d0887"
             ],
             [
              0.1111111111111111,
              "#46039f"
             ],
             [
              0.2222222222222222,
              "#7201a8"
             ],
             [
              0.3333333333333333,
              "#9c179e"
             ],
             [
              0.4444444444444444,
              "#bd3786"
             ],
             [
              0.5555555555555556,
              "#d8576b"
             ],
             [
              0.6666666666666666,
              "#ed7953"
             ],
             [
              0.7777777777777778,
              "#fb9f3a"
             ],
             [
              0.8888888888888888,
              "#fdca26"
             ],
             [
              1,
              "#f0f921"
             ]
            ],
            "type": "heatmapgl"
           }
          ],
          "histogram": [
           {
            "marker": {
             "pattern": {
              "fillmode": "overlay",
              "size": 10,
              "solidity": 0.2
             }
            },
            "type": "histogram"
           }
          ],
          "histogram2d": [
           {
            "colorbar": {
             "outlinewidth": 0,
             "ticks": ""
            },
            "colorscale": [
             [
              0,
              "#0d0887"
             ],
             [
              0.1111111111111111,
              "#46039f"
             ],
             [
              0.2222222222222222,
              "#7201a8"
             ],
             [
              0.3333333333333333,
              "#9c179e"
             ],
             [
              0.4444444444444444,
              "#bd3786"
             ],
             [
              0.5555555555555556,
              "#d8576b"
             ],
             [
              0.6666666666666666,
              "#ed7953"
             ],
             [
              0.7777777777777778,
              "#fb9f3a"
             ],
             [
              0.8888888888888888,
              "#fdca26"
             ],
             [
              1,
              "#f0f921"
             ]
            ],
            "type": "histogram2d"
           }
          ],
          "histogram2dcontour": [
           {
            "colorbar": {
             "outlinewidth": 0,
             "ticks": ""
            },
            "colorscale": [
             [
              0,
              "#0d0887"
             ],
             [
              0.1111111111111111,
              "#46039f"
             ],
             [
              0.2222222222222222,
              "#7201a8"
             ],
             [
              0.3333333333333333,
              "#9c179e"
             ],
             [
              0.4444444444444444,
              "#bd3786"
             ],
             [
              0.5555555555555556,
              "#d8576b"
             ],
             [
              0.6666666666666666,
              "#ed7953"
             ],
             [
              0.7777777777777778,
              "#fb9f3a"
             ],
             [
              0.8888888888888888,
              "#fdca26"
             ],
             [
              1,
              "#f0f921"
             ]
            ],
            "type": "histogram2dcontour"
           }
          ],
          "mesh3d": [
           {
            "colorbar": {
             "outlinewidth": 0,
             "ticks": ""
            },
            "type": "mesh3d"
           }
          ],
          "parcoords": [
           {
            "line": {
             "colorbar": {
              "outlinewidth": 0,
              "ticks": ""
             }
            },
            "type": "parcoords"
           }
          ],
          "pie": [
           {
            "automargin": true,
            "type": "pie"
           }
          ],
          "scatter": [
           {
            "fillpattern": {
             "fillmode": "overlay",
             "size": 10,
             "solidity": 0.2
            },
            "type": "scatter"
           }
          ],
          "scatter3d": [
           {
            "line": {
             "colorbar": {
              "outlinewidth": 0,
              "ticks": ""
             }
            },
            "marker": {
             "colorbar": {
              "outlinewidth": 0,
              "ticks": ""
             }
            },
            "type": "scatter3d"
           }
          ],
          "scattercarpet": [
           {
            "marker": {
             "colorbar": {
              "outlinewidth": 0,
              "ticks": ""
             }
            },
            "type": "scattercarpet"
           }
          ],
          "scattergeo": [
           {
            "marker": {
             "colorbar": {
              "outlinewidth": 0,
              "ticks": ""
             }
            },
            "type": "scattergeo"
           }
          ],
          "scattergl": [
           {
            "marker": {
             "colorbar": {
              "outlinewidth": 0,
              "ticks": ""
             }
            },
            "type": "scattergl"
           }
          ],
          "scattermapbox": [
           {
            "marker": {
             "colorbar": {
              "outlinewidth": 0,
              "ticks": ""
             }
            },
            "type": "scattermapbox"
           }
          ],
          "scatterpolar": [
           {
            "marker": {
             "colorbar": {
              "outlinewidth": 0,
              "ticks": ""
             }
            },
            "type": "scatterpolar"
           }
          ],
          "scatterpolargl": [
           {
            "marker": {
             "colorbar": {
              "outlinewidth": 0,
              "ticks": ""
             }
            },
            "type": "scatterpolargl"
           }
          ],
          "scatterternary": [
           {
            "marker": {
             "colorbar": {
              "outlinewidth": 0,
              "ticks": ""
             }
            },
            "type": "scatterternary"
           }
          ],
          "surface": [
           {
            "colorbar": {
             "outlinewidth": 0,
             "ticks": ""
            },
            "colorscale": [
             [
              0,
              "#0d0887"
             ],
             [
              0.1111111111111111,
              "#46039f"
             ],
             [
              0.2222222222222222,
              "#7201a8"
             ],
             [
              0.3333333333333333,
              "#9c179e"
             ],
             [
              0.4444444444444444,
              "#bd3786"
             ],
             [
              0.5555555555555556,
              "#d8576b"
             ],
             [
              0.6666666666666666,
              "#ed7953"
             ],
             [
              0.7777777777777778,
              "#fb9f3a"
             ],
             [
              0.8888888888888888,
              "#fdca26"
             ],
             [
              1,
              "#f0f921"
             ]
            ],
            "type": "surface"
           }
          ],
          "table": [
           {
            "cells": {
             "fill": {
              "color": "#EBF0F8"
             },
             "line": {
              "color": "white"
             }
            },
            "header": {
             "fill": {
              "color": "#C8D4E3"
             },
             "line": {
              "color": "white"
             }
            },
            "type": "table"
           }
          ]
         },
         "layout": {
          "annotationdefaults": {
           "arrowcolor": "#2a3f5f",
           "arrowhead": 0,
           "arrowwidth": 1
          },
          "autotypenumbers": "strict",
          "coloraxis": {
           "colorbar": {
            "outlinewidth": 0,
            "ticks": ""
           }
          },
          "colorscale": {
           "diverging": [
            [
             0,
             "#8e0152"
            ],
            [
             0.1,
             "#c51b7d"
            ],
            [
             0.2,
             "#de77ae"
            ],
            [
             0.3,
             "#f1b6da"
            ],
            [
             0.4,
             "#fde0ef"
            ],
            [
             0.5,
             "#f7f7f7"
            ],
            [
             0.6,
             "#e6f5d0"
            ],
            [
             0.7,
             "#b8e186"
            ],
            [
             0.8,
             "#7fbc41"
            ],
            [
             0.9,
             "#4d9221"
            ],
            [
             1,
             "#276419"
            ]
           ],
           "sequential": [
            [
             0,
             "#0d0887"
            ],
            [
             0.1111111111111111,
             "#46039f"
            ],
            [
             0.2222222222222222,
             "#7201a8"
            ],
            [
             0.3333333333333333,
             "#9c179e"
            ],
            [
             0.4444444444444444,
             "#bd3786"
            ],
            [
             0.5555555555555556,
             "#d8576b"
            ],
            [
             0.6666666666666666,
             "#ed7953"
            ],
            [
             0.7777777777777778,
             "#fb9f3a"
            ],
            [
             0.8888888888888888,
             "#fdca26"
            ],
            [
             1,
             "#f0f921"
            ]
           ],
           "sequentialminus": [
            [
             0,
             "#0d0887"
            ],
            [
             0.1111111111111111,
             "#46039f"
            ],
            [
             0.2222222222222222,
             "#7201a8"
            ],
            [
             0.3333333333333333,
             "#9c179e"
            ],
            [
             0.4444444444444444,
             "#bd3786"
            ],
            [
             0.5555555555555556,
             "#d8576b"
            ],
            [
             0.6666666666666666,
             "#ed7953"
            ],
            [
             0.7777777777777778,
             "#fb9f3a"
            ],
            [
             0.8888888888888888,
             "#fdca26"
            ],
            [
             1,
             "#f0f921"
            ]
           ]
          },
          "colorway": [
           "#636efa",
           "#EF553B",
           "#00cc96",
           "#ab63fa",
           "#FFA15A",
           "#19d3f3",
           "#FF6692",
           "#B6E880",
           "#FF97FF",
           "#FECB52"
          ],
          "font": {
           "color": "#2a3f5f"
          },
          "geo": {
           "bgcolor": "white",
           "lakecolor": "white",
           "landcolor": "#E5ECF6",
           "showlakes": true,
           "showland": true,
           "subunitcolor": "white"
          },
          "hoverlabel": {
           "align": "left"
          },
          "hovermode": "closest",
          "mapbox": {
           "style": "light"
          },
          "paper_bgcolor": "white",
          "plot_bgcolor": "#E5ECF6",
          "polar": {
           "angularaxis": {
            "gridcolor": "white",
            "linecolor": "white",
            "ticks": ""
           },
           "bgcolor": "#E5ECF6",
           "radialaxis": {
            "gridcolor": "white",
            "linecolor": "white",
            "ticks": ""
           }
          },
          "scene": {
           "xaxis": {
            "backgroundcolor": "#E5ECF6",
            "gridcolor": "white",
            "gridwidth": 2,
            "linecolor": "white",
            "showbackground": true,
            "ticks": "",
            "zerolinecolor": "white"
           },
           "yaxis": {
            "backgroundcolor": "#E5ECF6",
            "gridcolor": "white",
            "gridwidth": 2,
            "linecolor": "white",
            "showbackground": true,
            "ticks": "",
            "zerolinecolor": "white"
           },
           "zaxis": {
            "backgroundcolor": "#E5ECF6",
            "gridcolor": "white",
            "gridwidth": 2,
            "linecolor": "white",
            "showbackground": true,
            "ticks": "",
            "zerolinecolor": "white"
           }
          },
          "shapedefaults": {
           "line": {
            "color": "#2a3f5f"
           }
          },
          "ternary": {
           "aaxis": {
            "gridcolor": "white",
            "linecolor": "white",
            "ticks": ""
           },
           "baxis": {
            "gridcolor": "white",
            "linecolor": "white",
            "ticks": ""
           },
           "bgcolor": "#E5ECF6",
           "caxis": {
            "gridcolor": "white",
            "linecolor": "white",
            "ticks": ""
           }
          },
          "title": {
           "x": 0.05
          },
          "xaxis": {
           "automargin": true,
           "gridcolor": "white",
           "linecolor": "white",
           "ticks": "",
           "title": {
            "standoff": 15
           },
           "zerolinecolor": "white",
           "zerolinewidth": 2
          },
          "yaxis": {
           "automargin": true,
           "gridcolor": "white",
           "linecolor": "white",
           "ticks": "",
           "title": {
            "standoff": 15
           },
           "zerolinecolor": "white",
           "zerolinewidth": 2
          }
         }
        },
        "title": {
         "y": 1
        }
       }
      }
     },
     "metadata": {},
     "output_type": "display_data"
    }
   ],
   "source": [
    "df = players_stats.loc[players_stats[\"Position\"] == positions[0]]\n",
    "min_value, max_value = df[columns].unstack().min(), df[columns].unstack().max()\n",
    "\n",
    "COLUMNS = 5\n",
    "d, m = divmod(df.shape[0], COLUMNS)\n",
    "ROWS = d + (1 if m > 0 else 0)\n",
    "\n",
    "fig = make_subplots(\n",
    "    rows=ROWS,\n",
    "    cols=COLUMNS,\n",
    "    subplot_titles=df.index.values,\n",
    "    specs=[[{\"type\": \"polar\"} for _ in range(COLUMNS)] for _ in range(ROWS)],\n",
    ")\n",
    "\n",
    "for i, player_name in enumerate(df.index):\n",
    "    _df = df.loc[player_name, columns]\n",
    "\n",
    "    r, c = get_rc(i, COLUMNS)\n",
    "    fig.add_trace(\n",
    "        go.Scatterpolar(r=_df, theta=columns, fill=\"toself\", name=player_name),\n",
    "        row=r,\n",
    "        col=c,\n",
    "    )\n",
    "fig.update_layout(\n",
    "    height=800,\n",
    "    showlegend=False,\n",
    "    polar=dict(\n",
    "        radialaxis=dict(visible=True),\n",
    "    ),\n",
    "    title=dict(y=1),\n",
    ")\n",
    "fig.update_annotations(yshift=20)\n",
    "fig.update_polars(radialaxis=dict(range=[min_value - 0.2, max_value + 0.2]))\n",
    "fig.show()"
   ]
  },
  {
   "cell_type": "code",
   "execution_count": 32,
   "metadata": {},
   "outputs": [
    {
     "data": {
      "application/vnd.plotly.v1+json": {
       "config": {
        "plotlyServerURL": "https://plot.ly"
       },
       "data": [
        {
         "fill": "toself",
         "name": "Croco",
         "r": [
          -0.5094949998522256,
          0.5687893910567625,
          0.10533631725224445,
          2.0091457319803054,
          0.10963852631870148,
          0.10880943334401805,
          1.8886470508152629,
          2.4214139992523855,
          -1.5714285714285716
         ],
         "subplot": "polar",
         "theta": [
          "_KDA",
          "_DPM",
          "_CSPM",
          "_Gold",
          "_GPM",
          "_KP",
          "_KS",
          "_GS",
          "_ChampionsPlayed"
         ],
         "type": "scatterpolar"
        },
        {
         "fill": "toself",
         "name": "Canyon",
         "r": [
          2.8576676555342964,
          1.2695598903646652,
          -0.4471937203677624,
          0.37512142389529096,
          1.3783365272741477,
          0.7166402476610116,
          -1.1531661390117611,
          -0.9123572589302033,
          -1.5714285714285716
         ],
         "subplot": "polar2",
         "theta": [
          "_KDA",
          "_DPM",
          "_CSPM",
          "_Gold",
          "_GPM",
          "_KP",
          "_KS",
          "_GS",
          "_ChampionsPlayed"
         ],
         "type": "scatterpolar"
        },
        {
         "fill": "toself",
         "name": "Peanut",
         "r": [
          -0.10563011488534506,
          0.7869130434919642,
          2.3759875901306606,
          -0.7591714901968877,
          1.9933622995732445,
          -0.019770161992268387,
          -0.48143239292496065,
          0.6499294661246838,
          -0.142857142857143
         ],
         "subplot": "polar3",
         "theta": [
          "_KDA",
          "_DPM",
          "_CSPM",
          "_Gold",
          "_GPM",
          "_KP",
          "_KS",
          "_GS",
          "_ChampionsPlayed"
         ],
         "type": "scatterpolar"
        },
        {
         "fill": "toself",
         "name": "Clid",
         "r": [
          -0.5030072105354886,
          -1.1256091753834967,
          -0.02637977425117041,
          0.13499075405457847,
          -0.21029974489435957,
          -0.5598044624046739,
          0.9406152733191743,
          0.5303675889858362,
          -0.142857142857143
         ],
         "subplot": "polar4",
         "theta": [
          "_KDA",
          "_DPM",
          "_CSPM",
          "_Gold",
          "_GPM",
          "_KP",
          "_KS",
          "_GS",
          "_ChampionsPlayed"
         ],
         "type": "scatterpolar"
        },
        {
         "fill": "toself",
         "name": "Cuzz",
         "r": [
          -0.49232143989615695,
          0.3360523665736911,
          -1.0264174518796745,
          -1.5277518841397646,
          -0.8847346475578254,
          0.39564083832496594,
          -0.5457784411713017,
          -0.7081554981781405,
          1.2857142857142856
         ],
         "subplot": "polar5",
         "theta": [
          "_KDA",
          "_DPM",
          "_CSPM",
          "_Gold",
          "_GPM",
          "_KP",
          "_KS",
          "_GS",
          "_ChampionsPlayed"
         ],
         "type": "scatterpolar"
        },
        {
         "fill": "toself",
         "name": "YoungJae",
         "r": [
          0.4734050816334355,
          0.653050950307056,
          -0.4652516690449282,
          0.8287736893511246,
          -0.23255065283858647,
          -0.07271470124838633,
          -0.7356623678590322,
          -1.2846482009009843,
          -0.142857142857143
         ],
         "subplot": "polar6",
         "theta": [
          "_KDA",
          "_DPM",
          "_CSPM",
          "_Gold",
          "_GPM",
          "_KP",
          "_KS",
          "_GS",
          "_ChampionsPlayed"
         ],
         "type": "scatterpolar"
        },
        {
         "fill": "toself",
         "name": "Willer",
         "r": [
          -0.4258025176663178,
          -1.118367313132554,
          -1.2826710575521367,
          -1.052763684167679,
          -0.6008044383806582,
          0.8288551672272257,
          -1.2342811574071495,
          -0.16607697475767172,
          1.2857142857142856
         ],
         "subplot": "polar7",
         "theta": [
          "_KDA",
          "_DPM",
          "_CSPM",
          "_Gold",
          "_GPM",
          "_KP",
          "_KS",
          "_GS",
          "_ChampionsPlayed"
         ],
         "type": "scatterpolar"
        },
        {
         "fill": "toself",
         "name": "Sylvie",
         "r": [
          -0.6029191660132389,
          -1.389242960150673,
          0.7038223951356601,
          -0.4450546139728203,
          -0.7867121681425772,
          -2.7199416640542933,
          -0.37687006452465577,
          0.1987592406059931,
          -0.142857142857143
         ],
         "subplot": "polar8",
         "theta": [
          "_KDA",
          "_DPM",
          "_CSPM",
          "_Gold",
          "_GPM",
          "_KP",
          "_KS",
          "_GS",
          "_ChampionsPlayed"
         ],
         "type": "scatterpolar"
        },
        {
         "fill": "toself",
         "name": "UmTi",
         "r": [
          -0.5181453856078749,
          -1.0992078967725425,
          -0.5729077748255598,
          -0.41623893359193437,
          -1.3731109780881177,
          0.5202641384201371,
          0.7063956577024938,
          -0.12391048951071267,
          1.2857142857142856
         ],
         "subplot": "polar9",
         "theta": [
          "_KDA",
          "_DPM",
          "_CSPM",
          "_Gold",
          "_GPM",
          "_KP",
          "_KS",
          "_GS",
          "_ChampionsPlayed"
         ],
         "type": "scatterpolar"
        },
        {
         "fill": "toself",
         "name": "Oner",
         "r": [
          -0.17375190271108393,
          1.118061703645133,
          0.6356751454026526,
          0.8529490067877916,
          0.6068752767360187,
          0.8020211647222609,
          0.9915325810619307,
          -0.6053218726912055,
          -0.142857142857143
         ],
         "subplot": "polar10",
         "theta": [
          "_KDA",
          "_DPM",
          "_CSPM",
          "_Gold",
          "_GPM",
          "_KP",
          "_KS",
          "_GS",
          "_ChampionsPlayed"
         ],
         "type": "scatterpolar"
        }
       ],
       "layout": {
        "annotations": [
         {
          "font": {
           "size": 16
          },
          "showarrow": false,
          "text": "Croco",
          "x": 0.08399999999999999,
          "xanchor": "center",
          "xref": "paper",
          "y": 1,
          "yanchor": "bottom",
          "yref": "paper",
          "yshift": 20
         },
         {
          "font": {
           "size": 16
          },
          "showarrow": false,
          "text": "Canyon",
          "x": 0.292,
          "xanchor": "center",
          "xref": "paper",
          "y": 1,
          "yanchor": "bottom",
          "yref": "paper",
          "yshift": 20
         },
         {
          "font": {
           "size": 16
          },
          "showarrow": false,
          "text": "Peanut",
          "x": 0.5,
          "xanchor": "center",
          "xref": "paper",
          "y": 1,
          "yanchor": "bottom",
          "yref": "paper",
          "yshift": 20
         },
         {
          "font": {
           "size": 16
          },
          "showarrow": false,
          "text": "Clid",
          "x": 0.708,
          "xanchor": "center",
          "xref": "paper",
          "y": 1,
          "yanchor": "bottom",
          "yref": "paper",
          "yshift": 20
         },
         {
          "font": {
           "size": 16
          },
          "showarrow": false,
          "text": "Cuzz",
          "x": 0.9159999999999999,
          "xanchor": "center",
          "xref": "paper",
          "y": 1,
          "yanchor": "bottom",
          "yref": "paper",
          "yshift": 20
         },
         {
          "font": {
           "size": 16
          },
          "showarrow": false,
          "text": "YoungJae",
          "x": 0.08399999999999999,
          "xanchor": "center",
          "xref": "paper",
          "y": 0.375,
          "yanchor": "bottom",
          "yref": "paper",
          "yshift": 20
         },
         {
          "font": {
           "size": 16
          },
          "showarrow": false,
          "text": "Willer",
          "x": 0.292,
          "xanchor": "center",
          "xref": "paper",
          "y": 0.375,
          "yanchor": "bottom",
          "yref": "paper",
          "yshift": 20
         },
         {
          "font": {
           "size": 16
          },
          "showarrow": false,
          "text": "Sylvie",
          "x": 0.5,
          "xanchor": "center",
          "xref": "paper",
          "y": 0.375,
          "yanchor": "bottom",
          "yref": "paper",
          "yshift": 20
         },
         {
          "font": {
           "size": 16
          },
          "showarrow": false,
          "text": "UmTi",
          "x": 0.708,
          "xanchor": "center",
          "xref": "paper",
          "y": 0.375,
          "yanchor": "bottom",
          "yref": "paper",
          "yshift": 20
         },
         {
          "font": {
           "size": 16
          },
          "showarrow": false,
          "text": "Oner",
          "x": 0.9159999999999999,
          "xanchor": "center",
          "xref": "paper",
          "y": 0.375,
          "yanchor": "bottom",
          "yref": "paper",
          "yshift": 20
         }
        ],
        "height": 800,
        "polar": {
         "domain": {
          "x": [
           0,
           0.16799999999999998
          ],
          "y": [
           0.625,
           1
          ]
         },
         "radialaxis": {
          "range": [
           -2.9199416640542935,
           3.0576676555342965
          ],
          "visible": true
         }
        },
        "polar10": {
         "domain": {
          "x": [
           0.832,
           1
          ],
          "y": [
           0,
           0.375
          ]
         },
         "radialaxis": {
          "range": [
           -2.9199416640542935,
           3.0576676555342965
          ]
         }
        },
        "polar2": {
         "domain": {
          "x": [
           0.208,
           0.376
          ],
          "y": [
           0.625,
           1
          ]
         },
         "radialaxis": {
          "range": [
           -2.9199416640542935,
           3.0576676555342965
          ]
         }
        },
        "polar3": {
         "domain": {
          "x": [
           0.416,
           0.584
          ],
          "y": [
           0.625,
           1
          ]
         },
         "radialaxis": {
          "range": [
           -2.9199416640542935,
           3.0576676555342965
          ]
         }
        },
        "polar4": {
         "domain": {
          "x": [
           0.624,
           0.792
          ],
          "y": [
           0.625,
           1
          ]
         },
         "radialaxis": {
          "range": [
           -2.9199416640542935,
           3.0576676555342965
          ]
         }
        },
        "polar5": {
         "domain": {
          "x": [
           0.832,
           1
          ],
          "y": [
           0.625,
           1
          ]
         },
         "radialaxis": {
          "range": [
           -2.9199416640542935,
           3.0576676555342965
          ]
         }
        },
        "polar6": {
         "domain": {
          "x": [
           0,
           0.16799999999999998
          ],
          "y": [
           0,
           0.375
          ]
         },
         "radialaxis": {
          "range": [
           -2.9199416640542935,
           3.0576676555342965
          ]
         }
        },
        "polar7": {
         "domain": {
          "x": [
           0.208,
           0.376
          ],
          "y": [
           0,
           0.375
          ]
         },
         "radialaxis": {
          "range": [
           -2.9199416640542935,
           3.0576676555342965
          ]
         }
        },
        "polar8": {
         "domain": {
          "x": [
           0.416,
           0.584
          ],
          "y": [
           0,
           0.375
          ]
         },
         "radialaxis": {
          "range": [
           -2.9199416640542935,
           3.0576676555342965
          ]
         }
        },
        "polar9": {
         "domain": {
          "x": [
           0.624,
           0.792
          ],
          "y": [
           0,
           0.375
          ]
         },
         "radialaxis": {
          "range": [
           -2.9199416640542935,
           3.0576676555342965
          ]
         }
        },
        "showlegend": false,
        "template": {
         "data": {
          "bar": [
           {
            "error_x": {
             "color": "#2a3f5f"
            },
            "error_y": {
             "color": "#2a3f5f"
            },
            "marker": {
             "line": {
              "color": "#E5ECF6",
              "width": 0.5
             },
             "pattern": {
              "fillmode": "overlay",
              "size": 10,
              "solidity": 0.2
             }
            },
            "type": "bar"
           }
          ],
          "barpolar": [
           {
            "marker": {
             "line": {
              "color": "#E5ECF6",
              "width": 0.5
             },
             "pattern": {
              "fillmode": "overlay",
              "size": 10,
              "solidity": 0.2
             }
            },
            "type": "barpolar"
           }
          ],
          "carpet": [
           {
            "aaxis": {
             "endlinecolor": "#2a3f5f",
             "gridcolor": "white",
             "linecolor": "white",
             "minorgridcolor": "white",
             "startlinecolor": "#2a3f5f"
            },
            "baxis": {
             "endlinecolor": "#2a3f5f",
             "gridcolor": "white",
             "linecolor": "white",
             "minorgridcolor": "white",
             "startlinecolor": "#2a3f5f"
            },
            "type": "carpet"
           }
          ],
          "choropleth": [
           {
            "colorbar": {
             "outlinewidth": 0,
             "ticks": ""
            },
            "type": "choropleth"
           }
          ],
          "contour": [
           {
            "colorbar": {
             "outlinewidth": 0,
             "ticks": ""
            },
            "colorscale": [
             [
              0,
              "#0d0887"
             ],
             [
              0.1111111111111111,
              "#46039f"
             ],
             [
              0.2222222222222222,
              "#7201a8"
             ],
             [
              0.3333333333333333,
              "#9c179e"
             ],
             [
              0.4444444444444444,
              "#bd3786"
             ],
             [
              0.5555555555555556,
              "#d8576b"
             ],
             [
              0.6666666666666666,
              "#ed7953"
             ],
             [
              0.7777777777777778,
              "#fb9f3a"
             ],
             [
              0.8888888888888888,
              "#fdca26"
             ],
             [
              1,
              "#f0f921"
             ]
            ],
            "type": "contour"
           }
          ],
          "contourcarpet": [
           {
            "colorbar": {
             "outlinewidth": 0,
             "ticks": ""
            },
            "type": "contourcarpet"
           }
          ],
          "heatmap": [
           {
            "colorbar": {
             "outlinewidth": 0,
             "ticks": ""
            },
            "colorscale": [
             [
              0,
              "#0d0887"
             ],
             [
              0.1111111111111111,
              "#46039f"
             ],
             [
              0.2222222222222222,
              "#7201a8"
             ],
             [
              0.3333333333333333,
              "#9c179e"
             ],
             [
              0.4444444444444444,
              "#bd3786"
             ],
             [
              0.5555555555555556,
              "#d8576b"
             ],
             [
              0.6666666666666666,
              "#ed7953"
             ],
             [
              0.7777777777777778,
              "#fb9f3a"
             ],
             [
              0.8888888888888888,
              "#fdca26"
             ],
             [
              1,
              "#f0f921"
             ]
            ],
            "type": "heatmap"
           }
          ],
          "heatmapgl": [
           {
            "colorbar": {
             "outlinewidth": 0,
             "ticks": ""
            },
            "colorscale": [
             [
              0,
              "#0d0887"
             ],
             [
              0.1111111111111111,
              "#46039f"
             ],
             [
              0.2222222222222222,
              "#7201a8"
             ],
             [
              0.3333333333333333,
              "#9c179e"
             ],
             [
              0.4444444444444444,
              "#bd3786"
             ],
             [
              0.5555555555555556,
              "#d8576b"
             ],
             [
              0.6666666666666666,
              "#ed7953"
             ],
             [
              0.7777777777777778,
              "#fb9f3a"
             ],
             [
              0.8888888888888888,
              "#fdca26"
             ],
             [
              1,
              "#f0f921"
             ]
            ],
            "type": "heatmapgl"
           }
          ],
          "histogram": [
           {
            "marker": {
             "pattern": {
              "fillmode": "overlay",
              "size": 10,
              "solidity": 0.2
             }
            },
            "type": "histogram"
           }
          ],
          "histogram2d": [
           {
            "colorbar": {
             "outlinewidth": 0,
             "ticks": ""
            },
            "colorscale": [
             [
              0,
              "#0d0887"
             ],
             [
              0.1111111111111111,
              "#46039f"
             ],
             [
              0.2222222222222222,
              "#7201a8"
             ],
             [
              0.3333333333333333,
              "#9c179e"
             ],
             [
              0.4444444444444444,
              "#bd3786"
             ],
             [
              0.5555555555555556,
              "#d8576b"
             ],
             [
              0.6666666666666666,
              "#ed7953"
             ],
             [
              0.7777777777777778,
              "#fb9f3a"
             ],
             [
              0.8888888888888888,
              "#fdca26"
             ],
             [
              1,
              "#f0f921"
             ]
            ],
            "type": "histogram2d"
           }
          ],
          "histogram2dcontour": [
           {
            "colorbar": {
             "outlinewidth": 0,
             "ticks": ""
            },
            "colorscale": [
             [
              0,
              "#0d0887"
             ],
             [
              0.1111111111111111,
              "#46039f"
             ],
             [
              0.2222222222222222,
              "#7201a8"
             ],
             [
              0.3333333333333333,
              "#9c179e"
             ],
             [
              0.4444444444444444,
              "#bd3786"
             ],
             [
              0.5555555555555556,
              "#d8576b"
             ],
             [
              0.6666666666666666,
              "#ed7953"
             ],
             [
              0.7777777777777778,
              "#fb9f3a"
             ],
             [
              0.8888888888888888,
              "#fdca26"
             ],
             [
              1,
              "#f0f921"
             ]
            ],
            "type": "histogram2dcontour"
           }
          ],
          "mesh3d": [
           {
            "colorbar": {
             "outlinewidth": 0,
             "ticks": ""
            },
            "type": "mesh3d"
           }
          ],
          "parcoords": [
           {
            "line": {
             "colorbar": {
              "outlinewidth": 0,
              "ticks": ""
             }
            },
            "type": "parcoords"
           }
          ],
          "pie": [
           {
            "automargin": true,
            "type": "pie"
           }
          ],
          "scatter": [
           {
            "fillpattern": {
             "fillmode": "overlay",
             "size": 10,
             "solidity": 0.2
            },
            "type": "scatter"
           }
          ],
          "scatter3d": [
           {
            "line": {
             "colorbar": {
              "outlinewidth": 0,
              "ticks": ""
             }
            },
            "marker": {
             "colorbar": {
              "outlinewidth": 0,
              "ticks": ""
             }
            },
            "type": "scatter3d"
           }
          ],
          "scattercarpet": [
           {
            "marker": {
             "colorbar": {
              "outlinewidth": 0,
              "ticks": ""
             }
            },
            "type": "scattercarpet"
           }
          ],
          "scattergeo": [
           {
            "marker": {
             "colorbar": {
              "outlinewidth": 0,
              "ticks": ""
             }
            },
            "type": "scattergeo"
           }
          ],
          "scattergl": [
           {
            "marker": {
             "colorbar": {
              "outlinewidth": 0,
              "ticks": ""
             }
            },
            "type": "scattergl"
           }
          ],
          "scattermapbox": [
           {
            "marker": {
             "colorbar": {
              "outlinewidth": 0,
              "ticks": ""
             }
            },
            "type": "scattermapbox"
           }
          ],
          "scatterpolar": [
           {
            "marker": {
             "colorbar": {
              "outlinewidth": 0,
              "ticks": ""
             }
            },
            "type": "scatterpolar"
           }
          ],
          "scatterpolargl": [
           {
            "marker": {
             "colorbar": {
              "outlinewidth": 0,
              "ticks": ""
             }
            },
            "type": "scatterpolargl"
           }
          ],
          "scatterternary": [
           {
            "marker": {
             "colorbar": {
              "outlinewidth": 0,
              "ticks": ""
             }
            },
            "type": "scatterternary"
           }
          ],
          "surface": [
           {
            "colorbar": {
             "outlinewidth": 0,
             "ticks": ""
            },
            "colorscale": [
             [
              0,
              "#0d0887"
             ],
             [
              0.1111111111111111,
              "#46039f"
             ],
             [
              0.2222222222222222,
              "#7201a8"
             ],
             [
              0.3333333333333333,
              "#9c179e"
             ],
             [
              0.4444444444444444,
              "#bd3786"
             ],
             [
              0.5555555555555556,
              "#d8576b"
             ],
             [
              0.6666666666666666,
              "#ed7953"
             ],
             [
              0.7777777777777778,
              "#fb9f3a"
             ],
             [
              0.8888888888888888,
              "#fdca26"
             ],
             [
              1,
              "#f0f921"
             ]
            ],
            "type": "surface"
           }
          ],
          "table": [
           {
            "cells": {
             "fill": {
              "color": "#EBF0F8"
             },
             "line": {
              "color": "white"
             }
            },
            "header": {
             "fill": {
              "color": "#C8D4E3"
             },
             "line": {
              "color": "white"
             }
            },
            "type": "table"
           }
          ]
         },
         "layout": {
          "annotationdefaults": {
           "arrowcolor": "#2a3f5f",
           "arrowhead": 0,
           "arrowwidth": 1
          },
          "autotypenumbers": "strict",
          "coloraxis": {
           "colorbar": {
            "outlinewidth": 0,
            "ticks": ""
           }
          },
          "colorscale": {
           "diverging": [
            [
             0,
             "#8e0152"
            ],
            [
             0.1,
             "#c51b7d"
            ],
            [
             0.2,
             "#de77ae"
            ],
            [
             0.3,
             "#f1b6da"
            ],
            [
             0.4,
             "#fde0ef"
            ],
            [
             0.5,
             "#f7f7f7"
            ],
            [
             0.6,
             "#e6f5d0"
            ],
            [
             0.7,
             "#b8e186"
            ],
            [
             0.8,
             "#7fbc41"
            ],
            [
             0.9,
             "#4d9221"
            ],
            [
             1,
             "#276419"
            ]
           ],
           "sequential": [
            [
             0,
             "#0d0887"
            ],
            [
             0.1111111111111111,
             "#46039f"
            ],
            [
             0.2222222222222222,
             "#7201a8"
            ],
            [
             0.3333333333333333,
             "#9c179e"
            ],
            [
             0.4444444444444444,
             "#bd3786"
            ],
            [
             0.5555555555555556,
             "#d8576b"
            ],
            [
             0.6666666666666666,
             "#ed7953"
            ],
            [
             0.7777777777777778,
             "#fb9f3a"
            ],
            [
             0.8888888888888888,
             "#fdca26"
            ],
            [
             1,
             "#f0f921"
            ]
           ],
           "sequentialminus": [
            [
             0,
             "#0d0887"
            ],
            [
             0.1111111111111111,
             "#46039f"
            ],
            [
             0.2222222222222222,
             "#7201a8"
            ],
            [
             0.3333333333333333,
             "#9c179e"
            ],
            [
             0.4444444444444444,
             "#bd3786"
            ],
            [
             0.5555555555555556,
             "#d8576b"
            ],
            [
             0.6666666666666666,
             "#ed7953"
            ],
            [
             0.7777777777777778,
             "#fb9f3a"
            ],
            [
             0.8888888888888888,
             "#fdca26"
            ],
            [
             1,
             "#f0f921"
            ]
           ]
          },
          "colorway": [
           "#636efa",
           "#EF553B",
           "#00cc96",
           "#ab63fa",
           "#FFA15A",
           "#19d3f3",
           "#FF6692",
           "#B6E880",
           "#FF97FF",
           "#FECB52"
          ],
          "font": {
           "color": "#2a3f5f"
          },
          "geo": {
           "bgcolor": "white",
           "lakecolor": "white",
           "landcolor": "#E5ECF6",
           "showlakes": true,
           "showland": true,
           "subunitcolor": "white"
          },
          "hoverlabel": {
           "align": "left"
          },
          "hovermode": "closest",
          "mapbox": {
           "style": "light"
          },
          "paper_bgcolor": "white",
          "plot_bgcolor": "#E5ECF6",
          "polar": {
           "angularaxis": {
            "gridcolor": "white",
            "linecolor": "white",
            "ticks": ""
           },
           "bgcolor": "#E5ECF6",
           "radialaxis": {
            "gridcolor": "white",
            "linecolor": "white",
            "ticks": ""
           }
          },
          "scene": {
           "xaxis": {
            "backgroundcolor": "#E5ECF6",
            "gridcolor": "white",
            "gridwidth": 2,
            "linecolor": "white",
            "showbackground": true,
            "ticks": "",
            "zerolinecolor": "white"
           },
           "yaxis": {
            "backgroundcolor": "#E5ECF6",
            "gridcolor": "white",
            "gridwidth": 2,
            "linecolor": "white",
            "showbackground": true,
            "ticks": "",
            "zerolinecolor": "white"
           },
           "zaxis": {
            "backgroundcolor": "#E5ECF6",
            "gridcolor": "white",
            "gridwidth": 2,
            "linecolor": "white",
            "showbackground": true,
            "ticks": "",
            "zerolinecolor": "white"
           }
          },
          "shapedefaults": {
           "line": {
            "color": "#2a3f5f"
           }
          },
          "ternary": {
           "aaxis": {
            "gridcolor": "white",
            "linecolor": "white",
            "ticks": ""
           },
           "baxis": {
            "gridcolor": "white",
            "linecolor": "white",
            "ticks": ""
           },
           "bgcolor": "#E5ECF6",
           "caxis": {
            "gridcolor": "white",
            "linecolor": "white",
            "ticks": ""
           }
          },
          "title": {
           "x": 0.05
          },
          "xaxis": {
           "automargin": true,
           "gridcolor": "white",
           "linecolor": "white",
           "ticks": "",
           "title": {
            "standoff": 15
           },
           "zerolinecolor": "white",
           "zerolinewidth": 2
          },
          "yaxis": {
           "automargin": true,
           "gridcolor": "white",
           "linecolor": "white",
           "ticks": "",
           "title": {
            "standoff": 15
           },
           "zerolinecolor": "white",
           "zerolinewidth": 2
          }
         }
        },
        "title": {
         "y": 1
        }
       }
      }
     },
     "metadata": {},
     "output_type": "display_data"
    }
   ],
   "source": [
    "df = players_stats.loc[players_stats[\"Position\"] == positions[1]]\n",
    "min_value, max_value = df[columns].unstack().min(), df[columns].unstack().max()\n",
    "\n",
    "COLUMNS = 5\n",
    "d, m = divmod(df.shape[0], COLUMNS)\n",
    "ROWS = d + (1 if m > 0 else 0)\n",
    "\n",
    "fig = make_subplots(\n",
    "    rows=ROWS,\n",
    "    cols=COLUMNS,\n",
    "    subplot_titles=df.index.values,\n",
    "    specs=[[{\"type\": \"polar\"} for _ in range(COLUMNS)] for _ in range(ROWS)],\n",
    ")\n",
    "\n",
    "for i, player_name in enumerate(df.index):\n",
    "    _df = df.loc[player_name, columns]\n",
    "\n",
    "    r, c = get_rc(i, COLUMNS)\n",
    "    fig.add_trace(\n",
    "        go.Scatterpolar(r=_df, theta=columns, fill=\"toself\", name=player_name),\n",
    "        row=r,\n",
    "        col=c,\n",
    "    )\n",
    "fig.update_layout(\n",
    "    height=800,\n",
    "    showlegend=False,\n",
    "    polar=dict(\n",
    "        radialaxis=dict(visible=True),\n",
    "    ),\n",
    "    title=dict(y=1),\n",
    ")\n",
    "fig.update_annotations(yshift=20)\n",
    "fig.update_polars(radialaxis=dict(range=[min_value - 0.2, max_value + 0.2]))\n",
    "fig.show()"
   ]
  },
  {
   "cell_type": "code",
   "execution_count": 33,
   "metadata": {},
   "outputs": [
    {
     "data": {
      "application/vnd.plotly.v1+json": {
       "config": {
        "plotlyServerURL": "https://plot.ly"
       },
       "data": [
        {
         "fill": "toself",
         "name": "Kyeahoo",
         "r": [
          -0.500546089016411,
          0.04516850882729162,
          -1.586127500899079,
          -0.12173567040852422,
          -1.6678482781471833,
          -1.1439225939968791,
          -1.3877826770292692,
          -1.9137225203467612,
          -1.8605210188381267
         ],
         "subplot": "polar",
         "theta": [
          "_KDA",
          "_DPM",
          "_CSPM",
          "_Gold",
          "_GPM",
          "_KP",
          "_KS",
          "_GS",
          "_ChampionsPlayed"
         ],
         "type": "scatterpolar"
        },
        {
         "fill": "toself",
         "name": "ShowMaker",
         "r": [
          2.908159865420368,
          1.9531288245785563,
          -0.45424247819624214,
          0.7915789913395919,
          1.3277943796105272,
          1.0119892136117845,
          2.459228020462339,
          0.054382820013825155,
          -0.6201736729460422
         ],
         "subplot": "polar2",
         "theta": [
          "_KDA",
          "_DPM",
          "_CSPM",
          "_Gold",
          "_GPM",
          "_KP",
          "_KS",
          "_GS",
          "_ChampionsPlayed"
         ],
         "type": "scatterpolar"
        },
        {
         "fill": "toself",
         "name": "Chovy",
         "r": [
          0.1849512516829965,
          -0.395462105441776,
          2.15312386784635,
          -0.747821104116024,
          1.0290195786386926,
          1.058187323774826,
          0.004227772720983091,
          0.7061534514239789,
          -0.6201736729460422
         ],
         "subplot": "polar3",
         "theta": [
          "_KDA",
          "_DPM",
          "_CSPM",
          "_Gold",
          "_GPM",
          "_KP",
          "_KS",
          "_GS",
          "_ChampionsPlayed"
         ],
         "type": "scatterpolar"
        },
        {
         "fill": "toself",
         "name": "Zeka",
         "r": [
          -0.3158687232572099,
          -0.8147305987344658,
          -0.5612884644787784,
          -0.15429656996657734,
          -0.5538429082524035,
          -0.10046127911428619,
          1.0064752965411663,
          -0.028703650369945582,
          -0.6201736729460422
         ],
         "subplot": "polar4",
         "theta": [
          "_KDA",
          "_DPM",
          "_CSPM",
          "_Gold",
          "_GPM",
          "_KP",
          "_KS",
          "_GS",
          "_ChampionsPlayed"
         ],
         "type": "scatterpolar"
        },
        {
         "fill": "toself",
         "name": "Bdd",
         "r": [
          -0.0028562389195809354,
          0.052992365424890886,
          0.14966907341487604,
          -1.00112756987943,
          -0.04596527944319773,
          -0.23180606000859902,
          -0.4776219983464121,
          0.1706442452919716,
          0.6201736729460422
         ],
         "subplot": "polar5",
         "theta": [
          "_KDA",
          "_DPM",
          "_CSPM",
          "_Gold",
          "_GPM",
          "_KP",
          "_KS",
          "_GS",
          "_ChampionsPlayed"
         ],
         "type": "scatterpolar"
        },
        {
         "fill": "toself",
         "name": "BuLLDoG",
         "r": [
          -0.20827068176614988,
          1.0788180691984688,
          1.0670959288473434,
          2.060339822787971,
          1.3812282466583126,
          0.2510791638675492,
          -0.2086679431231725,
          1.8020207929679126,
          0.6201736729460422
         ],
         "subplot": "polar6",
         "theta": [
          "_KDA",
          "_DPM",
          "_CSPM",
          "_Gold",
          "_GPM",
          "_KP",
          "_KS",
          "_GS",
          "_ChampionsPlayed"
         ],
         "type": "scatterpolar"
        },
        {
         "fill": "toself",
         "name": "Clozer",
         "r": [
          -0.5428027744019908,
          -0.4564135055642096,
          0.10429213768109538,
          -0.8333708440195003,
          -0.23894269680568536,
          -0.46635031160558454,
          -0.4968959891891072,
          0.09218276435332765,
          1.8605210188381267
         ],
         "subplot": "polar7",
         "theta": [
          "_KDA",
          "_DPM",
          "_CSPM",
          "_Gold",
          "_GPM",
          "_KP",
          "_KS",
          "_GS",
          "_ChampionsPlayed"
         ],
         "type": "scatterpolar"
        },
        {
         "fill": "toself",
         "name": "Quad",
         "r": [
          -0.6132305833779573,
          -1.4267903861094309,
          -0.8622695138225086,
          -0.7753554921833652,
          -0.8396762452190399,
          -1.736798341089261,
          -0.3089745784728227,
          -0.9466535553831236,
          -0.6201736729460422
         ],
         "subplot": "polar8",
         "theta": [
          "_KDA",
          "_DPM",
          "_CSPM",
          "_Gold",
          "_GPM",
          "_KP",
          "_KS",
          "_GS",
          "_ChampionsPlayed"
         ],
         "type": "scatterpolar"
        },
        {
         "fill": "toself",
         "name": "Karis",
         "r": [
          -0.5780166788899741,
          -1.0062059818471663,
          -0.45863700543750585,
          -0.5906869074655271,
          -1.0146709928503226,
          -0.38504163771862987,
          -0.6305289923651312,
          -0.8770400787125078,
          0.6201736729460422
         ],
         "subplot": "polar9",
         "theta": [
          "_KDA",
          "_DPM",
          "_CSPM",
          "_Gold",
          "_GPM",
          "_KP",
          "_KS",
          "_GS",
          "_ChampionsPlayed"
         ],
         "type": "scatterpolar"
        },
        {
         "fill": "toself",
         "name": "Faker",
         "r": [
          -0.3315193474740913,
          0.9694948096678371,
          0.44838395504443057,
          1.3724753439113908,
          0.6229041958102944,
          1.743124522279069,
          0.04054108880142454,
          0.9407357307613472,
          0.6201736729460422
         ],
         "subplot": "polar10",
         "theta": [
          "_KDA",
          "_DPM",
          "_CSPM",
          "_Gold",
          "_GPM",
          "_KP",
          "_KS",
          "_GS",
          "_ChampionsPlayed"
         ],
         "type": "scatterpolar"
        }
       ],
       "layout": {
        "annotations": [
         {
          "font": {
           "size": 16
          },
          "showarrow": false,
          "text": "Kyeahoo",
          "x": 0.08399999999999999,
          "xanchor": "center",
          "xref": "paper",
          "y": 1,
          "yanchor": "bottom",
          "yref": "paper",
          "yshift": 20
         },
         {
          "font": {
           "size": 16
          },
          "showarrow": false,
          "text": "ShowMaker",
          "x": 0.292,
          "xanchor": "center",
          "xref": "paper",
          "y": 1,
          "yanchor": "bottom",
          "yref": "paper",
          "yshift": 20
         },
         {
          "font": {
           "size": 16
          },
          "showarrow": false,
          "text": "Chovy",
          "x": 0.5,
          "xanchor": "center",
          "xref": "paper",
          "y": 1,
          "yanchor": "bottom",
          "yref": "paper",
          "yshift": 20
         },
         {
          "font": {
           "size": 16
          },
          "showarrow": false,
          "text": "Zeka",
          "x": 0.708,
          "xanchor": "center",
          "xref": "paper",
          "y": 1,
          "yanchor": "bottom",
          "yref": "paper",
          "yshift": 20
         },
         {
          "font": {
           "size": 16
          },
          "showarrow": false,
          "text": "Bdd",
          "x": 0.9159999999999999,
          "xanchor": "center",
          "xref": "paper",
          "y": 1,
          "yanchor": "bottom",
          "yref": "paper",
          "yshift": 20
         },
         {
          "font": {
           "size": 16
          },
          "showarrow": false,
          "text": "BuLLDoG",
          "x": 0.08399999999999999,
          "xanchor": "center",
          "xref": "paper",
          "y": 0.375,
          "yanchor": "bottom",
          "yref": "paper",
          "yshift": 20
         },
         {
          "font": {
           "size": 16
          },
          "showarrow": false,
          "text": "Clozer",
          "x": 0.292,
          "xanchor": "center",
          "xref": "paper",
          "y": 0.375,
          "yanchor": "bottom",
          "yref": "paper",
          "yshift": 20
         },
         {
          "font": {
           "size": 16
          },
          "showarrow": false,
          "text": "Quad",
          "x": 0.5,
          "xanchor": "center",
          "xref": "paper",
          "y": 0.375,
          "yanchor": "bottom",
          "yref": "paper",
          "yshift": 20
         },
         {
          "font": {
           "size": 16
          },
          "showarrow": false,
          "text": "Karis",
          "x": 0.708,
          "xanchor": "center",
          "xref": "paper",
          "y": 0.375,
          "yanchor": "bottom",
          "yref": "paper",
          "yshift": 20
         },
         {
          "font": {
           "size": 16
          },
          "showarrow": false,
          "text": "Faker",
          "x": 0.9159999999999999,
          "xanchor": "center",
          "xref": "paper",
          "y": 0.375,
          "yanchor": "bottom",
          "yref": "paper",
          "yshift": 20
         }
        ],
        "height": 800,
        "polar": {
         "domain": {
          "x": [
           0,
           0.16799999999999998
          ],
          "y": [
           0.625,
           1
          ]
         },
         "radialaxis": {
          "range": [
           -2.1137225203467613,
           3.1081598654203684
          ],
          "visible": true
         }
        },
        "polar10": {
         "domain": {
          "x": [
           0.832,
           1
          ],
          "y": [
           0,
           0.375
          ]
         },
         "radialaxis": {
          "range": [
           -2.1137225203467613,
           3.1081598654203684
          ]
         }
        },
        "polar2": {
         "domain": {
          "x": [
           0.208,
           0.376
          ],
          "y": [
           0.625,
           1
          ]
         },
         "radialaxis": {
          "range": [
           -2.1137225203467613,
           3.1081598654203684
          ]
         }
        },
        "polar3": {
         "domain": {
          "x": [
           0.416,
           0.584
          ],
          "y": [
           0.625,
           1
          ]
         },
         "radialaxis": {
          "range": [
           -2.1137225203467613,
           3.1081598654203684
          ]
         }
        },
        "polar4": {
         "domain": {
          "x": [
           0.624,
           0.792
          ],
          "y": [
           0.625,
           1
          ]
         },
         "radialaxis": {
          "range": [
           -2.1137225203467613,
           3.1081598654203684
          ]
         }
        },
        "polar5": {
         "domain": {
          "x": [
           0.832,
           1
          ],
          "y": [
           0.625,
           1
          ]
         },
         "radialaxis": {
          "range": [
           -2.1137225203467613,
           3.1081598654203684
          ]
         }
        },
        "polar6": {
         "domain": {
          "x": [
           0,
           0.16799999999999998
          ],
          "y": [
           0,
           0.375
          ]
         },
         "radialaxis": {
          "range": [
           -2.1137225203467613,
           3.1081598654203684
          ]
         }
        },
        "polar7": {
         "domain": {
          "x": [
           0.208,
           0.376
          ],
          "y": [
           0,
           0.375
          ]
         },
         "radialaxis": {
          "range": [
           -2.1137225203467613,
           3.1081598654203684
          ]
         }
        },
        "polar8": {
         "domain": {
          "x": [
           0.416,
           0.584
          ],
          "y": [
           0,
           0.375
          ]
         },
         "radialaxis": {
          "range": [
           -2.1137225203467613,
           3.1081598654203684
          ]
         }
        },
        "polar9": {
         "domain": {
          "x": [
           0.624,
           0.792
          ],
          "y": [
           0,
           0.375
          ]
         },
         "radialaxis": {
          "range": [
           -2.1137225203467613,
           3.1081598654203684
          ]
         }
        },
        "showlegend": false,
        "template": {
         "data": {
          "bar": [
           {
            "error_x": {
             "color": "#2a3f5f"
            },
            "error_y": {
             "color": "#2a3f5f"
            },
            "marker": {
             "line": {
              "color": "#E5ECF6",
              "width": 0.5
             },
             "pattern": {
              "fillmode": "overlay",
              "size": 10,
              "solidity": 0.2
             }
            },
            "type": "bar"
           }
          ],
          "barpolar": [
           {
            "marker": {
             "line": {
              "color": "#E5ECF6",
              "width": 0.5
             },
             "pattern": {
              "fillmode": "overlay",
              "size": 10,
              "solidity": 0.2
             }
            },
            "type": "barpolar"
           }
          ],
          "carpet": [
           {
            "aaxis": {
             "endlinecolor": "#2a3f5f",
             "gridcolor": "white",
             "linecolor": "white",
             "minorgridcolor": "white",
             "startlinecolor": "#2a3f5f"
            },
            "baxis": {
             "endlinecolor": "#2a3f5f",
             "gridcolor": "white",
             "linecolor": "white",
             "minorgridcolor": "white",
             "startlinecolor": "#2a3f5f"
            },
            "type": "carpet"
           }
          ],
          "choropleth": [
           {
            "colorbar": {
             "outlinewidth": 0,
             "ticks": ""
            },
            "type": "choropleth"
           }
          ],
          "contour": [
           {
            "colorbar": {
             "outlinewidth": 0,
             "ticks": ""
            },
            "colorscale": [
             [
              0,
              "#0d0887"
             ],
             [
              0.1111111111111111,
              "#46039f"
             ],
             [
              0.2222222222222222,
              "#7201a8"
             ],
             [
              0.3333333333333333,
              "#9c179e"
             ],
             [
              0.4444444444444444,
              "#bd3786"
             ],
             [
              0.5555555555555556,
              "#d8576b"
             ],
             [
              0.6666666666666666,
              "#ed7953"
             ],
             [
              0.7777777777777778,
              "#fb9f3a"
             ],
             [
              0.8888888888888888,
              "#fdca26"
             ],
             [
              1,
              "#f0f921"
             ]
            ],
            "type": "contour"
           }
          ],
          "contourcarpet": [
           {
            "colorbar": {
             "outlinewidth": 0,
             "ticks": ""
            },
            "type": "contourcarpet"
           }
          ],
          "heatmap": [
           {
            "colorbar": {
             "outlinewidth": 0,
             "ticks": ""
            },
            "colorscale": [
             [
              0,
              "#0d0887"
             ],
             [
              0.1111111111111111,
              "#46039f"
             ],
             [
              0.2222222222222222,
              "#7201a8"
             ],
             [
              0.3333333333333333,
              "#9c179e"
             ],
             [
              0.4444444444444444,
              "#bd3786"
             ],
             [
              0.5555555555555556,
              "#d8576b"
             ],
             [
              0.6666666666666666,
              "#ed7953"
             ],
             [
              0.7777777777777778,
              "#fb9f3a"
             ],
             [
              0.8888888888888888,
              "#fdca26"
             ],
             [
              1,
              "#f0f921"
             ]
            ],
            "type": "heatmap"
           }
          ],
          "heatmapgl": [
           {
            "colorbar": {
             "outlinewidth": 0,
             "ticks": ""
            },
            "colorscale": [
             [
              0,
              "#0d0887"
             ],
             [
              0.1111111111111111,
              "#46039f"
             ],
             [
              0.2222222222222222,
              "#7201a8"
             ],
             [
              0.3333333333333333,
              "#9c179e"
             ],
             [
              0.4444444444444444,
              "#bd3786"
             ],
             [
              0.5555555555555556,
              "#d8576b"
             ],
             [
              0.6666666666666666,
              "#ed7953"
             ],
             [
              0.7777777777777778,
              "#fb9f3a"
             ],
             [
              0.8888888888888888,
              "#fdca26"
             ],
             [
              1,
              "#f0f921"
             ]
            ],
            "type": "heatmapgl"
           }
          ],
          "histogram": [
           {
            "marker": {
             "pattern": {
              "fillmode": "overlay",
              "size": 10,
              "solidity": 0.2
             }
            },
            "type": "histogram"
           }
          ],
          "histogram2d": [
           {
            "colorbar": {
             "outlinewidth": 0,
             "ticks": ""
            },
            "colorscale": [
             [
              0,
              "#0d0887"
             ],
             [
              0.1111111111111111,
              "#46039f"
             ],
             [
              0.2222222222222222,
              "#7201a8"
             ],
             [
              0.3333333333333333,
              "#9c179e"
             ],
             [
              0.4444444444444444,
              "#bd3786"
             ],
             [
              0.5555555555555556,
              "#d8576b"
             ],
             [
              0.6666666666666666,
              "#ed7953"
             ],
             [
              0.7777777777777778,
              "#fb9f3a"
             ],
             [
              0.8888888888888888,
              "#fdca26"
             ],
             [
              1,
              "#f0f921"
             ]
            ],
            "type": "histogram2d"
           }
          ],
          "histogram2dcontour": [
           {
            "colorbar": {
             "outlinewidth": 0,
             "ticks": ""
            },
            "colorscale": [
             [
              0,
              "#0d0887"
             ],
             [
              0.1111111111111111,
              "#46039f"
             ],
             [
              0.2222222222222222,
              "#7201a8"
             ],
             [
              0.3333333333333333,
              "#9c179e"
             ],
             [
              0.4444444444444444,
              "#bd3786"
             ],
             [
              0.5555555555555556,
              "#d8576b"
             ],
             [
              0.6666666666666666,
              "#ed7953"
             ],
             [
              0.7777777777777778,
              "#fb9f3a"
             ],
             [
              0.8888888888888888,
              "#fdca26"
             ],
             [
              1,
              "#f0f921"
             ]
            ],
            "type": "histogram2dcontour"
           }
          ],
          "mesh3d": [
           {
            "colorbar": {
             "outlinewidth": 0,
             "ticks": ""
            },
            "type": "mesh3d"
           }
          ],
          "parcoords": [
           {
            "line": {
             "colorbar": {
              "outlinewidth": 0,
              "ticks": ""
             }
            },
            "type": "parcoords"
           }
          ],
          "pie": [
           {
            "automargin": true,
            "type": "pie"
           }
          ],
          "scatter": [
           {
            "fillpattern": {
             "fillmode": "overlay",
             "size": 10,
             "solidity": 0.2
            },
            "type": "scatter"
           }
          ],
          "scatter3d": [
           {
            "line": {
             "colorbar": {
              "outlinewidth": 0,
              "ticks": ""
             }
            },
            "marker": {
             "colorbar": {
              "outlinewidth": 0,
              "ticks": ""
             }
            },
            "type": "scatter3d"
           }
          ],
          "scattercarpet": [
           {
            "marker": {
             "colorbar": {
              "outlinewidth": 0,
              "ticks": ""
             }
            },
            "type": "scattercarpet"
           }
          ],
          "scattergeo": [
           {
            "marker": {
             "colorbar": {
              "outlinewidth": 0,
              "ticks": ""
             }
            },
            "type": "scattergeo"
           }
          ],
          "scattergl": [
           {
            "marker": {
             "colorbar": {
              "outlinewidth": 0,
              "ticks": ""
             }
            },
            "type": "scattergl"
           }
          ],
          "scattermapbox": [
           {
            "marker": {
             "colorbar": {
              "outlinewidth": 0,
              "ticks": ""
             }
            },
            "type": "scattermapbox"
           }
          ],
          "scatterpolar": [
           {
            "marker": {
             "colorbar": {
              "outlinewidth": 0,
              "ticks": ""
             }
            },
            "type": "scatterpolar"
           }
          ],
          "scatterpolargl": [
           {
            "marker": {
             "colorbar": {
              "outlinewidth": 0,
              "ticks": ""
             }
            },
            "type": "scatterpolargl"
           }
          ],
          "scatterternary": [
           {
            "marker": {
             "colorbar": {
              "outlinewidth": 0,
              "ticks": ""
             }
            },
            "type": "scatterternary"
           }
          ],
          "surface": [
           {
            "colorbar": {
             "outlinewidth": 0,
             "ticks": ""
            },
            "colorscale": [
             [
              0,
              "#0d0887"
             ],
             [
              0.1111111111111111,
              "#46039f"
             ],
             [
              0.2222222222222222,
              "#7201a8"
             ],
             [
              0.3333333333333333,
              "#9c179e"
             ],
             [
              0.4444444444444444,
              "#bd3786"
             ],
             [
              0.5555555555555556,
              "#d8576b"
             ],
             [
              0.6666666666666666,
              "#ed7953"
             ],
             [
              0.7777777777777778,
              "#fb9f3a"
             ],
             [
              0.8888888888888888,
              "#fdca26"
             ],
             [
              1,
              "#f0f921"
             ]
            ],
            "type": "surface"
           }
          ],
          "table": [
           {
            "cells": {
             "fill": {
              "color": "#EBF0F8"
             },
             "line": {
              "color": "white"
             }
            },
            "header": {
             "fill": {
              "color": "#C8D4E3"
             },
             "line": {
              "color": "white"
             }
            },
            "type": "table"
           }
          ]
         },
         "layout": {
          "annotationdefaults": {
           "arrowcolor": "#2a3f5f",
           "arrowhead": 0,
           "arrowwidth": 1
          },
          "autotypenumbers": "strict",
          "coloraxis": {
           "colorbar": {
            "outlinewidth": 0,
            "ticks": ""
           }
          },
          "colorscale": {
           "diverging": [
            [
             0,
             "#8e0152"
            ],
            [
             0.1,
             "#c51b7d"
            ],
            [
             0.2,
             "#de77ae"
            ],
            [
             0.3,
             "#f1b6da"
            ],
            [
             0.4,
             "#fde0ef"
            ],
            [
             0.5,
             "#f7f7f7"
            ],
            [
             0.6,
             "#e6f5d0"
            ],
            [
             0.7,
             "#b8e186"
            ],
            [
             0.8,
             "#7fbc41"
            ],
            [
             0.9,
             "#4d9221"
            ],
            [
             1,
             "#276419"
            ]
           ],
           "sequential": [
            [
             0,
             "#0d0887"
            ],
            [
             0.1111111111111111,
             "#46039f"
            ],
            [
             0.2222222222222222,
             "#7201a8"
            ],
            [
             0.3333333333333333,
             "#9c179e"
            ],
            [
             0.4444444444444444,
             "#bd3786"
            ],
            [
             0.5555555555555556,
             "#d8576b"
            ],
            [
             0.6666666666666666,
             "#ed7953"
            ],
            [
             0.7777777777777778,
             "#fb9f3a"
            ],
            [
             0.8888888888888888,
             "#fdca26"
            ],
            [
             1,
             "#f0f921"
            ]
           ],
           "sequentialminus": [
            [
             0,
             "#0d0887"
            ],
            [
             0.1111111111111111,
             "#46039f"
            ],
            [
             0.2222222222222222,
             "#7201a8"
            ],
            [
             0.3333333333333333,
             "#9c179e"
            ],
            [
             0.4444444444444444,
             "#bd3786"
            ],
            [
             0.5555555555555556,
             "#d8576b"
            ],
            [
             0.6666666666666666,
             "#ed7953"
            ],
            [
             0.7777777777777778,
             "#fb9f3a"
            ],
            [
             0.8888888888888888,
             "#fdca26"
            ],
            [
             1,
             "#f0f921"
            ]
           ]
          },
          "colorway": [
           "#636efa",
           "#EF553B",
           "#00cc96",
           "#ab63fa",
           "#FFA15A",
           "#19d3f3",
           "#FF6692",
           "#B6E880",
           "#FF97FF",
           "#FECB52"
          ],
          "font": {
           "color": "#2a3f5f"
          },
          "geo": {
           "bgcolor": "white",
           "lakecolor": "white",
           "landcolor": "#E5ECF6",
           "showlakes": true,
           "showland": true,
           "subunitcolor": "white"
          },
          "hoverlabel": {
           "align": "left"
          },
          "hovermode": "closest",
          "mapbox": {
           "style": "light"
          },
          "paper_bgcolor": "white",
          "plot_bgcolor": "#E5ECF6",
          "polar": {
           "angularaxis": {
            "gridcolor": "white",
            "linecolor": "white",
            "ticks": ""
           },
           "bgcolor": "#E5ECF6",
           "radialaxis": {
            "gridcolor": "white",
            "linecolor": "white",
            "ticks": ""
           }
          },
          "scene": {
           "xaxis": {
            "backgroundcolor": "#E5ECF6",
            "gridcolor": "white",
            "gridwidth": 2,
            "linecolor": "white",
            "showbackground": true,
            "ticks": "",
            "zerolinecolor": "white"
           },
           "yaxis": {
            "backgroundcolor": "#E5ECF6",
            "gridcolor": "white",
            "gridwidth": 2,
            "linecolor": "white",
            "showbackground": true,
            "ticks": "",
            "zerolinecolor": "white"
           },
           "zaxis": {
            "backgroundcolor": "#E5ECF6",
            "gridcolor": "white",
            "gridwidth": 2,
            "linecolor": "white",
            "showbackground": true,
            "ticks": "",
            "zerolinecolor": "white"
           }
          },
          "shapedefaults": {
           "line": {
            "color": "#2a3f5f"
           }
          },
          "ternary": {
           "aaxis": {
            "gridcolor": "white",
            "linecolor": "white",
            "ticks": ""
           },
           "baxis": {
            "gridcolor": "white",
            "linecolor": "white",
            "ticks": ""
           },
           "bgcolor": "#E5ECF6",
           "caxis": {
            "gridcolor": "white",
            "linecolor": "white",
            "ticks": ""
           }
          },
          "title": {
           "x": 0.05
          },
          "xaxis": {
           "automargin": true,
           "gridcolor": "white",
           "linecolor": "white",
           "ticks": "",
           "title": {
            "standoff": 15
           },
           "zerolinecolor": "white",
           "zerolinewidth": 2
          },
          "yaxis": {
           "automargin": true,
           "gridcolor": "white",
           "linecolor": "white",
           "ticks": "",
           "title": {
            "standoff": 15
           },
           "zerolinecolor": "white",
           "zerolinewidth": 2
          }
         }
        },
        "title": {
         "y": 1
        }
       }
      }
     },
     "metadata": {},
     "output_type": "display_data"
    }
   ],
   "source": [
    "df = players_stats.loc[players_stats[\"Position\"] == positions[2]]\n",
    "min_value, max_value = df[columns].unstack().min(), df[columns].unstack().max()\n",
    "\n",
    "COLUMNS = 5\n",
    "d, m = divmod(df.shape[0], COLUMNS)\n",
    "ROWS = d + (1 if m > 0 else 0)\n",
    "\n",
    "fig = make_subplots(\n",
    "    rows=ROWS,\n",
    "    cols=COLUMNS,\n",
    "    subplot_titles=df.index.values,\n",
    "    specs=[[{\"type\": \"polar\"} for _ in range(COLUMNS)] for _ in range(ROWS)],\n",
    ")\n",
    "\n",
    "for i, player_name in enumerate(df.index):\n",
    "    _df = df.loc[player_name, columns]\n",
    "\n",
    "    r, c = get_rc(i, COLUMNS)\n",
    "    fig.add_trace(\n",
    "        go.Scatterpolar(r=_df, theta=columns, fill=\"toself\", name=player_name),\n",
    "        row=r,\n",
    "        col=c,\n",
    "    )\n",
    "fig.update_layout(\n",
    "    height=800,\n",
    "    showlegend=False,\n",
    "    polar=dict(\n",
    "        radialaxis=dict(visible=True),\n",
    "    ),\n",
    "    title=dict(y=1),\n",
    ")\n",
    "fig.update_annotations(yshift=20)\n",
    "fig.update_polars(radialaxis=dict(range=[min_value - 0.2, max_value + 0.2]))\n",
    "fig.show()"
   ]
  },
  {
   "cell_type": "code",
   "execution_count": 34,
   "metadata": {},
   "outputs": [
    {
     "data": {
      "application/vnd.plotly.v1+json": {
       "config": {
        "plotlyServerURL": "https://plot.ly"
       },
       "data": [
        {
         "fill": "toself",
         "name": "Paduck",
         "r": [
          -0.8452009574831199,
          2.0532785618168687,
          -2.1513265264379453,
          0.7283758504569209,
          -1.5252475843335578,
          0.41571704326655173,
          0.7181247436566325,
          0.23534503216411845,
          -1.7457431218879393
         ],
         "subplot": "polar",
         "theta": [
          "_KDA",
          "_DPM",
          "_CSPM",
          "_Gold",
          "_GPM",
          "_KP",
          "_KS",
          "_GS",
          "_ChampionsPlayed"
         ],
         "type": "scatterpolar"
        },
        {
         "fill": "toself",
         "name": "Deft",
         "r": [
          0.16619611251782426,
          1.095004409138413,
          -1.0253243430165913,
          1.2738189723477837,
          2.2331556336047265,
          0.015349436732211117,
          -0.8822414064348324,
          1.02061188396235,
          -0.6546536707079773
         ],
         "subplot": "polar2",
         "theta": [
          "_KDA",
          "_DPM",
          "_CSPM",
          "_Gold",
          "_GPM",
          "_KP",
          "_KS",
          "_GS",
          "_ChampionsPlayed"
         ],
         "type": "scatterpolar"
        },
        {
         "fill": "toself",
         "name": "Peyz",
         "r": [
          0.24604324962316187,
          -1.3151393513875318,
          -0.35935203463038506,
          -1.4451561295096182,
          0.6287210707443911,
          -0.5476675099567063,
          0.7181247436566325,
          -1.1873990047134,
          -0.6546536707079773
         ],
         "subplot": "polar3",
         "theta": [
          "_KDA",
          "_DPM",
          "_CSPM",
          "_Gold",
          "_GPM",
          "_KP",
          "_KS",
          "_GS",
          "_ChampionsPlayed"
         ],
         "type": "scatterpolar"
        },
        {
         "fill": "toself",
         "name": "Viper",
         "r": [
          -0.41934955958798537,
          -0.2105124675603799,
          0.9535655705347711,
          -0.13740065405042187,
          -0.6026814049061726,
          -0.9935769317343291,
          -1.1758258174171279,
          0.09776610689598629,
          0.4364357804719847
         ],
         "subplot": "polar4",
         "theta": [
          "_KDA",
          "_DPM",
          "_CSPM",
          "_Gold",
          "_GPM",
          "_KP",
          "_KS",
          "_GS",
          "_ChampionsPlayed"
         ],
         "type": "scatterpolar"
        },
        {
         "fill": "toself",
         "name": "Aiming",
         "r": [
          -0.48056569803541105,
          -1.3588342933443516,
          -0.10724572205724892,
          -1.4001603419963187,
          -0.286119790317306,
          -1.055826395173371,
          -1.0679602899003542,
          -0.4976111643005805,
          0.4364357804719847
         ],
         "subplot": "polar5",
         "theta": [
          "_KDA",
          "_DPM",
          "_CSPM",
          "_Gold",
          "_GPM",
          "_KP",
          "_KS",
          "_GS",
          "_ChampionsPlayed"
         ],
         "type": "scatterpolar"
        },
        {
         "fill": "toself",
         "name": "Taeyoon",
         "r": [
          0.029315306051531147,
          -0.3391184804248565,
          -0.22605095334970207,
          1.079186031011188,
          0.24707466170227232,
          0.22142099891900444,
          -0.4959461288265473,
          -2.1067501187286126,
          0.4364357804719847
         ],
         "subplot": "polar6",
         "theta": [
          "_KDA",
          "_DPM",
          "_CSPM",
          "_Gold",
          "_GPM",
          "_KP",
          "_KS",
          "_GS",
          "_ChampionsPlayed"
         ],
         "type": "scatterpolar"
        },
        {
         "fill": "toself",
         "name": "Teddy",
         "r": [
          -0.14178570203133536,
          0.46659609063718105,
          0.21898797551516744,
          -0.8343775545289506,
          -0.11309279667324246,
          2.507637787408486,
          2.1750097906364494,
          0.8617464750347636,
          1.5275252316519468
         ],
         "subplot": "polar7",
         "theta": [
          "_KDA",
          "_DPM",
          "_CSPM",
          "_Gold",
          "_GPM",
          "_KP",
          "_KS",
          "_GS",
          "_ChampionsPlayed"
         ],
         "type": "scatterpolar"
        },
        {
         "fill": "toself",
         "name": "vital",
         "r": [
          -0.6322752585355527,
          -0.752515481554195,
          1.4213052413805713,
          -0.2230496123751549,
          -0.303779311905426,
          0.2780906785203724,
          0.43357688291838803,
          1.4296162973407238,
          1.5275252316519468
         ],
         "subplot": "polar8",
         "theta": [
          "_KDA",
          "_DPM",
          "_CSPM",
          "_Gold",
          "_GPM",
          "_KP",
          "_KS",
          "_GS",
          "_ChampionsPlayed"
         ],
         "type": "scatterpolar"
        },
        {
         "fill": "toself",
         "name": "Hena",
         "r": [
          -0.7235291295130815,
          0.19535994412956043,
          0.2265979215010817,
          -0.35992051950863296,
          -1.044964441389699,
          -0.9935769317343291,
          -0.6659160509741923,
          0.08578932008798952,
          -0.6546536707079773
         ],
         "subplot": "polar9",
         "theta": [
          "_KDA",
          "_DPM",
          "_CSPM",
          "_Gold",
          "_GPM",
          "_KP",
          "_KS",
          "_GS",
          "_ChampionsPlayed"
         ],
         "type": "scatterpolar"
        },
        {
         "fill": "toself",
         "name": "Gumayusi",
         "r": [
          2.801151636993968,
          0.16588106854928872,
          1.048842870560278,
          1.3186839581531946,
          0.7669339634740141,
          0.1524318237521207,
          0.24305353268495433,
          0.06088517225662618,
          -0.6546536707079773
         ],
         "subplot": "polar10",
         "theta": [
          "_KDA",
          "_DPM",
          "_CSPM",
          "_Gold",
          "_GPM",
          "_KP",
          "_KS",
          "_GS",
          "_ChampionsPlayed"
         ],
         "type": "scatterpolar"
        }
       ],
       "layout": {
        "annotations": [
         {
          "font": {
           "size": 16
          },
          "showarrow": false,
          "text": "Paduck",
          "x": 0.08399999999999999,
          "xanchor": "center",
          "xref": "paper",
          "y": 1,
          "yanchor": "bottom",
          "yref": "paper",
          "yshift": 20
         },
         {
          "font": {
           "size": 16
          },
          "showarrow": false,
          "text": "Deft",
          "x": 0.292,
          "xanchor": "center",
          "xref": "paper",
          "y": 1,
          "yanchor": "bottom",
          "yref": "paper",
          "yshift": 20
         },
         {
          "font": {
           "size": 16
          },
          "showarrow": false,
          "text": "Peyz",
          "x": 0.5,
          "xanchor": "center",
          "xref": "paper",
          "y": 1,
          "yanchor": "bottom",
          "yref": "paper",
          "yshift": 20
         },
         {
          "font": {
           "size": 16
          },
          "showarrow": false,
          "text": "Viper",
          "x": 0.708,
          "xanchor": "center",
          "xref": "paper",
          "y": 1,
          "yanchor": "bottom",
          "yref": "paper",
          "yshift": 20
         },
         {
          "font": {
           "size": 16
          },
          "showarrow": false,
          "text": "Aiming",
          "x": 0.9159999999999999,
          "xanchor": "center",
          "xref": "paper",
          "y": 1,
          "yanchor": "bottom",
          "yref": "paper",
          "yshift": 20
         },
         {
          "font": {
           "size": 16
          },
          "showarrow": false,
          "text": "Taeyoon",
          "x": 0.08399999999999999,
          "xanchor": "center",
          "xref": "paper",
          "y": 0.375,
          "yanchor": "bottom",
          "yref": "paper",
          "yshift": 20
         },
         {
          "font": {
           "size": 16
          },
          "showarrow": false,
          "text": "Teddy",
          "x": 0.292,
          "xanchor": "center",
          "xref": "paper",
          "y": 0.375,
          "yanchor": "bottom",
          "yref": "paper",
          "yshift": 20
         },
         {
          "font": {
           "size": 16
          },
          "showarrow": false,
          "text": "vital",
          "x": 0.5,
          "xanchor": "center",
          "xref": "paper",
          "y": 0.375,
          "yanchor": "bottom",
          "yref": "paper",
          "yshift": 20
         },
         {
          "font": {
           "size": 16
          },
          "showarrow": false,
          "text": "Hena",
          "x": 0.708,
          "xanchor": "center",
          "xref": "paper",
          "y": 0.375,
          "yanchor": "bottom",
          "yref": "paper",
          "yshift": 20
         },
         {
          "font": {
           "size": 16
          },
          "showarrow": false,
          "text": "Gumayusi",
          "x": 0.9159999999999999,
          "xanchor": "center",
          "xref": "paper",
          "y": 0.375,
          "yanchor": "bottom",
          "yref": "paper",
          "yshift": 20
         }
        ],
        "height": 800,
        "polar": {
         "domain": {
          "x": [
           0,
           0.16799999999999998
          ],
          "y": [
           0.625,
           1
          ]
         },
         "radialaxis": {
          "range": [
           -2.3513265264379455,
           3.0011516369939684
          ],
          "visible": true
         }
        },
        "polar10": {
         "domain": {
          "x": [
           0.832,
           1
          ],
          "y": [
           0,
           0.375
          ]
         },
         "radialaxis": {
          "range": [
           -2.3513265264379455,
           3.0011516369939684
          ]
         }
        },
        "polar2": {
         "domain": {
          "x": [
           0.208,
           0.376
          ],
          "y": [
           0.625,
           1
          ]
         },
         "radialaxis": {
          "range": [
           -2.3513265264379455,
           3.0011516369939684
          ]
         }
        },
        "polar3": {
         "domain": {
          "x": [
           0.416,
           0.584
          ],
          "y": [
           0.625,
           1
          ]
         },
         "radialaxis": {
          "range": [
           -2.3513265264379455,
           3.0011516369939684
          ]
         }
        },
        "polar4": {
         "domain": {
          "x": [
           0.624,
           0.792
          ],
          "y": [
           0.625,
           1
          ]
         },
         "radialaxis": {
          "range": [
           -2.3513265264379455,
           3.0011516369939684
          ]
         }
        },
        "polar5": {
         "domain": {
          "x": [
           0.832,
           1
          ],
          "y": [
           0.625,
           1
          ]
         },
         "radialaxis": {
          "range": [
           -2.3513265264379455,
           3.0011516369939684
          ]
         }
        },
        "polar6": {
         "domain": {
          "x": [
           0,
           0.16799999999999998
          ],
          "y": [
           0,
           0.375
          ]
         },
         "radialaxis": {
          "range": [
           -2.3513265264379455,
           3.0011516369939684
          ]
         }
        },
        "polar7": {
         "domain": {
          "x": [
           0.208,
           0.376
          ],
          "y": [
           0,
           0.375
          ]
         },
         "radialaxis": {
          "range": [
           -2.3513265264379455,
           3.0011516369939684
          ]
         }
        },
        "polar8": {
         "domain": {
          "x": [
           0.416,
           0.584
          ],
          "y": [
           0,
           0.375
          ]
         },
         "radialaxis": {
          "range": [
           -2.3513265264379455,
           3.0011516369939684
          ]
         }
        },
        "polar9": {
         "domain": {
          "x": [
           0.624,
           0.792
          ],
          "y": [
           0,
           0.375
          ]
         },
         "radialaxis": {
          "range": [
           -2.3513265264379455,
           3.0011516369939684
          ]
         }
        },
        "showlegend": false,
        "template": {
         "data": {
          "bar": [
           {
            "error_x": {
             "color": "#2a3f5f"
            },
            "error_y": {
             "color": "#2a3f5f"
            },
            "marker": {
             "line": {
              "color": "#E5ECF6",
              "width": 0.5
             },
             "pattern": {
              "fillmode": "overlay",
              "size": 10,
              "solidity": 0.2
             }
            },
            "type": "bar"
           }
          ],
          "barpolar": [
           {
            "marker": {
             "line": {
              "color": "#E5ECF6",
              "width": 0.5
             },
             "pattern": {
              "fillmode": "overlay",
              "size": 10,
              "solidity": 0.2
             }
            },
            "type": "barpolar"
           }
          ],
          "carpet": [
           {
            "aaxis": {
             "endlinecolor": "#2a3f5f",
             "gridcolor": "white",
             "linecolor": "white",
             "minorgridcolor": "white",
             "startlinecolor": "#2a3f5f"
            },
            "baxis": {
             "endlinecolor": "#2a3f5f",
             "gridcolor": "white",
             "linecolor": "white",
             "minorgridcolor": "white",
             "startlinecolor": "#2a3f5f"
            },
            "type": "carpet"
           }
          ],
          "choropleth": [
           {
            "colorbar": {
             "outlinewidth": 0,
             "ticks": ""
            },
            "type": "choropleth"
           }
          ],
          "contour": [
           {
            "colorbar": {
             "outlinewidth": 0,
             "ticks": ""
            },
            "colorscale": [
             [
              0,
              "#0d0887"
             ],
             [
              0.1111111111111111,
              "#46039f"
             ],
             [
              0.2222222222222222,
              "#7201a8"
             ],
             [
              0.3333333333333333,
              "#9c179e"
             ],
             [
              0.4444444444444444,
              "#bd3786"
             ],
             [
              0.5555555555555556,
              "#d8576b"
             ],
             [
              0.6666666666666666,
              "#ed7953"
             ],
             [
              0.7777777777777778,
              "#fb9f3a"
             ],
             [
              0.8888888888888888,
              "#fdca26"
             ],
             [
              1,
              "#f0f921"
             ]
            ],
            "type": "contour"
           }
          ],
          "contourcarpet": [
           {
            "colorbar": {
             "outlinewidth": 0,
             "ticks": ""
            },
            "type": "contourcarpet"
           }
          ],
          "heatmap": [
           {
            "colorbar": {
             "outlinewidth": 0,
             "ticks": ""
            },
            "colorscale": [
             [
              0,
              "#0d0887"
             ],
             [
              0.1111111111111111,
              "#46039f"
             ],
             [
              0.2222222222222222,
              "#7201a8"
             ],
             [
              0.3333333333333333,
              "#9c179e"
             ],
             [
              0.4444444444444444,
              "#bd3786"
             ],
             [
              0.5555555555555556,
              "#d8576b"
             ],
             [
              0.6666666666666666,
              "#ed7953"
             ],
             [
              0.7777777777777778,
              "#fb9f3a"
             ],
             [
              0.8888888888888888,
              "#fdca26"
             ],
             [
              1,
              "#f0f921"
             ]
            ],
            "type": "heatmap"
           }
          ],
          "heatmapgl": [
           {
            "colorbar": {
             "outlinewidth": 0,
             "ticks": ""
            },
            "colorscale": [
             [
              0,
              "#0d0887"
             ],
             [
              0.1111111111111111,
              "#46039f"
             ],
             [
              0.2222222222222222,
              "#7201a8"
             ],
             [
              0.3333333333333333,
              "#9c179e"
             ],
             [
              0.4444444444444444,
              "#bd3786"
             ],
             [
              0.5555555555555556,
              "#d8576b"
             ],
             [
              0.6666666666666666,
              "#ed7953"
             ],
             [
              0.7777777777777778,
              "#fb9f3a"
             ],
             [
              0.8888888888888888,
              "#fdca26"
             ],
             [
              1,
              "#f0f921"
             ]
            ],
            "type": "heatmapgl"
           }
          ],
          "histogram": [
           {
            "marker": {
             "pattern": {
              "fillmode": "overlay",
              "size": 10,
              "solidity": 0.2
             }
            },
            "type": "histogram"
           }
          ],
          "histogram2d": [
           {
            "colorbar": {
             "outlinewidth": 0,
             "ticks": ""
            },
            "colorscale": [
             [
              0,
              "#0d0887"
             ],
             [
              0.1111111111111111,
              "#46039f"
             ],
             [
              0.2222222222222222,
              "#7201a8"
             ],
             [
              0.3333333333333333,
              "#9c179e"
             ],
             [
              0.4444444444444444,
              "#bd3786"
             ],
             [
              0.5555555555555556,
              "#d8576b"
             ],
             [
              0.6666666666666666,
              "#ed7953"
             ],
             [
              0.7777777777777778,
              "#fb9f3a"
             ],
             [
              0.8888888888888888,
              "#fdca26"
             ],
             [
              1,
              "#f0f921"
             ]
            ],
            "type": "histogram2d"
           }
          ],
          "histogram2dcontour": [
           {
            "colorbar": {
             "outlinewidth": 0,
             "ticks": ""
            },
            "colorscale": [
             [
              0,
              "#0d0887"
             ],
             [
              0.1111111111111111,
              "#46039f"
             ],
             [
              0.2222222222222222,
              "#7201a8"
             ],
             [
              0.3333333333333333,
              "#9c179e"
             ],
             [
              0.4444444444444444,
              "#bd3786"
             ],
             [
              0.5555555555555556,
              "#d8576b"
             ],
             [
              0.6666666666666666,
              "#ed7953"
             ],
             [
              0.7777777777777778,
              "#fb9f3a"
             ],
             [
              0.8888888888888888,
              "#fdca26"
             ],
             [
              1,
              "#f0f921"
             ]
            ],
            "type": "histogram2dcontour"
           }
          ],
          "mesh3d": [
           {
            "colorbar": {
             "outlinewidth": 0,
             "ticks": ""
            },
            "type": "mesh3d"
           }
          ],
          "parcoords": [
           {
            "line": {
             "colorbar": {
              "outlinewidth": 0,
              "ticks": ""
             }
            },
            "type": "parcoords"
           }
          ],
          "pie": [
           {
            "automargin": true,
            "type": "pie"
           }
          ],
          "scatter": [
           {
            "fillpattern": {
             "fillmode": "overlay",
             "size": 10,
             "solidity": 0.2
            },
            "type": "scatter"
           }
          ],
          "scatter3d": [
           {
            "line": {
             "colorbar": {
              "outlinewidth": 0,
              "ticks": ""
             }
            },
            "marker": {
             "colorbar": {
              "outlinewidth": 0,
              "ticks": ""
             }
            },
            "type": "scatter3d"
           }
          ],
          "scattercarpet": [
           {
            "marker": {
             "colorbar": {
              "outlinewidth": 0,
              "ticks": ""
             }
            },
            "type": "scattercarpet"
           }
          ],
          "scattergeo": [
           {
            "marker": {
             "colorbar": {
              "outlinewidth": 0,
              "ticks": ""
             }
            },
            "type": "scattergeo"
           }
          ],
          "scattergl": [
           {
            "marker": {
             "colorbar": {
              "outlinewidth": 0,
              "ticks": ""
             }
            },
            "type": "scattergl"
           }
          ],
          "scattermapbox": [
           {
            "marker": {
             "colorbar": {
              "outlinewidth": 0,
              "ticks": ""
             }
            },
            "type": "scattermapbox"
           }
          ],
          "scatterpolar": [
           {
            "marker": {
             "colorbar": {
              "outlinewidth": 0,
              "ticks": ""
             }
            },
            "type": "scatterpolar"
           }
          ],
          "scatterpolargl": [
           {
            "marker": {
             "colorbar": {
              "outlinewidth": 0,
              "ticks": ""
             }
            },
            "type": "scatterpolargl"
           }
          ],
          "scatterternary": [
           {
            "marker": {
             "colorbar": {
              "outlinewidth": 0,
              "ticks": ""
             }
            },
            "type": "scatterternary"
           }
          ],
          "surface": [
           {
            "colorbar": {
             "outlinewidth": 0,
             "ticks": ""
            },
            "colorscale": [
             [
              0,
              "#0d0887"
             ],
             [
              0.1111111111111111,
              "#46039f"
             ],
             [
              0.2222222222222222,
              "#7201a8"
             ],
             [
              0.3333333333333333,
              "#9c179e"
             ],
             [
              0.4444444444444444,
              "#bd3786"
             ],
             [
              0.5555555555555556,
              "#d8576b"
             ],
             [
              0.6666666666666666,
              "#ed7953"
             ],
             [
              0.7777777777777778,
              "#fb9f3a"
             ],
             [
              0.8888888888888888,
              "#fdca26"
             ],
             [
              1,
              "#f0f921"
             ]
            ],
            "type": "surface"
           }
          ],
          "table": [
           {
            "cells": {
             "fill": {
              "color": "#EBF0F8"
             },
             "line": {
              "color": "white"
             }
            },
            "header": {
             "fill": {
              "color": "#C8D4E3"
             },
             "line": {
              "color": "white"
             }
            },
            "type": "table"
           }
          ]
         },
         "layout": {
          "annotationdefaults": {
           "arrowcolor": "#2a3f5f",
           "arrowhead": 0,
           "arrowwidth": 1
          },
          "autotypenumbers": "strict",
          "coloraxis": {
           "colorbar": {
            "outlinewidth": 0,
            "ticks": ""
           }
          },
          "colorscale": {
           "diverging": [
            [
             0,
             "#8e0152"
            ],
            [
             0.1,
             "#c51b7d"
            ],
            [
             0.2,
             "#de77ae"
            ],
            [
             0.3,
             "#f1b6da"
            ],
            [
             0.4,
             "#fde0ef"
            ],
            [
             0.5,
             "#f7f7f7"
            ],
            [
             0.6,
             "#e6f5d0"
            ],
            [
             0.7,
             "#b8e186"
            ],
            [
             0.8,
             "#7fbc41"
            ],
            [
             0.9,
             "#4d9221"
            ],
            [
             1,
             "#276419"
            ]
           ],
           "sequential": [
            [
             0,
             "#0d0887"
            ],
            [
             0.1111111111111111,
             "#46039f"
            ],
            [
             0.2222222222222222,
             "#7201a8"
            ],
            [
             0.3333333333333333,
             "#9c179e"
            ],
            [
             0.4444444444444444,
             "#bd3786"
            ],
            [
             0.5555555555555556,
             "#d8576b"
            ],
            [
             0.6666666666666666,
             "#ed7953"
            ],
            [
             0.7777777777777778,
             "#fb9f3a"
            ],
            [
             0.8888888888888888,
             "#fdca26"
            ],
            [
             1,
             "#f0f921"
            ]
           ],
           "sequentialminus": [
            [
             0,
             "#0d0887"
            ],
            [
             0.1111111111111111,
             "#46039f"
            ],
            [
             0.2222222222222222,
             "#7201a8"
            ],
            [
             0.3333333333333333,
             "#9c179e"
            ],
            [
             0.4444444444444444,
             "#bd3786"
            ],
            [
             0.5555555555555556,
             "#d8576b"
            ],
            [
             0.6666666666666666,
             "#ed7953"
            ],
            [
             0.7777777777777778,
             "#fb9f3a"
            ],
            [
             0.8888888888888888,
             "#fdca26"
            ],
            [
             1,
             "#f0f921"
            ]
           ]
          },
          "colorway": [
           "#636efa",
           "#EF553B",
           "#00cc96",
           "#ab63fa",
           "#FFA15A",
           "#19d3f3",
           "#FF6692",
           "#B6E880",
           "#FF97FF",
           "#FECB52"
          ],
          "font": {
           "color": "#2a3f5f"
          },
          "geo": {
           "bgcolor": "white",
           "lakecolor": "white",
           "landcolor": "#E5ECF6",
           "showlakes": true,
           "showland": true,
           "subunitcolor": "white"
          },
          "hoverlabel": {
           "align": "left"
          },
          "hovermode": "closest",
          "mapbox": {
           "style": "light"
          },
          "paper_bgcolor": "white",
          "plot_bgcolor": "#E5ECF6",
          "polar": {
           "angularaxis": {
            "gridcolor": "white",
            "linecolor": "white",
            "ticks": ""
           },
           "bgcolor": "#E5ECF6",
           "radialaxis": {
            "gridcolor": "white",
            "linecolor": "white",
            "ticks": ""
           }
          },
          "scene": {
           "xaxis": {
            "backgroundcolor": "#E5ECF6",
            "gridcolor": "white",
            "gridwidth": 2,
            "linecolor": "white",
            "showbackground": true,
            "ticks": "",
            "zerolinecolor": "white"
           },
           "yaxis": {
            "backgroundcolor": "#E5ECF6",
            "gridcolor": "white",
            "gridwidth": 2,
            "linecolor": "white",
            "showbackground": true,
            "ticks": "",
            "zerolinecolor": "white"
           },
           "zaxis": {
            "backgroundcolor": "#E5ECF6",
            "gridcolor": "white",
            "gridwidth": 2,
            "linecolor": "white",
            "showbackground": true,
            "ticks": "",
            "zerolinecolor": "white"
           }
          },
          "shapedefaults": {
           "line": {
            "color": "#2a3f5f"
           }
          },
          "ternary": {
           "aaxis": {
            "gridcolor": "white",
            "linecolor": "white",
            "ticks": ""
           },
           "baxis": {
            "gridcolor": "white",
            "linecolor": "white",
            "ticks": ""
           },
           "bgcolor": "#E5ECF6",
           "caxis": {
            "gridcolor": "white",
            "linecolor": "white",
            "ticks": ""
           }
          },
          "title": {
           "x": 0.05
          },
          "xaxis": {
           "automargin": true,
           "gridcolor": "white",
           "linecolor": "white",
           "ticks": "",
           "title": {
            "standoff": 15
           },
           "zerolinecolor": "white",
           "zerolinewidth": 2
          },
          "yaxis": {
           "automargin": true,
           "gridcolor": "white",
           "linecolor": "white",
           "ticks": "",
           "title": {
            "standoff": 15
           },
           "zerolinecolor": "white",
           "zerolinewidth": 2
          }
         }
        },
        "title": {
         "y": 1
        }
       }
      }
     },
     "metadata": {},
     "output_type": "display_data"
    }
   ],
   "source": [
    "df = players_stats.loc[players_stats[\"Position\"] == positions[3]]\n",
    "min_value, max_value = df[columns].unstack().min(), df[columns].unstack().max()\n",
    "\n",
    "COLUMNS = 5\n",
    "d, m = divmod(df.shape[0], COLUMNS)\n",
    "ROWS = d + (1 if m > 0 else 0)\n",
    "\n",
    "fig = make_subplots(\n",
    "    rows=ROWS,\n",
    "    cols=COLUMNS,\n",
    "    subplot_titles=df.index.values,\n",
    "    specs=[[{\"type\": \"polar\"} for _ in range(COLUMNS)] for _ in range(ROWS)],\n",
    ")\n",
    "\n",
    "for i, player_name in enumerate(df.index):\n",
    "    _df = df.loc[player_name, columns]\n",
    "\n",
    "    r, c = get_rc(i, COLUMNS)\n",
    "    fig.add_trace(\n",
    "        go.Scatterpolar(r=_df, theta=columns, fill=\"toself\", name=player_name),\n",
    "        row=r,\n",
    "        col=c,\n",
    "    )\n",
    "fig.update_layout(\n",
    "    height=800,\n",
    "    showlegend=False,\n",
    "    polar=dict(\n",
    "        radialaxis=dict(visible=True),\n",
    "    ),\n",
    "    title=dict(y=1),\n",
    ")\n",
    "fig.update_annotations(yshift=20)\n",
    "fig.update_polars(radialaxis=dict(range=[min_value - 0.2, max_value + 0.2]))\n",
    "fig.show()"
   ]
  },
  {
   "cell_type": "code",
   "execution_count": 35,
   "metadata": {},
   "outputs": [
    {
     "data": {
      "application/vnd.plotly.v1+json": {
       "config": {
        "plotlyServerURL": "https://plot.ly"
       },
       "data": [
        {
         "fill": "toself",
         "name": "BeryL",
         "r": [
          -0.09596994578155497,
          2.7529318220231116,
          -1.8613856956623898,
          0.2725309820878896,
          -1.4651509354068546,
          1.2157381406121748,
          -1.530349122277869,
          -1.0725866296496636,
          -1.6712580435934663
         ],
         "subplot": "polar",
         "theta": [
          "_KDA",
          "_DPM",
          "_CSPM",
          "_Gold",
          "_GPM",
          "_KP",
          "_KS",
          "_GS",
          "_ChampionsPlayed"
         ],
         "type": "scatterpolar"
        },
        {
         "fill": "toself",
         "name": "Kellin",
         "r": [
          2.9066718280182107,
          -0.38618917345984705,
          0.791619772236367,
          1.3168942274090962,
          1.9433271486720851,
          1.6459312313173522,
          -0.3831562160778353,
          1.733254243229596,
          -0.7427813527082072
         ],
         "subplot": "polar2",
         "theta": [
          "_KDA",
          "_DPM",
          "_CSPM",
          "_Gold",
          "_GPM",
          "_KP",
          "_KS",
          "_GS",
          "_ChampionsPlayed"
         ],
         "type": "scatterpolar"
        },
        {
         "fill": "toself",
         "name": "Delight",
         "r": [
          -0.30545658116293395,
          0.21598952847243275,
          0.6326170785097615,
          -1.1183962539064674,
          0.6095480004953334,
          -1.1503238582662976,
          1.1737484423364952,
          -0.45107006214021983,
          0.185695338177052
         ],
         "subplot": "polar3",
         "theta": [
          "_KDA",
          "_DPM",
          "_CSPM",
          "_Gold",
          "_GPM",
          "_KP",
          "_KS",
          "_GS",
          "_ChampionsPlayed"
         ],
         "type": "scatterpolar"
        },
        {
         "fill": "toself",
         "name": "Life",
         "r": [
          -0.6492295212759662,
          -0.21818820840946024,
          -0.49363116988897865,
          -0.42504583097436927,
          -0.749886145651631,
          -1.079341998299944,
          0.7410928319981979,
          -1.0801194580776148,
          2.0426487199475702
         ],
         "subplot": "polar4",
         "theta": [
          "_KDA",
          "_DPM",
          "_CSPM",
          "_Gold",
          "_GPM",
          "_KP",
          "_KS",
          "_GS",
          "_ChampionsPlayed"
         ],
         "type": "scatterpolar"
        },
        {
         "fill": "toself",
         "name": "Lehends",
         "r": [
          -0.30545658116293395,
          -0.22554030069917483,
          0.14288872427853447,
          -0.9322126465936134,
          0.0786529431058771,
          -0.46780597397443024,
          1.3817559473068313,
          0.8455322592649722,
          1.1141720290623112
         ],
         "subplot": "polar5",
         "theta": [
          "_KDA",
          "_DPM",
          "_CSPM",
          "_Gold",
          "_GPM",
          "_KP",
          "_KS",
          "_GS",
          "_ChampionsPlayed"
         ],
         "type": "scatterpolar"
        },
        {
         "fill": "toself",
         "name": "Jun",
         "r": [
          -0.06105550655132514,
          -0.5548093226830696,
          1.8693560954503086,
          1.3515951147935708,
          0.4932027772605076,
          -0.5240133291514086,
          -0.7880478300307883,
          -0.5199238393624237,
          0.185695338177052
         ],
         "subplot": "polar6",
         "theta": [
          "_KDA",
          "_DPM",
          "_CSPM",
          "_Gold",
          "_GPM",
          "_KP",
          "_KS",
          "_GS",
          "_ChampionsPlayed"
         ],
         "type": "scatterpolar"
        },
        {
         "fill": "toself",
         "name": "Kael",
         "r": [
          -0.3403710203931638,
          -0.3509174908019891,
          0.02370992304497385,
          -0.9066318642268528,
          -0.31989351805708277,
          0.979131940724327,
          -1.530349122277869,
          0.05881161011947312,
          0.185695338177052
         ],
         "subplot": "polar7",
         "theta": [
          "_KDA",
          "_DPM",
          "_CSPM",
          "_Gold",
          "_GPM",
          "_KP",
          "_KS",
          "_GS",
          "_ChampionsPlayed"
         ],
         "type": "scatterpolar"
        },
        {
         "fill": "toself",
         "name": "Peter",
         "r": [
          -0.25890399552262744,
          0.4158787180577118,
          -1.108988197672267,
          -0.6938887315697283,
          -0.7536340165191825,
          -0.3185051867855848,
          0.8357362467597007,
          -0.6991904493921353,
          0.185695338177052
         ],
         "subplot": "polar8",
         "theta": [
          "_KDA",
          "_DPM",
          "_CSPM",
          "_Gold",
          "_GPM",
          "_KP",
          "_KS",
          "_GS",
          "_ChampionsPlayed"
         ],
         "type": "scatterpolar"
        },
        {
         "fill": "toself",
         "name": "Effort",
         "r": [
          -0.8640876088466113,
          -0.5388071802708749,
          -0.5076870616438319,
          -0.4611258561907903,
          -0.9692211356037471,
          -1.079341998299944,
          -0.016054486093824347,
          -0.4786228896383928,
          -0.7427813527082072
         ],
         "subplot": "polar9",
         "theta": [
          "_KDA",
          "_DPM",
          "_CSPM",
          "_Gold",
          "_GPM",
          "_KP",
          "_KS",
          "_GS",
          "_ChampionsPlayed"
         ],
         "type": "scatterpolar"
        },
        {
         "fill": "toself",
         "name": "Keria",
         "r": [
          -0.02614106732109531,
          -1.1103483922288422,
          0.5115005313475196,
          1.596280859171277,
          1.1330548817046948,
          0.778531032123761,
          0.11562330835696154,
          1.6639152156463368,
          -0.7427813527082072
         ],
         "subplot": "polar10",
         "theta": [
          "_KDA",
          "_DPM",
          "_CSPM",
          "_Gold",
          "_GPM",
          "_KP",
          "_KS",
          "_GS",
          "_ChampionsPlayed"
         ],
         "type": "scatterpolar"
        }
       ],
       "layout": {
        "annotations": [
         {
          "font": {
           "size": 16
          },
          "showarrow": false,
          "text": "BeryL",
          "x": 0.08399999999999999,
          "xanchor": "center",
          "xref": "paper",
          "y": 1,
          "yanchor": "bottom",
          "yref": "paper",
          "yshift": 20
         },
         {
          "font": {
           "size": 16
          },
          "showarrow": false,
          "text": "Kellin",
          "x": 0.292,
          "xanchor": "center",
          "xref": "paper",
          "y": 1,
          "yanchor": "bottom",
          "yref": "paper",
          "yshift": 20
         },
         {
          "font": {
           "size": 16
          },
          "showarrow": false,
          "text": "Delight",
          "x": 0.5,
          "xanchor": "center",
          "xref": "paper",
          "y": 1,
          "yanchor": "bottom",
          "yref": "paper",
          "yshift": 20
         },
         {
          "font": {
           "size": 16
          },
          "showarrow": false,
          "text": "Life",
          "x": 0.708,
          "xanchor": "center",
          "xref": "paper",
          "y": 1,
          "yanchor": "bottom",
          "yref": "paper",
          "yshift": 20
         },
         {
          "font": {
           "size": 16
          },
          "showarrow": false,
          "text": "Lehends",
          "x": 0.9159999999999999,
          "xanchor": "center",
          "xref": "paper",
          "y": 1,
          "yanchor": "bottom",
          "yref": "paper",
          "yshift": 20
         },
         {
          "font": {
           "size": 16
          },
          "showarrow": false,
          "text": "Jun",
          "x": 0.08399999999999999,
          "xanchor": "center",
          "xref": "paper",
          "y": 0.375,
          "yanchor": "bottom",
          "yref": "paper",
          "yshift": 20
         },
         {
          "font": {
           "size": 16
          },
          "showarrow": false,
          "text": "Kael",
          "x": 0.292,
          "xanchor": "center",
          "xref": "paper",
          "y": 0.375,
          "yanchor": "bottom",
          "yref": "paper",
          "yshift": 20
         },
         {
          "font": {
           "size": 16
          },
          "showarrow": false,
          "text": "Peter",
          "x": 0.5,
          "xanchor": "center",
          "xref": "paper",
          "y": 0.375,
          "yanchor": "bottom",
          "yref": "paper",
          "yshift": 20
         },
         {
          "font": {
           "size": 16
          },
          "showarrow": false,
          "text": "Effort",
          "x": 0.708,
          "xanchor": "center",
          "xref": "paper",
          "y": 0.375,
          "yanchor": "bottom",
          "yref": "paper",
          "yshift": 20
         },
         {
          "font": {
           "size": 16
          },
          "showarrow": false,
          "text": "Keria",
          "x": 0.9159999999999999,
          "xanchor": "center",
          "xref": "paper",
          "y": 0.375,
          "yanchor": "bottom",
          "yref": "paper",
          "yshift": 20
         }
        ],
        "height": 800,
        "polar": {
         "domain": {
          "x": [
           0,
           0.16799999999999998
          ],
          "y": [
           0.625,
           1
          ]
         },
         "radialaxis": {
          "range": [
           -2.06138569566239,
           3.106671828018211
          ],
          "visible": true
         }
        },
        "polar10": {
         "domain": {
          "x": [
           0.832,
           1
          ],
          "y": [
           0,
           0.375
          ]
         },
         "radialaxis": {
          "range": [
           -2.06138569566239,
           3.106671828018211
          ]
         }
        },
        "polar2": {
         "domain": {
          "x": [
           0.208,
           0.376
          ],
          "y": [
           0.625,
           1
          ]
         },
         "radialaxis": {
          "range": [
           -2.06138569566239,
           3.106671828018211
          ]
         }
        },
        "polar3": {
         "domain": {
          "x": [
           0.416,
           0.584
          ],
          "y": [
           0.625,
           1
          ]
         },
         "radialaxis": {
          "range": [
           -2.06138569566239,
           3.106671828018211
          ]
         }
        },
        "polar4": {
         "domain": {
          "x": [
           0.624,
           0.792
          ],
          "y": [
           0.625,
           1
          ]
         },
         "radialaxis": {
          "range": [
           -2.06138569566239,
           3.106671828018211
          ]
         }
        },
        "polar5": {
         "domain": {
          "x": [
           0.832,
           1
          ],
          "y": [
           0.625,
           1
          ]
         },
         "radialaxis": {
          "range": [
           -2.06138569566239,
           3.106671828018211
          ]
         }
        },
        "polar6": {
         "domain": {
          "x": [
           0,
           0.16799999999999998
          ],
          "y": [
           0,
           0.375
          ]
         },
         "radialaxis": {
          "range": [
           -2.06138569566239,
           3.106671828018211
          ]
         }
        },
        "polar7": {
         "domain": {
          "x": [
           0.208,
           0.376
          ],
          "y": [
           0,
           0.375
          ]
         },
         "radialaxis": {
          "range": [
           -2.06138569566239,
           3.106671828018211
          ]
         }
        },
        "polar8": {
         "domain": {
          "x": [
           0.416,
           0.584
          ],
          "y": [
           0,
           0.375
          ]
         },
         "radialaxis": {
          "range": [
           -2.06138569566239,
           3.106671828018211
          ]
         }
        },
        "polar9": {
         "domain": {
          "x": [
           0.624,
           0.792
          ],
          "y": [
           0,
           0.375
          ]
         },
         "radialaxis": {
          "range": [
           -2.06138569566239,
           3.106671828018211
          ]
         }
        },
        "showlegend": false,
        "template": {
         "data": {
          "bar": [
           {
            "error_x": {
             "color": "#2a3f5f"
            },
            "error_y": {
             "color": "#2a3f5f"
            },
            "marker": {
             "line": {
              "color": "#E5ECF6",
              "width": 0.5
             },
             "pattern": {
              "fillmode": "overlay",
              "size": 10,
              "solidity": 0.2
             }
            },
            "type": "bar"
           }
          ],
          "barpolar": [
           {
            "marker": {
             "line": {
              "color": "#E5ECF6",
              "width": 0.5
             },
             "pattern": {
              "fillmode": "overlay",
              "size": 10,
              "solidity": 0.2
             }
            },
            "type": "barpolar"
           }
          ],
          "carpet": [
           {
            "aaxis": {
             "endlinecolor": "#2a3f5f",
             "gridcolor": "white",
             "linecolor": "white",
             "minorgridcolor": "white",
             "startlinecolor": "#2a3f5f"
            },
            "baxis": {
             "endlinecolor": "#2a3f5f",
             "gridcolor": "white",
             "linecolor": "white",
             "minorgridcolor": "white",
             "startlinecolor": "#2a3f5f"
            },
            "type": "carpet"
           }
          ],
          "choropleth": [
           {
            "colorbar": {
             "outlinewidth": 0,
             "ticks": ""
            },
            "type": "choropleth"
           }
          ],
          "contour": [
           {
            "colorbar": {
             "outlinewidth": 0,
             "ticks": ""
            },
            "colorscale": [
             [
              0,
              "#0d0887"
             ],
             [
              0.1111111111111111,
              "#46039f"
             ],
             [
              0.2222222222222222,
              "#7201a8"
             ],
             [
              0.3333333333333333,
              "#9c179e"
             ],
             [
              0.4444444444444444,
              "#bd3786"
             ],
             [
              0.5555555555555556,
              "#d8576b"
             ],
             [
              0.6666666666666666,
              "#ed7953"
             ],
             [
              0.7777777777777778,
              "#fb9f3a"
             ],
             [
              0.8888888888888888,
              "#fdca26"
             ],
             [
              1,
              "#f0f921"
             ]
            ],
            "type": "contour"
           }
          ],
          "contourcarpet": [
           {
            "colorbar": {
             "outlinewidth": 0,
             "ticks": ""
            },
            "type": "contourcarpet"
           }
          ],
          "heatmap": [
           {
            "colorbar": {
             "outlinewidth": 0,
             "ticks": ""
            },
            "colorscale": [
             [
              0,
              "#0d0887"
             ],
             [
              0.1111111111111111,
              "#46039f"
             ],
             [
              0.2222222222222222,
              "#7201a8"
             ],
             [
              0.3333333333333333,
              "#9c179e"
             ],
             [
              0.4444444444444444,
              "#bd3786"
             ],
             [
              0.5555555555555556,
              "#d8576b"
             ],
             [
              0.6666666666666666,
              "#ed7953"
             ],
             [
              0.7777777777777778,
              "#fb9f3a"
             ],
             [
              0.8888888888888888,
              "#fdca26"
             ],
             [
              1,
              "#f0f921"
             ]
            ],
            "type": "heatmap"
           }
          ],
          "heatmapgl": [
           {
            "colorbar": {
             "outlinewidth": 0,
             "ticks": ""
            },
            "colorscale": [
             [
              0,
              "#0d0887"
             ],
             [
              0.1111111111111111,
              "#46039f"
             ],
             [
              0.2222222222222222,
              "#7201a8"
             ],
             [
              0.3333333333333333,
              "#9c179e"
             ],
             [
              0.4444444444444444,
              "#bd3786"
             ],
             [
              0.5555555555555556,
              "#d8576b"
             ],
             [
              0.6666666666666666,
              "#ed7953"
             ],
             [
              0.7777777777777778,
              "#fb9f3a"
             ],
             [
              0.8888888888888888,
              "#fdca26"
             ],
             [
              1,
              "#f0f921"
             ]
            ],
            "type": "heatmapgl"
           }
          ],
          "histogram": [
           {
            "marker": {
             "pattern": {
              "fillmode": "overlay",
              "size": 10,
              "solidity": 0.2
             }
            },
            "type": "histogram"
           }
          ],
          "histogram2d": [
           {
            "colorbar": {
             "outlinewidth": 0,
             "ticks": ""
            },
            "colorscale": [
             [
              0,
              "#0d0887"
             ],
             [
              0.1111111111111111,
              "#46039f"
             ],
             [
              0.2222222222222222,
              "#7201a8"
             ],
             [
              0.3333333333333333,
              "#9c179e"
             ],
             [
              0.4444444444444444,
              "#bd3786"
             ],
             [
              0.5555555555555556,
              "#d8576b"
             ],
             [
              0.6666666666666666,
              "#ed7953"
             ],
             [
              0.7777777777777778,
              "#fb9f3a"
             ],
             [
              0.8888888888888888,
              "#fdca26"
             ],
             [
              1,
              "#f0f921"
             ]
            ],
            "type": "histogram2d"
           }
          ],
          "histogram2dcontour": [
           {
            "colorbar": {
             "outlinewidth": 0,
             "ticks": ""
            },
            "colorscale": [
             [
              0,
              "#0d0887"
             ],
             [
              0.1111111111111111,
              "#46039f"
             ],
             [
              0.2222222222222222,
              "#7201a8"
             ],
             [
              0.3333333333333333,
              "#9c179e"
             ],
             [
              0.4444444444444444,
              "#bd3786"
             ],
             [
              0.5555555555555556,
              "#d8576b"
             ],
             [
              0.6666666666666666,
              "#ed7953"
             ],
             [
              0.7777777777777778,
              "#fb9f3a"
             ],
             [
              0.8888888888888888,
              "#fdca26"
             ],
             [
              1,
              "#f0f921"
             ]
            ],
            "type": "histogram2dcontour"
           }
          ],
          "mesh3d": [
           {
            "colorbar": {
             "outlinewidth": 0,
             "ticks": ""
            },
            "type": "mesh3d"
           }
          ],
          "parcoords": [
           {
            "line": {
             "colorbar": {
              "outlinewidth": 0,
              "ticks": ""
             }
            },
            "type": "parcoords"
           }
          ],
          "pie": [
           {
            "automargin": true,
            "type": "pie"
           }
          ],
          "scatter": [
           {
            "fillpattern": {
             "fillmode": "overlay",
             "size": 10,
             "solidity": 0.2
            },
            "type": "scatter"
           }
          ],
          "scatter3d": [
           {
            "line": {
             "colorbar": {
              "outlinewidth": 0,
              "ticks": ""
             }
            },
            "marker": {
             "colorbar": {
              "outlinewidth": 0,
              "ticks": ""
             }
            },
            "type": "scatter3d"
           }
          ],
          "scattercarpet": [
           {
            "marker": {
             "colorbar": {
              "outlinewidth": 0,
              "ticks": ""
             }
            },
            "type": "scattercarpet"
           }
          ],
          "scattergeo": [
           {
            "marker": {
             "colorbar": {
              "outlinewidth": 0,
              "ticks": ""
             }
            },
            "type": "scattergeo"
           }
          ],
          "scattergl": [
           {
            "marker": {
             "colorbar": {
              "outlinewidth": 0,
              "ticks": ""
             }
            },
            "type": "scattergl"
           }
          ],
          "scattermapbox": [
           {
            "marker": {
             "colorbar": {
              "outlinewidth": 0,
              "ticks": ""
             }
            },
            "type": "scattermapbox"
           }
          ],
          "scatterpolar": [
           {
            "marker": {
             "colorbar": {
              "outlinewidth": 0,
              "ticks": ""
             }
            },
            "type": "scatterpolar"
           }
          ],
          "scatterpolargl": [
           {
            "marker": {
             "colorbar": {
              "outlinewidth": 0,
              "ticks": ""
             }
            },
            "type": "scatterpolargl"
           }
          ],
          "scatterternary": [
           {
            "marker": {
             "colorbar": {
              "outlinewidth": 0,
              "ticks": ""
             }
            },
            "type": "scatterternary"
           }
          ],
          "surface": [
           {
            "colorbar": {
             "outlinewidth": 0,
             "ticks": ""
            },
            "colorscale": [
             [
              0,
              "#0d0887"
             ],
             [
              0.1111111111111111,
              "#46039f"
             ],
             [
              0.2222222222222222,
              "#7201a8"
             ],
             [
              0.3333333333333333,
              "#9c179e"
             ],
             [
              0.4444444444444444,
              "#bd3786"
             ],
             [
              0.5555555555555556,
              "#d8576b"
             ],
             [
              0.6666666666666666,
              "#ed7953"
             ],
             [
              0.7777777777777778,
              "#fb9f3a"
             ],
             [
              0.8888888888888888,
              "#fdca26"
             ],
             [
              1,
              "#f0f921"
             ]
            ],
            "type": "surface"
           }
          ],
          "table": [
           {
            "cells": {
             "fill": {
              "color": "#EBF0F8"
             },
             "line": {
              "color": "white"
             }
            },
            "header": {
             "fill": {
              "color": "#C8D4E3"
             },
             "line": {
              "color": "white"
             }
            },
            "type": "table"
           }
          ]
         },
         "layout": {
          "annotationdefaults": {
           "arrowcolor": "#2a3f5f",
           "arrowhead": 0,
           "arrowwidth": 1
          },
          "autotypenumbers": "strict",
          "coloraxis": {
           "colorbar": {
            "outlinewidth": 0,
            "ticks": ""
           }
          },
          "colorscale": {
           "diverging": [
            [
             0,
             "#8e0152"
            ],
            [
             0.1,
             "#c51b7d"
            ],
            [
             0.2,
             "#de77ae"
            ],
            [
             0.3,
             "#f1b6da"
            ],
            [
             0.4,
             "#fde0ef"
            ],
            [
             0.5,
             "#f7f7f7"
            ],
            [
             0.6,
             "#e6f5d0"
            ],
            [
             0.7,
             "#b8e186"
            ],
            [
             0.8,
             "#7fbc41"
            ],
            [
             0.9,
             "#4d9221"
            ],
            [
             1,
             "#276419"
            ]
           ],
           "sequential": [
            [
             0,
             "#0d0887"
            ],
            [
             0.1111111111111111,
             "#46039f"
            ],
            [
             0.2222222222222222,
             "#7201a8"
            ],
            [
             0.3333333333333333,
             "#9c179e"
            ],
            [
             0.4444444444444444,
             "#bd3786"
            ],
            [
             0.5555555555555556,
             "#d8576b"
            ],
            [
             0.6666666666666666,
             "#ed7953"
            ],
            [
             0.7777777777777778,
             "#fb9f3a"
            ],
            [
             0.8888888888888888,
             "#fdca26"
            ],
            [
             1,
             "#f0f921"
            ]
           ],
           "sequentialminus": [
            [
             0,
             "#0d0887"
            ],
            [
             0.1111111111111111,
             "#46039f"
            ],
            [
             0.2222222222222222,
             "#7201a8"
            ],
            [
             0.3333333333333333,
             "#9c179e"
            ],
            [
             0.4444444444444444,
             "#bd3786"
            ],
            [
             0.5555555555555556,
             "#d8576b"
            ],
            [
             0.6666666666666666,
             "#ed7953"
            ],
            [
             0.7777777777777778,
             "#fb9f3a"
            ],
            [
             0.8888888888888888,
             "#fdca26"
            ],
            [
             1,
             "#f0f921"
            ]
           ]
          },
          "colorway": [
           "#636efa",
           "#EF553B",
           "#00cc96",
           "#ab63fa",
           "#FFA15A",
           "#19d3f3",
           "#FF6692",
           "#B6E880",
           "#FF97FF",
           "#FECB52"
          ],
          "font": {
           "color": "#2a3f5f"
          },
          "geo": {
           "bgcolor": "white",
           "lakecolor": "white",
           "landcolor": "#E5ECF6",
           "showlakes": true,
           "showland": true,
           "subunitcolor": "white"
          },
          "hoverlabel": {
           "align": "left"
          },
          "hovermode": "closest",
          "mapbox": {
           "style": "light"
          },
          "paper_bgcolor": "white",
          "plot_bgcolor": "#E5ECF6",
          "polar": {
           "angularaxis": {
            "gridcolor": "white",
            "linecolor": "white",
            "ticks": ""
           },
           "bgcolor": "#E5ECF6",
           "radialaxis": {
            "gridcolor": "white",
            "linecolor": "white",
            "ticks": ""
           }
          },
          "scene": {
           "xaxis": {
            "backgroundcolor": "#E5ECF6",
            "gridcolor": "white",
            "gridwidth": 2,
            "linecolor": "white",
            "showbackground": true,
            "ticks": "",
            "zerolinecolor": "white"
           },
           "yaxis": {
            "backgroundcolor": "#E5ECF6",
            "gridcolor": "white",
            "gridwidth": 2,
            "linecolor": "white",
            "showbackground": true,
            "ticks": "",
            "zerolinecolor": "white"
           },
           "zaxis": {
            "backgroundcolor": "#E5ECF6",
            "gridcolor": "white",
            "gridwidth": 2,
            "linecolor": "white",
            "showbackground": true,
            "ticks": "",
            "zerolinecolor": "white"
           }
          },
          "shapedefaults": {
           "line": {
            "color": "#2a3f5f"
           }
          },
          "ternary": {
           "aaxis": {
            "gridcolor": "white",
            "linecolor": "white",
            "ticks": ""
           },
           "baxis": {
            "gridcolor": "white",
            "linecolor": "white",
            "ticks": ""
           },
           "bgcolor": "#E5ECF6",
           "caxis": {
            "gridcolor": "white",
            "linecolor": "white",
            "ticks": ""
           }
          },
          "title": {
           "x": 0.05
          },
          "xaxis": {
           "automargin": true,
           "gridcolor": "white",
           "linecolor": "white",
           "ticks": "",
           "title": {
            "standoff": 15
           },
           "zerolinecolor": "white",
           "zerolinewidth": 2
          },
          "yaxis": {
           "automargin": true,
           "gridcolor": "white",
           "linecolor": "white",
           "ticks": "",
           "title": {
            "standoff": 15
           },
           "zerolinecolor": "white",
           "zerolinewidth": 2
          }
         }
        },
        "title": {
         "y": 1
        }
       }
      }
     },
     "metadata": {},
     "output_type": "display_data"
    }
   ],
   "source": [
    "df = players_stats.loc[players_stats[\"Position\"] == positions[4]]\n",
    "min_value, max_value = df[columns].unstack().min(), df[columns].unstack().max()\n",
    "\n",
    "COLUMNS = 5\n",
    "d, m = divmod(df.shape[0], COLUMNS)\n",
    "ROWS = d + (1 if m > 0 else 0)\n",
    "\n",
    "fig = make_subplots(\n",
    "    rows=ROWS,\n",
    "    cols=COLUMNS,\n",
    "    subplot_titles=df.index.values,\n",
    "    specs=[[{\"type\": \"polar\"} for _ in range(COLUMNS)] for _ in range(ROWS)],\n",
    ")\n",
    "\n",
    "for i, player_name in enumerate(df.index):\n",
    "    _df = df.loc[player_name, columns]\n",
    "\n",
    "    r, c = get_rc(i, COLUMNS)\n",
    "    fig.add_trace(\n",
    "        go.Scatterpolar(r=_df, theta=columns, fill=\"toself\", name=player_name),\n",
    "        row=r,\n",
    "        col=c,\n",
    "    )\n",
    "fig.update_layout(\n",
    "    height=800,\n",
    "    showlegend=False,\n",
    "    polar=dict(\n",
    "        radialaxis=dict(visible=True),\n",
    "    ),\n",
    "    title=dict(y=1),\n",
    ")\n",
    "fig.update_annotations(yshift=20)\n",
    "fig.update_polars(radialaxis=dict(range=[min_value - 0.2, max_value + 0.2]))\n",
    "fig.show()"
   ]
  },
  {
   "cell_type": "code",
   "execution_count": null,
   "metadata": {},
   "outputs": [],
   "source": []
  }
 ],
 "metadata": {
  "kernelspec": {
   "display_name": "Python 3",
   "language": "python",
   "name": "python3"
  },
  "language_info": {
   "codemirror_mode": {
    "name": "ipython",
    "version": 3
   },
   "file_extension": ".py",
   "mimetype": "text/x-python",
   "name": "python",
   "nbconvert_exporter": "python",
   "pygments_lexer": "ipython3",
   "version": "3.11.3"
  },
  "orig_nbformat": 4,
  "vscode": {
   "interpreter": {
    "hash": "cc0362ac4c7af633927c7f13c3a204675dc26ff026425e1d1bcaf453ea76d9c8"
   }
  }
 },
 "nbformat": 4,
 "nbformat_minor": 2
}
