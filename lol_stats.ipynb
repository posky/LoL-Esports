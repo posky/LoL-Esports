{
 "cells": [
  {
   "cell_type": "code",
   "execution_count": 1,
   "metadata": {},
   "outputs": [],
   "source": [
    "import numpy as np\n",
    "import pandas as pd\n",
    "import matplotlib as mpl\n",
    "import matplotlib.pyplot as plt\n",
    "import seaborn as sns\n",
    "from sklearn.preprocessing import StandardScaler, MinMaxScaler, MaxAbsScaler\n",
    "import plotly.express as px\n",
    "import plotly.graph_objects as go\n",
    "from plotly.subplots import make_subplots\n",
    "import pandas as pd\n",
    "\n",
    "\n",
    "pd.set_option(\"display.max_columns\", None)"
   ]
  },
  {
   "cell_type": "code",
   "execution_count": 2,
   "metadata": {},
   "outputs": [],
   "source": [
    "def get_rc(i, cols):\n",
    "    r = i // cols + 1\n",
    "    c = i % cols + 1\n",
    "\n",
    "    return (r, c)\n",
    "\n",
    "\n",
    "def get_rows_columns(df, c=5):\n",
    "    COLUMNS = c\n",
    "    d, m = divmod(df.shape[0], COLUMNS)\n",
    "    ROWS = d + (1 if m > 0 else m)\n",
    "\n",
    "    return ROWS, COLUMNS\n",
    "\n",
    "\n",
    "def get_fig_subplots(df, ROWS, COLUMNS):\n",
    "    fig = make_subplots(\n",
    "        rows=ROWS,\n",
    "        cols=COLUMNS,\n",
    "        subplot_titles=df.index.values,\n",
    "        specs=[[{\"type\": \"polar\"} for _ in range(COLUMNS)] for _ in range(ROWS)],\n",
    "    )\n",
    "\n",
    "    return fig\n",
    "\n",
    "\n",
    "def get_min_max_value(df, columns):\n",
    "    min_value = df[columns].unstack().min()\n",
    "    max_value = df[columns].unstack().max()\n",
    "\n",
    "    return min_value, max_value\n",
    "\n",
    "\n",
    "def get_theta_list(df, name, origin_columns, columns):\n",
    "    return [\n",
    "        f\"{col} - {round(value, ndigits=2)}\"\n",
    "        for col, value in zip(origin_columns, df.loc[name, origin_columns].values)\n",
    "    ]"
   ]
  },
  {
   "cell_type": "code",
   "execution_count": 3,
   "metadata": {},
   "outputs": [],
   "source": [
    "# SCALER = StandardScaler\n",
    "SCALER = MinMaxScaler\n",
    "# SCALER = MaxAbsScaler"
   ]
  },
  {
   "cell_type": "code",
   "execution_count": 4,
   "metadata": {},
   "outputs": [
    {
     "name": "stdout",
     "output_type": "stream",
     "text": [
      "(10, 12)\n"
     ]
    },
    {
     "data": {
      "text/html": [
       "<div>\n",
       "<style scoped>\n",
       "    .dataframe tbody tr th:only-of-type {\n",
       "        vertical-align: middle;\n",
       "    }\n",
       "\n",
       "    .dataframe tbody tr th {\n",
       "        vertical-align: top;\n",
       "    }\n",
       "\n",
       "    .dataframe thead th {\n",
       "        text-align: right;\n",
       "    }\n",
       "</style>\n",
       "<table border=\"1\" class=\"dataframe\">\n",
       "  <thead>\n",
       "    <tr style=\"text-align: right;\">\n",
       "      <th></th>\n",
       "      <th>Games</th>\n",
       "      <th>Win</th>\n",
       "      <th>Loss</th>\n",
       "      <th>WinRate</th>\n",
       "      <th>KD</th>\n",
       "      <th>CKPM</th>\n",
       "      <th>GameDuration</th>\n",
       "      <th>WinGameDuration</th>\n",
       "      <th>LossGameDuration</th>\n",
       "      <th>GPM</th>\n",
       "      <th>GDPM</th>\n",
       "      <th>KPM</th>\n",
       "    </tr>\n",
       "    <tr>\n",
       "      <th>Team</th>\n",
       "      <th></th>\n",
       "      <th></th>\n",
       "      <th></th>\n",
       "      <th></th>\n",
       "      <th></th>\n",
       "      <th></th>\n",
       "      <th></th>\n",
       "      <th></th>\n",
       "      <th></th>\n",
       "      <th></th>\n",
       "      <th></th>\n",
       "      <th></th>\n",
       "    </tr>\n",
       "  </thead>\n",
       "  <tbody>\n",
       "    <tr>\n",
       "      <th>DRX</th>\n",
       "      <td>9.0</td>\n",
       "      <td>1.0</td>\n",
       "      <td>8.0</td>\n",
       "      <td>0.111111</td>\n",
       "      <td>0.393333</td>\n",
       "      <td>0.793313</td>\n",
       "      <td>29.529630</td>\n",
       "      <td>34.450000</td>\n",
       "      <td>28.914583</td>\n",
       "      <td>1571.253978</td>\n",
       "      <td>-406.147199</td>\n",
       "      <td>0.197370</td>\n",
       "    </tr>\n",
       "    <tr>\n",
       "      <th>Dplus KIA</th>\n",
       "      <td>10.0</td>\n",
       "      <td>7.0</td>\n",
       "      <td>3.0</td>\n",
       "      <td>0.700000</td>\n",
       "      <td>1.823529</td>\n",
       "      <td>0.616273</td>\n",
       "      <td>31.126667</td>\n",
       "      <td>30.061905</td>\n",
       "      <td>33.611111</td>\n",
       "      <td>1879.293051</td>\n",
       "      <td>215.803165</td>\n",
       "      <td>0.407735</td>\n",
       "    </tr>\n",
       "    <tr>\n",
       "      <th>Gen.G</th>\n",
       "      <td>10.0</td>\n",
       "      <td>8.0</td>\n",
       "      <td>2.0</td>\n",
       "      <td>0.800000</td>\n",
       "      <td>1.385542</td>\n",
       "      <td>0.698427</td>\n",
       "      <td>28.206667</td>\n",
       "      <td>28.493750</td>\n",
       "      <td>27.058333</td>\n",
       "      <td>1912.877817</td>\n",
       "      <td>203.649029</td>\n",
       "      <td>0.407395</td>\n",
       "    </tr>\n",
       "    <tr>\n",
       "      <th>Hanwha Life Esports</th>\n",
       "      <td>10.0</td>\n",
       "      <td>6.0</td>\n",
       "      <td>4.0</td>\n",
       "      <td>0.600000</td>\n",
       "      <td>1.464789</td>\n",
       "      <td>0.572555</td>\n",
       "      <td>31.270000</td>\n",
       "      <td>33.177778</td>\n",
       "      <td>28.408333</td>\n",
       "      <td>1800.189333</td>\n",
       "      <td>61.911603</td>\n",
       "      <td>0.346820</td>\n",
       "    </tr>\n",
       "    <tr>\n",
       "      <th>KT Rolster</th>\n",
       "      <td>10.0</td>\n",
       "      <td>7.0</td>\n",
       "      <td>3.0</td>\n",
       "      <td>0.700000</td>\n",
       "      <td>1.519481</td>\n",
       "      <td>0.721106</td>\n",
       "      <td>27.576667</td>\n",
       "      <td>27.688095</td>\n",
       "      <td>27.316667</td>\n",
       "      <td>1896.948825</td>\n",
       "      <td>139.544007</td>\n",
       "      <td>0.448257</td>\n",
       "    </tr>\n",
       "  </tbody>\n",
       "</table>\n",
       "</div>"
      ],
      "text/plain": [
       "                     Games  Win  Loss   WinRate        KD      CKPM   \n",
       "Team                                                                  \n",
       "DRX                    9.0  1.0   8.0  0.111111  0.393333  0.793313  \\\n",
       "Dplus KIA             10.0  7.0   3.0  0.700000  1.823529  0.616273   \n",
       "Gen.G                 10.0  8.0   2.0  0.800000  1.385542  0.698427   \n",
       "Hanwha Life Esports   10.0  6.0   4.0  0.600000  1.464789  0.572555   \n",
       "KT Rolster            10.0  7.0   3.0  0.700000  1.519481  0.721106   \n",
       "\n",
       "                     GameDuration  WinGameDuration  LossGameDuration   \n",
       "Team                                                                   \n",
       "DRX                     29.529630        34.450000         28.914583  \\\n",
       "Dplus KIA               31.126667        30.061905         33.611111   \n",
       "Gen.G                   28.206667        28.493750         27.058333   \n",
       "Hanwha Life Esports     31.270000        33.177778         28.408333   \n",
       "KT Rolster              27.576667        27.688095         27.316667   \n",
       "\n",
       "                             GPM        GDPM       KPM  \n",
       "Team                                                    \n",
       "DRX                  1571.253978 -406.147199  0.197370  \n",
       "Dplus KIA            1879.293051  215.803165  0.407735  \n",
       "Gen.G                1912.877817  203.649029  0.407395  \n",
       "Hanwha Life Esports  1800.189333   61.911603  0.346820  \n",
       "KT Rolster           1896.948825  139.544007  0.448257  "
      ]
     },
     "execution_count": 4,
     "metadata": {},
     "output_type": "execute_result"
    }
   ],
   "source": [
    "teams_stats = pd.read_csv(\"./csv/stats/teams.csv\", index_col=\"Team\")\n",
    "print(teams_stats.shape)\n",
    "teams_stats.head()"
   ]
  },
  {
   "cell_type": "code",
   "execution_count": 5,
   "metadata": {},
   "outputs": [
    {
     "data": {
      "text/html": [
       "<div>\n",
       "<style scoped>\n",
       "    .dataframe tbody tr th:only-of-type {\n",
       "        vertical-align: middle;\n",
       "    }\n",
       "\n",
       "    .dataframe tbody tr th {\n",
       "        vertical-align: top;\n",
       "    }\n",
       "\n",
       "    .dataframe thead th {\n",
       "        text-align: right;\n",
       "    }\n",
       "</style>\n",
       "<table border=\"1\" class=\"dataframe\">\n",
       "  <thead>\n",
       "    <tr style=\"text-align: right;\">\n",
       "      <th></th>\n",
       "      <th>Games</th>\n",
       "      <th>Win</th>\n",
       "      <th>Loss</th>\n",
       "      <th>WinRate</th>\n",
       "      <th>KD</th>\n",
       "      <th>CKPM</th>\n",
       "      <th>GameDuration</th>\n",
       "      <th>WinGameDuration</th>\n",
       "      <th>LossGameDuration</th>\n",
       "      <th>GPM</th>\n",
       "      <th>GDPM</th>\n",
       "      <th>KPM</th>\n",
       "      <th>_KD</th>\n",
       "      <th>_CKPM</th>\n",
       "      <th>_KPM</th>\n",
       "      <th>_GPM</th>\n",
       "      <th>_GDPM</th>\n",
       "    </tr>\n",
       "    <tr>\n",
       "      <th>Team</th>\n",
       "      <th></th>\n",
       "      <th></th>\n",
       "      <th></th>\n",
       "      <th></th>\n",
       "      <th></th>\n",
       "      <th></th>\n",
       "      <th></th>\n",
       "      <th></th>\n",
       "      <th></th>\n",
       "      <th></th>\n",
       "      <th></th>\n",
       "      <th></th>\n",
       "      <th></th>\n",
       "      <th></th>\n",
       "      <th></th>\n",
       "      <th></th>\n",
       "      <th></th>\n",
       "    </tr>\n",
       "  </thead>\n",
       "  <tbody>\n",
       "    <tr>\n",
       "      <th>DRX</th>\n",
       "      <td>9.0</td>\n",
       "      <td>1.0</td>\n",
       "      <td>8.0</td>\n",
       "      <td>0.111111</td>\n",
       "      <td>0.393333</td>\n",
       "      <td>0.793313</td>\n",
       "      <td>29.529630</td>\n",
       "      <td>34.450000</td>\n",
       "      <td>28.914583</td>\n",
       "      <td>1571.253978</td>\n",
       "      <td>-406.147199</td>\n",
       "      <td>0.197370</td>\n",
       "      <td>0.000000</td>\n",
       "      <td>1.000000</td>\n",
       "      <td>0.084810</td>\n",
       "      <td>0.000000</td>\n",
       "      <td>0.000000</td>\n",
       "    </tr>\n",
       "    <tr>\n",
       "      <th>Dplus KIA</th>\n",
       "      <td>10.0</td>\n",
       "      <td>7.0</td>\n",
       "      <td>3.0</td>\n",
       "      <td>0.700000</td>\n",
       "      <td>1.823529</td>\n",
       "      <td>0.616273</td>\n",
       "      <td>31.126667</td>\n",
       "      <td>30.061905</td>\n",
       "      <td>33.611111</td>\n",
       "      <td>1879.293051</td>\n",
       "      <td>215.803165</td>\n",
       "      <td>0.407735</td>\n",
       "      <td>1.000000</td>\n",
       "      <td>0.450132</td>\n",
       "      <td>0.852181</td>\n",
       "      <td>0.901691</td>\n",
       "      <td>0.982257</td>\n",
       "    </tr>\n",
       "    <tr>\n",
       "      <th>Gen.G</th>\n",
       "      <td>10.0</td>\n",
       "      <td>8.0</td>\n",
       "      <td>2.0</td>\n",
       "      <td>0.800000</td>\n",
       "      <td>1.385542</td>\n",
       "      <td>0.698427</td>\n",
       "      <td>28.206667</td>\n",
       "      <td>28.493750</td>\n",
       "      <td>27.058333</td>\n",
       "      <td>1912.877817</td>\n",
       "      <td>203.649029</td>\n",
       "      <td>0.407395</td>\n",
       "      <td>0.693757</td>\n",
       "      <td>0.705295</td>\n",
       "      <td>0.850944</td>\n",
       "      <td>1.000000</td>\n",
       "      <td>0.963062</td>\n",
       "    </tr>\n",
       "    <tr>\n",
       "      <th>Hanwha Life Esports</th>\n",
       "      <td>10.0</td>\n",
       "      <td>6.0</td>\n",
       "      <td>4.0</td>\n",
       "      <td>0.600000</td>\n",
       "      <td>1.464789</td>\n",
       "      <td>0.572555</td>\n",
       "      <td>31.270000</td>\n",
       "      <td>33.177778</td>\n",
       "      <td>28.408333</td>\n",
       "      <td>1800.189333</td>\n",
       "      <td>61.911603</td>\n",
       "      <td>0.346820</td>\n",
       "      <td>0.749167</td>\n",
       "      <td>0.314349</td>\n",
       "      <td>0.629976</td>\n",
       "      <td>0.670139</td>\n",
       "      <td>0.739213</td>\n",
       "    </tr>\n",
       "    <tr>\n",
       "      <th>KT Rolster</th>\n",
       "      <td>10.0</td>\n",
       "      <td>7.0</td>\n",
       "      <td>3.0</td>\n",
       "      <td>0.700000</td>\n",
       "      <td>1.519481</td>\n",
       "      <td>0.721106</td>\n",
       "      <td>27.576667</td>\n",
       "      <td>27.688095</td>\n",
       "      <td>27.316667</td>\n",
       "      <td>1896.948825</td>\n",
       "      <td>139.544007</td>\n",
       "      <td>0.448257</td>\n",
       "      <td>0.787408</td>\n",
       "      <td>0.775733</td>\n",
       "      <td>1.000000</td>\n",
       "      <td>0.953373</td>\n",
       "      <td>0.861820</td>\n",
       "    </tr>\n",
       "  </tbody>\n",
       "</table>\n",
       "</div>"
      ],
      "text/plain": [
       "                     Games  Win  Loss   WinRate        KD      CKPM   \n",
       "Team                                                                  \n",
       "DRX                    9.0  1.0   8.0  0.111111  0.393333  0.793313  \\\n",
       "Dplus KIA             10.0  7.0   3.0  0.700000  1.823529  0.616273   \n",
       "Gen.G                 10.0  8.0   2.0  0.800000  1.385542  0.698427   \n",
       "Hanwha Life Esports   10.0  6.0   4.0  0.600000  1.464789  0.572555   \n",
       "KT Rolster            10.0  7.0   3.0  0.700000  1.519481  0.721106   \n",
       "\n",
       "                     GameDuration  WinGameDuration  LossGameDuration   \n",
       "Team                                                                   \n",
       "DRX                     29.529630        34.450000         28.914583  \\\n",
       "Dplus KIA               31.126667        30.061905         33.611111   \n",
       "Gen.G                   28.206667        28.493750         27.058333   \n",
       "Hanwha Life Esports     31.270000        33.177778         28.408333   \n",
       "KT Rolster              27.576667        27.688095         27.316667   \n",
       "\n",
       "                             GPM        GDPM       KPM       _KD     _CKPM   \n",
       "Team                                                                         \n",
       "DRX                  1571.253978 -406.147199  0.197370  0.000000  1.000000  \\\n",
       "Dplus KIA            1879.293051  215.803165  0.407735  1.000000  0.450132   \n",
       "Gen.G                1912.877817  203.649029  0.407395  0.693757  0.705295   \n",
       "Hanwha Life Esports  1800.189333   61.911603  0.346820  0.749167  0.314349   \n",
       "KT Rolster           1896.948825  139.544007  0.448257  0.787408  0.775733   \n",
       "\n",
       "                         _KPM      _GPM     _GDPM  \n",
       "Team                                               \n",
       "DRX                  0.084810  0.000000  0.000000  \n",
       "Dplus KIA            0.852181  0.901691  0.982257  \n",
       "Gen.G                0.850944  1.000000  0.963062  \n",
       "Hanwha Life Esports  0.629976  0.670139  0.739213  \n",
       "KT Rolster           1.000000  0.953373  0.861820  "
      ]
     },
     "execution_count": 5,
     "metadata": {},
     "output_type": "execute_result"
    }
   ],
   "source": [
    "scaler = SCALER()\n",
    "origin_columns = [\"KD\", \"CKPM\", \"KPM\", \"GPM\", \"GDPM\"]\n",
    "columns = [\"_\" + col for col in origin_columns]\n",
    "teams_stats[columns] = scaler.fit_transform(teams_stats[origin_columns])\n",
    "teams_stats.head()"
   ]
  },
  {
   "cell_type": "code",
   "execution_count": 6,
   "metadata": {},
   "outputs": [
    {
     "name": "stderr",
     "output_type": "stream",
     "text": [
      "C:\\Users\\pjm58\\AppData\\Local\\Temp\\ipykernel_58144\\879664895.py:6: RuntimeWarning: divide by zero encountered in divide\n",
      "  x = 100 / y\n"
     ]
    },
    {
     "data": {
      "image/png": "[encoded data removed]",
      "text/plain": [
       "<Figure size 1500x1500 with 1 Axes>"
      ]
     },
     "metadata": {},
     "output_type": "display_data"
    }
   ],
   "source": [
    "fig, ax = plt.subplots(1, 1, figsize=(15, 15))\n",
    "ax.set_xlim(teams_stats[\"GDPM\"].min() - 25, teams_stats[\"GDPM\"].max() + 25)\n",
    "ax.set_ylim(teams_stats[\"KPM\"].min() - 0.01, teams_stats[\"KPM\"].max() + 0.01)\n",
    "ax = sns.regplot(data=teams_stats, x=\"GDPM\", y=\"KPM\")\n",
    "y = np.linspace(0, 1.2)\n",
    "x = 100 / y\n",
    "sns.lineplot(x=x, y=y)\n",
    "for idx, i in zip(teams_stats.index, range(teams_stats.shape[0])):\n",
    "    row = teams_stats.iloc[i]\n",
    "    plt.annotate(\n",
    "        idx, xy=(row[\"GDPM\"], row[\"KPM\"]), xytext=(5, 20), textcoords=\"offset pixels\"\n",
    "    )\n",
    "    plt.annotate(\n",
    "        round(row[\"GDPM\"] * row[\"KPM\"], ndigits=1),\n",
    "        xy=(row[\"GDPM\"], row[\"KPM\"]),\n",
    "        xytext=(5, 5),\n",
    "        textcoords=\"offset pixels\",\n",
    "    )"
   ]
  },
  {
   "cell_type": "code",
   "execution_count": 7,
   "metadata": {},
   "outputs": [
    {
     "data": {
      "application/vnd.plotly.v1+json": {
       "config": {
        "plotlyServerURL": "https://plot.ly"
       },
       "data": [
        {
         "fill": "toself",
         "name": "DRX",
         "r": [
          0,
          0.9999999999999998,
          0.08481031541069028,
          0,
          0
         ],
         "subplot": "polar",
         "theta": [
          "KD - 0.39",
          "CKPM - 0.79",
          "KPM - 0.2",
          "GPM - 1571.25",
          "GDPM - -406.15"
         ],
         "type": "scatterpolar"
        },
        {
         "fill": "toself",
         "name": "Dplus KIA",
         "r": [
          1,
          0.4501321767760753,
          0.8521814246743877,
          0.9016907998343102,
          0.9822569834751245
         ],
         "subplot": "polar2",
         "theta": [
          "KD - 1.82",
          "CKPM - 0.62",
          "KPM - 0.41",
          "GPM - 1879.29",
          "GDPM - 215.8"
         ],
         "type": "scatterpolar"
        },
        {
         "fill": "toself",
         "name": "Gen.G",
         "r": [
          0.6937572059557122,
          0.7052946396775115,
          0.8509440815993272,
          1,
          0.9630617453229571
         ],
         "subplot": "polar3",
         "theta": [
          "KD - 1.39",
          "CKPM - 0.7",
          "KPM - 0.41",
          "GPM - 1912.88",
          "GDPM - 203.65"
         ],
         "type": "scatterpolar"
        },
        {
         "fill": "toself",
         "name": "Hanwha Life Esports",
         "r": [
          0.7491667857432505,
          0.31434914993483143,
          0.6299757527403373,
          0.6701386984365021,
          0.739213374030354
         ],
         "subplot": "polar4",
         "theta": [
          "KD - 1.46",
          "CKPM - 0.57",
          "KPM - 0.35",
          "GPM - 1800.19",
          "GDPM - 61.91"
         ],
         "type": "scatterpolar"
        },
        {
         "fill": "toself",
         "name": "KT Rolster",
         "r": [
          0.7874075472101247,
          0.7757329981808134,
          1,
          0.9533727136596406,
          0.8618195731121523
         ],
         "subplot": "polar5",
         "theta": [
          "KD - 1.52",
          "CKPM - 0.72",
          "KPM - 0.45",
          "GPM - 1896.95",
          "GDPM - 139.54"
         ],
         "type": "scatterpolar"
        },
        {
         "fill": "toself",
         "name": "Kwangdong Freecs",
         "r": [
          0.46098451503037824,
          0.28338261726290015,
          0.39710760636057296,
          0.6690797151203149,
          0.7263407768877439
         ],
         "subplot": "polar6",
         "theta": [
          "KD - 1.05",
          "CKPM - 0.56",
          "KPM - 0.28",
          "GPM - 1799.83",
          "GDPM - 53.76"
         ],
         "type": "scatterpolar"
        },
        {
         "fill": "toself",
         "name": "Liiv SANDBOX",
         "r": [
          0.1888083790556188,
          0.6952745410874399,
          0.3529603196916167,
          0.39829635446708167,
          0.365093857363305
         ],
         "subplot": "polar7",
         "theta": [
          "KD - 0.66",
          "CKPM - 0.7",
          "KPM - 0.27",
          "GPM - 1707.32",
          "GDPM - -174.98"
         ],
         "type": "scatterpolar"
        },
        {
         "fill": "toself",
         "name": "Nongshim RedForce",
         "r": [
          0.134088641786604,
          0.27409502145283104,
          0.10334459775387728,
          0.28658226059007674,
          0.2841231174438569
         ],
         "subplot": "polar8",
         "theta": [
          "KD - 0.59",
          "CKPM - 0.56",
          "KPM - 0.2",
          "GPM - 1669.16",
          "GDPM - -226.24"
         ],
         "type": "scatterpolar"
        },
        {
         "fill": "toself",
         "name": "OKSavingsBank BRION",
         "r": [
          0.15707230508067271,
          0,
          0,
          0.3012595419950186,
          0.35428169032231444
         ],
         "subplot": "polar9",
         "theta": [
          "KD - 0.62",
          "CKPM - 0.47",
          "KPM - 0.17",
          "GPM - 1674.17",
          "GDPM - -181.82"
         ],
         "type": "scatterpolar"
        },
        {
         "fill": "toself",
         "name": "T1",
         "r": [
          0.6834399829935642,
          0.6619346640259793,
          0.8486022466133503,
          0.9866610715617856,
          1
         ],
         "subplot": "polar10",
         "theta": [
          "KD - 1.37",
          "CKPM - 0.68",
          "KPM - 0.41",
          "GPM - 1908.32",
          "GDPM - 227.04"
         ],
         "type": "scatterpolar"
        }
       ],
       "layout": {
        "annotations": [
         {
          "font": {
           "size": 16
          },
          "showarrow": false,
          "text": "DRX",
          "x": 0.08399999999999999,
          "xanchor": "center",
          "xref": "paper",
          "y": 1,
          "yanchor": "bottom",
          "yref": "paper",
          "yshift": 20
         },
         {
          "font": {
           "size": 16
          },
          "showarrow": false,
          "text": "Dplus KIA",
          "x": 0.292,
          "xanchor": "center",
          "xref": "paper",
          "y": 1,
          "yanchor": "bottom",
          "yref": "paper",
          "yshift": 20
         },
         {
          "font": {
           "size": 16
          },
          "showarrow": false,
          "text": "Gen.G",
          "x": 0.5,
          "xanchor": "center",
          "xref": "paper",
          "y": 1,
          "yanchor": "bottom",
          "yref": "paper",
          "yshift": 20
         },
         {
          "font": {
           "size": 16
          },
          "showarrow": false,
          "text": "Hanwha Life Esports",
          "x": 0.708,
          "xanchor": "center",
          "xref": "paper",
          "y": 1,
          "yanchor": "bottom",
          "yref": "paper",
          "yshift": 20
         },
         {
          "font": {
           "size": 16
          },
          "showarrow": false,
          "text": "KT Rolster",
          "x": 0.9159999999999999,
          "xanchor": "center",
          "xref": "paper",
          "y": 1,
          "yanchor": "bottom",
          "yref": "paper",
          "yshift": 20
         },
         {
          "font": {
           "size": 16
          },
          "showarrow": false,
          "text": "Kwangdong Freecs",
          "x": 0.08399999999999999,
          "xanchor": "center",
          "xref": "paper",
          "y": 0.375,
          "yanchor": "bottom",
          "yref": "paper",
          "yshift": 20
         },
         {
          "font": {
           "size": 16
          },
          "showarrow": false,
          "text": "Liiv SANDBOX",
          "x": 0.292,
          "xanchor": "center",
          "xref": "paper",
          "y": 0.375,
          "yanchor": "bottom",
          "yref": "paper",
          "yshift": 20
         },
         {
          "font": {
           "size": 16
          },
          "showarrow": false,
          "text": "Nongshim RedForce",
          "x": 0.5,
          "xanchor": "center",
          "xref": "paper",
          "y": 0.375,
          "yanchor": "bottom",
          "yref": "paper",
          "yshift": 20
         },
         {
          "font": {
           "size": 16
          },
          "showarrow": false,
          "text": "OKSavingsBank BRION",
          "x": 0.708,
          "xanchor": "center",
          "xref": "paper",
          "y": 0.375,
          "yanchor": "bottom",
          "yref": "paper",
          "yshift": 20
         },
         {
          "font": {
           "size": 16
          },
          "showarrow": false,
          "text": "T1",
          "x": 0.9159999999999999,
          "xanchor": "center",
          "xref": "paper",
          "y": 0.375,
          "yanchor": "bottom",
          "yref": "paper",
          "yshift": 20
         }
        ],
        "height": 800,
        "polar": {
         "domain": {
          "x": [
           0,
           0.16799999999999998
          ],
          "y": [
           0.625,
           1
          ]
         },
         "radialaxis": {
          "range": [
           -0.2,
           1.2
          ],
          "visible": true
         }
        },
        "polar10": {
         "domain": {
          "x": [
           0.832,
           1
          ],
          "y": [
           0,
           0.375
          ]
         },
         "radialaxis": {
          "range": [
           -0.2,
           1.2
          ]
         }
        },
        "polar2": {
         "domain": {
          "x": [
           0.208,
           0.376
          ],
          "y": [
           0.625,
           1
          ]
         },
         "radialaxis": {
          "range": [
           -0.2,
           1.2
          ]
         }
        },
        "polar3": {
         "domain": {
          "x": [
           0.416,
           0.584
          ],
          "y": [
           0.625,
           1
          ]
         },
         "radialaxis": {
          "range": [
           -0.2,
           1.2
          ]
         }
        },
        "polar4": {
         "domain": {
          "x": [
           0.624,
           0.792
          ],
          "y": [
           0.625,
           1
          ]
         },
         "radialaxis": {
          "range": [
           -0.2,
           1.2
          ]
         }
        },
        "polar5": {
         "domain": {
          "x": [
           0.832,
           1
          ],
          "y": [
           0.625,
           1
          ]
         },
         "radialaxis": {
          "range": [
           -0.2,
           1.2
          ]
         }
        },
        "polar6": {
         "domain": {
          "x": [
           0,
           0.16799999999999998
          ],
          "y": [
           0,
           0.375
          ]
         },
         "radialaxis": {
          "range": [
           -0.2,
           1.2
          ]
         }
        },
        "polar7": {
         "domain": {
          "x": [
           0.208,
           0.376
          ],
          "y": [
           0,
           0.375
          ]
         },
         "radialaxis": {
          "range": [
           -0.2,
           1.2
          ]
         }
        },
        "polar8": {
         "domain": {
          "x": [
           0.416,
           0.584
          ],
          "y": [
           0,
           0.375
          ]
         },
         "radialaxis": {
          "range": [
           -0.2,
           1.2
          ]
         }
        },
        "polar9": {
         "domain": {
          "x": [
           0.624,
           0.792
          ],
          "y": [
           0,
           0.375
          ]
         },
         "radialaxis": {
          "range": [
           -0.2,
           1.2
          ]
         }
        },
        "showlegend": false,
        "template": {
         "data": {
          "bar": [
           {
            "error_x": {
             "color": "#2a3f5f"
            },
            "error_y": {
             "color": "#2a3f5f"
            },
            "marker": {
             "line": {
              "color": "#E5ECF6",
              "width": 0.5
             },
             "pattern": {
              "fillmode": "overlay",
              "size": 10,
              "solidity": 0.2
             }
            },
            "type": "bar"
           }
          ],
          "barpolar": [
           {
            "marker": {
             "line": {
              "color": "#E5ECF6",
              "width": 0.5
             },
             "pattern": {
              "fillmode": "overlay",
              "size": 10,
              "solidity": 0.2
             }
            },
            "type": "barpolar"
           }
          ],
          "carpet": [
           {
            "aaxis": {
             "endlinecolor": "#2a3f5f",
             "gridcolor": "white",
             "linecolor": "white",
             "minorgridcolor": "white",
             "startlinecolor": "#2a3f5f"
            },
            "baxis": {
             "endlinecolor": "#2a3f5f",
             "gridcolor": "white",
             "linecolor": "white",
             "minorgridcolor": "white",
             "startlinecolor": "#2a3f5f"
            },
            "type": "carpet"
           }
          ],
          "choropleth": [
           {
            "colorbar": {
             "outlinewidth": 0,
             "ticks": ""
            },
            "type": "choropleth"
           }
          ],
          "contour": [
           {
            "colorbar": {
             "outlinewidth": 0,
             "ticks": ""
            },
            "colorscale": [
             [
              0,
              "#0d0887"
             ],
             [
              0.1111111111111111,
              "#46039f"
             ],
             [
              0.2222222222222222,
              "#7201a8"
             ],
             [
              0.3333333333333333,
              "#9c179e"
             ],
             [
              0.4444444444444444,
              "#bd3786"
             ],
             [
              0.5555555555555556,
              "#d8576b"
             ],
             [
              0.6666666666666666,
              "#ed7953"
             ],
             [
              0.7777777777777778,
              "#fb9f3a"
             ],
             [
              0.8888888888888888,
              "#fdca26"
             ],
             [
              1,
              "#f0f921"
             ]
            ],
            "type": "contour"
           }
          ],
          "contourcarpet": [
           {
            "colorbar": {
             "outlinewidth": 0,
             "ticks": ""
            },
            "type": "contourcarpet"
           }
          ],
          "heatmap": [
           {
            "colorbar": {
             "outlinewidth": 0,
             "ticks": ""
            },
            "colorscale": [
             [
              0,
              "#0d0887"
             ],
             [
              0.1111111111111111,
              "#46039f"
             ],
             [
              0.2222222222222222,
              "#7201a8"
             ],
             [
              0.3333333333333333,
              "#9c179e"
             ],
             [
              0.4444444444444444,
              "#bd3786"
             ],
             [
              0.5555555555555556,
              "#d8576b"
             ],
             [
              0.6666666666666666,
              "#ed7953"
             ],
             [
              0.7777777777777778,
              "#fb9f3a"
             ],
             [
              0.8888888888888888,
              "#fdca26"
             ],
             [
              1,
              "#f0f921"
             ]
            ],
            "type": "heatmap"
           }
          ],
          "heatmapgl": [
           {
            "colorbar": {
             "outlinewidth": 0,
             "ticks": ""
            },
            "colorscale": [
             [
              0,
              "#0d0887"
             ],
             [
              0.1111111111111111,
              "#46039f"
             ],
             [
              0.2222222222222222,
              "#7201a8"
             ],
             [
              0.3333333333333333,
              "#9c179e"
             ],
             [
              0.4444444444444444,
              "#bd3786"
             ],
             [
              0.5555555555555556,
              "#d8576b"
             ],
             [
              0.6666666666666666,
              "#ed7953"
             ],
             [
              0.7777777777777778,
              "#fb9f3a"
             ],
             [
              0.8888888888888888,
              "#fdca26"
             ],
             [
              1,
              "#f0f921"
             ]
            ],
            "type": "heatmapgl"
           }
          ],
          "histogram": [
           {
            "marker": {
             "pattern": {
              "fillmode": "overlay",
              "size": 10,
              "solidity": 0.2
             }
            },
            "type": "histogram"
           }
          ],
          "histogram2d": [
           {
            "colorbar": {
             "outlinewidth": 0,
             "ticks": ""
            },
            "colorscale": [
             [
              0,
              "#0d0887"
             ],
             [
              0.1111111111111111,
              "#46039f"
             ],
             [
              0.2222222222222222,
              "#7201a8"
             ],
             [
              0.3333333333333333,
              "#9c179e"
             ],
             [
              0.4444444444444444,
              "#bd3786"
             ],
             [
              0.5555555555555556,
              "#d8576b"
             ],
             [
              0.6666666666666666,
              "#ed7953"
             ],
             [
              0.7777777777777778,
              "#fb9f3a"
             ],
             [
              0.8888888888888888,
              "#fdca26"
             ],
             [
              1,
              "#f0f921"
             ]
            ],
            "type": "histogram2d"
           }
          ],
          "histogram2dcontour": [
           {
            "colorbar": {
             "outlinewidth": 0,
             "ticks": ""
            },
            "colorscale": [
             [
              0,
              "#0d0887"
             ],
             [
              0.1111111111111111,
              "#46039f"
             ],
             [
              0.2222222222222222,
              "#7201a8"
             ],
             [
              0.3333333333333333,
              "#9c179e"
             ],
             [
              0.4444444444444444,
              "#bd3786"
             ],
             [
              0.5555555555555556,
              "#d8576b"
             ],
             [
              0.6666666666666666,
              "#ed7953"
             ],
             [
              0.7777777777777778,
              "#fb9f3a"
             ],
             [
              0.8888888888888888,
              "#fdca26"
             ],
             [
              1,
              "#f0f921"
             ]
            ],
            "type": "histogram2dcontour"
           }
          ],
          "mesh3d": [
           {
            "colorbar": {
             "outlinewidth": 0,
             "ticks": ""
            },
            "type": "mesh3d"
           }
          ],
          "parcoords": [
           {
            "line": {
             "colorbar": {
              "outlinewidth": 0,
              "ticks": ""
             }
            },
            "type": "parcoords"
           }
          ],
          "pie": [
           {
            "automargin": true,
            "type": "pie"
           }
          ],
          "scatter": [
           {
            "fillpattern": {
             "fillmode": "overlay",
             "size": 10,
             "solidity": 0.2
            },
            "type": "scatter"
           }
          ],
          "scatter3d": [
           {
            "line": {
             "colorbar": {
              "outlinewidth": 0,
              "ticks": ""
             }
            },
            "marker": {
             "colorbar": {
              "outlinewidth": 0,
              "ticks": ""
             }
            },
            "type": "scatter3d"
           }
          ],
          "scattercarpet": [
           {
            "marker": {
             "colorbar": {
              "outlinewidth": 0,
              "ticks": ""
             }
            },
            "type": "scattercarpet"
           }
          ],
          "scattergeo": [
           {
            "marker": {
             "colorbar": {
              "outlinewidth": 0,
              "ticks": ""
             }
            },
            "type": "scattergeo"
           }
          ],
          "scattergl": [
           {
            "marker": {
             "colorbar": {
              "outlinewidth": 0,
              "ticks": ""
             }
            },
            "type": "scattergl"
           }
          ],
          "scattermapbox": [
           {
            "marker": {
             "colorbar": {
              "outlinewidth": 0,
              "ticks": ""
             }
            },
            "type": "scattermapbox"
           }
          ],
          "scatterpolar": [
           {
            "marker": {
             "colorbar": {
              "outlinewidth": 0,
              "ticks": ""
             }
            },
            "type": "scatterpolar"
           }
          ],
          "scatterpolargl": [
           {
            "marker": {
             "colorbar": {
              "outlinewidth": 0,
              "ticks": ""
             }
            },
            "type": "scatterpolargl"
           }
          ],
          "scatterternary": [
           {
            "marker": {
             "colorbar": {
              "outlinewidth": 0,
              "ticks": ""
             }
            },
            "type": "scatterternary"
           }
          ],
          "surface": [
           {
            "colorbar": {
             "outlinewidth": 0,
             "ticks": ""
            },
            "colorscale": [
             [
              0,
              "#0d0887"
             ],
             [
              0.1111111111111111,
              "#46039f"
             ],
             [
              0.2222222222222222,
              "#7201a8"
             ],
             [
              0.3333333333333333,
              "#9c179e"
             ],
             [
              0.4444444444444444,
              "#bd3786"
             ],
             [
              0.5555555555555556,
              "#d8576b"
             ],
             [
              0.6666666666666666,
              "#ed7953"
             ],
             [
              0.7777777777777778,
              "#fb9f3a"
             ],
             [
              0.8888888888888888,
              "#fdca26"
             ],
             [
              1,
              "#f0f921"
             ]
            ],
            "type": "surface"
           }
          ],
          "table": [
           {
            "cells": {
             "fill": {
              "color": "#EBF0F8"
             },
             "line": {
              "color": "white"
             }
            },
            "header": {
             "fill": {
              "color": "#C8D4E3"
             },
             "line": {
              "color": "white"
             }
            },
            "type": "table"
           }
          ]
         },
         "layout": {
          "annotationdefaults": {
           "arrowcolor": "#2a3f5f",
           "arrowhead": 0,
           "arrowwidth": 1
          },
          "autotypenumbers": "strict",
          "coloraxis": {
           "colorbar": {
            "outlinewidth": 0,
            "ticks": ""
           }
          },
          "colorscale": {
           "diverging": [
            [
             0,
             "#8e0152"
            ],
            [
             0.1,
             "#c51b7d"
            ],
            [
             0.2,
             "#de77ae"
            ],
            [
             0.3,
             "#f1b6da"
            ],
            [
             0.4,
             "#fde0ef"
            ],
            [
             0.5,
             "#f7f7f7"
            ],
            [
             0.6,
             "#e6f5d0"
            ],
            [
             0.7,
             "#b8e186"
            ],
            [
             0.8,
             "#7fbc41"
            ],
            [
             0.9,
             "#4d9221"
            ],
            [
             1,
             "#276419"
            ]
           ],
           "sequential": [
            [
             0,
             "#0d0887"
            ],
            [
             0.1111111111111111,
             "#46039f"
            ],
            [
             0.2222222222222222,
             "#7201a8"
            ],
            [
             0.3333333333333333,
             "#9c179e"
            ],
            [
             0.4444444444444444,
             "#bd3786"
            ],
            [
             0.5555555555555556,
             "#d8576b"
            ],
            [
             0.6666666666666666,
             "#ed7953"
            ],
            [
             0.7777777777777778,
             "#fb9f3a"
            ],
            [
             0.8888888888888888,
             "#fdca26"
            ],
            [
             1,
             "#f0f921"
            ]
           ],
           "sequentialminus": [
            [
             0,
             "#0d0887"
            ],
            [
             0.1111111111111111,
             "#46039f"
            ],
            [
             0.2222222222222222,
             "#7201a8"
            ],
            [
             0.3333333333333333,
             "#9c179e"
            ],
            [
             0.4444444444444444,
             "#bd3786"
            ],
            [
             0.5555555555555556,
             "#d8576b"
            ],
            [
             0.6666666666666666,
             "#ed7953"
            ],
            [
             0.7777777777777778,
             "#fb9f3a"
            ],
            [
             0.8888888888888888,
             "#fdca26"
            ],
            [
             1,
             "#f0f921"
            ]
           ]
          },
          "colorway": [
           "#636efa",
           "#EF553B",
           "#00cc96",
           "#ab63fa",
           "#FFA15A",
           "#19d3f3",
           "#FF6692",
           "#B6E880",
           "#FF97FF",
           "#FECB52"
          ],
          "font": {
           "color": "#2a3f5f"
          },
          "geo": {
           "bgcolor": "white",
           "lakecolor": "white",
           "landcolor": "#E5ECF6",
           "showlakes": true,
           "showland": true,
           "subunitcolor": "white"
          },
          "hoverlabel": {
           "align": "left"
          },
          "hovermode": "closest",
          "mapbox": {
           "style": "light"
          },
          "paper_bgcolor": "white",
          "plot_bgcolor": "#E5ECF6",
          "polar": {
           "angularaxis": {
            "gridcolor": "white",
            "linecolor": "white",
            "ticks": ""
           },
           "bgcolor": "#E5ECF6",
           "radialaxis": {
            "gridcolor": "white",
            "linecolor": "white",
            "ticks": ""
           }
          },
          "scene": {
           "xaxis": {
            "backgroundcolor": "#E5ECF6",
            "gridcolor": "white",
            "gridwidth": 2,
            "linecolor": "white",
            "showbackground": true,
            "ticks": "",
            "zerolinecolor": "white"
           },
           "yaxis": {
            "backgroundcolor": "#E5ECF6",
            "gridcolor": "white",
            "gridwidth": 2,
            "linecolor": "white",
            "showbackground": true,
            "ticks": "",
            "zerolinecolor": "white"
           },
           "zaxis": {
            "backgroundcolor": "#E5ECF6",
            "gridcolor": "white",
            "gridwidth": 2,
            "linecolor": "white",
            "showbackground": true,
            "ticks": "",
            "zerolinecolor": "white"
           }
          },
          "shapedefaults": {
           "line": {
            "color": "#2a3f5f"
           }
          },
          "ternary": {
           "aaxis": {
            "gridcolor": "white",
            "linecolor": "white",
            "ticks": ""
           },
           "baxis": {
            "gridcolor": "white",
            "linecolor": "white",
            "ticks": ""
           },
           "bgcolor": "#E5ECF6",
           "caxis": {
            "gridcolor": "white",
            "linecolor": "white",
            "ticks": ""
           }
          },
          "title": {
           "x": 0.05
          },
          "xaxis": {
           "automargin": true,
           "gridcolor": "white",
           "linecolor": "white",
           "ticks": "",
           "title": {
            "standoff": 15
           },
           "zerolinecolor": "white",
           "zerolinewidth": 2
          },
          "yaxis": {
           "automargin": true,
           "gridcolor": "white",
           "linecolor": "white",
           "ticks": "",
           "title": {
            "standoff": 15
           },
           "zerolinecolor": "white",
           "zerolinewidth": 2
          }
         }
        },
        "title": {
         "y": 1
        }
       }
      }
     },
     "metadata": {},
     "output_type": "display_data"
    }
   ],
   "source": [
    "import plotly.io as pio\n",
    "\n",
    "ROWS, COLUMNS = get_rows_columns(teams_stats)\n",
    "min_value, max_value = get_min_max_value(teams_stats, columns)\n",
    "\n",
    "fig = get_fig_subplots(teams_stats, ROWS, COLUMNS)\n",
    "for i, team_name in enumerate(teams_stats.index):\n",
    "    df = teams_stats.loc[team_name, columns]\n",
    "    theta_list = get_theta_list(teams_stats, team_name, origin_columns, columns)\n",
    "\n",
    "    r, c = get_rc(i, COLUMNS)\n",
    "    fig.add_trace(\n",
    "        go.Scatterpolar(r=df, theta=theta_list, fill=\"toself\", name=team_name),\n",
    "        row=r,\n",
    "        col=c,\n",
    "    )\n",
    "\n",
    "fig.update_layout(\n",
    "    height=400 * ROWS,\n",
    "    showlegend=False,\n",
    "    polar=dict(\n",
    "        radialaxis=dict(visible=True),\n",
    "    ),\n",
    "    title=dict(y=1),\n",
    ")\n",
    "fig.update_annotations(yshift=20)\n",
    "fig.update_polars(radialaxis=dict(range=[min_value - 0.2, max_value + 0.2]))\n",
    "fig.show()"
   ]
  },
  {
   "cell_type": "code",
   "execution_count": 8,
   "metadata": {},
   "outputs": [
    {
     "data": {
      "text/plain": [
       "(54, 19)"
      ]
     },
     "execution_count": 8,
     "metadata": {},
     "output_type": "execute_result"
    }
   ],
   "source": [
    "players_stats = pd.read_csv(\"./csv/stats/players_by_position.csv\", index_col=\"Player\")\n",
    "players_stats.shape"
   ]
  },
  {
   "cell_type": "code",
   "execution_count": 9,
   "metadata": {},
   "outputs": [
    {
     "data": {
      "text/plain": [
       "Index(['Position', 'Team', 'Games', 'Win', 'Loss', 'WinRate', 'Kills',\n",
       "       'Deaths', 'Assists', 'KDA', 'DPM', 'CS', 'CSPM', 'Gold', 'GPM', 'KP',\n",
       "       'KS', 'GS', 'ChampionsPlayed'],\n",
       "      dtype='object')"
      ]
     },
     "execution_count": 9,
     "metadata": {},
     "output_type": "execute_result"
    }
   ],
   "source": [
    "players_stats.columns"
   ]
  },
  {
   "cell_type": "code",
   "execution_count": 10,
   "metadata": {},
   "outputs": [
    {
     "data": {
      "text/plain": [
       "Player\n",
       "Croco       0.200000\n",
       "Juhan       1.000000\n",
       "Canyon      0.177419\n",
       "Peanut      0.226087\n",
       "Clid        0.221154\n",
       "Cuzz        0.153846\n",
       "YoungJae    0.162500\n",
       "Willer      0.164179\n",
       "Sylvie      0.200000\n",
       "UmTi        0.200000\n",
       "Oner        0.188525\n",
       "Name: KS, dtype: float64"
      ]
     },
     "execution_count": 10,
     "metadata": {},
     "output_type": "execute_result"
    }
   ],
   "source": [
    "players_stats.loc[players_stats['Position'] == 'Jungle', 'KS']"
   ]
  },
  {
   "cell_type": "code",
   "execution_count": 11,
   "metadata": {},
   "outputs": [],
   "source": [
    "origin_columns = ['KDA', 'KP', 'KS', 'DPM', 'CSPM', 'GPM', 'GS', 'ChampionsPlayed']\n",
    "columns = ['_' + col for col in origin_columns]\n",
    "positions = [\"Top\", \"Jungle\", \"Mid\", \"Bot\", \"Support\"]"
   ]
  },
  {
   "cell_type": "code",
   "execution_count": 12,
   "metadata": {},
   "outputs": [],
   "source": [
    "for position in positions:\n",
    "    scaler = SCALER()\n",
    "    df = players_stats.loc[players_stats[\"Position\"] == position]\n",
    "    players_stats.loc[\n",
    "        players_stats[\"Position\"] == position, columns\n",
    "    ] = scaler.fit_transform(df[origin_columns])"
   ]
  },
  {
   "cell_type": "code",
   "execution_count": 13,
   "metadata": {},
   "outputs": [
    {
     "data": {
      "application/vnd.plotly.v1+json": {
       "config": {
        "plotlyServerURL": "https://plot.ly"
       },
       "data": [
        {
         "fill": "toself",
         "name": "Rascal",
         "r": [
          0.09082078678970373,
          1,
          0.5751893256401011,
          0.16160772223510422,
          0.029902207822865456,
          0.12405999730746231,
          0.8483571219609907,
          0.33333333333333326
         ],
         "subplot": "polar",
         "theta": [
          "KDA - 1.34",
          "KP - 0.66",
          "KS - 0.2",
          "DPM - 419.16",
          "CSPM - 7.54",
          "GPM - 349.76",
          "GS - 0.22",
          "ChampionsPlayed - 5"
         ],
         "type": "scatterpolar"
        },
        {
         "fill": "toself",
         "name": "Canna",
         "r": [
          0.6920902578098349,
          0.37638420799229655,
          0,
          0.3629236843263186,
          0.13858476543029674,
          0.29647900726200316,
          0,
          0.9999999999999998
         ],
         "subplot": "polar2",
         "theta": [
          "KDA - 3.88",
          "KP - 0.53",
          "KS - 0.07",
          "DPM - 459.65",
          "CSPM - 7.71",
          "GPM - 362.81",
          "GS - 0.19",
          "ChampionsPlayed - 7"
         ],
         "type": "scatterpolar"
        },
        {
         "fill": "toself",
         "name": "Doran",
         "r": [
          0.27239252508515144,
          0.1990914990266064,
          0.29263028060437873,
          0.3645734677160646,
          0.40121266361618346,
          0.7614929397236505,
          0.43362982977477404,
          0
         ],
         "subplot": "polar3",
         "theta": [
          "KDA - 2.11",
          "KP - 0.5",
          "KS - 0.14",
          "DPM - 459.98",
          "CSPM - 8.13",
          "GPM - 397.99",
          "GS - 0.21",
          "ChampionsPlayed - 4"
         ],
         "type": "scatterpolar"
        },
        {
         "fill": "toself",
         "name": "Kingen",
         "r": [
          1,
          0.45299942594718745,
          0.019094380796508492,
          0.3582803724448942,
          0.5358081405453623,
          0.43213770654485817,
          0.413444308147044,
          0.9999999999999998
         ],
         "subplot": "polar4",
         "theta": [
          "KDA - 5.18",
          "KP - 0.55",
          "KS - 0.08",
          "DPM - 458.71",
          "CSPM - 8.35",
          "GPM - 373.07",
          "GS - 0.21",
          "ChampionsPlayed - 7"
         ],
         "type": "scatterpolar"
        },
        {
         "fill": "toself",
         "name": "Kiin",
         "r": [
          0.7478434621570251,
          0.6961984947059574,
          0.6579984239558707,
          0.1992318005827367,
          0.7138739870444892,
          1,
          0.7671582253155229,
          0.6666666666666667
         ],
         "subplot": "polar5",
         "theta": [
          "KDA - 4.12",
          "KP - 0.6",
          "KS - 0.22",
          "DPM - 426.73",
          "CSPM - 8.63",
          "GPM - 416.04",
          "GS - 0.22",
          "ChampionsPlayed - 6"
         ],
         "type": "scatterpolar"
        },
        {
         "fill": "toself",
         "name": "DuDu",
         "r": [
          0.8922949461474734,
          0.9466417910447764,
          1,
          1,
          1,
          0.8637658585655208,
          0.9812620549943167,
          0.33333333333333326
         ],
         "subplot": "polar6",
         "theta": [
          "KDA - 4.73",
          "KP - 0.65",
          "KS - 0.3",
          "DPM - 587.76",
          "CSPM - 9.09",
          "GPM - 405.73",
          "GS - 0.23",
          "ChampionsPlayed - 5"
         ],
         "type": "scatterpolar"
        },
        {
         "fill": "toself",
         "name": "Burdol",
         "r": [
          0.19618017703745694,
          0.25629316106037026,
          0.3371440668995446,
          0,
          0,
          0,
          0.15429562008064845,
          0.6666666666666667
         ],
         "subplot": "polar7",
         "theta": [
          "KDA - 1.79",
          "KP - 0.51",
          "KS - 0.15",
          "DPM - 386.67",
          "CSPM - 7.49",
          "GPM - 340.38",
          "GS - 0.2",
          "ChampionsPlayed - 6"
         ],
         "type": "scatterpolar"
        },
        {
         "fill": "toself",
         "name": "DnDn",
         "r": [
          0,
          0,
          0.3204384268214054,
          0.4559702259365186,
          0.46122948561213306,
          0.17479923872989822,
          0.5529500592782339,
          0.6666666666666667
         ],
         "subplot": "polar8",
         "theta": [
          "KDA - 0.96",
          "KP - 0.45",
          "KS - 0.15",
          "DPM - 478.36",
          "CSPM - 8.23",
          "GPM - 353.6",
          "GS - 0.21",
          "ChampionsPlayed - 6"
         ],
         "type": "scatterpolar"
        },
        {
         "fill": "toself",
         "name": "Morgan",
         "r": [
          0.0915312848960772,
          0.5283582089552241,
          0.6402321083172144,
          0.4004426365646543,
          0.9082106562492678,
          0.5267127696143161,
          1,
          0.33333333333333326
         ],
         "subplot": "polar9",
         "theta": [
          "KDA - 1.35",
          "KP - 0.56",
          "KS - 0.22",
          "DPM - 467.19",
          "CSPM - 8.94",
          "GPM - 380.23",
          "GS - 0.23",
          "ChampionsPlayed - 5"
         ],
         "type": "scatterpolar"
        },
        {
         "fill": "toself",
         "name": "Zeus",
         "r": [
          0.547638773819387,
          0.6568387570344996,
          0.4377397976979422,
          0.28307841232216546,
          0.5476452928982392,
          0.6564202759423408,
          0.3586394558535364,
          0.6666666666666667
         ],
         "subplot": "polar10",
         "theta": [
          "KDA - 3.27",
          "KP - 0.59",
          "KS - 0.17",
          "DPM - 443.59",
          "CSPM - 8.37",
          "GPM - 390.04",
          "GS - 0.21",
          "ChampionsPlayed - 6"
         ],
         "type": "scatterpolar"
        }
       ],
       "layout": {
        "annotations": [
         {
          "font": {
           "size": 16
          },
          "showarrow": false,
          "text": "Rascal",
          "x": 0.10625,
          "xanchor": "center",
          "xref": "paper",
          "y": 1,
          "yanchor": "bottom",
          "yref": "paper",
          "yshift": 20
         },
         {
          "font": {
           "size": 16
          },
          "showarrow": false,
          "text": "Canna",
          "x": 0.36875,
          "xanchor": "center",
          "xref": "paper",
          "y": 1,
          "yanchor": "bottom",
          "yref": "paper",
          "yshift": 20
         },
         {
          "font": {
           "size": 16
          },
          "showarrow": false,
          "text": "Doran",
          "x": 0.6312500000000001,
          "xanchor": "center",
          "xref": "paper",
          "y": 1,
          "yanchor": "bottom",
          "yref": "paper",
          "yshift": 20
         },
         {
          "font": {
           "size": 16
          },
          "showarrow": false,
          "text": "Kingen",
          "x": 0.89375,
          "xanchor": "center",
          "xref": "paper",
          "y": 1,
          "yanchor": "bottom",
          "yref": "paper",
          "yshift": 20
         },
         {
          "font": {
           "size": 16
          },
          "showarrow": false,
          "text": "Kiin",
          "x": 0.10625,
          "xanchor": "center",
          "xref": "paper",
          "y": 0.6111111111111112,
          "yanchor": "bottom",
          "yref": "paper",
          "yshift": 20
         },
         {
          "font": {
           "size": 16
          },
          "showarrow": false,
          "text": "DuDu",
          "x": 0.36875,
          "xanchor": "center",
          "xref": "paper",
          "y": 0.6111111111111112,
          "yanchor": "bottom",
          "yref": "paper",
          "yshift": 20
         },
         {
          "font": {
           "size": 16
          },
          "showarrow": false,
          "text": "Burdol",
          "x": 0.6312500000000001,
          "xanchor": "center",
          "xref": "paper",
          "y": 0.6111111111111112,
          "yanchor": "bottom",
          "yref": "paper",
          "yshift": 20
         },
         {
          "font": {
           "size": 16
          },
          "showarrow": false,
          "text": "DnDn",
          "x": 0.89375,
          "xanchor": "center",
          "xref": "paper",
          "y": 0.6111111111111112,
          "yanchor": "bottom",
          "yref": "paper",
          "yshift": 20
         },
         {
          "font": {
           "size": 16
          },
          "showarrow": false,
          "text": "Morgan",
          "x": 0.10625,
          "xanchor": "center",
          "xref": "paper",
          "y": 0.22222222222222224,
          "yanchor": "bottom",
          "yref": "paper",
          "yshift": 20
         },
         {
          "font": {
           "size": 16
          },
          "showarrow": false,
          "text": "Zeus",
          "x": 0.36875,
          "xanchor": "center",
          "xref": "paper",
          "y": 0.22222222222222224,
          "yanchor": "bottom",
          "yref": "paper",
          "yshift": 20
         }
        ],
        "height": 1200,
        "polar": {
         "domain": {
          "x": [
           0,
           0.2125
          ],
          "y": [
           0.7777777777777778,
           1
          ]
         },
         "radialaxis": {
          "range": [
           -0.2,
           1.2
          ],
          "visible": true
         }
        },
        "polar10": {
         "domain": {
          "x": [
           0.2625,
           0.475
          ],
          "y": [
           0,
           0.22222222222222224
          ]
         },
         "radialaxis": {
          "range": [
           -0.2,
           1.2
          ]
         }
        },
        "polar11": {
         "domain": {
          "x": [
           0.525,
           0.7375
          ],
          "y": [
           0,
           0.22222222222222224
          ]
         },
         "radialaxis": {
          "range": [
           -0.2,
           1.2
          ]
         }
        },
        "polar12": {
         "domain": {
          "x": [
           0.7875,
           1
          ],
          "y": [
           0,
           0.22222222222222224
          ]
         },
         "radialaxis": {
          "range": [
           -0.2,
           1.2
          ]
         }
        },
        "polar2": {
         "domain": {
          "x": [
           0.2625,
           0.475
          ],
          "y": [
           0.7777777777777778,
           1
          ]
         },
         "radialaxis": {
          "range": [
           -0.2,
           1.2
          ]
         }
        },
        "polar3": {
         "domain": {
          "x": [
           0.525,
           0.7375
          ],
          "y": [
           0.7777777777777778,
           1
          ]
         },
         "radialaxis": {
          "range": [
           -0.2,
           1.2
          ]
         }
        },
        "polar4": {
         "domain": {
          "x": [
           0.7875,
           1
          ],
          "y": [
           0.7777777777777778,
           1
          ]
         },
         "radialaxis": {
          "range": [
           -0.2,
           1.2
          ]
         }
        },
        "polar5": {
         "domain": {
          "x": [
           0,
           0.2125
          ],
          "y": [
           0.3888888888888889,
           0.6111111111111112
          ]
         },
         "radialaxis": {
          "range": [
           -0.2,
           1.2
          ]
         }
        },
        "polar6": {
         "domain": {
          "x": [
           0.2625,
           0.475
          ],
          "y": [
           0.3888888888888889,
           0.6111111111111112
          ]
         },
         "radialaxis": {
          "range": [
           -0.2,
           1.2
          ]
         }
        },
        "polar7": {
         "domain": {
          "x": [
           0.525,
           0.7375
          ],
          "y": [
           0.3888888888888889,
           0.6111111111111112
          ]
         },
         "radialaxis": {
          "range": [
           -0.2,
           1.2
          ]
         }
        },
        "polar8": {
         "domain": {
          "x": [
           0.7875,
           1
          ],
          "y": [
           0.3888888888888889,
           0.6111111111111112
          ]
         },
         "radialaxis": {
          "range": [
           -0.2,
           1.2
          ]
         }
        },
        "polar9": {
         "domain": {
          "x": [
           0,
           0.2125
          ],
          "y": [
           0,
           0.22222222222222224
          ]
         },
         "radialaxis": {
          "range": [
           -0.2,
           1.2
          ]
         }
        },
        "showlegend": false,
        "template": {
         "data": {
          "bar": [
           {
            "error_x": {
             "color": "#2a3f5f"
            },
            "error_y": {
             "color": "#2a3f5f"
            },
            "marker": {
             "line": {
              "color": "#E5ECF6",
              "width": 0.5
             },
             "pattern": {
              "fillmode": "overlay",
              "size": 10,
              "solidity": 0.2
             }
            },
            "type": "bar"
           }
          ],
          "barpolar": [
           {
            "marker": {
             "line": {
              "color": "#E5ECF6",
              "width": 0.5
             },
             "pattern": {
              "fillmode": "overlay",
              "size": 10,
              "solidity": 0.2
             }
            },
            "type": "barpolar"
           }
          ],
          "carpet": [
           {
            "aaxis": {
             "endlinecolor": "#2a3f5f",
             "gridcolor": "white",
             "linecolor": "white",
             "minorgridcolor": "white",
             "startlinecolor": "#2a3f5f"
            },
            "baxis": {
             "endlinecolor": "#2a3f5f",
             "gridcolor": "white",
             "linecolor": "white",
             "minorgridcolor": "white",
             "startlinecolor": "#2a3f5f"
            },
            "type": "carpet"
           }
          ],
          "choropleth": [
           {
            "colorbar": {
             "outlinewidth": 0,
             "ticks": ""
            },
            "type": "choropleth"
           }
          ],
          "contour": [
           {
            "colorbar": {
             "outlinewidth": 0,
             "ticks": ""
            },
            "colorscale": [
             [
              0,
              "#0d0887"
             ],
             [
              0.1111111111111111,
              "#46039f"
             ],
             [
              0.2222222222222222,
              "#7201a8"
             ],
             [
              0.3333333333333333,
              "#9c179e"
             ],
             [
              0.4444444444444444,
              "#bd3786"
             ],
             [
              0.5555555555555556,
              "#d8576b"
             ],
             [
              0.6666666666666666,
              "#ed7953"
             ],
             [
              0.7777777777777778,
              "#fb9f3a"
             ],
             [
              0.8888888888888888,
              "#fdca26"
             ],
             [
              1,
              "#f0f921"
             ]
            ],
            "type": "contour"
           }
          ],
          "contourcarpet": [
           {
            "colorbar": {
             "outlinewidth": 0,
             "ticks": ""
            },
            "type": "contourcarpet"
           }
          ],
          "heatmap": [
           {
            "colorbar": {
             "outlinewidth": 0,
             "ticks": ""
            },
            "colorscale": [
             [
              0,
              "#0d0887"
             ],
             [
              0.1111111111111111,
              "#46039f"
             ],
             [
              0.2222222222222222,
              "#7201a8"
             ],
             [
              0.3333333333333333,
              "#9c179e"
             ],
             [
              0.4444444444444444,
              "#bd3786"
             ],
             [
              0.5555555555555556,
              "#d8576b"
             ],
             [
              0.6666666666666666,
              "#ed7953"
             ],
             [
              0.7777777777777778,
              "#fb9f3a"
             ],
             [
              0.8888888888888888,
              "#fdca26"
             ],
             [
              1,
              "#f0f921"
             ]
            ],
            "type": "heatmap"
           }
          ],
          "heatmapgl": [
           {
            "colorbar": {
             "outlinewidth": 0,
             "ticks": ""
            },
            "colorscale": [
             [
              0,
              "#0d0887"
             ],
             [
              0.1111111111111111,
              "#46039f"
             ],
             [
              0.2222222222222222,
              "#7201a8"
             ],
             [
              0.3333333333333333,
              "#9c179e"
             ],
             [
              0.4444444444444444,
              "#bd3786"
             ],
             [
              0.5555555555555556,
              "#d8576b"
             ],
             [
              0.6666666666666666,
              "#ed7953"
             ],
             [
              0.7777777777777778,
              "#fb9f3a"
             ],
             [
              0.8888888888888888,
              "#fdca26"
             ],
             [
              1,
              "#f0f921"
             ]
            ],
            "type": "heatmapgl"
           }
          ],
          "histogram": [
           {
            "marker": {
             "pattern": {
              "fillmode": "overlay",
              "size": 10,
              "solidity": 0.2
             }
            },
            "type": "histogram"
           }
          ],
          "histogram2d": [
           {
            "colorbar": {
             "outlinewidth": 0,
             "ticks": ""
            },
            "colorscale": [
             [
              0,
              "#0d0887"
             ],
             [
              0.1111111111111111,
              "#46039f"
             ],
             [
              0.2222222222222222,
              "#7201a8"
             ],
             [
              0.3333333333333333,
              "#9c179e"
             ],
             [
              0.4444444444444444,
              "#bd3786"
             ],
             [
              0.5555555555555556,
              "#d8576b"
             ],
             [
              0.6666666666666666,
              "#ed7953"
             ],
             [
              0.7777777777777778,
              "#fb9f3a"
             ],
             [
              0.8888888888888888,
              "#fdca26"
             ],
             [
              1,
              "#f0f921"
             ]
            ],
            "type": "histogram2d"
           }
          ],
          "histogram2dcontour": [
           {
            "colorbar": {
             "outlinewidth": 0,
             "ticks": ""
            },
            "colorscale": [
             [
              0,
              "#0d0887"
             ],
             [
              0.1111111111111111,
              "#46039f"
             ],
             [
              0.2222222222222222,
              "#7201a8"
             ],
             [
              0.3333333333333333,
              "#9c179e"
             ],
             [
              0.4444444444444444,
              "#bd3786"
             ],
             [
              0.5555555555555556,
              "#d8576b"
             ],
             [
              0.6666666666666666,
              "#ed7953"
             ],
             [
              0.7777777777777778,
              "#fb9f3a"
             ],
             [
              0.8888888888888888,
              "#fdca26"
             ],
             [
              1,
              "#f0f921"
             ]
            ],
            "type": "histogram2dcontour"
           }
          ],
          "mesh3d": [
           {
            "colorbar": {
             "outlinewidth": 0,
             "ticks": ""
            },
            "type": "mesh3d"
           }
          ],
          "parcoords": [
           {
            "line": {
             "colorbar": {
              "outlinewidth": 0,
              "ticks": ""
             }
            },
            "type": "parcoords"
           }
          ],
          "pie": [
           {
            "automargin": true,
            "type": "pie"
           }
          ],
          "scatter": [
           {
            "fillpattern": {
             "fillmode": "overlay",
             "size": 10,
             "solidity": 0.2
            },
            "type": "scatter"
           }
          ],
          "scatter3d": [
           {
            "line": {
             "colorbar": {
              "outlinewidth": 0,
              "ticks": ""
             }
            },
            "marker": {
             "colorbar": {
              "outlinewidth": 0,
              "ticks": ""
             }
            },
            "type": "scatter3d"
           }
          ],
          "scattercarpet": [
           {
            "marker": {
             "colorbar": {
              "outlinewidth": 0,
              "ticks": ""
             }
            },
            "type": "scattercarpet"
           }
          ],
          "scattergeo": [
           {
            "marker": {
             "colorbar": {
              "outlinewidth": 0,
              "ticks": ""
             }
            },
            "type": "scattergeo"
           }
          ],
          "scattergl": [
           {
            "marker": {
             "colorbar": {
              "outlinewidth": 0,
              "ticks": ""
             }
            },
            "type": "scattergl"
           }
          ],
          "scattermapbox": [
           {
            "marker": {
             "colorbar": {
              "outlinewidth": 0,
              "ticks": ""
             }
            },
            "type": "scattermapbox"
           }
          ],
          "scatterpolar": [
           {
            "marker": {
             "colorbar": {
              "outlinewidth": 0,
              "ticks": ""
             }
            },
            "type": "scatterpolar"
           }
          ],
          "scatterpolargl": [
           {
            "marker": {
             "colorbar": {
              "outlinewidth": 0,
              "ticks": ""
             }
            },
            "type": "scatterpolargl"
           }
          ],
          "scatterternary": [
           {
            "marker": {
             "colorbar": {
              "outlinewidth": 0,
              "ticks": ""
             }
            },
            "type": "scatterternary"
           }
          ],
          "surface": [
           {
            "colorbar": {
             "outlinewidth": 0,
             "ticks": ""
            },
            "colorscale": [
             [
              0,
              "#0d0887"
             ],
             [
              0.1111111111111111,
              "#46039f"
             ],
             [
              0.2222222222222222,
              "#7201a8"
             ],
             [
              0.3333333333333333,
              "#9c179e"
             ],
             [
              0.4444444444444444,
              "#bd3786"
             ],
             [
              0.5555555555555556,
              "#d8576b"
             ],
             [
              0.6666666666666666,
              "#ed7953"
             ],
             [
              0.7777777777777778,
              "#fb9f3a"
             ],
             [
              0.8888888888888888,
              "#fdca26"
             ],
             [
              1,
              "#f0f921"
             ]
            ],
            "type": "surface"
           }
          ],
          "table": [
           {
            "cells": {
             "fill": {
              "color": "#EBF0F8"
             },
             "line": {
              "color": "white"
             }
            },
            "header": {
             "fill": {
              "color": "#C8D4E3"
             },
             "line": {
              "color": "white"
             }
            },
            "type": "table"
           }
          ]
         },
         "layout": {
          "annotationdefaults": {
           "arrowcolor": "#2a3f5f",
           "arrowhead": 0,
           "arrowwidth": 1
          },
          "autotypenumbers": "strict",
          "coloraxis": {
           "colorbar": {
            "outlinewidth": 0,
            "ticks": ""
           }
          },
          "colorscale": {
           "diverging": [
            [
             0,
             "#8e0152"
            ],
            [
             0.1,
             "#c51b7d"
            ],
            [
             0.2,
             "#de77ae"
            ],
            [
             0.3,
             "#f1b6da"
            ],
            [
             0.4,
             "#fde0ef"
            ],
            [
             0.5,
             "#f7f7f7"
            ],
            [
             0.6,
             "#e6f5d0"
            ],
            [
             0.7,
             "#b8e186"
            ],
            [
             0.8,
             "#7fbc41"
            ],
            [
             0.9,
             "#4d9221"
            ],
            [
             1,
             "#276419"
            ]
           ],
           "sequential": [
            [
             0,
             "#0d0887"
            ],
            [
             0.1111111111111111,
             "#46039f"
            ],
            [
             0.2222222222222222,
             "#7201a8"
            ],
            [
             0.3333333333333333,
             "#9c179e"
            ],
            [
             0.4444444444444444,
             "#bd3786"
            ],
            [
             0.5555555555555556,
             "#d8576b"
            ],
            [
             0.6666666666666666,
             "#ed7953"
            ],
            [
             0.7777777777777778,
             "#fb9f3a"
            ],
            [
             0.8888888888888888,
             "#fdca26"
            ],
            [
             1,
             "#f0f921"
            ]
           ],
           "sequentialminus": [
            [
             0,
             "#0d0887"
            ],
            [
             0.1111111111111111,
             "#46039f"
            ],
            [
             0.2222222222222222,
             "#7201a8"
            ],
            [
             0.3333333333333333,
             "#9c179e"
            ],
            [
             0.4444444444444444,
             "#bd3786"
            ],
            [
             0.5555555555555556,
             "#d8576b"
            ],
            [
             0.6666666666666666,
             "#ed7953"
            ],
            [
             0.7777777777777778,
             "#fb9f3a"
            ],
            [
             0.8888888888888888,
             "#fdca26"
            ],
            [
             1,
             "#f0f921"
            ]
           ]
          },
          "colorway": [
           "#636efa",
           "#EF553B",
           "#00cc96",
           "#ab63fa",
           "#FFA15A",
           "#19d3f3",
           "#FF6692",
           "#B6E880",
           "#FF97FF",
           "#FECB52"
          ],
          "font": {
           "color": "#2a3f5f"
          },
          "geo": {
           "bgcolor": "white",
           "lakecolor": "white",
           "landcolor": "#E5ECF6",
           "showlakes": true,
           "showland": true,
           "subunitcolor": "white"
          },
          "hoverlabel": {
           "align": "left"
          },
          "hovermode": "closest",
          "mapbox": {
           "style": "light"
          },
          "paper_bgcolor": "white",
          "plot_bgcolor": "#E5ECF6",
          "polar": {
           "angularaxis": {
            "gridcolor": "white",
            "linecolor": "white",
            "ticks": ""
           },
           "bgcolor": "#E5ECF6",
           "radialaxis": {
            "gridcolor": "white",
            "linecolor": "white",
            "ticks": ""
           }
          },
          "scene": {
           "xaxis": {
            "backgroundcolor": "#E5ECF6",
            "gridcolor": "white",
            "gridwidth": 2,
            "linecolor": "white",
            "showbackground": true,
            "ticks": "",
            "zerolinecolor": "white"
           },
           "yaxis": {
            "backgroundcolor": "#E5ECF6",
            "gridcolor": "white",
            "gridwidth": 2,
            "linecolor": "white",
            "showbackground": true,
            "ticks": "",
            "zerolinecolor": "white"
           },
           "zaxis": {
            "backgroundcolor": "#E5ECF6",
            "gridcolor": "white",
            "gridwidth": 2,
            "linecolor": "white",
            "showbackground": true,
            "ticks": "",
            "zerolinecolor": "white"
           }
          },
          "shapedefaults": {
           "line": {
            "color": "#2a3f5f"
           }
          },
          "ternary": {
           "aaxis": {
            "gridcolor": "white",
            "linecolor": "white",
            "ticks": ""
           },
           "baxis": {
            "gridcolor": "white",
            "linecolor": "white",
            "ticks": ""
           },
           "bgcolor": "#E5ECF6",
           "caxis": {
            "gridcolor": "white",
            "linecolor": "white",
            "ticks": ""
           }
          },
          "title": {
           "x": 0.05
          },
          "xaxis": {
           "automargin": true,
           "gridcolor": "white",
           "linecolor": "white",
           "ticks": "",
           "title": {
            "standoff": 15
           },
           "zerolinecolor": "white",
           "zerolinewidth": 2
          },
          "yaxis": {
           "automargin": true,
           "gridcolor": "white",
           "linecolor": "white",
           "ticks": "",
           "title": {
            "standoff": 15
           },
           "zerolinecolor": "white",
           "zerolinewidth": 2
          }
         }
        },
        "title": {
         "y": 1
        }
       }
      }
     },
     "metadata": {},
     "output_type": "display_data"
    }
   ],
   "source": [
    "df = players_stats.loc[players_stats[\"Position\"] == positions[0]]\n",
    "min_value, max_value = get_min_max_value(df, columns)\n",
    "\n",
    "ROWS, COLUMNS = get_rows_columns(df, 4)\n",
    "\n",
    "fig = get_fig_subplots(df, ROWS, COLUMNS)\n",
    "for i, player_name in enumerate(df.index):\n",
    "    _df = df.loc[player_name, columns]\n",
    "    theta_list = get_theta_list(df, player_name, origin_columns, columns)\n",
    "\n",
    "    r, c = get_rc(i, COLUMNS)\n",
    "    fig.add_trace(\n",
    "        go.Scatterpolar(r=_df, theta=theta_list, fill=\"toself\", name=player_name),\n",
    "        row=r,\n",
    "        col=c,\n",
    "    )\n",
    "\n",
    "fig.update_layout(\n",
    "    height=400 * ROWS,\n",
    "    showlegend=False,\n",
    "    polar=dict(\n",
    "        radialaxis=dict(visible=True),\n",
    "    ),\n",
    "    title=dict(y=1),\n",
    ")\n",
    "fig.update_annotations(yshift=20)\n",
    "fig.update_polars(radialaxis=dict(range=[min_value - 0.2, max_value + 0.2]))\n",
    "fig.show()"
   ]
  },
  {
   "cell_type": "code",
   "execution_count": 14,
   "metadata": {},
   "outputs": [
    {
     "data": {
      "application/vnd.plotly.v1+json": {
       "config": {
        "plotlyServerURL": "https://plot.ly"
       },
       "data": [
        {
         "fill": "toself",
         "name": "Croco",
         "r": [
          0.11217494089834514,
          0.2272727272727273,
          0.05454545454545459,
          0.320830262050253,
          0,
          0,
          0.12665992169140017,
          0.7142857142857142
         ],
         "subplot": "polar",
         "theta": [
          "KDA - 1.27",
          "KP - 0.69",
          "KS - 0.2",
          "DPM - 257.66",
          "CSPM - 4.98",
          "GPM - 294.93",
          "GS - 0.19",
          "ChampionsPlayed - 6"
         ],
         "type": "scatterpolar"
        },
        {
         "fill": "toself",
         "name": "Juhan",
         "r": [
          0,
          1,
          0.9999999999999999,
          1,
          0.527045368522713,
          0.6855061333454553,
          1.0000000000000004,
          0
         ],
         "subplot": "polar2",
         "theta": [
          "KDA - 0.57",
          "KP - 1.0",
          "KS - 1.0",
          "DPM - 410.76",
          "CSPM - 5.67",
          "GPM - 349.98",
          "GS - 0.23",
          "ChampionsPlayed - 1"
         ],
         "type": "scatterpolar"
        },
        {
         "fill": "toself",
         "name": "Canyon",
         "r": [
          0.9999999999999998,
          0.274193548387097,
          0.02785923753665695,
          0.7145074470092658,
          0.8883619240276364,
          0.741735877586224,
          0.16324589324817707,
          0.8571428571428572
         ],
         "subplot": "polar3",
         "theta": [
          "KDA - 6.77",
          "KP - 0.71",
          "KS - 0.18",
          "DPM - 346.4",
          "CSPM - 6.15",
          "GPM - 354.5",
          "GS - 0.19",
          "ChampionsPlayed - 7"
         ],
         "type": "scatterpolar"
        },
        {
         "fill": "toself",
         "name": "Peanut",
         "r": [
          0.7246232269503545,
          0.26086956521739135,
          0.08537549407114628,
          0.5625656626071662,
          1,
          1.0000000000000004,
          0.27168442624167843,
          0.7142857142857142
         ],
         "subplot": "polar4",
         "theta": [
          "KDA - 5.06",
          "KP - 0.7",
          "KS - 0.23",
          "DPM - 312.15",
          "CSPM - 6.29",
          "GPM - 375.24",
          "GS - 0.19",
          "ChampionsPlayed - 6"
         ],
         "type": "scatterpolar"
        },
        {
         "fill": "toself",
         "name": "Clid",
         "r": [
          0.536207540126913,
          0.27884615384615397,
          0.0795454545454545,
          0.40663136707561054,
          0.8099124771776998,
          0.7075079825756041,
          0.2371957963343685,
          0.7142857142857142
         ],
         "subplot": "polar5",
         "theta": [
          "KDA - 3.89",
          "KP - 0.71",
          "KS - 0.22",
          "DPM - 277.0",
          "CSPM - 6.04",
          "GPM - 351.75",
          "GS - 0.19",
          "ChampionsPlayed - 6"
         ],
         "type": "scatterpolar"
        },
        {
         "fill": "toself",
         "name": "Cuzz",
         "r": [
          0.6661347517730496,
          0.5085470085470085,
          0,
          0.6149016198238126,
          0.612853045737153,
          0.6643729195194834,
          0.08776388879214325,
          0.42857142857142855
         ],
         "subplot": "polar6",
         "theta": [
          "KDA - 4.7",
          "KP - 0.8",
          "KS - 0.15",
          "DPM - 323.95",
          "CSPM - 5.78",
          "GPM - 348.28",
          "GS - 0.18",
          "ChampionsPlayed - 4"
         ],
         "type": "scatterpolar"
        },
        {
         "fill": "toself",
         "name": "YoungJae",
         "r": [
          0.6152482269503545,
          0.28125,
          0.01022727272727278,
          0.44716139997777593,
          0.635146442537752,
          0.42367658115681417,
          0.05465466426333787,
          0.5714285714285714
         ],
         "subplot": "polar7",
         "theta": [
          "KDA - 4.38",
          "KP - 0.71",
          "KS - 0.16",
          "DPM - 286.14",
          "CSPM - 5.81",
          "GPM - 328.95",
          "GS - 0.18",
          "ChampionsPlayed - 5"
         ],
         "type": "scatterpolar"
        },
        {
         "fill": "toself",
         "name": "Willer",
         "r": [
          0.22429078014184395,
          0.4029850746268657,
          0.012211668928086838,
          0.24247401715770933,
          0.5244230133128589,
          0.4011692838782337,
          0.21059306988902327,
          0.8571428571428572
         ],
         "subplot": "polar8",
         "theta": [
          "KDA - 1.96",
          "KP - 0.76",
          "KS - 0.16",
          "DPM - 240.0",
          "CSPM - 5.67",
          "GPM - 327.15",
          "GS - 0.19",
          "ChampionsPlayed - 7"
         ],
         "type": "scatterpolar"
        },
        {
         "fill": "toself",
         "name": "Sylvie",
         "r": [
          0.20360520094562645,
          0,
          0.05454545454545459,
          0,
          0.5489183888503595,
          0.22978070909642634,
          0.15451676382717983,
          0.5714285714285714
         ],
         "subplot": "polar9",
         "theta": [
          "KDA - 1.83",
          "KP - 0.6",
          "KS - 0.2",
          "DPM - 185.34",
          "CSPM - 5.7",
          "GPM - 313.38",
          "GS - 0.19",
          "ChampionsPlayed - 5"
         ],
         "type": "scatterpolar"
        },
        {
         "fill": "toself",
         "name": "UmTi",
         "r": [
          0.35957446808510635,
          0.40909090909090917,
          0.05454545454545459,
          0.1518293728046448,
          0.4733096003671564,
          0.19468927720175344,
          0.1011411026112854,
          0.7142857142857142
         ],
         "subplot": "polar10",
         "theta": [
          "KDA - 2.8",
          "KP - 0.76",
          "KS - 0.2",
          "DPM - 219.57",
          "CSPM - 5.6",
          "GPM - 310.56",
          "GS - 0.19",
          "ChampionsPlayed - 6"
         ],
         "type": "scatterpolar"
        },
        {
         "fill": "toself",
         "name": "Oner",
         "r": [
          0.3803191489361702,
          0.180327868852459,
          0.040983606557377095,
          0.4127274281569524,
          0.43535431674415115,
          0.6186563841325623,
          0,
          1
         ],
         "subplot": "polar11",
         "theta": [
          "KDA - 2.93",
          "KP - 0.67",
          "KS - 0.19",
          "DPM - 278.38",
          "CSPM - 5.55",
          "GPM - 344.61",
          "GS - 0.18",
          "ChampionsPlayed - 8"
         ],
         "type": "scatterpolar"
        }
       ],
       "layout": {
        "annotations": [
         {
          "font": {
           "size": 16
          },
          "showarrow": false,
          "text": "Croco",
          "x": 0.10625,
          "xanchor": "center",
          "xref": "paper",
          "y": 1,
          "yanchor": "bottom",
          "yref": "paper",
          "yshift": 20
         },
         {
          "font": {
           "size": 16
          },
          "showarrow": false,
          "text": "Juhan",
          "x": 0.36875,
          "xanchor": "center",
          "xref": "paper",
          "y": 1,
          "yanchor": "bottom",
          "yref": "paper",
          "yshift": 20
         },
         {
          "font": {
           "size": 16
          },
          "showarrow": false,
          "text": "Canyon",
          "x": 0.6312500000000001,
          "xanchor": "center",
          "xref": "paper",
          "y": 1,
          "yanchor": "bottom",
          "yref": "paper",
          "yshift": 20
         },
         {
          "font": {
           "size": 16
          },
          "showarrow": false,
          "text": "Peanut",
          "x": 0.89375,
          "xanchor": "center",
          "xref": "paper",
          "y": 1,
          "yanchor": "bottom",
          "yref": "paper",
          "yshift": 20
         },
         {
          "font": {
           "size": 16
          },
          "showarrow": false,
          "text": "Clid",
          "x": 0.10625,
          "xanchor": "center",
          "xref": "paper",
          "y": 0.6111111111111112,
          "yanchor": "bottom",
          "yref": "paper",
          "yshift": 20
         },
         {
          "font": {
           "size": 16
          },
          "showarrow": false,
          "text": "Cuzz",
          "x": 0.36875,
          "xanchor": "center",
          "xref": "paper",
          "y": 0.6111111111111112,
          "yanchor": "bottom",
          "yref": "paper",
          "yshift": 20
         },
         {
          "font": {
           "size": 16
          },
          "showarrow": false,
          "text": "YoungJae",
          "x": 0.6312500000000001,
          "xanchor": "center",
          "xref": "paper",
          "y": 0.6111111111111112,
          "yanchor": "bottom",
          "yref": "paper",
          "yshift": 20
         },
         {
          "font": {
           "size": 16
          },
          "showarrow": false,
          "text": "Willer",
          "x": 0.89375,
          "xanchor": "center",
          "xref": "paper",
          "y": 0.6111111111111112,
          "yanchor": "bottom",
          "yref": "paper",
          "yshift": 20
         },
         {
          "font": {
           "size": 16
          },
          "showarrow": false,
          "text": "Sylvie",
          "x": 0.10625,
          "xanchor": "center",
          "xref": "paper",
          "y": 0.22222222222222224,
          "yanchor": "bottom",
          "yref": "paper",
          "yshift": 20
         },
         {
          "font": {
           "size": 16
          },
          "showarrow": false,
          "text": "UmTi",
          "x": 0.36875,
          "xanchor": "center",
          "xref": "paper",
          "y": 0.22222222222222224,
          "yanchor": "bottom",
          "yref": "paper",
          "yshift": 20
         },
         {
          "font": {
           "size": 16
          },
          "showarrow": false,
          "text": "Oner",
          "x": 0.6312500000000001,
          "xanchor": "center",
          "xref": "paper",
          "y": 0.22222222222222224,
          "yanchor": "bottom",
          "yref": "paper",
          "yshift": 20
         }
        ],
        "height": 1200,
        "polar": {
         "domain": {
          "x": [
           0,
           0.2125
          ],
          "y": [
           0.7777777777777778,
           1
          ]
         },
         "radialaxis": {
          "range": [
           -0.2,
           1.2000000000000004
          ],
          "visible": true
         }
        },
        "polar10": {
         "domain": {
          "x": [
           0.2625,
           0.475
          ],
          "y": [
           0,
           0.22222222222222224
          ]
         },
         "radialaxis": {
          "range": [
           -0.2,
           1.2000000000000004
          ]
         }
        },
        "polar11": {
         "domain": {
          "x": [
           0.525,
           0.7375
          ],
          "y": [
           0,
           0.22222222222222224
          ]
         },
         "radialaxis": {
          "range": [
           -0.2,
           1.2000000000000004
          ]
         }
        },
        "polar12": {
         "domain": {
          "x": [
           0.7875,
           1
          ],
          "y": [
           0,
           0.22222222222222224
          ]
         },
         "radialaxis": {
          "range": [
           -0.2,
           1.2000000000000004
          ]
         }
        },
        "polar2": {
         "domain": {
          "x": [
           0.2625,
           0.475
          ],
          "y": [
           0.7777777777777778,
           1
          ]
         },
         "radialaxis": {
          "range": [
           -0.2,
           1.2000000000000004
          ]
         }
        },
        "polar3": {
         "domain": {
          "x": [
           0.525,
           0.7375
          ],
          "y": [
           0.7777777777777778,
           1
          ]
         },
         "radialaxis": {
          "range": [
           -0.2,
           1.2000000000000004
          ]
         }
        },
        "polar4": {
         "domain": {
          "x": [
           0.7875,
           1
          ],
          "y": [
           0.7777777777777778,
           1
          ]
         },
         "radialaxis": {
          "range": [
           -0.2,
           1.2000000000000004
          ]
         }
        },
        "polar5": {
         "domain": {
          "x": [
           0,
           0.2125
          ],
          "y": [
           0.3888888888888889,
           0.6111111111111112
          ]
         },
         "radialaxis": {
          "range": [
           -0.2,
           1.2000000000000004
          ]
         }
        },
        "polar6": {
         "domain": {
          "x": [
           0.2625,
           0.475
          ],
          "y": [
           0.3888888888888889,
           0.6111111111111112
          ]
         },
         "radialaxis": {
          "range": [
           -0.2,
           1.2000000000000004
          ]
         }
        },
        "polar7": {
         "domain": {
          "x": [
           0.525,
           0.7375
          ],
          "y": [
           0.3888888888888889,
           0.6111111111111112
          ]
         },
         "radialaxis": {
          "range": [
           -0.2,
           1.2000000000000004
          ]
         }
        },
        "polar8": {
         "domain": {
          "x": [
           0.7875,
           1
          ],
          "y": [
           0.3888888888888889,
           0.6111111111111112
          ]
         },
         "radialaxis": {
          "range": [
           -0.2,
           1.2000000000000004
          ]
         }
        },
        "polar9": {
         "domain": {
          "x": [
           0,
           0.2125
          ],
          "y": [
           0,
           0.22222222222222224
          ]
         },
         "radialaxis": {
          "range": [
           -0.2,
           1.2000000000000004
          ]
         }
        },
        "showlegend": false,
        "template": {
         "data": {
          "bar": [
           {
            "error_x": {
             "color": "#2a3f5f"
            },
            "error_y": {
             "color": "#2a3f5f"
            },
            "marker": {
             "line": {
              "color": "#E5ECF6",
              "width": 0.5
             },
             "pattern": {
              "fillmode": "overlay",
              "size": 10,
              "solidity": 0.2
             }
            },
            "type": "bar"
           }
          ],
          "barpolar": [
           {
            "marker": {
             "line": {
              "color": "#E5ECF6",
              "width": 0.5
             },
             "pattern": {
              "fillmode": "overlay",
              "size": 10,
              "solidity": 0.2
             }
            },
            "type": "barpolar"
           }
          ],
          "carpet": [
           {
            "aaxis": {
             "endlinecolor": "#2a3f5f",
             "gridcolor": "white",
             "linecolor": "white",
             "minorgridcolor": "white",
             "startlinecolor": "#2a3f5f"
            },
            "baxis": {
             "endlinecolor": "#2a3f5f",
             "gridcolor": "white",
             "linecolor": "white",
             "minorgridcolor": "white",
             "startlinecolor": "#2a3f5f"
            },
            "type": "carpet"
           }
          ],
          "choropleth": [
           {
            "colorbar": {
             "outlinewidth": 0,
             "ticks": ""
            },
            "type": "choropleth"
           }
          ],
          "contour": [
           {
            "colorbar": {
             "outlinewidth": 0,
             "ticks": ""
            },
            "colorscale": [
             [
              0,
              "#0d0887"
             ],
             [
              0.1111111111111111,
              "#46039f"
             ],
             [
              0.2222222222222222,
              "#7201a8"
             ],
             [
              0.3333333333333333,
              "#9c179e"
             ],
             [
              0.4444444444444444,
              "#bd3786"
             ],
             [
              0.5555555555555556,
              "#d8576b"
             ],
             [
              0.6666666666666666,
              "#ed7953"
             ],
             [
              0.7777777777777778,
              "#fb9f3a"
             ],
             [
              0.8888888888888888,
              "#fdca26"
             ],
             [
              1,
              "#f0f921"
             ]
            ],
            "type": "contour"
           }
          ],
          "contourcarpet": [
           {
            "colorbar": {
             "outlinewidth": 0,
             "ticks": ""
            },
            "type": "contourcarpet"
           }
          ],
          "heatmap": [
           {
            "colorbar": {
             "outlinewidth": 0,
             "ticks": ""
            },
            "colorscale": [
             [
              0,
              "#0d0887"
             ],
             [
              0.1111111111111111,
              "#46039f"
             ],
             [
              0.2222222222222222,
              "#7201a8"
             ],
             [
              0.3333333333333333,
              "#9c179e"
             ],
             [
              0.4444444444444444,
              "#bd3786"
             ],
             [
              0.5555555555555556,
              "#d8576b"
             ],
             [
              0.6666666666666666,
              "#ed7953"
             ],
             [
              0.7777777777777778,
              "#fb9f3a"
             ],
             [
              0.8888888888888888,
              "#fdca26"
             ],
             [
              1,
              "#f0f921"
             ]
            ],
            "type": "heatmap"
           }
          ],
          "heatmapgl": [
           {
            "colorbar": {
             "outlinewidth": 0,
             "ticks": ""
            },
            "colorscale": [
             [
              0,
              "#0d0887"
             ],
             [
              0.1111111111111111,
              "#46039f"
             ],
             [
              0.2222222222222222,
              "#7201a8"
             ],
             [
              0.3333333333333333,
              "#9c179e"
             ],
             [
              0.4444444444444444,
              "#bd3786"
             ],
             [
              0.5555555555555556,
              "#d8576b"
             ],
             [
              0.6666666666666666,
              "#ed7953"
             ],
             [
              0.7777777777777778,
              "#fb9f3a"
             ],
             [
              0.8888888888888888,
              "#fdca26"
             ],
             [
              1,
              "#f0f921"
             ]
            ],
            "type": "heatmapgl"
           }
          ],
          "histogram": [
           {
            "marker": {
             "pattern": {
              "fillmode": "overlay",
              "size": 10,
              "solidity": 0.2
             }
            },
            "type": "histogram"
           }
          ],
          "histogram2d": [
           {
            "colorbar": {
             "outlinewidth": 0,
             "ticks": ""
            },
            "colorscale": [
             [
              0,
              "#0d0887"
             ],
             [
              0.1111111111111111,
              "#46039f"
             ],
             [
              0.2222222222222222,
              "#7201a8"
             ],
             [
              0.3333333333333333,
              "#9c179e"
             ],
             [
              0.4444444444444444,
              "#bd3786"
             ],
             [
              0.5555555555555556,
              "#d8576b"
             ],
             [
              0.6666666666666666,
              "#ed7953"
             ],
             [
              0.7777777777777778,
              "#fb9f3a"
             ],
             [
              0.8888888888888888,
              "#fdca26"
             ],
             [
              1,
              "#f0f921"
             ]
            ],
            "type": "histogram2d"
           }
          ],
          "histogram2dcontour": [
           {
            "colorbar": {
             "outlinewidth": 0,
             "ticks": ""
            },
            "colorscale": [
             [
              0,
              "#0d0887"
             ],
             [
              0.1111111111111111,
              "#46039f"
             ],
             [
              0.2222222222222222,
              "#7201a8"
             ],
             [
              0.3333333333333333,
              "#9c179e"
             ],
             [
              0.4444444444444444,
              "#bd3786"
             ],
             [
              0.5555555555555556,
              "#d8576b"
             ],
             [
              0.6666666666666666,
              "#ed7953"
             ],
             [
              0.7777777777777778,
              "#fb9f3a"
             ],
             [
              0.8888888888888888,
              "#fdca26"
             ],
             [
              1,
              "#f0f921"
             ]
            ],
            "type": "histogram2dcontour"
           }
          ],
          "mesh3d": [
           {
            "colorbar": {
             "outlinewidth": 0,
             "ticks": ""
            },
            "type": "mesh3d"
           }
          ],
          "parcoords": [
           {
            "line": {
             "colorbar": {
              "outlinewidth": 0,
              "ticks": ""
             }
            },
            "type": "parcoords"
           }
          ],
          "pie": [
           {
            "automargin": true,
            "type": "pie"
           }
          ],
          "scatter": [
           {
            "fillpattern": {
             "fillmode": "overlay",
             "size": 10,
             "solidity": 0.2
            },
            "type": "scatter"
           }
          ],
          "scatter3d": [
           {
            "line": {
             "colorbar": {
              "outlinewidth": 0,
              "ticks": ""
             }
            },
            "marker": {
             "colorbar": {
              "outlinewidth": 0,
              "ticks": ""
             }
            },
            "type": "scatter3d"
           }
          ],
          "scattercarpet": [
           {
            "marker": {
             "colorbar": {
              "outlinewidth": 0,
              "ticks": ""
             }
            },
            "type": "scattercarpet"
           }
          ],
          "scattergeo": [
           {
            "marker": {
             "colorbar": {
              "outlinewidth": 0,
              "ticks": ""
             }
            },
            "type": "scattergeo"
           }
          ],
          "scattergl": [
           {
            "marker": {
             "colorbar": {
              "outlinewidth": 0,
              "ticks": ""
             }
            },
            "type": "scattergl"
           }
          ],
          "scattermapbox": [
           {
            "marker": {
             "colorbar": {
              "outlinewidth": 0,
              "ticks": ""
             }
            },
            "type": "scattermapbox"
           }
          ],
          "scatterpolar": [
           {
            "marker": {
             "colorbar": {
              "outlinewidth": 0,
              "ticks": ""
             }
            },
            "type": "scatterpolar"
           }
          ],
          "scatterpolargl": [
           {
            "marker": {
             "colorbar": {
              "outlinewidth": 0,
              "ticks": ""
             }
            },
            "type": "scatterpolargl"
           }
          ],
          "scatterternary": [
           {
            "marker": {
             "colorbar": {
              "outlinewidth": 0,
              "ticks": ""
             }
            },
            "type": "scatterternary"
           }
          ],
          "surface": [
           {
            "colorbar": {
             "outlinewidth": 0,
             "ticks": ""
            },
            "colorscale": [
             [
              0,
              "#0d0887"
             ],
             [
              0.1111111111111111,
              "#46039f"
             ],
             [
              0.2222222222222222,
              "#7201a8"
             ],
             [
              0.3333333333333333,
              "#9c179e"
             ],
             [
              0.4444444444444444,
              "#bd3786"
             ],
             [
              0.5555555555555556,
              "#d8576b"
             ],
             [
              0.6666666666666666,
              "#ed7953"
             ],
             [
              0.7777777777777778,
              "#fb9f3a"
             ],
             [
              0.8888888888888888,
              "#fdca26"
             ],
             [
              1,
              "#f0f921"
             ]
            ],
            "type": "surface"
           }
          ],
          "table": [
           {
            "cells": {
             "fill": {
              "color": "#EBF0F8"
             },
             "line": {
              "color": "white"
             }
            },
            "header": {
             "fill": {
              "color": "#C8D4E3"
             },
             "line": {
              "color": "white"
             }
            },
            "type": "table"
           }
          ]
         },
         "layout": {
          "annotationdefaults": {
           "arrowcolor": "#2a3f5f",
           "arrowhead": 0,
           "arrowwidth": 1
          },
          "autotypenumbers": "strict",
          "coloraxis": {
           "colorbar": {
            "outlinewidth": 0,
            "ticks": ""
           }
          },
          "colorscale": {
           "diverging": [
            [
             0,
             "#8e0152"
            ],
            [
             0.1,
             "#c51b7d"
            ],
            [
             0.2,
             "#de77ae"
            ],
            [
             0.3,
             "#f1b6da"
            ],
            [
             0.4,
             "#fde0ef"
            ],
            [
             0.5,
             "#f7f7f7"
            ],
            [
             0.6,
             "#e6f5d0"
            ],
            [
             0.7,
             "#b8e186"
            ],
            [
             0.8,
             "#7fbc41"
            ],
            [
             0.9,
             "#4d9221"
            ],
            [
             1,
             "#276419"
            ]
           ],
           "sequential": [
            [
             0,
             "#0d0887"
            ],
            [
             0.1111111111111111,
             "#46039f"
            ],
            [
             0.2222222222222222,
             "#7201a8"
            ],
            [
             0.3333333333333333,
             "#9c179e"
            ],
            [
             0.4444444444444444,
             "#bd3786"
            ],
            [
             0.5555555555555556,
             "#d8576b"
            ],
            [
             0.6666666666666666,
             "#ed7953"
            ],
            [
             0.7777777777777778,
             "#fb9f3a"
            ],
            [
             0.8888888888888888,
             "#fdca26"
            ],
            [
             1,
             "#f0f921"
            ]
           ],
           "sequentialminus": [
            [
             0,
             "#0d0887"
            ],
            [
             0.1111111111111111,
             "#46039f"
            ],
            [
             0.2222222222222222,
             "#7201a8"
            ],
            [
             0.3333333333333333,
             "#9c179e"
            ],
            [
             0.4444444444444444,
             "#bd3786"
            ],
            [
             0.5555555555555556,
             "#d8576b"
            ],
            [
             0.6666666666666666,
             "#ed7953"
            ],
            [
             0.7777777777777778,
             "#fb9f3a"
            ],
            [
             0.8888888888888888,
             "#fdca26"
            ],
            [
             1,
             "#f0f921"
            ]
           ]
          },
          "colorway": [
           "#636efa",
           "#EF553B",
           "#00cc96",
           "#ab63fa",
           "#FFA15A",
           "#19d3f3",
           "#FF6692",
           "#B6E880",
           "#FF97FF",
           "#FECB52"
          ],
          "font": {
           "color": "#2a3f5f"
          },
          "geo": {
           "bgcolor": "white",
           "lakecolor": "white",
           "landcolor": "#E5ECF6",
           "showlakes": true,
           "showland": true,
           "subunitcolor": "white"
          },
          "hoverlabel": {
           "align": "left"
          },
          "hovermode": "closest",
          "mapbox": {
           "style": "light"
          },
          "paper_bgcolor": "white",
          "plot_bgcolor": "#E5ECF6",
          "polar": {
           "angularaxis": {
            "gridcolor": "white",
            "linecolor": "white",
            "ticks": ""
           },
           "bgcolor": "#E5ECF6",
           "radialaxis": {
            "gridcolor": "white",
            "linecolor": "white",
            "ticks": ""
           }
          },
          "scene": {
           "xaxis": {
            "backgroundcolor": "#E5ECF6",
            "gridcolor": "white",
            "gridwidth": 2,
            "linecolor": "white",
            "showbackground": true,
            "ticks": "",
            "zerolinecolor": "white"
           },
           "yaxis": {
            "backgroundcolor": "#E5ECF6",
            "gridcolor": "white",
            "gridwidth": 2,
            "linecolor": "white",
            "showbackground": true,
            "ticks": "",
            "zerolinecolor": "white"
           },
           "zaxis": {
            "backgroundcolor": "#E5ECF6",
            "gridcolor": "white",
            "gridwidth": 2,
            "linecolor": "white",
            "showbackground": true,
            "ticks": "",
            "zerolinecolor": "white"
           }
          },
          "shapedefaults": {
           "line": {
            "color": "#2a3f5f"
           }
          },
          "ternary": {
           "aaxis": {
            "gridcolor": "white",
            "linecolor": "white",
            "ticks": ""
           },
           "baxis": {
            "gridcolor": "white",
            "linecolor": "white",
            "ticks": ""
           },
           "bgcolor": "#E5ECF6",
           "caxis": {
            "gridcolor": "white",
            "linecolor": "white",
            "ticks": ""
           }
          },
          "title": {
           "x": 0.05
          },
          "xaxis": {
           "automargin": true,
           "gridcolor": "white",
           "linecolor": "white",
           "ticks": "",
           "title": {
            "standoff": 15
           },
           "zerolinecolor": "white",
           "zerolinewidth": 2
          },
          "yaxis": {
           "automargin": true,
           "gridcolor": "white",
           "linecolor": "white",
           "ticks": "",
           "title": {
            "standoff": 15
           },
           "zerolinecolor": "white",
           "zerolinewidth": 2
          }
         }
        },
        "title": {
         "y": 1
        }
       }
      }
     },
     "metadata": {},
     "output_type": "display_data"
    }
   ],
   "source": [
    "df = players_stats.loc[players_stats[\"Position\"] == positions[1]]\n",
    "min_value, max_value = get_min_max_value(df, columns)\n",
    "\n",
    "ROWS, COLUMNS = get_rows_columns(df, 4)\n",
    "\n",
    "fig = get_fig_subplots(df, ROWS, COLUMNS)\n",
    "for i, player_name in enumerate(df.index):\n",
    "    _df = df.loc[player_name, columns]\n",
    "    theta_list = get_theta_list(df, player_name, origin_columns, columns)\n",
    "\n",
    "    r, c = get_rc(i, COLUMNS)\n",
    "    fig.add_trace(\n",
    "        go.Scatterpolar(r=_df, theta=theta_list, fill=\"toself\", name=player_name),\n",
    "        row=r,\n",
    "        col=c,\n",
    "    )\n",
    "\n",
    "fig.update_layout(\n",
    "    height=400 * ROWS,\n",
    "    showlegend=False,\n",
    "    polar=dict(\n",
    "        radialaxis=dict(visible=True),\n",
    "    ),\n",
    "    title=dict(y=1),\n",
    ")\n",
    "fig.update_annotations(yshift=20)\n",
    "fig.update_polars(radialaxis=dict(range=[min_value - 0.2, max_value + 0.2]))\n",
    "fig.show()"
   ]
  },
  {
   "cell_type": "code",
   "execution_count": 15,
   "metadata": {},
   "outputs": [
    {
     "data": {
      "application/vnd.plotly.v1+json": {
       "config": {
        "plotlyServerURL": "https://plot.ly"
       },
       "data": [
        {
         "fill": "toself",
         "name": "kyeahoo",
         "r": [
          0.06104651162790696,
          0.5923987463104403,
          0.8879501313688116,
          0.11578373709448231,
          0,
          0,
          0,
          0.5
         ],
         "subplot": "polar",
         "theta": [
          "KDA - 1.58",
          "KP - 0.64",
          "KS - 0.25",
          "DPM - 381.85",
          "CSPM - 7.46",
          "GPM - 325.04",
          "GS - 0.21",
          "ChampionsPlayed - 4"
         ],
         "type": "scatterpolar"
        },
        {
         "fill": "toself",
         "name": "ShowMaker",
         "r": [
          1,
          1,
          0.9999999999999998,
          1,
          0.9751558031021688,
          1,
          0.8247632184978748,
          1
         ],
         "subplot": "polar2",
         "theta": [
          "KDA - 10.56",
          "KP - 0.77",
          "KS - 0.27",
          "DPM - 662.74",
          "CSPM - 9.24",
          "GPM - 421.23",
          "GS - 0.22",
          "ChampionsPlayed - 5"
         ],
         "type": "scatterpolar"
        },
        {
         "fill": "toself",
         "name": "Chovy",
         "r": [
          0.49335548172757476,
          0.7646553742877216,
          0.04916082991938642,
          0.5710130749048576,
          1,
          0.879813243645434,
          0.3714869513954202,
          1
         ],
         "subplot": "polar3",
         "theta": [
          "KDA - 5.71",
          "KP - 0.7",
          "KS - 0.17",
          "DPM - 526.46",
          "CSPM - 9.29",
          "GPM - 409.67",
          "GS - 0.21",
          "ChampionsPlayed - 5"
         ],
         "type": "scatterpolar"
        },
        {
         "fill": "toself",
         "name": "Zeka",
         "r": [
          0.48837209302325585,
          0.625051788427013,
          0.9386252045826511,
          0.4642670789884251,
          0.6305591425375479,
          0.6446458430336337,
          0.45880268007987546,
          1
         ],
         "subplot": "polar4",
         "theta": [
          "KDA - 5.67",
          "KP - 0.65",
          "KS - 0.26",
          "DPM - 492.55",
          "CSPM - 8.61",
          "GPM - 387.05",
          "GS - 0.22",
          "ChampionsPlayed - 5"
         ],
         "type": "scatterpolar"
        },
        {
         "fill": "toself",
         "name": "Bdd",
         "r": [
          0.5232558139534884,
          0.8391106200800995,
          0.827890785337593,
          0.7127437236619583,
          0.8019585016818143,
          0.9016049583945396,
          0.47409838500193935,
          1
         ],
         "subplot": "polar5",
         "theta": [
          "KDA - 6.0",
          "KP - 0.72",
          "KS - 0.25",
          "DPM - 571.48",
          "CSPM - 8.93",
          "GPM - 411.77",
          "GS - 0.22",
          "ChampionsPlayed - 5"
         ],
         "type": "scatterpolar"
        },
        {
         "fill": "toself",
         "name": "BuLLDoG",
         "r": [
          0.15448504983388706,
          0.6122082585278279,
          0.2591185410334347,
          0.6088384105638045,
          0.9066756937752336,
          0.8153686366288344,
          0.7991919402353709,
          1
         ],
         "subplot": "polar6",
         "theta": [
          "KDA - 2.48",
          "KP - 0.65",
          "KS - 0.19",
          "DPM - 538.48",
          "CSPM - 9.12",
          "GPM - 403.47",
          "GS - 0.22",
          "ChampionsPlayed - 5"
         ],
         "type": "scatterpolar"
        },
        {
         "fill": "toself",
         "name": "Clozer",
         "r": [
          0.15973072215422274,
          0.833998767383906,
          0.32064601007122384,
          0.43239545578662564,
          0.9588669959724401,
          0.6238957499965387,
          1,
          1
         ],
         "subplot": "polar7",
         "theta": [
          "KDA - 2.53",
          "KP - 0.72",
          "KS - 0.19",
          "DPM - 482.42",
          "CSPM - 9.21",
          "GPM - 385.05",
          "GS - 0.23",
          "ChampionsPlayed - 5"
         ],
         "type": "scatterpolar"
        },
        {
         "fill": "toself",
         "name": "Quad",
         "r": [
          0.08261933904528763,
          0.50595723845275,
          0.03426360873169343,
          0,
          0.3999613225961154,
          0.24811997122834972,
          0.08241079753188885,
          0.5
         ],
         "subplot": "polar8",
         "theta": [
          "KDA - 1.79",
          "KP - 0.62",
          "KS - 0.16",
          "DPM - 345.06",
          "CSPM - 8.19",
          "GPM - 348.91",
          "GS - 0.21",
          "ChampionsPlayed - 4"
         ],
         "type": "scatterpolar"
        },
        {
         "fill": "toself",
         "name": "Ivory",
         "r": [
          0,
          0,
          0.06281661600810473,
          0.09135158116606479,
          0.6805841725904926,
          0.2886801558704968,
          0.11583224662491354,
          0
         ],
         "subplot": "polar9",
         "theta": [
          "KDA - 1.0",
          "KP - 0.47",
          "KS - 0.17",
          "DPM - 374.08",
          "CSPM - 8.7",
          "GPM - 352.81",
          "GS - 0.21",
          "ChampionsPlayed - 3"
         ],
         "type": "scatterpolar"
        },
        {
         "fill": "toself",
         "name": "Karis",
         "r": [
          0.1308139534883721,
          0.8459605026929982,
          0,
          0.07064120668444462,
          0.5239630305722862,
          0.25677277979342117,
          0.139829134009263,
          0
         ],
         "subplot": "polar10",
         "theta": [
          "KDA - 2.25",
          "KP - 0.72",
          "KS - 0.16",
          "DPM - 367.5",
          "CSPM - 8.42",
          "GPM - 349.74",
          "GS - 0.21",
          "ChampionsPlayed - 3"
         ],
         "type": "scatterpolar"
        },
        {
         "fill": "toself",
         "name": "Faker",
         "r": [
          0.39398084815321477,
          0.658739735703564,
          0.6549404554287699,
          0.8142654128257873,
          0.6420115692415447,
          0.9065068086271095,
          0.5380233022949401,
          1
         ],
         "subplot": "polar11",
         "theta": [
          "KDA - 4.76",
          "KP - 0.66",
          "KS - 0.23",
          "DPM - 603.73",
          "CSPM - 8.63",
          "GPM - 412.24",
          "GS - 0.22",
          "ChampionsPlayed - 5"
         ],
         "type": "scatterpolar"
        }
       ],
       "layout": {
        "annotations": [
         {
          "font": {
           "size": 16
          },
          "showarrow": false,
          "text": "kyeahoo",
          "x": 0.10625,
          "xanchor": "center",
          "xref": "paper",
          "y": 1,
          "yanchor": "bottom",
          "yref": "paper",
          "yshift": 20
         },
         {
          "font": {
           "size": 16
          },
          "showarrow": false,
          "text": "ShowMaker",
          "x": 0.36875,
          "xanchor": "center",
          "xref": "paper",
          "y": 1,
          "yanchor": "bottom",
          "yref": "paper",
          "yshift": 20
         },
         {
          "font": {
           "size": 16
          },
          "showarrow": false,
          "text": "Chovy",
          "x": 0.6312500000000001,
          "xanchor": "center",
          "xref": "paper",
          "y": 1,
          "yanchor": "bottom",
          "yref": "paper",
          "yshift": 20
         },
         {
          "font": {
           "size": 16
          },
          "showarrow": false,
          "text": "Zeka",
          "x": 0.89375,
          "xanchor": "center",
          "xref": "paper",
          "y": 1,
          "yanchor": "bottom",
          "yref": "paper",
          "yshift": 20
         },
         {
          "font": {
           "size": 16
          },
          "showarrow": false,
          "text": "Bdd",
          "x": 0.10625,
          "xanchor": "center",
          "xref": "paper",
          "y": 0.6111111111111112,
          "yanchor": "bottom",
          "yref": "paper",
          "yshift": 20
         },
         {
          "font": {
           "size": 16
          },
          "showarrow": false,
          "text": "BuLLDoG",
          "x": 0.36875,
          "xanchor": "center",
          "xref": "paper",
          "y": 0.6111111111111112,
          "yanchor": "bottom",
          "yref": "paper",
          "yshift": 20
         },
         {
          "font": {
           "size": 16
          },
          "showarrow": false,
          "text": "Clozer",
          "x": 0.6312500000000001,
          "xanchor": "center",
          "xref": "paper",
          "y": 0.6111111111111112,
          "yanchor": "bottom",
          "yref": "paper",
          "yshift": 20
         },
         {
          "font": {
           "size": 16
          },
          "showarrow": false,
          "text": "Quad",
          "x": 0.89375,
          "xanchor": "center",
          "xref": "paper",
          "y": 0.6111111111111112,
          "yanchor": "bottom",
          "yref": "paper",
          "yshift": 20
         },
         {
          "font": {
           "size": 16
          },
          "showarrow": false,
          "text": "Ivory",
          "x": 0.10625,
          "xanchor": "center",
          "xref": "paper",
          "y": 0.22222222222222224,
          "yanchor": "bottom",
          "yref": "paper",
          "yshift": 20
         },
         {
          "font": {
           "size": 16
          },
          "showarrow": false,
          "text": "Karis",
          "x": 0.36875,
          "xanchor": "center",
          "xref": "paper",
          "y": 0.22222222222222224,
          "yanchor": "bottom",
          "yref": "paper",
          "yshift": 20
         },
         {
          "font": {
           "size": 16
          },
          "showarrow": false,
          "text": "Faker",
          "x": 0.6312500000000001,
          "xanchor": "center",
          "xref": "paper",
          "y": 0.22222222222222224,
          "yanchor": "bottom",
          "yref": "paper",
          "yshift": 20
         }
        ],
        "height": 1200,
        "polar": {
         "domain": {
          "x": [
           0,
           0.2125
          ],
          "y": [
           0.7777777777777778,
           1
          ]
         },
         "radialaxis": {
          "range": [
           -0.2,
           1.2
          ],
          "visible": true
         }
        },
        "polar10": {
         "domain": {
          "x": [
           0.2625,
           0.475
          ],
          "y": [
           0,
           0.22222222222222224
          ]
         },
         "radialaxis": {
          "range": [
           -0.2,
           1.2
          ]
         }
        },
        "polar11": {
         "domain": {
          "x": [
           0.525,
           0.7375
          ],
          "y": [
           0,
           0.22222222222222224
          ]
         },
         "radialaxis": {
          "range": [
           -0.2,
           1.2
          ]
         }
        },
        "polar12": {
         "domain": {
          "x": [
           0.7875,
           1
          ],
          "y": [
           0,
           0.22222222222222224
          ]
         },
         "radialaxis": {
          "range": [
           -0.2,
           1.2
          ]
         }
        },
        "polar2": {
         "domain": {
          "x": [
           0.2625,
           0.475
          ],
          "y": [
           0.7777777777777778,
           1
          ]
         },
         "radialaxis": {
          "range": [
           -0.2,
           1.2
          ]
         }
        },
        "polar3": {
         "domain": {
          "x": [
           0.525,
           0.7375
          ],
          "y": [
           0.7777777777777778,
           1
          ]
         },
         "radialaxis": {
          "range": [
           -0.2,
           1.2
          ]
         }
        },
        "polar4": {
         "domain": {
          "x": [
           0.7875,
           1
          ],
          "y": [
           0.7777777777777778,
           1
          ]
         },
         "radialaxis": {
          "range": [
           -0.2,
           1.2
          ]
         }
        },
        "polar5": {
         "domain": {
          "x": [
           0,
           0.2125
          ],
          "y": [
           0.3888888888888889,
           0.6111111111111112
          ]
         },
         "radialaxis": {
          "range": [
           -0.2,
           1.2
          ]
         }
        },
        "polar6": {
         "domain": {
          "x": [
           0.2625,
           0.475
          ],
          "y": [
           0.3888888888888889,
           0.6111111111111112
          ]
         },
         "radialaxis": {
          "range": [
           -0.2,
           1.2
          ]
         }
        },
        "polar7": {
         "domain": {
          "x": [
           0.525,
           0.7375
          ],
          "y": [
           0.3888888888888889,
           0.6111111111111112
          ]
         },
         "radialaxis": {
          "range": [
           -0.2,
           1.2
          ]
         }
        },
        "polar8": {
         "domain": {
          "x": [
           0.7875,
           1
          ],
          "y": [
           0.3888888888888889,
           0.6111111111111112
          ]
         },
         "radialaxis": {
          "range": [
           -0.2,
           1.2
          ]
         }
        },
        "polar9": {
         "domain": {
          "x": [
           0,
           0.2125
          ],
          "y": [
           0,
           0.22222222222222224
          ]
         },
         "radialaxis": {
          "range": [
           -0.2,
           1.2
          ]
         }
        },
        "showlegend": false,
        "template": {
         "data": {
          "bar": [
           {
            "error_x": {
             "color": "#2a3f5f"
            },
            "error_y": {
             "color": "#2a3f5f"
            },
            "marker": {
             "line": {
              "color": "#E5ECF6",
              "width": 0.5
             },
             "pattern": {
              "fillmode": "overlay",
              "size": 10,
              "solidity": 0.2
             }
            },
            "type": "bar"
           }
          ],
          "barpolar": [
           {
            "marker": {
             "line": {
              "color": "#E5ECF6",
              "width": 0.5
             },
             "pattern": {
              "fillmode": "overlay",
              "size": 10,
              "solidity": 0.2
             }
            },
            "type": "barpolar"
           }
          ],
          "carpet": [
           {
            "aaxis": {
             "endlinecolor": "#2a3f5f",
             "gridcolor": "white",
             "linecolor": "white",
             "minorgridcolor": "white",
             "startlinecolor": "#2a3f5f"
            },
            "baxis": {
             "endlinecolor": "#2a3f5f",
             "gridcolor": "white",
             "linecolor": "white",
             "minorgridcolor": "white",
             "startlinecolor": "#2a3f5f"
            },
            "type": "carpet"
           }
          ],
          "choropleth": [
           {
            "colorbar": {
             "outlinewidth": 0,
             "ticks": ""
            },
            "type": "choropleth"
           }
          ],
          "contour": [
           {
            "colorbar": {
             "outlinewidth": 0,
             "ticks": ""
            },
            "colorscale": [
             [
              0,
              "#0d0887"
             ],
             [
              0.1111111111111111,
              "#46039f"
             ],
             [
              0.2222222222222222,
              "#7201a8"
             ],
             [
              0.3333333333333333,
              "#9c179e"
             ],
             [
              0.4444444444444444,
              "#bd3786"
             ],
             [
              0.5555555555555556,
              "#d8576b"
             ],
             [
              0.6666666666666666,
              "#ed7953"
             ],
             [
              0.7777777777777778,
              "#fb9f3a"
             ],
             [
              0.8888888888888888,
              "#fdca26"
             ],
             [
              1,
              "#f0f921"
             ]
            ],
            "type": "contour"
           }
          ],
          "contourcarpet": [
           {
            "colorbar": {
             "outlinewidth": 0,
             "ticks": ""
            },
            "type": "contourcarpet"
           }
          ],
          "heatmap": [
           {
            "colorbar": {
             "outlinewidth": 0,
             "ticks": ""
            },
            "colorscale": [
             [
              0,
              "#0d0887"
             ],
             [
              0.1111111111111111,
              "#46039f"
             ],
             [
              0.2222222222222222,
              "#7201a8"
             ],
             [
              0.3333333333333333,
              "#9c179e"
             ],
             [
              0.4444444444444444,
              "#bd3786"
             ],
             [
              0.5555555555555556,
              "#d8576b"
             ],
             [
              0.6666666666666666,
              "#ed7953"
             ],
             [
              0.7777777777777778,
              "#fb9f3a"
             ],
             [
              0.8888888888888888,
              "#fdca26"
             ],
             [
              1,
              "#f0f921"
             ]
            ],
            "type": "heatmap"
           }
          ],
          "heatmapgl": [
           {
            "colorbar": {
             "outlinewidth": 0,
             "ticks": ""
            },
            "colorscale": [
             [
              0,
              "#0d0887"
             ],
             [
              0.1111111111111111,
              "#46039f"
             ],
             [
              0.2222222222222222,
              "#7201a8"
             ],
             [
              0.3333333333333333,
              "#9c179e"
             ],
             [
              0.4444444444444444,
              "#bd3786"
             ],
             [
              0.5555555555555556,
              "#d8576b"
             ],
             [
              0.6666666666666666,
              "#ed7953"
             ],
             [
              0.7777777777777778,
              "#fb9f3a"
             ],
             [
              0.8888888888888888,
              "#fdca26"
             ],
             [
              1,
              "#f0f921"
             ]
            ],
            "type": "heatmapgl"
           }
          ],
          "histogram": [
           {
            "marker": {
             "pattern": {
              "fillmode": "overlay",
              "size": 10,
              "solidity": 0.2
             }
            },
            "type": "histogram"
           }
          ],
          "histogram2d": [
           {
            "colorbar": {
             "outlinewidth": 0,
             "ticks": ""
            },
            "colorscale": [
             [
              0,
              "#0d0887"
             ],
             [
              0.1111111111111111,
              "#46039f"
             ],
             [
              0.2222222222222222,
              "#7201a8"
             ],
             [
              0.3333333333333333,
              "#9c179e"
             ],
             [
              0.4444444444444444,
              "#bd3786"
             ],
             [
              0.5555555555555556,
              "#d8576b"
             ],
             [
              0.6666666666666666,
              "#ed7953"
             ],
             [
              0.7777777777777778,
              "#fb9f3a"
             ],
             [
              0.8888888888888888,
              "#fdca26"
             ],
             [
              1,
              "#f0f921"
             ]
            ],
            "type": "histogram2d"
           }
          ],
          "histogram2dcontour": [
           {
            "colorbar": {
             "outlinewidth": 0,
             "ticks": ""
            },
            "colorscale": [
             [
              0,
              "#0d0887"
             ],
             [
              0.1111111111111111,
              "#46039f"
             ],
             [
              0.2222222222222222,
              "#7201a8"
             ],
             [
              0.3333333333333333,
              "#9c179e"
             ],
             [
              0.4444444444444444,
              "#bd3786"
             ],
             [
              0.5555555555555556,
              "#d8576b"
             ],
             [
              0.6666666666666666,
              "#ed7953"
             ],
             [
              0.7777777777777778,
              "#fb9f3a"
             ],
             [
              0.8888888888888888,
              "#fdca26"
             ],
             [
              1,
              "#f0f921"
             ]
            ],
            "type": "histogram2dcontour"
           }
          ],
          "mesh3d": [
           {
            "colorbar": {
             "outlinewidth": 0,
             "ticks": ""
            },
            "type": "mesh3d"
           }
          ],
          "parcoords": [
           {
            "line": {
             "colorbar": {
              "outlinewidth": 0,
              "ticks": ""
             }
            },
            "type": "parcoords"
           }
          ],
          "pie": [
           {
            "automargin": true,
            "type": "pie"
           }
          ],
          "scatter": [
           {
            "fillpattern": {
             "fillmode": "overlay",
             "size": 10,
             "solidity": 0.2
            },
            "type": "scatter"
           }
          ],
          "scatter3d": [
           {
            "line": {
             "colorbar": {
              "outlinewidth": 0,
              "ticks": ""
             }
            },
            "marker": {
             "colorbar": {
              "outlinewidth": 0,
              "ticks": ""
             }
            },
            "type": "scatter3d"
           }
          ],
          "scattercarpet": [
           {
            "marker": {
             "colorbar": {
              "outlinewidth": 0,
              "ticks": ""
             }
            },
            "type": "scattercarpet"
           }
          ],
          "scattergeo": [
           {
            "marker": {
             "colorbar": {
              "outlinewidth": 0,
              "ticks": ""
             }
            },
            "type": "scattergeo"
           }
          ],
          "scattergl": [
           {
            "marker": {
             "colorbar": {
              "outlinewidth": 0,
              "ticks": ""
             }
            },
            "type": "scattergl"
           }
          ],
          "scattermapbox": [
           {
            "marker": {
             "colorbar": {
              "outlinewidth": 0,
              "ticks": ""
             }
            },
            "type": "scattermapbox"
           }
          ],
          "scatterpolar": [
           {
            "marker": {
             "colorbar": {
              "outlinewidth": 0,
              "ticks": ""
             }
            },
            "type": "scatterpolar"
           }
          ],
          "scatterpolargl": [
           {
            "marker": {
             "colorbar": {
              "outlinewidth": 0,
              "ticks": ""
             }
            },
            "type": "scatterpolargl"
           }
          ],
          "scatterternary": [
           {
            "marker": {
             "colorbar": {
              "outlinewidth": 0,
              "ticks": ""
             }
            },
            "type": "scatterternary"
           }
          ],
          "surface": [
           {
            "colorbar": {
             "outlinewidth": 0,
             "ticks": ""
            },
            "colorscale": [
             [
              0,
              "#0d0887"
             ],
             [
              0.1111111111111111,
              "#46039f"
             ],
             [
              0.2222222222222222,
              "#7201a8"
             ],
             [
              0.3333333333333333,
              "#9c179e"
             ],
             [
              0.4444444444444444,
              "#bd3786"
             ],
             [
              0.5555555555555556,
              "#d8576b"
             ],
             [
              0.6666666666666666,
              "#ed7953"
             ],
             [
              0.7777777777777778,
              "#fb9f3a"
             ],
             [
              0.8888888888888888,
              "#fdca26"
             ],
             [
              1,
              "#f0f921"
             ]
            ],
            "type": "surface"
           }
          ],
          "table": [
           {
            "cells": {
             "fill": {
              "color": "#EBF0F8"
             },
             "line": {
              "color": "white"
             }
            },
            "header": {
             "fill": {
              "color": "#C8D4E3"
             },
             "line": {
              "color": "white"
             }
            },
            "type": "table"
           }
          ]
         },
         "layout": {
          "annotationdefaults": {
           "arrowcolor": "#2a3f5f",
           "arrowhead": 0,
           "arrowwidth": 1
          },
          "autotypenumbers": "strict",
          "coloraxis": {
           "colorbar": {
            "outlinewidth": 0,
            "ticks": ""
           }
          },
          "colorscale": {
           "diverging": [
            [
             0,
             "#8e0152"
            ],
            [
             0.1,
             "#c51b7d"
            ],
            [
             0.2,
             "#de77ae"
            ],
            [
             0.3,
             "#f1b6da"
            ],
            [
             0.4,
             "#fde0ef"
            ],
            [
             0.5,
             "#f7f7f7"
            ],
            [
             0.6,
             "#e6f5d0"
            ],
            [
             0.7,
             "#b8e186"
            ],
            [
             0.8,
             "#7fbc41"
            ],
            [
             0.9,
             "#4d9221"
            ],
            [
             1,
             "#276419"
            ]
           ],
           "sequential": [
            [
             0,
             "#0d0887"
            ],
            [
             0.1111111111111111,
             "#46039f"
            ],
            [
             0.2222222222222222,
             "#7201a8"
            ],
            [
             0.3333333333333333,
             "#9c179e"
            ],
            [
             0.4444444444444444,
             "#bd3786"
            ],
            [
             0.5555555555555556,
             "#d8576b"
            ],
            [
             0.6666666666666666,
             "#ed7953"
            ],
            [
             0.7777777777777778,
             "#fb9f3a"
            ],
            [
             0.8888888888888888,
             "#fdca26"
            ],
            [
             1,
             "#f0f921"
            ]
           ],
           "sequentialminus": [
            [
             0,
             "#0d0887"
            ],
            [
             0.1111111111111111,
             "#46039f"
            ],
            [
             0.2222222222222222,
             "#7201a8"
            ],
            [
             0.3333333333333333,
             "#9c179e"
            ],
            [
             0.4444444444444444,
             "#bd3786"
            ],
            [
             0.5555555555555556,
             "#d8576b"
            ],
            [
             0.6666666666666666,
             "#ed7953"
            ],
            [
             0.7777777777777778,
             "#fb9f3a"
            ],
            [
             0.8888888888888888,
             "#fdca26"
            ],
            [
             1,
             "#f0f921"
            ]
           ]
          },
          "colorway": [
           "#636efa",
           "#EF553B",
           "#00cc96",
           "#ab63fa",
           "#FFA15A",
           "#19d3f3",
           "#FF6692",
           "#B6E880",
           "#FF97FF",
           "#FECB52"
          ],
          "font": {
           "color": "#2a3f5f"
          },
          "geo": {
           "bgcolor": "white",
           "lakecolor": "white",
           "landcolor": "#E5ECF6",
           "showlakes": true,
           "showland": true,
           "subunitcolor": "white"
          },
          "hoverlabel": {
           "align": "left"
          },
          "hovermode": "closest",
          "mapbox": {
           "style": "light"
          },
          "paper_bgcolor": "white",
          "plot_bgcolor": "#E5ECF6",
          "polar": {
           "angularaxis": {
            "gridcolor": "white",
            "linecolor": "white",
            "ticks": ""
           },
           "bgcolor": "#E5ECF6",
           "radialaxis": {
            "gridcolor": "white",
            "linecolor": "white",
            "ticks": ""
           }
          },
          "scene": {
           "xaxis": {
            "backgroundcolor": "#E5ECF6",
            "gridcolor": "white",
            "gridwidth": 2,
            "linecolor": "white",
            "showbackground": true,
            "ticks": "",
            "zerolinecolor": "white"
           },
           "yaxis": {
            "backgroundcolor": "#E5ECF6",
            "gridcolor": "white",
            "gridwidth": 2,
            "linecolor": "white",
            "showbackground": true,
            "ticks": "",
            "zerolinecolor": "white"
           },
           "zaxis": {
            "backgroundcolor": "#E5ECF6",
            "gridcolor": "white",
            "gridwidth": 2,
            "linecolor": "white",
            "showbackground": true,
            "ticks": "",
            "zerolinecolor": "white"
           }
          },
          "shapedefaults": {
           "line": {
            "color": "#2a3f5f"
           }
          },
          "ternary": {
           "aaxis": {
            "gridcolor": "white",
            "linecolor": "white",
            "ticks": ""
           },
           "baxis": {
            "gridcolor": "white",
            "linecolor": "white",
            "ticks": ""
           },
           "bgcolor": "#E5ECF6",
           "caxis": {
            "gridcolor": "white",
            "linecolor": "white",
            "ticks": ""
           }
          },
          "title": {
           "x": 0.05
          },
          "xaxis": {
           "automargin": true,
           "gridcolor": "white",
           "linecolor": "white",
           "ticks": "",
           "title": {
            "standoff": 15
           },
           "zerolinecolor": "white",
           "zerolinewidth": 2
          },
          "yaxis": {
           "automargin": true,
           "gridcolor": "white",
           "linecolor": "white",
           "ticks": "",
           "title": {
            "standoff": 15
           },
           "zerolinecolor": "white",
           "zerolinewidth": 2
          }
         }
        },
        "title": {
         "y": 1
        }
       }
      }
     },
     "metadata": {},
     "output_type": "display_data"
    }
   ],
   "source": [
    "df = players_stats.loc[players_stats[\"Position\"] == positions[2]]\n",
    "min_value, max_value = get_min_max_value(df, columns)\n",
    "\n",
    "ROWS, COLUMNS = get_rows_columns(df, 4)\n",
    "\n",
    "fig = get_fig_subplots(df, ROWS, COLUMNS)\n",
    "for i, player_name in enumerate(df.index):\n",
    "    _df = df.loc[player_name, columns]\n",
    "    theta_list = get_theta_list(df, player_name, origin_columns, columns)\n",
    "\n",
    "    r, c = get_rc(i, COLUMNS)\n",
    "    fig.add_trace(\n",
    "        go.Scatterpolar(r=_df, theta=theta_list, fill=\"toself\", name=player_name),\n",
    "        row=r,\n",
    "        col=c,\n",
    "    )\n",
    "\n",
    "fig.update_layout(\n",
    "    height=400 * ROWS,\n",
    "    showlegend=False,\n",
    "    polar=dict(\n",
    "        radialaxis=dict(visible=True),\n",
    "    ),\n",
    "    title=dict(y=1),\n",
    ")\n",
    "fig.update_annotations(yshift=20)\n",
    "fig.update_polars(radialaxis=dict(range=[min_value - 0.2, max_value + 0.2]))\n",
    "fig.show()"
   ]
  },
  {
   "cell_type": "code",
   "execution_count": 16,
   "metadata": {},
   "outputs": [
    {
     "data": {
      "application/vnd.plotly.v1+json": {
       "config": {
        "plotlyServerURL": "https://plot.ly"
       },
       "data": [
        {
         "fill": "toself",
         "name": "Paduck",
         "r": [
          0,
          0.36150372412175225,
          0,
          0.6765740427750713,
          0,
          0,
          0.1207220784381473,
          0.75
         ],
         "subplot": "polar",
         "theta": [
          "KDA - 1.3",
          "KP - 0.66",
          "KS - 0.29",
          "DPM - 674.61",
          "CSPM - 8.77",
          "GPM - 380.39",
          "GS - 0.24",
          "ChampionsPlayed - 5"
         ],
         "type": "scatterpolar"
        },
        {
         "fill": "toself",
         "name": "Deft",
         "r": [
          0.655925155925156,
          0.8058988301202832,
          0.572745227123107,
          1.0000000000000002,
          0.5743688694178175,
          1.0000000000000004,
          1,
          1
         ],
         "subplot": "polar2",
         "theta": [
          "KDA - 6.15",
          "KP - 0.76",
          "KS - 0.43",
          "DPM - 784.27",
          "CSPM - 9.98",
          "GPM - 514.73",
          "GS - 0.27",
          "ChampionsPlayed - 6"
         ],
         "type": "scatterpolar"
        },
        {
         "fill": "toself",
         "name": "Rahel",
         "r": [
          0.12162162162162163,
          0,
          0.327431481930633,
          0.009621141017498891,
          0.6123405495092733,
          0.45832316907122017,
          0.4736359987377323,
          0.25
         ],
         "subplot": "polar3",
         "theta": [
          "KDA - 2.2",
          "KP - 0.58",
          "KS - 0.37",
          "DPM - 448.47",
          "CSPM - 10.06",
          "GPM - 441.96",
          "GS - 0.25",
          "ChampionsPlayed - 3"
         ],
         "type": "scatterpolar"
        },
        {
         "fill": "toself",
         "name": "Peyz",
         "r": [
          0.6663201663201664,
          0.5523694899954865,
          0.527148867962332,
          0.48274694386104344,
          0.67521513160903,
          0.7101812445029556,
          0.34848618838221945,
          1
         ],
         "subplot": "polar4",
         "theta": [
          "KDA - 6.23",
          "KP - 0.7",
          "KS - 0.42",
          "DPM - 608.89",
          "CSPM - 10.2",
          "GPM - 475.8",
          "GS - 0.25",
          "ChampionsPlayed - 6"
         ],
         "type": "scatterpolar"
        },
        {
         "fill": "toself",
         "name": "Viper",
         "r": [
          0.5207900207900209,
          0.2875632153313812,
          0.2758330379298122,
          0.728847895350121,
          0.7604964107540475,
          0.5733506821216556,
          0.6017398805576253,
          0.25
         ],
         "subplot": "polar5",
         "theta": [
          "KDA - 5.15",
          "KP - 0.64",
          "KS - 0.36",
          "DPM - 692.33",
          "CSPM - 10.38",
          "GPM - 457.41",
          "GS - 0.26",
          "ChampionsPlayed - 3"
         ],
         "type": "scatterpolar"
        },
        {
         "fill": "toself",
         "name": "Aiming",
         "r": [
          0.5193050193050194,
          0.16050039925472426,
          0.14947418173224625,
          0.22437402616744206,
          0.646735223425674,
          0.7145434988797783,
          0.39043357770077236,
          0.5
         ],
         "subplot": "polar6",
         "theta": [
          "KDA - 5.14",
          "KP - 0.62",
          "KS - 0.32",
          "DPM - 521.28",
          "CSPM - 10.14",
          "GPM - 476.38",
          "GS - 0.25",
          "ChampionsPlayed - 4"
         ],
         "type": "scatterpolar"
        },
        {
         "fill": "toself",
         "name": "Taeyoon",
         "r": [
          0.24474474474474475,
          0.5332179930795844,
          0.15034562211981584,
          0.20897681215574426,
          0.4336297839337604,
          0.37391557151366683,
          0,
          1
         ],
         "subplot": "polar7",
         "theta": [
          "KDA - 3.11",
          "KP - 0.7",
          "KS - 0.32",
          "DPM - 516.06",
          "CSPM - 9.69",
          "GPM - 430.62",
          "GS - 0.24",
          "ChampionsPlayed - 6"
         ],
         "type": "scatterpolar"
        },
        {
         "fill": "toself",
         "name": "Teddy",
         "r": [
          0.31081081081081086,
          1,
          0.7727491574386132,
          0.341581255556223,
          0.5510780171381366,
          0.4168343753510597,
          0.5821350005082948,
          0.5
         ],
         "subplot": "polar8",
         "theta": [
          "KDA - 3.6",
          "KP - 0.81",
          "KS - 0.48",
          "DPM - 561.02",
          "CSPM - 9.93",
          "GPM - 436.39",
          "GS - 0.26",
          "ChampionsPlayed - 4"
         ],
         "type": "scatterpolar"
        },
        {
         "fill": "toself",
         "name": "Jiwoo",
         "r": [
          0.07207207207207206,
          0.6800461361014989,
          1.0000000000000002,
          0.17529559172021636,
          0.40849266102418014,
          0.4490404320878656,
          0.790746747587729,
          0
         ],
         "subplot": "polar9",
         "theta": [
          "KDA - 1.83",
          "KP - 0.73",
          "KS - 0.53",
          "DPM - 504.64",
          "CSPM - 9.63",
          "GPM - 440.71",
          "GS - 0.26",
          "ChampionsPlayed - 2"
         ],
         "type": "scatterpolar"
        },
        {
         "fill": "toself",
         "name": "vital",
         "r": [
          0.11538461538461539,
          0.5332179930795844,
          0.45622119815668216,
          0,
          0.905450659717423,
          0.43636514723702957,
          0.8356253799391986,
          0.5
         ],
         "subplot": "polar10",
         "theta": [
          "KDA - 2.15",
          "KP - 0.7",
          "KS - 0.4",
          "DPM - 445.2",
          "CSPM - 10.69",
          "GPM - 439.01",
          "GS - 0.26",
          "ChampionsPlayed - 4"
         ],
         "type": "scatterpolar"
        },
        {
         "fill": "toself",
         "name": "Hena",
         "r": [
          0.19854469854469856,
          0.33299779804970076,
          0.15961457896941744,
          0.278613763372465,
          0.5958776501673899,
          0.24468470653929808,
          0.26383214021200985,
          0
         ],
         "subplot": "polar11",
         "theta": [
          "KDA - 2.77",
          "KP - 0.65",
          "KS - 0.33",
          "DPM - 539.67",
          "CSPM - 10.03",
          "GPM - 413.26",
          "GS - 0.25",
          "ChampionsPlayed - 2"
         ],
         "type": "scatterpolar"
        },
        {
         "fill": "toself",
         "name": "Gumayusi",
         "r": [
          1,
          0.5909864427931248,
          0.3626199289869305,
          0.7355556222642392,
          0.9999999999999991,
          0.9333872438378719,
          0.8729559898478918,
          1
         ],
         "subplot": "polar12",
         "theta": [
          "KDA - 8.7",
          "KP - 0.71",
          "KS - 0.38",
          "DPM - 694.61",
          "CSPM - 10.89",
          "GPM - 505.78",
          "GS - 0.26",
          "ChampionsPlayed - 6"
         ],
         "type": "scatterpolar"
        }
       ],
       "layout": {
        "annotations": [
         {
          "font": {
           "size": 16
          },
          "showarrow": false,
          "text": "Paduck",
          "x": 0.10625,
          "xanchor": "center",
          "xref": "paper",
          "y": 1,
          "yanchor": "bottom",
          "yref": "paper",
          "yshift": 20
         },
         {
          "font": {
           "size": 16
          },
          "showarrow": false,
          "text": "Deft",
          "x": 0.36875,
          "xanchor": "center",
          "xref": "paper",
          "y": 1,
          "yanchor": "bottom",
          "yref": "paper",
          "yshift": 20
         },
         {
          "font": {
           "size": 16
          },
          "showarrow": false,
          "text": "Rahel",
          "x": 0.6312500000000001,
          "xanchor": "center",
          "xref": "paper",
          "y": 1,
          "yanchor": "bottom",
          "yref": "paper",
          "yshift": 20
         },
         {
          "font": {
           "size": 16
          },
          "showarrow": false,
          "text": "Peyz",
          "x": 0.89375,
          "xanchor": "center",
          "xref": "paper",
          "y": 1,
          "yanchor": "bottom",
          "yref": "paper",
          "yshift": 20
         },
         {
          "font": {
           "size": 16
          },
          "showarrow": false,
          "text": "Viper",
          "x": 0.10625,
          "xanchor": "center",
          "xref": "paper",
          "y": 0.6111111111111112,
          "yanchor": "bottom",
          "yref": "paper",
          "yshift": 20
         },
         {
          "font": {
           "size": 16
          },
          "showarrow": false,
          "text": "Aiming",
          "x": 0.36875,
          "xanchor": "center",
          "xref": "paper",
          "y": 0.6111111111111112,
          "yanchor": "bottom",
          "yref": "paper",
          "yshift": 20
         },
         {
          "font": {
           "size": 16
          },
          "showarrow": false,
          "text": "Taeyoon",
          "x": 0.6312500000000001,
          "xanchor": "center",
          "xref": "paper",
          "y": 0.6111111111111112,
          "yanchor": "bottom",
          "yref": "paper",
          "yshift": 20
         },
         {
          "font": {
           "size": 16
          },
          "showarrow": false,
          "text": "Teddy",
          "x": 0.89375,
          "xanchor": "center",
          "xref": "paper",
          "y": 0.6111111111111112,
          "yanchor": "bottom",
          "yref": "paper",
          "yshift": 20
         },
         {
          "font": {
           "size": 16
          },
          "showarrow": false,
          "text": "Jiwoo",
          "x": 0.10625,
          "xanchor": "center",
          "xref": "paper",
          "y": 0.22222222222222224,
          "yanchor": "bottom",
          "yref": "paper",
          "yshift": 20
         },
         {
          "font": {
           "size": 16
          },
          "showarrow": false,
          "text": "vital",
          "x": 0.36875,
          "xanchor": "center",
          "xref": "paper",
          "y": 0.22222222222222224,
          "yanchor": "bottom",
          "yref": "paper",
          "yshift": 20
         },
         {
          "font": {
           "size": 16
          },
          "showarrow": false,
          "text": "Hena",
          "x": 0.6312500000000001,
          "xanchor": "center",
          "xref": "paper",
          "y": 0.22222222222222224,
          "yanchor": "bottom",
          "yref": "paper",
          "yshift": 20
         },
         {
          "font": {
           "size": 16
          },
          "showarrow": false,
          "text": "Gumayusi",
          "x": 0.89375,
          "xanchor": "center",
          "xref": "paper",
          "y": 0.22222222222222224,
          "yanchor": "bottom",
          "yref": "paper",
          "yshift": 20
         }
        ],
        "height": 1200,
        "polar": {
         "domain": {
          "x": [
           0,
           0.2125
          ],
          "y": [
           0.7777777777777778,
           1
          ]
         },
         "radialaxis": {
          "range": [
           -0.2,
           1.2000000000000004
          ],
          "visible": true
         }
        },
        "polar10": {
         "domain": {
          "x": [
           0.2625,
           0.475
          ],
          "y": [
           0,
           0.22222222222222224
          ]
         },
         "radialaxis": {
          "range": [
           -0.2,
           1.2000000000000004
          ]
         }
        },
        "polar11": {
         "domain": {
          "x": [
           0.525,
           0.7375
          ],
          "y": [
           0,
           0.22222222222222224
          ]
         },
         "radialaxis": {
          "range": [
           -0.2,
           1.2000000000000004
          ]
         }
        },
        "polar12": {
         "domain": {
          "x": [
           0.7875,
           1
          ],
          "y": [
           0,
           0.22222222222222224
          ]
         },
         "radialaxis": {
          "range": [
           -0.2,
           1.2000000000000004
          ]
         }
        },
        "polar2": {
         "domain": {
          "x": [
           0.2625,
           0.475
          ],
          "y": [
           0.7777777777777778,
           1
          ]
         },
         "radialaxis": {
          "range": [
           -0.2,
           1.2000000000000004
          ]
         }
        },
        "polar3": {
         "domain": {
          "x": [
           0.525,
           0.7375
          ],
          "y": [
           0.7777777777777778,
           1
          ]
         },
         "radialaxis": {
          "range": [
           -0.2,
           1.2000000000000004
          ]
         }
        },
        "polar4": {
         "domain": {
          "x": [
           0.7875,
           1
          ],
          "y": [
           0.7777777777777778,
           1
          ]
         },
         "radialaxis": {
          "range": [
           -0.2,
           1.2000000000000004
          ]
         }
        },
        "polar5": {
         "domain": {
          "x": [
           0,
           0.2125
          ],
          "y": [
           0.3888888888888889,
           0.6111111111111112
          ]
         },
         "radialaxis": {
          "range": [
           -0.2,
           1.2000000000000004
          ]
         }
        },
        "polar6": {
         "domain": {
          "x": [
           0.2625,
           0.475
          ],
          "y": [
           0.3888888888888889,
           0.6111111111111112
          ]
         },
         "radialaxis": {
          "range": [
           -0.2,
           1.2000000000000004
          ]
         }
        },
        "polar7": {
         "domain": {
          "x": [
           0.525,
           0.7375
          ],
          "y": [
           0.3888888888888889,
           0.6111111111111112
          ]
         },
         "radialaxis": {
          "range": [
           -0.2,
           1.2000000000000004
          ]
         }
        },
        "polar8": {
         "domain": {
          "x": [
           0.7875,
           1
          ],
          "y": [
           0.3888888888888889,
           0.6111111111111112
          ]
         },
         "radialaxis": {
          "range": [
           -0.2,
           1.2000000000000004
          ]
         }
        },
        "polar9": {
         "domain": {
          "x": [
           0,
           0.2125
          ],
          "y": [
           0,
           0.22222222222222224
          ]
         },
         "radialaxis": {
          "range": [
           -0.2,
           1.2000000000000004
          ]
         }
        },
        "showlegend": false,
        "template": {
         "data": {
          "bar": [
           {
            "error_x": {
             "color": "#2a3f5f"
            },
            "error_y": {
             "color": "#2a3f5f"
            },
            "marker": {
             "line": {
              "color": "#E5ECF6",
              "width": 0.5
             },
             "pattern": {
              "fillmode": "overlay",
              "size": 10,
              "solidity": 0.2
             }
            },
            "type": "bar"
           }
          ],
          "barpolar": [
           {
            "marker": {
             "line": {
              "color": "#E5ECF6",
              "width": 0.5
             },
             "pattern": {
              "fillmode": "overlay",
              "size": 10,
              "solidity": 0.2
             }
            },
            "type": "barpolar"
           }
          ],
          "carpet": [
           {
            "aaxis": {
             "endlinecolor": "#2a3f5f",
             "gridcolor": "white",
             "linecolor": "white",
             "minorgridcolor": "white",
             "startlinecolor": "#2a3f5f"
            },
            "baxis": {
             "endlinecolor": "#2a3f5f",
             "gridcolor": "white",
             "linecolor": "white",
             "minorgridcolor": "white",
             "startlinecolor": "#2a3f5f"
            },
            "type": "carpet"
           }
          ],
          "choropleth": [
           {
            "colorbar": {
             "outlinewidth": 0,
             "ticks": ""
            },
            "type": "choropleth"
           }
          ],
          "contour": [
           {
            "colorbar": {
             "outlinewidth": 0,
             "ticks": ""
            },
            "colorscale": [
             [
              0,
              "#0d0887"
             ],
             [
              0.1111111111111111,
              "#46039f"
             ],
             [
              0.2222222222222222,
              "#7201a8"
             ],
             [
              0.3333333333333333,
              "#9c179e"
             ],
             [
              0.4444444444444444,
              "#bd3786"
             ],
             [
              0.5555555555555556,
              "#d8576b"
             ],
             [
              0.6666666666666666,
              "#ed7953"
             ],
             [
              0.7777777777777778,
              "#fb9f3a"
             ],
             [
              0.8888888888888888,
              "#fdca26"
             ],
             [
              1,
              "#f0f921"
             ]
            ],
            "type": "contour"
           }
          ],
          "contourcarpet": [
           {
            "colorbar": {
             "outlinewidth": 0,
             "ticks": ""
            },
            "type": "contourcarpet"
           }
          ],
          "heatmap": [
           {
            "colorbar": {
             "outlinewidth": 0,
             "ticks": ""
            },
            "colorscale": [
             [
              0,
              "#0d0887"
             ],
             [
              0.1111111111111111,
              "#46039f"
             ],
             [
              0.2222222222222222,
              "#7201a8"
             ],
             [
              0.3333333333333333,
              "#9c179e"
             ],
             [
              0.4444444444444444,
              "#bd3786"
             ],
             [
              0.5555555555555556,
              "#d8576b"
             ],
             [
              0.6666666666666666,
              "#ed7953"
             ],
             [
              0.7777777777777778,
              "#fb9f3a"
             ],
             [
              0.8888888888888888,
              "#fdca26"
             ],
             [
              1,
              "#f0f921"
             ]
            ],
            "type": "heatmap"
           }
          ],
          "heatmapgl": [
           {
            "colorbar": {
             "outlinewidth": 0,
             "ticks": ""
            },
            "colorscale": [
             [
              0,
              "#0d0887"
             ],
             [
              0.1111111111111111,
              "#46039f"
             ],
             [
              0.2222222222222222,
              "#7201a8"
             ],
             [
              0.3333333333333333,
              "#9c179e"
             ],
             [
              0.4444444444444444,
              "#bd3786"
             ],
             [
              0.5555555555555556,
              "#d8576b"
             ],
             [
              0.6666666666666666,
              "#ed7953"
             ],
             [
              0.7777777777777778,
              "#fb9f3a"
             ],
             [
              0.8888888888888888,
              "#fdca26"
             ],
             [
              1,
              "#f0f921"
             ]
            ],
            "type": "heatmapgl"
           }
          ],
          "histogram": [
           {
            "marker": {
             "pattern": {
              "fillmode": "overlay",
              "size": 10,
              "solidity": 0.2
             }
            },
            "type": "histogram"
           }
          ],
          "histogram2d": [
           {
            "colorbar": {
             "outlinewidth": 0,
             "ticks": ""
            },
            "colorscale": [
             [
              0,
              "#0d0887"
             ],
             [
              0.1111111111111111,
              "#46039f"
             ],
             [
              0.2222222222222222,
              "#7201a8"
             ],
             [
              0.3333333333333333,
              "#9c179e"
             ],
             [
              0.4444444444444444,
              "#bd3786"
             ],
             [
              0.5555555555555556,
              "#d8576b"
             ],
             [
              0.6666666666666666,
              "#ed7953"
             ],
             [
              0.7777777777777778,
              "#fb9f3a"
             ],
             [
              0.8888888888888888,
              "#fdca26"
             ],
             [
              1,
              "#f0f921"
             ]
            ],
            "type": "histogram2d"
           }
          ],
          "histogram2dcontour": [
           {
            "colorbar": {
             "outlinewidth": 0,
             "ticks": ""
            },
            "colorscale": [
             [
              0,
              "#0d0887"
             ],
             [
              0.1111111111111111,
              "#46039f"
             ],
             [
              0.2222222222222222,
              "#7201a8"
             ],
             [
              0.3333333333333333,
              "#9c179e"
             ],
             [
              0.4444444444444444,
              "#bd3786"
             ],
             [
              0.5555555555555556,
              "#d8576b"
             ],
             [
              0.6666666666666666,
              "#ed7953"
             ],
             [
              0.7777777777777778,
              "#fb9f3a"
             ],
             [
              0.8888888888888888,
              "#fdca26"
             ],
             [
              1,
              "#f0f921"
             ]
            ],
            "type": "histogram2dcontour"
           }
          ],
          "mesh3d": [
           {
            "colorbar": {
             "outlinewidth": 0,
             "ticks": ""
            },
            "type": "mesh3d"
           }
          ],
          "parcoords": [
           {
            "line": {
             "colorbar": {
              "outlinewidth": 0,
              "ticks": ""
             }
            },
            "type": "parcoords"
           }
          ],
          "pie": [
           {
            "automargin": true,
            "type": "pie"
           }
          ],
          "scatter": [
           {
            "fillpattern": {
             "fillmode": "overlay",
             "size": 10,
             "solidity": 0.2
            },
            "type": "scatter"
           }
          ],
          "scatter3d": [
           {
            "line": {
             "colorbar": {
              "outlinewidth": 0,
              "ticks": ""
             }
            },
            "marker": {
             "colorbar": {
              "outlinewidth": 0,
              "ticks": ""
             }
            },
            "type": "scatter3d"
           }
          ],
          "scattercarpet": [
           {
            "marker": {
             "colorbar": {
              "outlinewidth": 0,
              "ticks": ""
             }
            },
            "type": "scattercarpet"
           }
          ],
          "scattergeo": [
           {
            "marker": {
             "colorbar": {
              "outlinewidth": 0,
              "ticks": ""
             }
            },
            "type": "scattergeo"
           }
          ],
          "scattergl": [
           {
            "marker": {
             "colorbar": {
              "outlinewidth": 0,
              "ticks": ""
             }
            },
            "type": "scattergl"
           }
          ],
          "scattermapbox": [
           {
            "marker": {
             "colorbar": {
              "outlinewidth": 0,
              "ticks": ""
             }
            },
            "type": "scattermapbox"
           }
          ],
          "scatterpolar": [
           {
            "marker": {
             "colorbar": {
              "outlinewidth": 0,
              "ticks": ""
             }
            },
            "type": "scatterpolar"
           }
          ],
          "scatterpolargl": [
           {
            "marker": {
             "colorbar": {
              "outlinewidth": 0,
              "ticks": ""
             }
            },
            "type": "scatterpolargl"
           }
          ],
          "scatterternary": [
           {
            "marker": {
             "colorbar": {
              "outlinewidth": 0,
              "ticks": ""
             }
            },
            "type": "scatterternary"
           }
          ],
          "surface": [
           {
            "colorbar": {
             "outlinewidth": 0,
             "ticks": ""
            },
            "colorscale": [
             [
              0,
              "#0d0887"
             ],
             [
              0.1111111111111111,
              "#46039f"
             ],
             [
              0.2222222222222222,
              "#7201a8"
             ],
             [
              0.3333333333333333,
              "#9c179e"
             ],
             [
              0.4444444444444444,
              "#bd3786"
             ],
             [
              0.5555555555555556,
              "#d8576b"
             ],
             [
              0.6666666666666666,
              "#ed7953"
             ],
             [
              0.7777777777777778,
              "#fb9f3a"
             ],
             [
              0.8888888888888888,
              "#fdca26"
             ],
             [
              1,
              "#f0f921"
             ]
            ],
            "type": "surface"
           }
          ],
          "table": [
           {
            "cells": {
             "fill": {
              "color": "#EBF0F8"
             },
             "line": {
              "color": "white"
             }
            },
            "header": {
             "fill": {
              "color": "#C8D4E3"
             },
             "line": {
              "color": "white"
             }
            },
            "type": "table"
           }
          ]
         },
         "layout": {
          "annotationdefaults": {
           "arrowcolor": "#2a3f5f",
           "arrowhead": 0,
           "arrowwidth": 1
          },
          "autotypenumbers": "strict",
          "coloraxis": {
           "colorbar": {
            "outlinewidth": 0,
            "ticks": ""
           }
          },
          "colorscale": {
           "diverging": [
            [
             0,
             "#8e0152"
            ],
            [
             0.1,
             "#c51b7d"
            ],
            [
             0.2,
             "#de77ae"
            ],
            [
             0.3,
             "#f1b6da"
            ],
            [
             0.4,
             "#fde0ef"
            ],
            [
             0.5,
             "#f7f7f7"
            ],
            [
             0.6,
             "#e6f5d0"
            ],
            [
             0.7,
             "#b8e186"
            ],
            [
             0.8,
             "#7fbc41"
            ],
            [
             0.9,
             "#4d9221"
            ],
            [
             1,
             "#276419"
            ]
           ],
           "sequential": [
            [
             0,
             "#0d0887"
            ],
            [
             0.1111111111111111,
             "#46039f"
            ],
            [
             0.2222222222222222,
             "#7201a8"
            ],
            [
             0.3333333333333333,
             "#9c179e"
            ],
            [
             0.4444444444444444,
             "#bd3786"
            ],
            [
             0.5555555555555556,
             "#d8576b"
            ],
            [
             0.6666666666666666,
             "#ed7953"
            ],
            [
             0.7777777777777778,
             "#fb9f3a"
            ],
            [
             0.8888888888888888,
             "#fdca26"
            ],
            [
             1,
             "#f0f921"
            ]
           ],
           "sequentialminus": [
            [
             0,
             "#0d0887"
            ],
            [
             0.1111111111111111,
             "#46039f"
            ],
            [
             0.2222222222222222,
             "#7201a8"
            ],
            [
             0.3333333333333333,
             "#9c179e"
            ],
            [
             0.4444444444444444,
             "#bd3786"
            ],
            [
             0.5555555555555556,
             "#d8576b"
            ],
            [
             0.6666666666666666,
             "#ed7953"
            ],
            [
             0.7777777777777778,
             "#fb9f3a"
            ],
            [
             0.8888888888888888,
             "#fdca26"
            ],
            [
             1,
             "#f0f921"
            ]
           ]
          },
          "colorway": [
           "#636efa",
           "#EF553B",
           "#00cc96",
           "#ab63fa",
           "#FFA15A",
           "#19d3f3",
           "#FF6692",
           "#B6E880",
           "#FF97FF",
           "#FECB52"
          ],
          "font": {
           "color": "#2a3f5f"
          },
          "geo": {
           "bgcolor": "white",
           "lakecolor": "white",
           "landcolor": "#E5ECF6",
           "showlakes": true,
           "showland": true,
           "subunitcolor": "white"
          },
          "hoverlabel": {
           "align": "left"
          },
          "hovermode": "closest",
          "mapbox": {
           "style": "light"
          },
          "paper_bgcolor": "white",
          "plot_bgcolor": "#E5ECF6",
          "polar": {
           "angularaxis": {
            "gridcolor": "white",
            "linecolor": "white",
            "ticks": ""
           },
           "bgcolor": "#E5ECF6",
           "radialaxis": {
            "gridcolor": "white",
            "linecolor": "white",
            "ticks": ""
           }
          },
          "scene": {
           "xaxis": {
            "backgroundcolor": "#E5ECF6",
            "gridcolor": "white",
            "gridwidth": 2,
            "linecolor": "white",
            "showbackground": true,
            "ticks": "",
            "zerolinecolor": "white"
           },
           "yaxis": {
            "backgroundcolor": "#E5ECF6",
            "gridcolor": "white",
            "gridwidth": 2,
            "linecolor": "white",
            "showbackground": true,
            "ticks": "",
            "zerolinecolor": "white"
           },
           "zaxis": {
            "backgroundcolor": "#E5ECF6",
            "gridcolor": "white",
            "gridwidth": 2,
            "linecolor": "white",
            "showbackground": true,
            "ticks": "",
            "zerolinecolor": "white"
           }
          },
          "shapedefaults": {
           "line": {
            "color": "#2a3f5f"
           }
          },
          "ternary": {
           "aaxis": {
            "gridcolor": "white",
            "linecolor": "white",
            "ticks": ""
           },
           "baxis": {
            "gridcolor": "white",
            "linecolor": "white",
            "ticks": ""
           },
           "bgcolor": "#E5ECF6",
           "caxis": {
            "gridcolor": "white",
            "linecolor": "white",
            "ticks": ""
           }
          },
          "title": {
           "x": 0.05
          },
          "xaxis": {
           "automargin": true,
           "gridcolor": "white",
           "linecolor": "white",
           "ticks": "",
           "title": {
            "standoff": 15
           },
           "zerolinecolor": "white",
           "zerolinewidth": 2
          },
          "yaxis": {
           "automargin": true,
           "gridcolor": "white",
           "linecolor": "white",
           "ticks": "",
           "title": {
            "standoff": 15
           },
           "zerolinecolor": "white",
           "zerolinewidth": 2
          }
         }
        },
        "title": {
         "y": 1
        }
       }
      }
     },
     "metadata": {},
     "output_type": "display_data"
    }
   ],
   "source": [
    "df = players_stats.loc[players_stats[\"Position\"] == positions[3]]\n",
    "min_value, max_value = get_min_max_value(df, columns)\n",
    "\n",
    "ROWS, COLUMNS = get_rows_columns(df, 4)\n",
    "\n",
    "fig = get_fig_subplots(df, ROWS, COLUMNS)\n",
    "for i, player_name in enumerate(df.index):\n",
    "    _df = df.loc[player_name, columns]\n",
    "    theta_list = get_theta_list(df, player_name, origin_columns, columns)\n",
    "\n",
    "    r, c = get_rc(i, COLUMNS)\n",
    "    fig.add_trace(\n",
    "        go.Scatterpolar(r=_df, theta=theta_list, fill=\"toself\", name=player_name),\n",
    "        row=r,\n",
    "        col=c,\n",
    "    )\n",
    "\n",
    "fig.update_layout(\n",
    "    height=400 * ROWS,\n",
    "    showlegend=False,\n",
    "    polar=dict(\n",
    "        radialaxis=dict(visible=True),\n",
    "    ),\n",
    "    title=dict(y=1),\n",
    ")\n",
    "fig.update_annotations(yshift=20)\n",
    "fig.update_polars(radialaxis=dict(range=[min_value - 0.2, max_value + 0.2]))\n",
    "fig.show()"
   ]
  },
  {
   "cell_type": "code",
   "execution_count": 17,
   "metadata": {},
   "outputs": [
    {
     "data": {
      "application/vnd.plotly.v1+json": {
       "config": {
        "plotlyServerURL": "https://plot.ly"
       },
       "data": [
        {
         "fill": "toself",
         "name": "BeryL",
         "r": [
          0,
          0,
          0,
          1,
          1.0000000000000002,
          0.027272995329082228,
          1,
          1
         ],
         "subplot": "polar",
         "theta": [
          "KDA - 1.27",
          "KP - 0.64",
          "KS - 0.0",
          "DPM - 194.97",
          "CSPM - 1.13",
          "GPM - 215.02",
          "GS - 0.14",
          "ChampionsPlayed - 6"
         ],
         "type": "scatterpolar"
        },
        {
         "fill": "toself",
         "name": "Kellin",
         "r": [
          0.9999999999999999,
          1,
          0.7096774193548381,
          0.7792599470927133,
          0.39759264485462853,
          0.8134895385080796,
          0.4684251131830788,
          1
         ],
         "subplot": "polar2",
         "theta": [
          "KDA - 9.36",
          "KP - 0.83",
          "KS - 0.06",
          "DPM - 177.53",
          "CSPM - 0.8",
          "GPM - 247.86",
          "GS - 0.13",
          "ChampionsPlayed - 6"
         ],
         "type": "scatterpolar"
        },
        {
         "fill": "toself",
         "name": "Delight",
         "r": [
          0.6985836020267158,
          0.7425386207994906,
          0.5739130434782603,
          0.023886364330129473,
          0.7135435751666932,
          0.9649088607399383,
          0.6931303069781105,
          0
         ],
         "subplot": "polar3",
         "theta": [
          "KDA - 6.92",
          "KP - 0.78",
          "KS - 0.05",
          "DPM - 117.86",
          "CSPM - 0.97",
          "GPM - 254.18",
          "GS - 0.13",
          "ChampionsPlayed - 5"
         ],
         "type": "scatterpolar"
        },
        {
         "fill": "toself",
         "name": "Life",
         "r": [
          0.366634378302219,
          0.258551704705551,
          0.9519230769230766,
          0.5326548213665285,
          0.04614038235958984,
          0.4076681834007987,
          0,
          1
         ],
         "subplot": "polar4",
         "theta": [
          "KDA - 4.24",
          "KP - 0.69",
          "KS - 0.09",
          "DPM - 158.05",
          "CSPM - 0.61",
          "GPM - 230.91",
          "GS - 0.13",
          "ChampionsPlayed - 6"
         ],
         "type": "scatterpolar"
        },
        {
         "fill": "toself",
         "name": "Lehends",
         "r": [
          0.6130815292491939,
          0.258551704705551,
          0.5641025641025632,
          0.19372234773929087,
          0.5451555439246312,
          0.7326427444390031,
          0.15921688236847764,
          1
         ],
         "subplot": "polar5",
         "theta": [
          "KDA - 6.23",
          "KP - 0.69",
          "KS - 0.05",
          "DPM - 131.28",
          "CSPM - 0.88",
          "GPM - 244.48",
          "GS - 0.13",
          "ChampionsPlayed - 6"
         ],
         "type": "scatterpolar"
        },
        {
         "fill": "toself",
         "name": "Jun",
         "r": [
          0.44207738369415006,
          0.7687545787545789,
          0.2750000000000001,
          0.9895960457505266,
          0.43255345881824847,
          0.4111754460456112,
          0.049869630854360025,
          0
         ],
         "subplot": "polar6",
         "theta": [
          "KDA - 4.85",
          "KP - 0.79",
          "KS - 0.02",
          "DPM - 194.15",
          "CSPM - 0.82",
          "GPM - 231.05",
          "GS - 0.13",
          "ChampionsPlayed - 5"
         ],
         "type": "scatterpolar"
        },
        {
         "fill": "toself",
         "name": "Kael",
         "r": [
          0.15232035928143714,
          0.9477447925209121,
          0.16417910447761133,
          0.2773771313208788,
          0.27871902436243823,
          0.10727882258711396,
          0.05435918219106384,
          0
         ],
         "subplot": "polar7",
         "theta": [
          "KDA - 2.5",
          "KP - 0.82",
          "KS - 0.01",
          "DPM - 137.89",
          "CSPM - 0.73",
          "GPM - 218.36",
          "GS - 0.13",
          "ChampionsPlayed - 5"
         ],
         "type": "scatterpolar"
        },
        {
         "fill": "toself",
         "name": "Peter",
         "r": [
          0.23307231690465222,
          0.5434032634032637,
          0.5999999999999996,
          0.261240808891696,
          0,
          0,
          0.07114457214346359,
          0
         ],
         "subplot": "polar8",
         "theta": [
          "KDA - 3.15",
          "KP - 0.75",
          "KS - 0.05",
          "DPM - 136.61",
          "CSPM - 0.58",
          "GPM - 213.88",
          "GS - 0.13",
          "ChampionsPlayed - 5"
         ],
         "type": "scatterpolar"
        },
        {
         "fill": "toself",
         "name": "Effort",
         "r": [
          0.13688248502994013,
          0.251055611055611,
          1,
          0,
          0.21916527492217686,
          0.11894919774991575,
          0.3215716111028044,
          0
         ],
         "subplot": "polar9",
         "theta": [
          "KDA - 2.38",
          "KP - 0.69",
          "KS - 0.09",
          "DPM - 115.98",
          "CSPM - 0.7",
          "GPM - 218.85",
          "GS - 0.13",
          "ChampionsPlayed - 5"
         ],
         "type": "scatterpolar"
        },
        {
         "fill": "toself",
         "name": "Keria",
         "r": [
          0.6339820359281437,
          0.7654596769350865,
          0.36065573770491766,
          0.9896588940041231,
          0.002818557776963271,
          1,
          0.6186409096322336,
          0
         ],
         "subplot": "polar10",
         "theta": [
          "KDA - 6.4",
          "KP - 0.79",
          "KS - 0.03",
          "DPM - 194.15",
          "CSPM - 0.58",
          "GPM - 255.65",
          "GS - 0.13",
          "ChampionsPlayed - 5"
         ],
         "type": "scatterpolar"
        }
       ],
       "layout": {
        "annotations": [
         {
          "font": {
           "size": 16
          },
          "showarrow": false,
          "text": "BeryL",
          "x": 0.10625,
          "xanchor": "center",
          "xref": "paper",
          "y": 1,
          "yanchor": "bottom",
          "yref": "paper",
          "yshift": 20
         },
         {
          "font": {
           "size": 16
          },
          "showarrow": false,
          "text": "Kellin",
          "x": 0.36875,
          "xanchor": "center",
          "xref": "paper",
          "y": 1,
          "yanchor": "bottom",
          "yref": "paper",
          "yshift": 20
         },
         {
          "font": {
           "size": 16
          },
          "showarrow": false,
          "text": "Delight",
          "x": 0.6312500000000001,
          "xanchor": "center",
          "xref": "paper",
          "y": 1,
          "yanchor": "bottom",
          "yref": "paper",
          "yshift": 20
         },
         {
          "font": {
           "size": 16
          },
          "showarrow": false,
          "text": "Life",
          "x": 0.89375,
          "xanchor": "center",
          "xref": "paper",
          "y": 1,
          "yanchor": "bottom",
          "yref": "paper",
          "yshift": 20
         },
         {
          "font": {
           "size": 16
          },
          "showarrow": false,
          "text": "Lehends",
          "x": 0.10625,
          "xanchor": "center",
          "xref": "paper",
          "y": 0.6111111111111112,
          "yanchor": "bottom",
          "yref": "paper",
          "yshift": 20
         },
         {
          "font": {
           "size": 16
          },
          "showarrow": false,
          "text": "Jun",
          "x": 0.36875,
          "xanchor": "center",
          "xref": "paper",
          "y": 0.6111111111111112,
          "yanchor": "bottom",
          "yref": "paper",
          "yshift": 20
         },
         {
          "font": {
           "size": 16
          },
          "showarrow": false,
          "text": "Kael",
          "x": 0.6312500000000001,
          "xanchor": "center",
          "xref": "paper",
          "y": 0.6111111111111112,
          "yanchor": "bottom",
          "yref": "paper",
          "yshift": 20
         },
         {
          "font": {
           "size": 16
          },
          "showarrow": false,
          "text": "Peter",
          "x": 0.89375,
          "xanchor": "center",
          "xref": "paper",
          "y": 0.6111111111111112,
          "yanchor": "bottom",
          "yref": "paper",
          "yshift": 20
         },
         {
          "font": {
           "size": 16
          },
          "showarrow": false,
          "text": "Effort",
          "x": 0.10625,
          "xanchor": "center",
          "xref": "paper",
          "y": 0.22222222222222224,
          "yanchor": "bottom",
          "yref": "paper",
          "yshift": 20
         },
         {
          "font": {
           "size": 16
          },
          "showarrow": false,
          "text": "Keria",
          "x": 0.36875,
          "xanchor": "center",
          "xref": "paper",
          "y": 0.22222222222222224,
          "yanchor": "bottom",
          "yref": "paper",
          "yshift": 20
         }
        ],
        "height": 1200,
        "polar": {
         "domain": {
          "x": [
           0,
           0.2125
          ],
          "y": [
           0.7777777777777778,
           1
          ]
         },
         "radialaxis": {
          "range": [
           -0.2,
           1.2000000000000002
          ],
          "visible": true
         }
        },
        "polar10": {
         "domain": {
          "x": [
           0.2625,
           0.475
          ],
          "y": [
           0,
           0.22222222222222224
          ]
         },
         "radialaxis": {
          "range": [
           -0.2,
           1.2000000000000002
          ]
         }
        },
        "polar11": {
         "domain": {
          "x": [
           0.525,
           0.7375
          ],
          "y": [
           0,
           0.22222222222222224
          ]
         },
         "radialaxis": {
          "range": [
           -0.2,
           1.2000000000000002
          ]
         }
        },
        "polar12": {
         "domain": {
          "x": [
           0.7875,
           1
          ],
          "y": [
           0,
           0.22222222222222224
          ]
         },
         "radialaxis": {
          "range": [
           -0.2,
           1.2000000000000002
          ]
         }
        },
        "polar2": {
         "domain": {
          "x": [
           0.2625,
           0.475
          ],
          "y": [
           0.7777777777777778,
           1
          ]
         },
         "radialaxis": {
          "range": [
           -0.2,
           1.2000000000000002
          ]
         }
        },
        "polar3": {
         "domain": {
          "x": [
           0.525,
           0.7375
          ],
          "y": [
           0.7777777777777778,
           1
          ]
         },
         "radialaxis": {
          "range": [
           -0.2,
           1.2000000000000002
          ]
         }
        },
        "polar4": {
         "domain": {
          "x": [
           0.7875,
           1
          ],
          "y": [
           0.7777777777777778,
           1
          ]
         },
         "radialaxis": {
          "range": [
           -0.2,
           1.2000000000000002
          ]
         }
        },
        "polar5": {
         "domain": {
          "x": [
           0,
           0.2125
          ],
          "y": [
           0.3888888888888889,
           0.6111111111111112
          ]
         },
         "radialaxis": {
          "range": [
           -0.2,
           1.2000000000000002
          ]
         }
        },
        "polar6": {
         "domain": {
          "x": [
           0.2625,
           0.475
          ],
          "y": [
           0.3888888888888889,
           0.6111111111111112
          ]
         },
         "radialaxis": {
          "range": [
           -0.2,
           1.2000000000000002
          ]
         }
        },
        "polar7": {
         "domain": {
          "x": [
           0.525,
           0.7375
          ],
          "y": [
           0.3888888888888889,
           0.6111111111111112
          ]
         },
         "radialaxis": {
          "range": [
           -0.2,
           1.2000000000000002
          ]
         }
        },
        "polar8": {
         "domain": {
          "x": [
           0.7875,
           1
          ],
          "y": [
           0.3888888888888889,
           0.6111111111111112
          ]
         },
         "radialaxis": {
          "range": [
           -0.2,
           1.2000000000000002
          ]
         }
        },
        "polar9": {
         "domain": {
          "x": [
           0,
           0.2125
          ],
          "y": [
           0,
           0.22222222222222224
          ]
         },
         "radialaxis": {
          "range": [
           -0.2,
           1.2000000000000002
          ]
         }
        },
        "showlegend": false,
        "template": {
         "data": {
          "bar": [
           {
            "error_x": {
             "color": "#2a3f5f"
            },
            "error_y": {
             "color": "#2a3f5f"
            },
            "marker": {
             "line": {
              "color": "#E5ECF6",
              "width": 0.5
             },
             "pattern": {
              "fillmode": "overlay",
              "size": 10,
              "solidity": 0.2
             }
            },
            "type": "bar"
           }
          ],
          "barpolar": [
           {
            "marker": {
             "line": {
              "color": "#E5ECF6",
              "width": 0.5
             },
             "pattern": {
              "fillmode": "overlay",
              "size": 10,
              "solidity": 0.2
             }
            },
            "type": "barpolar"
           }
          ],
          "carpet": [
           {
            "aaxis": {
             "endlinecolor": "#2a3f5f",
             "gridcolor": "white",
             "linecolor": "white",
             "minorgridcolor": "white",
             "startlinecolor": "#2a3f5f"
            },
            "baxis": {
             "endlinecolor": "#2a3f5f",
             "gridcolor": "white",
             "linecolor": "white",
             "minorgridcolor": "white",
             "startlinecolor": "#2a3f5f"
            },
            "type": "carpet"
           }
          ],
          "choropleth": [
           {
            "colorbar": {
             "outlinewidth": 0,
             "ticks": ""
            },
            "type": "choropleth"
           }
          ],
          "contour": [
           {
            "colorbar": {
             "outlinewidth": 0,
             "ticks": ""
            },
            "colorscale": [
             [
              0,
              "#0d0887"
             ],
             [
              0.1111111111111111,
              "#46039f"
             ],
             [
              0.2222222222222222,
              "#7201a8"
             ],
             [
              0.3333333333333333,
              "#9c179e"
             ],
             [
              0.4444444444444444,
              "#bd3786"
             ],
             [
              0.5555555555555556,
              "#d8576b"
             ],
             [
              0.6666666666666666,
              "#ed7953"
             ],
             [
              0.7777777777777778,
              "#fb9f3a"
             ],
             [
              0.8888888888888888,
              "#fdca26"
             ],
             [
              1,
              "#f0f921"
             ]
            ],
            "type": "contour"
           }
          ],
          "contourcarpet": [
           {
            "colorbar": {
             "outlinewidth": 0,
             "ticks": ""
            },
            "type": "contourcarpet"
           }
          ],
          "heatmap": [
           {
            "colorbar": {
             "outlinewidth": 0,
             "ticks": ""
            },
            "colorscale": [
             [
              0,
              "#0d0887"
             ],
             [
              0.1111111111111111,
              "#46039f"
             ],
             [
              0.2222222222222222,
              "#7201a8"
             ],
             [
              0.3333333333333333,
              "#9c179e"
             ],
             [
              0.4444444444444444,
              "#bd3786"
             ],
             [
              0.5555555555555556,
              "#d8576b"
             ],
             [
              0.6666666666666666,
              "#ed7953"
             ],
             [
              0.7777777777777778,
              "#fb9f3a"
             ],
             [
              0.8888888888888888,
              "#fdca26"
             ],
             [
              1,
              "#f0f921"
             ]
            ],
            "type": "heatmap"
           }
          ],
          "heatmapgl": [
           {
            "colorbar": {
             "outlinewidth": 0,
             "ticks": ""
            },
            "colorscale": [
             [
              0,
              "#0d0887"
             ],
             [
              0.1111111111111111,
              "#46039f"
             ],
             [
              0.2222222222222222,
              "#7201a8"
             ],
             [
              0.3333333333333333,
              "#9c179e"
             ],
             [
              0.4444444444444444,
              "#bd3786"
             ],
             [
              0.5555555555555556,
              "#d8576b"
             ],
             [
              0.6666666666666666,
              "#ed7953"
             ],
             [
              0.7777777777777778,
              "#fb9f3a"
             ],
             [
              0.8888888888888888,
              "#fdca26"
             ],
             [
              1,
              "#f0f921"
             ]
            ],
            "type": "heatmapgl"
           }
          ],
          "histogram": [
           {
            "marker": {
             "pattern": {
              "fillmode": "overlay",
              "size": 10,
              "solidity": 0.2
             }
            },
            "type": "histogram"
           }
          ],
          "histogram2d": [
           {
            "colorbar": {
             "outlinewidth": 0,
             "ticks": ""
            },
            "colorscale": [
             [
              0,
              "#0d0887"
             ],
             [
              0.1111111111111111,
              "#46039f"
             ],
             [
              0.2222222222222222,
              "#7201a8"
             ],
             [
              0.3333333333333333,
              "#9c179e"
             ],
             [
              0.4444444444444444,
              "#bd3786"
             ],
             [
              0.5555555555555556,
              "#d8576b"
             ],
             [
              0.6666666666666666,
              "#ed7953"
             ],
             [
              0.7777777777777778,
              "#fb9f3a"
             ],
             [
              0.8888888888888888,
              "#fdca26"
             ],
             [
              1,
              "#f0f921"
             ]
            ],
            "type": "histogram2d"
           }
          ],
          "histogram2dcontour": [
           {
            "colorbar": {
             "outlinewidth": 0,
             "ticks": ""
            },
            "colorscale": [
             [
              0,
              "#0d0887"
             ],
             [
              0.1111111111111111,
              "#46039f"
             ],
             [
              0.2222222222222222,
              "#7201a8"
             ],
             [
              0.3333333333333333,
              "#9c179e"
             ],
             [
              0.4444444444444444,
              "#bd3786"
             ],
             [
              0.5555555555555556,
              "#d8576b"
             ],
             [
              0.6666666666666666,
              "#ed7953"
             ],
             [
              0.7777777777777778,
              "#fb9f3a"
             ],
             [
              0.8888888888888888,
              "#fdca26"
             ],
             [
              1,
              "#f0f921"
             ]
            ],
            "type": "histogram2dcontour"
           }
          ],
          "mesh3d": [
           {
            "colorbar": {
             "outlinewidth": 0,
             "ticks": ""
            },
            "type": "mesh3d"
           }
          ],
          "parcoords": [
           {
            "line": {
             "colorbar": {
              "outlinewidth": 0,
              "ticks": ""
             }
            },
            "type": "parcoords"
           }
          ],
          "pie": [
           {
            "automargin": true,
            "type": "pie"
           }
          ],
          "scatter": [
           {
            "fillpattern": {
             "fillmode": "overlay",
             "size": 10,
             "solidity": 0.2
            },
            "type": "scatter"
           }
          ],
          "scatter3d": [
           {
            "line": {
             "colorbar": {
              "outlinewidth": 0,
              "ticks": ""
             }
            },
            "marker": {
             "colorbar": {
              "outlinewidth": 0,
              "ticks": ""
             }
            },
            "type": "scatter3d"
           }
          ],
          "scattercarpet": [
           {
            "marker": {
             "colorbar": {
              "outlinewidth": 0,
              "ticks": ""
             }
            },
            "type": "scattercarpet"
           }
          ],
          "scattergeo": [
           {
            "marker": {
             "colorbar": {
              "outlinewidth": 0,
              "ticks": ""
             }
            },
            "type": "scattergeo"
           }
          ],
          "scattergl": [
           {
            "marker": {
             "colorbar": {
              "outlinewidth": 0,
              "ticks": ""
             }
            },
            "type": "scattergl"
           }
          ],
          "scattermapbox": [
           {
            "marker": {
             "colorbar": {
              "outlinewidth": 0,
              "ticks": ""
             }
            },
            "type": "scattermapbox"
           }
          ],
          "scatterpolar": [
           {
            "marker": {
             "colorbar": {
              "outlinewidth": 0,
              "ticks": ""
             }
            },
            "type": "scatterpolar"
           }
          ],
          "scatterpolargl": [
           {
            "marker": {
             "colorbar": {
              "outlinewidth": 0,
              "ticks": ""
             }
            },
            "type": "scatterpolargl"
           }
          ],
          "scatterternary": [
           {
            "marker": {
             "colorbar": {
              "outlinewidth": 0,
              "ticks": ""
             }
            },
            "type": "scatterternary"
           }
          ],
          "surface": [
           {
            "colorbar": {
             "outlinewidth": 0,
             "ticks": ""
            },
            "colorscale": [
             [
              0,
              "#0d0887"
             ],
             [
              0.1111111111111111,
              "#46039f"
             ],
             [
              0.2222222222222222,
              "#7201a8"
             ],
             [
              0.3333333333333333,
              "#9c179e"
             ],
             [
              0.4444444444444444,
              "#bd3786"
             ],
             [
              0.5555555555555556,
              "#d8576b"
             ],
             [
              0.6666666666666666,
              "#ed7953"
             ],
             [
              0.7777777777777778,
              "#fb9f3a"
             ],
             [
              0.8888888888888888,
              "#fdca26"
             ],
             [
              1,
              "#f0f921"
             ]
            ],
            "type": "surface"
           }
          ],
          "table": [
           {
            "cells": {
             "fill": {
              "color": "#EBF0F8"
             },
             "line": {
              "color": "white"
             }
            },
            "header": {
             "fill": {
              "color": "#C8D4E3"
             },
             "line": {
              "color": "white"
             }
            },
            "type": "table"
           }
          ]
         },
         "layout": {
          "annotationdefaults": {
           "arrowcolor": "#2a3f5f",
           "arrowhead": 0,
           "arrowwidth": 1
          },
          "autotypenumbers": "strict",
          "coloraxis": {
           "colorbar": {
            "outlinewidth": 0,
            "ticks": ""
           }
          },
          "colorscale": {
           "diverging": [
            [
             0,
             "#8e0152"
            ],
            [
             0.1,
             "#c51b7d"
            ],
            [
             0.2,
             "#de77ae"
            ],
            [
             0.3,
             "#f1b6da"
            ],
            [
             0.4,
             "#fde0ef"
            ],
            [
             0.5,
             "#f7f7f7"
            ],
            [
             0.6,
             "#e6f5d0"
            ],
            [
             0.7,
             "#b8e186"
            ],
            [
             0.8,
             "#7fbc41"
            ],
            [
             0.9,
             "#4d9221"
            ],
            [
             1,
             "#276419"
            ]
           ],
           "sequential": [
            [
             0,
             "#0d0887"
            ],
            [
             0.1111111111111111,
             "#46039f"
            ],
            [
             0.2222222222222222,
             "#7201a8"
            ],
            [
             0.3333333333333333,
             "#9c179e"
            ],
            [
             0.4444444444444444,
             "#bd3786"
            ],
            [
             0.5555555555555556,
             "#d8576b"
            ],
            [
             0.6666666666666666,
             "#ed7953"
            ],
            [
             0.7777777777777778,
             "#fb9f3a"
            ],
            [
             0.8888888888888888,
             "#fdca26"
            ],
            [
             1,
             "#f0f921"
            ]
           ],
           "sequentialminus": [
            [
             0,
             "#0d0887"
            ],
            [
             0.1111111111111111,
             "#46039f"
            ],
            [
             0.2222222222222222,
             "#7201a8"
            ],
            [
             0.3333333333333333,
             "#9c179e"
            ],
            [
             0.4444444444444444,
             "#bd3786"
            ],
            [
             0.5555555555555556,
             "#d8576b"
            ],
            [
             0.6666666666666666,
             "#ed7953"
            ],
            [
             0.7777777777777778,
             "#fb9f3a"
            ],
            [
             0.8888888888888888,
             "#fdca26"
            ],
            [
             1,
             "#f0f921"
            ]
           ]
          },
          "colorway": [
           "#636efa",
           "#EF553B",
           "#00cc96",
           "#ab63fa",
           "#FFA15A",
           "#19d3f3",
           "#FF6692",
           "#B6E880",
           "#FF97FF",
           "#FECB52"
          ],
          "font": {
           "color": "#2a3f5f"
          },
          "geo": {
           "bgcolor": "white",
           "lakecolor": "white",
           "landcolor": "#E5ECF6",
           "showlakes": true,
           "showland": true,
           "subunitcolor": "white"
          },
          "hoverlabel": {
           "align": "left"
          },
          "hovermode": "closest",
          "mapbox": {
           "style": "light"
          },
          "paper_bgcolor": "white",
          "plot_bgcolor": "#E5ECF6",
          "polar": {
           "angularaxis": {
            "gridcolor": "white",
            "linecolor": "white",
            "ticks": ""
           },
           "bgcolor": "#E5ECF6",
           "radialaxis": {
            "gridcolor": "white",
            "linecolor": "white",
            "ticks": ""
           }
          },
          "scene": {
           "xaxis": {
            "backgroundcolor": "#E5ECF6",
            "gridcolor": "white",
            "gridwidth": 2,
            "linecolor": "white",
            "showbackground": true,
            "ticks": "",
            "zerolinecolor": "white"
           },
           "yaxis": {
            "backgroundcolor": "#E5ECF6",
            "gridcolor": "white",
            "gridwidth": 2,
            "linecolor": "white",
            "showbackground": true,
            "ticks": "",
            "zerolinecolor": "white"
           },
           "zaxis": {
            "backgroundcolor": "#E5ECF6",
            "gridcolor": "white",
            "gridwidth": 2,
            "linecolor": "white",
            "showbackground": true,
            "ticks": "",
            "zerolinecolor": "white"
           }
          },
          "shapedefaults": {
           "line": {
            "color": "#2a3f5f"
           }
          },
          "ternary": {
           "aaxis": {
            "gridcolor": "white",
            "linecolor": "white",
            "ticks": ""
           },
           "baxis": {
            "gridcolor": "white",
            "linecolor": "white",
            "ticks": ""
           },
           "bgcolor": "#E5ECF6",
           "caxis": {
            "gridcolor": "white",
            "linecolor": "white",
            "ticks": ""
           }
          },
          "title": {
           "x": 0.05
          },
          "xaxis": {
           "automargin": true,
           "gridcolor": "white",
           "linecolor": "white",
           "ticks": "",
           "title": {
            "standoff": 15
           },
           "zerolinecolor": "white",
           "zerolinewidth": 2
          },
          "yaxis": {
           "automargin": true,
           "gridcolor": "white",
           "linecolor": "white",
           "ticks": "",
           "title": {
            "standoff": 15
           },
           "zerolinecolor": "white",
           "zerolinewidth": 2
          }
         }
        },
        "title": {
         "y": 1
        }
       }
      }
     },
     "metadata": {},
     "output_type": "display_data"
    }
   ],
   "source": [
    "df = players_stats.loc[players_stats[\"Position\"] == positions[4]]\n",
    "min_value, max_value = get_min_max_value(df, columns)\n",
    "\n",
    "ROWS, COLUMNS = get_rows_columns(df, 4)\n",
    "\n",
    "fig = get_fig_subplots(df, ROWS, COLUMNS)\n",
    "for i, player_name in enumerate(df.index):\n",
    "    _df = df.loc[player_name, columns]\n",
    "    theta_list = get_theta_list(df, player_name, origin_columns, columns)\n",
    "\n",
    "    r, c = get_rc(i, COLUMNS)\n",
    "    fig.add_trace(\n",
    "        go.Scatterpolar(r=_df, theta=theta_list, fill=\"toself\", name=player_name),\n",
    "        row=r,\n",
    "        col=c,\n",
    "    )\n",
    "\n",
    "fig.update_layout(\n",
    "    height=400 * ROWS,\n",
    "    showlegend=False,\n",
    "    polar=dict(\n",
    "        radialaxis=dict(visible=True),\n",
    "    ),\n",
    "    title=dict(y=1),\n",
    ")\n",
    "fig.update_annotations(yshift=20)\n",
    "fig.update_polars(radialaxis=dict(range=[min_value - 0.2, max_value + 0.2]))\n",
    "fig.show()"
   ]
  },
  {
   "cell_type": "code",
   "execution_count": null,
   "metadata": {},
   "outputs": [],
   "source": []
  }
 ],
 "metadata": {
  "kernelspec": {
   "display_name": "Python 3",
   "language": "python",
   "name": "python3"
  },
  "language_info": {
   "codemirror_mode": {
    "name": "ipython",
    "version": 3
   },
   "file_extension": ".py",
   "mimetype": "text/x-python",
   "name": "python",
   "nbconvert_exporter": "python",
   "pygments_lexer": "ipython3",
   "version": "3.11.3"
  },
  "orig_nbformat": 4,
  "vscode": {
   "interpreter": {
    "hash": "cc0362ac4c7af633927c7f13c3a204675dc26ff026425e1d1bcaf453ea76d9c8"
   }
  }
 },
 "nbformat": 4,
 "nbformat_minor": 2
}
