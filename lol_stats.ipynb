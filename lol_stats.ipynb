{
 "cells": [
  {
   "cell_type": "code",
   "execution_count": 1,
   "metadata": {},
   "outputs": [],
   "source": [
    "import numpy as np\n",
    "import pandas as pd\n",
    "import matplotlib as mpl\n",
    "import matplotlib.pyplot as plt\n",
    "import seaborn as sns\n",
    "from sklearn.preprocessing import StandardScaler, MinMaxScaler, MaxAbsScaler\n",
    "import plotly.express as px\n",
    "import plotly.graph_objects as go\n",
    "from plotly.subplots import make_subplots\n",
    "\n",
    "\n",
    "pd.set_option(\"display.max_columns\", None)"
   ]
  },
  {
   "cell_type": "code",
   "execution_count": 2,
   "metadata": {},
   "outputs": [],
   "source": [
    "def get_rc(i, cols):\n",
    "    r = i // cols + 1\n",
    "    c = i % cols + 1\n",
    "\n",
    "    return (r, c)\n",
    "\n",
    "\n",
    "def get_rows_columns(df, c=5):\n",
    "    COLUMNS = c\n",
    "    d, m = divmod(df.shape[0], COLUMNS)\n",
    "    ROWS = d + (1 if m > 0 else m)\n",
    "\n",
    "    return ROWS, COLUMNS\n",
    "\n",
    "\n",
    "def get_fig_subplots(df, ROWS, COLUMNS):\n",
    "    fig = make_subplots(\n",
    "        rows=ROWS,\n",
    "        cols=COLUMNS,\n",
    "        subplot_titles=df.index.values,\n",
    "        specs=[[{\"type\": \"polar\"} for _ in range(COLUMNS)] for _ in range(ROWS)],\n",
    "    )\n",
    "\n",
    "    return fig\n",
    "\n",
    "\n",
    "def get_min_max_value(df, columns):\n",
    "    min_value = df[columns].unstack().min()\n",
    "    max_value = df[columns].unstack().max()\n",
    "\n",
    "    return min_value, max_value\n",
    "\n",
    "\n",
    "def get_theta_list(df, name, origin_columns):\n",
    "    return [\n",
    "        f\"{col} - {round(value, ndigits=2)} | {int(standing)}\"\n",
    "        for col, value, standing in zip(\n",
    "            origin_columns,\n",
    "            df.loc[name, origin_columns].values,\n",
    "            df[origin_columns].rank(method=\"min\", ascending=False).loc[name].values,\n",
    "        )\n",
    "    ]"
   ]
  },
  {
   "cell_type": "code",
   "execution_count": 3,
   "metadata": {},
   "outputs": [],
   "source": [
    "# SCALER = StandardScaler\n",
    "SCALER = MinMaxScaler\n",
    "# SCALER = MaxAbsScaler"
   ]
  },
  {
   "cell_type": "code",
   "execution_count": 4,
   "metadata": {},
   "outputs": [
    {
     "name": "stdout",
     "output_type": "stream",
     "text": [
      "(10, 12)\n"
     ]
    },
    {
     "data": {
      "text/html": [
       "<div>\n",
       "<style scoped>\n",
       "    .dataframe tbody tr th:only-of-type {\n",
       "        vertical-align: middle;\n",
       "    }\n",
       "\n",
       "    .dataframe tbody tr th {\n",
       "        vertical-align: top;\n",
       "    }\n",
       "\n",
       "    .dataframe thead th {\n",
       "        text-align: right;\n",
       "    }\n",
       "</style>\n",
       "<table border=\"1\" class=\"dataframe\">\n",
       "  <thead>\n",
       "    <tr style=\"text-align: right;\">\n",
       "      <th></th>\n",
       "      <th>Games</th>\n",
       "      <th>Win</th>\n",
       "      <th>Loss</th>\n",
       "      <th>WinRate</th>\n",
       "      <th>KD</th>\n",
       "      <th>CKPM</th>\n",
       "      <th>GameDuration</th>\n",
       "      <th>WinGameDuration</th>\n",
       "      <th>LossGameDuration</th>\n",
       "      <th>GPM</th>\n",
       "      <th>GDPM</th>\n",
       "      <th>KPM</th>\n",
       "    </tr>\n",
       "    <tr>\n",
       "      <th>Team</th>\n",
       "      <th></th>\n",
       "      <th></th>\n",
       "      <th></th>\n",
       "      <th></th>\n",
       "      <th></th>\n",
       "      <th></th>\n",
       "      <th></th>\n",
       "      <th></th>\n",
       "      <th></th>\n",
       "      <th></th>\n",
       "      <th></th>\n",
       "      <th></th>\n",
       "    </tr>\n",
       "  </thead>\n",
       "  <tbody>\n",
       "    <tr>\n",
       "      <th>DRX</th>\n",
       "      <td>11.0</td>\n",
       "      <td>1.0</td>\n",
       "      <td>10.0</td>\n",
       "      <td>0.090909</td>\n",
       "      <td>0.346591</td>\n",
       "      <td>0.748837</td>\n",
       "      <td>28.746970</td>\n",
       "      <td>34.450000</td>\n",
       "      <td>28.176667</td>\n",
       "      <td>1562.023335</td>\n",
       "      <td>-429.826947</td>\n",
       "      <td>0.168080</td>\n",
       "    </tr>\n",
       "    <tr>\n",
       "      <th>Dplus KIA</th>\n",
       "      <td>12.0</td>\n",
       "      <td>7.0</td>\n",
       "      <td>5.0</td>\n",
       "      <td>0.583333</td>\n",
       "      <td>1.457447</td>\n",
       "      <td>0.631555</td>\n",
       "      <td>30.906944</td>\n",
       "      <td>30.061905</td>\n",
       "      <td>32.090000</td>\n",
       "      <td>1837.881009</td>\n",
       "      <td>114.495395</td>\n",
       "      <td>0.374791</td>\n",
       "    </tr>\n",
       "    <tr>\n",
       "      <th>Gen.G</th>\n",
       "      <td>12.0</td>\n",
       "      <td>10.0</td>\n",
       "      <td>2.0</td>\n",
       "      <td>0.833333</td>\n",
       "      <td>1.658824</td>\n",
       "      <td>0.673471</td>\n",
       "      <td>27.709722</td>\n",
       "      <td>27.840000</td>\n",
       "      <td>27.058333</td>\n",
       "      <td>1936.876723</td>\n",
       "      <td>259.105160</td>\n",
       "      <td>0.424899</td>\n",
       "    </tr>\n",
       "    <tr>\n",
       "      <th>Hanwha Life Esports</th>\n",
       "      <td>10.0</td>\n",
       "      <td>6.0</td>\n",
       "      <td>4.0</td>\n",
       "      <td>0.600000</td>\n",
       "      <td>1.464789</td>\n",
       "      <td>0.572555</td>\n",
       "      <td>31.270000</td>\n",
       "      <td>33.177778</td>\n",
       "      <td>28.408333</td>\n",
       "      <td>1800.189333</td>\n",
       "      <td>61.911603</td>\n",
       "      <td>0.346820</td>\n",
       "    </tr>\n",
       "    <tr>\n",
       "      <th>KT Rolster</th>\n",
       "      <td>12.0</td>\n",
       "      <td>9.0</td>\n",
       "      <td>3.0</td>\n",
       "      <td>0.750000</td>\n",
       "      <td>1.588889</td>\n",
       "      <td>0.718916</td>\n",
       "      <td>27.948611</td>\n",
       "      <td>28.159259</td>\n",
       "      <td>27.316667</td>\n",
       "      <td>1917.934730</td>\n",
       "      <td>181.627248</td>\n",
       "      <td>0.456530</td>\n",
       "    </tr>\n",
       "  </tbody>\n",
       "</table>\n",
       "</div>"
      ],
      "text/plain": [
       "                     Games   Win  Loss   WinRate        KD      CKPM   \n",
       "Team                                                                   \n",
       "DRX                   11.0   1.0  10.0  0.090909  0.346591  0.748837  \\\n",
       "Dplus KIA             12.0   7.0   5.0  0.583333  1.457447  0.631555   \n",
       "Gen.G                 12.0  10.0   2.0  0.833333  1.658824  0.673471   \n",
       "Hanwha Life Esports   10.0   6.0   4.0  0.600000  1.464789  0.572555   \n",
       "KT Rolster            12.0   9.0   3.0  0.750000  1.588889  0.718916   \n",
       "\n",
       "                     GameDuration  WinGameDuration  LossGameDuration   \n",
       "Team                                                                   \n",
       "DRX                     28.746970        34.450000         28.176667  \\\n",
       "Dplus KIA               30.906944        30.061905         32.090000   \n",
       "Gen.G                   27.709722        27.840000         27.058333   \n",
       "Hanwha Life Esports     31.270000        33.177778         28.408333   \n",
       "KT Rolster              27.948611        28.159259         27.316667   \n",
       "\n",
       "                             GPM        GDPM       KPM  \n",
       "Team                                                    \n",
       "DRX                  1562.023335 -429.826947  0.168080  \n",
       "Dplus KIA            1837.881009  114.495395  0.374791  \n",
       "Gen.G                1936.876723  259.105160  0.424899  \n",
       "Hanwha Life Esports  1800.189333   61.911603  0.346820  \n",
       "KT Rolster           1917.934730  181.627248  0.456530  "
      ]
     },
     "execution_count": 4,
     "metadata": {},
     "output_type": "execute_result"
    }
   ],
   "source": [
    "teams_stats = pd.read_csv(\"./csv/stats/teams.csv\", index_col=\"Team\")\n",
    "print(teams_stats.shape)\n",
    "teams_stats.head()"
   ]
  },
  {
   "cell_type": "code",
   "execution_count": 5,
   "metadata": {},
   "outputs": [
    {
     "data": {
      "text/html": [
       "<div>\n",
       "<style scoped>\n",
       "    .dataframe tbody tr th:only-of-type {\n",
       "        vertical-align: middle;\n",
       "    }\n",
       "\n",
       "    .dataframe tbody tr th {\n",
       "        vertical-align: top;\n",
       "    }\n",
       "\n",
       "    .dataframe thead th {\n",
       "        text-align: right;\n",
       "    }\n",
       "</style>\n",
       "<table border=\"1\" class=\"dataframe\">\n",
       "  <thead>\n",
       "    <tr style=\"text-align: right;\">\n",
       "      <th></th>\n",
       "      <th>Games</th>\n",
       "      <th>Win</th>\n",
       "      <th>Loss</th>\n",
       "      <th>WinRate</th>\n",
       "      <th>KD</th>\n",
       "      <th>CKPM</th>\n",
       "      <th>GameDuration</th>\n",
       "      <th>WinGameDuration</th>\n",
       "      <th>LossGameDuration</th>\n",
       "      <th>GPM</th>\n",
       "      <th>GDPM</th>\n",
       "      <th>KPM</th>\n",
       "      <th>_KD</th>\n",
       "      <th>_CKPM</th>\n",
       "      <th>_KPM</th>\n",
       "      <th>_GPM</th>\n",
       "      <th>_GDPM</th>\n",
       "    </tr>\n",
       "    <tr>\n",
       "      <th>Team</th>\n",
       "      <th></th>\n",
       "      <th></th>\n",
       "      <th></th>\n",
       "      <th></th>\n",
       "      <th></th>\n",
       "      <th></th>\n",
       "      <th></th>\n",
       "      <th></th>\n",
       "      <th></th>\n",
       "      <th></th>\n",
       "      <th></th>\n",
       "      <th></th>\n",
       "      <th></th>\n",
       "      <th></th>\n",
       "      <th></th>\n",
       "      <th></th>\n",
       "      <th></th>\n",
       "    </tr>\n",
       "  </thead>\n",
       "  <tbody>\n",
       "    <tr>\n",
       "      <th>DRX</th>\n",
       "      <td>11.0</td>\n",
       "      <td>1.0</td>\n",
       "      <td>10.0</td>\n",
       "      <td>0.090909</td>\n",
       "      <td>0.346591</td>\n",
       "      <td>0.748837</td>\n",
       "      <td>28.746970</td>\n",
       "      <td>34.450000</td>\n",
       "      <td>28.176667</td>\n",
       "      <td>1562.023335</td>\n",
       "      <td>-429.826947</td>\n",
       "      <td>0.168080</td>\n",
       "      <td>0.000000</td>\n",
       "      <td>1.000000</td>\n",
       "      <td>0.000000</td>\n",
       "      <td>0.000000</td>\n",
       "      <td>0.000000</td>\n",
       "    </tr>\n",
       "    <tr>\n",
       "      <th>Dplus KIA</th>\n",
       "      <td>12.0</td>\n",
       "      <td>7.0</td>\n",
       "      <td>5.0</td>\n",
       "      <td>0.583333</td>\n",
       "      <td>1.457447</td>\n",
       "      <td>0.631555</td>\n",
       "      <td>30.906944</td>\n",
       "      <td>30.061905</td>\n",
       "      <td>32.090000</td>\n",
       "      <td>1837.881009</td>\n",
       "      <td>114.495395</td>\n",
       "      <td>0.374791</td>\n",
       "      <td>0.846539</td>\n",
       "      <td>0.520182</td>\n",
       "      <td>0.716626</td>\n",
       "      <td>0.735908</td>\n",
       "      <td>0.790096</td>\n",
       "    </tr>\n",
       "    <tr>\n",
       "      <th>Gen.G</th>\n",
       "      <td>12.0</td>\n",
       "      <td>10.0</td>\n",
       "      <td>2.0</td>\n",
       "      <td>0.833333</td>\n",
       "      <td>1.658824</td>\n",
       "      <td>0.673471</td>\n",
       "      <td>27.709722</td>\n",
       "      <td>27.840000</td>\n",
       "      <td>27.058333</td>\n",
       "      <td>1936.876723</td>\n",
       "      <td>259.105160</td>\n",
       "      <td>0.424899</td>\n",
       "      <td>1.000000</td>\n",
       "      <td>0.691667</td>\n",
       "      <td>0.890341</td>\n",
       "      <td>1.000000</td>\n",
       "      <td>1.000000</td>\n",
       "    </tr>\n",
       "    <tr>\n",
       "      <th>Hanwha Life Esports</th>\n",
       "      <td>10.0</td>\n",
       "      <td>6.0</td>\n",
       "      <td>4.0</td>\n",
       "      <td>0.600000</td>\n",
       "      <td>1.464789</td>\n",
       "      <td>0.572555</td>\n",
       "      <td>31.270000</td>\n",
       "      <td>33.177778</td>\n",
       "      <td>28.408333</td>\n",
       "      <td>1800.189333</td>\n",
       "      <td>61.911603</td>\n",
       "      <td>0.346820</td>\n",
       "      <td>0.852134</td>\n",
       "      <td>0.278800</td>\n",
       "      <td>0.619656</td>\n",
       "      <td>0.635358</td>\n",
       "      <td>0.713769</td>\n",
       "    </tr>\n",
       "    <tr>\n",
       "      <th>KT Rolster</th>\n",
       "      <td>12.0</td>\n",
       "      <td>9.0</td>\n",
       "      <td>3.0</td>\n",
       "      <td>0.750000</td>\n",
       "      <td>1.588889</td>\n",
       "      <td>0.718916</td>\n",
       "      <td>27.948611</td>\n",
       "      <td>28.159259</td>\n",
       "      <td>27.316667</td>\n",
       "      <td>1917.934730</td>\n",
       "      <td>181.627248</td>\n",
       "      <td>0.456530</td>\n",
       "      <td>0.946706</td>\n",
       "      <td>0.877592</td>\n",
       "      <td>1.000000</td>\n",
       "      <td>0.949468</td>\n",
       "      <td>0.887539</td>\n",
       "    </tr>\n",
       "  </tbody>\n",
       "</table>\n",
       "</div>"
      ],
      "text/plain": [
       "                     Games   Win  Loss   WinRate        KD      CKPM   \n",
       "Team                                                                   \n",
       "DRX                   11.0   1.0  10.0  0.090909  0.346591  0.748837  \\\n",
       "Dplus KIA             12.0   7.0   5.0  0.583333  1.457447  0.631555   \n",
       "Gen.G                 12.0  10.0   2.0  0.833333  1.658824  0.673471   \n",
       "Hanwha Life Esports   10.0   6.0   4.0  0.600000  1.464789  0.572555   \n",
       "KT Rolster            12.0   9.0   3.0  0.750000  1.588889  0.718916   \n",
       "\n",
       "                     GameDuration  WinGameDuration  LossGameDuration   \n",
       "Team                                                                   \n",
       "DRX                     28.746970        34.450000         28.176667  \\\n",
       "Dplus KIA               30.906944        30.061905         32.090000   \n",
       "Gen.G                   27.709722        27.840000         27.058333   \n",
       "Hanwha Life Esports     31.270000        33.177778         28.408333   \n",
       "KT Rolster              27.948611        28.159259         27.316667   \n",
       "\n",
       "                             GPM        GDPM       KPM       _KD     _CKPM   \n",
       "Team                                                                         \n",
       "DRX                  1562.023335 -429.826947  0.168080  0.000000  1.000000  \\\n",
       "Dplus KIA            1837.881009  114.495395  0.374791  0.846539  0.520182   \n",
       "Gen.G                1936.876723  259.105160  0.424899  1.000000  0.691667   \n",
       "Hanwha Life Esports  1800.189333   61.911603  0.346820  0.852134  0.278800   \n",
       "KT Rolster           1917.934730  181.627248  0.456530  0.946706  0.877592   \n",
       "\n",
       "                         _KPM      _GPM     _GDPM  \n",
       "Team                                               \n",
       "DRX                  0.000000  0.000000  0.000000  \n",
       "Dplus KIA            0.716626  0.735908  0.790096  \n",
       "Gen.G                0.890341  1.000000  1.000000  \n",
       "Hanwha Life Esports  0.619656  0.635358  0.713769  \n",
       "KT Rolster           1.000000  0.949468  0.887539  "
      ]
     },
     "execution_count": 5,
     "metadata": {},
     "output_type": "execute_result"
    }
   ],
   "source": [
    "scaler = SCALER()\n",
    "origin_columns = [\"KD\", \"CKPM\", \"KPM\", \"GPM\", \"GDPM\"]\n",
    "columns = [\"_\" + col for col in origin_columns]\n",
    "teams_stats[columns] = scaler.fit_transform(teams_stats[origin_columns])\n",
    "teams_stats.head()"
   ]
  },
  {
   "cell_type": "code",
   "execution_count": 6,
   "metadata": {},
   "outputs": [
    {
     "name": "stderr",
     "output_type": "stream",
     "text": [
      "C:\\Users\\pjm58\\AppData\\Local\\Temp\\ipykernel_70008\\879664895.py:6: RuntimeWarning: divide by zero encountered in divide\n",
      "  x = 100 / y\n"
     ]
    },
    {
     "data": {
      "image/png": "[encoded data removed]",
      "text/plain": [
       "<Figure size 1500x1500 with 1 Axes>"
      ]
     },
     "metadata": {},
     "output_type": "display_data"
    }
   ],
   "source": [
    "fig, ax = plt.subplots(1, 1, figsize=(15, 15))\n",
    "ax.set_xlim(teams_stats[\"GDPM\"].min() - 25, teams_stats[\"GDPM\"].max() + 25)\n",
    "ax.set_ylim(teams_stats[\"KPM\"].min() - 0.01, teams_stats[\"KPM\"].max() + 0.01)\n",
    "ax = sns.regplot(data=teams_stats, x=\"GDPM\", y=\"KPM\")\n",
    "y = np.linspace(0, 1.2)\n",
    "x = 100 / y\n",
    "sns.lineplot(x=x, y=y)\n",
    "for idx, i in zip(teams_stats.index, range(teams_stats.shape[0])):\n",
    "    row = teams_stats.iloc[i]\n",
    "    plt.annotate(\n",
    "        idx, xy=(row[\"GDPM\"], row[\"KPM\"]), xytext=(5, 20), textcoords=\"offset pixels\"\n",
    "    )\n",
    "    plt.annotate(\n",
    "        round(row[\"GDPM\"] * row[\"KPM\"], ndigits=1),\n",
    "        xy=(row[\"GDPM\"], row[\"KPM\"]),\n",
    "        xytext=(5, 5),\n",
    "        textcoords=\"offset pixels\",\n",
    "    )"
   ]
  },
  {
   "cell_type": "code",
   "execution_count": 7,
   "metadata": {},
   "outputs": [
    {
     "data": {
      "application/vnd.plotly.v1+json": {
       "config": {
        "plotlyServerURL": "https://plot.ly"
       },
       "data": [
        {
         "fill": "toself",
         "name": "DRX",
         "r": [
          0,
          1,
          0,
          0,
          0
         ],
         "subplot": "polar",
         "theta": [
          "KD - 0.35 | 10",
          "CKPM - 0.75 | 1",
          "KPM - 0.17 | 10",
          "GPM - 1562.02 | 10",
          "GDPM - -429.83 | 10"
         ],
         "type": "scatterpolar"
        },
        {
         "fill": "toself",
         "name": "Dplus KIA",
         "r": [
          0.8465388546339538,
          0.5201819582149598,
          0.716626207308497,
          0.7359081793900284,
          0.7900957682606145
         ],
         "subplot": "polar2",
         "theta": [
          "KD - 1.46 | 5",
          "CKPM - 0.63 | 6",
          "KPM - 0.37 | 4",
          "GPM - 1837.88 | 4",
          "GDPM - 114.5 | 4"
         ],
         "type": "scatterpolar"
        },
        {
         "fill": "toself",
         "name": "Gen.G",
         "r": [
          1,
          0.6916674825623854,
          0.8903408383115661,
          1,
          0.9999999999999999
         ],
         "subplot": "polar3",
         "theta": [
          "KD - 1.66 | 1",
          "CKPM - 0.67 | 4",
          "KPM - 0.42 | 3",
          "GPM - 1936.88 | 1",
          "GDPM - 259.11 | 1"
         ],
         "type": "scatterpolar"
        },
        {
         "fill": "toself",
         "name": "Hanwha Life Esports",
         "r": [
          0.852133841201147,
          0.27880005109303685,
          0.6196555915201285,
          0.6353577321835742,
          0.7137692461941025
         ],
         "subplot": "polar4",
         "theta": [
          "KD - 1.46 | 4",
          "CKPM - 0.57 | 8",
          "KPM - 0.35 | 5",
          "GPM - 1800.19 | 5",
          "GDPM - 61.91 | 5"
         ],
         "type": "scatterpolar"
        },
        {
         "fill": "toself",
         "name": "KT Rolster",
         "r": [
          0.9467056073443929,
          0.8775915919055963,
          1,
          0.9494682630263362,
          0.8875391195318669
         ],
         "subplot": "polar5",
         "theta": [
          "KD - 1.59 | 3",
          "CKPM - 0.72 | 2",
          "KPM - 0.46 | 1",
          "GPM - 1917.93 | 3",
          "GDPM - 181.63 | 3"
         ],
         "type": "scatterpolar"
        },
        {
         "fill": "toself",
         "name": "Kwangdong Freecs",
         "r": [
          0.3360834836359145,
          0.42464094063698044,
          0.30982355905534564,
          0.5483202116958577,
          0.5793258374790172
         ],
         "subplot": "polar6",
         "theta": [
          "KD - 0.79 | 6",
          "CKPM - 0.61 | 7",
          "KPM - 0.26 | 7",
          "GPM - 1767.56 | 7",
          "GDPM - -30.71 | 6"
         ],
         "type": "scatterpolar"
        },
        {
         "fill": "toself",
         "name": "Liiv SANDBOX",
         "r": [
          0.3292366295557618,
          0.6906581321201282,
          0.4233518783781769,
          0.5533325446171098,
          0.49722607903777305
         ],
         "subplot": "polar7",
         "theta": [
          "KD - 0.78 | 7",
          "CKPM - 0.67 | 5",
          "KPM - 0.29 | 6",
          "GPM - 1769.44 | 6",
          "GDPM - -87.27 | 7"
         ],
         "type": "scatterpolar"
        },
        {
         "fill": "toself",
         "name": "Nongshim RedForce",
         "r": [
          0.18176310373193938,
          0.22577605716126392,
          0.11915661273888034,
          0.28580234095485846,
          0.2955040638547039
         ],
         "subplot": "polar8",
         "theta": [
          "KD - 0.59 | 9",
          "CKPM - 0.56 | 9",
          "KPM - 0.2 | 8",
          "GPM - 1669.16 | 9",
          "GDPM - -226.24 | 9"
         ],
         "type": "scatterpolar"
        },
        {
         "fill": "toself",
         "name": "OKSavingsBank BRION",
         "r": [
          0.2582567729447007,
          0,
          0.09997929915734483,
          0.369557634708082,
          0.3717823123768205
         ],
         "subplot": "polar9",
         "theta": [
          "KD - 0.69 | 8",
          "CKPM - 0.5 | 10",
          "KPM - 0.2 | 9",
          "GPM - 1700.55 | 8",
          "GDPM - -173.69 | 8"
         ],
         "type": "scatterpolar"
        },
        {
         "fill": "toself",
         "name": "T1",
         "r": [
          0.9722804103048177,
          0.809069583972823,
          0.959521820195016,
          0.9677413933865511,
          0.9876996314030444
         ],
         "subplot": "polar10",
         "theta": [
          "KD - 1.62 | 2",
          "CKPM - 0.7 | 3",
          "KPM - 0.44 | 2",
          "GPM - 1924.78 | 2",
          "GDPM - 250.63 | 2"
         ],
         "type": "scatterpolar"
        }
       ],
       "layout": {
        "annotations": [
         {
          "font": {
           "size": 16
          },
          "showarrow": false,
          "text": "DRX",
          "x": 0.08399999999999999,
          "xanchor": "center",
          "xref": "paper",
          "y": 1,
          "yanchor": "bottom",
          "yref": "paper",
          "yshift": 20
         },
         {
          "font": {
           "size": 16
          },
          "showarrow": false,
          "text": "Dplus KIA",
          "x": 0.292,
          "xanchor": "center",
          "xref": "paper",
          "y": 1,
          "yanchor": "bottom",
          "yref": "paper",
          "yshift": 20
         },
         {
          "font": {
           "size": 16
          },
          "showarrow": false,
          "text": "Gen.G",
          "x": 0.5,
          "xanchor": "center",
          "xref": "paper",
          "y": 1,
          "yanchor": "bottom",
          "yref": "paper",
          "yshift": 20
         },
         {
          "font": {
           "size": 16
          },
          "showarrow": false,
          "text": "Hanwha Life Esports",
          "x": 0.708,
          "xanchor": "center",
          "xref": "paper",
          "y": 1,
          "yanchor": "bottom",
          "yref": "paper",
          "yshift": 20
         },
         {
          "font": {
           "size": 16
          },
          "showarrow": false,
          "text": "KT Rolster",
          "x": 0.9159999999999999,
          "xanchor": "center",
          "xref": "paper",
          "y": 1,
          "yanchor": "bottom",
          "yref": "paper",
          "yshift": 20
         },
         {
          "font": {
           "size": 16
          },
          "showarrow": false,
          "text": "Kwangdong Freecs",
          "x": 0.08399999999999999,
          "xanchor": "center",
          "xref": "paper",
          "y": 0.375,
          "yanchor": "bottom",
          "yref": "paper",
          "yshift": 20
         },
         {
          "font": {
           "size": 16
          },
          "showarrow": false,
          "text": "Liiv SANDBOX",
          "x": 0.292,
          "xanchor": "center",
          "xref": "paper",
          "y": 0.375,
          "yanchor": "bottom",
          "yref": "paper",
          "yshift": 20
         },
         {
          "font": {
           "size": 16
          },
          "showarrow": false,
          "text": "Nongshim RedForce",
          "x": 0.5,
          "xanchor": "center",
          "xref": "paper",
          "y": 0.375,
          "yanchor": "bottom",
          "yref": "paper",
          "yshift": 20
         },
         {
          "font": {
           "size": 16
          },
          "showarrow": false,
          "text": "OKSavingsBank BRION",
          "x": 0.708,
          "xanchor": "center",
          "xref": "paper",
          "y": 0.375,
          "yanchor": "bottom",
          "yref": "paper",
          "yshift": 20
         },
         {
          "font": {
           "size": 16
          },
          "showarrow": false,
          "text": "T1",
          "x": 0.9159999999999999,
          "xanchor": "center",
          "xref": "paper",
          "y": 0.375,
          "yanchor": "bottom",
          "yref": "paper",
          "yshift": 20
         }
        ],
        "height": 800,
        "polar": {
         "domain": {
          "x": [
           0,
           0.16799999999999998
          ],
          "y": [
           0.625,
           1
          ]
         },
         "radialaxis": {
          "range": [
           -0.2,
           1.2
          ],
          "visible": false
         }
        },
        "polar10": {
         "domain": {
          "x": [
           0.832,
           1
          ],
          "y": [
           0,
           0.375
          ]
         },
         "radialaxis": {
          "range": [
           -0.2,
           1.2
          ],
          "visible": false
         }
        },
        "polar2": {
         "domain": {
          "x": [
           0.208,
           0.376
          ],
          "y": [
           0.625,
           1
          ]
         },
         "radialaxis": {
          "range": [
           -0.2,
           1.2
          ],
          "visible": false
         }
        },
        "polar3": {
         "domain": {
          "x": [
           0.416,
           0.584
          ],
          "y": [
           0.625,
           1
          ]
         },
         "radialaxis": {
          "range": [
           -0.2,
           1.2
          ],
          "visible": false
         }
        },
        "polar4": {
         "domain": {
          "x": [
           0.624,
           0.792
          ],
          "y": [
           0.625,
           1
          ]
         },
         "radialaxis": {
          "range": [
           -0.2,
           1.2
          ],
          "visible": false
         }
        },
        "polar5": {
         "domain": {
          "x": [
           0.832,
           1
          ],
          "y": [
           0.625,
           1
          ]
         },
         "radialaxis": {
          "range": [
           -0.2,
           1.2
          ],
          "visible": false
         }
        },
        "polar6": {
         "domain": {
          "x": [
           0,
           0.16799999999999998
          ],
          "y": [
           0,
           0.375
          ]
         },
         "radialaxis": {
          "range": [
           -0.2,
           1.2
          ],
          "visible": false
         }
        },
        "polar7": {
         "domain": {
          "x": [
           0.208,
           0.376
          ],
          "y": [
           0,
           0.375
          ]
         },
         "radialaxis": {
          "range": [
           -0.2,
           1.2
          ],
          "visible": false
         }
        },
        "polar8": {
         "domain": {
          "x": [
           0.416,
           0.584
          ],
          "y": [
           0,
           0.375
          ]
         },
         "radialaxis": {
          "range": [
           -0.2,
           1.2
          ],
          "visible": false
         }
        },
        "polar9": {
         "domain": {
          "x": [
           0.624,
           0.792
          ],
          "y": [
           0,
           0.375
          ]
         },
         "radialaxis": {
          "range": [
           -0.2,
           1.2
          ],
          "visible": false
         }
        },
        "showlegend": false,
        "template": {
         "data": {
          "bar": [
           {
            "error_x": {
             "color": "#2a3f5f"
            },
            "error_y": {
             "color": "#2a3f5f"
            },
            "marker": {
             "line": {
              "color": "#E5ECF6",
              "width": 0.5
             },
             "pattern": {
              "fillmode": "overlay",
              "size": 10,
              "solidity": 0.2
             }
            },
            "type": "bar"
           }
          ],
          "barpolar": [
           {
            "marker": {
             "line": {
              "color": "#E5ECF6",
              "width": 0.5
             },
             "pattern": {
              "fillmode": "overlay",
              "size": 10,
              "solidity": 0.2
             }
            },
            "type": "barpolar"
           }
          ],
          "carpet": [
           {
            "aaxis": {
             "endlinecolor": "#2a3f5f",
             "gridcolor": "white",
             "linecolor": "white",
             "minorgridcolor": "white",
             "startlinecolor": "#2a3f5f"
            },
            "baxis": {
             "endlinecolor": "#2a3f5f",
             "gridcolor": "white",
             "linecolor": "white",
             "minorgridcolor": "white",
             "startlinecolor": "#2a3f5f"
            },
            "type": "carpet"
           }
          ],
          "choropleth": [
           {
            "colorbar": {
             "outlinewidth": 0,
             "ticks": ""
            },
            "type": "choropleth"
           }
          ],
          "contour": [
           {
            "colorbar": {
             "outlinewidth": 0,
             "ticks": ""
            },
            "colorscale": [
             [
              0,
              "#0d0887"
             ],
             [
              0.1111111111111111,
              "#46039f"
             ],
             [
              0.2222222222222222,
              "#7201a8"
             ],
             [
              0.3333333333333333,
              "#9c179e"
             ],
             [
              0.4444444444444444,
              "#bd3786"
             ],
             [
              0.5555555555555556,
              "#d8576b"
             ],
             [
              0.6666666666666666,
              "#ed7953"
             ],
             [
              0.7777777777777778,
              "#fb9f3a"
             ],
             [
              0.8888888888888888,
              "#fdca26"
             ],
             [
              1,
              "#f0f921"
             ]
            ],
            "type": "contour"
           }
          ],
          "contourcarpet": [
           {
            "colorbar": {
             "outlinewidth": 0,
             "ticks": ""
            },
            "type": "contourcarpet"
           }
          ],
          "heatmap": [
           {
            "colorbar": {
             "outlinewidth": 0,
             "ticks": ""
            },
            "colorscale": [
             [
              0,
              "#0d0887"
             ],
             [
              0.1111111111111111,
              "#46039f"
             ],
             [
              0.2222222222222222,
              "#7201a8"
             ],
             [
              0.3333333333333333,
              "#9c179e"
             ],
             [
              0.4444444444444444,
              "#bd3786"
             ],
             [
              0.5555555555555556,
              "#d8576b"
             ],
             [
              0.6666666666666666,
              "#ed7953"
             ],
             [
              0.7777777777777778,
              "#fb9f3a"
             ],
             [
              0.8888888888888888,
              "#fdca26"
             ],
             [
              1,
              "#f0f921"
             ]
            ],
            "type": "heatmap"
           }
          ],
          "heatmapgl": [
           {
            "colorbar": {
             "outlinewidth": 0,
             "ticks": ""
            },
            "colorscale": [
             [
              0,
              "#0d0887"
             ],
             [
              0.1111111111111111,
              "#46039f"
             ],
             [
              0.2222222222222222,
              "#7201a8"
             ],
             [
              0.3333333333333333,
              "#9c179e"
             ],
             [
              0.4444444444444444,
              "#bd3786"
             ],
             [
              0.5555555555555556,
              "#d8576b"
             ],
             [
              0.6666666666666666,
              "#ed7953"
             ],
             [
              0.7777777777777778,
              "#fb9f3a"
             ],
             [
              0.8888888888888888,
              "#fdca26"
             ],
             [
              1,
              "#f0f921"
             ]
            ],
            "type": "heatmapgl"
           }
          ],
          "histogram": [
           {
            "marker": {
             "pattern": {
              "fillmode": "overlay",
              "size": 10,
              "solidity": 0.2
             }
            },
            "type": "histogram"
           }
          ],
          "histogram2d": [
           {
            "colorbar": {
             "outlinewidth": 0,
             "ticks": ""
            },
            "colorscale": [
             [
              0,
              "#0d0887"
             ],
             [
              0.1111111111111111,
              "#46039f"
             ],
             [
              0.2222222222222222,
              "#7201a8"
             ],
             [
              0.3333333333333333,
              "#9c179e"
             ],
             [
              0.4444444444444444,
              "#bd3786"
             ],
             [
              0.5555555555555556,
              "#d8576b"
             ],
             [
              0.6666666666666666,
              "#ed7953"
             ],
             [
              0.7777777777777778,
              "#fb9f3a"
             ],
             [
              0.8888888888888888,
              "#fdca26"
             ],
             [
              1,
              "#f0f921"
             ]
            ],
            "type": "histogram2d"
           }
          ],
          "histogram2dcontour": [
           {
            "colorbar": {
             "outlinewidth": 0,
             "ticks": ""
            },
            "colorscale": [
             [
              0,
              "#0d0887"
             ],
             [
              0.1111111111111111,
              "#46039f"
             ],
             [
              0.2222222222222222,
              "#7201a8"
             ],
             [
              0.3333333333333333,
              "#9c179e"
             ],
             [
              0.4444444444444444,
              "#bd3786"
             ],
             [
              0.5555555555555556,
              "#d8576b"
             ],
             [
              0.6666666666666666,
              "#ed7953"
             ],
             [
              0.7777777777777778,
              "#fb9f3a"
             ],
             [
              0.8888888888888888,
              "#fdca26"
             ],
             [
              1,
              "#f0f921"
             ]
            ],
            "type": "histogram2dcontour"
           }
          ],
          "mesh3d": [
           {
            "colorbar": {
             "outlinewidth": 0,
             "ticks": ""
            },
            "type": "mesh3d"
           }
          ],
          "parcoords": [
           {
            "line": {
             "colorbar": {
              "outlinewidth": 0,
              "ticks": ""
             }
            },
            "type": "parcoords"
           }
          ],
          "pie": [
           {
            "automargin": true,
            "type": "pie"
           }
          ],
          "scatter": [
           {
            "fillpattern": {
             "fillmode": "overlay",
             "size": 10,
             "solidity": 0.2
            },
            "type": "scatter"
           }
          ],
          "scatter3d": [
           {
            "line": {
             "colorbar": {
              "outlinewidth": 0,
              "ticks": ""
             }
            },
            "marker": {
             "colorbar": {
              "outlinewidth": 0,
              "ticks": ""
             }
            },
            "type": "scatter3d"
           }
          ],
          "scattercarpet": [
           {
            "marker": {
             "colorbar": {
              "outlinewidth": 0,
              "ticks": ""
             }
            },
            "type": "scattercarpet"
           }
          ],
          "scattergeo": [
           {
            "marker": {
             "colorbar": {
              "outlinewidth": 0,
              "ticks": ""
             }
            },
            "type": "scattergeo"
           }
          ],
          "scattergl": [
           {
            "marker": {
             "colorbar": {
              "outlinewidth": 0,
              "ticks": ""
             }
            },
            "type": "scattergl"
           }
          ],
          "scattermapbox": [
           {
            "marker": {
             "colorbar": {
              "outlinewidth": 0,
              "ticks": ""
             }
            },
            "type": "scattermapbox"
           }
          ],
          "scatterpolar": [
           {
            "marker": {
             "colorbar": {
              "outlinewidth": 0,
              "ticks": ""
             }
            },
            "type": "scatterpolar"
           }
          ],
          "scatterpolargl": [
           {
            "marker": {
             "colorbar": {
              "outlinewidth": 0,
              "ticks": ""
             }
            },
            "type": "scatterpolargl"
           }
          ],
          "scatterternary": [
           {
            "marker": {
             "colorbar": {
              "outlinewidth": 0,
              "ticks": ""
             }
            },
            "type": "scatterternary"
           }
          ],
          "surface": [
           {
            "colorbar": {
             "outlinewidth": 0,
             "ticks": ""
            },
            "colorscale": [
             [
              0,
              "#0d0887"
             ],
             [
              0.1111111111111111,
              "#46039f"
             ],
             [
              0.2222222222222222,
              "#7201a8"
             ],
             [
              0.3333333333333333,
              "#9c179e"
             ],
             [
              0.4444444444444444,
              "#bd3786"
             ],
             [
              0.5555555555555556,
              "#d8576b"
             ],
             [
              0.6666666666666666,
              "#ed7953"
             ],
             [
              0.7777777777777778,
              "#fb9f3a"
             ],
             [
              0.8888888888888888,
              "#fdca26"
             ],
             [
              1,
              "#f0f921"
             ]
            ],
            "type": "surface"
           }
          ],
          "table": [
           {
            "cells": {
             "fill": {
              "color": "#EBF0F8"
             },
             "line": {
              "color": "white"
             }
            },
            "header": {
             "fill": {
              "color": "#C8D4E3"
             },
             "line": {
              "color": "white"
             }
            },
            "type": "table"
           }
          ]
         },
         "layout": {
          "annotationdefaults": {
           "arrowcolor": "#2a3f5f",
           "arrowhead": 0,
           "arrowwidth": 1
          },
          "autotypenumbers": "strict",
          "coloraxis": {
           "colorbar": {
            "outlinewidth": 0,
            "ticks": ""
           }
          },
          "colorscale": {
           "diverging": [
            [
             0,
             "#8e0152"
            ],
            [
             0.1,
             "#c51b7d"
            ],
            [
             0.2,
             "#de77ae"
            ],
            [
             0.3,
             "#f1b6da"
            ],
            [
             0.4,
             "#fde0ef"
            ],
            [
             0.5,
             "#f7f7f7"
            ],
            [
             0.6,
             "#e6f5d0"
            ],
            [
             0.7,
             "#b8e186"
            ],
            [
             0.8,
             "#7fbc41"
            ],
            [
             0.9,
             "#4d9221"
            ],
            [
             1,
             "#276419"
            ]
           ],
           "sequential": [
            [
             0,
             "#0d0887"
            ],
            [
             0.1111111111111111,
             "#46039f"
            ],
            [
             0.2222222222222222,
             "#7201a8"
            ],
            [
             0.3333333333333333,
             "#9c179e"
            ],
            [
             0.4444444444444444,
             "#bd3786"
            ],
            [
             0.5555555555555556,
             "#d8576b"
            ],
            [
             0.6666666666666666,
             "#ed7953"
            ],
            [
             0.7777777777777778,
             "#fb9f3a"
            ],
            [
             0.8888888888888888,
             "#fdca26"
            ],
            [
             1,
             "#f0f921"
            ]
           ],
           "sequentialminus": [
            [
             0,
             "#0d0887"
            ],
            [
             0.1111111111111111,
             "#46039f"
            ],
            [
             0.2222222222222222,
             "#7201a8"
            ],
            [
             0.3333333333333333,
             "#9c179e"
            ],
            [
             0.4444444444444444,
             "#bd3786"
            ],
            [
             0.5555555555555556,
             "#d8576b"
            ],
            [
             0.6666666666666666,
             "#ed7953"
            ],
            [
             0.7777777777777778,
             "#fb9f3a"
            ],
            [
             0.8888888888888888,
             "#fdca26"
            ],
            [
             1,
             "#f0f921"
            ]
           ]
          },
          "colorway": [
           "#636efa",
           "#EF553B",
           "#00cc96",
           "#ab63fa",
           "#FFA15A",
           "#19d3f3",
           "#FF6692",
           "#B6E880",
           "#FF97FF",
           "#FECB52"
          ],
          "font": {
           "color": "#2a3f5f"
          },
          "geo": {
           "bgcolor": "white",
           "lakecolor": "white",
           "landcolor": "#E5ECF6",
           "showlakes": true,
           "showland": true,
           "subunitcolor": "white"
          },
          "hoverlabel": {
           "align": "left"
          },
          "hovermode": "closest",
          "mapbox": {
           "style": "light"
          },
          "paper_bgcolor": "white",
          "plot_bgcolor": "#E5ECF6",
          "polar": {
           "angularaxis": {
            "gridcolor": "white",
            "linecolor": "white",
            "ticks": ""
           },
           "bgcolor": "#E5ECF6",
           "radialaxis": {
            "gridcolor": "white",
            "linecolor": "white",
            "ticks": ""
           }
          },
          "scene": {
           "xaxis": {
            "backgroundcolor": "#E5ECF6",
            "gridcolor": "white",
            "gridwidth": 2,
            "linecolor": "white",
            "showbackground": true,
            "ticks": "",
            "zerolinecolor": "white"
           },
           "yaxis": {
            "backgroundcolor": "#E5ECF6",
            "gridcolor": "white",
            "gridwidth": 2,
            "linecolor": "white",
            "showbackground": true,
            "ticks": "",
            "zerolinecolor": "white"
           },
           "zaxis": {
            "backgroundcolor": "#E5ECF6",
            "gridcolor": "white",
            "gridwidth": 2,
            "linecolor": "white",
            "showbackground": true,
            "ticks": "",
            "zerolinecolor": "white"
           }
          },
          "shapedefaults": {
           "line": {
            "color": "#2a3f5f"
           }
          },
          "ternary": {
           "aaxis": {
            "gridcolor": "white",
            "linecolor": "white",
            "ticks": ""
           },
           "baxis": {
            "gridcolor": "white",
            "linecolor": "white",
            "ticks": ""
           },
           "bgcolor": "#E5ECF6",
           "caxis": {
            "gridcolor": "white",
            "linecolor": "white",
            "ticks": ""
           }
          },
          "title": {
           "x": 0.05
          },
          "xaxis": {
           "automargin": true,
           "gridcolor": "white",
           "linecolor": "white",
           "ticks": "",
           "title": {
            "standoff": 15
           },
           "zerolinecolor": "white",
           "zerolinewidth": 2
          },
          "yaxis": {
           "automargin": true,
           "gridcolor": "white",
           "linecolor": "white",
           "ticks": "",
           "title": {
            "standoff": 15
           },
           "zerolinecolor": "white",
           "zerolinewidth": 2
          }
         }
        },
        "title": {
         "y": 1
        }
       }
      }
     },
     "metadata": {},
     "output_type": "display_data"
    }
   ],
   "source": [
    "ROWS, COLUMNS = get_rows_columns(teams_stats)\n",
    "min_value, max_value = get_min_max_value(teams_stats, columns)\n",
    "\n",
    "fig = get_fig_subplots(teams_stats, ROWS, COLUMNS)\n",
    "for i, team_name in enumerate(teams_stats.index):\n",
    "    df = teams_stats.loc[team_name, columns]\n",
    "    theta_list = get_theta_list(teams_stats, team_name, origin_columns)\n",
    "\n",
    "    r, c = get_rc(i, COLUMNS)\n",
    "    fig.add_trace(\n",
    "        go.Scatterpolar(r=df, theta=theta_list, fill=\"toself\", name=team_name),\n",
    "        row=r,\n",
    "        col=c,\n",
    "    )\n",
    "\n",
    "fig.update_layout(\n",
    "    height=400 * ROWS,\n",
    "    showlegend=False,\n",
    "    title=dict(y=1),\n",
    ")\n",
    "fig.update_annotations(yshift=20)\n",
    "fig.update_polars(\n",
    "    radialaxis=dict(range=[min_value - 0.2, max_value + 0.2], visible=False)\n",
    ")\n",
    "fig.show()"
   ]
  },
  {
   "cell_type": "code",
   "execution_count": 8,
   "metadata": {},
   "outputs": [
    {
     "data": {
      "text/plain": [
       "(55, 19)"
      ]
     },
     "execution_count": 8,
     "metadata": {},
     "output_type": "execute_result"
    }
   ],
   "source": [
    "players_stats = pd.read_csv(\"./csv/stats/players_by_position.csv\", index_col=\"Player\")\n",
    "players_stats.shape"
   ]
  },
  {
   "cell_type": "code",
   "execution_count": 9,
   "metadata": {},
   "outputs": [
    {
     "data": {
      "text/plain": [
       "Index(['Position', 'Team', 'Games', 'Win', 'Loss', 'WinRate', 'Kills',\n",
       "       'Deaths', 'Assists', 'KDA', 'DPM', 'CS', 'CSPM', 'Gold', 'GPM', 'KP',\n",
       "       'KS', 'GS', 'ChampionsPlayed'],\n",
       "      dtype='object')"
      ]
     },
     "execution_count": 9,
     "metadata": {},
     "output_type": "execute_result"
    }
   ],
   "source": [
    "players_stats.columns"
   ]
  },
  {
   "cell_type": "code",
   "execution_count": 10,
   "metadata": {},
   "outputs": [],
   "source": [
    "players_stats['DPG'] = players_stats['DPM'].divide(players_stats['GPM'])"
   ]
  },
  {
   "cell_type": "code",
   "execution_count": 11,
   "metadata": {},
   "outputs": [],
   "source": [
    "origin_columns = [\n",
    "    \"KDA\",\n",
    "    \"KP\",\n",
    "    \"KS\",\n",
    "    \"DPM\",\n",
    "    \"DPG\",\n",
    "    \"CSPM\",\n",
    "    \"GPM\",\n",
    "    \"GS\",\n",
    "    \"ChampionsPlayed\",\n",
    "]\n",
    "columns = [\"_\" + col for col in origin_columns]\n",
    "positions = [\"Top\", \"Jungle\", \"Mid\", \"Bot\", \"Support\"]"
   ]
  },
  {
   "cell_type": "code",
   "execution_count": 12,
   "metadata": {},
   "outputs": [],
   "source": [
    "for position in positions:\n",
    "    scaler = SCALER()\n",
    "    df = players_stats.loc[players_stats[\"Position\"] == position]\n",
    "    players_stats.loc[\n",
    "        players_stats[\"Position\"] == position, columns\n",
    "    ] = scaler.fit_transform(df[origin_columns])"
   ]
  },
  {
   "cell_type": "code",
   "execution_count": 13,
   "metadata": {},
   "outputs": [
    {
     "data": {
      "application/vnd.plotly.v1+json": {
       "config": {
        "plotlyServerURL": "https://plot.ly"
       },
       "data": [
        {
         "fill": "toself",
         "name": "Rascal",
         "r": [
          0.02885943109638217,
          1,
          0.6291171604752593,
          0,
          0.2790457396534798,
          0,
          0,
          0.7055412118685718,
          0.3333333333333335
         ],
         "subplot": "polar",
         "theta": [
          "KDA - 1.08 | 9",
          "KP - 0.64 | 1",
          "KS - 0.2 | 4",
          "DPM - 407.82 | 10",
          "DPG - 1.19 | 7",
          "CSPM - 7.48 | 10",
          "GPM - 341.31 | 10",
          "GS - 0.22 | 4",
          "ChampionsPlayed - 6 | 6"
         ],
         "type": "scatterpolar"
        },
        {
         "fill": "toself",
         "name": "Canna",
         "r": [
          0.5368682684341342,
          0.3447139157052037,
          0,
          0.30218697982901155,
          0.47143256446986737,
          0.21068637611260144,
          0.2324652842044337,
          0,
          1
         ],
         "subplot": "polar2",
         "theta": [
          "KDA - 3.23 | 4",
          "KP - 0.52 | 8",
          "KS - 0.07 | 10",
          "DPM - 451.55 | 8",
          "DPG - 1.25 | 4",
          "CSPM - 7.82 | 9",
          "GPM - 360.45 | 8",
          "GS - 0.2 | 10",
          "ChampionsPlayed - 8 | 1"
         ],
         "type": "scatterpolar"
        },
        {
         "fill": "toself",
         "name": "Doran",
         "r": [
          0.3777041332965112,
          0.18840082361015753,
          0.35008488160937856,
          0.43354677764774285,
          0.13840388638721324,
          0.49874308881025264,
          0.8133490935502508,
          0.45312755546112893,
          0
         ],
         "subplot": "polar3",
         "theta": [
          "KDA - 2.56 | 6",
          "KP - 0.49 | 9",
          "KS - 0.14 | 8",
          "DPM - 470.55 | 6",
          "DPG - 1.15 | 9",
          "CSPM - 8.28 | 5",
          "GPM - 408.27 | 2",
          "GS - 0.21 | 6",
          "ChampionsPlayed - 5 | 10"
         ],
         "type": "scatterpolar"
        },
        {
         "fill": "toself",
         "name": "Kingen",
         "r": [
          1,
          0.5061259305210921,
          0.01998460255340978,
          0.3517251037127469,
          0.3943982800861363,
          0.5404362186414327,
          0.38579639865111304,
          0.36019341464119403,
          0.6666666666666665
         ],
         "subplot": "polar4",
         "theta": [
          "KDA - 5.18 | 1",
          "KP - 0.55 | 6",
          "KS - 0.08 | 9",
          "DPM - 458.71 | 7",
          "DPG - 1.23 | 6",
          "CSPM - 8.35 | 4",
          "GPM - 373.07 | 6",
          "GS - 0.21 | 7",
          "ChampionsPlayed - 7 | 2"
         ],
         "type": "scatterpolar"
        },
        {
         "fill": "toself",
         "name": "Kiin",
         "r": [
          0.8571490864692801,
          0.8325062034739452,
          0.7666820252308154,
          0.43405220839244585,
          0,
          0.7908362338855426,
          1,
          0.825234318690292,
          0.6666666666666665
         ],
         "subplot": "polar5",
         "theta": [
          "KDA - 4.58 | 2",
          "KP - 0.61 | 2",
          "KS - 0.22 | 2",
          "DPM - 470.63 | 5",
          "DPG - 1.11 | 10",
          "CSPM - 8.75 | 3",
          "GPM - 423.63 | 1",
          "GS - 0.22 | 3",
          "ChampionsPlayed - 7 | 2"
         ],
         "type": "scatterpolar"
        },
        {
         "fill": "toself",
         "name": "DuDu",
         "r": [
          0.40008285004142496,
          0.7627763682493653,
          0.9999999999999999,
          1,
          1,
          0.830081217724107,
          0.6081631478053051,
          0.8469534056848254,
          0.3333333333333335
         ],
         "subplot": "polar6",
         "theta": [
          "KDA - 2.65 | 5",
          "KP - 0.6 | 3",
          "KS - 0.27 | 1",
          "DPM - 552.52 | 1",
          "DPG - 1.41 | 1",
          "CSPM - 8.81 | 2",
          "GPM - 391.38 | 3",
          "GS - 0.22 | 2",
          "ChampionsPlayed - 6 | 6"
         ],
         "type": "scatterpolar"
        },
        {
         "fill": "toself",
         "name": "Burdol",
         "r": [
          0.26429163214581614,
          0.40512333965844416,
          0.62584833766701,
          0.17160228028678803,
          0.23893293847671515,
          0.2535470936698214,
          0.2973010533034648,
          0.3403817450613058,
          0.6666666666666665
         ],
         "subplot": "polar7",
         "theta": [
          "KDA - 2.08 | 7",
          "KP - 0.53 | 7",
          "KS - 0.2 | 5",
          "DPM - 432.65 | 9",
          "DPG - 1.18 | 8",
          "CSPM - 7.89 | 8",
          "GPM - 365.79 | 7",
          "GS - 0.21 | 8",
          "ChampionsPlayed - 7 | 2"
         ],
         "type": "scatterpolar"
        },
        {
         "fill": "toself",
         "name": "DnDn",
         "r": [
          0,
          0,
          0.36844339980286567,
          0.48749439532086036,
          0.804179742985939,
          0.46653010628767255,
          0.14928080113344677,
          0.5069436156679101,
          0.3333333333333335
         ],
         "subplot": "polar8",
         "theta": [
          "KDA - 0.96 | 10",
          "KP - 0.45 | 10",
          "KS - 0.15 | 7",
          "DPM - 478.36 | 3",
          "DPG - 1.35 | 2",
          "CSPM - 8.23 | 7",
          "GPM - 353.6 | 9",
          "GS - 0.21 | 5",
          "ChampionsPlayed - 6 | 6"
         ],
         "type": "scatterpolar"
        },
        {
         "fill": "toself",
         "name": "Morgan",
         "r": [
          0.17836430346786603,
          0.5961100569259958,
          0.7654270715792574,
          0.48616636211668274,
          0.41221351889970936,
          1,
          0.5574829872683686,
          1,
          0.6666666666666665
         ],
         "subplot": "polar9",
         "theta": [
          "KDA - 1.71 | 8",
          "KP - 0.56 | 5",
          "KS - 0.22 | 3",
          "DPM - 478.17 | 4",
          "DPG - 1.23 | 5",
          "CSPM - 9.09 | 1",
          "GPM - 387.2 | 4",
          "GS - 0.23 | 1",
          "ChampionsPlayed - 7 | 2"
         ],
         "type": "scatterpolar"
        },
        {
         "fill": "toself",
         "name": "Zeus",
         "r": [
          0.71996685998343,
          0.6713836477987418,
          0.4283312613760941,
          0.5280781221551742,
          0.4754842232680412,
          0.4954354809335193,
          0.5448438909725075,
          0.18904681687848068,
          0.3333333333333335
         ],
         "subplot": "polar10",
         "theta": [
          "KDA - 4.0 | 3",
          "KP - 0.58 | 4",
          "KS - 0.16 | 6",
          "DPM - 484.23 | 2",
          "DPG - 1.25 | 3",
          "CSPM - 8.27 | 6",
          "GPM - 386.16 | 5",
          "GS - 0.2 | 9",
          "ChampionsPlayed - 6 | 6"
         ],
         "type": "scatterpolar"
        }
       ],
       "layout": {
        "annotations": [
         {
          "font": {
           "size": 16
          },
          "showarrow": false,
          "text": "Rascal",
          "x": 0.10625,
          "xanchor": "center",
          "xref": "paper",
          "y": 1,
          "yanchor": "bottom",
          "yref": "paper",
          "yshift": 20
         },
         {
          "font": {
           "size": 16
          },
          "showarrow": false,
          "text": "Canna",
          "x": 0.36875,
          "xanchor": "center",
          "xref": "paper",
          "y": 1,
          "yanchor": "bottom",
          "yref": "paper",
          "yshift": 20
         },
         {
          "font": {
           "size": 16
          },
          "showarrow": false,
          "text": "Doran",
          "x": 0.6312500000000001,
          "xanchor": "center",
          "xref": "paper",
          "y": 1,
          "yanchor": "bottom",
          "yref": "paper",
          "yshift": 20
         },
         {
          "font": {
           "size": 16
          },
          "showarrow": false,
          "text": "Kingen",
          "x": 0.89375,
          "xanchor": "center",
          "xref": "paper",
          "y": 1,
          "yanchor": "bottom",
          "yref": "paper",
          "yshift": 20
         },
         {
          "font": {
           "size": 16
          },
          "showarrow": false,
          "text": "Kiin",
          "x": 0.10625,
          "xanchor": "center",
          "xref": "paper",
          "y": 0.6111111111111112,
          "yanchor": "bottom",
          "yref": "paper",
          "yshift": 20
         },
         {
          "font": {
           "size": 16
          },
          "showarrow": false,
          "text": "DuDu",
          "x": 0.36875,
          "xanchor": "center",
          "xref": "paper",
          "y": 0.6111111111111112,
          "yanchor": "bottom",
          "yref": "paper",
          "yshift": 20
         },
         {
          "font": {
           "size": 16
          },
          "showarrow": false,
          "text": "Burdol",
          "x": 0.6312500000000001,
          "xanchor": "center",
          "xref": "paper",
          "y": 0.6111111111111112,
          "yanchor": "bottom",
          "yref": "paper",
          "yshift": 20
         },
         {
          "font": {
           "size": 16
          },
          "showarrow": false,
          "text": "DnDn",
          "x": 0.89375,
          "xanchor": "center",
          "xref": "paper",
          "y": 0.6111111111111112,
          "yanchor": "bottom",
          "yref": "paper",
          "yshift": 20
         },
         {
          "font": {
           "size": 16
          },
          "showarrow": false,
          "text": "Morgan",
          "x": 0.10625,
          "xanchor": "center",
          "xref": "paper",
          "y": 0.22222222222222224,
          "yanchor": "bottom",
          "yref": "paper",
          "yshift": 20
         },
         {
          "font": {
           "size": 16
          },
          "showarrow": false,
          "text": "Zeus",
          "x": 0.36875,
          "xanchor": "center",
          "xref": "paper",
          "y": 0.22222222222222224,
          "yanchor": "bottom",
          "yref": "paper",
          "yshift": 20
         }
        ],
        "height": 1200,
        "polar": {
         "domain": {
          "x": [
           0,
           0.2125
          ],
          "y": [
           0.7777777777777778,
           1
          ]
         },
         "radialaxis": {
          "range": [
           -0.2,
           1.2
          ],
          "visible": false
         }
        },
        "polar10": {
         "domain": {
          "x": [
           0.2625,
           0.475
          ],
          "y": [
           0,
           0.22222222222222224
          ]
         },
         "radialaxis": {
          "range": [
           -0.2,
           1.2
          ],
          "visible": false
         }
        },
        "polar11": {
         "domain": {
          "x": [
           0.525,
           0.7375
          ],
          "y": [
           0,
           0.22222222222222224
          ]
         },
         "radialaxis": {
          "range": [
           -0.2,
           1.2
          ],
          "visible": false
         }
        },
        "polar12": {
         "domain": {
          "x": [
           0.7875,
           1
          ],
          "y": [
           0,
           0.22222222222222224
          ]
         },
         "radialaxis": {
          "range": [
           -0.2,
           1.2
          ],
          "visible": false
         }
        },
        "polar2": {
         "domain": {
          "x": [
           0.2625,
           0.475
          ],
          "y": [
           0.7777777777777778,
           1
          ]
         },
         "radialaxis": {
          "range": [
           -0.2,
           1.2
          ],
          "visible": false
         }
        },
        "polar3": {
         "domain": {
          "x": [
           0.525,
           0.7375
          ],
          "y": [
           0.7777777777777778,
           1
          ]
         },
         "radialaxis": {
          "range": [
           -0.2,
           1.2
          ],
          "visible": false
         }
        },
        "polar4": {
         "domain": {
          "x": [
           0.7875,
           1
          ],
          "y": [
           0.7777777777777778,
           1
          ]
         },
         "radialaxis": {
          "range": [
           -0.2,
           1.2
          ],
          "visible": false
         }
        },
        "polar5": {
         "domain": {
          "x": [
           0,
           0.2125
          ],
          "y": [
           0.3888888888888889,
           0.6111111111111112
          ]
         },
         "radialaxis": {
          "range": [
           -0.2,
           1.2
          ],
          "visible": false
         }
        },
        "polar6": {
         "domain": {
          "x": [
           0.2625,
           0.475
          ],
          "y": [
           0.3888888888888889,
           0.6111111111111112
          ]
         },
         "radialaxis": {
          "range": [
           -0.2,
           1.2
          ],
          "visible": false
         }
        },
        "polar7": {
         "domain": {
          "x": [
           0.525,
           0.7375
          ],
          "y": [
           0.3888888888888889,
           0.6111111111111112
          ]
         },
         "radialaxis": {
          "range": [
           -0.2,
           1.2
          ],
          "visible": false
         }
        },
        "polar8": {
         "domain": {
          "x": [
           0.7875,
           1
          ],
          "y": [
           0.3888888888888889,
           0.6111111111111112
          ]
         },
         "radialaxis": {
          "range": [
           -0.2,
           1.2
          ],
          "visible": false
         }
        },
        "polar9": {
         "domain": {
          "x": [
           0,
           0.2125
          ],
          "y": [
           0,
           0.22222222222222224
          ]
         },
         "radialaxis": {
          "range": [
           -0.2,
           1.2
          ],
          "visible": false
         }
        },
        "showlegend": false,
        "template": {
         "data": {
          "bar": [
           {
            "error_x": {
             "color": "#2a3f5f"
            },
            "error_y": {
             "color": "#2a3f5f"
            },
            "marker": {
             "line": {
              "color": "#E5ECF6",
              "width": 0.5
             },
             "pattern": {
              "fillmode": "overlay",
              "size": 10,
              "solidity": 0.2
             }
            },
            "type": "bar"
           }
          ],
          "barpolar": [
           {
            "marker": {
             "line": {
              "color": "#E5ECF6",
              "width": 0.5
             },
             "pattern": {
              "fillmode": "overlay",
              "size": 10,
              "solidity": 0.2
             }
            },
            "type": "barpolar"
           }
          ],
          "carpet": [
           {
            "aaxis": {
             "endlinecolor": "#2a3f5f",
             "gridcolor": "white",
             "linecolor": "white",
             "minorgridcolor": "white",
             "startlinecolor": "#2a3f5f"
            },
            "baxis": {
             "endlinecolor": "#2a3f5f",
             "gridcolor": "white",
             "linecolor": "white",
             "minorgridcolor": "white",
             "startlinecolor": "#2a3f5f"
            },
            "type": "carpet"
           }
          ],
          "choropleth": [
           {
            "colorbar": {
             "outlinewidth": 0,
             "ticks": ""
            },
            "type": "choropleth"
           }
          ],
          "contour": [
           {
            "colorbar": {
             "outlinewidth": 0,
             "ticks": ""
            },
            "colorscale": [
             [
              0,
              "#0d0887"
             ],
             [
              0.1111111111111111,
              "#46039f"
             ],
             [
              0.2222222222222222,
              "#7201a8"
             ],
             [
              0.3333333333333333,
              "#9c179e"
             ],
             [
              0.4444444444444444,
              "#bd3786"
             ],
             [
              0.5555555555555556,
              "#d8576b"
             ],
             [
              0.6666666666666666,
              "#ed7953"
             ],
             [
              0.7777777777777778,
              "#fb9f3a"
             ],
             [
              0.8888888888888888,
              "#fdca26"
             ],
             [
              1,
              "#f0f921"
             ]
            ],
            "type": "contour"
           }
          ],
          "contourcarpet": [
           {
            "colorbar": {
             "outlinewidth": 0,
             "ticks": ""
            },
            "type": "contourcarpet"
           }
          ],
          "heatmap": [
           {
            "colorbar": {
             "outlinewidth": 0,
             "ticks": ""
            },
            "colorscale": [
             [
              0,
              "#0d0887"
             ],
             [
              0.1111111111111111,
              "#46039f"
             ],
             [
              0.2222222222222222,
              "#7201a8"
             ],
             [
              0.3333333333333333,
              "#9c179e"
             ],
             [
              0.4444444444444444,
              "#bd3786"
             ],
             [
              0.5555555555555556,
              "#d8576b"
             ],
             [
              0.6666666666666666,
              "#ed7953"
             ],
             [
              0.7777777777777778,
              "#fb9f3a"
             ],
             [
              0.8888888888888888,
              "#fdca26"
             ],
             [
              1,
              "#f0f921"
             ]
            ],
            "type": "heatmap"
           }
          ],
          "heatmapgl": [
           {
            "colorbar": {
             "outlinewidth": 0,
             "ticks": ""
            },
            "colorscale": [
             [
              0,
              "#0d0887"
             ],
             [
              0.1111111111111111,
              "#46039f"
             ],
             [
              0.2222222222222222,
              "#7201a8"
             ],
             [
              0.3333333333333333,
              "#9c179e"
             ],
             [
              0.4444444444444444,
              "#bd3786"
             ],
             [
              0.5555555555555556,
              "#d8576b"
             ],
             [
              0.6666666666666666,
              "#ed7953"
             ],
             [
              0.7777777777777778,
              "#fb9f3a"
             ],
             [
              0.8888888888888888,
              "#fdca26"
             ],
             [
              1,
              "#f0f921"
             ]
            ],
            "type": "heatmapgl"
           }
          ],
          "histogram": [
           {
            "marker": {
             "pattern": {
              "fillmode": "overlay",
              "size": 10,
              "solidity": 0.2
             }
            },
            "type": "histogram"
           }
          ],
          "histogram2d": [
           {
            "colorbar": {
             "outlinewidth": 0,
             "ticks": ""
            },
            "colorscale": [
             [
              0,
              "#0d0887"
             ],
             [
              0.1111111111111111,
              "#46039f"
             ],
             [
              0.2222222222222222,
              "#7201a8"
             ],
             [
              0.3333333333333333,
              "#9c179e"
             ],
             [
              0.4444444444444444,
              "#bd3786"
             ],
             [
              0.5555555555555556,
              "#d8576b"
             ],
             [
              0.6666666666666666,
              "#ed7953"
             ],
             [
              0.7777777777777778,
              "#fb9f3a"
             ],
             [
              0.8888888888888888,
              "#fdca26"
             ],
             [
              1,
              "#f0f921"
             ]
            ],
            "type": "histogram2d"
           }
          ],
          "histogram2dcontour": [
           {
            "colorbar": {
             "outlinewidth": 0,
             "ticks": ""
            },
            "colorscale": [
             [
              0,
              "#0d0887"
             ],
             [
              0.1111111111111111,
              "#46039f"
             ],
             [
              0.2222222222222222,
              "#7201a8"
             ],
             [
              0.3333333333333333,
              "#9c179e"
             ],
             [
              0.4444444444444444,
              "#bd3786"
             ],
             [
              0.5555555555555556,
              "#d8576b"
             ],
             [
              0.6666666666666666,
              "#ed7953"
             ],
             [
              0.7777777777777778,
              "#fb9f3a"
             ],
             [
              0.8888888888888888,
              "#fdca26"
             ],
             [
              1,
              "#f0f921"
             ]
            ],
            "type": "histogram2dcontour"
           }
          ],
          "mesh3d": [
           {
            "colorbar": {
             "outlinewidth": 0,
             "ticks": ""
            },
            "type": "mesh3d"
           }
          ],
          "parcoords": [
           {
            "line": {
             "colorbar": {
              "outlinewidth": 0,
              "ticks": ""
             }
            },
            "type": "parcoords"
           }
          ],
          "pie": [
           {
            "automargin": true,
            "type": "pie"
           }
          ],
          "scatter": [
           {
            "fillpattern": {
             "fillmode": "overlay",
             "size": 10,
             "solidity": 0.2
            },
            "type": "scatter"
           }
          ],
          "scatter3d": [
           {
            "line": {
             "colorbar": {
              "outlinewidth": 0,
              "ticks": ""
             }
            },
            "marker": {
             "colorbar": {
              "outlinewidth": 0,
              "ticks": ""
             }
            },
            "type": "scatter3d"
           }
          ],
          "scattercarpet": [
           {
            "marker": {
             "colorbar": {
              "outlinewidth": 0,
              "ticks": ""
             }
            },
            "type": "scattercarpet"
           }
          ],
          "scattergeo": [
           {
            "marker": {
             "colorbar": {
              "outlinewidth": 0,
              "ticks": ""
             }
            },
            "type": "scattergeo"
           }
          ],
          "scattergl": [
           {
            "marker": {
             "colorbar": {
              "outlinewidth": 0,
              "ticks": ""
             }
            },
            "type": "scattergl"
           }
          ],
          "scattermapbox": [
           {
            "marker": {
             "colorbar": {
              "outlinewidth": 0,
              "ticks": ""
             }
            },
            "type": "scattermapbox"
           }
          ],
          "scatterpolar": [
           {
            "marker": {
             "colorbar": {
              "outlinewidth": 0,
              "ticks": ""
             }
            },
            "type": "scatterpolar"
           }
          ],
          "scatterpolargl": [
           {
            "marker": {
             "colorbar": {
              "outlinewidth": 0,
              "ticks": ""
             }
            },
            "type": "scatterpolargl"
           }
          ],
          "scatterternary": [
           {
            "marker": {
             "colorbar": {
              "outlinewidth": 0,
              "ticks": ""
             }
            },
            "type": "scatterternary"
           }
          ],
          "surface": [
           {
            "colorbar": {
             "outlinewidth": 0,
             "ticks": ""
            },
            "colorscale": [
             [
              0,
              "#0d0887"
             ],
             [
              0.1111111111111111,
              "#46039f"
             ],
             [
              0.2222222222222222,
              "#7201a8"
             ],
             [
              0.3333333333333333,
              "#9c179e"
             ],
             [
              0.4444444444444444,
              "#bd3786"
             ],
             [
              0.5555555555555556,
              "#d8576b"
             ],
             [
              0.6666666666666666,
              "#ed7953"
             ],
             [
              0.7777777777777778,
              "#fb9f3a"
             ],
             [
              0.8888888888888888,
              "#fdca26"
             ],
             [
              1,
              "#f0f921"
             ]
            ],
            "type": "surface"
           }
          ],
          "table": [
           {
            "cells": {
             "fill": {
              "color": "#EBF0F8"
             },
             "line": {
              "color": "white"
             }
            },
            "header": {
             "fill": {
              "color": "#C8D4E3"
             },
             "line": {
              "color": "white"
             }
            },
            "type": "table"
           }
          ]
         },
         "layout": {
          "annotationdefaults": {
           "arrowcolor": "#2a3f5f",
           "arrowhead": 0,
           "arrowwidth": 1
          },
          "autotypenumbers": "strict",
          "coloraxis": {
           "colorbar": {
            "outlinewidth": 0,
            "ticks": ""
           }
          },
          "colorscale": {
           "diverging": [
            [
             0,
             "#8e0152"
            ],
            [
             0.1,
             "#c51b7d"
            ],
            [
             0.2,
             "#de77ae"
            ],
            [
             0.3,
             "#f1b6da"
            ],
            [
             0.4,
             "#fde0ef"
            ],
            [
             0.5,
             "#f7f7f7"
            ],
            [
             0.6,
             "#e6f5d0"
            ],
            [
             0.7,
             "#b8e186"
            ],
            [
             0.8,
             "#7fbc41"
            ],
            [
             0.9,
             "#4d9221"
            ],
            [
             1,
             "#276419"
            ]
           ],
           "sequential": [
            [
             0,
             "#0d0887"
            ],
            [
             0.1111111111111111,
             "#46039f"
            ],
            [
             0.2222222222222222,
             "#7201a8"
            ],
            [
             0.3333333333333333,
             "#9c179e"
            ],
            [
             0.4444444444444444,
             "#bd3786"
            ],
            [
             0.5555555555555556,
             "#d8576b"
            ],
            [
             0.6666666666666666,
             "#ed7953"
            ],
            [
             0.7777777777777778,
             "#fb9f3a"
            ],
            [
             0.8888888888888888,
             "#fdca26"
            ],
            [
             1,
             "#f0f921"
            ]
           ],
           "sequentialminus": [
            [
             0,
             "#0d0887"
            ],
            [
             0.1111111111111111,
             "#46039f"
            ],
            [
             0.2222222222222222,
             "#7201a8"
            ],
            [
             0.3333333333333333,
             "#9c179e"
            ],
            [
             0.4444444444444444,
             "#bd3786"
            ],
            [
             0.5555555555555556,
             "#d8576b"
            ],
            [
             0.6666666666666666,
             "#ed7953"
            ],
            [
             0.7777777777777778,
             "#fb9f3a"
            ],
            [
             0.8888888888888888,
             "#fdca26"
            ],
            [
             1,
             "#f0f921"
            ]
           ]
          },
          "colorway": [
           "#636efa",
           "#EF553B",
           "#00cc96",
           "#ab63fa",
           "#FFA15A",
           "#19d3f3",
           "#FF6692",
           "#B6E880",
           "#FF97FF",
           "#FECB52"
          ],
          "font": {
           "color": "#2a3f5f"
          },
          "geo": {
           "bgcolor": "white",
           "lakecolor": "white",
           "landcolor": "#E5ECF6",
           "showlakes": true,
           "showland": true,
           "subunitcolor": "white"
          },
          "hoverlabel": {
           "align": "left"
          },
          "hovermode": "closest",
          "mapbox": {
           "style": "light"
          },
          "paper_bgcolor": "white",
          "plot_bgcolor": "#E5ECF6",
          "polar": {
           "angularaxis": {
            "gridcolor": "white",
            "linecolor": "white",
            "ticks": ""
           },
           "bgcolor": "#E5ECF6",
           "radialaxis": {
            "gridcolor": "white",
            "linecolor": "white",
            "ticks": ""
           }
          },
          "scene": {
           "xaxis": {
            "backgroundcolor": "#E5ECF6",
            "gridcolor": "white",
            "gridwidth": 2,
            "linecolor": "white",
            "showbackground": true,
            "ticks": "",
            "zerolinecolor": "white"
           },
           "yaxis": {
            "backgroundcolor": "#E5ECF6",
            "gridcolor": "white",
            "gridwidth": 2,
            "linecolor": "white",
            "showbackground": true,
            "ticks": "",
            "zerolinecolor": "white"
           },
           "zaxis": {
            "backgroundcolor": "#E5ECF6",
            "gridcolor": "white",
            "gridwidth": 2,
            "linecolor": "white",
            "showbackground": true,
            "ticks": "",
            "zerolinecolor": "white"
           }
          },
          "shapedefaults": {
           "line": {
            "color": "#2a3f5f"
           }
          },
          "ternary": {
           "aaxis": {
            "gridcolor": "white",
            "linecolor": "white",
            "ticks": ""
           },
           "baxis": {
            "gridcolor": "white",
            "linecolor": "white",
            "ticks": ""
           },
           "bgcolor": "#E5ECF6",
           "caxis": {
            "gridcolor": "white",
            "linecolor": "white",
            "ticks": ""
           }
          },
          "title": {
           "x": 0.05
          },
          "xaxis": {
           "automargin": true,
           "gridcolor": "white",
           "linecolor": "white",
           "ticks": "",
           "title": {
            "standoff": 15
           },
           "zerolinecolor": "white",
           "zerolinewidth": 2
          },
          "yaxis": {
           "automargin": true,
           "gridcolor": "white",
           "linecolor": "white",
           "ticks": "",
           "title": {
            "standoff": 15
           },
           "zerolinecolor": "white",
           "zerolinewidth": 2
          }
         }
        },
        "title": {
         "y": 1
        },
        "width": 2000
       }
      }
     },
     "metadata": {},
     "output_type": "display_data"
    }
   ],
   "source": [
    "df = players_stats.loc[players_stats[\"Position\"] == positions[0]]\n",
    "min_value, max_value = get_min_max_value(df, columns)\n",
    "\n",
    "ROWS, COLUMNS = get_rows_columns(df, 4)\n",
    "\n",
    "fig = get_fig_subplots(df, ROWS, COLUMNS)\n",
    "for i, player_name in enumerate(df.index):\n",
    "    _df = df.loc[player_name, columns]\n",
    "    theta_list = get_theta_list(df, player_name, origin_columns)\n",
    "\n",
    "    r, c = get_rc(i, COLUMNS)\n",
    "    fig.add_trace(\n",
    "        go.Scatterpolar(r=_df, theta=theta_list, fill=\"toself\", name=player_name),\n",
    "        row=r,\n",
    "        col=c,\n",
    "    )\n",
    "\n",
    "fig.update_layout(\n",
    "    height=400 * ROWS,\n",
    "    width=500 * COLUMNS,\n",
    "    showlegend=False,\n",
    "    title=dict(y=1),\n",
    ")\n",
    "fig.update_annotations(yshift=20)\n",
    "fig.update_polars(\n",
    "    radialaxis=dict(range=[min_value - 0.2, max_value + 0.2], visible=False)\n",
    ")\n",
    "fig.show()"
   ]
  },
  {
   "cell_type": "code",
   "execution_count": 14,
   "metadata": {},
   "outputs": [
    {
     "data": {
      "application/vnd.plotly.v1+json": {
       "config": {
        "plotlyServerURL": "https://plot.ly"
       },
       "data": [
        {
         "fill": "toself",
         "name": "Croco",
         "r": [
          0.15884559884559885,
          0.3896103896103895,
          0.05118483412322283,
          0.47115522003908006,
          0.724942101406161,
          0,
          0,
          0.31648243605274207,
          0.6000000000000001
         ],
         "subplot": "polar",
         "theta": [
          "KDA - 1.27 | 10",
          "KP - 0.69 | 8",
          "KS - 0.2 | 4",
          "DPM - 257.66 | 8",
          "DPG - 0.87 | 3",
          "CSPM - 4.98 | 11",
          "GPM - 294.93 | 11",
          "GS - 0.19 | 6",
          "ChampionsPlayed - 6 | 5"
         ],
         "type": "scatterpolar"
        },
        {
         "fill": "toself",
         "name": "Juhan",
         "r": [
          0,
          1,
          0.9999999999999999,
          0.4915525626250119,
          0.6472852362714023,
          0.2744654131929698,
          0.17501633327133348,
          1,
          0
         ],
         "subplot": "polar2",
         "theta": [
          "KDA - 0.38 | 11",
          "KP - 0.83 | 1",
          "KS - 0.67 | 1",
          "DPM - 260.79 | 7",
          "DPG - 0.84 | 5",
          "CSPM - 5.37 | 10",
          "GPM - 309.21 | 10",
          "GS - 0.2 | 1",
          "ChampionsPlayed - 3 | 11"
         ],
         "type": "scatterpolar"
        },
        {
         "fill": "toself",
         "name": "Canyon",
         "r": [
          0.7861471861471863,
          0.4004171011470281,
          0.000726467637596484,
          1,
          0.9999999999999998,
          0.753372073144865,
          0.6196167379045732,
          0.3423380011610906,
          1
         ],
         "subplot": "polar3",
         "theta": [
          "KDA - 4.75 | 2",
          "KP - 0.69 | 7",
          "KS - 0.18 | 10",
          "DPM - 338.84 | 1",
          "DPG - 0.98 | 1",
          "CSPM - 6.05 | 2",
          "GPM - 345.5 | 4",
          "GS - 0.19 | 5",
          "ChampionsPlayed - 8 | 1"
         ],
         "type": "scatterpolar"
        },
        {
         "fill": "toself",
         "name": "Peanut",
         "r": [
          1,
          0.31610942249240104,
          0.0915599475647878,
          0.8779566100600338,
          0.6645059056270128,
          1,
          1.0000000000000004,
          0.5710041475093117,
          0.6000000000000001
         ],
         "subplot": "polar4",
         "theta": [
          "KDA - 5.94 | 1",
          "KP - 0.67 | 10",
          "KS - 0.22 | 3",
          "DPM - 320.1 | 2",
          "DPG - 0.85 | 4",
          "CSPM - 6.4 | 1",
          "GPM - 376.54 | 1",
          "GS - 0.19 | 2",
          "ChampionsPlayed - 6 | 5"
         ],
         "type": "scatterpolar"
        },
        {
         "fill": "toself",
         "name": "Clid",
         "r": [
          0.6321257689678743,
          0.4780219780219781,
          0.09419431279620843,
          0.5971584164317152,
          0.5036689443182858,
          0.747038966439125,
          0.6962147518074837,
          0.5475441010497759,
          0.6000000000000001
         ],
         "subplot": "polar5",
         "theta": [
          "KDA - 3.89 | 4",
          "KP - 0.71 | 6",
          "KS - 0.22 | 2",
          "DPM - 277.0 | 5",
          "DPG - 0.79 | 8",
          "CSPM - 6.04 | 3",
          "GPM - 351.75 | 3",
          "GS - 0.19 | 3",
          "ChampionsPlayed - 6 | 5"
         ],
         "type": "scatterpolar"
        },
        {
         "fill": "toself",
         "name": "Cuzz",
         "r": [
          0.7411255411255412,
          0.6653346653346652,
          0,
          0.8539035138622335,
          0.78406970263849,
          0.5996599298651661,
          0.710049270902736,
          0.22889983713609308,
          0.3999999999999999
         ],
         "subplot": "polar6",
         "theta": [
          "KDA - 4.5 | 3",
          "KP - 0.76 | 2",
          "KS - 0.17 | 11",
          "DPM - 316.41 | 3",
          "DPG - 0.9 | 2",
          "CSPM - 5.83 | 4",
          "GPM - 352.88 | 2",
          "GS - 0.18 | 9",
          "ChampionsPlayed - 5 | 8"
         ],
         "type": "scatterpolar"
        },
        {
         "fill": "toself",
         "name": "YoungJae",
         "r": [
          0.6087089381207029,
          0.5104333868378812,
          0.010064433675914641,
          0.5678186863862709,
          0.6101731968625435,
          0.5686850187501937,
          0.4140810403778752,
          0.27432116846778065,
          0.3999999999999999
         ],
         "subplot": "polar7",
         "theta": [
          "KDA - 3.76 | 6",
          "KP - 0.72 | 4",
          "KS - 0.18 | 8",
          "DPM - 272.5 | 6",
          "DPG - 0.83 | 6",
          "CSPM - 5.79 | 5",
          "GPM - 328.72 | 7",
          "GS - 0.19 | 7",
          "ChampionsPlayed - 5 | 8"
         ],
         "type": "scatterpolar"
        },
        {
         "fill": "toself",
         "name": "Willer",
         "r": [
          0.3722385141739981,
          0.6218487394957983,
          0.003345413994981894,
          0.30382938696554707,
          0.2854901697769532,
          0.3889311452590811,
          0.43202651210818965,
          0.2670696208526788,
          0.8
         ],
         "subplot": "polar8",
         "theta": [
          "KDA - 2.45 | 7",
          "KP - 0.75 | 3",
          "KS - 0.18 | 9",
          "DPM - 231.98 | 9",
          "DPG - 0.7 | 10",
          "CSPM - 5.53 | 8",
          "GPM - 330.19 | 6",
          "GS - 0.19 | 8",
          "ChampionsPlayed - 7 | 3"
         ],
         "type": "scatterpolar"
        },
        {
         "fill": "toself",
         "name": "Sylvie",
         "r": [
          0.2608946608946609,
          0,
          0.05118483412322283,
          0,
          0,
          0.5063058508434755,
          0.22611295320137392,
          0.37471374191830975,
          0.3999999999999999
         ],
         "subplot": "polar9",
         "theta": [
          "KDA - 1.83 | 9",
          "KP - 0.6 | 11",
          "KS - 0.2 | 4",
          "DPM - 185.34 | 11",
          "DPG - 0.59 | 11",
          "CSPM - 5.7 | 6",
          "GPM - 313.38 | 8",
          "GS - 0.19 | 4",
          "ChampionsPlayed - 5 | 8"
         ],
         "type": "scatterpolar"
        },
        {
         "fill": "toself",
         "name": "UmTi",
         "r": [
          0.37014718614718617,
          0.5042016806722689,
          0.05118483412322283,
          0.26589759410257385,
          0.342675159961104,
          0.4191829265562026,
          0.20934339657403234,
          0.17486976160862255,
          0.8
         ],
         "subplot": "polar10",
         "theta": [
          "KDA - 2.44 | 8",
          "KP - 0.72 | 5",
          "KS - 0.2 | 4",
          "DPM - 226.15 | 10",
          "DPG - 0.72 | 9",
          "CSPM - 5.57 | 7",
          "GPM - 312.01 | 9",
          "GS - 0.18 | 10",
          "ChampionsPlayed - 7 | 3"
         ],
         "type": "scatterpolar"
        },
        {
         "fill": "toself",
         "name": "Oner",
         "r": [
          0.6253555967841683,
          0.3396226415094339,
          0.04095502101403925,
          0.6336067348280372,
          0.5875962111511039,
          0.37371331474336733,
          0.6081033010829455,
          0,
          1
         ],
         "subplot": "polar11",
         "theta": [
          "KDA - 3.86 | 5",
          "KP - 0.68 | 9",
          "KS - 0.19 | 7",
          "DPM - 282.6 | 4",
          "DPG - 0.82 | 7",
          "CSPM - 5.51 | 9",
          "GPM - 344.56 | 5",
          "GS - 0.18 | 11",
          "ChampionsPlayed - 8 | 1"
         ],
         "type": "scatterpolar"
        }
       ],
       "layout": {
        "annotations": [
         {
          "font": {
           "size": 16
          },
          "showarrow": false,
          "text": "Croco",
          "x": 0.10625,
          "xanchor": "center",
          "xref": "paper",
          "y": 1,
          "yanchor": "bottom",
          "yref": "paper",
          "yshift": 20
         },
         {
          "font": {
           "size": 16
          },
          "showarrow": false,
          "text": "Juhan",
          "x": 0.36875,
          "xanchor": "center",
          "xref": "paper",
          "y": 1,
          "yanchor": "bottom",
          "yref": "paper",
          "yshift": 20
         },
         {
          "font": {
           "size": 16
          },
          "showarrow": false,
          "text": "Canyon",
          "x": 0.6312500000000001,
          "xanchor": "center",
          "xref": "paper",
          "y": 1,
          "yanchor": "bottom",
          "yref": "paper",
          "yshift": 20
         },
         {
          "font": {
           "size": 16
          },
          "showarrow": false,
          "text": "Peanut",
          "x": 0.89375,
          "xanchor": "center",
          "xref": "paper",
          "y": 1,
          "yanchor": "bottom",
          "yref": "paper",
          "yshift": 20
         },
         {
          "font": {
           "size": 16
          },
          "showarrow": false,
          "text": "Clid",
          "x": 0.10625,
          "xanchor": "center",
          "xref": "paper",
          "y": 0.6111111111111112,
          "yanchor": "bottom",
          "yref": "paper",
          "yshift": 20
         },
         {
          "font": {
           "size": 16
          },
          "showarrow": false,
          "text": "Cuzz",
          "x": 0.36875,
          "xanchor": "center",
          "xref": "paper",
          "y": 0.6111111111111112,
          "yanchor": "bottom",
          "yref": "paper",
          "yshift": 20
         },
         {
          "font": {
           "size": 16
          },
          "showarrow": false,
          "text": "YoungJae",
          "x": 0.6312500000000001,
          "xanchor": "center",
          "xref": "paper",
          "y": 0.6111111111111112,
          "yanchor": "bottom",
          "yref": "paper",
          "yshift": 20
         },
         {
          "font": {
           "size": 16
          },
          "showarrow": false,
          "text": "Willer",
          "x": 0.89375,
          "xanchor": "center",
          "xref": "paper",
          "y": 0.6111111111111112,
          "yanchor": "bottom",
          "yref": "paper",
          "yshift": 20
         },
         {
          "font": {
           "size": 16
          },
          "showarrow": false,
          "text": "Sylvie",
          "x": 0.10625,
          "xanchor": "center",
          "xref": "paper",
          "y": 0.22222222222222224,
          "yanchor": "bottom",
          "yref": "paper",
          "yshift": 20
         },
         {
          "font": {
           "size": 16
          },
          "showarrow": false,
          "text": "UmTi",
          "x": 0.36875,
          "xanchor": "center",
          "xref": "paper",
          "y": 0.22222222222222224,
          "yanchor": "bottom",
          "yref": "paper",
          "yshift": 20
         },
         {
          "font": {
           "size": 16
          },
          "showarrow": false,
          "text": "Oner",
          "x": 0.6312500000000001,
          "xanchor": "center",
          "xref": "paper",
          "y": 0.22222222222222224,
          "yanchor": "bottom",
          "yref": "paper",
          "yshift": 20
         }
        ],
        "height": 1200,
        "polar": {
         "domain": {
          "x": [
           0,
           0.2125
          ],
          "y": [
           0.7777777777777778,
           1
          ]
         },
         "radialaxis": {
          "range": [
           -0.2,
           1.2000000000000004
          ],
          "visible": false
         }
        },
        "polar10": {
         "domain": {
          "x": [
           0.2625,
           0.475
          ],
          "y": [
           0,
           0.22222222222222224
          ]
         },
         "radialaxis": {
          "range": [
           -0.2,
           1.2000000000000004
          ],
          "visible": false
         }
        },
        "polar11": {
         "domain": {
          "x": [
           0.525,
           0.7375
          ],
          "y": [
           0,
           0.22222222222222224
          ]
         },
         "radialaxis": {
          "range": [
           -0.2,
           1.2000000000000004
          ],
          "visible": false
         }
        },
        "polar12": {
         "domain": {
          "x": [
           0.7875,
           1
          ],
          "y": [
           0,
           0.22222222222222224
          ]
         },
         "radialaxis": {
          "range": [
           -0.2,
           1.2000000000000004
          ],
          "visible": false
         }
        },
        "polar2": {
         "domain": {
          "x": [
           0.2625,
           0.475
          ],
          "y": [
           0.7777777777777778,
           1
          ]
         },
         "radialaxis": {
          "range": [
           -0.2,
           1.2000000000000004
          ],
          "visible": false
         }
        },
        "polar3": {
         "domain": {
          "x": [
           0.525,
           0.7375
          ],
          "y": [
           0.7777777777777778,
           1
          ]
         },
         "radialaxis": {
          "range": [
           -0.2,
           1.2000000000000004
          ],
          "visible": false
         }
        },
        "polar4": {
         "domain": {
          "x": [
           0.7875,
           1
          ],
          "y": [
           0.7777777777777778,
           1
          ]
         },
         "radialaxis": {
          "range": [
           -0.2,
           1.2000000000000004
          ],
          "visible": false
         }
        },
        "polar5": {
         "domain": {
          "x": [
           0,
           0.2125
          ],
          "y": [
           0.3888888888888889,
           0.6111111111111112
          ]
         },
         "radialaxis": {
          "range": [
           -0.2,
           1.2000000000000004
          ],
          "visible": false
         }
        },
        "polar6": {
         "domain": {
          "x": [
           0.2625,
           0.475
          ],
          "y": [
           0.3888888888888889,
           0.6111111111111112
          ]
         },
         "radialaxis": {
          "range": [
           -0.2,
           1.2000000000000004
          ],
          "visible": false
         }
        },
        "polar7": {
         "domain": {
          "x": [
           0.525,
           0.7375
          ],
          "y": [
           0.3888888888888889,
           0.6111111111111112
          ]
         },
         "radialaxis": {
          "range": [
           -0.2,
           1.2000000000000004
          ],
          "visible": false
         }
        },
        "polar8": {
         "domain": {
          "x": [
           0.7875,
           1
          ],
          "y": [
           0.3888888888888889,
           0.6111111111111112
          ]
         },
         "radialaxis": {
          "range": [
           -0.2,
           1.2000000000000004
          ],
          "visible": false
         }
        },
        "polar9": {
         "domain": {
          "x": [
           0,
           0.2125
          ],
          "y": [
           0,
           0.22222222222222224
          ]
         },
         "radialaxis": {
          "range": [
           -0.2,
           1.2000000000000004
          ],
          "visible": false
         }
        },
        "showlegend": false,
        "template": {
         "data": {
          "bar": [
           {
            "error_x": {
             "color": "#2a3f5f"
            },
            "error_y": {
             "color": "#2a3f5f"
            },
            "marker": {
             "line": {
              "color": "#E5ECF6",
              "width": 0.5
             },
             "pattern": {
              "fillmode": "overlay",
              "size": 10,
              "solidity": 0.2
             }
            },
            "type": "bar"
           }
          ],
          "barpolar": [
           {
            "marker": {
             "line": {
              "color": "#E5ECF6",
              "width": 0.5
             },
             "pattern": {
              "fillmode": "overlay",
              "size": 10,
              "solidity": 0.2
             }
            },
            "type": "barpolar"
           }
          ],
          "carpet": [
           {
            "aaxis": {
             "endlinecolor": "#2a3f5f",
             "gridcolor": "white",
             "linecolor": "white",
             "minorgridcolor": "white",
             "startlinecolor": "#2a3f5f"
            },
            "baxis": {
             "endlinecolor": "#2a3f5f",
             "gridcolor": "white",
             "linecolor": "white",
             "minorgridcolor": "white",
             "startlinecolor": "#2a3f5f"
            },
            "type": "carpet"
           }
          ],
          "choropleth": [
           {
            "colorbar": {
             "outlinewidth": 0,
             "ticks": ""
            },
            "type": "choropleth"
           }
          ],
          "contour": [
           {
            "colorbar": {
             "outlinewidth": 0,
             "ticks": ""
            },
            "colorscale": [
             [
              0,
              "#0d0887"
             ],
             [
              0.1111111111111111,
              "#46039f"
             ],
             [
              0.2222222222222222,
              "#7201a8"
             ],
             [
              0.3333333333333333,
              "#9c179e"
             ],
             [
              0.4444444444444444,
              "#bd3786"
             ],
             [
              0.5555555555555556,
              "#d8576b"
             ],
             [
              0.6666666666666666,
              "#ed7953"
             ],
             [
              0.7777777777777778,
              "#fb9f3a"
             ],
             [
              0.8888888888888888,
              "#fdca26"
             ],
             [
              1,
              "#f0f921"
             ]
            ],
            "type": "contour"
           }
          ],
          "contourcarpet": [
           {
            "colorbar": {
             "outlinewidth": 0,
             "ticks": ""
            },
            "type": "contourcarpet"
           }
          ],
          "heatmap": [
           {
            "colorbar": {
             "outlinewidth": 0,
             "ticks": ""
            },
            "colorscale": [
             [
              0,
              "#0d0887"
             ],
             [
              0.1111111111111111,
              "#46039f"
             ],
             [
              0.2222222222222222,
              "#7201a8"
             ],
             [
              0.3333333333333333,
              "#9c179e"
             ],
             [
              0.4444444444444444,
              "#bd3786"
             ],
             [
              0.5555555555555556,
              "#d8576b"
             ],
             [
              0.6666666666666666,
              "#ed7953"
             ],
             [
              0.7777777777777778,
              "#fb9f3a"
             ],
             [
              0.8888888888888888,
              "#fdca26"
             ],
             [
              1,
              "#f0f921"
             ]
            ],
            "type": "heatmap"
           }
          ],
          "heatmapgl": [
           {
            "colorbar": {
             "outlinewidth": 0,
             "ticks": ""
            },
            "colorscale": [
             [
              0,
              "#0d0887"
             ],
             [
              0.1111111111111111,
              "#46039f"
             ],
             [
              0.2222222222222222,
              "#7201a8"
             ],
             [
              0.3333333333333333,
              "#9c179e"
             ],
             [
              0.4444444444444444,
              "#bd3786"
             ],
             [
              0.5555555555555556,
              "#d8576b"
             ],
             [
              0.6666666666666666,
              "#ed7953"
             ],
             [
              0.7777777777777778,
              "#fb9f3a"
             ],
             [
              0.8888888888888888,
              "#fdca26"
             ],
             [
              1,
              "#f0f921"
             ]
            ],
            "type": "heatmapgl"
           }
          ],
          "histogram": [
           {
            "marker": {
             "pattern": {
              "fillmode": "overlay",
              "size": 10,
              "solidity": 0.2
             }
            },
            "type": "histogram"
           }
          ],
          "histogram2d": [
           {
            "colorbar": {
             "outlinewidth": 0,
             "ticks": ""
            },
            "colorscale": [
             [
              0,
              "#0d0887"
             ],
             [
              0.1111111111111111,
              "#46039f"
             ],
             [
              0.2222222222222222,
              "#7201a8"
             ],
             [
              0.3333333333333333,
              "#9c179e"
             ],
             [
              0.4444444444444444,
              "#bd3786"
             ],
             [
              0.5555555555555556,
              "#d8576b"
             ],
             [
              0.6666666666666666,
              "#ed7953"
             ],
             [
              0.7777777777777778,
              "#fb9f3a"
             ],
             [
              0.8888888888888888,
              "#fdca26"
             ],
             [
              1,
              "#f0f921"
             ]
            ],
            "type": "histogram2d"
           }
          ],
          "histogram2dcontour": [
           {
            "colorbar": {
             "outlinewidth": 0,
             "ticks": ""
            },
            "colorscale": [
             [
              0,
              "#0d0887"
             ],
             [
              0.1111111111111111,
              "#46039f"
             ],
             [
              0.2222222222222222,
              "#7201a8"
             ],
             [
              0.3333333333333333,
              "#9c179e"
             ],
             [
              0.4444444444444444,
              "#bd3786"
             ],
             [
              0.5555555555555556,
              "#d8576b"
             ],
             [
              0.6666666666666666,
              "#ed7953"
             ],
             [
              0.7777777777777778,
              "#fb9f3a"
             ],
             [
              0.8888888888888888,
              "#fdca26"
             ],
             [
              1,
              "#f0f921"
             ]
            ],
            "type": "histogram2dcontour"
           }
          ],
          "mesh3d": [
           {
            "colorbar": {
             "outlinewidth": 0,
             "ticks": ""
            },
            "type": "mesh3d"
           }
          ],
          "parcoords": [
           {
            "line": {
             "colorbar": {
              "outlinewidth": 0,
              "ticks": ""
             }
            },
            "type": "parcoords"
           }
          ],
          "pie": [
           {
            "automargin": true,
            "type": "pie"
           }
          ],
          "scatter": [
           {
            "fillpattern": {
             "fillmode": "overlay",
             "size": 10,
             "solidity": 0.2
            },
            "type": "scatter"
           }
          ],
          "scatter3d": [
           {
            "line": {
             "colorbar": {
              "outlinewidth": 0,
              "ticks": ""
             }
            },
            "marker": {
             "colorbar": {
              "outlinewidth": 0,
              "ticks": ""
             }
            },
            "type": "scatter3d"
           }
          ],
          "scattercarpet": [
           {
            "marker": {
             "colorbar": {
              "outlinewidth": 0,
              "ticks": ""
             }
            },
            "type": "scattercarpet"
           }
          ],
          "scattergeo": [
           {
            "marker": {
             "colorbar": {
              "outlinewidth": 0,
              "ticks": ""
             }
            },
            "type": "scattergeo"
           }
          ],
          "scattergl": [
           {
            "marker": {
             "colorbar": {
              "outlinewidth": 0,
              "ticks": ""
             }
            },
            "type": "scattergl"
           }
          ],
          "scattermapbox": [
           {
            "marker": {
             "colorbar": {
              "outlinewidth": 0,
              "ticks": ""
             }
            },
            "type": "scattermapbox"
           }
          ],
          "scatterpolar": [
           {
            "marker": {
             "colorbar": {
              "outlinewidth": 0,
              "ticks": ""
             }
            },
            "type": "scatterpolar"
           }
          ],
          "scatterpolargl": [
           {
            "marker": {
             "colorbar": {
              "outlinewidth": 0,
              "ticks": ""
             }
            },
            "type": "scatterpolargl"
           }
          ],
          "scatterternary": [
           {
            "marker": {
             "colorbar": {
              "outlinewidth": 0,
              "ticks": ""
             }
            },
            "type": "scatterternary"
           }
          ],
          "surface": [
           {
            "colorbar": {
             "outlinewidth": 0,
             "ticks": ""
            },
            "colorscale": [
             [
              0,
              "#0d0887"
             ],
             [
              0.1111111111111111,
              "#46039f"
             ],
             [
              0.2222222222222222,
              "#7201a8"
             ],
             [
              0.3333333333333333,
              "#9c179e"
             ],
             [
              0.4444444444444444,
              "#bd3786"
             ],
             [
              0.5555555555555556,
              "#d8576b"
             ],
             [
              0.6666666666666666,
              "#ed7953"
             ],
             [
              0.7777777777777778,
              "#fb9f3a"
             ],
             [
              0.8888888888888888,
              "#fdca26"
             ],
             [
              1,
              "#f0f921"
             ]
            ],
            "type": "surface"
           }
          ],
          "table": [
           {
            "cells": {
             "fill": {
              "color": "#EBF0F8"
             },
             "line": {
              "color": "white"
             }
            },
            "header": {
             "fill": {
              "color": "#C8D4E3"
             },
             "line": {
              "color": "white"
             }
            },
            "type": "table"
           }
          ]
         },
         "layout": {
          "annotationdefaults": {
           "arrowcolor": "#2a3f5f",
           "arrowhead": 0,
           "arrowwidth": 1
          },
          "autotypenumbers": "strict",
          "coloraxis": {
           "colorbar": {
            "outlinewidth": 0,
            "ticks": ""
           }
          },
          "colorscale": {
           "diverging": [
            [
             0,
             "#8e0152"
            ],
            [
             0.1,
             "#c51b7d"
            ],
            [
             0.2,
             "#de77ae"
            ],
            [
             0.3,
             "#f1b6da"
            ],
            [
             0.4,
             "#fde0ef"
            ],
            [
             0.5,
             "#f7f7f7"
            ],
            [
             0.6,
             "#e6f5d0"
            ],
            [
             0.7,
             "#b8e186"
            ],
            [
             0.8,
             "#7fbc41"
            ],
            [
             0.9,
             "#4d9221"
            ],
            [
             1,
             "#276419"
            ]
           ],
           "sequential": [
            [
             0,
             "#0d0887"
            ],
            [
             0.1111111111111111,
             "#46039f"
            ],
            [
             0.2222222222222222,
             "#7201a8"
            ],
            [
             0.3333333333333333,
             "#9c179e"
            ],
            [
             0.4444444444444444,
             "#bd3786"
            ],
            [
             0.5555555555555556,
             "#d8576b"
            ],
            [
             0.6666666666666666,
             "#ed7953"
            ],
            [
             0.7777777777777778,
             "#fb9f3a"
            ],
            [
             0.8888888888888888,
             "#fdca26"
            ],
            [
             1,
             "#f0f921"
            ]
           ],
           "sequentialminus": [
            [
             0,
             "#0d0887"
            ],
            [
             0.1111111111111111,
             "#46039f"
            ],
            [
             0.2222222222222222,
             "#7201a8"
            ],
            [
             0.3333333333333333,
             "#9c179e"
            ],
            [
             0.4444444444444444,
             "#bd3786"
            ],
            [
             0.5555555555555556,
             "#d8576b"
            ],
            [
             0.6666666666666666,
             "#ed7953"
            ],
            [
             0.7777777777777778,
             "#fb9f3a"
            ],
            [
             0.8888888888888888,
             "#fdca26"
            ],
            [
             1,
             "#f0f921"
            ]
           ]
          },
          "colorway": [
           "#636efa",
           "#EF553B",
           "#00cc96",
           "#ab63fa",
           "#FFA15A",
           "#19d3f3",
           "#FF6692",
           "#B6E880",
           "#FF97FF",
           "#FECB52"
          ],
          "font": {
           "color": "#2a3f5f"
          },
          "geo": {
           "bgcolor": "white",
           "lakecolor": "white",
           "landcolor": "#E5ECF6",
           "showlakes": true,
           "showland": true,
           "subunitcolor": "white"
          },
          "hoverlabel": {
           "align": "left"
          },
          "hovermode": "closest",
          "mapbox": {
           "style": "light"
          },
          "paper_bgcolor": "white",
          "plot_bgcolor": "#E5ECF6",
          "polar": {
           "angularaxis": {
            "gridcolor": "white",
            "linecolor": "white",
            "ticks": ""
           },
           "bgcolor": "#E5ECF6",
           "radialaxis": {
            "gridcolor": "white",
            "linecolor": "white",
            "ticks": ""
           }
          },
          "scene": {
           "xaxis": {
            "backgroundcolor": "#E5ECF6",
            "gridcolor": "white",
            "gridwidth": 2,
            "linecolor": "white",
            "showbackground": true,
            "ticks": "",
            "zerolinecolor": "white"
           },
           "yaxis": {
            "backgroundcolor": "#E5ECF6",
            "gridcolor": "white",
            "gridwidth": 2,
            "linecolor": "white",
            "showbackground": true,
            "ticks": "",
            "zerolinecolor": "white"
           },
           "zaxis": {
            "backgroundcolor": "#E5ECF6",
            "gridcolor": "white",
            "gridwidth": 2,
            "linecolor": "white",
            "showbackground": true,
            "ticks": "",
            "zerolinecolor": "white"
           }
          },
          "shapedefaults": {
           "line": {
            "color": "#2a3f5f"
           }
          },
          "ternary": {
           "aaxis": {
            "gridcolor": "white",
            "linecolor": "white",
            "ticks": ""
           },
           "baxis": {
            "gridcolor": "white",
            "linecolor": "white",
            "ticks": ""
           },
           "bgcolor": "#E5ECF6",
           "caxis": {
            "gridcolor": "white",
            "linecolor": "white",
            "ticks": ""
           }
          },
          "title": {
           "x": 0.05
          },
          "xaxis": {
           "automargin": true,
           "gridcolor": "white",
           "linecolor": "white",
           "ticks": "",
           "title": {
            "standoff": 15
           },
           "zerolinecolor": "white",
           "zerolinewidth": 2
          },
          "yaxis": {
           "automargin": true,
           "gridcolor": "white",
           "linecolor": "white",
           "ticks": "",
           "title": {
            "standoff": 15
           },
           "zerolinecolor": "white",
           "zerolinewidth": 2
          }
         }
        },
        "title": {
         "y": 1
        },
        "width": 2000
       }
      }
     },
     "metadata": {},
     "output_type": "display_data"
    }
   ],
   "source": [
    "df = players_stats.loc[players_stats[\"Position\"] == positions[1]]\n",
    "min_value, max_value = get_min_max_value(df, columns)\n",
    "\n",
    "ROWS, COLUMNS = get_rows_columns(df, 4)\n",
    "\n",
    "fig = get_fig_subplots(df, ROWS, COLUMNS)\n",
    "for i, player_name in enumerate(df.index):\n",
    "    _df = df.loc[player_name, columns]\n",
    "    theta_list = get_theta_list(df, player_name, origin_columns)\n",
    "\n",
    "    r, c = get_rc(i, COLUMNS)\n",
    "    fig.add_trace(\n",
    "        go.Scatterpolar(r=_df, theta=theta_list, fill=\"toself\", name=player_name),\n",
    "        row=r,\n",
    "        col=c,\n",
    "    )\n",
    "\n",
    "fig.update_layout(\n",
    "    height=400 * ROWS,\n",
    "    width=500 * COLUMNS,\n",
    "    showlegend=False,\n",
    "    title=dict(y=1),\n",
    ")\n",
    "fig.update_annotations(yshift=20)\n",
    "fig.update_polars(\n",
    "    radialaxis=dict(range=[min_value - 0.2, max_value + 0.2], visible=False)\n",
    ")\n",
    "fig.show()"
   ]
  },
  {
   "cell_type": "code",
   "execution_count": 15,
   "metadata": {},
   "outputs": [
    {
     "data": {
      "application/vnd.plotly.v1+json": {
       "config": {
        "plotlyServerURL": "https://plot.ly"
       },
       "data": [
        {
         "fill": "toself",
         "name": "FATE",
         "r": [
          0,
          0,
          0,
          0.3709606098037854,
          0.8721848235059926,
          0.3713634611750165,
          0,
          0,
          0
         ],
         "subplot": "polar",
         "theta": [
          "KDA - 0.33 | 12",
          "KP - 0.5 | 12",
          "KS - 0.0 | 12",
          "DPM - 455.81 | 9",
          "DPG - 1.46 | 3",
          "CSPM - 8.24 | 10",
          "GPM - 312.5 | 12",
          "GS - 0.21 | 12",
          "ChampionsPlayed - 2 | 12"
         ],
         "type": "scatterpolar"
        },
        {
         "fill": "toself",
         "name": "kyeahoo",
         "r": [
          0.17979452054794517,
          0.5891727801669617,
          0.9675141242937855,
          0.12320259461131555,
          0.3450423040338282,
          0,
          0.11516301262496409,
          0.08947750091619255,
          0.4
         ],
         "subplot": "polar2",
         "theta": [
          "KDA - 1.58 | 11",
          "KP - 0.64 | 7",
          "KS - 0.25 | 3",
          "DPM - 381.85 | 10",
          "DPG - 1.17 | 10",
          "CSPM - 7.46 | 12",
          "GPM - 325.04 | 11",
          "GS - 0.21 | 11",
          "ChampionsPlayed - 4 | 9"
         ],
         "type": "scatterpolar"
        },
        {
         "fill": "toself",
         "name": "ShowMaker",
         "r": [
          1,
          1,
          1,
          0.9406368655829216,
          0.9895692436651089,
          0.8284914854179708,
          0.9073144189528182,
          0.7573739023117128,
          0.6
         ],
         "subplot": "polar3",
         "theta": [
          "KDA - 7.29 | 1",
          "KP - 0.74 | 1",
          "KS - 0.26 | 1",
          "DPM - 625.89 | 2",
          "DPG - 1.52 | 2",
          "CSPM - 9.2 | 3",
          "GPM - 411.28 | 4",
          "GS - 0.22 | 3",
          "ChampionsPlayed - 5 | 5"
         ],
         "type": "scatterpolar"
        },
        {
         "fill": "toself",
         "name": "Chovy",
         "r": [
          0.8917808219178082,
          0.7976077061501008,
          0.7557131599684791,
          0.7187966605640492,
          0.6573982221948818,
          0.8754837990355244,
          0.9574339550976529,
          0.43688013526222313,
          0.8000000000000002
         ],
         "subplot": "polar4",
         "theta": [
          "KDA - 6.53 | 3",
          "KP - 0.7 | 5",
          "KS - 0.2 | 8",
          "DPM - 559.66 | 4",
          "DPG - 1.34 | 5",
          "CSPM - 9.3 | 2",
          "GPM - 416.74 | 3",
          "GS - 0.22 | 8",
          "ChampionsPlayed - 6 | 2"
         ],
         "type": "scatterpolar"
        },
        {
         "fill": "toself",
         "name": "Zeka",
         "r": [
          0.767123287671233,
          0.6291618828932264,
          0.9879807692307693,
          0.4940150504670171,
          0.5267082998028099,
          0.5487235689386813,
          0.6847248132623833,
          0.4647550041050117,
          0.6
         ],
         "subplot": "polar5",
         "theta": [
          "KDA - 5.67 | 4",
          "KP - 0.65 | 6",
          "KS - 0.26 | 2",
          "DPM - 492.55 | 7",
          "DPG - 1.27 | 9",
          "CSPM - 8.61 | 8",
          "GPM - 387.05 | 7",
          "GS - 0.22 | 7",
          "ChampionsPlayed - 5 | 5"
         ],
         "type": "scatterpolar"
        },
        {
         "fill": "toself",
         "name": "Bdd",
         "r": [
          0.9301369863013698,
          0.8722471558292457,
          0.9314296814296814,
          0.6613195781461145,
          0.5722622684336387,
          0.7132811772738816,
          0.9711960232766752,
          0.49771462671308875,
          0.8000000000000002
         ],
         "subplot": "polar6",
         "theta": [
          "KDA - 6.8 | 2",
          "KP - 0.71 | 3",
          "KS - 0.24 | 4",
          "DPM - 542.5 | 5",
          "DPG - 1.3 | 7",
          "CSPM - 8.96 | 6",
          "GPM - 418.24 | 2",
          "GS - 0.22 | 6",
          "ChampionsPlayed - 6 | 2"
         ],
         "type": "scatterpolar"
        },
        {
         "fill": "toself",
         "name": "BuLLDoG",
         "r": [
          0.26738672286617493,
          0.5743753144390409,
          0.7696629213483145,
          0.6348910920150446,
          0.6418546088894006,
          0.809082479664982,
          0.8090348892550887,
          0.8396374049473483,
          1
         ],
         "subplot": "polar7",
         "theta": [
          "KDA - 2.19 | 8",
          "KP - 0.64 | 8",
          "KS - 0.2 | 6",
          "DPM - 534.61 | 6",
          "DPG - 1.33 | 6",
          "CSPM - 9.16 | 4",
          "GPM - 400.58 | 6",
          "GS - 0.23 | 2",
          "ChampionsPlayed - 7 | 1"
         ],
         "type": "scatterpolar"
        },
        {
         "fill": "toself",
         "name": "Clozer",
         "r": [
          0.36630136986301365,
          0.8419666374012293,
          0.7461873638344226,
          0.7283452534528403,
          0.7558927723147839,
          1.0000000000000004,
          0.830775864086474,
          1,
          0.8000000000000002
         ],
         "subplot": "polar8",
         "theta": [
          "KDA - 2.88 | 6",
          "KP - 0.71 | 4",
          "KS - 0.2 | 9",
          "DPM - 562.51 | 3",
          "DPG - 1.4 | 4",
          "CSPM - 9.56 | 1",
          "GPM - 402.95 | 5",
          "GS - 0.23 | 1",
          "ChampionsPlayed - 6 | 2"
         ],
         "type": "scatterpolar"
        },
        {
         "fill": "toself",
         "name": "Quad",
         "r": [
          0.20944484498918528,
          0.4833107191316146,
          0.6227272727272727,
          0,
          0,
          0.34805332215020135,
          0.33438362672508504,
          0.156885385996949,
          0.4
         ],
         "subplot": "polar9",
         "theta": [
          "KDA - 1.79 | 9",
          "KP - 0.62 | 10",
          "KS - 0.16 | 10",
          "DPM - 345.06 | 12",
          "DPG - 0.99 | 12",
          "CSPM - 8.19 | 11",
          "GPM - 348.91 | 10",
          "GS - 0.21 | 10",
          "ChampionsPlayed - 4 | 9"
         ],
         "type": "scatterpolar"
        },
        {
         "fill": "toself",
         "name": "Ivory",
         "r": [
          0.18493150684931506,
          0.2726368159203978,
          0.7611111111111113,
          0.45251675515367995,
          0.5415033577841748,
          0.7984342589221183,
          0.5737437631150084,
          0.5558915116099765,
          0.6
         ],
         "subplot": "polar10",
         "theta": [
          "KDA - 1.62 | 10",
          "KP - 0.57 | 11",
          "KS - 0.2 | 7",
          "DPM - 480.16 | 8",
          "DPG - 1.28 | 8",
          "CSPM - 9.14 | 5",
          "GPM - 374.97 | 8",
          "GS - 0.22 | 5",
          "ChampionsPlayed - 5 | 5"
         ],
         "type": "scatterpolar"
        },
        {
         "fill": "toself",
         "name": "Karis",
         "r": [
          0.27568493150684925,
          0.8997014925373135,
          0.608888888888889,
          0.07516755088752891,
          0.11480030637962235,
          0.45596177223048073,
          0.3420286139380657,
          0.2038506956737205,
          0.20000000000000007
         ],
         "subplot": "polar11",
         "theta": [
          "KDA - 2.25 | 7",
          "KP - 0.72 | 2",
          "KS - 0.16 | 11",
          "DPM - 367.5 | 11",
          "DPG - 1.05 | 11",
          "CSPM - 8.42 | 9",
          "GPM - 349.74 | 9",
          "GS - 0.21 | 9",
          "ChampionsPlayed - 3 | 11"
         ],
         "type": "scatterpolar"
        },
        {
         "fill": "toself",
         "name": "Faker",
         "r": [
          0.6712328767123288,
          0.5272693138083171,
          0.8855695317959468,
          1.0000000000000002,
          1,
          0.6764041109101417,
          1,
          0.6378290463348275,
          0.6
         ],
         "subplot": "polar12",
         "theta": [
          "KDA - 5.0 | 5",
          "KP - 0.63 | 9",
          "KS - 0.23 | 5",
          "DPM - 643.61 | 1",
          "DPG - 1.53 | 1",
          "CSPM - 8.88 | 7",
          "GPM - 421.37 | 1",
          "GS - 0.22 | 4",
          "ChampionsPlayed - 5 | 5"
         ],
         "type": "scatterpolar"
        }
       ],
       "layout": {
        "annotations": [
         {
          "font": {
           "size": 16
          },
          "showarrow": false,
          "text": "FATE",
          "x": 0.10625,
          "xanchor": "center",
          "xref": "paper",
          "y": 1,
          "yanchor": "bottom",
          "yref": "paper",
          "yshift": 20
         },
         {
          "font": {
           "size": 16
          },
          "showarrow": false,
          "text": "kyeahoo",
          "x": 0.36875,
          "xanchor": "center",
          "xref": "paper",
          "y": 1,
          "yanchor": "bottom",
          "yref": "paper",
          "yshift": 20
         },
         {
          "font": {
           "size": 16
          },
          "showarrow": false,
          "text": "ShowMaker",
          "x": 0.6312500000000001,
          "xanchor": "center",
          "xref": "paper",
          "y": 1,
          "yanchor": "bottom",
          "yref": "paper",
          "yshift": 20
         },
         {
          "font": {
           "size": 16
          },
          "showarrow": false,
          "text": "Chovy",
          "x": 0.89375,
          "xanchor": "center",
          "xref": "paper",
          "y": 1,
          "yanchor": "bottom",
          "yref": "paper",
          "yshift": 20
         },
         {
          "font": {
           "size": 16
          },
          "showarrow": false,
          "text": "Zeka",
          "x": 0.10625,
          "xanchor": "center",
          "xref": "paper",
          "y": 0.6111111111111112,
          "yanchor": "bottom",
          "yref": "paper",
          "yshift": 20
         },
         {
          "font": {
           "size": 16
          },
          "showarrow": false,
          "text": "Bdd",
          "x": 0.36875,
          "xanchor": "center",
          "xref": "paper",
          "y": 0.6111111111111112,
          "yanchor": "bottom",
          "yref": "paper",
          "yshift": 20
         },
         {
          "font": {
           "size": 16
          },
          "showarrow": false,
          "text": "BuLLDoG",
          "x": 0.6312500000000001,
          "xanchor": "center",
          "xref": "paper",
          "y": 0.6111111111111112,
          "yanchor": "bottom",
          "yref": "paper",
          "yshift": 20
         },
         {
          "font": {
           "size": 16
          },
          "showarrow": false,
          "text": "Clozer",
          "x": 0.89375,
          "xanchor": "center",
          "xref": "paper",
          "y": 0.6111111111111112,
          "yanchor": "bottom",
          "yref": "paper",
          "yshift": 20
         },
         {
          "font": {
           "size": 16
          },
          "showarrow": false,
          "text": "Quad",
          "x": 0.10625,
          "xanchor": "center",
          "xref": "paper",
          "y": 0.22222222222222224,
          "yanchor": "bottom",
          "yref": "paper",
          "yshift": 20
         },
         {
          "font": {
           "size": 16
          },
          "showarrow": false,
          "text": "Ivory",
          "x": 0.36875,
          "xanchor": "center",
          "xref": "paper",
          "y": 0.22222222222222224,
          "yanchor": "bottom",
          "yref": "paper",
          "yshift": 20
         },
         {
          "font": {
           "size": 16
          },
          "showarrow": false,
          "text": "Karis",
          "x": 0.6312500000000001,
          "xanchor": "center",
          "xref": "paper",
          "y": 0.22222222222222224,
          "yanchor": "bottom",
          "yref": "paper",
          "yshift": 20
         },
         {
          "font": {
           "size": 16
          },
          "showarrow": false,
          "text": "Faker",
          "x": 0.89375,
          "xanchor": "center",
          "xref": "paper",
          "y": 0.22222222222222224,
          "yanchor": "bottom",
          "yref": "paper",
          "yshift": 20
         }
        ],
        "height": 1200,
        "polar": {
         "domain": {
          "x": [
           0,
           0.2125
          ],
          "y": [
           0.7777777777777778,
           1
          ]
         },
         "radialaxis": {
          "range": [
           -0.2,
           1.2000000000000004
          ],
          "visible": false
         }
        },
        "polar10": {
         "domain": {
          "x": [
           0.2625,
           0.475
          ],
          "y": [
           0,
           0.22222222222222224
          ]
         },
         "radialaxis": {
          "range": [
           -0.2,
           1.2000000000000004
          ],
          "visible": false
         }
        },
        "polar11": {
         "domain": {
          "x": [
           0.525,
           0.7375
          ],
          "y": [
           0,
           0.22222222222222224
          ]
         },
         "radialaxis": {
          "range": [
           -0.2,
           1.2000000000000004
          ],
          "visible": false
         }
        },
        "polar12": {
         "domain": {
          "x": [
           0.7875,
           1
          ],
          "y": [
           0,
           0.22222222222222224
          ]
         },
         "radialaxis": {
          "range": [
           -0.2,
           1.2000000000000004
          ],
          "visible": false
         }
        },
        "polar2": {
         "domain": {
          "x": [
           0.2625,
           0.475
          ],
          "y": [
           0.7777777777777778,
           1
          ]
         },
         "radialaxis": {
          "range": [
           -0.2,
           1.2000000000000004
          ],
          "visible": false
         }
        },
        "polar3": {
         "domain": {
          "x": [
           0.525,
           0.7375
          ],
          "y": [
           0.7777777777777778,
           1
          ]
         },
         "radialaxis": {
          "range": [
           -0.2,
           1.2000000000000004
          ],
          "visible": false
         }
        },
        "polar4": {
         "domain": {
          "x": [
           0.7875,
           1
          ],
          "y": [
           0.7777777777777778,
           1
          ]
         },
         "radialaxis": {
          "range": [
           -0.2,
           1.2000000000000004
          ],
          "visible": false
         }
        },
        "polar5": {
         "domain": {
          "x": [
           0,
           0.2125
          ],
          "y": [
           0.3888888888888889,
           0.6111111111111112
          ]
         },
         "radialaxis": {
          "range": [
           -0.2,
           1.2000000000000004
          ],
          "visible": false
         }
        },
        "polar6": {
         "domain": {
          "x": [
           0.2625,
           0.475
          ],
          "y": [
           0.3888888888888889,
           0.6111111111111112
          ]
         },
         "radialaxis": {
          "range": [
           -0.2,
           1.2000000000000004
          ],
          "visible": false
         }
        },
        "polar7": {
         "domain": {
          "x": [
           0.525,
           0.7375
          ],
          "y": [
           0.3888888888888889,
           0.6111111111111112
          ]
         },
         "radialaxis": {
          "range": [
           -0.2,
           1.2000000000000004
          ],
          "visible": false
         }
        },
        "polar8": {
         "domain": {
          "x": [
           0.7875,
           1
          ],
          "y": [
           0.3888888888888889,
           0.6111111111111112
          ]
         },
         "radialaxis": {
          "range": [
           -0.2,
           1.2000000000000004
          ],
          "visible": false
         }
        },
        "polar9": {
         "domain": {
          "x": [
           0,
           0.2125
          ],
          "y": [
           0,
           0.22222222222222224
          ]
         },
         "radialaxis": {
          "range": [
           -0.2,
           1.2000000000000004
          ],
          "visible": false
         }
        },
        "showlegend": false,
        "template": {
         "data": {
          "bar": [
           {
            "error_x": {
             "color": "#2a3f5f"
            },
            "error_y": {
             "color": "#2a3f5f"
            },
            "marker": {
             "line": {
              "color": "#E5ECF6",
              "width": 0.5
             },
             "pattern": {
              "fillmode": "overlay",
              "size": 10,
              "solidity": 0.2
             }
            },
            "type": "bar"
           }
          ],
          "barpolar": [
           {
            "marker": {
             "line": {
              "color": "#E5ECF6",
              "width": 0.5
             },
             "pattern": {
              "fillmode": "overlay",
              "size": 10,
              "solidity": 0.2
             }
            },
            "type": "barpolar"
           }
          ],
          "carpet": [
           {
            "aaxis": {
             "endlinecolor": "#2a3f5f",
             "gridcolor": "white",
             "linecolor": "white",
             "minorgridcolor": "white",
             "startlinecolor": "#2a3f5f"
            },
            "baxis": {
             "endlinecolor": "#2a3f5f",
             "gridcolor": "white",
             "linecolor": "white",
             "minorgridcolor": "white",
             "startlinecolor": "#2a3f5f"
            },
            "type": "carpet"
           }
          ],
          "choropleth": [
           {
            "colorbar": {
             "outlinewidth": 0,
             "ticks": ""
            },
            "type": "choropleth"
           }
          ],
          "contour": [
           {
            "colorbar": {
             "outlinewidth": 0,
             "ticks": ""
            },
            "colorscale": [
             [
              0,
              "#0d0887"
             ],
             [
              0.1111111111111111,
              "#46039f"
             ],
             [
              0.2222222222222222,
              "#7201a8"
             ],
             [
              0.3333333333333333,
              "#9c179e"
             ],
             [
              0.4444444444444444,
              "#bd3786"
             ],
             [
              0.5555555555555556,
              "#d8576b"
             ],
             [
              0.6666666666666666,
              "#ed7953"
             ],
             [
              0.7777777777777778,
              "#fb9f3a"
             ],
             [
              0.8888888888888888,
              "#fdca26"
             ],
             [
              1,
              "#f0f921"
             ]
            ],
            "type": "contour"
           }
          ],
          "contourcarpet": [
           {
            "colorbar": {
             "outlinewidth": 0,
             "ticks": ""
            },
            "type": "contourcarpet"
           }
          ],
          "heatmap": [
           {
            "colorbar": {
             "outlinewidth": 0,
             "ticks": ""
            },
            "colorscale": [
             [
              0,
              "#0d0887"
             ],
             [
              0.1111111111111111,
              "#46039f"
             ],
             [
              0.2222222222222222,
              "#7201a8"
             ],
             [
              0.3333333333333333,
              "#9c179e"
             ],
             [
              0.4444444444444444,
              "#bd3786"
             ],
             [
              0.5555555555555556,
              "#d8576b"
             ],
             [
              0.6666666666666666,
              "#ed7953"
             ],
             [
              0.7777777777777778,
              "#fb9f3a"
             ],
             [
              0.8888888888888888,
              "#fdca26"
             ],
             [
              1,
              "#f0f921"
             ]
            ],
            "type": "heatmap"
           }
          ],
          "heatmapgl": [
           {
            "colorbar": {
             "outlinewidth": 0,
             "ticks": ""
            },
            "colorscale": [
             [
              0,
              "#0d0887"
             ],
             [
              0.1111111111111111,
              "#46039f"
             ],
             [
              0.2222222222222222,
              "#7201a8"
             ],
             [
              0.3333333333333333,
              "#9c179e"
             ],
             [
              0.4444444444444444,
              "#bd3786"
             ],
             [
              0.5555555555555556,
              "#d8576b"
             ],
             [
              0.6666666666666666,
              "#ed7953"
             ],
             [
              0.7777777777777778,
              "#fb9f3a"
             ],
             [
              0.8888888888888888,
              "#fdca26"
             ],
             [
              1,
              "#f0f921"
             ]
            ],
            "type": "heatmapgl"
           }
          ],
          "histogram": [
           {
            "marker": {
             "pattern": {
              "fillmode": "overlay",
              "size": 10,
              "solidity": 0.2
             }
            },
            "type": "histogram"
           }
          ],
          "histogram2d": [
           {
            "colorbar": {
             "outlinewidth": 0,
             "ticks": ""
            },
            "colorscale": [
             [
              0,
              "#0d0887"
             ],
             [
              0.1111111111111111,
              "#46039f"
             ],
             [
              0.2222222222222222,
              "#7201a8"
             ],
             [
              0.3333333333333333,
              "#9c179e"
             ],
             [
              0.4444444444444444,
              "#bd3786"
             ],
             [
              0.5555555555555556,
              "#d8576b"
             ],
             [
              0.6666666666666666,
              "#ed7953"
             ],
             [
              0.7777777777777778,
              "#fb9f3a"
             ],
             [
              0.8888888888888888,
              "#fdca26"
             ],
             [
              1,
              "#f0f921"
             ]
            ],
            "type": "histogram2d"
           }
          ],
          "histogram2dcontour": [
           {
            "colorbar": {
             "outlinewidth": 0,
             "ticks": ""
            },
            "colorscale": [
             [
              0,
              "#0d0887"
             ],
             [
              0.1111111111111111,
              "#46039f"
             ],
             [
              0.2222222222222222,
              "#7201a8"
             ],
             [
              0.3333333333333333,
              "#9c179e"
             ],
             [
              0.4444444444444444,
              "#bd3786"
             ],
             [
              0.5555555555555556,
              "#d8576b"
             ],
             [
              0.6666666666666666,
              "#ed7953"
             ],
             [
              0.7777777777777778,
              "#fb9f3a"
             ],
             [
              0.8888888888888888,
              "#fdca26"
             ],
             [
              1,
              "#f0f921"
             ]
            ],
            "type": "histogram2dcontour"
           }
          ],
          "mesh3d": [
           {
            "colorbar": {
             "outlinewidth": 0,
             "ticks": ""
            },
            "type": "mesh3d"
           }
          ],
          "parcoords": [
           {
            "line": {
             "colorbar": {
              "outlinewidth": 0,
              "ticks": ""
             }
            },
            "type": "parcoords"
           }
          ],
          "pie": [
           {
            "automargin": true,
            "type": "pie"
           }
          ],
          "scatter": [
           {
            "fillpattern": {
             "fillmode": "overlay",
             "size": 10,
             "solidity": 0.2
            },
            "type": "scatter"
           }
          ],
          "scatter3d": [
           {
            "line": {
             "colorbar": {
              "outlinewidth": 0,
              "ticks": ""
             }
            },
            "marker": {
             "colorbar": {
              "outlinewidth": 0,
              "ticks": ""
             }
            },
            "type": "scatter3d"
           }
          ],
          "scattercarpet": [
           {
            "marker": {
             "colorbar": {
              "outlinewidth": 0,
              "ticks": ""
             }
            },
            "type": "scattercarpet"
           }
          ],
          "scattergeo": [
           {
            "marker": {
             "colorbar": {
              "outlinewidth": 0,
              "ticks": ""
             }
            },
            "type": "scattergeo"
           }
          ],
          "scattergl": [
           {
            "marker": {
             "colorbar": {
              "outlinewidth": 0,
              "ticks": ""
             }
            },
            "type": "scattergl"
           }
          ],
          "scattermapbox": [
           {
            "marker": {
             "colorbar": {
              "outlinewidth": 0,
              "ticks": ""
             }
            },
            "type": "scattermapbox"
           }
          ],
          "scatterpolar": [
           {
            "marker": {
             "colorbar": {
              "outlinewidth": 0,
              "ticks": ""
             }
            },
            "type": "scatterpolar"
           }
          ],
          "scatterpolargl": [
           {
            "marker": {
             "colorbar": {
              "outlinewidth": 0,
              "ticks": ""
             }
            },
            "type": "scatterpolargl"
           }
          ],
          "scatterternary": [
           {
            "marker": {
             "colorbar": {
              "outlinewidth": 0,
              "ticks": ""
             }
            },
            "type": "scatterternary"
           }
          ],
          "surface": [
           {
            "colorbar": {
             "outlinewidth": 0,
             "ticks": ""
            },
            "colorscale": [
             [
              0,
              "#0d0887"
             ],
             [
              0.1111111111111111,
              "#46039f"
             ],
             [
              0.2222222222222222,
              "#7201a8"
             ],
             [
              0.3333333333333333,
              "#9c179e"
             ],
             [
              0.4444444444444444,
              "#bd3786"
             ],
             [
              0.5555555555555556,
              "#d8576b"
             ],
             [
              0.6666666666666666,
              "#ed7953"
             ],
             [
              0.7777777777777778,
              "#fb9f3a"
             ],
             [
              0.8888888888888888,
              "#fdca26"
             ],
             [
              1,
              "#f0f921"
             ]
            ],
            "type": "surface"
           }
          ],
          "table": [
           {
            "cells": {
             "fill": {
              "color": "#EBF0F8"
             },
             "line": {
              "color": "white"
             }
            },
            "header": {
             "fill": {
              "color": "#C8D4E3"
             },
             "line": {
              "color": "white"
             }
            },
            "type": "table"
           }
          ]
         },
         "layout": {
          "annotationdefaults": {
           "arrowcolor": "#2a3f5f",
           "arrowhead": 0,
           "arrowwidth": 1
          },
          "autotypenumbers": "strict",
          "coloraxis": {
           "colorbar": {
            "outlinewidth": 0,
            "ticks": ""
           }
          },
          "colorscale": {
           "diverging": [
            [
             0,
             "#8e0152"
            ],
            [
             0.1,
             "#c51b7d"
            ],
            [
             0.2,
             "#de77ae"
            ],
            [
             0.3,
             "#f1b6da"
            ],
            [
             0.4,
             "#fde0ef"
            ],
            [
             0.5,
             "#f7f7f7"
            ],
            [
             0.6,
             "#e6f5d0"
            ],
            [
             0.7,
             "#b8e186"
            ],
            [
             0.8,
             "#7fbc41"
            ],
            [
             0.9,
             "#4d9221"
            ],
            [
             1,
             "#276419"
            ]
           ],
           "sequential": [
            [
             0,
             "#0d0887"
            ],
            [
             0.1111111111111111,
             "#46039f"
            ],
            [
             0.2222222222222222,
             "#7201a8"
            ],
            [
             0.3333333333333333,
             "#9c179e"
            ],
            [
             0.4444444444444444,
             "#bd3786"
            ],
            [
             0.5555555555555556,
             "#d8576b"
            ],
            [
             0.6666666666666666,
             "#ed7953"
            ],
            [
             0.7777777777777778,
             "#fb9f3a"
            ],
            [
             0.8888888888888888,
             "#fdca26"
            ],
            [
             1,
             "#f0f921"
            ]
           ],
           "sequentialminus": [
            [
             0,
             "#0d0887"
            ],
            [
             0.1111111111111111,
             "#46039f"
            ],
            [
             0.2222222222222222,
             "#7201a8"
            ],
            [
             0.3333333333333333,
             "#9c179e"
            ],
            [
             0.4444444444444444,
             "#bd3786"
            ],
            [
             0.5555555555555556,
             "#d8576b"
            ],
            [
             0.6666666666666666,
             "#ed7953"
            ],
            [
             0.7777777777777778,
             "#fb9f3a"
            ],
            [
             0.8888888888888888,
             "#fdca26"
            ],
            [
             1,
             "#f0f921"
            ]
           ]
          },
          "colorway": [
           "#636efa",
           "#EF553B",
           "#00cc96",
           "#ab63fa",
           "#FFA15A",
           "#19d3f3",
           "#FF6692",
           "#B6E880",
           "#FF97FF",
           "#FECB52"
          ],
          "font": {
           "color": "#2a3f5f"
          },
          "geo": {
           "bgcolor": "white",
           "lakecolor": "white",
           "landcolor": "#E5ECF6",
           "showlakes": true,
           "showland": true,
           "subunitcolor": "white"
          },
          "hoverlabel": {
           "align": "left"
          },
          "hovermode": "closest",
          "mapbox": {
           "style": "light"
          },
          "paper_bgcolor": "white",
          "plot_bgcolor": "#E5ECF6",
          "polar": {
           "angularaxis": {
            "gridcolor": "white",
            "linecolor": "white",
            "ticks": ""
           },
           "bgcolor": "#E5ECF6",
           "radialaxis": {
            "gridcolor": "white",
            "linecolor": "white",
            "ticks": ""
           }
          },
          "scene": {
           "xaxis": {
            "backgroundcolor": "#E5ECF6",
            "gridcolor": "white",
            "gridwidth": 2,
            "linecolor": "white",
            "showbackground": true,
            "ticks": "",
            "zerolinecolor": "white"
           },
           "yaxis": {
            "backgroundcolor": "#E5ECF6",
            "gridcolor": "white",
            "gridwidth": 2,
            "linecolor": "white",
            "showbackground": true,
            "ticks": "",
            "zerolinecolor": "white"
           },
           "zaxis": {
            "backgroundcolor": "#E5ECF6",
            "gridcolor": "white",
            "gridwidth": 2,
            "linecolor": "white",
            "showbackground": true,
            "ticks": "",
            "zerolinecolor": "white"
           }
          },
          "shapedefaults": {
           "line": {
            "color": "#2a3f5f"
           }
          },
          "ternary": {
           "aaxis": {
            "gridcolor": "white",
            "linecolor": "white",
            "ticks": ""
           },
           "baxis": {
            "gridcolor": "white",
            "linecolor": "white",
            "ticks": ""
           },
           "bgcolor": "#E5ECF6",
           "caxis": {
            "gridcolor": "white",
            "linecolor": "white",
            "ticks": ""
           }
          },
          "title": {
           "x": 0.05
          },
          "xaxis": {
           "automargin": true,
           "gridcolor": "white",
           "linecolor": "white",
           "ticks": "",
           "title": {
            "standoff": 15
           },
           "zerolinecolor": "white",
           "zerolinewidth": 2
          },
          "yaxis": {
           "automargin": true,
           "gridcolor": "white",
           "linecolor": "white",
           "ticks": "",
           "title": {
            "standoff": 15
           },
           "zerolinecolor": "white",
           "zerolinewidth": 2
          }
         }
        },
        "title": {
         "y": 1
        }
       }
      }
     },
     "metadata": {},
     "output_type": "display_data"
    }
   ],
   "source": [
    "df = players_stats.loc[players_stats[\"Position\"] == positions[2]]\n",
    "min_value, max_value = get_min_max_value(df, columns)\n",
    "\n",
    "ROWS, COLUMNS = get_rows_columns(df, 4)\n",
    "\n",
    "fig = get_fig_subplots(df, ROWS, COLUMNS)\n",
    "for i, player_name in enumerate(df.index):\n",
    "    _df = df.loc[player_name, columns]\n",
    "    theta_list = get_theta_list(df, player_name, origin_columns)\n",
    "\n",
    "    r, c = get_rc(i, COLUMNS)\n",
    "    fig.add_trace(\n",
    "        go.Scatterpolar(r=_df, theta=theta_list, fill=\"toself\", name=player_name),\n",
    "        row=r,\n",
    "        col=c,\n",
    "    )\n",
    "\n",
    "fig.update_layout(\n",
    "    height=400 * ROWS,\n",
    "    showlegend=False,\n",
    "    title=dict(y=1),\n",
    ")\n",
    "fig.update_annotations(yshift=20)\n",
    "fig.update_polars(\n",
    "    radialaxis=dict(range=[min_value - 0.2, max_value + 0.2], visible=False)\n",
    ")\n",
    "fig.show()"
   ]
  },
  {
   "cell_type": "code",
   "execution_count": 16,
   "metadata": {},
   "outputs": [
    {
     "data": {
      "application/vnd.plotly.v1+json": {
       "config": {
        "plotlyServerURL": "https://plot.ly"
       },
       "data": [
        {
         "fill": "toself",
         "name": "Paduck",
         "r": [
          0,
          0.5016393442622951,
          0.016766020864381392,
          0.6240121413231039,
          0.9999999999999998,
          0,
          0,
          0.2931060808726631,
          1
         ],
         "subplot": "polar",
         "theta": [
          "KDA - 1.14 | 12",
          "KP - 0.67 | 9",
          "KS - 0.31 | 11",
          "DPM - 632.58 | 4",
          "DPG - 1.65 | 1",
          "CSPM - 8.74 | 12",
          "GPM - 384.21 | 12",
          "GS - 0.25 | 10",
          "ChampionsPlayed - 6 | 1"
         ],
         "type": "scatterpolar"
        },
        {
         "fill": "toself",
         "name": "Deft",
         "r": [
          0.5009703354588301,
          0.9892655367231642,
          0.5142526964560861,
          1,
          0.8122487817904516,
          0.4746388483582651,
          0.8034398963636411,
          0.9491444417182713,
          1
         ],
         "subplot": "polar2",
         "theta": [
          "KDA - 5.0 | 5",
          "KP - 0.76 | 2",
          "KS - 0.42 | 2",
          "DPM - 745.49 | 1",
          "DPG - 1.53 | 2",
          "CSPM - 9.78 | 9",
          "GPM - 487.97 | 2",
          "GS - 0.26 | 2",
          "ChampionsPlayed - 6 | 1"
         ],
         "type": "scatterpolar"
        },
        {
         "fill": "toself",
         "name": "Rahel",
         "r": [
          0.13767673967285834,
          0,
          0.2691387559808611,
          0.01086388887163614,
          0.0009688082837815415,
          0.6039675933719213,
          0.4471689118372226,
          0.5282088418897217,
          0.25
         ],
         "subplot": "polar3",
         "theta": [
          "KDA - 2.2 | 9",
          "KP - 0.58 | 12",
          "KS - 0.37 | 7",
          "DPM - 448.47 | 11",
          "DPG - 1.01 | 11",
          "CSPM - 10.06 | 7",
          "GPM - 441.96 | 7",
          "GS - 0.25 | 6",
          "ChampionsPlayed - 3 | 10"
         ],
         "type": "scatterpolar"
        },
        {
         "fill": "toself",
         "name": "Peyz",
         "r": [
          0.7790011485603391,
          0.7013002364066199,
          0.36508704061895547,
          0.5555272119138488,
          0.42157127954072515,
          0.6875044266306434,
          0.7253346879208684,
          0.3269195849169577,
          1
         ],
         "subplot": "polar4",
         "theta": [
          "KDA - 7.14 | 2",
          "KP - 0.71 | 5",
          "KS - 0.39 | 5",
          "DPM - 612.02 | 5",
          "DPG - 1.28 | 7",
          "CSPM - 10.25 | 4",
          "GPM - 477.88 | 3",
          "GS - 0.25 | 9",
          "ChampionsPlayed - 6 | 1"
         ],
         "type": "scatterpolar"
        },
        {
         "fill": "toself",
         "name": "Viper",
         "r": [
          0.5209315220404769,
          0.3514423076923081,
          0.21306818181818188,
          0.8229920468900942,
          0.7898848471815845,
          0.7467381958081161,
          0.5668244583903368,
          0.6599491700544338,
          0.25
         ],
         "subplot": "polar5",
         "theta": [
          "KDA - 5.15 | 4",
          "KP - 0.64 | 10",
          "KS - 0.36 | 8",
          "DPM - 692.33 | 3",
          "DPG - 1.51 | 3",
          "CSPM - 10.38 | 3",
          "GPM - 457.41 | 5",
          "GS - 0.26 | 5",
          "ChampionsPlayed - 3 | 10"
         ],
         "type": "scatterpolar"
        },
        {
         "fill": "toself",
         "name": "Aiming",
         "r": [
          0.6393678957582478,
          0.3090909090909091,
          0,
          0.22916683128178184,
          0.099133179792388,
          0.6066645376220521,
          0.7212793835679321,
          0.34539305438916656,
          1
         ],
         "subplot": "polar6",
         "theta": [
          "KDA - 6.07 | 3",
          "KP - 0.64 | 11",
          "KS - 0.31 | 12",
          "DPM - 514.02 | 9",
          "DPG - 1.08 | 10",
          "CSPM - 10.07 | 5",
          "GPM - 477.36 | 4",
          "GS - 0.25 | 8",
          "ChampionsPlayed - 6 | 1"
         ],
         "type": "scatterpolar"
        },
        {
         "fill": "toself",
         "name": "Taeyoon",
         "r": [
          0.1395302784268684,
          0.6335205992509367,
          0.08043922369765055,
          0.2318506485378493,
          0.3309379187452315,
          0.31864963423068815,
          0.28350245808408925,
          0,
          1
         ],
         "subplot": "polar7",
         "theta": [
          "KDA - 2.21 | 8",
          "KP - 0.7 | 7",
          "KS - 0.33 | 10",
          "DPM - 514.83 | 8",
          "DPG - 1.22 | 8",
          "CSPM - 9.44 | 11",
          "GPM - 420.82 | 10",
          "GS - 0.24 | 12",
          "ChampionsPlayed - 6 | 1"
         ],
         "type": "scatterpolar"
        },
        {
         "fill": "toself",
         "name": "Teddy",
         "r": [
          0.29224575402900155,
          1,
          0.4612299465240641,
          0.41634398435939235,
          0.42250040932345745,
          0.6062961939327405,
          0.4710586105078898,
          0.48878562535006864,
          1
         ],
         "subplot": "polar8",
         "theta": [
          "KDA - 3.39 | 6",
          "KP - 0.76 | 1",
          "KS - 0.41 | 3",
          "DPM - 570.23 | 6",
          "DPG - 1.28 | 6",
          "CSPM - 10.07 | 6",
          "GPM - 445.05 | 6",
          "GS - 0.25 | 7",
          "ChampionsPlayed - 6 | 1"
         ],
         "type": "scatterpolar"
        },
        {
         "fill": "toself",
         "name": "Jiwoo",
         "r": [
          0.09010257831993346,
          0.8311111111111109,
          1.0000000000000002,
          0.19793825126068132,
          0.20708412619889294,
          0.407529291168812,
          0.4375126918790886,
          0.8543213181438905,
          0
         ],
         "subplot": "polar9",
         "theta": [
          "KDA - 1.83 | 11",
          "KP - 0.73 | 3",
          "KS - 0.53 | 1",
          "DPM - 504.64 | 10",
          "DPG - 1.15 | 9",
          "CSPM - 9.63 | 10",
          "GPM - 440.71 | 8",
          "GS - 0.26 | 4",
          "ChampionsPlayed - 2 | 12"
         ],
         "type": "scatterpolar"
        },
        {
         "fill": "toself",
         "name": "vital",
         "r": [
          0.1316883836983643,
          0.6516666666666664,
          0.40909090909090917,
          0,
          0,
          0.8864235601015737,
          0.42432742779467647,
          0.9004739067272602,
          0.5
         ],
         "subplot": "polar10",
         "theta": [
          "KDA - 2.15 | 10",
          "KP - 0.7 | 6",
          "KS - 0.4 | 4",
          "DPM - 445.2 | 12",
          "DPG - 1.01 | 12",
          "CSPM - 10.69 | 2",
          "GPM - 439.01 | 9",
          "GS - 0.26 | 3",
          "ChampionsPlayed - 4 | 8"
         ],
         "type": "scatterpolar"
        },
        {
         "fill": "toself",
         "name": "Hena",
         "r": [
          0.24830373688587984,
          0.5566666666666671,
          0.09625668449197833,
          0.3562866208784352,
          0.4899777499402649,
          0.601751109329058,
          0.25452078806801604,
          0.23413329556187712,
          0.5
         ],
         "subplot": "polar11",
         "theta": [
          "KDA - 3.05 | 7",
          "KP - 0.68 | 8",
          "KS - 0.33 | 9",
          "DPM - 552.19 | 7",
          "DPG - 1.32 | 5",
          "CSPM - 10.06 | 8",
          "GPM - 417.08 | 11",
          "GS - 0.25 | 11",
          "ChampionsPlayed - 4 | 8"
         ],
         "type": "scatterpolar"
        },
        {
         "fill": "toself",
         "name": "Gumayusi",
         "r": [
          1,
          0.7769392033542974,
          0.33662092624356776,
          0.9888002440154438,
          0.6824215553790245,
          1,
          1,
          1,
          1
         ],
         "subplot": "polar12",
         "theta": [
          "KDA - 8.85 | 1",
          "KP - 0.72 | 4",
          "KS - 0.38 | 6",
          "DPM - 742.12 | 2",
          "DPG - 1.45 | 4",
          "CSPM - 10.93 | 1",
          "GPM - 513.36 | 1",
          "GS - 0.27 | 1",
          "ChampionsPlayed - 6 | 1"
         ],
         "type": "scatterpolar"
        }
       ],
       "layout": {
        "annotations": [
         {
          "font": {
           "size": 16
          },
          "showarrow": false,
          "text": "Paduck",
          "x": 0.10625,
          "xanchor": "center",
          "xref": "paper",
          "y": 1,
          "yanchor": "bottom",
          "yref": "paper",
          "yshift": 20
         },
         {
          "font": {
           "size": 16
          },
          "showarrow": false,
          "text": "Deft",
          "x": 0.36875,
          "xanchor": "center",
          "xref": "paper",
          "y": 1,
          "yanchor": "bottom",
          "yref": "paper",
          "yshift": 20
         },
         {
          "font": {
           "size": 16
          },
          "showarrow": false,
          "text": "Rahel",
          "x": 0.6312500000000001,
          "xanchor": "center",
          "xref": "paper",
          "y": 1,
          "yanchor": "bottom",
          "yref": "paper",
          "yshift": 20
         },
         {
          "font": {
           "size": 16
          },
          "showarrow": false,
          "text": "Peyz",
          "x": 0.89375,
          "xanchor": "center",
          "xref": "paper",
          "y": 1,
          "yanchor": "bottom",
          "yref": "paper",
          "yshift": 20
         },
         {
          "font": {
           "size": 16
          },
          "showarrow": false,
          "text": "Viper",
          "x": 0.10625,
          "xanchor": "center",
          "xref": "paper",
          "y": 0.6111111111111112,
          "yanchor": "bottom",
          "yref": "paper",
          "yshift": 20
         },
         {
          "font": {
           "size": 16
          },
          "showarrow": false,
          "text": "Aiming",
          "x": 0.36875,
          "xanchor": "center",
          "xref": "paper",
          "y": 0.6111111111111112,
          "yanchor": "bottom",
          "yref": "paper",
          "yshift": 20
         },
         {
          "font": {
           "size": 16
          },
          "showarrow": false,
          "text": "Taeyoon",
          "x": 0.6312500000000001,
          "xanchor": "center",
          "xref": "paper",
          "y": 0.6111111111111112,
          "yanchor": "bottom",
          "yref": "paper",
          "yshift": 20
         },
         {
          "font": {
           "size": 16
          },
          "showarrow": false,
          "text": "Teddy",
          "x": 0.89375,
          "xanchor": "center",
          "xref": "paper",
          "y": 0.6111111111111112,
          "yanchor": "bottom",
          "yref": "paper",
          "yshift": 20
         },
         {
          "font": {
           "size": 16
          },
          "showarrow": false,
          "text": "Jiwoo",
          "x": 0.10625,
          "xanchor": "center",
          "xref": "paper",
          "y": 0.22222222222222224,
          "yanchor": "bottom",
          "yref": "paper",
          "yshift": 20
         },
         {
          "font": {
           "size": 16
          },
          "showarrow": false,
          "text": "vital",
          "x": 0.36875,
          "xanchor": "center",
          "xref": "paper",
          "y": 0.22222222222222224,
          "yanchor": "bottom",
          "yref": "paper",
          "yshift": 20
         },
         {
          "font": {
           "size": 16
          },
          "showarrow": false,
          "text": "Hena",
          "x": 0.6312500000000001,
          "xanchor": "center",
          "xref": "paper",
          "y": 0.22222222222222224,
          "yanchor": "bottom",
          "yref": "paper",
          "yshift": 20
         },
         {
          "font": {
           "size": 16
          },
          "showarrow": false,
          "text": "Gumayusi",
          "x": 0.89375,
          "xanchor": "center",
          "xref": "paper",
          "y": 0.22222222222222224,
          "yanchor": "bottom",
          "yref": "paper",
          "yshift": 20
         }
        ],
        "height": 1200,
        "polar": {
         "domain": {
          "x": [
           0,
           0.2125
          ],
          "y": [
           0.7777777777777778,
           1
          ]
         },
         "radialaxis": {
          "range": [
           -0.2,
           1.2000000000000002
          ],
          "visible": false
         }
        },
        "polar10": {
         "domain": {
          "x": [
           0.2625,
           0.475
          ],
          "y": [
           0,
           0.22222222222222224
          ]
         },
         "radialaxis": {
          "range": [
           -0.2,
           1.2000000000000002
          ],
          "visible": false
         }
        },
        "polar11": {
         "domain": {
          "x": [
           0.525,
           0.7375
          ],
          "y": [
           0,
           0.22222222222222224
          ]
         },
         "radialaxis": {
          "range": [
           -0.2,
           1.2000000000000002
          ],
          "visible": false
         }
        },
        "polar12": {
         "domain": {
          "x": [
           0.7875,
           1
          ],
          "y": [
           0,
           0.22222222222222224
          ]
         },
         "radialaxis": {
          "range": [
           -0.2,
           1.2000000000000002
          ],
          "visible": false
         }
        },
        "polar2": {
         "domain": {
          "x": [
           0.2625,
           0.475
          ],
          "y": [
           0.7777777777777778,
           1
          ]
         },
         "radialaxis": {
          "range": [
           -0.2,
           1.2000000000000002
          ],
          "visible": false
         }
        },
        "polar3": {
         "domain": {
          "x": [
           0.525,
           0.7375
          ],
          "y": [
           0.7777777777777778,
           1
          ]
         },
         "radialaxis": {
          "range": [
           -0.2,
           1.2000000000000002
          ],
          "visible": false
         }
        },
        "polar4": {
         "domain": {
          "x": [
           0.7875,
           1
          ],
          "y": [
           0.7777777777777778,
           1
          ]
         },
         "radialaxis": {
          "range": [
           -0.2,
           1.2000000000000002
          ],
          "visible": false
         }
        },
        "polar5": {
         "domain": {
          "x": [
           0,
           0.2125
          ],
          "y": [
           0.3888888888888889,
           0.6111111111111112
          ]
         },
         "radialaxis": {
          "range": [
           -0.2,
           1.2000000000000002
          ],
          "visible": false
         }
        },
        "polar6": {
         "domain": {
          "x": [
           0.2625,
           0.475
          ],
          "y": [
           0.3888888888888889,
           0.6111111111111112
          ]
         },
         "radialaxis": {
          "range": [
           -0.2,
           1.2000000000000002
          ],
          "visible": false
         }
        },
        "polar7": {
         "domain": {
          "x": [
           0.525,
           0.7375
          ],
          "y": [
           0.3888888888888889,
           0.6111111111111112
          ]
         },
         "radialaxis": {
          "range": [
           -0.2,
           1.2000000000000002
          ],
          "visible": false
         }
        },
        "polar8": {
         "domain": {
          "x": [
           0.7875,
           1
          ],
          "y": [
           0.3888888888888889,
           0.6111111111111112
          ]
         },
         "radialaxis": {
          "range": [
           -0.2,
           1.2000000000000002
          ],
          "visible": false
         }
        },
        "polar9": {
         "domain": {
          "x": [
           0,
           0.2125
          ],
          "y": [
           0,
           0.22222222222222224
          ]
         },
         "radialaxis": {
          "range": [
           -0.2,
           1.2000000000000002
          ],
          "visible": false
         }
        },
        "showlegend": false,
        "template": {
         "data": {
          "bar": [
           {
            "error_x": {
             "color": "#2a3f5f"
            },
            "error_y": {
             "color": "#2a3f5f"
            },
            "marker": {
             "line": {
              "color": "#E5ECF6",
              "width": 0.5
             },
             "pattern": {
              "fillmode": "overlay",
              "size": 10,
              "solidity": 0.2
             }
            },
            "type": "bar"
           }
          ],
          "barpolar": [
           {
            "marker": {
             "line": {
              "color": "#E5ECF6",
              "width": 0.5
             },
             "pattern": {
              "fillmode": "overlay",
              "size": 10,
              "solidity": 0.2
             }
            },
            "type": "barpolar"
           }
          ],
          "carpet": [
           {
            "aaxis": {
             "endlinecolor": "#2a3f5f",
             "gridcolor": "white",
             "linecolor": "white",
             "minorgridcolor": "white",
             "startlinecolor": "#2a3f5f"
            },
            "baxis": {
             "endlinecolor": "#2a3f5f",
             "gridcolor": "white",
             "linecolor": "white",
             "minorgridcolor": "white",
             "startlinecolor": "#2a3f5f"
            },
            "type": "carpet"
           }
          ],
          "choropleth": [
           {
            "colorbar": {
             "outlinewidth": 0,
             "ticks": ""
            },
            "type": "choropleth"
           }
          ],
          "contour": [
           {
            "colorbar": {
             "outlinewidth": 0,
             "ticks": ""
            },
            "colorscale": [
             [
              0,
              "#0d0887"
             ],
             [
              0.1111111111111111,
              "#46039f"
             ],
             [
              0.2222222222222222,
              "#7201a8"
             ],
             [
              0.3333333333333333,
              "#9c179e"
             ],
             [
              0.4444444444444444,
              "#bd3786"
             ],
             [
              0.5555555555555556,
              "#d8576b"
             ],
             [
              0.6666666666666666,
              "#ed7953"
             ],
             [
              0.7777777777777778,
              "#fb9f3a"
             ],
             [
              0.8888888888888888,
              "#fdca26"
             ],
             [
              1,
              "#f0f921"
             ]
            ],
            "type": "contour"
           }
          ],
          "contourcarpet": [
           {
            "colorbar": {
             "outlinewidth": 0,
             "ticks": ""
            },
            "type": "contourcarpet"
           }
          ],
          "heatmap": [
           {
            "colorbar": {
             "outlinewidth": 0,
             "ticks": ""
            },
            "colorscale": [
             [
              0,
              "#0d0887"
             ],
             [
              0.1111111111111111,
              "#46039f"
             ],
             [
              0.2222222222222222,
              "#7201a8"
             ],
             [
              0.3333333333333333,
              "#9c179e"
             ],
             [
              0.4444444444444444,
              "#bd3786"
             ],
             [
              0.5555555555555556,
              "#d8576b"
             ],
             [
              0.6666666666666666,
              "#ed7953"
             ],
             [
              0.7777777777777778,
              "#fb9f3a"
             ],
             [
              0.8888888888888888,
              "#fdca26"
             ],
             [
              1,
              "#f0f921"
             ]
            ],
            "type": "heatmap"
           }
          ],
          "heatmapgl": [
           {
            "colorbar": {
             "outlinewidth": 0,
             "ticks": ""
            },
            "colorscale": [
             [
              0,
              "#0d0887"
             ],
             [
              0.1111111111111111,
              "#46039f"
             ],
             [
              0.2222222222222222,
              "#7201a8"
             ],
             [
              0.3333333333333333,
              "#9c179e"
             ],
             [
              0.4444444444444444,
              "#bd3786"
             ],
             [
              0.5555555555555556,
              "#d8576b"
             ],
             [
              0.6666666666666666,
              "#ed7953"
             ],
             [
              0.7777777777777778,
              "#fb9f3a"
             ],
             [
              0.8888888888888888,
              "#fdca26"
             ],
             [
              1,
              "#f0f921"
             ]
            ],
            "type": "heatmapgl"
           }
          ],
          "histogram": [
           {
            "marker": {
             "pattern": {
              "fillmode": "overlay",
              "size": 10,
              "solidity": 0.2
             }
            },
            "type": "histogram"
           }
          ],
          "histogram2d": [
           {
            "colorbar": {
             "outlinewidth": 0,
             "ticks": ""
            },
            "colorscale": [
             [
              0,
              "#0d0887"
             ],
             [
              0.1111111111111111,
              "#46039f"
             ],
             [
              0.2222222222222222,
              "#7201a8"
             ],
             [
              0.3333333333333333,
              "#9c179e"
             ],
             [
              0.4444444444444444,
              "#bd3786"
             ],
             [
              0.5555555555555556,
              "#d8576b"
             ],
             [
              0.6666666666666666,
              "#ed7953"
             ],
             [
              0.7777777777777778,
              "#fb9f3a"
             ],
             [
              0.8888888888888888,
              "#fdca26"
             ],
             [
              1,
              "#f0f921"
             ]
            ],
            "type": "histogram2d"
           }
          ],
          "histogram2dcontour": [
           {
            "colorbar": {
             "outlinewidth": 0,
             "ticks": ""
            },
            "colorscale": [
             [
              0,
              "#0d0887"
             ],
             [
              0.1111111111111111,
              "#46039f"
             ],
             [
              0.2222222222222222,
              "#7201a8"
             ],
             [
              0.3333333333333333,
              "#9c179e"
             ],
             [
              0.4444444444444444,
              "#bd3786"
             ],
             [
              0.5555555555555556,
              "#d8576b"
             ],
             [
              0.6666666666666666,
              "#ed7953"
             ],
             [
              0.7777777777777778,
              "#fb9f3a"
             ],
             [
              0.8888888888888888,
              "#fdca26"
             ],
             [
              1,
              "#f0f921"
             ]
            ],
            "type": "histogram2dcontour"
           }
          ],
          "mesh3d": [
           {
            "colorbar": {
             "outlinewidth": 0,
             "ticks": ""
            },
            "type": "mesh3d"
           }
          ],
          "parcoords": [
           {
            "line": {
             "colorbar": {
              "outlinewidth": 0,
              "ticks": ""
             }
            },
            "type": "parcoords"
           }
          ],
          "pie": [
           {
            "automargin": true,
            "type": "pie"
           }
          ],
          "scatter": [
           {
            "fillpattern": {
             "fillmode": "overlay",
             "size": 10,
             "solidity": 0.2
            },
            "type": "scatter"
           }
          ],
          "scatter3d": [
           {
            "line": {
             "colorbar": {
              "outlinewidth": 0,
              "ticks": ""
             }
            },
            "marker": {
             "colorbar": {
              "outlinewidth": 0,
              "ticks": ""
             }
            },
            "type": "scatter3d"
           }
          ],
          "scattercarpet": [
           {
            "marker": {
             "colorbar": {
              "outlinewidth": 0,
              "ticks": ""
             }
            },
            "type": "scattercarpet"
           }
          ],
          "scattergeo": [
           {
            "marker": {
             "colorbar": {
              "outlinewidth": 0,
              "ticks": ""
             }
            },
            "type": "scattergeo"
           }
          ],
          "scattergl": [
           {
            "marker": {
             "colorbar": {
              "outlinewidth": 0,
              "ticks": ""
             }
            },
            "type": "scattergl"
           }
          ],
          "scattermapbox": [
           {
            "marker": {
             "colorbar": {
              "outlinewidth": 0,
              "ticks": ""
             }
            },
            "type": "scattermapbox"
           }
          ],
          "scatterpolar": [
           {
            "marker": {
             "colorbar": {
              "outlinewidth": 0,
              "ticks": ""
             }
            },
            "type": "scatterpolar"
           }
          ],
          "scatterpolargl": [
           {
            "marker": {
             "colorbar": {
              "outlinewidth": 0,
              "ticks": ""
             }
            },
            "type": "scatterpolargl"
           }
          ],
          "scatterternary": [
           {
            "marker": {
             "colorbar": {
              "outlinewidth": 0,
              "ticks": ""
             }
            },
            "type": "scatterternary"
           }
          ],
          "surface": [
           {
            "colorbar": {
             "outlinewidth": 0,
             "ticks": ""
            },
            "colorscale": [
             [
              0,
              "#0d0887"
             ],
             [
              0.1111111111111111,
              "#46039f"
             ],
             [
              0.2222222222222222,
              "#7201a8"
             ],
             [
              0.3333333333333333,
              "#9c179e"
             ],
             [
              0.4444444444444444,
              "#bd3786"
             ],
             [
              0.5555555555555556,
              "#d8576b"
             ],
             [
              0.6666666666666666,
              "#ed7953"
             ],
             [
              0.7777777777777778,
              "#fb9f3a"
             ],
             [
              0.8888888888888888,
              "#fdca26"
             ],
             [
              1,
              "#f0f921"
             ]
            ],
            "type": "surface"
           }
          ],
          "table": [
           {
            "cells": {
             "fill": {
              "color": "#EBF0F8"
             },
             "line": {
              "color": "white"
             }
            },
            "header": {
             "fill": {
              "color": "#C8D4E3"
             },
             "line": {
              "color": "white"
             }
            },
            "type": "table"
           }
          ]
         },
         "layout": {
          "annotationdefaults": {
           "arrowcolor": "#2a3f5f",
           "arrowhead": 0,
           "arrowwidth": 1
          },
          "autotypenumbers": "strict",
          "coloraxis": {
           "colorbar": {
            "outlinewidth": 0,
            "ticks": ""
           }
          },
          "colorscale": {
           "diverging": [
            [
             0,
             "#8e0152"
            ],
            [
             0.1,
             "#c51b7d"
            ],
            [
             0.2,
             "#de77ae"
            ],
            [
             0.3,
             "#f1b6da"
            ],
            [
             0.4,
             "#fde0ef"
            ],
            [
             0.5,
             "#f7f7f7"
            ],
            [
             0.6,
             "#e6f5d0"
            ],
            [
             0.7,
             "#b8e186"
            ],
            [
             0.8,
             "#7fbc41"
            ],
            [
             0.9,
             "#4d9221"
            ],
            [
             1,
             "#276419"
            ]
           ],
           "sequential": [
            [
             0,
             "#0d0887"
            ],
            [
             0.1111111111111111,
             "#46039f"
            ],
            [
             0.2222222222222222,
             "#7201a8"
            ],
            [
             0.3333333333333333,
             "#9c179e"
            ],
            [
             0.4444444444444444,
             "#bd3786"
            ],
            [
             0.5555555555555556,
             "#d8576b"
            ],
            [
             0.6666666666666666,
             "#ed7953"
            ],
            [
             0.7777777777777778,
             "#fb9f3a"
            ],
            [
             0.8888888888888888,
             "#fdca26"
            ],
            [
             1,
             "#f0f921"
            ]
           ],
           "sequentialminus": [
            [
             0,
             "#0d0887"
            ],
            [
             0.1111111111111111,
             "#46039f"
            ],
            [
             0.2222222222222222,
             "#7201a8"
            ],
            [
             0.3333333333333333,
             "#9c179e"
            ],
            [
             0.4444444444444444,
             "#bd3786"
            ],
            [
             0.5555555555555556,
             "#d8576b"
            ],
            [
             0.6666666666666666,
             "#ed7953"
            ],
            [
             0.7777777777777778,
             "#fb9f3a"
            ],
            [
             0.8888888888888888,
             "#fdca26"
            ],
            [
             1,
             "#f0f921"
            ]
           ]
          },
          "colorway": [
           "#636efa",
           "#EF553B",
           "#00cc96",
           "#ab63fa",
           "#FFA15A",
           "#19d3f3",
           "#FF6692",
           "#B6E880",
           "#FF97FF",
           "#FECB52"
          ],
          "font": {
           "color": "#2a3f5f"
          },
          "geo": {
           "bgcolor": "white",
           "lakecolor": "white",
           "landcolor": "#E5ECF6",
           "showlakes": true,
           "showland": true,
           "subunitcolor": "white"
          },
          "hoverlabel": {
           "align": "left"
          },
          "hovermode": "closest",
          "mapbox": {
           "style": "light"
          },
          "paper_bgcolor": "white",
          "plot_bgcolor": "#E5ECF6",
          "polar": {
           "angularaxis": {
            "gridcolor": "white",
            "linecolor": "white",
            "ticks": ""
           },
           "bgcolor": "#E5ECF6",
           "radialaxis": {
            "gridcolor": "white",
            "linecolor": "white",
            "ticks": ""
           }
          },
          "scene": {
           "xaxis": {
            "backgroundcolor": "#E5ECF6",
            "gridcolor": "white",
            "gridwidth": 2,
            "linecolor": "white",
            "showbackground": true,
            "ticks": "",
            "zerolinecolor": "white"
           },
           "yaxis": {
            "backgroundcolor": "#E5ECF6",
            "gridcolor": "white",
            "gridwidth": 2,
            "linecolor": "white",
            "showbackground": true,
            "ticks": "",
            "zerolinecolor": "white"
           },
           "zaxis": {
            "backgroundcolor": "#E5ECF6",
            "gridcolor": "white",
            "gridwidth": 2,
            "linecolor": "white",
            "showbackground": true,
            "ticks": "",
            "zerolinecolor": "white"
           }
          },
          "shapedefaults": {
           "line": {
            "color": "#2a3f5f"
           }
          },
          "ternary": {
           "aaxis": {
            "gridcolor": "white",
            "linecolor": "white",
            "ticks": ""
           },
           "baxis": {
            "gridcolor": "white",
            "linecolor": "white",
            "ticks": ""
           },
           "bgcolor": "#E5ECF6",
           "caxis": {
            "gridcolor": "white",
            "linecolor": "white",
            "ticks": ""
           }
          },
          "title": {
           "x": 0.05
          },
          "xaxis": {
           "automargin": true,
           "gridcolor": "white",
           "linecolor": "white",
           "ticks": "",
           "title": {
            "standoff": 15
           },
           "zerolinecolor": "white",
           "zerolinewidth": 2
          },
          "yaxis": {
           "automargin": true,
           "gridcolor": "white",
           "linecolor": "white",
           "ticks": "",
           "title": {
            "standoff": 15
           },
           "zerolinecolor": "white",
           "zerolinewidth": 2
          }
         }
        },
        "title": {
         "y": 1
        }
       }
      }
     },
     "metadata": {},
     "output_type": "display_data"
    }
   ],
   "source": [
    "df = players_stats.loc[players_stats[\"Position\"] == positions[3]]\n",
    "min_value, max_value = get_min_max_value(df, columns)\n",
    "\n",
    "ROWS, COLUMNS = get_rows_columns(df, 4)\n",
    "\n",
    "fig = get_fig_subplots(df, ROWS, COLUMNS)\n",
    "for i, player_name in enumerate(df.index):\n",
    "    _df = df.loc[player_name, columns]\n",
    "    theta_list = get_theta_list(df, player_name, origin_columns)\n",
    "\n",
    "    r, c = get_rc(i, COLUMNS)\n",
    "    fig.add_trace(\n",
    "        go.Scatterpolar(r=_df, theta=theta_list, fill=\"toself\", name=player_name),\n",
    "        row=r,\n",
    "        col=c,\n",
    "    )\n",
    "\n",
    "fig.update_layout(\n",
    "    height=400 * ROWS,\n",
    "    showlegend=False,\n",
    "    title=dict(y=1),\n",
    ")\n",
    "fig.update_annotations(yshift=20)\n",
    "fig.update_polars(\n",
    "    radialaxis=dict(range=[min_value - 0.2, max_value + 0.2], visible=False)\n",
    ")\n",
    "fig.show()"
   ]
  },
  {
   "cell_type": "code",
   "execution_count": 17,
   "metadata": {},
   "outputs": [
    {
     "data": {
      "application/vnd.plotly.v1+json": {
       "config": {
        "plotlyServerURL": "https://plot.ly"
       },
       "data": [
        {
         "fill": "toself",
         "name": "BeryL",
         "r": [
          0,
          0,
          0,
          0.605061893387919,
          0.6879895678472219,
          1.0000000000000002,
          0.02283013576814774,
          1,
          0.5
         ],
         "subplot": "polar",
         "theta": [
          "KDA - 1.18 | 10",
          "KP - 0.66 | 10",
          "KS - 0.0 | 10",
          "DPM - 173.7 | 3",
          "DPG - 0.81 | 2",
          "CSPM - 1.02 | 1",
          "GPM - 214.92 | 9",
          "GS - 0.14 | 1",
          "ChampionsPlayed - 6 | 2"
         ],
         "type": "scatterpolar"
        },
        {
         "fill": "toself",
         "name": "Kellin",
         "r": [
          0.8815816431059209,
          0.9314154159156214,
          0.8434712084347123,
          0.5195624515853081,
          0.3640240462025881,
          0.7422822404978018,
          0.6667103687480251,
          0.5302120205562613,
          0.5
         ],
         "subplot": "polar2",
         "theta": [
          "KDA - 7.67 | 2",
          "KP - 0.84 | 2",
          "KS - 0.07 | 2",
          "DPM - 165.62 | 4",
          "DPG - 0.68 | 5",
          "CSPM - 0.9 | 4",
          "GPM - 244.18 | 4",
          "GS - 0.13 | 4",
          "ChampionsPlayed - 6 | 2"
         ],
         "type": "scatterpolar"
        },
        {
         "fill": "toself",
         "name": "Delight",
         "r": [
          1,
          0.6668053893773087,
          0.5736800630417644,
          0.2872955906738346,
          0.0645096572292223,
          0.8859338467465727,
          0.9584240079575048,
          0.6276293591802276,
          0
         ],
         "subplot": "polar3",
         "theta": [
          "KDA - 8.54 | 1",
          "KP - 0.79 | 4",
          "KS - 0.05 | 5",
          "DPM - 143.69 | 6",
          "DPG - 0.56 | 8",
          "CSPM - 0.97 | 2",
          "GPM - 257.44 | 2",
          "GS - 0.13 | 3",
          "ChampionsPlayed - 5 | 7"
         ],
         "type": "scatterpolar"
        },
        {
         "fill": "toself",
         "name": "Life",
         "r": [
          0.4154886293792256,
          0.18544291893925147,
          0.9999999999999999,
          0.43939812581560167,
          0.37952665282723963,
          0.08398342250818858,
          0.37462290448137026,
          0.011292594175952075,
          0.5
         ],
         "subplot": "polar4",
         "theta": [
          "KDA - 4.24 | 5",
          "KP - 0.69 | 8",
          "KS - 0.09 | 1",
          "DPM - 158.05 | 5",
          "DPG - 0.68 | 4",
          "CSPM - 0.61 | 8",
          "GPM - 230.91 | 5",
          "GS - 0.13 | 9",
          "ChampionsPlayed - 6 | 2"
         ],
         "type": "scatterpolar"
        },
        {
         "fill": "toself",
         "name": "Lehends",
         "r": [
          0.5797309294543468,
          0.14998204729256104,
          0.5656565656565653,
          0.1628855043868438,
          0.011126997695082075,
          0.8116582357010074,
          0.7028369236358785,
          0.0820871535683132,
          0.5
         ],
         "subplot": "polar5",
         "theta": [
          "KDA - 5.44 | 4",
          "KP - 0.69 | 9",
          "KS - 0.05 | 6",
          "DPM - 131.94 | 9",
          "DPG - 0.54 | 9",
          "CSPM - 0.93 | 3",
          "GPM - 245.83 | 3",
          "GS - 0.13 | 6",
          "ChampionsPlayed - 6 | 2"
         ],
         "type": "scatterpolar"
        },
        {
         "fill": "toself",
         "name": "Jun",
         "r": [
          0.26621780186623445,
          0.6061921375786383,
          0.259675405742821,
          1.0000000000000002,
          0.9999999999999998,
          0.2565481981642497,
          0.2679253951848093,
          0.024641481027494194,
          0
         ],
         "subplot": "polar6",
         "theta": [
          "KDA - 3.14 | 8",
          "KP - 0.78 | 5",
          "KS - 0.02 | 8",
          "DPM - 210.99 | 1",
          "DPG - 0.93 | 1",
          "CSPM - 0.68 | 7",
          "GPM - 226.06 | 6",
          "GS - 0.13 | 8",
          "ChampionsPlayed - 5 | 7"
         ],
         "type": "scatterpolar"
        },
        {
         "fill": "toself",
         "name": "Kael",
         "r": [
          0.29471419791026426,
          1,
          0.22657952069716786,
          0.1908070918416671,
          0.16108363798417047,
          0.5156313098996068,
          0.2550755684199535,
          0,
          1
         ],
         "subplot": "polar7",
         "theta": [
          "KDA - 3.35 | 6",
          "KP - 0.85 | 1",
          "KS - 0.02 | 9",
          "DPM - 134.58 | 8",
          "DPG - 0.6 | 7",
          "CSPM - 0.8 | 6",
          "GPM - 225.47 | 7",
          "GS - 0.13 | 10",
          "ChampionsPlayed - 7 | 1"
         ],
         "type": "scatterpolar"
        },
        {
         "fill": "toself",
         "name": "Peter",
         "r": [
          0.2685925015365703,
          0.4549455434541012,
          0.63030303030303,
          0.212340434511753,
          0.2654639070965883,
          0.027550689864614952,
          0,
          0.07621212865945459,
          0
         ],
         "subplot": "polar8",
         "theta": [
          "KDA - 3.15 | 7",
          "KP - 0.75 | 6",
          "KS - 0.05 | 4",
          "DPM - 136.61 | 7",
          "DPG - 0.64 | 6",
          "CSPM - 0.58 | 9",
          "GPM - 213.88 | 10",
          "GS - 0.13 | 7",
          "ChampionsPlayed - 5 | 7"
         ],
         "type": "scatterpolar"
        },
        {
         "fill": "toself",
         "name": "Effort",
         "r": [
          0.18863739611448122,
          0.1946210268948656,
          0.6797385620915035,
          0,
          0,
          0.5246927691382968,
          0.11246963535977361,
          0.12038701698728183,
          0.5
         ],
         "subplot": "polar9",
         "theta": [
          "KDA - 2.57 | 9",
          "KP - 0.69 | 7",
          "KS - 0.06 | 3",
          "DPM - 116.56 | 10",
          "DPG - 0.53 | 10",
          "CSPM - 0.8 | 5",
          "GPM - 218.99 | 8",
          "GS - 0.13 | 5",
          "ChampionsPlayed - 6 | 2"
         ],
         "type": "scatterpolar"
        },
        {
         "fill": "toself",
         "name": "Keria",
         "r": [
          0.8469575906576521,
          0.6932693638418606,
          0.36338225017470266,
          0.6477815504616649,
          0.3816339677218372,
          0,
          1,
          0.6615698336780778,
          0
         ],
         "subplot": "polar10",
         "theta": [
          "KDA - 7.41 | 3",
          "KP - 0.79 | 3",
          "KS - 0.03 | 7",
          "DPM - 177.73 | 2",
          "DPG - 0.69 | 3",
          "CSPM - 0.57 | 10",
          "GPM - 259.33 | 1",
          "GS - 0.13 | 2",
          "ChampionsPlayed - 5 | 7"
         ],
         "type": "scatterpolar"
        }
       ],
       "layout": {
        "annotations": [
         {
          "font": {
           "size": 16
          },
          "showarrow": false,
          "text": "BeryL",
          "x": 0.10625,
          "xanchor": "center",
          "xref": "paper",
          "y": 1,
          "yanchor": "bottom",
          "yref": "paper",
          "yshift": 20
         },
         {
          "font": {
           "size": 16
          },
          "showarrow": false,
          "text": "Kellin",
          "x": 0.36875,
          "xanchor": "center",
          "xref": "paper",
          "y": 1,
          "yanchor": "bottom",
          "yref": "paper",
          "yshift": 20
         },
         {
          "font": {
           "size": 16
          },
          "showarrow": false,
          "text": "Delight",
          "x": 0.6312500000000001,
          "xanchor": "center",
          "xref": "paper",
          "y": 1,
          "yanchor": "bottom",
          "yref": "paper",
          "yshift": 20
         },
         {
          "font": {
           "size": 16
          },
          "showarrow": false,
          "text": "Life",
          "x": 0.89375,
          "xanchor": "center",
          "xref": "paper",
          "y": 1,
          "yanchor": "bottom",
          "yref": "paper",
          "yshift": 20
         },
         {
          "font": {
           "size": 16
          },
          "showarrow": false,
          "text": "Lehends",
          "x": 0.10625,
          "xanchor": "center",
          "xref": "paper",
          "y": 0.6111111111111112,
          "yanchor": "bottom",
          "yref": "paper",
          "yshift": 20
         },
         {
          "font": {
           "size": 16
          },
          "showarrow": false,
          "text": "Jun",
          "x": 0.36875,
          "xanchor": "center",
          "xref": "paper",
          "y": 0.6111111111111112,
          "yanchor": "bottom",
          "yref": "paper",
          "yshift": 20
         },
         {
          "font": {
           "size": 16
          },
          "showarrow": false,
          "text": "Kael",
          "x": 0.6312500000000001,
          "xanchor": "center",
          "xref": "paper",
          "y": 0.6111111111111112,
          "yanchor": "bottom",
          "yref": "paper",
          "yshift": 20
         },
         {
          "font": {
           "size": 16
          },
          "showarrow": false,
          "text": "Peter",
          "x": 0.89375,
          "xanchor": "center",
          "xref": "paper",
          "y": 0.6111111111111112,
          "yanchor": "bottom",
          "yref": "paper",
          "yshift": 20
         },
         {
          "font": {
           "size": 16
          },
          "showarrow": false,
          "text": "Effort",
          "x": 0.10625,
          "xanchor": "center",
          "xref": "paper",
          "y": 0.22222222222222224,
          "yanchor": "bottom",
          "yref": "paper",
          "yshift": 20
         },
         {
          "font": {
           "size": 16
          },
          "showarrow": false,
          "text": "Keria",
          "x": 0.36875,
          "xanchor": "center",
          "xref": "paper",
          "y": 0.22222222222222224,
          "yanchor": "bottom",
          "yref": "paper",
          "yshift": 20
         }
        ],
        "height": 1200,
        "polar": {
         "domain": {
          "x": [
           0,
           0.2125
          ],
          "y": [
           0.7777777777777778,
           1
          ]
         },
         "radialaxis": {
          "range": [
           -0.2,
           1.2000000000000002
          ],
          "visible": false
         }
        },
        "polar10": {
         "domain": {
          "x": [
           0.2625,
           0.475
          ],
          "y": [
           0,
           0.22222222222222224
          ]
         },
         "radialaxis": {
          "range": [
           -0.2,
           1.2000000000000002
          ],
          "visible": false
         }
        },
        "polar11": {
         "domain": {
          "x": [
           0.525,
           0.7375
          ],
          "y": [
           0,
           0.22222222222222224
          ]
         },
         "radialaxis": {
          "range": [
           -0.2,
           1.2000000000000002
          ],
          "visible": false
         }
        },
        "polar12": {
         "domain": {
          "x": [
           0.7875,
           1
          ],
          "y": [
           0,
           0.22222222222222224
          ]
         },
         "radialaxis": {
          "range": [
           -0.2,
           1.2000000000000002
          ],
          "visible": false
         }
        },
        "polar2": {
         "domain": {
          "x": [
           0.2625,
           0.475
          ],
          "y": [
           0.7777777777777778,
           1
          ]
         },
         "radialaxis": {
          "range": [
           -0.2,
           1.2000000000000002
          ],
          "visible": false
         }
        },
        "polar3": {
         "domain": {
          "x": [
           0.525,
           0.7375
          ],
          "y": [
           0.7777777777777778,
           1
          ]
         },
         "radialaxis": {
          "range": [
           -0.2,
           1.2000000000000002
          ],
          "visible": false
         }
        },
        "polar4": {
         "domain": {
          "x": [
           0.7875,
           1
          ],
          "y": [
           0.7777777777777778,
           1
          ]
         },
         "radialaxis": {
          "range": [
           -0.2,
           1.2000000000000002
          ],
          "visible": false
         }
        },
        "polar5": {
         "domain": {
          "x": [
           0,
           0.2125
          ],
          "y": [
           0.3888888888888889,
           0.6111111111111112
          ]
         },
         "radialaxis": {
          "range": [
           -0.2,
           1.2000000000000002
          ],
          "visible": false
         }
        },
        "polar6": {
         "domain": {
          "x": [
           0.2625,
           0.475
          ],
          "y": [
           0.3888888888888889,
           0.6111111111111112
          ]
         },
         "radialaxis": {
          "range": [
           -0.2,
           1.2000000000000002
          ],
          "visible": false
         }
        },
        "polar7": {
         "domain": {
          "x": [
           0.525,
           0.7375
          ],
          "y": [
           0.3888888888888889,
           0.6111111111111112
          ]
         },
         "radialaxis": {
          "range": [
           -0.2,
           1.2000000000000002
          ],
          "visible": false
         }
        },
        "polar8": {
         "domain": {
          "x": [
           0.7875,
           1
          ],
          "y": [
           0.3888888888888889,
           0.6111111111111112
          ]
         },
         "radialaxis": {
          "range": [
           -0.2,
           1.2000000000000002
          ],
          "visible": false
         }
        },
        "polar9": {
         "domain": {
          "x": [
           0,
           0.2125
          ],
          "y": [
           0,
           0.22222222222222224
          ]
         },
         "radialaxis": {
          "range": [
           -0.2,
           1.2000000000000002
          ],
          "visible": false
         }
        },
        "showlegend": false,
        "template": {
         "data": {
          "bar": [
           {
            "error_x": {
             "color": "#2a3f5f"
            },
            "error_y": {
             "color": "#2a3f5f"
            },
            "marker": {
             "line": {
              "color": "#E5ECF6",
              "width": 0.5
             },
             "pattern": {
              "fillmode": "overlay",
              "size": 10,
              "solidity": 0.2
             }
            },
            "type": "bar"
           }
          ],
          "barpolar": [
           {
            "marker": {
             "line": {
              "color": "#E5ECF6",
              "width": 0.5
             },
             "pattern": {
              "fillmode": "overlay",
              "size": 10,
              "solidity": 0.2
             }
            },
            "type": "barpolar"
           }
          ],
          "carpet": [
           {
            "aaxis": {
             "endlinecolor": "#2a3f5f",
             "gridcolor": "white",
             "linecolor": "white",
             "minorgridcolor": "white",
             "startlinecolor": "#2a3f5f"
            },
            "baxis": {
             "endlinecolor": "#2a3f5f",
             "gridcolor": "white",
             "linecolor": "white",
             "minorgridcolor": "white",
             "startlinecolor": "#2a3f5f"
            },
            "type": "carpet"
           }
          ],
          "choropleth": [
           {
            "colorbar": {
             "outlinewidth": 0,
             "ticks": ""
            },
            "type": "choropleth"
           }
          ],
          "contour": [
           {
            "colorbar": {
             "outlinewidth": 0,
             "ticks": ""
            },
            "colorscale": [
             [
              0,
              "#0d0887"
             ],
             [
              0.1111111111111111,
              "#46039f"
             ],
             [
              0.2222222222222222,
              "#7201a8"
             ],
             [
              0.3333333333333333,
              "#9c179e"
             ],
             [
              0.4444444444444444,
              "#bd3786"
             ],
             [
              0.5555555555555556,
              "#d8576b"
             ],
             [
              0.6666666666666666,
              "#ed7953"
             ],
             [
              0.7777777777777778,
              "#fb9f3a"
             ],
             [
              0.8888888888888888,
              "#fdca26"
             ],
             [
              1,
              "#f0f921"
             ]
            ],
            "type": "contour"
           }
          ],
          "contourcarpet": [
           {
            "colorbar": {
             "outlinewidth": 0,
             "ticks": ""
            },
            "type": "contourcarpet"
           }
          ],
          "heatmap": [
           {
            "colorbar": {
             "outlinewidth": 0,
             "ticks": ""
            },
            "colorscale": [
             [
              0,
              "#0d0887"
             ],
             [
              0.1111111111111111,
              "#46039f"
             ],
             [
              0.2222222222222222,
              "#7201a8"
             ],
             [
              0.3333333333333333,
              "#9c179e"
             ],
             [
              0.4444444444444444,
              "#bd3786"
             ],
             [
              0.5555555555555556,
              "#d8576b"
             ],
             [
              0.6666666666666666,
              "#ed7953"
             ],
             [
              0.7777777777777778,
              "#fb9f3a"
             ],
             [
              0.8888888888888888,
              "#fdca26"
             ],
             [
              1,
              "#f0f921"
             ]
            ],
            "type": "heatmap"
           }
          ],
          "heatmapgl": [
           {
            "colorbar": {
             "outlinewidth": 0,
             "ticks": ""
            },
            "colorscale": [
             [
              0,
              "#0d0887"
             ],
             [
              0.1111111111111111,
              "#46039f"
             ],
             [
              0.2222222222222222,
              "#7201a8"
             ],
             [
              0.3333333333333333,
              "#9c179e"
             ],
             [
              0.4444444444444444,
              "#bd3786"
             ],
             [
              0.5555555555555556,
              "#d8576b"
             ],
             [
              0.6666666666666666,
              "#ed7953"
             ],
             [
              0.7777777777777778,
              "#fb9f3a"
             ],
             [
              0.8888888888888888,
              "#fdca26"
             ],
             [
              1,
              "#f0f921"
             ]
            ],
            "type": "heatmapgl"
           }
          ],
          "histogram": [
           {
            "marker": {
             "pattern": {
              "fillmode": "overlay",
              "size": 10,
              "solidity": 0.2
             }
            },
            "type": "histogram"
           }
          ],
          "histogram2d": [
           {
            "colorbar": {
             "outlinewidth": 0,
             "ticks": ""
            },
            "colorscale": [
             [
              0,
              "#0d0887"
             ],
             [
              0.1111111111111111,
              "#46039f"
             ],
             [
              0.2222222222222222,
              "#7201a8"
             ],
             [
              0.3333333333333333,
              "#9c179e"
             ],
             [
              0.4444444444444444,
              "#bd3786"
             ],
             [
              0.5555555555555556,
              "#d8576b"
             ],
             [
              0.6666666666666666,
              "#ed7953"
             ],
             [
              0.7777777777777778,
              "#fb9f3a"
             ],
             [
              0.8888888888888888,
              "#fdca26"
             ],
             [
              1,
              "#f0f921"
             ]
            ],
            "type": "histogram2d"
           }
          ],
          "histogram2dcontour": [
           {
            "colorbar": {
             "outlinewidth": 0,
             "ticks": ""
            },
            "colorscale": [
             [
              0,
              "#0d0887"
             ],
             [
              0.1111111111111111,
              "#46039f"
             ],
             [
              0.2222222222222222,
              "#7201a8"
             ],
             [
              0.3333333333333333,
              "#9c179e"
             ],
             [
              0.4444444444444444,
              "#bd3786"
             ],
             [
              0.5555555555555556,
              "#d8576b"
             ],
             [
              0.6666666666666666,
              "#ed7953"
             ],
             [
              0.7777777777777778,
              "#fb9f3a"
             ],
             [
              0.8888888888888888,
              "#fdca26"
             ],
             [
              1,
              "#f0f921"
             ]
            ],
            "type": "histogram2dcontour"
           }
          ],
          "mesh3d": [
           {
            "colorbar": {
             "outlinewidth": 0,
             "ticks": ""
            },
            "type": "mesh3d"
           }
          ],
          "parcoords": [
           {
            "line": {
             "colorbar": {
              "outlinewidth": 0,
              "ticks": ""
             }
            },
            "type": "parcoords"
           }
          ],
          "pie": [
           {
            "automargin": true,
            "type": "pie"
           }
          ],
          "scatter": [
           {
            "fillpattern": {
             "fillmode": "overlay",
             "size": 10,
             "solidity": 0.2
            },
            "type": "scatter"
           }
          ],
          "scatter3d": [
           {
            "line": {
             "colorbar": {
              "outlinewidth": 0,
              "ticks": ""
             }
            },
            "marker": {
             "colorbar": {
              "outlinewidth": 0,
              "ticks": ""
             }
            },
            "type": "scatter3d"
           }
          ],
          "scattercarpet": [
           {
            "marker": {
             "colorbar": {
              "outlinewidth": 0,
              "ticks": ""
             }
            },
            "type": "scattercarpet"
           }
          ],
          "scattergeo": [
           {
            "marker": {
             "colorbar": {
              "outlinewidth": 0,
              "ticks": ""
             }
            },
            "type": "scattergeo"
           }
          ],
          "scattergl": [
           {
            "marker": {
             "colorbar": {
              "outlinewidth": 0,
              "ticks": ""
             }
            },
            "type": "scattergl"
           }
          ],
          "scattermapbox": [
           {
            "marker": {
             "colorbar": {
              "outlinewidth": 0,
              "ticks": ""
             }
            },
            "type": "scattermapbox"
           }
          ],
          "scatterpolar": [
           {
            "marker": {
             "colorbar": {
              "outlinewidth": 0,
              "ticks": ""
             }
            },
            "type": "scatterpolar"
           }
          ],
          "scatterpolargl": [
           {
            "marker": {
             "colorbar": {
              "outlinewidth": 0,
              "ticks": ""
             }
            },
            "type": "scatterpolargl"
           }
          ],
          "scatterternary": [
           {
            "marker": {
             "colorbar": {
              "outlinewidth": 0,
              "ticks": ""
             }
            },
            "type": "scatterternary"
           }
          ],
          "surface": [
           {
            "colorbar": {
             "outlinewidth": 0,
             "ticks": ""
            },
            "colorscale": [
             [
              0,
              "#0d0887"
             ],
             [
              0.1111111111111111,
              "#46039f"
             ],
             [
              0.2222222222222222,
              "#7201a8"
             ],
             [
              0.3333333333333333,
              "#9c179e"
             ],
             [
              0.4444444444444444,
              "#bd3786"
             ],
             [
              0.5555555555555556,
              "#d8576b"
             ],
             [
              0.6666666666666666,
              "#ed7953"
             ],
             [
              0.7777777777777778,
              "#fb9f3a"
             ],
             [
              0.8888888888888888,
              "#fdca26"
             ],
             [
              1,
              "#f0f921"
             ]
            ],
            "type": "surface"
           }
          ],
          "table": [
           {
            "cells": {
             "fill": {
              "color": "#EBF0F8"
             },
             "line": {
              "color": "white"
             }
            },
            "header": {
             "fill": {
              "color": "#C8D4E3"
             },
             "line": {
              "color": "white"
             }
            },
            "type": "table"
           }
          ]
         },
         "layout": {
          "annotationdefaults": {
           "arrowcolor": "#2a3f5f",
           "arrowhead": 0,
           "arrowwidth": 1
          },
          "autotypenumbers": "strict",
          "coloraxis": {
           "colorbar": {
            "outlinewidth": 0,
            "ticks": ""
           }
          },
          "colorscale": {
           "diverging": [
            [
             0,
             "#8e0152"
            ],
            [
             0.1,
             "#c51b7d"
            ],
            [
             0.2,
             "#de77ae"
            ],
            [
             0.3,
             "#f1b6da"
            ],
            [
             0.4,
             "#fde0ef"
            ],
            [
             0.5,
             "#f7f7f7"
            ],
            [
             0.6,
             "#e6f5d0"
            ],
            [
             0.7,
             "#b8e186"
            ],
            [
             0.8,
             "#7fbc41"
            ],
            [
             0.9,
             "#4d9221"
            ],
            [
             1,
             "#276419"
            ]
           ],
           "sequential": [
            [
             0,
             "#0d0887"
            ],
            [
             0.1111111111111111,
             "#46039f"
            ],
            [
             0.2222222222222222,
             "#7201a8"
            ],
            [
             0.3333333333333333,
             "#9c179e"
            ],
            [
             0.4444444444444444,
             "#bd3786"
            ],
            [
             0.5555555555555556,
             "#d8576b"
            ],
            [
             0.6666666666666666,
             "#ed7953"
            ],
            [
             0.7777777777777778,
             "#fb9f3a"
            ],
            [
             0.8888888888888888,
             "#fdca26"
            ],
            [
             1,
             "#f0f921"
            ]
           ],
           "sequentialminus": [
            [
             0,
             "#0d0887"
            ],
            [
             0.1111111111111111,
             "#46039f"
            ],
            [
             0.2222222222222222,
             "#7201a8"
            ],
            [
             0.3333333333333333,
             "#9c179e"
            ],
            [
             0.4444444444444444,
             "#bd3786"
            ],
            [
             0.5555555555555556,
             "#d8576b"
            ],
            [
             0.6666666666666666,
             "#ed7953"
            ],
            [
             0.7777777777777778,
             "#fb9f3a"
            ],
            [
             0.8888888888888888,
             "#fdca26"
            ],
            [
             1,
             "#f0f921"
            ]
           ]
          },
          "colorway": [
           "#636efa",
           "#EF553B",
           "#00cc96",
           "#ab63fa",
           "#FFA15A",
           "#19d3f3",
           "#FF6692",
           "#B6E880",
           "#FF97FF",
           "#FECB52"
          ],
          "font": {
           "color": "#2a3f5f"
          },
          "geo": {
           "bgcolor": "white",
           "lakecolor": "white",
           "landcolor": "#E5ECF6",
           "showlakes": true,
           "showland": true,
           "subunitcolor": "white"
          },
          "hoverlabel": {
           "align": "left"
          },
          "hovermode": "closest",
          "mapbox": {
           "style": "light"
          },
          "paper_bgcolor": "white",
          "plot_bgcolor": "#E5ECF6",
          "polar": {
           "angularaxis": {
            "gridcolor": "white",
            "linecolor": "white",
            "ticks": ""
           },
           "bgcolor": "#E5ECF6",
           "radialaxis": {
            "gridcolor": "white",
            "linecolor": "white",
            "ticks": ""
           }
          },
          "scene": {
           "xaxis": {
            "backgroundcolor": "#E5ECF6",
            "gridcolor": "white",
            "gridwidth": 2,
            "linecolor": "white",
            "showbackground": true,
            "ticks": "",
            "zerolinecolor": "white"
           },
           "yaxis": {
            "backgroundcolor": "#E5ECF6",
            "gridcolor": "white",
            "gridwidth": 2,
            "linecolor": "white",
            "showbackground": true,
            "ticks": "",
            "zerolinecolor": "white"
           },
           "zaxis": {
            "backgroundcolor": "#E5ECF6",
            "gridcolor": "white",
            "gridwidth": 2,
            "linecolor": "white",
            "showbackground": true,
            "ticks": "",
            "zerolinecolor": "white"
           }
          },
          "shapedefaults": {
           "line": {
            "color": "#2a3f5f"
           }
          },
          "ternary": {
           "aaxis": {
            "gridcolor": "white",
            "linecolor": "white",
            "ticks": ""
           },
           "baxis": {
            "gridcolor": "white",
            "linecolor": "white",
            "ticks": ""
           },
           "bgcolor": "#E5ECF6",
           "caxis": {
            "gridcolor": "white",
            "linecolor": "white",
            "ticks": ""
           }
          },
          "title": {
           "x": 0.05
          },
          "xaxis": {
           "automargin": true,
           "gridcolor": "white",
           "linecolor": "white",
           "ticks": "",
           "title": {
            "standoff": 15
           },
           "zerolinecolor": "white",
           "zerolinewidth": 2
          },
          "yaxis": {
           "automargin": true,
           "gridcolor": "white",
           "linecolor": "white",
           "ticks": "",
           "title": {
            "standoff": 15
           },
           "zerolinecolor": "white",
           "zerolinewidth": 2
          }
         }
        },
        "title": {
         "y": 1
        }
       }
      }
     },
     "metadata": {},
     "output_type": "display_data"
    }
   ],
   "source": [
    "df = players_stats.loc[players_stats[\"Position\"] == positions[4]]\n",
    "min_value, max_value = get_min_max_value(df, columns)\n",
    "\n",
    "ROWS, COLUMNS = get_rows_columns(df, 4)\n",
    "\n",
    "fig = get_fig_subplots(df, ROWS, COLUMNS)\n",
    "for i, player_name in enumerate(df.index):\n",
    "    _df = df.loc[player_name, columns]\n",
    "    theta_list = get_theta_list(df, player_name, origin_columns)\n",
    "\n",
    "    r, c = get_rc(i, COLUMNS)\n",
    "    fig.add_trace(\n",
    "        go.Scatterpolar(r=_df, theta=theta_list, fill=\"toself\", name=player_name),\n",
    "        row=r,\n",
    "        col=c,\n",
    "    )\n",
    "\n",
    "fig.update_layout(\n",
    "    height=400 * ROWS,\n",
    "    showlegend=False,\n",
    "    title=dict(y=1),\n",
    ")\n",
    "fig.update_annotations(yshift=20)\n",
    "fig.update_polars(\n",
    "    radialaxis=dict(range=[min_value - 0.2, max_value + 0.2], visible=False),\n",
    ")\n",
    "fig.update_traces(marker=dict(), selector=dict(type=\"scatterpolar\"))\n",
    "fig.show()"
   ]
  },
  {
   "cell_type": "code",
   "execution_count": null,
   "metadata": {},
   "outputs": [],
   "source": []
  }
 ],
 "metadata": {
  "kernelspec": {
   "display_name": "Python 3",
   "language": "python",
   "name": "python3"
  },
  "language_info": {
   "codemirror_mode": {
    "name": "ipython",
    "version": 3
   },
   "file_extension": ".py",
   "mimetype": "text/x-python",
   "name": "python",
   "nbconvert_exporter": "python",
   "pygments_lexer": "ipython3",
   "version": "3.11.3"
  },
  "orig_nbformat": 4,
  "vscode": {
   "interpreter": {
    "hash": "cc0362ac4c7af633927c7f13c3a204675dc26ff026425e1d1bcaf453ea76d9c8"
   }
  }
 },
 "nbformat": 4,
 "nbformat_minor": 2
}
