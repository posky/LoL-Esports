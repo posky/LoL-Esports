{
 "cells": [
  {
   "cell_type": "code",
   "execution_count": 1,
   "metadata": {},
   "outputs": [],
   "source": [
    "import numpy as np\n",
    "import pandas as pd\n",
    "import matplotlib as mpl\n",
    "import matplotlib.pyplot as plt\n",
    "import seaborn as sns\n",
    "from sklearn.preprocessing import StandardScaler\n",
    "import plotly.express as px\n",
    "import plotly.graph_objects as go\n",
    "from plotly.subplots import make_subplots\n",
    "import pandas as pd\n",
    "\n",
    "\n",
    "pd.set_option(\"display.max_columns\", None)"
   ]
  },
  {
   "cell_type": "code",
   "execution_count": 2,
   "metadata": {},
   "outputs": [],
   "source": [
    "def get_rc(i, cols):\n",
    "    r = i // cols + 1\n",
    "    c = i % cols + 1\n",
    "\n",
    "    return (r, c)\n",
    "\n",
    "\n",
    "def get_rows_columns(df, c=5):\n",
    "    COLUMNS = c\n",
    "    d, m = divmod(df.shape[0], COLUMNS)\n",
    "    ROWS = d + (1 if m > 0 else m)\n",
    "\n",
    "    return ROWS, COLUMNS\n",
    "\n",
    "\n",
    "def get_fig_subplots(df, ROWS, COLUMNS):\n",
    "    fig = make_subplots(\n",
    "        rows=ROWS,\n",
    "        cols=COLUMNS,\n",
    "        subplot_titles=df.index.values,\n",
    "        specs=[[{\"type\": \"polar\"} for _ in range(COLUMNS)] for _ in range(ROWS)],\n",
    "    )\n",
    "\n",
    "    return fig\n",
    "\n",
    "\n",
    "def get_min_max_value(df, columns):\n",
    "    min_value = df[columns].unstack().min()\n",
    "    max_value = df[columns].unstack().max()\n",
    "\n",
    "    return min_value, max_value\n",
    "\n",
    "\n",
    "def get_theta_list(df, name, origin_columns, columns):\n",
    "    return [\n",
    "        f\"{col} - {round(value, ndigits=1)}\"\n",
    "        for col, value in zip(columns, df.loc[name, origin_columns].values)\n",
    "    ]\n",
    "\n",
    "\n",
    "def plot_radar_charts(fig, df, origin_columns, columns, ROWS, COLUMNS):\n",
    "    for i, name in enumerate(df.index):\n",
    "        _df = df.loc[name, columns]\n",
    "        theta_list = [\n",
    "            f\"{col} - {round(value, ndigits=1)}\"\n",
    "            for col, value in zip(columns, df.loc[name, origin_columns].values)\n",
    "        ]\n",
    "\n",
    "        r, c = get_rc(i, COLUMNS)\n",
    "        fig.add_trace(\n",
    "            go.Scatterpolar(r=df, theta=theta_list, fill=\"toself\", name=name),\n",
    "            row=r,\n",
    "            col=c,\n",
    "        )\n",
    "    fig.update_layout(\n",
    "        height=400 * ROWS,\n",
    "        showlegend=False,\n",
    "        polar=dict(radialaxis=dict(visible=True)),\n",
    "        title=dict(y=1),\n",
    "    )\n",
    "    fig.update_annotations(yshift=20)\n",
    "    fig.update_polars(radialaxis=dict(range=[min_value - 0.2, max_value + 0.2]))\n",
    "\n",
    "    return fig"
   ]
  },
  {
   "cell_type": "code",
   "execution_count": 3,
   "metadata": {},
   "outputs": [
    {
     "name": "stdout",
     "output_type": "stream",
     "text": [
      "(10, 12)\n"
     ]
    },
    {
     "data": {
      "text/html": [
       "<div>\n",
       "<style scoped>\n",
       "    .dataframe tbody tr th:only-of-type {\n",
       "        vertical-align: middle;\n",
       "    }\n",
       "\n",
       "    .dataframe tbody tr th {\n",
       "        vertical-align: top;\n",
       "    }\n",
       "\n",
       "    .dataframe thead th {\n",
       "        text-align: right;\n",
       "    }\n",
       "</style>\n",
       "<table border=\"1\" class=\"dataframe\">\n",
       "  <thead>\n",
       "    <tr style=\"text-align: right;\">\n",
       "      <th></th>\n",
       "      <th>Games</th>\n",
       "      <th>Win</th>\n",
       "      <th>Loss</th>\n",
       "      <th>WinRate</th>\n",
       "      <th>KD</th>\n",
       "      <th>CKPM</th>\n",
       "      <th>GameDuration</th>\n",
       "      <th>WinGameDuration</th>\n",
       "      <th>LossGameDuration</th>\n",
       "      <th>GPM</th>\n",
       "      <th>GDPM</th>\n",
       "      <th>KPM</th>\n",
       "    </tr>\n",
       "    <tr>\n",
       "      <th>Team</th>\n",
       "      <th></th>\n",
       "      <th></th>\n",
       "      <th></th>\n",
       "      <th></th>\n",
       "      <th></th>\n",
       "      <th></th>\n",
       "      <th></th>\n",
       "      <th></th>\n",
       "      <th></th>\n",
       "      <th></th>\n",
       "      <th></th>\n",
       "      <th></th>\n",
       "    </tr>\n",
       "  </thead>\n",
       "  <tbody>\n",
       "    <tr>\n",
       "      <th>100 Thieves</th>\n",
       "      <td>3.0</td>\n",
       "      <td>1.0</td>\n",
       "      <td>2.0</td>\n",
       "      <td>0.333333</td>\n",
       "      <td>0.766667</td>\n",
       "      <td>0.541887</td>\n",
       "      <td>32.538889</td>\n",
       "      <td>30.516667</td>\n",
       "      <td>33.550000</td>\n",
       "      <td>1729.418163</td>\n",
       "      <td>-64.978672</td>\n",
       "      <td>0.245358</td>\n",
       "    </tr>\n",
       "    <tr>\n",
       "      <th>Cloud9</th>\n",
       "      <td>3.0</td>\n",
       "      <td>3.0</td>\n",
       "      <td>0.0</td>\n",
       "      <td>1.000000</td>\n",
       "      <td>2.086957</td>\n",
       "      <td>0.849577</td>\n",
       "      <td>27.811111</td>\n",
       "      <td>27.811111</td>\n",
       "      <td>NaN</td>\n",
       "      <td>2024.749633</td>\n",
       "      <td>377.869824</td>\n",
       "      <td>0.575488</td>\n",
       "    </tr>\n",
       "    <tr>\n",
       "      <th>Dignitas</th>\n",
       "      <td>3.0</td>\n",
       "      <td>1.0</td>\n",
       "      <td>2.0</td>\n",
       "      <td>0.333333</td>\n",
       "      <td>0.622222</td>\n",
       "      <td>0.808316</td>\n",
       "      <td>30.205556</td>\n",
       "      <td>35.700000</td>\n",
       "      <td>27.458333</td>\n",
       "      <td>1675.265785</td>\n",
       "      <td>-259.787836</td>\n",
       "      <td>0.289670</td>\n",
       "    </tr>\n",
       "    <tr>\n",
       "      <th>Evil Geniuses.NA</th>\n",
       "      <td>3.0</td>\n",
       "      <td>2.0</td>\n",
       "      <td>1.0</td>\n",
       "      <td>0.666667</td>\n",
       "      <td>1.500000</td>\n",
       "      <td>0.753081</td>\n",
       "      <td>30.611111</td>\n",
       "      <td>28.066667</td>\n",
       "      <td>35.700000</td>\n",
       "      <td>1857.933548</td>\n",
       "      <td>197.569833</td>\n",
       "      <td>0.478800</td>\n",
       "    </tr>\n",
       "    <tr>\n",
       "      <th>FlyQuest</th>\n",
       "      <td>3.0</td>\n",
       "      <td>0.0</td>\n",
       "      <td>3.0</td>\n",
       "      <td>0.000000</td>\n",
       "      <td>0.500000</td>\n",
       "      <td>0.696175</td>\n",
       "      <td>33.711111</td>\n",
       "      <td>NaN</td>\n",
       "      <td>33.711111</td>\n",
       "      <td>1641.243832</td>\n",
       "      <td>-303.497445</td>\n",
       "      <td>0.220214</td>\n",
       "    </tr>\n",
       "  </tbody>\n",
       "</table>\n",
       "</div>"
      ],
      "text/plain": [
       "                  Games  Win  Loss   WinRate        KD      CKPM   \n",
       "Team                                                               \n",
       "100 Thieves         3.0  1.0   2.0  0.333333  0.766667  0.541887  \\\n",
       "Cloud9              3.0  3.0   0.0  1.000000  2.086957  0.849577   \n",
       "Dignitas            3.0  1.0   2.0  0.333333  0.622222  0.808316   \n",
       "Evil Geniuses.NA    3.0  2.0   1.0  0.666667  1.500000  0.753081   \n",
       "FlyQuest            3.0  0.0   3.0  0.000000  0.500000  0.696175   \n",
       "\n",
       "                  GameDuration  WinGameDuration  LossGameDuration   \n",
       "Team                                                                \n",
       "100 Thieves          32.538889        30.516667         33.550000  \\\n",
       "Cloud9               27.811111        27.811111               NaN   \n",
       "Dignitas             30.205556        35.700000         27.458333   \n",
       "Evil Geniuses.NA     30.611111        28.066667         35.700000   \n",
       "FlyQuest             33.711111              NaN         33.711111   \n",
       "\n",
       "                          GPM        GDPM       KPM  \n",
       "Team                                                 \n",
       "100 Thieves       1729.418163  -64.978672  0.245358  \n",
       "Cloud9            2024.749633  377.869824  0.575488  \n",
       "Dignitas          1675.265785 -259.787836  0.289670  \n",
       "Evil Geniuses.NA  1857.933548  197.569833  0.478800  \n",
       "FlyQuest          1641.243832 -303.497445  0.220214  "
      ]
     },
     "execution_count": 3,
     "metadata": {},
     "output_type": "execute_result"
    }
   ],
   "source": [
    "teams_stats = pd.read_csv(\"./csv/stats/teams.csv\", index_col=\"Team\")\n",
    "print(teams_stats.shape)\n",
    "teams_stats.head()"
   ]
  },
  {
   "cell_type": "code",
   "execution_count": 4,
   "metadata": {},
   "outputs": [
    {
     "data": {
      "text/html": [
       "<div>\n",
       "<style scoped>\n",
       "    .dataframe tbody tr th:only-of-type {\n",
       "        vertical-align: middle;\n",
       "    }\n",
       "\n",
       "    .dataframe tbody tr th {\n",
       "        vertical-align: top;\n",
       "    }\n",
       "\n",
       "    .dataframe thead th {\n",
       "        text-align: right;\n",
       "    }\n",
       "</style>\n",
       "<table border=\"1\" class=\"dataframe\">\n",
       "  <thead>\n",
       "    <tr style=\"text-align: right;\">\n",
       "      <th></th>\n",
       "      <th>Games</th>\n",
       "      <th>Win</th>\n",
       "      <th>Loss</th>\n",
       "      <th>WinRate</th>\n",
       "      <th>KD</th>\n",
       "      <th>CKPM</th>\n",
       "      <th>GameDuration</th>\n",
       "      <th>WinGameDuration</th>\n",
       "      <th>LossGameDuration</th>\n",
       "      <th>GPM</th>\n",
       "      <th>GDPM</th>\n",
       "      <th>KPM</th>\n",
       "      <th>_KD</th>\n",
       "      <th>_CKPM</th>\n",
       "      <th>_GPM</th>\n",
       "      <th>_GDPM</th>\n",
       "      <th>_KPM</th>\n",
       "    </tr>\n",
       "    <tr>\n",
       "      <th>Team</th>\n",
       "      <th></th>\n",
       "      <th></th>\n",
       "      <th></th>\n",
       "      <th></th>\n",
       "      <th></th>\n",
       "      <th></th>\n",
       "      <th></th>\n",
       "      <th></th>\n",
       "      <th></th>\n",
       "      <th></th>\n",
       "      <th></th>\n",
       "      <th></th>\n",
       "      <th></th>\n",
       "      <th></th>\n",
       "      <th></th>\n",
       "      <th></th>\n",
       "      <th></th>\n",
       "    </tr>\n",
       "  </thead>\n",
       "  <tbody>\n",
       "    <tr>\n",
       "      <th>100 Thieves</th>\n",
       "      <td>3.0</td>\n",
       "      <td>1.0</td>\n",
       "      <td>2.0</td>\n",
       "      <td>0.333333</td>\n",
       "      <td>0.766667</td>\n",
       "      <td>0.541887</td>\n",
       "      <td>32.538889</td>\n",
       "      <td>30.516667</td>\n",
       "      <td>33.550000</td>\n",
       "      <td>1729.418163</td>\n",
       "      <td>-64.978672</td>\n",
       "      <td>0.245358</td>\n",
       "      <td>-0.546775</td>\n",
       "      <td>-2.611819</td>\n",
       "      <td>-0.520860</td>\n",
       "      <td>-0.255342</td>\n",
       "      <td>-1.018075</td>\n",
       "    </tr>\n",
       "    <tr>\n",
       "      <th>Cloud9</th>\n",
       "      <td>3.0</td>\n",
       "      <td>3.0</td>\n",
       "      <td>0.0</td>\n",
       "      <td>1.000000</td>\n",
       "      <td>2.086957</td>\n",
       "      <td>0.849577</td>\n",
       "      <td>27.811111</td>\n",
       "      <td>27.811111</td>\n",
       "      <td>NaN</td>\n",
       "      <td>2024.749633</td>\n",
       "      <td>377.869824</td>\n",
       "      <td>0.575488</td>\n",
       "      <td>1.064302</td>\n",
       "      <td>1.235561</td>\n",
       "      <td>1.709654</td>\n",
       "      <td>1.484889</td>\n",
       "      <td>1.566806</td>\n",
       "    </tr>\n",
       "    <tr>\n",
       "      <th>Dignitas</th>\n",
       "      <td>3.0</td>\n",
       "      <td>1.0</td>\n",
       "      <td>2.0</td>\n",
       "      <td>0.333333</td>\n",
       "      <td>0.622222</td>\n",
       "      <td>0.808316</td>\n",
       "      <td>30.205556</td>\n",
       "      <td>35.700000</td>\n",
       "      <td>27.458333</td>\n",
       "      <td>1675.265785</td>\n",
       "      <td>-259.787836</td>\n",
       "      <td>0.289670</td>\n",
       "      <td>-0.723032</td>\n",
       "      <td>0.719625</td>\n",
       "      <td>-0.929850</td>\n",
       "      <td>-1.020870</td>\n",
       "      <td>-0.671117</td>\n",
       "    </tr>\n",
       "    <tr>\n",
       "      <th>Evil Geniuses.NA</th>\n",
       "      <td>3.0</td>\n",
       "      <td>2.0</td>\n",
       "      <td>1.0</td>\n",
       "      <td>0.666667</td>\n",
       "      <td>1.500000</td>\n",
       "      <td>0.753081</td>\n",
       "      <td>30.611111</td>\n",
       "      <td>28.066667</td>\n",
       "      <td>35.700000</td>\n",
       "      <td>1857.933548</td>\n",
       "      <td>197.569833</td>\n",
       "      <td>0.478800</td>\n",
       "      <td>0.348071</td>\n",
       "      <td>0.028969</td>\n",
       "      <td>0.449762</td>\n",
       "      <td>0.776376</td>\n",
       "      <td>0.809754</td>\n",
       "    </tr>\n",
       "    <tr>\n",
       "      <th>FlyQuest</th>\n",
       "      <td>3.0</td>\n",
       "      <td>0.0</td>\n",
       "      <td>3.0</td>\n",
       "      <td>0.000000</td>\n",
       "      <td>0.500000</td>\n",
       "      <td>0.696175</td>\n",
       "      <td>33.711111</td>\n",
       "      <td>NaN</td>\n",
       "      <td>33.711111</td>\n",
       "      <td>1641.243832</td>\n",
       "      <td>-303.497445</td>\n",
       "      <td>0.220214</td>\n",
       "      <td>-0.872173</td>\n",
       "      <td>-0.682585</td>\n",
       "      <td>-1.186803</td>\n",
       "      <td>-1.192633</td>\n",
       "      <td>-1.214953</td>\n",
       "    </tr>\n",
       "  </tbody>\n",
       "</table>\n",
       "</div>"
      ],
      "text/plain": [
       "                  Games  Win  Loss   WinRate        KD      CKPM   \n",
       "Team                                                               \n",
       "100 Thieves         3.0  1.0   2.0  0.333333  0.766667  0.541887  \\\n",
       "Cloud9              3.0  3.0   0.0  1.000000  2.086957  0.849577   \n",
       "Dignitas            3.0  1.0   2.0  0.333333  0.622222  0.808316   \n",
       "Evil Geniuses.NA    3.0  2.0   1.0  0.666667  1.500000  0.753081   \n",
       "FlyQuest            3.0  0.0   3.0  0.000000  0.500000  0.696175   \n",
       "\n",
       "                  GameDuration  WinGameDuration  LossGameDuration   \n",
       "Team                                                                \n",
       "100 Thieves          32.538889        30.516667         33.550000  \\\n",
       "Cloud9               27.811111        27.811111               NaN   \n",
       "Dignitas             30.205556        35.700000         27.458333   \n",
       "Evil Geniuses.NA     30.611111        28.066667         35.700000   \n",
       "FlyQuest             33.711111              NaN         33.711111   \n",
       "\n",
       "                          GPM        GDPM       KPM       _KD     _CKPM   \n",
       "Team                                                                      \n",
       "100 Thieves       1729.418163  -64.978672  0.245358 -0.546775 -2.611819  \\\n",
       "Cloud9            2024.749633  377.869824  0.575488  1.064302  1.235561   \n",
       "Dignitas          1675.265785 -259.787836  0.289670 -0.723032  0.719625   \n",
       "Evil Geniuses.NA  1857.933548  197.569833  0.478800  0.348071  0.028969   \n",
       "FlyQuest          1641.243832 -303.497445  0.220214 -0.872173 -0.682585   \n",
       "\n",
       "                      _GPM     _GDPM      _KPM  \n",
       "Team                                            \n",
       "100 Thieves      -0.520860 -0.255342 -1.018075  \n",
       "Cloud9            1.709654  1.484889  1.566806  \n",
       "Dignitas         -0.929850 -1.020870 -0.671117  \n",
       "Evil Geniuses.NA  0.449762  0.776376  0.809754  \n",
       "FlyQuest         -1.186803 -1.192633 -1.214953  "
      ]
     },
     "execution_count": 4,
     "metadata": {},
     "output_type": "execute_result"
    }
   ],
   "source": [
    "scaler = StandardScaler()\n",
    "origin_columns = [\"KD\", \"CKPM\", \"GPM\", \"GDPM\", \"KPM\"]\n",
    "columns = [\"_\" + col for col in origin_columns]\n",
    "teams_stats[columns] = scaler.fit_transform(teams_stats[origin_columns])\n",
    "teams_stats.head()"
   ]
  },
  {
   "cell_type": "code",
   "execution_count": 5,
   "metadata": {},
   "outputs": [
    {
     "name": "stderr",
     "output_type": "stream",
     "text": [
      "C:\\Users\\pjm58\\AppData\\Local\\Temp\\ipykernel_56300\\879664895.py:6: RuntimeWarning: divide by zero encountered in divide\n",
      "  x = 100 / y\n"
     ]
    },
    {
     "data": {
      "image/png": "[encoded data removed]",
      "text/plain": [
       "<Figure size 1500x1500 with 1 Axes>"
      ]
     },
     "metadata": {},
     "output_type": "display_data"
    }
   ],
   "source": [
    "fig, ax = plt.subplots(1, 1, figsize=(15, 15))\n",
    "ax.set_xlim(teams_stats[\"GDPM\"].min() - 25, teams_stats[\"GDPM\"].max() + 25)\n",
    "ax.set_ylim(teams_stats[\"KPM\"].min() - 0.01, teams_stats[\"KPM\"].max() + 0.01)\n",
    "ax = sns.regplot(data=teams_stats, x=\"GDPM\", y=\"KPM\")\n",
    "y = np.linspace(0, 1.2)\n",
    "x = 100 / y\n",
    "sns.lineplot(x=x, y=y)\n",
    "for idx, i in zip(teams_stats.index, range(teams_stats.shape[0])):\n",
    "    row = teams_stats.iloc[i]\n",
    "    plt.annotate(\n",
    "        idx, xy=(row[\"GDPM\"], row[\"KPM\"]), xytext=(5, 20), textcoords=\"offset pixels\"\n",
    "    )\n",
    "    plt.annotate(\n",
    "        round(row[\"GDPM\"] * row[\"KPM\"], ndigits=1),\n",
    "        xy=(row[\"GDPM\"], row[\"KPM\"]),\n",
    "        xytext=(5, 5),\n",
    "        textcoords=\"offset pixels\",\n",
    "    )"
   ]
  },
  {
   "cell_type": "code",
   "execution_count": 6,
   "metadata": {},
   "outputs": [
    {
     "data": {
      "application/vnd.plotly.v1+json": {
       "config": {
        "plotlyServerURL": "https://plot.ly"
       },
       "data": [
        {
         "fill": "toself",
         "name": "100 Thieves",
         "r": [
          -0.5467748329232247,
          -2.6118190275657667,
          -0.520859998392067,
          -0.2553421593970978,
          -1.0180747567799113
         ],
         "subplot": "polar",
         "theta": [
          "_KD - 0.8",
          "_CKPM - 0.5",
          "_GPM - 1729.4",
          "_GDPM - -65.0",
          "_KPM - 0.2"
         ],
         "type": "scatterpolar"
        },
        {
         "fill": "toself",
         "name": "Cloud9",
         "r": [
          1.0643022344681947,
          1.2355609604643292,
          1.7096537281597317,
          1.4848887052711432,
          1.5668062074213407
         ],
         "subplot": "polar2",
         "theta": [
          "_KD - 2.1",
          "_CKPM - 0.8",
          "_GPM - 2024.7",
          "_GDPM - 377.9",
          "_KPM - 0.6"
         ],
         "type": "scatterpolar"
        },
        {
         "fill": "toself",
         "name": "Dignitas",
         "r": [
          -0.7230324411010639,
          0.7196251345093518,
          -0.9298500120724613,
          -1.0208701494730748,
          -0.6711166769149434
         ],
         "subplot": "polar3",
         "theta": [
          "_KD - 0.6",
          "_CKPM - 0.8",
          "_GPM - 1675.3",
          "_GDPM - -259.8",
          "_KPM - 0.3"
         ],
         "type": "scatterpolar"
        },
        {
         "fill": "toself",
         "name": "Evil Geniuses.NA",
         "r": [
          0.34807148551811257,
          0.0289688911359151,
          0.44976237086367726,
          0.7763764010097026,
          0.8097543408945475
         ],
         "subplot": "polar4",
         "theta": [
          "_KD - 1.5",
          "_CKPM - 0.8",
          "_GPM - 1857.9",
          "_GDPM - 197.6",
          "_KPM - 0.5"
         ],
         "type": "scatterpolar"
        },
        {
         "fill": "toself",
         "name": "FlyQuest",
         "r": [
          -0.8721734941746202,
          -0.6825851601505456,
          -1.1868034355064976,
          -1.1926327544387347,
          -1.2149534900004064
         ],
         "subplot": "polar5",
         "theta": [
          "_KD - 0.5",
          "_CKPM - 0.7",
          "_GPM - 1641.2",
          "_GDPM - -303.5",
          "_KPM - 0.2"
         ],
         "type": "scatterpolar"
        },
        {
         "fill": "toself",
         "name": "Golden Guardians",
         "r": [
          -0.5603331104753663,
          0.6630011477799704,
          -0.14760206671052806,
          -0.3524130977621497,
          -0.27339080890246104
         ],
         "subplot": "polar6",
         "theta": [
          "_KD - 0.8",
          "_CKPM - 0.8",
          "_GPM - 1778.8",
          "_GDPM - -89.7",
          "_KPM - 0.3"
         ],
         "type": "scatterpolar"
        },
        {
         "fill": "toself",
         "name": "Immortals",
         "r": [
          -0.567112249251437,
          -0.10154472161642239,
          -0.5347259304095087,
          -0.543115880442959,
          -0.6578016124300125
         ],
         "subplot": "polar7",
         "theta": [
          "_KD - 0.8",
          "_CKPM - 0.7",
          "_GPM - 1727.6",
          "_GDPM - -138.2",
          "_KPM - 0.3"
         ],
         "type": "scatterpolar"
        },
        {
         "fill": "toself",
         "name": "NRG",
         "r": [
          -0.16571587435251142,
          0.10871557401097691,
          -0.22678681743375392,
          -0.2645821370796397,
          -0.11598207280779357
         ],
         "subplot": "polar8",
         "theta": [
          "_KD - 1.1",
          "_CKPM - 0.8",
          "_GPM - 1768.4",
          "_GDPM - -67.3",
          "_KPM - 0.4"
         ],
         "type": "scatterpolar"
        },
        {
         "fill": "toself",
         "name": "TSM",
         "r": [
          -0.48106933401669305,
          0.30245866729756005,
          -0.5329847475858209,
          -0.5885800719903301,
          -0.25319741079565095
         ],
         "subplot": "polar9",
         "theta": [
          "_KD - 0.8",
          "_CKPM - 0.8",
          "_GPM - 1727.8",
          "_GDPM - -149.8",
          "_KPM - 0.3"
         ],
         "type": "scatterpolar"
        },
        {
         "fill": "toself",
         "name": "Team Liquid",
         "r": [
          2.503837616308607,
          0.3376185341346285,
          1.920196909087206,
          1.9562711443031402,
          1.8279562803152896
         ],
         "subplot": "polar10",
         "theta": [
          "_KD - 3.3",
          "_CKPM - 0.8",
          "_GPM - 2052.6",
          "_GDPM - 497.8",
          "_KPM - 0.6"
         ],
         "type": "scatterpolar"
        }
       ],
       "layout": {
        "annotations": [
         {
          "font": {
           "size": 16
          },
          "showarrow": false,
          "text": "100 Thieves",
          "x": 0.08399999999999999,
          "xanchor": "center",
          "xref": "paper",
          "y": 1,
          "yanchor": "bottom",
          "yref": "paper",
          "yshift": 20
         },
         {
          "font": {
           "size": 16
          },
          "showarrow": false,
          "text": "Cloud9",
          "x": 0.292,
          "xanchor": "center",
          "xref": "paper",
          "y": 1,
          "yanchor": "bottom",
          "yref": "paper",
          "yshift": 20
         },
         {
          "font": {
           "size": 16
          },
          "showarrow": false,
          "text": "Dignitas",
          "x": 0.5,
          "xanchor": "center",
          "xref": "paper",
          "y": 1,
          "yanchor": "bottom",
          "yref": "paper",
          "yshift": 20
         },
         {
          "font": {
           "size": 16
          },
          "showarrow": false,
          "text": "Evil Geniuses.NA",
          "x": 0.708,
          "xanchor": "center",
          "xref": "paper",
          "y": 1,
          "yanchor": "bottom",
          "yref": "paper",
          "yshift": 20
         },
         {
          "font": {
           "size": 16
          },
          "showarrow": false,
          "text": "FlyQuest",
          "x": 0.9159999999999999,
          "xanchor": "center",
          "xref": "paper",
          "y": 1,
          "yanchor": "bottom",
          "yref": "paper",
          "yshift": 20
         },
         {
          "font": {
           "size": 16
          },
          "showarrow": false,
          "text": "Golden Guardians",
          "x": 0.08399999999999999,
          "xanchor": "center",
          "xref": "paper",
          "y": 0.375,
          "yanchor": "bottom",
          "yref": "paper",
          "yshift": 20
         },
         {
          "font": {
           "size": 16
          },
          "showarrow": false,
          "text": "Immortals",
          "x": 0.292,
          "xanchor": "center",
          "xref": "paper",
          "y": 0.375,
          "yanchor": "bottom",
          "yref": "paper",
          "yshift": 20
         },
         {
          "font": {
           "size": 16
          },
          "showarrow": false,
          "text": "NRG",
          "x": 0.5,
          "xanchor": "center",
          "xref": "paper",
          "y": 0.375,
          "yanchor": "bottom",
          "yref": "paper",
          "yshift": 20
         },
         {
          "font": {
           "size": 16
          },
          "showarrow": false,
          "text": "TSM",
          "x": 0.708,
          "xanchor": "center",
          "xref": "paper",
          "y": 0.375,
          "yanchor": "bottom",
          "yref": "paper",
          "yshift": 20
         },
         {
          "font": {
           "size": 16
          },
          "showarrow": false,
          "text": "Team Liquid",
          "x": 0.9159999999999999,
          "xanchor": "center",
          "xref": "paper",
          "y": 0.375,
          "yanchor": "bottom",
          "yref": "paper",
          "yshift": 20
         }
        ],
        "height": 800,
        "polar": {
         "domain": {
          "x": [
           0,
           0.16799999999999998
          ],
          "y": [
           0.625,
           1
          ]
         },
         "radialaxis": {
          "range": [
           -2.811819027565767,
           2.7038376163086073
          ],
          "visible": true
         }
        },
        "polar10": {
         "domain": {
          "x": [
           0.832,
           1
          ],
          "y": [
           0,
           0.375
          ]
         },
         "radialaxis": {
          "range": [
           -2.811819027565767,
           2.7038376163086073
          ]
         }
        },
        "polar2": {
         "domain": {
          "x": [
           0.208,
           0.376
          ],
          "y": [
           0.625,
           1
          ]
         },
         "radialaxis": {
          "range": [
           -2.811819027565767,
           2.7038376163086073
          ]
         }
        },
        "polar3": {
         "domain": {
          "x": [
           0.416,
           0.584
          ],
          "y": [
           0.625,
           1
          ]
         },
         "radialaxis": {
          "range": [
           -2.811819027565767,
           2.7038376163086073
          ]
         }
        },
        "polar4": {
         "domain": {
          "x": [
           0.624,
           0.792
          ],
          "y": [
           0.625,
           1
          ]
         },
         "radialaxis": {
          "range": [
           -2.811819027565767,
           2.7038376163086073
          ]
         }
        },
        "polar5": {
         "domain": {
          "x": [
           0.832,
           1
          ],
          "y": [
           0.625,
           1
          ]
         },
         "radialaxis": {
          "range": [
           -2.811819027565767,
           2.7038376163086073
          ]
         }
        },
        "polar6": {
         "domain": {
          "x": [
           0,
           0.16799999999999998
          ],
          "y": [
           0,
           0.375
          ]
         },
         "radialaxis": {
          "range": [
           -2.811819027565767,
           2.7038376163086073
          ]
         }
        },
        "polar7": {
         "domain": {
          "x": [
           0.208,
           0.376
          ],
          "y": [
           0,
           0.375
          ]
         },
         "radialaxis": {
          "range": [
           -2.811819027565767,
           2.7038376163086073
          ]
         }
        },
        "polar8": {
         "domain": {
          "x": [
           0.416,
           0.584
          ],
          "y": [
           0,
           0.375
          ]
         },
         "radialaxis": {
          "range": [
           -2.811819027565767,
           2.7038376163086073
          ]
         }
        },
        "polar9": {
         "domain": {
          "x": [
           0.624,
           0.792
          ],
          "y": [
           0,
           0.375
          ]
         },
         "radialaxis": {
          "range": [
           -2.811819027565767,
           2.7038376163086073
          ]
         }
        },
        "showlegend": false,
        "template": {
         "data": {
          "bar": [
           {
            "error_x": {
             "color": "#2a3f5f"
            },
            "error_y": {
             "color": "#2a3f5f"
            },
            "marker": {
             "line": {
              "color": "#E5ECF6",
              "width": 0.5
             },
             "pattern": {
              "fillmode": "overlay",
              "size": 10,
              "solidity": 0.2
             }
            },
            "type": "bar"
           }
          ],
          "barpolar": [
           {
            "marker": {
             "line": {
              "color": "#E5ECF6",
              "width": 0.5
             },
             "pattern": {
              "fillmode": "overlay",
              "size": 10,
              "solidity": 0.2
             }
            },
            "type": "barpolar"
           }
          ],
          "carpet": [
           {
            "aaxis": {
             "endlinecolor": "#2a3f5f",
             "gridcolor": "white",
             "linecolor": "white",
             "minorgridcolor": "white",
             "startlinecolor": "#2a3f5f"
            },
            "baxis": {
             "endlinecolor": "#2a3f5f",
             "gridcolor": "white",
             "linecolor": "white",
             "minorgridcolor": "white",
             "startlinecolor": "#2a3f5f"
            },
            "type": "carpet"
           }
          ],
          "choropleth": [
           {
            "colorbar": {
             "outlinewidth": 0,
             "ticks": ""
            },
            "type": "choropleth"
           }
          ],
          "contour": [
           {
            "colorbar": {
             "outlinewidth": 0,
             "ticks": ""
            },
            "colorscale": [
             [
              0,
              "#0d0887"
             ],
             [
              0.1111111111111111,
              "#46039f"
             ],
             [
              0.2222222222222222,
              "#7201a8"
             ],
             [
              0.3333333333333333,
              "#9c179e"
             ],
             [
              0.4444444444444444,
              "#bd3786"
             ],
             [
              0.5555555555555556,
              "#d8576b"
             ],
             [
              0.6666666666666666,
              "#ed7953"
             ],
             [
              0.7777777777777778,
              "#fb9f3a"
             ],
             [
              0.8888888888888888,
              "#fdca26"
             ],
             [
              1,
              "#f0f921"
             ]
            ],
            "type": "contour"
           }
          ],
          "contourcarpet": [
           {
            "colorbar": {
             "outlinewidth": 0,
             "ticks": ""
            },
            "type": "contourcarpet"
           }
          ],
          "heatmap": [
           {
            "colorbar": {
             "outlinewidth": 0,
             "ticks": ""
            },
            "colorscale": [
             [
              0,
              "#0d0887"
             ],
             [
              0.1111111111111111,
              "#46039f"
             ],
             [
              0.2222222222222222,
              "#7201a8"
             ],
             [
              0.3333333333333333,
              "#9c179e"
             ],
             [
              0.4444444444444444,
              "#bd3786"
             ],
             [
              0.5555555555555556,
              "#d8576b"
             ],
             [
              0.6666666666666666,
              "#ed7953"
             ],
             [
              0.7777777777777778,
              "#fb9f3a"
             ],
             [
              0.8888888888888888,
              "#fdca26"
             ],
             [
              1,
              "#f0f921"
             ]
            ],
            "type": "heatmap"
           }
          ],
          "heatmapgl": [
           {
            "colorbar": {
             "outlinewidth": 0,
             "ticks": ""
            },
            "colorscale": [
             [
              0,
              "#0d0887"
             ],
             [
              0.1111111111111111,
              "#46039f"
             ],
             [
              0.2222222222222222,
              "#7201a8"
             ],
             [
              0.3333333333333333,
              "#9c179e"
             ],
             [
              0.4444444444444444,
              "#bd3786"
             ],
             [
              0.5555555555555556,
              "#d8576b"
             ],
             [
              0.6666666666666666,
              "#ed7953"
             ],
             [
              0.7777777777777778,
              "#fb9f3a"
             ],
             [
              0.8888888888888888,
              "#fdca26"
             ],
             [
              1,
              "#f0f921"
             ]
            ],
            "type": "heatmapgl"
           }
          ],
          "histogram": [
           {
            "marker": {
             "pattern": {
              "fillmode": "overlay",
              "size": 10,
              "solidity": 0.2
             }
            },
            "type": "histogram"
           }
          ],
          "histogram2d": [
           {
            "colorbar": {
             "outlinewidth": 0,
             "ticks": ""
            },
            "colorscale": [
             [
              0,
              "#0d0887"
             ],
             [
              0.1111111111111111,
              "#46039f"
             ],
             [
              0.2222222222222222,
              "#7201a8"
             ],
             [
              0.3333333333333333,
              "#9c179e"
             ],
             [
              0.4444444444444444,
              "#bd3786"
             ],
             [
              0.5555555555555556,
              "#d8576b"
             ],
             [
              0.6666666666666666,
              "#ed7953"
             ],
             [
              0.7777777777777778,
              "#fb9f3a"
             ],
             [
              0.8888888888888888,
              "#fdca26"
             ],
             [
              1,
              "#f0f921"
             ]
            ],
            "type": "histogram2d"
           }
          ],
          "histogram2dcontour": [
           {
            "colorbar": {
             "outlinewidth": 0,
             "ticks": ""
            },
            "colorscale": [
             [
              0,
              "#0d0887"
             ],
             [
              0.1111111111111111,
              "#46039f"
             ],
             [
              0.2222222222222222,
              "#7201a8"
             ],
             [
              0.3333333333333333,
              "#9c179e"
             ],
             [
              0.4444444444444444,
              "#bd3786"
             ],
             [
              0.5555555555555556,
              "#d8576b"
             ],
             [
              0.6666666666666666,
              "#ed7953"
             ],
             [
              0.7777777777777778,
              "#fb9f3a"
             ],
             [
              0.8888888888888888,
              "#fdca26"
             ],
             [
              1,
              "#f0f921"
             ]
            ],
            "type": "histogram2dcontour"
           }
          ],
          "mesh3d": [
           {
            "colorbar": {
             "outlinewidth": 0,
             "ticks": ""
            },
            "type": "mesh3d"
           }
          ],
          "parcoords": [
           {
            "line": {
             "colorbar": {
              "outlinewidth": 0,
              "ticks": ""
             }
            },
            "type": "parcoords"
           }
          ],
          "pie": [
           {
            "automargin": true,
            "type": "pie"
           }
          ],
          "scatter": [
           {
            "fillpattern": {
             "fillmode": "overlay",
             "size": 10,
             "solidity": 0.2
            },
            "type": "scatter"
           }
          ],
          "scatter3d": [
           {
            "line": {
             "colorbar": {
              "outlinewidth": 0,
              "ticks": ""
             }
            },
            "marker": {
             "colorbar": {
              "outlinewidth": 0,
              "ticks": ""
             }
            },
            "type": "scatter3d"
           }
          ],
          "scattercarpet": [
           {
            "marker": {
             "colorbar": {
              "outlinewidth": 0,
              "ticks": ""
             }
            },
            "type": "scattercarpet"
           }
          ],
          "scattergeo": [
           {
            "marker": {
             "colorbar": {
              "outlinewidth": 0,
              "ticks": ""
             }
            },
            "type": "scattergeo"
           }
          ],
          "scattergl": [
           {
            "marker": {
             "colorbar": {
              "outlinewidth": 0,
              "ticks": ""
             }
            },
            "type": "scattergl"
           }
          ],
          "scattermapbox": [
           {
            "marker": {
             "colorbar": {
              "outlinewidth": 0,
              "ticks": ""
             }
            },
            "type": "scattermapbox"
           }
          ],
          "scatterpolar": [
           {
            "marker": {
             "colorbar": {
              "outlinewidth": 0,
              "ticks": ""
             }
            },
            "type": "scatterpolar"
           }
          ],
          "scatterpolargl": [
           {
            "marker": {
             "colorbar": {
              "outlinewidth": 0,
              "ticks": ""
             }
            },
            "type": "scatterpolargl"
           }
          ],
          "scatterternary": [
           {
            "marker": {
             "colorbar": {
              "outlinewidth": 0,
              "ticks": ""
             }
            },
            "type": "scatterternary"
           }
          ],
          "surface": [
           {
            "colorbar": {
             "outlinewidth": 0,
             "ticks": ""
            },
            "colorscale": [
             [
              0,
              "#0d0887"
             ],
             [
              0.1111111111111111,
              "#46039f"
             ],
             [
              0.2222222222222222,
              "#7201a8"
             ],
             [
              0.3333333333333333,
              "#9c179e"
             ],
             [
              0.4444444444444444,
              "#bd3786"
             ],
             [
              0.5555555555555556,
              "#d8576b"
             ],
             [
              0.6666666666666666,
              "#ed7953"
             ],
             [
              0.7777777777777778,
              "#fb9f3a"
             ],
             [
              0.8888888888888888,
              "#fdca26"
             ],
             [
              1,
              "#f0f921"
             ]
            ],
            "type": "surface"
           }
          ],
          "table": [
           {
            "cells": {
             "fill": {
              "color": "#EBF0F8"
             },
             "line": {
              "color": "white"
             }
            },
            "header": {
             "fill": {
              "color": "#C8D4E3"
             },
             "line": {
              "color": "white"
             }
            },
            "type": "table"
           }
          ]
         },
         "layout": {
          "annotationdefaults": {
           "arrowcolor": "#2a3f5f",
           "arrowhead": 0,
           "arrowwidth": 1
          },
          "autotypenumbers": "strict",
          "coloraxis": {
           "colorbar": {
            "outlinewidth": 0,
            "ticks": ""
           }
          },
          "colorscale": {
           "diverging": [
            [
             0,
             "#8e0152"
            ],
            [
             0.1,
             "#c51b7d"
            ],
            [
             0.2,
             "#de77ae"
            ],
            [
             0.3,
             "#f1b6da"
            ],
            [
             0.4,
             "#fde0ef"
            ],
            [
             0.5,
             "#f7f7f7"
            ],
            [
             0.6,
             "#e6f5d0"
            ],
            [
             0.7,
             "#b8e186"
            ],
            [
             0.8,
             "#7fbc41"
            ],
            [
             0.9,
             "#4d9221"
            ],
            [
             1,
             "#276419"
            ]
           ],
           "sequential": [
            [
             0,
             "#0d0887"
            ],
            [
             0.1111111111111111,
             "#46039f"
            ],
            [
             0.2222222222222222,
             "#7201a8"
            ],
            [
             0.3333333333333333,
             "#9c179e"
            ],
            [
             0.4444444444444444,
             "#bd3786"
            ],
            [
             0.5555555555555556,
             "#d8576b"
            ],
            [
             0.6666666666666666,
             "#ed7953"
            ],
            [
             0.7777777777777778,
             "#fb9f3a"
            ],
            [
             0.8888888888888888,
             "#fdca26"
            ],
            [
             1,
             "#f0f921"
            ]
           ],
           "sequentialminus": [
            [
             0,
             "#0d0887"
            ],
            [
             0.1111111111111111,
             "#46039f"
            ],
            [
             0.2222222222222222,
             "#7201a8"
            ],
            [
             0.3333333333333333,
             "#9c179e"
            ],
            [
             0.4444444444444444,
             "#bd3786"
            ],
            [
             0.5555555555555556,
             "#d8576b"
            ],
            [
             0.6666666666666666,
             "#ed7953"
            ],
            [
             0.7777777777777778,
             "#fb9f3a"
            ],
            [
             0.8888888888888888,
             "#fdca26"
            ],
            [
             1,
             "#f0f921"
            ]
           ]
          },
          "colorway": [
           "#636efa",
           "#EF553B",
           "#00cc96",
           "#ab63fa",
           "#FFA15A",
           "#19d3f3",
           "#FF6692",
           "#B6E880",
           "#FF97FF",
           "#FECB52"
          ],
          "font": {
           "color": "#2a3f5f"
          },
          "geo": {
           "bgcolor": "white",
           "lakecolor": "white",
           "landcolor": "#E5ECF6",
           "showlakes": true,
           "showland": true,
           "subunitcolor": "white"
          },
          "hoverlabel": {
           "align": "left"
          },
          "hovermode": "closest",
          "mapbox": {
           "style": "light"
          },
          "paper_bgcolor": "white",
          "plot_bgcolor": "#E5ECF6",
          "polar": {
           "angularaxis": {
            "gridcolor": "white",
            "linecolor": "white",
            "ticks": ""
           },
           "bgcolor": "#E5ECF6",
           "radialaxis": {
            "gridcolor": "white",
            "linecolor": "white",
            "ticks": ""
           }
          },
          "scene": {
           "xaxis": {
            "backgroundcolor": "#E5ECF6",
            "gridcolor": "white",
            "gridwidth": 2,
            "linecolor": "white",
            "showbackground": true,
            "ticks": "",
            "zerolinecolor": "white"
           },
           "yaxis": {
            "backgroundcolor": "#E5ECF6",
            "gridcolor": "white",
            "gridwidth": 2,
            "linecolor": "white",
            "showbackground": true,
            "ticks": "",
            "zerolinecolor": "white"
           },
           "zaxis": {
            "backgroundcolor": "#E5ECF6",
            "gridcolor": "white",
            "gridwidth": 2,
            "linecolor": "white",
            "showbackground": true,
            "ticks": "",
            "zerolinecolor": "white"
           }
          },
          "shapedefaults": {
           "line": {
            "color": "#2a3f5f"
           }
          },
          "ternary": {
           "aaxis": {
            "gridcolor": "white",
            "linecolor": "white",
            "ticks": ""
           },
           "baxis": {
            "gridcolor": "white",
            "linecolor": "white",
            "ticks": ""
           },
           "bgcolor": "#E5ECF6",
           "caxis": {
            "gridcolor": "white",
            "linecolor": "white",
            "ticks": ""
           }
          },
          "title": {
           "x": 0.05
          },
          "xaxis": {
           "automargin": true,
           "gridcolor": "white",
           "linecolor": "white",
           "ticks": "",
           "title": {
            "standoff": 15
           },
           "zerolinecolor": "white",
           "zerolinewidth": 2
          },
          "yaxis": {
           "automargin": true,
           "gridcolor": "white",
           "linecolor": "white",
           "ticks": "",
           "title": {
            "standoff": 15
           },
           "zerolinecolor": "white",
           "zerolinewidth": 2
          }
         }
        },
        "title": {
         "y": 1
        }
       }
      }
     },
     "metadata": {},
     "output_type": "display_data"
    }
   ],
   "source": [
    "import plotly.io as pio\n",
    "\n",
    "ROWS, COLUMNS = get_rows_columns(teams_stats)\n",
    "min_value, max_value = get_min_max_value(teams_stats, columns)\n",
    "\n",
    "fig = get_fig_subplots(teams_stats, ROWS, COLUMNS)\n",
    "for i, team_name in enumerate(teams_stats.index):\n",
    "    df = teams_stats.loc[team_name, columns]\n",
    "    theta_list = get_theta_list(teams_stats, team_name, origin_columns, columns)\n",
    "\n",
    "    r, c = get_rc(i, COLUMNS)\n",
    "    fig.add_trace(\n",
    "        go.Scatterpolar(r=df, theta=theta_list, fill=\"toself\", name=team_name),\n",
    "        row=r,\n",
    "        col=c,\n",
    "    )\n",
    "\n",
    "fig.update_layout(\n",
    "    height=400 * ROWS,\n",
    "    showlegend=False,\n",
    "    polar=dict(\n",
    "        radialaxis=dict(visible=True),\n",
    "    ),\n",
    "    title=dict(y=1),\n",
    ")\n",
    "fig.update_annotations(yshift=20)\n",
    "fig.update_polars(radialaxis=dict(range=[min_value - 0.2, max_value + 0.2]))\n",
    "fig.show()"
   ]
  },
  {
   "cell_type": "code",
   "execution_count": 7,
   "metadata": {},
   "outputs": [
    {
     "data": {
      "text/plain": [
       "(50, 19)"
      ]
     },
     "execution_count": 7,
     "metadata": {},
     "output_type": "execute_result"
    }
   ],
   "source": [
    "players_stats = pd.read_csv(\"./csv/stats/players_by_position.csv\", index_col=\"Player\")\n",
    "players_stats.shape"
   ]
  },
  {
   "cell_type": "code",
   "execution_count": 8,
   "metadata": {},
   "outputs": [],
   "source": [
    "columns = [\n",
    "    \"_KDA\",\n",
    "    \"_DPM\",\n",
    "    \"_CSPM\",\n",
    "    \"_Gold\",\n",
    "    \"_GPM\",\n",
    "    \"_KP\",\n",
    "    \"_KS\",\n",
    "    \"_GS\",\n",
    "    \"_ChampionsPlayed\",\n",
    "]\n",
    "origin_columns = [col[1:] for col in columns]\n",
    "positions = [\"Top\", \"Jungle\", \"Mid\", \"Bot\", \"Support\"]"
   ]
  },
  {
   "cell_type": "code",
   "execution_count": 9,
   "metadata": {},
   "outputs": [],
   "source": [
    "for position in positions:\n",
    "    scaler = StandardScaler()\n",
    "    df = players_stats.loc[players_stats[\"Position\"] == position]\n",
    "    players_stats.loc[\n",
    "        players_stats[\"Position\"] == position, columns\n",
    "    ] = scaler.fit_transform(df[origin_columns])"
   ]
  },
  {
   "cell_type": "code",
   "execution_count": 12,
   "metadata": {},
   "outputs": [
    {
     "data": {
      "application/vnd.plotly.v1+json": {
       "config": {
        "plotlyServerURL": "https://plot.ly"
       },
       "data": [
        {
         "fill": "toself",
         "name": "Ssumday",
         "r": [
          -0.9701837889634742,
          -0.5744775013362815,
          2.0374286863286426,
          1.1952207645015214,
          0.5205487116878363,
          -2.0035086018090302,
          1.1093019256617345,
          1.4490911386937746,
          -0.4685212856658179
         ],
         "subplot": "polar",
         "theta": [
          "_KDA - 1.0",
          "_DPM - 414.7",
          "_CSPM - 9.3",
          "_Gold - 12888.3",
          "_GPM - 398.3",
          "_KP - 0.3",
          "_KS - 0.3",
          "_GS - 0.2",
          "_ChampionsPlayed - 2"
         ],
         "type": "scatterpolar"
        },
        {
         "fill": "toself",
         "name": "Fudge",
         "r": [
          0.27237727435628345,
          -0.047732450101995456,
          0.6772386633829826,
          -1.0268610335987847,
          0.32544774146581235,
          -1.3814953978765931,
          -1.3337897039807536,
          -1.538145355957777,
          1.0932163332202427
         ],
         "subplot": "polar2",
         "theta": [
          "_KDA - 4.0",
          "_DPM - 465.6",
          "_CSPM - 8.4",
          "_Gold - 10888.3",
          "_GPM - 391.6",
          "_KP - 0.4",
          "_KS - 0.1",
          "_GS - 0.2",
          "_ChampionsPlayed - 3"
         ],
         "type": "scatterpolar"
        },
        {
         "fill": "toself",
         "name": "Rich",
         "r": [
          -0.20097932119410042,
          -0.10497730277489087,
          -0.4828935727148615,
          -1.0276017275314862,
          -0.6733163822798912,
          1.307659431154617,
          0.468257474735133,
          0.04260878474392035,
          -0.4685212856658179
         ],
         "subplot": "polar3",
         "theta": [
          "_KDA - 2.9",
          "_DPM - 460.1",
          "_CSPM - 7.6",
          "_Gold - 10887.7",
          "_GPM - 357.1",
          "_KP - 0.7",
          "_KS - 0.2",
          "_GS - 0.2",
          "_ChampionsPlayed - 2"
         ],
         "type": "scatterpolar"
        },
        {
         "fill": "toself",
         "name": "Revenge",
         "r": [
          0.27237727435628345,
          -0.00926794121101562,
          -0.33429917019894106,
          -0.45541566452065735,
          -0.09484385311307635,
          0.8773946585096228,
          -1.1699672331884001,
          -0.7628165425409065,
          -0.4685212856658179
         ],
         "subplot": "polar4",
         "theta": [
          "_KDA - 4.0",
          "_DPM - 469.3",
          "_CSPM - 7.7",
          "_Gold - 11402.7",
          "_GPM - 377.1",
          "_KP - 0.7",
          "_KS - 0.1",
          "_GS - 0.2",
          "_ChampionsPlayed - 2"
         ],
         "type": "scatterpolar"
        },
        {
         "fill": "toself",
         "name": "Impact",
         "r": [
          -0.80450898052084,
          -0.07486803203950676,
          -0.6308427855982933,
          -0.5824446739787235,
          -1.359896438994339,
          0.12443130638088466,
          -1.3337897039807536,
          -0.7865445238522334,
          1.0932163332202427
         ],
         "subplot": "polar5",
         "theta": [
          "_KDA - 1.4",
          "_DPM - 463.0",
          "_CSPM - 7.5",
          "_Gold - 11288.3",
          "_GPM - 333.4",
          "_KP - 0.6",
          "_KS - 0.1",
          "_GS - 0.2",
          "_ChampionsPlayed - 3"
         ],
         "type": "scatterpolar"
        },
        {
         "fill": "toself",
         "name": "Licorice",
         "r": [
          -0.46395520761098036,
          1.1145455102221038,
          1.0907008911269855,
          1.5877885488325743,
          0.7988945205016674,
          0.16872326827081033,
          0.7573559526039929,
          1.6106774584033916,
          1.0932163332202427
         ],
         "subplot": "polar6",
         "theta": [
          "_KDA - 2.2",
          "_DPM - 578.0",
          "_CSPM - 8.7",
          "_Gold - 13241.7",
          "_GPM - 407.9",
          "_KP - 0.6",
          "_KS - 0.2",
          "_GS - 0.2",
          "_ChampionsPlayed - 3"
         ],
         "type": "scatterpolar"
        },
        {
         "fill": "toself",
         "name": "Solo",
         "r": [
          0.02386506169233188,
          -0.9988218689818721,
          -0.9726562260188958,
          -0.9187197194245712,
          -0.83748127490109,
          -0.026161364044863567,
          0.2716705097843104,
          -0.4698065592663454,
          -0.4685212856658179
         ],
         "subplot": "polar7",
         "theta": [
          "_KDA - 3.4",
          "_DPM - 373.6",
          "_CSPM - 7.3",
          "_Gold - 10985.7",
          "_GPM - 351.4",
          "_KP - 0.6",
          "_KS - 0.2",
          "_GS - 0.2",
          "_ChampionsPlayed - 2"
         ],
         "type": "scatterpolar"
        },
        {
         "fill": "toself",
         "name": "Dhokla",
         "r": [
          -0.5145780657462298,
          -0.6392202556317638,
          -0.6686662398140707,
          0.8956100687243288,
          -0.339370491556899,
          -0.5183422868997463,
          0.5401795350829964,
          -0.2710711576433105,
          1.0932163332202427
         ],
         "subplot": "polar8",
         "theta": [
          "_KDA - 2.1",
          "_DPM - 408.4",
          "_CSPM - 7.5",
          "_Gold - 12618.7",
          "_GPM - 368.6",
          "_KP - 0.5",
          "_KS - 0.2",
          "_GS - 0.2",
          "_ChampionsPlayed - 3"
         ],
         "type": "scatterpolar"
        },
        {
         "fill": "toself",
         "name": "Hauntzer",
         "r": [
          -0.3719136473650723,
          -1.080682539725458,
          -1.308843947209709,
          -0.7535449724324471,
          -0.6664596936530754,
          1.0656354965418078,
          -0.7604110562075163,
          -0.4050670298588455,
          -2.0302589045518786
         ],
         "subplot": "polar9",
         "theta": [
          "_KDA - 2.4",
          "_DPM - 365.7",
          "_CSPM - 7.1",
          "_Gold - 11134.3",
          "_GPM - 357.3",
          "_KP - 0.7",
          "_KS - 0.1",
          "_GS - 0.2",
          "_ChampionsPlayed - 1"
         ],
         "type": "scatterpolar"
        },
        {
         "fill": "toself",
         "name": "Summit",
         "r": [
          2.757499400995799,
          2.4155023815806804,
          0.5928337007161734,
          1.0859684094282558,
          2.326477160843057,
          0.3856634897724877,
          1.4511922994892545,
          1.1310737872783136,
          -0.4685212856658179
         ],
         "subplot": "polar10",
         "theta": [
          "_KDA - 10.0",
          "_DPM - 703.8",
          "_CSPM - 8.3",
          "_Gold - 12790.0",
          "_GPM - 460.7",
          "_KP - 0.6",
          "_KS - 0.3",
          "_GS - 0.2",
          "_ChampionsPlayed - 2"
         ],
         "type": "scatterpolar"
        }
       ],
       "layout": {
        "annotations": [
         {
          "font": {
           "size": 16
          },
          "showarrow": false,
          "text": "Ssumday",
          "x": 0.10625,
          "xanchor": "center",
          "xref": "paper",
          "y": 1,
          "yanchor": "bottom",
          "yref": "paper",
          "yshift": 20
         },
         {
          "font": {
           "size": 16
          },
          "showarrow": false,
          "text": "Fudge",
          "x": 0.36875,
          "xanchor": "center",
          "xref": "paper",
          "y": 1,
          "yanchor": "bottom",
          "yref": "paper",
          "yshift": 20
         },
         {
          "font": {
           "size": 16
          },
          "showarrow": false,
          "text": "Rich",
          "x": 0.6312500000000001,
          "xanchor": "center",
          "xref": "paper",
          "y": 1,
          "yanchor": "bottom",
          "yref": "paper",
          "yshift": 20
         },
         {
          "font": {
           "size": 16
          },
          "showarrow": false,
          "text": "Revenge",
          "x": 0.89375,
          "xanchor": "center",
          "xref": "paper",
          "y": 1,
          "yanchor": "bottom",
          "yref": "paper",
          "yshift": 20
         },
         {
          "font": {
           "size": 16
          },
          "showarrow": false,
          "text": "Impact",
          "x": 0.10625,
          "xanchor": "center",
          "xref": "paper",
          "y": 0.6111111111111112,
          "yanchor": "bottom",
          "yref": "paper",
          "yshift": 20
         },
         {
          "font": {
           "size": 16
          },
          "showarrow": false,
          "text": "Licorice",
          "x": 0.36875,
          "xanchor": "center",
          "xref": "paper",
          "y": 0.6111111111111112,
          "yanchor": "bottom",
          "yref": "paper",
          "yshift": 20
         },
         {
          "font": {
           "size": 16
          },
          "showarrow": false,
          "text": "Solo",
          "x": 0.6312500000000001,
          "xanchor": "center",
          "xref": "paper",
          "y": 0.6111111111111112,
          "yanchor": "bottom",
          "yref": "paper",
          "yshift": 20
         },
         {
          "font": {
           "size": 16
          },
          "showarrow": false,
          "text": "Dhokla",
          "x": 0.89375,
          "xanchor": "center",
          "xref": "paper",
          "y": 0.6111111111111112,
          "yanchor": "bottom",
          "yref": "paper",
          "yshift": 20
         },
         {
          "font": {
           "size": 16
          },
          "showarrow": false,
          "text": "Hauntzer",
          "x": 0.10625,
          "xanchor": "center",
          "xref": "paper",
          "y": 0.22222222222222224,
          "yanchor": "bottom",
          "yref": "paper",
          "yshift": 20
         },
         {
          "font": {
           "size": 16
          },
          "showarrow": false,
          "text": "Summit",
          "x": 0.36875,
          "xanchor": "center",
          "xref": "paper",
          "y": 0.22222222222222224,
          "yanchor": "bottom",
          "yref": "paper",
          "yshift": 20
         }
        ],
        "height": 1200,
        "polar": {
         "domain": {
          "x": [
           0,
           0.2125
          ],
          "y": [
           0.7777777777777778,
           1
          ]
         },
         "radialaxis": {
          "range": [
           -2.230258904551879,
           2.957499400995799
          ],
          "visible": true
         }
        },
        "polar10": {
         "domain": {
          "x": [
           0.2625,
           0.475
          ],
          "y": [
           0,
           0.22222222222222224
          ]
         },
         "radialaxis": {
          "range": [
           -2.230258904551879,
           2.957499400995799
          ]
         }
        },
        "polar11": {
         "domain": {
          "x": [
           0.525,
           0.7375
          ],
          "y": [
           0,
           0.22222222222222224
          ]
         },
         "radialaxis": {
          "range": [
           -2.230258904551879,
           2.957499400995799
          ]
         }
        },
        "polar12": {
         "domain": {
          "x": [
           0.7875,
           1
          ],
          "y": [
           0,
           0.22222222222222224
          ]
         },
         "radialaxis": {
          "range": [
           -2.230258904551879,
           2.957499400995799
          ]
         }
        },
        "polar2": {
         "domain": {
          "x": [
           0.2625,
           0.475
          ],
          "y": [
           0.7777777777777778,
           1
          ]
         },
         "radialaxis": {
          "range": [
           -2.230258904551879,
           2.957499400995799
          ]
         }
        },
        "polar3": {
         "domain": {
          "x": [
           0.525,
           0.7375
          ],
          "y": [
           0.7777777777777778,
           1
          ]
         },
         "radialaxis": {
          "range": [
           -2.230258904551879,
           2.957499400995799
          ]
         }
        },
        "polar4": {
         "domain": {
          "x": [
           0.7875,
           1
          ],
          "y": [
           0.7777777777777778,
           1
          ]
         },
         "radialaxis": {
          "range": [
           -2.230258904551879,
           2.957499400995799
          ]
         }
        },
        "polar5": {
         "domain": {
          "x": [
           0,
           0.2125
          ],
          "y": [
           0.3888888888888889,
           0.6111111111111112
          ]
         },
         "radialaxis": {
          "range": [
           -2.230258904551879,
           2.957499400995799
          ]
         }
        },
        "polar6": {
         "domain": {
          "x": [
           0.2625,
           0.475
          ],
          "y": [
           0.3888888888888889,
           0.6111111111111112
          ]
         },
         "radialaxis": {
          "range": [
           -2.230258904551879,
           2.957499400995799
          ]
         }
        },
        "polar7": {
         "domain": {
          "x": [
           0.525,
           0.7375
          ],
          "y": [
           0.3888888888888889,
           0.6111111111111112
          ]
         },
         "radialaxis": {
          "range": [
           -2.230258904551879,
           2.957499400995799
          ]
         }
        },
        "polar8": {
         "domain": {
          "x": [
           0.7875,
           1
          ],
          "y": [
           0.3888888888888889,
           0.6111111111111112
          ]
         },
         "radialaxis": {
          "range": [
           -2.230258904551879,
           2.957499400995799
          ]
         }
        },
        "polar9": {
         "domain": {
          "x": [
           0,
           0.2125
          ],
          "y": [
           0,
           0.22222222222222224
          ]
         },
         "radialaxis": {
          "range": [
           -2.230258904551879,
           2.957499400995799
          ]
         }
        },
        "showlegend": false,
        "template": {
         "data": {
          "bar": [
           {
            "error_x": {
             "color": "#2a3f5f"
            },
            "error_y": {
             "color": "#2a3f5f"
            },
            "marker": {
             "line": {
              "color": "#E5ECF6",
              "width": 0.5
             },
             "pattern": {
              "fillmode": "overlay",
              "size": 10,
              "solidity": 0.2
             }
            },
            "type": "bar"
           }
          ],
          "barpolar": [
           {
            "marker": {
             "line": {
              "color": "#E5ECF6",
              "width": 0.5
             },
             "pattern": {
              "fillmode": "overlay",
              "size": 10,
              "solidity": 0.2
             }
            },
            "type": "barpolar"
           }
          ],
          "carpet": [
           {
            "aaxis": {
             "endlinecolor": "#2a3f5f",
             "gridcolor": "white",
             "linecolor": "white",
             "minorgridcolor": "white",
             "startlinecolor": "#2a3f5f"
            },
            "baxis": {
             "endlinecolor": "#2a3f5f",
             "gridcolor": "white",
             "linecolor": "white",
             "minorgridcolor": "white",
             "startlinecolor": "#2a3f5f"
            },
            "type": "carpet"
           }
          ],
          "choropleth": [
           {
            "colorbar": {
             "outlinewidth": 0,
             "ticks": ""
            },
            "type": "choropleth"
           }
          ],
          "contour": [
           {
            "colorbar": {
             "outlinewidth": 0,
             "ticks": ""
            },
            "colorscale": [
             [
              0,
              "#0d0887"
             ],
             [
              0.1111111111111111,
              "#46039f"
             ],
             [
              0.2222222222222222,
              "#7201a8"
             ],
             [
              0.3333333333333333,
              "#9c179e"
             ],
             [
              0.4444444444444444,
              "#bd3786"
             ],
             [
              0.5555555555555556,
              "#d8576b"
             ],
             [
              0.6666666666666666,
              "#ed7953"
             ],
             [
              0.7777777777777778,
              "#fb9f3a"
             ],
             [
              0.8888888888888888,
              "#fdca26"
             ],
             [
              1,
              "#f0f921"
             ]
            ],
            "type": "contour"
           }
          ],
          "contourcarpet": [
           {
            "colorbar": {
             "outlinewidth": 0,
             "ticks": ""
            },
            "type": "contourcarpet"
           }
          ],
          "heatmap": [
           {
            "colorbar": {
             "outlinewidth": 0,
             "ticks": ""
            },
            "colorscale": [
             [
              0,
              "#0d0887"
             ],
             [
              0.1111111111111111,
              "#46039f"
             ],
             [
              0.2222222222222222,
              "#7201a8"
             ],
             [
              0.3333333333333333,
              "#9c179e"
             ],
             [
              0.4444444444444444,
              "#bd3786"
             ],
             [
              0.5555555555555556,
              "#d8576b"
             ],
             [
              0.6666666666666666,
              "#ed7953"
             ],
             [
              0.7777777777777778,
              "#fb9f3a"
             ],
             [
              0.8888888888888888,
              "#fdca26"
             ],
             [
              1,
              "#f0f921"
             ]
            ],
            "type": "heatmap"
           }
          ],
          "heatmapgl": [
           {
            "colorbar": {
             "outlinewidth": 0,
             "ticks": ""
            },
            "colorscale": [
             [
              0,
              "#0d0887"
             ],
             [
              0.1111111111111111,
              "#46039f"
             ],
             [
              0.2222222222222222,
              "#7201a8"
             ],
             [
              0.3333333333333333,
              "#9c179e"
             ],
             [
              0.4444444444444444,
              "#bd3786"
             ],
             [
              0.5555555555555556,
              "#d8576b"
             ],
             [
              0.6666666666666666,
              "#ed7953"
             ],
             [
              0.7777777777777778,
              "#fb9f3a"
             ],
             [
              0.8888888888888888,
              "#fdca26"
             ],
             [
              1,
              "#f0f921"
             ]
            ],
            "type": "heatmapgl"
           }
          ],
          "histogram": [
           {
            "marker": {
             "pattern": {
              "fillmode": "overlay",
              "size": 10,
              "solidity": 0.2
             }
            },
            "type": "histogram"
           }
          ],
          "histogram2d": [
           {
            "colorbar": {
             "outlinewidth": 0,
             "ticks": ""
            },
            "colorscale": [
             [
              0,
              "#0d0887"
             ],
             [
              0.1111111111111111,
              "#46039f"
             ],
             [
              0.2222222222222222,
              "#7201a8"
             ],
             [
              0.3333333333333333,
              "#9c179e"
             ],
             [
              0.4444444444444444,
              "#bd3786"
             ],
             [
              0.5555555555555556,
              "#d8576b"
             ],
             [
              0.6666666666666666,
              "#ed7953"
             ],
             [
              0.7777777777777778,
              "#fb9f3a"
             ],
             [
              0.8888888888888888,
              "#fdca26"
             ],
             [
              1,
              "#f0f921"
             ]
            ],
            "type": "histogram2d"
           }
          ],
          "histogram2dcontour": [
           {
            "colorbar": {
             "outlinewidth": 0,
             "ticks": ""
            },
            "colorscale": [
             [
              0,
              "#0d0887"
             ],
             [
              0.1111111111111111,
              "#46039f"
             ],
             [
              0.2222222222222222,
              "#7201a8"
             ],
             [
              0.3333333333333333,
              "#9c179e"
             ],
             [
              0.4444444444444444,
              "#bd3786"
             ],
             [
              0.5555555555555556,
              "#d8576b"
             ],
             [
              0.6666666666666666,
              "#ed7953"
             ],
             [
              0.7777777777777778,
              "#fb9f3a"
             ],
             [
              0.8888888888888888,
              "#fdca26"
             ],
             [
              1,
              "#f0f921"
             ]
            ],
            "type": "histogram2dcontour"
           }
          ],
          "mesh3d": [
           {
            "colorbar": {
             "outlinewidth": 0,
             "ticks": ""
            },
            "type": "mesh3d"
           }
          ],
          "parcoords": [
           {
            "line": {
             "colorbar": {
              "outlinewidth": 0,
              "ticks": ""
             }
            },
            "type": "parcoords"
           }
          ],
          "pie": [
           {
            "automargin": true,
            "type": "pie"
           }
          ],
          "scatter": [
           {
            "fillpattern": {
             "fillmode": "overlay",
             "size": 10,
             "solidity": 0.2
            },
            "type": "scatter"
           }
          ],
          "scatter3d": [
           {
            "line": {
             "colorbar": {
              "outlinewidth": 0,
              "ticks": ""
             }
            },
            "marker": {
             "colorbar": {
              "outlinewidth": 0,
              "ticks": ""
             }
            },
            "type": "scatter3d"
           }
          ],
          "scattercarpet": [
           {
            "marker": {
             "colorbar": {
              "outlinewidth": 0,
              "ticks": ""
             }
            },
            "type": "scattercarpet"
           }
          ],
          "scattergeo": [
           {
            "marker": {
             "colorbar": {
              "outlinewidth": 0,
              "ticks": ""
             }
            },
            "type": "scattergeo"
           }
          ],
          "scattergl": [
           {
            "marker": {
             "colorbar": {
              "outlinewidth": 0,
              "ticks": ""
             }
            },
            "type": "scattergl"
           }
          ],
          "scattermapbox": [
           {
            "marker": {
             "colorbar": {
              "outlinewidth": 0,
              "ticks": ""
             }
            },
            "type": "scattermapbox"
           }
          ],
          "scatterpolar": [
           {
            "marker": {
             "colorbar": {
              "outlinewidth": 0,
              "ticks": ""
             }
            },
            "type": "scatterpolar"
           }
          ],
          "scatterpolargl": [
           {
            "marker": {
             "colorbar": {
              "outlinewidth": 0,
              "ticks": ""
             }
            },
            "type": "scatterpolargl"
           }
          ],
          "scatterternary": [
           {
            "marker": {
             "colorbar": {
              "outlinewidth": 0,
              "ticks": ""
             }
            },
            "type": "scatterternary"
           }
          ],
          "surface": [
           {
            "colorbar": {
             "outlinewidth": 0,
             "ticks": ""
            },
            "colorscale": [
             [
              0,
              "#0d0887"
             ],
             [
              0.1111111111111111,
              "#46039f"
             ],
             [
              0.2222222222222222,
              "#7201a8"
             ],
             [
              0.3333333333333333,
              "#9c179e"
             ],
             [
              0.4444444444444444,
              "#bd3786"
             ],
             [
              0.5555555555555556,
              "#d8576b"
             ],
             [
              0.6666666666666666,
              "#ed7953"
             ],
             [
              0.7777777777777778,
              "#fb9f3a"
             ],
             [
              0.8888888888888888,
              "#fdca26"
             ],
             [
              1,
              "#f0f921"
             ]
            ],
            "type": "surface"
           }
          ],
          "table": [
           {
            "cells": {
             "fill": {
              "color": "#EBF0F8"
             },
             "line": {
              "color": "white"
             }
            },
            "header": {
             "fill": {
              "color": "#C8D4E3"
             },
             "line": {
              "color": "white"
             }
            },
            "type": "table"
           }
          ]
         },
         "layout": {
          "annotationdefaults": {
           "arrowcolor": "#2a3f5f",
           "arrowhead": 0,
           "arrowwidth": 1
          },
          "autotypenumbers": "strict",
          "coloraxis": {
           "colorbar": {
            "outlinewidth": 0,
            "ticks": ""
           }
          },
          "colorscale": {
           "diverging": [
            [
             0,
             "#8e0152"
            ],
            [
             0.1,
             "#c51b7d"
            ],
            [
             0.2,
             "#de77ae"
            ],
            [
             0.3,
             "#f1b6da"
            ],
            [
             0.4,
             "#fde0ef"
            ],
            [
             0.5,
             "#f7f7f7"
            ],
            [
             0.6,
             "#e6f5d0"
            ],
            [
             0.7,
             "#b8e186"
            ],
            [
             0.8,
             "#7fbc41"
            ],
            [
             0.9,
             "#4d9221"
            ],
            [
             1,
             "#276419"
            ]
           ],
           "sequential": [
            [
             0,
             "#0d0887"
            ],
            [
             0.1111111111111111,
             "#46039f"
            ],
            [
             0.2222222222222222,
             "#7201a8"
            ],
            [
             0.3333333333333333,
             "#9c179e"
            ],
            [
             0.4444444444444444,
             "#bd3786"
            ],
            [
             0.5555555555555556,
             "#d8576b"
            ],
            [
             0.6666666666666666,
             "#ed7953"
            ],
            [
             0.7777777777777778,
             "#fb9f3a"
            ],
            [
             0.8888888888888888,
             "#fdca26"
            ],
            [
             1,
             "#f0f921"
            ]
           ],
           "sequentialminus": [
            [
             0,
             "#0d0887"
            ],
            [
             0.1111111111111111,
             "#46039f"
            ],
            [
             0.2222222222222222,
             "#7201a8"
            ],
            [
             0.3333333333333333,
             "#9c179e"
            ],
            [
             0.4444444444444444,
             "#bd3786"
            ],
            [
             0.5555555555555556,
             "#d8576b"
            ],
            [
             0.6666666666666666,
             "#ed7953"
            ],
            [
             0.7777777777777778,
             "#fb9f3a"
            ],
            [
             0.8888888888888888,
             "#fdca26"
            ],
            [
             1,
             "#f0f921"
            ]
           ]
          },
          "colorway": [
           "#636efa",
           "#EF553B",
           "#00cc96",
           "#ab63fa",
           "#FFA15A",
           "#19d3f3",
           "#FF6692",
           "#B6E880",
           "#FF97FF",
           "#FECB52"
          ],
          "font": {
           "color": "#2a3f5f"
          },
          "geo": {
           "bgcolor": "white",
           "lakecolor": "white",
           "landcolor": "#E5ECF6",
           "showlakes": true,
           "showland": true,
           "subunitcolor": "white"
          },
          "hoverlabel": {
           "align": "left"
          },
          "hovermode": "closest",
          "mapbox": {
           "style": "light"
          },
          "paper_bgcolor": "white",
          "plot_bgcolor": "#E5ECF6",
          "polar": {
           "angularaxis": {
            "gridcolor": "white",
            "linecolor": "white",
            "ticks": ""
           },
           "bgcolor": "#E5ECF6",
           "radialaxis": {
            "gridcolor": "white",
            "linecolor": "white",
            "ticks": ""
           }
          },
          "scene": {
           "xaxis": {
            "backgroundcolor": "#E5ECF6",
            "gridcolor": "white",
            "gridwidth": 2,
            "linecolor": "white",
            "showbackground": true,
            "ticks": "",
            "zerolinecolor": "white"
           },
           "yaxis": {
            "backgroundcolor": "#E5ECF6",
            "gridcolor": "white",
            "gridwidth": 2,
            "linecolor": "white",
            "showbackground": true,
            "ticks": "",
            "zerolinecolor": "white"
           },
           "zaxis": {
            "backgroundcolor": "#E5ECF6",
            "gridcolor": "white",
            "gridwidth": 2,
            "linecolor": "white",
            "showbackground": true,
            "ticks": "",
            "zerolinecolor": "white"
           }
          },
          "shapedefaults": {
           "line": {
            "color": "#2a3f5f"
           }
          },
          "ternary": {
           "aaxis": {
            "gridcolor": "white",
            "linecolor": "white",
            "ticks": ""
           },
           "baxis": {
            "gridcolor": "white",
            "linecolor": "white",
            "ticks": ""
           },
           "bgcolor": "#E5ECF6",
           "caxis": {
            "gridcolor": "white",
            "linecolor": "white",
            "ticks": ""
           }
          },
          "title": {
           "x": 0.05
          },
          "xaxis": {
           "automargin": true,
           "gridcolor": "white",
           "linecolor": "white",
           "ticks": "",
           "title": {
            "standoff": 15
           },
           "zerolinecolor": "white",
           "zerolinewidth": 2
          },
          "yaxis": {
           "automargin": true,
           "gridcolor": "white",
           "linecolor": "white",
           "ticks": "",
           "title": {
            "standoff": 15
           },
           "zerolinecolor": "white",
           "zerolinewidth": 2
          }
         }
        },
        "title": {
         "y": 1
        }
       }
      }
     },
     "metadata": {},
     "output_type": "display_data"
    }
   ],
   "source": [
    "df = players_stats.loc[players_stats[\"Position\"] == positions[0]]\n",
    "min_value, max_value = get_min_max_value(df, columns)\n",
    "\n",
    "ROWS, COLUMNS = get_rows_columns(df, 4)\n",
    "\n",
    "fig = get_fig_subplots(df, ROWS, COLUMNS)\n",
    "for i, player_name in enumerate(df.index):\n",
    "    _df = df.loc[player_name, columns]\n",
    "    theta_list = get_theta_list(df, player_name, origin_columns, columns)\n",
    "\n",
    "    r, c = get_rc(i, COLUMNS)\n",
    "    fig.add_trace(\n",
    "        go.Scatterpolar(r=_df, theta=theta_list, fill=\"toself\", name=player_name),\n",
    "        row=r,\n",
    "        col=c,\n",
    "    )\n",
    "\n",
    "fig.update_layout(\n",
    "    height=400 * ROWS,\n",
    "    showlegend=False,\n",
    "    polar=dict(\n",
    "        radialaxis=dict(visible=True),\n",
    "    ),\n",
    "    title=dict(y=1),\n",
    ")\n",
    "fig.update_annotations(yshift=20)\n",
    "fig.update_polars(radialaxis=dict(range=[min_value - 0.2, max_value + 0.2]))\n",
    "fig.show()"
   ]
  },
  {
   "cell_type": "code",
   "execution_count": 13,
   "metadata": {},
   "outputs": [
    {
     "data": {
      "application/vnd.plotly.v1+json": {
       "config": {
        "plotlyServerURL": "https://plot.ly"
       },
       "data": [
        {
         "fill": "toself",
         "name": "Closer",
         "r": [
          -0.6566255635592385,
          -1.009474849324951,
          0.035658380681044204,
          -0.3308584604274669,
          -0.5604079972730516,
          -2.3911448880139887,
          -0.7480554160764369,
          -0.45346732573016324,
          0.6546536707079766
         ],
         "subplot": "polar",
         "theta": [
          "_KDA - 2.0",
          "_DPM - 207.3",
          "_CSPM - 5.8",
          "_Gold - 10431.3",
          "_GPM - 322.1",
          "_KP - 0.4",
          "_KS - 0.2",
          "_GS - 0.2",
          "_ChampionsPlayed - 3"
         ],
         "type": "scatterpolar"
        },
        {
         "fill": "toself",
         "name": "Blaber",
         "r": [
          0.0063878042306067875,
          2.6987090976223023,
          2.6955831316366075,
          2.2719367899299683,
          2.461158798533086,
          -0.24071035433831436,
          1.584150167395106,
          2.5215120107471756,
          -1.527525231651947
         ],
         "subplot": "polar2",
         "theta": [
          "_KDA - 4.7",
          "_DPM - 770.3",
          "_CSPM - 8.7",
          "_Gold - 13459.0",
          "_GPM - 483.6",
          "_KP - 0.7",
          "_KS - 0.4",
          "_GS - 0.2",
          "_ChampionsPlayed - 2"
         ],
         "type": "scatterpolar"
        },
        {
         "fill": "toself",
         "name": "Santorin",
         "r": [
          -0.4472529210992874,
          -0.7361416606672228,
          -0.6139678263601406,
          -0.8592691663241003,
          -0.5720030684286603,
          -0.01278411344181426,
          -0.22569494081217237,
          -0.13638772307893585,
          0.6546536707079766
         ],
         "subplot": "polar3",
         "theta": [
          "_KDA - 2.9",
          "_DPM - 248.8",
          "_CSPM - 5.1",
          "_Gold - 9816.7",
          "_GPM - 321.5",
          "_KP - 0.7",
          "_KS - 0.2",
          "_GS - 0.2",
          "_ChampionsPlayed - 3"
         ],
         "type": "scatterpolar"
        },
        {
         "fill": "toself",
         "name": "Armao",
         "r": [
          0.07617868505059047,
          -0.8086088840357272,
          -0.6968857308780109,
          -0.6457843637790938,
          -0.30273586697976906,
          -0.01278411344181426,
          0.08236380101034281,
          -0.8574636594687823,
          0.6546536707079766
         ],
         "subplot": "polar4",
         "theta": [
          "_KDA - 5.0",
          "_DPM - 237.8",
          "_CSPM - 5.0",
          "_Gold - 10065.0",
          "_GPM - 335.9",
          "_KP - 0.7",
          "_KS - 0.2",
          "_GS - 0.2",
          "_ChampionsPlayed - 3"
         ],
         "type": "scatterpolar"
        },
        {
         "fill": "toself",
         "name": "Spica",
         "r": [
          -0.7109073597525593,
          -0.0320985636303351,
          -0.40500568162775913,
          0.09668425822642328,
          -0.5967118640802087,
          -0.4179863194800369,
          1.3145987683004046,
          0.10450089919081625,
          0.6546536707079766
         ],
         "subplot": "polar5",
         "theta": [
          "_KDA - 1.8",
          "_DPM - 355.7",
          "_CSPM - 5.3",
          "_Gold - 10928.7",
          "_GPM - 320.2",
          "_KP - 0.7",
          "_KS - 0.3",
          "_GS - 0.2",
          "_ChampionsPlayed - 3"
         ],
         "type": "scatterpolar"
        },
        {
         "fill": "toself",
         "name": "River",
         "r": [
          -0.3512904599718098,
          -0.19484228789655794,
          -0.0639142021392642,
          -0.38530424899599247,
          -0.5250448301328792,
          0.4162535164810086,
          -1.47605101056238,
          -0.7080240763356788,
          0.6546536707079766
         ],
         "subplot": "polar6",
         "theta": [
          "_KDA - 3.2",
          "_DPM - 331.0",
          "_CSPM - 5.7",
          "_Gold - 10368.0",
          "_GPM - 324.0",
          "_KP - 0.8",
          "_KS - 0.1",
          "_GS - 0.2",
          "_ChampionsPlayed - 3"
         ],
         "type": "scatterpolar"
        },
        {
         "fill": "toself",
         "name": "Kenvi",
         "r": [
          -0.5833451386982557,
          -0.12694071836909832,
          -0.8543128428640839,
          -1.5232212300781651,
          -1.0079852434635106,
          0.4329383132002304,
          -1.2730946630087232,
          -1.369781560400145,
          -1.527525231651947
         ],
         "subplot": "polar7",
         "theta": [
          "_KDA - 2.3",
          "_DPM - 341.3",
          "_CSPM - 4.8",
          "_Gold - 9044.3",
          "_GPM - 298.2",
          "_KP - 0.8",
          "_KS - 0.1",
          "_GS - 0.2",
          "_ChampionsPlayed - 2"
         ],
         "type": "scatterpolar"
        },
        {
         "fill": "toself",
         "name": "Contractz",
         "r": [
          0.04128324464059852,
          0.30566185598796314,
          -0.12413575344543175,
          0.9486175709328701,
          -0.06334658065532739,
          0.9656309694309656,
          -0.47364465984004916,
          0.17369957428225558,
          0.6546536707079766
         ],
         "subplot": "polar8",
         "theta": [
          "_KDA - 4.9",
          "_DPM - 407.0",
          "_CSPM - 5.6",
          "_Gold - 11919.7",
          "_GPM - 348.7",
          "_KP - 0.8",
          "_KS - 0.2",
          "_GS - 0.2",
          "_ChampionsPlayed - 3"
         ],
         "type": "scatterpolar"
        },
        {
         "fill": "toself",
         "name": "Bugi",
         "r": [
          -0.2596899288955812,
          -0.46586787677006464,
          -0.6779629629984086,
          -0.0147863299480827,
          -0.07864956645388947,
          1.6206872796497687,
          1.045047369205704,
          0.38136398530510757,
          -1.527525231651947
         ],
         "subplot": "polar9",
         "theta": [
          "_KDA - 3.6",
          "_DPM - 289.8",
          "_CSPM - 5.0",
          "_Gold - 10799.0",
          "_GPM - 347.8",
          "_KP - 0.9",
          "_KS - 0.3",
          "_GS - 0.2",
          "_ChampionsPlayed - 2"
         ],
         "type": "scatterpolar"
        },
        {
         "fill": "toself",
         "name": "Pyosik",
         "r": [
          2.885261638054935,
          0.36960388708369235,
          0.7049434879954439,
          0.4419851804636488,
          1.2457262189342198,
          -0.3601002900460051,
          0.17038058438820475,
          0.3440478754883567,
          0.6546536707079766
         ],
         "subplot": "polar10",
         "theta": [
          "_KDA - 16.5",
          "_DPM - 416.7",
          "_CSPM - 6.5",
          "_Gold - 11330.3",
          "_GPM - 418.6",
          "_KP - 0.7",
          "_KS - 0.2",
          "_GS - 0.2",
          "_ChampionsPlayed - 3"
         ],
         "type": "scatterpolar"
        }
       ],
       "layout": {
        "annotations": [
         {
          "font": {
           "size": 16
          },
          "showarrow": false,
          "text": "Closer",
          "x": 0.10625,
          "xanchor": "center",
          "xref": "paper",
          "y": 1,
          "yanchor": "bottom",
          "yref": "paper",
          "yshift": 20
         },
         {
          "font": {
           "size": 16
          },
          "showarrow": false,
          "text": "Blaber",
          "x": 0.36875,
          "xanchor": "center",
          "xref": "paper",
          "y": 1,
          "yanchor": "bottom",
          "yref": "paper",
          "yshift": 20
         },
         {
          "font": {
           "size": 16
          },
          "showarrow": false,
          "text": "Santorin",
          "x": 0.6312500000000001,
          "xanchor": "center",
          "xref": "paper",
          "y": 1,
          "yanchor": "bottom",
          "yref": "paper",
          "yshift": 20
         },
         {
          "font": {
           "size": 16
          },
          "showarrow": false,
          "text": "Armao",
          "x": 0.89375,
          "xanchor": "center",
          "xref": "paper",
          "y": 1,
          "yanchor": "bottom",
          "yref": "paper",
          "yshift": 20
         },
         {
          "font": {
           "size": 16
          },
          "showarrow": false,
          "text": "Spica",
          "x": 0.10625,
          "xanchor": "center",
          "xref": "paper",
          "y": 0.6111111111111112,
          "yanchor": "bottom",
          "yref": "paper",
          "yshift": 20
         },
         {
          "font": {
           "size": 16
          },
          "showarrow": false,
          "text": "River",
          "x": 0.36875,
          "xanchor": "center",
          "xref": "paper",
          "y": 0.6111111111111112,
          "yanchor": "bottom",
          "yref": "paper",
          "yshift": 20
         },
         {
          "font": {
           "size": 16
          },
          "showarrow": false,
          "text": "Kenvi",
          "x": 0.6312500000000001,
          "xanchor": "center",
          "xref": "paper",
          "y": 0.6111111111111112,
          "yanchor": "bottom",
          "yref": "paper",
          "yshift": 20
         },
         {
          "font": {
           "size": 16
          },
          "showarrow": false,
          "text": "Contractz",
          "x": 0.89375,
          "xanchor": "center",
          "xref": "paper",
          "y": 0.6111111111111112,
          "yanchor": "bottom",
          "yref": "paper",
          "yshift": 20
         },
         {
          "font": {
           "size": 16
          },
          "showarrow": false,
          "text": "Bugi",
          "x": 0.10625,
          "xanchor": "center",
          "xref": "paper",
          "y": 0.22222222222222224,
          "yanchor": "bottom",
          "yref": "paper",
          "yshift": 20
         },
         {
          "font": {
           "size": 16
          },
          "showarrow": false,
          "text": "Pyosik",
          "x": 0.36875,
          "xanchor": "center",
          "xref": "paper",
          "y": 0.22222222222222224,
          "yanchor": "bottom",
          "yref": "paper",
          "yshift": 20
         }
        ],
        "height": 1200,
        "polar": {
         "domain": {
          "x": [
           0,
           0.2125
          ],
          "y": [
           0.7777777777777778,
           1
          ]
         },
         "radialaxis": {
          "range": [
           -2.591144888013989,
           3.085261638054935
          ],
          "visible": true
         }
        },
        "polar10": {
         "domain": {
          "x": [
           0.2625,
           0.475
          ],
          "y": [
           0,
           0.22222222222222224
          ]
         },
         "radialaxis": {
          "range": [
           -2.591144888013989,
           3.085261638054935
          ]
         }
        },
        "polar11": {
         "domain": {
          "x": [
           0.525,
           0.7375
          ],
          "y": [
           0,
           0.22222222222222224
          ]
         },
         "radialaxis": {
          "range": [
           -2.591144888013989,
           3.085261638054935
          ]
         }
        },
        "polar12": {
         "domain": {
          "x": [
           0.7875,
           1
          ],
          "y": [
           0,
           0.22222222222222224
          ]
         },
         "radialaxis": {
          "range": [
           -2.591144888013989,
           3.085261638054935
          ]
         }
        },
        "polar2": {
         "domain": {
          "x": [
           0.2625,
           0.475
          ],
          "y": [
           0.7777777777777778,
           1
          ]
         },
         "radialaxis": {
          "range": [
           -2.591144888013989,
           3.085261638054935
          ]
         }
        },
        "polar3": {
         "domain": {
          "x": [
           0.525,
           0.7375
          ],
          "y": [
           0.7777777777777778,
           1
          ]
         },
         "radialaxis": {
          "range": [
           -2.591144888013989,
           3.085261638054935
          ]
         }
        },
        "polar4": {
         "domain": {
          "x": [
           0.7875,
           1
          ],
          "y": [
           0.7777777777777778,
           1
          ]
         },
         "radialaxis": {
          "range": [
           -2.591144888013989,
           3.085261638054935
          ]
         }
        },
        "polar5": {
         "domain": {
          "x": [
           0,
           0.2125
          ],
          "y": [
           0.3888888888888889,
           0.6111111111111112
          ]
         },
         "radialaxis": {
          "range": [
           -2.591144888013989,
           3.085261638054935
          ]
         }
        },
        "polar6": {
         "domain": {
          "x": [
           0.2625,
           0.475
          ],
          "y": [
           0.3888888888888889,
           0.6111111111111112
          ]
         },
         "radialaxis": {
          "range": [
           -2.591144888013989,
           3.085261638054935
          ]
         }
        },
        "polar7": {
         "domain": {
          "x": [
           0.525,
           0.7375
          ],
          "y": [
           0.3888888888888889,
           0.6111111111111112
          ]
         },
         "radialaxis": {
          "range": [
           -2.591144888013989,
           3.085261638054935
          ]
         }
        },
        "polar8": {
         "domain": {
          "x": [
           0.7875,
           1
          ],
          "y": [
           0.3888888888888889,
           0.6111111111111112
          ]
         },
         "radialaxis": {
          "range": [
           -2.591144888013989,
           3.085261638054935
          ]
         }
        },
        "polar9": {
         "domain": {
          "x": [
           0,
           0.2125
          ],
          "y": [
           0,
           0.22222222222222224
          ]
         },
         "radialaxis": {
          "range": [
           -2.591144888013989,
           3.085261638054935
          ]
         }
        },
        "showlegend": false,
        "template": {
         "data": {
          "bar": [
           {
            "error_x": {
             "color": "#2a3f5f"
            },
            "error_y": {
             "color": "#2a3f5f"
            },
            "marker": {
             "line": {
              "color": "#E5ECF6",
              "width": 0.5
             },
             "pattern": {
              "fillmode": "overlay",
              "size": 10,
              "solidity": 0.2
             }
            },
            "type": "bar"
           }
          ],
          "barpolar": [
           {
            "marker": {
             "line": {
              "color": "#E5ECF6",
              "width": 0.5
             },
             "pattern": {
              "fillmode": "overlay",
              "size": 10,
              "solidity": 0.2
             }
            },
            "type": "barpolar"
           }
          ],
          "carpet": [
           {
            "aaxis": {
             "endlinecolor": "#2a3f5f",
             "gridcolor": "white",
             "linecolor": "white",
             "minorgridcolor": "white",
             "startlinecolor": "#2a3f5f"
            },
            "baxis": {
             "endlinecolor": "#2a3f5f",
             "gridcolor": "white",
             "linecolor": "white",
             "minorgridcolor": "white",
             "startlinecolor": "#2a3f5f"
            },
            "type": "carpet"
           }
          ],
          "choropleth": [
           {
            "colorbar": {
             "outlinewidth": 0,
             "ticks": ""
            },
            "type": "choropleth"
           }
          ],
          "contour": [
           {
            "colorbar": {
             "outlinewidth": 0,
             "ticks": ""
            },
            "colorscale": [
             [
              0,
              "#0d0887"
             ],
             [
              0.1111111111111111,
              "#46039f"
             ],
             [
              0.2222222222222222,
              "#7201a8"
             ],
             [
              0.3333333333333333,
              "#9c179e"
             ],
             [
              0.4444444444444444,
              "#bd3786"
             ],
             [
              0.5555555555555556,
              "#d8576b"
             ],
             [
              0.6666666666666666,
              "#ed7953"
             ],
             [
              0.7777777777777778,
              "#fb9f3a"
             ],
             [
              0.8888888888888888,
              "#fdca26"
             ],
             [
              1,
              "#f0f921"
             ]
            ],
            "type": "contour"
           }
          ],
          "contourcarpet": [
           {
            "colorbar": {
             "outlinewidth": 0,
             "ticks": ""
            },
            "type": "contourcarpet"
           }
          ],
          "heatmap": [
           {
            "colorbar": {
             "outlinewidth": 0,
             "ticks": ""
            },
            "colorscale": [
             [
              0,
              "#0d0887"
             ],
             [
              0.1111111111111111,
              "#46039f"
             ],
             [
              0.2222222222222222,
              "#7201a8"
             ],
             [
              0.3333333333333333,
              "#9c179e"
             ],
             [
              0.4444444444444444,
              "#bd3786"
             ],
             [
              0.5555555555555556,
              "#d8576b"
             ],
             [
              0.6666666666666666,
              "#ed7953"
             ],
             [
              0.7777777777777778,
              "#fb9f3a"
             ],
             [
              0.8888888888888888,
              "#fdca26"
             ],
             [
              1,
              "#f0f921"
             ]
            ],
            "type": "heatmap"
           }
          ],
          "heatmapgl": [
           {
            "colorbar": {
             "outlinewidth": 0,
             "ticks": ""
            },
            "colorscale": [
             [
              0,
              "#0d0887"
             ],
             [
              0.1111111111111111,
              "#46039f"
             ],
             [
              0.2222222222222222,
              "#7201a8"
             ],
             [
              0.3333333333333333,
              "#9c179e"
             ],
             [
              0.4444444444444444,
              "#bd3786"
             ],
             [
              0.5555555555555556,
              "#d8576b"
             ],
             [
              0.6666666666666666,
              "#ed7953"
             ],
             [
              0.7777777777777778,
              "#fb9f3a"
             ],
             [
              0.8888888888888888,
              "#fdca26"
             ],
             [
              1,
              "#f0f921"
             ]
            ],
            "type": "heatmapgl"
           }
          ],
          "histogram": [
           {
            "marker": {
             "pattern": {
              "fillmode": "overlay",
              "size": 10,
              "solidity": 0.2
             }
            },
            "type": "histogram"
           }
          ],
          "histogram2d": [
           {
            "colorbar": {
             "outlinewidth": 0,
             "ticks": ""
            },
            "colorscale": [
             [
              0,
              "#0d0887"
             ],
             [
              0.1111111111111111,
              "#46039f"
             ],
             [
              0.2222222222222222,
              "#7201a8"
             ],
             [
              0.3333333333333333,
              "#9c179e"
             ],
             [
              0.4444444444444444,
              "#bd3786"
             ],
             [
              0.5555555555555556,
              "#d8576b"
             ],
             [
              0.6666666666666666,
              "#ed7953"
             ],
             [
              0.7777777777777778,
              "#fb9f3a"
             ],
             [
              0.8888888888888888,
              "#fdca26"
             ],
             [
              1,
              "#f0f921"
             ]
            ],
            "type": "histogram2d"
           }
          ],
          "histogram2dcontour": [
           {
            "colorbar": {
             "outlinewidth": 0,
             "ticks": ""
            },
            "colorscale": [
             [
              0,
              "#0d0887"
             ],
             [
              0.1111111111111111,
              "#46039f"
             ],
             [
              0.2222222222222222,
              "#7201a8"
             ],
             [
              0.3333333333333333,
              "#9c179e"
             ],
             [
              0.4444444444444444,
              "#bd3786"
             ],
             [
              0.5555555555555556,
              "#d8576b"
             ],
             [
              0.6666666666666666,
              "#ed7953"
             ],
             [
              0.7777777777777778,
              "#fb9f3a"
             ],
             [
              0.8888888888888888,
              "#fdca26"
             ],
             [
              1,
              "#f0f921"
             ]
            ],
            "type": "histogram2dcontour"
           }
          ],
          "mesh3d": [
           {
            "colorbar": {
             "outlinewidth": 0,
             "ticks": ""
            },
            "type": "mesh3d"
           }
          ],
          "parcoords": [
           {
            "line": {
             "colorbar": {
              "outlinewidth": 0,
              "ticks": ""
             }
            },
            "type": "parcoords"
           }
          ],
          "pie": [
           {
            "automargin": true,
            "type": "pie"
           }
          ],
          "scatter": [
           {
            "fillpattern": {
             "fillmode": "overlay",
             "size": 10,
             "solidity": 0.2
            },
            "type": "scatter"
           }
          ],
          "scatter3d": [
           {
            "line": {
             "colorbar": {
              "outlinewidth": 0,
              "ticks": ""
             }
            },
            "marker": {
             "colorbar": {
              "outlinewidth": 0,
              "ticks": ""
             }
            },
            "type": "scatter3d"
           }
          ],
          "scattercarpet": [
           {
            "marker": {
             "colorbar": {
              "outlinewidth": 0,
              "ticks": ""
             }
            },
            "type": "scattercarpet"
           }
          ],
          "scattergeo": [
           {
            "marker": {
             "colorbar": {
              "outlinewidth": 0,
              "ticks": ""
             }
            },
            "type": "scattergeo"
           }
          ],
          "scattergl": [
           {
            "marker": {
             "colorbar": {
              "outlinewidth": 0,
              "ticks": ""
             }
            },
            "type": "scattergl"
           }
          ],
          "scattermapbox": [
           {
            "marker": {
             "colorbar": {
              "outlinewidth": 0,
              "ticks": ""
             }
            },
            "type": "scattermapbox"
           }
          ],
          "scatterpolar": [
           {
            "marker": {
             "colorbar": {
              "outlinewidth": 0,
              "ticks": ""
             }
            },
            "type": "scatterpolar"
           }
          ],
          "scatterpolargl": [
           {
            "marker": {
             "colorbar": {
              "outlinewidth": 0,
              "ticks": ""
             }
            },
            "type": "scatterpolargl"
           }
          ],
          "scatterternary": [
           {
            "marker": {
             "colorbar": {
              "outlinewidth": 0,
              "ticks": ""
             }
            },
            "type": "scatterternary"
           }
          ],
          "surface": [
           {
            "colorbar": {
             "outlinewidth": 0,
             "ticks": ""
            },
            "colorscale": [
             [
              0,
              "#0d0887"
             ],
             [
              0.1111111111111111,
              "#46039f"
             ],
             [
              0.2222222222222222,
              "#7201a8"
             ],
             [
              0.3333333333333333,
              "#9c179e"
             ],
             [
              0.4444444444444444,
              "#bd3786"
             ],
             [
              0.5555555555555556,
              "#d8576b"
             ],
             [
              0.6666666666666666,
              "#ed7953"
             ],
             [
              0.7777777777777778,
              "#fb9f3a"
             ],
             [
              0.8888888888888888,
              "#fdca26"
             ],
             [
              1,
              "#f0f921"
             ]
            ],
            "type": "surface"
           }
          ],
          "table": [
           {
            "cells": {
             "fill": {
              "color": "#EBF0F8"
             },
             "line": {
              "color": "white"
             }
            },
            "header": {
             "fill": {
              "color": "#C8D4E3"
             },
             "line": {
              "color": "white"
             }
            },
            "type": "table"
           }
          ]
         },
         "layout": {
          "annotationdefaults": {
           "arrowcolor": "#2a3f5f",
           "arrowhead": 0,
           "arrowwidth": 1
          },
          "autotypenumbers": "strict",
          "coloraxis": {
           "colorbar": {
            "outlinewidth": 0,
            "ticks": ""
           }
          },
          "colorscale": {
           "diverging": [
            [
             0,
             "#8e0152"
            ],
            [
             0.1,
             "#c51b7d"
            ],
            [
             0.2,
             "#de77ae"
            ],
            [
             0.3,
             "#f1b6da"
            ],
            [
             0.4,
             "#fde0ef"
            ],
            [
             0.5,
             "#f7f7f7"
            ],
            [
             0.6,
             "#e6f5d0"
            ],
            [
             0.7,
             "#b8e186"
            ],
            [
             0.8,
             "#7fbc41"
            ],
            [
             0.9,
             "#4d9221"
            ],
            [
             1,
             "#276419"
            ]
           ],
           "sequential": [
            [
             0,
             "#0d0887"
            ],
            [
             0.1111111111111111,
             "#46039f"
            ],
            [
             0.2222222222222222,
             "#7201a8"
            ],
            [
             0.3333333333333333,
             "#9c179e"
            ],
            [
             0.4444444444444444,
             "#bd3786"
            ],
            [
             0.5555555555555556,
             "#d8576b"
            ],
            [
             0.6666666666666666,
             "#ed7953"
            ],
            [
             0.7777777777777778,
             "#fb9f3a"
            ],
            [
             0.8888888888888888,
             "#fdca26"
            ],
            [
             1,
             "#f0f921"
            ]
           ],
           "sequentialminus": [
            [
             0,
             "#0d0887"
            ],
            [
             0.1111111111111111,
             "#46039f"
            ],
            [
             0.2222222222222222,
             "#7201a8"
            ],
            [
             0.3333333333333333,
             "#9c179e"
            ],
            [
             0.4444444444444444,
             "#bd3786"
            ],
            [
             0.5555555555555556,
             "#d8576b"
            ],
            [
             0.6666666666666666,
             "#ed7953"
            ],
            [
             0.7777777777777778,
             "#fb9f3a"
            ],
            [
             0.8888888888888888,
             "#fdca26"
            ],
            [
             1,
             "#f0f921"
            ]
           ]
          },
          "colorway": [
           "#636efa",
           "#EF553B",
           "#00cc96",
           "#ab63fa",
           "#FFA15A",
           "#19d3f3",
           "#FF6692",
           "#B6E880",
           "#FF97FF",
           "#FECB52"
          ],
          "font": {
           "color": "#2a3f5f"
          },
          "geo": {
           "bgcolor": "white",
           "lakecolor": "white",
           "landcolor": "#E5ECF6",
           "showlakes": true,
           "showland": true,
           "subunitcolor": "white"
          },
          "hoverlabel": {
           "align": "left"
          },
          "hovermode": "closest",
          "mapbox": {
           "style": "light"
          },
          "paper_bgcolor": "white",
          "plot_bgcolor": "#E5ECF6",
          "polar": {
           "angularaxis": {
            "gridcolor": "white",
            "linecolor": "white",
            "ticks": ""
           },
           "bgcolor": "#E5ECF6",
           "radialaxis": {
            "gridcolor": "white",
            "linecolor": "white",
            "ticks": ""
           }
          },
          "scene": {
           "xaxis": {
            "backgroundcolor": "#E5ECF6",
            "gridcolor": "white",
            "gridwidth": 2,
            "linecolor": "white",
            "showbackground": true,
            "ticks": "",
            "zerolinecolor": "white"
           },
           "yaxis": {
            "backgroundcolor": "#E5ECF6",
            "gridcolor": "white",
            "gridwidth": 2,
            "linecolor": "white",
            "showbackground": true,
            "ticks": "",
            "zerolinecolor": "white"
           },
           "zaxis": {
            "backgroundcolor": "#E5ECF6",
            "gridcolor": "white",
            "gridwidth": 2,
            "linecolor": "white",
            "showbackground": true,
            "ticks": "",
            "zerolinecolor": "white"
           }
          },
          "shapedefaults": {
           "line": {
            "color": "#2a3f5f"
           }
          },
          "ternary": {
           "aaxis": {
            "gridcolor": "white",
            "linecolor": "white",
            "ticks": ""
           },
           "baxis": {
            "gridcolor": "white",
            "linecolor": "white",
            "ticks": ""
           },
           "bgcolor": "#E5ECF6",
           "caxis": {
            "gridcolor": "white",
            "linecolor": "white",
            "ticks": ""
           }
          },
          "title": {
           "x": 0.05
          },
          "xaxis": {
           "automargin": true,
           "gridcolor": "white",
           "linecolor": "white",
           "ticks": "",
           "title": {
            "standoff": 15
           },
           "zerolinecolor": "white",
           "zerolinewidth": 2
          },
          "yaxis": {
           "automargin": true,
           "gridcolor": "white",
           "linecolor": "white",
           "ticks": "",
           "title": {
            "standoff": 15
           },
           "zerolinecolor": "white",
           "zerolinewidth": 2
          }
         }
        },
        "title": {
         "y": 1
        }
       }
      }
     },
     "metadata": {},
     "output_type": "display_data"
    }
   ],
   "source": [
    "df = players_stats.loc[players_stats[\"Position\"] == positions[1]]\n",
    "min_value, max_value = get_min_max_value(df, columns)\n",
    "\n",
    "ROW, COLUMNS = get_rows_columns(df, 4)\n",
    "\n",
    "fig = get_fig_subplots(df, ROWS, COLUMNS)\n",
    "for i, player_name in enumerate(df.index):\n",
    "    _df = df.loc[player_name, columns]\n",
    "    theta_list = get_theta_list(df, player_name, origin_columns, columns)\n",
    "\n",
    "    r, c = get_rc(i, COLUMNS)\n",
    "    fig.add_trace(\n",
    "        go.Scatterpolar(r=_df, theta=theta_list, fill=\"toself\", name=player_name),\n",
    "        row=r,\n",
    "        col=c,\n",
    "    )\n",
    "\n",
    "fig.update_layout(\n",
    "    height=400 * ROWS,\n",
    "    showlegend=False,\n",
    "    polar=dict(\n",
    "        radialaxis=dict(visible=True),\n",
    "    ),\n",
    "    title=dict(y=1),\n",
    ")\n",
    "fig.update_annotations(yshift=20)\n",
    "fig.update_polars(radialaxis=dict(range=[min_value - 0.2, max_value + 0.2]))\n",
    "fig.show()"
   ]
  },
  {
   "cell_type": "code",
   "execution_count": 14,
   "metadata": {},
   "outputs": [
    {
     "data": {
      "application/vnd.plotly.v1+json": {
       "config": {
        "plotlyServerURL": "https://plot.ly"
       },
       "data": [
        {
         "fill": "toself",
         "name": "Nukeduck",
         "r": [
          -0.8692606152223038,
          -0.7032183365520372,
          -0.309333679850165,
          -1.4668571855530654,
          -1.5346158628858344,
          -2.0069965663374907,
          -1.1400025675607923,
          -1.4496648278621875,
          0.5000000000000004
         ],
         "subplot": "polar",
         "theta": [
          "_KDA - 1.3",
          "_DPM - 485.9",
          "_CSPM - 7.8",
          "_Gold - 10698.7",
          "_GPM - 330.5",
          "_KP - 0.3",
          "_KS - 0.1",
          "_GS - 0.2",
          "_ChampionsPlayed - 3"
         ],
         "type": "scatterpolar"
        },
        {
         "fill": "toself",
         "name": "EMENES",
         "r": [
          0.5403421974084426,
          -0.5475077026916242,
          -1.1187980745304258,
          -0.6821760616499173,
          0.6832941047206624,
          0.5791180852900537,
          0.20939624823637587,
          -0.8162693819482012,
          0.5000000000000004
         ],
         "subplot": "polar2",
         "theta": [
          "_KDA - 5.0",
          "_DPM - 498.2",
          "_CSPM - 7.5",
          "_Gold - 11262.3",
          "_GPM - 403.3",
          "_KP - 0.7",
          "_KS - 0.2",
          "_GS - 0.2",
          "_ChampionsPlayed - 3"
         ],
         "type": "scatterpolar"
        },
        {
         "fill": "toself",
         "name": "Jensen",
         "r": [
          -0.7283003339592292,
          -0.44427297955821016,
          0.7290314754483963,
          -0.9810138167023296,
          -0.5937335729255082,
          -0.24840350157278127,
          -0.27069013663777614,
          0.3107468989499682,
          0.5000000000000004
         ],
         "subplot": "polar3",
         "theta": [
          "_KDA - 1.7",
          "_DPM - 506.3",
          "_CSPM - 8.3",
          "_Gold - 11047.7",
          "_GPM - 361.4",
          "_KP - 0.6",
          "_KS - 0.2",
          "_GS - 0.2",
          "_ChampionsPlayed - 3"
         ],
         "type": "scatterpolar"
        },
        {
         "fill": "toself",
         "name": "jojopyun",
         "r": [
          0.5952617875109393,
          2.4367220072468694,
          2.201114194734938,
          2.455156332619256,
          1.9989036315498638,
          1.4470065788291242,
          1.875578407505491,
          2.0465316811811407,
          0.5000000000000004
         ],
         "subplot": "polar4",
         "theta": [
          "_KDA - 5.1",
          "_DPM - 733.2",
          "_CSPM - 8.9",
          "_Gold - 13516.0",
          "_GPM - 446.5",
          "_KP - 0.9",
          "_KS - 0.4",
          "_GS - 0.2",
          "_ChampionsPlayed - 3"
         ],
         "type": "scatterpolar"
        },
        {
         "fill": "toself",
         "name": "VicLa",
         "r": [
          -0.822662175135337,
          -0.3390675475981715,
          -1.1356510089628113,
          0.2672370545569648,
          -0.805766347771141,
          0.15526556518957726,
          0.011713619170548807,
          0.20040470728579052,
          -1.9999999999999998
         ],
         "subplot": "polar5",
         "theta": [
          "_KDA - 1.5",
          "_DPM - 514.6",
          "_CSPM - 7.5",
          "_Gold - 11944.3",
          "_GPM - 354.4",
          "_KP - 0.7",
          "_KS - 0.2",
          "_GS - 0.2",
          "_ChampionsPlayed - 2"
         ],
         "type": "scatterpolar"
        },
        {
         "fill": "toself",
         "name": "Gori",
         "r": [
          -0.6479180248092116,
          -1.2828744379226877,
          -0.8698515564428085,
          0.12941902155919158,
          -0.25310632055093457,
          -0.17716778390883514,
          0.2675381979616195,
          -0.27578244324393164,
          0.5000000000000004
         ],
         "subplot": "polar6",
         "theta": [
          "_KDA - 1.9",
          "_DPM - 440.3",
          "_CSPM - 7.6",
          "_Gold - 11845.3",
          "_GPM - 372.5",
          "_KP - 0.6",
          "_KS - 0.2",
          "_GS - 0.2",
          "_ChampionsPlayed - 3"
         ],
         "type": "scatterpolar"
        },
        {
         "fill": "toself",
         "name": "Bolulu",
         "r": [
          0.04606588648597275,
          0.9591271560142213,
          0.18050637072893405,
          0.017122846523967283,
          0.12663567590632294,
          1.511593629511102,
          0.2489327740495417,
          0.6787698309629028,
          0.5000000000000004
         ],
         "subplot": "polar7",
         "theta": [
          "_KDA - 3.7",
          "_DPM - 616.8",
          "_CSPM - 8.0",
          "_Gold - 11764.7",
          "_GPM - 385.0",
          "_KP - 0.9",
          "_KS - 0.2",
          "_GS - 0.2",
          "_ChampionsPlayed - 3"
         ],
         "type": "scatterpolar"
        },
        {
         "fill": "toself",
         "name": "Palafox",
         "r": [
          -0.42075062938524815,
          -0.4739261740349203,
          -0.32534823855464795,
          0.11456994056279682,
          -0.9278387104990569,
          -1.0577107524963387,
          -1.5022460278213963,
          -1.1006724798963237,
          0.5000000000000004
         ],
         "subplot": "polar8",
         "theta": [
          "_KDA - 2.5",
          "_DPM - 504.0",
          "_CSPM - 7.8",
          "_Gold - 11834.7",
          "_GPM - 350.4",
          "_KP - 0.5",
          "_KS - 0.0",
          "_GS - 0.2",
          "_ChampionsPlayed - 3"
         ],
         "type": "scatterpolar"
        },
        {
         "fill": "toself",
         "name": "Insanity",
         "r": [
          -0.28345165412900664,
          -0.011587267393633093,
          -0.3396373293930932,
          0.4477461954193673,
          0.21347206380481237,
          -0.1273027815440734,
          1.2966507080984262,
          0.9366239919181424,
          0.5000000000000004
         ],
         "subplot": "polar9",
         "theta": [
          "_KDA - 2.9",
          "_DPM - 540.4",
          "_CSPM - 7.8",
          "_Gold - 12074.0",
          "_GPM - 387.9",
          "_KP - 0.6",
          "_KS - 0.3",
          "_GS - 0.2",
          "_ChampionsPlayed - 3"
         ],
         "type": "scatterpolar"
        },
        {
         "fill": "toself",
         "name": "Haeri",
         "r": [
          2.5906735612349827,
          0.4066052824901979,
          0.9879678468216573,
          -0.3012043273362084,
          1.0927553386508186,
          -0.07540247296034136,
          -0.9968712230020388,
          -0.5306879773472967,
          -1.9999999999999998
         ],
         "subplot": "polar10",
         "theta": [
          "_KDA - 10.3",
          "_DPM - 573.3",
          "_CSPM - 8.4",
          "_Gold - 11536.0",
          "_GPM - 416.7",
          "_KP - 0.6",
          "_KS - 0.1",
          "_GS - 0.2",
          "_ChampionsPlayed - 2"
         ],
         "type": "scatterpolar"
        }
       ],
       "layout": {
        "annotations": [
         {
          "font": {
           "size": 16
          },
          "showarrow": false,
          "text": "Nukeduck",
          "x": 0.10625,
          "xanchor": "center",
          "xref": "paper",
          "y": 1,
          "yanchor": "bottom",
          "yref": "paper",
          "yshift": 20
         },
         {
          "font": {
           "size": 16
          },
          "showarrow": false,
          "text": "EMENES",
          "x": 0.36875,
          "xanchor": "center",
          "xref": "paper",
          "y": 1,
          "yanchor": "bottom",
          "yref": "paper",
          "yshift": 20
         },
         {
          "font": {
           "size": 16
          },
          "showarrow": false,
          "text": "Jensen",
          "x": 0.6312500000000001,
          "xanchor": "center",
          "xref": "paper",
          "y": 1,
          "yanchor": "bottom",
          "yref": "paper",
          "yshift": 20
         },
         {
          "font": {
           "size": 16
          },
          "showarrow": false,
          "text": "jojopyun",
          "x": 0.89375,
          "xanchor": "center",
          "xref": "paper",
          "y": 1,
          "yanchor": "bottom",
          "yref": "paper",
          "yshift": 20
         },
         {
          "font": {
           "size": 16
          },
          "showarrow": false,
          "text": "VicLa",
          "x": 0.10625,
          "xanchor": "center",
          "xref": "paper",
          "y": 0.6111111111111112,
          "yanchor": "bottom",
          "yref": "paper",
          "yshift": 20
         },
         {
          "font": {
           "size": 16
          },
          "showarrow": false,
          "text": "Gori",
          "x": 0.36875,
          "xanchor": "center",
          "xref": "paper",
          "y": 0.6111111111111112,
          "yanchor": "bottom",
          "yref": "paper",
          "yshift": 20
         },
         {
          "font": {
           "size": 16
          },
          "showarrow": false,
          "text": "Bolulu",
          "x": 0.6312500000000001,
          "xanchor": "center",
          "xref": "paper",
          "y": 0.6111111111111112,
          "yanchor": "bottom",
          "yref": "paper",
          "yshift": 20
         },
         {
          "font": {
           "size": 16
          },
          "showarrow": false,
          "text": "Palafox",
          "x": 0.89375,
          "xanchor": "center",
          "xref": "paper",
          "y": 0.6111111111111112,
          "yanchor": "bottom",
          "yref": "paper",
          "yshift": 20
         },
         {
          "font": {
           "size": 16
          },
          "showarrow": false,
          "text": "Insanity",
          "x": 0.10625,
          "xanchor": "center",
          "xref": "paper",
          "y": 0.22222222222222224,
          "yanchor": "bottom",
          "yref": "paper",
          "yshift": 20
         },
         {
          "font": {
           "size": 16
          },
          "showarrow": false,
          "text": "Haeri",
          "x": 0.36875,
          "xanchor": "center",
          "xref": "paper",
          "y": 0.22222222222222224,
          "yanchor": "bottom",
          "yref": "paper",
          "yshift": 20
         }
        ],
        "height": 1200,
        "polar": {
         "domain": {
          "x": [
           0,
           0.2125
          ],
          "y": [
           0.7777777777777778,
           1
          ]
         },
         "radialaxis": {
          "range": [
           -2.206996566337491,
           2.790673561234983
          ],
          "visible": true
         }
        },
        "polar10": {
         "domain": {
          "x": [
           0.2625,
           0.475
          ],
          "y": [
           0,
           0.22222222222222224
          ]
         },
         "radialaxis": {
          "range": [
           -2.206996566337491,
           2.790673561234983
          ]
         }
        },
        "polar11": {
         "domain": {
          "x": [
           0.525,
           0.7375
          ],
          "y": [
           0,
           0.22222222222222224
          ]
         },
         "radialaxis": {
          "range": [
           -2.206996566337491,
           2.790673561234983
          ]
         }
        },
        "polar12": {
         "domain": {
          "x": [
           0.7875,
           1
          ],
          "y": [
           0,
           0.22222222222222224
          ]
         },
         "radialaxis": {
          "range": [
           -2.206996566337491,
           2.790673561234983
          ]
         }
        },
        "polar2": {
         "domain": {
          "x": [
           0.2625,
           0.475
          ],
          "y": [
           0.7777777777777778,
           1
          ]
         },
         "radialaxis": {
          "range": [
           -2.206996566337491,
           2.790673561234983
          ]
         }
        },
        "polar3": {
         "domain": {
          "x": [
           0.525,
           0.7375
          ],
          "y": [
           0.7777777777777778,
           1
          ]
         },
         "radialaxis": {
          "range": [
           -2.206996566337491,
           2.790673561234983
          ]
         }
        },
        "polar4": {
         "domain": {
          "x": [
           0.7875,
           1
          ],
          "y": [
           0.7777777777777778,
           1
          ]
         },
         "radialaxis": {
          "range": [
           -2.206996566337491,
           2.790673561234983
          ]
         }
        },
        "polar5": {
         "domain": {
          "x": [
           0,
           0.2125
          ],
          "y": [
           0.3888888888888889,
           0.6111111111111112
          ]
         },
         "radialaxis": {
          "range": [
           -2.206996566337491,
           2.790673561234983
          ]
         }
        },
        "polar6": {
         "domain": {
          "x": [
           0.2625,
           0.475
          ],
          "y": [
           0.3888888888888889,
           0.6111111111111112
          ]
         },
         "radialaxis": {
          "range": [
           -2.206996566337491,
           2.790673561234983
          ]
         }
        },
        "polar7": {
         "domain": {
          "x": [
           0.525,
           0.7375
          ],
          "y": [
           0.3888888888888889,
           0.6111111111111112
          ]
         },
         "radialaxis": {
          "range": [
           -2.206996566337491,
           2.790673561234983
          ]
         }
        },
        "polar8": {
         "domain": {
          "x": [
           0.7875,
           1
          ],
          "y": [
           0.3888888888888889,
           0.6111111111111112
          ]
         },
         "radialaxis": {
          "range": [
           -2.206996566337491,
           2.790673561234983
          ]
         }
        },
        "polar9": {
         "domain": {
          "x": [
           0,
           0.2125
          ],
          "y": [
           0,
           0.22222222222222224
          ]
         },
         "radialaxis": {
          "range": [
           -2.206996566337491,
           2.790673561234983
          ]
         }
        },
        "showlegend": false,
        "template": {
         "data": {
          "bar": [
           {
            "error_x": {
             "color": "#2a3f5f"
            },
            "error_y": {
             "color": "#2a3f5f"
            },
            "marker": {
             "line": {
              "color": "#E5ECF6",
              "width": 0.5
             },
             "pattern": {
              "fillmode": "overlay",
              "size": 10,
              "solidity": 0.2
             }
            },
            "type": "bar"
           }
          ],
          "barpolar": [
           {
            "marker": {
             "line": {
              "color": "#E5ECF6",
              "width": 0.5
             },
             "pattern": {
              "fillmode": "overlay",
              "size": 10,
              "solidity": 0.2
             }
            },
            "type": "barpolar"
           }
          ],
          "carpet": [
           {
            "aaxis": {
             "endlinecolor": "#2a3f5f",
             "gridcolor": "white",
             "linecolor": "white",
             "minorgridcolor": "white",
             "startlinecolor": "#2a3f5f"
            },
            "baxis": {
             "endlinecolor": "#2a3f5f",
             "gridcolor": "white",
             "linecolor": "white",
             "minorgridcolor": "white",
             "startlinecolor": "#2a3f5f"
            },
            "type": "carpet"
           }
          ],
          "choropleth": [
           {
            "colorbar": {
             "outlinewidth": 0,
             "ticks": ""
            },
            "type": "choropleth"
           }
          ],
          "contour": [
           {
            "colorbar": {
             "outlinewidth": 0,
             "ticks": ""
            },
            "colorscale": [
             [
              0,
              "#0d0887"
             ],
             [
              0.1111111111111111,
              "#46039f"
             ],
             [
              0.2222222222222222,
              "#7201a8"
             ],
             [
              0.3333333333333333,
              "#9c179e"
             ],
             [
              0.4444444444444444,
              "#bd3786"
             ],
             [
              0.5555555555555556,
              "#d8576b"
             ],
             [
              0.6666666666666666,
              "#ed7953"
             ],
             [
              0.7777777777777778,
              "#fb9f3a"
             ],
             [
              0.8888888888888888,
              "#fdca26"
             ],
             [
              1,
              "#f0f921"
             ]
            ],
            "type": "contour"
           }
          ],
          "contourcarpet": [
           {
            "colorbar": {
             "outlinewidth": 0,
             "ticks": ""
            },
            "type": "contourcarpet"
           }
          ],
          "heatmap": [
           {
            "colorbar": {
             "outlinewidth": 0,
             "ticks": ""
            },
            "colorscale": [
             [
              0,
              "#0d0887"
             ],
             [
              0.1111111111111111,
              "#46039f"
             ],
             [
              0.2222222222222222,
              "#7201a8"
             ],
             [
              0.3333333333333333,
              "#9c179e"
             ],
             [
              0.4444444444444444,
              "#bd3786"
             ],
             [
              0.5555555555555556,
              "#d8576b"
             ],
             [
              0.6666666666666666,
              "#ed7953"
             ],
             [
              0.7777777777777778,
              "#fb9f3a"
             ],
             [
              0.8888888888888888,
              "#fdca26"
             ],
             [
              1,
              "#f0f921"
             ]
            ],
            "type": "heatmap"
           }
          ],
          "heatmapgl": [
           {
            "colorbar": {
             "outlinewidth": 0,
             "ticks": ""
            },
            "colorscale": [
             [
              0,
              "#0d0887"
             ],
             [
              0.1111111111111111,
              "#46039f"
             ],
             [
              0.2222222222222222,
              "#7201a8"
             ],
             [
              0.3333333333333333,
              "#9c179e"
             ],
             [
              0.4444444444444444,
              "#bd3786"
             ],
             [
              0.5555555555555556,
              "#d8576b"
             ],
             [
              0.6666666666666666,
              "#ed7953"
             ],
             [
              0.7777777777777778,
              "#fb9f3a"
             ],
             [
              0.8888888888888888,
              "#fdca26"
             ],
             [
              1,
              "#f0f921"
             ]
            ],
            "type": "heatmapgl"
           }
          ],
          "histogram": [
           {
            "marker": {
             "pattern": {
              "fillmode": "overlay",
              "size": 10,
              "solidity": 0.2
             }
            },
            "type": "histogram"
           }
          ],
          "histogram2d": [
           {
            "colorbar": {
             "outlinewidth": 0,
             "ticks": ""
            },
            "colorscale": [
             [
              0,
              "#0d0887"
             ],
             [
              0.1111111111111111,
              "#46039f"
             ],
             [
              0.2222222222222222,
              "#7201a8"
             ],
             [
              0.3333333333333333,
              "#9c179e"
             ],
             [
              0.4444444444444444,
              "#bd3786"
             ],
             [
              0.5555555555555556,
              "#d8576b"
             ],
             [
              0.6666666666666666,
              "#ed7953"
             ],
             [
              0.7777777777777778,
              "#fb9f3a"
             ],
             [
              0.8888888888888888,
              "#fdca26"
             ],
             [
              1,
              "#f0f921"
             ]
            ],
            "type": "histogram2d"
           }
          ],
          "histogram2dcontour": [
           {
            "colorbar": {
             "outlinewidth": 0,
             "ticks": ""
            },
            "colorscale": [
             [
              0,
              "#0d0887"
             ],
             [
              0.1111111111111111,
              "#46039f"
             ],
             [
              0.2222222222222222,
              "#7201a8"
             ],
             [
              0.3333333333333333,
              "#9c179e"
             ],
             [
              0.4444444444444444,
              "#bd3786"
             ],
             [
              0.5555555555555556,
              "#d8576b"
             ],
             [
              0.6666666666666666,
              "#ed7953"
             ],
             [
              0.7777777777777778,
              "#fb9f3a"
             ],
             [
              0.8888888888888888,
              "#fdca26"
             ],
             [
              1,
              "#f0f921"
             ]
            ],
            "type": "histogram2dcontour"
           }
          ],
          "mesh3d": [
           {
            "colorbar": {
             "outlinewidth": 0,
             "ticks": ""
            },
            "type": "mesh3d"
           }
          ],
          "parcoords": [
           {
            "line": {
             "colorbar": {
              "outlinewidth": 0,
              "ticks": ""
             }
            },
            "type": "parcoords"
           }
          ],
          "pie": [
           {
            "automargin": true,
            "type": "pie"
           }
          ],
          "scatter": [
           {
            "fillpattern": {
             "fillmode": "overlay",
             "size": 10,
             "solidity": 0.2
            },
            "type": "scatter"
           }
          ],
          "scatter3d": [
           {
            "line": {
             "colorbar": {
              "outlinewidth": 0,
              "ticks": ""
             }
            },
            "marker": {
             "colorbar": {
              "outlinewidth": 0,
              "ticks": ""
             }
            },
            "type": "scatter3d"
           }
          ],
          "scattercarpet": [
           {
            "marker": {
             "colorbar": {
              "outlinewidth": 0,
              "ticks": ""
             }
            },
            "type": "scattercarpet"
           }
          ],
          "scattergeo": [
           {
            "marker": {
             "colorbar": {
              "outlinewidth": 0,
              "ticks": ""
             }
            },
            "type": "scattergeo"
           }
          ],
          "scattergl": [
           {
            "marker": {
             "colorbar": {
              "outlinewidth": 0,
              "ticks": ""
             }
            },
            "type": "scattergl"
           }
          ],
          "scattermapbox": [
           {
            "marker": {
             "colorbar": {
              "outlinewidth": 0,
              "ticks": ""
             }
            },
            "type": "scattermapbox"
           }
          ],
          "scatterpolar": [
           {
            "marker": {
             "colorbar": {
              "outlinewidth": 0,
              "ticks": ""
             }
            },
            "type": "scatterpolar"
           }
          ],
          "scatterpolargl": [
           {
            "marker": {
             "colorbar": {
              "outlinewidth": 0,
              "ticks": ""
             }
            },
            "type": "scatterpolargl"
           }
          ],
          "scatterternary": [
           {
            "marker": {
             "colorbar": {
              "outlinewidth": 0,
              "ticks": ""
             }
            },
            "type": "scatterternary"
           }
          ],
          "surface": [
           {
            "colorbar": {
             "outlinewidth": 0,
             "ticks": ""
            },
            "colorscale": [
             [
              0,
              "#0d0887"
             ],
             [
              0.1111111111111111,
              "#46039f"
             ],
             [
              0.2222222222222222,
              "#7201a8"
             ],
             [
              0.3333333333333333,
              "#9c179e"
             ],
             [
              0.4444444444444444,
              "#bd3786"
             ],
             [
              0.5555555555555556,
              "#d8576b"
             ],
             [
              0.6666666666666666,
              "#ed7953"
             ],
             [
              0.7777777777777778,
              "#fb9f3a"
             ],
             [
              0.8888888888888888,
              "#fdca26"
             ],
             [
              1,
              "#f0f921"
             ]
            ],
            "type": "surface"
           }
          ],
          "table": [
           {
            "cells": {
             "fill": {
              "color": "#EBF0F8"
             },
             "line": {
              "color": "white"
             }
            },
            "header": {
             "fill": {
              "color": "#C8D4E3"
             },
             "line": {
              "color": "white"
             }
            },
            "type": "table"
           }
          ]
         },
         "layout": {
          "annotationdefaults": {
           "arrowcolor": "#2a3f5f",
           "arrowhead": 0,
           "arrowwidth": 1
          },
          "autotypenumbers": "strict",
          "coloraxis": {
           "colorbar": {
            "outlinewidth": 0,
            "ticks": ""
           }
          },
          "colorscale": {
           "diverging": [
            [
             0,
             "#8e0152"
            ],
            [
             0.1,
             "#c51b7d"
            ],
            [
             0.2,
             "#de77ae"
            ],
            [
             0.3,
             "#f1b6da"
            ],
            [
             0.4,
             "#fde0ef"
            ],
            [
             0.5,
             "#f7f7f7"
            ],
            [
             0.6,
             "#e6f5d0"
            ],
            [
             0.7,
             "#b8e186"
            ],
            [
             0.8,
             "#7fbc41"
            ],
            [
             0.9,
             "#4d9221"
            ],
            [
             1,
             "#276419"
            ]
           ],
           "sequential": [
            [
             0,
             "#0d0887"
            ],
            [
             0.1111111111111111,
             "#46039f"
            ],
            [
             0.2222222222222222,
             "#7201a8"
            ],
            [
             0.3333333333333333,
             "#9c179e"
            ],
            [
             0.4444444444444444,
             "#bd3786"
            ],
            [
             0.5555555555555556,
             "#d8576b"
            ],
            [
             0.6666666666666666,
             "#ed7953"
            ],
            [
             0.7777777777777778,
             "#fb9f3a"
            ],
            [
             0.8888888888888888,
             "#fdca26"
            ],
            [
             1,
             "#f0f921"
            ]
           ],
           "sequentialminus": [
            [
             0,
             "#0d0887"
            ],
            [
             0.1111111111111111,
             "#46039f"
            ],
            [
             0.2222222222222222,
             "#7201a8"
            ],
            [
             0.3333333333333333,
             "#9c179e"
            ],
            [
             0.4444444444444444,
             "#bd3786"
            ],
            [
             0.5555555555555556,
             "#d8576b"
            ],
            [
             0.6666666666666666,
             "#ed7953"
            ],
            [
             0.7777777777777778,
             "#fb9f3a"
            ],
            [
             0.8888888888888888,
             "#fdca26"
            ],
            [
             1,
             "#f0f921"
            ]
           ]
          },
          "colorway": [
           "#636efa",
           "#EF553B",
           "#00cc96",
           "#ab63fa",
           "#FFA15A",
           "#19d3f3",
           "#FF6692",
           "#B6E880",
           "#FF97FF",
           "#FECB52"
          ],
          "font": {
           "color": "#2a3f5f"
          },
          "geo": {
           "bgcolor": "white",
           "lakecolor": "white",
           "landcolor": "#E5ECF6",
           "showlakes": true,
           "showland": true,
           "subunitcolor": "white"
          },
          "hoverlabel": {
           "align": "left"
          },
          "hovermode": "closest",
          "mapbox": {
           "style": "light"
          },
          "paper_bgcolor": "white",
          "plot_bgcolor": "#E5ECF6",
          "polar": {
           "angularaxis": {
            "gridcolor": "white",
            "linecolor": "white",
            "ticks": ""
           },
           "bgcolor": "#E5ECF6",
           "radialaxis": {
            "gridcolor": "white",
            "linecolor": "white",
            "ticks": ""
           }
          },
          "scene": {
           "xaxis": {
            "backgroundcolor": "#E5ECF6",
            "gridcolor": "white",
            "gridwidth": 2,
            "linecolor": "white",
            "showbackground": true,
            "ticks": "",
            "zerolinecolor": "white"
           },
           "yaxis": {
            "backgroundcolor": "#E5ECF6",
            "gridcolor": "white",
            "gridwidth": 2,
            "linecolor": "white",
            "showbackground": true,
            "ticks": "",
            "zerolinecolor": "white"
           },
           "zaxis": {
            "backgroundcolor": "#E5ECF6",
            "gridcolor": "white",
            "gridwidth": 2,
            "linecolor": "white",
            "showbackground": true,
            "ticks": "",
            "zerolinecolor": "white"
           }
          },
          "shapedefaults": {
           "line": {
            "color": "#2a3f5f"
           }
          },
          "ternary": {
           "aaxis": {
            "gridcolor": "white",
            "linecolor": "white",
            "ticks": ""
           },
           "baxis": {
            "gridcolor": "white",
            "linecolor": "white",
            "ticks": ""
           },
           "bgcolor": "#E5ECF6",
           "caxis": {
            "gridcolor": "white",
            "linecolor": "white",
            "ticks": ""
           }
          },
          "title": {
           "x": 0.05
          },
          "xaxis": {
           "automargin": true,
           "gridcolor": "white",
           "linecolor": "white",
           "ticks": "",
           "title": {
            "standoff": 15
           },
           "zerolinecolor": "white",
           "zerolinewidth": 2
          },
          "yaxis": {
           "automargin": true,
           "gridcolor": "white",
           "linecolor": "white",
           "ticks": "",
           "title": {
            "standoff": 15
           },
           "zerolinecolor": "white",
           "zerolinewidth": 2
          }
         }
        },
        "title": {
         "y": 1
        }
       }
      }
     },
     "metadata": {},
     "output_type": "display_data"
    }
   ],
   "source": [
    "df = players_stats.loc[players_stats[\"Position\"] == positions[2]]\n",
    "min_value, max_value = get_min_max_value(df, columns)\n",
    "\n",
    "ROW, COLUMNS = get_rows_columns(df, 4)\n",
    "\n",
    "fig = get_fig_subplots(df, ROWS, COLUMNS)\n",
    "for i, player_name in enumerate(df.index):\n",
    "    _df = df.loc[player_name, columns]\n",
    "    theta_list = get_theta_list(df, player_name, origin_columns, columns)\n",
    "\n",
    "    r, c = get_rc(i, COLUMNS)\n",
    "    fig.add_trace(\n",
    "        go.Scatterpolar(r=_df, theta=theta_list, fill=\"toself\", name=player_name),\n",
    "        row=r,\n",
    "        col=c,\n",
    "    )\n",
    "\n",
    "fig.update_layout(\n",
    "    height=400 * ROWS,\n",
    "    showlegend=False,\n",
    "    polar=dict(\n",
    "        radialaxis=dict(visible=True),\n",
    "    ),\n",
    "    title=dict(y=1),\n",
    ")\n",
    "fig.update_annotations(yshift=20)\n",
    "fig.update_polars(radialaxis=dict(range=[min_value - 0.2, max_value + 0.2]))\n",
    "fig.show()"
   ]
  },
  {
   "cell_type": "code",
   "execution_count": 15,
   "metadata": {},
   "outputs": [
    {
     "data": {
      "application/vnd.plotly.v1+json": {
       "config": {
        "plotlyServerURL": "https://plot.ly"
       },
       "data": [
        {
         "fill": "toself",
         "name": "Doublelift",
         "r": [
          -0.3764277394771602,
          -0.5062594412479466,
          2.1820113517615525,
          1.1628197255420805,
          0.6549429830277573,
          0.6198986779679654,
          1.5871187973446137,
          1.4072292491730845,
          0
         ],
         "subplot": "polar",
         "theta": [
          "_KDA - 2.8",
          "_DPM - 554.6",
          "_CSPM - 10.9",
          "_Gold - 15053.7",
          "_GPM - 464.0",
          "_KP - 0.7",
          "_KS - 0.5",
          "_GS - 0.3",
          "_ChampionsPlayed - 2"
         ],
         "type": "scatterpolar"
        },
        {
         "fill": "toself",
         "name": "Berserker",
         "r": [
          2.9489344505985073,
          -0.2189794111882165,
          0.9449202934281773,
          -0.6289590046981925,
          1.1525292846031032,
          -0.7376798737141128,
          -0.46306535736715376,
          -1.0373086079964902,
          0
         ],
         "subplot": "polar2",
         "theta": [
          "_KDA - 28.0",
          "_DPM - 587.0",
          "_CSPM - 10.3",
          "_Gold - 13248.7",
          "_GPM - 477.6",
          "_KP - 0.6",
          "_KS - 0.3",
          "_GS - 0.2",
          "_ChampionsPlayed - 2"
         ],
         "type": "scatterpolar"
        },
        {
         "fill": "toself",
         "name": "Tomo",
         "r": [
          -0.4997524299700326,
          -0.6811751244896753,
          -0.5340296386403793,
          -1.6325536286721074,
          -1.6517612239761912,
          0.09220203163307161,
          -1.021973951009726,
          -0.7504311850310814,
          0
         ],
         "subplot": "polar3",
         "theta": [
          "_KDA - 1.9",
          "_DPM - 534.9",
          "_CSPM - 9.6",
          "_Gold - 12237.7",
          "_GPM - 401.0",
          "_KP - 0.7",
          "_KS - 0.2",
          "_GS - 0.2",
          "_ChampionsPlayed - 2"
         ],
         "type": "scatterpolar"
        },
        {
         "fill": "toself",
         "name": "UNF0RGIVEN",
         "r": [
          -0.1165649987957504,
          0.2635149109481181,
          0.4367548224602463,
          0.17378433778803248,
          0.6054259206018449,
          -0.8414151118825115,
          -0.7866440168444329,
          0.046782683913618166,
          0
         ],
         "subplot": "polar4",
         "theta": [
          "_KDA - 4.8",
          "_DPM - 641.5",
          "_CSPM - 10.0",
          "_Gold - 14057.3",
          "_GPM - 462.7",
          "_KP - 0.6",
          "_KS - 0.2",
          "_GS - 0.3",
          "_ChampionsPlayed - 2"
         ],
         "type": "scatterpolar"
        },
        {
         "fill": "toself",
         "name": "Prince",
         "r": [
          -0.5586119413416308,
          -0.2387477104314755,
          0.4811897169589606,
          0.37629007793707164,
          -0.9817511194670085,
          -0.011533206535327049,
          -0.6689790497617852,
          0.47195904535798283,
          0
         ],
         "subplot": "polar5",
         "theta": [
          "_KDA - 1.5",
          "_DPM - 584.8",
          "_CSPM - 10.1",
          "_Gold - 14261.3",
          "_GPM - 419.3",
          "_KP - 0.7",
          "_KS - 0.2",
          "_GS - 0.3",
          "_ChampionsPlayed - 2"
         ],
         "type": "scatterpolar"
        },
        {
         "fill": "toself",
         "name": "Stixxay",
         "r": [
          -0.3709221729372998,
          -0.6177847443094443,
          0.013448149214606664,
          0.15293815865504318,
          -0.3729029504465284,
          0.07389581313276614,
          0.057775158689855985,
          -0.25114611581261187,
          0
         ],
         "subplot": "polar6",
         "theta": [
          "_KDA - 2.9",
          "_DPM - 542.0",
          "_CSPM - 9.8",
          "_Gold - 14036.3",
          "_GPM - 436.0",
          "_KP - 0.7",
          "_KS - 0.3",
          "_GS - 0.2",
          "_ChampionsPlayed - 2"
         ],
         "type": "scatterpolar"
        },
        {
         "fill": "toself",
         "name": "Tactical",
         "r": [
          -0.39845000563660166,
          1.6142757920497726,
          -0.5162530048006116,
          0.6757470956411241,
          0.6652954745830197,
          1.1503014609507318,
          0.8135995354795628,
          1.7687455169659219,
          -2.23606797749979
         ],
         "subplot": "polar7",
         "theta": [
          "_KDA - 2.7",
          "_DPM - 794.0",
          "_CSPM - 9.6",
          "_Gold - 14563.0",
          "_GPM - 464.3",
          "_KP - 0.8",
          "_KS - 0.4",
          "_GS - 0.3",
          "_ChampionsPlayed - 1"
         ],
         "type": "scatterpolar"
        },
        {
         "fill": "toself",
         "name": "FBI",
         "r": [
          -0.3063568926062098,
          1.816866388912615,
          -0.7627706114502537,
          1.682650636937736,
          0.2981266465022106,
          2.042930534750997,
          1.6814504146452294,
          0.6162173838201608,
          0
         ],
         "subplot": "polar8",
         "theta": [
          "_KDA - 3.4",
          "_DPM - 816.9",
          "_CSPM - 9.4",
          "_Gold - 15577.3",
          "_GPM - 454.3",
          "_KP - 0.9",
          "_KS - 0.5",
          "_GS - 0.3",
          "_ChampionsPlayed - 2"
         ],
         "type": "scatterpolar"
        },
        {
         "fill": "toself",
         "name": "WildTurtle",
         "r": [
          -0.42991038586437524,
          -1.662392112894636,
          -0.7556696051237625,
          -1.2794921503403662,
          -1.4974055456636113,
          -1.1915215407008546,
          -1.28672012694568,
          -1.0956764989255938,
          2.23606797749979
         ],
         "subplot": "polar9",
         "theta": [
          "_KDA - 2.4",
          "_DPM - 424.1",
          "_CSPM - 9.4",
          "_Gold - 12593.3",
          "_GPM - 405.3",
          "_KP - 0.5",
          "_KS - 0.2",
          "_GS - 0.2",
          "_ChampionsPlayed - 3"
         ],
         "type": "scatterpolar"
        },
        {
         "fill": "toself",
         "name": "Yeon",
         "r": [
          0.10806211603055299,
          0.23068145265088827,
          -1.4896014738085397,
          -0.6832252487904181,
          1.1275005302354222,
          -1.1970787856027327,
          0.08743859576951384,
          -1.1763714714650253,
          0
         ],
         "subplot": "polar10",
         "theta": [
          "_KDA - 6.5",
          "_DPM - 637.8",
          "_CSPM - 9.1",
          "_Gold - 13194.0",
          "_GPM - 476.9",
          "_KP - 0.5",
          "_KS - 0.3",
          "_GS - 0.2",
          "_ChampionsPlayed - 2"
         ],
         "type": "scatterpolar"
        }
       ],
       "layout": {
        "annotations": [
         {
          "font": {
           "size": 16
          },
          "showarrow": false,
          "text": "Doublelift",
          "x": 0.10625,
          "xanchor": "center",
          "xref": "paper",
          "y": 1,
          "yanchor": "bottom",
          "yref": "paper",
          "yshift": 20
         },
         {
          "font": {
           "size": 16
          },
          "showarrow": false,
          "text": "Berserker",
          "x": 0.36875,
          "xanchor": "center",
          "xref": "paper",
          "y": 1,
          "yanchor": "bottom",
          "yref": "paper",
          "yshift": 20
         },
         {
          "font": {
           "size": 16
          },
          "showarrow": false,
          "text": "Tomo",
          "x": 0.6312500000000001,
          "xanchor": "center",
          "xref": "paper",
          "y": 1,
          "yanchor": "bottom",
          "yref": "paper",
          "yshift": 20
         },
         {
          "font": {
           "size": 16
          },
          "showarrow": false,
          "text": "UNF0RGIVEN",
          "x": 0.89375,
          "xanchor": "center",
          "xref": "paper",
          "y": 1,
          "yanchor": "bottom",
          "yref": "paper",
          "yshift": 20
         },
         {
          "font": {
           "size": 16
          },
          "showarrow": false,
          "text": "Prince",
          "x": 0.10625,
          "xanchor": "center",
          "xref": "paper",
          "y": 0.6111111111111112,
          "yanchor": "bottom",
          "yref": "paper",
          "yshift": 20
         },
         {
          "font": {
           "size": 16
          },
          "showarrow": false,
          "text": "Stixxay",
          "x": 0.36875,
          "xanchor": "center",
          "xref": "paper",
          "y": 0.6111111111111112,
          "yanchor": "bottom",
          "yref": "paper",
          "yshift": 20
         },
         {
          "font": {
           "size": 16
          },
          "showarrow": false,
          "text": "Tactical",
          "x": 0.6312500000000001,
          "xanchor": "center",
          "xref": "paper",
          "y": 0.6111111111111112,
          "yanchor": "bottom",
          "yref": "paper",
          "yshift": 20
         },
         {
          "font": {
           "size": 16
          },
          "showarrow": false,
          "text": "FBI",
          "x": 0.89375,
          "xanchor": "center",
          "xref": "paper",
          "y": 0.6111111111111112,
          "yanchor": "bottom",
          "yref": "paper",
          "yshift": 20
         },
         {
          "font": {
           "size": 16
          },
          "showarrow": false,
          "text": "WildTurtle",
          "x": 0.10625,
          "xanchor": "center",
          "xref": "paper",
          "y": 0.22222222222222224,
          "yanchor": "bottom",
          "yref": "paper",
          "yshift": 20
         },
         {
          "font": {
           "size": 16
          },
          "showarrow": false,
          "text": "Yeon",
          "x": 0.36875,
          "xanchor": "center",
          "xref": "paper",
          "y": 0.22222222222222224,
          "yanchor": "bottom",
          "yref": "paper",
          "yshift": 20
         }
        ],
        "height": 1200,
        "polar": {
         "domain": {
          "x": [
           0,
           0.2125
          ],
          "y": [
           0.7777777777777778,
           1
          ]
         },
         "radialaxis": {
          "range": [
           -2.43606797749979,
           3.1489344505985075
          ],
          "visible": true
         }
        },
        "polar10": {
         "domain": {
          "x": [
           0.2625,
           0.475
          ],
          "y": [
           0,
           0.22222222222222224
          ]
         },
         "radialaxis": {
          "range": [
           -2.43606797749979,
           3.1489344505985075
          ]
         }
        },
        "polar11": {
         "domain": {
          "x": [
           0.525,
           0.7375
          ],
          "y": [
           0,
           0.22222222222222224
          ]
         },
         "radialaxis": {
          "range": [
           -2.43606797749979,
           3.1489344505985075
          ]
         }
        },
        "polar12": {
         "domain": {
          "x": [
           0.7875,
           1
          ],
          "y": [
           0,
           0.22222222222222224
          ]
         },
         "radialaxis": {
          "range": [
           -2.43606797749979,
           3.1489344505985075
          ]
         }
        },
        "polar2": {
         "domain": {
          "x": [
           0.2625,
           0.475
          ],
          "y": [
           0.7777777777777778,
           1
          ]
         },
         "radialaxis": {
          "range": [
           -2.43606797749979,
           3.1489344505985075
          ]
         }
        },
        "polar3": {
         "domain": {
          "x": [
           0.525,
           0.7375
          ],
          "y": [
           0.7777777777777778,
           1
          ]
         },
         "radialaxis": {
          "range": [
           -2.43606797749979,
           3.1489344505985075
          ]
         }
        },
        "polar4": {
         "domain": {
          "x": [
           0.7875,
           1
          ],
          "y": [
           0.7777777777777778,
           1
          ]
         },
         "radialaxis": {
          "range": [
           -2.43606797749979,
           3.1489344505985075
          ]
         }
        },
        "polar5": {
         "domain": {
          "x": [
           0,
           0.2125
          ],
          "y": [
           0.3888888888888889,
           0.6111111111111112
          ]
         },
         "radialaxis": {
          "range": [
           -2.43606797749979,
           3.1489344505985075
          ]
         }
        },
        "polar6": {
         "domain": {
          "x": [
           0.2625,
           0.475
          ],
          "y": [
           0.3888888888888889,
           0.6111111111111112
          ]
         },
         "radialaxis": {
          "range": [
           -2.43606797749979,
           3.1489344505985075
          ]
         }
        },
        "polar7": {
         "domain": {
          "x": [
           0.525,
           0.7375
          ],
          "y": [
           0.3888888888888889,
           0.6111111111111112
          ]
         },
         "radialaxis": {
          "range": [
           -2.43606797749979,
           3.1489344505985075
          ]
         }
        },
        "polar8": {
         "domain": {
          "x": [
           0.7875,
           1
          ],
          "y": [
           0.3888888888888889,
           0.6111111111111112
          ]
         },
         "radialaxis": {
          "range": [
           -2.43606797749979,
           3.1489344505985075
          ]
         }
        },
        "polar9": {
         "domain": {
          "x": [
           0,
           0.2125
          ],
          "y": [
           0,
           0.22222222222222224
          ]
         },
         "radialaxis": {
          "range": [
           -2.43606797749979,
           3.1489344505985075
          ]
         }
        },
        "showlegend": false,
        "template": {
         "data": {
          "bar": [
           {
            "error_x": {
             "color": "#2a3f5f"
            },
            "error_y": {
             "color": "#2a3f5f"
            },
            "marker": {
             "line": {
              "color": "#E5ECF6",
              "width": 0.5
             },
             "pattern": {
              "fillmode": "overlay",
              "size": 10,
              "solidity": 0.2
             }
            },
            "type": "bar"
           }
          ],
          "barpolar": [
           {
            "marker": {
             "line": {
              "color": "#E5ECF6",
              "width": 0.5
             },
             "pattern": {
              "fillmode": "overlay",
              "size": 10,
              "solidity": 0.2
             }
            },
            "type": "barpolar"
           }
          ],
          "carpet": [
           {
            "aaxis": {
             "endlinecolor": "#2a3f5f",
             "gridcolor": "white",
             "linecolor": "white",
             "minorgridcolor": "white",
             "startlinecolor": "#2a3f5f"
            },
            "baxis": {
             "endlinecolor": "#2a3f5f",
             "gridcolor": "white",
             "linecolor": "white",
             "minorgridcolor": "white",
             "startlinecolor": "#2a3f5f"
            },
            "type": "carpet"
           }
          ],
          "choropleth": [
           {
            "colorbar": {
             "outlinewidth": 0,
             "ticks": ""
            },
            "type": "choropleth"
           }
          ],
          "contour": [
           {
            "colorbar": {
             "outlinewidth": 0,
             "ticks": ""
            },
            "colorscale": [
             [
              0,
              "#0d0887"
             ],
             [
              0.1111111111111111,
              "#46039f"
             ],
             [
              0.2222222222222222,
              "#7201a8"
             ],
             [
              0.3333333333333333,
              "#9c179e"
             ],
             [
              0.4444444444444444,
              "#bd3786"
             ],
             [
              0.5555555555555556,
              "#d8576b"
             ],
             [
              0.6666666666666666,
              "#ed7953"
             ],
             [
              0.7777777777777778,
              "#fb9f3a"
             ],
             [
              0.8888888888888888,
              "#fdca26"
             ],
             [
              1,
              "#f0f921"
             ]
            ],
            "type": "contour"
           }
          ],
          "contourcarpet": [
           {
            "colorbar": {
             "outlinewidth": 0,
             "ticks": ""
            },
            "type": "contourcarpet"
           }
          ],
          "heatmap": [
           {
            "colorbar": {
             "outlinewidth": 0,
             "ticks": ""
            },
            "colorscale": [
             [
              0,
              "#0d0887"
             ],
             [
              0.1111111111111111,
              "#46039f"
             ],
             [
              0.2222222222222222,
              "#7201a8"
             ],
             [
              0.3333333333333333,
              "#9c179e"
             ],
             [
              0.4444444444444444,
              "#bd3786"
             ],
             [
              0.5555555555555556,
              "#d8576b"
             ],
             [
              0.6666666666666666,
              "#ed7953"
             ],
             [
              0.7777777777777778,
              "#fb9f3a"
             ],
             [
              0.8888888888888888,
              "#fdca26"
             ],
             [
              1,
              "#f0f921"
             ]
            ],
            "type": "heatmap"
           }
          ],
          "heatmapgl": [
           {
            "colorbar": {
             "outlinewidth": 0,
             "ticks": ""
            },
            "colorscale": [
             [
              0,
              "#0d0887"
             ],
             [
              0.1111111111111111,
              "#46039f"
             ],
             [
              0.2222222222222222,
              "#7201a8"
             ],
             [
              0.3333333333333333,
              "#9c179e"
             ],
             [
              0.4444444444444444,
              "#bd3786"
             ],
             [
              0.5555555555555556,
              "#d8576b"
             ],
             [
              0.6666666666666666,
              "#ed7953"
             ],
             [
              0.7777777777777778,
              "#fb9f3a"
             ],
             [
              0.8888888888888888,
              "#fdca26"
             ],
             [
              1,
              "#f0f921"
             ]
            ],
            "type": "heatmapgl"
           }
          ],
          "histogram": [
           {
            "marker": {
             "pattern": {
              "fillmode": "overlay",
              "size": 10,
              "solidity": 0.2
             }
            },
            "type": "histogram"
           }
          ],
          "histogram2d": [
           {
            "colorbar": {
             "outlinewidth": 0,
             "ticks": ""
            },
            "colorscale": [
             [
              0,
              "#0d0887"
             ],
             [
              0.1111111111111111,
              "#46039f"
             ],
             [
              0.2222222222222222,
              "#7201a8"
             ],
             [
              0.3333333333333333,
              "#9c179e"
             ],
             [
              0.4444444444444444,
              "#bd3786"
             ],
             [
              0.5555555555555556,
              "#d8576b"
             ],
             [
              0.6666666666666666,
              "#ed7953"
             ],
             [
              0.7777777777777778,
              "#fb9f3a"
             ],
             [
              0.8888888888888888,
              "#fdca26"
             ],
             [
              1,
              "#f0f921"
             ]
            ],
            "type": "histogram2d"
           }
          ],
          "histogram2dcontour": [
           {
            "colorbar": {
             "outlinewidth": 0,
             "ticks": ""
            },
            "colorscale": [
             [
              0,
              "#0d0887"
             ],
             [
              0.1111111111111111,
              "#46039f"
             ],
             [
              0.2222222222222222,
              "#7201a8"
             ],
             [
              0.3333333333333333,
              "#9c179e"
             ],
             [
              0.4444444444444444,
              "#bd3786"
             ],
             [
              0.5555555555555556,
              "#d8576b"
             ],
             [
              0.6666666666666666,
              "#ed7953"
             ],
             [
              0.7777777777777778,
              "#fb9f3a"
             ],
             [
              0.8888888888888888,
              "#fdca26"
             ],
             [
              1,
              "#f0f921"
             ]
            ],
            "type": "histogram2dcontour"
           }
          ],
          "mesh3d": [
           {
            "colorbar": {
             "outlinewidth": 0,
             "ticks": ""
            },
            "type": "mesh3d"
           }
          ],
          "parcoords": [
           {
            "line": {
             "colorbar": {
              "outlinewidth": 0,
              "ticks": ""
             }
            },
            "type": "parcoords"
           }
          ],
          "pie": [
           {
            "automargin": true,
            "type": "pie"
           }
          ],
          "scatter": [
           {
            "fillpattern": {
             "fillmode": "overlay",
             "size": 10,
             "solidity": 0.2
            },
            "type": "scatter"
           }
          ],
          "scatter3d": [
           {
            "line": {
             "colorbar": {
              "outlinewidth": 0,
              "ticks": ""
             }
            },
            "marker": {
             "colorbar": {
              "outlinewidth": 0,
              "ticks": ""
             }
            },
            "type": "scatter3d"
           }
          ],
          "scattercarpet": [
           {
            "marker": {
             "colorbar": {
              "outlinewidth": 0,
              "ticks": ""
             }
            },
            "type": "scattercarpet"
           }
          ],
          "scattergeo": [
           {
            "marker": {
             "colorbar": {
              "outlinewidth": 0,
              "ticks": ""
             }
            },
            "type": "scattergeo"
           }
          ],
          "scattergl": [
           {
            "marker": {
             "colorbar": {
              "outlinewidth": 0,
              "ticks": ""
             }
            },
            "type": "scattergl"
           }
          ],
          "scattermapbox": [
           {
            "marker": {
             "colorbar": {
              "outlinewidth": 0,
              "ticks": ""
             }
            },
            "type": "scattermapbox"
           }
          ],
          "scatterpolar": [
           {
            "marker": {
             "colorbar": {
              "outlinewidth": 0,
              "ticks": ""
             }
            },
            "type": "scatterpolar"
           }
          ],
          "scatterpolargl": [
           {
            "marker": {
             "colorbar": {
              "outlinewidth": 0,
              "ticks": ""
             }
            },
            "type": "scatterpolargl"
           }
          ],
          "scatterternary": [
           {
            "marker": {
             "colorbar": {
              "outlinewidth": 0,
              "ticks": ""
             }
            },
            "type": "scatterternary"
           }
          ],
          "surface": [
           {
            "colorbar": {
             "outlinewidth": 0,
             "ticks": ""
            },
            "colorscale": [
             [
              0,
              "#0d0887"
             ],
             [
              0.1111111111111111,
              "#46039f"
             ],
             [
              0.2222222222222222,
              "#7201a8"
             ],
             [
              0.3333333333333333,
              "#9c179e"
             ],
             [
              0.4444444444444444,
              "#bd3786"
             ],
             [
              0.5555555555555556,
              "#d8576b"
             ],
             [
              0.6666666666666666,
              "#ed7953"
             ],
             [
              0.7777777777777778,
              "#fb9f3a"
             ],
             [
              0.8888888888888888,
              "#fdca26"
             ],
             [
              1,
              "#f0f921"
             ]
            ],
            "type": "surface"
           }
          ],
          "table": [
           {
            "cells": {
             "fill": {
              "color": "#EBF0F8"
             },
             "line": {
              "color": "white"
             }
            },
            "header": {
             "fill": {
              "color": "#C8D4E3"
             },
             "line": {
              "color": "white"
             }
            },
            "type": "table"
           }
          ]
         },
         "layout": {
          "annotationdefaults": {
           "arrowcolor": "#2a3f5f",
           "arrowhead": 0,
           "arrowwidth": 1
          },
          "autotypenumbers": "strict",
          "coloraxis": {
           "colorbar": {
            "outlinewidth": 0,
            "ticks": ""
           }
          },
          "colorscale": {
           "diverging": [
            [
             0,
             "#8e0152"
            ],
            [
             0.1,
             "#c51b7d"
            ],
            [
             0.2,
             "#de77ae"
            ],
            [
             0.3,
             "#f1b6da"
            ],
            [
             0.4,
             "#fde0ef"
            ],
            [
             0.5,
             "#f7f7f7"
            ],
            [
             0.6,
             "#e6f5d0"
            ],
            [
             0.7,
             "#b8e186"
            ],
            [
             0.8,
             "#7fbc41"
            ],
            [
             0.9,
             "#4d9221"
            ],
            [
             1,
             "#276419"
            ]
           ],
           "sequential": [
            [
             0,
             "#0d0887"
            ],
            [
             0.1111111111111111,
             "#46039f"
            ],
            [
             0.2222222222222222,
             "#7201a8"
            ],
            [
             0.3333333333333333,
             "#9c179e"
            ],
            [
             0.4444444444444444,
             "#bd3786"
            ],
            [
             0.5555555555555556,
             "#d8576b"
            ],
            [
             0.6666666666666666,
             "#ed7953"
            ],
            [
             0.7777777777777778,
             "#fb9f3a"
            ],
            [
             0.8888888888888888,
             "#fdca26"
            ],
            [
             1,
             "#f0f921"
            ]
           ],
           "sequentialminus": [
            [
             0,
             "#0d0887"
            ],
            [
             0.1111111111111111,
             "#46039f"
            ],
            [
             0.2222222222222222,
             "#7201a8"
            ],
            [
             0.3333333333333333,
             "#9c179e"
            ],
            [
             0.4444444444444444,
             "#bd3786"
            ],
            [
             0.5555555555555556,
             "#d8576b"
            ],
            [
             0.6666666666666666,
             "#ed7953"
            ],
            [
             0.7777777777777778,
             "#fb9f3a"
            ],
            [
             0.8888888888888888,
             "#fdca26"
            ],
            [
             1,
             "#f0f921"
            ]
           ]
          },
          "colorway": [
           "#636efa",
           "#EF553B",
           "#00cc96",
           "#ab63fa",
           "#FFA15A",
           "#19d3f3",
           "#FF6692",
           "#B6E880",
           "#FF97FF",
           "#FECB52"
          ],
          "font": {
           "color": "#2a3f5f"
          },
          "geo": {
           "bgcolor": "white",
           "lakecolor": "white",
           "landcolor": "#E5ECF6",
           "showlakes": true,
           "showland": true,
           "subunitcolor": "white"
          },
          "hoverlabel": {
           "align": "left"
          },
          "hovermode": "closest",
          "mapbox": {
           "style": "light"
          },
          "paper_bgcolor": "white",
          "plot_bgcolor": "#E5ECF6",
          "polar": {
           "angularaxis": {
            "gridcolor": "white",
            "linecolor": "white",
            "ticks": ""
           },
           "bgcolor": "#E5ECF6",
           "radialaxis": {
            "gridcolor": "white",
            "linecolor": "white",
            "ticks": ""
           }
          },
          "scene": {
           "xaxis": {
            "backgroundcolor": "#E5ECF6",
            "gridcolor": "white",
            "gridwidth": 2,
            "linecolor": "white",
            "showbackground": true,
            "ticks": "",
            "zerolinecolor": "white"
           },
           "yaxis": {
            "backgroundcolor": "#E5ECF6",
            "gridcolor": "white",
            "gridwidth": 2,
            "linecolor": "white",
            "showbackground": true,
            "ticks": "",
            "zerolinecolor": "white"
           },
           "zaxis": {
            "backgroundcolor": "#E5ECF6",
            "gridcolor": "white",
            "gridwidth": 2,
            "linecolor": "white",
            "showbackground": true,
            "ticks": "",
            "zerolinecolor": "white"
           }
          },
          "shapedefaults": {
           "line": {
            "color": "#2a3f5f"
           }
          },
          "ternary": {
           "aaxis": {
            "gridcolor": "white",
            "linecolor": "white",
            "ticks": ""
           },
           "baxis": {
            "gridcolor": "white",
            "linecolor": "white",
            "ticks": ""
           },
           "bgcolor": "#E5ECF6",
           "caxis": {
            "gridcolor": "white",
            "linecolor": "white",
            "ticks": ""
           }
          },
          "title": {
           "x": 0.05
          },
          "xaxis": {
           "automargin": true,
           "gridcolor": "white",
           "linecolor": "white",
           "ticks": "",
           "title": {
            "standoff": 15
           },
           "zerolinecolor": "white",
           "zerolinewidth": 2
          },
          "yaxis": {
           "automargin": true,
           "gridcolor": "white",
           "linecolor": "white",
           "ticks": "",
           "title": {
            "standoff": 15
           },
           "zerolinecolor": "white",
           "zerolinewidth": 2
          }
         }
        },
        "title": {
         "y": 1
        }
       }
      }
     },
     "metadata": {},
     "output_type": "display_data"
    }
   ],
   "source": [
    "df = players_stats.loc[players_stats[\"Position\"] == positions[3]]\n",
    "min_value, max_value = get_min_max_value(df, columns)\n",
    "\n",
    "ROW, COLUMNS = get_rows_columns(df, 4)\n",
    "\n",
    "fig = get_fig_subplots(df, ROWS, COLUMNS)\n",
    "for i, player_name in enumerate(df.index):\n",
    "    _df = df.loc[player_name, columns]\n",
    "    theta_list = get_theta_list(df, player_name, origin_columns, columns)\n",
    "\n",
    "    r, c = get_rc(i, COLUMNS)\n",
    "    fig.add_trace(\n",
    "        go.Scatterpolar(r=_df, theta=theta_list, fill=\"toself\", name=player_name),\n",
    "        row=r,\n",
    "        col=c,\n",
    "    )\n",
    "\n",
    "fig.update_layout(\n",
    "    height=400 * ROWS,\n",
    "    showlegend=False,\n",
    "    polar=dict(\n",
    "        radialaxis=dict(visible=True),\n",
    "    ),\n",
    "    title=dict(y=1),\n",
    ")\n",
    "fig.update_annotations(yshift=20)\n",
    "fig.update_polars(radialaxis=dict(range=[min_value - 0.2, max_value + 0.2]))\n",
    "fig.show()"
   ]
  },
  {
   "cell_type": "code",
   "execution_count": 16,
   "metadata": {},
   "outputs": [
    {
     "data": {
      "application/vnd.plotly.v1+json": {
       "config": {
        "plotlyServerURL": "https://plot.ly"
       },
       "data": [
        {
         "fill": "toself",
         "name": "Busio",
         "r": [
          -0.5820491678263023,
          -0.015208173985815037,
          -1.3923276197958887,
          -0.9853627706094844,
          -1.2182871894372362,
          0.1759769099171078,
          -1.2418354316540496,
          -1.7398919591648578,
          1
         ],
         "subplot": "polar",
         "theta": [
          "_KDA - 3.4",
          "_DPM - 146.7",
          "_CSPM - 0.2",
          "_Gold - 6938.3",
          "_GPM - 214.5",
          "_KP - 0.7",
          "_KS - 0.0",
          "_GS - 0.1",
          "_ChampionsPlayed - 3"
         ],
         "type": "scatterpolar"
        },
        {
         "fill": "toself",
         "name": "Zven",
         "r": [
          0.8093899390737118,
          -1.387183310085885,
          0.3462637383989363,
          0.2068721622490269,
          1.474957546721092,
          -0.1459437897017165,
          -0.014330179460141647,
          0.0017867419464352471,
          -1
         ],
         "subplot": "polar2",
         "theta": [
          "_KDA - 11.3",
          "_DPM - 111.5",
          "_CSPM - 0.6",
          "_Gold - 7460.7",
          "_GPM - 268.7",
          "_KP - 0.7",
          "_KS - 0.1",
          "_GS - 0.1",
          "_ChampionsPlayed - 2"
         ],
         "type": "scatterpolar"
        },
        {
         "fill": "toself",
         "name": "Diamond",
         "r": [
          -0.8275972455145401,
          -1.3530614297926598,
          1.939122671545272,
          -0.44288446357175715,
          -0.2334524808107347,
          0.662915783290121,
          2.2653224317571143,
          1.5779416517503604,
          1
         ],
         "subplot": "polar3",
         "theta": [
          "_KDA - 2.0",
          "_DPM - 112.4",
          "_CSPM - 1.0",
          "_Gold - 7176.0",
          "_GPM - 234.3",
          "_KP - 0.8",
          "_KS - 0.2",
          "_GS - 0.1",
          "_ChampionsPlayed - 3"
         ],
         "type": "scatterpolar"
        },
        {
         "fill": "toself",
         "name": "Eyla",
         "r": [
          0.5755346269896758,
          0.43889329578163755,
          -0.9986760795935076,
          -0.471035511763055,
          -0.15579538076568689,
          -0.08372382254849843,
          -0.7742143831992278,
          -1.0143275923419308,
          -1
         ],
         "subplot": "polar4",
         "theta": [
          "_KDA - 10.0",
          "_DPM - 158.4",
          "_CSPM - 0.3",
          "_Gold - 7163.7",
          "_GPM - 235.9",
          "_KP - 0.7",
          "_KS - 0.0",
          "_GS - 0.1",
          "_ChampionsPlayed - 2"
         ],
         "type": "scatterpolar"
        },
        {
         "fill": "toself",
         "name": "Vulcan",
         "r": [
          -0.7774853929251038,
          1.4622499622939058,
          -0.2493312998609178,
          -0.1628956599393814,
          -1.2448209592580513,
          -0.5814835597742455,
          1.2131750727337662,
          -0.2994005366674342,
          1
         ],
         "subplot": "polar5",
         "theta": [
          "_KDA - 2.3",
          "_DPM - 184.6",
          "_CSPM - 0.5",
          "_Gold - 7298.7",
          "_GPM - 214.0",
          "_KP - 0.7",
          "_KS - 0.1",
          "_GS - 0.1",
          "_ChampionsPlayed - 3"
         ],
         "type": "scatterpolar"
        },
        {
         "fill": "toself",
         "name": "huhi",
         "r": [
          -0.7496454748198613,
          0.6233513990263204,
          0.9171975897718673,
          0.43664558262124636,
          -0.028133025691481645,
          -0.7864434515730816,
          0.4911131596785251,
          0.01413427832256375,
          -1
         ],
         "subplot": "polar6",
         "theta": [
          "_KDA - 2.4",
          "_DPM - 163.1",
          "_CSPM - 0.7",
          "_Gold - 7561.3",
          "_GPM - 238.4",
          "_KP - 0.6",
          "_KS - 0.1",
          "_GS - 0.1",
          "_ChampionsPlayed - 2"
         ],
         "type": "scatterpolar"
        },
        {
         "fill": "toself",
         "name": "Treatz",
         "r": [
          -0.8470851881882097,
          -0.25898284715833353,
          -0.1881247853141407,
          -1.196876051614375,
          -0.5135583520481225,
          -1.6267790079483129,
          -0.5871659638172994,
          -0.7685269909741308,
          -1
         ],
         "subplot": "polar7",
         "theta": [
          "_KDA - 1.9",
          "_DPM - 140.5",
          "_CSPM - 0.5",
          "_Gold - 6845.7",
          "_GPM - 228.7",
          "_KP - 0.6",
          "_KS - 0.0",
          "_GS - 0.1",
          "_ChampionsPlayed - 2"
         ],
         "type": "scatterpolar"
        },
        {
         "fill": "toself",
         "name": "IgNar",
         "r": [
          2.241753725588432,
          0.7363722927209654,
          -1.0925702496586993,
          2.455912660991691,
          0.367383160513849,
          2.392934382184485,
          -0.28378255189295165,
          1.4953984373407423,
          -1
         ],
         "subplot": "polar8",
         "theta": [
          "_KDA - 19.5",
          "_DPM - 166.0",
          "_CSPM - 0.3",
          "_Gold - 8446.0",
          "_GPM - 246.4",
          "_KP - 1.0",
          "_KS - 0.0",
          "_GS - 0.1",
          "_ChampionsPlayed - 2"
         ],
         "type": "scatterpolar"
        },
        {
         "fill": "toself",
         "name": "Chime",
         "r": [
          -0.6522057614515131,
          1.077964297388809,
          0.9890539557038828,
          -0.5813571871073346,
          -0.47084715111844866,
          0.2895959803708113,
          -0.6280828055570956,
          -0.0001363743708744355,
          1
         ],
         "subplot": "polar9",
         "theta": [
          "_KDA - 3.0",
          "_DPM - 174.8",
          "_CSPM - 0.8",
          "_Gold - 7115.3",
          "_GPM - 229.5",
          "_KP - 0.8",
          "_KS - 0.0",
          "_GS - 0.1",
          "_ChampionsPlayed - 3"
         ],
         "type": "scatterpolar"
        },
        {
         "fill": "toself",
         "name": "CoreJJ",
         "r": [
          0.8093899390737118,
          -1.3243954861889422,
          -0.2706079211968079,
          0.7409812387433945,
          2.022553831894821,
          -0.29704942421667574,
          -0.44019934858864124,
          0.7330223441591347,
          1
         ],
         "subplot": "polar10",
         "theta": [
          "_KDA - 11.3",
          "_DPM - 113.2",
          "_CSPM - 0.5",
          "_Gold - 7694.7",
          "_GPM - 279.7",
          "_KP - 0.7",
          "_KS - 0.0",
          "_GS - 0.1",
          "_ChampionsPlayed - 3"
         ],
         "type": "scatterpolar"
        }
       ],
       "layout": {
        "annotations": [
         {
          "font": {
           "size": 16
          },
          "showarrow": false,
          "text": "Busio",
          "x": 0.10625,
          "xanchor": "center",
          "xref": "paper",
          "y": 1,
          "yanchor": "bottom",
          "yref": "paper",
          "yshift": 20
         },
         {
          "font": {
           "size": 16
          },
          "showarrow": false,
          "text": "Zven",
          "x": 0.36875,
          "xanchor": "center",
          "xref": "paper",
          "y": 1,
          "yanchor": "bottom",
          "yref": "paper",
          "yshift": 20
         },
         {
          "font": {
           "size": 16
          },
          "showarrow": false,
          "text": "Diamond",
          "x": 0.6312500000000001,
          "xanchor": "center",
          "xref": "paper",
          "y": 1,
          "yanchor": "bottom",
          "yref": "paper",
          "yshift": 20
         },
         {
          "font": {
           "size": 16
          },
          "showarrow": false,
          "text": "Eyla",
          "x": 0.89375,
          "xanchor": "center",
          "xref": "paper",
          "y": 1,
          "yanchor": "bottom",
          "yref": "paper",
          "yshift": 20
         },
         {
          "font": {
           "size": 16
          },
          "showarrow": false,
          "text": "Vulcan",
          "x": 0.10625,
          "xanchor": "center",
          "xref": "paper",
          "y": 0.6111111111111112,
          "yanchor": "bottom",
          "yref": "paper",
          "yshift": 20
         },
         {
          "font": {
           "size": 16
          },
          "showarrow": false,
          "text": "huhi",
          "x": 0.36875,
          "xanchor": "center",
          "xref": "paper",
          "y": 0.6111111111111112,
          "yanchor": "bottom",
          "yref": "paper",
          "yshift": 20
         },
         {
          "font": {
           "size": 16
          },
          "showarrow": false,
          "text": "Treatz",
          "x": 0.6312500000000001,
          "xanchor": "center",
          "xref": "paper",
          "y": 0.6111111111111112,
          "yanchor": "bottom",
          "yref": "paper",
          "yshift": 20
         },
         {
          "font": {
           "size": 16
          },
          "showarrow": false,
          "text": "IgNar",
          "x": 0.89375,
          "xanchor": "center",
          "xref": "paper",
          "y": 0.6111111111111112,
          "yanchor": "bottom",
          "yref": "paper",
          "yshift": 20
         },
         {
          "font": {
           "size": 16
          },
          "showarrow": false,
          "text": "Chime",
          "x": 0.10625,
          "xanchor": "center",
          "xref": "paper",
          "y": 0.22222222222222224,
          "yanchor": "bottom",
          "yref": "paper",
          "yshift": 20
         },
         {
          "font": {
           "size": 16
          },
          "showarrow": false,
          "text": "CoreJJ",
          "x": 0.36875,
          "xanchor": "center",
          "xref": "paper",
          "y": 0.22222222222222224,
          "yanchor": "bottom",
          "yref": "paper",
          "yshift": 20
         }
        ],
        "height": 1200,
        "polar": {
         "domain": {
          "x": [
           0,
           0.2125
          ],
          "y": [
           0.7777777777777778,
           1
          ]
         },
         "radialaxis": {
          "range": [
           -1.9398919591648578,
           2.655912660991691
          ],
          "visible": true
         }
        },
        "polar10": {
         "domain": {
          "x": [
           0.2625,
           0.475
          ],
          "y": [
           0,
           0.22222222222222224
          ]
         },
         "radialaxis": {
          "range": [
           -1.9398919591648578,
           2.655912660991691
          ]
         }
        },
        "polar11": {
         "domain": {
          "x": [
           0.525,
           0.7375
          ],
          "y": [
           0,
           0.22222222222222224
          ]
         },
         "radialaxis": {
          "range": [
           -1.9398919591648578,
           2.655912660991691
          ]
         }
        },
        "polar12": {
         "domain": {
          "x": [
           0.7875,
           1
          ],
          "y": [
           0,
           0.22222222222222224
          ]
         },
         "radialaxis": {
          "range": [
           -1.9398919591648578,
           2.655912660991691
          ]
         }
        },
        "polar2": {
         "domain": {
          "x": [
           0.2625,
           0.475
          ],
          "y": [
           0.7777777777777778,
           1
          ]
         },
         "radialaxis": {
          "range": [
           -1.9398919591648578,
           2.655912660991691
          ]
         }
        },
        "polar3": {
         "domain": {
          "x": [
           0.525,
           0.7375
          ],
          "y": [
           0.7777777777777778,
           1
          ]
         },
         "radialaxis": {
          "range": [
           -1.9398919591648578,
           2.655912660991691
          ]
         }
        },
        "polar4": {
         "domain": {
          "x": [
           0.7875,
           1
          ],
          "y": [
           0.7777777777777778,
           1
          ]
         },
         "radialaxis": {
          "range": [
           -1.9398919591648578,
           2.655912660991691
          ]
         }
        },
        "polar5": {
         "domain": {
          "x": [
           0,
           0.2125
          ],
          "y": [
           0.3888888888888889,
           0.6111111111111112
          ]
         },
         "radialaxis": {
          "range": [
           -1.9398919591648578,
           2.655912660991691
          ]
         }
        },
        "polar6": {
         "domain": {
          "x": [
           0.2625,
           0.475
          ],
          "y": [
           0.3888888888888889,
           0.6111111111111112
          ]
         },
         "radialaxis": {
          "range": [
           -1.9398919591648578,
           2.655912660991691
          ]
         }
        },
        "polar7": {
         "domain": {
          "x": [
           0.525,
           0.7375
          ],
          "y": [
           0.3888888888888889,
           0.6111111111111112
          ]
         },
         "radialaxis": {
          "range": [
           -1.9398919591648578,
           2.655912660991691
          ]
         }
        },
        "polar8": {
         "domain": {
          "x": [
           0.7875,
           1
          ],
          "y": [
           0.3888888888888889,
           0.6111111111111112
          ]
         },
         "radialaxis": {
          "range": [
           -1.9398919591648578,
           2.655912660991691
          ]
         }
        },
        "polar9": {
         "domain": {
          "x": [
           0,
           0.2125
          ],
          "y": [
           0,
           0.22222222222222224
          ]
         },
         "radialaxis": {
          "range": [
           -1.9398919591648578,
           2.655912660991691
          ]
         }
        },
        "showlegend": false,
        "template": {
         "data": {
          "bar": [
           {
            "error_x": {
             "color": "#2a3f5f"
            },
            "error_y": {
             "color": "#2a3f5f"
            },
            "marker": {
             "line": {
              "color": "#E5ECF6",
              "width": 0.5
             },
             "pattern": {
              "fillmode": "overlay",
              "size": 10,
              "solidity": 0.2
             }
            },
            "type": "bar"
           }
          ],
          "barpolar": [
           {
            "marker": {
             "line": {
              "color": "#E5ECF6",
              "width": 0.5
             },
             "pattern": {
              "fillmode": "overlay",
              "size": 10,
              "solidity": 0.2
             }
            },
            "type": "barpolar"
           }
          ],
          "carpet": [
           {
            "aaxis": {
             "endlinecolor": "#2a3f5f",
             "gridcolor": "white",
             "linecolor": "white",
             "minorgridcolor": "white",
             "startlinecolor": "#2a3f5f"
            },
            "baxis": {
             "endlinecolor": "#2a3f5f",
             "gridcolor": "white",
             "linecolor": "white",
             "minorgridcolor": "white",
             "startlinecolor": "#2a3f5f"
            },
            "type": "carpet"
           }
          ],
          "choropleth": [
           {
            "colorbar": {
             "outlinewidth": 0,
             "ticks": ""
            },
            "type": "choropleth"
           }
          ],
          "contour": [
           {
            "colorbar": {
             "outlinewidth": 0,
             "ticks": ""
            },
            "colorscale": [
             [
              0,
              "#0d0887"
             ],
             [
              0.1111111111111111,
              "#46039f"
             ],
             [
              0.2222222222222222,
              "#7201a8"
             ],
             [
              0.3333333333333333,
              "#9c179e"
             ],
             [
              0.4444444444444444,
              "#bd3786"
             ],
             [
              0.5555555555555556,
              "#d8576b"
             ],
             [
              0.6666666666666666,
              "#ed7953"
             ],
             [
              0.7777777777777778,
              "#fb9f3a"
             ],
             [
              0.8888888888888888,
              "#fdca26"
             ],
             [
              1,
              "#f0f921"
             ]
            ],
            "type": "contour"
           }
          ],
          "contourcarpet": [
           {
            "colorbar": {
             "outlinewidth": 0,
             "ticks": ""
            },
            "type": "contourcarpet"
           }
          ],
          "heatmap": [
           {
            "colorbar": {
             "outlinewidth": 0,
             "ticks": ""
            },
            "colorscale": [
             [
              0,
              "#0d0887"
             ],
             [
              0.1111111111111111,
              "#46039f"
             ],
             [
              0.2222222222222222,
              "#7201a8"
             ],
             [
              0.3333333333333333,
              "#9c179e"
             ],
             [
              0.4444444444444444,
              "#bd3786"
             ],
             [
              0.5555555555555556,
              "#d8576b"
             ],
             [
              0.6666666666666666,
              "#ed7953"
             ],
             [
              0.7777777777777778,
              "#fb9f3a"
             ],
             [
              0.8888888888888888,
              "#fdca26"
             ],
             [
              1,
              "#f0f921"
             ]
            ],
            "type": "heatmap"
           }
          ],
          "heatmapgl": [
           {
            "colorbar": {
             "outlinewidth": 0,
             "ticks": ""
            },
            "colorscale": [
             [
              0,
              "#0d0887"
             ],
             [
              0.1111111111111111,
              "#46039f"
             ],
             [
              0.2222222222222222,
              "#7201a8"
             ],
             [
              0.3333333333333333,
              "#9c179e"
             ],
             [
              0.4444444444444444,
              "#bd3786"
             ],
             [
              0.5555555555555556,
              "#d8576b"
             ],
             [
              0.6666666666666666,
              "#ed7953"
             ],
             [
              0.7777777777777778,
              "#fb9f3a"
             ],
             [
              0.8888888888888888,
              "#fdca26"
             ],
             [
              1,
              "#f0f921"
             ]
            ],
            "type": "heatmapgl"
           }
          ],
          "histogram": [
           {
            "marker": {
             "pattern": {
              "fillmode": "overlay",
              "size": 10,
              "solidity": 0.2
             }
            },
            "type": "histogram"
           }
          ],
          "histogram2d": [
           {
            "colorbar": {
             "outlinewidth": 0,
             "ticks": ""
            },
            "colorscale": [
             [
              0,
              "#0d0887"
             ],
             [
              0.1111111111111111,
              "#46039f"
             ],
             [
              0.2222222222222222,
              "#7201a8"
             ],
             [
              0.3333333333333333,
              "#9c179e"
             ],
             [
              0.4444444444444444,
              "#bd3786"
             ],
             [
              0.5555555555555556,
              "#d8576b"
             ],
             [
              0.6666666666666666,
              "#ed7953"
             ],
             [
              0.7777777777777778,
              "#fb9f3a"
             ],
             [
              0.8888888888888888,
              "#fdca26"
             ],
             [
              1,
              "#f0f921"
             ]
            ],
            "type": "histogram2d"
           }
          ],
          "histogram2dcontour": [
           {
            "colorbar": {
             "outlinewidth": 0,
             "ticks": ""
            },
            "colorscale": [
             [
              0,
              "#0d0887"
             ],
             [
              0.1111111111111111,
              "#46039f"
             ],
             [
              0.2222222222222222,
              "#7201a8"
             ],
             [
              0.3333333333333333,
              "#9c179e"
             ],
             [
              0.4444444444444444,
              "#bd3786"
             ],
             [
              0.5555555555555556,
              "#d8576b"
             ],
             [
              0.6666666666666666,
              "#ed7953"
             ],
             [
              0.7777777777777778,
              "#fb9f3a"
             ],
             [
              0.8888888888888888,
              "#fdca26"
             ],
             [
              1,
              "#f0f921"
             ]
            ],
            "type": "histogram2dcontour"
           }
          ],
          "mesh3d": [
           {
            "colorbar": {
             "outlinewidth": 0,
             "ticks": ""
            },
            "type": "mesh3d"
           }
          ],
          "parcoords": [
           {
            "line": {
             "colorbar": {
              "outlinewidth": 0,
              "ticks": ""
             }
            },
            "type": "parcoords"
           }
          ],
          "pie": [
           {
            "automargin": true,
            "type": "pie"
           }
          ],
          "scatter": [
           {
            "fillpattern": {
             "fillmode": "overlay",
             "size": 10,
             "solidity": 0.2
            },
            "type": "scatter"
           }
          ],
          "scatter3d": [
           {
            "line": {
             "colorbar": {
              "outlinewidth": 0,
              "ticks": ""
             }
            },
            "marker": {
             "colorbar": {
              "outlinewidth": 0,
              "ticks": ""
             }
            },
            "type": "scatter3d"
           }
          ],
          "scattercarpet": [
           {
            "marker": {
             "colorbar": {
              "outlinewidth": 0,
              "ticks": ""
             }
            },
            "type": "scattercarpet"
           }
          ],
          "scattergeo": [
           {
            "marker": {
             "colorbar": {
              "outlinewidth": 0,
              "ticks": ""
             }
            },
            "type": "scattergeo"
           }
          ],
          "scattergl": [
           {
            "marker": {
             "colorbar": {
              "outlinewidth": 0,
              "ticks": ""
             }
            },
            "type": "scattergl"
           }
          ],
          "scattermapbox": [
           {
            "marker": {
             "colorbar": {
              "outlinewidth": 0,
              "ticks": ""
             }
            },
            "type": "scattermapbox"
           }
          ],
          "scatterpolar": [
           {
            "marker": {
             "colorbar": {
              "outlinewidth": 0,
              "ticks": ""
             }
            },
            "type": "scatterpolar"
           }
          ],
          "scatterpolargl": [
           {
            "marker": {
             "colorbar": {
              "outlinewidth": 0,
              "ticks": ""
             }
            },
            "type": "scatterpolargl"
           }
          ],
          "scatterternary": [
           {
            "marker": {
             "colorbar": {
              "outlinewidth": 0,
              "ticks": ""
             }
            },
            "type": "scatterternary"
           }
          ],
          "surface": [
           {
            "colorbar": {
             "outlinewidth": 0,
             "ticks": ""
            },
            "colorscale": [
             [
              0,
              "#0d0887"
             ],
             [
              0.1111111111111111,
              "#46039f"
             ],
             [
              0.2222222222222222,
              "#7201a8"
             ],
             [
              0.3333333333333333,
              "#9c179e"
             ],
             [
              0.4444444444444444,
              "#bd3786"
             ],
             [
              0.5555555555555556,
              "#d8576b"
             ],
             [
              0.6666666666666666,
              "#ed7953"
             ],
             [
              0.7777777777777778,
              "#fb9f3a"
             ],
             [
              0.8888888888888888,
              "#fdca26"
             ],
             [
              1,
              "#f0f921"
             ]
            ],
            "type": "surface"
           }
          ],
          "table": [
           {
            "cells": {
             "fill": {
              "color": "#EBF0F8"
             },
             "line": {
              "color": "white"
             }
            },
            "header": {
             "fill": {
              "color": "#C8D4E3"
             },
             "line": {
              "color": "white"
             }
            },
            "type": "table"
           }
          ]
         },
         "layout": {
          "annotationdefaults": {
           "arrowcolor": "#2a3f5f",
           "arrowhead": 0,
           "arrowwidth": 1
          },
          "autotypenumbers": "strict",
          "coloraxis": {
           "colorbar": {
            "outlinewidth": 0,
            "ticks": ""
           }
          },
          "colorscale": {
           "diverging": [
            [
             0,
             "#8e0152"
            ],
            [
             0.1,
             "#c51b7d"
            ],
            [
             0.2,
             "#de77ae"
            ],
            [
             0.3,
             "#f1b6da"
            ],
            [
             0.4,
             "#fde0ef"
            ],
            [
             0.5,
             "#f7f7f7"
            ],
            [
             0.6,
             "#e6f5d0"
            ],
            [
             0.7,
             "#b8e186"
            ],
            [
             0.8,
             "#7fbc41"
            ],
            [
             0.9,
             "#4d9221"
            ],
            [
             1,
             "#276419"
            ]
           ],
           "sequential": [
            [
             0,
             "#0d0887"
            ],
            [
             0.1111111111111111,
             "#46039f"
            ],
            [
             0.2222222222222222,
             "#7201a8"
            ],
            [
             0.3333333333333333,
             "#9c179e"
            ],
            [
             0.4444444444444444,
             "#bd3786"
            ],
            [
             0.5555555555555556,
             "#d8576b"
            ],
            [
             0.6666666666666666,
             "#ed7953"
            ],
            [
             0.7777777777777778,
             "#fb9f3a"
            ],
            [
             0.8888888888888888,
             "#fdca26"
            ],
            [
             1,
             "#f0f921"
            ]
           ],
           "sequentialminus": [
            [
             0,
             "#0d0887"
            ],
            [
             0.1111111111111111,
             "#46039f"
            ],
            [
             0.2222222222222222,
             "#7201a8"
            ],
            [
             0.3333333333333333,
             "#9c179e"
            ],
            [
             0.4444444444444444,
             "#bd3786"
            ],
            [
             0.5555555555555556,
             "#d8576b"
            ],
            [
             0.6666666666666666,
             "#ed7953"
            ],
            [
             0.7777777777777778,
             "#fb9f3a"
            ],
            [
             0.8888888888888888,
             "#fdca26"
            ],
            [
             1,
             "#f0f921"
            ]
           ]
          },
          "colorway": [
           "#636efa",
           "#EF553B",
           "#00cc96",
           "#ab63fa",
           "#FFA15A",
           "#19d3f3",
           "#FF6692",
           "#B6E880",
           "#FF97FF",
           "#FECB52"
          ],
          "font": {
           "color": "#2a3f5f"
          },
          "geo": {
           "bgcolor": "white",
           "lakecolor": "white",
           "landcolor": "#E5ECF6",
           "showlakes": true,
           "showland": true,
           "subunitcolor": "white"
          },
          "hoverlabel": {
           "align": "left"
          },
          "hovermode": "closest",
          "mapbox": {
           "style": "light"
          },
          "paper_bgcolor": "white",
          "plot_bgcolor": "#E5ECF6",
          "polar": {
           "angularaxis": {
            "gridcolor": "white",
            "linecolor": "white",
            "ticks": ""
           },
           "bgcolor": "#E5ECF6",
           "radialaxis": {
            "gridcolor": "white",
            "linecolor": "white",
            "ticks": ""
           }
          },
          "scene": {
           "xaxis": {
            "backgroundcolor": "#E5ECF6",
            "gridcolor": "white",
            "gridwidth": 2,
            "linecolor": "white",
            "showbackground": true,
            "ticks": "",
            "zerolinecolor": "white"
           },
           "yaxis": {
            "backgroundcolor": "#E5ECF6",
            "gridcolor": "white",
            "gridwidth": 2,
            "linecolor": "white",
            "showbackground": true,
            "ticks": "",
            "zerolinecolor": "white"
           },
           "zaxis": {
            "backgroundcolor": "#E5ECF6",
            "gridcolor": "white",
            "gridwidth": 2,
            "linecolor": "white",
            "showbackground": true,
            "ticks": "",
            "zerolinecolor": "white"
           }
          },
          "shapedefaults": {
           "line": {
            "color": "#2a3f5f"
           }
          },
          "ternary": {
           "aaxis": {
            "gridcolor": "white",
            "linecolor": "white",
            "ticks": ""
           },
           "baxis": {
            "gridcolor": "white",
            "linecolor": "white",
            "ticks": ""
           },
           "bgcolor": "#E5ECF6",
           "caxis": {
            "gridcolor": "white",
            "linecolor": "white",
            "ticks": ""
           }
          },
          "title": {
           "x": 0.05
          },
          "xaxis": {
           "automargin": true,
           "gridcolor": "white",
           "linecolor": "white",
           "ticks": "",
           "title": {
            "standoff": 15
           },
           "zerolinecolor": "white",
           "zerolinewidth": 2
          },
          "yaxis": {
           "automargin": true,
           "gridcolor": "white",
           "linecolor": "white",
           "ticks": "",
           "title": {
            "standoff": 15
           },
           "zerolinecolor": "white",
           "zerolinewidth": 2
          }
         }
        },
        "title": {
         "y": 1
        }
       }
      }
     },
     "metadata": {},
     "output_type": "display_data"
    }
   ],
   "source": [
    "df = players_stats.loc[players_stats[\"Position\"] == positions[4]]\n",
    "min_value, max_value = get_min_max_value(df, columns)\n",
    "\n",
    "ROW, COLUMNS = get_rows_columns(df, 4)\n",
    "\n",
    "fig = get_fig_subplots(df, ROWS, COLUMNS)\n",
    "for i, player_name in enumerate(df.index):\n",
    "    _df = df.loc[player_name, columns]\n",
    "    theta_list = get_theta_list(df, player_name, origin_columns, columns)\n",
    "\n",
    "    r, c = get_rc(i, COLUMNS)\n",
    "    fig.add_trace(\n",
    "        go.Scatterpolar(r=_df, theta=theta_list, fill=\"toself\", name=player_name),\n",
    "        row=r,\n",
    "        col=c,\n",
    "    )\n",
    "\n",
    "fig.update_layout(\n",
    "    height=400 * ROWS,\n",
    "    showlegend=False,\n",
    "    polar=dict(\n",
    "        radialaxis=dict(visible=True),\n",
    "    ),\n",
    "    title=dict(y=1),\n",
    ")\n",
    "fig.update_annotations(yshift=20)\n",
    "fig.update_polars(radialaxis=dict(range=[min_value - 0.2, max_value + 0.2]))\n",
    "fig.show()"
   ]
  },
  {
   "cell_type": "code",
   "execution_count": null,
   "metadata": {},
   "outputs": [],
   "source": []
  }
 ],
 "metadata": {
  "kernelspec": {
   "display_name": "Python 3",
   "language": "python",
   "name": "python3"
  },
  "language_info": {
   "codemirror_mode": {
    "name": "ipython",
    "version": 3
   },
   "file_extension": ".py",
   "mimetype": "text/x-python",
   "name": "python",
   "nbconvert_exporter": "python",
   "pygments_lexer": "ipython3",
   "version": "3.11.3"
  },
  "orig_nbformat": 4,
  "vscode": {
   "interpreter": {
    "hash": "cc0362ac4c7af633927c7f13c3a204675dc26ff026425e1d1bcaf453ea76d9c8"
   }
  }
 },
 "nbformat": 4,
 "nbformat_minor": 2
}
