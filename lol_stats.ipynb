{
 "cells": [
  {
   "cell_type": "code",
   "execution_count": 1,
   "metadata": {},
   "outputs": [],
   "source": [
    "import numpy as np\n",
    "import pandas as pd\n",
    "import matplotlib as mpl\n",
    "import matplotlib.pyplot as plt\n",
    "import seaborn as sns\n",
    "from sklearn.preprocessing import StandardScaler\n",
    "import plotly.express as px\n",
    "import plotly.graph_objects as go\n",
    "from plotly.subplots import make_subplots\n",
    "import pandas as pd\n",
    "\n",
    "\n",
    "pd.set_option(\"display.max_columns\", None)"
   ]
  },
  {
   "cell_type": "code",
   "execution_count": 2,
   "metadata": {},
   "outputs": [
    {
     "data": {
      "text/html": [
       "<div>\n",
       "<style scoped>\n",
       "    .dataframe tbody tr th:only-of-type {\n",
       "        vertical-align: middle;\n",
       "    }\n",
       "\n",
       "    .dataframe tbody tr th {\n",
       "        vertical-align: top;\n",
       "    }\n",
       "\n",
       "    .dataframe thead th {\n",
       "        text-align: right;\n",
       "    }\n",
       "</style>\n",
       "<table border=\"1\" class=\"dataframe\">\n",
       "  <thead>\n",
       "    <tr style=\"text-align: right;\">\n",
       "      <th></th>\n",
       "      <th>Games</th>\n",
       "      <th>Win</th>\n",
       "      <th>Loss</th>\n",
       "      <th>WinRate</th>\n",
       "      <th>KD</th>\n",
       "      <th>CKPM</th>\n",
       "      <th>GameDuration</th>\n",
       "      <th>WinGameDuration</th>\n",
       "      <th>LossGameDuration</th>\n",
       "      <th>GPM</th>\n",
       "      <th>GDPM</th>\n",
       "      <th>KPM</th>\n",
       "    </tr>\n",
       "    <tr>\n",
       "      <th>Team</th>\n",
       "      <th></th>\n",
       "      <th></th>\n",
       "      <th></th>\n",
       "      <th></th>\n",
       "      <th></th>\n",
       "      <th></th>\n",
       "      <th></th>\n",
       "      <th></th>\n",
       "      <th></th>\n",
       "      <th></th>\n",
       "      <th></th>\n",
       "      <th></th>\n",
       "    </tr>\n",
       "  </thead>\n",
       "  <tbody>\n",
       "    <tr>\n",
       "      <th>DRX</th>\n",
       "      <td>2.0</td>\n",
       "      <td>0.0</td>\n",
       "      <td>2.0</td>\n",
       "      <td>0.000000</td>\n",
       "      <td>0.656250</td>\n",
       "      <td>0.719064</td>\n",
       "      <td>35.908333</td>\n",
       "      <td>NaN</td>\n",
       "      <td>35.908333</td>\n",
       "      <td>1603.481027</td>\n",
       "      <td>-339.368203</td>\n",
       "      <td>0.273050</td>\n",
       "    </tr>\n",
       "    <tr>\n",
       "      <th>Dplus KIA</th>\n",
       "      <td>2.0</td>\n",
       "      <td>2.0</td>\n",
       "      <td>0.0</td>\n",
       "      <td>1.000000</td>\n",
       "      <td>5.500000</td>\n",
       "      <td>0.661418</td>\n",
       "      <td>29.533333</td>\n",
       "      <td>29.533333</td>\n",
       "      <td>NaN</td>\n",
       "      <td>2030.150968</td>\n",
       "      <td>483.449489</td>\n",
       "      <td>0.559435</td>\n",
       "    </tr>\n",
       "    <tr>\n",
       "      <th>Gen.G</th>\n",
       "      <td>3.0</td>\n",
       "      <td>2.0</td>\n",
       "      <td>1.0</td>\n",
       "      <td>0.666667</td>\n",
       "      <td>1.272727</td>\n",
       "      <td>0.665714</td>\n",
       "      <td>25.483333</td>\n",
       "      <td>26.208333</td>\n",
       "      <td>24.033333</td>\n",
       "      <td>1931.308783</td>\n",
       "      <td>186.209093</td>\n",
       "      <td>0.360640</td>\n",
       "    </tr>\n",
       "    <tr>\n",
       "      <th>Hanwha Life Esports</th>\n",
       "      <td>6.0</td>\n",
       "      <td>2.0</td>\n",
       "      <td>4.0</td>\n",
       "      <td>0.333333</td>\n",
       "      <td>0.943396</td>\n",
       "      <td>0.551859</td>\n",
       "      <td>31.216667</td>\n",
       "      <td>36.833333</td>\n",
       "      <td>28.408333</td>\n",
       "      <td>1721.325052</td>\n",
       "      <td>-124.788857</td>\n",
       "      <td>0.257493</td>\n",
       "    </tr>\n",
       "    <tr>\n",
       "      <th>KT Rolster</th>\n",
       "      <td>6.0</td>\n",
       "      <td>3.0</td>\n",
       "      <td>3.0</td>\n",
       "      <td>0.500000</td>\n",
       "      <td>0.912281</td>\n",
       "      <td>0.666317</td>\n",
       "      <td>27.383333</td>\n",
       "      <td>27.450000</td>\n",
       "      <td>27.316667</td>\n",
       "      <td>1777.561532</td>\n",
       "      <td>-91.870507</td>\n",
       "      <td>0.323347</td>\n",
       "    </tr>\n",
       "    <tr>\n",
       "      <th>Kwangdong Freecs</th>\n",
       "      <td>4.0</td>\n",
       "      <td>4.0</td>\n",
       "      <td>0.0</td>\n",
       "      <td>1.000000</td>\n",
       "      <td>1.821429</td>\n",
       "      <td>0.569403</td>\n",
       "      <td>33.491667</td>\n",
       "      <td>33.491667</td>\n",
       "      <td>NaN</td>\n",
       "      <td>1912.899783</td>\n",
       "      <td>321.885142</td>\n",
       "      <td>0.376222</td>\n",
       "    </tr>\n",
       "    <tr>\n",
       "      <th>Liiv SANDBOX</th>\n",
       "      <td>4.0</td>\n",
       "      <td>2.0</td>\n",
       "      <td>2.0</td>\n",
       "      <td>0.500000</td>\n",
       "      <td>0.853659</td>\n",
       "      <td>0.663212</td>\n",
       "      <td>28.608333</td>\n",
       "      <td>27.683333</td>\n",
       "      <td>29.533333</td>\n",
       "      <td>1747.703572</td>\n",
       "      <td>-42.797850</td>\n",
       "      <td>0.311858</td>\n",
       "    </tr>\n",
       "    <tr>\n",
       "      <th>Nongshim RedForce</th>\n",
       "      <td>5.0</td>\n",
       "      <td>2.0</td>\n",
       "      <td>3.0</td>\n",
       "      <td>0.400000</td>\n",
       "      <td>0.680851</td>\n",
       "      <td>0.531630</td>\n",
       "      <td>30.526667</td>\n",
       "      <td>32.591667</td>\n",
       "      <td>29.150000</td>\n",
       "      <td>1702.368174</td>\n",
       "      <td>-111.120823</td>\n",
       "      <td>0.209313</td>\n",
       "    </tr>\n",
       "    <tr>\n",
       "      <th>OKSavingsBank BRION</th>\n",
       "      <td>5.0</td>\n",
       "      <td>1.0</td>\n",
       "      <td>4.0</td>\n",
       "      <td>0.200000</td>\n",
       "      <td>0.581395</td>\n",
       "      <td>0.433524</td>\n",
       "      <td>31.883333</td>\n",
       "      <td>32.083333</td>\n",
       "      <td>31.833333</td>\n",
       "      <td>1665.426032</td>\n",
       "      <td>-169.781526</td>\n",
       "      <td>0.158949</td>\n",
       "    </tr>\n",
       "    <tr>\n",
       "      <th>T1</th>\n",
       "      <td>3.0</td>\n",
       "      <td>2.0</td>\n",
       "      <td>1.0</td>\n",
       "      <td>0.666667</td>\n",
       "      <td>1.095238</td>\n",
       "      <td>0.436797</td>\n",
       "      <td>33.150000</td>\n",
       "      <td>27.658333</td>\n",
       "      <td>44.133333</td>\n",
       "      <td>1882.204443</td>\n",
       "      <td>247.109634</td>\n",
       "      <td>0.247111</td>\n",
       "    </tr>\n",
       "  </tbody>\n",
       "</table>\n",
       "</div>"
      ],
      "text/plain": [
       "                     Games  Win  Loss   WinRate        KD      CKPM   \n",
       "Team                                                                  \n",
       "DRX                    2.0  0.0   2.0  0.000000  0.656250  0.719064  \\\n",
       "Dplus KIA              2.0  2.0   0.0  1.000000  5.500000  0.661418   \n",
       "Gen.G                  3.0  2.0   1.0  0.666667  1.272727  0.665714   \n",
       "Hanwha Life Esports    6.0  2.0   4.0  0.333333  0.943396  0.551859   \n",
       "KT Rolster             6.0  3.0   3.0  0.500000  0.912281  0.666317   \n",
       "Kwangdong Freecs       4.0  4.0   0.0  1.000000  1.821429  0.569403   \n",
       "Liiv SANDBOX           4.0  2.0   2.0  0.500000  0.853659  0.663212   \n",
       "Nongshim RedForce      5.0  2.0   3.0  0.400000  0.680851  0.531630   \n",
       "OKSavingsBank BRION    5.0  1.0   4.0  0.200000  0.581395  0.433524   \n",
       "T1                     3.0  2.0   1.0  0.666667  1.095238  0.436797   \n",
       "\n",
       "                     GameDuration  WinGameDuration  LossGameDuration   \n",
       "Team                                                                   \n",
       "DRX                     35.908333              NaN         35.908333  \\\n",
       "Dplus KIA               29.533333        29.533333               NaN   \n",
       "Gen.G                   25.483333        26.208333         24.033333   \n",
       "Hanwha Life Esports     31.216667        36.833333         28.408333   \n",
       "KT Rolster              27.383333        27.450000         27.316667   \n",
       "Kwangdong Freecs        33.491667        33.491667               NaN   \n",
       "Liiv SANDBOX            28.608333        27.683333         29.533333   \n",
       "Nongshim RedForce       30.526667        32.591667         29.150000   \n",
       "OKSavingsBank BRION     31.883333        32.083333         31.833333   \n",
       "T1                      33.150000        27.658333         44.133333   \n",
       "\n",
       "                             GPM        GDPM       KPM  \n",
       "Team                                                    \n",
       "DRX                  1603.481027 -339.368203  0.273050  \n",
       "Dplus KIA            2030.150968  483.449489  0.559435  \n",
       "Gen.G                1931.308783  186.209093  0.360640  \n",
       "Hanwha Life Esports  1721.325052 -124.788857  0.257493  \n",
       "KT Rolster           1777.561532  -91.870507  0.323347  \n",
       "Kwangdong Freecs     1912.899783  321.885142  0.376222  \n",
       "Liiv SANDBOX         1747.703572  -42.797850  0.311858  \n",
       "Nongshim RedForce    1702.368174 -111.120823  0.209313  \n",
       "OKSavingsBank BRION  1665.426032 -169.781526  0.158949  \n",
       "T1                   1882.204443  247.109634  0.247111  "
      ]
     },
     "execution_count": 2,
     "metadata": {},
     "output_type": "execute_result"
    }
   ],
   "source": [
    "teams_stats = pd.read_csv(\"./csv/stats/teams.csv\", index_col=\"Team\")\n",
    "teams_stats"
   ]
  },
  {
   "cell_type": "code",
   "execution_count": 3,
   "metadata": {},
   "outputs": [
    {
     "data": {
      "text/html": [
       "<div>\n",
       "<style scoped>\n",
       "    .dataframe tbody tr th:only-of-type {\n",
       "        vertical-align: middle;\n",
       "    }\n",
       "\n",
       "    .dataframe tbody tr th {\n",
       "        vertical-align: top;\n",
       "    }\n",
       "\n",
       "    .dataframe thead th {\n",
       "        text-align: right;\n",
       "    }\n",
       "</style>\n",
       "<table border=\"1\" class=\"dataframe\">\n",
       "  <thead>\n",
       "    <tr style=\"text-align: right;\">\n",
       "      <th></th>\n",
       "      <th>Games</th>\n",
       "      <th>Win</th>\n",
       "      <th>Loss</th>\n",
       "      <th>WinRate</th>\n",
       "      <th>KD</th>\n",
       "      <th>CKPM</th>\n",
       "      <th>GameDuration</th>\n",
       "      <th>WinGameDuration</th>\n",
       "      <th>LossGameDuration</th>\n",
       "      <th>GPM</th>\n",
       "      <th>GDPM</th>\n",
       "      <th>KPM</th>\n",
       "      <th>_KD</th>\n",
       "      <th>_CKPM</th>\n",
       "      <th>_GPM</th>\n",
       "      <th>_GDPM</th>\n",
       "      <th>_KPM</th>\n",
       "    </tr>\n",
       "    <tr>\n",
       "      <th>Team</th>\n",
       "      <th></th>\n",
       "      <th></th>\n",
       "      <th></th>\n",
       "      <th></th>\n",
       "      <th></th>\n",
       "      <th></th>\n",
       "      <th></th>\n",
       "      <th></th>\n",
       "      <th></th>\n",
       "      <th></th>\n",
       "      <th></th>\n",
       "      <th></th>\n",
       "      <th></th>\n",
       "      <th></th>\n",
       "      <th></th>\n",
       "      <th></th>\n",
       "      <th></th>\n",
       "    </tr>\n",
       "  </thead>\n",
       "  <tbody>\n",
       "    <tr>\n",
       "      <th>DRX</th>\n",
       "      <td>2.0</td>\n",
       "      <td>0.0</td>\n",
       "      <td>2.0</td>\n",
       "      <td>0.000000</td>\n",
       "      <td>0.656250</td>\n",
       "      <td>0.719064</td>\n",
       "      <td>35.908333</td>\n",
       "      <td>NaN</td>\n",
       "      <td>35.908333</td>\n",
       "      <td>1603.481027</td>\n",
       "      <td>-339.368203</td>\n",
       "      <td>0.273050</td>\n",
       "      <td>-0.554306</td>\n",
       "      <td>1.347303</td>\n",
       "      <td>-1.508438</td>\n",
       "      <td>-1.528971</td>\n",
       "      <td>-0.330279</td>\n",
       "    </tr>\n",
       "    <tr>\n",
       "      <th>Dplus KIA</th>\n",
       "      <td>2.0</td>\n",
       "      <td>2.0</td>\n",
       "      <td>0.0</td>\n",
       "      <td>1.000000</td>\n",
       "      <td>5.500000</td>\n",
       "      <td>0.661418</td>\n",
       "      <td>29.533333</td>\n",
       "      <td>29.533333</td>\n",
       "      <td>NaN</td>\n",
       "      <td>2030.150968</td>\n",
       "      <td>483.449489</td>\n",
       "      <td>0.559435</td>\n",
       "      <td>2.907997</td>\n",
       "      <td>0.746029</td>\n",
       "      <td>1.809766</td>\n",
       "      <td>1.823536</td>\n",
       "      <td>2.396212</td>\n",
       "    </tr>\n",
       "    <tr>\n",
       "      <th>Gen.G</th>\n",
       "      <td>3.0</td>\n",
       "      <td>2.0</td>\n",
       "      <td>1.0</td>\n",
       "      <td>0.666667</td>\n",
       "      <td>1.272727</td>\n",
       "      <td>0.665714</td>\n",
       "      <td>25.483333</td>\n",
       "      <td>26.208333</td>\n",
       "      <td>24.033333</td>\n",
       "      <td>1931.308783</td>\n",
       "      <td>186.209093</td>\n",
       "      <td>0.360640</td>\n",
       "      <td>-0.113650</td>\n",
       "      <td>0.790839</td>\n",
       "      <td>1.041072</td>\n",
       "      <td>0.612453</td>\n",
       "      <td>0.503610</td>\n",
       "    </tr>\n",
       "    <tr>\n",
       "      <th>Hanwha Life Esports</th>\n",
       "      <td>6.0</td>\n",
       "      <td>2.0</td>\n",
       "      <td>4.0</td>\n",
       "      <td>0.333333</td>\n",
       "      <td>0.943396</td>\n",
       "      <td>0.551859</td>\n",
       "      <td>31.216667</td>\n",
       "      <td>36.833333</td>\n",
       "      <td>28.408333</td>\n",
       "      <td>1721.325052</td>\n",
       "      <td>-124.788857</td>\n",
       "      <td>0.257493</td>\n",
       "      <td>-0.349055</td>\n",
       "      <td>-0.396724</td>\n",
       "      <td>-0.591967</td>\n",
       "      <td>-0.654684</td>\n",
       "      <td>-0.478387</td>\n",
       "    </tr>\n",
       "    <tr>\n",
       "      <th>KT Rolster</th>\n",
       "      <td>6.0</td>\n",
       "      <td>3.0</td>\n",
       "      <td>3.0</td>\n",
       "      <td>0.500000</td>\n",
       "      <td>0.912281</td>\n",
       "      <td>0.666317</td>\n",
       "      <td>27.383333</td>\n",
       "      <td>27.450000</td>\n",
       "      <td>27.316667</td>\n",
       "      <td>1777.561532</td>\n",
       "      <td>-91.870507</td>\n",
       "      <td>0.323347</td>\n",
       "      <td>-0.371296</td>\n",
       "      <td>0.797129</td>\n",
       "      <td>-0.154617</td>\n",
       "      <td>-0.520561</td>\n",
       "      <td>0.148568</td>\n",
       "    </tr>\n",
       "    <tr>\n",
       "      <th>Kwangdong Freecs</th>\n",
       "      <td>4.0</td>\n",
       "      <td>4.0</td>\n",
       "      <td>0.0</td>\n",
       "      <td>1.000000</td>\n",
       "      <td>1.821429</td>\n",
       "      <td>0.569403</td>\n",
       "      <td>33.491667</td>\n",
       "      <td>33.491667</td>\n",
       "      <td>NaN</td>\n",
       "      <td>1912.899783</td>\n",
       "      <td>321.885142</td>\n",
       "      <td>0.376222</td>\n",
       "      <td>0.278561</td>\n",
       "      <td>-0.213731</td>\n",
       "      <td>0.897906</td>\n",
       "      <td>1.165255</td>\n",
       "      <td>0.651954</td>\n",
       "    </tr>\n",
       "    <tr>\n",
       "      <th>Liiv SANDBOX</th>\n",
       "      <td>4.0</td>\n",
       "      <td>2.0</td>\n",
       "      <td>2.0</td>\n",
       "      <td>0.500000</td>\n",
       "      <td>0.853659</td>\n",
       "      <td>0.663212</td>\n",
       "      <td>28.608333</td>\n",
       "      <td>27.683333</td>\n",
       "      <td>29.533333</td>\n",
       "      <td>1747.703572</td>\n",
       "      <td>-42.797850</td>\n",
       "      <td>0.311858</td>\n",
       "      <td>-0.413199</td>\n",
       "      <td>0.764741</td>\n",
       "      <td>-0.386822</td>\n",
       "      <td>-0.320618</td>\n",
       "      <td>0.039185</td>\n",
       "    </tr>\n",
       "    <tr>\n",
       "      <th>Nongshim RedForce</th>\n",
       "      <td>5.0</td>\n",
       "      <td>2.0</td>\n",
       "      <td>3.0</td>\n",
       "      <td>0.400000</td>\n",
       "      <td>0.680851</td>\n",
       "      <td>0.531630</td>\n",
       "      <td>30.526667</td>\n",
       "      <td>32.591667</td>\n",
       "      <td>29.150000</td>\n",
       "      <td>1702.368174</td>\n",
       "      <td>-111.120823</td>\n",
       "      <td>0.209313</td>\n",
       "      <td>-0.536721</td>\n",
       "      <td>-0.607716</td>\n",
       "      <td>-0.739395</td>\n",
       "      <td>-0.598995</td>\n",
       "      <td>-0.937077</td>\n",
       "    </tr>\n",
       "    <tr>\n",
       "      <th>OKSavingsBank BRION</th>\n",
       "      <td>5.0</td>\n",
       "      <td>1.0</td>\n",
       "      <td>4.0</td>\n",
       "      <td>0.200000</td>\n",
       "      <td>0.581395</td>\n",
       "      <td>0.433524</td>\n",
       "      <td>31.883333</td>\n",
       "      <td>32.083333</td>\n",
       "      <td>31.833333</td>\n",
       "      <td>1665.426032</td>\n",
       "      <td>-169.781526</td>\n",
       "      <td>0.158949</td>\n",
       "      <td>-0.607812</td>\n",
       "      <td>-1.631003</td>\n",
       "      <td>-1.026693</td>\n",
       "      <td>-0.838003</td>\n",
       "      <td>-1.416564</td>\n",
       "    </tr>\n",
       "    <tr>\n",
       "      <th>T1</th>\n",
       "      <td>3.0</td>\n",
       "      <td>2.0</td>\n",
       "      <td>1.0</td>\n",
       "      <td>0.666667</td>\n",
       "      <td>1.095238</td>\n",
       "      <td>0.436797</td>\n",
       "      <td>33.150000</td>\n",
       "      <td>27.658333</td>\n",
       "      <td>44.133333</td>\n",
       "      <td>1882.204443</td>\n",
       "      <td>247.109634</td>\n",
       "      <td>0.247111</td>\n",
       "      <td>-0.240518</td>\n",
       "      <td>-1.596867</td>\n",
       "      <td>0.659189</td>\n",
       "      <td>0.860588</td>\n",
       "      <td>-0.577223</td>\n",
       "    </tr>\n",
       "  </tbody>\n",
       "</table>\n",
       "</div>"
      ],
      "text/plain": [
       "                     Games  Win  Loss   WinRate        KD      CKPM   \n",
       "Team                                                                  \n",
       "DRX                    2.0  0.0   2.0  0.000000  0.656250  0.719064  \\\n",
       "Dplus KIA              2.0  2.0   0.0  1.000000  5.500000  0.661418   \n",
       "Gen.G                  3.0  2.0   1.0  0.666667  1.272727  0.665714   \n",
       "Hanwha Life Esports    6.0  2.0   4.0  0.333333  0.943396  0.551859   \n",
       "KT Rolster             6.0  3.0   3.0  0.500000  0.912281  0.666317   \n",
       "Kwangdong Freecs       4.0  4.0   0.0  1.000000  1.821429  0.569403   \n",
       "Liiv SANDBOX           4.0  2.0   2.0  0.500000  0.853659  0.663212   \n",
       "Nongshim RedForce      5.0  2.0   3.0  0.400000  0.680851  0.531630   \n",
       "OKSavingsBank BRION    5.0  1.0   4.0  0.200000  0.581395  0.433524   \n",
       "T1                     3.0  2.0   1.0  0.666667  1.095238  0.436797   \n",
       "\n",
       "                     GameDuration  WinGameDuration  LossGameDuration   \n",
       "Team                                                                   \n",
       "DRX                     35.908333              NaN         35.908333  \\\n",
       "Dplus KIA               29.533333        29.533333               NaN   \n",
       "Gen.G                   25.483333        26.208333         24.033333   \n",
       "Hanwha Life Esports     31.216667        36.833333         28.408333   \n",
       "KT Rolster              27.383333        27.450000         27.316667   \n",
       "Kwangdong Freecs        33.491667        33.491667               NaN   \n",
       "Liiv SANDBOX            28.608333        27.683333         29.533333   \n",
       "Nongshim RedForce       30.526667        32.591667         29.150000   \n",
       "OKSavingsBank BRION     31.883333        32.083333         31.833333   \n",
       "T1                      33.150000        27.658333         44.133333   \n",
       "\n",
       "                             GPM        GDPM       KPM       _KD     _CKPM   \n",
       "Team                                                                         \n",
       "DRX                  1603.481027 -339.368203  0.273050 -0.554306  1.347303  \\\n",
       "Dplus KIA            2030.150968  483.449489  0.559435  2.907997  0.746029   \n",
       "Gen.G                1931.308783  186.209093  0.360640 -0.113650  0.790839   \n",
       "Hanwha Life Esports  1721.325052 -124.788857  0.257493 -0.349055 -0.396724   \n",
       "KT Rolster           1777.561532  -91.870507  0.323347 -0.371296  0.797129   \n",
       "Kwangdong Freecs     1912.899783  321.885142  0.376222  0.278561 -0.213731   \n",
       "Liiv SANDBOX         1747.703572  -42.797850  0.311858 -0.413199  0.764741   \n",
       "Nongshim RedForce    1702.368174 -111.120823  0.209313 -0.536721 -0.607716   \n",
       "OKSavingsBank BRION  1665.426032 -169.781526  0.158949 -0.607812 -1.631003   \n",
       "T1                   1882.204443  247.109634  0.247111 -0.240518 -1.596867   \n",
       "\n",
       "                         _GPM     _GDPM      _KPM  \n",
       "Team                                               \n",
       "DRX                 -1.508438 -1.528971 -0.330279  \n",
       "Dplus KIA            1.809766  1.823536  2.396212  \n",
       "Gen.G                1.041072  0.612453  0.503610  \n",
       "Hanwha Life Esports -0.591967 -0.654684 -0.478387  \n",
       "KT Rolster          -0.154617 -0.520561  0.148568  \n",
       "Kwangdong Freecs     0.897906  1.165255  0.651954  \n",
       "Liiv SANDBOX        -0.386822 -0.320618  0.039185  \n",
       "Nongshim RedForce   -0.739395 -0.598995 -0.937077  \n",
       "OKSavingsBank BRION -1.026693 -0.838003 -1.416564  \n",
       "T1                   0.659189  0.860588 -0.577223  "
      ]
     },
     "execution_count": 3,
     "metadata": {},
     "output_type": "execute_result"
    }
   ],
   "source": [
    "scaler = StandardScaler()\n",
    "columns = [\"_KD\", \"_CKPM\", \"_GPM\", \"_GDPM\", \"_KPM\"]\n",
    "teams_stats[columns] = scaler.fit_transform(\n",
    "    teams_stats[[\"KD\", \"CKPM\", \"GPM\", \"GDPM\", \"KPM\"]]\n",
    ")\n",
    "teams_stats"
   ]
  },
  {
   "cell_type": "code",
   "execution_count": 4,
   "metadata": {},
   "outputs": [
    {
     "name": "stderr",
     "output_type": "stream",
     "text": [
      "C:\\Users\\pjm58\\AppData\\Local\\Temp\\ipykernel_87992\\580848112.py:6: RuntimeWarning: divide by zero encountered in divide\n",
      "  x = 100 / y\n"
     ]
    },
    {
     "data": {
      "image/png": "[encoded data removed]",
      "text/plain": [
       "<Figure size 1500x1500 with 1 Axes>"
      ]
     },
     "metadata": {},
     "output_type": "display_data"
    }
   ],
   "source": [
    "fig, ax = plt.subplots(1, 1, figsize=(15, 15))\n",
    "ax.set_xlim(teams_stats[\"GDPM\"].min() - 25, teams_stats[\"GDPM\"].max() + 25)\n",
    "ax.set_ylim(teams_stats[\"KPM\"].min() - 0.01, teams_stats[\"KPM\"].max() + 0.01)\n",
    "ax = sns.regplot(data=teams_stats, x=\"GDPM\", y=\"KPM\")\n",
    "y = np.linspace(0, 1.2)\n",
    "x = 100 / y\n",
    "sns.lineplot(x=x, y=y)\n",
    "for idx, i in zip(teams_stats.index, range(teams_stats.shape[0])):\n",
    "    row = teams_stats.iloc[i]\n",
    "    plt.annotate(\n",
    "        idx, xy=(row[\"GDPM\"], row[\"KPM\"]), xytext=(5, 5), textcoords=\"offset pixels\"\n",
    "    )"
   ]
  },
  {
   "cell_type": "code",
   "execution_count": 5,
   "metadata": {},
   "outputs": [
    {
     "data": {
      "image/png": "[encoded data removed]",
      "text/plain": [
       "<Figure size 1500x1500 with 1 Axes>"
      ]
     },
     "metadata": {},
     "output_type": "display_data"
    }
   ],
   "source": [
    "fig, ax = plt.subplots(1, 1, figsize=(15, 15))\n",
    "ax.set_xlim(teams_stats[\"GDPM\"].min() - 25, teams_stats[\"GDPM\"].max() + 25)\n",
    "ax.set_ylim(teams_stats[\"CKPM\"].min() - 0.01, teams_stats[\"CKPM\"].max() + 0.01)\n",
    "ax = sns.regplot(data=teams_stats, x=\"GDPM\", y=\"CKPM\")\n",
    "for idx, i in zip(teams_stats.index, range(teams_stats.shape[0])):\n",
    "    row = teams_stats.iloc[i]\n",
    "    plt.annotate(\n",
    "        idx, xy=(row[\"GDPM\"], row[\"CKPM\"]), xytext=(5, 5), textcoords=\"offset pixels\"\n",
    "    )"
   ]
  },
  {
   "cell_type": "code",
   "execution_count": 6,
   "metadata": {},
   "outputs": [
    {
     "data": {
      "text/plain": [
       "(-1.6310031974666424, 2.907996565579849)"
      ]
     },
     "execution_count": 6,
     "metadata": {},
     "output_type": "execute_result"
    }
   ],
   "source": [
    "min_value = teams_stats[columns].unstack().min()\n",
    "max_value = teams_stats[columns].unstack().max()\n",
    "min_value, max_value"
   ]
  },
  {
   "cell_type": "code",
   "execution_count": 7,
   "metadata": {},
   "outputs": [],
   "source": [
    "def get_rc(i, cols):\n",
    "    r = i // cols + 1\n",
    "    c = i % cols + 1\n",
    "\n",
    "    return (r, c)"
   ]
  },
  {
   "cell_type": "code",
   "execution_count": 8,
   "metadata": {},
   "outputs": [
    {
     "data": {
      "text/plain": [
       "array(['DRX', 'Dplus KIA', 'Gen.G', 'Hanwha Life Esports', 'KT Rolster',\n",
       "       'Kwangdong Freecs', 'Liiv SANDBOX', 'Nongshim RedForce',\n",
       "       'OKSavingsBank BRION', 'T1'], dtype=object)"
      ]
     },
     "execution_count": 8,
     "metadata": {},
     "output_type": "execute_result"
    }
   ],
   "source": [
    "teams_stats.index.values"
   ]
  },
  {
   "cell_type": "code",
   "execution_count": 9,
   "metadata": {},
   "outputs": [
    {
     "data": {
      "application/vnd.plotly.v1+json": {
       "config": {
        "plotlyServerURL": "https://plot.ly"
       },
       "data": [
        {
         "fill": "toself",
         "name": "DRX",
         "r": [
          -0.5543062511119208,
          1.3473026002881285,
          -1.50843810596129,
          -1.5289710493521724,
          -0.3302787153916374
         ],
         "subplot": "polar",
         "theta": [
          "_KD",
          "_CKPM",
          "_GPM",
          "_GDPM",
          "_KPM"
         ],
         "type": "scatterpolar"
        },
        {
         "fill": "toself",
         "name": "Dplus KIA",
         "r": [
          2.907996565579849,
          0.746029189679285,
          1.8097659654322693,
          1.8235362078448762,
          2.3962123938356794
         ],
         "subplot": "polar2",
         "theta": [
          "_KD",
          "_CKPM",
          "_GPM",
          "_GDPM",
          "_KPM"
         ],
         "type": "scatterpolar"
        },
        {
         "fill": "toself",
         "name": "Gen.G",
         "r": [
          -0.11364952898751365,
          0.7908387721801615,
          1.0410721588870309,
          0.6124531309882214,
          0.5036100494938728
         ],
         "subplot": "polar3",
         "theta": [
          "_KD",
          "_CKPM",
          "_GPM",
          "_GDPM",
          "_KPM"
         ],
         "type": "scatterpolar"
        },
        {
         "fill": "toself",
         "name": "Hanwha Life Esports",
         "r": [
          -0.34905470251436843,
          -0.3967235752507737,
          -0.5919673513676236,
          -0.6546840426417118,
          -0.4783870726299959
         ],
         "subplot": "polar4",
         "theta": [
          "_KD",
          "_CKPM",
          "_GPM",
          "_GDPM",
          "_KPM"
         ],
         "type": "scatterpolar"
        },
        {
         "fill": "toself",
         "name": "KT Rolster",
         "r": [
          -0.3712960173377207,
          0.797129412180629,
          -0.15461730885591757,
          -0.5205607660002526,
          0.1485676442592205
         ],
         "subplot": "polar5",
         "theta": [
          "_KD",
          "_CKPM",
          "_GPM",
          "_GDPM",
          "_KPM"
         ],
         "type": "scatterpolar"
        },
        {
         "fill": "toself",
         "name": "Kwangdong Freecs",
         "r": [
          0.27856106239642225,
          -0.21373064871675634,
          0.8979057120197872,
          1.1652547339636254,
          0.6519544294051938
         ],
         "subplot": "polar6",
         "theta": [
          "_KD",
          "_CKPM",
          "_GPM",
          "_GDPM",
          "_KPM"
         ],
         "type": "scatterpolar"
        },
        {
         "fill": "toself",
         "name": "Liiv SANDBOX",
         "r": [
          -0.4131990238069375,
          0.7647410911323913,
          -0.38682209744637575,
          -0.3206180049981871,
          0.03918506954785841
         ],
         "subplot": "polar7",
         "theta": [
          "_KD",
          "_CKPM",
          "_GPM",
          "_GDPM",
          "_KPM"
         ],
         "type": "scatterpolar"
        },
        {
         "fill": "toself",
         "name": "Nongshim RedForce",
         "r": [
          -0.5367214598672267,
          -0.6077164413437873,
          -0.7393946317327351,
          -0.5989946921268726,
          -0.9370767602770357
         ],
         "subplot": "polar8",
         "theta": [
          "_KD",
          "_CKPM",
          "_GPM",
          "_GDPM",
          "_KPM"
         ],
         "type": "scatterpolar"
        },
        {
         "fill": "toself",
         "name": "OKSavingsBank BRION",
         "r": [
          -0.6078122061185602,
          -1.6310031974666424,
          -1.026692971804791,
          -0.8380032061670754,
          -1.4165637684692347
         ],
         "subplot": "polar9",
         "theta": [
          "_KD",
          "_CKPM",
          "_GPM",
          "_GDPM",
          "_KPM"
         ],
         "type": "scatterpolar"
        },
        {
         "fill": "toself",
         "name": "T1",
         "r": [
          -0.24051843823202154,
          -1.5968672026826425,
          0.6591886308296422,
          0.860587688489549,
          -0.5772232697739181
         ],
         "subplot": "polar10",
         "theta": [
          "_KD",
          "_CKPM",
          "_GPM",
          "_GDPM",
          "_KPM"
         ],
         "type": "scatterpolar"
        }
       ],
       "layout": {
        "annotations": [
         {
          "font": {
           "size": 16
          },
          "showarrow": false,
          "text": "DRX",
          "x": 0.08399999999999999,
          "xanchor": "center",
          "xref": "paper",
          "y": 1,
          "yanchor": "bottom",
          "yref": "paper",
          "yshift": 20
         },
         {
          "font": {
           "size": 16
          },
          "showarrow": false,
          "text": "Dplus KIA",
          "x": 0.292,
          "xanchor": "center",
          "xref": "paper",
          "y": 1,
          "yanchor": "bottom",
          "yref": "paper",
          "yshift": 20
         },
         {
          "font": {
           "size": 16
          },
          "showarrow": false,
          "text": "Gen.G",
          "x": 0.5,
          "xanchor": "center",
          "xref": "paper",
          "y": 1,
          "yanchor": "bottom",
          "yref": "paper",
          "yshift": 20
         },
         {
          "font": {
           "size": 16
          },
          "showarrow": false,
          "text": "Hanwha Life Esports",
          "x": 0.708,
          "xanchor": "center",
          "xref": "paper",
          "y": 1,
          "yanchor": "bottom",
          "yref": "paper",
          "yshift": 20
         },
         {
          "font": {
           "size": 16
          },
          "showarrow": false,
          "text": "KT Rolster",
          "x": 0.9159999999999999,
          "xanchor": "center",
          "xref": "paper",
          "y": 1,
          "yanchor": "bottom",
          "yref": "paper",
          "yshift": 20
         },
         {
          "font": {
           "size": 16
          },
          "showarrow": false,
          "text": "Kwangdong Freecs",
          "x": 0.08399999999999999,
          "xanchor": "center",
          "xref": "paper",
          "y": 0.375,
          "yanchor": "bottom",
          "yref": "paper",
          "yshift": 20
         },
         {
          "font": {
           "size": 16
          },
          "showarrow": false,
          "text": "Liiv SANDBOX",
          "x": 0.292,
          "xanchor": "center",
          "xref": "paper",
          "y": 0.375,
          "yanchor": "bottom",
          "yref": "paper",
          "yshift": 20
         },
         {
          "font": {
           "size": 16
          },
          "showarrow": false,
          "text": "Nongshim RedForce",
          "x": 0.5,
          "xanchor": "center",
          "xref": "paper",
          "y": 0.375,
          "yanchor": "bottom",
          "yref": "paper",
          "yshift": 20
         },
         {
          "font": {
           "size": 16
          },
          "showarrow": false,
          "text": "OKSavingsBank BRION",
          "x": 0.708,
          "xanchor": "center",
          "xref": "paper",
          "y": 0.375,
          "yanchor": "bottom",
          "yref": "paper",
          "yshift": 20
         },
         {
          "font": {
           "size": 16
          },
          "showarrow": false,
          "text": "T1",
          "x": 0.9159999999999999,
          "xanchor": "center",
          "xref": "paper",
          "y": 0.375,
          "yanchor": "bottom",
          "yref": "paper",
          "yshift": 20
         }
        ],
        "height": 800,
        "polar": {
         "domain": {
          "x": [
           0,
           0.16799999999999998
          ],
          "y": [
           0.625,
           1
          ]
         },
         "radialaxis": {
          "range": [
           -1.8310031974666423,
           3.107996565579849
          ],
          "visible": true
         }
        },
        "polar10": {
         "domain": {
          "x": [
           0.832,
           1
          ],
          "y": [
           0,
           0.375
          ]
         },
         "radialaxis": {
          "range": [
           -1.8310031974666423,
           3.107996565579849
          ]
         }
        },
        "polar2": {
         "domain": {
          "x": [
           0.208,
           0.376
          ],
          "y": [
           0.625,
           1
          ]
         },
         "radialaxis": {
          "range": [
           -1.8310031974666423,
           3.107996565579849
          ]
         }
        },
        "polar3": {
         "domain": {
          "x": [
           0.416,
           0.584
          ],
          "y": [
           0.625,
           1
          ]
         },
         "radialaxis": {
          "range": [
           -1.8310031974666423,
           3.107996565579849
          ]
         }
        },
        "polar4": {
         "domain": {
          "x": [
           0.624,
           0.792
          ],
          "y": [
           0.625,
           1
          ]
         },
         "radialaxis": {
          "range": [
           -1.8310031974666423,
           3.107996565579849
          ]
         }
        },
        "polar5": {
         "domain": {
          "x": [
           0.832,
           1
          ],
          "y": [
           0.625,
           1
          ]
         },
         "radialaxis": {
          "range": [
           -1.8310031974666423,
           3.107996565579849
          ]
         }
        },
        "polar6": {
         "domain": {
          "x": [
           0,
           0.16799999999999998
          ],
          "y": [
           0,
           0.375
          ]
         },
         "radialaxis": {
          "range": [
           -1.8310031974666423,
           3.107996565579849
          ]
         }
        },
        "polar7": {
         "domain": {
          "x": [
           0.208,
           0.376
          ],
          "y": [
           0,
           0.375
          ]
         },
         "radialaxis": {
          "range": [
           -1.8310031974666423,
           3.107996565579849
          ]
         }
        },
        "polar8": {
         "domain": {
          "x": [
           0.416,
           0.584
          ],
          "y": [
           0,
           0.375
          ]
         },
         "radialaxis": {
          "range": [
           -1.8310031974666423,
           3.107996565579849
          ]
         }
        },
        "polar9": {
         "domain": {
          "x": [
           0.624,
           0.792
          ],
          "y": [
           0,
           0.375
          ]
         },
         "radialaxis": {
          "range": [
           -1.8310031974666423,
           3.107996565579849
          ]
         }
        },
        "showlegend": false,
        "template": {
         "data": {
          "bar": [
           {
            "error_x": {
             "color": "#2a3f5f"
            },
            "error_y": {
             "color": "#2a3f5f"
            },
            "marker": {
             "line": {
              "color": "#E5ECF6",
              "width": 0.5
             },
             "pattern": {
              "fillmode": "overlay",
              "size": 10,
              "solidity": 0.2
             }
            },
            "type": "bar"
           }
          ],
          "barpolar": [
           {
            "marker": {
             "line": {
              "color": "#E5ECF6",
              "width": 0.5
             },
             "pattern": {
              "fillmode": "overlay",
              "size": 10,
              "solidity": 0.2
             }
            },
            "type": "barpolar"
           }
          ],
          "carpet": [
           {
            "aaxis": {
             "endlinecolor": "#2a3f5f",
             "gridcolor": "white",
             "linecolor": "white",
             "minorgridcolor": "white",
             "startlinecolor": "#2a3f5f"
            },
            "baxis": {
             "endlinecolor": "#2a3f5f",
             "gridcolor": "white",
             "linecolor": "white",
             "minorgridcolor": "white",
             "startlinecolor": "#2a3f5f"
            },
            "type": "carpet"
           }
          ],
          "choropleth": [
           {
            "colorbar": {
             "outlinewidth": 0,
             "ticks": ""
            },
            "type": "choropleth"
           }
          ],
          "contour": [
           {
            "colorbar": {
             "outlinewidth": 0,
             "ticks": ""
            },
            "colorscale": [
             [
              0,
              "#0d0887"
             ],
             [
              0.1111111111111111,
              "#46039f"
             ],
             [
              0.2222222222222222,
              "#7201a8"
             ],
             [
              0.3333333333333333,
              "#9c179e"
             ],
             [
              0.4444444444444444,
              "#bd3786"
             ],
             [
              0.5555555555555556,
              "#d8576b"
             ],
             [
              0.6666666666666666,
              "#ed7953"
             ],
             [
              0.7777777777777778,
              "#fb9f3a"
             ],
             [
              0.8888888888888888,
              "#fdca26"
             ],
             [
              1,
              "#f0f921"
             ]
            ],
            "type": "contour"
           }
          ],
          "contourcarpet": [
           {
            "colorbar": {
             "outlinewidth": 0,
             "ticks": ""
            },
            "type": "contourcarpet"
           }
          ],
          "heatmap": [
           {
            "colorbar": {
             "outlinewidth": 0,
             "ticks": ""
            },
            "colorscale": [
             [
              0,
              "#0d0887"
             ],
             [
              0.1111111111111111,
              "#46039f"
             ],
             [
              0.2222222222222222,
              "#7201a8"
             ],
             [
              0.3333333333333333,
              "#9c179e"
             ],
             [
              0.4444444444444444,
              "#bd3786"
             ],
             [
              0.5555555555555556,
              "#d8576b"
             ],
             [
              0.6666666666666666,
              "#ed7953"
             ],
             [
              0.7777777777777778,
              "#fb9f3a"
             ],
             [
              0.8888888888888888,
              "#fdca26"
             ],
             [
              1,
              "#f0f921"
             ]
            ],
            "type": "heatmap"
           }
          ],
          "heatmapgl": [
           {
            "colorbar": {
             "outlinewidth": 0,
             "ticks": ""
            },
            "colorscale": [
             [
              0,
              "#0d0887"
             ],
             [
              0.1111111111111111,
              "#46039f"
             ],
             [
              0.2222222222222222,
              "#7201a8"
             ],
             [
              0.3333333333333333,
              "#9c179e"
             ],
             [
              0.4444444444444444,
              "#bd3786"
             ],
             [
              0.5555555555555556,
              "#d8576b"
             ],
             [
              0.6666666666666666,
              "#ed7953"
             ],
             [
              0.7777777777777778,
              "#fb9f3a"
             ],
             [
              0.8888888888888888,
              "#fdca26"
             ],
             [
              1,
              "#f0f921"
             ]
            ],
            "type": "heatmapgl"
           }
          ],
          "histogram": [
           {
            "marker": {
             "pattern": {
              "fillmode": "overlay",
              "size": 10,
              "solidity": 0.2
             }
            },
            "type": "histogram"
           }
          ],
          "histogram2d": [
           {
            "colorbar": {
             "outlinewidth": 0,
             "ticks": ""
            },
            "colorscale": [
             [
              0,
              "#0d0887"
             ],
             [
              0.1111111111111111,
              "#46039f"
             ],
             [
              0.2222222222222222,
              "#7201a8"
             ],
             [
              0.3333333333333333,
              "#9c179e"
             ],
             [
              0.4444444444444444,
              "#bd3786"
             ],
             [
              0.5555555555555556,
              "#d8576b"
             ],
             [
              0.6666666666666666,
              "#ed7953"
             ],
             [
              0.7777777777777778,
              "#fb9f3a"
             ],
             [
              0.8888888888888888,
              "#fdca26"
             ],
             [
              1,
              "#f0f921"
             ]
            ],
            "type": "histogram2d"
           }
          ],
          "histogram2dcontour": [
           {
            "colorbar": {
             "outlinewidth": 0,
             "ticks": ""
            },
            "colorscale": [
             [
              0,
              "#0d0887"
             ],
             [
              0.1111111111111111,
              "#46039f"
             ],
             [
              0.2222222222222222,
              "#7201a8"
             ],
             [
              0.3333333333333333,
              "#9c179e"
             ],
             [
              0.4444444444444444,
              "#bd3786"
             ],
             [
              0.5555555555555556,
              "#d8576b"
             ],
             [
              0.6666666666666666,
              "#ed7953"
             ],
             [
              0.7777777777777778,
              "#fb9f3a"
             ],
             [
              0.8888888888888888,
              "#fdca26"
             ],
             [
              1,
              "#f0f921"
             ]
            ],
            "type": "histogram2dcontour"
           }
          ],
          "mesh3d": [
           {
            "colorbar": {
             "outlinewidth": 0,
             "ticks": ""
            },
            "type": "mesh3d"
           }
          ],
          "parcoords": [
           {
            "line": {
             "colorbar": {
              "outlinewidth": 0,
              "ticks": ""
             }
            },
            "type": "parcoords"
           }
          ],
          "pie": [
           {
            "automargin": true,
            "type": "pie"
           }
          ],
          "scatter": [
           {
            "fillpattern": {
             "fillmode": "overlay",
             "size": 10,
             "solidity": 0.2
            },
            "type": "scatter"
           }
          ],
          "scatter3d": [
           {
            "line": {
             "colorbar": {
              "outlinewidth": 0,
              "ticks": ""
             }
            },
            "marker": {
             "colorbar": {
              "outlinewidth": 0,
              "ticks": ""
             }
            },
            "type": "scatter3d"
           }
          ],
          "scattercarpet": [
           {
            "marker": {
             "colorbar": {
              "outlinewidth": 0,
              "ticks": ""
             }
            },
            "type": "scattercarpet"
           }
          ],
          "scattergeo": [
           {
            "marker": {
             "colorbar": {
              "outlinewidth": 0,
              "ticks": ""
             }
            },
            "type": "scattergeo"
           }
          ],
          "scattergl": [
           {
            "marker": {
             "colorbar": {
              "outlinewidth": 0,
              "ticks": ""
             }
            },
            "type": "scattergl"
           }
          ],
          "scattermapbox": [
           {
            "marker": {
             "colorbar": {
              "outlinewidth": 0,
              "ticks": ""
             }
            },
            "type": "scattermapbox"
           }
          ],
          "scatterpolar": [
           {
            "marker": {
             "colorbar": {
              "outlinewidth": 0,
              "ticks": ""
             }
            },
            "type": "scatterpolar"
           }
          ],
          "scatterpolargl": [
           {
            "marker": {
             "colorbar": {
              "outlinewidth": 0,
              "ticks": ""
             }
            },
            "type": "scatterpolargl"
           }
          ],
          "scatterternary": [
           {
            "marker": {
             "colorbar": {
              "outlinewidth": 0,
              "ticks": ""
             }
            },
            "type": "scatterternary"
           }
          ],
          "surface": [
           {
            "colorbar": {
             "outlinewidth": 0,
             "ticks": ""
            },
            "colorscale": [
             [
              0,
              "#0d0887"
             ],
             [
              0.1111111111111111,
              "#46039f"
             ],
             [
              0.2222222222222222,
              "#7201a8"
             ],
             [
              0.3333333333333333,
              "#9c179e"
             ],
             [
              0.4444444444444444,
              "#bd3786"
             ],
             [
              0.5555555555555556,
              "#d8576b"
             ],
             [
              0.6666666666666666,
              "#ed7953"
             ],
             [
              0.7777777777777778,
              "#fb9f3a"
             ],
             [
              0.8888888888888888,
              "#fdca26"
             ],
             [
              1,
              "#f0f921"
             ]
            ],
            "type": "surface"
           }
          ],
          "table": [
           {
            "cells": {
             "fill": {
              "color": "#EBF0F8"
             },
             "line": {
              "color": "white"
             }
            },
            "header": {
             "fill": {
              "color": "#C8D4E3"
             },
             "line": {
              "color": "white"
             }
            },
            "type": "table"
           }
          ]
         },
         "layout": {
          "annotationdefaults": {
           "arrowcolor": "#2a3f5f",
           "arrowhead": 0,
           "arrowwidth": 1
          },
          "autotypenumbers": "strict",
          "coloraxis": {
           "colorbar": {
            "outlinewidth": 0,
            "ticks": ""
           }
          },
          "colorscale": {
           "diverging": [
            [
             0,
             "#8e0152"
            ],
            [
             0.1,
             "#c51b7d"
            ],
            [
             0.2,
             "#de77ae"
            ],
            [
             0.3,
             "#f1b6da"
            ],
            [
             0.4,
             "#fde0ef"
            ],
            [
             0.5,
             "#f7f7f7"
            ],
            [
             0.6,
             "#e6f5d0"
            ],
            [
             0.7,
             "#b8e186"
            ],
            [
             0.8,
             "#7fbc41"
            ],
            [
             0.9,
             "#4d9221"
            ],
            [
             1,
             "#276419"
            ]
           ],
           "sequential": [
            [
             0,
             "#0d0887"
            ],
            [
             0.1111111111111111,
             "#46039f"
            ],
            [
             0.2222222222222222,
             "#7201a8"
            ],
            [
             0.3333333333333333,
             "#9c179e"
            ],
            [
             0.4444444444444444,
             "#bd3786"
            ],
            [
             0.5555555555555556,
             "#d8576b"
            ],
            [
             0.6666666666666666,
             "#ed7953"
            ],
            [
             0.7777777777777778,
             "#fb9f3a"
            ],
            [
             0.8888888888888888,
             "#fdca26"
            ],
            [
             1,
             "#f0f921"
            ]
           ],
           "sequentialminus": [
            [
             0,
             "#0d0887"
            ],
            [
             0.1111111111111111,
             "#46039f"
            ],
            [
             0.2222222222222222,
             "#7201a8"
            ],
            [
             0.3333333333333333,
             "#9c179e"
            ],
            [
             0.4444444444444444,
             "#bd3786"
            ],
            [
             0.5555555555555556,
             "#d8576b"
            ],
            [
             0.6666666666666666,
             "#ed7953"
            ],
            [
             0.7777777777777778,
             "#fb9f3a"
            ],
            [
             0.8888888888888888,
             "#fdca26"
            ],
            [
             1,
             "#f0f921"
            ]
           ]
          },
          "colorway": [
           "#636efa",
           "#EF553B",
           "#00cc96",
           "#ab63fa",
           "#FFA15A",
           "#19d3f3",
           "#FF6692",
           "#B6E880",
           "#FF97FF",
           "#FECB52"
          ],
          "font": {
           "color": "#2a3f5f"
          },
          "geo": {
           "bgcolor": "white",
           "lakecolor": "white",
           "landcolor": "#E5ECF6",
           "showlakes": true,
           "showland": true,
           "subunitcolor": "white"
          },
          "hoverlabel": {
           "align": "left"
          },
          "hovermode": "closest",
          "mapbox": {
           "style": "light"
          },
          "paper_bgcolor": "white",
          "plot_bgcolor": "#E5ECF6",
          "polar": {
           "angularaxis": {
            "gridcolor": "white",
            "linecolor": "white",
            "ticks": ""
           },
           "bgcolor": "#E5ECF6",
           "radialaxis": {
            "gridcolor": "white",
            "linecolor": "white",
            "ticks": ""
           }
          },
          "scene": {
           "xaxis": {
            "backgroundcolor": "#E5ECF6",
            "gridcolor": "white",
            "gridwidth": 2,
            "linecolor": "white",
            "showbackground": true,
            "ticks": "",
            "zerolinecolor": "white"
           },
           "yaxis": {
            "backgroundcolor": "#E5ECF6",
            "gridcolor": "white",
            "gridwidth": 2,
            "linecolor": "white",
            "showbackground": true,
            "ticks": "",
            "zerolinecolor": "white"
           },
           "zaxis": {
            "backgroundcolor": "#E5ECF6",
            "gridcolor": "white",
            "gridwidth": 2,
            "linecolor": "white",
            "showbackground": true,
            "ticks": "",
            "zerolinecolor": "white"
           }
          },
          "shapedefaults": {
           "line": {
            "color": "#2a3f5f"
           }
          },
          "ternary": {
           "aaxis": {
            "gridcolor": "white",
            "linecolor": "white",
            "ticks": ""
           },
           "baxis": {
            "gridcolor": "white",
            "linecolor": "white",
            "ticks": ""
           },
           "bgcolor": "#E5ECF6",
           "caxis": {
            "gridcolor": "white",
            "linecolor": "white",
            "ticks": ""
           }
          },
          "title": {
           "x": 0.05
          },
          "xaxis": {
           "automargin": true,
           "gridcolor": "white",
           "linecolor": "white",
           "ticks": "",
           "title": {
            "standoff": 15
           },
           "zerolinecolor": "white",
           "zerolinewidth": 2
          },
          "yaxis": {
           "automargin": true,
           "gridcolor": "white",
           "linecolor": "white",
           "ticks": "",
           "title": {
            "standoff": 15
           },
           "zerolinecolor": "white",
           "zerolinewidth": 2
          }
         }
        },
        "title": {
         "y": 1
        }
       }
      }
     },
     "metadata": {},
     "output_type": "display_data"
    }
   ],
   "source": [
    "ROWS, COLUMNS = 2, 5\n",
    "fig = make_subplots(\n",
    "    rows=ROWS,\n",
    "    cols=COLUMNS,\n",
    "    subplot_titles=teams_stats.index.values,\n",
    "    specs=[[{\"type\": \"polar\"} for _ in range(COLUMNS)] for _ in range(ROWS)],\n",
    ")\n",
    "\n",
    "for i, team_name in enumerate(teams_stats.index):\n",
    "    df = teams_stats.loc[team_name, columns]\n",
    "\n",
    "    r, c = get_rc(i, COLUMNS)\n",
    "    fig.add_trace(\n",
    "        go.Scatterpolar(\n",
    "            r=df,\n",
    "            theta=columns,\n",
    "            fill=\"toself\",\n",
    "            name=team_name,\n",
    "        ),\n",
    "        row=r,\n",
    "        col=c,\n",
    "    )\n",
    "fig.update_layout(\n",
    "    height=800,\n",
    "    showlegend=False,\n",
    "    polar=dict(\n",
    "        radialaxis=dict(visible=True),\n",
    "    ),\n",
    "    title=dict(y=1),\n",
    ")\n",
    "fig.update_annotations(yshift=20)\n",
    "fig.update_polars(radialaxis=dict(range=[min_value - 0.2, max_value + 0.2]))\n",
    "fig.show()"
   ]
  }
 ],
 "metadata": {
  "kernelspec": {
   "display_name": "Python 3",
   "language": "python",
   "name": "python3"
  },
  "language_info": {
   "codemirror_mode": {
    "name": "ipython",
    "version": 3
   },
   "file_extension": ".py",
   "mimetype": "text/x-python",
   "name": "python",
   "nbconvert_exporter": "python",
   "pygments_lexer": "ipython3",
   "version": "3.11.3"
  },
  "orig_nbformat": 4,
  "vscode": {
   "interpreter": {
    "hash": "cc0362ac4c7af633927c7f13c3a204675dc26ff026425e1d1bcaf453ea76d9c8"
   }
  }
 },
 "nbformat": 4,
 "nbformat_minor": 2
}
